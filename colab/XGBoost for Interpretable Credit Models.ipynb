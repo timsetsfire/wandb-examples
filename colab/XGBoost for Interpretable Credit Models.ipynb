{
  "nbformat": 4,
  "nbformat_minor": 0,
  "metadata": {
    "colab": {
      "provenance": [],
      "authorship_tag": "ABX9TyOuDUvE/yTYcWoUn8lCwohC",
      "include_colab_link": true
    },
    "kernelspec": {
      "name": "python3",
      "display_name": "Python 3"
    },
    "language_info": {
      "name": "python"
    },
    "widgets": {
      "application/vnd.jupyter.widget-state+json": {
        "3153ad8755394ccf94e269bd6238be37": {
          "model_module": "@jupyter-widgets/controls",
          "model_name": "VBoxModel",
          "model_module_version": "2.0.0",
          "state": {
            "_dom_classes": [],
            "_model_module": "@jupyter-widgets/controls",
            "_model_module_version": "2.0.0",
            "_model_name": "VBoxModel",
            "_view_count": null,
            "_view_module": "@jupyter-widgets/controls",
            "_view_module_version": "2.0.0",
            "_view_name": "VBoxView",
            "box_style": "",
            "children": [
              "IPY_MODEL_15729d1f230241c3a230ca7f66cb3c81",
              "IPY_MODEL_04de15492fe44034a7c4ea0842d30ad8"
            ],
            "layout": "IPY_MODEL_cc84a4aa1f594f8fabcf5d34a3ea6694",
            "tabbable": null,
            "tooltip": null
          }
        },
        "15729d1f230241c3a230ca7f66cb3c81": {
          "model_module": "@jupyter-widgets/controls",
          "model_name": "LabelModel",
          "model_module_version": "2.0.0",
          "state": {
            "_dom_classes": [],
            "_model_module": "@jupyter-widgets/controls",
            "_model_module_version": "2.0.0",
            "_model_name": "LabelModel",
            "_view_count": null,
            "_view_module": "@jupyter-widgets/controls",
            "_view_module_version": "2.0.0",
            "_view_name": "LabelView",
            "description": "",
            "description_allow_html": false,
            "layout": "IPY_MODEL_9991b6feb49247d38e8bd5f049b4a825",
            "placeholder": "​",
            "style": "IPY_MODEL_53839c311d3a4a0fb3e513a1a1b84fc0",
            "tabbable": null,
            "tooltip": null,
            "value": "0.176 MB of 0.176 MB uploaded (0.000 MB deduped)\r"
          }
        },
        "04de15492fe44034a7c4ea0842d30ad8": {
          "model_module": "@jupyter-widgets/controls",
          "model_name": "FloatProgressModel",
          "model_module_version": "2.0.0",
          "state": {
            "_dom_classes": [],
            "_model_module": "@jupyter-widgets/controls",
            "_model_module_version": "2.0.0",
            "_model_name": "FloatProgressModel",
            "_view_count": null,
            "_view_module": "@jupyter-widgets/controls",
            "_view_module_version": "2.0.0",
            "_view_name": "ProgressView",
            "bar_style": "",
            "description": "",
            "description_allow_html": false,
            "layout": "IPY_MODEL_81049a1175a44ab9849e5d81e91b0c42",
            "max": 1,
            "min": 0,
            "orientation": "horizontal",
            "style": "IPY_MODEL_dee02a9740f04a9da26f40ec53d8464c",
            "tabbable": null,
            "tooltip": null,
            "value": 1
          }
        },
        "cc84a4aa1f594f8fabcf5d34a3ea6694": {
          "model_module": "@jupyter-widgets/base",
          "model_name": "LayoutModel",
          "model_module_version": "2.0.0",
          "state": {
            "_model_module": "@jupyter-widgets/base",
            "_model_module_version": "2.0.0",
            "_model_name": "LayoutModel",
            "_view_count": null,
            "_view_module": "@jupyter-widgets/base",
            "_view_module_version": "2.0.0",
            "_view_name": "LayoutView",
            "align_content": null,
            "align_items": null,
            "align_self": null,
            "border_bottom": null,
            "border_left": null,
            "border_right": null,
            "border_top": null,
            "bottom": null,
            "display": null,
            "flex": null,
            "flex_flow": null,
            "grid_area": null,
            "grid_auto_columns": null,
            "grid_auto_flow": null,
            "grid_auto_rows": null,
            "grid_column": null,
            "grid_gap": null,
            "grid_row": null,
            "grid_template_areas": null,
            "grid_template_columns": null,
            "grid_template_rows": null,
            "height": null,
            "justify_content": null,
            "justify_items": null,
            "left": null,
            "margin": null,
            "max_height": null,
            "max_width": null,
            "min_height": null,
            "min_width": null,
            "object_fit": null,
            "object_position": null,
            "order": null,
            "overflow": null,
            "padding": null,
            "right": null,
            "top": null,
            "visibility": null,
            "width": null
          }
        },
        "9991b6feb49247d38e8bd5f049b4a825": {
          "model_module": "@jupyter-widgets/base",
          "model_name": "LayoutModel",
          "model_module_version": "2.0.0",
          "state": {
            "_model_module": "@jupyter-widgets/base",
            "_model_module_version": "2.0.0",
            "_model_name": "LayoutModel",
            "_view_count": null,
            "_view_module": "@jupyter-widgets/base",
            "_view_module_version": "2.0.0",
            "_view_name": "LayoutView",
            "align_content": null,
            "align_items": null,
            "align_self": null,
            "border_bottom": null,
            "border_left": null,
            "border_right": null,
            "border_top": null,
            "bottom": null,
            "display": null,
            "flex": null,
            "flex_flow": null,
            "grid_area": null,
            "grid_auto_columns": null,
            "grid_auto_flow": null,
            "grid_auto_rows": null,
            "grid_column": null,
            "grid_gap": null,
            "grid_row": null,
            "grid_template_areas": null,
            "grid_template_columns": null,
            "grid_template_rows": null,
            "height": null,
            "justify_content": null,
            "justify_items": null,
            "left": null,
            "margin": null,
            "max_height": null,
            "max_width": null,
            "min_height": null,
            "min_width": null,
            "object_fit": null,
            "object_position": null,
            "order": null,
            "overflow": null,
            "padding": null,
            "right": null,
            "top": null,
            "visibility": null,
            "width": null
          }
        },
        "53839c311d3a4a0fb3e513a1a1b84fc0": {
          "model_module": "@jupyter-widgets/controls",
          "model_name": "LabelStyleModel",
          "model_module_version": "2.0.0",
          "state": {
            "_model_module": "@jupyter-widgets/controls",
            "_model_module_version": "2.0.0",
            "_model_name": "LabelStyleModel",
            "_view_count": null,
            "_view_module": "@jupyter-widgets/base",
            "_view_module_version": "2.0.0",
            "_view_name": "StyleView",
            "background": null,
            "description_width": "",
            "font_family": null,
            "font_size": null,
            "font_style": null,
            "font_variant": null,
            "font_weight": null,
            "text_color": null,
            "text_decoration": null
          }
        },
        "81049a1175a44ab9849e5d81e91b0c42": {
          "model_module": "@jupyter-widgets/base",
          "model_name": "LayoutModel",
          "model_module_version": "2.0.0",
          "state": {
            "_model_module": "@jupyter-widgets/base",
            "_model_module_version": "2.0.0",
            "_model_name": "LayoutModel",
            "_view_count": null,
            "_view_module": "@jupyter-widgets/base",
            "_view_module_version": "2.0.0",
            "_view_name": "LayoutView",
            "align_content": null,
            "align_items": null,
            "align_self": null,
            "border_bottom": null,
            "border_left": null,
            "border_right": null,
            "border_top": null,
            "bottom": null,
            "display": null,
            "flex": null,
            "flex_flow": null,
            "grid_area": null,
            "grid_auto_columns": null,
            "grid_auto_flow": null,
            "grid_auto_rows": null,
            "grid_column": null,
            "grid_gap": null,
            "grid_row": null,
            "grid_template_areas": null,
            "grid_template_columns": null,
            "grid_template_rows": null,
            "height": null,
            "justify_content": null,
            "justify_items": null,
            "left": null,
            "margin": null,
            "max_height": null,
            "max_width": null,
            "min_height": null,
            "min_width": null,
            "object_fit": null,
            "object_position": null,
            "order": null,
            "overflow": null,
            "padding": null,
            "right": null,
            "top": null,
            "visibility": null,
            "width": null
          }
        },
        "dee02a9740f04a9da26f40ec53d8464c": {
          "model_module": "@jupyter-widgets/controls",
          "model_name": "ProgressStyleModel",
          "model_module_version": "2.0.0",
          "state": {
            "_model_module": "@jupyter-widgets/controls",
            "_model_module_version": "2.0.0",
            "_model_name": "ProgressStyleModel",
            "_view_count": null,
            "_view_module": "@jupyter-widgets/base",
            "_view_module_version": "2.0.0",
            "_view_name": "StyleView",
            "bar_color": null,
            "description_width": ""
          }
        },
        "c85ee669526f417e980023b92ccecda1": {
          "model_module": "@jupyter-widgets/controls",
          "model_name": "VBoxModel",
          "model_module_version": "2.0.0",
          "state": {
            "_dom_classes": [],
            "_model_module": "@jupyter-widgets/controls",
            "_model_module_version": "2.0.0",
            "_model_name": "VBoxModel",
            "_view_count": null,
            "_view_module": "@jupyter-widgets/controls",
            "_view_module_version": "2.0.0",
            "_view_name": "VBoxView",
            "box_style": "",
            "children": [
              "IPY_MODEL_f484a2521dba464fb20e55293427966f",
              "IPY_MODEL_1c595b9b1725410d9e3a2abb84733348"
            ],
            "layout": "IPY_MODEL_b84562d796b94b8b8e2469b847982299",
            "tabbable": null,
            "tooltip": null
          }
        },
        "f484a2521dba464fb20e55293427966f": {
          "model_module": "@jupyter-widgets/controls",
          "model_name": "LabelModel",
          "model_module_version": "2.0.0",
          "state": {
            "_dom_classes": [],
            "_model_module": "@jupyter-widgets/controls",
            "_model_module_version": "2.0.0",
            "_model_name": "LabelModel",
            "_view_count": null,
            "_view_module": "@jupyter-widgets/controls",
            "_view_module_version": "2.0.0",
            "_view_name": "LabelView",
            "description": "",
            "description_allow_html": false,
            "layout": "IPY_MODEL_8e9c7c19f72c4abebe4e07305f1a3e30",
            "placeholder": "​",
            "style": "IPY_MODEL_c0bed335b16b421eb3edce0c6d0747e1",
            "tabbable": null,
            "tooltip": null,
            "value": "0.225 MB of 0.225 MB uploaded (0.000 MB deduped)\r"
          }
        },
        "1c595b9b1725410d9e3a2abb84733348": {
          "model_module": "@jupyter-widgets/controls",
          "model_name": "FloatProgressModel",
          "model_module_version": "2.0.0",
          "state": {
            "_dom_classes": [],
            "_model_module": "@jupyter-widgets/controls",
            "_model_module_version": "2.0.0",
            "_model_name": "FloatProgressModel",
            "_view_count": null,
            "_view_module": "@jupyter-widgets/controls",
            "_view_module_version": "2.0.0",
            "_view_name": "ProgressView",
            "bar_style": "",
            "description": "",
            "description_allow_html": false,
            "layout": "IPY_MODEL_3abee3cf63464610afa54d2c2401ae8b",
            "max": 1,
            "min": 0,
            "orientation": "horizontal",
            "style": "IPY_MODEL_e8ffd30f645c41f3a66b955e15c1d39e",
            "tabbable": null,
            "tooltip": null,
            "value": 1
          }
        },
        "b84562d796b94b8b8e2469b847982299": {
          "model_module": "@jupyter-widgets/base",
          "model_name": "LayoutModel",
          "model_module_version": "2.0.0",
          "state": {
            "_model_module": "@jupyter-widgets/base",
            "_model_module_version": "2.0.0",
            "_model_name": "LayoutModel",
            "_view_count": null,
            "_view_module": "@jupyter-widgets/base",
            "_view_module_version": "2.0.0",
            "_view_name": "LayoutView",
            "align_content": null,
            "align_items": null,
            "align_self": null,
            "border_bottom": null,
            "border_left": null,
            "border_right": null,
            "border_top": null,
            "bottom": null,
            "display": null,
            "flex": null,
            "flex_flow": null,
            "grid_area": null,
            "grid_auto_columns": null,
            "grid_auto_flow": null,
            "grid_auto_rows": null,
            "grid_column": null,
            "grid_gap": null,
            "grid_row": null,
            "grid_template_areas": null,
            "grid_template_columns": null,
            "grid_template_rows": null,
            "height": null,
            "justify_content": null,
            "justify_items": null,
            "left": null,
            "margin": null,
            "max_height": null,
            "max_width": null,
            "min_height": null,
            "min_width": null,
            "object_fit": null,
            "object_position": null,
            "order": null,
            "overflow": null,
            "padding": null,
            "right": null,
            "top": null,
            "visibility": null,
            "width": null
          }
        },
        "8e9c7c19f72c4abebe4e07305f1a3e30": {
          "model_module": "@jupyter-widgets/base",
          "model_name": "LayoutModel",
          "model_module_version": "2.0.0",
          "state": {
            "_model_module": "@jupyter-widgets/base",
            "_model_module_version": "2.0.0",
            "_model_name": "LayoutModel",
            "_view_count": null,
            "_view_module": "@jupyter-widgets/base",
            "_view_module_version": "2.0.0",
            "_view_name": "LayoutView",
            "align_content": null,
            "align_items": null,
            "align_self": null,
            "border_bottom": null,
            "border_left": null,
            "border_right": null,
            "border_top": null,
            "bottom": null,
            "display": null,
            "flex": null,
            "flex_flow": null,
            "grid_area": null,
            "grid_auto_columns": null,
            "grid_auto_flow": null,
            "grid_auto_rows": null,
            "grid_column": null,
            "grid_gap": null,
            "grid_row": null,
            "grid_template_areas": null,
            "grid_template_columns": null,
            "grid_template_rows": null,
            "height": null,
            "justify_content": null,
            "justify_items": null,
            "left": null,
            "margin": null,
            "max_height": null,
            "max_width": null,
            "min_height": null,
            "min_width": null,
            "object_fit": null,
            "object_position": null,
            "order": null,
            "overflow": null,
            "padding": null,
            "right": null,
            "top": null,
            "visibility": null,
            "width": null
          }
        },
        "c0bed335b16b421eb3edce0c6d0747e1": {
          "model_module": "@jupyter-widgets/controls",
          "model_name": "LabelStyleModel",
          "model_module_version": "2.0.0",
          "state": {
            "_model_module": "@jupyter-widgets/controls",
            "_model_module_version": "2.0.0",
            "_model_name": "LabelStyleModel",
            "_view_count": null,
            "_view_module": "@jupyter-widgets/base",
            "_view_module_version": "2.0.0",
            "_view_name": "StyleView",
            "background": null,
            "description_width": "",
            "font_family": null,
            "font_size": null,
            "font_style": null,
            "font_variant": null,
            "font_weight": null,
            "text_color": null,
            "text_decoration": null
          }
        },
        "3abee3cf63464610afa54d2c2401ae8b": {
          "model_module": "@jupyter-widgets/base",
          "model_name": "LayoutModel",
          "model_module_version": "2.0.0",
          "state": {
            "_model_module": "@jupyter-widgets/base",
            "_model_module_version": "2.0.0",
            "_model_name": "LayoutModel",
            "_view_count": null,
            "_view_module": "@jupyter-widgets/base",
            "_view_module_version": "2.0.0",
            "_view_name": "LayoutView",
            "align_content": null,
            "align_items": null,
            "align_self": null,
            "border_bottom": null,
            "border_left": null,
            "border_right": null,
            "border_top": null,
            "bottom": null,
            "display": null,
            "flex": null,
            "flex_flow": null,
            "grid_area": null,
            "grid_auto_columns": null,
            "grid_auto_flow": null,
            "grid_auto_rows": null,
            "grid_column": null,
            "grid_gap": null,
            "grid_row": null,
            "grid_template_areas": null,
            "grid_template_columns": null,
            "grid_template_rows": null,
            "height": null,
            "justify_content": null,
            "justify_items": null,
            "left": null,
            "margin": null,
            "max_height": null,
            "max_width": null,
            "min_height": null,
            "min_width": null,
            "object_fit": null,
            "object_position": null,
            "order": null,
            "overflow": null,
            "padding": null,
            "right": null,
            "top": null,
            "visibility": null,
            "width": null
          }
        },
        "e8ffd30f645c41f3a66b955e15c1d39e": {
          "model_module": "@jupyter-widgets/controls",
          "model_name": "ProgressStyleModel",
          "model_module_version": "2.0.0",
          "state": {
            "_model_module": "@jupyter-widgets/controls",
            "_model_module_version": "2.0.0",
            "_model_name": "ProgressStyleModel",
            "_view_count": null,
            "_view_module": "@jupyter-widgets/base",
            "_view_module_version": "2.0.0",
            "_view_name": "StyleView",
            "bar_color": null,
            "description_width": ""
          }
        },
        "b04adea949ce43889372f80b01ab8b9c": {
          "model_module": "@jupyter-widgets/controls",
          "model_name": "VBoxModel",
          "model_module_version": "2.0.0",
          "state": {
            "_dom_classes": [],
            "_model_module": "@jupyter-widgets/controls",
            "_model_module_version": "2.0.0",
            "_model_name": "VBoxModel",
            "_view_count": null,
            "_view_module": "@jupyter-widgets/controls",
            "_view_module_version": "2.0.0",
            "_view_name": "VBoxView",
            "box_style": "",
            "children": [
              "IPY_MODEL_269dbf00025a4ff2852af34c172b50aa",
              "IPY_MODEL_4e301304a79d4fc2bb56ecc0ccb757fa"
            ],
            "layout": "IPY_MODEL_4072369bf71a4fc08d4fea717b22d9a0",
            "tabbable": null,
            "tooltip": null
          }
        },
        "269dbf00025a4ff2852af34c172b50aa": {
          "model_module": "@jupyter-widgets/controls",
          "model_name": "LabelModel",
          "model_module_version": "2.0.0",
          "state": {
            "_dom_classes": [],
            "_model_module": "@jupyter-widgets/controls",
            "_model_module_version": "2.0.0",
            "_model_name": "LabelModel",
            "_view_count": null,
            "_view_module": "@jupyter-widgets/controls",
            "_view_module_version": "2.0.0",
            "_view_name": "LabelView",
            "description": "",
            "description_allow_html": false,
            "layout": "IPY_MODEL_df0ab731b227475aafaa0b59303b450e",
            "placeholder": "​",
            "style": "IPY_MODEL_e55eb65ebcf144fd93a81656b6666110",
            "tabbable": null,
            "tooltip": null,
            "value": "0.334 MB of 0.334 MB uploaded (0.000 MB deduped)\r"
          }
        },
        "4e301304a79d4fc2bb56ecc0ccb757fa": {
          "model_module": "@jupyter-widgets/controls",
          "model_name": "FloatProgressModel",
          "model_module_version": "2.0.0",
          "state": {
            "_dom_classes": [],
            "_model_module": "@jupyter-widgets/controls",
            "_model_module_version": "2.0.0",
            "_model_name": "FloatProgressModel",
            "_view_count": null,
            "_view_module": "@jupyter-widgets/controls",
            "_view_module_version": "2.0.0",
            "_view_name": "ProgressView",
            "bar_style": "",
            "description": "",
            "description_allow_html": false,
            "layout": "IPY_MODEL_cb3e96c24f27492b94a1c7d9b512da80",
            "max": 1,
            "min": 0,
            "orientation": "horizontal",
            "style": "IPY_MODEL_b23d5f6ee362400abb0e80c6a5f43eea",
            "tabbable": null,
            "tooltip": null,
            "value": 1
          }
        },
        "4072369bf71a4fc08d4fea717b22d9a0": {
          "model_module": "@jupyter-widgets/base",
          "model_name": "LayoutModel",
          "model_module_version": "2.0.0",
          "state": {
            "_model_module": "@jupyter-widgets/base",
            "_model_module_version": "2.0.0",
            "_model_name": "LayoutModel",
            "_view_count": null,
            "_view_module": "@jupyter-widgets/base",
            "_view_module_version": "2.0.0",
            "_view_name": "LayoutView",
            "align_content": null,
            "align_items": null,
            "align_self": null,
            "border_bottom": null,
            "border_left": null,
            "border_right": null,
            "border_top": null,
            "bottom": null,
            "display": null,
            "flex": null,
            "flex_flow": null,
            "grid_area": null,
            "grid_auto_columns": null,
            "grid_auto_flow": null,
            "grid_auto_rows": null,
            "grid_column": null,
            "grid_gap": null,
            "grid_row": null,
            "grid_template_areas": null,
            "grid_template_columns": null,
            "grid_template_rows": null,
            "height": null,
            "justify_content": null,
            "justify_items": null,
            "left": null,
            "margin": null,
            "max_height": null,
            "max_width": null,
            "min_height": null,
            "min_width": null,
            "object_fit": null,
            "object_position": null,
            "order": null,
            "overflow": null,
            "padding": null,
            "right": null,
            "top": null,
            "visibility": null,
            "width": null
          }
        },
        "df0ab731b227475aafaa0b59303b450e": {
          "model_module": "@jupyter-widgets/base",
          "model_name": "LayoutModel",
          "model_module_version": "2.0.0",
          "state": {
            "_model_module": "@jupyter-widgets/base",
            "_model_module_version": "2.0.0",
            "_model_name": "LayoutModel",
            "_view_count": null,
            "_view_module": "@jupyter-widgets/base",
            "_view_module_version": "2.0.0",
            "_view_name": "LayoutView",
            "align_content": null,
            "align_items": null,
            "align_self": null,
            "border_bottom": null,
            "border_left": null,
            "border_right": null,
            "border_top": null,
            "bottom": null,
            "display": null,
            "flex": null,
            "flex_flow": null,
            "grid_area": null,
            "grid_auto_columns": null,
            "grid_auto_flow": null,
            "grid_auto_rows": null,
            "grid_column": null,
            "grid_gap": null,
            "grid_row": null,
            "grid_template_areas": null,
            "grid_template_columns": null,
            "grid_template_rows": null,
            "height": null,
            "justify_content": null,
            "justify_items": null,
            "left": null,
            "margin": null,
            "max_height": null,
            "max_width": null,
            "min_height": null,
            "min_width": null,
            "object_fit": null,
            "object_position": null,
            "order": null,
            "overflow": null,
            "padding": null,
            "right": null,
            "top": null,
            "visibility": null,
            "width": null
          }
        },
        "e55eb65ebcf144fd93a81656b6666110": {
          "model_module": "@jupyter-widgets/controls",
          "model_name": "LabelStyleModel",
          "model_module_version": "2.0.0",
          "state": {
            "_model_module": "@jupyter-widgets/controls",
            "_model_module_version": "2.0.0",
            "_model_name": "LabelStyleModel",
            "_view_count": null,
            "_view_module": "@jupyter-widgets/base",
            "_view_module_version": "2.0.0",
            "_view_name": "StyleView",
            "background": null,
            "description_width": "",
            "font_family": null,
            "font_size": null,
            "font_style": null,
            "font_variant": null,
            "font_weight": null,
            "text_color": null,
            "text_decoration": null
          }
        },
        "cb3e96c24f27492b94a1c7d9b512da80": {
          "model_module": "@jupyter-widgets/base",
          "model_name": "LayoutModel",
          "model_module_version": "2.0.0",
          "state": {
            "_model_module": "@jupyter-widgets/base",
            "_model_module_version": "2.0.0",
            "_model_name": "LayoutModel",
            "_view_count": null,
            "_view_module": "@jupyter-widgets/base",
            "_view_module_version": "2.0.0",
            "_view_name": "LayoutView",
            "align_content": null,
            "align_items": null,
            "align_self": null,
            "border_bottom": null,
            "border_left": null,
            "border_right": null,
            "border_top": null,
            "bottom": null,
            "display": null,
            "flex": null,
            "flex_flow": null,
            "grid_area": null,
            "grid_auto_columns": null,
            "grid_auto_flow": null,
            "grid_auto_rows": null,
            "grid_column": null,
            "grid_gap": null,
            "grid_row": null,
            "grid_template_areas": null,
            "grid_template_columns": null,
            "grid_template_rows": null,
            "height": null,
            "justify_content": null,
            "justify_items": null,
            "left": null,
            "margin": null,
            "max_height": null,
            "max_width": null,
            "min_height": null,
            "min_width": null,
            "object_fit": null,
            "object_position": null,
            "order": null,
            "overflow": null,
            "padding": null,
            "right": null,
            "top": null,
            "visibility": null,
            "width": null
          }
        },
        "b23d5f6ee362400abb0e80c6a5f43eea": {
          "model_module": "@jupyter-widgets/controls",
          "model_name": "ProgressStyleModel",
          "model_module_version": "2.0.0",
          "state": {
            "_model_module": "@jupyter-widgets/controls",
            "_model_module_version": "2.0.0",
            "_model_name": "ProgressStyleModel",
            "_view_count": null,
            "_view_module": "@jupyter-widgets/base",
            "_view_module_version": "2.0.0",
            "_view_name": "StyleView",
            "bar_color": null,
            "description_width": ""
          }
        },
        "d4b61c9eb0c44c6aba334f08168d9c13": {
          "model_module": "@jupyter-widgets/controls",
          "model_name": "VBoxModel",
          "model_module_version": "2.0.0",
          "state": {
            "_dom_classes": [],
            "_model_module": "@jupyter-widgets/controls",
            "_model_module_version": "2.0.0",
            "_model_name": "VBoxModel",
            "_view_count": null,
            "_view_module": "@jupyter-widgets/controls",
            "_view_module_version": "2.0.0",
            "_view_name": "VBoxView",
            "box_style": "",
            "children": [
              "IPY_MODEL_799ad3493d3b450db1ed0c6ef800409c",
              "IPY_MODEL_39494632c24245dbb8a01a0640e46d23"
            ],
            "layout": "IPY_MODEL_922904476eaa4433bcbbce44525558af",
            "tabbable": null,
            "tooltip": null
          }
        },
        "799ad3493d3b450db1ed0c6ef800409c": {
          "model_module": "@jupyter-widgets/controls",
          "model_name": "LabelModel",
          "model_module_version": "2.0.0",
          "state": {
            "_dom_classes": [],
            "_model_module": "@jupyter-widgets/controls",
            "_model_module_version": "2.0.0",
            "_model_name": "LabelModel",
            "_view_count": null,
            "_view_module": "@jupyter-widgets/controls",
            "_view_module_version": "2.0.0",
            "_view_name": "LabelView",
            "description": "",
            "description_allow_html": false,
            "layout": "IPY_MODEL_4d22c6bea8c741bba4006d5a11db7562",
            "placeholder": "​",
            "style": "IPY_MODEL_762a95d0d5b84064be14d418c48c107a",
            "tabbable": null,
            "tooltip": null,
            "value": "0.211 MB of 0.211 MB uploaded (0.000 MB deduped)\r"
          }
        },
        "39494632c24245dbb8a01a0640e46d23": {
          "model_module": "@jupyter-widgets/controls",
          "model_name": "FloatProgressModel",
          "model_module_version": "2.0.0",
          "state": {
            "_dom_classes": [],
            "_model_module": "@jupyter-widgets/controls",
            "_model_module_version": "2.0.0",
            "_model_name": "FloatProgressModel",
            "_view_count": null,
            "_view_module": "@jupyter-widgets/controls",
            "_view_module_version": "2.0.0",
            "_view_name": "ProgressView",
            "bar_style": "",
            "description": "",
            "description_allow_html": false,
            "layout": "IPY_MODEL_eb36ca5d12e14020bd1fb1b01a9209a6",
            "max": 1,
            "min": 0,
            "orientation": "horizontal",
            "style": "IPY_MODEL_eb5cb09a58ff4cb28161fa3a6a596a2c",
            "tabbable": null,
            "tooltip": null,
            "value": 1
          }
        },
        "922904476eaa4433bcbbce44525558af": {
          "model_module": "@jupyter-widgets/base",
          "model_name": "LayoutModel",
          "model_module_version": "2.0.0",
          "state": {
            "_model_module": "@jupyter-widgets/base",
            "_model_module_version": "2.0.0",
            "_model_name": "LayoutModel",
            "_view_count": null,
            "_view_module": "@jupyter-widgets/base",
            "_view_module_version": "2.0.0",
            "_view_name": "LayoutView",
            "align_content": null,
            "align_items": null,
            "align_self": null,
            "border_bottom": null,
            "border_left": null,
            "border_right": null,
            "border_top": null,
            "bottom": null,
            "display": null,
            "flex": null,
            "flex_flow": null,
            "grid_area": null,
            "grid_auto_columns": null,
            "grid_auto_flow": null,
            "grid_auto_rows": null,
            "grid_column": null,
            "grid_gap": null,
            "grid_row": null,
            "grid_template_areas": null,
            "grid_template_columns": null,
            "grid_template_rows": null,
            "height": null,
            "justify_content": null,
            "justify_items": null,
            "left": null,
            "margin": null,
            "max_height": null,
            "max_width": null,
            "min_height": null,
            "min_width": null,
            "object_fit": null,
            "object_position": null,
            "order": null,
            "overflow": null,
            "padding": null,
            "right": null,
            "top": null,
            "visibility": null,
            "width": null
          }
        },
        "4d22c6bea8c741bba4006d5a11db7562": {
          "model_module": "@jupyter-widgets/base",
          "model_name": "LayoutModel",
          "model_module_version": "2.0.0",
          "state": {
            "_model_module": "@jupyter-widgets/base",
            "_model_module_version": "2.0.0",
            "_model_name": "LayoutModel",
            "_view_count": null,
            "_view_module": "@jupyter-widgets/base",
            "_view_module_version": "2.0.0",
            "_view_name": "LayoutView",
            "align_content": null,
            "align_items": null,
            "align_self": null,
            "border_bottom": null,
            "border_left": null,
            "border_right": null,
            "border_top": null,
            "bottom": null,
            "display": null,
            "flex": null,
            "flex_flow": null,
            "grid_area": null,
            "grid_auto_columns": null,
            "grid_auto_flow": null,
            "grid_auto_rows": null,
            "grid_column": null,
            "grid_gap": null,
            "grid_row": null,
            "grid_template_areas": null,
            "grid_template_columns": null,
            "grid_template_rows": null,
            "height": null,
            "justify_content": null,
            "justify_items": null,
            "left": null,
            "margin": null,
            "max_height": null,
            "max_width": null,
            "min_height": null,
            "min_width": null,
            "object_fit": null,
            "object_position": null,
            "order": null,
            "overflow": null,
            "padding": null,
            "right": null,
            "top": null,
            "visibility": null,
            "width": null
          }
        },
        "762a95d0d5b84064be14d418c48c107a": {
          "model_module": "@jupyter-widgets/controls",
          "model_name": "LabelStyleModel",
          "model_module_version": "2.0.0",
          "state": {
            "_model_module": "@jupyter-widgets/controls",
            "_model_module_version": "2.0.0",
            "_model_name": "LabelStyleModel",
            "_view_count": null,
            "_view_module": "@jupyter-widgets/base",
            "_view_module_version": "2.0.0",
            "_view_name": "StyleView",
            "background": null,
            "description_width": "",
            "font_family": null,
            "font_size": null,
            "font_style": null,
            "font_variant": null,
            "font_weight": null,
            "text_color": null,
            "text_decoration": null
          }
        },
        "eb36ca5d12e14020bd1fb1b01a9209a6": {
          "model_module": "@jupyter-widgets/base",
          "model_name": "LayoutModel",
          "model_module_version": "2.0.0",
          "state": {
            "_model_module": "@jupyter-widgets/base",
            "_model_module_version": "2.0.0",
            "_model_name": "LayoutModel",
            "_view_count": null,
            "_view_module": "@jupyter-widgets/base",
            "_view_module_version": "2.0.0",
            "_view_name": "LayoutView",
            "align_content": null,
            "align_items": null,
            "align_self": null,
            "border_bottom": null,
            "border_left": null,
            "border_right": null,
            "border_top": null,
            "bottom": null,
            "display": null,
            "flex": null,
            "flex_flow": null,
            "grid_area": null,
            "grid_auto_columns": null,
            "grid_auto_flow": null,
            "grid_auto_rows": null,
            "grid_column": null,
            "grid_gap": null,
            "grid_row": null,
            "grid_template_areas": null,
            "grid_template_columns": null,
            "grid_template_rows": null,
            "height": null,
            "justify_content": null,
            "justify_items": null,
            "left": null,
            "margin": null,
            "max_height": null,
            "max_width": null,
            "min_height": null,
            "min_width": null,
            "object_fit": null,
            "object_position": null,
            "order": null,
            "overflow": null,
            "padding": null,
            "right": null,
            "top": null,
            "visibility": null,
            "width": null
          }
        },
        "eb5cb09a58ff4cb28161fa3a6a596a2c": {
          "model_module": "@jupyter-widgets/controls",
          "model_name": "ProgressStyleModel",
          "model_module_version": "2.0.0",
          "state": {
            "_model_module": "@jupyter-widgets/controls",
            "_model_module_version": "2.0.0",
            "_model_name": "ProgressStyleModel",
            "_view_count": null,
            "_view_module": "@jupyter-widgets/base",
            "_view_module_version": "2.0.0",
            "_view_name": "StyleView",
            "bar_color": null,
            "description_width": ""
          }
        },
        "d85c1c5b777b4f6694ed8338ea8700da": {
          "model_module": "@jupyter-widgets/controls",
          "model_name": "VBoxModel",
          "model_module_version": "2.0.0",
          "state": {
            "_dom_classes": [],
            "_model_module": "@jupyter-widgets/controls",
            "_model_module_version": "2.0.0",
            "_model_name": "VBoxModel",
            "_view_count": null,
            "_view_module": "@jupyter-widgets/controls",
            "_view_module_version": "2.0.0",
            "_view_name": "VBoxView",
            "box_style": "",
            "children": [
              "IPY_MODEL_f07f038c2f8e403188d7e49bff6e3433",
              "IPY_MODEL_7a3014ab378a4b0cbfdbc2bbdcf77dbc"
            ],
            "layout": "IPY_MODEL_9d2c237a1ea242ccb247781c36cb9ddd",
            "tabbable": null,
            "tooltip": null
          }
        },
        "f07f038c2f8e403188d7e49bff6e3433": {
          "model_module": "@jupyter-widgets/controls",
          "model_name": "LabelModel",
          "model_module_version": "2.0.0",
          "state": {
            "_dom_classes": [],
            "_model_module": "@jupyter-widgets/controls",
            "_model_module_version": "2.0.0",
            "_model_name": "LabelModel",
            "_view_count": null,
            "_view_module": "@jupyter-widgets/controls",
            "_view_module_version": "2.0.0",
            "_view_name": "LabelView",
            "description": "",
            "description_allow_html": false,
            "layout": "IPY_MODEL_36c6fac0eb3e4714847b139e67f01cea",
            "placeholder": "​",
            "style": "IPY_MODEL_272859c3be3e4229a9262d937c837dce",
            "tabbable": null,
            "tooltip": null,
            "value": "0.260 MB of 0.260 MB uploaded (0.000 MB deduped)\r"
          }
        },
        "7a3014ab378a4b0cbfdbc2bbdcf77dbc": {
          "model_module": "@jupyter-widgets/controls",
          "model_name": "FloatProgressModel",
          "model_module_version": "2.0.0",
          "state": {
            "_dom_classes": [],
            "_model_module": "@jupyter-widgets/controls",
            "_model_module_version": "2.0.0",
            "_model_name": "FloatProgressModel",
            "_view_count": null,
            "_view_module": "@jupyter-widgets/controls",
            "_view_module_version": "2.0.0",
            "_view_name": "ProgressView",
            "bar_style": "",
            "description": "",
            "description_allow_html": false,
            "layout": "IPY_MODEL_416ace720c10447cb669f3f1b784d0e7",
            "max": 1,
            "min": 0,
            "orientation": "horizontal",
            "style": "IPY_MODEL_b4e74144f1204a15aae1f5a5a18de63c",
            "tabbable": null,
            "tooltip": null,
            "value": 1
          }
        },
        "9d2c237a1ea242ccb247781c36cb9ddd": {
          "model_module": "@jupyter-widgets/base",
          "model_name": "LayoutModel",
          "model_module_version": "2.0.0",
          "state": {
            "_model_module": "@jupyter-widgets/base",
            "_model_module_version": "2.0.0",
            "_model_name": "LayoutModel",
            "_view_count": null,
            "_view_module": "@jupyter-widgets/base",
            "_view_module_version": "2.0.0",
            "_view_name": "LayoutView",
            "align_content": null,
            "align_items": null,
            "align_self": null,
            "border_bottom": null,
            "border_left": null,
            "border_right": null,
            "border_top": null,
            "bottom": null,
            "display": null,
            "flex": null,
            "flex_flow": null,
            "grid_area": null,
            "grid_auto_columns": null,
            "grid_auto_flow": null,
            "grid_auto_rows": null,
            "grid_column": null,
            "grid_gap": null,
            "grid_row": null,
            "grid_template_areas": null,
            "grid_template_columns": null,
            "grid_template_rows": null,
            "height": null,
            "justify_content": null,
            "justify_items": null,
            "left": null,
            "margin": null,
            "max_height": null,
            "max_width": null,
            "min_height": null,
            "min_width": null,
            "object_fit": null,
            "object_position": null,
            "order": null,
            "overflow": null,
            "padding": null,
            "right": null,
            "top": null,
            "visibility": null,
            "width": null
          }
        },
        "36c6fac0eb3e4714847b139e67f01cea": {
          "model_module": "@jupyter-widgets/base",
          "model_name": "LayoutModel",
          "model_module_version": "2.0.0",
          "state": {
            "_model_module": "@jupyter-widgets/base",
            "_model_module_version": "2.0.0",
            "_model_name": "LayoutModel",
            "_view_count": null,
            "_view_module": "@jupyter-widgets/base",
            "_view_module_version": "2.0.0",
            "_view_name": "LayoutView",
            "align_content": null,
            "align_items": null,
            "align_self": null,
            "border_bottom": null,
            "border_left": null,
            "border_right": null,
            "border_top": null,
            "bottom": null,
            "display": null,
            "flex": null,
            "flex_flow": null,
            "grid_area": null,
            "grid_auto_columns": null,
            "grid_auto_flow": null,
            "grid_auto_rows": null,
            "grid_column": null,
            "grid_gap": null,
            "grid_row": null,
            "grid_template_areas": null,
            "grid_template_columns": null,
            "grid_template_rows": null,
            "height": null,
            "justify_content": null,
            "justify_items": null,
            "left": null,
            "margin": null,
            "max_height": null,
            "max_width": null,
            "min_height": null,
            "min_width": null,
            "object_fit": null,
            "object_position": null,
            "order": null,
            "overflow": null,
            "padding": null,
            "right": null,
            "top": null,
            "visibility": null,
            "width": null
          }
        },
        "272859c3be3e4229a9262d937c837dce": {
          "model_module": "@jupyter-widgets/controls",
          "model_name": "LabelStyleModel",
          "model_module_version": "2.0.0",
          "state": {
            "_model_module": "@jupyter-widgets/controls",
            "_model_module_version": "2.0.0",
            "_model_name": "LabelStyleModel",
            "_view_count": null,
            "_view_module": "@jupyter-widgets/base",
            "_view_module_version": "2.0.0",
            "_view_name": "StyleView",
            "background": null,
            "description_width": "",
            "font_family": null,
            "font_size": null,
            "font_style": null,
            "font_variant": null,
            "font_weight": null,
            "text_color": null,
            "text_decoration": null
          }
        },
        "416ace720c10447cb669f3f1b784d0e7": {
          "model_module": "@jupyter-widgets/base",
          "model_name": "LayoutModel",
          "model_module_version": "2.0.0",
          "state": {
            "_model_module": "@jupyter-widgets/base",
            "_model_module_version": "2.0.0",
            "_model_name": "LayoutModel",
            "_view_count": null,
            "_view_module": "@jupyter-widgets/base",
            "_view_module_version": "2.0.0",
            "_view_name": "LayoutView",
            "align_content": null,
            "align_items": null,
            "align_self": null,
            "border_bottom": null,
            "border_left": null,
            "border_right": null,
            "border_top": null,
            "bottom": null,
            "display": null,
            "flex": null,
            "flex_flow": null,
            "grid_area": null,
            "grid_auto_columns": null,
            "grid_auto_flow": null,
            "grid_auto_rows": null,
            "grid_column": null,
            "grid_gap": null,
            "grid_row": null,
            "grid_template_areas": null,
            "grid_template_columns": null,
            "grid_template_rows": null,
            "height": null,
            "justify_content": null,
            "justify_items": null,
            "left": null,
            "margin": null,
            "max_height": null,
            "max_width": null,
            "min_height": null,
            "min_width": null,
            "object_fit": null,
            "object_position": null,
            "order": null,
            "overflow": null,
            "padding": null,
            "right": null,
            "top": null,
            "visibility": null,
            "width": null
          }
        },
        "b4e74144f1204a15aae1f5a5a18de63c": {
          "model_module": "@jupyter-widgets/controls",
          "model_name": "ProgressStyleModel",
          "model_module_version": "2.0.0",
          "state": {
            "_model_module": "@jupyter-widgets/controls",
            "_model_module_version": "2.0.0",
            "_model_name": "ProgressStyleModel",
            "_view_count": null,
            "_view_module": "@jupyter-widgets/base",
            "_view_module_version": "2.0.0",
            "_view_name": "StyleView",
            "bar_color": null,
            "description_width": ""
          }
        },
        "af0b12b8544040f0bddd7c5e998a665b": {
          "model_module": "@jupyter-widgets/controls",
          "model_name": "VBoxModel",
          "model_module_version": "2.0.0",
          "state": {
            "_dom_classes": [],
            "_model_module": "@jupyter-widgets/controls",
            "_model_module_version": "2.0.0",
            "_model_name": "VBoxModel",
            "_view_count": null,
            "_view_module": "@jupyter-widgets/controls",
            "_view_module_version": "2.0.0",
            "_view_name": "VBoxView",
            "box_style": "",
            "children": [
              "IPY_MODEL_b17dedbb1c62404e9ef1d49538de91ef",
              "IPY_MODEL_3478978b52974934b9eac53ac18d1060"
            ],
            "layout": "IPY_MODEL_93697aa5c2df45a89ca44dbbb4c2b1c2",
            "tabbable": null,
            "tooltip": null
          }
        },
        "b17dedbb1c62404e9ef1d49538de91ef": {
          "model_module": "@jupyter-widgets/controls",
          "model_name": "LabelModel",
          "model_module_version": "2.0.0",
          "state": {
            "_dom_classes": [],
            "_model_module": "@jupyter-widgets/controls",
            "_model_module_version": "2.0.0",
            "_model_name": "LabelModel",
            "_view_count": null,
            "_view_module": "@jupyter-widgets/controls",
            "_view_module_version": "2.0.0",
            "_view_name": "LabelView",
            "description": "",
            "description_allow_html": false,
            "layout": "IPY_MODEL_8ca5f6e7155a4b12ba27292705e5d261",
            "placeholder": "​",
            "style": "IPY_MODEL_fa37d8fc0c4e442080230e2183215837",
            "tabbable": null,
            "tooltip": null,
            "value": "0.375 MB of 0.375 MB uploaded (0.000 MB deduped)\r"
          }
        },
        "3478978b52974934b9eac53ac18d1060": {
          "model_module": "@jupyter-widgets/controls",
          "model_name": "FloatProgressModel",
          "model_module_version": "2.0.0",
          "state": {
            "_dom_classes": [],
            "_model_module": "@jupyter-widgets/controls",
            "_model_module_version": "2.0.0",
            "_model_name": "FloatProgressModel",
            "_view_count": null,
            "_view_module": "@jupyter-widgets/controls",
            "_view_module_version": "2.0.0",
            "_view_name": "ProgressView",
            "bar_style": "",
            "description": "",
            "description_allow_html": false,
            "layout": "IPY_MODEL_fa833ee2b5744e40b91deec92e9763df",
            "max": 1,
            "min": 0,
            "orientation": "horizontal",
            "style": "IPY_MODEL_5a72c4b0628d491caa80bf84828f693e",
            "tabbable": null,
            "tooltip": null,
            "value": 1
          }
        },
        "93697aa5c2df45a89ca44dbbb4c2b1c2": {
          "model_module": "@jupyter-widgets/base",
          "model_name": "LayoutModel",
          "model_module_version": "2.0.0",
          "state": {
            "_model_module": "@jupyter-widgets/base",
            "_model_module_version": "2.0.0",
            "_model_name": "LayoutModel",
            "_view_count": null,
            "_view_module": "@jupyter-widgets/base",
            "_view_module_version": "2.0.0",
            "_view_name": "LayoutView",
            "align_content": null,
            "align_items": null,
            "align_self": null,
            "border_bottom": null,
            "border_left": null,
            "border_right": null,
            "border_top": null,
            "bottom": null,
            "display": null,
            "flex": null,
            "flex_flow": null,
            "grid_area": null,
            "grid_auto_columns": null,
            "grid_auto_flow": null,
            "grid_auto_rows": null,
            "grid_column": null,
            "grid_gap": null,
            "grid_row": null,
            "grid_template_areas": null,
            "grid_template_columns": null,
            "grid_template_rows": null,
            "height": null,
            "justify_content": null,
            "justify_items": null,
            "left": null,
            "margin": null,
            "max_height": null,
            "max_width": null,
            "min_height": null,
            "min_width": null,
            "object_fit": null,
            "object_position": null,
            "order": null,
            "overflow": null,
            "padding": null,
            "right": null,
            "top": null,
            "visibility": null,
            "width": null
          }
        },
        "8ca5f6e7155a4b12ba27292705e5d261": {
          "model_module": "@jupyter-widgets/base",
          "model_name": "LayoutModel",
          "model_module_version": "2.0.0",
          "state": {
            "_model_module": "@jupyter-widgets/base",
            "_model_module_version": "2.0.0",
            "_model_name": "LayoutModel",
            "_view_count": null,
            "_view_module": "@jupyter-widgets/base",
            "_view_module_version": "2.0.0",
            "_view_name": "LayoutView",
            "align_content": null,
            "align_items": null,
            "align_self": null,
            "border_bottom": null,
            "border_left": null,
            "border_right": null,
            "border_top": null,
            "bottom": null,
            "display": null,
            "flex": null,
            "flex_flow": null,
            "grid_area": null,
            "grid_auto_columns": null,
            "grid_auto_flow": null,
            "grid_auto_rows": null,
            "grid_column": null,
            "grid_gap": null,
            "grid_row": null,
            "grid_template_areas": null,
            "grid_template_columns": null,
            "grid_template_rows": null,
            "height": null,
            "justify_content": null,
            "justify_items": null,
            "left": null,
            "margin": null,
            "max_height": null,
            "max_width": null,
            "min_height": null,
            "min_width": null,
            "object_fit": null,
            "object_position": null,
            "order": null,
            "overflow": null,
            "padding": null,
            "right": null,
            "top": null,
            "visibility": null,
            "width": null
          }
        },
        "fa37d8fc0c4e442080230e2183215837": {
          "model_module": "@jupyter-widgets/controls",
          "model_name": "LabelStyleModel",
          "model_module_version": "2.0.0",
          "state": {
            "_model_module": "@jupyter-widgets/controls",
            "_model_module_version": "2.0.0",
            "_model_name": "LabelStyleModel",
            "_view_count": null,
            "_view_module": "@jupyter-widgets/base",
            "_view_module_version": "2.0.0",
            "_view_name": "StyleView",
            "background": null,
            "description_width": "",
            "font_family": null,
            "font_size": null,
            "font_style": null,
            "font_variant": null,
            "font_weight": null,
            "text_color": null,
            "text_decoration": null
          }
        },
        "fa833ee2b5744e40b91deec92e9763df": {
          "model_module": "@jupyter-widgets/base",
          "model_name": "LayoutModel",
          "model_module_version": "2.0.0",
          "state": {
            "_model_module": "@jupyter-widgets/base",
            "_model_module_version": "2.0.0",
            "_model_name": "LayoutModel",
            "_view_count": null,
            "_view_module": "@jupyter-widgets/base",
            "_view_module_version": "2.0.0",
            "_view_name": "LayoutView",
            "align_content": null,
            "align_items": null,
            "align_self": null,
            "border_bottom": null,
            "border_left": null,
            "border_right": null,
            "border_top": null,
            "bottom": null,
            "display": null,
            "flex": null,
            "flex_flow": null,
            "grid_area": null,
            "grid_auto_columns": null,
            "grid_auto_flow": null,
            "grid_auto_rows": null,
            "grid_column": null,
            "grid_gap": null,
            "grid_row": null,
            "grid_template_areas": null,
            "grid_template_columns": null,
            "grid_template_rows": null,
            "height": null,
            "justify_content": null,
            "justify_items": null,
            "left": null,
            "margin": null,
            "max_height": null,
            "max_width": null,
            "min_height": null,
            "min_width": null,
            "object_fit": null,
            "object_position": null,
            "order": null,
            "overflow": null,
            "padding": null,
            "right": null,
            "top": null,
            "visibility": null,
            "width": null
          }
        },
        "5a72c4b0628d491caa80bf84828f693e": {
          "model_module": "@jupyter-widgets/controls",
          "model_name": "ProgressStyleModel",
          "model_module_version": "2.0.0",
          "state": {
            "_model_module": "@jupyter-widgets/controls",
            "_model_module_version": "2.0.0",
            "_model_name": "ProgressStyleModel",
            "_view_count": null,
            "_view_module": "@jupyter-widgets/base",
            "_view_module_version": "2.0.0",
            "_view_name": "StyleView",
            "bar_color": null,
            "description_width": ""
          }
        },
        "2c923859e4a342c68f960120677598e7": {
          "model_module": "@jupyter-widgets/controls",
          "model_name": "VBoxModel",
          "model_module_version": "2.0.0",
          "state": {
            "_dom_classes": [],
            "_model_module": "@jupyter-widgets/controls",
            "_model_module_version": "2.0.0",
            "_model_name": "VBoxModel",
            "_view_count": null,
            "_view_module": "@jupyter-widgets/controls",
            "_view_module_version": "2.0.0",
            "_view_name": "VBoxView",
            "box_style": "",
            "children": [
              "IPY_MODEL_7abb845f4e2a4701800432f731f08caf",
              "IPY_MODEL_636f45cbd4da4408ac7355a68174b8f8"
            ],
            "layout": "IPY_MODEL_16af3ed081de4ba1a7b1fc196e3986f2",
            "tabbable": null,
            "tooltip": null
          }
        },
        "7abb845f4e2a4701800432f731f08caf": {
          "model_module": "@jupyter-widgets/controls",
          "model_name": "LabelModel",
          "model_module_version": "2.0.0",
          "state": {
            "_dom_classes": [],
            "_model_module": "@jupyter-widgets/controls",
            "_model_module_version": "2.0.0",
            "_model_name": "LabelModel",
            "_view_count": null,
            "_view_module": "@jupyter-widgets/controls",
            "_view_module_version": "2.0.0",
            "_view_name": "LabelView",
            "description": "",
            "description_allow_html": false,
            "layout": "IPY_MODEL_a382cc523c3043f2b22ecd6036a89987",
            "placeholder": "​",
            "style": "IPY_MODEL_2a2e2217dbea438daecb22bf9f5da025",
            "tabbable": null,
            "tooltip": null,
            "value": "0.247 MB of 0.247 MB uploaded (0.000 MB deduped)\r"
          }
        },
        "636f45cbd4da4408ac7355a68174b8f8": {
          "model_module": "@jupyter-widgets/controls",
          "model_name": "FloatProgressModel",
          "model_module_version": "2.0.0",
          "state": {
            "_dom_classes": [],
            "_model_module": "@jupyter-widgets/controls",
            "_model_module_version": "2.0.0",
            "_model_name": "FloatProgressModel",
            "_view_count": null,
            "_view_module": "@jupyter-widgets/controls",
            "_view_module_version": "2.0.0",
            "_view_name": "ProgressView",
            "bar_style": "",
            "description": "",
            "description_allow_html": false,
            "layout": "IPY_MODEL_7f90a27965eb43dd995a2ec3d7877081",
            "max": 1,
            "min": 0,
            "orientation": "horizontal",
            "style": "IPY_MODEL_0998cb3f62fa4f11b2027905727c7df4",
            "tabbable": null,
            "tooltip": null,
            "value": 1
          }
        },
        "16af3ed081de4ba1a7b1fc196e3986f2": {
          "model_module": "@jupyter-widgets/base",
          "model_name": "LayoutModel",
          "model_module_version": "2.0.0",
          "state": {
            "_model_module": "@jupyter-widgets/base",
            "_model_module_version": "2.0.0",
            "_model_name": "LayoutModel",
            "_view_count": null,
            "_view_module": "@jupyter-widgets/base",
            "_view_module_version": "2.0.0",
            "_view_name": "LayoutView",
            "align_content": null,
            "align_items": null,
            "align_self": null,
            "border_bottom": null,
            "border_left": null,
            "border_right": null,
            "border_top": null,
            "bottom": null,
            "display": null,
            "flex": null,
            "flex_flow": null,
            "grid_area": null,
            "grid_auto_columns": null,
            "grid_auto_flow": null,
            "grid_auto_rows": null,
            "grid_column": null,
            "grid_gap": null,
            "grid_row": null,
            "grid_template_areas": null,
            "grid_template_columns": null,
            "grid_template_rows": null,
            "height": null,
            "justify_content": null,
            "justify_items": null,
            "left": null,
            "margin": null,
            "max_height": null,
            "max_width": null,
            "min_height": null,
            "min_width": null,
            "object_fit": null,
            "object_position": null,
            "order": null,
            "overflow": null,
            "padding": null,
            "right": null,
            "top": null,
            "visibility": null,
            "width": null
          }
        },
        "a382cc523c3043f2b22ecd6036a89987": {
          "model_module": "@jupyter-widgets/base",
          "model_name": "LayoutModel",
          "model_module_version": "2.0.0",
          "state": {
            "_model_module": "@jupyter-widgets/base",
            "_model_module_version": "2.0.0",
            "_model_name": "LayoutModel",
            "_view_count": null,
            "_view_module": "@jupyter-widgets/base",
            "_view_module_version": "2.0.0",
            "_view_name": "LayoutView",
            "align_content": null,
            "align_items": null,
            "align_self": null,
            "border_bottom": null,
            "border_left": null,
            "border_right": null,
            "border_top": null,
            "bottom": null,
            "display": null,
            "flex": null,
            "flex_flow": null,
            "grid_area": null,
            "grid_auto_columns": null,
            "grid_auto_flow": null,
            "grid_auto_rows": null,
            "grid_column": null,
            "grid_gap": null,
            "grid_row": null,
            "grid_template_areas": null,
            "grid_template_columns": null,
            "grid_template_rows": null,
            "height": null,
            "justify_content": null,
            "justify_items": null,
            "left": null,
            "margin": null,
            "max_height": null,
            "max_width": null,
            "min_height": null,
            "min_width": null,
            "object_fit": null,
            "object_position": null,
            "order": null,
            "overflow": null,
            "padding": null,
            "right": null,
            "top": null,
            "visibility": null,
            "width": null
          }
        },
        "2a2e2217dbea438daecb22bf9f5da025": {
          "model_module": "@jupyter-widgets/controls",
          "model_name": "LabelStyleModel",
          "model_module_version": "2.0.0",
          "state": {
            "_model_module": "@jupyter-widgets/controls",
            "_model_module_version": "2.0.0",
            "_model_name": "LabelStyleModel",
            "_view_count": null,
            "_view_module": "@jupyter-widgets/base",
            "_view_module_version": "2.0.0",
            "_view_name": "StyleView",
            "background": null,
            "description_width": "",
            "font_family": null,
            "font_size": null,
            "font_style": null,
            "font_variant": null,
            "font_weight": null,
            "text_color": null,
            "text_decoration": null
          }
        },
        "7f90a27965eb43dd995a2ec3d7877081": {
          "model_module": "@jupyter-widgets/base",
          "model_name": "LayoutModel",
          "model_module_version": "2.0.0",
          "state": {
            "_model_module": "@jupyter-widgets/base",
            "_model_module_version": "2.0.0",
            "_model_name": "LayoutModel",
            "_view_count": null,
            "_view_module": "@jupyter-widgets/base",
            "_view_module_version": "2.0.0",
            "_view_name": "LayoutView",
            "align_content": null,
            "align_items": null,
            "align_self": null,
            "border_bottom": null,
            "border_left": null,
            "border_right": null,
            "border_top": null,
            "bottom": null,
            "display": null,
            "flex": null,
            "flex_flow": null,
            "grid_area": null,
            "grid_auto_columns": null,
            "grid_auto_flow": null,
            "grid_auto_rows": null,
            "grid_column": null,
            "grid_gap": null,
            "grid_row": null,
            "grid_template_areas": null,
            "grid_template_columns": null,
            "grid_template_rows": null,
            "height": null,
            "justify_content": null,
            "justify_items": null,
            "left": null,
            "margin": null,
            "max_height": null,
            "max_width": null,
            "min_height": null,
            "min_width": null,
            "object_fit": null,
            "object_position": null,
            "order": null,
            "overflow": null,
            "padding": null,
            "right": null,
            "top": null,
            "visibility": null,
            "width": null
          }
        },
        "0998cb3f62fa4f11b2027905727c7df4": {
          "model_module": "@jupyter-widgets/controls",
          "model_name": "ProgressStyleModel",
          "model_module_version": "2.0.0",
          "state": {
            "_model_module": "@jupyter-widgets/controls",
            "_model_module_version": "2.0.0",
            "_model_name": "ProgressStyleModel",
            "_view_count": null,
            "_view_module": "@jupyter-widgets/base",
            "_view_module_version": "2.0.0",
            "_view_name": "StyleView",
            "bar_color": null,
            "description_width": ""
          }
        },
        "57fc2c112b964d8b9f49a9967093051e": {
          "model_module": "@jupyter-widgets/controls",
          "model_name": "VBoxModel",
          "model_module_version": "2.0.0",
          "state": {
            "_dom_classes": [],
            "_model_module": "@jupyter-widgets/controls",
            "_model_module_version": "2.0.0",
            "_model_name": "VBoxModel",
            "_view_count": null,
            "_view_module": "@jupyter-widgets/controls",
            "_view_module_version": "2.0.0",
            "_view_name": "VBoxView",
            "box_style": "",
            "children": [
              "IPY_MODEL_d5a70322ea3845d3b6c1e19b607db069",
              "IPY_MODEL_c370083cb33746e3a49ed11cae706f7a"
            ],
            "layout": "IPY_MODEL_e39abe4a14644f1d99b4a639c973dd4b",
            "tabbable": null,
            "tooltip": null
          }
        },
        "d5a70322ea3845d3b6c1e19b607db069": {
          "model_module": "@jupyter-widgets/controls",
          "model_name": "LabelModel",
          "model_module_version": "2.0.0",
          "state": {
            "_dom_classes": [],
            "_model_module": "@jupyter-widgets/controls",
            "_model_module_version": "2.0.0",
            "_model_name": "LabelModel",
            "_view_count": null,
            "_view_module": "@jupyter-widgets/controls",
            "_view_module_version": "2.0.0",
            "_view_name": "LabelView",
            "description": "",
            "description_allow_html": false,
            "layout": "IPY_MODEL_de438c042e12421db68663c9924dd88c",
            "placeholder": "​",
            "style": "IPY_MODEL_c5d2612c07d44d0cab0f5613365f1f26",
            "tabbable": null,
            "tooltip": null,
            "value": "0.292 MB of 0.292 MB uploaded (0.000 MB deduped)\r"
          }
        },
        "c370083cb33746e3a49ed11cae706f7a": {
          "model_module": "@jupyter-widgets/controls",
          "model_name": "FloatProgressModel",
          "model_module_version": "2.0.0",
          "state": {
            "_dom_classes": [],
            "_model_module": "@jupyter-widgets/controls",
            "_model_module_version": "2.0.0",
            "_model_name": "FloatProgressModel",
            "_view_count": null,
            "_view_module": "@jupyter-widgets/controls",
            "_view_module_version": "2.0.0",
            "_view_name": "ProgressView",
            "bar_style": "",
            "description": "",
            "description_allow_html": false,
            "layout": "IPY_MODEL_d445563e1ffb47d886d6499a639bf283",
            "max": 1,
            "min": 0,
            "orientation": "horizontal",
            "style": "IPY_MODEL_7c91ac628ec54298bc6c2171ef67bf67",
            "tabbable": null,
            "tooltip": null,
            "value": 1
          }
        },
        "e39abe4a14644f1d99b4a639c973dd4b": {
          "model_module": "@jupyter-widgets/base",
          "model_name": "LayoutModel",
          "model_module_version": "2.0.0",
          "state": {
            "_model_module": "@jupyter-widgets/base",
            "_model_module_version": "2.0.0",
            "_model_name": "LayoutModel",
            "_view_count": null,
            "_view_module": "@jupyter-widgets/base",
            "_view_module_version": "2.0.0",
            "_view_name": "LayoutView",
            "align_content": null,
            "align_items": null,
            "align_self": null,
            "border_bottom": null,
            "border_left": null,
            "border_right": null,
            "border_top": null,
            "bottom": null,
            "display": null,
            "flex": null,
            "flex_flow": null,
            "grid_area": null,
            "grid_auto_columns": null,
            "grid_auto_flow": null,
            "grid_auto_rows": null,
            "grid_column": null,
            "grid_gap": null,
            "grid_row": null,
            "grid_template_areas": null,
            "grid_template_columns": null,
            "grid_template_rows": null,
            "height": null,
            "justify_content": null,
            "justify_items": null,
            "left": null,
            "margin": null,
            "max_height": null,
            "max_width": null,
            "min_height": null,
            "min_width": null,
            "object_fit": null,
            "object_position": null,
            "order": null,
            "overflow": null,
            "padding": null,
            "right": null,
            "top": null,
            "visibility": null,
            "width": null
          }
        },
        "de438c042e12421db68663c9924dd88c": {
          "model_module": "@jupyter-widgets/base",
          "model_name": "LayoutModel",
          "model_module_version": "2.0.0",
          "state": {
            "_model_module": "@jupyter-widgets/base",
            "_model_module_version": "2.0.0",
            "_model_name": "LayoutModel",
            "_view_count": null,
            "_view_module": "@jupyter-widgets/base",
            "_view_module_version": "2.0.0",
            "_view_name": "LayoutView",
            "align_content": null,
            "align_items": null,
            "align_self": null,
            "border_bottom": null,
            "border_left": null,
            "border_right": null,
            "border_top": null,
            "bottom": null,
            "display": null,
            "flex": null,
            "flex_flow": null,
            "grid_area": null,
            "grid_auto_columns": null,
            "grid_auto_flow": null,
            "grid_auto_rows": null,
            "grid_column": null,
            "grid_gap": null,
            "grid_row": null,
            "grid_template_areas": null,
            "grid_template_columns": null,
            "grid_template_rows": null,
            "height": null,
            "justify_content": null,
            "justify_items": null,
            "left": null,
            "margin": null,
            "max_height": null,
            "max_width": null,
            "min_height": null,
            "min_width": null,
            "object_fit": null,
            "object_position": null,
            "order": null,
            "overflow": null,
            "padding": null,
            "right": null,
            "top": null,
            "visibility": null,
            "width": null
          }
        },
        "c5d2612c07d44d0cab0f5613365f1f26": {
          "model_module": "@jupyter-widgets/controls",
          "model_name": "LabelStyleModel",
          "model_module_version": "2.0.0",
          "state": {
            "_model_module": "@jupyter-widgets/controls",
            "_model_module_version": "2.0.0",
            "_model_name": "LabelStyleModel",
            "_view_count": null,
            "_view_module": "@jupyter-widgets/base",
            "_view_module_version": "2.0.0",
            "_view_name": "StyleView",
            "background": null,
            "description_width": "",
            "font_family": null,
            "font_size": null,
            "font_style": null,
            "font_variant": null,
            "font_weight": null,
            "text_color": null,
            "text_decoration": null
          }
        },
        "d445563e1ffb47d886d6499a639bf283": {
          "model_module": "@jupyter-widgets/base",
          "model_name": "LayoutModel",
          "model_module_version": "2.0.0",
          "state": {
            "_model_module": "@jupyter-widgets/base",
            "_model_module_version": "2.0.0",
            "_model_name": "LayoutModel",
            "_view_count": null,
            "_view_module": "@jupyter-widgets/base",
            "_view_module_version": "2.0.0",
            "_view_name": "LayoutView",
            "align_content": null,
            "align_items": null,
            "align_self": null,
            "border_bottom": null,
            "border_left": null,
            "border_right": null,
            "border_top": null,
            "bottom": null,
            "display": null,
            "flex": null,
            "flex_flow": null,
            "grid_area": null,
            "grid_auto_columns": null,
            "grid_auto_flow": null,
            "grid_auto_rows": null,
            "grid_column": null,
            "grid_gap": null,
            "grid_row": null,
            "grid_template_areas": null,
            "grid_template_columns": null,
            "grid_template_rows": null,
            "height": null,
            "justify_content": null,
            "justify_items": null,
            "left": null,
            "margin": null,
            "max_height": null,
            "max_width": null,
            "min_height": null,
            "min_width": null,
            "object_fit": null,
            "object_position": null,
            "order": null,
            "overflow": null,
            "padding": null,
            "right": null,
            "top": null,
            "visibility": null,
            "width": null
          }
        },
        "7c91ac628ec54298bc6c2171ef67bf67": {
          "model_module": "@jupyter-widgets/controls",
          "model_name": "ProgressStyleModel",
          "model_module_version": "2.0.0",
          "state": {
            "_model_module": "@jupyter-widgets/controls",
            "_model_module_version": "2.0.0",
            "_model_name": "ProgressStyleModel",
            "_view_count": null,
            "_view_module": "@jupyter-widgets/base",
            "_view_module_version": "2.0.0",
            "_view_name": "StyleView",
            "bar_color": null,
            "description_width": ""
          }
        },
        "659d6a8ce69d4616be67b1d9cb341383": {
          "model_module": "@jupyter-widgets/controls",
          "model_name": "VBoxModel",
          "model_module_version": "2.0.0",
          "state": {
            "_dom_classes": [],
            "_model_module": "@jupyter-widgets/controls",
            "_model_module_version": "2.0.0",
            "_model_name": "VBoxModel",
            "_view_count": null,
            "_view_module": "@jupyter-widgets/controls",
            "_view_module_version": "2.0.0",
            "_view_name": "VBoxView",
            "box_style": "",
            "children": [
              "IPY_MODEL_01b2114b4b1243b0b27ab1be08982d98",
              "IPY_MODEL_879f10ab1ea4415d901d0c69292aed1a"
            ],
            "layout": "IPY_MODEL_8c61043d88e94adfa65bb704c9139314",
            "tabbable": null,
            "tooltip": null
          }
        },
        "01b2114b4b1243b0b27ab1be08982d98": {
          "model_module": "@jupyter-widgets/controls",
          "model_name": "LabelModel",
          "model_module_version": "2.0.0",
          "state": {
            "_dom_classes": [],
            "_model_module": "@jupyter-widgets/controls",
            "_model_module_version": "2.0.0",
            "_model_name": "LabelModel",
            "_view_count": null,
            "_view_module": "@jupyter-widgets/controls",
            "_view_module_version": "2.0.0",
            "_view_name": "LabelView",
            "description": "",
            "description_allow_html": false,
            "layout": "IPY_MODEL_2425d16ead2c4621bee4f19d81f2a2da",
            "placeholder": "​",
            "style": "IPY_MODEL_010d3369bfa04d0fa7c3f79f18e122f8",
            "tabbable": null,
            "tooltip": null,
            "value": "0.412 MB of 0.412 MB uploaded (0.000 MB deduped)\r"
          }
        },
        "879f10ab1ea4415d901d0c69292aed1a": {
          "model_module": "@jupyter-widgets/controls",
          "model_name": "FloatProgressModel",
          "model_module_version": "2.0.0",
          "state": {
            "_dom_classes": [],
            "_model_module": "@jupyter-widgets/controls",
            "_model_module_version": "2.0.0",
            "_model_name": "FloatProgressModel",
            "_view_count": null,
            "_view_module": "@jupyter-widgets/controls",
            "_view_module_version": "2.0.0",
            "_view_name": "ProgressView",
            "bar_style": "",
            "description": "",
            "description_allow_html": false,
            "layout": "IPY_MODEL_bcb347eb0cca436391f8ef90ba8de146",
            "max": 1,
            "min": 0,
            "orientation": "horizontal",
            "style": "IPY_MODEL_b46231f69f7c48e187d7cba5e803b364",
            "tabbable": null,
            "tooltip": null,
            "value": 1
          }
        },
        "8c61043d88e94adfa65bb704c9139314": {
          "model_module": "@jupyter-widgets/base",
          "model_name": "LayoutModel",
          "model_module_version": "2.0.0",
          "state": {
            "_model_module": "@jupyter-widgets/base",
            "_model_module_version": "2.0.0",
            "_model_name": "LayoutModel",
            "_view_count": null,
            "_view_module": "@jupyter-widgets/base",
            "_view_module_version": "2.0.0",
            "_view_name": "LayoutView",
            "align_content": null,
            "align_items": null,
            "align_self": null,
            "border_bottom": null,
            "border_left": null,
            "border_right": null,
            "border_top": null,
            "bottom": null,
            "display": null,
            "flex": null,
            "flex_flow": null,
            "grid_area": null,
            "grid_auto_columns": null,
            "grid_auto_flow": null,
            "grid_auto_rows": null,
            "grid_column": null,
            "grid_gap": null,
            "grid_row": null,
            "grid_template_areas": null,
            "grid_template_columns": null,
            "grid_template_rows": null,
            "height": null,
            "justify_content": null,
            "justify_items": null,
            "left": null,
            "margin": null,
            "max_height": null,
            "max_width": null,
            "min_height": null,
            "min_width": null,
            "object_fit": null,
            "object_position": null,
            "order": null,
            "overflow": null,
            "padding": null,
            "right": null,
            "top": null,
            "visibility": null,
            "width": null
          }
        },
        "2425d16ead2c4621bee4f19d81f2a2da": {
          "model_module": "@jupyter-widgets/base",
          "model_name": "LayoutModel",
          "model_module_version": "2.0.0",
          "state": {
            "_model_module": "@jupyter-widgets/base",
            "_model_module_version": "2.0.0",
            "_model_name": "LayoutModel",
            "_view_count": null,
            "_view_module": "@jupyter-widgets/base",
            "_view_module_version": "2.0.0",
            "_view_name": "LayoutView",
            "align_content": null,
            "align_items": null,
            "align_self": null,
            "border_bottom": null,
            "border_left": null,
            "border_right": null,
            "border_top": null,
            "bottom": null,
            "display": null,
            "flex": null,
            "flex_flow": null,
            "grid_area": null,
            "grid_auto_columns": null,
            "grid_auto_flow": null,
            "grid_auto_rows": null,
            "grid_column": null,
            "grid_gap": null,
            "grid_row": null,
            "grid_template_areas": null,
            "grid_template_columns": null,
            "grid_template_rows": null,
            "height": null,
            "justify_content": null,
            "justify_items": null,
            "left": null,
            "margin": null,
            "max_height": null,
            "max_width": null,
            "min_height": null,
            "min_width": null,
            "object_fit": null,
            "object_position": null,
            "order": null,
            "overflow": null,
            "padding": null,
            "right": null,
            "top": null,
            "visibility": null,
            "width": null
          }
        },
        "010d3369bfa04d0fa7c3f79f18e122f8": {
          "model_module": "@jupyter-widgets/controls",
          "model_name": "LabelStyleModel",
          "model_module_version": "2.0.0",
          "state": {
            "_model_module": "@jupyter-widgets/controls",
            "_model_module_version": "2.0.0",
            "_model_name": "LabelStyleModel",
            "_view_count": null,
            "_view_module": "@jupyter-widgets/base",
            "_view_module_version": "2.0.0",
            "_view_name": "StyleView",
            "background": null,
            "description_width": "",
            "font_family": null,
            "font_size": null,
            "font_style": null,
            "font_variant": null,
            "font_weight": null,
            "text_color": null,
            "text_decoration": null
          }
        },
        "bcb347eb0cca436391f8ef90ba8de146": {
          "model_module": "@jupyter-widgets/base",
          "model_name": "LayoutModel",
          "model_module_version": "2.0.0",
          "state": {
            "_model_module": "@jupyter-widgets/base",
            "_model_module_version": "2.0.0",
            "_model_name": "LayoutModel",
            "_view_count": null,
            "_view_module": "@jupyter-widgets/base",
            "_view_module_version": "2.0.0",
            "_view_name": "LayoutView",
            "align_content": null,
            "align_items": null,
            "align_self": null,
            "border_bottom": null,
            "border_left": null,
            "border_right": null,
            "border_top": null,
            "bottom": null,
            "display": null,
            "flex": null,
            "flex_flow": null,
            "grid_area": null,
            "grid_auto_columns": null,
            "grid_auto_flow": null,
            "grid_auto_rows": null,
            "grid_column": null,
            "grid_gap": null,
            "grid_row": null,
            "grid_template_areas": null,
            "grid_template_columns": null,
            "grid_template_rows": null,
            "height": null,
            "justify_content": null,
            "justify_items": null,
            "left": null,
            "margin": null,
            "max_height": null,
            "max_width": null,
            "min_height": null,
            "min_width": null,
            "object_fit": null,
            "object_position": null,
            "order": null,
            "overflow": null,
            "padding": null,
            "right": null,
            "top": null,
            "visibility": null,
            "width": null
          }
        },
        "b46231f69f7c48e187d7cba5e803b364": {
          "model_module": "@jupyter-widgets/controls",
          "model_name": "ProgressStyleModel",
          "model_module_version": "2.0.0",
          "state": {
            "_model_module": "@jupyter-widgets/controls",
            "_model_module_version": "2.0.0",
            "_model_name": "ProgressStyleModel",
            "_view_count": null,
            "_view_module": "@jupyter-widgets/base",
            "_view_module_version": "2.0.0",
            "_view_name": "StyleView",
            "bar_color": null,
            "description_width": ""
          }
        },
        "583623359cff4c58a04158f4eae8a157": {
          "model_module": "@jupyter-widgets/controls",
          "model_name": "VBoxModel",
          "model_module_version": "2.0.0",
          "state": {
            "_dom_classes": [],
            "_model_module": "@jupyter-widgets/controls",
            "_model_module_version": "2.0.0",
            "_model_name": "VBoxModel",
            "_view_count": null,
            "_view_module": "@jupyter-widgets/controls",
            "_view_module_version": "2.0.0",
            "_view_name": "VBoxView",
            "box_style": "",
            "children": [
              "IPY_MODEL_6f9a9bd917b848fcb8343a4747b797cf",
              "IPY_MODEL_104e7345737045fba24b4bf83b36a15c"
            ],
            "layout": "IPY_MODEL_3289b190403b437d90b790abf0a7a3d8",
            "tabbable": null,
            "tooltip": null
          }
        },
        "6f9a9bd917b848fcb8343a4747b797cf": {
          "model_module": "@jupyter-widgets/controls",
          "model_name": "LabelModel",
          "model_module_version": "2.0.0",
          "state": {
            "_dom_classes": [],
            "_model_module": "@jupyter-widgets/controls",
            "_model_module_version": "2.0.0",
            "_model_name": "LabelModel",
            "_view_count": null,
            "_view_module": "@jupyter-widgets/controls",
            "_view_module_version": "2.0.0",
            "_view_name": "LabelView",
            "description": "",
            "description_allow_html": false,
            "layout": "IPY_MODEL_1deb38ea9bc142e8a9cd05d36bf9df90",
            "placeholder": "​",
            "style": "IPY_MODEL_6f8615628e2447cd9cf0a9f4aeea9924",
            "tabbable": null,
            "tooltip": null,
            "value": "0.282 MB of 0.282 MB uploaded (0.000 MB deduped)\r"
          }
        },
        "104e7345737045fba24b4bf83b36a15c": {
          "model_module": "@jupyter-widgets/controls",
          "model_name": "FloatProgressModel",
          "model_module_version": "2.0.0",
          "state": {
            "_dom_classes": [],
            "_model_module": "@jupyter-widgets/controls",
            "_model_module_version": "2.0.0",
            "_model_name": "FloatProgressModel",
            "_view_count": null,
            "_view_module": "@jupyter-widgets/controls",
            "_view_module_version": "2.0.0",
            "_view_name": "ProgressView",
            "bar_style": "",
            "description": "",
            "description_allow_html": false,
            "layout": "IPY_MODEL_f2ef145f5db1486d8da1e2fd72b7461a",
            "max": 1,
            "min": 0,
            "orientation": "horizontal",
            "style": "IPY_MODEL_ee11ae23971f4cc28bc4551e162deaf8",
            "tabbable": null,
            "tooltip": null,
            "value": 1
          }
        },
        "3289b190403b437d90b790abf0a7a3d8": {
          "model_module": "@jupyter-widgets/base",
          "model_name": "LayoutModel",
          "model_module_version": "2.0.0",
          "state": {
            "_model_module": "@jupyter-widgets/base",
            "_model_module_version": "2.0.0",
            "_model_name": "LayoutModel",
            "_view_count": null,
            "_view_module": "@jupyter-widgets/base",
            "_view_module_version": "2.0.0",
            "_view_name": "LayoutView",
            "align_content": null,
            "align_items": null,
            "align_self": null,
            "border_bottom": null,
            "border_left": null,
            "border_right": null,
            "border_top": null,
            "bottom": null,
            "display": null,
            "flex": null,
            "flex_flow": null,
            "grid_area": null,
            "grid_auto_columns": null,
            "grid_auto_flow": null,
            "grid_auto_rows": null,
            "grid_column": null,
            "grid_gap": null,
            "grid_row": null,
            "grid_template_areas": null,
            "grid_template_columns": null,
            "grid_template_rows": null,
            "height": null,
            "justify_content": null,
            "justify_items": null,
            "left": null,
            "margin": null,
            "max_height": null,
            "max_width": null,
            "min_height": null,
            "min_width": null,
            "object_fit": null,
            "object_position": null,
            "order": null,
            "overflow": null,
            "padding": null,
            "right": null,
            "top": null,
            "visibility": null,
            "width": null
          }
        },
        "1deb38ea9bc142e8a9cd05d36bf9df90": {
          "model_module": "@jupyter-widgets/base",
          "model_name": "LayoutModel",
          "model_module_version": "2.0.0",
          "state": {
            "_model_module": "@jupyter-widgets/base",
            "_model_module_version": "2.0.0",
            "_model_name": "LayoutModel",
            "_view_count": null,
            "_view_module": "@jupyter-widgets/base",
            "_view_module_version": "2.0.0",
            "_view_name": "LayoutView",
            "align_content": null,
            "align_items": null,
            "align_self": null,
            "border_bottom": null,
            "border_left": null,
            "border_right": null,
            "border_top": null,
            "bottom": null,
            "display": null,
            "flex": null,
            "flex_flow": null,
            "grid_area": null,
            "grid_auto_columns": null,
            "grid_auto_flow": null,
            "grid_auto_rows": null,
            "grid_column": null,
            "grid_gap": null,
            "grid_row": null,
            "grid_template_areas": null,
            "grid_template_columns": null,
            "grid_template_rows": null,
            "height": null,
            "justify_content": null,
            "justify_items": null,
            "left": null,
            "margin": null,
            "max_height": null,
            "max_width": null,
            "min_height": null,
            "min_width": null,
            "object_fit": null,
            "object_position": null,
            "order": null,
            "overflow": null,
            "padding": null,
            "right": null,
            "top": null,
            "visibility": null,
            "width": null
          }
        },
        "6f8615628e2447cd9cf0a9f4aeea9924": {
          "model_module": "@jupyter-widgets/controls",
          "model_name": "LabelStyleModel",
          "model_module_version": "2.0.0",
          "state": {
            "_model_module": "@jupyter-widgets/controls",
            "_model_module_version": "2.0.0",
            "_model_name": "LabelStyleModel",
            "_view_count": null,
            "_view_module": "@jupyter-widgets/base",
            "_view_module_version": "2.0.0",
            "_view_name": "StyleView",
            "background": null,
            "description_width": "",
            "font_family": null,
            "font_size": null,
            "font_style": null,
            "font_variant": null,
            "font_weight": null,
            "text_color": null,
            "text_decoration": null
          }
        },
        "f2ef145f5db1486d8da1e2fd72b7461a": {
          "model_module": "@jupyter-widgets/base",
          "model_name": "LayoutModel",
          "model_module_version": "2.0.0",
          "state": {
            "_model_module": "@jupyter-widgets/base",
            "_model_module_version": "2.0.0",
            "_model_name": "LayoutModel",
            "_view_count": null,
            "_view_module": "@jupyter-widgets/base",
            "_view_module_version": "2.0.0",
            "_view_name": "LayoutView",
            "align_content": null,
            "align_items": null,
            "align_self": null,
            "border_bottom": null,
            "border_left": null,
            "border_right": null,
            "border_top": null,
            "bottom": null,
            "display": null,
            "flex": null,
            "flex_flow": null,
            "grid_area": null,
            "grid_auto_columns": null,
            "grid_auto_flow": null,
            "grid_auto_rows": null,
            "grid_column": null,
            "grid_gap": null,
            "grid_row": null,
            "grid_template_areas": null,
            "grid_template_columns": null,
            "grid_template_rows": null,
            "height": null,
            "justify_content": null,
            "justify_items": null,
            "left": null,
            "margin": null,
            "max_height": null,
            "max_width": null,
            "min_height": null,
            "min_width": null,
            "object_fit": null,
            "object_position": null,
            "order": null,
            "overflow": null,
            "padding": null,
            "right": null,
            "top": null,
            "visibility": null,
            "width": null
          }
        },
        "ee11ae23971f4cc28bc4551e162deaf8": {
          "model_module": "@jupyter-widgets/controls",
          "model_name": "ProgressStyleModel",
          "model_module_version": "2.0.0",
          "state": {
            "_model_module": "@jupyter-widgets/controls",
            "_model_module_version": "2.0.0",
            "_model_name": "ProgressStyleModel",
            "_view_count": null,
            "_view_module": "@jupyter-widgets/base",
            "_view_module_version": "2.0.0",
            "_view_name": "StyleView",
            "bar_color": null,
            "description_width": ""
          }
        },
        "54adad7f57804368b38ed2e512cb56e7": {
          "model_module": "@jupyter-widgets/controls",
          "model_name": "VBoxModel",
          "model_module_version": "2.0.0",
          "state": {
            "_dom_classes": [],
            "_model_module": "@jupyter-widgets/controls",
            "_model_module_version": "2.0.0",
            "_model_name": "VBoxModel",
            "_view_count": null,
            "_view_module": "@jupyter-widgets/controls",
            "_view_module_version": "2.0.0",
            "_view_name": "VBoxView",
            "box_style": "",
            "children": [
              "IPY_MODEL_f48822c3478c4271a1ca33f1bc7bed9d",
              "IPY_MODEL_94ede60133ad4407852ead534c469598"
            ],
            "layout": "IPY_MODEL_0b8f74b4792d4673b957c1d61bee06a5",
            "tabbable": null,
            "tooltip": null
          }
        },
        "f48822c3478c4271a1ca33f1bc7bed9d": {
          "model_module": "@jupyter-widgets/controls",
          "model_name": "LabelModel",
          "model_module_version": "2.0.0",
          "state": {
            "_dom_classes": [],
            "_model_module": "@jupyter-widgets/controls",
            "_model_module_version": "2.0.0",
            "_model_name": "LabelModel",
            "_view_count": null,
            "_view_module": "@jupyter-widgets/controls",
            "_view_module_version": "2.0.0",
            "_view_name": "LabelView",
            "description": "",
            "description_allow_html": false,
            "layout": "IPY_MODEL_c5bb6182588e4ce396f1bee33c011e75",
            "placeholder": "​",
            "style": "IPY_MODEL_854153d8e4c54e7ca0eed63386a3f1ed",
            "tabbable": null,
            "tooltip": null,
            "value": "0.340 MB of 0.340 MB uploaded (0.000 MB deduped)\r"
          }
        },
        "94ede60133ad4407852ead534c469598": {
          "model_module": "@jupyter-widgets/controls",
          "model_name": "FloatProgressModel",
          "model_module_version": "2.0.0",
          "state": {
            "_dom_classes": [],
            "_model_module": "@jupyter-widgets/controls",
            "_model_module_version": "2.0.0",
            "_model_name": "FloatProgressModel",
            "_view_count": null,
            "_view_module": "@jupyter-widgets/controls",
            "_view_module_version": "2.0.0",
            "_view_name": "ProgressView",
            "bar_style": "",
            "description": "",
            "description_allow_html": false,
            "layout": "IPY_MODEL_703f7bc285b4473082b526fff0abd2f9",
            "max": 1,
            "min": 0,
            "orientation": "horizontal",
            "style": "IPY_MODEL_7b6c214f35134a72bc7d164a28850032",
            "tabbable": null,
            "tooltip": null,
            "value": 1
          }
        },
        "0b8f74b4792d4673b957c1d61bee06a5": {
          "model_module": "@jupyter-widgets/base",
          "model_name": "LayoutModel",
          "model_module_version": "2.0.0",
          "state": {
            "_model_module": "@jupyter-widgets/base",
            "_model_module_version": "2.0.0",
            "_model_name": "LayoutModel",
            "_view_count": null,
            "_view_module": "@jupyter-widgets/base",
            "_view_module_version": "2.0.0",
            "_view_name": "LayoutView",
            "align_content": null,
            "align_items": null,
            "align_self": null,
            "border_bottom": null,
            "border_left": null,
            "border_right": null,
            "border_top": null,
            "bottom": null,
            "display": null,
            "flex": null,
            "flex_flow": null,
            "grid_area": null,
            "grid_auto_columns": null,
            "grid_auto_flow": null,
            "grid_auto_rows": null,
            "grid_column": null,
            "grid_gap": null,
            "grid_row": null,
            "grid_template_areas": null,
            "grid_template_columns": null,
            "grid_template_rows": null,
            "height": null,
            "justify_content": null,
            "justify_items": null,
            "left": null,
            "margin": null,
            "max_height": null,
            "max_width": null,
            "min_height": null,
            "min_width": null,
            "object_fit": null,
            "object_position": null,
            "order": null,
            "overflow": null,
            "padding": null,
            "right": null,
            "top": null,
            "visibility": null,
            "width": null
          }
        },
        "c5bb6182588e4ce396f1bee33c011e75": {
          "model_module": "@jupyter-widgets/base",
          "model_name": "LayoutModel",
          "model_module_version": "2.0.0",
          "state": {
            "_model_module": "@jupyter-widgets/base",
            "_model_module_version": "2.0.0",
            "_model_name": "LayoutModel",
            "_view_count": null,
            "_view_module": "@jupyter-widgets/base",
            "_view_module_version": "2.0.0",
            "_view_name": "LayoutView",
            "align_content": null,
            "align_items": null,
            "align_self": null,
            "border_bottom": null,
            "border_left": null,
            "border_right": null,
            "border_top": null,
            "bottom": null,
            "display": null,
            "flex": null,
            "flex_flow": null,
            "grid_area": null,
            "grid_auto_columns": null,
            "grid_auto_flow": null,
            "grid_auto_rows": null,
            "grid_column": null,
            "grid_gap": null,
            "grid_row": null,
            "grid_template_areas": null,
            "grid_template_columns": null,
            "grid_template_rows": null,
            "height": null,
            "justify_content": null,
            "justify_items": null,
            "left": null,
            "margin": null,
            "max_height": null,
            "max_width": null,
            "min_height": null,
            "min_width": null,
            "object_fit": null,
            "object_position": null,
            "order": null,
            "overflow": null,
            "padding": null,
            "right": null,
            "top": null,
            "visibility": null,
            "width": null
          }
        },
        "854153d8e4c54e7ca0eed63386a3f1ed": {
          "model_module": "@jupyter-widgets/controls",
          "model_name": "LabelStyleModel",
          "model_module_version": "2.0.0",
          "state": {
            "_model_module": "@jupyter-widgets/controls",
            "_model_module_version": "2.0.0",
            "_model_name": "LabelStyleModel",
            "_view_count": null,
            "_view_module": "@jupyter-widgets/base",
            "_view_module_version": "2.0.0",
            "_view_name": "StyleView",
            "background": null,
            "description_width": "",
            "font_family": null,
            "font_size": null,
            "font_style": null,
            "font_variant": null,
            "font_weight": null,
            "text_color": null,
            "text_decoration": null
          }
        },
        "703f7bc285b4473082b526fff0abd2f9": {
          "model_module": "@jupyter-widgets/base",
          "model_name": "LayoutModel",
          "model_module_version": "2.0.0",
          "state": {
            "_model_module": "@jupyter-widgets/base",
            "_model_module_version": "2.0.0",
            "_model_name": "LayoutModel",
            "_view_count": null,
            "_view_module": "@jupyter-widgets/base",
            "_view_module_version": "2.0.0",
            "_view_name": "LayoutView",
            "align_content": null,
            "align_items": null,
            "align_self": null,
            "border_bottom": null,
            "border_left": null,
            "border_right": null,
            "border_top": null,
            "bottom": null,
            "display": null,
            "flex": null,
            "flex_flow": null,
            "grid_area": null,
            "grid_auto_columns": null,
            "grid_auto_flow": null,
            "grid_auto_rows": null,
            "grid_column": null,
            "grid_gap": null,
            "grid_row": null,
            "grid_template_areas": null,
            "grid_template_columns": null,
            "grid_template_rows": null,
            "height": null,
            "justify_content": null,
            "justify_items": null,
            "left": null,
            "margin": null,
            "max_height": null,
            "max_width": null,
            "min_height": null,
            "min_width": null,
            "object_fit": null,
            "object_position": null,
            "order": null,
            "overflow": null,
            "padding": null,
            "right": null,
            "top": null,
            "visibility": null,
            "width": null
          }
        },
        "7b6c214f35134a72bc7d164a28850032": {
          "model_module": "@jupyter-widgets/controls",
          "model_name": "ProgressStyleModel",
          "model_module_version": "2.0.0",
          "state": {
            "_model_module": "@jupyter-widgets/controls",
            "_model_module_version": "2.0.0",
            "_model_name": "ProgressStyleModel",
            "_view_count": null,
            "_view_module": "@jupyter-widgets/base",
            "_view_module_version": "2.0.0",
            "_view_name": "StyleView",
            "bar_color": null,
            "description_width": ""
          }
        },
        "4f623027d4764890bc7f535628958ec2": {
          "model_module": "@jupyter-widgets/controls",
          "model_name": "VBoxModel",
          "model_module_version": "2.0.0",
          "state": {
            "_dom_classes": [],
            "_model_module": "@jupyter-widgets/controls",
            "_model_module_version": "2.0.0",
            "_model_name": "VBoxModel",
            "_view_count": null,
            "_view_module": "@jupyter-widgets/controls",
            "_view_module_version": "2.0.0",
            "_view_name": "VBoxView",
            "box_style": "",
            "children": [
              "IPY_MODEL_c30e0dca3d2a40599b92b9daddad361b",
              "IPY_MODEL_32ab60ab0d4541f1b44c3725a5e847b8"
            ],
            "layout": "IPY_MODEL_b8a007ff50d148d0977944bcf3433d35",
            "tabbable": null,
            "tooltip": null
          }
        },
        "c30e0dca3d2a40599b92b9daddad361b": {
          "model_module": "@jupyter-widgets/controls",
          "model_name": "LabelModel",
          "model_module_version": "2.0.0",
          "state": {
            "_dom_classes": [],
            "_model_module": "@jupyter-widgets/controls",
            "_model_module_version": "2.0.0",
            "_model_name": "LabelModel",
            "_view_count": null,
            "_view_module": "@jupyter-widgets/controls",
            "_view_module_version": "2.0.0",
            "_view_name": "LabelView",
            "description": "",
            "description_allow_html": false,
            "layout": "IPY_MODEL_f2e96ebfc95b44dcaa245c1250512534",
            "placeholder": "​",
            "style": "IPY_MODEL_13336750ca3c4b1ba87d75156ce8bd02",
            "tabbable": null,
            "tooltip": null,
            "value": "0.441 MB of 0.441 MB uploaded (0.000 MB deduped)\r"
          }
        },
        "32ab60ab0d4541f1b44c3725a5e847b8": {
          "model_module": "@jupyter-widgets/controls",
          "model_name": "FloatProgressModel",
          "model_module_version": "2.0.0",
          "state": {
            "_dom_classes": [],
            "_model_module": "@jupyter-widgets/controls",
            "_model_module_version": "2.0.0",
            "_model_name": "FloatProgressModel",
            "_view_count": null,
            "_view_module": "@jupyter-widgets/controls",
            "_view_module_version": "2.0.0",
            "_view_name": "ProgressView",
            "bar_style": "",
            "description": "",
            "description_allow_html": false,
            "layout": "IPY_MODEL_061d58a7e03a4437a912ff96637fc922",
            "max": 1,
            "min": 0,
            "orientation": "horizontal",
            "style": "IPY_MODEL_4bae8db33db04181bffe857b2ebf9e29",
            "tabbable": null,
            "tooltip": null,
            "value": 1
          }
        },
        "b8a007ff50d148d0977944bcf3433d35": {
          "model_module": "@jupyter-widgets/base",
          "model_name": "LayoutModel",
          "model_module_version": "2.0.0",
          "state": {
            "_model_module": "@jupyter-widgets/base",
            "_model_module_version": "2.0.0",
            "_model_name": "LayoutModel",
            "_view_count": null,
            "_view_module": "@jupyter-widgets/base",
            "_view_module_version": "2.0.0",
            "_view_name": "LayoutView",
            "align_content": null,
            "align_items": null,
            "align_self": null,
            "border_bottom": null,
            "border_left": null,
            "border_right": null,
            "border_top": null,
            "bottom": null,
            "display": null,
            "flex": null,
            "flex_flow": null,
            "grid_area": null,
            "grid_auto_columns": null,
            "grid_auto_flow": null,
            "grid_auto_rows": null,
            "grid_column": null,
            "grid_gap": null,
            "grid_row": null,
            "grid_template_areas": null,
            "grid_template_columns": null,
            "grid_template_rows": null,
            "height": null,
            "justify_content": null,
            "justify_items": null,
            "left": null,
            "margin": null,
            "max_height": null,
            "max_width": null,
            "min_height": null,
            "min_width": null,
            "object_fit": null,
            "object_position": null,
            "order": null,
            "overflow": null,
            "padding": null,
            "right": null,
            "top": null,
            "visibility": null,
            "width": null
          }
        },
        "f2e96ebfc95b44dcaa245c1250512534": {
          "model_module": "@jupyter-widgets/base",
          "model_name": "LayoutModel",
          "model_module_version": "2.0.0",
          "state": {
            "_model_module": "@jupyter-widgets/base",
            "_model_module_version": "2.0.0",
            "_model_name": "LayoutModel",
            "_view_count": null,
            "_view_module": "@jupyter-widgets/base",
            "_view_module_version": "2.0.0",
            "_view_name": "LayoutView",
            "align_content": null,
            "align_items": null,
            "align_self": null,
            "border_bottom": null,
            "border_left": null,
            "border_right": null,
            "border_top": null,
            "bottom": null,
            "display": null,
            "flex": null,
            "flex_flow": null,
            "grid_area": null,
            "grid_auto_columns": null,
            "grid_auto_flow": null,
            "grid_auto_rows": null,
            "grid_column": null,
            "grid_gap": null,
            "grid_row": null,
            "grid_template_areas": null,
            "grid_template_columns": null,
            "grid_template_rows": null,
            "height": null,
            "justify_content": null,
            "justify_items": null,
            "left": null,
            "margin": null,
            "max_height": null,
            "max_width": null,
            "min_height": null,
            "min_width": null,
            "object_fit": null,
            "object_position": null,
            "order": null,
            "overflow": null,
            "padding": null,
            "right": null,
            "top": null,
            "visibility": null,
            "width": null
          }
        },
        "13336750ca3c4b1ba87d75156ce8bd02": {
          "model_module": "@jupyter-widgets/controls",
          "model_name": "LabelStyleModel",
          "model_module_version": "2.0.0",
          "state": {
            "_model_module": "@jupyter-widgets/controls",
            "_model_module_version": "2.0.0",
            "_model_name": "LabelStyleModel",
            "_view_count": null,
            "_view_module": "@jupyter-widgets/base",
            "_view_module_version": "2.0.0",
            "_view_name": "StyleView",
            "background": null,
            "description_width": "",
            "font_family": null,
            "font_size": null,
            "font_style": null,
            "font_variant": null,
            "font_weight": null,
            "text_color": null,
            "text_decoration": null
          }
        },
        "061d58a7e03a4437a912ff96637fc922": {
          "model_module": "@jupyter-widgets/base",
          "model_name": "LayoutModel",
          "model_module_version": "2.0.0",
          "state": {
            "_model_module": "@jupyter-widgets/base",
            "_model_module_version": "2.0.0",
            "_model_name": "LayoutModel",
            "_view_count": null,
            "_view_module": "@jupyter-widgets/base",
            "_view_module_version": "2.0.0",
            "_view_name": "LayoutView",
            "align_content": null,
            "align_items": null,
            "align_self": null,
            "border_bottom": null,
            "border_left": null,
            "border_right": null,
            "border_top": null,
            "bottom": null,
            "display": null,
            "flex": null,
            "flex_flow": null,
            "grid_area": null,
            "grid_auto_columns": null,
            "grid_auto_flow": null,
            "grid_auto_rows": null,
            "grid_column": null,
            "grid_gap": null,
            "grid_row": null,
            "grid_template_areas": null,
            "grid_template_columns": null,
            "grid_template_rows": null,
            "height": null,
            "justify_content": null,
            "justify_items": null,
            "left": null,
            "margin": null,
            "max_height": null,
            "max_width": null,
            "min_height": null,
            "min_width": null,
            "object_fit": null,
            "object_position": null,
            "order": null,
            "overflow": null,
            "padding": null,
            "right": null,
            "top": null,
            "visibility": null,
            "width": null
          }
        },
        "4bae8db33db04181bffe857b2ebf9e29": {
          "model_module": "@jupyter-widgets/controls",
          "model_name": "ProgressStyleModel",
          "model_module_version": "2.0.0",
          "state": {
            "_model_module": "@jupyter-widgets/controls",
            "_model_module_version": "2.0.0",
            "_model_name": "ProgressStyleModel",
            "_view_count": null,
            "_view_module": "@jupyter-widgets/base",
            "_view_module_version": "2.0.0",
            "_view_name": "StyleView",
            "bar_color": null,
            "description_width": ""
          }
        },
        "ce37c4be135d4aa2b426c35adc5983c7": {
          "model_module": "@jupyter-widgets/controls",
          "model_name": "VBoxModel",
          "model_module_version": "2.0.0",
          "state": {
            "_dom_classes": [],
            "_model_module": "@jupyter-widgets/controls",
            "_model_module_version": "2.0.0",
            "_model_name": "VBoxModel",
            "_view_count": null,
            "_view_module": "@jupyter-widgets/controls",
            "_view_module_version": "2.0.0",
            "_view_name": "VBoxView",
            "box_style": "",
            "children": [
              "IPY_MODEL_8d41c0de72ce4e16a754b4e2516ba6ab",
              "IPY_MODEL_b52f28e7726b4c1db8008edb3a0c4d67"
            ],
            "layout": "IPY_MODEL_5613c82bb3484fdeace0763a81d91f53",
            "tabbable": null,
            "tooltip": null
          }
        },
        "8d41c0de72ce4e16a754b4e2516ba6ab": {
          "model_module": "@jupyter-widgets/controls",
          "model_name": "LabelModel",
          "model_module_version": "2.0.0",
          "state": {
            "_dom_classes": [],
            "_model_module": "@jupyter-widgets/controls",
            "_model_module_version": "2.0.0",
            "_model_name": "LabelModel",
            "_view_count": null,
            "_view_module": "@jupyter-widgets/controls",
            "_view_module_version": "2.0.0",
            "_view_name": "LabelView",
            "description": "",
            "description_allow_html": false,
            "layout": "IPY_MODEL_b2729828f05d44e2ae0e189a12c59c70",
            "placeholder": "​",
            "style": "IPY_MODEL_0f94ab64e8824749b80bab5680717ec4",
            "tabbable": null,
            "tooltip": null,
            "value": "0.318 MB of 0.318 MB uploaded (0.000 MB deduped)\r"
          }
        },
        "b52f28e7726b4c1db8008edb3a0c4d67": {
          "model_module": "@jupyter-widgets/controls",
          "model_name": "FloatProgressModel",
          "model_module_version": "2.0.0",
          "state": {
            "_dom_classes": [],
            "_model_module": "@jupyter-widgets/controls",
            "_model_module_version": "2.0.0",
            "_model_name": "FloatProgressModel",
            "_view_count": null,
            "_view_module": "@jupyter-widgets/controls",
            "_view_module_version": "2.0.0",
            "_view_name": "ProgressView",
            "bar_style": "",
            "description": "",
            "description_allow_html": false,
            "layout": "IPY_MODEL_2881fbee27424068b51f410787ed3651",
            "max": 1,
            "min": 0,
            "orientation": "horizontal",
            "style": "IPY_MODEL_81249102a5f84969adfb37e3d0c22e52",
            "tabbable": null,
            "tooltip": null,
            "value": 1
          }
        },
        "5613c82bb3484fdeace0763a81d91f53": {
          "model_module": "@jupyter-widgets/base",
          "model_name": "LayoutModel",
          "model_module_version": "2.0.0",
          "state": {
            "_model_module": "@jupyter-widgets/base",
            "_model_module_version": "2.0.0",
            "_model_name": "LayoutModel",
            "_view_count": null,
            "_view_module": "@jupyter-widgets/base",
            "_view_module_version": "2.0.0",
            "_view_name": "LayoutView",
            "align_content": null,
            "align_items": null,
            "align_self": null,
            "border_bottom": null,
            "border_left": null,
            "border_right": null,
            "border_top": null,
            "bottom": null,
            "display": null,
            "flex": null,
            "flex_flow": null,
            "grid_area": null,
            "grid_auto_columns": null,
            "grid_auto_flow": null,
            "grid_auto_rows": null,
            "grid_column": null,
            "grid_gap": null,
            "grid_row": null,
            "grid_template_areas": null,
            "grid_template_columns": null,
            "grid_template_rows": null,
            "height": null,
            "justify_content": null,
            "justify_items": null,
            "left": null,
            "margin": null,
            "max_height": null,
            "max_width": null,
            "min_height": null,
            "min_width": null,
            "object_fit": null,
            "object_position": null,
            "order": null,
            "overflow": null,
            "padding": null,
            "right": null,
            "top": null,
            "visibility": null,
            "width": null
          }
        },
        "b2729828f05d44e2ae0e189a12c59c70": {
          "model_module": "@jupyter-widgets/base",
          "model_name": "LayoutModel",
          "model_module_version": "2.0.0",
          "state": {
            "_model_module": "@jupyter-widgets/base",
            "_model_module_version": "2.0.0",
            "_model_name": "LayoutModel",
            "_view_count": null,
            "_view_module": "@jupyter-widgets/base",
            "_view_module_version": "2.0.0",
            "_view_name": "LayoutView",
            "align_content": null,
            "align_items": null,
            "align_self": null,
            "border_bottom": null,
            "border_left": null,
            "border_right": null,
            "border_top": null,
            "bottom": null,
            "display": null,
            "flex": null,
            "flex_flow": null,
            "grid_area": null,
            "grid_auto_columns": null,
            "grid_auto_flow": null,
            "grid_auto_rows": null,
            "grid_column": null,
            "grid_gap": null,
            "grid_row": null,
            "grid_template_areas": null,
            "grid_template_columns": null,
            "grid_template_rows": null,
            "height": null,
            "justify_content": null,
            "justify_items": null,
            "left": null,
            "margin": null,
            "max_height": null,
            "max_width": null,
            "min_height": null,
            "min_width": null,
            "object_fit": null,
            "object_position": null,
            "order": null,
            "overflow": null,
            "padding": null,
            "right": null,
            "top": null,
            "visibility": null,
            "width": null
          }
        },
        "0f94ab64e8824749b80bab5680717ec4": {
          "model_module": "@jupyter-widgets/controls",
          "model_name": "LabelStyleModel",
          "model_module_version": "2.0.0",
          "state": {
            "_model_module": "@jupyter-widgets/controls",
            "_model_module_version": "2.0.0",
            "_model_name": "LabelStyleModel",
            "_view_count": null,
            "_view_module": "@jupyter-widgets/base",
            "_view_module_version": "2.0.0",
            "_view_name": "StyleView",
            "background": null,
            "description_width": "",
            "font_family": null,
            "font_size": null,
            "font_style": null,
            "font_variant": null,
            "font_weight": null,
            "text_color": null,
            "text_decoration": null
          }
        },
        "2881fbee27424068b51f410787ed3651": {
          "model_module": "@jupyter-widgets/base",
          "model_name": "LayoutModel",
          "model_module_version": "2.0.0",
          "state": {
            "_model_module": "@jupyter-widgets/base",
            "_model_module_version": "2.0.0",
            "_model_name": "LayoutModel",
            "_view_count": null,
            "_view_module": "@jupyter-widgets/base",
            "_view_module_version": "2.0.0",
            "_view_name": "LayoutView",
            "align_content": null,
            "align_items": null,
            "align_self": null,
            "border_bottom": null,
            "border_left": null,
            "border_right": null,
            "border_top": null,
            "bottom": null,
            "display": null,
            "flex": null,
            "flex_flow": null,
            "grid_area": null,
            "grid_auto_columns": null,
            "grid_auto_flow": null,
            "grid_auto_rows": null,
            "grid_column": null,
            "grid_gap": null,
            "grid_row": null,
            "grid_template_areas": null,
            "grid_template_columns": null,
            "grid_template_rows": null,
            "height": null,
            "justify_content": null,
            "justify_items": null,
            "left": null,
            "margin": null,
            "max_height": null,
            "max_width": null,
            "min_height": null,
            "min_width": null,
            "object_fit": null,
            "object_position": null,
            "order": null,
            "overflow": null,
            "padding": null,
            "right": null,
            "top": null,
            "visibility": null,
            "width": null
          }
        },
        "81249102a5f84969adfb37e3d0c22e52": {
          "model_module": "@jupyter-widgets/controls",
          "model_name": "ProgressStyleModel",
          "model_module_version": "2.0.0",
          "state": {
            "_model_module": "@jupyter-widgets/controls",
            "_model_module_version": "2.0.0",
            "_model_name": "ProgressStyleModel",
            "_view_count": null,
            "_view_module": "@jupyter-widgets/base",
            "_view_module_version": "2.0.0",
            "_view_name": "StyleView",
            "bar_color": null,
            "description_width": ""
          }
        },
        "58d16c606f964b348bacd40af5013f2f": {
          "model_module": "@jupyter-widgets/controls",
          "model_name": "VBoxModel",
          "model_module_version": "2.0.0",
          "state": {
            "_dom_classes": [],
            "_model_module": "@jupyter-widgets/controls",
            "_model_module_version": "2.0.0",
            "_model_name": "VBoxModel",
            "_view_count": null,
            "_view_module": "@jupyter-widgets/controls",
            "_view_module_version": "2.0.0",
            "_view_name": "VBoxView",
            "box_style": "",
            "children": [
              "IPY_MODEL_d8c2c0968f3f4fedb41ddf4908ec5787",
              "IPY_MODEL_96770c45a4bf4d14a3cfed9c7c3d9fdf"
            ],
            "layout": "IPY_MODEL_f83e63c297394f8cbd1d5533a8843f90",
            "tabbable": null,
            "tooltip": null
          }
        },
        "d8c2c0968f3f4fedb41ddf4908ec5787": {
          "model_module": "@jupyter-widgets/controls",
          "model_name": "LabelModel",
          "model_module_version": "2.0.0",
          "state": {
            "_dom_classes": [],
            "_model_module": "@jupyter-widgets/controls",
            "_model_module_version": "2.0.0",
            "_model_name": "LabelModel",
            "_view_count": null,
            "_view_module": "@jupyter-widgets/controls",
            "_view_module_version": "2.0.0",
            "_view_name": "LabelView",
            "description": "",
            "description_allow_html": false,
            "layout": "IPY_MODEL_1b29a344cc8a4bdcbdaab0caa0a501ec",
            "placeholder": "​",
            "style": "IPY_MODEL_17e365f4980b40f09a04aaba2f129182",
            "tabbable": null,
            "tooltip": null,
            "value": "0.372 MB of 0.372 MB uploaded (0.000 MB deduped)\r"
          }
        },
        "96770c45a4bf4d14a3cfed9c7c3d9fdf": {
          "model_module": "@jupyter-widgets/controls",
          "model_name": "FloatProgressModel",
          "model_module_version": "2.0.0",
          "state": {
            "_dom_classes": [],
            "_model_module": "@jupyter-widgets/controls",
            "_model_module_version": "2.0.0",
            "_model_name": "FloatProgressModel",
            "_view_count": null,
            "_view_module": "@jupyter-widgets/controls",
            "_view_module_version": "2.0.0",
            "_view_name": "ProgressView",
            "bar_style": "",
            "description": "",
            "description_allow_html": false,
            "layout": "IPY_MODEL_eb0e1fb547bc442393ca2a5eeba1772e",
            "max": 1,
            "min": 0,
            "orientation": "horizontal",
            "style": "IPY_MODEL_a1512efe13524d749c23f35adfa68ca1",
            "tabbable": null,
            "tooltip": null,
            "value": 1
          }
        },
        "f83e63c297394f8cbd1d5533a8843f90": {
          "model_module": "@jupyter-widgets/base",
          "model_name": "LayoutModel",
          "model_module_version": "2.0.0",
          "state": {
            "_model_module": "@jupyter-widgets/base",
            "_model_module_version": "2.0.0",
            "_model_name": "LayoutModel",
            "_view_count": null,
            "_view_module": "@jupyter-widgets/base",
            "_view_module_version": "2.0.0",
            "_view_name": "LayoutView",
            "align_content": null,
            "align_items": null,
            "align_self": null,
            "border_bottom": null,
            "border_left": null,
            "border_right": null,
            "border_top": null,
            "bottom": null,
            "display": null,
            "flex": null,
            "flex_flow": null,
            "grid_area": null,
            "grid_auto_columns": null,
            "grid_auto_flow": null,
            "grid_auto_rows": null,
            "grid_column": null,
            "grid_gap": null,
            "grid_row": null,
            "grid_template_areas": null,
            "grid_template_columns": null,
            "grid_template_rows": null,
            "height": null,
            "justify_content": null,
            "justify_items": null,
            "left": null,
            "margin": null,
            "max_height": null,
            "max_width": null,
            "min_height": null,
            "min_width": null,
            "object_fit": null,
            "object_position": null,
            "order": null,
            "overflow": null,
            "padding": null,
            "right": null,
            "top": null,
            "visibility": null,
            "width": null
          }
        },
        "1b29a344cc8a4bdcbdaab0caa0a501ec": {
          "model_module": "@jupyter-widgets/base",
          "model_name": "LayoutModel",
          "model_module_version": "2.0.0",
          "state": {
            "_model_module": "@jupyter-widgets/base",
            "_model_module_version": "2.0.0",
            "_model_name": "LayoutModel",
            "_view_count": null,
            "_view_module": "@jupyter-widgets/base",
            "_view_module_version": "2.0.0",
            "_view_name": "LayoutView",
            "align_content": null,
            "align_items": null,
            "align_self": null,
            "border_bottom": null,
            "border_left": null,
            "border_right": null,
            "border_top": null,
            "bottom": null,
            "display": null,
            "flex": null,
            "flex_flow": null,
            "grid_area": null,
            "grid_auto_columns": null,
            "grid_auto_flow": null,
            "grid_auto_rows": null,
            "grid_column": null,
            "grid_gap": null,
            "grid_row": null,
            "grid_template_areas": null,
            "grid_template_columns": null,
            "grid_template_rows": null,
            "height": null,
            "justify_content": null,
            "justify_items": null,
            "left": null,
            "margin": null,
            "max_height": null,
            "max_width": null,
            "min_height": null,
            "min_width": null,
            "object_fit": null,
            "object_position": null,
            "order": null,
            "overflow": null,
            "padding": null,
            "right": null,
            "top": null,
            "visibility": null,
            "width": null
          }
        },
        "17e365f4980b40f09a04aaba2f129182": {
          "model_module": "@jupyter-widgets/controls",
          "model_name": "LabelStyleModel",
          "model_module_version": "2.0.0",
          "state": {
            "_model_module": "@jupyter-widgets/controls",
            "_model_module_version": "2.0.0",
            "_model_name": "LabelStyleModel",
            "_view_count": null,
            "_view_module": "@jupyter-widgets/base",
            "_view_module_version": "2.0.0",
            "_view_name": "StyleView",
            "background": null,
            "description_width": "",
            "font_family": null,
            "font_size": null,
            "font_style": null,
            "font_variant": null,
            "font_weight": null,
            "text_color": null,
            "text_decoration": null
          }
        },
        "eb0e1fb547bc442393ca2a5eeba1772e": {
          "model_module": "@jupyter-widgets/base",
          "model_name": "LayoutModel",
          "model_module_version": "2.0.0",
          "state": {
            "_model_module": "@jupyter-widgets/base",
            "_model_module_version": "2.0.0",
            "_model_name": "LayoutModel",
            "_view_count": null,
            "_view_module": "@jupyter-widgets/base",
            "_view_module_version": "2.0.0",
            "_view_name": "LayoutView",
            "align_content": null,
            "align_items": null,
            "align_self": null,
            "border_bottom": null,
            "border_left": null,
            "border_right": null,
            "border_top": null,
            "bottom": null,
            "display": null,
            "flex": null,
            "flex_flow": null,
            "grid_area": null,
            "grid_auto_columns": null,
            "grid_auto_flow": null,
            "grid_auto_rows": null,
            "grid_column": null,
            "grid_gap": null,
            "grid_row": null,
            "grid_template_areas": null,
            "grid_template_columns": null,
            "grid_template_rows": null,
            "height": null,
            "justify_content": null,
            "justify_items": null,
            "left": null,
            "margin": null,
            "max_height": null,
            "max_width": null,
            "min_height": null,
            "min_width": null,
            "object_fit": null,
            "object_position": null,
            "order": null,
            "overflow": null,
            "padding": null,
            "right": null,
            "top": null,
            "visibility": null,
            "width": null
          }
        },
        "a1512efe13524d749c23f35adfa68ca1": {
          "model_module": "@jupyter-widgets/controls",
          "model_name": "ProgressStyleModel",
          "model_module_version": "2.0.0",
          "state": {
            "_model_module": "@jupyter-widgets/controls",
            "_model_module_version": "2.0.0",
            "_model_name": "ProgressStyleModel",
            "_view_count": null,
            "_view_module": "@jupyter-widgets/base",
            "_view_module_version": "2.0.0",
            "_view_name": "StyleView",
            "bar_color": null,
            "description_width": ""
          }
        },
        "4add27a2d9854a07ace2b644204635ad": {
          "model_module": "@jupyter-widgets/controls",
          "model_name": "VBoxModel",
          "model_module_version": "2.0.0",
          "state": {
            "_dom_classes": [],
            "_model_module": "@jupyter-widgets/controls",
            "_model_module_version": "2.0.0",
            "_model_name": "VBoxModel",
            "_view_count": null,
            "_view_module": "@jupyter-widgets/controls",
            "_view_module_version": "2.0.0",
            "_view_name": "VBoxView",
            "box_style": "",
            "children": [
              "IPY_MODEL_3acd40274b99471a86278dba19af9a67",
              "IPY_MODEL_dd0b26d565d448ecbd524c936b40cfc6"
            ],
            "layout": "IPY_MODEL_b0f39806dbdd4ae1b2761a7f023a3703",
            "tabbable": null,
            "tooltip": null
          }
        },
        "3acd40274b99471a86278dba19af9a67": {
          "model_module": "@jupyter-widgets/controls",
          "model_name": "LabelModel",
          "model_module_version": "2.0.0",
          "state": {
            "_dom_classes": [],
            "_model_module": "@jupyter-widgets/controls",
            "_model_module_version": "2.0.0",
            "_model_name": "LabelModel",
            "_view_count": null,
            "_view_module": "@jupyter-widgets/controls",
            "_view_module_version": "2.0.0",
            "_view_name": "LabelView",
            "description": "",
            "description_allow_html": false,
            "layout": "IPY_MODEL_11eb343f6580438999fd3b6d9ab6d15e",
            "placeholder": "​",
            "style": "IPY_MODEL_84905db4e42647df9934a2f427798638",
            "tabbable": null,
            "tooltip": null,
            "value": "0.477 MB of 0.477 MB uploaded (0.000 MB deduped)\r"
          }
        },
        "dd0b26d565d448ecbd524c936b40cfc6": {
          "model_module": "@jupyter-widgets/controls",
          "model_name": "FloatProgressModel",
          "model_module_version": "2.0.0",
          "state": {
            "_dom_classes": [],
            "_model_module": "@jupyter-widgets/controls",
            "_model_module_version": "2.0.0",
            "_model_name": "FloatProgressModel",
            "_view_count": null,
            "_view_module": "@jupyter-widgets/controls",
            "_view_module_version": "2.0.0",
            "_view_name": "ProgressView",
            "bar_style": "",
            "description": "",
            "description_allow_html": false,
            "layout": "IPY_MODEL_d92012402a7a4a81b8d724e646ba0dab",
            "max": 1,
            "min": 0,
            "orientation": "horizontal",
            "style": "IPY_MODEL_948e4f4a7f0549c0b915f57c11e0a38d",
            "tabbable": null,
            "tooltip": null,
            "value": 1
          }
        },
        "b0f39806dbdd4ae1b2761a7f023a3703": {
          "model_module": "@jupyter-widgets/base",
          "model_name": "LayoutModel",
          "model_module_version": "2.0.0",
          "state": {
            "_model_module": "@jupyter-widgets/base",
            "_model_module_version": "2.0.0",
            "_model_name": "LayoutModel",
            "_view_count": null,
            "_view_module": "@jupyter-widgets/base",
            "_view_module_version": "2.0.0",
            "_view_name": "LayoutView",
            "align_content": null,
            "align_items": null,
            "align_self": null,
            "border_bottom": null,
            "border_left": null,
            "border_right": null,
            "border_top": null,
            "bottom": null,
            "display": null,
            "flex": null,
            "flex_flow": null,
            "grid_area": null,
            "grid_auto_columns": null,
            "grid_auto_flow": null,
            "grid_auto_rows": null,
            "grid_column": null,
            "grid_gap": null,
            "grid_row": null,
            "grid_template_areas": null,
            "grid_template_columns": null,
            "grid_template_rows": null,
            "height": null,
            "justify_content": null,
            "justify_items": null,
            "left": null,
            "margin": null,
            "max_height": null,
            "max_width": null,
            "min_height": null,
            "min_width": null,
            "object_fit": null,
            "object_position": null,
            "order": null,
            "overflow": null,
            "padding": null,
            "right": null,
            "top": null,
            "visibility": null,
            "width": null
          }
        },
        "11eb343f6580438999fd3b6d9ab6d15e": {
          "model_module": "@jupyter-widgets/base",
          "model_name": "LayoutModel",
          "model_module_version": "2.0.0",
          "state": {
            "_model_module": "@jupyter-widgets/base",
            "_model_module_version": "2.0.0",
            "_model_name": "LayoutModel",
            "_view_count": null,
            "_view_module": "@jupyter-widgets/base",
            "_view_module_version": "2.0.0",
            "_view_name": "LayoutView",
            "align_content": null,
            "align_items": null,
            "align_self": null,
            "border_bottom": null,
            "border_left": null,
            "border_right": null,
            "border_top": null,
            "bottom": null,
            "display": null,
            "flex": null,
            "flex_flow": null,
            "grid_area": null,
            "grid_auto_columns": null,
            "grid_auto_flow": null,
            "grid_auto_rows": null,
            "grid_column": null,
            "grid_gap": null,
            "grid_row": null,
            "grid_template_areas": null,
            "grid_template_columns": null,
            "grid_template_rows": null,
            "height": null,
            "justify_content": null,
            "justify_items": null,
            "left": null,
            "margin": null,
            "max_height": null,
            "max_width": null,
            "min_height": null,
            "min_width": null,
            "object_fit": null,
            "object_position": null,
            "order": null,
            "overflow": null,
            "padding": null,
            "right": null,
            "top": null,
            "visibility": null,
            "width": null
          }
        },
        "84905db4e42647df9934a2f427798638": {
          "model_module": "@jupyter-widgets/controls",
          "model_name": "LabelStyleModel",
          "model_module_version": "2.0.0",
          "state": {
            "_model_module": "@jupyter-widgets/controls",
            "_model_module_version": "2.0.0",
            "_model_name": "LabelStyleModel",
            "_view_count": null,
            "_view_module": "@jupyter-widgets/base",
            "_view_module_version": "2.0.0",
            "_view_name": "StyleView",
            "background": null,
            "description_width": "",
            "font_family": null,
            "font_size": null,
            "font_style": null,
            "font_variant": null,
            "font_weight": null,
            "text_color": null,
            "text_decoration": null
          }
        },
        "d92012402a7a4a81b8d724e646ba0dab": {
          "model_module": "@jupyter-widgets/base",
          "model_name": "LayoutModel",
          "model_module_version": "2.0.0",
          "state": {
            "_model_module": "@jupyter-widgets/base",
            "_model_module_version": "2.0.0",
            "_model_name": "LayoutModel",
            "_view_count": null,
            "_view_module": "@jupyter-widgets/base",
            "_view_module_version": "2.0.0",
            "_view_name": "LayoutView",
            "align_content": null,
            "align_items": null,
            "align_self": null,
            "border_bottom": null,
            "border_left": null,
            "border_right": null,
            "border_top": null,
            "bottom": null,
            "display": null,
            "flex": null,
            "flex_flow": null,
            "grid_area": null,
            "grid_auto_columns": null,
            "grid_auto_flow": null,
            "grid_auto_rows": null,
            "grid_column": null,
            "grid_gap": null,
            "grid_row": null,
            "grid_template_areas": null,
            "grid_template_columns": null,
            "grid_template_rows": null,
            "height": null,
            "justify_content": null,
            "justify_items": null,
            "left": null,
            "margin": null,
            "max_height": null,
            "max_width": null,
            "min_height": null,
            "min_width": null,
            "object_fit": null,
            "object_position": null,
            "order": null,
            "overflow": null,
            "padding": null,
            "right": null,
            "top": null,
            "visibility": null,
            "width": null
          }
        },
        "948e4f4a7f0549c0b915f57c11e0a38d": {
          "model_module": "@jupyter-widgets/controls",
          "model_name": "ProgressStyleModel",
          "model_module_version": "2.0.0",
          "state": {
            "_model_module": "@jupyter-widgets/controls",
            "_model_module_version": "2.0.0",
            "_model_name": "ProgressStyleModel",
            "_view_count": null,
            "_view_module": "@jupyter-widgets/base",
            "_view_module_version": "2.0.0",
            "_view_name": "StyleView",
            "bar_color": null,
            "description_width": ""
          }
        },
        "47afca3989c8494d84357f604cee38fb": {
          "model_module": "@jupyter-widgets/controls",
          "model_name": "VBoxModel",
          "model_module_version": "2.0.0",
          "state": {
            "_dom_classes": [],
            "_model_module": "@jupyter-widgets/controls",
            "_model_module_version": "2.0.0",
            "_model_name": "VBoxModel",
            "_view_count": null,
            "_view_module": "@jupyter-widgets/controls",
            "_view_module_version": "2.0.0",
            "_view_name": "VBoxView",
            "box_style": "",
            "children": [
              "IPY_MODEL_5a6efd7aa048412b97636ce5fb31b725",
              "IPY_MODEL_9e62a1e731ce4475a4584ef4dfc4fc2e"
            ],
            "layout": "IPY_MODEL_4314775f74ab48489c016a1d41fa4bd5",
            "tabbable": null,
            "tooltip": null
          }
        },
        "5a6efd7aa048412b97636ce5fb31b725": {
          "model_module": "@jupyter-widgets/controls",
          "model_name": "LabelModel",
          "model_module_version": "2.0.0",
          "state": {
            "_dom_classes": [],
            "_model_module": "@jupyter-widgets/controls",
            "_model_module_version": "2.0.0",
            "_model_name": "LabelModel",
            "_view_count": null,
            "_view_module": "@jupyter-widgets/controls",
            "_view_module_version": "2.0.0",
            "_view_name": "LabelView",
            "description": "",
            "description_allow_html": false,
            "layout": "IPY_MODEL_1b1963bd69f0442292606dd18b6f2f62",
            "placeholder": "​",
            "style": "IPY_MODEL_e828a7eaaf8e48d29ec7e96382c52850",
            "tabbable": null,
            "tooltip": null,
            "value": "0.353 MB of 0.353 MB uploaded (0.000 MB deduped)\r"
          }
        },
        "9e62a1e731ce4475a4584ef4dfc4fc2e": {
          "model_module": "@jupyter-widgets/controls",
          "model_name": "FloatProgressModel",
          "model_module_version": "2.0.0",
          "state": {
            "_dom_classes": [],
            "_model_module": "@jupyter-widgets/controls",
            "_model_module_version": "2.0.0",
            "_model_name": "FloatProgressModel",
            "_view_count": null,
            "_view_module": "@jupyter-widgets/controls",
            "_view_module_version": "2.0.0",
            "_view_name": "ProgressView",
            "bar_style": "",
            "description": "",
            "description_allow_html": false,
            "layout": "IPY_MODEL_3db5fbc8aa4e49168d4a778f855a73ff",
            "max": 1,
            "min": 0,
            "orientation": "horizontal",
            "style": "IPY_MODEL_0362c1ea21504a6da4efa389af11c40a",
            "tabbable": null,
            "tooltip": null,
            "value": 1
          }
        },
        "4314775f74ab48489c016a1d41fa4bd5": {
          "model_module": "@jupyter-widgets/base",
          "model_name": "LayoutModel",
          "model_module_version": "2.0.0",
          "state": {
            "_model_module": "@jupyter-widgets/base",
            "_model_module_version": "2.0.0",
            "_model_name": "LayoutModel",
            "_view_count": null,
            "_view_module": "@jupyter-widgets/base",
            "_view_module_version": "2.0.0",
            "_view_name": "LayoutView",
            "align_content": null,
            "align_items": null,
            "align_self": null,
            "border_bottom": null,
            "border_left": null,
            "border_right": null,
            "border_top": null,
            "bottom": null,
            "display": null,
            "flex": null,
            "flex_flow": null,
            "grid_area": null,
            "grid_auto_columns": null,
            "grid_auto_flow": null,
            "grid_auto_rows": null,
            "grid_column": null,
            "grid_gap": null,
            "grid_row": null,
            "grid_template_areas": null,
            "grid_template_columns": null,
            "grid_template_rows": null,
            "height": null,
            "justify_content": null,
            "justify_items": null,
            "left": null,
            "margin": null,
            "max_height": null,
            "max_width": null,
            "min_height": null,
            "min_width": null,
            "object_fit": null,
            "object_position": null,
            "order": null,
            "overflow": null,
            "padding": null,
            "right": null,
            "top": null,
            "visibility": null,
            "width": null
          }
        },
        "1b1963bd69f0442292606dd18b6f2f62": {
          "model_module": "@jupyter-widgets/base",
          "model_name": "LayoutModel",
          "model_module_version": "2.0.0",
          "state": {
            "_model_module": "@jupyter-widgets/base",
            "_model_module_version": "2.0.0",
            "_model_name": "LayoutModel",
            "_view_count": null,
            "_view_module": "@jupyter-widgets/base",
            "_view_module_version": "2.0.0",
            "_view_name": "LayoutView",
            "align_content": null,
            "align_items": null,
            "align_self": null,
            "border_bottom": null,
            "border_left": null,
            "border_right": null,
            "border_top": null,
            "bottom": null,
            "display": null,
            "flex": null,
            "flex_flow": null,
            "grid_area": null,
            "grid_auto_columns": null,
            "grid_auto_flow": null,
            "grid_auto_rows": null,
            "grid_column": null,
            "grid_gap": null,
            "grid_row": null,
            "grid_template_areas": null,
            "grid_template_columns": null,
            "grid_template_rows": null,
            "height": null,
            "justify_content": null,
            "justify_items": null,
            "left": null,
            "margin": null,
            "max_height": null,
            "max_width": null,
            "min_height": null,
            "min_width": null,
            "object_fit": null,
            "object_position": null,
            "order": null,
            "overflow": null,
            "padding": null,
            "right": null,
            "top": null,
            "visibility": null,
            "width": null
          }
        },
        "e828a7eaaf8e48d29ec7e96382c52850": {
          "model_module": "@jupyter-widgets/controls",
          "model_name": "LabelStyleModel",
          "model_module_version": "2.0.0",
          "state": {
            "_model_module": "@jupyter-widgets/controls",
            "_model_module_version": "2.0.0",
            "_model_name": "LabelStyleModel",
            "_view_count": null,
            "_view_module": "@jupyter-widgets/base",
            "_view_module_version": "2.0.0",
            "_view_name": "StyleView",
            "background": null,
            "description_width": "",
            "font_family": null,
            "font_size": null,
            "font_style": null,
            "font_variant": null,
            "font_weight": null,
            "text_color": null,
            "text_decoration": null
          }
        },
        "3db5fbc8aa4e49168d4a778f855a73ff": {
          "model_module": "@jupyter-widgets/base",
          "model_name": "LayoutModel",
          "model_module_version": "2.0.0",
          "state": {
            "_model_module": "@jupyter-widgets/base",
            "_model_module_version": "2.0.0",
            "_model_name": "LayoutModel",
            "_view_count": null,
            "_view_module": "@jupyter-widgets/base",
            "_view_module_version": "2.0.0",
            "_view_name": "LayoutView",
            "align_content": null,
            "align_items": null,
            "align_self": null,
            "border_bottom": null,
            "border_left": null,
            "border_right": null,
            "border_top": null,
            "bottom": null,
            "display": null,
            "flex": null,
            "flex_flow": null,
            "grid_area": null,
            "grid_auto_columns": null,
            "grid_auto_flow": null,
            "grid_auto_rows": null,
            "grid_column": null,
            "grid_gap": null,
            "grid_row": null,
            "grid_template_areas": null,
            "grid_template_columns": null,
            "grid_template_rows": null,
            "height": null,
            "justify_content": null,
            "justify_items": null,
            "left": null,
            "margin": null,
            "max_height": null,
            "max_width": null,
            "min_height": null,
            "min_width": null,
            "object_fit": null,
            "object_position": null,
            "order": null,
            "overflow": null,
            "padding": null,
            "right": null,
            "top": null,
            "visibility": null,
            "width": null
          }
        },
        "0362c1ea21504a6da4efa389af11c40a": {
          "model_module": "@jupyter-widgets/controls",
          "model_name": "ProgressStyleModel",
          "model_module_version": "2.0.0",
          "state": {
            "_model_module": "@jupyter-widgets/controls",
            "_model_module_version": "2.0.0",
            "_model_name": "ProgressStyleModel",
            "_view_count": null,
            "_view_module": "@jupyter-widgets/base",
            "_view_module_version": "2.0.0",
            "_view_name": "StyleView",
            "bar_color": null,
            "description_width": ""
          }
        },
        "001196aa3ea44fd1a7d14408a43baccb": {
          "model_module": "@jupyter-widgets/controls",
          "model_name": "VBoxModel",
          "model_module_version": "2.0.0",
          "state": {
            "_dom_classes": [],
            "_model_module": "@jupyter-widgets/controls",
            "_model_module_version": "2.0.0",
            "_model_name": "VBoxModel",
            "_view_count": null,
            "_view_module": "@jupyter-widgets/controls",
            "_view_module_version": "2.0.0",
            "_view_name": "VBoxView",
            "box_style": "",
            "children": [
              "IPY_MODEL_01f1718c5b4045b7a37e9fa84e609dbf",
              "IPY_MODEL_1a9c1d1e70e94c0b98550c31ecea6c86"
            ],
            "layout": "IPY_MODEL_08d06e2a1a0b424980d75f39552dac86",
            "tabbable": null,
            "tooltip": null
          }
        },
        "01f1718c5b4045b7a37e9fa84e609dbf": {
          "model_module": "@jupyter-widgets/controls",
          "model_name": "LabelModel",
          "model_module_version": "2.0.0",
          "state": {
            "_dom_classes": [],
            "_model_module": "@jupyter-widgets/controls",
            "_model_module_version": "2.0.0",
            "_model_name": "LabelModel",
            "_view_count": null,
            "_view_module": "@jupyter-widgets/controls",
            "_view_module_version": "2.0.0",
            "_view_name": "LabelView",
            "description": "",
            "description_allow_html": false,
            "layout": "IPY_MODEL_33ea3ed2dab14e31951f8e8249cac10e",
            "placeholder": "​",
            "style": "IPY_MODEL_79e5a2020b664f39b08ada5b8fe4f433",
            "tabbable": null,
            "tooltip": null,
            "value": "0.399 MB of 0.399 MB uploaded (0.000 MB deduped)\r"
          }
        },
        "1a9c1d1e70e94c0b98550c31ecea6c86": {
          "model_module": "@jupyter-widgets/controls",
          "model_name": "FloatProgressModel",
          "model_module_version": "2.0.0",
          "state": {
            "_dom_classes": [],
            "_model_module": "@jupyter-widgets/controls",
            "_model_module_version": "2.0.0",
            "_model_name": "FloatProgressModel",
            "_view_count": null,
            "_view_module": "@jupyter-widgets/controls",
            "_view_module_version": "2.0.0",
            "_view_name": "ProgressView",
            "bar_style": "",
            "description": "",
            "description_allow_html": false,
            "layout": "IPY_MODEL_1477ac43b5f748df862a60b8041c5f34",
            "max": 1,
            "min": 0,
            "orientation": "horizontal",
            "style": "IPY_MODEL_888702b31a4f4bebad9a2f322cbf55f4",
            "tabbable": null,
            "tooltip": null,
            "value": 1
          }
        },
        "08d06e2a1a0b424980d75f39552dac86": {
          "model_module": "@jupyter-widgets/base",
          "model_name": "LayoutModel",
          "model_module_version": "2.0.0",
          "state": {
            "_model_module": "@jupyter-widgets/base",
            "_model_module_version": "2.0.0",
            "_model_name": "LayoutModel",
            "_view_count": null,
            "_view_module": "@jupyter-widgets/base",
            "_view_module_version": "2.0.0",
            "_view_name": "LayoutView",
            "align_content": null,
            "align_items": null,
            "align_self": null,
            "border_bottom": null,
            "border_left": null,
            "border_right": null,
            "border_top": null,
            "bottom": null,
            "display": null,
            "flex": null,
            "flex_flow": null,
            "grid_area": null,
            "grid_auto_columns": null,
            "grid_auto_flow": null,
            "grid_auto_rows": null,
            "grid_column": null,
            "grid_gap": null,
            "grid_row": null,
            "grid_template_areas": null,
            "grid_template_columns": null,
            "grid_template_rows": null,
            "height": null,
            "justify_content": null,
            "justify_items": null,
            "left": null,
            "margin": null,
            "max_height": null,
            "max_width": null,
            "min_height": null,
            "min_width": null,
            "object_fit": null,
            "object_position": null,
            "order": null,
            "overflow": null,
            "padding": null,
            "right": null,
            "top": null,
            "visibility": null,
            "width": null
          }
        },
        "33ea3ed2dab14e31951f8e8249cac10e": {
          "model_module": "@jupyter-widgets/base",
          "model_name": "LayoutModel",
          "model_module_version": "2.0.0",
          "state": {
            "_model_module": "@jupyter-widgets/base",
            "_model_module_version": "2.0.0",
            "_model_name": "LayoutModel",
            "_view_count": null,
            "_view_module": "@jupyter-widgets/base",
            "_view_module_version": "2.0.0",
            "_view_name": "LayoutView",
            "align_content": null,
            "align_items": null,
            "align_self": null,
            "border_bottom": null,
            "border_left": null,
            "border_right": null,
            "border_top": null,
            "bottom": null,
            "display": null,
            "flex": null,
            "flex_flow": null,
            "grid_area": null,
            "grid_auto_columns": null,
            "grid_auto_flow": null,
            "grid_auto_rows": null,
            "grid_column": null,
            "grid_gap": null,
            "grid_row": null,
            "grid_template_areas": null,
            "grid_template_columns": null,
            "grid_template_rows": null,
            "height": null,
            "justify_content": null,
            "justify_items": null,
            "left": null,
            "margin": null,
            "max_height": null,
            "max_width": null,
            "min_height": null,
            "min_width": null,
            "object_fit": null,
            "object_position": null,
            "order": null,
            "overflow": null,
            "padding": null,
            "right": null,
            "top": null,
            "visibility": null,
            "width": null
          }
        },
        "79e5a2020b664f39b08ada5b8fe4f433": {
          "model_module": "@jupyter-widgets/controls",
          "model_name": "LabelStyleModel",
          "model_module_version": "2.0.0",
          "state": {
            "_model_module": "@jupyter-widgets/controls",
            "_model_module_version": "2.0.0",
            "_model_name": "LabelStyleModel",
            "_view_count": null,
            "_view_module": "@jupyter-widgets/base",
            "_view_module_version": "2.0.0",
            "_view_name": "StyleView",
            "background": null,
            "description_width": "",
            "font_family": null,
            "font_size": null,
            "font_style": null,
            "font_variant": null,
            "font_weight": null,
            "text_color": null,
            "text_decoration": null
          }
        },
        "1477ac43b5f748df862a60b8041c5f34": {
          "model_module": "@jupyter-widgets/base",
          "model_name": "LayoutModel",
          "model_module_version": "2.0.0",
          "state": {
            "_model_module": "@jupyter-widgets/base",
            "_model_module_version": "2.0.0",
            "_model_name": "LayoutModel",
            "_view_count": null,
            "_view_module": "@jupyter-widgets/base",
            "_view_module_version": "2.0.0",
            "_view_name": "LayoutView",
            "align_content": null,
            "align_items": null,
            "align_self": null,
            "border_bottom": null,
            "border_left": null,
            "border_right": null,
            "border_top": null,
            "bottom": null,
            "display": null,
            "flex": null,
            "flex_flow": null,
            "grid_area": null,
            "grid_auto_columns": null,
            "grid_auto_flow": null,
            "grid_auto_rows": null,
            "grid_column": null,
            "grid_gap": null,
            "grid_row": null,
            "grid_template_areas": null,
            "grid_template_columns": null,
            "grid_template_rows": null,
            "height": null,
            "justify_content": null,
            "justify_items": null,
            "left": null,
            "margin": null,
            "max_height": null,
            "max_width": null,
            "min_height": null,
            "min_width": null,
            "object_fit": null,
            "object_position": null,
            "order": null,
            "overflow": null,
            "padding": null,
            "right": null,
            "top": null,
            "visibility": null,
            "width": null
          }
        },
        "888702b31a4f4bebad9a2f322cbf55f4": {
          "model_module": "@jupyter-widgets/controls",
          "model_name": "ProgressStyleModel",
          "model_module_version": "2.0.0",
          "state": {
            "_model_module": "@jupyter-widgets/controls",
            "_model_module_version": "2.0.0",
            "_model_name": "ProgressStyleModel",
            "_view_count": null,
            "_view_module": "@jupyter-widgets/base",
            "_view_module_version": "2.0.0",
            "_view_name": "StyleView",
            "bar_color": null,
            "description_width": ""
          }
        },
        "9bac331156d74c529fe109cf4654e500": {
          "model_module": "@jupyter-widgets/controls",
          "model_name": "VBoxModel",
          "model_module_version": "2.0.0",
          "state": {
            "_dom_classes": [],
            "_model_module": "@jupyter-widgets/controls",
            "_model_module_version": "2.0.0",
            "_model_name": "VBoxModel",
            "_view_count": null,
            "_view_module": "@jupyter-widgets/controls",
            "_view_module_version": "2.0.0",
            "_view_name": "VBoxView",
            "box_style": "",
            "children": [
              "IPY_MODEL_11f453f4b3934ccfac194e4d2b46b19d",
              "IPY_MODEL_8699cae687504e48b04b8d570717e406"
            ],
            "layout": "IPY_MODEL_6b6e7490bf944cab8cd95b63d85ae4c1",
            "tabbable": null,
            "tooltip": null
          }
        },
        "11f453f4b3934ccfac194e4d2b46b19d": {
          "model_module": "@jupyter-widgets/controls",
          "model_name": "LabelModel",
          "model_module_version": "2.0.0",
          "state": {
            "_dom_classes": [],
            "_model_module": "@jupyter-widgets/controls",
            "_model_module_version": "2.0.0",
            "_model_name": "LabelModel",
            "_view_count": null,
            "_view_module": "@jupyter-widgets/controls",
            "_view_module_version": "2.0.0",
            "_view_name": "LabelView",
            "description": "",
            "description_allow_html": false,
            "layout": "IPY_MODEL_5bcac101d1154d74a0465a1e15faac37",
            "placeholder": "​",
            "style": "IPY_MODEL_362c13bcf4384c66a772a6500bae9cb6",
            "tabbable": null,
            "tooltip": null,
            "value": "0.517 MB of 0.517 MB uploaded (0.000 MB deduped)\r"
          }
        },
        "8699cae687504e48b04b8d570717e406": {
          "model_module": "@jupyter-widgets/controls",
          "model_name": "FloatProgressModel",
          "model_module_version": "2.0.0",
          "state": {
            "_dom_classes": [],
            "_model_module": "@jupyter-widgets/controls",
            "_model_module_version": "2.0.0",
            "_model_name": "FloatProgressModel",
            "_view_count": null,
            "_view_module": "@jupyter-widgets/controls",
            "_view_module_version": "2.0.0",
            "_view_name": "ProgressView",
            "bar_style": "",
            "description": "",
            "description_allow_html": false,
            "layout": "IPY_MODEL_cc8a4fdadfba40e29984b3657983d9ed",
            "max": 1,
            "min": 0,
            "orientation": "horizontal",
            "style": "IPY_MODEL_f84b1a9022bd464bbd16dddd9e5aa400",
            "tabbable": null,
            "tooltip": null,
            "value": 1
          }
        },
        "6b6e7490bf944cab8cd95b63d85ae4c1": {
          "model_module": "@jupyter-widgets/base",
          "model_name": "LayoutModel",
          "model_module_version": "2.0.0",
          "state": {
            "_model_module": "@jupyter-widgets/base",
            "_model_module_version": "2.0.0",
            "_model_name": "LayoutModel",
            "_view_count": null,
            "_view_module": "@jupyter-widgets/base",
            "_view_module_version": "2.0.0",
            "_view_name": "LayoutView",
            "align_content": null,
            "align_items": null,
            "align_self": null,
            "border_bottom": null,
            "border_left": null,
            "border_right": null,
            "border_top": null,
            "bottom": null,
            "display": null,
            "flex": null,
            "flex_flow": null,
            "grid_area": null,
            "grid_auto_columns": null,
            "grid_auto_flow": null,
            "grid_auto_rows": null,
            "grid_column": null,
            "grid_gap": null,
            "grid_row": null,
            "grid_template_areas": null,
            "grid_template_columns": null,
            "grid_template_rows": null,
            "height": null,
            "justify_content": null,
            "justify_items": null,
            "left": null,
            "margin": null,
            "max_height": null,
            "max_width": null,
            "min_height": null,
            "min_width": null,
            "object_fit": null,
            "object_position": null,
            "order": null,
            "overflow": null,
            "padding": null,
            "right": null,
            "top": null,
            "visibility": null,
            "width": null
          }
        },
        "5bcac101d1154d74a0465a1e15faac37": {
          "model_module": "@jupyter-widgets/base",
          "model_name": "LayoutModel",
          "model_module_version": "2.0.0",
          "state": {
            "_model_module": "@jupyter-widgets/base",
            "_model_module_version": "2.0.0",
            "_model_name": "LayoutModel",
            "_view_count": null,
            "_view_module": "@jupyter-widgets/base",
            "_view_module_version": "2.0.0",
            "_view_name": "LayoutView",
            "align_content": null,
            "align_items": null,
            "align_self": null,
            "border_bottom": null,
            "border_left": null,
            "border_right": null,
            "border_top": null,
            "bottom": null,
            "display": null,
            "flex": null,
            "flex_flow": null,
            "grid_area": null,
            "grid_auto_columns": null,
            "grid_auto_flow": null,
            "grid_auto_rows": null,
            "grid_column": null,
            "grid_gap": null,
            "grid_row": null,
            "grid_template_areas": null,
            "grid_template_columns": null,
            "grid_template_rows": null,
            "height": null,
            "justify_content": null,
            "justify_items": null,
            "left": null,
            "margin": null,
            "max_height": null,
            "max_width": null,
            "min_height": null,
            "min_width": null,
            "object_fit": null,
            "object_position": null,
            "order": null,
            "overflow": null,
            "padding": null,
            "right": null,
            "top": null,
            "visibility": null,
            "width": null
          }
        },
        "362c13bcf4384c66a772a6500bae9cb6": {
          "model_module": "@jupyter-widgets/controls",
          "model_name": "LabelStyleModel",
          "model_module_version": "2.0.0",
          "state": {
            "_model_module": "@jupyter-widgets/controls",
            "_model_module_version": "2.0.0",
            "_model_name": "LabelStyleModel",
            "_view_count": null,
            "_view_module": "@jupyter-widgets/base",
            "_view_module_version": "2.0.0",
            "_view_name": "StyleView",
            "background": null,
            "description_width": "",
            "font_family": null,
            "font_size": null,
            "font_style": null,
            "font_variant": null,
            "font_weight": null,
            "text_color": null,
            "text_decoration": null
          }
        },
        "cc8a4fdadfba40e29984b3657983d9ed": {
          "model_module": "@jupyter-widgets/base",
          "model_name": "LayoutModel",
          "model_module_version": "2.0.0",
          "state": {
            "_model_module": "@jupyter-widgets/base",
            "_model_module_version": "2.0.0",
            "_model_name": "LayoutModel",
            "_view_count": null,
            "_view_module": "@jupyter-widgets/base",
            "_view_module_version": "2.0.0",
            "_view_name": "LayoutView",
            "align_content": null,
            "align_items": null,
            "align_self": null,
            "border_bottom": null,
            "border_left": null,
            "border_right": null,
            "border_top": null,
            "bottom": null,
            "display": null,
            "flex": null,
            "flex_flow": null,
            "grid_area": null,
            "grid_auto_columns": null,
            "grid_auto_flow": null,
            "grid_auto_rows": null,
            "grid_column": null,
            "grid_gap": null,
            "grid_row": null,
            "grid_template_areas": null,
            "grid_template_columns": null,
            "grid_template_rows": null,
            "height": null,
            "justify_content": null,
            "justify_items": null,
            "left": null,
            "margin": null,
            "max_height": null,
            "max_width": null,
            "min_height": null,
            "min_width": null,
            "object_fit": null,
            "object_position": null,
            "order": null,
            "overflow": null,
            "padding": null,
            "right": null,
            "top": null,
            "visibility": null,
            "width": null
          }
        },
        "f84b1a9022bd464bbd16dddd9e5aa400": {
          "model_module": "@jupyter-widgets/controls",
          "model_name": "ProgressStyleModel",
          "model_module_version": "2.0.0",
          "state": {
            "_model_module": "@jupyter-widgets/controls",
            "_model_module_version": "2.0.0",
            "_model_name": "ProgressStyleModel",
            "_view_count": null,
            "_view_module": "@jupyter-widgets/base",
            "_view_module_version": "2.0.0",
            "_view_name": "StyleView",
            "bar_color": null,
            "description_width": ""
          }
        },
        "768c7902fceb4176af44eab10b96143f": {
          "model_module": "@jupyter-widgets/controls",
          "model_name": "VBoxModel",
          "model_module_version": "2.0.0",
          "state": {
            "_dom_classes": [],
            "_model_module": "@jupyter-widgets/controls",
            "_model_module_version": "2.0.0",
            "_model_name": "VBoxModel",
            "_view_count": null,
            "_view_module": "@jupyter-widgets/controls",
            "_view_module_version": "2.0.0",
            "_view_name": "VBoxView",
            "box_style": "",
            "children": [
              "IPY_MODEL_595137d2dba5418fa482bc438d60bee0",
              "IPY_MODEL_8bc481454fa742678d17c699083947ba"
            ],
            "layout": "IPY_MODEL_d295cf232b0445fa8396ffaec11371e7",
            "tabbable": null,
            "tooltip": null
          }
        },
        "595137d2dba5418fa482bc438d60bee0": {
          "model_module": "@jupyter-widgets/controls",
          "model_name": "LabelModel",
          "model_module_version": "2.0.0",
          "state": {
            "_dom_classes": [],
            "_model_module": "@jupyter-widgets/controls",
            "_model_module_version": "2.0.0",
            "_model_name": "LabelModel",
            "_view_count": null,
            "_view_module": "@jupyter-widgets/controls",
            "_view_module_version": "2.0.0",
            "_view_name": "LabelView",
            "description": "",
            "description_allow_html": false,
            "layout": "IPY_MODEL_64a360577d76409b83a75e4991b9c1ca",
            "placeholder": "​",
            "style": "IPY_MODEL_995897b32c5d4db69732ed41ff42bc7f",
            "tabbable": null,
            "tooltip": null,
            "value": "0.389 MB of 0.389 MB uploaded (0.000 MB deduped)\r"
          }
        },
        "8bc481454fa742678d17c699083947ba": {
          "model_module": "@jupyter-widgets/controls",
          "model_name": "FloatProgressModel",
          "model_module_version": "2.0.0",
          "state": {
            "_dom_classes": [],
            "_model_module": "@jupyter-widgets/controls",
            "_model_module_version": "2.0.0",
            "_model_name": "FloatProgressModel",
            "_view_count": null,
            "_view_module": "@jupyter-widgets/controls",
            "_view_module_version": "2.0.0",
            "_view_name": "ProgressView",
            "bar_style": "",
            "description": "",
            "description_allow_html": false,
            "layout": "IPY_MODEL_ac4ac7a7d7994ba7baf09f9a6158d93b",
            "max": 1,
            "min": 0,
            "orientation": "horizontal",
            "style": "IPY_MODEL_157592d246ba4db9b1886bfb79e8d324",
            "tabbable": null,
            "tooltip": null,
            "value": 1
          }
        },
        "d295cf232b0445fa8396ffaec11371e7": {
          "model_module": "@jupyter-widgets/base",
          "model_name": "LayoutModel",
          "model_module_version": "2.0.0",
          "state": {
            "_model_module": "@jupyter-widgets/base",
            "_model_module_version": "2.0.0",
            "_model_name": "LayoutModel",
            "_view_count": null,
            "_view_module": "@jupyter-widgets/base",
            "_view_module_version": "2.0.0",
            "_view_name": "LayoutView",
            "align_content": null,
            "align_items": null,
            "align_self": null,
            "border_bottom": null,
            "border_left": null,
            "border_right": null,
            "border_top": null,
            "bottom": null,
            "display": null,
            "flex": null,
            "flex_flow": null,
            "grid_area": null,
            "grid_auto_columns": null,
            "grid_auto_flow": null,
            "grid_auto_rows": null,
            "grid_column": null,
            "grid_gap": null,
            "grid_row": null,
            "grid_template_areas": null,
            "grid_template_columns": null,
            "grid_template_rows": null,
            "height": null,
            "justify_content": null,
            "justify_items": null,
            "left": null,
            "margin": null,
            "max_height": null,
            "max_width": null,
            "min_height": null,
            "min_width": null,
            "object_fit": null,
            "object_position": null,
            "order": null,
            "overflow": null,
            "padding": null,
            "right": null,
            "top": null,
            "visibility": null,
            "width": null
          }
        },
        "64a360577d76409b83a75e4991b9c1ca": {
          "model_module": "@jupyter-widgets/base",
          "model_name": "LayoutModel",
          "model_module_version": "2.0.0",
          "state": {
            "_model_module": "@jupyter-widgets/base",
            "_model_module_version": "2.0.0",
            "_model_name": "LayoutModel",
            "_view_count": null,
            "_view_module": "@jupyter-widgets/base",
            "_view_module_version": "2.0.0",
            "_view_name": "LayoutView",
            "align_content": null,
            "align_items": null,
            "align_self": null,
            "border_bottom": null,
            "border_left": null,
            "border_right": null,
            "border_top": null,
            "bottom": null,
            "display": null,
            "flex": null,
            "flex_flow": null,
            "grid_area": null,
            "grid_auto_columns": null,
            "grid_auto_flow": null,
            "grid_auto_rows": null,
            "grid_column": null,
            "grid_gap": null,
            "grid_row": null,
            "grid_template_areas": null,
            "grid_template_columns": null,
            "grid_template_rows": null,
            "height": null,
            "justify_content": null,
            "justify_items": null,
            "left": null,
            "margin": null,
            "max_height": null,
            "max_width": null,
            "min_height": null,
            "min_width": null,
            "object_fit": null,
            "object_position": null,
            "order": null,
            "overflow": null,
            "padding": null,
            "right": null,
            "top": null,
            "visibility": null,
            "width": null
          }
        },
        "995897b32c5d4db69732ed41ff42bc7f": {
          "model_module": "@jupyter-widgets/controls",
          "model_name": "LabelStyleModel",
          "model_module_version": "2.0.0",
          "state": {
            "_model_module": "@jupyter-widgets/controls",
            "_model_module_version": "2.0.0",
            "_model_name": "LabelStyleModel",
            "_view_count": null,
            "_view_module": "@jupyter-widgets/base",
            "_view_module_version": "2.0.0",
            "_view_name": "StyleView",
            "background": null,
            "description_width": "",
            "font_family": null,
            "font_size": null,
            "font_style": null,
            "font_variant": null,
            "font_weight": null,
            "text_color": null,
            "text_decoration": null
          }
        },
        "ac4ac7a7d7994ba7baf09f9a6158d93b": {
          "model_module": "@jupyter-widgets/base",
          "model_name": "LayoutModel",
          "model_module_version": "2.0.0",
          "state": {
            "_model_module": "@jupyter-widgets/base",
            "_model_module_version": "2.0.0",
            "_model_name": "LayoutModel",
            "_view_count": null,
            "_view_module": "@jupyter-widgets/base",
            "_view_module_version": "2.0.0",
            "_view_name": "LayoutView",
            "align_content": null,
            "align_items": null,
            "align_self": null,
            "border_bottom": null,
            "border_left": null,
            "border_right": null,
            "border_top": null,
            "bottom": null,
            "display": null,
            "flex": null,
            "flex_flow": null,
            "grid_area": null,
            "grid_auto_columns": null,
            "grid_auto_flow": null,
            "grid_auto_rows": null,
            "grid_column": null,
            "grid_gap": null,
            "grid_row": null,
            "grid_template_areas": null,
            "grid_template_columns": null,
            "grid_template_rows": null,
            "height": null,
            "justify_content": null,
            "justify_items": null,
            "left": null,
            "margin": null,
            "max_height": null,
            "max_width": null,
            "min_height": null,
            "min_width": null,
            "object_fit": null,
            "object_position": null,
            "order": null,
            "overflow": null,
            "padding": null,
            "right": null,
            "top": null,
            "visibility": null,
            "width": null
          }
        },
        "157592d246ba4db9b1886bfb79e8d324": {
          "model_module": "@jupyter-widgets/controls",
          "model_name": "ProgressStyleModel",
          "model_module_version": "2.0.0",
          "state": {
            "_model_module": "@jupyter-widgets/controls",
            "_model_module_version": "2.0.0",
            "_model_name": "ProgressStyleModel",
            "_view_count": null,
            "_view_module": "@jupyter-widgets/base",
            "_view_module_version": "2.0.0",
            "_view_name": "StyleView",
            "bar_color": null,
            "description_width": ""
          }
        },
        "54a6169ab59c48d4bf5b3d3512fafbea": {
          "model_module": "@jupyter-widgets/controls",
          "model_name": "VBoxModel",
          "model_module_version": "2.0.0",
          "state": {
            "_dom_classes": [],
            "_model_module": "@jupyter-widgets/controls",
            "_model_module_version": "2.0.0",
            "_model_name": "VBoxModel",
            "_view_count": null,
            "_view_module": "@jupyter-widgets/controls",
            "_view_module_version": "2.0.0",
            "_view_name": "VBoxView",
            "box_style": "",
            "children": [
              "IPY_MODEL_aa41cd869b5444a588272e60851d831e",
              "IPY_MODEL_cc9d091c4a9d403f93afd85bf7b7b8b2"
            ],
            "layout": "IPY_MODEL_ce3616eb402649fa8fd1836b805b62b2",
            "tabbable": null,
            "tooltip": null
          }
        },
        "aa41cd869b5444a588272e60851d831e": {
          "model_module": "@jupyter-widgets/controls",
          "model_name": "LabelModel",
          "model_module_version": "2.0.0",
          "state": {
            "_dom_classes": [],
            "_model_module": "@jupyter-widgets/controls",
            "_model_module_version": "2.0.0",
            "_model_name": "LabelModel",
            "_view_count": null,
            "_view_module": "@jupyter-widgets/controls",
            "_view_module_version": "2.0.0",
            "_view_name": "LabelView",
            "description": "",
            "description_allow_html": false,
            "layout": "IPY_MODEL_8c11a5ba4dc545fd9a1e0482aff0bbec",
            "placeholder": "​",
            "style": "IPY_MODEL_0e1ab048df0148cda1cc4c1f903ab2e5",
            "tabbable": null,
            "tooltip": null,
            "value": "0.445 MB of 0.445 MB uploaded (0.000 MB deduped)\r"
          }
        },
        "cc9d091c4a9d403f93afd85bf7b7b8b2": {
          "model_module": "@jupyter-widgets/controls",
          "model_name": "FloatProgressModel",
          "model_module_version": "2.0.0",
          "state": {
            "_dom_classes": [],
            "_model_module": "@jupyter-widgets/controls",
            "_model_module_version": "2.0.0",
            "_model_name": "FloatProgressModel",
            "_view_count": null,
            "_view_module": "@jupyter-widgets/controls",
            "_view_module_version": "2.0.0",
            "_view_name": "ProgressView",
            "bar_style": "",
            "description": "",
            "description_allow_html": false,
            "layout": "IPY_MODEL_e57f889e086341f48470333ff5aeedd1",
            "max": 1,
            "min": 0,
            "orientation": "horizontal",
            "style": "IPY_MODEL_f51bd33eb25345c9a386135482aa0763",
            "tabbable": null,
            "tooltip": null,
            "value": 1
          }
        },
        "ce3616eb402649fa8fd1836b805b62b2": {
          "model_module": "@jupyter-widgets/base",
          "model_name": "LayoutModel",
          "model_module_version": "2.0.0",
          "state": {
            "_model_module": "@jupyter-widgets/base",
            "_model_module_version": "2.0.0",
            "_model_name": "LayoutModel",
            "_view_count": null,
            "_view_module": "@jupyter-widgets/base",
            "_view_module_version": "2.0.0",
            "_view_name": "LayoutView",
            "align_content": null,
            "align_items": null,
            "align_self": null,
            "border_bottom": null,
            "border_left": null,
            "border_right": null,
            "border_top": null,
            "bottom": null,
            "display": null,
            "flex": null,
            "flex_flow": null,
            "grid_area": null,
            "grid_auto_columns": null,
            "grid_auto_flow": null,
            "grid_auto_rows": null,
            "grid_column": null,
            "grid_gap": null,
            "grid_row": null,
            "grid_template_areas": null,
            "grid_template_columns": null,
            "grid_template_rows": null,
            "height": null,
            "justify_content": null,
            "justify_items": null,
            "left": null,
            "margin": null,
            "max_height": null,
            "max_width": null,
            "min_height": null,
            "min_width": null,
            "object_fit": null,
            "object_position": null,
            "order": null,
            "overflow": null,
            "padding": null,
            "right": null,
            "top": null,
            "visibility": null,
            "width": null
          }
        },
        "8c11a5ba4dc545fd9a1e0482aff0bbec": {
          "model_module": "@jupyter-widgets/base",
          "model_name": "LayoutModel",
          "model_module_version": "2.0.0",
          "state": {
            "_model_module": "@jupyter-widgets/base",
            "_model_module_version": "2.0.0",
            "_model_name": "LayoutModel",
            "_view_count": null,
            "_view_module": "@jupyter-widgets/base",
            "_view_module_version": "2.0.0",
            "_view_name": "LayoutView",
            "align_content": null,
            "align_items": null,
            "align_self": null,
            "border_bottom": null,
            "border_left": null,
            "border_right": null,
            "border_top": null,
            "bottom": null,
            "display": null,
            "flex": null,
            "flex_flow": null,
            "grid_area": null,
            "grid_auto_columns": null,
            "grid_auto_flow": null,
            "grid_auto_rows": null,
            "grid_column": null,
            "grid_gap": null,
            "grid_row": null,
            "grid_template_areas": null,
            "grid_template_columns": null,
            "grid_template_rows": null,
            "height": null,
            "justify_content": null,
            "justify_items": null,
            "left": null,
            "margin": null,
            "max_height": null,
            "max_width": null,
            "min_height": null,
            "min_width": null,
            "object_fit": null,
            "object_position": null,
            "order": null,
            "overflow": null,
            "padding": null,
            "right": null,
            "top": null,
            "visibility": null,
            "width": null
          }
        },
        "0e1ab048df0148cda1cc4c1f903ab2e5": {
          "model_module": "@jupyter-widgets/controls",
          "model_name": "LabelStyleModel",
          "model_module_version": "2.0.0",
          "state": {
            "_model_module": "@jupyter-widgets/controls",
            "_model_module_version": "2.0.0",
            "_model_name": "LabelStyleModel",
            "_view_count": null,
            "_view_module": "@jupyter-widgets/base",
            "_view_module_version": "2.0.0",
            "_view_name": "StyleView",
            "background": null,
            "description_width": "",
            "font_family": null,
            "font_size": null,
            "font_style": null,
            "font_variant": null,
            "font_weight": null,
            "text_color": null,
            "text_decoration": null
          }
        },
        "e57f889e086341f48470333ff5aeedd1": {
          "model_module": "@jupyter-widgets/base",
          "model_name": "LayoutModel",
          "model_module_version": "2.0.0",
          "state": {
            "_model_module": "@jupyter-widgets/base",
            "_model_module_version": "2.0.0",
            "_model_name": "LayoutModel",
            "_view_count": null,
            "_view_module": "@jupyter-widgets/base",
            "_view_module_version": "2.0.0",
            "_view_name": "LayoutView",
            "align_content": null,
            "align_items": null,
            "align_self": null,
            "border_bottom": null,
            "border_left": null,
            "border_right": null,
            "border_top": null,
            "bottom": null,
            "display": null,
            "flex": null,
            "flex_flow": null,
            "grid_area": null,
            "grid_auto_columns": null,
            "grid_auto_flow": null,
            "grid_auto_rows": null,
            "grid_column": null,
            "grid_gap": null,
            "grid_row": null,
            "grid_template_areas": null,
            "grid_template_columns": null,
            "grid_template_rows": null,
            "height": null,
            "justify_content": null,
            "justify_items": null,
            "left": null,
            "margin": null,
            "max_height": null,
            "max_width": null,
            "min_height": null,
            "min_width": null,
            "object_fit": null,
            "object_position": null,
            "order": null,
            "overflow": null,
            "padding": null,
            "right": null,
            "top": null,
            "visibility": null,
            "width": null
          }
        },
        "f51bd33eb25345c9a386135482aa0763": {
          "model_module": "@jupyter-widgets/controls",
          "model_name": "ProgressStyleModel",
          "model_module_version": "2.0.0",
          "state": {
            "_model_module": "@jupyter-widgets/controls",
            "_model_module_version": "2.0.0",
            "_model_name": "ProgressStyleModel",
            "_view_count": null,
            "_view_module": "@jupyter-widgets/base",
            "_view_module_version": "2.0.0",
            "_view_name": "StyleView",
            "bar_color": null,
            "description_width": ""
          }
        },
        "6c39fc2364bc42bca7f945c5f32f0cfd": {
          "model_module": "@jupyter-widgets/controls",
          "model_name": "VBoxModel",
          "model_module_version": "2.0.0",
          "state": {
            "_dom_classes": [],
            "_model_module": "@jupyter-widgets/controls",
            "_model_module_version": "2.0.0",
            "_model_name": "VBoxModel",
            "_view_count": null,
            "_view_module": "@jupyter-widgets/controls",
            "_view_module_version": "2.0.0",
            "_view_name": "VBoxView",
            "box_style": "",
            "children": [
              "IPY_MODEL_4f341049cbe94f689a35f10c24eb39a5",
              "IPY_MODEL_57d1d42bd0b540d7afed1634b8fafda8"
            ],
            "layout": "IPY_MODEL_e596e5249d764a689223e5d7d7d8782e",
            "tabbable": null,
            "tooltip": null
          }
        },
        "4f341049cbe94f689a35f10c24eb39a5": {
          "model_module": "@jupyter-widgets/controls",
          "model_name": "LabelModel",
          "model_module_version": "2.0.0",
          "state": {
            "_dom_classes": [],
            "_model_module": "@jupyter-widgets/controls",
            "_model_module_version": "2.0.0",
            "_model_name": "LabelModel",
            "_view_count": null,
            "_view_module": "@jupyter-widgets/controls",
            "_view_module_version": "2.0.0",
            "_view_name": "LabelView",
            "description": "",
            "description_allow_html": false,
            "layout": "IPY_MODEL_eae4976a93094106944bf067ef698446",
            "placeholder": "​",
            "style": "IPY_MODEL_00da85db0b67414585535546e7f9125b",
            "tabbable": null,
            "tooltip": null,
            "value": "0.548 MB of 0.548 MB uploaded (0.000 MB deduped)\r"
          }
        },
        "57d1d42bd0b540d7afed1634b8fafda8": {
          "model_module": "@jupyter-widgets/controls",
          "model_name": "FloatProgressModel",
          "model_module_version": "2.0.0",
          "state": {
            "_dom_classes": [],
            "_model_module": "@jupyter-widgets/controls",
            "_model_module_version": "2.0.0",
            "_model_name": "FloatProgressModel",
            "_view_count": null,
            "_view_module": "@jupyter-widgets/controls",
            "_view_module_version": "2.0.0",
            "_view_name": "ProgressView",
            "bar_style": "",
            "description": "",
            "description_allow_html": false,
            "layout": "IPY_MODEL_6ccf67bf91754c08879cdba4685b2ce6",
            "max": 1,
            "min": 0,
            "orientation": "horizontal",
            "style": "IPY_MODEL_d17f410ebd64498b88e605992be47322",
            "tabbable": null,
            "tooltip": null,
            "value": 1
          }
        },
        "e596e5249d764a689223e5d7d7d8782e": {
          "model_module": "@jupyter-widgets/base",
          "model_name": "LayoutModel",
          "model_module_version": "2.0.0",
          "state": {
            "_model_module": "@jupyter-widgets/base",
            "_model_module_version": "2.0.0",
            "_model_name": "LayoutModel",
            "_view_count": null,
            "_view_module": "@jupyter-widgets/base",
            "_view_module_version": "2.0.0",
            "_view_name": "LayoutView",
            "align_content": null,
            "align_items": null,
            "align_self": null,
            "border_bottom": null,
            "border_left": null,
            "border_right": null,
            "border_top": null,
            "bottom": null,
            "display": null,
            "flex": null,
            "flex_flow": null,
            "grid_area": null,
            "grid_auto_columns": null,
            "grid_auto_flow": null,
            "grid_auto_rows": null,
            "grid_column": null,
            "grid_gap": null,
            "grid_row": null,
            "grid_template_areas": null,
            "grid_template_columns": null,
            "grid_template_rows": null,
            "height": null,
            "justify_content": null,
            "justify_items": null,
            "left": null,
            "margin": null,
            "max_height": null,
            "max_width": null,
            "min_height": null,
            "min_width": null,
            "object_fit": null,
            "object_position": null,
            "order": null,
            "overflow": null,
            "padding": null,
            "right": null,
            "top": null,
            "visibility": null,
            "width": null
          }
        },
        "eae4976a93094106944bf067ef698446": {
          "model_module": "@jupyter-widgets/base",
          "model_name": "LayoutModel",
          "model_module_version": "2.0.0",
          "state": {
            "_model_module": "@jupyter-widgets/base",
            "_model_module_version": "2.0.0",
            "_model_name": "LayoutModel",
            "_view_count": null,
            "_view_module": "@jupyter-widgets/base",
            "_view_module_version": "2.0.0",
            "_view_name": "LayoutView",
            "align_content": null,
            "align_items": null,
            "align_self": null,
            "border_bottom": null,
            "border_left": null,
            "border_right": null,
            "border_top": null,
            "bottom": null,
            "display": null,
            "flex": null,
            "flex_flow": null,
            "grid_area": null,
            "grid_auto_columns": null,
            "grid_auto_flow": null,
            "grid_auto_rows": null,
            "grid_column": null,
            "grid_gap": null,
            "grid_row": null,
            "grid_template_areas": null,
            "grid_template_columns": null,
            "grid_template_rows": null,
            "height": null,
            "justify_content": null,
            "justify_items": null,
            "left": null,
            "margin": null,
            "max_height": null,
            "max_width": null,
            "min_height": null,
            "min_width": null,
            "object_fit": null,
            "object_position": null,
            "order": null,
            "overflow": null,
            "padding": null,
            "right": null,
            "top": null,
            "visibility": null,
            "width": null
          }
        },
        "00da85db0b67414585535546e7f9125b": {
          "model_module": "@jupyter-widgets/controls",
          "model_name": "LabelStyleModel",
          "model_module_version": "2.0.0",
          "state": {
            "_model_module": "@jupyter-widgets/controls",
            "_model_module_version": "2.0.0",
            "_model_name": "LabelStyleModel",
            "_view_count": null,
            "_view_module": "@jupyter-widgets/base",
            "_view_module_version": "2.0.0",
            "_view_name": "StyleView",
            "background": null,
            "description_width": "",
            "font_family": null,
            "font_size": null,
            "font_style": null,
            "font_variant": null,
            "font_weight": null,
            "text_color": null,
            "text_decoration": null
          }
        },
        "6ccf67bf91754c08879cdba4685b2ce6": {
          "model_module": "@jupyter-widgets/base",
          "model_name": "LayoutModel",
          "model_module_version": "2.0.0",
          "state": {
            "_model_module": "@jupyter-widgets/base",
            "_model_module_version": "2.0.0",
            "_model_name": "LayoutModel",
            "_view_count": null,
            "_view_module": "@jupyter-widgets/base",
            "_view_module_version": "2.0.0",
            "_view_name": "LayoutView",
            "align_content": null,
            "align_items": null,
            "align_self": null,
            "border_bottom": null,
            "border_left": null,
            "border_right": null,
            "border_top": null,
            "bottom": null,
            "display": null,
            "flex": null,
            "flex_flow": null,
            "grid_area": null,
            "grid_auto_columns": null,
            "grid_auto_flow": null,
            "grid_auto_rows": null,
            "grid_column": null,
            "grid_gap": null,
            "grid_row": null,
            "grid_template_areas": null,
            "grid_template_columns": null,
            "grid_template_rows": null,
            "height": null,
            "justify_content": null,
            "justify_items": null,
            "left": null,
            "margin": null,
            "max_height": null,
            "max_width": null,
            "min_height": null,
            "min_width": null,
            "object_fit": null,
            "object_position": null,
            "order": null,
            "overflow": null,
            "padding": null,
            "right": null,
            "top": null,
            "visibility": null,
            "width": null
          }
        },
        "d17f410ebd64498b88e605992be47322": {
          "model_module": "@jupyter-widgets/controls",
          "model_name": "ProgressStyleModel",
          "model_module_version": "2.0.0",
          "state": {
            "_model_module": "@jupyter-widgets/controls",
            "_model_module_version": "2.0.0",
            "_model_name": "ProgressStyleModel",
            "_view_count": null,
            "_view_module": "@jupyter-widgets/base",
            "_view_module_version": "2.0.0",
            "_view_name": "StyleView",
            "bar_color": null,
            "description_width": ""
          }
        },
        "fb6cabdea81f42898cfd5e1354fb21fa": {
          "model_module": "@jupyter-widgets/controls",
          "model_name": "VBoxModel",
          "model_module_version": "2.0.0",
          "state": {
            "_dom_classes": [],
            "_model_module": "@jupyter-widgets/controls",
            "_model_module_version": "2.0.0",
            "_model_name": "VBoxModel",
            "_view_count": null,
            "_view_module": "@jupyter-widgets/controls",
            "_view_module_version": "2.0.0",
            "_view_name": "VBoxView",
            "box_style": "",
            "children": [
              "IPY_MODEL_692e54102b644c4ea75b58524bc1f1dd",
              "IPY_MODEL_9e7a22e41fb9492b89b88859fc0e9a13"
            ],
            "layout": "IPY_MODEL_66a13ad8985d4737873941eab510ce3c",
            "tabbable": null,
            "tooltip": null
          }
        },
        "692e54102b644c4ea75b58524bc1f1dd": {
          "model_module": "@jupyter-widgets/controls",
          "model_name": "LabelModel",
          "model_module_version": "2.0.0",
          "state": {
            "_dom_classes": [],
            "_model_module": "@jupyter-widgets/controls",
            "_model_module_version": "2.0.0",
            "_model_name": "LabelModel",
            "_view_count": null,
            "_view_module": "@jupyter-widgets/controls",
            "_view_module_version": "2.0.0",
            "_view_name": "LabelView",
            "description": "",
            "description_allow_html": false,
            "layout": "IPY_MODEL_8de803db67054fdcac5e1a57b1df834e",
            "placeholder": "​",
            "style": "IPY_MODEL_21ad1699dc8a464b93a018244c357c89",
            "tabbable": null,
            "tooltip": null,
            "value": "0.425 MB of 0.425 MB uploaded (0.000 MB deduped)\r"
          }
        },
        "9e7a22e41fb9492b89b88859fc0e9a13": {
          "model_module": "@jupyter-widgets/controls",
          "model_name": "FloatProgressModel",
          "model_module_version": "2.0.0",
          "state": {
            "_dom_classes": [],
            "_model_module": "@jupyter-widgets/controls",
            "_model_module_version": "2.0.0",
            "_model_name": "FloatProgressModel",
            "_view_count": null,
            "_view_module": "@jupyter-widgets/controls",
            "_view_module_version": "2.0.0",
            "_view_name": "ProgressView",
            "bar_style": "",
            "description": "",
            "description_allow_html": false,
            "layout": "IPY_MODEL_fdf416873f714d2e86b5922a140b0d84",
            "max": 1,
            "min": 0,
            "orientation": "horizontal",
            "style": "IPY_MODEL_cffbe00cfedf4e60994a6183488c6a57",
            "tabbable": null,
            "tooltip": null,
            "value": 1
          }
        },
        "66a13ad8985d4737873941eab510ce3c": {
          "model_module": "@jupyter-widgets/base",
          "model_name": "LayoutModel",
          "model_module_version": "2.0.0",
          "state": {
            "_model_module": "@jupyter-widgets/base",
            "_model_module_version": "2.0.0",
            "_model_name": "LayoutModel",
            "_view_count": null,
            "_view_module": "@jupyter-widgets/base",
            "_view_module_version": "2.0.0",
            "_view_name": "LayoutView",
            "align_content": null,
            "align_items": null,
            "align_self": null,
            "border_bottom": null,
            "border_left": null,
            "border_right": null,
            "border_top": null,
            "bottom": null,
            "display": null,
            "flex": null,
            "flex_flow": null,
            "grid_area": null,
            "grid_auto_columns": null,
            "grid_auto_flow": null,
            "grid_auto_rows": null,
            "grid_column": null,
            "grid_gap": null,
            "grid_row": null,
            "grid_template_areas": null,
            "grid_template_columns": null,
            "grid_template_rows": null,
            "height": null,
            "justify_content": null,
            "justify_items": null,
            "left": null,
            "margin": null,
            "max_height": null,
            "max_width": null,
            "min_height": null,
            "min_width": null,
            "object_fit": null,
            "object_position": null,
            "order": null,
            "overflow": null,
            "padding": null,
            "right": null,
            "top": null,
            "visibility": null,
            "width": null
          }
        },
        "8de803db67054fdcac5e1a57b1df834e": {
          "model_module": "@jupyter-widgets/base",
          "model_name": "LayoutModel",
          "model_module_version": "2.0.0",
          "state": {
            "_model_module": "@jupyter-widgets/base",
            "_model_module_version": "2.0.0",
            "_model_name": "LayoutModel",
            "_view_count": null,
            "_view_module": "@jupyter-widgets/base",
            "_view_module_version": "2.0.0",
            "_view_name": "LayoutView",
            "align_content": null,
            "align_items": null,
            "align_self": null,
            "border_bottom": null,
            "border_left": null,
            "border_right": null,
            "border_top": null,
            "bottom": null,
            "display": null,
            "flex": null,
            "flex_flow": null,
            "grid_area": null,
            "grid_auto_columns": null,
            "grid_auto_flow": null,
            "grid_auto_rows": null,
            "grid_column": null,
            "grid_gap": null,
            "grid_row": null,
            "grid_template_areas": null,
            "grid_template_columns": null,
            "grid_template_rows": null,
            "height": null,
            "justify_content": null,
            "justify_items": null,
            "left": null,
            "margin": null,
            "max_height": null,
            "max_width": null,
            "min_height": null,
            "min_width": null,
            "object_fit": null,
            "object_position": null,
            "order": null,
            "overflow": null,
            "padding": null,
            "right": null,
            "top": null,
            "visibility": null,
            "width": null
          }
        },
        "21ad1699dc8a464b93a018244c357c89": {
          "model_module": "@jupyter-widgets/controls",
          "model_name": "LabelStyleModel",
          "model_module_version": "2.0.0",
          "state": {
            "_model_module": "@jupyter-widgets/controls",
            "_model_module_version": "2.0.0",
            "_model_name": "LabelStyleModel",
            "_view_count": null,
            "_view_module": "@jupyter-widgets/base",
            "_view_module_version": "2.0.0",
            "_view_name": "StyleView",
            "background": null,
            "description_width": "",
            "font_family": null,
            "font_size": null,
            "font_style": null,
            "font_variant": null,
            "font_weight": null,
            "text_color": null,
            "text_decoration": null
          }
        },
        "fdf416873f714d2e86b5922a140b0d84": {
          "model_module": "@jupyter-widgets/base",
          "model_name": "LayoutModel",
          "model_module_version": "2.0.0",
          "state": {
            "_model_module": "@jupyter-widgets/base",
            "_model_module_version": "2.0.0",
            "_model_name": "LayoutModel",
            "_view_count": null,
            "_view_module": "@jupyter-widgets/base",
            "_view_module_version": "2.0.0",
            "_view_name": "LayoutView",
            "align_content": null,
            "align_items": null,
            "align_self": null,
            "border_bottom": null,
            "border_left": null,
            "border_right": null,
            "border_top": null,
            "bottom": null,
            "display": null,
            "flex": null,
            "flex_flow": null,
            "grid_area": null,
            "grid_auto_columns": null,
            "grid_auto_flow": null,
            "grid_auto_rows": null,
            "grid_column": null,
            "grid_gap": null,
            "grid_row": null,
            "grid_template_areas": null,
            "grid_template_columns": null,
            "grid_template_rows": null,
            "height": null,
            "justify_content": null,
            "justify_items": null,
            "left": null,
            "margin": null,
            "max_height": null,
            "max_width": null,
            "min_height": null,
            "min_width": null,
            "object_fit": null,
            "object_position": null,
            "order": null,
            "overflow": null,
            "padding": null,
            "right": null,
            "top": null,
            "visibility": null,
            "width": null
          }
        },
        "cffbe00cfedf4e60994a6183488c6a57": {
          "model_module": "@jupyter-widgets/controls",
          "model_name": "ProgressStyleModel",
          "model_module_version": "2.0.0",
          "state": {
            "_model_module": "@jupyter-widgets/controls",
            "_model_module_version": "2.0.0",
            "_model_name": "ProgressStyleModel",
            "_view_count": null,
            "_view_module": "@jupyter-widgets/base",
            "_view_module_version": "2.0.0",
            "_view_name": "StyleView",
            "bar_color": null,
            "description_width": ""
          }
        },
        "fdce49f375344506aa05806b0232ccb0": {
          "model_module": "@jupyter-widgets/controls",
          "model_name": "VBoxModel",
          "model_module_version": "2.0.0",
          "state": {
            "_dom_classes": [],
            "_model_module": "@jupyter-widgets/controls",
            "_model_module_version": "2.0.0",
            "_model_name": "VBoxModel",
            "_view_count": null,
            "_view_module": "@jupyter-widgets/controls",
            "_view_module_version": "2.0.0",
            "_view_name": "VBoxView",
            "box_style": "",
            "children": [
              "IPY_MODEL_8af92f6481884c7c9966d7a072b2f6bf",
              "IPY_MODEL_76b0299ef00941d99371f5c109fe9b9a"
            ],
            "layout": "IPY_MODEL_bfdf7c7bdc1e43b2aaf92e0e10093753",
            "tabbable": null,
            "tooltip": null
          }
        },
        "8af92f6481884c7c9966d7a072b2f6bf": {
          "model_module": "@jupyter-widgets/controls",
          "model_name": "LabelModel",
          "model_module_version": "2.0.0",
          "state": {
            "_dom_classes": [],
            "_model_module": "@jupyter-widgets/controls",
            "_model_module_version": "2.0.0",
            "_model_name": "LabelModel",
            "_view_count": null,
            "_view_module": "@jupyter-widgets/controls",
            "_view_module_version": "2.0.0",
            "_view_name": "LabelView",
            "description": "",
            "description_allow_html": false,
            "layout": "IPY_MODEL_95466ed95225478a8b66b59ab305088e",
            "placeholder": "​",
            "style": "IPY_MODEL_799b76e41cea4fa19199cad58f97216b",
            "tabbable": null,
            "tooltip": null,
            "value": "0.479 MB of 0.479 MB uploaded (0.000 MB deduped)\r"
          }
        },
        "76b0299ef00941d99371f5c109fe9b9a": {
          "model_module": "@jupyter-widgets/controls",
          "model_name": "FloatProgressModel",
          "model_module_version": "2.0.0",
          "state": {
            "_dom_classes": [],
            "_model_module": "@jupyter-widgets/controls",
            "_model_module_version": "2.0.0",
            "_model_name": "FloatProgressModel",
            "_view_count": null,
            "_view_module": "@jupyter-widgets/controls",
            "_view_module_version": "2.0.0",
            "_view_name": "ProgressView",
            "bar_style": "",
            "description": "",
            "description_allow_html": false,
            "layout": "IPY_MODEL_5a875c2164b64408ba2f2d76df536f21",
            "max": 1,
            "min": 0,
            "orientation": "horizontal",
            "style": "IPY_MODEL_3dee6f723f514b168d269a60faec94ea",
            "tabbable": null,
            "tooltip": null,
            "value": 1
          }
        },
        "bfdf7c7bdc1e43b2aaf92e0e10093753": {
          "model_module": "@jupyter-widgets/base",
          "model_name": "LayoutModel",
          "model_module_version": "2.0.0",
          "state": {
            "_model_module": "@jupyter-widgets/base",
            "_model_module_version": "2.0.0",
            "_model_name": "LayoutModel",
            "_view_count": null,
            "_view_module": "@jupyter-widgets/base",
            "_view_module_version": "2.0.0",
            "_view_name": "LayoutView",
            "align_content": null,
            "align_items": null,
            "align_self": null,
            "border_bottom": null,
            "border_left": null,
            "border_right": null,
            "border_top": null,
            "bottom": null,
            "display": null,
            "flex": null,
            "flex_flow": null,
            "grid_area": null,
            "grid_auto_columns": null,
            "grid_auto_flow": null,
            "grid_auto_rows": null,
            "grid_column": null,
            "grid_gap": null,
            "grid_row": null,
            "grid_template_areas": null,
            "grid_template_columns": null,
            "grid_template_rows": null,
            "height": null,
            "justify_content": null,
            "justify_items": null,
            "left": null,
            "margin": null,
            "max_height": null,
            "max_width": null,
            "min_height": null,
            "min_width": null,
            "object_fit": null,
            "object_position": null,
            "order": null,
            "overflow": null,
            "padding": null,
            "right": null,
            "top": null,
            "visibility": null,
            "width": null
          }
        },
        "95466ed95225478a8b66b59ab305088e": {
          "model_module": "@jupyter-widgets/base",
          "model_name": "LayoutModel",
          "model_module_version": "2.0.0",
          "state": {
            "_model_module": "@jupyter-widgets/base",
            "_model_module_version": "2.0.0",
            "_model_name": "LayoutModel",
            "_view_count": null,
            "_view_module": "@jupyter-widgets/base",
            "_view_module_version": "2.0.0",
            "_view_name": "LayoutView",
            "align_content": null,
            "align_items": null,
            "align_self": null,
            "border_bottom": null,
            "border_left": null,
            "border_right": null,
            "border_top": null,
            "bottom": null,
            "display": null,
            "flex": null,
            "flex_flow": null,
            "grid_area": null,
            "grid_auto_columns": null,
            "grid_auto_flow": null,
            "grid_auto_rows": null,
            "grid_column": null,
            "grid_gap": null,
            "grid_row": null,
            "grid_template_areas": null,
            "grid_template_columns": null,
            "grid_template_rows": null,
            "height": null,
            "justify_content": null,
            "justify_items": null,
            "left": null,
            "margin": null,
            "max_height": null,
            "max_width": null,
            "min_height": null,
            "min_width": null,
            "object_fit": null,
            "object_position": null,
            "order": null,
            "overflow": null,
            "padding": null,
            "right": null,
            "top": null,
            "visibility": null,
            "width": null
          }
        },
        "799b76e41cea4fa19199cad58f97216b": {
          "model_module": "@jupyter-widgets/controls",
          "model_name": "LabelStyleModel",
          "model_module_version": "2.0.0",
          "state": {
            "_model_module": "@jupyter-widgets/controls",
            "_model_module_version": "2.0.0",
            "_model_name": "LabelStyleModel",
            "_view_count": null,
            "_view_module": "@jupyter-widgets/base",
            "_view_module_version": "2.0.0",
            "_view_name": "StyleView",
            "background": null,
            "description_width": "",
            "font_family": null,
            "font_size": null,
            "font_style": null,
            "font_variant": null,
            "font_weight": null,
            "text_color": null,
            "text_decoration": null
          }
        },
        "5a875c2164b64408ba2f2d76df536f21": {
          "model_module": "@jupyter-widgets/base",
          "model_name": "LayoutModel",
          "model_module_version": "2.0.0",
          "state": {
            "_model_module": "@jupyter-widgets/base",
            "_model_module_version": "2.0.0",
            "_model_name": "LayoutModel",
            "_view_count": null,
            "_view_module": "@jupyter-widgets/base",
            "_view_module_version": "2.0.0",
            "_view_name": "LayoutView",
            "align_content": null,
            "align_items": null,
            "align_self": null,
            "border_bottom": null,
            "border_left": null,
            "border_right": null,
            "border_top": null,
            "bottom": null,
            "display": null,
            "flex": null,
            "flex_flow": null,
            "grid_area": null,
            "grid_auto_columns": null,
            "grid_auto_flow": null,
            "grid_auto_rows": null,
            "grid_column": null,
            "grid_gap": null,
            "grid_row": null,
            "grid_template_areas": null,
            "grid_template_columns": null,
            "grid_template_rows": null,
            "height": null,
            "justify_content": null,
            "justify_items": null,
            "left": null,
            "margin": null,
            "max_height": null,
            "max_width": null,
            "min_height": null,
            "min_width": null,
            "object_fit": null,
            "object_position": null,
            "order": null,
            "overflow": null,
            "padding": null,
            "right": null,
            "top": null,
            "visibility": null,
            "width": null
          }
        },
        "3dee6f723f514b168d269a60faec94ea": {
          "model_module": "@jupyter-widgets/controls",
          "model_name": "ProgressStyleModel",
          "model_module_version": "2.0.0",
          "state": {
            "_model_module": "@jupyter-widgets/controls",
            "_model_module_version": "2.0.0",
            "_model_name": "ProgressStyleModel",
            "_view_count": null,
            "_view_module": "@jupyter-widgets/base",
            "_view_module_version": "2.0.0",
            "_view_name": "StyleView",
            "bar_color": null,
            "description_width": ""
          }
        },
        "ba970630da774a23a6e715e39462dad3": {
          "model_module": "@jupyter-widgets/controls",
          "model_name": "VBoxModel",
          "model_module_version": "2.0.0",
          "state": {
            "_dom_classes": [],
            "_model_module": "@jupyter-widgets/controls",
            "_model_module_version": "2.0.0",
            "_model_name": "VBoxModel",
            "_view_count": null,
            "_view_module": "@jupyter-widgets/controls",
            "_view_module_version": "2.0.0",
            "_view_name": "VBoxView",
            "box_style": "",
            "children": [
              "IPY_MODEL_5a96a65227d849f88c8a29e603e3daf8",
              "IPY_MODEL_9f538ce30e944dd7832d7f3e6170b595"
            ],
            "layout": "IPY_MODEL_0e3ab6de5d6f43eb9f235655f272c8d3",
            "tabbable": null,
            "tooltip": null
          }
        },
        "5a96a65227d849f88c8a29e603e3daf8": {
          "model_module": "@jupyter-widgets/controls",
          "model_name": "LabelModel",
          "model_module_version": "2.0.0",
          "state": {
            "_dom_classes": [],
            "_model_module": "@jupyter-widgets/controls",
            "_model_module_version": "2.0.0",
            "_model_name": "LabelModel",
            "_view_count": null,
            "_view_module": "@jupyter-widgets/controls",
            "_view_module_version": "2.0.0",
            "_view_name": "LabelView",
            "description": "",
            "description_allow_html": false,
            "layout": "IPY_MODEL_3cf24ca5736e4abaa2ae41a54c7f4668",
            "placeholder": "​",
            "style": "IPY_MODEL_e8fd2b34bea64f2c9bac30bb5aa8ad1d",
            "tabbable": null,
            "tooltip": null,
            "value": "0.587 MB of 0.587 MB uploaded (0.000 MB deduped)\r"
          }
        },
        "9f538ce30e944dd7832d7f3e6170b595": {
          "model_module": "@jupyter-widgets/controls",
          "model_name": "FloatProgressModel",
          "model_module_version": "2.0.0",
          "state": {
            "_dom_classes": [],
            "_model_module": "@jupyter-widgets/controls",
            "_model_module_version": "2.0.0",
            "_model_name": "FloatProgressModel",
            "_view_count": null,
            "_view_module": "@jupyter-widgets/controls",
            "_view_module_version": "2.0.0",
            "_view_name": "ProgressView",
            "bar_style": "",
            "description": "",
            "description_allow_html": false,
            "layout": "IPY_MODEL_608869f698bc49fbaa62a38160bbf70b",
            "max": 1,
            "min": 0,
            "orientation": "horizontal",
            "style": "IPY_MODEL_b910f7a45c934699a57d75a55b130357",
            "tabbable": null,
            "tooltip": null,
            "value": 1
          }
        },
        "0e3ab6de5d6f43eb9f235655f272c8d3": {
          "model_module": "@jupyter-widgets/base",
          "model_name": "LayoutModel",
          "model_module_version": "2.0.0",
          "state": {
            "_model_module": "@jupyter-widgets/base",
            "_model_module_version": "2.0.0",
            "_model_name": "LayoutModel",
            "_view_count": null,
            "_view_module": "@jupyter-widgets/base",
            "_view_module_version": "2.0.0",
            "_view_name": "LayoutView",
            "align_content": null,
            "align_items": null,
            "align_self": null,
            "border_bottom": null,
            "border_left": null,
            "border_right": null,
            "border_top": null,
            "bottom": null,
            "display": null,
            "flex": null,
            "flex_flow": null,
            "grid_area": null,
            "grid_auto_columns": null,
            "grid_auto_flow": null,
            "grid_auto_rows": null,
            "grid_column": null,
            "grid_gap": null,
            "grid_row": null,
            "grid_template_areas": null,
            "grid_template_columns": null,
            "grid_template_rows": null,
            "height": null,
            "justify_content": null,
            "justify_items": null,
            "left": null,
            "margin": null,
            "max_height": null,
            "max_width": null,
            "min_height": null,
            "min_width": null,
            "object_fit": null,
            "object_position": null,
            "order": null,
            "overflow": null,
            "padding": null,
            "right": null,
            "top": null,
            "visibility": null,
            "width": null
          }
        },
        "3cf24ca5736e4abaa2ae41a54c7f4668": {
          "model_module": "@jupyter-widgets/base",
          "model_name": "LayoutModel",
          "model_module_version": "2.0.0",
          "state": {
            "_model_module": "@jupyter-widgets/base",
            "_model_module_version": "2.0.0",
            "_model_name": "LayoutModel",
            "_view_count": null,
            "_view_module": "@jupyter-widgets/base",
            "_view_module_version": "2.0.0",
            "_view_name": "LayoutView",
            "align_content": null,
            "align_items": null,
            "align_self": null,
            "border_bottom": null,
            "border_left": null,
            "border_right": null,
            "border_top": null,
            "bottom": null,
            "display": null,
            "flex": null,
            "flex_flow": null,
            "grid_area": null,
            "grid_auto_columns": null,
            "grid_auto_flow": null,
            "grid_auto_rows": null,
            "grid_column": null,
            "grid_gap": null,
            "grid_row": null,
            "grid_template_areas": null,
            "grid_template_columns": null,
            "grid_template_rows": null,
            "height": null,
            "justify_content": null,
            "justify_items": null,
            "left": null,
            "margin": null,
            "max_height": null,
            "max_width": null,
            "min_height": null,
            "min_width": null,
            "object_fit": null,
            "object_position": null,
            "order": null,
            "overflow": null,
            "padding": null,
            "right": null,
            "top": null,
            "visibility": null,
            "width": null
          }
        },
        "e8fd2b34bea64f2c9bac30bb5aa8ad1d": {
          "model_module": "@jupyter-widgets/controls",
          "model_name": "LabelStyleModel",
          "model_module_version": "2.0.0",
          "state": {
            "_model_module": "@jupyter-widgets/controls",
            "_model_module_version": "2.0.0",
            "_model_name": "LabelStyleModel",
            "_view_count": null,
            "_view_module": "@jupyter-widgets/base",
            "_view_module_version": "2.0.0",
            "_view_name": "StyleView",
            "background": null,
            "description_width": "",
            "font_family": null,
            "font_size": null,
            "font_style": null,
            "font_variant": null,
            "font_weight": null,
            "text_color": null,
            "text_decoration": null
          }
        },
        "608869f698bc49fbaa62a38160bbf70b": {
          "model_module": "@jupyter-widgets/base",
          "model_name": "LayoutModel",
          "model_module_version": "2.0.0",
          "state": {
            "_model_module": "@jupyter-widgets/base",
            "_model_module_version": "2.0.0",
            "_model_name": "LayoutModel",
            "_view_count": null,
            "_view_module": "@jupyter-widgets/base",
            "_view_module_version": "2.0.0",
            "_view_name": "LayoutView",
            "align_content": null,
            "align_items": null,
            "align_self": null,
            "border_bottom": null,
            "border_left": null,
            "border_right": null,
            "border_top": null,
            "bottom": null,
            "display": null,
            "flex": null,
            "flex_flow": null,
            "grid_area": null,
            "grid_auto_columns": null,
            "grid_auto_flow": null,
            "grid_auto_rows": null,
            "grid_column": null,
            "grid_gap": null,
            "grid_row": null,
            "grid_template_areas": null,
            "grid_template_columns": null,
            "grid_template_rows": null,
            "height": null,
            "justify_content": null,
            "justify_items": null,
            "left": null,
            "margin": null,
            "max_height": null,
            "max_width": null,
            "min_height": null,
            "min_width": null,
            "object_fit": null,
            "object_position": null,
            "order": null,
            "overflow": null,
            "padding": null,
            "right": null,
            "top": null,
            "visibility": null,
            "width": null
          }
        },
        "b910f7a45c934699a57d75a55b130357": {
          "model_module": "@jupyter-widgets/controls",
          "model_name": "ProgressStyleModel",
          "model_module_version": "2.0.0",
          "state": {
            "_model_module": "@jupyter-widgets/controls",
            "_model_module_version": "2.0.0",
            "_model_name": "ProgressStyleModel",
            "_view_count": null,
            "_view_module": "@jupyter-widgets/base",
            "_view_module_version": "2.0.0",
            "_view_name": "StyleView",
            "bar_color": null,
            "description_width": ""
          }
        },
        "35a7457f12c741d790b33512de86bcec": {
          "model_module": "@jupyter-widgets/controls",
          "model_name": "VBoxModel",
          "model_module_version": "2.0.0",
          "state": {
            "_dom_classes": [],
            "_model_module": "@jupyter-widgets/controls",
            "_model_module_version": "2.0.0",
            "_model_name": "VBoxModel",
            "_view_count": null,
            "_view_module": "@jupyter-widgets/controls",
            "_view_module_version": "2.0.0",
            "_view_name": "VBoxView",
            "box_style": "",
            "children": [
              "IPY_MODEL_4adc276f05e34e05bcabdf44bc9c0134",
              "IPY_MODEL_53a4d551f0b246eb8a8793a8981e6593"
            ],
            "layout": "IPY_MODEL_aa167264f4a84aafa07145fc2a619bb1",
            "tabbable": null,
            "tooltip": null
          }
        },
        "4adc276f05e34e05bcabdf44bc9c0134": {
          "model_module": "@jupyter-widgets/controls",
          "model_name": "LabelModel",
          "model_module_version": "2.0.0",
          "state": {
            "_dom_classes": [],
            "_model_module": "@jupyter-widgets/controls",
            "_model_module_version": "2.0.0",
            "_model_name": "LabelModel",
            "_view_count": null,
            "_view_module": "@jupyter-widgets/controls",
            "_view_module_version": "2.0.0",
            "_view_name": "LabelView",
            "description": "",
            "description_allow_html": false,
            "layout": "IPY_MODEL_ad5db8aa7e674cda9b81274351aa7018",
            "placeholder": "​",
            "style": "IPY_MODEL_ca613e3a5577460899e2da2f7adf9175",
            "tabbable": null,
            "tooltip": null,
            "value": "0.460 MB of 0.460 MB uploaded (0.000 MB deduped)\r"
          }
        },
        "53a4d551f0b246eb8a8793a8981e6593": {
          "model_module": "@jupyter-widgets/controls",
          "model_name": "FloatProgressModel",
          "model_module_version": "2.0.0",
          "state": {
            "_dom_classes": [],
            "_model_module": "@jupyter-widgets/controls",
            "_model_module_version": "2.0.0",
            "_model_name": "FloatProgressModel",
            "_view_count": null,
            "_view_module": "@jupyter-widgets/controls",
            "_view_module_version": "2.0.0",
            "_view_name": "ProgressView",
            "bar_style": "",
            "description": "",
            "description_allow_html": false,
            "layout": "IPY_MODEL_313556b540c646a8b9e94aeb5370f3dc",
            "max": 1,
            "min": 0,
            "orientation": "horizontal",
            "style": "IPY_MODEL_1574262d837f42e1b872e3d67efb101c",
            "tabbable": null,
            "tooltip": null,
            "value": 1
          }
        },
        "aa167264f4a84aafa07145fc2a619bb1": {
          "model_module": "@jupyter-widgets/base",
          "model_name": "LayoutModel",
          "model_module_version": "2.0.0",
          "state": {
            "_model_module": "@jupyter-widgets/base",
            "_model_module_version": "2.0.0",
            "_model_name": "LayoutModel",
            "_view_count": null,
            "_view_module": "@jupyter-widgets/base",
            "_view_module_version": "2.0.0",
            "_view_name": "LayoutView",
            "align_content": null,
            "align_items": null,
            "align_self": null,
            "border_bottom": null,
            "border_left": null,
            "border_right": null,
            "border_top": null,
            "bottom": null,
            "display": null,
            "flex": null,
            "flex_flow": null,
            "grid_area": null,
            "grid_auto_columns": null,
            "grid_auto_flow": null,
            "grid_auto_rows": null,
            "grid_column": null,
            "grid_gap": null,
            "grid_row": null,
            "grid_template_areas": null,
            "grid_template_columns": null,
            "grid_template_rows": null,
            "height": null,
            "justify_content": null,
            "justify_items": null,
            "left": null,
            "margin": null,
            "max_height": null,
            "max_width": null,
            "min_height": null,
            "min_width": null,
            "object_fit": null,
            "object_position": null,
            "order": null,
            "overflow": null,
            "padding": null,
            "right": null,
            "top": null,
            "visibility": null,
            "width": null
          }
        },
        "ad5db8aa7e674cda9b81274351aa7018": {
          "model_module": "@jupyter-widgets/base",
          "model_name": "LayoutModel",
          "model_module_version": "2.0.0",
          "state": {
            "_model_module": "@jupyter-widgets/base",
            "_model_module_version": "2.0.0",
            "_model_name": "LayoutModel",
            "_view_count": null,
            "_view_module": "@jupyter-widgets/base",
            "_view_module_version": "2.0.0",
            "_view_name": "LayoutView",
            "align_content": null,
            "align_items": null,
            "align_self": null,
            "border_bottom": null,
            "border_left": null,
            "border_right": null,
            "border_top": null,
            "bottom": null,
            "display": null,
            "flex": null,
            "flex_flow": null,
            "grid_area": null,
            "grid_auto_columns": null,
            "grid_auto_flow": null,
            "grid_auto_rows": null,
            "grid_column": null,
            "grid_gap": null,
            "grid_row": null,
            "grid_template_areas": null,
            "grid_template_columns": null,
            "grid_template_rows": null,
            "height": null,
            "justify_content": null,
            "justify_items": null,
            "left": null,
            "margin": null,
            "max_height": null,
            "max_width": null,
            "min_height": null,
            "min_width": null,
            "object_fit": null,
            "object_position": null,
            "order": null,
            "overflow": null,
            "padding": null,
            "right": null,
            "top": null,
            "visibility": null,
            "width": null
          }
        },
        "ca613e3a5577460899e2da2f7adf9175": {
          "model_module": "@jupyter-widgets/controls",
          "model_name": "LabelStyleModel",
          "model_module_version": "2.0.0",
          "state": {
            "_model_module": "@jupyter-widgets/controls",
            "_model_module_version": "2.0.0",
            "_model_name": "LabelStyleModel",
            "_view_count": null,
            "_view_module": "@jupyter-widgets/base",
            "_view_module_version": "2.0.0",
            "_view_name": "StyleView",
            "background": null,
            "description_width": "",
            "font_family": null,
            "font_size": null,
            "font_style": null,
            "font_variant": null,
            "font_weight": null,
            "text_color": null,
            "text_decoration": null
          }
        },
        "313556b540c646a8b9e94aeb5370f3dc": {
          "model_module": "@jupyter-widgets/base",
          "model_name": "LayoutModel",
          "model_module_version": "2.0.0",
          "state": {
            "_model_module": "@jupyter-widgets/base",
            "_model_module_version": "2.0.0",
            "_model_name": "LayoutModel",
            "_view_count": null,
            "_view_module": "@jupyter-widgets/base",
            "_view_module_version": "2.0.0",
            "_view_name": "LayoutView",
            "align_content": null,
            "align_items": null,
            "align_self": null,
            "border_bottom": null,
            "border_left": null,
            "border_right": null,
            "border_top": null,
            "bottom": null,
            "display": null,
            "flex": null,
            "flex_flow": null,
            "grid_area": null,
            "grid_auto_columns": null,
            "grid_auto_flow": null,
            "grid_auto_rows": null,
            "grid_column": null,
            "grid_gap": null,
            "grid_row": null,
            "grid_template_areas": null,
            "grid_template_columns": null,
            "grid_template_rows": null,
            "height": null,
            "justify_content": null,
            "justify_items": null,
            "left": null,
            "margin": null,
            "max_height": null,
            "max_width": null,
            "min_height": null,
            "min_width": null,
            "object_fit": null,
            "object_position": null,
            "order": null,
            "overflow": null,
            "padding": null,
            "right": null,
            "top": null,
            "visibility": null,
            "width": null
          }
        },
        "1574262d837f42e1b872e3d67efb101c": {
          "model_module": "@jupyter-widgets/controls",
          "model_name": "ProgressStyleModel",
          "model_module_version": "2.0.0",
          "state": {
            "_model_module": "@jupyter-widgets/controls",
            "_model_module_version": "2.0.0",
            "_model_name": "ProgressStyleModel",
            "_view_count": null,
            "_view_module": "@jupyter-widgets/base",
            "_view_module_version": "2.0.0",
            "_view_name": "StyleView",
            "bar_color": null,
            "description_width": ""
          }
        },
        "8ca708508ddd400ca89ca62b9c883f87": {
          "model_module": "@jupyter-widgets/controls",
          "model_name": "VBoxModel",
          "model_module_version": "2.0.0",
          "state": {
            "_dom_classes": [],
            "_model_module": "@jupyter-widgets/controls",
            "_model_module_version": "2.0.0",
            "_model_name": "VBoxModel",
            "_view_count": null,
            "_view_module": "@jupyter-widgets/controls",
            "_view_module_version": "2.0.0",
            "_view_name": "VBoxView",
            "box_style": "",
            "children": [
              "IPY_MODEL_eefcc1736b4d4f11a214096e63f17eff",
              "IPY_MODEL_87326d58eedb427b826d6e369a855a16"
            ],
            "layout": "IPY_MODEL_abc75eb8b2504d8d9dba98347d827808",
            "tabbable": null,
            "tooltip": null
          }
        },
        "eefcc1736b4d4f11a214096e63f17eff": {
          "model_module": "@jupyter-widgets/controls",
          "model_name": "LabelModel",
          "model_module_version": "2.0.0",
          "state": {
            "_dom_classes": [],
            "_model_module": "@jupyter-widgets/controls",
            "_model_module_version": "2.0.0",
            "_model_name": "LabelModel",
            "_view_count": null,
            "_view_module": "@jupyter-widgets/controls",
            "_view_module_version": "2.0.0",
            "_view_name": "LabelView",
            "description": "",
            "description_allow_html": false,
            "layout": "IPY_MODEL_fa0b07b7da55440ebf4599180b446561",
            "placeholder": "​",
            "style": "IPY_MODEL_9131f385b412455baef764cfd612279e",
            "tabbable": null,
            "tooltip": null,
            "value": "0.507 MB of 0.507 MB uploaded (0.000 MB deduped)\r"
          }
        },
        "87326d58eedb427b826d6e369a855a16": {
          "model_module": "@jupyter-widgets/controls",
          "model_name": "FloatProgressModel",
          "model_module_version": "2.0.0",
          "state": {
            "_dom_classes": [],
            "_model_module": "@jupyter-widgets/controls",
            "_model_module_version": "2.0.0",
            "_model_name": "FloatProgressModel",
            "_view_count": null,
            "_view_module": "@jupyter-widgets/controls",
            "_view_module_version": "2.0.0",
            "_view_name": "ProgressView",
            "bar_style": "",
            "description": "",
            "description_allow_html": false,
            "layout": "IPY_MODEL_5dc705b7a21f4a99843d9fa74819d525",
            "max": 1,
            "min": 0,
            "orientation": "horizontal",
            "style": "IPY_MODEL_5ce5297ce260463789b0d012c415f7cf",
            "tabbable": null,
            "tooltip": null,
            "value": 1
          }
        },
        "abc75eb8b2504d8d9dba98347d827808": {
          "model_module": "@jupyter-widgets/base",
          "model_name": "LayoutModel",
          "model_module_version": "2.0.0",
          "state": {
            "_model_module": "@jupyter-widgets/base",
            "_model_module_version": "2.0.0",
            "_model_name": "LayoutModel",
            "_view_count": null,
            "_view_module": "@jupyter-widgets/base",
            "_view_module_version": "2.0.0",
            "_view_name": "LayoutView",
            "align_content": null,
            "align_items": null,
            "align_self": null,
            "border_bottom": null,
            "border_left": null,
            "border_right": null,
            "border_top": null,
            "bottom": null,
            "display": null,
            "flex": null,
            "flex_flow": null,
            "grid_area": null,
            "grid_auto_columns": null,
            "grid_auto_flow": null,
            "grid_auto_rows": null,
            "grid_column": null,
            "grid_gap": null,
            "grid_row": null,
            "grid_template_areas": null,
            "grid_template_columns": null,
            "grid_template_rows": null,
            "height": null,
            "justify_content": null,
            "justify_items": null,
            "left": null,
            "margin": null,
            "max_height": null,
            "max_width": null,
            "min_height": null,
            "min_width": null,
            "object_fit": null,
            "object_position": null,
            "order": null,
            "overflow": null,
            "padding": null,
            "right": null,
            "top": null,
            "visibility": null,
            "width": null
          }
        },
        "fa0b07b7da55440ebf4599180b446561": {
          "model_module": "@jupyter-widgets/base",
          "model_name": "LayoutModel",
          "model_module_version": "2.0.0",
          "state": {
            "_model_module": "@jupyter-widgets/base",
            "_model_module_version": "2.0.0",
            "_model_name": "LayoutModel",
            "_view_count": null,
            "_view_module": "@jupyter-widgets/base",
            "_view_module_version": "2.0.0",
            "_view_name": "LayoutView",
            "align_content": null,
            "align_items": null,
            "align_self": null,
            "border_bottom": null,
            "border_left": null,
            "border_right": null,
            "border_top": null,
            "bottom": null,
            "display": null,
            "flex": null,
            "flex_flow": null,
            "grid_area": null,
            "grid_auto_columns": null,
            "grid_auto_flow": null,
            "grid_auto_rows": null,
            "grid_column": null,
            "grid_gap": null,
            "grid_row": null,
            "grid_template_areas": null,
            "grid_template_columns": null,
            "grid_template_rows": null,
            "height": null,
            "justify_content": null,
            "justify_items": null,
            "left": null,
            "margin": null,
            "max_height": null,
            "max_width": null,
            "min_height": null,
            "min_width": null,
            "object_fit": null,
            "object_position": null,
            "order": null,
            "overflow": null,
            "padding": null,
            "right": null,
            "top": null,
            "visibility": null,
            "width": null
          }
        },
        "9131f385b412455baef764cfd612279e": {
          "model_module": "@jupyter-widgets/controls",
          "model_name": "LabelStyleModel",
          "model_module_version": "2.0.0",
          "state": {
            "_model_module": "@jupyter-widgets/controls",
            "_model_module_version": "2.0.0",
            "_model_name": "LabelStyleModel",
            "_view_count": null,
            "_view_module": "@jupyter-widgets/base",
            "_view_module_version": "2.0.0",
            "_view_name": "StyleView",
            "background": null,
            "description_width": "",
            "font_family": null,
            "font_size": null,
            "font_style": null,
            "font_variant": null,
            "font_weight": null,
            "text_color": null,
            "text_decoration": null
          }
        },
        "5dc705b7a21f4a99843d9fa74819d525": {
          "model_module": "@jupyter-widgets/base",
          "model_name": "LayoutModel",
          "model_module_version": "2.0.0",
          "state": {
            "_model_module": "@jupyter-widgets/base",
            "_model_module_version": "2.0.0",
            "_model_name": "LayoutModel",
            "_view_count": null,
            "_view_module": "@jupyter-widgets/base",
            "_view_module_version": "2.0.0",
            "_view_name": "LayoutView",
            "align_content": null,
            "align_items": null,
            "align_self": null,
            "border_bottom": null,
            "border_left": null,
            "border_right": null,
            "border_top": null,
            "bottom": null,
            "display": null,
            "flex": null,
            "flex_flow": null,
            "grid_area": null,
            "grid_auto_columns": null,
            "grid_auto_flow": null,
            "grid_auto_rows": null,
            "grid_column": null,
            "grid_gap": null,
            "grid_row": null,
            "grid_template_areas": null,
            "grid_template_columns": null,
            "grid_template_rows": null,
            "height": null,
            "justify_content": null,
            "justify_items": null,
            "left": null,
            "margin": null,
            "max_height": null,
            "max_width": null,
            "min_height": null,
            "min_width": null,
            "object_fit": null,
            "object_position": null,
            "order": null,
            "overflow": null,
            "padding": null,
            "right": null,
            "top": null,
            "visibility": null,
            "width": null
          }
        },
        "5ce5297ce260463789b0d012c415f7cf": {
          "model_module": "@jupyter-widgets/controls",
          "model_name": "ProgressStyleModel",
          "model_module_version": "2.0.0",
          "state": {
            "_model_module": "@jupyter-widgets/controls",
            "_model_module_version": "2.0.0",
            "_model_name": "ProgressStyleModel",
            "_view_count": null,
            "_view_module": "@jupyter-widgets/base",
            "_view_module_version": "2.0.0",
            "_view_name": "StyleView",
            "bar_color": null,
            "description_width": ""
          }
        },
        "cd1ca1933c2f469ebfe0b0b8627a7cdf": {
          "model_module": "@jupyter-widgets/controls",
          "model_name": "VBoxModel",
          "model_module_version": "2.0.0",
          "state": {
            "_dom_classes": [],
            "_model_module": "@jupyter-widgets/controls",
            "_model_module_version": "2.0.0",
            "_model_name": "VBoxModel",
            "_view_count": null,
            "_view_module": "@jupyter-widgets/controls",
            "_view_module_version": "2.0.0",
            "_view_name": "VBoxView",
            "box_style": "",
            "children": [
              "IPY_MODEL_12ba10a3e5ac4a05973da2771f58411c",
              "IPY_MODEL_3d9291a34e4b4aca8eddd082ff3ce2b7"
            ],
            "layout": "IPY_MODEL_1d919d72df9645ef82fe737c858a8270",
            "tabbable": null,
            "tooltip": null
          }
        },
        "12ba10a3e5ac4a05973da2771f58411c": {
          "model_module": "@jupyter-widgets/controls",
          "model_name": "LabelModel",
          "model_module_version": "2.0.0",
          "state": {
            "_dom_classes": [],
            "_model_module": "@jupyter-widgets/controls",
            "_model_module_version": "2.0.0",
            "_model_name": "LabelModel",
            "_view_count": null,
            "_view_module": "@jupyter-widgets/controls",
            "_view_module_version": "2.0.0",
            "_view_name": "LabelView",
            "description": "",
            "description_allow_html": false,
            "layout": "IPY_MODEL_8f6172d7c3264a748fefaec854d7c774",
            "placeholder": "​",
            "style": "IPY_MODEL_72cdcec1bc6c41e8bd912824d83b9fc5",
            "tabbable": null,
            "tooltip": null,
            "value": "0.620 MB of 0.620 MB uploaded (0.000 MB deduped)\r"
          }
        },
        "3d9291a34e4b4aca8eddd082ff3ce2b7": {
          "model_module": "@jupyter-widgets/controls",
          "model_name": "FloatProgressModel",
          "model_module_version": "2.0.0",
          "state": {
            "_dom_classes": [],
            "_model_module": "@jupyter-widgets/controls",
            "_model_module_version": "2.0.0",
            "_model_name": "FloatProgressModel",
            "_view_count": null,
            "_view_module": "@jupyter-widgets/controls",
            "_view_module_version": "2.0.0",
            "_view_name": "ProgressView",
            "bar_style": "",
            "description": "",
            "description_allow_html": false,
            "layout": "IPY_MODEL_90d5250db834492ab7193cd4609ae0a9",
            "max": 1,
            "min": 0,
            "orientation": "horizontal",
            "style": "IPY_MODEL_097a022561cb4b4193fbe789bb85bf52",
            "tabbable": null,
            "tooltip": null,
            "value": 1
          }
        },
        "1d919d72df9645ef82fe737c858a8270": {
          "model_module": "@jupyter-widgets/base",
          "model_name": "LayoutModel",
          "model_module_version": "2.0.0",
          "state": {
            "_model_module": "@jupyter-widgets/base",
            "_model_module_version": "2.0.0",
            "_model_name": "LayoutModel",
            "_view_count": null,
            "_view_module": "@jupyter-widgets/base",
            "_view_module_version": "2.0.0",
            "_view_name": "LayoutView",
            "align_content": null,
            "align_items": null,
            "align_self": null,
            "border_bottom": null,
            "border_left": null,
            "border_right": null,
            "border_top": null,
            "bottom": null,
            "display": null,
            "flex": null,
            "flex_flow": null,
            "grid_area": null,
            "grid_auto_columns": null,
            "grid_auto_flow": null,
            "grid_auto_rows": null,
            "grid_column": null,
            "grid_gap": null,
            "grid_row": null,
            "grid_template_areas": null,
            "grid_template_columns": null,
            "grid_template_rows": null,
            "height": null,
            "justify_content": null,
            "justify_items": null,
            "left": null,
            "margin": null,
            "max_height": null,
            "max_width": null,
            "min_height": null,
            "min_width": null,
            "object_fit": null,
            "object_position": null,
            "order": null,
            "overflow": null,
            "padding": null,
            "right": null,
            "top": null,
            "visibility": null,
            "width": null
          }
        },
        "8f6172d7c3264a748fefaec854d7c774": {
          "model_module": "@jupyter-widgets/base",
          "model_name": "LayoutModel",
          "model_module_version": "2.0.0",
          "state": {
            "_model_module": "@jupyter-widgets/base",
            "_model_module_version": "2.0.0",
            "_model_name": "LayoutModel",
            "_view_count": null,
            "_view_module": "@jupyter-widgets/base",
            "_view_module_version": "2.0.0",
            "_view_name": "LayoutView",
            "align_content": null,
            "align_items": null,
            "align_self": null,
            "border_bottom": null,
            "border_left": null,
            "border_right": null,
            "border_top": null,
            "bottom": null,
            "display": null,
            "flex": null,
            "flex_flow": null,
            "grid_area": null,
            "grid_auto_columns": null,
            "grid_auto_flow": null,
            "grid_auto_rows": null,
            "grid_column": null,
            "grid_gap": null,
            "grid_row": null,
            "grid_template_areas": null,
            "grid_template_columns": null,
            "grid_template_rows": null,
            "height": null,
            "justify_content": null,
            "justify_items": null,
            "left": null,
            "margin": null,
            "max_height": null,
            "max_width": null,
            "min_height": null,
            "min_width": null,
            "object_fit": null,
            "object_position": null,
            "order": null,
            "overflow": null,
            "padding": null,
            "right": null,
            "top": null,
            "visibility": null,
            "width": null
          }
        },
        "72cdcec1bc6c41e8bd912824d83b9fc5": {
          "model_module": "@jupyter-widgets/controls",
          "model_name": "LabelStyleModel",
          "model_module_version": "2.0.0",
          "state": {
            "_model_module": "@jupyter-widgets/controls",
            "_model_module_version": "2.0.0",
            "_model_name": "LabelStyleModel",
            "_view_count": null,
            "_view_module": "@jupyter-widgets/base",
            "_view_module_version": "2.0.0",
            "_view_name": "StyleView",
            "background": null,
            "description_width": "",
            "font_family": null,
            "font_size": null,
            "font_style": null,
            "font_variant": null,
            "font_weight": null,
            "text_color": null,
            "text_decoration": null
          }
        },
        "90d5250db834492ab7193cd4609ae0a9": {
          "model_module": "@jupyter-widgets/base",
          "model_name": "LayoutModel",
          "model_module_version": "2.0.0",
          "state": {
            "_model_module": "@jupyter-widgets/base",
            "_model_module_version": "2.0.0",
            "_model_name": "LayoutModel",
            "_view_count": null,
            "_view_module": "@jupyter-widgets/base",
            "_view_module_version": "2.0.0",
            "_view_name": "LayoutView",
            "align_content": null,
            "align_items": null,
            "align_self": null,
            "border_bottom": null,
            "border_left": null,
            "border_right": null,
            "border_top": null,
            "bottom": null,
            "display": null,
            "flex": null,
            "flex_flow": null,
            "grid_area": null,
            "grid_auto_columns": null,
            "grid_auto_flow": null,
            "grid_auto_rows": null,
            "grid_column": null,
            "grid_gap": null,
            "grid_row": null,
            "grid_template_areas": null,
            "grid_template_columns": null,
            "grid_template_rows": null,
            "height": null,
            "justify_content": null,
            "justify_items": null,
            "left": null,
            "margin": null,
            "max_height": null,
            "max_width": null,
            "min_height": null,
            "min_width": null,
            "object_fit": null,
            "object_position": null,
            "order": null,
            "overflow": null,
            "padding": null,
            "right": null,
            "top": null,
            "visibility": null,
            "width": null
          }
        },
        "097a022561cb4b4193fbe789bb85bf52": {
          "model_module": "@jupyter-widgets/controls",
          "model_name": "ProgressStyleModel",
          "model_module_version": "2.0.0",
          "state": {
            "_model_module": "@jupyter-widgets/controls",
            "_model_module_version": "2.0.0",
            "_model_name": "ProgressStyleModel",
            "_view_count": null,
            "_view_module": "@jupyter-widgets/base",
            "_view_module_version": "2.0.0",
            "_view_name": "StyleView",
            "bar_color": null,
            "description_width": ""
          }
        },
        "1d36d5ca2f1e4c2f9e4656355ad2338b": {
          "model_module": "@jupyter-widgets/controls",
          "model_name": "VBoxModel",
          "model_module_version": "1.5.0",
          "state": {
            "_dom_classes": [],
            "_model_module": "@jupyter-widgets/controls",
            "_model_module_version": "1.5.0",
            "_model_name": "VBoxModel",
            "_view_count": null,
            "_view_module": "@jupyter-widgets/controls",
            "_view_module_version": "1.5.0",
            "_view_name": "VBoxView",
            "box_style": "",
            "children": [
              "IPY_MODEL_20274fc156074e2481f2ca3cce48eb98",
              "IPY_MODEL_d83f38e7c7ca4f1492e285a62f762323"
            ],
            "layout": "IPY_MODEL_e8591344f3ec4f619eaf7de2f13bf667"
          }
        },
        "20274fc156074e2481f2ca3cce48eb98": {
          "model_module": "@jupyter-widgets/controls",
          "model_name": "LabelModel",
          "model_module_version": "1.5.0",
          "state": {
            "_dom_classes": [],
            "_model_module": "@jupyter-widgets/controls",
            "_model_module_version": "1.5.0",
            "_model_name": "LabelModel",
            "_view_count": null,
            "_view_module": "@jupyter-widgets/controls",
            "_view_module_version": "1.5.0",
            "_view_name": "LabelView",
            "description": "",
            "description_tooltip": null,
            "layout": "IPY_MODEL_ba3f2bcaef60477980a097495b81beb9",
            "placeholder": "​",
            "style": "IPY_MODEL_62e6927f7a23487abe225d3bd113de2e",
            "value": "0.352 MB of 0.352 MB uploaded (0.000 MB deduped)\r"
          }
        },
        "d83f38e7c7ca4f1492e285a62f762323": {
          "model_module": "@jupyter-widgets/controls",
          "model_name": "FloatProgressModel",
          "model_module_version": "1.5.0",
          "state": {
            "_dom_classes": [],
            "_model_module": "@jupyter-widgets/controls",
            "_model_module_version": "1.5.0",
            "_model_name": "FloatProgressModel",
            "_view_count": null,
            "_view_module": "@jupyter-widgets/controls",
            "_view_module_version": "1.5.0",
            "_view_name": "ProgressView",
            "bar_style": "",
            "description": "",
            "description_tooltip": null,
            "layout": "IPY_MODEL_ea1d30c3073146c3be69d775ca5c2ea0",
            "max": 1,
            "min": 0,
            "orientation": "horizontal",
            "style": "IPY_MODEL_3647abe7e0ea47218d2d1f97c6bcdbb6",
            "value": 1
          }
        },
        "e8591344f3ec4f619eaf7de2f13bf667": {
          "model_module": "@jupyter-widgets/base",
          "model_name": "LayoutModel",
          "model_module_version": "1.2.0",
          "state": {
            "_model_module": "@jupyter-widgets/base",
            "_model_module_version": "1.2.0",
            "_model_name": "LayoutModel",
            "_view_count": null,
            "_view_module": "@jupyter-widgets/base",
            "_view_module_version": "1.2.0",
            "_view_name": "LayoutView",
            "align_content": null,
            "align_items": null,
            "align_self": null,
            "border": null,
            "bottom": null,
            "display": null,
            "flex": null,
            "flex_flow": null,
            "grid_area": null,
            "grid_auto_columns": null,
            "grid_auto_flow": null,
            "grid_auto_rows": null,
            "grid_column": null,
            "grid_gap": null,
            "grid_row": null,
            "grid_template_areas": null,
            "grid_template_columns": null,
            "grid_template_rows": null,
            "height": null,
            "justify_content": null,
            "justify_items": null,
            "left": null,
            "margin": null,
            "max_height": null,
            "max_width": null,
            "min_height": null,
            "min_width": null,
            "object_fit": null,
            "object_position": null,
            "order": null,
            "overflow": null,
            "overflow_x": null,
            "overflow_y": null,
            "padding": null,
            "right": null,
            "top": null,
            "visibility": null,
            "width": null
          }
        },
        "ba3f2bcaef60477980a097495b81beb9": {
          "model_module": "@jupyter-widgets/base",
          "model_name": "LayoutModel",
          "model_module_version": "1.2.0",
          "state": {
            "_model_module": "@jupyter-widgets/base",
            "_model_module_version": "1.2.0",
            "_model_name": "LayoutModel",
            "_view_count": null,
            "_view_module": "@jupyter-widgets/base",
            "_view_module_version": "1.2.0",
            "_view_name": "LayoutView",
            "align_content": null,
            "align_items": null,
            "align_self": null,
            "border": null,
            "bottom": null,
            "display": null,
            "flex": null,
            "flex_flow": null,
            "grid_area": null,
            "grid_auto_columns": null,
            "grid_auto_flow": null,
            "grid_auto_rows": null,
            "grid_column": null,
            "grid_gap": null,
            "grid_row": null,
            "grid_template_areas": null,
            "grid_template_columns": null,
            "grid_template_rows": null,
            "height": null,
            "justify_content": null,
            "justify_items": null,
            "left": null,
            "margin": null,
            "max_height": null,
            "max_width": null,
            "min_height": null,
            "min_width": null,
            "object_fit": null,
            "object_position": null,
            "order": null,
            "overflow": null,
            "overflow_x": null,
            "overflow_y": null,
            "padding": null,
            "right": null,
            "top": null,
            "visibility": null,
            "width": null
          }
        },
        "62e6927f7a23487abe225d3bd113de2e": {
          "model_module": "@jupyter-widgets/controls",
          "model_name": "DescriptionStyleModel",
          "model_module_version": "1.5.0",
          "state": {
            "_model_module": "@jupyter-widgets/controls",
            "_model_module_version": "1.5.0",
            "_model_name": "DescriptionStyleModel",
            "_view_count": null,
            "_view_module": "@jupyter-widgets/base",
            "_view_module_version": "1.2.0",
            "_view_name": "StyleView",
            "description_width": ""
          }
        },
        "ea1d30c3073146c3be69d775ca5c2ea0": {
          "model_module": "@jupyter-widgets/base",
          "model_name": "LayoutModel",
          "model_module_version": "1.2.0",
          "state": {
            "_model_module": "@jupyter-widgets/base",
            "_model_module_version": "1.2.0",
            "_model_name": "LayoutModel",
            "_view_count": null,
            "_view_module": "@jupyter-widgets/base",
            "_view_module_version": "1.2.0",
            "_view_name": "LayoutView",
            "align_content": null,
            "align_items": null,
            "align_self": null,
            "border": null,
            "bottom": null,
            "display": null,
            "flex": null,
            "flex_flow": null,
            "grid_area": null,
            "grid_auto_columns": null,
            "grid_auto_flow": null,
            "grid_auto_rows": null,
            "grid_column": null,
            "grid_gap": null,
            "grid_row": null,
            "grid_template_areas": null,
            "grid_template_columns": null,
            "grid_template_rows": null,
            "height": null,
            "justify_content": null,
            "justify_items": null,
            "left": null,
            "margin": null,
            "max_height": null,
            "max_width": null,
            "min_height": null,
            "min_width": null,
            "object_fit": null,
            "object_position": null,
            "order": null,
            "overflow": null,
            "overflow_x": null,
            "overflow_y": null,
            "padding": null,
            "right": null,
            "top": null,
            "visibility": null,
            "width": null
          }
        },
        "3647abe7e0ea47218d2d1f97c6bcdbb6": {
          "model_module": "@jupyter-widgets/controls",
          "model_name": "ProgressStyleModel",
          "model_module_version": "1.5.0",
          "state": {
            "_model_module": "@jupyter-widgets/controls",
            "_model_module_version": "1.5.0",
            "_model_name": "ProgressStyleModel",
            "_view_count": null,
            "_view_module": "@jupyter-widgets/base",
            "_view_module_version": "1.2.0",
            "_view_name": "StyleView",
            "bar_color": null,
            "description_width": ""
          }
        },
        "169facc2f54c443fabbdf71b4aaa5eed": {
          "model_module": "@jupyter-widgets/controls",
          "model_name": "VBoxModel",
          "model_module_version": "1.5.0",
          "state": {
            "_dom_classes": [],
            "_model_module": "@jupyter-widgets/controls",
            "_model_module_version": "1.5.0",
            "_model_name": "VBoxModel",
            "_view_count": null,
            "_view_module": "@jupyter-widgets/controls",
            "_view_module_version": "1.5.0",
            "_view_name": "VBoxView",
            "box_style": "",
            "children": [
              "IPY_MODEL_fe8a745c96084446bcb89a449a41b1c5",
              "IPY_MODEL_3ad0219922c1406b9aeb17c37a9d0b82"
            ],
            "layout": "IPY_MODEL_b8a764be9f224d31ba262a78cdb40600"
          }
        },
        "fe8a745c96084446bcb89a449a41b1c5": {
          "model_module": "@jupyter-widgets/controls",
          "model_name": "LabelModel",
          "model_module_version": "1.5.0",
          "state": {
            "_dom_classes": [],
            "_model_module": "@jupyter-widgets/controls",
            "_model_module_version": "1.5.0",
            "_model_name": "LabelModel",
            "_view_count": null,
            "_view_module": "@jupyter-widgets/controls",
            "_view_module_version": "1.5.0",
            "_view_name": "LabelView",
            "description": "",
            "description_tooltip": null,
            "layout": "IPY_MODEL_9c7c440a2ff04ee8a5c68b91cb376843",
            "placeholder": "​",
            "style": "IPY_MODEL_87efc64d40c34c26adebd5442ecc6aaf",
            "value": "0.363 MB of 0.363 MB uploaded (0.000 MB deduped)\r"
          }
        },
        "3ad0219922c1406b9aeb17c37a9d0b82": {
          "model_module": "@jupyter-widgets/controls",
          "model_name": "FloatProgressModel",
          "model_module_version": "1.5.0",
          "state": {
            "_dom_classes": [],
            "_model_module": "@jupyter-widgets/controls",
            "_model_module_version": "1.5.0",
            "_model_name": "FloatProgressModel",
            "_view_count": null,
            "_view_module": "@jupyter-widgets/controls",
            "_view_module_version": "1.5.0",
            "_view_name": "ProgressView",
            "bar_style": "",
            "description": "",
            "description_tooltip": null,
            "layout": "IPY_MODEL_5acf51d61d1a41eb8bbee0782f36befb",
            "max": 1,
            "min": 0,
            "orientation": "horizontal",
            "style": "IPY_MODEL_5d36620625b64f379a9541e2c0bb89ce",
            "value": 1
          }
        },
        "b8a764be9f224d31ba262a78cdb40600": {
          "model_module": "@jupyter-widgets/base",
          "model_name": "LayoutModel",
          "model_module_version": "1.2.0",
          "state": {
            "_model_module": "@jupyter-widgets/base",
            "_model_module_version": "1.2.0",
            "_model_name": "LayoutModel",
            "_view_count": null,
            "_view_module": "@jupyter-widgets/base",
            "_view_module_version": "1.2.0",
            "_view_name": "LayoutView",
            "align_content": null,
            "align_items": null,
            "align_self": null,
            "border": null,
            "bottom": null,
            "display": null,
            "flex": null,
            "flex_flow": null,
            "grid_area": null,
            "grid_auto_columns": null,
            "grid_auto_flow": null,
            "grid_auto_rows": null,
            "grid_column": null,
            "grid_gap": null,
            "grid_row": null,
            "grid_template_areas": null,
            "grid_template_columns": null,
            "grid_template_rows": null,
            "height": null,
            "justify_content": null,
            "justify_items": null,
            "left": null,
            "margin": null,
            "max_height": null,
            "max_width": null,
            "min_height": null,
            "min_width": null,
            "object_fit": null,
            "object_position": null,
            "order": null,
            "overflow": null,
            "overflow_x": null,
            "overflow_y": null,
            "padding": null,
            "right": null,
            "top": null,
            "visibility": null,
            "width": null
          }
        },
        "9c7c440a2ff04ee8a5c68b91cb376843": {
          "model_module": "@jupyter-widgets/base",
          "model_name": "LayoutModel",
          "model_module_version": "1.2.0",
          "state": {
            "_model_module": "@jupyter-widgets/base",
            "_model_module_version": "1.2.0",
            "_model_name": "LayoutModel",
            "_view_count": null,
            "_view_module": "@jupyter-widgets/base",
            "_view_module_version": "1.2.0",
            "_view_name": "LayoutView",
            "align_content": null,
            "align_items": null,
            "align_self": null,
            "border": null,
            "bottom": null,
            "display": null,
            "flex": null,
            "flex_flow": null,
            "grid_area": null,
            "grid_auto_columns": null,
            "grid_auto_flow": null,
            "grid_auto_rows": null,
            "grid_column": null,
            "grid_gap": null,
            "grid_row": null,
            "grid_template_areas": null,
            "grid_template_columns": null,
            "grid_template_rows": null,
            "height": null,
            "justify_content": null,
            "justify_items": null,
            "left": null,
            "margin": null,
            "max_height": null,
            "max_width": null,
            "min_height": null,
            "min_width": null,
            "object_fit": null,
            "object_position": null,
            "order": null,
            "overflow": null,
            "overflow_x": null,
            "overflow_y": null,
            "padding": null,
            "right": null,
            "top": null,
            "visibility": null,
            "width": null
          }
        },
        "87efc64d40c34c26adebd5442ecc6aaf": {
          "model_module": "@jupyter-widgets/controls",
          "model_name": "DescriptionStyleModel",
          "model_module_version": "1.5.0",
          "state": {
            "_model_module": "@jupyter-widgets/controls",
            "_model_module_version": "1.5.0",
            "_model_name": "DescriptionStyleModel",
            "_view_count": null,
            "_view_module": "@jupyter-widgets/base",
            "_view_module_version": "1.2.0",
            "_view_name": "StyleView",
            "description_width": ""
          }
        },
        "5acf51d61d1a41eb8bbee0782f36befb": {
          "model_module": "@jupyter-widgets/base",
          "model_name": "LayoutModel",
          "model_module_version": "1.2.0",
          "state": {
            "_model_module": "@jupyter-widgets/base",
            "_model_module_version": "1.2.0",
            "_model_name": "LayoutModel",
            "_view_count": null,
            "_view_module": "@jupyter-widgets/base",
            "_view_module_version": "1.2.0",
            "_view_name": "LayoutView",
            "align_content": null,
            "align_items": null,
            "align_self": null,
            "border": null,
            "bottom": null,
            "display": null,
            "flex": null,
            "flex_flow": null,
            "grid_area": null,
            "grid_auto_columns": null,
            "grid_auto_flow": null,
            "grid_auto_rows": null,
            "grid_column": null,
            "grid_gap": null,
            "grid_row": null,
            "grid_template_areas": null,
            "grid_template_columns": null,
            "grid_template_rows": null,
            "height": null,
            "justify_content": null,
            "justify_items": null,
            "left": null,
            "margin": null,
            "max_height": null,
            "max_width": null,
            "min_height": null,
            "min_width": null,
            "object_fit": null,
            "object_position": null,
            "order": null,
            "overflow": null,
            "overflow_x": null,
            "overflow_y": null,
            "padding": null,
            "right": null,
            "top": null,
            "visibility": null,
            "width": null
          }
        },
        "5d36620625b64f379a9541e2c0bb89ce": {
          "model_module": "@jupyter-widgets/controls",
          "model_name": "ProgressStyleModel",
          "model_module_version": "1.5.0",
          "state": {
            "_model_module": "@jupyter-widgets/controls",
            "_model_module_version": "1.5.0",
            "_model_name": "ProgressStyleModel",
            "_view_count": null,
            "_view_module": "@jupyter-widgets/base",
            "_view_module_version": "1.2.0",
            "_view_name": "StyleView",
            "bar_color": null,
            "description_width": ""
          }
        },
        "8c23da2d227c48adbf0dcf78381cd10a": {
          "model_module": "@jupyter-widgets/controls",
          "model_name": "VBoxModel",
          "model_module_version": "1.5.0",
          "state": {
            "_dom_classes": [],
            "_model_module": "@jupyter-widgets/controls",
            "_model_module_version": "1.5.0",
            "_model_name": "VBoxModel",
            "_view_count": null,
            "_view_module": "@jupyter-widgets/controls",
            "_view_module_version": "1.5.0",
            "_view_name": "VBoxView",
            "box_style": "",
            "children": [
              "IPY_MODEL_2e601d1bb4e745af8b905447169758b6",
              "IPY_MODEL_ba9a0a22ca074de6ab0a50da85b1ea22"
            ],
            "layout": "IPY_MODEL_c591c218bd0e4a5d8539544815d1ce38"
          }
        },
        "2e601d1bb4e745af8b905447169758b6": {
          "model_module": "@jupyter-widgets/controls",
          "model_name": "LabelModel",
          "model_module_version": "1.5.0",
          "state": {
            "_dom_classes": [],
            "_model_module": "@jupyter-widgets/controls",
            "_model_module_version": "1.5.0",
            "_model_name": "LabelModel",
            "_view_count": null,
            "_view_module": "@jupyter-widgets/controls",
            "_view_module_version": "1.5.0",
            "_view_name": "LabelView",
            "description": "",
            "description_tooltip": null,
            "layout": "IPY_MODEL_3f4a0d990678400680b78695bb7caffc",
            "placeholder": "​",
            "style": "IPY_MODEL_7922f8f1ff15493b8c857bde1f78775b",
            "value": "7.084 MB of 7.084 MB uploaded (0.000 MB deduped)\r"
          }
        },
        "ba9a0a22ca074de6ab0a50da85b1ea22": {
          "model_module": "@jupyter-widgets/controls",
          "model_name": "FloatProgressModel",
          "model_module_version": "1.5.0",
          "state": {
            "_dom_classes": [],
            "_model_module": "@jupyter-widgets/controls",
            "_model_module_version": "1.5.0",
            "_model_name": "FloatProgressModel",
            "_view_count": null,
            "_view_module": "@jupyter-widgets/controls",
            "_view_module_version": "1.5.0",
            "_view_name": "ProgressView",
            "bar_style": "",
            "description": "",
            "description_tooltip": null,
            "layout": "IPY_MODEL_ceccdbdc27384d02a9ba1d1b08a7e8d8",
            "max": 1,
            "min": 0,
            "orientation": "horizontal",
            "style": "IPY_MODEL_e24f744018324037a1b8ae6f725fa36d",
            "value": 1
          }
        },
        "c591c218bd0e4a5d8539544815d1ce38": {
          "model_module": "@jupyter-widgets/base",
          "model_name": "LayoutModel",
          "model_module_version": "1.2.0",
          "state": {
            "_model_module": "@jupyter-widgets/base",
            "_model_module_version": "1.2.0",
            "_model_name": "LayoutModel",
            "_view_count": null,
            "_view_module": "@jupyter-widgets/base",
            "_view_module_version": "1.2.0",
            "_view_name": "LayoutView",
            "align_content": null,
            "align_items": null,
            "align_self": null,
            "border": null,
            "bottom": null,
            "display": null,
            "flex": null,
            "flex_flow": null,
            "grid_area": null,
            "grid_auto_columns": null,
            "grid_auto_flow": null,
            "grid_auto_rows": null,
            "grid_column": null,
            "grid_gap": null,
            "grid_row": null,
            "grid_template_areas": null,
            "grid_template_columns": null,
            "grid_template_rows": null,
            "height": null,
            "justify_content": null,
            "justify_items": null,
            "left": null,
            "margin": null,
            "max_height": null,
            "max_width": null,
            "min_height": null,
            "min_width": null,
            "object_fit": null,
            "object_position": null,
            "order": null,
            "overflow": null,
            "overflow_x": null,
            "overflow_y": null,
            "padding": null,
            "right": null,
            "top": null,
            "visibility": null,
            "width": null
          }
        },
        "3f4a0d990678400680b78695bb7caffc": {
          "model_module": "@jupyter-widgets/base",
          "model_name": "LayoutModel",
          "model_module_version": "1.2.0",
          "state": {
            "_model_module": "@jupyter-widgets/base",
            "_model_module_version": "1.2.0",
            "_model_name": "LayoutModel",
            "_view_count": null,
            "_view_module": "@jupyter-widgets/base",
            "_view_module_version": "1.2.0",
            "_view_name": "LayoutView",
            "align_content": null,
            "align_items": null,
            "align_self": null,
            "border": null,
            "bottom": null,
            "display": null,
            "flex": null,
            "flex_flow": null,
            "grid_area": null,
            "grid_auto_columns": null,
            "grid_auto_flow": null,
            "grid_auto_rows": null,
            "grid_column": null,
            "grid_gap": null,
            "grid_row": null,
            "grid_template_areas": null,
            "grid_template_columns": null,
            "grid_template_rows": null,
            "height": null,
            "justify_content": null,
            "justify_items": null,
            "left": null,
            "margin": null,
            "max_height": null,
            "max_width": null,
            "min_height": null,
            "min_width": null,
            "object_fit": null,
            "object_position": null,
            "order": null,
            "overflow": null,
            "overflow_x": null,
            "overflow_y": null,
            "padding": null,
            "right": null,
            "top": null,
            "visibility": null,
            "width": null
          }
        },
        "7922f8f1ff15493b8c857bde1f78775b": {
          "model_module": "@jupyter-widgets/controls",
          "model_name": "DescriptionStyleModel",
          "model_module_version": "1.5.0",
          "state": {
            "_model_module": "@jupyter-widgets/controls",
            "_model_module_version": "1.5.0",
            "_model_name": "DescriptionStyleModel",
            "_view_count": null,
            "_view_module": "@jupyter-widgets/base",
            "_view_module_version": "1.2.0",
            "_view_name": "StyleView",
            "description_width": ""
          }
        },
        "ceccdbdc27384d02a9ba1d1b08a7e8d8": {
          "model_module": "@jupyter-widgets/base",
          "model_name": "LayoutModel",
          "model_module_version": "1.2.0",
          "state": {
            "_model_module": "@jupyter-widgets/base",
            "_model_module_version": "1.2.0",
            "_model_name": "LayoutModel",
            "_view_count": null,
            "_view_module": "@jupyter-widgets/base",
            "_view_module_version": "1.2.0",
            "_view_name": "LayoutView",
            "align_content": null,
            "align_items": null,
            "align_self": null,
            "border": null,
            "bottom": null,
            "display": null,
            "flex": null,
            "flex_flow": null,
            "grid_area": null,
            "grid_auto_columns": null,
            "grid_auto_flow": null,
            "grid_auto_rows": null,
            "grid_column": null,
            "grid_gap": null,
            "grid_row": null,
            "grid_template_areas": null,
            "grid_template_columns": null,
            "grid_template_rows": null,
            "height": null,
            "justify_content": null,
            "justify_items": null,
            "left": null,
            "margin": null,
            "max_height": null,
            "max_width": null,
            "min_height": null,
            "min_width": null,
            "object_fit": null,
            "object_position": null,
            "order": null,
            "overflow": null,
            "overflow_x": null,
            "overflow_y": null,
            "padding": null,
            "right": null,
            "top": null,
            "visibility": null,
            "width": null
          }
        },
        "e24f744018324037a1b8ae6f725fa36d": {
          "model_module": "@jupyter-widgets/controls",
          "model_name": "ProgressStyleModel",
          "model_module_version": "1.5.0",
          "state": {
            "_model_module": "@jupyter-widgets/controls",
            "_model_module_version": "1.5.0",
            "_model_name": "ProgressStyleModel",
            "_view_count": null,
            "_view_module": "@jupyter-widgets/base",
            "_view_module_version": "1.2.0",
            "_view_name": "StyleView",
            "bar_color": null,
            "description_width": ""
          }
        }
      }
    }
  },
  "cells": [
    {
      "cell_type": "markdown",
      "metadata": {
        "id": "view-in-github",
        "colab_type": "text"
      },
      "source": [
        "<a href=\"https://colab.research.google.com/github/timsetsfire/wandb-examples/blob/main/colab/XGBoost%20for%20Interpretable%20Credit%20Models.ipynb\" target=\"_parent\"><img src=\"https://colab.research.google.com/assets/colab-badge.svg\" alt=\"Open In Colab\"/></a>"
      ]
    },
    {
      "cell_type": "code",
      "source": [
        "%%capture\n",
        "!pip install wandb xgboost==1.3.3 scikit-learn==0.24.1 shap xlrd==2.0.1 category_encoders -qqq"
      ],
      "metadata": {
        "id": "ksWMa-RkbLO2"
      },
      "execution_count": null,
      "outputs": []
    },
    {
      "cell_type": "markdown",
      "source": [
        "The purpose of this lab is to instrument W&B a top of existing ML Workflows which might be leveraging\n",
        "\n",
        "* XGBoost\n",
        "* Pandas\n",
        "* Shap\n",
        "* STDOUT (for metric tracking)\n",
        "\n",
        "We will augment this workflow by leveraging\n",
        "\n",
        "* Wandb Experiments and syncing with Tensorboard\n",
        "* Wandb logging\n",
        "* Wandb Artifacts for dataset and model logging / versioning\n",
        "* Tables to surface prediction examples on Test datasets\n",
        "track lineage of all artifacts and experiments completed\n",
        "\n",
        "Lastly, we'll do a simple demo of sweeps and interact with the runs via W&B API to\n",
        "\n",
        "query runs and run summaries\n",
        "artifacts"
      ],
      "metadata": {
        "id": "zq19_7G4ua0o"
      }
    },
    {
      "cell_type": "code",
      "execution_count": null,
      "metadata": {
        "id": "bsUhev1OEjcw",
        "colab": {
          "base_uri": "https://localhost:8080/"
        },
        "outputId": "e2cf18e1-5f6e-4c4c-8256-c27e1db498a0"
      },
      "outputs": [
        {
          "output_type": "stream",
          "name": "stderr",
          "text": [
            "/usr/local/lib/python3.9/dist-packages/xgboost/compat.py:31: FutureWarning: pandas.Int64Index is deprecated and will be removed from pandas in a future version. Use pandas.Index with the appropriate dtype instead.\n",
            "  from pandas import MultiIndex, Int64Index\n"
          ]
        }
      ],
      "source": [
        "# General imports\n",
        "import numpy as np\n",
        "import pandas as pd\n",
        "from sklearn.model_selection import train_test_split\n",
        "from sklearn.metrics import balanced_accuracy_score, roc_auc_score\n",
        "import json\n",
        "from pathlib import Path\n",
        "import wandb\n",
        "\n",
        "from category_encoders import OrdinalEncoder\n",
        "from sklearn.impute import SimpleImputer\n",
        "from sklearn.compose import ColumnTransformer\n",
        "from sklearn.pipeline import Pipeline\n",
        "import xgboost as xgb\n",
        "from wandb.xgboost import WandbCallback\n",
        "import wandb"
      ]
    },
    {
      "cell_type": "markdown",
      "source": [
        "## The UCI Credit-card Default Dataset\n",
        "\n",
        "The UCI dataset contains data on 30,000 clients and their credit card transactions at a bank in Taiwan. In addition to static client features, the dataset contains the history of credit card bill payments between April and September 2005, as well as the balance limit of the client's credit card. The target is whether the client will default on a card payment in the following month, October 2005. A model trained on this data could be used, in part, to determine whether a client is eligible for another loan or a credit increase."
      ],
      "metadata": {
        "id": "z-cm-oomvPm9"
      }
    },
    {
      "cell_type": "markdown",
      "source": [
        "## Get Data (and log it)\n",
        "\n",
        "When we get data and log it, there are obviously tons of way to complete this.  Depending on how you log data, and whether or not you log your retrieval mechanism is a matter of preference and internal guidelines you need to follow.  \n",
        "\n",
        "In our approach, we will write a `getter` for our data.  The benefit of writing a getting, we can log this getter with our dataset as part of the artifact metadata.\n",
        "\n",
        "\n",
        "Before we get started it is important to set the name space for your project.  This is going to be accomplished by passing a `project_name` as well as an `entity` to your wandb experiment\n",
        "\n",
        "`entity` corresponds to the team to which the project will be associated with.  The `entity` could be a team name, or your user name.  "
      ],
      "metadata": {
        "id": "YJjjxuN4vn1v"
      }
    },
    {
      "cell_type": "code",
      "source": [
        "project_name = \"xgboost-example\" #@param {type: \"string\"}\n",
        "entity = \"tim-w\" #@param {type: \"string\"}"
      ],
      "metadata": {
        "id": "XM0cM1FlvoNr"
      },
      "execution_count": null,
      "outputs": []
    },
    {
      "cell_type": "markdown",
      "source": [
        "## Logging data\n",
        "\n",
        "W&B is very unopinionated with regard to how you track your experiments.  We could log data in any number of ways.  \n",
        "* Log one artifact which represents all the data - training, validation, and test data to one artifact \n",
        "* Log several artifacts - one for each of the training, validation, and test data loaders.  \n",
        "\n",
        "It is a matter of what best suites your needs and workflows and expectations.  \n",
        "\n",
        "### Anatomy of an artifact \n",
        "\n",
        "The `Artifact` class will correspond to an entry in the W&B Artifact registry.  The artifact has \n",
        "* a name\n",
        "* a type\n",
        "* metadata\n",
        "* description\n",
        "* files, directory of files, or references\n",
        "\n",
        "Example usage \n",
        "```\n",
        "run = wandb.init(project = \"my-project\")\n",
        "artifact = wandb.Artifact(name = \"my_artifact\", type = \"data\")\n",
        "artifact.add_file(\"/path/to/my/file.txt\")\n",
        "run.log_artifact(artifact)\n",
        "run.finish()\n",
        "```"
      ],
      "metadata": {
        "id": "ETk4mB-cvzyI"
      }
    },
    {
      "cell_type": "code",
      "source": [
        "# get and log data\n",
        "with wandb.init(project = project_name, job_type = \"data-acquisition\") as run:\n",
        "  data_url = \"http://archive.ics.uci.edu/ml/machine-learning-databases/00350/default%20of%20credit%20card%20clients.xls\"\n",
        "  dataset = pd.read_excel(io=data_url, header=1).drop(columns=['ID']).rename(columns={'PAY_0':'PAY_1'})\n",
        "  dataset.head()\n",
        "  data_artifact = wandb.Artifact(name = \"raw-dataset\",  type = \"dataset\")\n",
        "  data_artifact.add_reference(data_url) \n",
        "  run.log_artifact(data_artifact)"
      ],
      "metadata": {
        "colab": {
          "base_uri": "https://localhost:8080/",
          "height": 258,
          "referenced_widgets": [
            "1d36d5ca2f1e4c2f9e4656355ad2338b",
            "20274fc156074e2481f2ca3cce48eb98",
            "d83f38e7c7ca4f1492e285a62f762323",
            "e8591344f3ec4f619eaf7de2f13bf667",
            "ba3f2bcaef60477980a097495b81beb9",
            "62e6927f7a23487abe225d3bd113de2e",
            "ea1d30c3073146c3be69d775ca5c2ea0",
            "3647abe7e0ea47218d2d1f97c6bcdbb6"
          ]
        },
        "id": "Ww6MG_o1vUcm",
        "outputId": "a2c4afca-4c92-4a88-c9de-84295baaccfa"
      },
      "execution_count": null,
      "outputs": [
        {
          "output_type": "stream",
          "name": "stderr",
          "text": [
            "\u001b[34m\u001b[1mwandb\u001b[0m: Currently logged in as: \u001b[33mtim-w\u001b[0m. Use \u001b[1m`wandb login --relogin`\u001b[0m to force relogin\n"
          ]
        },
        {
          "output_type": "display_data",
          "data": {
            "text/plain": [
              "<IPython.core.display.HTML object>"
            ],
            "text/html": [
              "Tracking run with wandb version 0.14.0"
            ]
          },
          "metadata": {}
        },
        {
          "output_type": "display_data",
          "data": {
            "text/plain": [
              "<IPython.core.display.HTML object>"
            ],
            "text/html": [
              "Run data is saved locally in <code>/content/wandb/run-20230403_131332-mbymoe6p</code>"
            ]
          },
          "metadata": {}
        },
        {
          "output_type": "display_data",
          "data": {
            "text/plain": [
              "<IPython.core.display.HTML object>"
            ],
            "text/html": [
              "Syncing run <strong><a href='https://wandb.ai/tim-w/xgboost-example/runs/mbymoe6p' target=\"_blank\">likely-dragon-102</a></strong> to <a href='https://wandb.ai/tim-w/xgboost-example' target=\"_blank\">Weights & Biases</a> (<a href='https://wandb.me/run' target=\"_blank\">docs</a>)<br/>"
            ]
          },
          "metadata": {}
        },
        {
          "output_type": "display_data",
          "data": {
            "text/plain": [
              "<IPython.core.display.HTML object>"
            ],
            "text/html": [
              " View project at <a href='https://wandb.ai/tim-w/xgboost-example' target=\"_blank\">https://wandb.ai/tim-w/xgboost-example</a>"
            ]
          },
          "metadata": {}
        },
        {
          "output_type": "display_data",
          "data": {
            "text/plain": [
              "<IPython.core.display.HTML object>"
            ],
            "text/html": [
              " View run at <a href='https://wandb.ai/tim-w/xgboost-example/runs/mbymoe6p' target=\"_blank\">https://wandb.ai/tim-w/xgboost-example/runs/mbymoe6p</a>"
            ]
          },
          "metadata": {}
        },
        {
          "output_type": "display_data",
          "data": {
            "text/plain": [
              "<IPython.core.display.HTML object>"
            ],
            "text/html": [
              "Waiting for W&B process to finish... <strong style=\"color:green\">(success).</strong>"
            ]
          },
          "metadata": {}
        },
        {
          "output_type": "display_data",
          "data": {
            "text/plain": [
              "VBox(children=(Label(value='0.352 MB of 0.352 MB uploaded (0.000 MB deduped)\\r'), FloatProgress(value=1.0, max…"
            ],
            "application/vnd.jupyter.widget-view+json": {
              "version_major": 2,
              "version_minor": 0,
              "model_id": "1d36d5ca2f1e4c2f9e4656355ad2338b"
            }
          },
          "metadata": {}
        },
        {
          "output_type": "display_data",
          "data": {
            "text/plain": [
              "<IPython.core.display.HTML object>"
            ],
            "text/html": [
              " View run <strong style=\"color:#cdcd00\">likely-dragon-102</strong> at: <a href='https://wandb.ai/tim-w/xgboost-example/runs/mbymoe6p' target=\"_blank\">https://wandb.ai/tim-w/xgboost-example/runs/mbymoe6p</a><br/>Synced 4 W&B file(s), 0 media file(s), 2 artifact file(s) and 1 other file(s)"
            ]
          },
          "metadata": {}
        },
        {
          "output_type": "display_data",
          "data": {
            "text/plain": [
              "<IPython.core.display.HTML object>"
            ],
            "text/html": [
              "Find logs at: <code>./wandb/run-20230403_131332-mbymoe6p/logs</code>"
            ]
          },
          "metadata": {}
        }
      ]
    },
    {
      "cell_type": "markdown",
      "source": [
        "Dataset columns:\n",
        "\n",
        "* `LIMIT_BAL`: credit card limit, will be replaced by a synthetic feature\n",
        "* `SEX, EDUCATION, MARRIAGE, AGE`: client demographic features\n",
        "* `BILL_AMT[1-6]`: amount on bill statement for April-September\n",
        "* `PAY_AMT[1-6]`: payment amount for April-September\n",
        "* `default payment next month`: target, whether the client defaulted the following month"
      ],
      "metadata": {
        "id": "miVEyTnIwBPh"
      }
    },
    {
      "cell_type": "code",
      "source": [
        "from pathlib import Path\n",
        "data_path = Path(\"./data\")\n",
        "data_path.mkdir(exist_ok = True)\n",
        "target_name = \"default payment next month\""
      ],
      "metadata": {
        "id": "eDSO1xKWyUYW"
      },
      "execution_count": null,
      "outputs": []
    },
    {
      "cell_type": "code",
      "source": [
        "# Train-test split\n",
        "with wandb.init(project = project_name, job_type = \"data-split\") as run:\n",
        "  test_size = 0.3 \n",
        "  random_state = 12345\n",
        "  dataset_artifact = run.use_artifact(f'{entity}/{project_name}/raw-dataset:v0', type='dataset')\n",
        "  ##\n",
        "  # dataset_artifact.download()\n",
        "  ##\n",
        "  # df = pd.read_excel(dataset_artifact.file())\n",
        "  ##\n",
        "\n",
        "  df_train, df_test = train_test_split(\n",
        "      dataset, \n",
        "      test_size = 0.1, \n",
        "      random_state=12345,\n",
        "      stratify=dataset[target_name])\n",
        "  df_train, df_val = train_test_split(\n",
        "      df_train, \n",
        "      test_size = 0.2, \n",
        "      random_state=12345,\n",
        "      stratify=df_train[target_name])\n",
        "  df_train.to_csv(\"data/train.csv\", index = False)\n",
        "  df_test.to_csv(\"data/test.csv\", index = False)\n",
        "  df_val.to_csv(\"data/val.csv\", index = False)\n",
        "  training_data_artifact = wandb.Artifact(name = \"train-val-test-datasets\", \n",
        "                                          type = \"dataset\", \n",
        "                                          description = \"train/validation/test data\",\n",
        "                                          metadata = {\"stratified\": target_name, \"valsize\": 0.2, \"testsize\": 0.1, \"trainsize\": 0.7, \"random_state\":12345})\n",
        "  training_data_artifact.add_dir(\"./data\")\n",
        "  run.log_artifact(training_data_artifact)"
      ],
      "metadata": {
        "colab": {
          "base_uri": "https://localhost:8080/",
          "height": 258,
          "referenced_widgets": [
            "169facc2f54c443fabbdf71b4aaa5eed",
            "fe8a745c96084446bcb89a449a41b1c5",
            "3ad0219922c1406b9aeb17c37a9d0b82",
            "b8a764be9f224d31ba262a78cdb40600",
            "9c7c440a2ff04ee8a5c68b91cb376843",
            "87efc64d40c34c26adebd5442ecc6aaf",
            "5acf51d61d1a41eb8bbee0782f36befb",
            "5d36620625b64f379a9541e2c0bb89ce"
          ]
        },
        "id": "9_WEbTEpwXDD",
        "outputId": "1674a7dc-2e85-4d12-d207-b62c808184c4"
      },
      "execution_count": null,
      "outputs": [
        {
          "output_type": "display_data",
          "data": {
            "text/plain": [
              "<IPython.core.display.HTML object>"
            ],
            "text/html": [
              "Tracking run with wandb version 0.14.0"
            ]
          },
          "metadata": {}
        },
        {
          "output_type": "display_data",
          "data": {
            "text/plain": [
              "<IPython.core.display.HTML object>"
            ],
            "text/html": [
              "Run data is saved locally in <code>/content/wandb/run-20230403_131347-b0iinltn</code>"
            ]
          },
          "metadata": {}
        },
        {
          "output_type": "display_data",
          "data": {
            "text/plain": [
              "<IPython.core.display.HTML object>"
            ],
            "text/html": [
              "Syncing run <strong><a href='https://wandb.ai/tim-w/xgboost-example/runs/b0iinltn' target=\"_blank\">dazzling-monkey-103</a></strong> to <a href='https://wandb.ai/tim-w/xgboost-example' target=\"_blank\">Weights & Biases</a> (<a href='https://wandb.me/run' target=\"_blank\">docs</a>)<br/>"
            ]
          },
          "metadata": {}
        },
        {
          "output_type": "display_data",
          "data": {
            "text/plain": [
              "<IPython.core.display.HTML object>"
            ],
            "text/html": [
              " View project at <a href='https://wandb.ai/tim-w/xgboost-example' target=\"_blank\">https://wandb.ai/tim-w/xgboost-example</a>"
            ]
          },
          "metadata": {}
        },
        {
          "output_type": "display_data",
          "data": {
            "text/plain": [
              "<IPython.core.display.HTML object>"
            ],
            "text/html": [
              " View run at <a href='https://wandb.ai/tim-w/xgboost-example/runs/b0iinltn' target=\"_blank\">https://wandb.ai/tim-w/xgboost-example/runs/b0iinltn</a>"
            ]
          },
          "metadata": {}
        },
        {
          "output_type": "stream",
          "name": "stderr",
          "text": [
            "\u001b[34m\u001b[1mwandb\u001b[0m: Adding directory to artifact (./data)... Done. 0.0s\n"
          ]
        },
        {
          "output_type": "display_data",
          "data": {
            "text/plain": [
              "<IPython.core.display.HTML object>"
            ],
            "text/html": [
              "Waiting for W&B process to finish... <strong style=\"color:green\">(success).</strong>"
            ]
          },
          "metadata": {}
        },
        {
          "output_type": "display_data",
          "data": {
            "text/plain": [
              "VBox(children=(Label(value='0.363 MB of 0.363 MB uploaded (0.000 MB deduped)\\r'), FloatProgress(value=1.0, max…"
            ],
            "application/vnd.jupyter.widget-view+json": {
              "version_major": 2,
              "version_minor": 0,
              "model_id": "169facc2f54c443fabbdf71b4aaa5eed"
            }
          },
          "metadata": {}
        },
        {
          "output_type": "display_data",
          "data": {
            "text/plain": [
              "<IPython.core.display.HTML object>"
            ],
            "text/html": [
              " View run <strong style=\"color:#cdcd00\">dazzling-monkey-103</strong> at: <a href='https://wandb.ai/tim-w/xgboost-example/runs/b0iinltn' target=\"_blank\">https://wandb.ai/tim-w/xgboost-example/runs/b0iinltn</a><br/>Synced 5 W&B file(s), 0 media file(s), 2 artifact file(s) and 1 other file(s)"
            ]
          },
          "metadata": {}
        },
        {
          "output_type": "display_data",
          "data": {
            "text/plain": [
              "<IPython.core.display.HTML object>"
            ],
            "text/html": [
              "Find logs at: <code>./wandb/run-20230403_131347-b0iinltn/logs</code>"
            ]
          },
          "metadata": {}
        }
      ]
    },
    {
      "cell_type": "markdown",
      "source": [
        "## Create Pipeline"
      ],
      "metadata": {
        "id": "KTNo5A6u0NAU"
      }
    },
    {
      "cell_type": "code",
      "source": [
        "categorical_features = [\"EDUCATION\", \"MARRIAGE\", \"PAY_1\", \"PAY_2\", \"PAY_3\", \"PAY_4\", \"PAY_5\", \"PAY_6\"]\n",
        "numeric_features = ['LIMIT_BAL', 'BILL_AMT1', 'BILL_AMT2', 'BILL_AMT3',\n",
        "      'BILL_AMT4', 'BILL_AMT5', 'BILL_AMT6', 'PAY_AMT1', 'PAY_AMT2',\n",
        "      'PAY_AMT3', 'PAY_AMT4', 'PAY_AMT5', 'PAY_AMT6']\n",
        "features = []\n",
        "features.extend(numeric_features)\n",
        "features.extend(categorical_features)\n",
        "for col in categorical_features:\n",
        "  dataset[col] = dataset[col].astype('category')\n",
        "\n",
        "\n",
        "X_train = df_train.drop([target_name], axis=1)\n",
        "Y_train = df_train[target_name]\n",
        "X_test = df_test.drop([target_name], axis=1)\n",
        "Y_test = df_test[target_name]\n",
        "X_val = df_val.drop([target_name], axis=1)\n",
        "Y_val = df_val[target_name]\n",
        "base_rate = Y_train.mean()"
      ],
      "metadata": {
        "id": "VF1xC6FX0RIY"
      },
      "execution_count": null,
      "outputs": []
    },
    {
      "cell_type": "code",
      "source": [
        "## create pipeline\n",
        "\n",
        "def create_preprocessing_pipeline(num_features, cat_features):\n",
        "  cat_preprocessing = Pipeline(\n",
        "    steps=[\n",
        "        (\"imputer\", SimpleImputer(strategy=\"constant\", fill_value=-9999, add_indicator=False)),\n",
        "        (\"category_encoder\", OrdinalEncoder()),\n",
        "    ]\n",
        "  )\n",
        "\n",
        "\n",
        "  pipeline = Pipeline([\n",
        "      (\"selector\", ColumnTransformer(\n",
        "          [(\"selector\", \"passthrough\", numeric_features),\n",
        "          (\"categorical-encoding\", cat_preprocessing, categorical_features)\n",
        "          ], remainder=\"drop\")), \n",
        "  ])\n",
        "\n",
        "  pipeline = Pipeline(steps=[(\"preprocessing\", pipeline)])\n",
        "\n",
        "  return pipeline\n"
      ],
      "metadata": {
        "id": "PXcvKllPwRZJ"
      },
      "execution_count": null,
      "outputs": []
    },
    {
      "cell_type": "code",
      "source": [
        "from wandb.xgboost import WandbCallback"
      ],
      "metadata": {
        "id": "-p7EmwBS1Qyj"
      },
      "execution_count": null,
      "outputs": []
    },
    {
      "cell_type": "code",
      "source": [
        "# Initialize the XGBoostClassifier\n",
        "import sys\n",
        "\n",
        "config = {\n",
        "        'objective': 'binary:logistic'\n",
        "        , 'base_score': base_rate\n",
        "        , 'gamma': 1               ## def: 0\n",
        "        , 'learning_rate': 0.1     ## def: 0.1\n",
        "        , 'max_depth': 3\n",
        "        , 'min_child_weight': 100  ## def: 1\n",
        "        , 'n_estimators': 25\n",
        "        , 'nthread': 24 \n",
        "        , 'random_state': 42\n",
        "        , 'reg_alpha': 0\n",
        "        , 'reg_lambda': 0          ## def: 1\n",
        "        , 'eval_metric': ['auc', 'logloss']\n",
        "        , 'tree_method': 'hist'  # use `gpu_hist` to train on GPU\n",
        "    }\n",
        "\n",
        "run = wandb.init(project=project_name, job_type=\"training\", config = config)\n",
        "\n",
        "# artifact = run.use_artifact('{entity}/{project_name}/train-val-test-datasets:v0', type='dataset')\n",
        "artifact = run.use_artifact('tim-w/xgboost-example/train-val-test-datasets:v0', type='dataset')\n",
        "## download and load if necessary\n",
        "\n",
        "early_stopping_rounds = 40\n",
        "\n",
        "pipeline = create_preprocessing_pipeline(numeric_features, categorical_features)\n",
        "pipeline.fit(X_train) \n",
        "\n",
        "X_train = pipeline.transform(X_train)\n",
        "X_val = pipeline.transform(X_val)\n",
        "X_test = pipeline.transform(X_test)\n",
        "\n",
        "X_train = pd.DataFrame(X_train, columns = features)\n",
        "X_val = pd.DataFrame(X_val, columns = features)\n",
        "X_test = pd.DataFrame(X_test, columns = features)\n",
        "\n",
        "xgbmodel = xgb.XGBClassifier(**wandb.config, use_label_encoder=False)\n",
        "xgbmodel.fit(X_train, Y_train, eval_set = [(X_val, Y_val)],\n",
        "             callbacks = [WandbCallback(log_model = True)]\n",
        "             )\n",
        "\n",
        "run.finish()"
      ],
      "metadata": {
        "colab": {
          "base_uri": "https://localhost:8080/",
          "height": 901
        },
        "id": "D4q1rBRJ07rW",
        "outputId": "c47b5274-c89c-4bab-a86f-a44d5e299def"
      },
      "execution_count": null,
      "outputs": [
        {
          "output_type": "display_data",
          "data": {
            "text/plain": [
              "<IPython.core.display.HTML object>"
            ],
            "text/html": [
              "Tracking run with wandb version 0.14.0"
            ]
          },
          "metadata": {}
        },
        {
          "output_type": "display_data",
          "data": {
            "text/plain": [
              "<IPython.core.display.HTML object>"
            ],
            "text/html": [
              "Run data is saved locally in <code>/content/wandb/run-20230403_131357-vfske6gm</code>"
            ]
          },
          "metadata": {}
        },
        {
          "output_type": "display_data",
          "data": {
            "text/plain": [
              "<IPython.core.display.HTML object>"
            ],
            "text/html": [
              "Syncing run <strong><a href='https://wandb.ai/tim-w/xgboost-example/runs/vfske6gm' target=\"_blank\">solar-thunder-104</a></strong> to <a href='https://wandb.ai/tim-w/xgboost-example' target=\"_blank\">Weights & Biases</a> (<a href='https://wandb.me/run' target=\"_blank\">docs</a>)<br/>"
            ]
          },
          "metadata": {}
        },
        {
          "output_type": "display_data",
          "data": {
            "text/plain": [
              "<IPython.core.display.HTML object>"
            ],
            "text/html": [
              " View project at <a href='https://wandb.ai/tim-w/xgboost-example' target=\"_blank\">https://wandb.ai/tim-w/xgboost-example</a>"
            ]
          },
          "metadata": {}
        },
        {
          "output_type": "display_data",
          "data": {
            "text/plain": [
              "<IPython.core.display.HTML object>"
            ],
            "text/html": [
              " View run at <a href='https://wandb.ai/tim-w/xgboost-example/runs/vfske6gm' target=\"_blank\">https://wandb.ai/tim-w/xgboost-example/runs/vfske6gm</a>"
            ]
          },
          "metadata": {}
        },
        {
          "output_type": "stream",
          "name": "stdout",
          "text": [
            "Warning: No categorical columns found. Calling 'transform' will only return input data.\n"
          ]
        },
        {
          "output_type": "stream",
          "name": "stderr",
          "text": [
            "/usr/local/lib/python3.9/dist-packages/xgboost/data.py:192: FutureWarning: pandas.Int64Index is deprecated and will be removed from pandas in a future version. Use pandas.Index with the appropriate dtype instead.\n",
            "  from pandas import MultiIndex, Int64Index\n"
          ]
        },
        {
          "output_type": "stream",
          "name": "stdout",
          "text": [
            "[0]\tvalidation_0-auc:0.74603\tvalidation_0-logloss:0.50882\n",
            "[1]\tvalidation_0-auc:0.75616\tvalidation_0-logloss:0.49454\n",
            "[2]\tvalidation_0-auc:0.76581\tvalidation_0-logloss:0.48310\n",
            "[3]\tvalidation_0-auc:0.76847\tvalidation_0-logloss:0.47404\n",
            "[4]\tvalidation_0-auc:0.77308\tvalidation_0-logloss:0.46673\n",
            "[5]\tvalidation_0-auc:0.77510\tvalidation_0-logloss:0.46052\n",
            "[6]\tvalidation_0-auc:0.77469\tvalidation_0-logloss:0.45557\n",
            "[7]\tvalidation_0-auc:0.77533\tvalidation_0-logloss:0.45137\n",
            "[8]\tvalidation_0-auc:0.77599\tvalidation_0-logloss:0.44772\n",
            "[9]\tvalidation_0-auc:0.77758\tvalidation_0-logloss:0.44432\n",
            "[10]\tvalidation_0-auc:0.77809\tvalidation_0-logloss:0.44169\n",
            "[11]\tvalidation_0-auc:0.77874\tvalidation_0-logloss:0.43956\n",
            "[12]\tvalidation_0-auc:0.77915\tvalidation_0-logloss:0.43754\n",
            "[13]\tvalidation_0-auc:0.78006\tvalidation_0-logloss:0.43594\n",
            "[14]\tvalidation_0-auc:0.77978\tvalidation_0-logloss:0.43465\n",
            "[15]\tvalidation_0-auc:0.77970\tvalidation_0-logloss:0.43334\n",
            "[16]\tvalidation_0-auc:0.78040\tvalidation_0-logloss:0.43214\n",
            "[17]\tvalidation_0-auc:0.78065\tvalidation_0-logloss:0.43115\n",
            "[18]\tvalidation_0-auc:0.78065\tvalidation_0-logloss:0.43036\n",
            "[19]\tvalidation_0-auc:0.78075\tvalidation_0-logloss:0.42967\n",
            "[20]\tvalidation_0-auc:0.78115\tvalidation_0-logloss:0.42919\n",
            "[21]\tvalidation_0-auc:0.78178\tvalidation_0-logloss:0.42848\n",
            "[22]\tvalidation_0-auc:0.78197\tvalidation_0-logloss:0.42791\n",
            "[23]\tvalidation_0-auc:0.78216\tvalidation_0-logloss:0.42759\n",
            "[24]\tvalidation_0-auc:0.78236\tvalidation_0-logloss:0.42706\n"
          ]
        },
        {
          "output_type": "display_data",
          "data": {
            "text/plain": [
              "<IPython.core.display.HTML object>"
            ],
            "text/html": [
              "Waiting for W&B process to finish... <strong style=\"color:green\">(success).</strong>"
            ]
          },
          "metadata": {}
        },
        {
          "output_type": "display_data",
          "data": {
            "text/plain": [
              "<IPython.core.display.HTML object>"
            ],
            "text/html": [
              "<style>\n",
              "    table.wandb td:nth-child(1) { padding: 0 10px; text-align: left ; width: auto;} td:nth-child(2) {text-align: left ; width: 100%}\n",
              "    .wandb-row { display: flex; flex-direction: row; flex-wrap: wrap; justify-content: flex-start; width: 100% }\n",
              "    .wandb-col { display: flex; flex-direction: column; flex-basis: 100%; flex: 1; padding: 10px; }\n",
              "    </style>\n",
              "<div class=\"wandb-row\"><div class=\"wandb-col\"><h3>Run history:</h3><br/><table class=\"wandb\"><tr><td>epoch</td><td>▁▁▂▂▂▂▃▃▃▄▄▄▅▅▅▅▆▆▆▇▇▇▇██</td></tr><tr><td>validation_0-auc</td><td>▁▃▅▅▆▇▇▇▇▇▇▇▇██▇█████████</td></tr><tr><td>validation_0-logloss</td><td>█▇▆▅▄▄▃▃▃▂▂▂▂▂▂▂▁▁▁▁▁▁▁▁▁</td></tr></table><br/></div><div class=\"wandb-col\"><h3>Run summary:</h3><br/><table class=\"wandb\"><tr><td>epoch</td><td>24</td></tr></table><br/></div></div>"
            ]
          },
          "metadata": {}
        },
        {
          "output_type": "display_data",
          "data": {
            "text/plain": [
              "<IPython.core.display.HTML object>"
            ],
            "text/html": [
              " View run <strong style=\"color:#cdcd00\">solar-thunder-104</strong> at: <a href='https://wandb.ai/tim-w/xgboost-example/runs/vfske6gm' target=\"_blank\">https://wandb.ai/tim-w/xgboost-example/runs/vfske6gm</a><br/>Synced 5 W&B file(s), 1 media file(s), 4 artifact file(s) and 2 other file(s)"
            ]
          },
          "metadata": {}
        },
        {
          "output_type": "display_data",
          "data": {
            "text/plain": [
              "<IPython.core.display.HTML object>"
            ],
            "text/html": [
              "Find logs at: <code>./wandb/run-20230403_131357-vfske6gm/logs</code>"
            ]
          },
          "metadata": {}
        }
      ]
    },
    {
      "cell_type": "code",
      "source": [
        "## logging shap values and related visuals\n",
        "import shap\n",
        "\n",
        "with wandb.init(project=project_name, job_type=\"training\", config = config) as run:\n",
        "\n",
        "  # artifact = run.use_artifact('{entity}/{project_name}/train-val-test-datasets:v0', type='dataset')\n",
        "  artifact = run.use_artifact('tim-w/xgboost-example/train-val-test-datasets:v0', type='dataset')\n",
        "  ## download and load if necessary\n",
        "\n",
        "  early_stopping_rounds = 40\n",
        "\n",
        "  pipeline = create_preprocessing_pipeline(numeric_features, categorical_features)\n",
        "  pipeline.fit(X_train) \n",
        "\n",
        "  X_train = pipeline.transform(X_train)\n",
        "  X_val = pipeline.transform(X_val)\n",
        "  X_test = pipeline.transform(X_test)\n",
        "\n",
        "  X_train = pd.DataFrame(X_train, columns = features)\n",
        "  X_val = pd.DataFrame(X_val, columns = features)\n",
        "  X_test = pd.DataFrame(X_test, columns = features)\n",
        "\n",
        "  xgbmodel = xgb.XGBClassifier(**wandb.config, use_label_encoder=False)\n",
        "  xgbmodel.fit(X_train, Y_train, eval_set = [(X_val, Y_val)],\n",
        "              callbacks = [WandbCallback(log_model = True)])\n",
        "\n",
        "  explainer = shap.TreeExplainer(xgbmodel)\n",
        "  shap_values = explainer.shap_values(X_test)\n",
        "\n",
        "  Y_test_probs = xgbmodel.predict_proba(X_test)\n",
        "  Y_test_preds = Y_test_probs[:,1]\n",
        "\n",
        "  y_preds = pd.DataFrame(Y_test_probs, columns = [\"p0\", \"p1\"])\n",
        "  sorted_idx = y_preds.sort_values(\"p1\").index\n",
        "\n",
        "  shap_html_list = [np.nan]*y_preds.shape[0]\n",
        "\n",
        "  ## log a few shap plots for top and bottom predictions\n",
        "\n",
        "  for i in sorted_idx[0:1]:\n",
        "    force_plot = shap.force_plot(explainer.expected_value, shap_values[i,:], X_test.iloc[i,:], show=False, matplotlib=False)\n",
        "    # shap_html = f\"<head>{shap.getjs()}</head><body>{force_plot.html()}</body>\"\n",
        "    shap_html = force_plot.html()\n",
        "    shap_html_list[i] = wandb.Html(shap_html)\n",
        "    run.log({f\"prediction explanation at idx: {i}, prob: {y_preds.iloc[i][0]}\": wandb.Html(shap_html)})\n",
        "\n",
        "  for i in sorted_idx[-1:]:\n",
        "    force_plot = shap.force_plot(explainer.expected_value, shap_values[i,:], X_test.iloc[i,:], show=False, matplotlib=False)\n",
        "    # shap_html = f\"<head>{shap.getjs()}</head><body>{force_plot.html()}</body>\"\n",
        "    shap_html = force_plot.html()\n",
        "    shap_html_list[i] = wandb.Html(shap_html)\n",
        "    run.log({f\"prediction explanation at idx: {i}, prob: {y_preds.iloc[i][0]}\": wandb.Html(shap_html)})\n",
        "    \n",
        "  ## log stacked shap plot for first 1000 records in test dataset\n",
        "  summary_force_plot = shap.force_plot(explainer.expected_value, shap_values[:1000,:], X_test.iloc[:1000,:])\n",
        "  # shap_html = f\"<head>{shap.getjs()}</head><body>{summary_force_plot.html()}</body>\"\n",
        "  shap_html = summary_force_plot.html()\n",
        "  with open(\"shap_agg.html\", \"w\") as f:\n",
        "    f.write(shap_html)\n",
        "  run.log({f\"aggregate \": wandb.Html(shap_html)})\n",
        "\n",
        "  ## feature importance and partial dependence plots\n",
        "  shap_values_df = pd.DataFrame(shap_values, columns = [f\"{c}_shap\" for c in X_test.columns])\n",
        "\n",
        "  shap_fi = np.abs(shap_values_df).mean(axis=0).reset_index()\n",
        "  shap_fi.columns = [\"Feature\", \"Feature Importance\"]\n",
        "  shap_fi[\"Feature\"] = shap_fi[\"Feature\"].apply(lambda x: x[0:-5])\n",
        "  shap_wandb_table = wandb.Table(dataframe = shap_values_df.join(df_test.reset_index()))\n",
        "  shap_fi_plot = wandb.plot.bar(table =  wandb.Table(dataframe = shap_fi), label = \"Feature\", value = \"Feature Importance\", title = \"Shap Feature Importance\")\n",
        "  top_5 = shap_fi.sort_values(\"Feature Importance\", ascending = False).iloc[0:5][\"Feature\"].tolist()\n",
        "  for feature in top_5:\n",
        "    if feature in categorical_features:\n",
        "      pd_plot = wandb.plot.scatter(table = shap_wandb_table, x = feature, y = f\"{feature}_shap\", title = f\"PD Plot: {feature}\")\n",
        "    else:\n",
        "      pd_plot = wandb.plot.line(table = shap_wandb_table, x = feature, y = f\"{feature}_shap\", title = f\"PD Plot: {feature}\")\n",
        "    run.log({ f\"Shap Partial Dependence Plot {feature}\": pd_plot})\n",
        "  run.log({\"Shap Feature Importance\": shap_fi_plot})\n",
        "  shap_values_df[\"Shap VIZ\"] = shap_html_list\n",
        "\n",
        "  run.log({\"Shap Values\": wandb.Table(dataframe = shap_values_df)})\n"
      ],
      "metadata": {
        "colab": {
          "base_uri": "https://localhost:8080/",
          "height": 946,
          "referenced_widgets": [
            "8c23da2d227c48adbf0dcf78381cd10a",
            "2e601d1bb4e745af8b905447169758b6",
            "ba9a0a22ca074de6ab0a50da85b1ea22",
            "c591c218bd0e4a5d8539544815d1ce38",
            "3f4a0d990678400680b78695bb7caffc",
            "7922f8f1ff15493b8c857bde1f78775b",
            "ceccdbdc27384d02a9ba1d1b08a7e8d8",
            "e24f744018324037a1b8ae6f725fa36d"
          ]
        },
        "id": "jejB6C7x2U48",
        "outputId": "8579bbfb-2448-43d2-a908-c3dfb32f75ef"
      },
      "execution_count": null,
      "outputs": [
        {
          "output_type": "display_data",
          "data": {
            "text/plain": [
              "<IPython.core.display.HTML object>"
            ],
            "text/html": [
              "Tracking run with wandb version 0.14.0"
            ]
          },
          "metadata": {}
        },
        {
          "output_type": "display_data",
          "data": {
            "text/plain": [
              "<IPython.core.display.HTML object>"
            ],
            "text/html": [
              "Run data is saved locally in <code>/content/wandb/run-20230403_131601-7b22cgdc</code>"
            ]
          },
          "metadata": {}
        },
        {
          "output_type": "display_data",
          "data": {
            "text/plain": [
              "<IPython.core.display.HTML object>"
            ],
            "text/html": [
              "Syncing run <strong><a href='https://wandb.ai/tim-w/xgboost-example/runs/7b22cgdc' target=\"_blank\">vague-moon-106</a></strong> to <a href='https://wandb.ai/tim-w/xgboost-example' target=\"_blank\">Weights & Biases</a> (<a href='https://wandb.me/run' target=\"_blank\">docs</a>)<br/>"
            ]
          },
          "metadata": {}
        },
        {
          "output_type": "display_data",
          "data": {
            "text/plain": [
              "<IPython.core.display.HTML object>"
            ],
            "text/html": [
              " View project at <a href='https://wandb.ai/tim-w/xgboost-example' target=\"_blank\">https://wandb.ai/tim-w/xgboost-example</a>"
            ]
          },
          "metadata": {}
        },
        {
          "output_type": "display_data",
          "data": {
            "text/plain": [
              "<IPython.core.display.HTML object>"
            ],
            "text/html": [
              " View run at <a href='https://wandb.ai/tim-w/xgboost-example/runs/7b22cgdc' target=\"_blank\">https://wandb.ai/tim-w/xgboost-example/runs/7b22cgdc</a>"
            ]
          },
          "metadata": {}
        },
        {
          "output_type": "stream",
          "name": "stdout",
          "text": [
            "Warning: No categorical columns found. Calling 'transform' will only return input data.\n",
            "[0]\tvalidation_0-auc:0.74603\tvalidation_0-logloss:0.50882\n",
            "[1]\tvalidation_0-auc:0.75616\tvalidation_0-logloss:0.49454\n",
            "[2]\tvalidation_0-auc:0.76581\tvalidation_0-logloss:0.48310\n"
          ]
        },
        {
          "output_type": "stream",
          "name": "stderr",
          "text": [
            "pandas.Int64Index is deprecated and will be removed from pandas in a future version. Use pandas.Index with the appropriate dtype instead.\n"
          ]
        },
        {
          "output_type": "stream",
          "name": "stdout",
          "text": [
            "[3]\tvalidation_0-auc:0.76847\tvalidation_0-logloss:0.47404\n",
            "[4]\tvalidation_0-auc:0.77308\tvalidation_0-logloss:0.46673\n",
            "[5]\tvalidation_0-auc:0.77510\tvalidation_0-logloss:0.46052\n",
            "[6]\tvalidation_0-auc:0.77469\tvalidation_0-logloss:0.45557\n",
            "[7]\tvalidation_0-auc:0.77533\tvalidation_0-logloss:0.45137\n",
            "[8]\tvalidation_0-auc:0.77599\tvalidation_0-logloss:0.44772\n",
            "[9]\tvalidation_0-auc:0.77758\tvalidation_0-logloss:0.44432\n",
            "[10]\tvalidation_0-auc:0.77809\tvalidation_0-logloss:0.44169\n",
            "[11]\tvalidation_0-auc:0.77874\tvalidation_0-logloss:0.43956\n",
            "[12]\tvalidation_0-auc:0.77915\tvalidation_0-logloss:0.43754\n",
            "[13]\tvalidation_0-auc:0.78006\tvalidation_0-logloss:0.43594\n",
            "[14]\tvalidation_0-auc:0.77978\tvalidation_0-logloss:0.43465\n",
            "[15]\tvalidation_0-auc:0.77970\tvalidation_0-logloss:0.43334\n",
            "[16]\tvalidation_0-auc:0.78040\tvalidation_0-logloss:0.43214\n",
            "[17]\tvalidation_0-auc:0.78065\tvalidation_0-logloss:0.43115\n",
            "[18]\tvalidation_0-auc:0.78065\tvalidation_0-logloss:0.43036\n",
            "[19]\tvalidation_0-auc:0.78075\tvalidation_0-logloss:0.42967\n",
            "[20]\tvalidation_0-auc:0.78115\tvalidation_0-logloss:0.42919\n",
            "[21]\tvalidation_0-auc:0.78178\tvalidation_0-logloss:0.42848\n",
            "[22]\tvalidation_0-auc:0.78197\tvalidation_0-logloss:0.42791\n",
            "[23]\tvalidation_0-auc:0.78216\tvalidation_0-logloss:0.42759\n",
            "[24]\tvalidation_0-auc:0.78236\tvalidation_0-logloss:0.42706\n"
          ]
        },
        {
          "output_type": "display_data",
          "data": {
            "text/plain": [
              "<IPython.core.display.HTML object>"
            ],
            "text/html": [
              "Waiting for W&B process to finish... <strong style=\"color:green\">(success).</strong>"
            ]
          },
          "metadata": {}
        },
        {
          "output_type": "display_data",
          "data": {
            "text/plain": [
              "VBox(children=(Label(value='7.084 MB of 7.084 MB uploaded (0.000 MB deduped)\\r'), FloatProgress(value=1.0, max…"
            ],
            "application/vnd.jupyter.widget-view+json": {
              "version_major": 2,
              "version_minor": 0,
              "model_id": "8c23da2d227c48adbf0dcf78381cd10a"
            }
          },
          "metadata": {}
        },
        {
          "output_type": "display_data",
          "data": {
            "text/plain": [
              "<IPython.core.display.HTML object>"
            ],
            "text/html": [
              "<style>\n",
              "    table.wandb td:nth-child(1) { padding: 0 10px; text-align: left ; width: auto;} td:nth-child(2) {text-align: left ; width: 100%}\n",
              "    .wandb-row { display: flex; flex-direction: row; flex-wrap: wrap; justify-content: flex-start; width: 100% }\n",
              "    .wandb-col { display: flex; flex-direction: column; flex-basis: 100%; flex: 1; padding: 10px; }\n",
              "    </style>\n",
              "<div class=\"wandb-row\"><div class=\"wandb-col\"><h3>Run history:</h3><br/><table class=\"wandb\"><tr><td>epoch</td><td>▁▁▂▂▂▂▃▃▃▄▄▄▅▅▅▅▆▆▆▇▇▇▇██</td></tr><tr><td>validation_0-auc</td><td>▁▃▅▅▆▇▇▇▇▇▇▇▇██▇█████████</td></tr><tr><td>validation_0-logloss</td><td>█▇▆▅▄▄▃▃▃▂▂▂▂▂▂▂▁▁▁▁▁▁▁▁▁</td></tr></table><br/></div><div class=\"wandb-col\"><h3>Run summary:</h3><br/><table class=\"wandb\"><tr><td>epoch</td><td>24</td></tr></table><br/></div></div>"
            ]
          },
          "metadata": {}
        },
        {
          "output_type": "display_data",
          "data": {
            "text/plain": [
              "<IPython.core.display.HTML object>"
            ],
            "text/html": [
              " View run <strong style=\"color:#cdcd00\">vague-moon-106</strong> at: <a href='https://wandb.ai/tim-w/xgboost-example/runs/7b22cgdc' target=\"_blank\">https://wandb.ai/tim-w/xgboost-example/runs/7b22cgdc</a><br/>Synced 5 W&B file(s), 7 media file(s), 9 artifact file(s) and 2 other file(s)"
            ]
          },
          "metadata": {}
        },
        {
          "output_type": "display_data",
          "data": {
            "text/plain": [
              "<IPython.core.display.HTML object>"
            ],
            "text/html": [
              "Find logs at: <code>./wandb/run-20230403_131601-7b22cgdc/logs</code>"
            ]
          },
          "metadata": {}
        }
      ]
    },
    {
      "cell_type": "code",
      "source": [
        "wandb.init(project = \"html-test\")\n",
        "shap_html = summary_force_plot.html()\n",
        "shap_html = f\"<head>{shap.getjs()}</head><body>{summary_force_plot.html()}\"\n",
        "with open(\"shap_agg.html\", \"w\") as f:\n",
        "  f.write(shap_html)\n",
        "wandb.log({f\"aggregate \": wandb.Html(shap_html)})"
      ],
      "metadata": {
        "colab": {
          "base_uri": "https://localhost:8080/",
          "height": 105
        },
        "id": "aCMl5LIxRFA8",
        "outputId": "509180a3-0559-47d4-a285-e1720aeffce7"
      },
      "execution_count": null,
      "outputs": [
        {
          "output_type": "display_data",
          "data": {
            "text/plain": [
              "<IPython.core.display.HTML object>"
            ],
            "text/html": [
              "Tracking run with wandb version 0.14.0"
            ]
          },
          "metadata": {}
        },
        {
          "output_type": "display_data",
          "data": {
            "text/plain": [
              "<IPython.core.display.HTML object>"
            ],
            "text/html": [
              "Run data is saved locally in <code>/content/wandb/run-20230403_132335-ai8sx48s</code>"
            ]
          },
          "metadata": {}
        },
        {
          "output_type": "display_data",
          "data": {
            "text/plain": [
              "<IPython.core.display.HTML object>"
            ],
            "text/html": [
              "Syncing run <strong><a href='https://wandb.ai/tim-w/html-test/runs/ai8sx48s' target=\"_blank\">sweet-pond-2</a></strong> to <a href='https://wandb.ai/tim-w/html-test' target=\"_blank\">Weights & Biases</a> (<a href='https://wandb.me/run' target=\"_blank\">docs</a>)<br/>"
            ]
          },
          "metadata": {}
        },
        {
          "output_type": "display_data",
          "data": {
            "text/plain": [
              "<IPython.core.display.HTML object>"
            ],
            "text/html": [
              " View project at <a href='https://wandb.ai/tim-w/html-test' target=\"_blank\">https://wandb.ai/tim-w/html-test</a>"
            ]
          },
          "metadata": {}
        },
        {
          "output_type": "display_data",
          "data": {
            "text/plain": [
              "<IPython.core.display.HTML object>"
            ],
            "text/html": [
              " View run at <a href='https://wandb.ai/tim-w/html-test/runs/ai8sx48s' target=\"_blank\">https://wandb.ai/tim-w/html-test/runs/ai8sx48s</a>"
            ]
          },
          "metadata": {}
        }
      ]
    },
    {
      "cell_type": "markdown",
      "source": [
        "## Sweeps\n",
        "\n",
        "Very Naive instrumentation of sweeps - sweeps running a single machine\n",
        "\n",
        "We'll switch from using the `sync_tensorboard` argument to using `wandb.log`.  \n",
        "\n",
        "Also, we'll use sweeps to evaluate different batch sizes and learning rates.  \n",
        "\n",
        "1. Add wandb: In your Python script, add a couple lines of code to log hyperparameters and output metrics from your script.\n",
        "2. Write config: Define the variables and ranges to sweep over. Pick a search strategy— we support grid, random, and Bayesian search, plus techniques for faster iterations like early stopping. Check out some example configs here.\n",
        "Initialize sweep: Launch the sweep server. We host this central controller and coordinate between the agents that execute the sweep.\n",
        "3. Launch agent(s): Run a single-line command on each machine you'd like to use to train models in the sweep. The agents ask the central sweep server what hyperparameters to try next, and then they execute the runs.\n",
        "4. Visualize results: Open our live dashboard to see all your results in one central place.\n",
        "\n",
        "![](https://1039519455-files.gitbook.io/~/files/v0/b/gitbook-x-prod.appspot.com/o/spaces%2F-Lqya5RvLedGEWPhtkjU-1972196547%2Fuploads%2Fgit-blob-d7820a5646e118213a46afd4faa2c02eed7faf5c%2Fcentral-sweep-server-3%20(2)%20(2)%20(3)%20(3)%20(2)%20(1)%20(1)%20(1)%20(1)%20(1)%20(1)%20(1)%20(1)%20(1)%20(1)%20(1)%20(3)%20(1)%20(1)%20(1)%20(1)%20(1)%20(1)%20(1)%20(1)%20(1)%20(1)%20(1)%20(1)%20(1)%20(1)%20(1)%20(1)%20(1)%20(1)%20(1)%20(2).png?alt=media)"
      ],
      "metadata": {
        "id": "VZfLOFfU-eQI"
      }
    },
    {
      "cell_type": "markdown",
      "source": [
        "## Sweep Configuration"
      ],
      "metadata": {
        "id": "R37gxYbL-hK0"
      }
    },
    {
      "cell_type": "code",
      "source": [
        "sweep_config = {\n",
        "  'method': 'grid', \n",
        "  'metric': {\n",
        "      'name': 'validation_0-logloss.min',  ## matches what i write via SummaryWriter\n",
        "      'goal': 'minimize'\n",
        "  },\n",
        "  'early_terminate':{\n",
        "      'type': 'hyperband',\n",
        "      'min_iter': 5\n",
        "  },\n",
        "  'parameters': {\n",
        "      'learning_rate':{\n",
        "          'values': [0.05,0.025,0.01]\n",
        "      }, \n",
        "      'max_depth': { \n",
        "          'values': [2, 4, 16]\n",
        "      }, \n",
        "      \"colsample_bytree\": { \n",
        "          \"values\": [0.6, 0.8, 1]\n",
        "      }\n",
        "  }\n",
        "}\n"
      ],
      "metadata": {
        "id": "TpV0a8Rm-exL"
      },
      "execution_count": null,
      "outputs": []
    },
    {
      "cell_type": "markdown",
      "source": [
        "## Train Fucntion "
      ],
      "metadata": {
        "id": "I92WggHt-kpN"
      }
    },
    {
      "cell_type": "code",
      "source": [
        "def sweep_train(config_defaults = dict(learning_rate=0.01, max_depth = 3, n_estimators = 25)): \n",
        "\n",
        "  config_standard = {\n",
        "        'objective': 'binary:logistic'\n",
        "        , 'gamma': 1               ## def: 0\n",
        "        , 'min_child_weight': 100  ## def: 1\n",
        "        , 'nthread': 24 \n",
        "        , 'random_state': 42\n",
        "        , 'reg_alpha': 0\n",
        "        , 'reg_lambda': 0          ## def: 1\n",
        "        , 'eval_metric': ['auc', 'logloss']\n",
        "        , 'tree_method': 'hist'  # use `gpu_hist` to train on GPU, \n",
        "        , 'n_estimators': 25\n",
        "    }\n",
        "  \n",
        "  config = {**config_defaults, **config_standard}\n",
        "\n",
        "  with wandb.init(config = config) as run:\n",
        "\n",
        "    config = wandb.config\n",
        "    ## or, ifyou have a nasty nested dictionary for your config\n",
        "    # config = EasyDict(wandb.config)\n",
        "        \n",
        "    # artifact = run.use_artifact('{entity}/{project_name}/train-val-test-datasets:v0', type='dataset')\n",
        "    artifact = run.use_artifact('tim-w/xgboost-example/train-val-test-datasets:v0', type='dataset')\n",
        "    artifact_path = artifact.download()\n",
        "\n",
        "    categorical_features = [\"EDUCATION\", \"MARRIAGE\", \"PAY_1\", \"PAY_2\", \"PAY_3\", \"PAY_4\", \"PAY_5\", \"PAY_6\"]\n",
        "    numeric_features = ['LIMIT_BAL', 'BILL_AMT1', 'BILL_AMT2', 'BILL_AMT3',\n",
        "          'BILL_AMT4', 'BILL_AMT5', 'BILL_AMT6', 'PAY_AMT1', 'PAY_AMT2',\n",
        "          'PAY_AMT3', 'PAY_AMT4', 'PAY_AMT5', 'PAY_AMT6']\n",
        "    features = []\n",
        "    features.extend(numeric_features)\n",
        "    features.extend(categorical_features)\n",
        "    for col in categorical_features:\n",
        "      dataset[col] = dataset[col].astype('category')\n",
        "\n",
        "    df_train = pd.read_csv(artifact_path + \"/train.csv\")\n",
        "    df_val = pd.read_csv(artifact_path + \"/val.csv\")\n",
        "    df_test = pd.read_csv(artifact_path + \"/test.csv\")\n",
        "\n",
        "    X_train = df_train.drop([target_name], axis=1)\n",
        "    Y_train = df_train[target_name]\n",
        "    X_test = df_test.drop([target_name], axis=1)\n",
        "    Y_test = df_test[target_name]\n",
        "    X_val = df_val.drop([target_name], axis=1)\n",
        "    Y_val = df_val[target_name]\n",
        "    base_rate = Y_train.mean()\n",
        "\n",
        "    config['base_score'] = base_rate\n",
        "\n",
        "    early_stopping_rounds = 40\n",
        "\n",
        "    pipeline = create_preprocessing_pipeline(numeric_features, categorical_features)\n",
        "    pipeline.fit(X_train) \n",
        "\n",
        "    X_train = pipeline.transform(X_train)\n",
        "    X_val = pipeline.transform(X_val)\n",
        "    X_test = pipeline.transform(X_test)\n",
        "\n",
        "    X_train = pd.DataFrame(X_train, columns = features)\n",
        "    X_val = pd.DataFrame(X_val, columns = features)\n",
        "    X_test = pd.DataFrame(X_test, columns = features)\n",
        "\n",
        "    xgbmodel = xgb.XGBClassifier(**wandb.config, use_label_encoder=False)\n",
        "    xgbmodel.fit(X_train, Y_train, eval_set = [(X_val, Y_val)],\n",
        "                callbacks = [WandbCallback(log_model = True)]\n",
        "                )"
      ],
      "metadata": {
        "id": "u-e108I0-ii1"
      },
      "execution_count": null,
      "outputs": []
    },
    {
      "cell_type": "markdown",
      "source": [
        "## Initialize Sweep"
      ],
      "metadata": {
        "id": "yRmg4FYVA9Ps"
      }
    },
    {
      "cell_type": "code",
      "source": [
        "sweep_id = wandb.sweep(sweep_config, project=project_name)"
      ],
      "metadata": {
        "colab": {
          "base_uri": "https://localhost:8080/"
        },
        "id": "p-gbc4JtA8Am",
        "outputId": "3b49cc95-1cbc-409c-85e4-14c0844dcddb"
      },
      "execution_count": null,
      "outputs": [
        {
          "output_type": "stream",
          "name": "stdout",
          "text": [
            "Create sweep with ID: 9r9ngnv7\n",
            "Sweep URL: https://wandb.ai/tim-w/xgboost-example/sweeps/9r9ngnv7\n"
          ]
        }
      ]
    },
    {
      "cell_type": "markdown",
      "source": [
        "## Run the Sweep Agent"
      ],
      "metadata": {
        "id": "2GBHeneIBARN"
      }
    },
    {
      "cell_type": "code",
      "source": [
        "wandb_agent = wandb.agent(sweep_id, function=sweep_train)"
      ],
      "metadata": {
        "colab": {
          "base_uri": "https://localhost:8080/",
          "height": 1000,
          "referenced_widgets": [
            "3153ad8755394ccf94e269bd6238be37",
            "15729d1f230241c3a230ca7f66cb3c81",
            "04de15492fe44034a7c4ea0842d30ad8",
            "cc84a4aa1f594f8fabcf5d34a3ea6694",
            "9991b6feb49247d38e8bd5f049b4a825",
            "53839c311d3a4a0fb3e513a1a1b84fc0",
            "81049a1175a44ab9849e5d81e91b0c42",
            "dee02a9740f04a9da26f40ec53d8464c",
            "c85ee669526f417e980023b92ccecda1",
            "f484a2521dba464fb20e55293427966f",
            "1c595b9b1725410d9e3a2abb84733348",
            "b84562d796b94b8b8e2469b847982299",
            "8e9c7c19f72c4abebe4e07305f1a3e30",
            "c0bed335b16b421eb3edce0c6d0747e1",
            "3abee3cf63464610afa54d2c2401ae8b",
            "e8ffd30f645c41f3a66b955e15c1d39e",
            "b04adea949ce43889372f80b01ab8b9c",
            "269dbf00025a4ff2852af34c172b50aa",
            "4e301304a79d4fc2bb56ecc0ccb757fa",
            "4072369bf71a4fc08d4fea717b22d9a0",
            "df0ab731b227475aafaa0b59303b450e",
            "e55eb65ebcf144fd93a81656b6666110",
            "cb3e96c24f27492b94a1c7d9b512da80",
            "b23d5f6ee362400abb0e80c6a5f43eea",
            "d4b61c9eb0c44c6aba334f08168d9c13",
            "799ad3493d3b450db1ed0c6ef800409c",
            "39494632c24245dbb8a01a0640e46d23",
            "922904476eaa4433bcbbce44525558af",
            "4d22c6bea8c741bba4006d5a11db7562",
            "762a95d0d5b84064be14d418c48c107a",
            "eb36ca5d12e14020bd1fb1b01a9209a6",
            "eb5cb09a58ff4cb28161fa3a6a596a2c",
            "d85c1c5b777b4f6694ed8338ea8700da",
            "f07f038c2f8e403188d7e49bff6e3433",
            "7a3014ab378a4b0cbfdbc2bbdcf77dbc",
            "9d2c237a1ea242ccb247781c36cb9ddd",
            "36c6fac0eb3e4714847b139e67f01cea",
            "272859c3be3e4229a9262d937c837dce",
            "416ace720c10447cb669f3f1b784d0e7",
            "b4e74144f1204a15aae1f5a5a18de63c",
            "af0b12b8544040f0bddd7c5e998a665b",
            "b17dedbb1c62404e9ef1d49538de91ef",
            "3478978b52974934b9eac53ac18d1060",
            "93697aa5c2df45a89ca44dbbb4c2b1c2",
            "8ca5f6e7155a4b12ba27292705e5d261",
            "fa37d8fc0c4e442080230e2183215837",
            "fa833ee2b5744e40b91deec92e9763df",
            "5a72c4b0628d491caa80bf84828f693e",
            "2c923859e4a342c68f960120677598e7",
            "7abb845f4e2a4701800432f731f08caf",
            "636f45cbd4da4408ac7355a68174b8f8",
            "16af3ed081de4ba1a7b1fc196e3986f2",
            "a382cc523c3043f2b22ecd6036a89987",
            "2a2e2217dbea438daecb22bf9f5da025",
            "7f90a27965eb43dd995a2ec3d7877081",
            "0998cb3f62fa4f11b2027905727c7df4",
            "57fc2c112b964d8b9f49a9967093051e",
            "d5a70322ea3845d3b6c1e19b607db069",
            "c370083cb33746e3a49ed11cae706f7a",
            "e39abe4a14644f1d99b4a639c973dd4b",
            "de438c042e12421db68663c9924dd88c",
            "c5d2612c07d44d0cab0f5613365f1f26",
            "d445563e1ffb47d886d6499a639bf283",
            "7c91ac628ec54298bc6c2171ef67bf67",
            "659d6a8ce69d4616be67b1d9cb341383",
            "01b2114b4b1243b0b27ab1be08982d98",
            "879f10ab1ea4415d901d0c69292aed1a",
            "8c61043d88e94adfa65bb704c9139314",
            "2425d16ead2c4621bee4f19d81f2a2da",
            "010d3369bfa04d0fa7c3f79f18e122f8",
            "bcb347eb0cca436391f8ef90ba8de146",
            "b46231f69f7c48e187d7cba5e803b364",
            "583623359cff4c58a04158f4eae8a157",
            "6f9a9bd917b848fcb8343a4747b797cf",
            "104e7345737045fba24b4bf83b36a15c",
            "3289b190403b437d90b790abf0a7a3d8",
            "1deb38ea9bc142e8a9cd05d36bf9df90",
            "6f8615628e2447cd9cf0a9f4aeea9924",
            "f2ef145f5db1486d8da1e2fd72b7461a",
            "ee11ae23971f4cc28bc4551e162deaf8",
            "54adad7f57804368b38ed2e512cb56e7",
            "f48822c3478c4271a1ca33f1bc7bed9d",
            "94ede60133ad4407852ead534c469598",
            "0b8f74b4792d4673b957c1d61bee06a5",
            "c5bb6182588e4ce396f1bee33c011e75",
            "854153d8e4c54e7ca0eed63386a3f1ed",
            "703f7bc285b4473082b526fff0abd2f9",
            "7b6c214f35134a72bc7d164a28850032",
            "4f623027d4764890bc7f535628958ec2",
            "c30e0dca3d2a40599b92b9daddad361b",
            "32ab60ab0d4541f1b44c3725a5e847b8",
            "b8a007ff50d148d0977944bcf3433d35",
            "f2e96ebfc95b44dcaa245c1250512534",
            "13336750ca3c4b1ba87d75156ce8bd02",
            "061d58a7e03a4437a912ff96637fc922",
            "4bae8db33db04181bffe857b2ebf9e29",
            "ce37c4be135d4aa2b426c35adc5983c7",
            "8d41c0de72ce4e16a754b4e2516ba6ab",
            "b52f28e7726b4c1db8008edb3a0c4d67",
            "5613c82bb3484fdeace0763a81d91f53",
            "b2729828f05d44e2ae0e189a12c59c70",
            "0f94ab64e8824749b80bab5680717ec4",
            "2881fbee27424068b51f410787ed3651",
            "81249102a5f84969adfb37e3d0c22e52",
            "58d16c606f964b348bacd40af5013f2f",
            "d8c2c0968f3f4fedb41ddf4908ec5787",
            "96770c45a4bf4d14a3cfed9c7c3d9fdf",
            "f83e63c297394f8cbd1d5533a8843f90",
            "1b29a344cc8a4bdcbdaab0caa0a501ec",
            "17e365f4980b40f09a04aaba2f129182",
            "eb0e1fb547bc442393ca2a5eeba1772e",
            "a1512efe13524d749c23f35adfa68ca1",
            "4add27a2d9854a07ace2b644204635ad",
            "3acd40274b99471a86278dba19af9a67",
            "dd0b26d565d448ecbd524c936b40cfc6",
            "b0f39806dbdd4ae1b2761a7f023a3703",
            "11eb343f6580438999fd3b6d9ab6d15e",
            "84905db4e42647df9934a2f427798638",
            "d92012402a7a4a81b8d724e646ba0dab",
            "948e4f4a7f0549c0b915f57c11e0a38d",
            "47afca3989c8494d84357f604cee38fb",
            "5a6efd7aa048412b97636ce5fb31b725",
            "9e62a1e731ce4475a4584ef4dfc4fc2e",
            "4314775f74ab48489c016a1d41fa4bd5",
            "1b1963bd69f0442292606dd18b6f2f62",
            "e828a7eaaf8e48d29ec7e96382c52850",
            "3db5fbc8aa4e49168d4a778f855a73ff",
            "0362c1ea21504a6da4efa389af11c40a",
            "001196aa3ea44fd1a7d14408a43baccb",
            "01f1718c5b4045b7a37e9fa84e609dbf",
            "1a9c1d1e70e94c0b98550c31ecea6c86",
            "08d06e2a1a0b424980d75f39552dac86",
            "33ea3ed2dab14e31951f8e8249cac10e",
            "79e5a2020b664f39b08ada5b8fe4f433",
            "1477ac43b5f748df862a60b8041c5f34",
            "888702b31a4f4bebad9a2f322cbf55f4",
            "9bac331156d74c529fe109cf4654e500",
            "11f453f4b3934ccfac194e4d2b46b19d",
            "8699cae687504e48b04b8d570717e406",
            "6b6e7490bf944cab8cd95b63d85ae4c1",
            "5bcac101d1154d74a0465a1e15faac37",
            "362c13bcf4384c66a772a6500bae9cb6",
            "cc8a4fdadfba40e29984b3657983d9ed",
            "f84b1a9022bd464bbd16dddd9e5aa400",
            "768c7902fceb4176af44eab10b96143f",
            "595137d2dba5418fa482bc438d60bee0",
            "8bc481454fa742678d17c699083947ba",
            "d295cf232b0445fa8396ffaec11371e7",
            "64a360577d76409b83a75e4991b9c1ca",
            "995897b32c5d4db69732ed41ff42bc7f",
            "ac4ac7a7d7994ba7baf09f9a6158d93b",
            "157592d246ba4db9b1886bfb79e8d324",
            "54a6169ab59c48d4bf5b3d3512fafbea",
            "aa41cd869b5444a588272e60851d831e",
            "cc9d091c4a9d403f93afd85bf7b7b8b2",
            "ce3616eb402649fa8fd1836b805b62b2",
            "8c11a5ba4dc545fd9a1e0482aff0bbec",
            "0e1ab048df0148cda1cc4c1f903ab2e5",
            "e57f889e086341f48470333ff5aeedd1",
            "f51bd33eb25345c9a386135482aa0763",
            "6c39fc2364bc42bca7f945c5f32f0cfd",
            "4f341049cbe94f689a35f10c24eb39a5",
            "57d1d42bd0b540d7afed1634b8fafda8",
            "e596e5249d764a689223e5d7d7d8782e",
            "eae4976a93094106944bf067ef698446",
            "00da85db0b67414585535546e7f9125b",
            "6ccf67bf91754c08879cdba4685b2ce6",
            "d17f410ebd64498b88e605992be47322",
            "fb6cabdea81f42898cfd5e1354fb21fa",
            "692e54102b644c4ea75b58524bc1f1dd",
            "9e7a22e41fb9492b89b88859fc0e9a13",
            "66a13ad8985d4737873941eab510ce3c",
            "8de803db67054fdcac5e1a57b1df834e",
            "21ad1699dc8a464b93a018244c357c89",
            "fdf416873f714d2e86b5922a140b0d84",
            "cffbe00cfedf4e60994a6183488c6a57",
            "fdce49f375344506aa05806b0232ccb0",
            "8af92f6481884c7c9966d7a072b2f6bf",
            "76b0299ef00941d99371f5c109fe9b9a",
            "bfdf7c7bdc1e43b2aaf92e0e10093753",
            "95466ed95225478a8b66b59ab305088e",
            "799b76e41cea4fa19199cad58f97216b",
            "5a875c2164b64408ba2f2d76df536f21",
            "3dee6f723f514b168d269a60faec94ea",
            "ba970630da774a23a6e715e39462dad3",
            "5a96a65227d849f88c8a29e603e3daf8",
            "9f538ce30e944dd7832d7f3e6170b595",
            "0e3ab6de5d6f43eb9f235655f272c8d3",
            "3cf24ca5736e4abaa2ae41a54c7f4668",
            "e8fd2b34bea64f2c9bac30bb5aa8ad1d",
            "608869f698bc49fbaa62a38160bbf70b",
            "b910f7a45c934699a57d75a55b130357",
            "35a7457f12c741d790b33512de86bcec",
            "4adc276f05e34e05bcabdf44bc9c0134",
            "53a4d551f0b246eb8a8793a8981e6593",
            "aa167264f4a84aafa07145fc2a619bb1",
            "ad5db8aa7e674cda9b81274351aa7018",
            "ca613e3a5577460899e2da2f7adf9175",
            "313556b540c646a8b9e94aeb5370f3dc",
            "1574262d837f42e1b872e3d67efb101c",
            "8ca708508ddd400ca89ca62b9c883f87",
            "eefcc1736b4d4f11a214096e63f17eff",
            "87326d58eedb427b826d6e369a855a16",
            "abc75eb8b2504d8d9dba98347d827808",
            "fa0b07b7da55440ebf4599180b446561",
            "9131f385b412455baef764cfd612279e",
            "5dc705b7a21f4a99843d9fa74819d525",
            "5ce5297ce260463789b0d012c415f7cf",
            "cd1ca1933c2f469ebfe0b0b8627a7cdf",
            "12ba10a3e5ac4a05973da2771f58411c",
            "3d9291a34e4b4aca8eddd082ff3ce2b7",
            "1d919d72df9645ef82fe737c858a8270",
            "8f6172d7c3264a748fefaec854d7c774",
            "72cdcec1bc6c41e8bd912824d83b9fc5",
            "90d5250db834492ab7193cd4609ae0a9",
            "097a022561cb4b4193fbe789bb85bf52"
          ]
        },
        "id": "WaCbqa-sBBTN",
        "outputId": "ebc31e24-0cf9-45e0-a88d-4ec01a6894a1"
      },
      "execution_count": null,
      "outputs": [
        {
          "output_type": "stream",
          "name": "stderr",
          "text": [
            "\u001b[34m\u001b[1mwandb\u001b[0m: Agent Starting Run: tfz1tdeq with config:\n",
            "\u001b[34m\u001b[1mwandb\u001b[0m: \tcolsample_bytree: 0.6\n",
            "\u001b[34m\u001b[1mwandb\u001b[0m: \tlearning_rate: 0.05\n",
            "\u001b[34m\u001b[1mwandb\u001b[0m: \tmax_depth: 2\n"
          ]
        },
        {
          "output_type": "display_data",
          "data": {
            "text/plain": [
              "<IPython.core.display.HTML object>"
            ],
            "text/html": [
              "Tracking run with wandb version 0.13.1"
            ]
          },
          "metadata": {}
        },
        {
          "output_type": "display_data",
          "data": {
            "text/plain": [
              "<IPython.core.display.HTML object>"
            ],
            "text/html": [
              "Run data is saved locally in <code>/content/wandb/run-20220822_152442-tfz1tdeq</code>"
            ]
          },
          "metadata": {}
        },
        {
          "output_type": "display_data",
          "data": {
            "text/plain": [
              "<IPython.core.display.HTML object>"
            ],
            "text/html": [
              "Syncing run <strong><a href=\"https://wandb.ai/tim-w/xgboost-example/runs/tfz1tdeq\" target=\"_blank\">sweet-sweep-1</a></strong> to <a href=\"https://wandb.ai/tim-w/xgboost-example\" target=\"_blank\">Weights & Biases</a> (<a href=\"https://wandb.me/run\" target=\"_blank\">docs</a>)<br/>Sweep page:  <a href=\"https://wandb.ai/tim-w/xgboost-example/sweeps/9r9ngnv7\" target=\"_blank\">https://wandb.ai/tim-w/xgboost-example/sweeps/9r9ngnv7</a>"
            ]
          },
          "metadata": {}
        },
        {
          "output_type": "stream",
          "name": "stdout",
          "text": [
            "Warning: No categorical columns found. Calling 'transform' will only return input data.\n",
            "[0]\tvalidation_0-auc:0.71354\tvalidation_0-logloss:0.51907\n",
            "[1]\tvalidation_0-auc:0.74033\tvalidation_0-logloss:0.51303\n",
            "[2]\tvalidation_0-auc:0.74254\tvalidation_0-logloss:0.50556\n",
            "[3]\tvalidation_0-auc:0.74131\tvalidation_0-logloss:0.50099\n",
            "[4]\tvalidation_0-auc:0.74347\tvalidation_0-logloss:0.49498\n",
            "[5]\tvalidation_0-auc:0.74430\tvalidation_0-logloss:0.48971\n",
            "[6]\tvalidation_0-auc:0.74346\tvalidation_0-logloss:0.48642\n",
            "[7]\tvalidation_0-auc:0.75945\tvalidation_0-logloss:0.48183\n",
            "[8]\tvalidation_0-auc:0.76887\tvalidation_0-logloss:0.47759\n",
            "[9]\tvalidation_0-auc:0.77269\tvalidation_0-logloss:0.47389\n",
            "[10]\tvalidation_0-auc:0.77520\tvalidation_0-logloss:0.47169\n",
            "[11]\tvalidation_0-auc:0.77516\tvalidation_0-logloss:0.46957\n",
            "[12]\tvalidation_0-auc:0.77432\tvalidation_0-logloss:0.46764\n",
            "[13]\tvalidation_0-auc:0.77232\tvalidation_0-logloss:0.46590\n",
            "[14]\tvalidation_0-auc:0.77239\tvalidation_0-logloss:0.46320\n",
            "[15]\tvalidation_0-auc:0.77140\tvalidation_0-logloss:0.46174\n",
            "[16]\tvalidation_0-auc:0.77092\tvalidation_0-logloss:0.46034\n",
            "[17]\tvalidation_0-auc:0.77146\tvalidation_0-logloss:0.45816\n",
            "[18]\tvalidation_0-auc:0.77275\tvalidation_0-logloss:0.45689\n",
            "[19]\tvalidation_0-auc:0.77326\tvalidation_0-logloss:0.45578\n",
            "[20]\tvalidation_0-auc:0.77409\tvalidation_0-logloss:0.45391\n",
            "[21]\tvalidation_0-auc:0.77464\tvalidation_0-logloss:0.45207\n",
            "[22]\tvalidation_0-auc:0.77452\tvalidation_0-logloss:0.45114\n",
            "[23]\tvalidation_0-auc:0.77460\tvalidation_0-logloss:0.44950\n",
            "[24]\tvalidation_0-auc:0.77446\tvalidation_0-logloss:0.44800\n"
          ]
        },
        {
          "output_type": "display_data",
          "data": {
            "text/plain": [
              "<IPython.core.display.HTML object>"
            ],
            "text/html": [
              "Waiting for W&B process to finish... <strong style=\"color:green\">(success).</strong>"
            ]
          },
          "metadata": {}
        },
        {
          "output_type": "display_data",
          "data": {
            "text/plain": [
              "VBox(children=(Label(value='0.117 MB of 0.117 MB uploaded (0.000 MB deduped)\\r'), FloatProgress(value=1.0, max…"
            ],
            "application/vnd.jupyter.widget-view+json": {
              "version_major": 2,
              "version_minor": 0,
              "model_id": "3153ad8755394ccf94e269bd6238be37"
            }
          },
          "metadata": {}
        },
        {
          "output_type": "display_data",
          "data": {
            "text/plain": [
              "<IPython.core.display.HTML object>"
            ],
            "text/html": [
              "<style>\n",
              "    table.wandb td:nth-child(1) { padding: 0 10px; text-align: left ; width: auto;} td:nth-child(2) {text-align: left ; width: 100%}\n",
              "    .wandb-row { display: flex; flex-direction: row; flex-wrap: wrap; justify-content: flex-start; width: 100% }\n",
              "    .wandb-col { display: flex; flex-direction: column; flex-basis: 100%; flex: 1; padding: 10px; }\n",
              "    </style>\n",
              "<div class=\"wandb-row\"><div class=\"wandb-col\"><h3>Run history:</h3><br/><table class=\"wandb\"><tr><td>epoch</td><td>▁▁▂▂▂▂▃▃▃▄▄▄▅▅▅▅▆▆▆▇▇▇▇██</td></tr><tr><td>validation_0-auc</td><td>▁▄▄▄▄▄▄▆▇████████████████</td></tr><tr><td>validation_0-logloss</td><td>█▇▇▆▆▅▅▄▄▄▃▃▃▃▂▂▂▂▂▂▂▁▁▁▁</td></tr></table><br/></div><div class=\"wandb-col\"><h3>Run summary:</h3><br/><table class=\"wandb\"><tr><td>epoch</td><td>24</td></tr></table><br/></div></div>"
            ]
          },
          "metadata": {}
        },
        {
          "output_type": "display_data",
          "data": {
            "text/plain": [
              "<IPython.core.display.HTML object>"
            ],
            "text/html": [
              "Synced <strong style=\"color:#cdcd00\">sweet-sweep-1</strong>: <a href=\"https://wandb.ai/tim-w/xgboost-example/runs/tfz1tdeq\" target=\"_blank\">https://wandb.ai/tim-w/xgboost-example/runs/tfz1tdeq</a><br/>Synced 5 W&B file(s), 1 media file(s), 4 artifact file(s) and 2 other file(s)"
            ]
          },
          "metadata": {}
        },
        {
          "output_type": "display_data",
          "data": {
            "text/plain": [
              "<IPython.core.display.HTML object>"
            ],
            "text/html": [
              "Find logs at: <code>./wandb/run-20220822_152442-tfz1tdeq/logs</code>"
            ]
          },
          "metadata": {}
        },
        {
          "output_type": "stream",
          "name": "stderr",
          "text": [
            "\u001b[34m\u001b[1mwandb\u001b[0m: Agent Starting Run: dakx2z9b with config:\n",
            "\u001b[34m\u001b[1mwandb\u001b[0m: \tcolsample_bytree: 0.6\n",
            "\u001b[34m\u001b[1mwandb\u001b[0m: \tlearning_rate: 0.05\n",
            "\u001b[34m\u001b[1mwandb\u001b[0m: \tmax_depth: 4\n"
          ]
        },
        {
          "output_type": "display_data",
          "data": {
            "text/plain": [
              "<IPython.core.display.HTML object>"
            ],
            "text/html": [
              "Tracking run with wandb version 0.13.1"
            ]
          },
          "metadata": {}
        },
        {
          "output_type": "display_data",
          "data": {
            "text/plain": [
              "<IPython.core.display.HTML object>"
            ],
            "text/html": [
              "Run data is saved locally in <code>/content/wandb/run-20220822_152457-dakx2z9b</code>"
            ]
          },
          "metadata": {}
        },
        {
          "output_type": "display_data",
          "data": {
            "text/plain": [
              "<IPython.core.display.HTML object>"
            ],
            "text/html": [
              "Syncing run <strong><a href=\"https://wandb.ai/tim-w/xgboost-example/runs/dakx2z9b\" target=\"_blank\">worthy-sweep-2</a></strong> to <a href=\"https://wandb.ai/tim-w/xgboost-example\" target=\"_blank\">Weights & Biases</a> (<a href=\"https://wandb.me/run\" target=\"_blank\">docs</a>)<br/>Sweep page:  <a href=\"https://wandb.ai/tim-w/xgboost-example/sweeps/9r9ngnv7\" target=\"_blank\">https://wandb.ai/tim-w/xgboost-example/sweeps/9r9ngnv7</a>"
            ]
          },
          "metadata": {}
        },
        {
          "output_type": "stream",
          "name": "stdout",
          "text": [
            "Warning: No categorical columns found. Calling 'transform' will only return input data.\n",
            "[0]\tvalidation_0-auc:0.75375\tvalidation_0-logloss:0.51813\n",
            "[1]\tvalidation_0-auc:0.77031\tvalidation_0-logloss:0.51164\n",
            "[2]\tvalidation_0-auc:0.77394\tvalidation_0-logloss:0.50363\n",
            "[3]\tvalidation_0-auc:0.77651\tvalidation_0-logloss:0.49849\n",
            "[4]\tvalidation_0-auc:0.77878\tvalidation_0-logloss:0.49187\n",
            "[5]\tvalidation_0-auc:0.77835\tvalidation_0-logloss:0.48608\n",
            "[6]\tvalidation_0-auc:0.77752\tvalidation_0-logloss:0.48247\n",
            "[7]\tvalidation_0-auc:0.77734\tvalidation_0-logloss:0.47784\n",
            "[8]\tvalidation_0-auc:0.77705\tvalidation_0-logloss:0.47356\n",
            "[9]\tvalidation_0-auc:0.77766\tvalidation_0-logloss:0.46950\n",
            "[10]\tvalidation_0-auc:0.77895\tvalidation_0-logloss:0.46746\n",
            "[11]\tvalidation_0-auc:0.78039\tvalidation_0-logloss:0.46523\n",
            "[12]\tvalidation_0-auc:0.78000\tvalidation_0-logloss:0.46309\n",
            "[13]\tvalidation_0-auc:0.78023\tvalidation_0-logloss:0.46131\n",
            "[14]\tvalidation_0-auc:0.78069\tvalidation_0-logloss:0.45838\n",
            "[15]\tvalidation_0-auc:0.78083\tvalidation_0-logloss:0.45671\n",
            "[16]\tvalidation_0-auc:0.78122\tvalidation_0-logloss:0.45515\n",
            "[17]\tvalidation_0-auc:0.78129\tvalidation_0-logloss:0.45285\n",
            "[18]\tvalidation_0-auc:0.78151\tvalidation_0-logloss:0.45143\n",
            "[19]\tvalidation_0-auc:0.78184\tvalidation_0-logloss:0.45015\n",
            "[20]\tvalidation_0-auc:0.78220\tvalidation_0-logloss:0.44803\n",
            "[21]\tvalidation_0-auc:0.78263\tvalidation_0-logloss:0.44620\n",
            "[22]\tvalidation_0-auc:0.78294\tvalidation_0-logloss:0.44509\n",
            "[23]\tvalidation_0-auc:0.78317\tvalidation_0-logloss:0.44338\n",
            "[24]\tvalidation_0-auc:0.78331\tvalidation_0-logloss:0.44181\n"
          ]
        },
        {
          "output_type": "display_data",
          "data": {
            "text/plain": [
              "<IPython.core.display.HTML object>"
            ],
            "text/html": [
              "Waiting for W&B process to finish... <strong style=\"color:green\">(success).</strong>"
            ]
          },
          "metadata": {}
        },
        {
          "output_type": "display_data",
          "data": {
            "text/plain": [
              "VBox(children=(Label(value='0.148 MB of 0.148 MB uploaded (0.000 MB deduped)\\r'), FloatProgress(value=1.0, max…"
            ],
            "application/vnd.jupyter.widget-view+json": {
              "version_major": 2,
              "version_minor": 0,
              "model_id": "c85ee669526f417e980023b92ccecda1"
            }
          },
          "metadata": {}
        },
        {
          "output_type": "display_data",
          "data": {
            "text/plain": [
              "<IPython.core.display.HTML object>"
            ],
            "text/html": [
              "<style>\n",
              "    table.wandb td:nth-child(1) { padding: 0 10px; text-align: left ; width: auto;} td:nth-child(2) {text-align: left ; width: 100%}\n",
              "    .wandb-row { display: flex; flex-direction: row; flex-wrap: wrap; justify-content: flex-start; width: 100% }\n",
              "    .wandb-col { display: flex; flex-direction: column; flex-basis: 100%; flex: 1; padding: 10px; }\n",
              "    </style>\n",
              "<div class=\"wandb-row\"><div class=\"wandb-col\"><h3>Run history:</h3><br/><table class=\"wandb\"><tr><td>epoch</td><td>▁▁▂▂▂▂▃▃▃▄▄▄▅▅▅▅▆▆▆▇▇▇▇██</td></tr><tr><td>validation_0-auc</td><td>▁▅▆▆▇▇▇▇▇▇▇▇▇▇▇▇█████████</td></tr><tr><td>validation_0-logloss</td><td>█▇▇▆▆▅▅▄▄▄▃▃▃▃▃▂▂▂▂▂▂▁▁▁▁</td></tr></table><br/></div><div class=\"wandb-col\"><h3>Run summary:</h3><br/><table class=\"wandb\"><tr><td>epoch</td><td>24</td></tr></table><br/></div></div>"
            ]
          },
          "metadata": {}
        },
        {
          "output_type": "display_data",
          "data": {
            "text/plain": [
              "<IPython.core.display.HTML object>"
            ],
            "text/html": [
              "Synced <strong style=\"color:#cdcd00\">worthy-sweep-2</strong>: <a href=\"https://wandb.ai/tim-w/xgboost-example/runs/dakx2z9b\" target=\"_blank\">https://wandb.ai/tim-w/xgboost-example/runs/dakx2z9b</a><br/>Synced 5 W&B file(s), 1 media file(s), 4 artifact file(s) and 2 other file(s)"
            ]
          },
          "metadata": {}
        },
        {
          "output_type": "display_data",
          "data": {
            "text/plain": [
              "<IPython.core.display.HTML object>"
            ],
            "text/html": [
              "Find logs at: <code>./wandb/run-20220822_152457-dakx2z9b/logs</code>"
            ]
          },
          "metadata": {}
        },
        {
          "output_type": "stream",
          "name": "stderr",
          "text": [
            "\u001b[34m\u001b[1mwandb\u001b[0m: Agent Starting Run: puslu7t0 with config:\n",
            "\u001b[34m\u001b[1mwandb\u001b[0m: \tcolsample_bytree: 0.6\n",
            "\u001b[34m\u001b[1mwandb\u001b[0m: \tlearning_rate: 0.05\n",
            "\u001b[34m\u001b[1mwandb\u001b[0m: \tmax_depth: 16\n"
          ]
        },
        {
          "output_type": "display_data",
          "data": {
            "text/plain": [
              "<IPython.core.display.HTML object>"
            ],
            "text/html": [
              "Tracking run with wandb version 0.13.1"
            ]
          },
          "metadata": {}
        },
        {
          "output_type": "display_data",
          "data": {
            "text/plain": [
              "<IPython.core.display.HTML object>"
            ],
            "text/html": [
              "Run data is saved locally in <code>/content/wandb/run-20220822_152512-puslu7t0</code>"
            ]
          },
          "metadata": {}
        },
        {
          "output_type": "display_data",
          "data": {
            "text/plain": [
              "<IPython.core.display.HTML object>"
            ],
            "text/html": [
              "Syncing run <strong><a href=\"https://wandb.ai/tim-w/xgboost-example/runs/puslu7t0\" target=\"_blank\">polar-sweep-3</a></strong> to <a href=\"https://wandb.ai/tim-w/xgboost-example\" target=\"_blank\">Weights & Biases</a> (<a href=\"https://wandb.me/run\" target=\"_blank\">docs</a>)<br/>Sweep page:  <a href=\"https://wandb.ai/tim-w/xgboost-example/sweeps/9r9ngnv7\" target=\"_blank\">https://wandb.ai/tim-w/xgboost-example/sweeps/9r9ngnv7</a>"
            ]
          },
          "metadata": {}
        },
        {
          "output_type": "stream",
          "name": "stdout",
          "text": [
            "Warning: No categorical columns found. Calling 'transform' will only return input data.\n",
            "[0]\tvalidation_0-auc:0.76929\tvalidation_0-logloss:0.51783\n",
            "[1]\tvalidation_0-auc:0.78093\tvalidation_0-logloss:0.51090\n",
            "[2]\tvalidation_0-auc:0.78487\tvalidation_0-logloss:0.50263\n",
            "[3]\tvalidation_0-auc:0.78410\tvalidation_0-logloss:0.49731\n",
            "[4]\tvalidation_0-auc:0.78571\tvalidation_0-logloss:0.49048\n",
            "[5]\tvalidation_0-auc:0.78488\tvalidation_0-logloss:0.48451\n",
            "[6]\tvalidation_0-auc:0.78461\tvalidation_0-logloss:0.48073\n",
            "[7]\tvalidation_0-auc:0.78504\tvalidation_0-logloss:0.47592\n",
            "[8]\tvalidation_0-auc:0.78508\tvalidation_0-logloss:0.47152\n",
            "[9]\tvalidation_0-auc:0.78560\tvalidation_0-logloss:0.46736\n",
            "[10]\tvalidation_0-auc:0.78691\tvalidation_0-logloss:0.46504\n",
            "[11]\tvalidation_0-auc:0.78647\tvalidation_0-logloss:0.46281\n",
            "[12]\tvalidation_0-auc:0.78582\tvalidation_0-logloss:0.46059\n",
            "[13]\tvalidation_0-auc:0.78550\tvalidation_0-logloss:0.45864\n",
            "[14]\tvalidation_0-auc:0.78600\tvalidation_0-logloss:0.45568\n",
            "[15]\tvalidation_0-auc:0.78584\tvalidation_0-logloss:0.45404\n",
            "[16]\tvalidation_0-auc:0.78551\tvalidation_0-logloss:0.45252\n",
            "[17]\tvalidation_0-auc:0.78605\tvalidation_0-logloss:0.45014\n",
            "[18]\tvalidation_0-auc:0.78603\tvalidation_0-logloss:0.44867\n",
            "[19]\tvalidation_0-auc:0.78619\tvalidation_0-logloss:0.44734\n",
            "[20]\tvalidation_0-auc:0.78666\tvalidation_0-logloss:0.44523\n",
            "[21]\tvalidation_0-auc:0.78642\tvalidation_0-logloss:0.44341\n",
            "[22]\tvalidation_0-auc:0.78640\tvalidation_0-logloss:0.44243\n",
            "[23]\tvalidation_0-auc:0.78690\tvalidation_0-logloss:0.44063\n",
            "[24]\tvalidation_0-auc:0.78716\tvalidation_0-logloss:0.43907\n"
          ]
        },
        {
          "output_type": "display_data",
          "data": {
            "text/plain": [
              "<IPython.core.display.HTML object>"
            ],
            "text/html": [
              "Waiting for W&B process to finish... <strong style=\"color:green\">(success).</strong>"
            ]
          },
          "metadata": {}
        },
        {
          "output_type": "display_data",
          "data": {
            "text/plain": [
              "VBox(children=(Label(value='0.209 MB of 0.209 MB uploaded (0.000 MB deduped)\\r'), FloatProgress(value=1.0, max…"
            ],
            "application/vnd.jupyter.widget-view+json": {
              "version_major": 2,
              "version_minor": 0,
              "model_id": "b04adea949ce43889372f80b01ab8b9c"
            }
          },
          "metadata": {}
        },
        {
          "output_type": "display_data",
          "data": {
            "text/plain": [
              "<IPython.core.display.HTML object>"
            ],
            "text/html": [
              "<style>\n",
              "    table.wandb td:nth-child(1) { padding: 0 10px; text-align: left ; width: auto;} td:nth-child(2) {text-align: left ; width: 100%}\n",
              "    .wandb-row { display: flex; flex-direction: row; flex-wrap: wrap; justify-content: flex-start; width: 100% }\n",
              "    .wandb-col { display: flex; flex-direction: column; flex-basis: 100%; flex: 1; padding: 10px; }\n",
              "    </style>\n",
              "<div class=\"wandb-row\"><div class=\"wandb-col\"><h3>Run history:</h3><br/><table class=\"wandb\"><tr><td>epoch</td><td>▁▁▂▂▂▂▃▃▃▄▄▄▅▅▅▅▆▆▆▇▇▇▇██</td></tr><tr><td>validation_0-auc</td><td>▁▆▇▇▇▇▇▇▇▇██▇▇█▇▇████████</td></tr><tr><td>validation_0-logloss</td><td>█▇▇▆▆▅▅▄▄▄▃▃▃▃▂▂▂▂▂▂▂▁▁▁▁</td></tr></table><br/></div><div class=\"wandb-col\"><h3>Run summary:</h3><br/><table class=\"wandb\"><tr><td>epoch</td><td>24</td></tr></table><br/></div></div>"
            ]
          },
          "metadata": {}
        },
        {
          "output_type": "display_data",
          "data": {
            "text/plain": [
              "<IPython.core.display.HTML object>"
            ],
            "text/html": [
              "Synced <strong style=\"color:#cdcd00\">polar-sweep-3</strong>: <a href=\"https://wandb.ai/tim-w/xgboost-example/runs/puslu7t0\" target=\"_blank\">https://wandb.ai/tim-w/xgboost-example/runs/puslu7t0</a><br/>Synced 5 W&B file(s), 1 media file(s), 4 artifact file(s) and 2 other file(s)"
            ]
          },
          "metadata": {}
        },
        {
          "output_type": "display_data",
          "data": {
            "text/plain": [
              "<IPython.core.display.HTML object>"
            ],
            "text/html": [
              "Find logs at: <code>./wandb/run-20220822_152512-puslu7t0/logs</code>"
            ]
          },
          "metadata": {}
        },
        {
          "output_type": "stream",
          "name": "stderr",
          "text": [
            "\u001b[34m\u001b[1mwandb\u001b[0m: Agent Starting Run: cruqdlz2 with config:\n",
            "\u001b[34m\u001b[1mwandb\u001b[0m: \tcolsample_bytree: 0.6\n",
            "\u001b[34m\u001b[1mwandb\u001b[0m: \tlearning_rate: 0.025\n",
            "\u001b[34m\u001b[1mwandb\u001b[0m: \tmax_depth: 2\n"
          ]
        },
        {
          "output_type": "display_data",
          "data": {
            "text/plain": [
              "<IPython.core.display.HTML object>"
            ],
            "text/html": [
              "Tracking run with wandb version 0.13.1"
            ]
          },
          "metadata": {}
        },
        {
          "output_type": "display_data",
          "data": {
            "text/plain": [
              "<IPython.core.display.HTML object>"
            ],
            "text/html": [
              "Run data is saved locally in <code>/content/wandb/run-20220822_152528-cruqdlz2</code>"
            ]
          },
          "metadata": {}
        },
        {
          "output_type": "display_data",
          "data": {
            "text/plain": [
              "<IPython.core.display.HTML object>"
            ],
            "text/html": [
              "Syncing run <strong><a href=\"https://wandb.ai/tim-w/xgboost-example/runs/cruqdlz2\" target=\"_blank\">pretty-sweep-4</a></strong> to <a href=\"https://wandb.ai/tim-w/xgboost-example\" target=\"_blank\">Weights & Biases</a> (<a href=\"https://wandb.me/run\" target=\"_blank\">docs</a>)<br/>Sweep page:  <a href=\"https://wandb.ai/tim-w/xgboost-example/sweeps/9r9ngnv7\" target=\"_blank\">https://wandb.ai/tim-w/xgboost-example/sweeps/9r9ngnv7</a>"
            ]
          },
          "metadata": {}
        },
        {
          "output_type": "stream",
          "name": "stdout",
          "text": [
            "Warning: No categorical columns found. Calling 'transform' will only return input data.\n",
            "[0]\tvalidation_0-auc:0.71354\tvalidation_0-logloss:0.52363\n",
            "[1]\tvalidation_0-auc:0.74026\tvalidation_0-logloss:0.52039\n",
            "[2]\tvalidation_0-auc:0.74223\tvalidation_0-logloss:0.51613\n",
            "[3]\tvalidation_0-auc:0.74128\tvalidation_0-logloss:0.51334\n",
            "[4]\tvalidation_0-auc:0.74326\tvalidation_0-logloss:0.50955\n",
            "[5]\tvalidation_0-auc:0.74383\tvalidation_0-logloss:0.50607\n",
            "[6]\tvalidation_0-auc:0.74326\tvalidation_0-logloss:0.50374\n",
            "[7]\tvalidation_0-auc:0.74383\tvalidation_0-logloss:0.50060\n",
            "[8]\tvalidation_0-auc:0.74340\tvalidation_0-logloss:0.49766\n",
            "[9]\tvalidation_0-auc:0.74352\tvalidation_0-logloss:0.49483\n",
            "[10]\tvalidation_0-auc:0.76944\tvalidation_0-logloss:0.49322\n",
            "[11]\tvalidation_0-auc:0.77050\tvalidation_0-logloss:0.49155\n",
            "[12]\tvalidation_0-auc:0.77121\tvalidation_0-logloss:0.48984\n",
            "[13]\tvalidation_0-auc:0.76939\tvalidation_0-logloss:0.48823\n",
            "[14]\tvalidation_0-auc:0.77001\tvalidation_0-logloss:0.48587\n",
            "[15]\tvalidation_0-auc:0.76923\tvalidation_0-logloss:0.48442\n",
            "[16]\tvalidation_0-auc:0.76953\tvalidation_0-logloss:0.48310\n",
            "[17]\tvalidation_0-auc:0.77011\tvalidation_0-logloss:0.48099\n",
            "[18]\tvalidation_0-auc:0.77059\tvalidation_0-logloss:0.47967\n",
            "[19]\tvalidation_0-auc:0.77064\tvalidation_0-logloss:0.47834\n",
            "[20]\tvalidation_0-auc:0.77102\tvalidation_0-logloss:0.47645\n",
            "[21]\tvalidation_0-auc:0.77157\tvalidation_0-logloss:0.47464\n",
            "[22]\tvalidation_0-auc:0.77094\tvalidation_0-logloss:0.47354\n",
            "[23]\tvalidation_0-auc:0.77210\tvalidation_0-logloss:0.47190\n",
            "[24]\tvalidation_0-auc:0.77220\tvalidation_0-logloss:0.47032\n"
          ]
        },
        {
          "output_type": "display_data",
          "data": {
            "text/plain": [
              "<IPython.core.display.HTML object>"
            ],
            "text/html": [
              "Waiting for W&B process to finish... <strong style=\"color:green\">(success).</strong>"
            ]
          },
          "metadata": {}
        },
        {
          "output_type": "display_data",
          "data": {
            "text/plain": [
              "VBox(children=(Label(value='0.153 MB of 0.153 MB uploaded (0.000 MB deduped)\\r'), FloatProgress(value=1.0, max…"
            ],
            "application/vnd.jupyter.widget-view+json": {
              "version_major": 2,
              "version_minor": 0,
              "model_id": "d4b61c9eb0c44c6aba334f08168d9c13"
            }
          },
          "metadata": {}
        },
        {
          "output_type": "display_data",
          "data": {
            "text/plain": [
              "<IPython.core.display.HTML object>"
            ],
            "text/html": [
              "<style>\n",
              "    table.wandb td:nth-child(1) { padding: 0 10px; text-align: left ; width: auto;} td:nth-child(2) {text-align: left ; width: 100%}\n",
              "    .wandb-row { display: flex; flex-direction: row; flex-wrap: wrap; justify-content: flex-start; width: 100% }\n",
              "    .wandb-col { display: flex; flex-direction: column; flex-basis: 100%; flex: 1; padding: 10px; }\n",
              "    </style>\n",
              "<div class=\"wandb-row\"><div class=\"wandb-col\"><h3>Run history:</h3><br/><table class=\"wandb\"><tr><td>epoch</td><td>▁▁▂▂▂▂▃▃▃▄▄▄▅▅▅▅▆▆▆▇▇▇▇██</td></tr><tr><td>validation_0-auc</td><td>▁▄▄▄▅▅▅▅▅▅███████████████</td></tr><tr><td>validation_0-logloss</td><td>██▇▇▆▆▅▅▅▄▄▄▄▃▃▃▃▂▂▂▂▂▁▁▁</td></tr></table><br/></div><div class=\"wandb-col\"><h3>Run summary:</h3><br/><table class=\"wandb\"><tr><td>epoch</td><td>24</td></tr></table><br/></div></div>"
            ]
          },
          "metadata": {}
        },
        {
          "output_type": "display_data",
          "data": {
            "text/plain": [
              "<IPython.core.display.HTML object>"
            ],
            "text/html": [
              "Synced <strong style=\"color:#cdcd00\">pretty-sweep-4</strong>: <a href=\"https://wandb.ai/tim-w/xgboost-example/runs/cruqdlz2\" target=\"_blank\">https://wandb.ai/tim-w/xgboost-example/runs/cruqdlz2</a><br/>Synced 5 W&B file(s), 1 media file(s), 4 artifact file(s) and 2 other file(s)"
            ]
          },
          "metadata": {}
        },
        {
          "output_type": "display_data",
          "data": {
            "text/plain": [
              "<IPython.core.display.HTML object>"
            ],
            "text/html": [
              "Find logs at: <code>./wandb/run-20220822_152528-cruqdlz2/logs</code>"
            ]
          },
          "metadata": {}
        },
        {
          "output_type": "stream",
          "name": "stderr",
          "text": [
            "\u001b[34m\u001b[1mwandb\u001b[0m: Agent Starting Run: bet956pr with config:\n",
            "\u001b[34m\u001b[1mwandb\u001b[0m: \tcolsample_bytree: 0.6\n",
            "\u001b[34m\u001b[1mwandb\u001b[0m: \tlearning_rate: 0.025\n",
            "\u001b[34m\u001b[1mwandb\u001b[0m: \tmax_depth: 4\n"
          ]
        },
        {
          "output_type": "display_data",
          "data": {
            "text/plain": [
              "<IPython.core.display.HTML object>"
            ],
            "text/html": [
              "Tracking run with wandb version 0.13.1"
            ]
          },
          "metadata": {}
        },
        {
          "output_type": "display_data",
          "data": {
            "text/plain": [
              "<IPython.core.display.HTML object>"
            ],
            "text/html": [
              "Run data is saved locally in <code>/content/wandb/run-20220822_152543-bet956pr</code>"
            ]
          },
          "metadata": {}
        },
        {
          "output_type": "display_data",
          "data": {
            "text/plain": [
              "<IPython.core.display.HTML object>"
            ],
            "text/html": [
              "Syncing run <strong><a href=\"https://wandb.ai/tim-w/xgboost-example/runs/bet956pr\" target=\"_blank\">brisk-sweep-5</a></strong> to <a href=\"https://wandb.ai/tim-w/xgboost-example\" target=\"_blank\">Weights & Biases</a> (<a href=\"https://wandb.me/run\" target=\"_blank\">docs</a>)<br/>Sweep page:  <a href=\"https://wandb.ai/tim-w/xgboost-example/sweeps/9r9ngnv7\" target=\"_blank\">https://wandb.ai/tim-w/xgboost-example/sweeps/9r9ngnv7</a>"
            ]
          },
          "metadata": {}
        },
        {
          "output_type": "stream",
          "name": "stdout",
          "text": [
            "Warning: No categorical columns found. Calling 'transform' will only return input data.\n",
            "[0]\tvalidation_0-auc:0.75375\tvalidation_0-logloss:0.52315\n",
            "[1]\tvalidation_0-auc:0.77021\tvalidation_0-logloss:0.51965\n",
            "[2]\tvalidation_0-auc:0.77389\tvalidation_0-logloss:0.51511\n",
            "[3]\tvalidation_0-auc:0.77630\tvalidation_0-logloss:0.51199\n",
            "[4]\tvalidation_0-auc:0.77849\tvalidation_0-logloss:0.50788\n",
            "[5]\tvalidation_0-auc:0.77804\tvalidation_0-logloss:0.50406\n",
            "[6]\tvalidation_0-auc:0.77700\tvalidation_0-logloss:0.50152\n",
            "[7]\tvalidation_0-auc:0.77716\tvalidation_0-logloss:0.49818\n",
            "[8]\tvalidation_0-auc:0.77715\tvalidation_0-logloss:0.49494\n",
            "[9]\tvalidation_0-auc:0.77797\tvalidation_0-logloss:0.49180\n",
            "[10]\tvalidation_0-auc:0.77976\tvalidation_0-logloss:0.49016\n",
            "[11]\tvalidation_0-auc:0.77947\tvalidation_0-logloss:0.48835\n",
            "[12]\tvalidation_0-auc:0.77897\tvalidation_0-logloss:0.48644\n",
            "[13]\tvalidation_0-auc:0.77922\tvalidation_0-logloss:0.48477\n",
            "[14]\tvalidation_0-auc:0.77941\tvalidation_0-logloss:0.48220\n",
            "[15]\tvalidation_0-auc:0.77967\tvalidation_0-logloss:0.48056\n",
            "[16]\tvalidation_0-auc:0.77997\tvalidation_0-logloss:0.47906\n",
            "[17]\tvalidation_0-auc:0.78031\tvalidation_0-logloss:0.47680\n",
            "[18]\tvalidation_0-auc:0.78035\tvalidation_0-logloss:0.47531\n",
            "[19]\tvalidation_0-auc:0.78037\tvalidation_0-logloss:0.47392\n",
            "[20]\tvalidation_0-auc:0.78090\tvalidation_0-logloss:0.47185\n",
            "[21]\tvalidation_0-auc:0.78087\tvalidation_0-logloss:0.46988\n",
            "[22]\tvalidation_0-auc:0.78056\tvalidation_0-logloss:0.46867\n",
            "[23]\tvalidation_0-auc:0.78068\tvalidation_0-logloss:0.46686\n",
            "[24]\tvalidation_0-auc:0.78089\tvalidation_0-logloss:0.46512\n"
          ]
        },
        {
          "output_type": "display_data",
          "data": {
            "text/plain": [
              "<IPython.core.display.HTML object>"
            ],
            "text/html": [
              "Waiting for W&B process to finish... <strong style=\"color:green\">(success).</strong>"
            ]
          },
          "metadata": {}
        },
        {
          "output_type": "display_data",
          "data": {
            "text/plain": [
              "VBox(children=(Label(value='0.183 MB of 0.183 MB uploaded (0.000 MB deduped)\\r'), FloatProgress(value=1.0, max…"
            ],
            "application/vnd.jupyter.widget-view+json": {
              "version_major": 2,
              "version_minor": 0,
              "model_id": "d85c1c5b777b4f6694ed8338ea8700da"
            }
          },
          "metadata": {}
        },
        {
          "output_type": "display_data",
          "data": {
            "text/plain": [
              "<IPython.core.display.HTML object>"
            ],
            "text/html": [
              "<style>\n",
              "    table.wandb td:nth-child(1) { padding: 0 10px; text-align: left ; width: auto;} td:nth-child(2) {text-align: left ; width: 100%}\n",
              "    .wandb-row { display: flex; flex-direction: row; flex-wrap: wrap; justify-content: flex-start; width: 100% }\n",
              "    .wandb-col { display: flex; flex-direction: column; flex-basis: 100%; flex: 1; padding: 10px; }\n",
              "    </style>\n",
              "<div class=\"wandb-row\"><div class=\"wandb-col\"><h3>Run history:</h3><br/><table class=\"wandb\"><tr><td>epoch</td><td>▁▁▂▂▂▂▃▃▃▄▄▄▅▅▅▅▆▆▆▇▇▇▇██</td></tr><tr><td>validation_0-auc</td><td>▁▅▆▇▇▇▇▇▇▇███████████████</td></tr><tr><td>validation_0-logloss</td><td>██▇▇▆▆▅▅▅▄▄▄▄▃▃▃▃▂▂▂▂▂▁▁▁</td></tr></table><br/></div><div class=\"wandb-col\"><h3>Run summary:</h3><br/><table class=\"wandb\"><tr><td>epoch</td><td>24</td></tr></table><br/></div></div>"
            ]
          },
          "metadata": {}
        },
        {
          "output_type": "display_data",
          "data": {
            "text/plain": [
              "<IPython.core.display.HTML object>"
            ],
            "text/html": [
              "Synced <strong style=\"color:#cdcd00\">brisk-sweep-5</strong>: <a href=\"https://wandb.ai/tim-w/xgboost-example/runs/bet956pr\" target=\"_blank\">https://wandb.ai/tim-w/xgboost-example/runs/bet956pr</a><br/>Synced 5 W&B file(s), 1 media file(s), 4 artifact file(s) and 2 other file(s)"
            ]
          },
          "metadata": {}
        },
        {
          "output_type": "display_data",
          "data": {
            "text/plain": [
              "<IPython.core.display.HTML object>"
            ],
            "text/html": [
              "Find logs at: <code>./wandb/run-20220822_152543-bet956pr/logs</code>"
            ]
          },
          "metadata": {}
        },
        {
          "output_type": "stream",
          "name": "stderr",
          "text": [
            "\u001b[34m\u001b[1mwandb\u001b[0m: Agent Starting Run: 8ogn93ve with config:\n",
            "\u001b[34m\u001b[1mwandb\u001b[0m: \tcolsample_bytree: 0.6\n",
            "\u001b[34m\u001b[1mwandb\u001b[0m: \tlearning_rate: 0.025\n",
            "\u001b[34m\u001b[1mwandb\u001b[0m: \tmax_depth: 16\n"
          ]
        },
        {
          "output_type": "display_data",
          "data": {
            "text/plain": [
              "<IPython.core.display.HTML object>"
            ],
            "text/html": [
              "Tracking run with wandb version 0.13.1"
            ]
          },
          "metadata": {}
        },
        {
          "output_type": "display_data",
          "data": {
            "text/plain": [
              "<IPython.core.display.HTML object>"
            ],
            "text/html": [
              "Run data is saved locally in <code>/content/wandb/run-20220822_152619-8ogn93ve</code>"
            ]
          },
          "metadata": {}
        },
        {
          "output_type": "display_data",
          "data": {
            "text/plain": [
              "<IPython.core.display.HTML object>"
            ],
            "text/html": [
              "Syncing run <strong><a href=\"https://wandb.ai/tim-w/xgboost-example/runs/8ogn93ve\" target=\"_blank\">lemon-sweep-6</a></strong> to <a href=\"https://wandb.ai/tim-w/xgboost-example\" target=\"_blank\">Weights & Biases</a> (<a href=\"https://wandb.me/run\" target=\"_blank\">docs</a>)<br/>Sweep page:  <a href=\"https://wandb.ai/tim-w/xgboost-example/sweeps/9r9ngnv7\" target=\"_blank\">https://wandb.ai/tim-w/xgboost-example/sweeps/9r9ngnv7</a>"
            ]
          },
          "metadata": {}
        },
        {
          "output_type": "stream",
          "name": "stdout",
          "text": [
            "Warning: No categorical columns found. Calling 'transform' will only return input data.\n",
            "[0]\tvalidation_0-auc:0.76929\tvalidation_0-logloss:0.52300\n",
            "[1]\tvalidation_0-auc:0.77895\tvalidation_0-logloss:0.51930\n",
            "[2]\tvalidation_0-auc:0.78358\tvalidation_0-logloss:0.51461\n",
            "[3]\tvalidation_0-auc:0.78316\tvalidation_0-logloss:0.51137\n",
            "[4]\tvalidation_0-auc:0.78397\tvalidation_0-logloss:0.50716\n",
            "[5]\tvalidation_0-auc:0.78329\tvalidation_0-logloss:0.50323\n",
            "[6]\tvalidation_0-auc:0.78319\tvalidation_0-logloss:0.50057\n",
            "[7]\tvalidation_0-auc:0.78407\tvalidation_0-logloss:0.49708\n",
            "[8]\tvalidation_0-auc:0.78427\tvalidation_0-logloss:0.49376\n",
            "[9]\tvalidation_0-auc:0.78485\tvalidation_0-logloss:0.49053\n",
            "[10]\tvalidation_0-auc:0.78652\tvalidation_0-logloss:0.48876\n",
            "[11]\tvalidation_0-auc:0.78604\tvalidation_0-logloss:0.48688\n",
            "[12]\tvalidation_0-auc:0.78557\tvalidation_0-logloss:0.48484\n",
            "[13]\tvalidation_0-auc:0.78509\tvalidation_0-logloss:0.48306\n",
            "[14]\tvalidation_0-auc:0.78519\tvalidation_0-logloss:0.48042\n",
            "[15]\tvalidation_0-auc:0.78515\tvalidation_0-logloss:0.47876\n",
            "[16]\tvalidation_0-auc:0.78485\tvalidation_0-logloss:0.47722\n",
            "[17]\tvalidation_0-auc:0.78550\tvalidation_0-logloss:0.47487\n",
            "[18]\tvalidation_0-auc:0.78535\tvalidation_0-logloss:0.47332\n",
            "[19]\tvalidation_0-auc:0.78505\tvalidation_0-logloss:0.47186\n",
            "[20]\tvalidation_0-auc:0.78506\tvalidation_0-logloss:0.46972\n",
            "[21]\tvalidation_0-auc:0.78572\tvalidation_0-logloss:0.46765\n",
            "[22]\tvalidation_0-auc:0.78567\tvalidation_0-logloss:0.46638\n",
            "[23]\tvalidation_0-auc:0.78575\tvalidation_0-logloss:0.46452\n",
            "[24]\tvalidation_0-auc:0.78599\tvalidation_0-logloss:0.46275\n"
          ]
        },
        {
          "output_type": "display_data",
          "data": {
            "text/plain": [
              "<IPython.core.display.HTML object>"
            ],
            "text/html": [
              "Waiting for W&B process to finish... <strong style=\"color:green\">(success).</strong>"
            ]
          },
          "metadata": {}
        },
        {
          "output_type": "display_data",
          "data": {
            "text/plain": [
              "VBox(children=(Label(value='0.247 MB of 0.247 MB uploaded (0.000 MB deduped)\\r'), FloatProgress(value=1.0, max…"
            ],
            "application/vnd.jupyter.widget-view+json": {
              "version_major": 2,
              "version_minor": 0,
              "model_id": "af0b12b8544040f0bddd7c5e998a665b"
            }
          },
          "metadata": {}
        },
        {
          "output_type": "display_data",
          "data": {
            "text/plain": [
              "<IPython.core.display.HTML object>"
            ],
            "text/html": [
              "<style>\n",
              "    table.wandb td:nth-child(1) { padding: 0 10px; text-align: left ; width: auto;} td:nth-child(2) {text-align: left ; width: 100%}\n",
              "    .wandb-row { display: flex; flex-direction: row; flex-wrap: wrap; justify-content: flex-start; width: 100% }\n",
              "    .wandb-col { display: flex; flex-direction: column; flex-basis: 100%; flex: 1; padding: 10px; }\n",
              "    </style>\n",
              "<div class=\"wandb-row\"><div class=\"wandb-col\"><h3>Run history:</h3><br/><table class=\"wandb\"><tr><td>epoch</td><td>▁▁▂▂▂▂▃▃▃▄▄▄▅▅▅▅▆▆▆▇▇▇▇██</td></tr><tr><td>validation_0-auc</td><td>▁▅▇▇▇▇▇▇▇▇███▇▇▇▇██▇▇████</td></tr><tr><td>validation_0-logloss</td><td>██▇▇▆▆▅▅▅▄▄▄▄▃▃▃▃▂▂▂▂▂▁▁▁</td></tr></table><br/></div><div class=\"wandb-col\"><h3>Run summary:</h3><br/><table class=\"wandb\"><tr><td>epoch</td><td>24</td></tr></table><br/></div></div>"
            ]
          },
          "metadata": {}
        },
        {
          "output_type": "display_data",
          "data": {
            "text/plain": [
              "<IPython.core.display.HTML object>"
            ],
            "text/html": [
              "Synced <strong style=\"color:#cdcd00\">lemon-sweep-6</strong>: <a href=\"https://wandb.ai/tim-w/xgboost-example/runs/8ogn93ve\" target=\"_blank\">https://wandb.ai/tim-w/xgboost-example/runs/8ogn93ve</a><br/>Synced 5 W&B file(s), 1 media file(s), 4 artifact file(s) and 2 other file(s)"
            ]
          },
          "metadata": {}
        },
        {
          "output_type": "display_data",
          "data": {
            "text/plain": [
              "<IPython.core.display.HTML object>"
            ],
            "text/html": [
              "Find logs at: <code>./wandb/run-20220822_152619-8ogn93ve/logs</code>"
            ]
          },
          "metadata": {}
        },
        {
          "output_type": "stream",
          "name": "stderr",
          "text": [
            "\u001b[34m\u001b[1mwandb\u001b[0m: Agent Starting Run: yvavid7x with config:\n",
            "\u001b[34m\u001b[1mwandb\u001b[0m: \tcolsample_bytree: 0.6\n",
            "\u001b[34m\u001b[1mwandb\u001b[0m: \tlearning_rate: 0.01\n",
            "\u001b[34m\u001b[1mwandb\u001b[0m: \tmax_depth: 2\n"
          ]
        },
        {
          "output_type": "display_data",
          "data": {
            "text/plain": [
              "<IPython.core.display.HTML object>"
            ],
            "text/html": [
              "Tracking run with wandb version 0.13.1"
            ]
          },
          "metadata": {}
        },
        {
          "output_type": "display_data",
          "data": {
            "text/plain": [
              "<IPython.core.display.HTML object>"
            ],
            "text/html": [
              "Run data is saved locally in <code>/content/wandb/run-20220822_152634-yvavid7x</code>"
            ]
          },
          "metadata": {}
        },
        {
          "output_type": "display_data",
          "data": {
            "text/plain": [
              "<IPython.core.display.HTML object>"
            ],
            "text/html": [
              "Syncing run <strong><a href=\"https://wandb.ai/tim-w/xgboost-example/runs/yvavid7x\" target=\"_blank\">quiet-sweep-7</a></strong> to <a href=\"https://wandb.ai/tim-w/xgboost-example\" target=\"_blank\">Weights & Biases</a> (<a href=\"https://wandb.me/run\" target=\"_blank\">docs</a>)<br/>Sweep page:  <a href=\"https://wandb.ai/tim-w/xgboost-example/sweeps/9r9ngnv7\" target=\"_blank\">https://wandb.ai/tim-w/xgboost-example/sweeps/9r9ngnv7</a>"
            ]
          },
          "metadata": {}
        },
        {
          "output_type": "stream",
          "name": "stdout",
          "text": [
            "Warning: No categorical columns found. Calling 'transform' will only return input data.\n",
            "[0]\tvalidation_0-auc:0.71354\tvalidation_0-logloss:0.52643\n",
            "[1]\tvalidation_0-auc:0.74019\tvalidation_0-logloss:0.52507\n",
            "[2]\tvalidation_0-auc:0.74223\tvalidation_0-logloss:0.52323\n",
            "[3]\tvalidation_0-auc:0.74128\tvalidation_0-logloss:0.52197\n",
            "[4]\tvalidation_0-auc:0.74326\tvalidation_0-logloss:0.52021\n",
            "[5]\tvalidation_0-auc:0.74382\tvalidation_0-logloss:0.51854\n",
            "[6]\tvalidation_0-auc:0.74326\tvalidation_0-logloss:0.51737\n",
            "[7]\tvalidation_0-auc:0.74381\tvalidation_0-logloss:0.51578\n",
            "[8]\tvalidation_0-auc:0.74341\tvalidation_0-logloss:0.51423\n",
            "[9]\tvalidation_0-auc:0.74342\tvalidation_0-logloss:0.51268\n",
            "[10]\tvalidation_0-auc:0.76950\tvalidation_0-logloss:0.51185\n",
            "[11]\tvalidation_0-auc:0.77054\tvalidation_0-logloss:0.51094\n",
            "[12]\tvalidation_0-auc:0.77014\tvalidation_0-logloss:0.50991\n",
            "[13]\tvalidation_0-auc:0.77051\tvalidation_0-logloss:0.50894\n",
            "[14]\tvalidation_0-auc:0.77100\tvalidation_0-logloss:0.50754\n",
            "[15]\tvalidation_0-auc:0.76892\tvalidation_0-logloss:0.50661\n",
            "[16]\tvalidation_0-auc:0.76856\tvalidation_0-logloss:0.50581\n",
            "[17]\tvalidation_0-auc:0.76925\tvalidation_0-logloss:0.50448\n",
            "[18]\tvalidation_0-auc:0.76843\tvalidation_0-logloss:0.50358\n",
            "[19]\tvalidation_0-auc:0.76836\tvalidation_0-logloss:0.50267\n",
            "[20]\tvalidation_0-auc:0.76877\tvalidation_0-logloss:0.50141\n",
            "[21]\tvalidation_0-auc:0.76934\tvalidation_0-logloss:0.50016\n",
            "[22]\tvalidation_0-auc:0.76880\tvalidation_0-logloss:0.49933\n",
            "[23]\tvalidation_0-auc:0.76925\tvalidation_0-logloss:0.49813\n",
            "[24]\tvalidation_0-auc:0.76964\tvalidation_0-logloss:0.49696\n"
          ]
        },
        {
          "output_type": "display_data",
          "data": {
            "text/plain": [
              "<IPython.core.display.HTML object>"
            ],
            "text/html": [
              "Waiting for W&B process to finish... <strong style=\"color:green\">(success).</strong>"
            ]
          },
          "metadata": {}
        },
        {
          "output_type": "display_data",
          "data": {
            "text/plain": [
              "VBox(children=(Label(value='0.188 MB of 0.188 MB uploaded (0.000 MB deduped)\\r'), FloatProgress(value=1.0, max…"
            ],
            "application/vnd.jupyter.widget-view+json": {
              "version_major": 2,
              "version_minor": 0,
              "model_id": "2c923859e4a342c68f960120677598e7"
            }
          },
          "metadata": {}
        },
        {
          "output_type": "display_data",
          "data": {
            "text/plain": [
              "<IPython.core.display.HTML object>"
            ],
            "text/html": [
              "<style>\n",
              "    table.wandb td:nth-child(1) { padding: 0 10px; text-align: left ; width: auto;} td:nth-child(2) {text-align: left ; width: 100%}\n",
              "    .wandb-row { display: flex; flex-direction: row; flex-wrap: wrap; justify-content: flex-start; width: 100% }\n",
              "    .wandb-col { display: flex; flex-direction: column; flex-basis: 100%; flex: 1; padding: 10px; }\n",
              "    </style>\n",
              "<div class=\"wandb-row\"><div class=\"wandb-col\"><h3>Run history:</h3><br/><table class=\"wandb\"><tr><td>epoch</td><td>▁▁▂▂▂▂▃▃▃▄▄▄▅▅▅▅▆▆▆▇▇▇▇██</td></tr><tr><td>validation_0-auc</td><td>▁▄▄▄▅▅▅▅▅▅███████████████</td></tr><tr><td>validation_0-logloss</td><td>██▇▇▇▆▆▅▅▅▅▄▄▄▄▃▃▃▃▂▂▂▂▁▁</td></tr></table><br/></div><div class=\"wandb-col\"><h3>Run summary:</h3><br/><table class=\"wandb\"><tr><td>epoch</td><td>24</td></tr></table><br/></div></div>"
            ]
          },
          "metadata": {}
        },
        {
          "output_type": "display_data",
          "data": {
            "text/plain": [
              "<IPython.core.display.HTML object>"
            ],
            "text/html": [
              "Synced <strong style=\"color:#cdcd00\">quiet-sweep-7</strong>: <a href=\"https://wandb.ai/tim-w/xgboost-example/runs/yvavid7x\" target=\"_blank\">https://wandb.ai/tim-w/xgboost-example/runs/yvavid7x</a><br/>Synced 5 W&B file(s), 1 media file(s), 4 artifact file(s) and 2 other file(s)"
            ]
          },
          "metadata": {}
        },
        {
          "output_type": "display_data",
          "data": {
            "text/plain": [
              "<IPython.core.display.HTML object>"
            ],
            "text/html": [
              "Find logs at: <code>./wandb/run-20220822_152634-yvavid7x/logs</code>"
            ]
          },
          "metadata": {}
        },
        {
          "output_type": "stream",
          "name": "stderr",
          "text": [
            "\u001b[34m\u001b[1mwandb\u001b[0m: Agent Starting Run: 8korqsec with config:\n",
            "\u001b[34m\u001b[1mwandb\u001b[0m: \tcolsample_bytree: 0.6\n",
            "\u001b[34m\u001b[1mwandb\u001b[0m: \tlearning_rate: 0.01\n",
            "\u001b[34m\u001b[1mwandb\u001b[0m: \tmax_depth: 4\n"
          ]
        },
        {
          "output_type": "display_data",
          "data": {
            "text/plain": [
              "<IPython.core.display.HTML object>"
            ],
            "text/html": [
              "Tracking run with wandb version 0.13.1"
            ]
          },
          "metadata": {}
        },
        {
          "output_type": "display_data",
          "data": {
            "text/plain": [
              "<IPython.core.display.HTML object>"
            ],
            "text/html": [
              "Run data is saved locally in <code>/content/wandb/run-20220822_152649-8korqsec</code>"
            ]
          },
          "metadata": {}
        },
        {
          "output_type": "display_data",
          "data": {
            "text/plain": [
              "<IPython.core.display.HTML object>"
            ],
            "text/html": [
              "Syncing run <strong><a href=\"https://wandb.ai/tim-w/xgboost-example/runs/8korqsec\" target=\"_blank\">confused-sweep-8</a></strong> to <a href=\"https://wandb.ai/tim-w/xgboost-example\" target=\"_blank\">Weights & Biases</a> (<a href=\"https://wandb.me/run\" target=\"_blank\">docs</a>)<br/>Sweep page:  <a href=\"https://wandb.ai/tim-w/xgboost-example/sweeps/9r9ngnv7\" target=\"_blank\">https://wandb.ai/tim-w/xgboost-example/sweeps/9r9ngnv7</a>"
            ]
          },
          "metadata": {}
        },
        {
          "output_type": "stream",
          "name": "stdout",
          "text": [
            "Warning: No categorical columns found. Calling 'transform' will only return input data.\n",
            "[0]\tvalidation_0-auc:0.75375\tvalidation_0-logloss:0.52623\n",
            "[1]\tvalidation_0-auc:0.77020\tvalidation_0-logloss:0.52477\n",
            "[2]\tvalidation_0-auc:0.77388\tvalidation_0-logloss:0.52280\n",
            "[3]\tvalidation_0-auc:0.77572\tvalidation_0-logloss:0.52139\n",
            "[4]\tvalidation_0-auc:0.77777\tvalidation_0-logloss:0.51949\n",
            "[5]\tvalidation_0-auc:0.77751\tvalidation_0-logloss:0.51766\n",
            "[6]\tvalidation_0-auc:0.77656\tvalidation_0-logloss:0.51638\n",
            "[7]\tvalidation_0-auc:0.77665\tvalidation_0-logloss:0.51467\n",
            "[8]\tvalidation_0-auc:0.77620\tvalidation_0-logloss:0.51298\n",
            "[9]\tvalidation_0-auc:0.77716\tvalidation_0-logloss:0.51129\n",
            "[10]\tvalidation_0-auc:0.77925\tvalidation_0-logloss:0.51041\n",
            "[11]\tvalidation_0-auc:0.77889\tvalidation_0-logloss:0.50938\n",
            "[12]\tvalidation_0-auc:0.77874\tvalidation_0-logloss:0.50826\n",
            "[13]\tvalidation_0-auc:0.77836\tvalidation_0-logloss:0.50723\n",
            "[14]\tvalidation_0-auc:0.77857\tvalidation_0-logloss:0.50570\n",
            "[15]\tvalidation_0-auc:0.77885\tvalidation_0-logloss:0.50467\n",
            "[16]\tvalidation_0-auc:0.77931\tvalidation_0-logloss:0.50372\n",
            "[17]\tvalidation_0-auc:0.77932\tvalidation_0-logloss:0.50231\n",
            "[18]\tvalidation_0-auc:0.77938\tvalidation_0-logloss:0.50129\n",
            "[19]\tvalidation_0-auc:0.77927\tvalidation_0-logloss:0.50032\n",
            "[20]\tvalidation_0-auc:0.77934\tvalidation_0-logloss:0.49895\n",
            "[21]\tvalidation_0-auc:0.77951\tvalidation_0-logloss:0.49760\n",
            "[22]\tvalidation_0-auc:0.77919\tvalidation_0-logloss:0.49670\n",
            "[23]\tvalidation_0-auc:0.77948\tvalidation_0-logloss:0.49539\n",
            "[24]\tvalidation_0-auc:0.77962\tvalidation_0-logloss:0.49413\n"
          ]
        },
        {
          "output_type": "display_data",
          "data": {
            "text/plain": [
              "<IPython.core.display.HTML object>"
            ],
            "text/html": [
              "Waiting for W&B process to finish... <strong style=\"color:green\">(success).</strong>"
            ]
          },
          "metadata": {}
        },
        {
          "output_type": "display_data",
          "data": {
            "text/plain": [
              "VBox(children=(Label(value='0.217 MB of 0.217 MB uploaded (0.000 MB deduped)\\r'), FloatProgress(value=1.0, max…"
            ],
            "application/vnd.jupyter.widget-view+json": {
              "version_major": 2,
              "version_minor": 0,
              "model_id": "57fc2c112b964d8b9f49a9967093051e"
            }
          },
          "metadata": {}
        },
        {
          "output_type": "display_data",
          "data": {
            "text/plain": [
              "<IPython.core.display.HTML object>"
            ],
            "text/html": [
              "<style>\n",
              "    table.wandb td:nth-child(1) { padding: 0 10px; text-align: left ; width: auto;} td:nth-child(2) {text-align: left ; width: 100%}\n",
              "    .wandb-row { display: flex; flex-direction: row; flex-wrap: wrap; justify-content: flex-start; width: 100% }\n",
              "    .wandb-col { display: flex; flex-direction: column; flex-basis: 100%; flex: 1; padding: 10px; }\n",
              "    </style>\n",
              "<div class=\"wandb-row\"><div class=\"wandb-col\"><h3>Run history:</h3><br/><table class=\"wandb\"><tr><td>epoch</td><td>▁▁▂▂▂▂▃▃▃▄▄▄▅▅▅▅▆▆▆▇▇▇▇██</td></tr><tr><td>validation_0-auc</td><td>▁▅▆▇█▇▇▇▇▇███████████████</td></tr><tr><td>validation_0-logloss</td><td>██▇▇▇▆▆▅▅▅▅▄▄▄▄▃▃▃▃▂▂▂▂▁▁</td></tr></table><br/></div><div class=\"wandb-col\"><h3>Run summary:</h3><br/><table class=\"wandb\"><tr><td>epoch</td><td>24</td></tr></table><br/></div></div>"
            ]
          },
          "metadata": {}
        },
        {
          "output_type": "display_data",
          "data": {
            "text/plain": [
              "<IPython.core.display.HTML object>"
            ],
            "text/html": [
              "Synced <strong style=\"color:#cdcd00\">confused-sweep-8</strong>: <a href=\"https://wandb.ai/tim-w/xgboost-example/runs/8korqsec\" target=\"_blank\">https://wandb.ai/tim-w/xgboost-example/runs/8korqsec</a><br/>Synced 5 W&B file(s), 1 media file(s), 4 artifact file(s) and 2 other file(s)"
            ]
          },
          "metadata": {}
        },
        {
          "output_type": "display_data",
          "data": {
            "text/plain": [
              "<IPython.core.display.HTML object>"
            ],
            "text/html": [
              "Find logs at: <code>./wandb/run-20220822_152649-8korqsec/logs</code>"
            ]
          },
          "metadata": {}
        },
        {
          "output_type": "stream",
          "name": "stderr",
          "text": [
            "\u001b[34m\u001b[1mwandb\u001b[0m: Agent Starting Run: wfupn101 with config:\n",
            "\u001b[34m\u001b[1mwandb\u001b[0m: \tcolsample_bytree: 0.6\n",
            "\u001b[34m\u001b[1mwandb\u001b[0m: \tlearning_rate: 0.01\n",
            "\u001b[34m\u001b[1mwandb\u001b[0m: \tmax_depth: 16\n"
          ]
        },
        {
          "output_type": "display_data",
          "data": {
            "text/plain": [
              "<IPython.core.display.HTML object>"
            ],
            "text/html": [
              "Tracking run with wandb version 0.13.1"
            ]
          },
          "metadata": {}
        },
        {
          "output_type": "display_data",
          "data": {
            "text/plain": [
              "<IPython.core.display.HTML object>"
            ],
            "text/html": [
              "Run data is saved locally in <code>/content/wandb/run-20220822_152705-wfupn101</code>"
            ]
          },
          "metadata": {}
        },
        {
          "output_type": "display_data",
          "data": {
            "text/plain": [
              "<IPython.core.display.HTML object>"
            ],
            "text/html": [
              "Syncing run <strong><a href=\"https://wandb.ai/tim-w/xgboost-example/runs/wfupn101\" target=\"_blank\">pretty-sweep-9</a></strong> to <a href=\"https://wandb.ai/tim-w/xgboost-example\" target=\"_blank\">Weights & Biases</a> (<a href=\"https://wandb.me/run\" target=\"_blank\">docs</a>)<br/>Sweep page:  <a href=\"https://wandb.ai/tim-w/xgboost-example/sweeps/9r9ngnv7\" target=\"_blank\">https://wandb.ai/tim-w/xgboost-example/sweeps/9r9ngnv7</a>"
            ]
          },
          "metadata": {}
        },
        {
          "output_type": "stream",
          "name": "stdout",
          "text": [
            "Warning: No categorical columns found. Calling 'transform' will only return input data.\n",
            "[0]\tvalidation_0-auc:0.76929\tvalidation_0-logloss:0.52617\n",
            "[1]\tvalidation_0-auc:0.77985\tvalidation_0-logloss:0.52462\n",
            "[2]\tvalidation_0-auc:0.78417\tvalidation_0-logloss:0.52259\n",
            "[3]\tvalidation_0-auc:0.78286\tvalidation_0-logloss:0.52113\n",
            "[4]\tvalidation_0-auc:0.78400\tvalidation_0-logloss:0.51918\n",
            "[5]\tvalidation_0-auc:0.78323\tvalidation_0-logloss:0.51730\n",
            "[6]\tvalidation_0-auc:0.78299\tvalidation_0-logloss:0.51596\n",
            "[7]\tvalidation_0-auc:0.78409\tvalidation_0-logloss:0.51418\n",
            "[8]\tvalidation_0-auc:0.78415\tvalidation_0-logloss:0.51246\n",
            "[9]\tvalidation_0-auc:0.78449\tvalidation_0-logloss:0.51073\n",
            "[10]\tvalidation_0-auc:0.78641\tvalidation_0-logloss:0.50977\n",
            "[11]\tvalidation_0-auc:0.78587\tvalidation_0-logloss:0.50869\n",
            "[12]\tvalidation_0-auc:0.78557\tvalidation_0-logloss:0.50749\n",
            "[13]\tvalidation_0-auc:0.78492\tvalidation_0-logloss:0.50643\n",
            "[14]\tvalidation_0-auc:0.78526\tvalidation_0-logloss:0.50485\n",
            "[15]\tvalidation_0-auc:0.78518\tvalidation_0-logloss:0.50380\n",
            "[16]\tvalidation_0-auc:0.78477\tvalidation_0-logloss:0.50281\n",
            "[17]\tvalidation_0-auc:0.78530\tvalidation_0-logloss:0.50133\n",
            "[18]\tvalidation_0-auc:0.78514\tvalidation_0-logloss:0.50026\n",
            "[19]\tvalidation_0-auc:0.78477\tvalidation_0-logloss:0.49925\n",
            "[20]\tvalidation_0-auc:0.78480\tvalidation_0-logloss:0.49784\n",
            "[21]\tvalidation_0-auc:0.78506\tvalidation_0-logloss:0.49643\n",
            "[22]\tvalidation_0-auc:0.78484\tvalidation_0-logloss:0.49551\n",
            "[23]\tvalidation_0-auc:0.78495\tvalidation_0-logloss:0.49417\n",
            "[24]\tvalidation_0-auc:0.78508\tvalidation_0-logloss:0.49287\n"
          ]
        },
        {
          "output_type": "display_data",
          "data": {
            "text/plain": [
              "<IPython.core.display.HTML object>"
            ],
            "text/html": [
              "Waiting for W&B process to finish... <strong style=\"color:green\">(success).</strong>"
            ]
          },
          "metadata": {}
        },
        {
          "output_type": "display_data",
          "data": {
            "text/plain": [
              "VBox(children=(Label(value='0.283 MB of 0.283 MB uploaded (0.000 MB deduped)\\r'), FloatProgress(value=1.0, max…"
            ],
            "application/vnd.jupyter.widget-view+json": {
              "version_major": 2,
              "version_minor": 0,
              "model_id": "659d6a8ce69d4616be67b1d9cb341383"
            }
          },
          "metadata": {}
        },
        {
          "output_type": "display_data",
          "data": {
            "text/plain": [
              "<IPython.core.display.HTML object>"
            ],
            "text/html": [
              "<style>\n",
              "    table.wandb td:nth-child(1) { padding: 0 10px; text-align: left ; width: auto;} td:nth-child(2) {text-align: left ; width: 100%}\n",
              "    .wandb-row { display: flex; flex-direction: row; flex-wrap: wrap; justify-content: flex-start; width: 100% }\n",
              "    .wandb-col { display: flex; flex-direction: column; flex-basis: 100%; flex: 1; padding: 10px; }\n",
              "    </style>\n",
              "<div class=\"wandb-row\"><div class=\"wandb-col\"><h3>Run history:</h3><br/><table class=\"wandb\"><tr><td>epoch</td><td>▁▁▂▂▂▂▃▃▃▄▄▄▅▅▅▅▆▆▆▇▇▇▇██</td></tr><tr><td>validation_0-auc</td><td>▁▅▇▇▇▇▇▇▇▇███▇█▇▇█▇▇▇▇▇▇▇</td></tr><tr><td>validation_0-logloss</td><td>██▇▇▇▆▆▅▅▅▅▄▄▄▄▃▃▃▃▂▂▂▂▁▁</td></tr></table><br/></div><div class=\"wandb-col\"><h3>Run summary:</h3><br/><table class=\"wandb\"><tr><td>epoch</td><td>24</td></tr></table><br/></div></div>"
            ]
          },
          "metadata": {}
        },
        {
          "output_type": "display_data",
          "data": {
            "text/plain": [
              "<IPython.core.display.HTML object>"
            ],
            "text/html": [
              "Synced <strong style=\"color:#cdcd00\">pretty-sweep-9</strong>: <a href=\"https://wandb.ai/tim-w/xgboost-example/runs/wfupn101\" target=\"_blank\">https://wandb.ai/tim-w/xgboost-example/runs/wfupn101</a><br/>Synced 5 W&B file(s), 1 media file(s), 4 artifact file(s) and 2 other file(s)"
            ]
          },
          "metadata": {}
        },
        {
          "output_type": "display_data",
          "data": {
            "text/plain": [
              "<IPython.core.display.HTML object>"
            ],
            "text/html": [
              "Find logs at: <code>./wandb/run-20220822_152705-wfupn101/logs</code>"
            ]
          },
          "metadata": {}
        },
        {
          "output_type": "stream",
          "name": "stderr",
          "text": [
            "\u001b[34m\u001b[1mwandb\u001b[0m: Agent Starting Run: yy5t1s8d with config:\n",
            "\u001b[34m\u001b[1mwandb\u001b[0m: \tcolsample_bytree: 0.8\n",
            "\u001b[34m\u001b[1mwandb\u001b[0m: \tlearning_rate: 0.05\n",
            "\u001b[34m\u001b[1mwandb\u001b[0m: \tmax_depth: 2\n"
          ]
        },
        {
          "output_type": "display_data",
          "data": {
            "text/plain": [
              "<IPython.core.display.HTML object>"
            ],
            "text/html": [
              "Tracking run with wandb version 0.13.1"
            ]
          },
          "metadata": {}
        },
        {
          "output_type": "display_data",
          "data": {
            "text/plain": [
              "<IPython.core.display.HTML object>"
            ],
            "text/html": [
              "Run data is saved locally in <code>/content/wandb/run-20220822_152720-yy5t1s8d</code>"
            ]
          },
          "metadata": {}
        },
        {
          "output_type": "display_data",
          "data": {
            "text/plain": [
              "<IPython.core.display.HTML object>"
            ],
            "text/html": [
              "Syncing run <strong><a href=\"https://wandb.ai/tim-w/xgboost-example/runs/yy5t1s8d\" target=\"_blank\">glowing-sweep-10</a></strong> to <a href=\"https://wandb.ai/tim-w/xgboost-example\" target=\"_blank\">Weights & Biases</a> (<a href=\"https://wandb.me/run\" target=\"_blank\">docs</a>)<br/>Sweep page:  <a href=\"https://wandb.ai/tim-w/xgboost-example/sweeps/9r9ngnv7\" target=\"_blank\">https://wandb.ai/tim-w/xgboost-example/sweeps/9r9ngnv7</a>"
            ]
          },
          "metadata": {}
        },
        {
          "output_type": "stream",
          "name": "stdout",
          "text": [
            "Warning: No categorical columns found. Calling 'transform' will only return input data.\n",
            "[0]\tvalidation_0-auc:0.70779\tvalidation_0-logloss:0.51881\n",
            "[1]\tvalidation_0-auc:0.70769\tvalidation_0-logloss:0.51069\n",
            "[2]\tvalidation_0-auc:0.70769\tvalidation_0-logloss:0.50367\n",
            "[3]\tvalidation_0-auc:0.75154\tvalidation_0-logloss:0.49727\n",
            "[4]\tvalidation_0-auc:0.75755\tvalidation_0-logloss:0.49159\n",
            "[5]\tvalidation_0-auc:0.75866\tvalidation_0-logloss:0.48664\n",
            "[6]\tvalidation_0-auc:0.75766\tvalidation_0-logloss:0.48213\n",
            "[7]\tvalidation_0-auc:0.75859\tvalidation_0-logloss:0.47818\n",
            "[8]\tvalidation_0-auc:0.76215\tvalidation_0-logloss:0.47457\n",
            "[9]\tvalidation_0-auc:0.76134\tvalidation_0-logloss:0.47124\n",
            "[10]\tvalidation_0-auc:0.76114\tvalidation_0-logloss:0.46823\n",
            "[11]\tvalidation_0-auc:0.76120\tvalidation_0-logloss:0.46545\n",
            "[12]\tvalidation_0-auc:0.76196\tvalidation_0-logloss:0.46295\n",
            "[13]\tvalidation_0-auc:0.76180\tvalidation_0-logloss:0.46079\n",
            "[14]\tvalidation_0-auc:0.76485\tvalidation_0-logloss:0.45872\n",
            "[15]\tvalidation_0-auc:0.76827\tvalidation_0-logloss:0.45689\n",
            "[16]\tvalidation_0-auc:0.77024\tvalidation_0-logloss:0.45522\n",
            "[17]\tvalidation_0-auc:0.76994\tvalidation_0-logloss:0.45348\n",
            "[18]\tvalidation_0-auc:0.77051\tvalidation_0-logloss:0.45193\n",
            "[19]\tvalidation_0-auc:0.77017\tvalidation_0-logloss:0.45048\n",
            "[20]\tvalidation_0-auc:0.77047\tvalidation_0-logloss:0.44924\n",
            "[21]\tvalidation_0-auc:0.77026\tvalidation_0-logloss:0.44808\n",
            "[22]\tvalidation_0-auc:0.77153\tvalidation_0-logloss:0.44704\n",
            "[23]\tvalidation_0-auc:0.77196\tvalidation_0-logloss:0.44585\n",
            "[24]\tvalidation_0-auc:0.77225\tvalidation_0-logloss:0.44485\n"
          ]
        },
        {
          "output_type": "display_data",
          "data": {
            "text/plain": [
              "<IPython.core.display.HTML object>"
            ],
            "text/html": [
              "Waiting for W&B process to finish... <strong style=\"color:green\">(success).</strong>"
            ]
          },
          "metadata": {}
        },
        {
          "output_type": "display_data",
          "data": {
            "text/plain": [
              "VBox(children=(Label(value='0.224 MB of 0.224 MB uploaded (0.000 MB deduped)\\r'), FloatProgress(value=1.0, max…"
            ],
            "application/vnd.jupyter.widget-view+json": {
              "version_major": 2,
              "version_minor": 0,
              "model_id": "583623359cff4c58a04158f4eae8a157"
            }
          },
          "metadata": {}
        },
        {
          "output_type": "display_data",
          "data": {
            "text/plain": [
              "<IPython.core.display.HTML object>"
            ],
            "text/html": [
              "<style>\n",
              "    table.wandb td:nth-child(1) { padding: 0 10px; text-align: left ; width: auto;} td:nth-child(2) {text-align: left ; width: 100%}\n",
              "    .wandb-row { display: flex; flex-direction: row; flex-wrap: wrap; justify-content: flex-start; width: 100% }\n",
              "    .wandb-col { display: flex; flex-direction: column; flex-basis: 100%; flex: 1; padding: 10px; }\n",
              "    </style>\n",
              "<div class=\"wandb-row\"><div class=\"wandb-col\"><h3>Run history:</h3><br/><table class=\"wandb\"><tr><td>epoch</td><td>▁▁▂▂▂▂▃▃▃▄▄▄▅▅▅▅▆▆▆▇▇▇▇██</td></tr><tr><td>validation_0-auc</td><td>▁▁▁▆▆▇▆▇▇▇▇▇▇▇▇██████████</td></tr><tr><td>validation_0-logloss</td><td>█▇▇▆▅▅▅▄▄▃▃▃▃▃▂▂▂▂▂▂▁▁▁▁▁</td></tr></table><br/></div><div class=\"wandb-col\"><h3>Run summary:</h3><br/><table class=\"wandb\"><tr><td>epoch</td><td>24</td></tr></table><br/></div></div>"
            ]
          },
          "metadata": {}
        },
        {
          "output_type": "display_data",
          "data": {
            "text/plain": [
              "<IPython.core.display.HTML object>"
            ],
            "text/html": [
              "Synced <strong style=\"color:#cdcd00\">glowing-sweep-10</strong>: <a href=\"https://wandb.ai/tim-w/xgboost-example/runs/yy5t1s8d\" target=\"_blank\">https://wandb.ai/tim-w/xgboost-example/runs/yy5t1s8d</a><br/>Synced 5 W&B file(s), 1 media file(s), 4 artifact file(s) and 2 other file(s)"
            ]
          },
          "metadata": {}
        },
        {
          "output_type": "display_data",
          "data": {
            "text/plain": [
              "<IPython.core.display.HTML object>"
            ],
            "text/html": [
              "Find logs at: <code>./wandb/run-20220822_152720-yy5t1s8d/logs</code>"
            ]
          },
          "metadata": {}
        },
        {
          "output_type": "stream",
          "name": "stderr",
          "text": [
            "\u001b[34m\u001b[1mwandb\u001b[0m: Sweep Agent: Waiting for job.\n",
            "\u001b[34m\u001b[1mwandb\u001b[0m: Job received.\n",
            "\u001b[34m\u001b[1mwandb\u001b[0m: Agent Starting Run: vjwveq04 with config:\n",
            "\u001b[34m\u001b[1mwandb\u001b[0m: \tcolsample_bytree: 0.8\n",
            "\u001b[34m\u001b[1mwandb\u001b[0m: \tlearning_rate: 0.05\n",
            "\u001b[34m\u001b[1mwandb\u001b[0m: \tmax_depth: 4\n"
          ]
        },
        {
          "output_type": "display_data",
          "data": {
            "text/plain": [
              "<IPython.core.display.HTML object>"
            ],
            "text/html": [
              "Tracking run with wandb version 0.13.1"
            ]
          },
          "metadata": {}
        },
        {
          "output_type": "display_data",
          "data": {
            "text/plain": [
              "<IPython.core.display.HTML object>"
            ],
            "text/html": [
              "Run data is saved locally in <code>/content/wandb/run-20220822_152742-vjwveq04</code>"
            ]
          },
          "metadata": {}
        },
        {
          "output_type": "display_data",
          "data": {
            "text/plain": [
              "<IPython.core.display.HTML object>"
            ],
            "text/html": [
              "Syncing run <strong><a href=\"https://wandb.ai/tim-w/xgboost-example/runs/vjwveq04\" target=\"_blank\">worldly-sweep-11</a></strong> to <a href=\"https://wandb.ai/tim-w/xgboost-example\" target=\"_blank\">Weights & Biases</a> (<a href=\"https://wandb.me/run\" target=\"_blank\">docs</a>)<br/>Sweep page:  <a href=\"https://wandb.ai/tim-w/xgboost-example/sweeps/9r9ngnv7\" target=\"_blank\">https://wandb.ai/tim-w/xgboost-example/sweeps/9r9ngnv7</a>"
            ]
          },
          "metadata": {}
        },
        {
          "output_type": "stream",
          "name": "stdout",
          "text": [
            "Warning: No categorical columns found. Calling 'transform' will only return input data.\n",
            "[0]\tvalidation_0-auc:0.75810\tvalidation_0-logloss:0.51810\n",
            "[1]\tvalidation_0-auc:0.76260\tvalidation_0-logloss:0.50942\n",
            "[2]\tvalidation_0-auc:0.76338\tvalidation_0-logloss:0.50180\n",
            "[3]\tvalidation_0-auc:0.76759\tvalidation_0-logloss:0.49497\n",
            "[4]\tvalidation_0-auc:0.77193\tvalidation_0-logloss:0.48885\n",
            "[5]\tvalidation_0-auc:0.77241\tvalidation_0-logloss:0.48334\n",
            "[6]\tvalidation_0-auc:0.77423\tvalidation_0-logloss:0.47841\n",
            "[7]\tvalidation_0-auc:0.77515\tvalidation_0-logloss:0.47411\n",
            "[8]\tvalidation_0-auc:0.77600\tvalidation_0-logloss:0.47010\n",
            "[9]\tvalidation_0-auc:0.77713\tvalidation_0-logloss:0.46636\n",
            "[10]\tvalidation_0-auc:0.77902\tvalidation_0-logloss:0.46293\n",
            "[11]\tvalidation_0-auc:0.77867\tvalidation_0-logloss:0.45992\n",
            "[12]\tvalidation_0-auc:0.77892\tvalidation_0-logloss:0.45715\n",
            "[13]\tvalidation_0-auc:0.77894\tvalidation_0-logloss:0.45466\n",
            "[14]\tvalidation_0-auc:0.77884\tvalidation_0-logloss:0.45240\n",
            "[15]\tvalidation_0-auc:0.77931\tvalidation_0-logloss:0.45066\n",
            "[16]\tvalidation_0-auc:0.78056\tvalidation_0-logloss:0.44898\n",
            "[17]\tvalidation_0-auc:0.78095\tvalidation_0-logloss:0.44713\n",
            "[18]\tvalidation_0-auc:0.78148\tvalidation_0-logloss:0.44539\n",
            "[19]\tvalidation_0-auc:0.78181\tvalidation_0-logloss:0.44387\n",
            "[20]\tvalidation_0-auc:0.78194\tvalidation_0-logloss:0.44231\n",
            "[21]\tvalidation_0-auc:0.78229\tvalidation_0-logloss:0.44093\n",
            "[22]\tvalidation_0-auc:0.78261\tvalidation_0-logloss:0.43981\n",
            "[23]\tvalidation_0-auc:0.78258\tvalidation_0-logloss:0.43860\n",
            "[24]\tvalidation_0-auc:0.78266\tvalidation_0-logloss:0.43756\n"
          ]
        },
        {
          "output_type": "display_data",
          "data": {
            "text/plain": [
              "<IPython.core.display.HTML object>"
            ],
            "text/html": [
              "Waiting for W&B process to finish... <strong style=\"color:green\">(success).</strong>"
            ]
          },
          "metadata": {}
        },
        {
          "output_type": "display_data",
          "data": {
            "text/plain": [
              "VBox(children=(Label(value='0.259 MB of 0.259 MB uploaded (0.000 MB deduped)\\r'), FloatProgress(value=1.0, max…"
            ],
            "application/vnd.jupyter.widget-view+json": {
              "version_major": 2,
              "version_minor": 0,
              "model_id": "54adad7f57804368b38ed2e512cb56e7"
            }
          },
          "metadata": {}
        },
        {
          "output_type": "display_data",
          "data": {
            "text/plain": [
              "<IPython.core.display.HTML object>"
            ],
            "text/html": [
              "<style>\n",
              "    table.wandb td:nth-child(1) { padding: 0 10px; text-align: left ; width: auto;} td:nth-child(2) {text-align: left ; width: 100%}\n",
              "    .wandb-row { display: flex; flex-direction: row; flex-wrap: wrap; justify-content: flex-start; width: 100% }\n",
              "    .wandb-col { display: flex; flex-direction: column; flex-basis: 100%; flex: 1; padding: 10px; }\n",
              "    </style>\n",
              "<div class=\"wandb-row\"><div class=\"wandb-col\"><h3>Run history:</h3><br/><table class=\"wandb\"><tr><td>epoch</td><td>▁▁▂▂▂▂▃▃▃▄▄▄▅▅▅▅▆▆▆▇▇▇▇██</td></tr><tr><td>validation_0-auc</td><td>▁▂▃▄▅▅▆▆▆▆▇▇▇▇▇▇▇████████</td></tr><tr><td>validation_0-logloss</td><td>█▇▇▆▅▅▅▄▄▄▃▃▃▂▂▂▂▂▂▂▁▁▁▁▁</td></tr></table><br/></div><div class=\"wandb-col\"><h3>Run summary:</h3><br/><table class=\"wandb\"><tr><td>epoch</td><td>24</td></tr></table><br/></div></div>"
            ]
          },
          "metadata": {}
        },
        {
          "output_type": "display_data",
          "data": {
            "text/plain": [
              "<IPython.core.display.HTML object>"
            ],
            "text/html": [
              "Synced <strong style=\"color:#cdcd00\">worldly-sweep-11</strong>: <a href=\"https://wandb.ai/tim-w/xgboost-example/runs/vjwveq04\" target=\"_blank\">https://wandb.ai/tim-w/xgboost-example/runs/vjwveq04</a><br/>Synced 5 W&B file(s), 1 media file(s), 4 artifact file(s) and 2 other file(s)"
            ]
          },
          "metadata": {}
        },
        {
          "output_type": "display_data",
          "data": {
            "text/plain": [
              "<IPython.core.display.HTML object>"
            ],
            "text/html": [
              "Find logs at: <code>./wandb/run-20220822_152742-vjwveq04/logs</code>"
            ]
          },
          "metadata": {}
        },
        {
          "output_type": "stream",
          "name": "stderr",
          "text": [
            "\u001b[34m\u001b[1mwandb\u001b[0m: Agent Starting Run: c8v07y3x with config:\n",
            "\u001b[34m\u001b[1mwandb\u001b[0m: \tcolsample_bytree: 0.8\n",
            "\u001b[34m\u001b[1mwandb\u001b[0m: \tlearning_rate: 0.05\n",
            "\u001b[34m\u001b[1mwandb\u001b[0m: \tmax_depth: 16\n"
          ]
        },
        {
          "output_type": "display_data",
          "data": {
            "text/plain": [
              "<IPython.core.display.HTML object>"
            ],
            "text/html": [
              "Tracking run with wandb version 0.13.1"
            ]
          },
          "metadata": {}
        },
        {
          "output_type": "display_data",
          "data": {
            "text/plain": [
              "<IPython.core.display.HTML object>"
            ],
            "text/html": [
              "Run data is saved locally in <code>/content/wandb/run-20220822_152756-c8v07y3x</code>"
            ]
          },
          "metadata": {}
        },
        {
          "output_type": "display_data",
          "data": {
            "text/plain": [
              "<IPython.core.display.HTML object>"
            ],
            "text/html": [
              "Syncing run <strong><a href=\"https://wandb.ai/tim-w/xgboost-example/runs/c8v07y3x\" target=\"_blank\">polar-sweep-12</a></strong> to <a href=\"https://wandb.ai/tim-w/xgboost-example\" target=\"_blank\">Weights & Biases</a> (<a href=\"https://wandb.me/run\" target=\"_blank\">docs</a>)<br/>Sweep page:  <a href=\"https://wandb.ai/tim-w/xgboost-example/sweeps/9r9ngnv7\" target=\"_blank\">https://wandb.ai/tim-w/xgboost-example/sweeps/9r9ngnv7</a>"
            ]
          },
          "metadata": {}
        },
        {
          "output_type": "stream",
          "name": "stdout",
          "text": [
            "Warning: No categorical columns found. Calling 'transform' will only return input data.\n",
            "[0]\tvalidation_0-auc:0.77050\tvalidation_0-logloss:0.51770\n",
            "[1]\tvalidation_0-auc:0.76751\tvalidation_0-logloss:0.50885\n",
            "[2]\tvalidation_0-auc:0.77045\tvalidation_0-logloss:0.50093\n",
            "[3]\tvalidation_0-auc:0.77648\tvalidation_0-logloss:0.49382\n",
            "[4]\tvalidation_0-auc:0.77894\tvalidation_0-logloss:0.48752\n",
            "[5]\tvalidation_0-auc:0.77840\tvalidation_0-logloss:0.48200\n",
            "[6]\tvalidation_0-auc:0.78043\tvalidation_0-logloss:0.47696\n",
            "[7]\tvalidation_0-auc:0.78110\tvalidation_0-logloss:0.47258\n",
            "[8]\tvalidation_0-auc:0.78226\tvalidation_0-logloss:0.46848\n",
            "[9]\tvalidation_0-auc:0.78290\tvalidation_0-logloss:0.46463\n",
            "[10]\tvalidation_0-auc:0.78290\tvalidation_0-logloss:0.46129\n",
            "[11]\tvalidation_0-auc:0.78269\tvalidation_0-logloss:0.45831\n",
            "[12]\tvalidation_0-auc:0.78319\tvalidation_0-logloss:0.45539\n",
            "[13]\tvalidation_0-auc:0.78364\tvalidation_0-logloss:0.45277\n",
            "[14]\tvalidation_0-auc:0.78379\tvalidation_0-logloss:0.45042\n",
            "[15]\tvalidation_0-auc:0.78487\tvalidation_0-logloss:0.44861\n",
            "[16]\tvalidation_0-auc:0.78574\tvalidation_0-logloss:0.44676\n",
            "[17]\tvalidation_0-auc:0.78569\tvalidation_0-logloss:0.44495\n",
            "[18]\tvalidation_0-auc:0.78574\tvalidation_0-logloss:0.44309\n",
            "[19]\tvalidation_0-auc:0.78517\tvalidation_0-logloss:0.44158\n",
            "[20]\tvalidation_0-auc:0.78562\tvalidation_0-logloss:0.44002\n",
            "[21]\tvalidation_0-auc:0.78558\tvalidation_0-logloss:0.43864\n",
            "[22]\tvalidation_0-auc:0.78585\tvalidation_0-logloss:0.43752\n",
            "[23]\tvalidation_0-auc:0.78575\tvalidation_0-logloss:0.43634\n",
            "[24]\tvalidation_0-auc:0.78596\tvalidation_0-logloss:0.43520\n"
          ]
        },
        {
          "output_type": "display_data",
          "data": {
            "text/plain": [
              "<IPython.core.display.HTML object>"
            ],
            "text/html": [
              "Waiting for W&B process to finish... <strong style=\"color:green\">(success).</strong>"
            ]
          },
          "metadata": {}
        },
        {
          "output_type": "display_data",
          "data": {
            "text/plain": [
              "VBox(children=(Label(value='0.316 MB of 0.316 MB uploaded (0.000 MB deduped)\\r'), FloatProgress(value=1.0, max…"
            ],
            "application/vnd.jupyter.widget-view+json": {
              "version_major": 2,
              "version_minor": 0,
              "model_id": "4f623027d4764890bc7f535628958ec2"
            }
          },
          "metadata": {}
        },
        {
          "output_type": "display_data",
          "data": {
            "text/plain": [
              "<IPython.core.display.HTML object>"
            ],
            "text/html": [
              "<style>\n",
              "    table.wandb td:nth-child(1) { padding: 0 10px; text-align: left ; width: auto;} td:nth-child(2) {text-align: left ; width: 100%}\n",
              "    .wandb-row { display: flex; flex-direction: row; flex-wrap: wrap; justify-content: flex-start; width: 100% }\n",
              "    .wandb-col { display: flex; flex-direction: column; flex-basis: 100%; flex: 1; padding: 10px; }\n",
              "    </style>\n",
              "<div class=\"wandb-row\"><div class=\"wandb-col\"><h3>Run history:</h3><br/><table class=\"wandb\"><tr><td>epoch</td><td>▁▁▂▂▂▂▃▃▃▄▄▄▅▅▅▅▆▆▆▇▇▇▇██</td></tr><tr><td>validation_0-auc</td><td>▂▁▂▄▅▅▆▆▇▇▇▇▇▇▇██████████</td></tr><tr><td>validation_0-logloss</td><td>█▇▇▆▅▅▅▄▄▃▃▃▃▂▂▂▂▂▂▂▁▁▁▁▁</td></tr></table><br/></div><div class=\"wandb-col\"><h3>Run summary:</h3><br/><table class=\"wandb\"><tr><td>epoch</td><td>24</td></tr></table><br/></div></div>"
            ]
          },
          "metadata": {}
        },
        {
          "output_type": "display_data",
          "data": {
            "text/plain": [
              "<IPython.core.display.HTML object>"
            ],
            "text/html": [
              "Synced <strong style=\"color:#cdcd00\">polar-sweep-12</strong>: <a href=\"https://wandb.ai/tim-w/xgboost-example/runs/c8v07y3x\" target=\"_blank\">https://wandb.ai/tim-w/xgboost-example/runs/c8v07y3x</a><br/>Synced 5 W&B file(s), 1 media file(s), 4 artifact file(s) and 2 other file(s)"
            ]
          },
          "metadata": {}
        },
        {
          "output_type": "display_data",
          "data": {
            "text/plain": [
              "<IPython.core.display.HTML object>"
            ],
            "text/html": [
              "Find logs at: <code>./wandb/run-20220822_152756-c8v07y3x/logs</code>"
            ]
          },
          "metadata": {}
        },
        {
          "output_type": "stream",
          "name": "stderr",
          "text": [
            "\u001b[34m\u001b[1mwandb\u001b[0m: Agent Starting Run: z5yfgn23 with config:\n",
            "\u001b[34m\u001b[1mwandb\u001b[0m: \tcolsample_bytree: 0.8\n",
            "\u001b[34m\u001b[1mwandb\u001b[0m: \tlearning_rate: 0.025\n",
            "\u001b[34m\u001b[1mwandb\u001b[0m: \tmax_depth: 2\n"
          ]
        },
        {
          "output_type": "display_data",
          "data": {
            "text/plain": [
              "<IPython.core.display.HTML object>"
            ],
            "text/html": [
              "Tracking run with wandb version 0.13.1"
            ]
          },
          "metadata": {}
        },
        {
          "output_type": "display_data",
          "data": {
            "text/plain": [
              "<IPython.core.display.HTML object>"
            ],
            "text/html": [
              "Run data is saved locally in <code>/content/wandb/run-20220822_152812-z5yfgn23</code>"
            ]
          },
          "metadata": {}
        },
        {
          "output_type": "display_data",
          "data": {
            "text/plain": [
              "<IPython.core.display.HTML object>"
            ],
            "text/html": [
              "Syncing run <strong><a href=\"https://wandb.ai/tim-w/xgboost-example/runs/z5yfgn23\" target=\"_blank\">fresh-sweep-13</a></strong> to <a href=\"https://wandb.ai/tim-w/xgboost-example\" target=\"_blank\">Weights & Biases</a> (<a href=\"https://wandb.me/run\" target=\"_blank\">docs</a>)<br/>Sweep page:  <a href=\"https://wandb.ai/tim-w/xgboost-example/sweeps/9r9ngnv7\" target=\"_blank\">https://wandb.ai/tim-w/xgboost-example/sweeps/9r9ngnv7</a>"
            ]
          },
          "metadata": {}
        },
        {
          "output_type": "stream",
          "name": "stdout",
          "text": [
            "Warning: No categorical columns found. Calling 'transform' will only return input data.\n",
            "[0]\tvalidation_0-auc:0.70779\tvalidation_0-logloss:0.52350\n",
            "[1]\tvalidation_0-auc:0.70769\tvalidation_0-logloss:0.51905\n",
            "[2]\tvalidation_0-auc:0.70769\tvalidation_0-logloss:0.51492\n",
            "[3]\tvalidation_0-auc:0.70769\tvalidation_0-logloss:0.51108\n",
            "[4]\tvalidation_0-auc:0.70783\tvalidation_0-logloss:0.50750\n",
            "[5]\tvalidation_0-auc:0.73787\tvalidation_0-logloss:0.50403\n",
            "[6]\tvalidation_0-auc:0.75770\tvalidation_0-logloss:0.50077\n",
            "[7]\tvalidation_0-auc:0.75928\tvalidation_0-logloss:0.49775\n",
            "[8]\tvalidation_0-auc:0.75781\tvalidation_0-logloss:0.49486\n",
            "[9]\tvalidation_0-auc:0.75747\tvalidation_0-logloss:0.49214\n",
            "[10]\tvalidation_0-auc:0.75747\tvalidation_0-logloss:0.48957\n",
            "[11]\tvalidation_0-auc:0.75787\tvalidation_0-logloss:0.48713\n",
            "[12]\tvalidation_0-auc:0.75755\tvalidation_0-logloss:0.48483\n",
            "[13]\tvalidation_0-auc:0.76061\tvalidation_0-logloss:0.48264\n",
            "[14]\tvalidation_0-auc:0.76030\tvalidation_0-logloss:0.48057\n",
            "[15]\tvalidation_0-auc:0.76550\tvalidation_0-logloss:0.47893\n",
            "[16]\tvalidation_0-auc:0.76705\tvalidation_0-logloss:0.47743\n",
            "[17]\tvalidation_0-auc:0.76719\tvalidation_0-logloss:0.47562\n",
            "[18]\tvalidation_0-auc:0.76590\tvalidation_0-logloss:0.47391\n",
            "[19]\tvalidation_0-auc:0.76577\tvalidation_0-logloss:0.47223\n",
            "[20]\tvalidation_0-auc:0.76565\tvalidation_0-logloss:0.47063\n",
            "[21]\tvalidation_0-auc:0.76568\tvalidation_0-logloss:0.46918\n",
            "[22]\tvalidation_0-auc:0.76716\tvalidation_0-logloss:0.46795\n",
            "[23]\tvalidation_0-auc:0.76877\tvalidation_0-logloss:0.46656\n",
            "[24]\tvalidation_0-auc:0.76846\tvalidation_0-logloss:0.46521\n"
          ]
        },
        {
          "output_type": "display_data",
          "data": {
            "text/plain": [
              "<IPython.core.display.HTML object>"
            ],
            "text/html": [
              "Waiting for W&B process to finish... <strong style=\"color:green\">(success).</strong>"
            ]
          },
          "metadata": {}
        },
        {
          "output_type": "display_data",
          "data": {
            "text/plain": [
              "VBox(children=(Label(value='0.259 MB of 0.259 MB uploaded (0.000 MB deduped)\\r'), FloatProgress(value=1.0, max…"
            ],
            "application/vnd.jupyter.widget-view+json": {
              "version_major": 2,
              "version_minor": 0,
              "model_id": "ce37c4be135d4aa2b426c35adc5983c7"
            }
          },
          "metadata": {}
        },
        {
          "output_type": "display_data",
          "data": {
            "text/plain": [
              "<IPython.core.display.HTML object>"
            ],
            "text/html": [
              "<style>\n",
              "    table.wandb td:nth-child(1) { padding: 0 10px; text-align: left ; width: auto;} td:nth-child(2) {text-align: left ; width: 100%}\n",
              "    .wandb-row { display: flex; flex-direction: row; flex-wrap: wrap; justify-content: flex-start; width: 100% }\n",
              "    .wandb-col { display: flex; flex-direction: column; flex-basis: 100%; flex: 1; padding: 10px; }\n",
              "    </style>\n",
              "<div class=\"wandb-row\"><div class=\"wandb-col\"><h3>Run history:</h3><br/><table class=\"wandb\"><tr><td>epoch</td><td>▁▁▂▂▂▂▃▃▃▄▄▄▅▅▅▅▆▆▆▇▇▇▇██</td></tr><tr><td>validation_0-auc</td><td>▁▁▁▁▁▄▇▇▇▇▇▇▇▇▇██████████</td></tr><tr><td>validation_0-logloss</td><td>█▇▇▇▆▆▅▅▅▄▄▄▃▃▃▃▂▂▂▂▂▁▁▁▁</td></tr></table><br/></div><div class=\"wandb-col\"><h3>Run summary:</h3><br/><table class=\"wandb\"><tr><td>epoch</td><td>24</td></tr></table><br/></div></div>"
            ]
          },
          "metadata": {}
        },
        {
          "output_type": "display_data",
          "data": {
            "text/plain": [
              "<IPython.core.display.HTML object>"
            ],
            "text/html": [
              "Synced <strong style=\"color:#cdcd00\">fresh-sweep-13</strong>: <a href=\"https://wandb.ai/tim-w/xgboost-example/runs/z5yfgn23\" target=\"_blank\">https://wandb.ai/tim-w/xgboost-example/runs/z5yfgn23</a><br/>Synced 5 W&B file(s), 1 media file(s), 4 artifact file(s) and 2 other file(s)"
            ]
          },
          "metadata": {}
        },
        {
          "output_type": "display_data",
          "data": {
            "text/plain": [
              "<IPython.core.display.HTML object>"
            ],
            "text/html": [
              "Find logs at: <code>./wandb/run-20220822_152812-z5yfgn23/logs</code>"
            ]
          },
          "metadata": {}
        },
        {
          "output_type": "stream",
          "name": "stderr",
          "text": [
            "\u001b[34m\u001b[1mwandb\u001b[0m: Agent Starting Run: 3feokfut with config:\n",
            "\u001b[34m\u001b[1mwandb\u001b[0m: \tcolsample_bytree: 0.8\n",
            "\u001b[34m\u001b[1mwandb\u001b[0m: \tlearning_rate: 0.025\n",
            "\u001b[34m\u001b[1mwandb\u001b[0m: \tmax_depth: 4\n"
          ]
        },
        {
          "output_type": "display_data",
          "data": {
            "text/plain": [
              "<IPython.core.display.HTML object>"
            ],
            "text/html": [
              "Tracking run with wandb version 0.13.1"
            ]
          },
          "metadata": {}
        },
        {
          "output_type": "display_data",
          "data": {
            "text/plain": [
              "<IPython.core.display.HTML object>"
            ],
            "text/html": [
              "Run data is saved locally in <code>/content/wandb/run-20220822_152827-3feokfut</code>"
            ]
          },
          "metadata": {}
        },
        {
          "output_type": "display_data",
          "data": {
            "text/plain": [
              "<IPython.core.display.HTML object>"
            ],
            "text/html": [
              "Syncing run <strong><a href=\"https://wandb.ai/tim-w/xgboost-example/runs/3feokfut\" target=\"_blank\">stilted-sweep-14</a></strong> to <a href=\"https://wandb.ai/tim-w/xgboost-example\" target=\"_blank\">Weights & Biases</a> (<a href=\"https://wandb.me/run\" target=\"_blank\">docs</a>)<br/>Sweep page:  <a href=\"https://wandb.ai/tim-w/xgboost-example/sweeps/9r9ngnv7\" target=\"_blank\">https://wandb.ai/tim-w/xgboost-example/sweeps/9r9ngnv7</a>"
            ]
          },
          "metadata": {}
        },
        {
          "output_type": "stream",
          "name": "stdout",
          "text": [
            "Warning: No categorical columns found. Calling 'transform' will only return input data.\n",
            "[0]\tvalidation_0-auc:0.75810\tvalidation_0-logloss:0.52314\n",
            "[1]\tvalidation_0-auc:0.76277\tvalidation_0-logloss:0.51838\n",
            "[2]\tvalidation_0-auc:0.76335\tvalidation_0-logloss:0.51392\n",
            "[3]\tvalidation_0-auc:0.76741\tvalidation_0-logloss:0.50972\n",
            "[4]\tvalidation_0-auc:0.76767\tvalidation_0-logloss:0.50580\n",
            "[5]\tvalidation_0-auc:0.76784\tvalidation_0-logloss:0.50215\n",
            "[6]\tvalidation_0-auc:0.76714\tvalidation_0-logloss:0.49876\n",
            "[7]\tvalidation_0-auc:0.77034\tvalidation_0-logloss:0.49552\n",
            "[8]\tvalidation_0-auc:0.77245\tvalidation_0-logloss:0.49238\n",
            "[9]\tvalidation_0-auc:0.77414\tvalidation_0-logloss:0.48945\n",
            "[10]\tvalidation_0-auc:0.77527\tvalidation_0-logloss:0.48663\n",
            "[11]\tvalidation_0-auc:0.77534\tvalidation_0-logloss:0.48399\n",
            "[12]\tvalidation_0-auc:0.77555\tvalidation_0-logloss:0.48146\n",
            "[13]\tvalidation_0-auc:0.77594\tvalidation_0-logloss:0.47909\n",
            "[14]\tvalidation_0-auc:0.77582\tvalidation_0-logloss:0.47685\n",
            "[15]\tvalidation_0-auc:0.77670\tvalidation_0-logloss:0.47520\n",
            "[16]\tvalidation_0-auc:0.77824\tvalidation_0-logloss:0.47358\n",
            "[17]\tvalidation_0-auc:0.77827\tvalidation_0-logloss:0.47159\n",
            "[18]\tvalidation_0-auc:0.77885\tvalidation_0-logloss:0.46960\n",
            "[19]\tvalidation_0-auc:0.77901\tvalidation_0-logloss:0.46775\n",
            "[20]\tvalidation_0-auc:0.77903\tvalidation_0-logloss:0.46598\n",
            "[21]\tvalidation_0-auc:0.77904\tvalidation_0-logloss:0.46431\n",
            "[22]\tvalidation_0-auc:0.77948\tvalidation_0-logloss:0.46306\n",
            "[23]\tvalidation_0-auc:0.77974\tvalidation_0-logloss:0.46147\n",
            "[24]\tvalidation_0-auc:0.77954\tvalidation_0-logloss:0.46002\n"
          ]
        },
        {
          "output_type": "display_data",
          "data": {
            "text/plain": [
              "<IPython.core.display.HTML object>"
            ],
            "text/html": [
              "Waiting for W&B process to finish... <strong style=\"color:green\">(success).</strong>"
            ]
          },
          "metadata": {}
        },
        {
          "output_type": "display_data",
          "data": {
            "text/plain": [
              "VBox(children=(Label(value='0.293 MB of 0.293 MB uploaded (0.000 MB deduped)\\r'), FloatProgress(value=1.0, max…"
            ],
            "application/vnd.jupyter.widget-view+json": {
              "version_major": 2,
              "version_minor": 0,
              "model_id": "58d16c606f964b348bacd40af5013f2f"
            }
          },
          "metadata": {}
        },
        {
          "output_type": "display_data",
          "data": {
            "text/plain": [
              "<IPython.core.display.HTML object>"
            ],
            "text/html": [
              "<style>\n",
              "    table.wandb td:nth-child(1) { padding: 0 10px; text-align: left ; width: auto;} td:nth-child(2) {text-align: left ; width: 100%}\n",
              "    .wandb-row { display: flex; flex-direction: row; flex-wrap: wrap; justify-content: flex-start; width: 100% }\n",
              "    .wandb-col { display: flex; flex-direction: column; flex-basis: 100%; flex: 1; padding: 10px; }\n",
              "    </style>\n",
              "<div class=\"wandb-row\"><div class=\"wandb-col\"><h3>Run history:</h3><br/><table class=\"wandb\"><tr><td>epoch</td><td>▁▁▂▂▂▂▃▃▃▄▄▄▅▅▅▅▆▆▆▇▇▇▇██</td></tr><tr><td>validation_0-auc</td><td>▁▃▃▄▄▄▄▅▆▆▇▇▇▇▇▇█████████</td></tr><tr><td>validation_0-logloss</td><td>█▇▇▇▆▆▅▅▅▄▄▄▃▃▃▃▃▂▂▂▂▁▁▁▁</td></tr></table><br/></div><div class=\"wandb-col\"><h3>Run summary:</h3><br/><table class=\"wandb\"><tr><td>epoch</td><td>24</td></tr></table><br/></div></div>"
            ]
          },
          "metadata": {}
        },
        {
          "output_type": "display_data",
          "data": {
            "text/plain": [
              "<IPython.core.display.HTML object>"
            ],
            "text/html": [
              "Synced <strong style=\"color:#cdcd00\">stilted-sweep-14</strong>: <a href=\"https://wandb.ai/tim-w/xgboost-example/runs/3feokfut\" target=\"_blank\">https://wandb.ai/tim-w/xgboost-example/runs/3feokfut</a><br/>Synced 5 W&B file(s), 1 media file(s), 4 artifact file(s) and 2 other file(s)"
            ]
          },
          "metadata": {}
        },
        {
          "output_type": "display_data",
          "data": {
            "text/plain": [
              "<IPython.core.display.HTML object>"
            ],
            "text/html": [
              "Find logs at: <code>./wandb/run-20220822_152827-3feokfut/logs</code>"
            ]
          },
          "metadata": {}
        },
        {
          "output_type": "stream",
          "name": "stderr",
          "text": [
            "\u001b[34m\u001b[1mwandb\u001b[0m: Agent Starting Run: h9mey4ur with config:\n",
            "\u001b[34m\u001b[1mwandb\u001b[0m: \tcolsample_bytree: 0.8\n",
            "\u001b[34m\u001b[1mwandb\u001b[0m: \tlearning_rate: 0.025\n",
            "\u001b[34m\u001b[1mwandb\u001b[0m: \tmax_depth: 16\n"
          ]
        },
        {
          "output_type": "display_data",
          "data": {
            "text/plain": [
              "<IPython.core.display.HTML object>"
            ],
            "text/html": [
              "Tracking run with wandb version 0.13.1"
            ]
          },
          "metadata": {}
        },
        {
          "output_type": "display_data",
          "data": {
            "text/plain": [
              "<IPython.core.display.HTML object>"
            ],
            "text/html": [
              "Run data is saved locally in <code>/content/wandb/run-20220822_152842-h9mey4ur</code>"
            ]
          },
          "metadata": {}
        },
        {
          "output_type": "display_data",
          "data": {
            "text/plain": [
              "<IPython.core.display.HTML object>"
            ],
            "text/html": [
              "Syncing run <strong><a href=\"https://wandb.ai/tim-w/xgboost-example/runs/h9mey4ur\" target=\"_blank\">deft-sweep-15</a></strong> to <a href=\"https://wandb.ai/tim-w/xgboost-example\" target=\"_blank\">Weights & Biases</a> (<a href=\"https://wandb.me/run\" target=\"_blank\">docs</a>)<br/>Sweep page:  <a href=\"https://wandb.ai/tim-w/xgboost-example/sweeps/9r9ngnv7\" target=\"_blank\">https://wandb.ai/tim-w/xgboost-example/sweeps/9r9ngnv7</a>"
            ]
          },
          "metadata": {}
        },
        {
          "output_type": "stream",
          "name": "stdout",
          "text": [
            "Warning: No categorical columns found. Calling 'transform' will only return input data.\n",
            "[0]\tvalidation_0-auc:0.77050\tvalidation_0-logloss:0.52294\n",
            "[1]\tvalidation_0-auc:0.76776\tvalidation_0-logloss:0.51808\n",
            "[2]\tvalidation_0-auc:0.76886\tvalidation_0-logloss:0.51350\n",
            "[3]\tvalidation_0-auc:0.77475\tvalidation_0-logloss:0.50914\n",
            "[4]\tvalidation_0-auc:0.77502\tvalidation_0-logloss:0.50512\n",
            "[5]\tvalidation_0-auc:0.77582\tvalidation_0-logloss:0.50130\n",
            "[6]\tvalidation_0-auc:0.77698\tvalidation_0-logloss:0.49779\n",
            "[7]\tvalidation_0-auc:0.77764\tvalidation_0-logloss:0.49444\n",
            "[8]\tvalidation_0-auc:0.77932\tvalidation_0-logloss:0.49128\n",
            "[9]\tvalidation_0-auc:0.77918\tvalidation_0-logloss:0.48835\n",
            "[10]\tvalidation_0-auc:0.78069\tvalidation_0-logloss:0.48541\n",
            "[11]\tvalidation_0-auc:0.78104\tvalidation_0-logloss:0.48273\n",
            "[12]\tvalidation_0-auc:0.78113\tvalidation_0-logloss:0.48015\n",
            "[13]\tvalidation_0-auc:0.78192\tvalidation_0-logloss:0.47769\n",
            "[14]\tvalidation_0-auc:0.78247\tvalidation_0-logloss:0.47537\n",
            "[15]\tvalidation_0-auc:0.78351\tvalidation_0-logloss:0.47365\n",
            "[16]\tvalidation_0-auc:0.78406\tvalidation_0-logloss:0.47196\n",
            "[17]\tvalidation_0-auc:0.78435\tvalidation_0-logloss:0.46989\n",
            "[18]\tvalidation_0-auc:0.78465\tvalidation_0-logloss:0.46786\n",
            "[19]\tvalidation_0-auc:0.78404\tvalidation_0-logloss:0.46603\n",
            "[20]\tvalidation_0-auc:0.78412\tvalidation_0-logloss:0.46419\n",
            "[21]\tvalidation_0-auc:0.78413\tvalidation_0-logloss:0.46246\n",
            "[22]\tvalidation_0-auc:0.78475\tvalidation_0-logloss:0.46113\n",
            "[23]\tvalidation_0-auc:0.78506\tvalidation_0-logloss:0.45947\n",
            "[24]\tvalidation_0-auc:0.78495\tvalidation_0-logloss:0.45802\n"
          ]
        },
        {
          "output_type": "display_data",
          "data": {
            "text/plain": [
              "<IPython.core.display.HTML object>"
            ],
            "text/html": [
              "Waiting for W&B process to finish... <strong style=\"color:green\">(success).</strong>"
            ]
          },
          "metadata": {}
        },
        {
          "output_type": "display_data",
          "data": {
            "text/plain": [
              "VBox(children=(Label(value='0.351 MB of 0.351 MB uploaded (0.000 MB deduped)\\r'), FloatProgress(value=1.0, max…"
            ],
            "application/vnd.jupyter.widget-view+json": {
              "version_major": 2,
              "version_minor": 0,
              "model_id": "4add27a2d9854a07ace2b644204635ad"
            }
          },
          "metadata": {}
        },
        {
          "output_type": "display_data",
          "data": {
            "text/plain": [
              "<IPython.core.display.HTML object>"
            ],
            "text/html": [
              "<style>\n",
              "    table.wandb td:nth-child(1) { padding: 0 10px; text-align: left ; width: auto;} td:nth-child(2) {text-align: left ; width: 100%}\n",
              "    .wandb-row { display: flex; flex-direction: row; flex-wrap: wrap; justify-content: flex-start; width: 100% }\n",
              "    .wandb-col { display: flex; flex-direction: column; flex-basis: 100%; flex: 1; padding: 10px; }\n",
              "    </style>\n",
              "<div class=\"wandb-row\"><div class=\"wandb-col\"><h3>Run history:</h3><br/><table class=\"wandb\"><tr><td>epoch</td><td>▁▁▂▂▂▂▃▃▃▄▄▄▅▅▅▅▆▆▆▇▇▇▇██</td></tr><tr><td>validation_0-auc</td><td>▂▁▁▄▄▄▅▅▆▆▆▆▆▇▇▇█████████</td></tr><tr><td>validation_0-logloss</td><td>█▇▇▇▆▆▅▅▅▄▄▄▃▃▃▃▃▂▂▂▂▁▁▁▁</td></tr></table><br/></div><div class=\"wandb-col\"><h3>Run summary:</h3><br/><table class=\"wandb\"><tr><td>epoch</td><td>24</td></tr></table><br/></div></div>"
            ]
          },
          "metadata": {}
        },
        {
          "output_type": "display_data",
          "data": {
            "text/plain": [
              "<IPython.core.display.HTML object>"
            ],
            "text/html": [
              "Synced <strong style=\"color:#cdcd00\">deft-sweep-15</strong>: <a href=\"https://wandb.ai/tim-w/xgboost-example/runs/h9mey4ur\" target=\"_blank\">https://wandb.ai/tim-w/xgboost-example/runs/h9mey4ur</a><br/>Synced 5 W&B file(s), 1 media file(s), 4 artifact file(s) and 2 other file(s)"
            ]
          },
          "metadata": {}
        },
        {
          "output_type": "display_data",
          "data": {
            "text/plain": [
              "<IPython.core.display.HTML object>"
            ],
            "text/html": [
              "Find logs at: <code>./wandb/run-20220822_152842-h9mey4ur/logs</code>"
            ]
          },
          "metadata": {}
        },
        {
          "output_type": "stream",
          "name": "stderr",
          "text": [
            "\u001b[34m\u001b[1mwandb\u001b[0m: Agent Starting Run: q46b8hz2 with config:\n",
            "\u001b[34m\u001b[1mwandb\u001b[0m: \tcolsample_bytree: 0.8\n",
            "\u001b[34m\u001b[1mwandb\u001b[0m: \tlearning_rate: 0.01\n",
            "\u001b[34m\u001b[1mwandb\u001b[0m: \tmax_depth: 2\n"
          ]
        },
        {
          "output_type": "display_data",
          "data": {
            "text/plain": [
              "<IPython.core.display.HTML object>"
            ],
            "text/html": [
              "Tracking run with wandb version 0.13.1"
            ]
          },
          "metadata": {}
        },
        {
          "output_type": "display_data",
          "data": {
            "text/plain": [
              "<IPython.core.display.HTML object>"
            ],
            "text/html": [
              "Run data is saved locally in <code>/content/wandb/run-20220822_152858-q46b8hz2</code>"
            ]
          },
          "metadata": {}
        },
        {
          "output_type": "display_data",
          "data": {
            "text/plain": [
              "<IPython.core.display.HTML object>"
            ],
            "text/html": [
              "Syncing run <strong><a href=\"https://wandb.ai/tim-w/xgboost-example/runs/q46b8hz2\" target=\"_blank\">ethereal-sweep-16</a></strong> to <a href=\"https://wandb.ai/tim-w/xgboost-example\" target=\"_blank\">Weights & Biases</a> (<a href=\"https://wandb.me/run\" target=\"_blank\">docs</a>)<br/>Sweep page:  <a href=\"https://wandb.ai/tim-w/xgboost-example/sweeps/9r9ngnv7\" target=\"_blank\">https://wandb.ai/tim-w/xgboost-example/sweeps/9r9ngnv7</a>"
            ]
          },
          "metadata": {}
        },
        {
          "output_type": "stream",
          "name": "stdout",
          "text": [
            "Warning: No categorical columns found. Calling 'transform' will only return input data.\n",
            "[0]\tvalidation_0-auc:0.70779\tvalidation_0-logloss:0.52637\n",
            "[1]\tvalidation_0-auc:0.70769\tvalidation_0-logloss:0.52449\n",
            "[2]\tvalidation_0-auc:0.70769\tvalidation_0-logloss:0.52267\n",
            "[3]\tvalidation_0-auc:0.70769\tvalidation_0-logloss:0.52090\n",
            "[4]\tvalidation_0-auc:0.70783\tvalidation_0-logloss:0.51918\n",
            "[5]\tvalidation_0-auc:0.70783\tvalidation_0-logloss:0.51751\n",
            "[6]\tvalidation_0-auc:0.70783\tvalidation_0-logloss:0.51589\n",
            "[7]\tvalidation_0-auc:0.70783\tvalidation_0-logloss:0.51432\n",
            "[8]\tvalidation_0-auc:0.70783\tvalidation_0-logloss:0.51279\n",
            "[9]\tvalidation_0-auc:0.70783\tvalidation_0-logloss:0.51130\n",
            "[10]\tvalidation_0-auc:0.72588\tvalidation_0-logloss:0.50987\n",
            "[11]\tvalidation_0-auc:0.72588\tvalidation_0-logloss:0.50849\n",
            "[12]\tvalidation_0-auc:0.72588\tvalidation_0-logloss:0.50711\n",
            "[13]\tvalidation_0-auc:0.75168\tvalidation_0-logloss:0.50572\n",
            "[14]\tvalidation_0-auc:0.75168\tvalidation_0-logloss:0.50437\n",
            "[15]\tvalidation_0-auc:0.75578\tvalidation_0-logloss:0.50344\n",
            "[16]\tvalidation_0-auc:0.76190\tvalidation_0-logloss:0.50252\n",
            "[17]\tvalidation_0-auc:0.76028\tvalidation_0-logloss:0.50123\n",
            "[18]\tvalidation_0-auc:0.76223\tvalidation_0-logloss:0.49998\n",
            "[19]\tvalidation_0-auc:0.76175\tvalidation_0-logloss:0.49876\n",
            "[20]\tvalidation_0-auc:0.76086\tvalidation_0-logloss:0.49757\n",
            "[21]\tvalidation_0-auc:0.76063\tvalidation_0-logloss:0.49640\n",
            "[22]\tvalidation_0-auc:0.76206\tvalidation_0-logloss:0.49558\n",
            "[23]\tvalidation_0-auc:0.76178\tvalidation_0-logloss:0.49445\n",
            "[24]\tvalidation_0-auc:0.76089\tvalidation_0-logloss:0.49336\n"
          ]
        },
        {
          "output_type": "display_data",
          "data": {
            "text/plain": [
              "<IPython.core.display.HTML object>"
            ],
            "text/html": [
              "Waiting for W&B process to finish... <strong style=\"color:green\">(success).</strong>"
            ]
          },
          "metadata": {}
        },
        {
          "output_type": "display_data",
          "data": {
            "text/plain": [
              "VBox(children=(Label(value='0.295 MB of 0.295 MB uploaded (0.000 MB deduped)\\r'), FloatProgress(value=1.0, max…"
            ],
            "application/vnd.jupyter.widget-view+json": {
              "version_major": 2,
              "version_minor": 0,
              "model_id": "47afca3989c8494d84357f604cee38fb"
            }
          },
          "metadata": {}
        },
        {
          "output_type": "display_data",
          "data": {
            "text/plain": [
              "<IPython.core.display.HTML object>"
            ],
            "text/html": [
              "<style>\n",
              "    table.wandb td:nth-child(1) { padding: 0 10px; text-align: left ; width: auto;} td:nth-child(2) {text-align: left ; width: 100%}\n",
              "    .wandb-row { display: flex; flex-direction: row; flex-wrap: wrap; justify-content: flex-start; width: 100% }\n",
              "    .wandb-col { display: flex; flex-direction: column; flex-basis: 100%; flex: 1; padding: 10px; }\n",
              "    </style>\n",
              "<div class=\"wandb-row\"><div class=\"wandb-col\"><h3>Run history:</h3><br/><table class=\"wandb\"><tr><td>epoch</td><td>▁▁▂▂▂▂▃▃▃▄▄▄▅▅▅▅▆▆▆▇▇▇▇██</td></tr><tr><td>validation_0-auc</td><td>▁▁▁▁▁▁▁▁▁▁▃▃▃▇▇▇█████████</td></tr><tr><td>validation_0-logloss</td><td>██▇▇▆▆▆▅▅▅▅▄▄▄▃▃▃▃▂▂▂▂▁▁▁</td></tr></table><br/></div><div class=\"wandb-col\"><h3>Run summary:</h3><br/><table class=\"wandb\"><tr><td>epoch</td><td>24</td></tr></table><br/></div></div>"
            ]
          },
          "metadata": {}
        },
        {
          "output_type": "display_data",
          "data": {
            "text/plain": [
              "<IPython.core.display.HTML object>"
            ],
            "text/html": [
              "Synced <strong style=\"color:#cdcd00\">ethereal-sweep-16</strong>: <a href=\"https://wandb.ai/tim-w/xgboost-example/runs/q46b8hz2\" target=\"_blank\">https://wandb.ai/tim-w/xgboost-example/runs/q46b8hz2</a><br/>Synced 5 W&B file(s), 1 media file(s), 4 artifact file(s) and 2 other file(s)"
            ]
          },
          "metadata": {}
        },
        {
          "output_type": "display_data",
          "data": {
            "text/plain": [
              "<IPython.core.display.HTML object>"
            ],
            "text/html": [
              "Find logs at: <code>./wandb/run-20220822_152858-q46b8hz2/logs</code>"
            ]
          },
          "metadata": {}
        },
        {
          "output_type": "stream",
          "name": "stderr",
          "text": [
            "\u001b[34m\u001b[1mwandb\u001b[0m: Agent Starting Run: y9glzo6t with config:\n",
            "\u001b[34m\u001b[1mwandb\u001b[0m: \tcolsample_bytree: 0.8\n",
            "\u001b[34m\u001b[1mwandb\u001b[0m: \tlearning_rate: 0.01\n",
            "\u001b[34m\u001b[1mwandb\u001b[0m: \tmax_depth: 4\n"
          ]
        },
        {
          "output_type": "display_data",
          "data": {
            "text/plain": [
              "<IPython.core.display.HTML object>"
            ],
            "text/html": [
              "Tracking run with wandb version 0.13.1"
            ]
          },
          "metadata": {}
        },
        {
          "output_type": "display_data",
          "data": {
            "text/plain": [
              "<IPython.core.display.HTML object>"
            ],
            "text/html": [
              "Run data is saved locally in <code>/content/wandb/run-20220822_152913-y9glzo6t</code>"
            ]
          },
          "metadata": {}
        },
        {
          "output_type": "display_data",
          "data": {
            "text/plain": [
              "<IPython.core.display.HTML object>"
            ],
            "text/html": [
              "Syncing run <strong><a href=\"https://wandb.ai/tim-w/xgboost-example/runs/y9glzo6t\" target=\"_blank\">drawn-sweep-17</a></strong> to <a href=\"https://wandb.ai/tim-w/xgboost-example\" target=\"_blank\">Weights & Biases</a> (<a href=\"https://wandb.me/run\" target=\"_blank\">docs</a>)<br/>Sweep page:  <a href=\"https://wandb.ai/tim-w/xgboost-example/sweeps/9r9ngnv7\" target=\"_blank\">https://wandb.ai/tim-w/xgboost-example/sweeps/9r9ngnv7</a>"
            ]
          },
          "metadata": {}
        },
        {
          "output_type": "stream",
          "name": "stdout",
          "text": [
            "Warning: No categorical columns found. Calling 'transform' will only return input data.\n",
            "[0]\tvalidation_0-auc:0.75810\tvalidation_0-logloss:0.52623\n",
            "[1]\tvalidation_0-auc:0.76277\tvalidation_0-logloss:0.52422\n",
            "[2]\tvalidation_0-auc:0.76335\tvalidation_0-logloss:0.52226\n",
            "[3]\tvalidation_0-auc:0.76399\tvalidation_0-logloss:0.52035\n",
            "[4]\tvalidation_0-auc:0.76732\tvalidation_0-logloss:0.51849\n",
            "[5]\tvalidation_0-auc:0.76672\tvalidation_0-logloss:0.51667\n",
            "[6]\tvalidation_0-auc:0.76680\tvalidation_0-logloss:0.51492\n",
            "[7]\tvalidation_0-auc:0.76752\tvalidation_0-logloss:0.51320\n",
            "[8]\tvalidation_0-auc:0.76749\tvalidation_0-logloss:0.51155\n",
            "[9]\tvalidation_0-auc:0.76723\tvalidation_0-logloss:0.50994\n",
            "[10]\tvalidation_0-auc:0.76797\tvalidation_0-logloss:0.50838\n",
            "[11]\tvalidation_0-auc:0.76980\tvalidation_0-logloss:0.50683\n",
            "[12]\tvalidation_0-auc:0.76977\tvalidation_0-logloss:0.50534\n",
            "[13]\tvalidation_0-auc:0.77036\tvalidation_0-logloss:0.50389\n",
            "[14]\tvalidation_0-auc:0.77005\tvalidation_0-logloss:0.50247\n",
            "[15]\tvalidation_0-auc:0.77246\tvalidation_0-logloss:0.50143\n",
            "[16]\tvalidation_0-auc:0.77465\tvalidation_0-logloss:0.50038\n",
            "[17]\tvalidation_0-auc:0.77437\tvalidation_0-logloss:0.49903\n",
            "[18]\tvalidation_0-auc:0.77445\tvalidation_0-logloss:0.49770\n",
            "[19]\tvalidation_0-auc:0.77447\tvalidation_0-logloss:0.49640\n",
            "[20]\tvalidation_0-auc:0.77438\tvalidation_0-logloss:0.49514\n",
            "[21]\tvalidation_0-auc:0.77474\tvalidation_0-logloss:0.49387\n",
            "[22]\tvalidation_0-auc:0.77571\tvalidation_0-logloss:0.49295\n",
            "[23]\tvalidation_0-auc:0.77534\tvalidation_0-logloss:0.49176\n",
            "[24]\tvalidation_0-auc:0.77558\tvalidation_0-logloss:0.49057\n"
          ]
        },
        {
          "output_type": "display_data",
          "data": {
            "text/plain": [
              "<IPython.core.display.HTML object>"
            ],
            "text/html": [
              "Waiting for W&B process to finish... <strong style=\"color:green\">(success).</strong>"
            ]
          },
          "metadata": {}
        },
        {
          "output_type": "display_data",
          "data": {
            "text/plain": [
              "VBox(children=(Label(value='0.324 MB of 0.324 MB uploaded (0.000 MB deduped)\\r'), FloatProgress(value=1.0, max…"
            ],
            "application/vnd.jupyter.widget-view+json": {
              "version_major": 2,
              "version_minor": 0,
              "model_id": "001196aa3ea44fd1a7d14408a43baccb"
            }
          },
          "metadata": {}
        },
        {
          "output_type": "display_data",
          "data": {
            "text/plain": [
              "<IPython.core.display.HTML object>"
            ],
            "text/html": [
              "<style>\n",
              "    table.wandb td:nth-child(1) { padding: 0 10px; text-align: left ; width: auto;} td:nth-child(2) {text-align: left ; width: 100%}\n",
              "    .wandb-row { display: flex; flex-direction: row; flex-wrap: wrap; justify-content: flex-start; width: 100% }\n",
              "    .wandb-col { display: flex; flex-direction: column; flex-basis: 100%; flex: 1; padding: 10px; }\n",
              "    </style>\n",
              "<div class=\"wandb-row\"><div class=\"wandb-col\"><h3>Run history:</h3><br/><table class=\"wandb\"><tr><td>epoch</td><td>▁▁▂▂▂▂▃▃▃▄▄▄▅▅▅▅▆▆▆▇▇▇▇██</td></tr><tr><td>validation_0-auc</td><td>▁▃▃▃▅▄▄▅▅▅▅▆▆▆▆▇█▇▇█▇████</td></tr><tr><td>validation_0-logloss</td><td>██▇▇▆▆▆▅▅▅▄▄▄▄▃▃▃▃▂▂▂▂▁▁▁</td></tr></table><br/></div><div class=\"wandb-col\"><h3>Run summary:</h3><br/><table class=\"wandb\"><tr><td>epoch</td><td>24</td></tr></table><br/></div></div>"
            ]
          },
          "metadata": {}
        },
        {
          "output_type": "display_data",
          "data": {
            "text/plain": [
              "<IPython.core.display.HTML object>"
            ],
            "text/html": [
              "Synced <strong style=\"color:#cdcd00\">drawn-sweep-17</strong>: <a href=\"https://wandb.ai/tim-w/xgboost-example/runs/y9glzo6t\" target=\"_blank\">https://wandb.ai/tim-w/xgboost-example/runs/y9glzo6t</a><br/>Synced 5 W&B file(s), 1 media file(s), 4 artifact file(s) and 2 other file(s)"
            ]
          },
          "metadata": {}
        },
        {
          "output_type": "display_data",
          "data": {
            "text/plain": [
              "<IPython.core.display.HTML object>"
            ],
            "text/html": [
              "Find logs at: <code>./wandb/run-20220822_152913-y9glzo6t/logs</code>"
            ]
          },
          "metadata": {}
        },
        {
          "output_type": "stream",
          "name": "stderr",
          "text": [
            "\u001b[34m\u001b[1mwandb\u001b[0m: Agent Starting Run: 3cn66auv with config:\n",
            "\u001b[34m\u001b[1mwandb\u001b[0m: \tcolsample_bytree: 0.8\n",
            "\u001b[34m\u001b[1mwandb\u001b[0m: \tlearning_rate: 0.01\n",
            "\u001b[34m\u001b[1mwandb\u001b[0m: \tmax_depth: 16\n"
          ]
        },
        {
          "output_type": "display_data",
          "data": {
            "text/plain": [
              "<IPython.core.display.HTML object>"
            ],
            "text/html": [
              "Tracking run with wandb version 0.13.1"
            ]
          },
          "metadata": {}
        },
        {
          "output_type": "display_data",
          "data": {
            "text/plain": [
              "<IPython.core.display.HTML object>"
            ],
            "text/html": [
              "Run data is saved locally in <code>/content/wandb/run-20220822_152928-3cn66auv</code>"
            ]
          },
          "metadata": {}
        },
        {
          "output_type": "display_data",
          "data": {
            "text/plain": [
              "<IPython.core.display.HTML object>"
            ],
            "text/html": [
              "Syncing run <strong><a href=\"https://wandb.ai/tim-w/xgboost-example/runs/3cn66auv\" target=\"_blank\">solar-sweep-18</a></strong> to <a href=\"https://wandb.ai/tim-w/xgboost-example\" target=\"_blank\">Weights & Biases</a> (<a href=\"https://wandb.me/run\" target=\"_blank\">docs</a>)<br/>Sweep page:  <a href=\"https://wandb.ai/tim-w/xgboost-example/sweeps/9r9ngnv7\" target=\"_blank\">https://wandb.ai/tim-w/xgboost-example/sweeps/9r9ngnv7</a>"
            ]
          },
          "metadata": {}
        },
        {
          "output_type": "stream",
          "name": "stdout",
          "text": [
            "Warning: No categorical columns found. Calling 'transform' will only return input data.\n",
            "[0]\tvalidation_0-auc:0.77050\tvalidation_0-logloss:0.52615\n",
            "[1]\tvalidation_0-auc:0.76775\tvalidation_0-logloss:0.52409\n",
            "[2]\tvalidation_0-auc:0.76876\tvalidation_0-logloss:0.52208\n",
            "[3]\tvalidation_0-auc:0.77325\tvalidation_0-logloss:0.52010\n",
            "[4]\tvalidation_0-auc:0.77422\tvalidation_0-logloss:0.51819\n",
            "[5]\tvalidation_0-auc:0.77439\tvalidation_0-logloss:0.51633\n",
            "[6]\tvalidation_0-auc:0.77611\tvalidation_0-logloss:0.51452\n",
            "[7]\tvalidation_0-auc:0.77619\tvalidation_0-logloss:0.51277\n",
            "[8]\tvalidation_0-auc:0.77688\tvalidation_0-logloss:0.51107\n",
            "[9]\tvalidation_0-auc:0.77610\tvalidation_0-logloss:0.50940\n",
            "[10]\tvalidation_0-auc:0.77678\tvalidation_0-logloss:0.50778\n",
            "[11]\tvalidation_0-auc:0.77786\tvalidation_0-logloss:0.50621\n",
            "[12]\tvalidation_0-auc:0.77843\tvalidation_0-logloss:0.50463\n",
            "[13]\tvalidation_0-auc:0.77869\tvalidation_0-logloss:0.50312\n",
            "[14]\tvalidation_0-auc:0.77914\tvalidation_0-logloss:0.50165\n",
            "[15]\tvalidation_0-auc:0.78052\tvalidation_0-logloss:0.50057\n",
            "[16]\tvalidation_0-auc:0.78170\tvalidation_0-logloss:0.49945\n",
            "[17]\tvalidation_0-auc:0.78154\tvalidation_0-logloss:0.49806\n",
            "[18]\tvalidation_0-auc:0.78131\tvalidation_0-logloss:0.49669\n",
            "[19]\tvalidation_0-auc:0.78130\tvalidation_0-logloss:0.49535\n",
            "[20]\tvalidation_0-auc:0.78109\tvalidation_0-logloss:0.49406\n",
            "[21]\tvalidation_0-auc:0.78110\tvalidation_0-logloss:0.49278\n",
            "[22]\tvalidation_0-auc:0.78173\tvalidation_0-logloss:0.49181\n",
            "[23]\tvalidation_0-auc:0.78180\tvalidation_0-logloss:0.49058\n",
            "[24]\tvalidation_0-auc:0.78223\tvalidation_0-logloss:0.48936\n"
          ]
        },
        {
          "output_type": "display_data",
          "data": {
            "text/plain": [
              "<IPython.core.display.HTML object>"
            ],
            "text/html": [
              "Waiting for W&B process to finish... <strong style=\"color:green\">(success).</strong>"
            ]
          },
          "metadata": {}
        },
        {
          "output_type": "display_data",
          "data": {
            "text/plain": [
              "VBox(children=(Label(value='0.389 MB of 0.389 MB uploaded (0.000 MB deduped)\\r'), FloatProgress(value=1.0, max…"
            ],
            "application/vnd.jupyter.widget-view+json": {
              "version_major": 2,
              "version_minor": 0,
              "model_id": "9bac331156d74c529fe109cf4654e500"
            }
          },
          "metadata": {}
        },
        {
          "output_type": "display_data",
          "data": {
            "text/plain": [
              "<IPython.core.display.HTML object>"
            ],
            "text/html": [
              "<style>\n",
              "    table.wandb td:nth-child(1) { padding: 0 10px; text-align: left ; width: auto;} td:nth-child(2) {text-align: left ; width: 100%}\n",
              "    .wandb-row { display: flex; flex-direction: row; flex-wrap: wrap; justify-content: flex-start; width: 100% }\n",
              "    .wandb-col { display: flex; flex-direction: column; flex-basis: 100%; flex: 1; padding: 10px; }\n",
              "    </style>\n",
              "<div class=\"wandb-row\"><div class=\"wandb-col\"><h3>Run history:</h3><br/><table class=\"wandb\"><tr><td>epoch</td><td>▁▁▂▂▂▂▃▃▃▄▄▄▅▅▅▅▆▆▆▇▇▇▇██</td></tr><tr><td>validation_0-auc</td><td>▂▁▁▄▄▄▅▅▅▅▅▆▆▆▇▇████▇▇███</td></tr><tr><td>validation_0-logloss</td><td>██▇▇▆▆▆▅▅▅▅▄▄▄▃▃▃▃▂▂▂▂▁▁▁</td></tr></table><br/></div><div class=\"wandb-col\"><h3>Run summary:</h3><br/><table class=\"wandb\"><tr><td>epoch</td><td>24</td></tr></table><br/></div></div>"
            ]
          },
          "metadata": {}
        },
        {
          "output_type": "display_data",
          "data": {
            "text/plain": [
              "<IPython.core.display.HTML object>"
            ],
            "text/html": [
              "Synced <strong style=\"color:#cdcd00\">solar-sweep-18</strong>: <a href=\"https://wandb.ai/tim-w/xgboost-example/runs/3cn66auv\" target=\"_blank\">https://wandb.ai/tim-w/xgboost-example/runs/3cn66auv</a><br/>Synced 5 W&B file(s), 1 media file(s), 4 artifact file(s) and 2 other file(s)"
            ]
          },
          "metadata": {}
        },
        {
          "output_type": "display_data",
          "data": {
            "text/plain": [
              "<IPython.core.display.HTML object>"
            ],
            "text/html": [
              "Find logs at: <code>./wandb/run-20220822_152928-3cn66auv/logs</code>"
            ]
          },
          "metadata": {}
        },
        {
          "output_type": "stream",
          "name": "stderr",
          "text": [
            "\u001b[34m\u001b[1mwandb\u001b[0m: Agent Starting Run: icdnf6ww with config:\n",
            "\u001b[34m\u001b[1mwandb\u001b[0m: \tcolsample_bytree: 1\n",
            "\u001b[34m\u001b[1mwandb\u001b[0m: \tlearning_rate: 0.05\n",
            "\u001b[34m\u001b[1mwandb\u001b[0m: \tmax_depth: 2\n"
          ]
        },
        {
          "output_type": "display_data",
          "data": {
            "text/plain": [
              "<IPython.core.display.HTML object>"
            ],
            "text/html": [
              "Tracking run with wandb version 0.13.1"
            ]
          },
          "metadata": {}
        },
        {
          "output_type": "display_data",
          "data": {
            "text/plain": [
              "<IPython.core.display.HTML object>"
            ],
            "text/html": [
              "Run data is saved locally in <code>/content/wandb/run-20220822_152944-icdnf6ww</code>"
            ]
          },
          "metadata": {}
        },
        {
          "output_type": "display_data",
          "data": {
            "text/plain": [
              "<IPython.core.display.HTML object>"
            ],
            "text/html": [
              "Syncing run <strong><a href=\"https://wandb.ai/tim-w/xgboost-example/runs/icdnf6ww\" target=\"_blank\">mild-sweep-19</a></strong> to <a href=\"https://wandb.ai/tim-w/xgboost-example\" target=\"_blank\">Weights & Biases</a> (<a href=\"https://wandb.me/run\" target=\"_blank\">docs</a>)<br/>Sweep page:  <a href=\"https://wandb.ai/tim-w/xgboost-example/sweeps/9r9ngnv7\" target=\"_blank\">https://wandb.ai/tim-w/xgboost-example/sweeps/9r9ngnv7</a>"
            ]
          },
          "metadata": {}
        },
        {
          "output_type": "stream",
          "name": "stdout",
          "text": [
            "Warning: No categorical columns found. Calling 'transform' will only return input data.\n",
            "[0]\tvalidation_0-auc:0.70739\tvalidation_0-logloss:0.51880\n",
            "[1]\tvalidation_0-auc:0.70739\tvalidation_0-logloss:0.51068\n",
            "[2]\tvalidation_0-auc:0.70739\tvalidation_0-logloss:0.50367\n",
            "[3]\tvalidation_0-auc:0.75123\tvalidation_0-logloss:0.49727\n",
            "[4]\tvalidation_0-auc:0.75123\tvalidation_0-logloss:0.49162\n",
            "[5]\tvalidation_0-auc:0.75544\tvalidation_0-logloss:0.48655\n",
            "[6]\tvalidation_0-auc:0.75736\tvalidation_0-logloss:0.48213\n",
            "[7]\tvalidation_0-auc:0.75702\tvalidation_0-logloss:0.47809\n",
            "[8]\tvalidation_0-auc:0.76064\tvalidation_0-logloss:0.47447\n",
            "[9]\tvalidation_0-auc:0.76106\tvalidation_0-logloss:0.47124\n",
            "[10]\tvalidation_0-auc:0.76147\tvalidation_0-logloss:0.46826\n",
            "[11]\tvalidation_0-auc:0.76110\tvalidation_0-logloss:0.46550\n",
            "[12]\tvalidation_0-auc:0.76168\tvalidation_0-logloss:0.46296\n",
            "[13]\tvalidation_0-auc:0.76522\tvalidation_0-logloss:0.46075\n",
            "[14]\tvalidation_0-auc:0.76458\tvalidation_0-logloss:0.45873\n",
            "[15]\tvalidation_0-auc:0.76707\tvalidation_0-logloss:0.45675\n",
            "[16]\tvalidation_0-auc:0.76669\tvalidation_0-logloss:0.45496\n",
            "[17]\tvalidation_0-auc:0.76770\tvalidation_0-logloss:0.45343\n",
            "[18]\tvalidation_0-auc:0.76983\tvalidation_0-logloss:0.45193\n",
            "[19]\tvalidation_0-auc:0.77010\tvalidation_0-logloss:0.45045\n",
            "[20]\tvalidation_0-auc:0.77026\tvalidation_0-logloss:0.44916\n",
            "[21]\tvalidation_0-auc:0.77009\tvalidation_0-logloss:0.44800\n",
            "[22]\tvalidation_0-auc:0.77063\tvalidation_0-logloss:0.44679\n",
            "[23]\tvalidation_0-auc:0.77019\tvalidation_0-logloss:0.44576\n",
            "[24]\tvalidation_0-auc:0.77177\tvalidation_0-logloss:0.44484\n"
          ]
        },
        {
          "output_type": "display_data",
          "data": {
            "text/plain": [
              "<IPython.core.display.HTML object>"
            ],
            "text/html": [
              "Waiting for W&B process to finish... <strong style=\"color:green\">(success).</strong>"
            ]
          },
          "metadata": {}
        },
        {
          "output_type": "display_data",
          "data": {
            "text/plain": [
              "VBox(children=(Label(value='0.331 MB of 0.331 MB uploaded (0.000 MB deduped)\\r'), FloatProgress(value=1.0, max…"
            ],
            "application/vnd.jupyter.widget-view+json": {
              "version_major": 2,
              "version_minor": 0,
              "model_id": "768c7902fceb4176af44eab10b96143f"
            }
          },
          "metadata": {}
        },
        {
          "output_type": "display_data",
          "data": {
            "text/plain": [
              "<IPython.core.display.HTML object>"
            ],
            "text/html": [
              "<style>\n",
              "    table.wandb td:nth-child(1) { padding: 0 10px; text-align: left ; width: auto;} td:nth-child(2) {text-align: left ; width: 100%}\n",
              "    .wandb-row { display: flex; flex-direction: row; flex-wrap: wrap; justify-content: flex-start; width: 100% }\n",
              "    .wandb-col { display: flex; flex-direction: column; flex-basis: 100%; flex: 1; padding: 10px; }\n",
              "    </style>\n",
              "<div class=\"wandb-row\"><div class=\"wandb-col\"><h3>Run history:</h3><br/><table class=\"wandb\"><tr><td>epoch</td><td>▁▁▂▂▂▂▃▃▃▄▄▄▅▅▅▅▆▆▆▇▇▇▇██</td></tr><tr><td>validation_0-auc</td><td>▁▁▁▆▆▆▆▆▇▇▇▇▇▇▇▇▇████████</td></tr><tr><td>validation_0-logloss</td><td>█▇▇▆▅▅▅▄▄▃▃▃▃▃▂▂▂▂▂▂▁▁▁▁▁</td></tr></table><br/></div><div class=\"wandb-col\"><h3>Run summary:</h3><br/><table class=\"wandb\"><tr><td>epoch</td><td>24</td></tr></table><br/></div></div>"
            ]
          },
          "metadata": {}
        },
        {
          "output_type": "display_data",
          "data": {
            "text/plain": [
              "<IPython.core.display.HTML object>"
            ],
            "text/html": [
              "Synced <strong style=\"color:#cdcd00\">mild-sweep-19</strong>: <a href=\"https://wandb.ai/tim-w/xgboost-example/runs/icdnf6ww\" target=\"_blank\">https://wandb.ai/tim-w/xgboost-example/runs/icdnf6ww</a><br/>Synced 5 W&B file(s), 1 media file(s), 4 artifact file(s) and 2 other file(s)"
            ]
          },
          "metadata": {}
        },
        {
          "output_type": "display_data",
          "data": {
            "text/plain": [
              "<IPython.core.display.HTML object>"
            ],
            "text/html": [
              "Find logs at: <code>./wandb/run-20220822_152944-icdnf6ww/logs</code>"
            ]
          },
          "metadata": {}
        },
        {
          "output_type": "stream",
          "name": "stderr",
          "text": [
            "\u001b[34m\u001b[1mwandb\u001b[0m: Agent Starting Run: 5bhhf22d with config:\n",
            "\u001b[34m\u001b[1mwandb\u001b[0m: \tcolsample_bytree: 1\n",
            "\u001b[34m\u001b[1mwandb\u001b[0m: \tlearning_rate: 0.05\n",
            "\u001b[34m\u001b[1mwandb\u001b[0m: \tmax_depth: 4\n"
          ]
        },
        {
          "output_type": "display_data",
          "data": {
            "text/plain": [
              "<IPython.core.display.HTML object>"
            ],
            "text/html": [
              "Tracking run with wandb version 0.13.1"
            ]
          },
          "metadata": {}
        },
        {
          "output_type": "display_data",
          "data": {
            "text/plain": [
              "<IPython.core.display.HTML object>"
            ],
            "text/html": [
              "Run data is saved locally in <code>/content/wandb/run-20220822_152959-5bhhf22d</code>"
            ]
          },
          "metadata": {}
        },
        {
          "output_type": "display_data",
          "data": {
            "text/plain": [
              "<IPython.core.display.HTML object>"
            ],
            "text/html": [
              "Syncing run <strong><a href=\"https://wandb.ai/tim-w/xgboost-example/runs/5bhhf22d\" target=\"_blank\">worthy-sweep-20</a></strong> to <a href=\"https://wandb.ai/tim-w/xgboost-example\" target=\"_blank\">Weights & Biases</a> (<a href=\"https://wandb.me/run\" target=\"_blank\">docs</a>)<br/>Sweep page:  <a href=\"https://wandb.ai/tim-w/xgboost-example/sweeps/9r9ngnv7\" target=\"_blank\">https://wandb.ai/tim-w/xgboost-example/sweeps/9r9ngnv7</a>"
            ]
          },
          "metadata": {}
        },
        {
          "output_type": "stream",
          "name": "stdout",
          "text": [
            "Warning: No categorical columns found. Calling 'transform' will only return input data.\n",
            "[0]\tvalidation_0-auc:0.75751\tvalidation_0-logloss:0.51810\n",
            "[1]\tvalidation_0-auc:0.76437\tvalidation_0-logloss:0.50927\n",
            "[2]\tvalidation_0-auc:0.76604\tvalidation_0-logloss:0.50166\n",
            "[3]\tvalidation_0-auc:0.76855\tvalidation_0-logloss:0.49490\n",
            "[4]\tvalidation_0-auc:0.77332\tvalidation_0-logloss:0.48873\n",
            "[5]\tvalidation_0-auc:0.77489\tvalidation_0-logloss:0.48322\n",
            "[6]\tvalidation_0-auc:0.77650\tvalidation_0-logloss:0.47830\n",
            "[7]\tvalidation_0-auc:0.77689\tvalidation_0-logloss:0.47386\n",
            "[8]\tvalidation_0-auc:0.77709\tvalidation_0-logloss:0.46983\n",
            "[9]\tvalidation_0-auc:0.77771\tvalidation_0-logloss:0.46611\n",
            "[10]\tvalidation_0-auc:0.77772\tvalidation_0-logloss:0.46280\n",
            "[11]\tvalidation_0-auc:0.77752\tvalidation_0-logloss:0.45972\n",
            "[12]\tvalidation_0-auc:0.77753\tvalidation_0-logloss:0.45700\n",
            "[13]\tvalidation_0-auc:0.77902\tvalidation_0-logloss:0.45439\n",
            "[14]\tvalidation_0-auc:0.77898\tvalidation_0-logloss:0.45201\n",
            "[15]\tvalidation_0-auc:0.77918\tvalidation_0-logloss:0.44985\n",
            "[16]\tvalidation_0-auc:0.77979\tvalidation_0-logloss:0.44784\n",
            "[17]\tvalidation_0-auc:0.78116\tvalidation_0-logloss:0.44605\n",
            "[18]\tvalidation_0-auc:0.78149\tvalidation_0-logloss:0.44433\n",
            "[19]\tvalidation_0-auc:0.78193\tvalidation_0-logloss:0.44279\n",
            "[20]\tvalidation_0-auc:0.78196\tvalidation_0-logloss:0.44139\n",
            "[21]\tvalidation_0-auc:0.78260\tvalidation_0-logloss:0.44005\n",
            "[22]\tvalidation_0-auc:0.78263\tvalidation_0-logloss:0.43888\n",
            "[23]\tvalidation_0-auc:0.78265\tvalidation_0-logloss:0.43781\n",
            "[24]\tvalidation_0-auc:0.78242\tvalidation_0-logloss:0.43680\n"
          ]
        },
        {
          "output_type": "display_data",
          "data": {
            "text/plain": [
              "<IPython.core.display.HTML object>"
            ],
            "text/html": [
              "Waiting for W&B process to finish... <strong style=\"color:green\">(success).</strong>"
            ]
          },
          "metadata": {}
        },
        {
          "output_type": "display_data",
          "data": {
            "text/plain": [
              "VBox(children=(Label(value='0.364 MB of 0.364 MB uploaded (0.000 MB deduped)\\r'), FloatProgress(value=1.0, max…"
            ],
            "application/vnd.jupyter.widget-view+json": {
              "version_major": 2,
              "version_minor": 0,
              "model_id": "54a6169ab59c48d4bf5b3d3512fafbea"
            }
          },
          "metadata": {}
        },
        {
          "output_type": "display_data",
          "data": {
            "text/plain": [
              "<IPython.core.display.HTML object>"
            ],
            "text/html": [
              "<style>\n",
              "    table.wandb td:nth-child(1) { padding: 0 10px; text-align: left ; width: auto;} td:nth-child(2) {text-align: left ; width: 100%}\n",
              "    .wandb-row { display: flex; flex-direction: row; flex-wrap: wrap; justify-content: flex-start; width: 100% }\n",
              "    .wandb-col { display: flex; flex-direction: column; flex-basis: 100%; flex: 1; padding: 10px; }\n",
              "    </style>\n",
              "<div class=\"wandb-row\"><div class=\"wandb-col\"><h3>Run history:</h3><br/><table class=\"wandb\"><tr><td>epoch</td><td>▁▁▂▂▂▂▃▃▃▄▄▄▅▅▅▅▆▆▆▇▇▇▇██</td></tr><tr><td>validation_0-auc</td><td>▁▃▃▄▅▆▆▆▆▇▇▇▇▇▇▇▇████████</td></tr><tr><td>validation_0-logloss</td><td>█▇▇▆▅▅▅▄▄▄▃▃▃▃▂▂▂▂▂▂▁▁▁▁▁</td></tr></table><br/></div><div class=\"wandb-col\"><h3>Run summary:</h3><br/><table class=\"wandb\"><tr><td>epoch</td><td>24</td></tr></table><br/></div></div>"
            ]
          },
          "metadata": {}
        },
        {
          "output_type": "display_data",
          "data": {
            "text/plain": [
              "<IPython.core.display.HTML object>"
            ],
            "text/html": [
              "Synced <strong style=\"color:#cdcd00\">worthy-sweep-20</strong>: <a href=\"https://wandb.ai/tim-w/xgboost-example/runs/5bhhf22d\" target=\"_blank\">https://wandb.ai/tim-w/xgboost-example/runs/5bhhf22d</a><br/>Synced 5 W&B file(s), 1 media file(s), 4 artifact file(s) and 2 other file(s)"
            ]
          },
          "metadata": {}
        },
        {
          "output_type": "display_data",
          "data": {
            "text/plain": [
              "<IPython.core.display.HTML object>"
            ],
            "text/html": [
              "Find logs at: <code>./wandb/run-20220822_152959-5bhhf22d/logs</code>"
            ]
          },
          "metadata": {}
        },
        {
          "output_type": "stream",
          "name": "stderr",
          "text": [
            "\u001b[34m\u001b[1mwandb\u001b[0m: Agent Starting Run: 2jwxv0c5 with config:\n",
            "\u001b[34m\u001b[1mwandb\u001b[0m: \tcolsample_bytree: 1\n",
            "\u001b[34m\u001b[1mwandb\u001b[0m: \tlearning_rate: 0.05\n",
            "\u001b[34m\u001b[1mwandb\u001b[0m: \tmax_depth: 16\n"
          ]
        },
        {
          "output_type": "display_data",
          "data": {
            "text/plain": [
              "<IPython.core.display.HTML object>"
            ],
            "text/html": [
              "Tracking run with wandb version 0.13.1"
            ]
          },
          "metadata": {}
        },
        {
          "output_type": "display_data",
          "data": {
            "text/plain": [
              "<IPython.core.display.HTML object>"
            ],
            "text/html": [
              "Run data is saved locally in <code>/content/wandb/run-20220822_153014-2jwxv0c5</code>"
            ]
          },
          "metadata": {}
        },
        {
          "output_type": "display_data",
          "data": {
            "text/plain": [
              "<IPython.core.display.HTML object>"
            ],
            "text/html": [
              "Syncing run <strong><a href=\"https://wandb.ai/tim-w/xgboost-example/runs/2jwxv0c5\" target=\"_blank\">vocal-sweep-21</a></strong> to <a href=\"https://wandb.ai/tim-w/xgboost-example\" target=\"_blank\">Weights & Biases</a> (<a href=\"https://wandb.me/run\" target=\"_blank\">docs</a>)<br/>Sweep page:  <a href=\"https://wandb.ai/tim-w/xgboost-example/sweeps/9r9ngnv7\" target=\"_blank\">https://wandb.ai/tim-w/xgboost-example/sweeps/9r9ngnv7</a>"
            ]
          },
          "metadata": {}
        },
        {
          "output_type": "stream",
          "name": "stdout",
          "text": [
            "Warning: No categorical columns found. Calling 'transform' will only return input data.\n",
            "[0]\tvalidation_0-auc:0.76429\tvalidation_0-logloss:0.51782\n",
            "[1]\tvalidation_0-auc:0.76865\tvalidation_0-logloss:0.50877\n",
            "[2]\tvalidation_0-auc:0.76882\tvalidation_0-logloss:0.50098\n",
            "[3]\tvalidation_0-auc:0.77172\tvalidation_0-logloss:0.49396\n",
            "[4]\tvalidation_0-auc:0.77337\tvalidation_0-logloss:0.48778\n",
            "[5]\tvalidation_0-auc:0.77667\tvalidation_0-logloss:0.48206\n",
            "[6]\tvalidation_0-auc:0.77627\tvalidation_0-logloss:0.47714\n",
            "[7]\tvalidation_0-auc:0.77816\tvalidation_0-logloss:0.47248\n",
            "[8]\tvalidation_0-auc:0.77810\tvalidation_0-logloss:0.46843\n",
            "[9]\tvalidation_0-auc:0.77884\tvalidation_0-logloss:0.46469\n",
            "[10]\tvalidation_0-auc:0.77831\tvalidation_0-logloss:0.46141\n",
            "[11]\tvalidation_0-auc:0.77873\tvalidation_0-logloss:0.45832\n",
            "[12]\tvalidation_0-auc:0.77936\tvalidation_0-logloss:0.45544\n",
            "[13]\tvalidation_0-auc:0.77894\tvalidation_0-logloss:0.45299\n",
            "[14]\tvalidation_0-auc:0.77935\tvalidation_0-logloss:0.45064\n",
            "[15]\tvalidation_0-auc:0.77910\tvalidation_0-logloss:0.44857\n",
            "[16]\tvalidation_0-auc:0.78031\tvalidation_0-logloss:0.44644\n",
            "[17]\tvalidation_0-auc:0.78051\tvalidation_0-logloss:0.44455\n",
            "[18]\tvalidation_0-auc:0.78027\tvalidation_0-logloss:0.44292\n",
            "[19]\tvalidation_0-auc:0.78082\tvalidation_0-logloss:0.44129\n",
            "[20]\tvalidation_0-auc:0.78111\tvalidation_0-logloss:0.43981\n",
            "[21]\tvalidation_0-auc:0.78143\tvalidation_0-logloss:0.43844\n",
            "[22]\tvalidation_0-auc:0.78213\tvalidation_0-logloss:0.43714\n",
            "[23]\tvalidation_0-auc:0.78205\tvalidation_0-logloss:0.43612\n",
            "[24]\tvalidation_0-auc:0.78206\tvalidation_0-logloss:0.43511\n"
          ]
        },
        {
          "output_type": "display_data",
          "data": {
            "text/plain": [
              "<IPython.core.display.HTML object>"
            ],
            "text/html": [
              "Waiting for W&B process to finish... <strong style=\"color:green\">(success).</strong>"
            ]
          },
          "metadata": {}
        },
        {
          "output_type": "display_data",
          "data": {
            "text/plain": [
              "VBox(children=(Label(value='0.422 MB of 0.422 MB uploaded (0.000 MB deduped)\\r'), FloatProgress(value=1.0, max…"
            ],
            "application/vnd.jupyter.widget-view+json": {
              "version_major": 2,
              "version_minor": 0,
              "model_id": "6c39fc2364bc42bca7f945c5f32f0cfd"
            }
          },
          "metadata": {}
        },
        {
          "output_type": "display_data",
          "data": {
            "text/plain": [
              "<IPython.core.display.HTML object>"
            ],
            "text/html": [
              "<style>\n",
              "    table.wandb td:nth-child(1) { padding: 0 10px; text-align: left ; width: auto;} td:nth-child(2) {text-align: left ; width: 100%}\n",
              "    .wandb-row { display: flex; flex-direction: row; flex-wrap: wrap; justify-content: flex-start; width: 100% }\n",
              "    .wandb-col { display: flex; flex-direction: column; flex-basis: 100%; flex: 1; padding: 10px; }\n",
              "    </style>\n",
              "<div class=\"wandb-row\"><div class=\"wandb-col\"><h3>Run history:</h3><br/><table class=\"wandb\"><tr><td>epoch</td><td>▁▁▂▂▂▂▃▃▃▄▄▄▅▅▅▅▆▆▆▇▇▇▇██</td></tr><tr><td>validation_0-auc</td><td>▁▃▃▄▅▆▆▆▆▇▇▇▇▇▇▇▇▇▇▇█████</td></tr><tr><td>validation_0-logloss</td><td>█▇▇▆▅▅▅▄▄▄▃▃▃▃▂▂▂▂▂▂▁▁▁▁▁</td></tr></table><br/></div><div class=\"wandb-col\"><h3>Run summary:</h3><br/><table class=\"wandb\"><tr><td>epoch</td><td>24</td></tr></table><br/></div></div>"
            ]
          },
          "metadata": {}
        },
        {
          "output_type": "display_data",
          "data": {
            "text/plain": [
              "<IPython.core.display.HTML object>"
            ],
            "text/html": [
              "Synced <strong style=\"color:#cdcd00\">vocal-sweep-21</strong>: <a href=\"https://wandb.ai/tim-w/xgboost-example/runs/2jwxv0c5\" target=\"_blank\">https://wandb.ai/tim-w/xgboost-example/runs/2jwxv0c5</a><br/>Synced 5 W&B file(s), 1 media file(s), 4 artifact file(s) and 2 other file(s)"
            ]
          },
          "metadata": {}
        },
        {
          "output_type": "display_data",
          "data": {
            "text/plain": [
              "<IPython.core.display.HTML object>"
            ],
            "text/html": [
              "Find logs at: <code>./wandb/run-20220822_153014-2jwxv0c5/logs</code>"
            ]
          },
          "metadata": {}
        },
        {
          "output_type": "stream",
          "name": "stderr",
          "text": [
            "\u001b[34m\u001b[1mwandb\u001b[0m: Agent Starting Run: 93i1aymt with config:\n",
            "\u001b[34m\u001b[1mwandb\u001b[0m: \tcolsample_bytree: 1\n",
            "\u001b[34m\u001b[1mwandb\u001b[0m: \tlearning_rate: 0.025\n",
            "\u001b[34m\u001b[1mwandb\u001b[0m: \tmax_depth: 2\n"
          ]
        },
        {
          "output_type": "display_data",
          "data": {
            "text/plain": [
              "<IPython.core.display.HTML object>"
            ],
            "text/html": [
              "Tracking run with wandb version 0.13.1"
            ]
          },
          "metadata": {}
        },
        {
          "output_type": "display_data",
          "data": {
            "text/plain": [
              "<IPython.core.display.HTML object>"
            ],
            "text/html": [
              "Run data is saved locally in <code>/content/wandb/run-20220822_153030-93i1aymt</code>"
            ]
          },
          "metadata": {}
        },
        {
          "output_type": "display_data",
          "data": {
            "text/plain": [
              "<IPython.core.display.HTML object>"
            ],
            "text/html": [
              "Syncing run <strong><a href=\"https://wandb.ai/tim-w/xgboost-example/runs/93i1aymt\" target=\"_blank\">earthy-sweep-22</a></strong> to <a href=\"https://wandb.ai/tim-w/xgboost-example\" target=\"_blank\">Weights & Biases</a> (<a href=\"https://wandb.me/run\" target=\"_blank\">docs</a>)<br/>Sweep page:  <a href=\"https://wandb.ai/tim-w/xgboost-example/sweeps/9r9ngnv7\" target=\"_blank\">https://wandb.ai/tim-w/xgboost-example/sweeps/9r9ngnv7</a>"
            ]
          },
          "metadata": {}
        },
        {
          "output_type": "stream",
          "name": "stdout",
          "text": [
            "Warning: No categorical columns found. Calling 'transform' will only return input data.\n",
            "[0]\tvalidation_0-auc:0.70739\tvalidation_0-logloss:0.52349\n",
            "[1]\tvalidation_0-auc:0.70739\tvalidation_0-logloss:0.51904\n",
            "[2]\tvalidation_0-auc:0.70739\tvalidation_0-logloss:0.51492\n",
            "[3]\tvalidation_0-auc:0.70739\tvalidation_0-logloss:0.51108\n",
            "[4]\tvalidation_0-auc:0.70739\tvalidation_0-logloss:0.50750\n",
            "[5]\tvalidation_0-auc:0.75123\tvalidation_0-logloss:0.50403\n",
            "[6]\tvalidation_0-auc:0.75123\tvalidation_0-logloss:0.50078\n",
            "[7]\tvalidation_0-auc:0.75123\tvalidation_0-logloss:0.49772\n",
            "[8]\tvalidation_0-auc:0.75123\tvalidation_0-logloss:0.49484\n",
            "[9]\tvalidation_0-auc:0.75544\tvalidation_0-logloss:0.49211\n",
            "[10]\tvalidation_0-auc:0.75544\tvalidation_0-logloss:0.48954\n",
            "[11]\tvalidation_0-auc:0.75710\tvalidation_0-logloss:0.48715\n",
            "[12]\tvalidation_0-auc:0.75920\tvalidation_0-logloss:0.48484\n",
            "[13]\tvalidation_0-auc:0.76016\tvalidation_0-logloss:0.48264\n",
            "[14]\tvalidation_0-auc:0.76020\tvalidation_0-logloss:0.48062\n",
            "[15]\tvalidation_0-auc:0.76070\tvalidation_0-logloss:0.47869\n",
            "[16]\tvalidation_0-auc:0.76104\tvalidation_0-logloss:0.47681\n",
            "[17]\tvalidation_0-auc:0.76063\tvalidation_0-logloss:0.47506\n",
            "[18]\tvalidation_0-auc:0.76082\tvalidation_0-logloss:0.47334\n",
            "[19]\tvalidation_0-auc:0.76094\tvalidation_0-logloss:0.47179\n",
            "[20]\tvalidation_0-auc:0.76062\tvalidation_0-logloss:0.47028\n",
            "[21]\tvalidation_0-auc:0.76100\tvalidation_0-logloss:0.46882\n",
            "[22]\tvalidation_0-auc:0.76364\tvalidation_0-logloss:0.46743\n",
            "[23]\tvalidation_0-auc:0.76375\tvalidation_0-logloss:0.46609\n",
            "[24]\tvalidation_0-auc:0.76353\tvalidation_0-logloss:0.46480\n"
          ]
        },
        {
          "output_type": "display_data",
          "data": {
            "text/plain": [
              "<IPython.core.display.HTML object>"
            ],
            "text/html": [
              "Waiting for W&B process to finish... <strong style=\"color:green\">(success).</strong>"
            ]
          },
          "metadata": {}
        },
        {
          "output_type": "display_data",
          "data": {
            "text/plain": [
              "VBox(children=(Label(value='0.366 MB of 0.366 MB uploaded (0.000 MB deduped)\\r'), FloatProgress(value=1.0, max…"
            ],
            "application/vnd.jupyter.widget-view+json": {
              "version_major": 2,
              "version_minor": 0,
              "model_id": "fb6cabdea81f42898cfd5e1354fb21fa"
            }
          },
          "metadata": {}
        },
        {
          "output_type": "display_data",
          "data": {
            "text/plain": [
              "<IPython.core.display.HTML object>"
            ],
            "text/html": [
              "<style>\n",
              "    table.wandb td:nth-child(1) { padding: 0 10px; text-align: left ; width: auto;} td:nth-child(2) {text-align: left ; width: 100%}\n",
              "    .wandb-row { display: flex; flex-direction: row; flex-wrap: wrap; justify-content: flex-start; width: 100% }\n",
              "    .wandb-col { display: flex; flex-direction: column; flex-basis: 100%; flex: 1; padding: 10px; }\n",
              "    </style>\n",
              "<div class=\"wandb-row\"><div class=\"wandb-col\"><h3>Run history:</h3><br/><table class=\"wandb\"><tr><td>epoch</td><td>▁▁▂▂▂▂▃▃▃▄▄▄▅▅▅▅▆▆▆▇▇▇▇██</td></tr><tr><td>validation_0-auc</td><td>▁▁▁▁▁▆▆▆▆▇▇▇▇████████████</td></tr><tr><td>validation_0-logloss</td><td>█▇▇▇▆▆▅▅▅▄▄▄▃▃▃▃▂▂▂▂▂▁▁▁▁</td></tr></table><br/></div><div class=\"wandb-col\"><h3>Run summary:</h3><br/><table class=\"wandb\"><tr><td>epoch</td><td>24</td></tr></table><br/></div></div>"
            ]
          },
          "metadata": {}
        },
        {
          "output_type": "display_data",
          "data": {
            "text/plain": [
              "<IPython.core.display.HTML object>"
            ],
            "text/html": [
              "Synced <strong style=\"color:#cdcd00\">earthy-sweep-22</strong>: <a href=\"https://wandb.ai/tim-w/xgboost-example/runs/93i1aymt\" target=\"_blank\">https://wandb.ai/tim-w/xgboost-example/runs/93i1aymt</a><br/>Synced 5 W&B file(s), 1 media file(s), 4 artifact file(s) and 2 other file(s)"
            ]
          },
          "metadata": {}
        },
        {
          "output_type": "display_data",
          "data": {
            "text/plain": [
              "<IPython.core.display.HTML object>"
            ],
            "text/html": [
              "Find logs at: <code>./wandb/run-20220822_153030-93i1aymt/logs</code>"
            ]
          },
          "metadata": {}
        },
        {
          "output_type": "stream",
          "name": "stderr",
          "text": [
            "\u001b[34m\u001b[1mwandb\u001b[0m: Agent Starting Run: 3pzpaqvz with config:\n",
            "\u001b[34m\u001b[1mwandb\u001b[0m: \tcolsample_bytree: 1\n",
            "\u001b[34m\u001b[1mwandb\u001b[0m: \tlearning_rate: 0.025\n",
            "\u001b[34m\u001b[1mwandb\u001b[0m: \tmax_depth: 4\n"
          ]
        },
        {
          "output_type": "display_data",
          "data": {
            "text/plain": [
              "<IPython.core.display.HTML object>"
            ],
            "text/html": [
              "Tracking run with wandb version 0.13.1"
            ]
          },
          "metadata": {}
        },
        {
          "output_type": "display_data",
          "data": {
            "text/plain": [
              "<IPython.core.display.HTML object>"
            ],
            "text/html": [
              "Run data is saved locally in <code>/content/wandb/run-20220822_153045-3pzpaqvz</code>"
            ]
          },
          "metadata": {}
        },
        {
          "output_type": "display_data",
          "data": {
            "text/plain": [
              "<IPython.core.display.HTML object>"
            ],
            "text/html": [
              "Syncing run <strong><a href=\"https://wandb.ai/tim-w/xgboost-example/runs/3pzpaqvz\" target=\"_blank\">decent-sweep-23</a></strong> to <a href=\"https://wandb.ai/tim-w/xgboost-example\" target=\"_blank\">Weights & Biases</a> (<a href=\"https://wandb.me/run\" target=\"_blank\">docs</a>)<br/>Sweep page:  <a href=\"https://wandb.ai/tim-w/xgboost-example/sweeps/9r9ngnv7\" target=\"_blank\">https://wandb.ai/tim-w/xgboost-example/sweeps/9r9ngnv7</a>"
            ]
          },
          "metadata": {}
        },
        {
          "output_type": "stream",
          "name": "stdout",
          "text": [
            "Warning: No categorical columns found. Calling 'transform' will only return input data.\n",
            "[0]\tvalidation_0-auc:0.75751\tvalidation_0-logloss:0.52314\n",
            "[1]\tvalidation_0-auc:0.75751\tvalidation_0-logloss:0.51835\n",
            "[2]\tvalidation_0-auc:0.76415\tvalidation_0-logloss:0.51386\n",
            "[3]\tvalidation_0-auc:0.76504\tvalidation_0-logloss:0.50971\n",
            "[4]\tvalidation_0-auc:0.76672\tvalidation_0-logloss:0.50583\n",
            "[5]\tvalidation_0-auc:0.76655\tvalidation_0-logloss:0.50213\n",
            "[6]\tvalidation_0-auc:0.76813\tvalidation_0-logloss:0.49871\n",
            "[7]\tvalidation_0-auc:0.77270\tvalidation_0-logloss:0.49537\n",
            "[8]\tvalidation_0-auc:0.77284\tvalidation_0-logloss:0.49222\n",
            "[9]\tvalidation_0-auc:0.77458\tvalidation_0-logloss:0.48924\n",
            "[10]\tvalidation_0-auc:0.77467\tvalidation_0-logloss:0.48643\n",
            "[11]\tvalidation_0-auc:0.77585\tvalidation_0-logloss:0.48377\n",
            "[12]\tvalidation_0-auc:0.77584\tvalidation_0-logloss:0.48126\n",
            "[13]\tvalidation_0-auc:0.77663\tvalidation_0-logloss:0.47886\n",
            "[14]\tvalidation_0-auc:0.77605\tvalidation_0-logloss:0.47660\n",
            "[15]\tvalidation_0-auc:0.77671\tvalidation_0-logloss:0.47440\n",
            "[16]\tvalidation_0-auc:0.77667\tvalidation_0-logloss:0.47233\n",
            "[17]\tvalidation_0-auc:0.77726\tvalidation_0-logloss:0.47032\n",
            "[18]\tvalidation_0-auc:0.77734\tvalidation_0-logloss:0.46847\n",
            "[19]\tvalidation_0-auc:0.77744\tvalidation_0-logloss:0.46664\n",
            "[20]\tvalidation_0-auc:0.77737\tvalidation_0-logloss:0.46494\n",
            "[21]\tvalidation_0-auc:0.77798\tvalidation_0-logloss:0.46329\n",
            "[22]\tvalidation_0-auc:0.77785\tvalidation_0-logloss:0.46178\n",
            "[23]\tvalidation_0-auc:0.77886\tvalidation_0-logloss:0.46026\n",
            "[24]\tvalidation_0-auc:0.77883\tvalidation_0-logloss:0.45881\n"
          ]
        },
        {
          "output_type": "display_data",
          "data": {
            "text/plain": [
              "<IPython.core.display.HTML object>"
            ],
            "text/html": [
              "Waiting for W&B process to finish... <strong style=\"color:green\">(success).</strong>"
            ]
          },
          "metadata": {}
        },
        {
          "output_type": "display_data",
          "data": {
            "text/plain": [
              "VBox(children=(Label(value='0.400 MB of 0.400 MB uploaded (0.000 MB deduped)\\r'), FloatProgress(value=1.0, max…"
            ],
            "application/vnd.jupyter.widget-view+json": {
              "version_major": 2,
              "version_minor": 0,
              "model_id": "fdce49f375344506aa05806b0232ccb0"
            }
          },
          "metadata": {}
        },
        {
          "output_type": "display_data",
          "data": {
            "text/plain": [
              "<IPython.core.display.HTML object>"
            ],
            "text/html": [
              "<style>\n",
              "    table.wandb td:nth-child(1) { padding: 0 10px; text-align: left ; width: auto;} td:nth-child(2) {text-align: left ; width: 100%}\n",
              "    .wandb-row { display: flex; flex-direction: row; flex-wrap: wrap; justify-content: flex-start; width: 100% }\n",
              "    .wandb-col { display: flex; flex-direction: column; flex-basis: 100%; flex: 1; padding: 10px; }\n",
              "    </style>\n",
              "<div class=\"wandb-row\"><div class=\"wandb-col\"><h3>Run history:</h3><br/><table class=\"wandb\"><tr><td>epoch</td><td>▁▁▂▂▂▂▃▃▃▄▄▄▅▅▅▅▆▆▆▇▇▇▇██</td></tr><tr><td>validation_0-auc</td><td>▁▁▃▃▄▄▄▆▆▇▇▇▇▇▇▇▇▇███████</td></tr><tr><td>validation_0-logloss</td><td>█▇▇▇▆▆▅▅▅▄▄▄▃▃▃▃▂▂▂▂▂▁▁▁▁</td></tr></table><br/></div><div class=\"wandb-col\"><h3>Run summary:</h3><br/><table class=\"wandb\"><tr><td>epoch</td><td>24</td></tr></table><br/></div></div>"
            ]
          },
          "metadata": {}
        },
        {
          "output_type": "display_data",
          "data": {
            "text/plain": [
              "<IPython.core.display.HTML object>"
            ],
            "text/html": [
              "Synced <strong style=\"color:#cdcd00\">decent-sweep-23</strong>: <a href=\"https://wandb.ai/tim-w/xgboost-example/runs/3pzpaqvz\" target=\"_blank\">https://wandb.ai/tim-w/xgboost-example/runs/3pzpaqvz</a><br/>Synced 5 W&B file(s), 1 media file(s), 4 artifact file(s) and 2 other file(s)"
            ]
          },
          "metadata": {}
        },
        {
          "output_type": "display_data",
          "data": {
            "text/plain": [
              "<IPython.core.display.HTML object>"
            ],
            "text/html": [
              "Find logs at: <code>./wandb/run-20220822_153045-3pzpaqvz/logs</code>"
            ]
          },
          "metadata": {}
        },
        {
          "output_type": "stream",
          "name": "stderr",
          "text": [
            "\u001b[34m\u001b[1mwandb\u001b[0m: Agent Starting Run: r5qokyci with config:\n",
            "\u001b[34m\u001b[1mwandb\u001b[0m: \tcolsample_bytree: 1\n",
            "\u001b[34m\u001b[1mwandb\u001b[0m: \tlearning_rate: 0.025\n",
            "\u001b[34m\u001b[1mwandb\u001b[0m: \tmax_depth: 16\n"
          ]
        },
        {
          "output_type": "display_data",
          "data": {
            "text/plain": [
              "<IPython.core.display.HTML object>"
            ],
            "text/html": [
              "Tracking run with wandb version 0.13.1"
            ]
          },
          "metadata": {}
        },
        {
          "output_type": "display_data",
          "data": {
            "text/plain": [
              "<IPython.core.display.HTML object>"
            ],
            "text/html": [
              "Run data is saved locally in <code>/content/wandb/run-20220822_153100-r5qokyci</code>"
            ]
          },
          "metadata": {}
        },
        {
          "output_type": "display_data",
          "data": {
            "text/plain": [
              "<IPython.core.display.HTML object>"
            ],
            "text/html": [
              "Syncing run <strong><a href=\"https://wandb.ai/tim-w/xgboost-example/runs/r5qokyci\" target=\"_blank\">solar-sweep-24</a></strong> to <a href=\"https://wandb.ai/tim-w/xgboost-example\" target=\"_blank\">Weights & Biases</a> (<a href=\"https://wandb.me/run\" target=\"_blank\">docs</a>)<br/>Sweep page:  <a href=\"https://wandb.ai/tim-w/xgboost-example/sweeps/9r9ngnv7\" target=\"_blank\">https://wandb.ai/tim-w/xgboost-example/sweeps/9r9ngnv7</a>"
            ]
          },
          "metadata": {}
        },
        {
          "output_type": "stream",
          "name": "stdout",
          "text": [
            "Warning: No categorical columns found. Calling 'transform' will only return input data.\n",
            "[0]\tvalidation_0-auc:0.76429\tvalidation_0-logloss:0.52299\n",
            "[1]\tvalidation_0-auc:0.76447\tvalidation_0-logloss:0.51807\n",
            "[2]\tvalidation_0-auc:0.76738\tvalidation_0-logloss:0.51347\n",
            "[3]\tvalidation_0-auc:0.76803\tvalidation_0-logloss:0.50920\n",
            "[4]\tvalidation_0-auc:0.76910\tvalidation_0-logloss:0.50520\n",
            "[5]\tvalidation_0-auc:0.77142\tvalidation_0-logloss:0.50138\n",
            "[6]\tvalidation_0-auc:0.77126\tvalidation_0-logloss:0.49788\n",
            "[7]\tvalidation_0-auc:0.77207\tvalidation_0-logloss:0.49453\n",
            "[8]\tvalidation_0-auc:0.77291\tvalidation_0-logloss:0.49136\n",
            "[9]\tvalidation_0-auc:0.77533\tvalidation_0-logloss:0.48827\n",
            "[10]\tvalidation_0-auc:0.77536\tvalidation_0-logloss:0.48543\n",
            "[11]\tvalidation_0-auc:0.77699\tvalidation_0-logloss:0.48266\n",
            "[12]\tvalidation_0-auc:0.77714\tvalidation_0-logloss:0.48011\n",
            "[13]\tvalidation_0-auc:0.77817\tvalidation_0-logloss:0.47761\n",
            "[14]\tvalidation_0-auc:0.77783\tvalidation_0-logloss:0.47532\n",
            "[15]\tvalidation_0-auc:0.77853\tvalidation_0-logloss:0.47308\n",
            "[16]\tvalidation_0-auc:0.77830\tvalidation_0-logloss:0.47102\n",
            "[17]\tvalidation_0-auc:0.77878\tvalidation_0-logloss:0.46898\n",
            "[18]\tvalidation_0-auc:0.77844\tvalidation_0-logloss:0.46711\n",
            "[19]\tvalidation_0-auc:0.77902\tvalidation_0-logloss:0.46524\n",
            "[20]\tvalidation_0-auc:0.77873\tvalidation_0-logloss:0.46355\n",
            "[21]\tvalidation_0-auc:0.77905\tvalidation_0-logloss:0.46188\n",
            "[22]\tvalidation_0-auc:0.77874\tvalidation_0-logloss:0.46035\n",
            "[23]\tvalidation_0-auc:0.77911\tvalidation_0-logloss:0.45880\n",
            "[24]\tvalidation_0-auc:0.77947\tvalidation_0-logloss:0.45732\n"
          ]
        },
        {
          "output_type": "display_data",
          "data": {
            "text/plain": [
              "<IPython.core.display.HTML object>"
            ],
            "text/html": [
              "Waiting for W&B process to finish... <strong style=\"color:green\">(success).</strong>"
            ]
          },
          "metadata": {}
        },
        {
          "output_type": "display_data",
          "data": {
            "text/plain": [
              "VBox(children=(Label(value='0.459 MB of 0.459 MB uploaded (0.000 MB deduped)\\r'), FloatProgress(value=1.0, max…"
            ],
            "application/vnd.jupyter.widget-view+json": {
              "version_major": 2,
              "version_minor": 0,
              "model_id": "ba970630da774a23a6e715e39462dad3"
            }
          },
          "metadata": {}
        },
        {
          "output_type": "display_data",
          "data": {
            "text/plain": [
              "<IPython.core.display.HTML object>"
            ],
            "text/html": [
              "<style>\n",
              "    table.wandb td:nth-child(1) { padding: 0 10px; text-align: left ; width: auto;} td:nth-child(2) {text-align: left ; width: 100%}\n",
              "    .wandb-row { display: flex; flex-direction: row; flex-wrap: wrap; justify-content: flex-start; width: 100% }\n",
              "    .wandb-col { display: flex; flex-direction: column; flex-basis: 100%; flex: 1; padding: 10px; }\n",
              "    </style>\n",
              "<div class=\"wandb-row\"><div class=\"wandb-col\"><h3>Run history:</h3><br/><table class=\"wandb\"><tr><td>epoch</td><td>▁▁▂▂▂▂▃▃▃▄▄▄▅▅▅▅▆▆▆▇▇▇▇██</td></tr><tr><td>validation_0-auc</td><td>▁▁▂▃▃▄▄▅▅▆▆▇▇▇▇█▇████████</td></tr><tr><td>validation_0-logloss</td><td>█▇▇▇▆▆▅▅▅▄▄▄▃▃▃▃▂▂▂▂▂▁▁▁▁</td></tr></table><br/></div><div class=\"wandb-col\"><h3>Run summary:</h3><br/><table class=\"wandb\"><tr><td>epoch</td><td>24</td></tr></table><br/></div></div>"
            ]
          },
          "metadata": {}
        },
        {
          "output_type": "display_data",
          "data": {
            "text/plain": [
              "<IPython.core.display.HTML object>"
            ],
            "text/html": [
              "Synced <strong style=\"color:#cdcd00\">solar-sweep-24</strong>: <a href=\"https://wandb.ai/tim-w/xgboost-example/runs/r5qokyci\" target=\"_blank\">https://wandb.ai/tim-w/xgboost-example/runs/r5qokyci</a><br/>Synced 5 W&B file(s), 1 media file(s), 4 artifact file(s) and 2 other file(s)"
            ]
          },
          "metadata": {}
        },
        {
          "output_type": "display_data",
          "data": {
            "text/plain": [
              "<IPython.core.display.HTML object>"
            ],
            "text/html": [
              "Find logs at: <code>./wandb/run-20220822_153100-r5qokyci/logs</code>"
            ]
          },
          "metadata": {}
        },
        {
          "output_type": "stream",
          "name": "stderr",
          "text": [
            "\u001b[34m\u001b[1mwandb\u001b[0m: Agent Starting Run: j9yqwtja with config:\n",
            "\u001b[34m\u001b[1mwandb\u001b[0m: \tcolsample_bytree: 1\n",
            "\u001b[34m\u001b[1mwandb\u001b[0m: \tlearning_rate: 0.01\n",
            "\u001b[34m\u001b[1mwandb\u001b[0m: \tmax_depth: 2\n"
          ]
        },
        {
          "output_type": "display_data",
          "data": {
            "text/plain": [
              "<IPython.core.display.HTML object>"
            ],
            "text/html": [
              "Tracking run with wandb version 0.13.1"
            ]
          },
          "metadata": {}
        },
        {
          "output_type": "display_data",
          "data": {
            "text/plain": [
              "<IPython.core.display.HTML object>"
            ],
            "text/html": [
              "Run data is saved locally in <code>/content/wandb/run-20220822_153115-j9yqwtja</code>"
            ]
          },
          "metadata": {}
        },
        {
          "output_type": "display_data",
          "data": {
            "text/plain": [
              "<IPython.core.display.HTML object>"
            ],
            "text/html": [
              "Syncing run <strong><a href=\"https://wandb.ai/tim-w/xgboost-example/runs/j9yqwtja\" target=\"_blank\">wise-sweep-25</a></strong> to <a href=\"https://wandb.ai/tim-w/xgboost-example\" target=\"_blank\">Weights & Biases</a> (<a href=\"https://wandb.me/run\" target=\"_blank\">docs</a>)<br/>Sweep page:  <a href=\"https://wandb.ai/tim-w/xgboost-example/sweeps/9r9ngnv7\" target=\"_blank\">https://wandb.ai/tim-w/xgboost-example/sweeps/9r9ngnv7</a>"
            ]
          },
          "metadata": {}
        },
        {
          "output_type": "stream",
          "name": "stdout",
          "text": [
            "Warning: No categorical columns found. Calling 'transform' will only return input data.\n",
            "[0]\tvalidation_0-auc:0.70739\tvalidation_0-logloss:0.52637\n",
            "[1]\tvalidation_0-auc:0.70739\tvalidation_0-logloss:0.52449\n",
            "[2]\tvalidation_0-auc:0.70739\tvalidation_0-logloss:0.52266\n",
            "[3]\tvalidation_0-auc:0.70739\tvalidation_0-logloss:0.52089\n",
            "[4]\tvalidation_0-auc:0.70739\tvalidation_0-logloss:0.51918\n",
            "[5]\tvalidation_0-auc:0.70739\tvalidation_0-logloss:0.51751\n",
            "[6]\tvalidation_0-auc:0.70739\tvalidation_0-logloss:0.51589\n",
            "[7]\tvalidation_0-auc:0.70739\tvalidation_0-logloss:0.51432\n",
            "[8]\tvalidation_0-auc:0.70739\tvalidation_0-logloss:0.51279\n",
            "[9]\tvalidation_0-auc:0.70739\tvalidation_0-logloss:0.51130\n",
            "[10]\tvalidation_0-auc:0.70739\tvalidation_0-logloss:0.50985\n",
            "[11]\tvalidation_0-auc:0.70739\tvalidation_0-logloss:0.50844\n",
            "[12]\tvalidation_0-auc:0.75123\tvalidation_0-logloss:0.50702\n",
            "[13]\tvalidation_0-auc:0.75123\tvalidation_0-logloss:0.50564\n",
            "[14]\tvalidation_0-auc:0.75123\tvalidation_0-logloss:0.50429\n",
            "[15]\tvalidation_0-auc:0.75123\tvalidation_0-logloss:0.50297\n",
            "[16]\tvalidation_0-auc:0.75123\tvalidation_0-logloss:0.50169\n",
            "[17]\tvalidation_0-auc:0.75123\tvalidation_0-logloss:0.50043\n",
            "[18]\tvalidation_0-auc:0.75123\tvalidation_0-logloss:0.49921\n",
            "[19]\tvalidation_0-auc:0.75123\tvalidation_0-logloss:0.49801\n",
            "[20]\tvalidation_0-auc:0.75123\tvalidation_0-logloss:0.49685\n",
            "[21]\tvalidation_0-auc:0.75544\tvalidation_0-logloss:0.49570\n",
            "[22]\tvalidation_0-auc:0.75544\tvalidation_0-logloss:0.49459\n",
            "[23]\tvalidation_0-auc:0.75544\tvalidation_0-logloss:0.49350\n",
            "[24]\tvalidation_0-auc:0.75544\tvalidation_0-logloss:0.49243\n"
          ]
        },
        {
          "output_type": "display_data",
          "data": {
            "text/plain": [
              "<IPython.core.display.HTML object>"
            ],
            "text/html": [
              "Waiting for W&B process to finish... <strong style=\"color:green\">(success).</strong>"
            ]
          },
          "metadata": {}
        },
        {
          "output_type": "display_data",
          "data": {
            "text/plain": [
              "VBox(children=(Label(value='0.401 MB of 0.401 MB uploaded (0.000 MB deduped)\\r'), FloatProgress(value=1.0, max…"
            ],
            "application/vnd.jupyter.widget-view+json": {
              "version_major": 2,
              "version_minor": 0,
              "model_id": "35a7457f12c741d790b33512de86bcec"
            }
          },
          "metadata": {}
        },
        {
          "output_type": "display_data",
          "data": {
            "text/plain": [
              "<IPython.core.display.HTML object>"
            ],
            "text/html": [
              "<style>\n",
              "    table.wandb td:nth-child(1) { padding: 0 10px; text-align: left ; width: auto;} td:nth-child(2) {text-align: left ; width: 100%}\n",
              "    .wandb-row { display: flex; flex-direction: row; flex-wrap: wrap; justify-content: flex-start; width: 100% }\n",
              "    .wandb-col { display: flex; flex-direction: column; flex-basis: 100%; flex: 1; padding: 10px; }\n",
              "    </style>\n",
              "<div class=\"wandb-row\"><div class=\"wandb-col\"><h3>Run history:</h3><br/><table class=\"wandb\"><tr><td>epoch</td><td>▁▁▂▂▂▂▃▃▃▄▄▄▅▅▅▅▆▆▆▇▇▇▇██</td></tr><tr><td>validation_0-auc</td><td>▁▁▁▁▁▁▁▁▁▁▁▁▇▇▇▇▇▇▇▇▇████</td></tr><tr><td>validation_0-logloss</td><td>██▇▇▇▆▆▆▅▅▅▄▄▄▃▃▃▃▂▂▂▂▁▁▁</td></tr></table><br/></div><div class=\"wandb-col\"><h3>Run summary:</h3><br/><table class=\"wandb\"><tr><td>epoch</td><td>24</td></tr></table><br/></div></div>"
            ]
          },
          "metadata": {}
        },
        {
          "output_type": "display_data",
          "data": {
            "text/plain": [
              "<IPython.core.display.HTML object>"
            ],
            "text/html": [
              "Synced <strong style=\"color:#cdcd00\">wise-sweep-25</strong>: <a href=\"https://wandb.ai/tim-w/xgboost-example/runs/j9yqwtja\" target=\"_blank\">https://wandb.ai/tim-w/xgboost-example/runs/j9yqwtja</a><br/>Synced 5 W&B file(s), 1 media file(s), 4 artifact file(s) and 2 other file(s)"
            ]
          },
          "metadata": {}
        },
        {
          "output_type": "display_data",
          "data": {
            "text/plain": [
              "<IPython.core.display.HTML object>"
            ],
            "text/html": [
              "Find logs at: <code>./wandb/run-20220822_153115-j9yqwtja/logs</code>"
            ]
          },
          "metadata": {}
        },
        {
          "output_type": "stream",
          "name": "stderr",
          "text": [
            "\u001b[34m\u001b[1mwandb\u001b[0m: Agent Starting Run: vay5hpm3 with config:\n",
            "\u001b[34m\u001b[1mwandb\u001b[0m: \tcolsample_bytree: 1\n",
            "\u001b[34m\u001b[1mwandb\u001b[0m: \tlearning_rate: 0.01\n",
            "\u001b[34m\u001b[1mwandb\u001b[0m: \tmax_depth: 4\n"
          ]
        },
        {
          "output_type": "display_data",
          "data": {
            "text/plain": [
              "<IPython.core.display.HTML object>"
            ],
            "text/html": [
              "Tracking run with wandb version 0.13.1"
            ]
          },
          "metadata": {}
        },
        {
          "output_type": "display_data",
          "data": {
            "text/plain": [
              "<IPython.core.display.HTML object>"
            ],
            "text/html": [
              "Run data is saved locally in <code>/content/wandb/run-20220822_153131-vay5hpm3</code>"
            ]
          },
          "metadata": {}
        },
        {
          "output_type": "display_data",
          "data": {
            "text/plain": [
              "<IPython.core.display.HTML object>"
            ],
            "text/html": [
              "Syncing run <strong><a href=\"https://wandb.ai/tim-w/xgboost-example/runs/vay5hpm3\" target=\"_blank\">desert-sweep-26</a></strong> to <a href=\"https://wandb.ai/tim-w/xgboost-example\" target=\"_blank\">Weights & Biases</a> (<a href=\"https://wandb.me/run\" target=\"_blank\">docs</a>)<br/>Sweep page:  <a href=\"https://wandb.ai/tim-w/xgboost-example/sweeps/9r9ngnv7\" target=\"_blank\">https://wandb.ai/tim-w/xgboost-example/sweeps/9r9ngnv7</a>"
            ]
          },
          "metadata": {}
        },
        {
          "output_type": "stream",
          "name": "stdout",
          "text": [
            "Warning: No categorical columns found. Calling 'transform' will only return input data.\n",
            "[0]\tvalidation_0-auc:0.75751\tvalidation_0-logloss:0.52623\n",
            "[1]\tvalidation_0-auc:0.75751\tvalidation_0-logloss:0.52421\n",
            "[2]\tvalidation_0-auc:0.75751\tvalidation_0-logloss:0.52225\n",
            "[3]\tvalidation_0-auc:0.75751\tvalidation_0-logloss:0.52034\n",
            "[4]\tvalidation_0-auc:0.76390\tvalidation_0-logloss:0.51848\n",
            "[5]\tvalidation_0-auc:0.76390\tvalidation_0-logloss:0.51668\n",
            "[6]\tvalidation_0-auc:0.76390\tvalidation_0-logloss:0.51491\n",
            "[7]\tvalidation_0-auc:0.76530\tvalidation_0-logloss:0.51321\n",
            "[8]\tvalidation_0-auc:0.76606\tvalidation_0-logloss:0.51156\n",
            "[9]\tvalidation_0-auc:0.76644\tvalidation_0-logloss:0.50993\n",
            "[10]\tvalidation_0-auc:0.76676\tvalidation_0-logloss:0.50836\n",
            "[11]\tvalidation_0-auc:0.76692\tvalidation_0-logloss:0.50680\n",
            "[12]\tvalidation_0-auc:0.76762\tvalidation_0-logloss:0.50531\n",
            "[13]\tvalidation_0-auc:0.76761\tvalidation_0-logloss:0.50386\n",
            "[14]\tvalidation_0-auc:0.76915\tvalidation_0-logloss:0.50244\n",
            "[15]\tvalidation_0-auc:0.76929\tvalidation_0-logloss:0.50103\n",
            "[16]\tvalidation_0-auc:0.76928\tvalidation_0-logloss:0.49967\n",
            "[17]\tvalidation_0-auc:0.77251\tvalidation_0-logloss:0.49830\n",
            "[18]\tvalidation_0-auc:0.77281\tvalidation_0-logloss:0.49696\n",
            "[19]\tvalidation_0-auc:0.77311\tvalidation_0-logloss:0.49566\n",
            "[20]\tvalidation_0-auc:0.77307\tvalidation_0-logloss:0.49438\n",
            "[21]\tvalidation_0-auc:0.77299\tvalidation_0-logloss:0.49313\n",
            "[22]\tvalidation_0-auc:0.77401\tvalidation_0-logloss:0.49192\n",
            "[23]\tvalidation_0-auc:0.77421\tvalidation_0-logloss:0.49073\n",
            "[24]\tvalidation_0-auc:0.77452\tvalidation_0-logloss:0.48956\n"
          ]
        },
        {
          "output_type": "display_data",
          "data": {
            "text/plain": [
              "<IPython.core.display.HTML object>"
            ],
            "text/html": [
              "Waiting for W&B process to finish... <strong style=\"color:green\">(success).</strong>"
            ]
          },
          "metadata": {}
        },
        {
          "output_type": "display_data",
          "data": {
            "text/plain": [
              "VBox(children=(Label(value='0.431 MB of 0.431 MB uploaded (0.000 MB deduped)\\r'), FloatProgress(value=1.0, max…"
            ],
            "application/vnd.jupyter.widget-view+json": {
              "version_major": 2,
              "version_minor": 0,
              "model_id": "8ca708508ddd400ca89ca62b9c883f87"
            }
          },
          "metadata": {}
        },
        {
          "output_type": "display_data",
          "data": {
            "text/plain": [
              "<IPython.core.display.HTML object>"
            ],
            "text/html": [
              "<style>\n",
              "    table.wandb td:nth-child(1) { padding: 0 10px; text-align: left ; width: auto;} td:nth-child(2) {text-align: left ; width: 100%}\n",
              "    .wandb-row { display: flex; flex-direction: row; flex-wrap: wrap; justify-content: flex-start; width: 100% }\n",
              "    .wandb-col { display: flex; flex-direction: column; flex-basis: 100%; flex: 1; padding: 10px; }\n",
              "    </style>\n",
              "<div class=\"wandb-row\"><div class=\"wandb-col\"><h3>Run history:</h3><br/><table class=\"wandb\"><tr><td>epoch</td><td>▁▁▂▂▂▂▃▃▃▄▄▄▅▅▅▅▆▆▆▇▇▇▇██</td></tr><tr><td>validation_0-auc</td><td>▁▁▁▁▄▄▄▄▅▅▅▅▅▅▆▆▆▇▇▇▇▇███</td></tr><tr><td>validation_0-logloss</td><td>██▇▇▇▆▆▆▅▅▅▄▄▄▃▃▃▃▂▂▂▂▁▁▁</td></tr></table><br/></div><div class=\"wandb-col\"><h3>Run summary:</h3><br/><table class=\"wandb\"><tr><td>epoch</td><td>24</td></tr></table><br/></div></div>"
            ]
          },
          "metadata": {}
        },
        {
          "output_type": "display_data",
          "data": {
            "text/plain": [
              "<IPython.core.display.HTML object>"
            ],
            "text/html": [
              "Synced <strong style=\"color:#cdcd00\">desert-sweep-26</strong>: <a href=\"https://wandb.ai/tim-w/xgboost-example/runs/vay5hpm3\" target=\"_blank\">https://wandb.ai/tim-w/xgboost-example/runs/vay5hpm3</a><br/>Synced 5 W&B file(s), 1 media file(s), 4 artifact file(s) and 2 other file(s)"
            ]
          },
          "metadata": {}
        },
        {
          "output_type": "display_data",
          "data": {
            "text/plain": [
              "<IPython.core.display.HTML object>"
            ],
            "text/html": [
              "Find logs at: <code>./wandb/run-20220822_153131-vay5hpm3/logs</code>"
            ]
          },
          "metadata": {}
        },
        {
          "output_type": "stream",
          "name": "stderr",
          "text": [
            "\u001b[34m\u001b[1mwandb\u001b[0m: Agent Starting Run: fqvsdsli with config:\n",
            "\u001b[34m\u001b[1mwandb\u001b[0m: \tcolsample_bytree: 1\n",
            "\u001b[34m\u001b[1mwandb\u001b[0m: \tlearning_rate: 0.01\n",
            "\u001b[34m\u001b[1mwandb\u001b[0m: \tmax_depth: 16\n"
          ]
        },
        {
          "output_type": "display_data",
          "data": {
            "text/plain": [
              "<IPython.core.display.HTML object>"
            ],
            "text/html": [
              "Tracking run with wandb version 0.13.1"
            ]
          },
          "metadata": {}
        },
        {
          "output_type": "display_data",
          "data": {
            "text/plain": [
              "<IPython.core.display.HTML object>"
            ],
            "text/html": [
              "Run data is saved locally in <code>/content/wandb/run-20220822_153146-fqvsdsli</code>"
            ]
          },
          "metadata": {}
        },
        {
          "output_type": "display_data",
          "data": {
            "text/plain": [
              "<IPython.core.display.HTML object>"
            ],
            "text/html": [
              "Syncing run <strong><a href=\"https://wandb.ai/tim-w/xgboost-example/runs/fqvsdsli\" target=\"_blank\">misty-sweep-27</a></strong> to <a href=\"https://wandb.ai/tim-w/xgboost-example\" target=\"_blank\">Weights & Biases</a> (<a href=\"https://wandb.me/run\" target=\"_blank\">docs</a>)<br/>Sweep page:  <a href=\"https://wandb.ai/tim-w/xgboost-example/sweeps/9r9ngnv7\" target=\"_blank\">https://wandb.ai/tim-w/xgboost-example/sweeps/9r9ngnv7</a>"
            ]
          },
          "metadata": {}
        },
        {
          "output_type": "stream",
          "name": "stdout",
          "text": [
            "Warning: No categorical columns found. Calling 'transform' will only return input data.\n",
            "[0]\tvalidation_0-auc:0.76429\tvalidation_0-logloss:0.52617\n",
            "[1]\tvalidation_0-auc:0.76448\tvalidation_0-logloss:0.52409\n",
            "[2]\tvalidation_0-auc:0.76446\tvalidation_0-logloss:0.52207\n",
            "[3]\tvalidation_0-auc:0.76469\tvalidation_0-logloss:0.52011\n",
            "[4]\tvalidation_0-auc:0.76549\tvalidation_0-logloss:0.51820\n",
            "[5]\tvalidation_0-auc:0.76729\tvalidation_0-logloss:0.51634\n",
            "[6]\tvalidation_0-auc:0.76783\tvalidation_0-logloss:0.51452\n",
            "[7]\tvalidation_0-auc:0.76892\tvalidation_0-logloss:0.51276\n",
            "[8]\tvalidation_0-auc:0.76906\tvalidation_0-logloss:0.51106\n",
            "[9]\tvalidation_0-auc:0.76958\tvalidation_0-logloss:0.50940\n",
            "[10]\tvalidation_0-auc:0.76946\tvalidation_0-logloss:0.50779\n",
            "[11]\tvalidation_0-auc:0.76990\tvalidation_0-logloss:0.50621\n",
            "[12]\tvalidation_0-auc:0.76983\tvalidation_0-logloss:0.50468\n",
            "[13]\tvalidation_0-auc:0.77032\tvalidation_0-logloss:0.50317\n",
            "[14]\tvalidation_0-auc:0.77047\tvalidation_0-logloss:0.50171\n",
            "[15]\tvalidation_0-auc:0.77105\tvalidation_0-logloss:0.50026\n",
            "[16]\tvalidation_0-auc:0.77128\tvalidation_0-logloss:0.49884\n",
            "[17]\tvalidation_0-auc:0.77186\tvalidation_0-logloss:0.49746\n",
            "[18]\tvalidation_0-auc:0.77227\tvalidation_0-logloss:0.49612\n",
            "[19]\tvalidation_0-auc:0.77249\tvalidation_0-logloss:0.49480\n",
            "[20]\tvalidation_0-auc:0.77298\tvalidation_0-logloss:0.49352\n",
            "[21]\tvalidation_0-auc:0.77323\tvalidation_0-logloss:0.49226\n",
            "[22]\tvalidation_0-auc:0.77425\tvalidation_0-logloss:0.49099\n",
            "[23]\tvalidation_0-auc:0.77423\tvalidation_0-logloss:0.48979\n",
            "[24]\tvalidation_0-auc:0.77511\tvalidation_0-logloss:0.48858\n"
          ]
        },
        {
          "output_type": "display_data",
          "data": {
            "text/plain": [
              "<IPython.core.display.HTML object>"
            ],
            "text/html": [
              "Waiting for W&B process to finish... <strong style=\"color:green\">(success).</strong>"
            ]
          },
          "metadata": {}
        },
        {
          "output_type": "display_data",
          "data": {
            "text/plain": [
              "VBox(children=(Label(value='0.494 MB of 0.494 MB uploaded (0.000 MB deduped)\\r'), FloatProgress(value=1.0, max…"
            ],
            "application/vnd.jupyter.widget-view+json": {
              "version_major": 2,
              "version_minor": 0,
              "model_id": "cd1ca1933c2f469ebfe0b0b8627a7cdf"
            }
          },
          "metadata": {}
        },
        {
          "output_type": "display_data",
          "data": {
            "text/plain": [
              "<IPython.core.display.HTML object>"
            ],
            "text/html": [
              "<style>\n",
              "    table.wandb td:nth-child(1) { padding: 0 10px; text-align: left ; width: auto;} td:nth-child(2) {text-align: left ; width: 100%}\n",
              "    .wandb-row { display: flex; flex-direction: row; flex-wrap: wrap; justify-content: flex-start; width: 100% }\n",
              "    .wandb-col { display: flex; flex-direction: column; flex-basis: 100%; flex: 1; padding: 10px; }\n",
              "    </style>\n",
              "<div class=\"wandb-row\"><div class=\"wandb-col\"><h3>Run history:</h3><br/><table class=\"wandb\"><tr><td>epoch</td><td>▁▁▂▂▂▂▃▃▃▄▄▄▅▅▅▅▆▆▆▇▇▇▇██</td></tr><tr><td>validation_0-auc</td><td>▁▁▁▁▂▃▃▄▄▄▄▅▅▅▅▅▆▆▆▆▇▇▇▇█</td></tr><tr><td>validation_0-logloss</td><td>██▇▇▇▆▆▆▅▅▅▄▄▄▃▃▃▃▂▂▂▂▁▁▁</td></tr></table><br/></div><div class=\"wandb-col\"><h3>Run summary:</h3><br/><table class=\"wandb\"><tr><td>epoch</td><td>24</td></tr></table><br/></div></div>"
            ]
          },
          "metadata": {}
        },
        {
          "output_type": "display_data",
          "data": {
            "text/plain": [
              "<IPython.core.display.HTML object>"
            ],
            "text/html": [
              "Synced <strong style=\"color:#cdcd00\">misty-sweep-27</strong>: <a href=\"https://wandb.ai/tim-w/xgboost-example/runs/fqvsdsli\" target=\"_blank\">https://wandb.ai/tim-w/xgboost-example/runs/fqvsdsli</a><br/>Synced 5 W&B file(s), 1 media file(s), 4 artifact file(s) and 2 other file(s)"
            ]
          },
          "metadata": {}
        },
        {
          "output_type": "display_data",
          "data": {
            "text/plain": [
              "<IPython.core.display.HTML object>"
            ],
            "text/html": [
              "Find logs at: <code>./wandb/run-20220822_153146-fqvsdsli/logs</code>"
            ]
          },
          "metadata": {}
        },
        {
          "output_type": "stream",
          "name": "stderr",
          "text": [
            "\u001b[34m\u001b[1mwandb\u001b[0m: Sweep Agent: Waiting for job.\n",
            "\u001b[34m\u001b[1mwandb\u001b[0m: Sweep Agent: Exiting.\n"
          ]
        }
      ]
    },
    {
      "cell_type": "markdown",
      "source": [
        "## Use API to interact with W&B"
      ],
      "metadata": {
        "id": "pFEJ7WfMBFqy"
      }
    },
    {
      "cell_type": "code",
      "source": [
        "import pandas as pd\n",
        "import wandb\n",
        "api = wandb.Api()\n",
        "sweep = api.sweep(f\"{entity}/{project_name}/{sweep_id}\")\n",
        "temp_data = []\n",
        "for r in sweep.runs:\n",
        " temp_dict = dict(**dict(r.summary), **r.config)\n",
        " temp_dict[\"run_id\"] = r.id\n",
        " temp_dict[\"run_name\"] = r.name\n",
        " temp_data.append( temp_dict)\n",
        "df = pd.DataFrame(temp_data)\n",
        "df.set_index(\"run_id\", inplace = True)\n",
        "best_run_id = sweep.best_run().id\n",
        "best_run = api.run(f\"{entity}/{project_name}/{best_run_id}\")\n",
        "df.loc[best_run_id]"
      ],
      "metadata": {
        "colab": {
          "base_uri": "https://localhost:8080/"
        },
        "id": "UtYHFAs6BHJK",
        "outputId": "01b8fe3d-3c79-4cf3-b955-cc4cd50f6614"
      },
      "execution_count": null,
      "outputs": [
        {
          "output_type": "stream",
          "name": "stderr",
          "text": [
            "\u001b[34m\u001b[1mwandb\u001b[0m: Sorting runs by +summary_metrics.validation_0-logloss.min\n"
          ]
        },
        {
          "output_type": "execute_result",
          "data": {
            "text/plain": [
              "_wandb                                                         {'runtime': 2}\n",
              "_runtime                                                             2.470428\n",
              "_timestamp                                                  1661181702.512003\n",
              "validation_0-auc                                             {'max': 0.77826}\n",
              "validation_0-logloss                                        {'min': 0.439419}\n",
              "Feature Importance_table    {'_type': 'table-file', 'ncols': 2, 'nrows': 1...\n",
              "_step                                                                      25\n",
              "epoch                                                                      24\n",
              "gamma                                                                       1\n",
              "learner                     {'metrics': ['auc', 'logloss'], 'objective': {...\n",
              "nthread                                                                    24\n",
              "version                                                             [1, 3, 3]\n",
              "max_depth                                                                   3\n",
              "objective                                                     binary:logistic\n",
              "reg_alpha                                                                   0\n",
              "base_score                                                           0.221204\n",
              "max_depths                                                                  2\n",
              "reg_lambda                                                                  0\n",
              "eval_metric                                                    [auc, logloss]\n",
              "tree_method                                                              hist\n",
              "n_estimators                                                               25\n",
              "random_state                                                               42\n",
              "learning_rate                                                            0.05\n",
              "colsample_bytree                                                          1.0\n",
              "min_child_weight                                                          100\n",
              "run_name                                                        trim-sweep-19\n",
              "Name: 2fogpz93, dtype: object"
            ]
          },
          "metadata": {},
          "execution_count": 16
        }
      ]
    },
    {
      "cell_type": "code",
      "source": [],
      "metadata": {
        "id": "Kv-YTHk7PxSd"
      },
      "execution_count": null,
      "outputs": []
    }
  ]
}