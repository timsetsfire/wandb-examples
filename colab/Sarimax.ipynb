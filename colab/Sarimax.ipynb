{
  "nbformat": 4,
  "nbformat_minor": 0,
  "metadata": {
    "colab": {
      "provenance": [],
      "authorship_tag": "ABX9TyMocWrIznQrowyGyzLs8B9U",
      "include_colab_link": true
    },
    "kernelspec": {
      "name": "python3",
      "display_name": "Python 3"
    },
    "language_info": {
      "name": "python"
    }
  },
  "cells": [
    {
      "cell_type": "markdown",
      "metadata": {
        "id": "view-in-github",
        "colab_type": "text"
      },
      "source": [
        "<a href=\"https://colab.research.google.com/github/timsetsfire/wandb-examples/blob/main/colab/Sarimax.ipynb\" target=\"_parent\"><img src=\"https://colab.research.google.com/assets/colab-badge.svg\" alt=\"Open In Colab\"/></a>"
      ]
    },
    {
      "cell_type": "code",
      "source": [
        "%%capture\n",
        "!pip install wandb"
      ],
      "metadata": {
        "id": "Z5SEH7-EZdQN"
      },
      "execution_count": 2,
      "outputs": []
    },
    {
      "cell_type": "markdown",
      "source": [
        "## Simple Example of Sweeps with SARIMAX"
      ],
      "metadata": {
        "id": "6YvQBv9KfX8Q"
      }
    },
    {
      "cell_type": "code",
      "source": [
        "import wandb\n",
        "import numpy as np\n",
        "import pandas as pd\n",
        "from scipy.stats import norm\n",
        "import statsmodels.api as sm\n",
        "import matplotlib.pyplot as plt\n",
        "from datetime import datetime\n",
        "import requests\n",
        "from io import BytesIO\n",
        "# Register converters to avoid warnings\n",
        "pd.plotting.register_matplotlib_converters()\n",
        "plt.rc(\"figure\", figsize=(16,8))\n",
        "plt.rc(\"font\", size=14)\n",
        "air2 = requests.get('https://www.stata-press.com/data/r12/air2.dta').content\n",
        "data = pd.read_stata(BytesIO(air2))\n",
        "data.index = pd.date_range(start=datetime(data.time[0], 1, 1), periods=len(data), freq='MS')\n",
        "data['lnair'] = np.log(data['air'])\n"
      ],
      "metadata": {
        "id": "xcksgiwWVTYp"
      },
      "execution_count": 3,
      "outputs": []
    },
    {
      "cell_type": "code",
      "source": [
        "# Define sweep config\n",
        "sweep_config = {\n",
        "    'method': 'random',\n",
        "    'name': 'sarimax-sweep',\n",
        "    'metric': {'goal': 'minimize', 'name': 'aic'},\n",
        "    'parameters': \n",
        "    {\n",
        "        'trend': {'values': ['c', 't', 'ct']},\n",
        "        'p': {'values': [0,1,2]},\n",
        "        'd': {'values': [0,1,2]},\n",
        "        'q': {'values': [0,1,2]},\n",
        "        # 's_p': {'values':  [0,1,2]},\n",
        "        # 's_d': {'values': [0,1,2]},\n",
        "        # 's_q': {'values': [0,1,2]} \n",
        "     }\n",
        "}"
      ],
      "metadata": {
        "id": "ZJTcAWA3VXqe"
      },
      "execution_count": 4,
      "outputs": []
    },
    {
      "cell_type": "code",
      "source": [
        "test_config = {\"trend\": \"t\", \"p\": 0, \"q\": 1, \"d\": 1, \"s_p\": 1, \"s_d\": 0, \"s_q\": 0}"
      ],
      "metadata": {
        "id": "4KvToBUnZOsY"
      },
      "execution_count": 5,
      "outputs": []
    },
    {
      "cell_type": "code",
      "source": [
        "def train_func():  \n",
        "\n",
        "    with wandb.init() as run:\n",
        "\n",
        "      config = wandb.config\n",
        "      print(\"wandb.config:\", config)\n",
        "\n",
        "      air2 = requests.get('https://www.stata-press.com/data/r12/air2.dta').content\n",
        "      data = pd.read_stata(BytesIO(air2))\n",
        "      data.index = pd.date_range(start=datetime(data.time[0], 1, 1), periods=len(data), freq='MS')\n",
        "      data['lnair'] = np.log(data['air'])\n",
        "\n",
        "      \n",
        "      order = [config.p, config.d, config.q]\n",
        "      seasonal_order = None\n",
        "      mod = sm.tsa.statespace.SARIMAX(data['lnair'], order=order, seasonal_order=seasonal_order, simple_differencing=True)\n",
        "      res = mod.fit()\n",
        "      model_summary_html = \"<html>\\n<plaintext>\\n\"+res.summary().as_text()    \n",
        "      print(res.summary())     \n",
        "      run.log({\"aic\": res.aic, \"model_summary\": wandb.Html(model_summary_html) })"
      ],
      "metadata": {
        "id": "jfmFup2PW2gl"
      },
      "execution_count": 6,
      "outputs": []
    },
    {
      "cell_type": "code",
      "source": [
        "## start the sweep with wandb \n",
        "sweep_id = wandb.sweep(sweep_config, project=\"sarimax-test\")"
      ],
      "metadata": {
        "id": "0LQsMFLOx5z8",
        "colab": {
          "base_uri": "https://localhost:8080/",
          "height": 108
        },
        "outputId": "a1f07a85-df86-462f-a967-85e5ccde1b1b"
      },
      "execution_count": 7,
      "outputs": [
        {
          "output_type": "stream",
          "name": "stderr",
          "text": [
            "ERROR:wandb.jupyter:Failed to detect the name of this notebook, you can set it manually with the WANDB_NOTEBOOK_NAME environment variable to enable code saving.\n"
          ]
        },
        {
          "output_type": "display_data",
          "data": {
            "text/plain": [
              "<IPython.core.display.Javascript object>"
            ],
            "application/javascript": [
              "\n",
              "        window._wandbApiKey = new Promise((resolve, reject) => {\n",
              "            function loadScript(url) {\n",
              "            return new Promise(function(resolve, reject) {\n",
              "                let newScript = document.createElement(\"script\");\n",
              "                newScript.onerror = reject;\n",
              "                newScript.onload = resolve;\n",
              "                document.body.appendChild(newScript);\n",
              "                newScript.src = url;\n",
              "            });\n",
              "            }\n",
              "            loadScript(\"https://cdn.jsdelivr.net/npm/postmate/build/postmate.min.js\").then(() => {\n",
              "            const iframe = document.createElement('iframe')\n",
              "            iframe.style.cssText = \"width:0;height:0;border:none\"\n",
              "            document.body.appendChild(iframe)\n",
              "            const handshake = new Postmate({\n",
              "                container: iframe,\n",
              "                url: 'https://wandb.ai/authorize'\n",
              "            });\n",
              "            const timeout = setTimeout(() => reject(\"Couldn't auto authenticate\"), 5000)\n",
              "            handshake.then(function(child) {\n",
              "                child.on('authorize', data => {\n",
              "                    clearTimeout(timeout)\n",
              "                    resolve(data)\n",
              "                });\n",
              "            });\n",
              "            })\n",
              "        });\n",
              "    "
            ]
          },
          "metadata": {}
        },
        {
          "output_type": "stream",
          "name": "stderr",
          "text": [
            "\u001b[34m\u001b[1mwandb\u001b[0m: Appending key for api.wandb.ai to your netrc file: /root/.netrc\n"
          ]
        },
        {
          "output_type": "stream",
          "name": "stdout",
          "text": [
            "Create sweep with ID: hge7mn0t\n",
            "Sweep URL: https://wandb.ai/tim-w/sarimax-test/sweeps/hge7mn0t\n"
          ]
        }
      ]
    },
    {
      "cell_type": "code",
      "source": [
        "## start an agent locally \n",
        "wandb_agent = wandb.agent(sweep_id, function=train_func, count = 5)"
      ],
      "metadata": {
        "id": "swb7ciHkaOB_"
      },
      "execution_count": null,
      "outputs": []
    },
    {
      "cell_type": "markdown",
      "source": [
        "## Multiprocessing\n",
        "\n",
        "There are actually a few ways to do this.  The method illustrated below writes our code to `train.py` and we start the wandb sweep, and we launch multiple agents locally to complete the sweep.  "
      ],
      "metadata": {
        "id": "M68HczKMarpC"
      }
    },
    {
      "cell_type": "code",
      "source": [
        "# Define sweep config\n",
        "import wandb\n",
        "sweep_config = {\n",
        "    \"program\": \"train.py\",\n",
        "    'method': 'random',\n",
        "    'metric': {'goal': 'minimize', 'name': 'aic'},\n",
        "    'parameters': \n",
        "    {\n",
        "        'trend': {'values': ['c', 't', 'ct']},\n",
        "        'p': {'values': [0,1,2]},\n",
        "        'd': {'values': [0,1,2]},\n",
        "        'q': {'values': [0,1,2]},\n",
        "        # 's_p': {'values':  [0,1,2]},\n",
        "        # 's_d': {'values': [0,1,2]},\n",
        "        # 's_q': {'values': [0,1,2]} \n",
        "     }\n",
        "}"
      ],
      "metadata": {
        "id": "yhagPGisxqxe"
      },
      "execution_count": null,
      "outputs": []
    },
    {
      "cell_type": "code",
      "source": [],
      "metadata": {
        "id": "zsYMtQTvaYLe"
      },
      "execution_count": null,
      "outputs": []
    },
    {
      "cell_type": "code",
      "source": [
        "## write train.py\n",
        "code = \"\"\"\n",
        "import wandb\n",
        "import numpy as np\n",
        "import pandas as pd\n",
        "from scipy.stats import norm\n",
        "import statsmodels.api as sm\n",
        "import matplotlib.pyplot as plt\n",
        "from datetime import datetime\n",
        "import requests\n",
        "from io import BytesIO\n",
        "# Register converters to avoid warnings\n",
        "pd.plotting.register_matplotlib_converters()\n",
        "plt.rc(\"figure\", figsize=(16,8))\n",
        "plt.rc(\"font\", size=14)\n",
        "air2 = requests.get('https://www.stata-press.com/data/r12/air2.dta').content\n",
        "data = pd.read_stata(BytesIO(air2))\n",
        "data.index = pd.date_range(start=datetime(data.time[0], 1, 1), periods=len(data), freq='MS')\n",
        "data['lnair'] = np.log(data['air'])\n",
        "order = [config.p, config.d, config.q]\n",
        "seasonal_order = None\n",
        "mod = sm.tsa.statespace.SARIMAX(data['lnair'], order=order, seasonal_order=seasonal_order, simple_differencing=True)\n",
        "res = mod.fit()\n",
        "model_summary_html = \"<html>\\n<plaintext>\\n\"+res.summary().as_text()    \n",
        "print(res.summary())     \n",
        "run.log({\"aic\": res.aic, \"model_summary\": wandb.Html(model_summary_html) })\n",
        "run.finish()\n",
        "\"\"\"\n",
        "with open(\"train.py\", \"w\") as f:\n",
        "  f.write(code)"
      ],
      "metadata": {
        "id": "vmmDT_2U2M6V"
      },
      "execution_count": null,
      "outputs": []
    },
    {
      "cell_type": "code",
      "source": [
        "sweep_id = wandb.sweep(sweep_config, project = \"sarimax-test-mp\")"
      ],
      "metadata": {
        "id": "7AJnd7Ri3REh"
      },
      "execution_count": null,
      "outputs": []
    },
    {
      "cell_type": "code",
      "source": [
        "import subprocess\n",
        "processes = []\n",
        "for i in range(1,4):\n",
        "    processes.append( subprocess.Popen( [\n",
        "        \"wandb\", \n",
        "        \"agent\", \n",
        "        \"--project\", \"sarimax-test-mp\", \n",
        "        \"--entity\", \"tim-w\", \n",
        "        \"--count\", \"5\",\n",
        "        sweep_id],  stdout=subprocess.PIPE))\n"
      ],
      "metadata": {
        "id": "olUdWpyXat8S"
      },
      "execution_count": null,
      "outputs": []
    }
  ]
}