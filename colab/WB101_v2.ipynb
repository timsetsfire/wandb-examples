{
  "nbformat": 4,
  "nbformat_minor": 0,
  "metadata": {
    "colab": {
      "provenance": [],
      "include_colab_link": true
    },
    "kernelspec": {
      "name": "python3",
      "display_name": "Python 3"
    },
    "language_info": {
      "name": "python"
    },
    "accelerator": "GPU",
    "gpuClass": "standard",
    "widgets": {
      "application/vnd.jupyter.widget-state+json": {
        "6e14c24e5c504a5b82f3bbebdb710f5f": {
          "model_module": "@jupyter-widgets/controls",
          "model_name": "VBoxModel",
          "model_module_version": "1.5.0",
          "state": {
            "_dom_classes": [],
            "_model_module": "@jupyter-widgets/controls",
            "_model_module_version": "1.5.0",
            "_model_name": "VBoxModel",
            "_view_count": null,
            "_view_module": "@jupyter-widgets/controls",
            "_view_module_version": "1.5.0",
            "_view_name": "VBoxView",
            "box_style": "",
            "children": [
              "IPY_MODEL_60d2da35390f41a3aadc387c2e3c83e1",
              "IPY_MODEL_3af6844e91fc43ca82b33b9de3b4375b"
            ],
            "layout": "IPY_MODEL_0d9b361775ff4f0dabc01b2970da42cd"
          }
        },
        "60d2da35390f41a3aadc387c2e3c83e1": {
          "model_module": "@jupyter-widgets/controls",
          "model_name": "LabelModel",
          "model_module_version": "1.5.0",
          "state": {
            "_dom_classes": [],
            "_model_module": "@jupyter-widgets/controls",
            "_model_module_version": "1.5.0",
            "_model_name": "LabelModel",
            "_view_count": null,
            "_view_module": "@jupyter-widgets/controls",
            "_view_module_version": "1.5.0",
            "_view_name": "LabelView",
            "description": "",
            "description_tooltip": null,
            "layout": "IPY_MODEL_629b8a67a5e3454ba0826a2b4c564809",
            "placeholder": "​",
            "style": "IPY_MODEL_1df1c5658f4a4847998b52f183d15237",
            "value": "0.040 MB of 0.040 MB uploaded (0.000 MB deduped)\r"
          }
        },
        "3af6844e91fc43ca82b33b9de3b4375b": {
          "model_module": "@jupyter-widgets/controls",
          "model_name": "FloatProgressModel",
          "model_module_version": "1.5.0",
          "state": {
            "_dom_classes": [],
            "_model_module": "@jupyter-widgets/controls",
            "_model_module_version": "1.5.0",
            "_model_name": "FloatProgressModel",
            "_view_count": null,
            "_view_module": "@jupyter-widgets/controls",
            "_view_module_version": "1.5.0",
            "_view_name": "ProgressView",
            "bar_style": "",
            "description": "",
            "description_tooltip": null,
            "layout": "IPY_MODEL_4d5d280916024516b4616b1104a78dc8",
            "max": 1,
            "min": 0,
            "orientation": "horizontal",
            "style": "IPY_MODEL_17b09723fc3f4e0ca2e2f6e3faa2393e",
            "value": 1
          }
        },
        "0d9b361775ff4f0dabc01b2970da42cd": {
          "model_module": "@jupyter-widgets/base",
          "model_name": "LayoutModel",
          "model_module_version": "1.2.0",
          "state": {
            "_model_module": "@jupyter-widgets/base",
            "_model_module_version": "1.2.0",
            "_model_name": "LayoutModel",
            "_view_count": null,
            "_view_module": "@jupyter-widgets/base",
            "_view_module_version": "1.2.0",
            "_view_name": "LayoutView",
            "align_content": null,
            "align_items": null,
            "align_self": null,
            "border": null,
            "bottom": null,
            "display": null,
            "flex": null,
            "flex_flow": null,
            "grid_area": null,
            "grid_auto_columns": null,
            "grid_auto_flow": null,
            "grid_auto_rows": null,
            "grid_column": null,
            "grid_gap": null,
            "grid_row": null,
            "grid_template_areas": null,
            "grid_template_columns": null,
            "grid_template_rows": null,
            "height": null,
            "justify_content": null,
            "justify_items": null,
            "left": null,
            "margin": null,
            "max_height": null,
            "max_width": null,
            "min_height": null,
            "min_width": null,
            "object_fit": null,
            "object_position": null,
            "order": null,
            "overflow": null,
            "overflow_x": null,
            "overflow_y": null,
            "padding": null,
            "right": null,
            "top": null,
            "visibility": null,
            "width": null
          }
        },
        "629b8a67a5e3454ba0826a2b4c564809": {
          "model_module": "@jupyter-widgets/base",
          "model_name": "LayoutModel",
          "model_module_version": "1.2.0",
          "state": {
            "_model_module": "@jupyter-widgets/base",
            "_model_module_version": "1.2.0",
            "_model_name": "LayoutModel",
            "_view_count": null,
            "_view_module": "@jupyter-widgets/base",
            "_view_module_version": "1.2.0",
            "_view_name": "LayoutView",
            "align_content": null,
            "align_items": null,
            "align_self": null,
            "border": null,
            "bottom": null,
            "display": null,
            "flex": null,
            "flex_flow": null,
            "grid_area": null,
            "grid_auto_columns": null,
            "grid_auto_flow": null,
            "grid_auto_rows": null,
            "grid_column": null,
            "grid_gap": null,
            "grid_row": null,
            "grid_template_areas": null,
            "grid_template_columns": null,
            "grid_template_rows": null,
            "height": null,
            "justify_content": null,
            "justify_items": null,
            "left": null,
            "margin": null,
            "max_height": null,
            "max_width": null,
            "min_height": null,
            "min_width": null,
            "object_fit": null,
            "object_position": null,
            "order": null,
            "overflow": null,
            "overflow_x": null,
            "overflow_y": null,
            "padding": null,
            "right": null,
            "top": null,
            "visibility": null,
            "width": null
          }
        },
        "1df1c5658f4a4847998b52f183d15237": {
          "model_module": "@jupyter-widgets/controls",
          "model_name": "DescriptionStyleModel",
          "model_module_version": "1.5.0",
          "state": {
            "_model_module": "@jupyter-widgets/controls",
            "_model_module_version": "1.5.0",
            "_model_name": "DescriptionStyleModel",
            "_view_count": null,
            "_view_module": "@jupyter-widgets/base",
            "_view_module_version": "1.2.0",
            "_view_name": "StyleView",
            "description_width": ""
          }
        },
        "4d5d280916024516b4616b1104a78dc8": {
          "model_module": "@jupyter-widgets/base",
          "model_name": "LayoutModel",
          "model_module_version": "1.2.0",
          "state": {
            "_model_module": "@jupyter-widgets/base",
            "_model_module_version": "1.2.0",
            "_model_name": "LayoutModel",
            "_view_count": null,
            "_view_module": "@jupyter-widgets/base",
            "_view_module_version": "1.2.0",
            "_view_name": "LayoutView",
            "align_content": null,
            "align_items": null,
            "align_self": null,
            "border": null,
            "bottom": null,
            "display": null,
            "flex": null,
            "flex_flow": null,
            "grid_area": null,
            "grid_auto_columns": null,
            "grid_auto_flow": null,
            "grid_auto_rows": null,
            "grid_column": null,
            "grid_gap": null,
            "grid_row": null,
            "grid_template_areas": null,
            "grid_template_columns": null,
            "grid_template_rows": null,
            "height": null,
            "justify_content": null,
            "justify_items": null,
            "left": null,
            "margin": null,
            "max_height": null,
            "max_width": null,
            "min_height": null,
            "min_width": null,
            "object_fit": null,
            "object_position": null,
            "order": null,
            "overflow": null,
            "overflow_x": null,
            "overflow_y": null,
            "padding": null,
            "right": null,
            "top": null,
            "visibility": null,
            "width": null
          }
        },
        "17b09723fc3f4e0ca2e2f6e3faa2393e": {
          "model_module": "@jupyter-widgets/controls",
          "model_name": "ProgressStyleModel",
          "model_module_version": "1.5.0",
          "state": {
            "_model_module": "@jupyter-widgets/controls",
            "_model_module_version": "1.5.0",
            "_model_name": "ProgressStyleModel",
            "_view_count": null,
            "_view_module": "@jupyter-widgets/base",
            "_view_module_version": "1.2.0",
            "_view_name": "StyleView",
            "bar_color": null,
            "description_width": ""
          }
        },
        "090139cd13d248faa874f02c7c31edbe": {
          "model_module": "@jupyter-widgets/controls",
          "model_name": "VBoxModel",
          "model_module_version": "1.5.0",
          "state": {
            "_dom_classes": [],
            "_model_module": "@jupyter-widgets/controls",
            "_model_module_version": "1.5.0",
            "_model_name": "VBoxModel",
            "_view_count": null,
            "_view_module": "@jupyter-widgets/controls",
            "_view_module_version": "1.5.0",
            "_view_name": "VBoxView",
            "box_style": "",
            "children": [
              "IPY_MODEL_28b06942d4f24a609b7bd4c69e5896fb",
              "IPY_MODEL_ca79d1af525747668ec69bbbf0d63624"
            ],
            "layout": "IPY_MODEL_cf4e10ea69d24982b8cc8da0ef0e44ab"
          }
        },
        "28b06942d4f24a609b7bd4c69e5896fb": {
          "model_module": "@jupyter-widgets/controls",
          "model_name": "LabelModel",
          "model_module_version": "1.5.0",
          "state": {
            "_dom_classes": [],
            "_model_module": "@jupyter-widgets/controls",
            "_model_module_version": "1.5.0",
            "_model_name": "LabelModel",
            "_view_count": null,
            "_view_module": "@jupyter-widgets/controls",
            "_view_module_version": "1.5.0",
            "_view_name": "LabelView",
            "description": "",
            "description_tooltip": null,
            "layout": "IPY_MODEL_c08179047adc48aa837995abaf828844",
            "placeholder": "​",
            "style": "IPY_MODEL_9dc19893c4e14ae183f210820b86327a",
            "value": "0.061 MB of 0.061 MB uploaded (0.000 MB deduped)\r"
          }
        },
        "ca79d1af525747668ec69bbbf0d63624": {
          "model_module": "@jupyter-widgets/controls",
          "model_name": "FloatProgressModel",
          "model_module_version": "1.5.0",
          "state": {
            "_dom_classes": [],
            "_model_module": "@jupyter-widgets/controls",
            "_model_module_version": "1.5.0",
            "_model_name": "FloatProgressModel",
            "_view_count": null,
            "_view_module": "@jupyter-widgets/controls",
            "_view_module_version": "1.5.0",
            "_view_name": "ProgressView",
            "bar_style": "",
            "description": "",
            "description_tooltip": null,
            "layout": "IPY_MODEL_256baf1263264f3691a9171ddead5963",
            "max": 1,
            "min": 0,
            "orientation": "horizontal",
            "style": "IPY_MODEL_2a55b30cd82945eb9c3ea590f763a6aa",
            "value": 1
          }
        },
        "cf4e10ea69d24982b8cc8da0ef0e44ab": {
          "model_module": "@jupyter-widgets/base",
          "model_name": "LayoutModel",
          "model_module_version": "1.2.0",
          "state": {
            "_model_module": "@jupyter-widgets/base",
            "_model_module_version": "1.2.0",
            "_model_name": "LayoutModel",
            "_view_count": null,
            "_view_module": "@jupyter-widgets/base",
            "_view_module_version": "1.2.0",
            "_view_name": "LayoutView",
            "align_content": null,
            "align_items": null,
            "align_self": null,
            "border": null,
            "bottom": null,
            "display": null,
            "flex": null,
            "flex_flow": null,
            "grid_area": null,
            "grid_auto_columns": null,
            "grid_auto_flow": null,
            "grid_auto_rows": null,
            "grid_column": null,
            "grid_gap": null,
            "grid_row": null,
            "grid_template_areas": null,
            "grid_template_columns": null,
            "grid_template_rows": null,
            "height": null,
            "justify_content": null,
            "justify_items": null,
            "left": null,
            "margin": null,
            "max_height": null,
            "max_width": null,
            "min_height": null,
            "min_width": null,
            "object_fit": null,
            "object_position": null,
            "order": null,
            "overflow": null,
            "overflow_x": null,
            "overflow_y": null,
            "padding": null,
            "right": null,
            "top": null,
            "visibility": null,
            "width": null
          }
        },
        "c08179047adc48aa837995abaf828844": {
          "model_module": "@jupyter-widgets/base",
          "model_name": "LayoutModel",
          "model_module_version": "1.2.0",
          "state": {
            "_model_module": "@jupyter-widgets/base",
            "_model_module_version": "1.2.0",
            "_model_name": "LayoutModel",
            "_view_count": null,
            "_view_module": "@jupyter-widgets/base",
            "_view_module_version": "1.2.0",
            "_view_name": "LayoutView",
            "align_content": null,
            "align_items": null,
            "align_self": null,
            "border": null,
            "bottom": null,
            "display": null,
            "flex": null,
            "flex_flow": null,
            "grid_area": null,
            "grid_auto_columns": null,
            "grid_auto_flow": null,
            "grid_auto_rows": null,
            "grid_column": null,
            "grid_gap": null,
            "grid_row": null,
            "grid_template_areas": null,
            "grid_template_columns": null,
            "grid_template_rows": null,
            "height": null,
            "justify_content": null,
            "justify_items": null,
            "left": null,
            "margin": null,
            "max_height": null,
            "max_width": null,
            "min_height": null,
            "min_width": null,
            "object_fit": null,
            "object_position": null,
            "order": null,
            "overflow": null,
            "overflow_x": null,
            "overflow_y": null,
            "padding": null,
            "right": null,
            "top": null,
            "visibility": null,
            "width": null
          }
        },
        "9dc19893c4e14ae183f210820b86327a": {
          "model_module": "@jupyter-widgets/controls",
          "model_name": "DescriptionStyleModel",
          "model_module_version": "1.5.0",
          "state": {
            "_model_module": "@jupyter-widgets/controls",
            "_model_module_version": "1.5.0",
            "_model_name": "DescriptionStyleModel",
            "_view_count": null,
            "_view_module": "@jupyter-widgets/base",
            "_view_module_version": "1.2.0",
            "_view_name": "StyleView",
            "description_width": ""
          }
        },
        "256baf1263264f3691a9171ddead5963": {
          "model_module": "@jupyter-widgets/base",
          "model_name": "LayoutModel",
          "model_module_version": "1.2.0",
          "state": {
            "_model_module": "@jupyter-widgets/base",
            "_model_module_version": "1.2.0",
            "_model_name": "LayoutModel",
            "_view_count": null,
            "_view_module": "@jupyter-widgets/base",
            "_view_module_version": "1.2.0",
            "_view_name": "LayoutView",
            "align_content": null,
            "align_items": null,
            "align_self": null,
            "border": null,
            "bottom": null,
            "display": null,
            "flex": null,
            "flex_flow": null,
            "grid_area": null,
            "grid_auto_columns": null,
            "grid_auto_flow": null,
            "grid_auto_rows": null,
            "grid_column": null,
            "grid_gap": null,
            "grid_row": null,
            "grid_template_areas": null,
            "grid_template_columns": null,
            "grid_template_rows": null,
            "height": null,
            "justify_content": null,
            "justify_items": null,
            "left": null,
            "margin": null,
            "max_height": null,
            "max_width": null,
            "min_height": null,
            "min_width": null,
            "object_fit": null,
            "object_position": null,
            "order": null,
            "overflow": null,
            "overflow_x": null,
            "overflow_y": null,
            "padding": null,
            "right": null,
            "top": null,
            "visibility": null,
            "width": null
          }
        },
        "2a55b30cd82945eb9c3ea590f763a6aa": {
          "model_module": "@jupyter-widgets/controls",
          "model_name": "ProgressStyleModel",
          "model_module_version": "1.5.0",
          "state": {
            "_model_module": "@jupyter-widgets/controls",
            "_model_module_version": "1.5.0",
            "_model_name": "ProgressStyleModel",
            "_view_count": null,
            "_view_module": "@jupyter-widgets/base",
            "_view_module_version": "1.2.0",
            "_view_name": "StyleView",
            "bar_color": null,
            "description_width": ""
          }
        },
        "b72f7bf06aa2407d8a1023651438c6b6": {
          "model_module": "@jupyter-widgets/controls",
          "model_name": "VBoxModel",
          "model_module_version": "1.5.0",
          "state": {
            "_dom_classes": [],
            "_model_module": "@jupyter-widgets/controls",
            "_model_module_version": "1.5.0",
            "_model_name": "VBoxModel",
            "_view_count": null,
            "_view_module": "@jupyter-widgets/controls",
            "_view_module_version": "1.5.0",
            "_view_name": "VBoxView",
            "box_style": "",
            "children": [
              "IPY_MODEL_3c08014bd15e4fc7bfcbf5c2aea8f9ae",
              "IPY_MODEL_35c68a2a84e5421b82b86fcf5917c9cc"
            ],
            "layout": "IPY_MODEL_54907b10682340b9a7d358fb456bb583"
          }
        },
        "3c08014bd15e4fc7bfcbf5c2aea8f9ae": {
          "model_module": "@jupyter-widgets/controls",
          "model_name": "LabelModel",
          "model_module_version": "1.5.0",
          "state": {
            "_dom_classes": [],
            "_model_module": "@jupyter-widgets/controls",
            "_model_module_version": "1.5.0",
            "_model_name": "LabelModel",
            "_view_count": null,
            "_view_module": "@jupyter-widgets/controls",
            "_view_module_version": "1.5.0",
            "_view_name": "LabelView",
            "description": "",
            "description_tooltip": null,
            "layout": "IPY_MODEL_69deb74958d24918b12e75925b28f33e",
            "placeholder": "​",
            "style": "IPY_MODEL_e4cfe951e00d4a2d84ed9015b56df780",
            "value": "2.231 MB of 2.246 MB uploaded (0.000 MB deduped)\r"
          }
        },
        "35c68a2a84e5421b82b86fcf5917c9cc": {
          "model_module": "@jupyter-widgets/controls",
          "model_name": "FloatProgressModel",
          "model_module_version": "1.5.0",
          "state": {
            "_dom_classes": [],
            "_model_module": "@jupyter-widgets/controls",
            "_model_module_version": "1.5.0",
            "_model_name": "FloatProgressModel",
            "_view_count": null,
            "_view_module": "@jupyter-widgets/controls",
            "_view_module_version": "1.5.0",
            "_view_name": "ProgressView",
            "bar_style": "",
            "description": "",
            "description_tooltip": null,
            "layout": "IPY_MODEL_1f6e883f1df14d13829bf1ac74819553",
            "max": 1,
            "min": 0,
            "orientation": "horizontal",
            "style": "IPY_MODEL_1a155edfdef04ec4b8d2a881c0131bf9",
            "value": 0.9934801322829857
          }
        },
        "54907b10682340b9a7d358fb456bb583": {
          "model_module": "@jupyter-widgets/base",
          "model_name": "LayoutModel",
          "model_module_version": "1.2.0",
          "state": {
            "_model_module": "@jupyter-widgets/base",
            "_model_module_version": "1.2.0",
            "_model_name": "LayoutModel",
            "_view_count": null,
            "_view_module": "@jupyter-widgets/base",
            "_view_module_version": "1.2.0",
            "_view_name": "LayoutView",
            "align_content": null,
            "align_items": null,
            "align_self": null,
            "border": null,
            "bottom": null,
            "display": null,
            "flex": null,
            "flex_flow": null,
            "grid_area": null,
            "grid_auto_columns": null,
            "grid_auto_flow": null,
            "grid_auto_rows": null,
            "grid_column": null,
            "grid_gap": null,
            "grid_row": null,
            "grid_template_areas": null,
            "grid_template_columns": null,
            "grid_template_rows": null,
            "height": null,
            "justify_content": null,
            "justify_items": null,
            "left": null,
            "margin": null,
            "max_height": null,
            "max_width": null,
            "min_height": null,
            "min_width": null,
            "object_fit": null,
            "object_position": null,
            "order": null,
            "overflow": null,
            "overflow_x": null,
            "overflow_y": null,
            "padding": null,
            "right": null,
            "top": null,
            "visibility": null,
            "width": null
          }
        },
        "69deb74958d24918b12e75925b28f33e": {
          "model_module": "@jupyter-widgets/base",
          "model_name": "LayoutModel",
          "model_module_version": "1.2.0",
          "state": {
            "_model_module": "@jupyter-widgets/base",
            "_model_module_version": "1.2.0",
            "_model_name": "LayoutModel",
            "_view_count": null,
            "_view_module": "@jupyter-widgets/base",
            "_view_module_version": "1.2.0",
            "_view_name": "LayoutView",
            "align_content": null,
            "align_items": null,
            "align_self": null,
            "border": null,
            "bottom": null,
            "display": null,
            "flex": null,
            "flex_flow": null,
            "grid_area": null,
            "grid_auto_columns": null,
            "grid_auto_flow": null,
            "grid_auto_rows": null,
            "grid_column": null,
            "grid_gap": null,
            "grid_row": null,
            "grid_template_areas": null,
            "grid_template_columns": null,
            "grid_template_rows": null,
            "height": null,
            "justify_content": null,
            "justify_items": null,
            "left": null,
            "margin": null,
            "max_height": null,
            "max_width": null,
            "min_height": null,
            "min_width": null,
            "object_fit": null,
            "object_position": null,
            "order": null,
            "overflow": null,
            "overflow_x": null,
            "overflow_y": null,
            "padding": null,
            "right": null,
            "top": null,
            "visibility": null,
            "width": null
          }
        },
        "e4cfe951e00d4a2d84ed9015b56df780": {
          "model_module": "@jupyter-widgets/controls",
          "model_name": "DescriptionStyleModel",
          "model_module_version": "1.5.0",
          "state": {
            "_model_module": "@jupyter-widgets/controls",
            "_model_module_version": "1.5.0",
            "_model_name": "DescriptionStyleModel",
            "_view_count": null,
            "_view_module": "@jupyter-widgets/base",
            "_view_module_version": "1.2.0",
            "_view_name": "StyleView",
            "description_width": ""
          }
        },
        "1f6e883f1df14d13829bf1ac74819553": {
          "model_module": "@jupyter-widgets/base",
          "model_name": "LayoutModel",
          "model_module_version": "1.2.0",
          "state": {
            "_model_module": "@jupyter-widgets/base",
            "_model_module_version": "1.2.0",
            "_model_name": "LayoutModel",
            "_view_count": null,
            "_view_module": "@jupyter-widgets/base",
            "_view_module_version": "1.2.0",
            "_view_name": "LayoutView",
            "align_content": null,
            "align_items": null,
            "align_self": null,
            "border": null,
            "bottom": null,
            "display": null,
            "flex": null,
            "flex_flow": null,
            "grid_area": null,
            "grid_auto_columns": null,
            "grid_auto_flow": null,
            "grid_auto_rows": null,
            "grid_column": null,
            "grid_gap": null,
            "grid_row": null,
            "grid_template_areas": null,
            "grid_template_columns": null,
            "grid_template_rows": null,
            "height": null,
            "justify_content": null,
            "justify_items": null,
            "left": null,
            "margin": null,
            "max_height": null,
            "max_width": null,
            "min_height": null,
            "min_width": null,
            "object_fit": null,
            "object_position": null,
            "order": null,
            "overflow": null,
            "overflow_x": null,
            "overflow_y": null,
            "padding": null,
            "right": null,
            "top": null,
            "visibility": null,
            "width": null
          }
        },
        "1a155edfdef04ec4b8d2a881c0131bf9": {
          "model_module": "@jupyter-widgets/controls",
          "model_name": "ProgressStyleModel",
          "model_module_version": "1.5.0",
          "state": {
            "_model_module": "@jupyter-widgets/controls",
            "_model_module_version": "1.5.0",
            "_model_name": "ProgressStyleModel",
            "_view_count": null,
            "_view_module": "@jupyter-widgets/base",
            "_view_module_version": "1.2.0",
            "_view_name": "StyleView",
            "bar_color": null,
            "description_width": ""
          }
        },
        "53be740ef4ce422e966e04e2911a2b32": {
          "model_module": "@jupyter-widgets/controls",
          "model_name": "VBoxModel",
          "model_module_version": "1.5.0",
          "state": {
            "_dom_classes": [],
            "_model_module": "@jupyter-widgets/controls",
            "_model_module_version": "1.5.0",
            "_model_name": "VBoxModel",
            "_view_count": null,
            "_view_module": "@jupyter-widgets/controls",
            "_view_module_version": "1.5.0",
            "_view_name": "VBoxView",
            "box_style": "",
            "children": [
              "IPY_MODEL_6559f90d71934a65b1e679359815f8c1",
              "IPY_MODEL_5f733cfa66ed45d895b39193216684f6"
            ],
            "layout": "IPY_MODEL_8cb1c16cad0043a5a69da64ea18b323d"
          }
        },
        "6559f90d71934a65b1e679359815f8c1": {
          "model_module": "@jupyter-widgets/controls",
          "model_name": "LabelModel",
          "model_module_version": "1.5.0",
          "state": {
            "_dom_classes": [],
            "_model_module": "@jupyter-widgets/controls",
            "_model_module_version": "1.5.0",
            "_model_name": "LabelModel",
            "_view_count": null,
            "_view_module": "@jupyter-widgets/controls",
            "_view_module_version": "1.5.0",
            "_view_name": "LabelView",
            "description": "",
            "description_tooltip": null,
            "layout": "IPY_MODEL_d469899e1c2a411ea87c5ea835bcf19b",
            "placeholder": "​",
            "style": "IPY_MODEL_ac0bc125e7d945fe97d83da2cf45e511",
            "value": "10.833 MB of 10.833 MB uploaded (0.000 MB deduped)\r"
          }
        },
        "5f733cfa66ed45d895b39193216684f6": {
          "model_module": "@jupyter-widgets/controls",
          "model_name": "FloatProgressModel",
          "model_module_version": "1.5.0",
          "state": {
            "_dom_classes": [],
            "_model_module": "@jupyter-widgets/controls",
            "_model_module_version": "1.5.0",
            "_model_name": "FloatProgressModel",
            "_view_count": null,
            "_view_module": "@jupyter-widgets/controls",
            "_view_module_version": "1.5.0",
            "_view_name": "ProgressView",
            "bar_style": "",
            "description": "",
            "description_tooltip": null,
            "layout": "IPY_MODEL_ac54f534679d4f1cbf6c8f1931101081",
            "max": 1,
            "min": 0,
            "orientation": "horizontal",
            "style": "IPY_MODEL_5e031cf695924aaa9c53e4651f1a0b2b",
            "value": 1
          }
        },
        "8cb1c16cad0043a5a69da64ea18b323d": {
          "model_module": "@jupyter-widgets/base",
          "model_name": "LayoutModel",
          "model_module_version": "1.2.0",
          "state": {
            "_model_module": "@jupyter-widgets/base",
            "_model_module_version": "1.2.0",
            "_model_name": "LayoutModel",
            "_view_count": null,
            "_view_module": "@jupyter-widgets/base",
            "_view_module_version": "1.2.0",
            "_view_name": "LayoutView",
            "align_content": null,
            "align_items": null,
            "align_self": null,
            "border": null,
            "bottom": null,
            "display": null,
            "flex": null,
            "flex_flow": null,
            "grid_area": null,
            "grid_auto_columns": null,
            "grid_auto_flow": null,
            "grid_auto_rows": null,
            "grid_column": null,
            "grid_gap": null,
            "grid_row": null,
            "grid_template_areas": null,
            "grid_template_columns": null,
            "grid_template_rows": null,
            "height": null,
            "justify_content": null,
            "justify_items": null,
            "left": null,
            "margin": null,
            "max_height": null,
            "max_width": null,
            "min_height": null,
            "min_width": null,
            "object_fit": null,
            "object_position": null,
            "order": null,
            "overflow": null,
            "overflow_x": null,
            "overflow_y": null,
            "padding": null,
            "right": null,
            "top": null,
            "visibility": null,
            "width": null
          }
        },
        "d469899e1c2a411ea87c5ea835bcf19b": {
          "model_module": "@jupyter-widgets/base",
          "model_name": "LayoutModel",
          "model_module_version": "1.2.0",
          "state": {
            "_model_module": "@jupyter-widgets/base",
            "_model_module_version": "1.2.0",
            "_model_name": "LayoutModel",
            "_view_count": null,
            "_view_module": "@jupyter-widgets/base",
            "_view_module_version": "1.2.0",
            "_view_name": "LayoutView",
            "align_content": null,
            "align_items": null,
            "align_self": null,
            "border": null,
            "bottom": null,
            "display": null,
            "flex": null,
            "flex_flow": null,
            "grid_area": null,
            "grid_auto_columns": null,
            "grid_auto_flow": null,
            "grid_auto_rows": null,
            "grid_column": null,
            "grid_gap": null,
            "grid_row": null,
            "grid_template_areas": null,
            "grid_template_columns": null,
            "grid_template_rows": null,
            "height": null,
            "justify_content": null,
            "justify_items": null,
            "left": null,
            "margin": null,
            "max_height": null,
            "max_width": null,
            "min_height": null,
            "min_width": null,
            "object_fit": null,
            "object_position": null,
            "order": null,
            "overflow": null,
            "overflow_x": null,
            "overflow_y": null,
            "padding": null,
            "right": null,
            "top": null,
            "visibility": null,
            "width": null
          }
        },
        "ac0bc125e7d945fe97d83da2cf45e511": {
          "model_module": "@jupyter-widgets/controls",
          "model_name": "DescriptionStyleModel",
          "model_module_version": "1.5.0",
          "state": {
            "_model_module": "@jupyter-widgets/controls",
            "_model_module_version": "1.5.0",
            "_model_name": "DescriptionStyleModel",
            "_view_count": null,
            "_view_module": "@jupyter-widgets/base",
            "_view_module_version": "1.2.0",
            "_view_name": "StyleView",
            "description_width": ""
          }
        },
        "ac54f534679d4f1cbf6c8f1931101081": {
          "model_module": "@jupyter-widgets/base",
          "model_name": "LayoutModel",
          "model_module_version": "1.2.0",
          "state": {
            "_model_module": "@jupyter-widgets/base",
            "_model_module_version": "1.2.0",
            "_model_name": "LayoutModel",
            "_view_count": null,
            "_view_module": "@jupyter-widgets/base",
            "_view_module_version": "1.2.0",
            "_view_name": "LayoutView",
            "align_content": null,
            "align_items": null,
            "align_self": null,
            "border": null,
            "bottom": null,
            "display": null,
            "flex": null,
            "flex_flow": null,
            "grid_area": null,
            "grid_auto_columns": null,
            "grid_auto_flow": null,
            "grid_auto_rows": null,
            "grid_column": null,
            "grid_gap": null,
            "grid_row": null,
            "grid_template_areas": null,
            "grid_template_columns": null,
            "grid_template_rows": null,
            "height": null,
            "justify_content": null,
            "justify_items": null,
            "left": null,
            "margin": null,
            "max_height": null,
            "max_width": null,
            "min_height": null,
            "min_width": null,
            "object_fit": null,
            "object_position": null,
            "order": null,
            "overflow": null,
            "overflow_x": null,
            "overflow_y": null,
            "padding": null,
            "right": null,
            "top": null,
            "visibility": null,
            "width": null
          }
        },
        "5e031cf695924aaa9c53e4651f1a0b2b": {
          "model_module": "@jupyter-widgets/controls",
          "model_name": "ProgressStyleModel",
          "model_module_version": "1.5.0",
          "state": {
            "_model_module": "@jupyter-widgets/controls",
            "_model_module_version": "1.5.0",
            "_model_name": "ProgressStyleModel",
            "_view_count": null,
            "_view_module": "@jupyter-widgets/base",
            "_view_module_version": "1.2.0",
            "_view_name": "StyleView",
            "bar_color": null,
            "description_width": ""
          }
        },
        "1a53a83593fa44a7866d5737319fb5e3": {
          "model_module": "@jupyter-widgets/controls",
          "model_name": "VBoxModel",
          "model_module_version": "1.5.0",
          "state": {
            "_dom_classes": [],
            "_model_module": "@jupyter-widgets/controls",
            "_model_module_version": "1.5.0",
            "_model_name": "VBoxModel",
            "_view_count": null,
            "_view_module": "@jupyter-widgets/controls",
            "_view_module_version": "1.5.0",
            "_view_name": "VBoxView",
            "box_style": "",
            "children": [
              "IPY_MODEL_edc1724fca6042c194f2e589725d4304",
              "IPY_MODEL_fb536c2258c7400db23cdd065e7bad77"
            ],
            "layout": "IPY_MODEL_a63512baa92043089238d3b9d175b8bb"
          }
        },
        "edc1724fca6042c194f2e589725d4304": {
          "model_module": "@jupyter-widgets/controls",
          "model_name": "LabelModel",
          "model_module_version": "1.5.0",
          "state": {
            "_dom_classes": [],
            "_model_module": "@jupyter-widgets/controls",
            "_model_module_version": "1.5.0",
            "_model_name": "LabelModel",
            "_view_count": null,
            "_view_module": "@jupyter-widgets/controls",
            "_view_module_version": "1.5.0",
            "_view_name": "LabelView",
            "description": "",
            "description_tooltip": null,
            "layout": "IPY_MODEL_3c06656b41e144d5b45f4849635aa437",
            "placeholder": "​",
            "style": "IPY_MODEL_3782f0a2784248bda97800d3d5d191bf",
            "value": "0.123 MB of 0.132 MB uploaded (0.000 MB deduped)\r"
          }
        },
        "fb536c2258c7400db23cdd065e7bad77": {
          "model_module": "@jupyter-widgets/controls",
          "model_name": "FloatProgressModel",
          "model_module_version": "1.5.0",
          "state": {
            "_dom_classes": [],
            "_model_module": "@jupyter-widgets/controls",
            "_model_module_version": "1.5.0",
            "_model_name": "FloatProgressModel",
            "_view_count": null,
            "_view_module": "@jupyter-widgets/controls",
            "_view_module_version": "1.5.0",
            "_view_name": "ProgressView",
            "bar_style": "",
            "description": "",
            "description_tooltip": null,
            "layout": "IPY_MODEL_fc3dd7b75ac7419e94187f31c1ce70fe",
            "max": 1,
            "min": 0,
            "orientation": "horizontal",
            "style": "IPY_MODEL_f2a6b0d5309a4ae686b546d48febe62b",
            "value": 0.9304174231300587
          }
        },
        "a63512baa92043089238d3b9d175b8bb": {
          "model_module": "@jupyter-widgets/base",
          "model_name": "LayoutModel",
          "model_module_version": "1.2.0",
          "state": {
            "_model_module": "@jupyter-widgets/base",
            "_model_module_version": "1.2.0",
            "_model_name": "LayoutModel",
            "_view_count": null,
            "_view_module": "@jupyter-widgets/base",
            "_view_module_version": "1.2.0",
            "_view_name": "LayoutView",
            "align_content": null,
            "align_items": null,
            "align_self": null,
            "border": null,
            "bottom": null,
            "display": null,
            "flex": null,
            "flex_flow": null,
            "grid_area": null,
            "grid_auto_columns": null,
            "grid_auto_flow": null,
            "grid_auto_rows": null,
            "grid_column": null,
            "grid_gap": null,
            "grid_row": null,
            "grid_template_areas": null,
            "grid_template_columns": null,
            "grid_template_rows": null,
            "height": null,
            "justify_content": null,
            "justify_items": null,
            "left": null,
            "margin": null,
            "max_height": null,
            "max_width": null,
            "min_height": null,
            "min_width": null,
            "object_fit": null,
            "object_position": null,
            "order": null,
            "overflow": null,
            "overflow_x": null,
            "overflow_y": null,
            "padding": null,
            "right": null,
            "top": null,
            "visibility": null,
            "width": null
          }
        },
        "3c06656b41e144d5b45f4849635aa437": {
          "model_module": "@jupyter-widgets/base",
          "model_name": "LayoutModel",
          "model_module_version": "1.2.0",
          "state": {
            "_model_module": "@jupyter-widgets/base",
            "_model_module_version": "1.2.0",
            "_model_name": "LayoutModel",
            "_view_count": null,
            "_view_module": "@jupyter-widgets/base",
            "_view_module_version": "1.2.0",
            "_view_name": "LayoutView",
            "align_content": null,
            "align_items": null,
            "align_self": null,
            "border": null,
            "bottom": null,
            "display": null,
            "flex": null,
            "flex_flow": null,
            "grid_area": null,
            "grid_auto_columns": null,
            "grid_auto_flow": null,
            "grid_auto_rows": null,
            "grid_column": null,
            "grid_gap": null,
            "grid_row": null,
            "grid_template_areas": null,
            "grid_template_columns": null,
            "grid_template_rows": null,
            "height": null,
            "justify_content": null,
            "justify_items": null,
            "left": null,
            "margin": null,
            "max_height": null,
            "max_width": null,
            "min_height": null,
            "min_width": null,
            "object_fit": null,
            "object_position": null,
            "order": null,
            "overflow": null,
            "overflow_x": null,
            "overflow_y": null,
            "padding": null,
            "right": null,
            "top": null,
            "visibility": null,
            "width": null
          }
        },
        "3782f0a2784248bda97800d3d5d191bf": {
          "model_module": "@jupyter-widgets/controls",
          "model_name": "DescriptionStyleModel",
          "model_module_version": "1.5.0",
          "state": {
            "_model_module": "@jupyter-widgets/controls",
            "_model_module_version": "1.5.0",
            "_model_name": "DescriptionStyleModel",
            "_view_count": null,
            "_view_module": "@jupyter-widgets/base",
            "_view_module_version": "1.2.0",
            "_view_name": "StyleView",
            "description_width": ""
          }
        },
        "fc3dd7b75ac7419e94187f31c1ce70fe": {
          "model_module": "@jupyter-widgets/base",
          "model_name": "LayoutModel",
          "model_module_version": "1.2.0",
          "state": {
            "_model_module": "@jupyter-widgets/base",
            "_model_module_version": "1.2.0",
            "_model_name": "LayoutModel",
            "_view_count": null,
            "_view_module": "@jupyter-widgets/base",
            "_view_module_version": "1.2.0",
            "_view_name": "LayoutView",
            "align_content": null,
            "align_items": null,
            "align_self": null,
            "border": null,
            "bottom": null,
            "display": null,
            "flex": null,
            "flex_flow": null,
            "grid_area": null,
            "grid_auto_columns": null,
            "grid_auto_flow": null,
            "grid_auto_rows": null,
            "grid_column": null,
            "grid_gap": null,
            "grid_row": null,
            "grid_template_areas": null,
            "grid_template_columns": null,
            "grid_template_rows": null,
            "height": null,
            "justify_content": null,
            "justify_items": null,
            "left": null,
            "margin": null,
            "max_height": null,
            "max_width": null,
            "min_height": null,
            "min_width": null,
            "object_fit": null,
            "object_position": null,
            "order": null,
            "overflow": null,
            "overflow_x": null,
            "overflow_y": null,
            "padding": null,
            "right": null,
            "top": null,
            "visibility": null,
            "width": null
          }
        },
        "f2a6b0d5309a4ae686b546d48febe62b": {
          "model_module": "@jupyter-widgets/controls",
          "model_name": "ProgressStyleModel",
          "model_module_version": "1.5.0",
          "state": {
            "_model_module": "@jupyter-widgets/controls",
            "_model_module_version": "1.5.0",
            "_model_name": "ProgressStyleModel",
            "_view_count": null,
            "_view_module": "@jupyter-widgets/base",
            "_view_module_version": "1.2.0",
            "_view_name": "StyleView",
            "bar_color": null,
            "description_width": ""
          }
        },
        "8726c3ca983545dd80db4e9839c86d3b": {
          "model_module": "@jupyter-widgets/controls",
          "model_name": "VBoxModel",
          "model_module_version": "1.5.0",
          "state": {
            "_dom_classes": [],
            "_model_module": "@jupyter-widgets/controls",
            "_model_module_version": "1.5.0",
            "_model_name": "VBoxModel",
            "_view_count": null,
            "_view_module": "@jupyter-widgets/controls",
            "_view_module_version": "1.5.0",
            "_view_name": "VBoxView",
            "box_style": "",
            "children": [
              "IPY_MODEL_ed47663055bc465684d6a21e7e287b87",
              "IPY_MODEL_dc7bd302a94148a396ae6647a8b96c0c"
            ],
            "layout": "IPY_MODEL_a1852d6444a345c785c0fb75266416f2"
          }
        },
        "ed47663055bc465684d6a21e7e287b87": {
          "model_module": "@jupyter-widgets/controls",
          "model_name": "LabelModel",
          "model_module_version": "1.5.0",
          "state": {
            "_dom_classes": [],
            "_model_module": "@jupyter-widgets/controls",
            "_model_module_version": "1.5.0",
            "_model_name": "LabelModel",
            "_view_count": null,
            "_view_module": "@jupyter-widgets/controls",
            "_view_module_version": "1.5.0",
            "_view_name": "LabelView",
            "description": "",
            "description_tooltip": null,
            "layout": "IPY_MODEL_fd6fae2740bb4137a63cd7dd303ea64a",
            "placeholder": "​",
            "style": "IPY_MODEL_5b321d7428c54fb39103c8f367c09bbd",
            "value": "0.106 MB of 0.106 MB uploaded (0.000 MB deduped)\r"
          }
        },
        "dc7bd302a94148a396ae6647a8b96c0c": {
          "model_module": "@jupyter-widgets/controls",
          "model_name": "FloatProgressModel",
          "model_module_version": "1.5.0",
          "state": {
            "_dom_classes": [],
            "_model_module": "@jupyter-widgets/controls",
            "_model_module_version": "1.5.0",
            "_model_name": "FloatProgressModel",
            "_view_count": null,
            "_view_module": "@jupyter-widgets/controls",
            "_view_module_version": "1.5.0",
            "_view_name": "ProgressView",
            "bar_style": "",
            "description": "",
            "description_tooltip": null,
            "layout": "IPY_MODEL_1ed0441feb374195b3cb2b7b05cf2ad4",
            "max": 1,
            "min": 0,
            "orientation": "horizontal",
            "style": "IPY_MODEL_0aa26d9b60804777b93d75583b9d992b",
            "value": 1
          }
        },
        "a1852d6444a345c785c0fb75266416f2": {
          "model_module": "@jupyter-widgets/base",
          "model_name": "LayoutModel",
          "model_module_version": "1.2.0",
          "state": {
            "_model_module": "@jupyter-widgets/base",
            "_model_module_version": "1.2.0",
            "_model_name": "LayoutModel",
            "_view_count": null,
            "_view_module": "@jupyter-widgets/base",
            "_view_module_version": "1.2.0",
            "_view_name": "LayoutView",
            "align_content": null,
            "align_items": null,
            "align_self": null,
            "border": null,
            "bottom": null,
            "display": null,
            "flex": null,
            "flex_flow": null,
            "grid_area": null,
            "grid_auto_columns": null,
            "grid_auto_flow": null,
            "grid_auto_rows": null,
            "grid_column": null,
            "grid_gap": null,
            "grid_row": null,
            "grid_template_areas": null,
            "grid_template_columns": null,
            "grid_template_rows": null,
            "height": null,
            "justify_content": null,
            "justify_items": null,
            "left": null,
            "margin": null,
            "max_height": null,
            "max_width": null,
            "min_height": null,
            "min_width": null,
            "object_fit": null,
            "object_position": null,
            "order": null,
            "overflow": null,
            "overflow_x": null,
            "overflow_y": null,
            "padding": null,
            "right": null,
            "top": null,
            "visibility": null,
            "width": null
          }
        },
        "fd6fae2740bb4137a63cd7dd303ea64a": {
          "model_module": "@jupyter-widgets/base",
          "model_name": "LayoutModel",
          "model_module_version": "1.2.0",
          "state": {
            "_model_module": "@jupyter-widgets/base",
            "_model_module_version": "1.2.0",
            "_model_name": "LayoutModel",
            "_view_count": null,
            "_view_module": "@jupyter-widgets/base",
            "_view_module_version": "1.2.0",
            "_view_name": "LayoutView",
            "align_content": null,
            "align_items": null,
            "align_self": null,
            "border": null,
            "bottom": null,
            "display": null,
            "flex": null,
            "flex_flow": null,
            "grid_area": null,
            "grid_auto_columns": null,
            "grid_auto_flow": null,
            "grid_auto_rows": null,
            "grid_column": null,
            "grid_gap": null,
            "grid_row": null,
            "grid_template_areas": null,
            "grid_template_columns": null,
            "grid_template_rows": null,
            "height": null,
            "justify_content": null,
            "justify_items": null,
            "left": null,
            "margin": null,
            "max_height": null,
            "max_width": null,
            "min_height": null,
            "min_width": null,
            "object_fit": null,
            "object_position": null,
            "order": null,
            "overflow": null,
            "overflow_x": null,
            "overflow_y": null,
            "padding": null,
            "right": null,
            "top": null,
            "visibility": null,
            "width": null
          }
        },
        "5b321d7428c54fb39103c8f367c09bbd": {
          "model_module": "@jupyter-widgets/controls",
          "model_name": "DescriptionStyleModel",
          "model_module_version": "1.5.0",
          "state": {
            "_model_module": "@jupyter-widgets/controls",
            "_model_module_version": "1.5.0",
            "_model_name": "DescriptionStyleModel",
            "_view_count": null,
            "_view_module": "@jupyter-widgets/base",
            "_view_module_version": "1.2.0",
            "_view_name": "StyleView",
            "description_width": ""
          }
        },
        "1ed0441feb374195b3cb2b7b05cf2ad4": {
          "model_module": "@jupyter-widgets/base",
          "model_name": "LayoutModel",
          "model_module_version": "1.2.0",
          "state": {
            "_model_module": "@jupyter-widgets/base",
            "_model_module_version": "1.2.0",
            "_model_name": "LayoutModel",
            "_view_count": null,
            "_view_module": "@jupyter-widgets/base",
            "_view_module_version": "1.2.0",
            "_view_name": "LayoutView",
            "align_content": null,
            "align_items": null,
            "align_self": null,
            "border": null,
            "bottom": null,
            "display": null,
            "flex": null,
            "flex_flow": null,
            "grid_area": null,
            "grid_auto_columns": null,
            "grid_auto_flow": null,
            "grid_auto_rows": null,
            "grid_column": null,
            "grid_gap": null,
            "grid_row": null,
            "grid_template_areas": null,
            "grid_template_columns": null,
            "grid_template_rows": null,
            "height": null,
            "justify_content": null,
            "justify_items": null,
            "left": null,
            "margin": null,
            "max_height": null,
            "max_width": null,
            "min_height": null,
            "min_width": null,
            "object_fit": null,
            "object_position": null,
            "order": null,
            "overflow": null,
            "overflow_x": null,
            "overflow_y": null,
            "padding": null,
            "right": null,
            "top": null,
            "visibility": null,
            "width": null
          }
        },
        "0aa26d9b60804777b93d75583b9d992b": {
          "model_module": "@jupyter-widgets/controls",
          "model_name": "ProgressStyleModel",
          "model_module_version": "1.5.0",
          "state": {
            "_model_module": "@jupyter-widgets/controls",
            "_model_module_version": "1.5.0",
            "_model_name": "ProgressStyleModel",
            "_view_count": null,
            "_view_module": "@jupyter-widgets/base",
            "_view_module_version": "1.2.0",
            "_view_name": "StyleView",
            "bar_color": null,
            "description_width": ""
          }
        },
        "c276c6a8659d4582bbcbdc813fbe616c": {
          "model_module": "@jupyter-widgets/controls",
          "model_name": "VBoxModel",
          "model_module_version": "1.5.0",
          "state": {
            "_dom_classes": [],
            "_model_module": "@jupyter-widgets/controls",
            "_model_module_version": "1.5.0",
            "_model_name": "VBoxModel",
            "_view_count": null,
            "_view_module": "@jupyter-widgets/controls",
            "_view_module_version": "1.5.0",
            "_view_name": "VBoxView",
            "box_style": "",
            "children": [
              "IPY_MODEL_88cbd58c8e28461c9821d0f385b57248",
              "IPY_MODEL_cb8a6cac31034e0dbea96253b8f12477"
            ],
            "layout": "IPY_MODEL_aa032f0dc8164485875a696e1faa83a5"
          }
        },
        "88cbd58c8e28461c9821d0f385b57248": {
          "model_module": "@jupyter-widgets/controls",
          "model_name": "LabelModel",
          "model_module_version": "1.5.0",
          "state": {
            "_dom_classes": [],
            "_model_module": "@jupyter-widgets/controls",
            "_model_module_version": "1.5.0",
            "_model_name": "LabelModel",
            "_view_count": null,
            "_view_module": "@jupyter-widgets/controls",
            "_view_module_version": "1.5.0",
            "_view_name": "LabelView",
            "description": "",
            "description_tooltip": null,
            "layout": "IPY_MODEL_ce9aeb08fcbf4b48beb1786be4b4e681",
            "placeholder": "​",
            "style": "IPY_MODEL_7b690adc456b44d8bc371f2f8172270d",
            "value": "1.702 MB of 1.702 MB uploaded (1.037 MB deduped)\r"
          }
        },
        "cb8a6cac31034e0dbea96253b8f12477": {
          "model_module": "@jupyter-widgets/controls",
          "model_name": "FloatProgressModel",
          "model_module_version": "1.5.0",
          "state": {
            "_dom_classes": [],
            "_model_module": "@jupyter-widgets/controls",
            "_model_module_version": "1.5.0",
            "_model_name": "FloatProgressModel",
            "_view_count": null,
            "_view_module": "@jupyter-widgets/controls",
            "_view_module_version": "1.5.0",
            "_view_name": "ProgressView",
            "bar_style": "",
            "description": "",
            "description_tooltip": null,
            "layout": "IPY_MODEL_afe7c6845ef4430bb1f426993e8294ab",
            "max": 1,
            "min": 0,
            "orientation": "horizontal",
            "style": "IPY_MODEL_e7117f1b80a44f99a30315efbbf8e5a7",
            "value": 1
          }
        },
        "aa032f0dc8164485875a696e1faa83a5": {
          "model_module": "@jupyter-widgets/base",
          "model_name": "LayoutModel",
          "model_module_version": "1.2.0",
          "state": {
            "_model_module": "@jupyter-widgets/base",
            "_model_module_version": "1.2.0",
            "_model_name": "LayoutModel",
            "_view_count": null,
            "_view_module": "@jupyter-widgets/base",
            "_view_module_version": "1.2.0",
            "_view_name": "LayoutView",
            "align_content": null,
            "align_items": null,
            "align_self": null,
            "border": null,
            "bottom": null,
            "display": null,
            "flex": null,
            "flex_flow": null,
            "grid_area": null,
            "grid_auto_columns": null,
            "grid_auto_flow": null,
            "grid_auto_rows": null,
            "grid_column": null,
            "grid_gap": null,
            "grid_row": null,
            "grid_template_areas": null,
            "grid_template_columns": null,
            "grid_template_rows": null,
            "height": null,
            "justify_content": null,
            "justify_items": null,
            "left": null,
            "margin": null,
            "max_height": null,
            "max_width": null,
            "min_height": null,
            "min_width": null,
            "object_fit": null,
            "object_position": null,
            "order": null,
            "overflow": null,
            "overflow_x": null,
            "overflow_y": null,
            "padding": null,
            "right": null,
            "top": null,
            "visibility": null,
            "width": null
          }
        },
        "ce9aeb08fcbf4b48beb1786be4b4e681": {
          "model_module": "@jupyter-widgets/base",
          "model_name": "LayoutModel",
          "model_module_version": "1.2.0",
          "state": {
            "_model_module": "@jupyter-widgets/base",
            "_model_module_version": "1.2.0",
            "_model_name": "LayoutModel",
            "_view_count": null,
            "_view_module": "@jupyter-widgets/base",
            "_view_module_version": "1.2.0",
            "_view_name": "LayoutView",
            "align_content": null,
            "align_items": null,
            "align_self": null,
            "border": null,
            "bottom": null,
            "display": null,
            "flex": null,
            "flex_flow": null,
            "grid_area": null,
            "grid_auto_columns": null,
            "grid_auto_flow": null,
            "grid_auto_rows": null,
            "grid_column": null,
            "grid_gap": null,
            "grid_row": null,
            "grid_template_areas": null,
            "grid_template_columns": null,
            "grid_template_rows": null,
            "height": null,
            "justify_content": null,
            "justify_items": null,
            "left": null,
            "margin": null,
            "max_height": null,
            "max_width": null,
            "min_height": null,
            "min_width": null,
            "object_fit": null,
            "object_position": null,
            "order": null,
            "overflow": null,
            "overflow_x": null,
            "overflow_y": null,
            "padding": null,
            "right": null,
            "top": null,
            "visibility": null,
            "width": null
          }
        },
        "7b690adc456b44d8bc371f2f8172270d": {
          "model_module": "@jupyter-widgets/controls",
          "model_name": "DescriptionStyleModel",
          "model_module_version": "1.5.0",
          "state": {
            "_model_module": "@jupyter-widgets/controls",
            "_model_module_version": "1.5.0",
            "_model_name": "DescriptionStyleModel",
            "_view_count": null,
            "_view_module": "@jupyter-widgets/base",
            "_view_module_version": "1.2.0",
            "_view_name": "StyleView",
            "description_width": ""
          }
        },
        "afe7c6845ef4430bb1f426993e8294ab": {
          "model_module": "@jupyter-widgets/base",
          "model_name": "LayoutModel",
          "model_module_version": "1.2.0",
          "state": {
            "_model_module": "@jupyter-widgets/base",
            "_model_module_version": "1.2.0",
            "_model_name": "LayoutModel",
            "_view_count": null,
            "_view_module": "@jupyter-widgets/base",
            "_view_module_version": "1.2.0",
            "_view_name": "LayoutView",
            "align_content": null,
            "align_items": null,
            "align_self": null,
            "border": null,
            "bottom": null,
            "display": null,
            "flex": null,
            "flex_flow": null,
            "grid_area": null,
            "grid_auto_columns": null,
            "grid_auto_flow": null,
            "grid_auto_rows": null,
            "grid_column": null,
            "grid_gap": null,
            "grid_row": null,
            "grid_template_areas": null,
            "grid_template_columns": null,
            "grid_template_rows": null,
            "height": null,
            "justify_content": null,
            "justify_items": null,
            "left": null,
            "margin": null,
            "max_height": null,
            "max_width": null,
            "min_height": null,
            "min_width": null,
            "object_fit": null,
            "object_position": null,
            "order": null,
            "overflow": null,
            "overflow_x": null,
            "overflow_y": null,
            "padding": null,
            "right": null,
            "top": null,
            "visibility": null,
            "width": null
          }
        },
        "e7117f1b80a44f99a30315efbbf8e5a7": {
          "model_module": "@jupyter-widgets/controls",
          "model_name": "ProgressStyleModel",
          "model_module_version": "1.5.0",
          "state": {
            "_model_module": "@jupyter-widgets/controls",
            "_model_module_version": "1.5.0",
            "_model_name": "ProgressStyleModel",
            "_view_count": null,
            "_view_module": "@jupyter-widgets/base",
            "_view_module_version": "1.2.0",
            "_view_name": "StyleView",
            "bar_color": null,
            "description_width": ""
          }
        },
        "3ddf5e56eca147669bb754065ae50005": {
          "model_module": "@jupyter-widgets/controls",
          "model_name": "VBoxModel",
          "model_module_version": "1.5.0",
          "state": {
            "_dom_classes": [],
            "_model_module": "@jupyter-widgets/controls",
            "_model_module_version": "1.5.0",
            "_model_name": "VBoxModel",
            "_view_count": null,
            "_view_module": "@jupyter-widgets/controls",
            "_view_module_version": "1.5.0",
            "_view_name": "VBoxView",
            "box_style": "",
            "children": [
              "IPY_MODEL_f417ef8ad5a44c7cafc14aa5f5597a1f",
              "IPY_MODEL_a26cae9f1bf343daa6ff03d422de696e"
            ],
            "layout": "IPY_MODEL_daf17ae2846b4f589cd3b0a34b64707e"
          }
        },
        "f417ef8ad5a44c7cafc14aa5f5597a1f": {
          "model_module": "@jupyter-widgets/controls",
          "model_name": "LabelModel",
          "model_module_version": "1.5.0",
          "state": {
            "_dom_classes": [],
            "_model_module": "@jupyter-widgets/controls",
            "_model_module_version": "1.5.0",
            "_model_name": "LabelModel",
            "_view_count": null,
            "_view_module": "@jupyter-widgets/controls",
            "_view_module_version": "1.5.0",
            "_view_name": "LabelView",
            "description": "",
            "description_tooltip": null,
            "layout": "IPY_MODEL_28f45432e8fe4066a0c6989bbff8ac9c",
            "placeholder": "​",
            "style": "IPY_MODEL_bff5f410e5154b589ee651f3d5e56ddc",
            "value": "3.315 MB of 3.315 MB uploaded (0.000 MB deduped)\r"
          }
        },
        "a26cae9f1bf343daa6ff03d422de696e": {
          "model_module": "@jupyter-widgets/controls",
          "model_name": "FloatProgressModel",
          "model_module_version": "1.5.0",
          "state": {
            "_dom_classes": [],
            "_model_module": "@jupyter-widgets/controls",
            "_model_module_version": "1.5.0",
            "_model_name": "FloatProgressModel",
            "_view_count": null,
            "_view_module": "@jupyter-widgets/controls",
            "_view_module_version": "1.5.0",
            "_view_name": "ProgressView",
            "bar_style": "",
            "description": "",
            "description_tooltip": null,
            "layout": "IPY_MODEL_cf083a0405124f03a61a69f090f7dc09",
            "max": 1,
            "min": 0,
            "orientation": "horizontal",
            "style": "IPY_MODEL_1d2c3c511e33465480da234afe991dc5",
            "value": 1
          }
        },
        "daf17ae2846b4f589cd3b0a34b64707e": {
          "model_module": "@jupyter-widgets/base",
          "model_name": "LayoutModel",
          "model_module_version": "1.2.0",
          "state": {
            "_model_module": "@jupyter-widgets/base",
            "_model_module_version": "1.2.0",
            "_model_name": "LayoutModel",
            "_view_count": null,
            "_view_module": "@jupyter-widgets/base",
            "_view_module_version": "1.2.0",
            "_view_name": "LayoutView",
            "align_content": null,
            "align_items": null,
            "align_self": null,
            "border": null,
            "bottom": null,
            "display": null,
            "flex": null,
            "flex_flow": null,
            "grid_area": null,
            "grid_auto_columns": null,
            "grid_auto_flow": null,
            "grid_auto_rows": null,
            "grid_column": null,
            "grid_gap": null,
            "grid_row": null,
            "grid_template_areas": null,
            "grid_template_columns": null,
            "grid_template_rows": null,
            "height": null,
            "justify_content": null,
            "justify_items": null,
            "left": null,
            "margin": null,
            "max_height": null,
            "max_width": null,
            "min_height": null,
            "min_width": null,
            "object_fit": null,
            "object_position": null,
            "order": null,
            "overflow": null,
            "overflow_x": null,
            "overflow_y": null,
            "padding": null,
            "right": null,
            "top": null,
            "visibility": null,
            "width": null
          }
        },
        "28f45432e8fe4066a0c6989bbff8ac9c": {
          "model_module": "@jupyter-widgets/base",
          "model_name": "LayoutModel",
          "model_module_version": "1.2.0",
          "state": {
            "_model_module": "@jupyter-widgets/base",
            "_model_module_version": "1.2.0",
            "_model_name": "LayoutModel",
            "_view_count": null,
            "_view_module": "@jupyter-widgets/base",
            "_view_module_version": "1.2.0",
            "_view_name": "LayoutView",
            "align_content": null,
            "align_items": null,
            "align_self": null,
            "border": null,
            "bottom": null,
            "display": null,
            "flex": null,
            "flex_flow": null,
            "grid_area": null,
            "grid_auto_columns": null,
            "grid_auto_flow": null,
            "grid_auto_rows": null,
            "grid_column": null,
            "grid_gap": null,
            "grid_row": null,
            "grid_template_areas": null,
            "grid_template_columns": null,
            "grid_template_rows": null,
            "height": null,
            "justify_content": null,
            "justify_items": null,
            "left": null,
            "margin": null,
            "max_height": null,
            "max_width": null,
            "min_height": null,
            "min_width": null,
            "object_fit": null,
            "object_position": null,
            "order": null,
            "overflow": null,
            "overflow_x": null,
            "overflow_y": null,
            "padding": null,
            "right": null,
            "top": null,
            "visibility": null,
            "width": null
          }
        },
        "bff5f410e5154b589ee651f3d5e56ddc": {
          "model_module": "@jupyter-widgets/controls",
          "model_name": "DescriptionStyleModel",
          "model_module_version": "1.5.0",
          "state": {
            "_model_module": "@jupyter-widgets/controls",
            "_model_module_version": "1.5.0",
            "_model_name": "DescriptionStyleModel",
            "_view_count": null,
            "_view_module": "@jupyter-widgets/base",
            "_view_module_version": "1.2.0",
            "_view_name": "StyleView",
            "description_width": ""
          }
        },
        "cf083a0405124f03a61a69f090f7dc09": {
          "model_module": "@jupyter-widgets/base",
          "model_name": "LayoutModel",
          "model_module_version": "1.2.0",
          "state": {
            "_model_module": "@jupyter-widgets/base",
            "_model_module_version": "1.2.0",
            "_model_name": "LayoutModel",
            "_view_count": null,
            "_view_module": "@jupyter-widgets/base",
            "_view_module_version": "1.2.0",
            "_view_name": "LayoutView",
            "align_content": null,
            "align_items": null,
            "align_self": null,
            "border": null,
            "bottom": null,
            "display": null,
            "flex": null,
            "flex_flow": null,
            "grid_area": null,
            "grid_auto_columns": null,
            "grid_auto_flow": null,
            "grid_auto_rows": null,
            "grid_column": null,
            "grid_gap": null,
            "grid_row": null,
            "grid_template_areas": null,
            "grid_template_columns": null,
            "grid_template_rows": null,
            "height": null,
            "justify_content": null,
            "justify_items": null,
            "left": null,
            "margin": null,
            "max_height": null,
            "max_width": null,
            "min_height": null,
            "min_width": null,
            "object_fit": null,
            "object_position": null,
            "order": null,
            "overflow": null,
            "overflow_x": null,
            "overflow_y": null,
            "padding": null,
            "right": null,
            "top": null,
            "visibility": null,
            "width": null
          }
        },
        "1d2c3c511e33465480da234afe991dc5": {
          "model_module": "@jupyter-widgets/controls",
          "model_name": "ProgressStyleModel",
          "model_module_version": "1.5.0",
          "state": {
            "_model_module": "@jupyter-widgets/controls",
            "_model_module_version": "1.5.0",
            "_model_name": "ProgressStyleModel",
            "_view_count": null,
            "_view_module": "@jupyter-widgets/base",
            "_view_module_version": "1.2.0",
            "_view_name": "StyleView",
            "bar_color": null,
            "description_width": ""
          }
        },
        "11f0684ca3fa4b6fa620de21f5b8c526": {
          "model_module": "@jupyter-widgets/controls",
          "model_name": "VBoxModel",
          "model_module_version": "1.5.0",
          "state": {
            "_dom_classes": [],
            "_model_module": "@jupyter-widgets/controls",
            "_model_module_version": "1.5.0",
            "_model_name": "VBoxModel",
            "_view_count": null,
            "_view_module": "@jupyter-widgets/controls",
            "_view_module_version": "1.5.0",
            "_view_name": "VBoxView",
            "box_style": "",
            "children": [
              "IPY_MODEL_74132a6130ea4387b495a44f57ae6d04",
              "IPY_MODEL_f3edd84e6a1e410abb31057df894f7c9"
            ],
            "layout": "IPY_MODEL_fb19d82a6987444294892688090c2c65"
          }
        },
        "74132a6130ea4387b495a44f57ae6d04": {
          "model_module": "@jupyter-widgets/controls",
          "model_name": "LabelModel",
          "model_module_version": "1.5.0",
          "state": {
            "_dom_classes": [],
            "_model_module": "@jupyter-widgets/controls",
            "_model_module_version": "1.5.0",
            "_model_name": "LabelModel",
            "_view_count": null,
            "_view_module": "@jupyter-widgets/controls",
            "_view_module_version": "1.5.0",
            "_view_name": "LabelView",
            "description": "",
            "description_tooltip": null,
            "layout": "IPY_MODEL_29e3abe117ee41eda582cc25acfdbc5b",
            "placeholder": "​",
            "style": "IPY_MODEL_278ef165cee341f4827aa2069ed45c30",
            "value": "4.989 MB of 4.989 MB uploaded (0.000 MB deduped)\r"
          }
        },
        "f3edd84e6a1e410abb31057df894f7c9": {
          "model_module": "@jupyter-widgets/controls",
          "model_name": "FloatProgressModel",
          "model_module_version": "1.5.0",
          "state": {
            "_dom_classes": [],
            "_model_module": "@jupyter-widgets/controls",
            "_model_module_version": "1.5.0",
            "_model_name": "FloatProgressModel",
            "_view_count": null,
            "_view_module": "@jupyter-widgets/controls",
            "_view_module_version": "1.5.0",
            "_view_name": "ProgressView",
            "bar_style": "",
            "description": "",
            "description_tooltip": null,
            "layout": "IPY_MODEL_edd32379ca7047c7893c2e4f94400c1c",
            "max": 1,
            "min": 0,
            "orientation": "horizontal",
            "style": "IPY_MODEL_759abed1cf7e400bb72d583000565057",
            "value": 1
          }
        },
        "fb19d82a6987444294892688090c2c65": {
          "model_module": "@jupyter-widgets/base",
          "model_name": "LayoutModel",
          "model_module_version": "1.2.0",
          "state": {
            "_model_module": "@jupyter-widgets/base",
            "_model_module_version": "1.2.0",
            "_model_name": "LayoutModel",
            "_view_count": null,
            "_view_module": "@jupyter-widgets/base",
            "_view_module_version": "1.2.0",
            "_view_name": "LayoutView",
            "align_content": null,
            "align_items": null,
            "align_self": null,
            "border": null,
            "bottom": null,
            "display": null,
            "flex": null,
            "flex_flow": null,
            "grid_area": null,
            "grid_auto_columns": null,
            "grid_auto_flow": null,
            "grid_auto_rows": null,
            "grid_column": null,
            "grid_gap": null,
            "grid_row": null,
            "grid_template_areas": null,
            "grid_template_columns": null,
            "grid_template_rows": null,
            "height": null,
            "justify_content": null,
            "justify_items": null,
            "left": null,
            "margin": null,
            "max_height": null,
            "max_width": null,
            "min_height": null,
            "min_width": null,
            "object_fit": null,
            "object_position": null,
            "order": null,
            "overflow": null,
            "overflow_x": null,
            "overflow_y": null,
            "padding": null,
            "right": null,
            "top": null,
            "visibility": null,
            "width": null
          }
        },
        "29e3abe117ee41eda582cc25acfdbc5b": {
          "model_module": "@jupyter-widgets/base",
          "model_name": "LayoutModel",
          "model_module_version": "1.2.0",
          "state": {
            "_model_module": "@jupyter-widgets/base",
            "_model_module_version": "1.2.0",
            "_model_name": "LayoutModel",
            "_view_count": null,
            "_view_module": "@jupyter-widgets/base",
            "_view_module_version": "1.2.0",
            "_view_name": "LayoutView",
            "align_content": null,
            "align_items": null,
            "align_self": null,
            "border": null,
            "bottom": null,
            "display": null,
            "flex": null,
            "flex_flow": null,
            "grid_area": null,
            "grid_auto_columns": null,
            "grid_auto_flow": null,
            "grid_auto_rows": null,
            "grid_column": null,
            "grid_gap": null,
            "grid_row": null,
            "grid_template_areas": null,
            "grid_template_columns": null,
            "grid_template_rows": null,
            "height": null,
            "justify_content": null,
            "justify_items": null,
            "left": null,
            "margin": null,
            "max_height": null,
            "max_width": null,
            "min_height": null,
            "min_width": null,
            "object_fit": null,
            "object_position": null,
            "order": null,
            "overflow": null,
            "overflow_x": null,
            "overflow_y": null,
            "padding": null,
            "right": null,
            "top": null,
            "visibility": null,
            "width": null
          }
        },
        "278ef165cee341f4827aa2069ed45c30": {
          "model_module": "@jupyter-widgets/controls",
          "model_name": "DescriptionStyleModel",
          "model_module_version": "1.5.0",
          "state": {
            "_model_module": "@jupyter-widgets/controls",
            "_model_module_version": "1.5.0",
            "_model_name": "DescriptionStyleModel",
            "_view_count": null,
            "_view_module": "@jupyter-widgets/base",
            "_view_module_version": "1.2.0",
            "_view_name": "StyleView",
            "description_width": ""
          }
        },
        "edd32379ca7047c7893c2e4f94400c1c": {
          "model_module": "@jupyter-widgets/base",
          "model_name": "LayoutModel",
          "model_module_version": "1.2.0",
          "state": {
            "_model_module": "@jupyter-widgets/base",
            "_model_module_version": "1.2.0",
            "_model_name": "LayoutModel",
            "_view_count": null,
            "_view_module": "@jupyter-widgets/base",
            "_view_module_version": "1.2.0",
            "_view_name": "LayoutView",
            "align_content": null,
            "align_items": null,
            "align_self": null,
            "border": null,
            "bottom": null,
            "display": null,
            "flex": null,
            "flex_flow": null,
            "grid_area": null,
            "grid_auto_columns": null,
            "grid_auto_flow": null,
            "grid_auto_rows": null,
            "grid_column": null,
            "grid_gap": null,
            "grid_row": null,
            "grid_template_areas": null,
            "grid_template_columns": null,
            "grid_template_rows": null,
            "height": null,
            "justify_content": null,
            "justify_items": null,
            "left": null,
            "margin": null,
            "max_height": null,
            "max_width": null,
            "min_height": null,
            "min_width": null,
            "object_fit": null,
            "object_position": null,
            "order": null,
            "overflow": null,
            "overflow_x": null,
            "overflow_y": null,
            "padding": null,
            "right": null,
            "top": null,
            "visibility": null,
            "width": null
          }
        },
        "759abed1cf7e400bb72d583000565057": {
          "model_module": "@jupyter-widgets/controls",
          "model_name": "ProgressStyleModel",
          "model_module_version": "1.5.0",
          "state": {
            "_model_module": "@jupyter-widgets/controls",
            "_model_module_version": "1.5.0",
            "_model_name": "ProgressStyleModel",
            "_view_count": null,
            "_view_module": "@jupyter-widgets/base",
            "_view_module_version": "1.2.0",
            "_view_name": "StyleView",
            "bar_color": null,
            "description_width": ""
          }
        },
        "b5334edf64824f0abf5407b4db497af2": {
          "model_module": "@jupyter-widgets/controls",
          "model_name": "VBoxModel",
          "model_module_version": "1.5.0",
          "state": {
            "_dom_classes": [],
            "_model_module": "@jupyter-widgets/controls",
            "_model_module_version": "1.5.0",
            "_model_name": "VBoxModel",
            "_view_count": null,
            "_view_module": "@jupyter-widgets/controls",
            "_view_module_version": "1.5.0",
            "_view_name": "VBoxView",
            "box_style": "",
            "children": [
              "IPY_MODEL_b07716a460cd41b4be5bdc2bcb3df348",
              "IPY_MODEL_8542f7bd48994810a9a6dfec103cc493"
            ],
            "layout": "IPY_MODEL_f1c088a34a024e69b820461854c57d50"
          }
        },
        "b07716a460cd41b4be5bdc2bcb3df348": {
          "model_module": "@jupyter-widgets/controls",
          "model_name": "LabelModel",
          "model_module_version": "1.5.0",
          "state": {
            "_dom_classes": [],
            "_model_module": "@jupyter-widgets/controls",
            "_model_module_version": "1.5.0",
            "_model_name": "LabelModel",
            "_view_count": null,
            "_view_module": "@jupyter-widgets/controls",
            "_view_module_version": "1.5.0",
            "_view_name": "LabelView",
            "description": "",
            "description_tooltip": null,
            "layout": "IPY_MODEL_a633af801ac54850a976654beb716371",
            "placeholder": "​",
            "style": "IPY_MODEL_6d62480e691f44709d8d312be48a2f9e",
            "value": "5.022 MB of 5.022 MB uploaded (0.000 MB deduped)\r"
          }
        },
        "8542f7bd48994810a9a6dfec103cc493": {
          "model_module": "@jupyter-widgets/controls",
          "model_name": "FloatProgressModel",
          "model_module_version": "1.5.0",
          "state": {
            "_dom_classes": [],
            "_model_module": "@jupyter-widgets/controls",
            "_model_module_version": "1.5.0",
            "_model_name": "FloatProgressModel",
            "_view_count": null,
            "_view_module": "@jupyter-widgets/controls",
            "_view_module_version": "1.5.0",
            "_view_name": "ProgressView",
            "bar_style": "",
            "description": "",
            "description_tooltip": null,
            "layout": "IPY_MODEL_547a5f9fcf4342d79571e60a2047e261",
            "max": 1,
            "min": 0,
            "orientation": "horizontal",
            "style": "IPY_MODEL_7e88cc28942542bb9c762dbac8122350",
            "value": 1
          }
        },
        "f1c088a34a024e69b820461854c57d50": {
          "model_module": "@jupyter-widgets/base",
          "model_name": "LayoutModel",
          "model_module_version": "1.2.0",
          "state": {
            "_model_module": "@jupyter-widgets/base",
            "_model_module_version": "1.2.0",
            "_model_name": "LayoutModel",
            "_view_count": null,
            "_view_module": "@jupyter-widgets/base",
            "_view_module_version": "1.2.0",
            "_view_name": "LayoutView",
            "align_content": null,
            "align_items": null,
            "align_self": null,
            "border": null,
            "bottom": null,
            "display": null,
            "flex": null,
            "flex_flow": null,
            "grid_area": null,
            "grid_auto_columns": null,
            "grid_auto_flow": null,
            "grid_auto_rows": null,
            "grid_column": null,
            "grid_gap": null,
            "grid_row": null,
            "grid_template_areas": null,
            "grid_template_columns": null,
            "grid_template_rows": null,
            "height": null,
            "justify_content": null,
            "justify_items": null,
            "left": null,
            "margin": null,
            "max_height": null,
            "max_width": null,
            "min_height": null,
            "min_width": null,
            "object_fit": null,
            "object_position": null,
            "order": null,
            "overflow": null,
            "overflow_x": null,
            "overflow_y": null,
            "padding": null,
            "right": null,
            "top": null,
            "visibility": null,
            "width": null
          }
        },
        "a633af801ac54850a976654beb716371": {
          "model_module": "@jupyter-widgets/base",
          "model_name": "LayoutModel",
          "model_module_version": "1.2.0",
          "state": {
            "_model_module": "@jupyter-widgets/base",
            "_model_module_version": "1.2.0",
            "_model_name": "LayoutModel",
            "_view_count": null,
            "_view_module": "@jupyter-widgets/base",
            "_view_module_version": "1.2.0",
            "_view_name": "LayoutView",
            "align_content": null,
            "align_items": null,
            "align_self": null,
            "border": null,
            "bottom": null,
            "display": null,
            "flex": null,
            "flex_flow": null,
            "grid_area": null,
            "grid_auto_columns": null,
            "grid_auto_flow": null,
            "grid_auto_rows": null,
            "grid_column": null,
            "grid_gap": null,
            "grid_row": null,
            "grid_template_areas": null,
            "grid_template_columns": null,
            "grid_template_rows": null,
            "height": null,
            "justify_content": null,
            "justify_items": null,
            "left": null,
            "margin": null,
            "max_height": null,
            "max_width": null,
            "min_height": null,
            "min_width": null,
            "object_fit": null,
            "object_position": null,
            "order": null,
            "overflow": null,
            "overflow_x": null,
            "overflow_y": null,
            "padding": null,
            "right": null,
            "top": null,
            "visibility": null,
            "width": null
          }
        },
        "6d62480e691f44709d8d312be48a2f9e": {
          "model_module": "@jupyter-widgets/controls",
          "model_name": "DescriptionStyleModel",
          "model_module_version": "1.5.0",
          "state": {
            "_model_module": "@jupyter-widgets/controls",
            "_model_module_version": "1.5.0",
            "_model_name": "DescriptionStyleModel",
            "_view_count": null,
            "_view_module": "@jupyter-widgets/base",
            "_view_module_version": "1.2.0",
            "_view_name": "StyleView",
            "description_width": ""
          }
        },
        "547a5f9fcf4342d79571e60a2047e261": {
          "model_module": "@jupyter-widgets/base",
          "model_name": "LayoutModel",
          "model_module_version": "1.2.0",
          "state": {
            "_model_module": "@jupyter-widgets/base",
            "_model_module_version": "1.2.0",
            "_model_name": "LayoutModel",
            "_view_count": null,
            "_view_module": "@jupyter-widgets/base",
            "_view_module_version": "1.2.0",
            "_view_name": "LayoutView",
            "align_content": null,
            "align_items": null,
            "align_self": null,
            "border": null,
            "bottom": null,
            "display": null,
            "flex": null,
            "flex_flow": null,
            "grid_area": null,
            "grid_auto_columns": null,
            "grid_auto_flow": null,
            "grid_auto_rows": null,
            "grid_column": null,
            "grid_gap": null,
            "grid_row": null,
            "grid_template_areas": null,
            "grid_template_columns": null,
            "grid_template_rows": null,
            "height": null,
            "justify_content": null,
            "justify_items": null,
            "left": null,
            "margin": null,
            "max_height": null,
            "max_width": null,
            "min_height": null,
            "min_width": null,
            "object_fit": null,
            "object_position": null,
            "order": null,
            "overflow": null,
            "overflow_x": null,
            "overflow_y": null,
            "padding": null,
            "right": null,
            "top": null,
            "visibility": null,
            "width": null
          }
        },
        "7e88cc28942542bb9c762dbac8122350": {
          "model_module": "@jupyter-widgets/controls",
          "model_name": "ProgressStyleModel",
          "model_module_version": "1.5.0",
          "state": {
            "_model_module": "@jupyter-widgets/controls",
            "_model_module_version": "1.5.0",
            "_model_name": "ProgressStyleModel",
            "_view_count": null,
            "_view_module": "@jupyter-widgets/base",
            "_view_module_version": "1.2.0",
            "_view_name": "StyleView",
            "bar_color": null,
            "description_width": ""
          }
        }
      }
    }
  },
  "cells": [
    {
      "cell_type": "markdown",
      "metadata": {
        "id": "view-in-github",
        "colab_type": "text"
      },
      "source": [
        "<a href=\"https://colab.research.google.com/github/timsetsfire/wandb-examples/blob/main/colab/WB101_v2.ipynb\" target=\"_parent\"><img src=\"https://colab.research.google.com/assets/colab-badge.svg\" alt=\"Open In Colab\"/></a>"
      ]
    },
    {
      "cell_type": "markdown",
      "source": [
        "# Weights & Biases 101 🥾🏕️\n",
        "\n",
        "This notebook is intended to show you how to track your machine learning experiments using [Weights & Biases](https://wandb.ai).\n",
        "\n",
        "Weights & Biases has two major components: a python client named `wandb` 🪄🐝  and a web application that allows you to store, query, visualize, and share metadata from your machine learning experiments, e.g. loss curves, evaluation metrics, model predictions... you can `wandb.log` *just about* anything.\n",
        "\n",
        "The client is open source and you can find the [source code on Github](http://github.com/wandb/wandb)! ⭐\n",
        "\n",
        "The web application is publicly hosted at [wandb.ai](http://wandb.ai), but the app can be deployed in private environments as well. If you're interested in learning more about private deployments of the web app, check out [these docs](http://docs.wandb.ai/guides/self-hosted). \n",
        "\n",
        "The first step on our journey is to install the client, which is as easy as:"
      ],
      "metadata": {
        "id": "SMSSb5vCs2q0"
      }
    },
    {
      "cell_type": "code",
      "source": [
        "!pip install wandb"
      ],
      "metadata": {
        "id": "6WF5BCvwc0DK"
      },
      "execution_count": null,
      "outputs": []
    },
    {
      "cell_type": "code",
      "source": [
        "import wandb"
      ],
      "metadata": {
        "id": "UjEn77wKc2UR"
      },
      "execution_count": 2,
      "outputs": []
    },
    {
      "cell_type": "code",
      "source": [
        "%%capture\n",
        "!pip install wandb keplergl trimesh\n",
        "!pip install --upgrade xgboost"
      ],
      "metadata": {
        "id": "DOJPiyNAu4lv"
      },
      "execution_count": 3,
      "outputs": []
    },
    {
      "cell_type": "markdown",
      "source": [
        "## Client Configuration\n",
        "\n",
        "The first thing we do is set the `WANDB_PROJECT` environment variable. This tells the client to send all the data we log to a specific workspace in Weights & Biases. Environment variables are a great way to customize the behavior of the client without having to hardcode contextual details like a project name. You can check out [these docs](https://docs.wandb.ai/guides/track/advanced/environment-variables) for a complete list of the environment variables you can use to configure `wandb`."
      ],
      "metadata": {
        "id": "kIwEgFsVnhbr"
      }
    },
    {
      "cell_type": "code",
      "source": [
        "import os\n",
        "os.environ[\"WANDB_PROJECT\"] = \"bootcamp\""
      ],
      "metadata": {
        "id": "9HNLLjQV4rzH"
      },
      "execution_count": 4,
      "outputs": []
    },
    {
      "cell_type": "markdown",
      "source": [
        "Next, we need to connect the client to an account in the web server. We do this in a notebook by calling `wandb.login`.\n",
        "\n",
        "If you have Google SSO enabled for your Weights & Biases account and are running this notebook on colab, the authentication happens automatically when `wandb.login` is called.\n",
        "\n",
        "Otherwise, you will see a authoriztion link and be asked to enter an API key. If you already have an account, you can follow the authorization link and then copy and paste the displayed API key. If you don't have an account you can sign up with an email address or using a Google or Github account."
      ],
      "metadata": {
        "id": "BYTm6GoRINMx"
      }
    },
    {
      "cell_type": "code",
      "source": [
        "import wandb\n",
        "\n",
        "# Equivalent to running \"wandb login\" in your shell\n",
        "# \n",
        "wandb.login(host=\"https://api.wandb.ai\")\n",
        "# \n",
        "# Note that https://api.wandb.ai is the default and points to the publicly hosted\n",
        "# app. You'll want to change this to a different API endpoint if you are trying\n",
        "# to connect to a privately hosted server.\n",
        "# \n",
        "# Alternative you can configure this with environment variables:\n",
        "# export WANDB_API_KEY=\"<your-api-key>\"\n",
        "# export WANDB_BASE_URL=\"<your-wandb-endpoint>\""
      ],
      "metadata": {
        "id": "JsNzSCjg7rD4",
        "colab": {
          "base_uri": "https://localhost:8080/"
        },
        "outputId": "d819a13d-3bb8-46b1-c9ac-da9dbe4e78c3"
      },
      "execution_count": 5,
      "outputs": [
        {
          "output_type": "stream",
          "name": "stderr",
          "text": [
            "ERROR:wandb.jupyter:Failed to detect the name of this notebook, you can set it manually with the WANDB_NOTEBOOK_NAME environment variable to enable code saving.\n",
            "\u001b[34m\u001b[1mwandb\u001b[0m: Currently logged in as: \u001b[33mtim-w\u001b[0m. Use \u001b[1m`wandb login --relogin`\u001b[0m to force relogin\n"
          ]
        },
        {
          "output_type": "execute_result",
          "data": {
            "text/plain": [
              "True"
            ]
          },
          "metadata": {},
          "execution_count": 5
        }
      ]
    },
    {
      "cell_type": "markdown",
      "source": [
        "Calling `wandb login` or `wandb.login` will write your API key to your `~/.netrc` file. __To authenticate the client in a headless job on the cloud, you will definitely want to use the `WANDB_API_KEY` environment variable__."
      ],
      "metadata": {
        "id": "zer98IpzJ-Df"
      }
    },
    {
      "cell_type": "markdown",
      "source": [
        "## Track your Experiments\n",
        "\n",
        "### `wandb.init`\n",
        "\n",
        "The `wandb.init` function initializes a new `Run`, which you can think of as a comprehensive record of your machine learning experiment. Tracking starts when you call `wandb.init` and ends when you call `wandb.finish` (called automatically via `atexit` hooks if you don't want to invoke manually). You can also use python's `with` statement to initialize and finish runs (see code cell below).\n",
        "\n",
        "### `wandb.log`\n",
        "\n",
        "You can call `wandb.log` within your experiment add metrics to your `Run`. The idea is that you will call `wandb.log` many times over an experiment for the same metric, in which case the run saves the whole history of each metric across all of your `wandb.log` calls. The code cell below demonstrates how this looks in a typical stochastic gradient descent loop.\n",
        "\n",
        "\n"
      ],
      "metadata": {
        "id": "kCvJbBYOnnUv"
      }
    },
    {
      "cell_type": "code",
      "source": [
        "%%wandb\n",
        "\n",
        "config = dict(\n",
        "  batch_size=32,\n",
        "  learning_rate=1e-4,\n",
        "  flux_capacitors=64,\n",
        "  life_universe_everything=42,\n",
        ")\n",
        "\n",
        "\"\"\"\n",
        "The pattern of \"with wandb.init()...\" causes wandb.finish() to be called as\n",
        "soon as we leave the with block. This is especially useful when you have a script\n",
        "or notebook that initializes multiple runs that you want to track separately.\n",
        "\"\"\"\n",
        "with wandb.init(config=config):\n",
        "\n",
        "    for key, value in dict(wandb.config).items():\n",
        "        print(key, value)\n",
        "\n",
        "    # Imagine we run 100 epochs of model training\n",
        "    for x in range(2, 100):\n",
        "\n",
        "        # Insert model training here...\n",
        "        # ...\n",
        "\n",
        "        # Compute metrics (or in this case, make them up)\n",
        "        metrics = dict(\n",
        "            loss=(1/x)**0.25,\n",
        "            accuracy=1-(1/x)*2\n",
        "        )\n",
        "\n",
        "        # Pass metrics to Weights & Biases\n",
        "        wandb.log(metrics)\n"
      ],
      "metadata": {
        "id": "EtgR9ypudbno",
        "colab": {
          "base_uri": "https://localhost:8080/",
          "height": 857,
          "referenced_widgets": [
            "6e14c24e5c504a5b82f3bbebdb710f5f",
            "60d2da35390f41a3aadc387c2e3c83e1",
            "3af6844e91fc43ca82b33b9de3b4375b",
            "0d9b361775ff4f0dabc01b2970da42cd",
            "629b8a67a5e3454ba0826a2b4c564809",
            "1df1c5658f4a4847998b52f183d15237",
            "4d5d280916024516b4616b1104a78dc8",
            "17b09723fc3f4e0ca2e2f6e3faa2393e"
          ]
        },
        "outputId": "0e768b40-e7a4-4df8-c0e5-3c1cbb25cd39"
      },
      "execution_count": 6,
      "outputs": [
        {
          "output_type": "display_data",
          "data": {
            "text/plain": [
              "<IPython.core.display.HTML object>"
            ],
            "text/html": [
              "Tracking run with wandb version 0.13.10"
            ]
          },
          "metadata": {}
        },
        {
          "output_type": "display_data",
          "data": {
            "text/plain": [
              "<IPython.core.display.HTML object>"
            ],
            "text/html": [
              "Run data is saved locally in <code>/content/wandb/run-20230302_143637-xjuxiyyd</code>"
            ]
          },
          "metadata": {}
        },
        {
          "output_type": "display_data",
          "data": {
            "text/plain": [
              "<wandb.jupyter.IFrame at 0x7f9c72c97c10>"
            ],
            "text/html": [
              "<iframe src='https://wandb.ai/tim-w/bootcamp/runs/xjuxiyyd?jupyter=true' style='border:none;width:100%;height:420px;'></iframe>"
            ]
          },
          "metadata": {}
        },
        {
          "output_type": "display_data",
          "data": {
            "text/plain": [
              "<IPython.core.display.HTML object>"
            ],
            "text/html": [
              " View project at <a href='https://wandb.ai/tim-w/bootcamp' target=\"_blank\">https://wandb.ai/tim-w/bootcamp</a>"
            ]
          },
          "metadata": {}
        },
        {
          "output_type": "display_data",
          "data": {
            "text/plain": [
              "<IPython.core.display.HTML object>"
            ],
            "text/html": [
              " View run at <a href='https://wandb.ai/tim-w/bootcamp/runs/xjuxiyyd' target=\"_blank\">https://wandb.ai/tim-w/bootcamp/runs/xjuxiyyd</a>"
            ]
          },
          "metadata": {}
        },
        {
          "output_type": "stream",
          "name": "stdout",
          "text": [
            "batch_size 32\n",
            "learning_rate 0.0001\n",
            "flux_capacitors 64\n",
            "life_universe_everything 42\n"
          ]
        },
        {
          "output_type": "display_data",
          "data": {
            "text/plain": [
              "<IPython.core.display.HTML object>"
            ],
            "text/html": [
              "Waiting for W&B process to finish... <strong style=\"color:green\">(success).</strong>"
            ]
          },
          "metadata": {}
        },
        {
          "output_type": "display_data",
          "data": {
            "text/plain": [
              "VBox(children=(Label(value='0.040 MB of 0.040 MB uploaded (0.000 MB deduped)\\r'), FloatProgress(value=1.0, max…"
            ],
            "application/vnd.jupyter.widget-view+json": {
              "version_major": 2,
              "version_minor": 0,
              "model_id": "6e14c24e5c504a5b82f3bbebdb710f5f"
            }
          },
          "metadata": {}
        },
        {
          "output_type": "display_data",
          "data": {
            "text/plain": [
              "<IPython.core.display.HTML object>"
            ],
            "text/html": [
              "<style>\n",
              "    table.wandb td:nth-child(1) { padding: 0 10px; text-align: left ; width: auto;} td:nth-child(2) {text-align: left ; width: 100%}\n",
              "    .wandb-row { display: flex; flex-direction: row; flex-wrap: wrap; justify-content: flex-start; width: 100% }\n",
              "    .wandb-col { display: flex; flex-direction: column; flex-basis: 100%; flex: 1; padding: 10px; }\n",
              "    </style>\n",
              "<div class=\"wandb-row\"><div class=\"wandb-col\"><h3>Run history:</h3><br/><table class=\"wandb\"><tr><td>accuracy</td><td>▁▅▆▇▇▇▇▇▇███████████████████████████████</td></tr><tr><td>loss</td><td>█▆▅▄▄▄▃▃▃▃▃▃▂▂▂▂▂▂▂▂▂▂▂▂▂▁▁▁▁▁▁▁▁▁▁▁▁▁▁▁</td></tr></table><br/></div><div class=\"wandb-col\"><h3>Run summary:</h3><br/><table class=\"wandb\"><tr><td>accuracy</td><td>0.9798</td></tr><tr><td>loss</td><td>0.31702</td></tr></table><br/></div></div>"
            ]
          },
          "metadata": {}
        },
        {
          "output_type": "display_data",
          "data": {
            "text/plain": [
              "<IPython.core.display.HTML object>"
            ],
            "text/html": [
              " View run <strong style=\"color:#cdcd00\">major-wildflower-1</strong> at: <a href='https://wandb.ai/tim-w/bootcamp/runs/xjuxiyyd' target=\"_blank\">https://wandb.ai/tim-w/bootcamp/runs/xjuxiyyd</a><br/>Synced 5 W&B file(s), 0 media file(s), 2 artifact file(s) and 1 other file(s)"
            ]
          },
          "metadata": {}
        },
        {
          "output_type": "display_data",
          "data": {
            "text/plain": [
              "<IPython.core.display.HTML object>"
            ],
            "text/html": [
              "Find logs at: <code>./wandb/run-20230302_143637-xjuxiyyd/logs</code>"
            ]
          },
          "metadata": {}
        }
      ]
    },
    {
      "cell_type": "markdown",
      "source": [
        "\n",
        "### Anatomy of a `Run` 🩺\n",
        "\n",
        "The `Run` stores a detailed record of an experiment within a few specific data structures. The important things to know about are\n",
        "- `Run.config` is a dictionary like structure that stores configuration data for a run, like the path to input data or training hyperparameters. You can instatiate the config by passing a dictionary to `wandb.init(config=<config-dict>)`.\n",
        "- `Run.history` is a list of dictionaries that stores historical values of metrics and media over the course of an experiment. We can append a new snapshot of our training metrics by calling `wandb.log(<metric-dict>)`\n",
        "- `Run.summary` is a dictionary for recording summary metrics or media. By default the `summary` will contain the most recent values logged for each metric, you can overwrite and add elements as you like.\n"
      ],
      "metadata": {
        "id": "8o1xoifVp2Av"
      }
    },
    {
      "cell_type": "markdown",
      "source": [
        "## Log Visualizations\n",
        "\n",
        "The example we just ran shows you can log numerical metadata over the course of an experiment to Weights & Biases, and we saw how metrics like loss and accuracy show up as customizable line plots in the app. Now let's take a look at some of the other things you can `wandb.log` into your record of an experiment. You can see examples below, but for a first list of loggable types check out [these docs](https://docs.wandb.ai/ref/python/data-types)."
      ],
      "metadata": {
        "id": "imQtmxy_nuzK"
      }
    },
    {
      "cell_type": "markdown",
      "source": [
        "### Log Plotly\n",
        "\n",
        "Plotly is a popular library for building and rendering custom visualizations. It is tightly connected to the ubiquitous `matplotlib` package. We integrate with Plotly so that you can pass `matplotlib` or Plotly figures directly to `wandb.log`, which will automatically serialize and upload your figures to Weights & Biases, where they will be interactively rendered inside of your experiment records. You can run the cells below to see an example logging an interactive, 3D visualization to W&B."
      ],
      "metadata": {
        "id": "iw-e6V57BvIG"
      }
    },
    {
      "cell_type": "code",
      "source": [
        "import plotly.express as px"
      ],
      "metadata": {
        "id": "0hSxatyx2wH2"
      },
      "execution_count": 7,
      "outputs": []
    },
    {
      "cell_type": "code",
      "source": [
        "%%wandb\n",
        "\n",
        "with wandb.init() as run:\n",
        "  \n",
        "  # Loads Iris dataset\n",
        "  df = px.data.iris()\n",
        "\n",
        "  # Construct a 3D scatter plot with plotly\n",
        "  fig = px.scatter_3d(df, \n",
        "                      x='sepal_length', \n",
        "                      y='sepal_width', \n",
        "                      z='petal_width',\n",
        "                      color='species')\n",
        "  \n",
        "  # Log figure\n",
        "  run.log({\"figure\": fig})"
      ],
      "metadata": {
        "id": "6QlDM4C-PBz1",
        "colab": {
          "base_uri": "https://localhost:8080/",
          "height": 646,
          "referenced_widgets": [
            "090139cd13d248faa874f02c7c31edbe",
            "28b06942d4f24a609b7bd4c69e5896fb",
            "ca79d1af525747668ec69bbbf0d63624",
            "cf4e10ea69d24982b8cc8da0ef0e44ab",
            "c08179047adc48aa837995abaf828844",
            "9dc19893c4e14ae183f210820b86327a",
            "256baf1263264f3691a9171ddead5963",
            "2a55b30cd82945eb9c3ea590f763a6aa"
          ]
        },
        "outputId": "2607226b-356e-4f31-f671-e9d1a65478ef"
      },
      "execution_count": 8,
      "outputs": [
        {
          "output_type": "display_data",
          "data": {
            "text/plain": [
              "<IPython.core.display.HTML object>"
            ],
            "text/html": [
              "Tracking run with wandb version 0.13.10"
            ]
          },
          "metadata": {}
        },
        {
          "output_type": "display_data",
          "data": {
            "text/plain": [
              "<IPython.core.display.HTML object>"
            ],
            "text/html": [
              "Run data is saved locally in <code>/content/wandb/run-20230302_143647-1kvy366k</code>"
            ]
          },
          "metadata": {}
        },
        {
          "output_type": "display_data",
          "data": {
            "text/plain": [
              "<wandb.jupyter.IFrame at 0x7f9c63441d60>"
            ],
            "text/html": [
              "<iframe src='https://wandb.ai/tim-w/bootcamp/runs/1kvy366k?jupyter=true' style='border:none;width:100%;height:420px;'></iframe>"
            ]
          },
          "metadata": {}
        },
        {
          "output_type": "display_data",
          "data": {
            "text/plain": [
              "<IPython.core.display.HTML object>"
            ],
            "text/html": [
              " View project at <a href='https://wandb.ai/tim-w/bootcamp' target=\"_blank\">https://wandb.ai/tim-w/bootcamp</a>"
            ]
          },
          "metadata": {}
        },
        {
          "output_type": "display_data",
          "data": {
            "text/plain": [
              "<IPython.core.display.HTML object>"
            ],
            "text/html": [
              " View run at <a href='https://wandb.ai/tim-w/bootcamp/runs/1kvy366k' target=\"_blank\">https://wandb.ai/tim-w/bootcamp/runs/1kvy366k</a>"
            ]
          },
          "metadata": {}
        },
        {
          "output_type": "display_data",
          "data": {
            "text/plain": [
              "<IPython.core.display.HTML object>"
            ],
            "text/html": [
              "Waiting for W&B process to finish... <strong style=\"color:green\">(success).</strong>"
            ]
          },
          "metadata": {}
        },
        {
          "output_type": "display_data",
          "data": {
            "text/plain": [
              "VBox(children=(Label(value='0.061 MB of 0.061 MB uploaded (0.000 MB deduped)\\r'), FloatProgress(value=1.0, max…"
            ],
            "application/vnd.jupyter.widget-view+json": {
              "version_major": 2,
              "version_minor": 0,
              "model_id": "090139cd13d248faa874f02c7c31edbe"
            }
          },
          "metadata": {}
        },
        {
          "output_type": "display_data",
          "data": {
            "text/plain": [
              "<IPython.core.display.HTML object>"
            ],
            "text/html": [
              " View run <strong style=\"color:#cdcd00\">different-disco-2</strong> at: <a href='https://wandb.ai/tim-w/bootcamp/runs/1kvy366k' target=\"_blank\">https://wandb.ai/tim-w/bootcamp/runs/1kvy366k</a><br/>Synced 4 W&B file(s), 1 media file(s), 2 artifact file(s) and 1 other file(s)"
            ]
          },
          "metadata": {}
        },
        {
          "output_type": "display_data",
          "data": {
            "text/plain": [
              "<IPython.core.display.HTML object>"
            ],
            "text/html": [
              "Find logs at: <code>./wandb/run-20230302_143647-1kvy366k/logs</code>"
            ]
          },
          "metadata": {}
        }
      ]
    },
    {
      "cell_type": "markdown",
      "source": [
        "### Log Dataframes\n",
        "\n",
        "You can also log `pandas.DataFrame` objects with `wandb.log`! These will be converted into a `wandb.Table` (docs) and interactievly displayed inside of W&B. The cell below logs the entire Iris dataset and renders it in the W&B app 😎\n",
        "\n",
        "Note: One of the most powerful features of `wandb.Table`s is that you can include any `wandb` type as a cell value! This includes, images, plots, videos, audio... almost anything 🤩"
      ],
      "metadata": {
        "id": "riP-pAODp9b3"
      }
    },
    {
      "cell_type": "code",
      "source": [
        "from sklearn.datasets import fetch_california_housing\n",
        "data = fetch_california_housing(as_frame=True)\n",
        "df = data.data\n",
        "df[data.target.name] = data.target\n",
        "\n",
        "with wandb.init() as run:\n",
        "  # Log a pandas Dataframe to Weights & Biases\n",
        "  wandb.log({\"california\": df})"
      ],
      "metadata": {
        "id": "oEjawsA9qCJs",
        "colab": {
          "base_uri": "https://localhost:8080/",
          "height": 175
        },
        "outputId": "3f366633-5936-4747-bbbc-baabe82af6c7"
      },
      "execution_count": 9,
      "outputs": [
        {
          "output_type": "display_data",
          "data": {
            "text/plain": [
              "<IPython.core.display.HTML object>"
            ],
            "text/html": [
              "Tracking run with wandb version 0.13.10"
            ]
          },
          "metadata": {}
        },
        {
          "output_type": "display_data",
          "data": {
            "text/plain": [
              "<IPython.core.display.HTML object>"
            ],
            "text/html": [
              "Run data is saved locally in <code>/content/wandb/run-20230302_143658-k153w5bn</code>"
            ]
          },
          "metadata": {}
        },
        {
          "output_type": "display_data",
          "data": {
            "text/plain": [
              "<IPython.core.display.HTML object>"
            ],
            "text/html": [
              "Syncing run <strong><a href='https://wandb.ai/tim-w/bootcamp/runs/k153w5bn' target=\"_blank\">honest-music-3</a></strong> to <a href='https://wandb.ai/tim-w/bootcamp' target=\"_blank\">Weights & Biases</a> (<a href='https://wandb.me/run' target=\"_blank\">docs</a>)<br/>"
            ]
          },
          "metadata": {}
        },
        {
          "output_type": "display_data",
          "data": {
            "text/plain": [
              "<IPython.core.display.HTML object>"
            ],
            "text/html": [
              " View project at <a href='https://wandb.ai/tim-w/bootcamp' target=\"_blank\">https://wandb.ai/tim-w/bootcamp</a>"
            ]
          },
          "metadata": {}
        },
        {
          "output_type": "display_data",
          "data": {
            "text/plain": [
              "<IPython.core.display.HTML object>"
            ],
            "text/html": [
              " View run at <a href='https://wandb.ai/tim-w/bootcamp/runs/k153w5bn' target=\"_blank\">https://wandb.ai/tim-w/bootcamp/runs/k153w5bn</a>"
            ]
          },
          "metadata": {}
        },
        {
          "output_type": "display_data",
          "data": {
            "text/plain": [
              "<IPython.core.display.HTML object>"
            ],
            "text/html": [
              "Waiting for W&B process to finish... <strong style=\"color:green\">(success).</strong>"
            ]
          },
          "metadata": {}
        },
        {
          "output_type": "display_data",
          "data": {
            "text/plain": [
              "<IPython.core.display.HTML object>"
            ],
            "text/html": [
              " View run <strong style=\"color:#cdcd00\">honest-music-3</strong> at: <a href='https://wandb.ai/tim-w/bootcamp/runs/k153w5bn' target=\"_blank\">https://wandb.ai/tim-w/bootcamp/runs/k153w5bn</a><br/>Synced 4 W&B file(s), 1 media file(s), 3 artifact file(s) and 1 other file(s)"
            ]
          },
          "metadata": {}
        },
        {
          "output_type": "display_data",
          "data": {
            "text/plain": [
              "<IPython.core.display.HTML object>"
            ],
            "text/html": [
              "Find logs at: <code>./wandb/run-20230302_143658-k153w5bn/logs</code>"
            ]
          },
          "metadata": {}
        }
      ]
    },
    {
      "cell_type": "markdown",
      "source": [
        "### Log HTML\n",
        "\n",
        "You can use the `wandb.Html` class to pass in any HTML and have it saved and rendered in Weights & Biases. This allows indirect integration with all sorts of visualization libraries, like `keplergl`."
      ],
      "metadata": {
        "id": "D5Y8D63GoHtA"
      }
    },
    {
      "cell_type": "code",
      "source": [
        "import keplergl\n",
        "with wandb.init() as run:\n",
        "  m = keplergl.KeplerGl(height = 400, data = {\"data\": df})\n",
        "  m.save_to_html(file_name = \"point_map.html\")\n",
        "  run.log({\"california housing prices map\": wandb.Html(open(\"point_map.html\"))})"
      ],
      "metadata": {
        "id": "jLVaa8xt2nHU",
        "colab": {
          "base_uri": "https://localhost:8080/",
          "height": 276,
          "referenced_widgets": [
            "b72f7bf06aa2407d8a1023651438c6b6",
            "3c08014bd15e4fc7bfcbf5c2aea8f9ae",
            "35c68a2a84e5421b82b86fcf5917c9cc",
            "54907b10682340b9a7d358fb456bb583",
            "69deb74958d24918b12e75925b28f33e",
            "e4cfe951e00d4a2d84ed9015b56df780",
            "1f6e883f1df14d13829bf1ac74819553",
            "1a155edfdef04ec4b8d2a881c0131bf9"
          ]
        },
        "outputId": "f11d8308-869c-460a-b103-91aabc287a77"
      },
      "execution_count": 10,
      "outputs": [
        {
          "output_type": "display_data",
          "data": {
            "text/plain": [
              "<IPython.core.display.HTML object>"
            ],
            "text/html": [
              "Tracking run with wandb version 0.13.10"
            ]
          },
          "metadata": {}
        },
        {
          "output_type": "display_data",
          "data": {
            "text/plain": [
              "<IPython.core.display.HTML object>"
            ],
            "text/html": [
              "Run data is saved locally in <code>/content/wandb/run-20230302_143716-4slgtnlu</code>"
            ]
          },
          "metadata": {}
        },
        {
          "output_type": "display_data",
          "data": {
            "text/plain": [
              "<IPython.core.display.HTML object>"
            ],
            "text/html": [
              "Syncing run <strong><a href='https://wandb.ai/tim-w/bootcamp/runs/4slgtnlu' target=\"_blank\">zesty-resonance-4</a></strong> to <a href='https://wandb.ai/tim-w/bootcamp' target=\"_blank\">Weights & Biases</a> (<a href='https://wandb.me/run' target=\"_blank\">docs</a>)<br/>"
            ]
          },
          "metadata": {}
        },
        {
          "output_type": "display_data",
          "data": {
            "text/plain": [
              "<IPython.core.display.HTML object>"
            ],
            "text/html": [
              " View project at <a href='https://wandb.ai/tim-w/bootcamp' target=\"_blank\">https://wandb.ai/tim-w/bootcamp</a>"
            ]
          },
          "metadata": {}
        },
        {
          "output_type": "display_data",
          "data": {
            "text/plain": [
              "<IPython.core.display.HTML object>"
            ],
            "text/html": [
              " View run at <a href='https://wandb.ai/tim-w/bootcamp/runs/4slgtnlu' target=\"_blank\">https://wandb.ai/tim-w/bootcamp/runs/4slgtnlu</a>"
            ]
          },
          "metadata": {}
        },
        {
          "output_type": "stream",
          "name": "stdout",
          "text": [
            "User Guide: https://docs.kepler.gl/docs/keplergl-jupyter\n",
            "Map saved to point_map.html!\n"
          ]
        },
        {
          "output_type": "display_data",
          "data": {
            "text/plain": [
              "<IPython.core.display.HTML object>"
            ],
            "text/html": [
              "Waiting for W&B process to finish... <strong style=\"color:green\">(success).</strong>"
            ]
          },
          "metadata": {}
        },
        {
          "output_type": "display_data",
          "data": {
            "text/plain": [
              "VBox(children=(Label(value='2.231 MB of 2.231 MB uploaded (0.000 MB deduped)\\r'), FloatProgress(value=1.0, max…"
            ],
            "application/vnd.jupyter.widget-view+json": {
              "version_major": 2,
              "version_minor": 0,
              "model_id": "b72f7bf06aa2407d8a1023651438c6b6"
            }
          },
          "metadata": {}
        },
        {
          "output_type": "display_data",
          "data": {
            "text/plain": [
              "<IPython.core.display.HTML object>"
            ],
            "text/html": [
              " View run <strong style=\"color:#cdcd00\">zesty-resonance-4</strong> at: <a href='https://wandb.ai/tim-w/bootcamp/runs/4slgtnlu' target=\"_blank\">https://wandb.ai/tim-w/bootcamp/runs/4slgtnlu</a><br/>Synced 5 W&B file(s), 1 media file(s), 2 artifact file(s) and 1 other file(s)"
            ]
          },
          "metadata": {}
        },
        {
          "output_type": "display_data",
          "data": {
            "text/plain": [
              "<IPython.core.display.HTML object>"
            ],
            "text/html": [
              "Find logs at: <code>./wandb/run-20230302_143716-4slgtnlu/logs</code>"
            ]
          },
          "metadata": {}
        }
      ]
    },
    {
      "cell_type": "markdown",
      "source": [
        "## Logging Point Clouds"
      ],
      "metadata": {
        "id": "Y_Q3zUIYUVlD"
      }
    },
    {
      "cell_type": "code",
      "source": [
        "\n",
        "import tensorflow as tf\n",
        "import trimesh\n",
        "import os\n",
        "import wandb\n",
        "import numpy as np\n",
        "from scipy.spatial import ConvexHull, Delaunay\n",
        "create_boxes = lambda x: np.array(  # draw 3d boxes\n",
        "        [\n",
        "            {\n",
        "                \"corners\": [\n",
        "                    [10,10,10],\n",
        "                    [10,10,-10],\n",
        "                    [-10, 10, 10],\n",
        "                    [10, -10, 10],\n",
        "                    [10,-10,-10],\n",
        "                    [-10, -10, 10],\n",
        "                    [-10, 10, -10],\n",
        "                    [-10,-10,-10]\n",
        "                ],\n",
        "                \"label\": \"Box-1\",\n",
        "                \"color\": [123, 321, 111],\n",
        "            },\n",
        "            {\n",
        "                \"corners\": [\n",
        "                    [0,0,0],\n",
        "                    [0,2,0],\n",
        "                    [0,0,2],\n",
        "                    [2,0,0],\n",
        "                    [2,2,0],\n",
        "                    [0,2,2],\n",
        "                    [2,0,2],\n",
        "                    [2,2,2]\n",
        "                ],\n",
        "                \"label\": \"Box-2\",\n",
        "                \"color\": [111, 321, 0],\n",
        "            }\n",
        "        ]\n",
        "      )\n",
        "DATA_DIR = tf.keras.utils.get_file(\n",
        "    \"modelnet.zip\",\n",
        "    \"http://3dvision.princeton.edu/projects/2014/3DShapeNets/ModelNet10.zip\",\n",
        "    extract=True,\n",
        ")\n",
        "DATA_DIR = os.path.join(os.path.dirname(DATA_DIR), \"ModelNet10\")\n",
        "mesh = trimesh.load(os.path.join(DATA_DIR, \"chair/train/chair_0001.off\"))\n",
        "mesh.show()\n",
        "with wandb.init(job_type=\"viz-dense-pointcloud\") as run:\n",
        "  points = mesh.sample(100000)\n",
        "  boxes = create_boxes(points)\n",
        "  wandb_3d_object = wandb.Object3D({\n",
        "        \"type\": \"lidar/beta\",\n",
        "        \"points\": np.array( points ), \n",
        "        \"boxes\": boxes})\n",
        "  run.log({\"chair point cloud\": wandb_3d_object})"
      ],
      "metadata": {
        "id": "lz-rx8ecUIuj",
        "colab": {
          "base_uri": "https://localhost:8080/",
          "height": 239,
          "referenced_widgets": [
            "53be740ef4ce422e966e04e2911a2b32",
            "6559f90d71934a65b1e679359815f8c1",
            "5f733cfa66ed45d895b39193216684f6",
            "8cb1c16cad0043a5a69da64ea18b323d",
            "d469899e1c2a411ea87c5ea835bcf19b",
            "ac0bc125e7d945fe97d83da2cf45e511",
            "ac54f534679d4f1cbf6c8f1931101081",
            "5e031cf695924aaa9c53e4651f1a0b2b"
          ]
        },
        "outputId": "6538880d-00b2-4d59-f858-7b1d24babee8"
      },
      "execution_count": 12,
      "outputs": [
        {
          "output_type": "display_data",
          "data": {
            "text/plain": [
              "<IPython.core.display.HTML object>"
            ],
            "text/html": [
              "Tracking run with wandb version 0.13.10"
            ]
          },
          "metadata": {}
        },
        {
          "output_type": "display_data",
          "data": {
            "text/plain": [
              "<IPython.core.display.HTML object>"
            ],
            "text/html": [
              "Run data is saved locally in <code>/content/wandb/run-20230302_143803-6lg66nhy</code>"
            ]
          },
          "metadata": {}
        },
        {
          "output_type": "display_data",
          "data": {
            "text/plain": [
              "<IPython.core.display.HTML object>"
            ],
            "text/html": [
              "Syncing run <strong><a href='https://wandb.ai/tim-w/bootcamp/runs/6lg66nhy' target=\"_blank\">warm-deluge-6</a></strong> to <a href='https://wandb.ai/tim-w/bootcamp' target=\"_blank\">Weights & Biases</a> (<a href='https://wandb.me/run' target=\"_blank\">docs</a>)<br/>"
            ]
          },
          "metadata": {}
        },
        {
          "output_type": "display_data",
          "data": {
            "text/plain": [
              "<IPython.core.display.HTML object>"
            ],
            "text/html": [
              " View project at <a href='https://wandb.ai/tim-w/bootcamp' target=\"_blank\">https://wandb.ai/tim-w/bootcamp</a>"
            ]
          },
          "metadata": {}
        },
        {
          "output_type": "display_data",
          "data": {
            "text/plain": [
              "<IPython.core.display.HTML object>"
            ],
            "text/html": [
              " View run at <a href='https://wandb.ai/tim-w/bootcamp/runs/6lg66nhy' target=\"_blank\">https://wandb.ai/tim-w/bootcamp/runs/6lg66nhy</a>"
            ]
          },
          "metadata": {}
        },
        {
          "output_type": "display_data",
          "data": {
            "text/plain": [
              "<IPython.core.display.HTML object>"
            ],
            "text/html": [
              "Waiting for W&B process to finish... <strong style=\"color:green\">(success).</strong>"
            ]
          },
          "metadata": {}
        },
        {
          "output_type": "display_data",
          "data": {
            "text/plain": [
              "VBox(children=(Label(value='10.833 MB of 10.833 MB uploaded (0.000 MB deduped)\\r'), FloatProgress(value=1.0, m…"
            ],
            "application/vnd.jupyter.widget-view+json": {
              "version_major": 2,
              "version_minor": 0,
              "model_id": "53be740ef4ce422e966e04e2911a2b32"
            }
          },
          "metadata": {}
        },
        {
          "output_type": "display_data",
          "data": {
            "text/plain": [
              "<IPython.core.display.HTML object>"
            ],
            "text/html": [
              " View run <strong style=\"color:#cdcd00\">warm-deluge-6</strong> at: <a href='https://wandb.ai/tim-w/bootcamp/runs/6lg66nhy' target=\"_blank\">https://wandb.ai/tim-w/bootcamp/runs/6lg66nhy</a><br/>Synced 4 W&B file(s), 1 media file(s), 2 artifact file(s) and 1 other file(s)"
            ]
          },
          "metadata": {}
        },
        {
          "output_type": "display_data",
          "data": {
            "text/plain": [
              "<IPython.core.display.HTML object>"
            ],
            "text/html": [
              "Find logs at: <code>./wandb/run-20230302_143803-6lg66nhy/logs</code>"
            ]
          },
          "metadata": {}
        }
      ]
    },
    {
      "cell_type": "markdown",
      "source": [
        "## Image Masking"
      ],
      "metadata": {
        "id": "a10TL1RRXWEU"
      }
    },
    {
      "cell_type": "code",
      "source": [
        "\n",
        "import numpy as np\n",
        "import wandb\n",
        "\n",
        "with wandb.init() as run:\n",
        "  image = np.random.randint(low=0, high=256, size=(100, 100, 3), dtype=np.uint8)\n",
        "  predicted_mask = np.empty((100, 100), dtype=np.uint8)\n",
        "  ground_truth_mask = np.empty((100, 100), dtype=np.uint8)\n",
        "\n",
        "  predicted_mask[:50, :50] = 0\n",
        "  predicted_mask[50:, :50] = 1\n",
        "  predicted_mask[:50, 50:] = 2\n",
        "  predicted_mask[50:, 50:] = 3\n",
        "\n",
        "  ground_truth_mask[:25, :25] = 0\n",
        "  ground_truth_mask[25:, :25] = 1\n",
        "  ground_truth_mask[:25, 25:] = 2\n",
        "  ground_truth_mask[25:, 25:] = 3\n",
        "\n",
        "  class_labels = {\n",
        "      0: \"person\",\n",
        "      1: \"tree\",\n",
        "      2: \"car\",\n",
        "      3: \"road\"\n",
        "  }\n",
        "\n",
        "  masked_image = wandb.Image(image, masks={\n",
        "      \"predictions\": {\n",
        "          \"mask_data\": predicted_mask,\n",
        "          \"class_labels\": class_labels\n",
        "      },\n",
        "      \"ground_truth\": {\n",
        "          \"mask_data\": ground_truth_mask,\n",
        "          \"class_labels\": class_labels\n",
        "      }\n",
        "  })\n",
        "  wandb.log({\"img_with_masks\" : masked_image})"
      ],
      "metadata": {
        "id": "OmUJZTRCXXVX",
        "colab": {
          "base_uri": "https://localhost:8080/",
          "height": 239,
          "referenced_widgets": [
            "1a53a83593fa44a7866d5737319fb5e3",
            "edc1724fca6042c194f2e589725d4304",
            "fb536c2258c7400db23cdd065e7bad77",
            "a63512baa92043089238d3b9d175b8bb",
            "3c06656b41e144d5b45f4849635aa437",
            "3782f0a2784248bda97800d3d5d191bf",
            "fc3dd7b75ac7419e94187f31c1ce70fe",
            "f2a6b0d5309a4ae686b546d48febe62b"
          ]
        },
        "outputId": "809bdd60-3180-4eb7-a7da-f4a248e0b355"
      },
      "execution_count": 13,
      "outputs": [
        {
          "output_type": "display_data",
          "data": {
            "text/plain": [
              "<IPython.core.display.HTML object>"
            ],
            "text/html": [
              "Tracking run with wandb version 0.13.10"
            ]
          },
          "metadata": {}
        },
        {
          "output_type": "display_data",
          "data": {
            "text/plain": [
              "<IPython.core.display.HTML object>"
            ],
            "text/html": [
              "Run data is saved locally in <code>/content/wandb/run-20230302_143811-blszfy1e</code>"
            ]
          },
          "metadata": {}
        },
        {
          "output_type": "display_data",
          "data": {
            "text/plain": [
              "<IPython.core.display.HTML object>"
            ],
            "text/html": [
              "Syncing run <strong><a href='https://wandb.ai/tim-w/bootcamp/runs/blszfy1e' target=\"_blank\">balmy-firebrand-7</a></strong> to <a href='https://wandb.ai/tim-w/bootcamp' target=\"_blank\">Weights & Biases</a> (<a href='https://wandb.me/run' target=\"_blank\">docs</a>)<br/>"
            ]
          },
          "metadata": {}
        },
        {
          "output_type": "display_data",
          "data": {
            "text/plain": [
              "<IPython.core.display.HTML object>"
            ],
            "text/html": [
              " View project at <a href='https://wandb.ai/tim-w/bootcamp' target=\"_blank\">https://wandb.ai/tim-w/bootcamp</a>"
            ]
          },
          "metadata": {}
        },
        {
          "output_type": "display_data",
          "data": {
            "text/plain": [
              "<IPython.core.display.HTML object>"
            ],
            "text/html": [
              " View run at <a href='https://wandb.ai/tim-w/bootcamp/runs/blszfy1e' target=\"_blank\">https://wandb.ai/tim-w/bootcamp/runs/blszfy1e</a>"
            ]
          },
          "metadata": {}
        },
        {
          "output_type": "display_data",
          "data": {
            "text/plain": [
              "<IPython.core.display.HTML object>"
            ],
            "text/html": [
              "Waiting for W&B process to finish... <strong style=\"color:green\">(success).</strong>"
            ]
          },
          "metadata": {}
        },
        {
          "output_type": "display_data",
          "data": {
            "text/plain": [
              "VBox(children=(Label(value='0.123 MB of 0.123 MB uploaded (0.000 MB deduped)\\r'), FloatProgress(value=1.0, max…"
            ],
            "application/vnd.jupyter.widget-view+json": {
              "version_major": 2,
              "version_minor": 0,
              "model_id": "1a53a83593fa44a7866d5737319fb5e3"
            }
          },
          "metadata": {}
        },
        {
          "output_type": "display_data",
          "data": {
            "text/plain": [
              "<IPython.core.display.HTML object>"
            ],
            "text/html": [
              " View run <strong style=\"color:#cdcd00\">balmy-firebrand-7</strong> at: <a href='https://wandb.ai/tim-w/bootcamp/runs/blszfy1e' target=\"_blank\">https://wandb.ai/tim-w/bootcamp/runs/blszfy1e</a><br/>Synced 4 W&B file(s), 3 media file(s), 2 artifact file(s) and 1 other file(s)"
            ]
          },
          "metadata": {}
        },
        {
          "output_type": "display_data",
          "data": {
            "text/plain": [
              "<IPython.core.display.HTML object>"
            ],
            "text/html": [
              "Find logs at: <code>./wandb/run-20230302_143811-blszfy1e/logs</code>"
            ]
          },
          "metadata": {}
        }
      ]
    },
    {
      "cell_type": "markdown",
      "source": [
        "# 3D Vectors"
      ],
      "metadata": {
        "id": "y2TIbSjEk6oi"
      }
    },
    {
      "cell_type": "code",
      "source": [
        "vectors = np.array(  # add 3d vectors\n",
        "          [\n",
        "            {\"start\": [0, 0, 0], \"end\": [1, 1, 1],},\n",
        "            {\"start\": [0, 0, 0], \"end\": [1, 1,-1]},\n",
        "            {\"start\": [0, 0, 0], \"end\": [1, -1, 1]},\n",
        "            {\"start\": [0, 0, 0], \"end\": [-1, 1, 1]},\n",
        "            {\"start\": [0, 0, 0], \"end\": [1, -1, -1]},\n",
        "            {\"start\": [0, 0, 0], \"end\": [-1, -1, 1]},\n",
        "            {\"start\": [0, 0, 0], \"end\": [-1, 1, -1]},\n",
        "            {\"start\": [0, 0, 0], \"end\": [-1, -1, -1]},\n",
        "          ]\n",
        "      )\n",
        "wandb.init()\n",
        "vector_field = wandb.Object3D({\n",
        "    \"type\": \"lidar/beta\",\n",
        "    \"points\": np.array([ vec[\"end\"] for vec in vectors]),\n",
        "    \"vectors\": vectors, \n",
        "},)\n",
        "wandb.log({\"vector_field\": vector_field})\n",
        "wandb.finish()"
      ],
      "metadata": {
        "colab": {
          "base_uri": "https://localhost:8080/",
          "height": 239,
          "referenced_widgets": [
            "8726c3ca983545dd80db4e9839c86d3b",
            "ed47663055bc465684d6a21e7e287b87",
            "dc7bd302a94148a396ae6647a8b96c0c",
            "a1852d6444a345c785c0fb75266416f2",
            "fd6fae2740bb4137a63cd7dd303ea64a",
            "5b321d7428c54fb39103c8f367c09bbd",
            "1ed0441feb374195b3cb2b7b05cf2ad4",
            "0aa26d9b60804777b93d75583b9d992b"
          ]
        },
        "id": "ajIRaUSUk6Ix",
        "outputId": "3c065798-49d6-4b18-b5ff-44c529defe10"
      },
      "execution_count": 14,
      "outputs": [
        {
          "output_type": "display_data",
          "data": {
            "text/plain": [
              "<IPython.core.display.HTML object>"
            ],
            "text/html": [
              "Tracking run with wandb version 0.13.10"
            ]
          },
          "metadata": {}
        },
        {
          "output_type": "display_data",
          "data": {
            "text/plain": [
              "<IPython.core.display.HTML object>"
            ],
            "text/html": [
              "Run data is saved locally in <code>/content/wandb/run-20230302_143817-dl16e10k</code>"
            ]
          },
          "metadata": {}
        },
        {
          "output_type": "display_data",
          "data": {
            "text/plain": [
              "<IPython.core.display.HTML object>"
            ],
            "text/html": [
              "Syncing run <strong><a href='https://wandb.ai/tim-w/bootcamp/runs/dl16e10k' target=\"_blank\">sunny-universe-8</a></strong> to <a href='https://wandb.ai/tim-w/bootcamp' target=\"_blank\">Weights & Biases</a> (<a href='https://wandb.me/run' target=\"_blank\">docs</a>)<br/>"
            ]
          },
          "metadata": {}
        },
        {
          "output_type": "display_data",
          "data": {
            "text/plain": [
              "<IPython.core.display.HTML object>"
            ],
            "text/html": [
              " View project at <a href='https://wandb.ai/tim-w/bootcamp' target=\"_blank\">https://wandb.ai/tim-w/bootcamp</a>"
            ]
          },
          "metadata": {}
        },
        {
          "output_type": "display_data",
          "data": {
            "text/plain": [
              "<IPython.core.display.HTML object>"
            ],
            "text/html": [
              " View run at <a href='https://wandb.ai/tim-w/bootcamp/runs/dl16e10k' target=\"_blank\">https://wandb.ai/tim-w/bootcamp/runs/dl16e10k</a>"
            ]
          },
          "metadata": {}
        },
        {
          "output_type": "display_data",
          "data": {
            "text/plain": [
              "<IPython.core.display.HTML object>"
            ],
            "text/html": [
              "Waiting for W&B process to finish... <strong style=\"color:green\">(success).</strong>"
            ]
          },
          "metadata": {}
        },
        {
          "output_type": "display_data",
          "data": {
            "text/plain": [
              "VBox(children=(Label(value='0.106 MB of 0.106 MB uploaded (0.000 MB deduped)\\r'), FloatProgress(value=1.0, max…"
            ],
            "application/vnd.jupyter.widget-view+json": {
              "version_major": 2,
              "version_minor": 0,
              "model_id": "8726c3ca983545dd80db4e9839c86d3b"
            }
          },
          "metadata": {}
        },
        {
          "output_type": "display_data",
          "data": {
            "text/plain": [
              "<IPython.core.display.HTML object>"
            ],
            "text/html": [
              " View run <strong style=\"color:#cdcd00\">sunny-universe-8</strong> at: <a href='https://wandb.ai/tim-w/bootcamp/runs/dl16e10k' target=\"_blank\">https://wandb.ai/tim-w/bootcamp/runs/dl16e10k</a><br/>Synced 4 W&B file(s), 1 media file(s), 2 artifact file(s) and 1 other file(s)"
            ]
          },
          "metadata": {}
        },
        {
          "output_type": "display_data",
          "data": {
            "text/plain": [
              "<IPython.core.display.HTML object>"
            ],
            "text/html": [
              "Find logs at: <code>./wandb/run-20230302_143817-dl16e10k/logs</code>"
            ]
          },
          "metadata": {}
        }
      ]
    },
    {
      "cell_type": "markdown",
      "source": [
        "### Log Sequences of Media\n",
        "\n",
        "If you periodically `wandb.log` a number (for example, loss), Weights & Biases will automatically render a line plot showing the change in that value over time (a loss curve). You can also log media under a key more than once over the course of an experiment, in which case Weights & Biases will display that media with a step slider so you can scrub over the course of the experiment and see how it changed. This is particularly useful for seeing how model predictions and visualizations of model performance (e.g. a precision/recall curve) change over time. In the example below, we log a `wandb.Image` repeatedly after applying a blur operation between each log step, just to demonstrate how this works."
      ],
      "metadata": {
        "id": "TwCPIt7Yn225"
      }
    },
    {
      "cell_type": "code",
      "source": [
        "%%sh\n",
        "curl https://parade.com/.image/t_share/MTkwNTgwOTUyNjU2Mzg5MjQ1/albert-einstein-quotes-jpg.jpg > image.jpg"
      ],
      "metadata": {
        "colab": {
          "base_uri": "https://localhost:8080/"
        },
        "id": "E1-C1R_boiql",
        "outputId": "27f4e3da-5c40-459b-c02b-8ea775a24a0d"
      },
      "execution_count": 15,
      "outputs": [
        {
          "output_type": "stream",
          "name": "stderr",
          "text": [
            "  % Total    % Received % Xferd  Average Speed   Time    Time     Time  Current\n",
            "                                 Dload  Upload   Total   Spent    Left  Speed\n",
            "\r  0     0    0     0    0     0      0      0 --:--:-- --:--:-- --:--:--     0\r100  170k  100  170k    0     0  2186k      0 --:--:-- --:--:-- --:--:-- 2215k\n"
          ]
        }
      ]
    },
    {
      "cell_type": "code",
      "source": [
        "%%wandb\n",
        "from PIL import Image, ImageFilter\n",
        "import pandas as pd\n",
        "# Load image with pillow, resize to 512 square\n",
        "im = Image.open(\"./image.jpg\").resize((512, 512))\n",
        "images = []\n",
        "with wandb.init() as run:\n",
        "\n",
        "  for step in range(15):\n",
        "    \n",
        "    # Log image\n",
        "    images.append( (step, wandb.Image(im)))\n",
        "    run.log({\"image\": wandb.Image(im)})\n",
        "    \n",
        "    # Apply small Gaussian blur\n",
        "    im = im.filter(ImageFilter.GaussianBlur(radius=1.5))\n",
        "\n",
        "  wandb.log({ \"images_df\": pd.DataFrame( images, columns = [\"step\", \"images\"])})\n",
        "    \n"
      ],
      "metadata": {
        "id": "WaIyQCp6G4Bc",
        "colab": {
          "base_uri": "https://localhost:8080/",
          "height": 582
        },
        "outputId": "7278604b-11ed-4be0-c2d9-7bf440c212a4"
      },
      "execution_count": 16,
      "outputs": [
        {
          "output_type": "display_data",
          "data": {
            "text/plain": [
              "<IPython.core.display.HTML object>"
            ],
            "text/html": [
              "Tracking run with wandb version 0.13.10"
            ]
          },
          "metadata": {}
        },
        {
          "output_type": "display_data",
          "data": {
            "text/plain": [
              "<IPython.core.display.HTML object>"
            ],
            "text/html": [
              "Run data is saved locally in <code>/content/wandb/run-20230302_143824-heo6wn7k</code>"
            ]
          },
          "metadata": {}
        },
        {
          "output_type": "display_data",
          "data": {
            "text/plain": [
              "<wandb.jupyter.IFrame at 0x7f9af074bdf0>"
            ],
            "text/html": [
              "<iframe src='https://wandb.ai/tim-w/bootcamp/runs/heo6wn7k?jupyter=true' style='border:none;width:100%;height:420px;'></iframe>"
            ]
          },
          "metadata": {}
        },
        {
          "output_type": "display_data",
          "data": {
            "text/plain": [
              "<IPython.core.display.HTML object>"
            ],
            "text/html": [
              " View project at <a href='https://wandb.ai/tim-w/bootcamp' target=\"_blank\">https://wandb.ai/tim-w/bootcamp</a>"
            ]
          },
          "metadata": {}
        },
        {
          "output_type": "display_data",
          "data": {
            "text/plain": [
              "<IPython.core.display.HTML object>"
            ],
            "text/html": [
              " View run at <a href='https://wandb.ai/tim-w/bootcamp/runs/heo6wn7k' target=\"_blank\">https://wandb.ai/tim-w/bootcamp/runs/heo6wn7k</a>"
            ]
          },
          "metadata": {}
        },
        {
          "output_type": "display_data",
          "data": {
            "text/plain": [
              "<IPython.core.display.HTML object>"
            ],
            "text/html": [
              "Waiting for W&B process to finish... <strong style=\"color:green\">(success).</strong>"
            ]
          },
          "metadata": {}
        },
        {
          "output_type": "display_data",
          "data": {
            "text/plain": [
              "<IPython.core.display.HTML object>"
            ],
            "text/html": [
              " View run <strong style=\"color:#cdcd00\">radiant-puddle-9</strong> at: <a href='https://wandb.ai/tim-w/bootcamp/runs/heo6wn7k' target=\"_blank\">https://wandb.ai/tim-w/bootcamp/runs/heo6wn7k</a><br/>Synced 4 W&B file(s), 16 media file(s), 18 artifact file(s) and 1 other file(s)"
            ]
          },
          "metadata": {}
        },
        {
          "output_type": "display_data",
          "data": {
            "text/plain": [
              "<IPython.core.display.HTML object>"
            ],
            "text/html": [
              "Find logs at: <code>./wandb/run-20230302_143824-heo6wn7k/logs</code>"
            ]
          },
          "metadata": {}
        }
      ]
    },
    {
      "cell_type": "markdown",
      "source": [
        "## XGBoost\n",
        "\n",
        "Some machine learning frameworks don't ask the user to write the training loop themselves, but instead allow customization of a standard training loop through hooks and callbacks, for example fastai, pytorch lightning, keras, and xgboost. Such frameworks also provide basic mechanisms for defining and reporting metrics throughout training.\n",
        "\n",
        "For all the frameworks above (and many more) Weights & Biases provides an out of the box integration. The cells below use XGBoost to train a regressor that predicts the price of a home in CA from a standard dataset. By providing the `wandb.xgboost.WandbCallback` when we train the regressor, all evaluation metrics defined through the standard XGBoost interface and feature importances will be recorded to W&B automatically."
      ],
      "metadata": {
        "id": "ZhvxW3Y0jh4b"
      }
    },
    {
      "cell_type": "code",
      "source": [
        "import xgboost as xgb\n",
        "import wandb\n",
        "from wandb.xgboost import WandbCallback\n",
        "from sklearn.model_selection import train_test_split\n",
        "from sklearn.datasets import fetch_california_housing\n",
        "data = fetch_california_housing(as_frame=True)\n",
        "df = data.data\n",
        "df[data.target.name] = data.target\n",
        "\n",
        "## ARTIFACT!!!  Logging Data and Models\n",
        "with wandb.init(job_type = \"data-acquisition\") as run:\n",
        "  # Fetch the CA housing dataset\n",
        "  data = fetch_california_housing(as_frame=True)\n",
        "  df = data.data\n",
        "  df[data.target.name] = data.target\n",
        "  df.to_csv(\"data.csv\", index = False)\n",
        "  art = wandb.Artifact(name = \"california_housing_data\", type = \"dataset\")\n",
        "  art.add_file(\"data.csv\")\n",
        "  run.log_artifact(art)\n",
        "\n",
        "# Pass the WandbCallback to train or fit\n",
        "with wandb.init(job_type = \"training\"):\n",
        "  project_name = os.environ[\"WANDB_PROJECT\"]\n",
        "  art = wandb.use_artifact(f\"tim-w/{project_name}/california_housing_data:latest\")\n",
        "  ## download artifacts if necessary\n",
        "  # art.download()\n",
        "  # data = pd.read_csv( art.file())\n",
        "  df_train, df_valid = train_test_split(df, test_size=0.2)\n",
        "\n",
        "  features = [\"HouseAge\",\t\"AveRooms\",\t\"AveBedrms\",\t\"Population\",\t\"AveOccup\",\t\"Latitude\",\t\"Longitude\"]\n",
        "  label = \"MedHouseVal\"\n",
        "  # Construct DMatrix objects from our dataframe\n",
        "  train_data = xgb.DMatrix(df_train[features], label=df_train[label])\n",
        "  valid_data = xgb.DMatrix(df_valid[features], label=df_valid[label])\n",
        "\n",
        "  xgb.train(\n",
        "      {}, \n",
        "      train_data, \n",
        "      20, \n",
        "      evals=[(valid_data, \"validation\")], \n",
        "      callbacks=[WandbCallback(log_model=True)]\n",
        "  )"
      ],
      "metadata": {
        "id": "oh3z7GWX_9xu",
        "colab": {
          "base_uri": "https://localhost:8080/",
          "height": 855
        },
        "outputId": "b10973a9-c67a-4116-8479-58a8a0c07a05"
      },
      "execution_count": 17,
      "outputs": [
        {
          "output_type": "display_data",
          "data": {
            "text/plain": [
              "<IPython.core.display.HTML object>"
            ],
            "text/html": [
              "Tracking run with wandb version 0.13.10"
            ]
          },
          "metadata": {}
        },
        {
          "output_type": "display_data",
          "data": {
            "text/plain": [
              "<IPython.core.display.HTML object>"
            ],
            "text/html": [
              "Run data is saved locally in <code>/content/wandb/run-20230302_143834-q5x60egz</code>"
            ]
          },
          "metadata": {}
        },
        {
          "output_type": "display_data",
          "data": {
            "text/plain": [
              "<IPython.core.display.HTML object>"
            ],
            "text/html": [
              "Syncing run <strong><a href='https://wandb.ai/tim-w/bootcamp/runs/q5x60egz' target=\"_blank\">frosty-fog-10</a></strong> to <a href='https://wandb.ai/tim-w/bootcamp' target=\"_blank\">Weights & Biases</a> (<a href='https://wandb.me/run' target=\"_blank\">docs</a>)<br/>"
            ]
          },
          "metadata": {}
        },
        {
          "output_type": "display_data",
          "data": {
            "text/plain": [
              "<IPython.core.display.HTML object>"
            ],
            "text/html": [
              " View project at <a href='https://wandb.ai/tim-w/bootcamp' target=\"_blank\">https://wandb.ai/tim-w/bootcamp</a>"
            ]
          },
          "metadata": {}
        },
        {
          "output_type": "display_data",
          "data": {
            "text/plain": [
              "<IPython.core.display.HTML object>"
            ],
            "text/html": [
              " View run at <a href='https://wandb.ai/tim-w/bootcamp/runs/q5x60egz' target=\"_blank\">https://wandb.ai/tim-w/bootcamp/runs/q5x60egz</a>"
            ]
          },
          "metadata": {}
        },
        {
          "output_type": "display_data",
          "data": {
            "text/plain": [
              "<IPython.core.display.HTML object>"
            ],
            "text/html": [
              "Waiting for W&B process to finish... <strong style=\"color:green\">(success).</strong>"
            ]
          },
          "metadata": {}
        },
        {
          "output_type": "display_data",
          "data": {
            "text/plain": [
              "<IPython.core.display.HTML object>"
            ],
            "text/html": [
              " View run <strong style=\"color:#cdcd00\">frosty-fog-10</strong> at: <a href='https://wandb.ai/tim-w/bootcamp/runs/q5x60egz' target=\"_blank\">https://wandb.ai/tim-w/bootcamp/runs/q5x60egz</a><br/>Synced 4 W&B file(s), 0 media file(s), 3 artifact file(s) and 1 other file(s)"
            ]
          },
          "metadata": {}
        },
        {
          "output_type": "display_data",
          "data": {
            "text/plain": [
              "<IPython.core.display.HTML object>"
            ],
            "text/html": [
              "Find logs at: <code>./wandb/run-20230302_143834-q5x60egz/logs</code>"
            ]
          },
          "metadata": {}
        },
        {
          "output_type": "display_data",
          "data": {
            "text/plain": [
              "<IPython.core.display.HTML object>"
            ],
            "text/html": [
              "Tracking run with wandb version 0.13.10"
            ]
          },
          "metadata": {}
        },
        {
          "output_type": "display_data",
          "data": {
            "text/plain": [
              "<IPython.core.display.HTML object>"
            ],
            "text/html": [
              "Run data is saved locally in <code>/content/wandb/run-20230302_143842-tusw6r9j</code>"
            ]
          },
          "metadata": {}
        },
        {
          "output_type": "display_data",
          "data": {
            "text/plain": [
              "<IPython.core.display.HTML object>"
            ],
            "text/html": [
              "Syncing run <strong><a href='https://wandb.ai/tim-w/bootcamp/runs/tusw6r9j' target=\"_blank\">colorful-dream-11</a></strong> to <a href='https://wandb.ai/tim-w/bootcamp' target=\"_blank\">Weights & Biases</a> (<a href='https://wandb.me/run' target=\"_blank\">docs</a>)<br/>"
            ]
          },
          "metadata": {}
        },
        {
          "output_type": "display_data",
          "data": {
            "text/plain": [
              "<IPython.core.display.HTML object>"
            ],
            "text/html": [
              " View project at <a href='https://wandb.ai/tim-w/bootcamp' target=\"_blank\">https://wandb.ai/tim-w/bootcamp</a>"
            ]
          },
          "metadata": {}
        },
        {
          "output_type": "display_data",
          "data": {
            "text/plain": [
              "<IPython.core.display.HTML object>"
            ],
            "text/html": [
              " View run at <a href='https://wandb.ai/tim-w/bootcamp/runs/tusw6r9j' target=\"_blank\">https://wandb.ai/tim-w/bootcamp/runs/tusw6r9j</a>"
            ]
          },
          "metadata": {}
        },
        {
          "output_type": "stream",
          "name": "stdout",
          "text": [
            "[0]\tvalidation-rmse:1.49008\n",
            "[1]\tvalidation-rmse:1.17335\n",
            "[2]\tvalidation-rmse:0.96121\n",
            "[3]\tvalidation-rmse:0.81404\n",
            "[4]\tvalidation-rmse:0.72448\n",
            "[5]\tvalidation-rmse:0.66535\n",
            "[6]\tvalidation-rmse:0.62933\n",
            "[7]\tvalidation-rmse:0.60617\n",
            "[8]\tvalidation-rmse:0.58902\n",
            "[9]\tvalidation-rmse:0.56885\n",
            "[10]\tvalidation-rmse:0.55956\n",
            "[11]\tvalidation-rmse:0.55071\n",
            "[12]\tvalidation-rmse:0.54675\n",
            "[13]\tvalidation-rmse:0.54091\n",
            "[14]\tvalidation-rmse:0.53978\n",
            "[15]\tvalidation-rmse:0.53779\n",
            "[16]\tvalidation-rmse:0.53425\n",
            "[17]\tvalidation-rmse:0.53276\n",
            "[18]\tvalidation-rmse:0.52945\n",
            "[19]\tvalidation-rmse:0.52912\n"
          ]
        },
        {
          "output_type": "display_data",
          "data": {
            "text/plain": [
              "<IPython.core.display.HTML object>"
            ],
            "text/html": [
              "Waiting for W&B process to finish... <strong style=\"color:green\">(success).</strong>"
            ]
          },
          "metadata": {}
        },
        {
          "output_type": "display_data",
          "data": {
            "text/plain": [
              "<IPython.core.display.HTML object>"
            ],
            "text/html": [
              "<style>\n",
              "    table.wandb td:nth-child(1) { padding: 0 10px; text-align: left ; width: auto;} td:nth-child(2) {text-align: left ; width: 100%}\n",
              "    .wandb-row { display: flex; flex-direction: row; flex-wrap: wrap; justify-content: flex-start; width: 100% }\n",
              "    .wandb-col { display: flex; flex-direction: column; flex-basis: 100%; flex: 1; padding: 10px; }\n",
              "    </style>\n",
              "<div class=\"wandb-row\"><div class=\"wandb-col\"><h3>Run history:</h3><br/><table class=\"wandb\"><tr><td>epoch</td><td>▁▁▂▂▂▃▃▄▄▄▅▅▅▆▆▇▇▇██</td></tr><tr><td>validation-rmse</td><td>█▆▄▃▂▂▂▂▁▁▁▁▁▁▁▁▁▁▁▁</td></tr></table><br/></div><div class=\"wandb-col\"><h3>Run summary:</h3><br/><table class=\"wandb\"><tr><td>epoch</td><td>19</td></tr></table><br/></div></div>"
            ]
          },
          "metadata": {}
        },
        {
          "output_type": "display_data",
          "data": {
            "text/plain": [
              "<IPython.core.display.HTML object>"
            ],
            "text/html": [
              " View run <strong style=\"color:#cdcd00\">colorful-dream-11</strong> at: <a href='https://wandb.ai/tim-w/bootcamp/runs/tusw6r9j' target=\"_blank\">https://wandb.ai/tim-w/bootcamp/runs/tusw6r9j</a><br/>Synced 5 W&B file(s), 1 media file(s), 4 artifact file(s) and 2 other file(s)"
            ]
          },
          "metadata": {}
        },
        {
          "output_type": "display_data",
          "data": {
            "text/plain": [
              "<IPython.core.display.HTML object>"
            ],
            "text/html": [
              "Find logs at: <code>./wandb/run-20230302_143842-tusw6r9j/logs</code>"
            ]
          },
          "metadata": {}
        }
      ]
    },
    {
      "cell_type": "markdown",
      "source": [
        "## Pytorch\n",
        "\n",
        "Now let's take a look at some code that actually trains a neural network and logs metrics and predictions to Weights & Biases. The code below trains a simple convolutional neural network (CNN) to classify images of clothing from the Fashion MNIST dataset. There are a few cool ways that the code below uses `wandb` to keep track of each execution.\n",
        "\n",
        "1. `wandb.watch` - This function from the `wandb` library allows you to automatically record gradients, parameter distributions, and network topology for any `torch` based model.\n",
        "\n",
        "2. Every 25 training steps, we log the average loss over the previous 25 steps as well as a `wandb.Histogram` the losses recorded in each of the previous 25 batches, which will allow us to see how the distribution of batch losses shifts over the course of training.\n",
        "\n",
        "3. We also load the examples and predictions from the first batch of every epoch into a `wandb.Table`.\n",
        "\n"
      ],
      "metadata": {
        "id": "dwbat9WvoXDl"
      }
    },
    {
      "cell_type": "code",
      "source": [
        "import torch\n",
        "from torch import nn\n",
        "from torch.utils.data import DataLoader\n",
        "from torchvision import transforms\n",
        "from torchvision.datasets import FashionMNIST"
      ],
      "metadata": {
        "id": "MVIva1fL3K3g"
      },
      "execution_count": 18,
      "outputs": []
    },
    {
      "cell_type": "code",
      "source": [
        "class FashionCNN(nn.Module):\n",
        "  \"\"\"Simple CNN for Fashion MNIST.\"\"\"\n",
        "\n",
        "  def __init__(self):\n",
        "    super().__init__()\n",
        "    self.layer1 = nn.Sequential(\n",
        "        nn.Conv2d(in_channels=1, out_channels=32, kernel_size=3, padding=1),\n",
        "        nn.BatchNorm2d(32),\n",
        "        nn.ReLU(),\n",
        "        nn.MaxPool2d(kernel_size=2, stride=2)\n",
        "    )\n",
        "    self.layer2 = nn.Sequential(\n",
        "        nn.Conv2d(in_channels=32, out_channels=64, kernel_size=3),\n",
        "        nn.BatchNorm2d(64),\n",
        "        nn.ReLU(),\n",
        "        nn.MaxPool2d(2)\n",
        "    )    \n",
        "    self.fc1 = nn.Linear(in_features=64*6*6, out_features=600)\n",
        "    self.drop = nn.Dropout2d(0.25)\n",
        "    self.fc2 = nn.Linear(in_features=600, out_features=120)\n",
        "    self.fc3 = nn.Linear(in_features=120, out_features=10) \n",
        "  \n",
        "  def forward(self, x):\n",
        "    out = self.layer1(x)\n",
        "    out = self.layer2(out)\n",
        "    out = out.view(out.size(0), -1)\n",
        "    out = self.fc1(out)\n",
        "    out = self.drop(out)\n",
        "    out = self.fc2(out)\n",
        "    out = self.fc3(out)\n",
        "    return out\n",
        "\n",
        "\n",
        "def train_fmnist(config):\n",
        "  # Pass config into wandb.init\n",
        "  with wandb.init(config=config) as run:\n",
        "    \n",
        "    # Training setup\n",
        "    config = run.config\n",
        "    device = torch.device(\"cuda:0\" if torch.cuda.is_available() else \"cpu\")\n",
        "    model = FashionCNN()\n",
        "    model.to(device)\n",
        "    train_dataset = FashionMNIST(\"./data/\", download=True, train=True, transform=transforms.ToTensor())\n",
        "    train_loader = DataLoader(train_dataset, batch_size=config.batch_size, pin_memory=True)\n",
        "    error = nn.CrossEntropyLoss()\n",
        "    learning_rate = config.learning_rate\n",
        "    optimizer = torch.optim.Adam(model.parameters(), lr=learning_rate)\n",
        "\n",
        "    # We can pass our network to wandb.watch and automatically log gradients, \n",
        "    # weights, topology, and more...\n",
        "    run.watch(model, log=\"all\", log_graph=True)\n",
        "\n",
        "    # Epoch loop\n",
        "    iter = 0\n",
        "    losses = []\n",
        "    for epoch in range(config.epochs):\n",
        "\n",
        "      # Iterate over batches of the data\n",
        "      for idx, (images, labels) in enumerate(train_loader):\n",
        "\n",
        "        iter += 1\n",
        "        images = images.to(device)\n",
        "        labels = labels.to(device)\n",
        "        outputs = model(images)\n",
        "        loss = error(outputs, labels)\n",
        "        losses.append(loss.item())\n",
        "\n",
        "        if iter % 25 == 1:\n",
        "          run.log(\n",
        "            {\n",
        "              \"train/loss\": sum(losses)/len(losses),  # Log average loss\n",
        "              \"train/losses\": wandb.Histogram(losses)  # Log all losses\n",
        "            }\n",
        "          )\n",
        "          losses = []\n",
        "\n",
        "        # Log the predictions from the first training batch as a wandb.Table\n",
        "        if idx == 0:\n",
        "          table = wandb.Table(columns=[\"image\", \"label\", \"prediction\"])\n",
        "          for im, lab, pred in zip(images, labels, outputs):\n",
        "            pred = torch.argmax(pred)\n",
        "            table.add_data(wandb.Image(im.cpu()), lab.item(), pred.item())\n",
        "          run.log({\"train/predictions\": table})\n",
        "\n",
        "        optimizer.zero_grad()\n",
        "        loss.backward()\n",
        "        optimizer.step()"
      ],
      "metadata": {
        "id": "6UnntHu-nnwH"
      },
      "execution_count": 19,
      "outputs": []
    },
    {
      "cell_type": "code",
      "source": [
        "# Training hyperparamters\n",
        "config = {\n",
        "  \"learning_rate\": 0.0001,\n",
        "  \"batch_size\": 256,\n",
        "  \"epochs\": 5,\n",
        "}\n",
        "train_fmnist(config)"
      ],
      "metadata": {
        "id": "odx_dXBPDC5x",
        "colab": {
          "base_uri": "https://localhost:8080/",
          "height": 468,
          "referenced_widgets": [
            "c276c6a8659d4582bbcbdc813fbe616c",
            "88cbd58c8e28461c9821d0f385b57248",
            "cb8a6cac31034e0dbea96253b8f12477",
            "aa032f0dc8164485875a696e1faa83a5",
            "ce9aeb08fcbf4b48beb1786be4b4e681",
            "7b690adc456b44d8bc371f2f8172270d",
            "afe7c6845ef4430bb1f426993e8294ab",
            "e7117f1b80a44f99a30315efbbf8e5a7"
          ]
        },
        "outputId": "a4dea261-88fe-4c78-bdbd-6c73f4720e34"
      },
      "execution_count": 20,
      "outputs": [
        {
          "output_type": "display_data",
          "data": {
            "text/plain": [
              "<IPython.core.display.HTML object>"
            ],
            "text/html": [
              "Tracking run with wandb version 0.13.10"
            ]
          },
          "metadata": {}
        },
        {
          "output_type": "display_data",
          "data": {
            "text/plain": [
              "<IPython.core.display.HTML object>"
            ],
            "text/html": [
              "Run data is saved locally in <code>/content/wandb/run-20230302_143854-5rtyx3jp</code>"
            ]
          },
          "metadata": {}
        },
        {
          "output_type": "display_data",
          "data": {
            "text/plain": [
              "<IPython.core.display.HTML object>"
            ],
            "text/html": [
              "Syncing run <strong><a href='https://wandb.ai/tim-w/bootcamp/runs/5rtyx3jp' target=\"_blank\">desert-grass-12</a></strong> to <a href='https://wandb.ai/tim-w/bootcamp' target=\"_blank\">Weights & Biases</a> (<a href='https://wandb.me/run' target=\"_blank\">docs</a>)<br/>"
            ]
          },
          "metadata": {}
        },
        {
          "output_type": "display_data",
          "data": {
            "text/plain": [
              "<IPython.core.display.HTML object>"
            ],
            "text/html": [
              " View project at <a href='https://wandb.ai/tim-w/bootcamp' target=\"_blank\">https://wandb.ai/tim-w/bootcamp</a>"
            ]
          },
          "metadata": {}
        },
        {
          "output_type": "display_data",
          "data": {
            "text/plain": [
              "<IPython.core.display.HTML object>"
            ],
            "text/html": [
              " View run at <a href='https://wandb.ai/tim-w/bootcamp/runs/5rtyx3jp' target=\"_blank\">https://wandb.ai/tim-w/bootcamp/runs/5rtyx3jp</a>"
            ]
          },
          "metadata": {}
        },
        {
          "output_type": "stream",
          "name": "stderr",
          "text": [
            "\u001b[34m\u001b[1mwandb\u001b[0m: logging graph, to disable use `wandb.watch(log_graph=False)`\n",
            "/usr/local/lib/python3.8/dist-packages/torch/nn/functional.py:1331: UserWarning:\n",
            "\n",
            "dropout2d: Received a 2-D input to dropout2d, which is deprecated and will result in an error in a future release. To retain the behavior and silence this warning, please use dropout instead. Note that dropout2d exists to provide channel-wise dropout on inputs with 2 spatial dimensions, a channel dimension, and an optional batch dimension (i.e. 3D or 4D inputs).\n",
            "\n"
          ]
        },
        {
          "output_type": "display_data",
          "data": {
            "text/plain": [
              "<IPython.core.display.HTML object>"
            ],
            "text/html": [
              "Waiting for W&B process to finish... <strong style=\"color:green\">(success).</strong>"
            ]
          },
          "metadata": {}
        },
        {
          "output_type": "display_data",
          "data": {
            "text/plain": [
              "VBox(children=(Label(value='1.702 MB of 1.702 MB uploaded (1.037 MB deduped)\\r'), FloatProgress(value=1.0, max…"
            ],
            "application/vnd.jupyter.widget-view+json": {
              "version_major": 2,
              "version_minor": 0,
              "model_id": "c276c6a8659d4582bbcbdc813fbe616c"
            }
          },
          "metadata": {}
        },
        {
          "output_type": "display_data",
          "data": {
            "text/plain": [
              "<IPython.core.display.HTML object>"
            ],
            "text/html": [
              "<style>\n",
              "    table.wandb td:nth-child(1) { padding: 0 10px; text-align: left ; width: auto;} td:nth-child(2) {text-align: left ; width: 100%}\n",
              "    .wandb-row { display: flex; flex-direction: row; flex-wrap: wrap; justify-content: flex-start; width: 100% }\n",
              "    .wandb-col { display: flex; flex-direction: column; flex-basis: 100%; flex: 1; padding: 10px; }\n",
              "    </style>\n",
              "<div class=\"wandb-row\"><div class=\"wandb-col\"><h3>Run history:</h3><br/><table class=\"wandb\"><tr><td>train/loss</td><td>█▄▂▂▂▂▂▂▂▁▁▁▁▁▁▁▁▁▁▁▁▁▁▁▁▁▁▁▁▁▁▁▁▁▁▁▁▁▁▁</td></tr></table><br/></div><div class=\"wandb-col\"><h3>Run summary:</h3><br/><table class=\"wandb\"><tr><td>train/loss</td><td>0.23822</td></tr></table><br/></div></div>"
            ]
          },
          "metadata": {}
        },
        {
          "output_type": "display_data",
          "data": {
            "text/plain": [
              "<IPython.core.display.HTML object>"
            ],
            "text/html": [
              " View run <strong style=\"color:#cdcd00\">desert-grass-12</strong> at: <a href='https://wandb.ai/tim-w/bootcamp/runs/5rtyx3jp' target=\"_blank\">https://wandb.ai/tim-w/bootcamp/runs/5rtyx3jp</a><br/>Synced 5 W&B file(s), 6 media file(s), 1287 artifact file(s) and 1 other file(s)"
            ]
          },
          "metadata": {}
        },
        {
          "output_type": "display_data",
          "data": {
            "text/plain": [
              "<IPython.core.display.HTML object>"
            ],
            "text/html": [
              "Find logs at: <code>./wandb/run-20230302_143854-5rtyx3jp/logs</code>"
            ]
          },
          "metadata": {}
        }
      ]
    },
    {
      "cell_type": "markdown",
      "source": [
        "## Tensorflow\n",
        "\n",
        "You can, of course, add `wandb.init` and `wandb.log` calls to track any python compute, including a job that trains a model using `tensorflow`. However, if you already have `tensorboard` logging set up in a `tensorflow` project, you can simply pass the `sync_tensorboard=True` argument to `wandb.init` and all metrics written to tensorboard will be automatically synced to Weights & Biases!"
      ],
      "metadata": {
        "id": "n4tXDI8uqfOc"
      }
    },
    {
      "cell_type": "code",
      "source": [
        "import tensorflow as tf"
      ],
      "metadata": {
        "id": "zsUTAV4t3cwO"
      },
      "execution_count": 21,
      "outputs": []
    },
    {
      "cell_type": "code",
      "source": [
        "def build_model(config):\n",
        "  \"\"\"Construct a simple neural network.\"\"\"\n",
        "  model = tf.keras.models.Sequential(\n",
        "    [\n",
        "      tf.keras.layers.Flatten(input_shape=(28, 28)),\n",
        "      tf.keras.layers.Dense(config.layer_1, activation=config.activation_1),\n",
        "      tf.keras.layers.Dropout(config.dropout),\n",
        "      tf.keras.layers.Dense(config.layer_2, activation=config.activation_2),\n",
        "    ]\n",
        "  )\n",
        "  model.compile(optimizer=config.optimizer, loss=config.loss, metrics=[config.metric])\n",
        "  return model\n",
        "\n",
        "\n",
        "def train_mnist():\n",
        "\n",
        "  # Default training hyperparameters\n",
        "  config = {\n",
        "    \"layer_1\": 512,\n",
        "    \"activation_1\": \"relu\",\n",
        "    \"dropout\": 0.25,\n",
        "    \"layer_2\": 10,\n",
        "    \"activation_2\": \"softmax\",\n",
        "    \"optimizer\": \"sgd\",\n",
        "    \"loss\": \"sparse_categorical_crossentropy\",\n",
        "    \"metric\": \"accuracy\",\n",
        "    \"epoch\": 5,\n",
        "    \"batch_size\": 256,\n",
        "  }\n",
        "\n",
        "  # Passes in config and sets sync_tensorboard=True\n",
        "  with wandb.init(config=config, sync_tensorboard=True) as run:\n",
        "      \n",
        "      # Build model and prepare data\n",
        "      model = build_model(run.config)\n",
        "      mnist = tf.keras.datasets.mnist\n",
        "      (x_train, y_train), (x_test, y_test) = mnist.load_data()\n",
        "      \n",
        "      # Trains model and passes in TensorBoard callback. This will log metrics\n",
        "      # and weight histograms. Because we set sync_tensorboard=True, the tensorboard\n",
        "      # files will be passed to Weights & Biases.\n",
        "      model.fit(\n",
        "          x=x_train,\n",
        "          y=y_train,\n",
        "          epochs=run.config.epoch,\n",
        "          batch_size=run.config.batch_size,\n",
        "          validation_data=(x_test[:100], y_test[:100]),\n",
        "          callbacks=[tf.keras.callbacks.TensorBoard(histogram_freq=1)],\n",
        "      )\n",
        "\n",
        "      # Log model weights to Weights & Biases as an Artifact\n",
        "      model.save(\"model.keras\")\n",
        "      model_artifact = wandb.Artifact(name=\"mnist-model\", type=\"model\")\n",
        "      model_artifact.add_file(\"model.keras\")\n",
        "      # If you are writing model to cloud storage, you can track it with:\n",
        "      # model_artifact.add_reference(\"s3://<your-bucket>/.../model.keras\")\n",
        "      # or\n",
        "      # model_artifact.add_reference(\"gs://<your-bucket>/.../model.keras\")\n",
        "      run.log_artifact(model_artifact)\n"
      ],
      "metadata": {
        "id": "pmNEFnLV9oQK"
      },
      "execution_count": 22,
      "outputs": []
    },
    {
      "cell_type": "code",
      "source": [
        "train_mnist()"
      ],
      "metadata": {
        "id": "67GYLOteER7W",
        "colab": {
          "base_uri": "https://localhost:8080/",
          "height": 743,
          "referenced_widgets": [
            "3ddf5e56eca147669bb754065ae50005",
            "f417ef8ad5a44c7cafc14aa5f5597a1f",
            "a26cae9f1bf343daa6ff03d422de696e",
            "daf17ae2846b4f589cd3b0a34b64707e",
            "28f45432e8fe4066a0c6989bbff8ac9c",
            "bff5f410e5154b589ee651f3d5e56ddc",
            "cf083a0405124f03a61a69f090f7dc09",
            "1d2c3c511e33465480da234afe991dc5"
          ]
        },
        "outputId": "782954df-9aae-4cce-9a5c-a447ccaf619d"
      },
      "execution_count": 23,
      "outputs": [
        {
          "output_type": "display_data",
          "data": {
            "text/plain": [
              "<IPython.core.display.HTML object>"
            ],
            "text/html": [
              "Tracking run with wandb version 0.13.10"
            ]
          },
          "metadata": {}
        },
        {
          "output_type": "display_data",
          "data": {
            "text/plain": [
              "<IPython.core.display.HTML object>"
            ],
            "text/html": [
              "Run data is saved locally in <code>/content/wandb/run-20230302_144013-hjt4ufp4</code>"
            ]
          },
          "metadata": {}
        },
        {
          "output_type": "display_data",
          "data": {
            "text/plain": [
              "<IPython.core.display.HTML object>"
            ],
            "text/html": [
              "Syncing run <strong><a href='https://wandb.ai/tim-w/bootcamp/runs/hjt4ufp4' target=\"_blank\">bumbling-gorge-13</a></strong> to <a href='https://wandb.ai/tim-w/bootcamp' target=\"_blank\">Weights & Biases</a> (<a href='https://wandb.me/run' target=\"_blank\">docs</a>)<br/>"
            ]
          },
          "metadata": {}
        },
        {
          "output_type": "display_data",
          "data": {
            "text/plain": [
              "<IPython.core.display.HTML object>"
            ],
            "text/html": [
              " View project at <a href='https://wandb.ai/tim-w/bootcamp' target=\"_blank\">https://wandb.ai/tim-w/bootcamp</a>"
            ]
          },
          "metadata": {}
        },
        {
          "output_type": "display_data",
          "data": {
            "text/plain": [
              "<IPython.core.display.HTML object>"
            ],
            "text/html": [
              " View run at <a href='https://wandb.ai/tim-w/bootcamp/runs/hjt4ufp4' target=\"_blank\">https://wandb.ai/tim-w/bootcamp/runs/hjt4ufp4</a>"
            ]
          },
          "metadata": {}
        },
        {
          "output_type": "stream",
          "name": "stdout",
          "text": [
            "Epoch 1/5\n",
            "227/235 [===========================>..] - ETA: 0s - loss: 98.5938 - accuracy: 0.5805 "
          ]
        },
        {
          "output_type": "stream",
          "name": "stderr",
          "text": [
            "\u001b[34m\u001b[1mwandb\u001b[0m: \u001b[33mWARNING\u001b[0m When using several event log directories, please call `wandb.tensorboard.patch(root_logdir=\"...\")` before `wandb.init`\n"
          ]
        },
        {
          "output_type": "stream",
          "name": "stdout",
          "text": [
            "\b\b\b\b\b\b\b\b\b\b\b\b\b\b\b\b\b\b\b\b\b\b\b\b\b\b\b\b\b\b\b\b\b\b\b\b\b\b\b\b\b\b\b\b\b\b\b\b\b\b\b\b\b\b\b\b\b\b\b\b\b\b\b\b\b\b\b\b\b\b\b\b\b\b\b\b\b\b\b\b\b\b\b\b\b\r235/235 [==============================] - 4s 8ms/step - loss: 95.5216 - accuracy: 0.5853 - val_loss: 0.4212 - val_accuracy: 0.8200\n",
            "Epoch 2/5\n",
            "235/235 [==============================] - 1s 6ms/step - loss: 0.7683 - accuracy: 0.7852 - val_loss: 0.2064 - val_accuracy: 0.9200\n",
            "Epoch 3/5\n",
            "235/235 [==============================] - 1s 5ms/step - loss: 0.5952 - accuracy: 0.8315 - val_loss: 0.2512 - val_accuracy: 0.9200\n",
            "Epoch 4/5\n",
            "235/235 [==============================] - 1s 4ms/step - loss: 0.5318 - accuracy: 0.8506 - val_loss: 0.2586 - val_accuracy: 0.9100\n",
            "Epoch 5/5\n",
            "235/235 [==============================] - 1s 4ms/step - loss: 0.4942 - accuracy: 0.8584 - val_loss: 0.5226 - val_accuracy: 0.8500\n"
          ]
        },
        {
          "output_type": "display_data",
          "data": {
            "text/plain": [
              "<IPython.core.display.HTML object>"
            ],
            "text/html": [
              "Waiting for W&B process to finish... <strong style=\"color:green\">(success).</strong>"
            ]
          },
          "metadata": {}
        },
        {
          "output_type": "display_data",
          "data": {
            "text/plain": [
              "VBox(children=(Label(value='3.315 MB of 3.315 MB uploaded (0.000 MB deduped)\\r'), FloatProgress(value=1.0, max…"
            ],
            "application/vnd.jupyter.widget-view+json": {
              "version_major": 2,
              "version_minor": 0,
              "model_id": "3ddf5e56eca147669bb754065ae50005"
            }
          },
          "metadata": {}
        },
        {
          "output_type": "display_data",
          "data": {
            "text/plain": [
              "<IPython.core.display.HTML object>"
            ],
            "text/html": [
              "<style>\n",
              "    table.wandb td:nth-child(1) { padding: 0 10px; text-align: left ; width: auto;} td:nth-child(2) {text-align: left ; width: 100%}\n",
              "    .wandb-row { display: flex; flex-direction: row; flex-wrap: wrap; justify-content: flex-start; width: 100% }\n",
              "    .wandb-col { display: flex; flex-direction: column; flex-basis: 100%; flex: 1; padding: 10px; }\n",
              "    </style>\n",
              "<div class=\"wandb-row\"><div class=\"wandb-col\"><h3>Run history:</h3><br/><table class=\"wandb\"><tr><td>global_step</td><td>▁▂▄▄▅▅▇▇██</td></tr><tr><td>train/epoch_accuracy</td><td>▁▆▇██</td></tr><tr><td>train/epoch_loss</td><td>█▁▁▁▁</td></tr><tr><td>train/global_step</td><td>▁▁▃▅▆█</td></tr><tr><td>validation/epoch_accuracy</td><td>▁██▇▃</td></tr><tr><td>validation/epoch_loss</td><td>▆▁▂▂█</td></tr><tr><td>validation/evaluation_accuracy_vs_iterations</td><td>▁██▇▃</td></tr><tr><td>validation/evaluation_loss_vs_iterations</td><td>▆▁▂▂█</td></tr><tr><td>validation/global_step</td><td>▁▄▁▅▁▇▁█▁</td></tr></table><br/></div><div class=\"wandb-col\"><h3>Run summary:</h3><br/><table class=\"wandb\"><tr><td>global_step</td><td>1175</td></tr><tr><td>train/epoch_accuracy</td><td>0.85845</td></tr><tr><td>train/epoch_loss</td><td>0.49425</td></tr><tr><td>train/global_step</td><td>4</td></tr><tr><td>validation/epoch_accuracy</td><td>0.85</td></tr><tr><td>validation/epoch_loss</td><td>0.52258</td></tr><tr><td>validation/evaluation_accuracy_vs_iterations</td><td>0.85</td></tr><tr><td>validation/evaluation_loss_vs_iterations</td><td>0.52258</td></tr><tr><td>validation/global_step</td><td>4</td></tr></table><br/></div></div>"
            ]
          },
          "metadata": {}
        },
        {
          "output_type": "display_data",
          "data": {
            "text/plain": [
              "<IPython.core.display.HTML object>"
            ],
            "text/html": [
              " View run <strong style=\"color:#cdcd00\">bumbling-gorge-13</strong> at: <a href='https://wandb.ai/tim-w/bootcamp/runs/hjt4ufp4' target=\"_blank\">https://wandb.ai/tim-w/bootcamp/runs/hjt4ufp4</a><br/>Synced 5 W&B file(s), 0 media file(s), 3 artifact file(s) and 3 other file(s)"
            ]
          },
          "metadata": {}
        },
        {
          "output_type": "display_data",
          "data": {
            "text/plain": [
              "<IPython.core.display.HTML object>"
            ],
            "text/html": [
              "Find logs at: <code>./wandb/run-20230302_144013-hjt4ufp4/logs</code>"
            ]
          },
          "metadata": {}
        }
      ]
    },
    {
      "cell_type": "markdown",
      "source": [
        "## Running a Sweep 🧹\n",
        "\n",
        "Now that your hyperparameters are stored in the `wandb.config`, you can use Sweeps to automatically tune your hyperparameters. There are basically two steps\n",
        "1. Create and upload a sweep config.\n",
        "2. Start a sweep agent or agents.\n",
        "\n",
        "You can do (1) from a notebook by passing a dictionary config to `wandb.sweep` or on from the command line with a yaml config by running `wandb sweep config.yaml`.\n",
        "\n",
        "You can do (2) from a notebook by your train function to `wandb.agent` or from the command line by specifying a program name in your config that will be run by invoking `wandb agent`.\n"
      ],
      "metadata": {
        "id": "0Cxzk9hS_VOt"
      }
    },
    {
      "cell_type": "code",
      "source": [
        "sweep_config = {\n",
        "  'method': 'bayes',\n",
        "  'metric': {\n",
        "    'name': 'validation/epoch_loss',\n",
        "    'goal': 'minimize'   \n",
        "  },\n",
        "  'parameters': {\n",
        "    'dropout': {\n",
        "      'distribution': 'uniform',\n",
        "      'min': 0.25,\n",
        "      'max': 0.5\n",
        "    },\n",
        "    'batch_size': {\n",
        "      'values': [128, 256]\n",
        "    },\n",
        "    'epochs':{\n",
        "      'distribution': 'int_uniform',\n",
        "      'max': 6,\n",
        "      'min': 3\n",
        "    },\n",
        "    'optimizer': {\n",
        "        'values': ['adam', 'sgd']\n",
        "    }\n",
        "  }\n",
        "}\n",
        "\n",
        "# Construct a sweep\n",
        "sweep_id = wandb.sweep(sweep_config)"
      ],
      "metadata": {
        "id": "VsOQSMMtAvSV",
        "colab": {
          "base_uri": "https://localhost:8080/"
        },
        "outputId": "bd6f18d9-33c0-487e-9e6a-319c35e88d15"
      },
      "execution_count": 24,
      "outputs": [
        {
          "output_type": "stream",
          "name": "stdout",
          "text": [
            "Create sweep with ID: hedmloma\n",
            "Sweep URL: https://wandb.ai/tim-w/bootcamp/sweeps/hedmloma\n"
          ]
        }
      ]
    },
    {
      "cell_type": "code",
      "source": [
        "wandb.agent(sweep_id, train_mnist, count = 20)"
      ],
      "metadata": {
        "id": "gOwidR44CPJA",
        "colab": {
          "base_uri": "https://localhost:8080/",
          "height": 1000,
          "referenced_widgets": [
            "11f0684ca3fa4b6fa620de21f5b8c526",
            "74132a6130ea4387b495a44f57ae6d04",
            "f3edd84e6a1e410abb31057df894f7c9",
            "fb19d82a6987444294892688090c2c65",
            "29e3abe117ee41eda582cc25acfdbc5b",
            "278ef165cee341f4827aa2069ed45c30",
            "edd32379ca7047c7893c2e4f94400c1c",
            "759abed1cf7e400bb72d583000565057",
            "b5334edf64824f0abf5407b4db497af2",
            "b07716a460cd41b4be5bdc2bcb3df348",
            "8542f7bd48994810a9a6dfec103cc493",
            "f1c088a34a024e69b820461854c57d50",
            "a633af801ac54850a976654beb716371",
            "6d62480e691f44709d8d312be48a2f9e",
            "547a5f9fcf4342d79571e60a2047e261",
            "7e88cc28942542bb9c762dbac8122350"
          ]
        },
        "outputId": "40079500-531d-4ffa-92b6-eed2804689eb"
      },
      "execution_count": 25,
      "outputs": [
        {
          "output_type": "stream",
          "name": "stderr",
          "text": [
            "\u001b[34m\u001b[1mwandb\u001b[0m: Agent Starting Run: d0mauhau with config:\n",
            "\u001b[34m\u001b[1mwandb\u001b[0m: \tbatch_size: 256\n",
            "\u001b[34m\u001b[1mwandb\u001b[0m: \tdropout: 0.31812262765140187\n",
            "\u001b[34m\u001b[1mwandb\u001b[0m: \tepochs: 3\n",
            "\u001b[34m\u001b[1mwandb\u001b[0m: \toptimizer: adam\n",
            "Failed to detect the name of this notebook, you can set it manually with the WANDB_NOTEBOOK_NAME environment variable to enable code saving.\n"
          ]
        },
        {
          "output_type": "display_data",
          "data": {
            "text/plain": [
              "<IPython.core.display.HTML object>"
            ],
            "text/html": [
              "Tracking run with wandb version 0.13.10"
            ]
          },
          "metadata": {}
        },
        {
          "output_type": "display_data",
          "data": {
            "text/plain": [
              "<IPython.core.display.HTML object>"
            ],
            "text/html": [
              "Run data is saved locally in <code>/content/wandb/run-20230302_144044-d0mauhau</code>"
            ]
          },
          "metadata": {}
        },
        {
          "output_type": "display_data",
          "data": {
            "text/plain": [
              "<IPython.core.display.HTML object>"
            ],
            "text/html": [
              "Syncing run <strong><a href='https://wandb.ai/tim-w/bootcamp/runs/d0mauhau' target=\"_blank\">copper-sweep-1</a></strong> to <a href='https://wandb.ai/tim-w/bootcamp' target=\"_blank\">Weights & Biases</a> (<a href='https://wandb.me/run' target=\"_blank\">docs</a>)<br/>Sweep page: <a href='https://wandb.ai/tim-w/bootcamp/sweeps/hedmloma' target=\"_blank\">https://wandb.ai/tim-w/bootcamp/sweeps/hedmloma</a>"
            ]
          },
          "metadata": {}
        },
        {
          "output_type": "display_data",
          "data": {
            "text/plain": [
              "<IPython.core.display.HTML object>"
            ],
            "text/html": [
              " View project at <a href='https://wandb.ai/tim-w/bootcamp' target=\"_blank\">https://wandb.ai/tim-w/bootcamp</a>"
            ]
          },
          "metadata": {}
        },
        {
          "output_type": "display_data",
          "data": {
            "text/plain": [
              "<IPython.core.display.HTML object>"
            ],
            "text/html": [
              " View sweep at <a href='https://wandb.ai/tim-w/bootcamp/sweeps/hedmloma' target=\"_blank\">https://wandb.ai/tim-w/bootcamp/sweeps/hedmloma</a>"
            ]
          },
          "metadata": {}
        },
        {
          "output_type": "display_data",
          "data": {
            "text/plain": [
              "<IPython.core.display.HTML object>"
            ],
            "text/html": [
              " View run at <a href='https://wandb.ai/tim-w/bootcamp/runs/d0mauhau' target=\"_blank\">https://wandb.ai/tim-w/bootcamp/runs/d0mauhau</a>"
            ]
          },
          "metadata": {}
        },
        {
          "output_type": "stream",
          "name": "stderr",
          "text": [
            "\u001b[34m\u001b[1mwandb\u001b[0m: \u001b[33mWARNING\u001b[0m When using several event log directories, please call `wandb.tensorboard.patch(root_logdir=\"...\")` before `wandb.init`\n"
          ]
        },
        {
          "output_type": "stream",
          "name": "stdout",
          "text": [
            "Epoch 1/5\n",
            "228/235 [============================>.] - ETA: 0s - loss: 6.0775 - accuracy: 0.8654"
          ]
        },
        {
          "output_type": "stream",
          "name": "stderr",
          "text": [
            "\u001b[34m\u001b[1mwandb\u001b[0m: \u001b[33mWARNING\u001b[0m When using several event log directories, please call `wandb.tensorboard.patch(root_logdir=\"...\")` before `wandb.init`\n"
          ]
        },
        {
          "output_type": "stream",
          "name": "stdout",
          "text": [
            "\b\b\b\b\b\b\b\b\b\b\b\b\b\b\b\b\b\b\b\b\b\b\b\b\b\b\b\b\b\b\b\b\b\b\b\b\b\b\b\b\b\b\b\b\b\b\b\b\b\b\b\b\b\b\b\b\b\b\b\b\b\b\b\b\b\b\b\b\b\b\b\b\b\b\b\b\b\b\b\b\b\b\b\b\r235/235 [==============================] - 4s 8ms/step - loss: 5.9450 - accuracy: 0.8659 - val_loss: 0.0930 - val_accuracy: 0.9800\n",
            "Epoch 2/5\n",
            "235/235 [==============================] - 2s 7ms/step - loss: 0.6771 - accuracy: 0.9038 - val_loss: 0.2190 - val_accuracy: 0.9500\n",
            "Epoch 3/5\n",
            "235/235 [==============================] - 1s 5ms/step - loss: 0.4060 - accuracy: 0.9213 - val_loss: 0.0256 - val_accuracy: 1.0000\n",
            "Epoch 4/5\n",
            "235/235 [==============================] - 1s 4ms/step - loss: 0.3120 - accuracy: 0.9341 - val_loss: 0.0183 - val_accuracy: 1.0000\n",
            "Epoch 5/5\n",
            "235/235 [==============================] - 1s 4ms/step - loss: 0.2462 - accuracy: 0.9441 - val_loss: 0.0419 - val_accuracy: 0.9800\n"
          ]
        },
        {
          "output_type": "display_data",
          "data": {
            "text/plain": [
              "<IPython.core.display.HTML object>"
            ],
            "text/html": [
              "Waiting for W&B process to finish... <strong style=\"color:green\">(success).</strong>"
            ]
          },
          "metadata": {}
        },
        {
          "output_type": "display_data",
          "data": {
            "text/plain": [
              "<IPython.core.display.HTML object>"
            ],
            "text/html": [
              "<style>\n",
              "    table.wandb td:nth-child(1) { padding: 0 10px; text-align: left ; width: auto;} td:nth-child(2) {text-align: left ; width: 100%}\n",
              "    .wandb-row { display: flex; flex-direction: row; flex-wrap: wrap; justify-content: flex-start; width: 100% }\n",
              "    .wandb-col { display: flex; flex-direction: column; flex-basis: 100%; flex: 1; padding: 10px; }\n",
              "    </style>\n",
              "<div class=\"wandb-row\"><div class=\"wandb-col\"><h3>Run history:</h3><br/><table class=\"wandb\"><tr><td>global_step</td><td>▁▂▄▄▅▅▇▇██</td></tr><tr><td>train/epoch_accuracy</td><td>▁▄▆▇█</td></tr><tr><td>train/epoch_loss</td><td>█▂▁▁▁</td></tr><tr><td>train/global_step</td><td>▁▁▃▅▆█</td></tr><tr><td>validation/epoch_accuracy</td><td>▅▁██▅</td></tr><tr><td>validation/epoch_loss</td><td>▄█▁▁▂</td></tr><tr><td>validation/evaluation_accuracy_vs_iterations</td><td>▅▁██▅</td></tr><tr><td>validation/evaluation_loss_vs_iterations</td><td>▄█▁▁▂</td></tr><tr><td>validation/global_step</td><td>▁▄▁▅▁▇▁█▁</td></tr></table><br/></div><div class=\"wandb-col\"><h3>Run summary:</h3><br/><table class=\"wandb\"><tr><td>global_step</td><td>1175</td></tr><tr><td>train/epoch_accuracy</td><td>0.94412</td></tr><tr><td>train/epoch_loss</td><td>0.24622</td></tr><tr><td>train/global_step</td><td>4</td></tr><tr><td>validation/epoch_accuracy</td><td>0.98</td></tr><tr><td>validation/epoch_loss</td><td>0.0419</td></tr><tr><td>validation/evaluation_accuracy_vs_iterations</td><td>0.98</td></tr><tr><td>validation/evaluation_loss_vs_iterations</td><td>0.0419</td></tr><tr><td>validation/global_step</td><td>4</td></tr></table><br/></div></div>"
            ]
          },
          "metadata": {}
        },
        {
          "output_type": "display_data",
          "data": {
            "text/plain": [
              "<IPython.core.display.HTML object>"
            ],
            "text/html": [
              " View run <strong style=\"color:#cdcd00\">copper-sweep-1</strong> at: <a href='https://wandb.ai/tim-w/bootcamp/runs/d0mauhau' target=\"_blank\">https://wandb.ai/tim-w/bootcamp/runs/d0mauhau</a><br/>Synced 5 W&B file(s), 0 media file(s), 3 artifact file(s) and 3 other file(s)"
            ]
          },
          "metadata": {}
        },
        {
          "output_type": "display_data",
          "data": {
            "text/plain": [
              "<IPython.core.display.HTML object>"
            ],
            "text/html": [
              "Find logs at: <code>./wandb/run-20230302_144044-d0mauhau/logs</code>"
            ]
          },
          "metadata": {}
        },
        {
          "output_type": "stream",
          "name": "stderr",
          "text": [
            "\u001b[34m\u001b[1mwandb\u001b[0m: Sweep Agent: Waiting for job.\n",
            "\u001b[34m\u001b[1mwandb\u001b[0m: Job received.\n",
            "\u001b[34m\u001b[1mwandb\u001b[0m: Agent Starting Run: g7njlgac with config:\n",
            "\u001b[34m\u001b[1mwandb\u001b[0m: \tbatch_size: 128\n",
            "\u001b[34m\u001b[1mwandb\u001b[0m: \tdropout: 0.31888419278234414\n",
            "\u001b[34m\u001b[1mwandb\u001b[0m: \tepochs: 6\n",
            "\u001b[34m\u001b[1mwandb\u001b[0m: \toptimizer: adam\n",
            "Failed to detect the name of this notebook, you can set it manually with the WANDB_NOTEBOOK_NAME environment variable to enable code saving.\n"
          ]
        },
        {
          "output_type": "display_data",
          "data": {
            "text/plain": [
              "<IPython.core.display.HTML object>"
            ],
            "text/html": [
              "Tracking run with wandb version 0.13.10"
            ]
          },
          "metadata": {}
        },
        {
          "output_type": "display_data",
          "data": {
            "text/plain": [
              "<IPython.core.display.HTML object>"
            ],
            "text/html": [
              "Run data is saved locally in <code>/content/wandb/run-20230302_144124-g7njlgac</code>"
            ]
          },
          "metadata": {}
        },
        {
          "output_type": "display_data",
          "data": {
            "text/plain": [
              "<IPython.core.display.HTML object>"
            ],
            "text/html": [
              "Syncing run <strong><a href='https://wandb.ai/tim-w/bootcamp/runs/g7njlgac' target=\"_blank\">splendid-sweep-2</a></strong> to <a href='https://wandb.ai/tim-w/bootcamp' target=\"_blank\">Weights & Biases</a> (<a href='https://wandb.me/run' target=\"_blank\">docs</a>)<br/>Sweep page: <a href='https://wandb.ai/tim-w/bootcamp/sweeps/hedmloma' target=\"_blank\">https://wandb.ai/tim-w/bootcamp/sweeps/hedmloma</a>"
            ]
          },
          "metadata": {}
        },
        {
          "output_type": "display_data",
          "data": {
            "text/plain": [
              "<IPython.core.display.HTML object>"
            ],
            "text/html": [
              " View project at <a href='https://wandb.ai/tim-w/bootcamp' target=\"_blank\">https://wandb.ai/tim-w/bootcamp</a>"
            ]
          },
          "metadata": {}
        },
        {
          "output_type": "display_data",
          "data": {
            "text/plain": [
              "<IPython.core.display.HTML object>"
            ],
            "text/html": [
              " View sweep at <a href='https://wandb.ai/tim-w/bootcamp/sweeps/hedmloma' target=\"_blank\">https://wandb.ai/tim-w/bootcamp/sweeps/hedmloma</a>"
            ]
          },
          "metadata": {}
        },
        {
          "output_type": "display_data",
          "data": {
            "text/plain": [
              "<IPython.core.display.HTML object>"
            ],
            "text/html": [
              " View run at <a href='https://wandb.ai/tim-w/bootcamp/runs/g7njlgac' target=\"_blank\">https://wandb.ai/tim-w/bootcamp/runs/g7njlgac</a>"
            ]
          },
          "metadata": {}
        },
        {
          "output_type": "stream",
          "name": "stderr",
          "text": [
            "\u001b[34m\u001b[1mwandb\u001b[0m: \u001b[33mWARNING\u001b[0m When using several event log directories, please call `wandb.tensorboard.patch(root_logdir=\"...\")` before `wandb.init`\n"
          ]
        },
        {
          "output_type": "stream",
          "name": "stdout",
          "text": [
            "Epoch 1/5\n",
            "464/469 [============================>.] - ETA: 0s - loss: 4.7320 - accuracy: 0.8666"
          ]
        },
        {
          "output_type": "stream",
          "name": "stderr",
          "text": [
            "\u001b[34m\u001b[1mwandb\u001b[0m: \u001b[33mWARNING\u001b[0m When using several event log directories, please call `wandb.tensorboard.patch(root_logdir=\"...\")` before `wandb.init`\n"
          ]
        },
        {
          "output_type": "stream",
          "name": "stdout",
          "text": [
            "\b\b\b\b\b\b\b\b\b\b\b\b\b\b\b\b\b\b\b\b\b\b\b\b\b\b\b\b\b\b\b\b\b\b\b\b\b\b\b\b\b\b\b\b\b\b\b\b\b\b\b\b\b\b\b\b\b\b\b\b\b\b\b\b\b\b\b\b\b\b\b\b\b\b\b\b\b\b\b\b\b\b\b\b\r469/469 [==============================] - 6s 7ms/step - loss: 4.6939 - accuracy: 0.8667 - val_loss: 0.6421 - val_accuracy: 0.9400\n",
            "Epoch 2/5\n",
            "469/469 [==============================] - 2s 4ms/step - loss: 0.5180 - accuracy: 0.9022 - val_loss: 0.0850 - val_accuracy: 0.9800\n",
            "Epoch 3/5\n",
            "469/469 [==============================] - 2s 4ms/step - loss: 0.3481 - accuracy: 0.9230 - val_loss: 0.0949 - val_accuracy: 0.9600\n",
            "Epoch 4/5\n",
            "469/469 [==============================] - 2s 4ms/step - loss: 0.2832 - accuracy: 0.9320 - val_loss: 0.0611 - val_accuracy: 0.9700\n",
            "Epoch 5/5\n",
            "469/469 [==============================] - 2s 4ms/step - loss: 0.2577 - accuracy: 0.9373 - val_loss: 0.2134 - val_accuracy: 0.9800\n"
          ]
        },
        {
          "output_type": "display_data",
          "data": {
            "text/plain": [
              "<IPython.core.display.HTML object>"
            ],
            "text/html": [
              "Waiting for W&B process to finish... <strong style=\"color:green\">(success).</strong>"
            ]
          },
          "metadata": {}
        },
        {
          "output_type": "display_data",
          "data": {
            "text/plain": [
              "<IPython.core.display.HTML object>"
            ],
            "text/html": [
              "<style>\n",
              "    table.wandb td:nth-child(1) { padding: 0 10px; text-align: left ; width: auto;} td:nth-child(2) {text-align: left ; width: 100%}\n",
              "    .wandb-row { display: flex; flex-direction: row; flex-wrap: wrap; justify-content: flex-start; width: 100% }\n",
              "    .wandb-col { display: flex; flex-direction: column; flex-basis: 100%; flex: 1; padding: 10px; }\n",
              "    </style>\n",
              "<div class=\"wandb-row\"><div class=\"wandb-col\"><h3>Run history:</h3><br/><table class=\"wandb\"><tr><td>global_step</td><td>▁▂▄▄▅▅▇▇██</td></tr><tr><td>train/epoch_accuracy</td><td>▁▅▇▇█</td></tr><tr><td>train/epoch_loss</td><td>█▁▁▁▁</td></tr><tr><td>train/global_step</td><td>▁▁▃▅▆█</td></tr><tr><td>validation/epoch_accuracy</td><td>▁█▄▆█</td></tr><tr><td>validation/epoch_loss</td><td>█▁▁▁▃</td></tr><tr><td>validation/evaluation_accuracy_vs_iterations</td><td>▁█▄▆█</td></tr><tr><td>validation/evaluation_loss_vs_iterations</td><td>█▁▁▁▃</td></tr><tr><td>validation/global_step</td><td>▁█▁▁▁▁</td></tr></table><br/></div><div class=\"wandb-col\"><h3>Run summary:</h3><br/><table class=\"wandb\"><tr><td>global_step</td><td>2345</td></tr><tr><td>train/epoch_accuracy</td><td>0.93728</td></tr><tr><td>train/epoch_loss</td><td>0.25772</td></tr><tr><td>train/global_step</td><td>4</td></tr><tr><td>validation/epoch_accuracy</td><td>0.98</td></tr><tr><td>validation/epoch_loss</td><td>0.21337</td></tr><tr><td>validation/evaluation_accuracy_vs_iterations</td><td>0.98</td></tr><tr><td>validation/evaluation_loss_vs_iterations</td><td>0.21337</td></tr><tr><td>validation/global_step</td><td>4</td></tr></table><br/></div></div>"
            ]
          },
          "metadata": {}
        },
        {
          "output_type": "display_data",
          "data": {
            "text/plain": [
              "<IPython.core.display.HTML object>"
            ],
            "text/html": [
              " View run <strong style=\"color:#cdcd00\">splendid-sweep-2</strong> at: <a href='https://wandb.ai/tim-w/bootcamp/runs/g7njlgac' target=\"_blank\">https://wandb.ai/tim-w/bootcamp/runs/g7njlgac</a><br/>Synced 5 W&B file(s), 0 media file(s), 3 artifact file(s) and 3 other file(s)"
            ]
          },
          "metadata": {}
        },
        {
          "output_type": "display_data",
          "data": {
            "text/plain": [
              "<IPython.core.display.HTML object>"
            ],
            "text/html": [
              "Find logs at: <code>./wandb/run-20230302_144124-g7njlgac/logs</code>"
            ]
          },
          "metadata": {}
        },
        {
          "output_type": "stream",
          "name": "stderr",
          "text": [
            "\u001b[34m\u001b[1mwandb\u001b[0m: Agent Starting Run: 80lpo1f2 with config:\n",
            "\u001b[34m\u001b[1mwandb\u001b[0m: \tbatch_size: 256\n",
            "\u001b[34m\u001b[1mwandb\u001b[0m: \tdropout: 0.3784076073086281\n",
            "\u001b[34m\u001b[1mwandb\u001b[0m: \tepochs: 5\n",
            "\u001b[34m\u001b[1mwandb\u001b[0m: \toptimizer: sgd\n",
            "Failed to detect the name of this notebook, you can set it manually with the WANDB_NOTEBOOK_NAME environment variable to enable code saving.\n"
          ]
        },
        {
          "output_type": "display_data",
          "data": {
            "text/plain": [
              "<IPython.core.display.HTML object>"
            ],
            "text/html": [
              "Tracking run with wandb version 0.13.10"
            ]
          },
          "metadata": {}
        },
        {
          "output_type": "display_data",
          "data": {
            "text/plain": [
              "<IPython.core.display.HTML object>"
            ],
            "text/html": [
              "Run data is saved locally in <code>/content/wandb/run-20230302_144205-80lpo1f2</code>"
            ]
          },
          "metadata": {}
        },
        {
          "output_type": "display_data",
          "data": {
            "text/plain": [
              "<IPython.core.display.HTML object>"
            ],
            "text/html": [
              "Syncing run <strong><a href='https://wandb.ai/tim-w/bootcamp/runs/80lpo1f2' target=\"_blank\">good-sweep-3</a></strong> to <a href='https://wandb.ai/tim-w/bootcamp' target=\"_blank\">Weights & Biases</a> (<a href='https://wandb.me/run' target=\"_blank\">docs</a>)<br/>Sweep page: <a href='https://wandb.ai/tim-w/bootcamp/sweeps/hedmloma' target=\"_blank\">https://wandb.ai/tim-w/bootcamp/sweeps/hedmloma</a>"
            ]
          },
          "metadata": {}
        },
        {
          "output_type": "display_data",
          "data": {
            "text/plain": [
              "<IPython.core.display.HTML object>"
            ],
            "text/html": [
              " View project at <a href='https://wandb.ai/tim-w/bootcamp' target=\"_blank\">https://wandb.ai/tim-w/bootcamp</a>"
            ]
          },
          "metadata": {}
        },
        {
          "output_type": "display_data",
          "data": {
            "text/plain": [
              "<IPython.core.display.HTML object>"
            ],
            "text/html": [
              " View sweep at <a href='https://wandb.ai/tim-w/bootcamp/sweeps/hedmloma' target=\"_blank\">https://wandb.ai/tim-w/bootcamp/sweeps/hedmloma</a>"
            ]
          },
          "metadata": {}
        },
        {
          "output_type": "display_data",
          "data": {
            "text/plain": [
              "<IPython.core.display.HTML object>"
            ],
            "text/html": [
              " View run at <a href='https://wandb.ai/tim-w/bootcamp/runs/80lpo1f2' target=\"_blank\">https://wandb.ai/tim-w/bootcamp/runs/80lpo1f2</a>"
            ]
          },
          "metadata": {}
        },
        {
          "output_type": "stream",
          "name": "stderr",
          "text": [
            "\u001b[34m\u001b[1mwandb\u001b[0m: \u001b[33mWARNING\u001b[0m When using several event log directories, please call `wandb.tensorboard.patch(root_logdir=\"...\")` before `wandb.init`\n"
          ]
        },
        {
          "output_type": "stream",
          "name": "stdout",
          "text": [
            "Epoch 1/5\n",
            "235/235 [==============================] - ETA: 0s - loss: 135.5223 - accuracy: 0.5402"
          ]
        },
        {
          "output_type": "stream",
          "name": "stderr",
          "text": [
            "\u001b[34m\u001b[1mwandb\u001b[0m: \u001b[33mWARNING\u001b[0m When using several event log directories, please call `wandb.tensorboard.patch(root_logdir=\"...\")` before `wandb.init`\n"
          ]
        },
        {
          "output_type": "stream",
          "name": "stdout",
          "text": [
            "\b\b\b\b\b\b\b\b\b\b\b\b\b\b\b\b\b\b\b\b\b\b\b\b\b\b\b\b\b\b\b\b\b\b\b\b\b\b\b\b\b\b\b\b\b\b\b\b\b\b\b\b\b\b\b\b\b\b\b\b\b\b\b\b\b\b\b\b\b\b\b\b\b\b\b\b\b\b\b\b\b\b\b\b\b\b\r235/235 [==============================] - 3s 8ms/step - loss: 135.5223 - accuracy: 0.5402 - val_loss: 0.8775 - val_accuracy: 0.7600\n",
            "Epoch 2/5\n",
            "235/235 [==============================] - 1s 6ms/step - loss: 1.0004 - accuracy: 0.7252 - val_loss: 0.5076 - val_accuracy: 0.8500\n",
            "Epoch 3/5\n",
            "235/235 [==============================] - 1s 4ms/step - loss: 0.8190 - accuracy: 0.7848 - val_loss: 0.3573 - val_accuracy: 0.8900\n",
            "Epoch 4/5\n",
            "235/235 [==============================] - 1s 4ms/step - loss: 0.7270 - accuracy: 0.8121 - val_loss: 0.3019 - val_accuracy: 0.9200\n",
            "Epoch 5/5\n",
            "235/235 [==============================] - 1s 4ms/step - loss: 0.6574 - accuracy: 0.8277 - val_loss: 0.1889 - val_accuracy: 0.9600\n"
          ]
        },
        {
          "output_type": "display_data",
          "data": {
            "text/plain": [
              "<IPython.core.display.HTML object>"
            ],
            "text/html": [
              "Waiting for W&B process to finish... <strong style=\"color:green\">(success).</strong>"
            ]
          },
          "metadata": {}
        },
        {
          "output_type": "display_data",
          "data": {
            "text/plain": [
              "<IPython.core.display.HTML object>"
            ],
            "text/html": [
              "<style>\n",
              "    table.wandb td:nth-child(1) { padding: 0 10px; text-align: left ; width: auto;} td:nth-child(2) {text-align: left ; width: 100%}\n",
              "    .wandb-row { display: flex; flex-direction: row; flex-wrap: wrap; justify-content: flex-start; width: 100% }\n",
              "    .wandb-col { display: flex; flex-direction: column; flex-basis: 100%; flex: 1; padding: 10px; }\n",
              "    </style>\n",
              "<div class=\"wandb-row\"><div class=\"wandb-col\"><h3>Run history:</h3><br/><table class=\"wandb\"><tr><td>global_step</td><td>▁▂▄▄▅▅▇▇██</td></tr><tr><td>train/epoch_accuracy</td><td>▁▆▇██</td></tr><tr><td>train/epoch_loss</td><td>█▁▁▁▁</td></tr><tr><td>train/global_step</td><td>▁▁▃▅▆█</td></tr><tr><td>validation/epoch_accuracy</td><td>▁▄▆▇█</td></tr><tr><td>validation/epoch_loss</td><td>█▄▃▂▁</td></tr><tr><td>validation/evaluation_accuracy_vs_iterations</td><td>▁▄▆▇█</td></tr><tr><td>validation/evaluation_loss_vs_iterations</td><td>█▄▃▂▁</td></tr><tr><td>validation/global_step</td><td>▁▄▁▅▁▇▁█▁</td></tr></table><br/></div><div class=\"wandb-col\"><h3>Run summary:</h3><br/><table class=\"wandb\"><tr><td>global_step</td><td>1175</td></tr><tr><td>train/epoch_accuracy</td><td>0.82772</td></tr><tr><td>train/epoch_loss</td><td>0.65739</td></tr><tr><td>train/global_step</td><td>4</td></tr><tr><td>validation/epoch_accuracy</td><td>0.96</td></tr><tr><td>validation/epoch_loss</td><td>0.18893</td></tr><tr><td>validation/evaluation_accuracy_vs_iterations</td><td>0.96</td></tr><tr><td>validation/evaluation_loss_vs_iterations</td><td>0.18893</td></tr><tr><td>validation/global_step</td><td>4</td></tr></table><br/></div></div>"
            ]
          },
          "metadata": {}
        },
        {
          "output_type": "display_data",
          "data": {
            "text/plain": [
              "<IPython.core.display.HTML object>"
            ],
            "text/html": [
              " View run <strong style=\"color:#cdcd00\">good-sweep-3</strong> at: <a href='https://wandb.ai/tim-w/bootcamp/runs/80lpo1f2' target=\"_blank\">https://wandb.ai/tim-w/bootcamp/runs/80lpo1f2</a><br/>Synced 5 W&B file(s), 0 media file(s), 3 artifact file(s) and 3 other file(s)"
            ]
          },
          "metadata": {}
        },
        {
          "output_type": "display_data",
          "data": {
            "text/plain": [
              "<IPython.core.display.HTML object>"
            ],
            "text/html": [
              "Find logs at: <code>./wandb/run-20230302_144205-80lpo1f2/logs</code>"
            ]
          },
          "metadata": {}
        },
        {
          "output_type": "stream",
          "name": "stderr",
          "text": [
            "\u001b[34m\u001b[1mwandb\u001b[0m: Agent Starting Run: yby46p3r with config:\n",
            "\u001b[34m\u001b[1mwandb\u001b[0m: \tbatch_size: 128\n",
            "\u001b[34m\u001b[1mwandb\u001b[0m: \tdropout: 0.39204725372856986\n",
            "\u001b[34m\u001b[1mwandb\u001b[0m: \tepochs: 5\n",
            "\u001b[34m\u001b[1mwandb\u001b[0m: \toptimizer: adam\n",
            "Failed to detect the name of this notebook, you can set it manually with the WANDB_NOTEBOOK_NAME environment variable to enable code saving.\n"
          ]
        },
        {
          "output_type": "display_data",
          "data": {
            "text/plain": [
              "<IPython.core.display.HTML object>"
            ],
            "text/html": [
              "Tracking run with wandb version 0.13.10"
            ]
          },
          "metadata": {}
        },
        {
          "output_type": "display_data",
          "data": {
            "text/plain": [
              "<IPython.core.display.HTML object>"
            ],
            "text/html": [
              "Run data is saved locally in <code>/content/wandb/run-20230302_144236-yby46p3r</code>"
            ]
          },
          "metadata": {}
        },
        {
          "output_type": "display_data",
          "data": {
            "text/plain": [
              "<IPython.core.display.HTML object>"
            ],
            "text/html": [
              "Syncing run <strong><a href='https://wandb.ai/tim-w/bootcamp/runs/yby46p3r' target=\"_blank\">winter-sweep-4</a></strong> to <a href='https://wandb.ai/tim-w/bootcamp' target=\"_blank\">Weights & Biases</a> (<a href='https://wandb.me/run' target=\"_blank\">docs</a>)<br/>Sweep page: <a href='https://wandb.ai/tim-w/bootcamp/sweeps/hedmloma' target=\"_blank\">https://wandb.ai/tim-w/bootcamp/sweeps/hedmloma</a>"
            ]
          },
          "metadata": {}
        },
        {
          "output_type": "display_data",
          "data": {
            "text/plain": [
              "<IPython.core.display.HTML object>"
            ],
            "text/html": [
              " View project at <a href='https://wandb.ai/tim-w/bootcamp' target=\"_blank\">https://wandb.ai/tim-w/bootcamp</a>"
            ]
          },
          "metadata": {}
        },
        {
          "output_type": "display_data",
          "data": {
            "text/plain": [
              "<IPython.core.display.HTML object>"
            ],
            "text/html": [
              " View sweep at <a href='https://wandb.ai/tim-w/bootcamp/sweeps/hedmloma' target=\"_blank\">https://wandb.ai/tim-w/bootcamp/sweeps/hedmloma</a>"
            ]
          },
          "metadata": {}
        },
        {
          "output_type": "display_data",
          "data": {
            "text/plain": [
              "<IPython.core.display.HTML object>"
            ],
            "text/html": [
              " View run at <a href='https://wandb.ai/tim-w/bootcamp/runs/yby46p3r' target=\"_blank\">https://wandb.ai/tim-w/bootcamp/runs/yby46p3r</a>"
            ]
          },
          "metadata": {}
        },
        {
          "output_type": "stream",
          "name": "stderr",
          "text": [
            "\u001b[34m\u001b[1mwandb\u001b[0m: \u001b[33mWARNING\u001b[0m When using several event log directories, please call `wandb.tensorboard.patch(root_logdir=\"...\")` before `wandb.init`\n"
          ]
        },
        {
          "output_type": "stream",
          "name": "stdout",
          "text": [
            "Epoch 1/5\n",
            "464/469 [============================>.] - ETA: 0s - loss: 4.8923 - accuracy: 0.8468"
          ]
        },
        {
          "output_type": "stream",
          "name": "stderr",
          "text": [
            "\u001b[34m\u001b[1mwandb\u001b[0m: \u001b[33mWARNING\u001b[0m When using several event log directories, please call `wandb.tensorboard.patch(root_logdir=\"...\")` before `wandb.init`\n"
          ]
        },
        {
          "output_type": "stream",
          "name": "stdout",
          "text": [
            "\b\b\b\b\b\b\b\b\b\b\b\b\b\b\b\b\b\b\b\b\b\b\b\b\b\b\b\b\b\b\b\b\b\b\b\b\b\b\b\b\b\b\b\b\b\b\b\b\b\b\b\b\b\b\b\b\b\b\b\b\b\b\b\b\b\b\b\b\b\b\b\b\b\b\b\b\b\b\b\b\b\b\b\b\r469/469 [==============================] - 4s 6ms/step - loss: 4.8509 - accuracy: 0.8470 - val_loss: 0.2810 - val_accuracy: 0.9200\n",
            "Epoch 2/5\n",
            "469/469 [==============================] - 2s 4ms/step - loss: 0.5469 - accuracy: 0.8869 - val_loss: 0.0625 - val_accuracy: 0.9800\n",
            "Epoch 3/5\n",
            "469/469 [==============================] - 2s 5ms/step - loss: 0.3975 - accuracy: 0.9080 - val_loss: 0.0702 - val_accuracy: 0.9700\n",
            "Epoch 4/5\n",
            "469/469 [==============================] - 2s 4ms/step - loss: 0.3272 - accuracy: 0.9197 - val_loss: 0.0819 - val_accuracy: 0.9700\n",
            "Epoch 5/5\n",
            "469/469 [==============================] - 2s 4ms/step - loss: 0.2902 - accuracy: 0.9269 - val_loss: 0.0864 - val_accuracy: 0.9700\n"
          ]
        },
        {
          "output_type": "display_data",
          "data": {
            "text/plain": [
              "<IPython.core.display.HTML object>"
            ],
            "text/html": [
              "Waiting for W&B process to finish... <strong style=\"color:green\">(success).</strong>"
            ]
          },
          "metadata": {}
        },
        {
          "output_type": "display_data",
          "data": {
            "text/plain": [
              "<IPython.core.display.HTML object>"
            ],
            "text/html": [
              "<style>\n",
              "    table.wandb td:nth-child(1) { padding: 0 10px; text-align: left ; width: auto;} td:nth-child(2) {text-align: left ; width: 100%}\n",
              "    .wandb-row { display: flex; flex-direction: row; flex-wrap: wrap; justify-content: flex-start; width: 100% }\n",
              "    .wandb-col { display: flex; flex-direction: column; flex-basis: 100%; flex: 1; padding: 10px; }\n",
              "    </style>\n",
              "<div class=\"wandb-row\"><div class=\"wandb-col\"><h3>Run history:</h3><br/><table class=\"wandb\"><tr><td>global_step</td><td>▁▂▄▄▅▅▇▇██</td></tr><tr><td>train/epoch_accuracy</td><td>▁▄▆▇█</td></tr><tr><td>train/epoch_loss</td><td>█▁▁▁▁</td></tr><tr><td>train/global_step</td><td>▁▁▃▅▆█</td></tr><tr><td>validation/epoch_accuracy</td><td>▁█▇▇▇</td></tr><tr><td>validation/epoch_loss</td><td>█▁▁▂▂</td></tr><tr><td>validation/evaluation_accuracy_vs_iterations</td><td>▁█▇▇▇</td></tr><tr><td>validation/evaluation_loss_vs_iterations</td><td>█▁▁▂▂</td></tr><tr><td>validation/global_step</td><td>▁▆▁█▁▁▁</td></tr></table><br/></div><div class=\"wandb-col\"><h3>Run summary:</h3><br/><table class=\"wandb\"><tr><td>global_step</td><td>2345</td></tr><tr><td>train/epoch_accuracy</td><td>0.92688</td></tr><tr><td>train/epoch_loss</td><td>0.29018</td></tr><tr><td>train/global_step</td><td>4</td></tr><tr><td>validation/epoch_accuracy</td><td>0.97</td></tr><tr><td>validation/epoch_loss</td><td>0.0864</td></tr><tr><td>validation/evaluation_accuracy_vs_iterations</td><td>0.97</td></tr><tr><td>validation/evaluation_loss_vs_iterations</td><td>0.0864</td></tr><tr><td>validation/global_step</td><td>4</td></tr></table><br/></div></div>"
            ]
          },
          "metadata": {}
        },
        {
          "output_type": "display_data",
          "data": {
            "text/plain": [
              "<IPython.core.display.HTML object>"
            ],
            "text/html": [
              " View run <strong style=\"color:#cdcd00\">winter-sweep-4</strong> at: <a href='https://wandb.ai/tim-w/bootcamp/runs/yby46p3r' target=\"_blank\">https://wandb.ai/tim-w/bootcamp/runs/yby46p3r</a><br/>Synced 5 W&B file(s), 0 media file(s), 3 artifact file(s) and 3 other file(s)"
            ]
          },
          "metadata": {}
        },
        {
          "output_type": "display_data",
          "data": {
            "text/plain": [
              "<IPython.core.display.HTML object>"
            ],
            "text/html": [
              "Find logs at: <code>./wandb/run-20230302_144236-yby46p3r/logs</code>"
            ]
          },
          "metadata": {}
        },
        {
          "output_type": "stream",
          "name": "stderr",
          "text": [
            "\u001b[34m\u001b[1mwandb\u001b[0m: Agent Starting Run: uazlftf9 with config:\n",
            "\u001b[34m\u001b[1mwandb\u001b[0m: \tbatch_size: 128\n",
            "\u001b[34m\u001b[1mwandb\u001b[0m: \tdropout: 0.3353449072691985\n",
            "\u001b[34m\u001b[1mwandb\u001b[0m: \tepochs: 3\n",
            "\u001b[34m\u001b[1mwandb\u001b[0m: \toptimizer: sgd\n",
            "Failed to detect the name of this notebook, you can set it manually with the WANDB_NOTEBOOK_NAME environment variable to enable code saving.\n"
          ]
        },
        {
          "output_type": "display_data",
          "data": {
            "text/plain": [
              "<IPython.core.display.HTML object>"
            ],
            "text/html": [
              "Tracking run with wandb version 0.13.10"
            ]
          },
          "metadata": {}
        },
        {
          "output_type": "display_data",
          "data": {
            "text/plain": [
              "<IPython.core.display.HTML object>"
            ],
            "text/html": [
              "Run data is saved locally in <code>/content/wandb/run-20230302_144314-uazlftf9</code>"
            ]
          },
          "metadata": {}
        },
        {
          "output_type": "display_data",
          "data": {
            "text/plain": [
              "<IPython.core.display.HTML object>"
            ],
            "text/html": [
              "Syncing run <strong><a href='https://wandb.ai/tim-w/bootcamp/runs/uazlftf9' target=\"_blank\">driven-sweep-5</a></strong> to <a href='https://wandb.ai/tim-w/bootcamp' target=\"_blank\">Weights & Biases</a> (<a href='https://wandb.me/run' target=\"_blank\">docs</a>)<br/>Sweep page: <a href='https://wandb.ai/tim-w/bootcamp/sweeps/hedmloma' target=\"_blank\">https://wandb.ai/tim-w/bootcamp/sweeps/hedmloma</a>"
            ]
          },
          "metadata": {}
        },
        {
          "output_type": "display_data",
          "data": {
            "text/plain": [
              "<IPython.core.display.HTML object>"
            ],
            "text/html": [
              " View project at <a href='https://wandb.ai/tim-w/bootcamp' target=\"_blank\">https://wandb.ai/tim-w/bootcamp</a>"
            ]
          },
          "metadata": {}
        },
        {
          "output_type": "display_data",
          "data": {
            "text/plain": [
              "<IPython.core.display.HTML object>"
            ],
            "text/html": [
              " View sweep at <a href='https://wandb.ai/tim-w/bootcamp/sweeps/hedmloma' target=\"_blank\">https://wandb.ai/tim-w/bootcamp/sweeps/hedmloma</a>"
            ]
          },
          "metadata": {}
        },
        {
          "output_type": "display_data",
          "data": {
            "text/plain": [
              "<IPython.core.display.HTML object>"
            ],
            "text/html": [
              " View run at <a href='https://wandb.ai/tim-w/bootcamp/runs/uazlftf9' target=\"_blank\">https://wandb.ai/tim-w/bootcamp/runs/uazlftf9</a>"
            ]
          },
          "metadata": {}
        },
        {
          "output_type": "stream",
          "name": "stderr",
          "text": [
            "\u001b[34m\u001b[1mwandb\u001b[0m: \u001b[33mWARNING\u001b[0m When using several event log directories, please call `wandb.tensorboard.patch(root_logdir=\"...\")` before `wandb.init`\n"
          ]
        },
        {
          "output_type": "stream",
          "name": "stdout",
          "text": [
            "Epoch 1/5\n",
            "468/469 [============================>.] - ETA: 0s - loss: 59.8856 - accuracy: 0.5536"
          ]
        },
        {
          "output_type": "stream",
          "name": "stderr",
          "text": [
            "\u001b[34m\u001b[1mwandb\u001b[0m: \u001b[33mWARNING\u001b[0m When using several event log directories, please call `wandb.tensorboard.patch(root_logdir=\"...\")` before `wandb.init`\n"
          ]
        },
        {
          "output_type": "stream",
          "name": "stdout",
          "text": [
            "\b\b\b\b\b\b\b\b\b\b\b\b\b\b\b\b\b\b\b\b\b\b\b\b\b\b\b\b\b\b\b\b\b\b\b\b\b\b\b\b\b\b\b\b\b\b\b\b\b\b\b\b\b\b\b\b\b\b\b\b\b\b\b\b\b\b\b\b\b\b\b\b\b\b\b\b\b\b\b\b\b\b\b\b\b\r469/469 [==============================] - 3s 6ms/step - loss: 59.7913 - accuracy: 0.5539 - val_loss: 0.5147 - val_accuracy: 0.8300\n",
            "Epoch 2/5\n",
            "469/469 [==============================] - 2s 4ms/step - loss: 0.9342 - accuracy: 0.7455 - val_loss: 0.2118 - val_accuracy: 0.9400\n",
            "Epoch 3/5\n",
            "469/469 [==============================] - 2s 4ms/step - loss: 0.7226 - accuracy: 0.8046 - val_loss: 0.3763 - val_accuracy: 0.8700\n",
            "Epoch 4/5\n",
            "469/469 [==============================] - 2s 5ms/step - loss: 0.6918 - accuracy: 0.8171 - val_loss: 0.3177 - val_accuracy: 0.9200\n",
            "Epoch 5/5\n",
            "469/469 [==============================] - 2s 4ms/step - loss: 0.6235 - accuracy: 0.8352 - val_loss: 0.2068 - val_accuracy: 0.9600\n"
          ]
        },
        {
          "output_type": "display_data",
          "data": {
            "text/plain": [
              "<IPython.core.display.HTML object>"
            ],
            "text/html": [
              "Waiting for W&B process to finish... <strong style=\"color:green\">(success).</strong>"
            ]
          },
          "metadata": {}
        },
        {
          "output_type": "display_data",
          "data": {
            "text/plain": [
              "<IPython.core.display.HTML object>"
            ],
            "text/html": [
              "<style>\n",
              "    table.wandb td:nth-child(1) { padding: 0 10px; text-align: left ; width: auto;} td:nth-child(2) {text-align: left ; width: 100%}\n",
              "    .wandb-row { display: flex; flex-direction: row; flex-wrap: wrap; justify-content: flex-start; width: 100% }\n",
              "    .wandb-col { display: flex; flex-direction: column; flex-basis: 100%; flex: 1; padding: 10px; }\n",
              "    </style>\n",
              "<div class=\"wandb-row\"><div class=\"wandb-col\"><h3>Run history:</h3><br/><table class=\"wandb\"><tr><td>global_step</td><td>▁▂▄▄▅▅▇▇██</td></tr><tr><td>train/epoch_accuracy</td><td>▁▆▇██</td></tr><tr><td>train/epoch_loss</td><td>█▁▁▁▁</td></tr><tr><td>train/global_step</td><td>▁▁▃▅▆█</td></tr><tr><td>validation/epoch_accuracy</td><td>▁▇▃▆█</td></tr><tr><td>validation/epoch_loss</td><td>█▁▅▄▁</td></tr><tr><td>validation/evaluation_accuracy_vs_iterations</td><td>▁▇▃▆█</td></tr><tr><td>validation/evaluation_loss_vs_iterations</td><td>█▁▅▄▁</td></tr><tr><td>validation/global_step</td><td>▁▆▁█▁▁▁</td></tr></table><br/></div><div class=\"wandb-col\"><h3>Run summary:</h3><br/><table class=\"wandb\"><tr><td>global_step</td><td>2345</td></tr><tr><td>train/epoch_accuracy</td><td>0.83522</td></tr><tr><td>train/epoch_loss</td><td>0.62347</td></tr><tr><td>train/global_step</td><td>4</td></tr><tr><td>validation/epoch_accuracy</td><td>0.96</td></tr><tr><td>validation/epoch_loss</td><td>0.20681</td></tr><tr><td>validation/evaluation_accuracy_vs_iterations</td><td>0.96</td></tr><tr><td>validation/evaluation_loss_vs_iterations</td><td>0.20681</td></tr><tr><td>validation/global_step</td><td>4</td></tr></table><br/></div></div>"
            ]
          },
          "metadata": {}
        },
        {
          "output_type": "display_data",
          "data": {
            "text/plain": [
              "<IPython.core.display.HTML object>"
            ],
            "text/html": [
              " View run <strong style=\"color:#cdcd00\">driven-sweep-5</strong> at: <a href='https://wandb.ai/tim-w/bootcamp/runs/uazlftf9' target=\"_blank\">https://wandb.ai/tim-w/bootcamp/runs/uazlftf9</a><br/>Synced 5 W&B file(s), 0 media file(s), 3 artifact file(s) and 3 other file(s)"
            ]
          },
          "metadata": {}
        },
        {
          "output_type": "display_data",
          "data": {
            "text/plain": [
              "<IPython.core.display.HTML object>"
            ],
            "text/html": [
              "Find logs at: <code>./wandb/run-20230302_144314-uazlftf9/logs</code>"
            ]
          },
          "metadata": {}
        },
        {
          "output_type": "stream",
          "name": "stderr",
          "text": [
            "\u001b[34m\u001b[1mwandb\u001b[0m: Sweep Agent: Waiting for job.\n",
            "\u001b[34m\u001b[1mwandb\u001b[0m: Job received.\n",
            "\u001b[34m\u001b[1mwandb\u001b[0m: Agent Starting Run: y9pfenrs with config:\n",
            "\u001b[34m\u001b[1mwandb\u001b[0m: \tbatch_size: 128\n",
            "\u001b[34m\u001b[1mwandb\u001b[0m: \tdropout: 0.36629943523120734\n",
            "\u001b[34m\u001b[1mwandb\u001b[0m: \tepochs: 5\n",
            "\u001b[34m\u001b[1mwandb\u001b[0m: \toptimizer: sgd\n",
            "Failed to detect the name of this notebook, you can set it manually with the WANDB_NOTEBOOK_NAME environment variable to enable code saving.\n"
          ]
        },
        {
          "output_type": "display_data",
          "data": {
            "text/plain": [
              "<IPython.core.display.HTML object>"
            ],
            "text/html": [
              "Tracking run with wandb version 0.13.10"
            ]
          },
          "metadata": {}
        },
        {
          "output_type": "display_data",
          "data": {
            "text/plain": [
              "<IPython.core.display.HTML object>"
            ],
            "text/html": [
              "Run data is saved locally in <code>/content/wandb/run-20230302_144354-y9pfenrs</code>"
            ]
          },
          "metadata": {}
        },
        {
          "output_type": "display_data",
          "data": {
            "text/plain": [
              "<IPython.core.display.HTML object>"
            ],
            "text/html": [
              "Syncing run <strong><a href='https://wandb.ai/tim-w/bootcamp/runs/y9pfenrs' target=\"_blank\">splendid-sweep-6</a></strong> to <a href='https://wandb.ai/tim-w/bootcamp' target=\"_blank\">Weights & Biases</a> (<a href='https://wandb.me/run' target=\"_blank\">docs</a>)<br/>Sweep page: <a href='https://wandb.ai/tim-w/bootcamp/sweeps/hedmloma' target=\"_blank\">https://wandb.ai/tim-w/bootcamp/sweeps/hedmloma</a>"
            ]
          },
          "metadata": {}
        },
        {
          "output_type": "display_data",
          "data": {
            "text/plain": [
              "<IPython.core.display.HTML object>"
            ],
            "text/html": [
              " View project at <a href='https://wandb.ai/tim-w/bootcamp' target=\"_blank\">https://wandb.ai/tim-w/bootcamp</a>"
            ]
          },
          "metadata": {}
        },
        {
          "output_type": "display_data",
          "data": {
            "text/plain": [
              "<IPython.core.display.HTML object>"
            ],
            "text/html": [
              " View sweep at <a href='https://wandb.ai/tim-w/bootcamp/sweeps/hedmloma' target=\"_blank\">https://wandb.ai/tim-w/bootcamp/sweeps/hedmloma</a>"
            ]
          },
          "metadata": {}
        },
        {
          "output_type": "display_data",
          "data": {
            "text/plain": [
              "<IPython.core.display.HTML object>"
            ],
            "text/html": [
              " View run at <a href='https://wandb.ai/tim-w/bootcamp/runs/y9pfenrs' target=\"_blank\">https://wandb.ai/tim-w/bootcamp/runs/y9pfenrs</a>"
            ]
          },
          "metadata": {}
        },
        {
          "output_type": "stream",
          "name": "stderr",
          "text": [
            "\u001b[34m\u001b[1mwandb\u001b[0m: \u001b[33mWARNING\u001b[0m When using several event log directories, please call `wandb.tensorboard.patch(root_logdir=\"...\")` before `wandb.init`\n"
          ]
        },
        {
          "output_type": "stream",
          "name": "stdout",
          "text": [
            "Epoch 1/5\n",
            "462/469 [============================>.] - ETA: 0s - loss: 159.7603 - accuracy: 0.4516"
          ]
        },
        {
          "output_type": "stream",
          "name": "stderr",
          "text": [
            "\u001b[34m\u001b[1mwandb\u001b[0m: \u001b[33mWARNING\u001b[0m When using several event log directories, please call `wandb.tensorboard.patch(root_logdir=\"...\")` before `wandb.init`\n"
          ]
        },
        {
          "output_type": "stream",
          "name": "stdout",
          "text": [
            "\b\b\b\b\b\b\b\b\b\b\b\b\b\b\b\b\b\b\b\b\b\b\b\b\b\b\b\b\b\b\b\b\b\b\b\b\b\b\b\b\b\b\b\b\b\b\b\b\b\b\b\b\b\b\b\b\b\b\b\b\b\b\b\b\b\b\b\b\b\b\b\b\b\b\b\b\b\b\b\b\b\b\b\b\b\b\r469/469 [==============================] - 3s 6ms/step - loss: 157.4793 - accuracy: 0.4530 - val_loss: 0.8870 - val_accuracy: 0.7400\n",
            "Epoch 2/5\n",
            "469/469 [==============================] - 2s 5ms/step - loss: 1.2354 - accuracy: 0.6141 - val_loss: 0.5926 - val_accuracy: 0.8200\n",
            "Epoch 3/5\n",
            "469/469 [==============================] - 2s 5ms/step - loss: 1.1085 - accuracy: 0.6601 - val_loss: 0.4987 - val_accuracy: 0.8200\n",
            "Epoch 4/5\n",
            "469/469 [==============================] - 2s 4ms/step - loss: 0.9371 - accuracy: 0.7265 - val_loss: 0.7534 - val_accuracy: 0.7600\n",
            "Epoch 5/5\n",
            "469/469 [==============================] - 2s 4ms/step - loss: 0.9735 - accuracy: 0.6998 - val_loss: 0.4549 - val_accuracy: 0.8400\n"
          ]
        },
        {
          "output_type": "display_data",
          "data": {
            "text/plain": [
              "<IPython.core.display.HTML object>"
            ],
            "text/html": [
              "Waiting for W&B process to finish... <strong style=\"color:green\">(success).</strong>"
            ]
          },
          "metadata": {}
        },
        {
          "output_type": "display_data",
          "data": {
            "text/plain": [
              "<IPython.core.display.HTML object>"
            ],
            "text/html": [
              "<style>\n",
              "    table.wandb td:nth-child(1) { padding: 0 10px; text-align: left ; width: auto;} td:nth-child(2) {text-align: left ; width: 100%}\n",
              "    .wandb-row { display: flex; flex-direction: row; flex-wrap: wrap; justify-content: flex-start; width: 100% }\n",
              "    .wandb-col { display: flex; flex-direction: column; flex-basis: 100%; flex: 1; padding: 10px; }\n",
              "    </style>\n",
              "<div class=\"wandb-row\"><div class=\"wandb-col\"><h3>Run history:</h3><br/><table class=\"wandb\"><tr><td>global_step</td><td>▁▂▄▄▅▅▇▇██</td></tr><tr><td>train/epoch_accuracy</td><td>▁▅▆█▇</td></tr><tr><td>train/epoch_loss</td><td>█▁▁▁▁</td></tr><tr><td>train/global_step</td><td>▁▁▃▅▆█</td></tr><tr><td>validation/epoch_accuracy</td><td>▁▇▇▂█</td></tr><tr><td>validation/epoch_loss</td><td>█▃▂▆▁</td></tr><tr><td>validation/evaluation_accuracy_vs_iterations</td><td>▁▇▇▂█</td></tr><tr><td>validation/evaluation_loss_vs_iterations</td><td>█▃▂▆▁</td></tr><tr><td>validation/global_step</td><td>▁▆▁█▁▁▁</td></tr></table><br/></div><div class=\"wandb-col\"><h3>Run summary:</h3><br/><table class=\"wandb\"><tr><td>global_step</td><td>2345</td></tr><tr><td>train/epoch_accuracy</td><td>0.69978</td></tr><tr><td>train/epoch_loss</td><td>0.97353</td></tr><tr><td>train/global_step</td><td>4</td></tr><tr><td>validation/epoch_accuracy</td><td>0.84</td></tr><tr><td>validation/epoch_loss</td><td>0.45486</td></tr><tr><td>validation/evaluation_accuracy_vs_iterations</td><td>0.84</td></tr><tr><td>validation/evaluation_loss_vs_iterations</td><td>0.45486</td></tr><tr><td>validation/global_step</td><td>4</td></tr></table><br/></div></div>"
            ]
          },
          "metadata": {}
        },
        {
          "output_type": "display_data",
          "data": {
            "text/plain": [
              "<IPython.core.display.HTML object>"
            ],
            "text/html": [
              " View run <strong style=\"color:#cdcd00\">splendid-sweep-6</strong> at: <a href='https://wandb.ai/tim-w/bootcamp/runs/y9pfenrs' target=\"_blank\">https://wandb.ai/tim-w/bootcamp/runs/y9pfenrs</a><br/>Synced 5 W&B file(s), 0 media file(s), 3 artifact file(s) and 3 other file(s)"
            ]
          },
          "metadata": {}
        },
        {
          "output_type": "display_data",
          "data": {
            "text/plain": [
              "<IPython.core.display.HTML object>"
            ],
            "text/html": [
              "Find logs at: <code>./wandb/run-20230302_144354-y9pfenrs/logs</code>"
            ]
          },
          "metadata": {}
        },
        {
          "output_type": "stream",
          "name": "stderr",
          "text": [
            "\u001b[34m\u001b[1mwandb\u001b[0m: Agent Starting Run: qb7bog4c with config:\n",
            "\u001b[34m\u001b[1mwandb\u001b[0m: \tbatch_size: 128\n",
            "\u001b[34m\u001b[1mwandb\u001b[0m: \tdropout: 0.3867150823228005\n",
            "\u001b[34m\u001b[1mwandb\u001b[0m: \tepochs: 5\n",
            "\u001b[34m\u001b[1mwandb\u001b[0m: \toptimizer: sgd\n",
            "Failed to detect the name of this notebook, you can set it manually with the WANDB_NOTEBOOK_NAME environment variable to enable code saving.\n"
          ]
        },
        {
          "output_type": "display_data",
          "data": {
            "text/plain": [
              "<IPython.core.display.HTML object>"
            ],
            "text/html": [
              "Tracking run with wandb version 0.13.10"
            ]
          },
          "metadata": {}
        },
        {
          "output_type": "display_data",
          "data": {
            "text/plain": [
              "<IPython.core.display.HTML object>"
            ],
            "text/html": [
              "Run data is saved locally in <code>/content/wandb/run-20230302_144425-qb7bog4c</code>"
            ]
          },
          "metadata": {}
        },
        {
          "output_type": "display_data",
          "data": {
            "text/plain": [
              "<IPython.core.display.HTML object>"
            ],
            "text/html": [
              "Syncing run <strong><a href='https://wandb.ai/tim-w/bootcamp/runs/qb7bog4c' target=\"_blank\">sparkling-sweep-7</a></strong> to <a href='https://wandb.ai/tim-w/bootcamp' target=\"_blank\">Weights & Biases</a> (<a href='https://wandb.me/run' target=\"_blank\">docs</a>)<br/>Sweep page: <a href='https://wandb.ai/tim-w/bootcamp/sweeps/hedmloma' target=\"_blank\">https://wandb.ai/tim-w/bootcamp/sweeps/hedmloma</a>"
            ]
          },
          "metadata": {}
        },
        {
          "output_type": "display_data",
          "data": {
            "text/plain": [
              "<IPython.core.display.HTML object>"
            ],
            "text/html": [
              " View project at <a href='https://wandb.ai/tim-w/bootcamp' target=\"_blank\">https://wandb.ai/tim-w/bootcamp</a>"
            ]
          },
          "metadata": {}
        },
        {
          "output_type": "display_data",
          "data": {
            "text/plain": [
              "<IPython.core.display.HTML object>"
            ],
            "text/html": [
              " View sweep at <a href='https://wandb.ai/tim-w/bootcamp/sweeps/hedmloma' target=\"_blank\">https://wandb.ai/tim-w/bootcamp/sweeps/hedmloma</a>"
            ]
          },
          "metadata": {}
        },
        {
          "output_type": "display_data",
          "data": {
            "text/plain": [
              "<IPython.core.display.HTML object>"
            ],
            "text/html": [
              " View run at <a href='https://wandb.ai/tim-w/bootcamp/runs/qb7bog4c' target=\"_blank\">https://wandb.ai/tim-w/bootcamp/runs/qb7bog4c</a>"
            ]
          },
          "metadata": {}
        },
        {
          "output_type": "stream",
          "name": "stderr",
          "text": [
            "\u001b[34m\u001b[1mwandb\u001b[0m: \u001b[33mWARNING\u001b[0m When using several event log directories, please call `wandb.tensorboard.patch(root_logdir=\"...\")` before `wandb.init`\n"
          ]
        },
        {
          "output_type": "stream",
          "name": "stdout",
          "text": [
            "Epoch 1/5\n",
            "468/469 [============================>.] - ETA: 0s - loss: 37.0488 - accuracy: 0.4963"
          ]
        },
        {
          "output_type": "stream",
          "name": "stderr",
          "text": [
            "\u001b[34m\u001b[1mwandb\u001b[0m: \u001b[33mWARNING\u001b[0m When using several event log directories, please call `wandb.tensorboard.patch(root_logdir=\"...\")` before `wandb.init`\n"
          ]
        },
        {
          "output_type": "stream",
          "name": "stdout",
          "text": [
            "\b\b\b\b\b\b\b\b\b\b\b\b\b\b\b\b\b\b\b\b\b\b\b\b\b\b\b\b\b\b\b\b\b\b\b\b\b\b\b\b\b\b\b\b\b\b\b\b\b\b\b\b\b\b\b\b\b\b\b\b\b\b\b\b\b\b\b\b\b\b\b\b\b\b\b\b\b\b\b\b\b\b\b\b\b\r469/469 [==============================] - 5s 8ms/step - loss: 36.9914 - accuracy: 0.4965 - val_loss: 0.9069 - val_accuracy: 0.7500\n",
            "Epoch 2/5\n",
            "469/469 [==============================] - 2s 5ms/step - loss: 1.0854 - accuracy: 0.6769 - val_loss: 0.5927 - val_accuracy: 0.7900\n",
            "Epoch 3/5\n",
            "469/469 [==============================] - 2s 3ms/step - loss: 0.9763 - accuracy: 0.7034 - val_loss: 0.6109 - val_accuracy: 0.8000\n",
            "Epoch 4/5\n",
            "469/469 [==============================] - 2s 4ms/step - loss: 0.9356 - accuracy: 0.7064 - val_loss: 0.5333 - val_accuracy: 0.8500\n",
            "Epoch 5/5\n",
            "469/469 [==============================] - 2s 4ms/step - loss: 0.8492 - accuracy: 0.7459 - val_loss: 0.4402 - val_accuracy: 0.8200\n"
          ]
        },
        {
          "output_type": "display_data",
          "data": {
            "text/plain": [
              "<IPython.core.display.HTML object>"
            ],
            "text/html": [
              "Waiting for W&B process to finish... <strong style=\"color:green\">(success).</strong>"
            ]
          },
          "metadata": {}
        },
        {
          "output_type": "display_data",
          "data": {
            "text/plain": [
              "<IPython.core.display.HTML object>"
            ],
            "text/html": [
              "<style>\n",
              "    table.wandb td:nth-child(1) { padding: 0 10px; text-align: left ; width: auto;} td:nth-child(2) {text-align: left ; width: 100%}\n",
              "    .wandb-row { display: flex; flex-direction: row; flex-wrap: wrap; justify-content: flex-start; width: 100% }\n",
              "    .wandb-col { display: flex; flex-direction: column; flex-basis: 100%; flex: 1; padding: 10px; }\n",
              "    </style>\n",
              "<div class=\"wandb-row\"><div class=\"wandb-col\"><h3>Run history:</h3><br/><table class=\"wandb\"><tr><td>global_step</td><td>▁▂▄▄▅▅▇▇██</td></tr><tr><td>train/epoch_accuracy</td><td>▁▆▇▇█</td></tr><tr><td>train/epoch_loss</td><td>█▁▁▁▁</td></tr><tr><td>train/global_step</td><td>▁▁▃▅▆█</td></tr><tr><td>validation/epoch_accuracy</td><td>▁▄▅█▆</td></tr><tr><td>validation/epoch_loss</td><td>█▃▄▂▁</td></tr><tr><td>validation/evaluation_accuracy_vs_iterations</td><td>▁▄▅█▆</td></tr><tr><td>validation/evaluation_loss_vs_iterations</td><td>█▃▄▂▁</td></tr><tr><td>validation/global_step</td><td>▁▆▁█▁▁▁</td></tr></table><br/></div><div class=\"wandb-col\"><h3>Run summary:</h3><br/><table class=\"wandb\"><tr><td>global_step</td><td>2345</td></tr><tr><td>train/epoch_accuracy</td><td>0.74585</td></tr><tr><td>train/epoch_loss</td><td>0.84921</td></tr><tr><td>train/global_step</td><td>4</td></tr><tr><td>validation/epoch_accuracy</td><td>0.82</td></tr><tr><td>validation/epoch_loss</td><td>0.44025</td></tr><tr><td>validation/evaluation_accuracy_vs_iterations</td><td>0.82</td></tr><tr><td>validation/evaluation_loss_vs_iterations</td><td>0.44025</td></tr><tr><td>validation/global_step</td><td>4</td></tr></table><br/></div></div>"
            ]
          },
          "metadata": {}
        },
        {
          "output_type": "display_data",
          "data": {
            "text/plain": [
              "<IPython.core.display.HTML object>"
            ],
            "text/html": [
              " View run <strong style=\"color:#cdcd00\">sparkling-sweep-7</strong> at: <a href='https://wandb.ai/tim-w/bootcamp/runs/qb7bog4c' target=\"_blank\">https://wandb.ai/tim-w/bootcamp/runs/qb7bog4c</a><br/>Synced 5 W&B file(s), 0 media file(s), 3 artifact file(s) and 3 other file(s)"
            ]
          },
          "metadata": {}
        },
        {
          "output_type": "display_data",
          "data": {
            "text/plain": [
              "<IPython.core.display.HTML object>"
            ],
            "text/html": [
              "Find logs at: <code>./wandb/run-20230302_144425-qb7bog4c/logs</code>"
            ]
          },
          "metadata": {}
        },
        {
          "output_type": "stream",
          "name": "stderr",
          "text": [
            "\u001b[34m\u001b[1mwandb\u001b[0m: Agent Starting Run: 5vu2s2gz with config:\n",
            "\u001b[34m\u001b[1mwandb\u001b[0m: \tbatch_size: 256\n",
            "\u001b[34m\u001b[1mwandb\u001b[0m: \tdropout: 0.3639954419456497\n",
            "\u001b[34m\u001b[1mwandb\u001b[0m: \tepochs: 4\n",
            "\u001b[34m\u001b[1mwandb\u001b[0m: \toptimizer: adam\n",
            "Failed to detect the name of this notebook, you can set it manually with the WANDB_NOTEBOOK_NAME environment variable to enable code saving.\n"
          ]
        },
        {
          "output_type": "display_data",
          "data": {
            "text/plain": [
              "<IPython.core.display.HTML object>"
            ],
            "text/html": [
              "Tracking run with wandb version 0.13.10"
            ]
          },
          "metadata": {}
        },
        {
          "output_type": "display_data",
          "data": {
            "text/plain": [
              "<IPython.core.display.HTML object>"
            ],
            "text/html": [
              "Run data is saved locally in <code>/content/wandb/run-20230302_144501-5vu2s2gz</code>"
            ]
          },
          "metadata": {}
        },
        {
          "output_type": "display_data",
          "data": {
            "text/plain": [
              "<IPython.core.display.HTML object>"
            ],
            "text/html": [
              "Syncing run <strong><a href='https://wandb.ai/tim-w/bootcamp/runs/5vu2s2gz' target=\"_blank\">polished-sweep-8</a></strong> to <a href='https://wandb.ai/tim-w/bootcamp' target=\"_blank\">Weights & Biases</a> (<a href='https://wandb.me/run' target=\"_blank\">docs</a>)<br/>Sweep page: <a href='https://wandb.ai/tim-w/bootcamp/sweeps/hedmloma' target=\"_blank\">https://wandb.ai/tim-w/bootcamp/sweeps/hedmloma</a>"
            ]
          },
          "metadata": {}
        },
        {
          "output_type": "display_data",
          "data": {
            "text/plain": [
              "<IPython.core.display.HTML object>"
            ],
            "text/html": [
              " View project at <a href='https://wandb.ai/tim-w/bootcamp' target=\"_blank\">https://wandb.ai/tim-w/bootcamp</a>"
            ]
          },
          "metadata": {}
        },
        {
          "output_type": "display_data",
          "data": {
            "text/plain": [
              "<IPython.core.display.HTML object>"
            ],
            "text/html": [
              " View sweep at <a href='https://wandb.ai/tim-w/bootcamp/sweeps/hedmloma' target=\"_blank\">https://wandb.ai/tim-w/bootcamp/sweeps/hedmloma</a>"
            ]
          },
          "metadata": {}
        },
        {
          "output_type": "display_data",
          "data": {
            "text/plain": [
              "<IPython.core.display.HTML object>"
            ],
            "text/html": [
              " View run at <a href='https://wandb.ai/tim-w/bootcamp/runs/5vu2s2gz' target=\"_blank\">https://wandb.ai/tim-w/bootcamp/runs/5vu2s2gz</a>"
            ]
          },
          "metadata": {}
        },
        {
          "output_type": "stream",
          "name": "stderr",
          "text": [
            "\u001b[34m\u001b[1mwandb\u001b[0m: \u001b[33mWARNING\u001b[0m When using several event log directories, please call `wandb.tensorboard.patch(root_logdir=\"...\")` before `wandb.init`\n"
          ]
        },
        {
          "output_type": "stream",
          "name": "stdout",
          "text": [
            "Epoch 1/5\n",
            "234/235 [============================>.] - ETA: 0s - loss: 6.3199 - accuracy: 0.8561"
          ]
        },
        {
          "output_type": "stream",
          "name": "stderr",
          "text": [
            "\u001b[34m\u001b[1mwandb\u001b[0m: \u001b[33mWARNING\u001b[0m When using several event log directories, please call `wandb.tensorboard.patch(root_logdir=\"...\")` before `wandb.init`\n"
          ]
        },
        {
          "output_type": "stream",
          "name": "stdout",
          "text": [
            "\b\b\b\b\b\b\b\b\b\b\b\b\b\b\b\b\b\b\b\b\b\b\b\b\b\b\b\b\b\b\b\b\b\b\b\b\b\b\b\b\b\b\b\b\b\b\b\b\b\b\b\b\b\b\b\b\b\b\b\b\b\b\b\b\b\b\b\b\b\b\b\b\b\b\b\b\b\b\b\b\b\b\b\b\r235/235 [==============================] - 3s 7ms/step - loss: 6.3106 - accuracy: 0.8561 - val_loss: 0.3286 - val_accuracy: 0.9600\n",
            "Epoch 2/5\n",
            "235/235 [==============================] - 2s 8ms/step - loss: 0.6901 - accuracy: 0.8921 - val_loss: 0.0827 - val_accuracy: 0.9700\n",
            "Epoch 3/5\n",
            "235/235 [==============================] - 1s 6ms/step - loss: 0.4272 - accuracy: 0.9132 - val_loss: 0.2293 - val_accuracy: 0.9600\n",
            "Epoch 4/5\n",
            "235/235 [==============================] - 1s 5ms/step - loss: 0.3174 - accuracy: 0.9281 - val_loss: 0.1760 - val_accuracy: 0.9600\n",
            "Epoch 5/5\n",
            "235/235 [==============================] - 1s 4ms/step - loss: 0.2540 - accuracy: 0.9369 - val_loss: 0.0168 - val_accuracy: 0.9900\n"
          ]
        },
        {
          "output_type": "display_data",
          "data": {
            "text/plain": [
              "<IPython.core.display.HTML object>"
            ],
            "text/html": [
              "Waiting for W&B process to finish... <strong style=\"color:green\">(success).</strong>"
            ]
          },
          "metadata": {}
        },
        {
          "output_type": "display_data",
          "data": {
            "text/plain": [
              "<IPython.core.display.HTML object>"
            ],
            "text/html": [
              "<style>\n",
              "    table.wandb td:nth-child(1) { padding: 0 10px; text-align: left ; width: auto;} td:nth-child(2) {text-align: left ; width: 100%}\n",
              "    .wandb-row { display: flex; flex-direction: row; flex-wrap: wrap; justify-content: flex-start; width: 100% }\n",
              "    .wandb-col { display: flex; flex-direction: column; flex-basis: 100%; flex: 1; padding: 10px; }\n",
              "    </style>\n",
              "<div class=\"wandb-row\"><div class=\"wandb-col\"><h3>Run history:</h3><br/><table class=\"wandb\"><tr><td>global_step</td><td>▁▂▄▄▅▅▇▇██</td></tr><tr><td>train/epoch_accuracy</td><td>▁▄▆▇█</td></tr><tr><td>train/epoch_loss</td><td>█▂▁▁▁</td></tr><tr><td>train/global_step</td><td>▁▁▃▅▆█</td></tr><tr><td>validation/epoch_accuracy</td><td>▁▃▁▁█</td></tr><tr><td>validation/epoch_loss</td><td>█▂▆▅▁</td></tr><tr><td>validation/evaluation_accuracy_vs_iterations</td><td>▁▃▁▁█</td></tr><tr><td>validation/evaluation_loss_vs_iterations</td><td>█▂▆▅▁</td></tr><tr><td>validation/global_step</td><td>▁▄▁▅▁▇▁█▁</td></tr></table><br/></div><div class=\"wandb-col\"><h3>Run summary:</h3><br/><table class=\"wandb\"><tr><td>global_step</td><td>1175</td></tr><tr><td>train/epoch_accuracy</td><td>0.93693</td></tr><tr><td>train/epoch_loss</td><td>0.25403</td></tr><tr><td>train/global_step</td><td>4</td></tr><tr><td>validation/epoch_accuracy</td><td>0.99</td></tr><tr><td>validation/epoch_loss</td><td>0.01681</td></tr><tr><td>validation/evaluation_accuracy_vs_iterations</td><td>0.99</td></tr><tr><td>validation/evaluation_loss_vs_iterations</td><td>0.01681</td></tr><tr><td>validation/global_step</td><td>4</td></tr></table><br/></div></div>"
            ]
          },
          "metadata": {}
        },
        {
          "output_type": "display_data",
          "data": {
            "text/plain": [
              "<IPython.core.display.HTML object>"
            ],
            "text/html": [
              " View run <strong style=\"color:#cdcd00\">polished-sweep-8</strong> at: <a href='https://wandb.ai/tim-w/bootcamp/runs/5vu2s2gz' target=\"_blank\">https://wandb.ai/tim-w/bootcamp/runs/5vu2s2gz</a><br/>Synced 5 W&B file(s), 0 media file(s), 3 artifact file(s) and 3 other file(s)"
            ]
          },
          "metadata": {}
        },
        {
          "output_type": "display_data",
          "data": {
            "text/plain": [
              "<IPython.core.display.HTML object>"
            ],
            "text/html": [
              "Find logs at: <code>./wandb/run-20230302_144501-5vu2s2gz/logs</code>"
            ]
          },
          "metadata": {}
        },
        {
          "output_type": "stream",
          "name": "stderr",
          "text": [
            "\u001b[34m\u001b[1mwandb\u001b[0m: Agent Starting Run: 62gcejp4 with config:\n",
            "\u001b[34m\u001b[1mwandb\u001b[0m: \tbatch_size: 256\n",
            "\u001b[34m\u001b[1mwandb\u001b[0m: \tdropout: 0.3766025475727257\n",
            "\u001b[34m\u001b[1mwandb\u001b[0m: \tepochs: 5\n",
            "\u001b[34m\u001b[1mwandb\u001b[0m: \toptimizer: adam\n",
            "Failed to detect the name of this notebook, you can set it manually with the WANDB_NOTEBOOK_NAME environment variable to enable code saving.\n"
          ]
        },
        {
          "output_type": "display_data",
          "data": {
            "text/plain": [
              "<IPython.core.display.HTML object>"
            ],
            "text/html": [
              "Tracking run with wandb version 0.13.10"
            ]
          },
          "metadata": {}
        },
        {
          "output_type": "display_data",
          "data": {
            "text/plain": [
              "<IPython.core.display.HTML object>"
            ],
            "text/html": [
              "Run data is saved locally in <code>/content/wandb/run-20230302_144532-62gcejp4</code>"
            ]
          },
          "metadata": {}
        },
        {
          "output_type": "display_data",
          "data": {
            "text/plain": [
              "<IPython.core.display.HTML object>"
            ],
            "text/html": [
              "Syncing run <strong><a href='https://wandb.ai/tim-w/bootcamp/runs/62gcejp4' target=\"_blank\">magic-sweep-9</a></strong> to <a href='https://wandb.ai/tim-w/bootcamp' target=\"_blank\">Weights & Biases</a> (<a href='https://wandb.me/run' target=\"_blank\">docs</a>)<br/>Sweep page: <a href='https://wandb.ai/tim-w/bootcamp/sweeps/hedmloma' target=\"_blank\">https://wandb.ai/tim-w/bootcamp/sweeps/hedmloma</a>"
            ]
          },
          "metadata": {}
        },
        {
          "output_type": "display_data",
          "data": {
            "text/plain": [
              "<IPython.core.display.HTML object>"
            ],
            "text/html": [
              " View project at <a href='https://wandb.ai/tim-w/bootcamp' target=\"_blank\">https://wandb.ai/tim-w/bootcamp</a>"
            ]
          },
          "metadata": {}
        },
        {
          "output_type": "display_data",
          "data": {
            "text/plain": [
              "<IPython.core.display.HTML object>"
            ],
            "text/html": [
              " View sweep at <a href='https://wandb.ai/tim-w/bootcamp/sweeps/hedmloma' target=\"_blank\">https://wandb.ai/tim-w/bootcamp/sweeps/hedmloma</a>"
            ]
          },
          "metadata": {}
        },
        {
          "output_type": "display_data",
          "data": {
            "text/plain": [
              "<IPython.core.display.HTML object>"
            ],
            "text/html": [
              " View run at <a href='https://wandb.ai/tim-w/bootcamp/runs/62gcejp4' target=\"_blank\">https://wandb.ai/tim-w/bootcamp/runs/62gcejp4</a>"
            ]
          },
          "metadata": {}
        },
        {
          "output_type": "stream",
          "name": "stderr",
          "text": [
            "\u001b[34m\u001b[1mwandb\u001b[0m: \u001b[33mWARNING\u001b[0m When using several event log directories, please call `wandb.tensorboard.patch(root_logdir=\"...\")` before `wandb.init`\n"
          ]
        },
        {
          "output_type": "stream",
          "name": "stdout",
          "text": [
            "Epoch 1/5\n",
            "233/235 [============================>.] - ETA: 0s - loss: 7.6429 - accuracy: 0.8468"
          ]
        },
        {
          "output_type": "stream",
          "name": "stderr",
          "text": [
            "\u001b[34m\u001b[1mwandb\u001b[0m: \u001b[33mWARNING\u001b[0m When using several event log directories, please call `wandb.tensorboard.patch(root_logdir=\"...\")` before `wandb.init`\n"
          ]
        },
        {
          "output_type": "stream",
          "name": "stdout",
          "text": [
            "\b\b\b\b\b\b\b\b\b\b\b\b\b\b\b\b\b\b\b\b\b\b\b\b\b\b\b\b\b\b\b\b\b\b\b\b\b\b\b\b\b\b\b\b\b\b\b\b\b\b\b\b\b\b\b\b\b\b\b\b\b\b\b\b\b\b\b\b\b\b\b\b\b\b\b\b\b\b\b\b\b\b\b\b\r235/235 [==============================] - 4s 7ms/step - loss: 7.6049 - accuracy: 0.8470 - val_loss: 0.4963 - val_accuracy: 0.9800\n",
            "Epoch 2/5\n",
            "235/235 [==============================] - 1s 5ms/step - loss: 0.7626 - accuracy: 0.8849 - val_loss: 0.2671 - val_accuracy: 0.9800\n",
            "Epoch 3/5\n",
            "235/235 [==============================] - 1s 4ms/step - loss: 0.4794 - accuracy: 0.9069 - val_loss: 0.1264 - val_accuracy: 0.9900\n",
            "Epoch 4/5\n",
            "235/235 [==============================] - 1s 4ms/step - loss: 0.3387 - accuracy: 0.9241 - val_loss: 0.0973 - val_accuracy: 0.9900\n",
            "Epoch 5/5\n",
            "235/235 [==============================] - 1s 4ms/step - loss: 0.2966 - accuracy: 0.9320 - val_loss: 0.0937 - val_accuracy: 0.9800\n"
          ]
        },
        {
          "output_type": "display_data",
          "data": {
            "text/plain": [
              "<IPython.core.display.HTML object>"
            ],
            "text/html": [
              "Waiting for W&B process to finish... <strong style=\"color:green\">(success).</strong>"
            ]
          },
          "metadata": {}
        },
        {
          "output_type": "display_data",
          "data": {
            "text/plain": [
              "<IPython.core.display.HTML object>"
            ],
            "text/html": [
              "<style>\n",
              "    table.wandb td:nth-child(1) { padding: 0 10px; text-align: left ; width: auto;} td:nth-child(2) {text-align: left ; width: 100%}\n",
              "    .wandb-row { display: flex; flex-direction: row; flex-wrap: wrap; justify-content: flex-start; width: 100% }\n",
              "    .wandb-col { display: flex; flex-direction: column; flex-basis: 100%; flex: 1; padding: 10px; }\n",
              "    </style>\n",
              "<div class=\"wandb-row\"><div class=\"wandb-col\"><h3>Run history:</h3><br/><table class=\"wandb\"><tr><td>global_step</td><td>▁▂▄▄▅▅▇▇██</td></tr><tr><td>train/epoch_accuracy</td><td>▁▄▆▇█</td></tr><tr><td>train/epoch_loss</td><td>█▁▁▁▁</td></tr><tr><td>train/global_step</td><td>▁▁▃▅▆█</td></tr><tr><td>validation/epoch_accuracy</td><td>▁▁██▁</td></tr><tr><td>validation/epoch_loss</td><td>█▄▂▁▁</td></tr><tr><td>validation/evaluation_accuracy_vs_iterations</td><td>▁▁██▁</td></tr><tr><td>validation/evaluation_loss_vs_iterations</td><td>█▄▂▁▁</td></tr><tr><td>validation/global_step</td><td>▁▄▁▅▁▇▁█▁</td></tr></table><br/></div><div class=\"wandb-col\"><h3>Run summary:</h3><br/><table class=\"wandb\"><tr><td>global_step</td><td>1175</td></tr><tr><td>train/epoch_accuracy</td><td>0.93205</td></tr><tr><td>train/epoch_loss</td><td>0.29662</td></tr><tr><td>train/global_step</td><td>4</td></tr><tr><td>validation/epoch_accuracy</td><td>0.98</td></tr><tr><td>validation/epoch_loss</td><td>0.09371</td></tr><tr><td>validation/evaluation_accuracy_vs_iterations</td><td>0.98</td></tr><tr><td>validation/evaluation_loss_vs_iterations</td><td>0.09371</td></tr><tr><td>validation/global_step</td><td>4</td></tr></table><br/></div></div>"
            ]
          },
          "metadata": {}
        },
        {
          "output_type": "display_data",
          "data": {
            "text/plain": [
              "<IPython.core.display.HTML object>"
            ],
            "text/html": [
              " View run <strong style=\"color:#cdcd00\">magic-sweep-9</strong> at: <a href='https://wandb.ai/tim-w/bootcamp/runs/62gcejp4' target=\"_blank\">https://wandb.ai/tim-w/bootcamp/runs/62gcejp4</a><br/>Synced 5 W&B file(s), 0 media file(s), 3 artifact file(s) and 3 other file(s)"
            ]
          },
          "metadata": {}
        },
        {
          "output_type": "display_data",
          "data": {
            "text/plain": [
              "<IPython.core.display.HTML object>"
            ],
            "text/html": [
              "Find logs at: <code>./wandb/run-20230302_144532-62gcejp4/logs</code>"
            ]
          },
          "metadata": {}
        },
        {
          "output_type": "stream",
          "name": "stderr",
          "text": [
            "\u001b[34m\u001b[1mwandb\u001b[0m: Agent Starting Run: at2nus14 with config:\n",
            "\u001b[34m\u001b[1mwandb\u001b[0m: \tbatch_size: 256\n",
            "\u001b[34m\u001b[1mwandb\u001b[0m: \tdropout: 0.39152086680056225\n",
            "\u001b[34m\u001b[1mwandb\u001b[0m: \tepochs: 4\n",
            "\u001b[34m\u001b[1mwandb\u001b[0m: \toptimizer: adam\n",
            "Failed to detect the name of this notebook, you can set it manually with the WANDB_NOTEBOOK_NAME environment variable to enable code saving.\n"
          ]
        },
        {
          "output_type": "display_data",
          "data": {
            "text/plain": [
              "<IPython.core.display.HTML object>"
            ],
            "text/html": [
              "Tracking run with wandb version 0.13.10"
            ]
          },
          "metadata": {}
        },
        {
          "output_type": "display_data",
          "data": {
            "text/plain": [
              "<IPython.core.display.HTML object>"
            ],
            "text/html": [
              "Run data is saved locally in <code>/content/wandb/run-20230302_144604-at2nus14</code>"
            ]
          },
          "metadata": {}
        },
        {
          "output_type": "display_data",
          "data": {
            "text/plain": [
              "<IPython.core.display.HTML object>"
            ],
            "text/html": [
              "Syncing run <strong><a href='https://wandb.ai/tim-w/bootcamp/runs/at2nus14' target=\"_blank\">jumping-sweep-10</a></strong> to <a href='https://wandb.ai/tim-w/bootcamp' target=\"_blank\">Weights & Biases</a> (<a href='https://wandb.me/run' target=\"_blank\">docs</a>)<br/>Sweep page: <a href='https://wandb.ai/tim-w/bootcamp/sweeps/hedmloma' target=\"_blank\">https://wandb.ai/tim-w/bootcamp/sweeps/hedmloma</a>"
            ]
          },
          "metadata": {}
        },
        {
          "output_type": "display_data",
          "data": {
            "text/plain": [
              "<IPython.core.display.HTML object>"
            ],
            "text/html": [
              " View project at <a href='https://wandb.ai/tim-w/bootcamp' target=\"_blank\">https://wandb.ai/tim-w/bootcamp</a>"
            ]
          },
          "metadata": {}
        },
        {
          "output_type": "display_data",
          "data": {
            "text/plain": [
              "<IPython.core.display.HTML object>"
            ],
            "text/html": [
              " View sweep at <a href='https://wandb.ai/tim-w/bootcamp/sweeps/hedmloma' target=\"_blank\">https://wandb.ai/tim-w/bootcamp/sweeps/hedmloma</a>"
            ]
          },
          "metadata": {}
        },
        {
          "output_type": "display_data",
          "data": {
            "text/plain": [
              "<IPython.core.display.HTML object>"
            ],
            "text/html": [
              " View run at <a href='https://wandb.ai/tim-w/bootcamp/runs/at2nus14' target=\"_blank\">https://wandb.ai/tim-w/bootcamp/runs/at2nus14</a>"
            ]
          },
          "metadata": {}
        },
        {
          "output_type": "stream",
          "name": "stderr",
          "text": [
            "\u001b[34m\u001b[1mwandb\u001b[0m: \u001b[33mWARNING\u001b[0m When using several event log directories, please call `wandb.tensorboard.patch(root_logdir=\"...\")` before `wandb.init`\n"
          ]
        },
        {
          "output_type": "stream",
          "name": "stdout",
          "text": [
            "Epoch 1/5\n",
            "229/235 [============================>.] - ETA: 0s - loss: 7.1431 - accuracy: 0.8463"
          ]
        },
        {
          "output_type": "stream",
          "name": "stderr",
          "text": [
            "\u001b[34m\u001b[1mwandb\u001b[0m: \u001b[33mWARNING\u001b[0m When using several event log directories, please call `wandb.tensorboard.patch(root_logdir=\"...\")` before `wandb.init`\n"
          ]
        },
        {
          "output_type": "stream",
          "name": "stdout",
          "text": [
            "\b\b\b\b\b\b\b\b\b\b\b\b\b\b\b\b\b\b\b\b\b\b\b\b\b\b\b\b\b\b\b\b\b\b\b\b\b\b\b\b\b\b\b\b\b\b\b\b\b\b\b\b\b\b\b\b\b\b\b\b\b\b\b\b\b\b\b\b\b\b\b\b\b\b\b\b\b\b\b\b\b\b\b\b\r235/235 [==============================] - 3s 7ms/step - loss: 7.0053 - accuracy: 0.8468 - val_loss: 0.2653 - val_accuracy: 0.9700\n",
            "Epoch 2/5\n",
            "235/235 [==============================] - 2s 7ms/step - loss: 0.7072 - accuracy: 0.8814 - val_loss: 0.0507 - val_accuracy: 1.0000\n",
            "Epoch 3/5\n",
            "235/235 [==============================] - 1s 6ms/step - loss: 0.4429 - accuracy: 0.9060 - val_loss: 0.0597 - val_accuracy: 0.9800\n",
            "Epoch 4/5\n",
            "235/235 [==============================] - 1s 6ms/step - loss: 0.3516 - accuracy: 0.9187 - val_loss: 0.0707 - val_accuracy: 0.9700\n",
            "Epoch 5/5\n",
            "235/235 [==============================] - 1s 4ms/step - loss: 0.2813 - accuracy: 0.9308 - val_loss: 0.0385 - val_accuracy: 0.9800\n"
          ]
        },
        {
          "output_type": "display_data",
          "data": {
            "text/plain": [
              "<IPython.core.display.HTML object>"
            ],
            "text/html": [
              "Waiting for W&B process to finish... <strong style=\"color:green\">(success).</strong>"
            ]
          },
          "metadata": {}
        },
        {
          "output_type": "display_data",
          "data": {
            "text/plain": [
              "<IPython.core.display.HTML object>"
            ],
            "text/html": [
              "<style>\n",
              "    table.wandb td:nth-child(1) { padding: 0 10px; text-align: left ; width: auto;} td:nth-child(2) {text-align: left ; width: 100%}\n",
              "    .wandb-row { display: flex; flex-direction: row; flex-wrap: wrap; justify-content: flex-start; width: 100% }\n",
              "    .wandb-col { display: flex; flex-direction: column; flex-basis: 100%; flex: 1; padding: 10px; }\n",
              "    </style>\n",
              "<div class=\"wandb-row\"><div class=\"wandb-col\"><h3>Run history:</h3><br/><table class=\"wandb\"><tr><td>global_step</td><td>▁▂▄▄▅▅▇▇██</td></tr><tr><td>train/epoch_accuracy</td><td>▁▄▆▇█</td></tr><tr><td>train/epoch_loss</td><td>█▁▁▁▁</td></tr><tr><td>train/global_step</td><td>▁▁▃▅▆█</td></tr><tr><td>validation/epoch_accuracy</td><td>▁█▃▁▃</td></tr><tr><td>validation/epoch_loss</td><td>█▁▂▂▁</td></tr><tr><td>validation/evaluation_accuracy_vs_iterations</td><td>▁█▃▁▃</td></tr><tr><td>validation/evaluation_loss_vs_iterations</td><td>█▁▂▂▁</td></tr><tr><td>validation/global_step</td><td>▁▄▁▅▁▇▁█▁</td></tr></table><br/></div><div class=\"wandb-col\"><h3>Run summary:</h3><br/><table class=\"wandb\"><tr><td>global_step</td><td>1175</td></tr><tr><td>train/epoch_accuracy</td><td>0.9308</td></tr><tr><td>train/epoch_loss</td><td>0.2813</td></tr><tr><td>train/global_step</td><td>4</td></tr><tr><td>validation/epoch_accuracy</td><td>0.98</td></tr><tr><td>validation/epoch_loss</td><td>0.03848</td></tr><tr><td>validation/evaluation_accuracy_vs_iterations</td><td>0.98</td></tr><tr><td>validation/evaluation_loss_vs_iterations</td><td>0.03848</td></tr><tr><td>validation/global_step</td><td>4</td></tr></table><br/></div></div>"
            ]
          },
          "metadata": {}
        },
        {
          "output_type": "display_data",
          "data": {
            "text/plain": [
              "<IPython.core.display.HTML object>"
            ],
            "text/html": [
              " View run <strong style=\"color:#cdcd00\">jumping-sweep-10</strong> at: <a href='https://wandb.ai/tim-w/bootcamp/runs/at2nus14' target=\"_blank\">https://wandb.ai/tim-w/bootcamp/runs/at2nus14</a><br/>Synced 5 W&B file(s), 0 media file(s), 3 artifact file(s) and 3 other file(s)"
            ]
          },
          "metadata": {}
        },
        {
          "output_type": "display_data",
          "data": {
            "text/plain": [
              "<IPython.core.display.HTML object>"
            ],
            "text/html": [
              "Find logs at: <code>./wandb/run-20230302_144604-at2nus14/logs</code>"
            ]
          },
          "metadata": {}
        },
        {
          "output_type": "stream",
          "name": "stderr",
          "text": [
            "\u001b[34m\u001b[1mwandb\u001b[0m: Agent Starting Run: 99odb780 with config:\n",
            "\u001b[34m\u001b[1mwandb\u001b[0m: \tbatch_size: 256\n",
            "\u001b[34m\u001b[1mwandb\u001b[0m: \tdropout: 0.3516745359968251\n",
            "\u001b[34m\u001b[1mwandb\u001b[0m: \tepochs: 4\n",
            "\u001b[34m\u001b[1mwandb\u001b[0m: \toptimizer: adam\n",
            "Failed to detect the name of this notebook, you can set it manually with the WANDB_NOTEBOOK_NAME environment variable to enable code saving.\n"
          ]
        },
        {
          "output_type": "display_data",
          "data": {
            "text/plain": [
              "<IPython.core.display.HTML object>"
            ],
            "text/html": [
              "Tracking run with wandb version 0.13.10"
            ]
          },
          "metadata": {}
        },
        {
          "output_type": "display_data",
          "data": {
            "text/plain": [
              "<IPython.core.display.HTML object>"
            ],
            "text/html": [
              "Run data is saved locally in <code>/content/wandb/run-20230302_144634-99odb780</code>"
            ]
          },
          "metadata": {}
        },
        {
          "output_type": "display_data",
          "data": {
            "text/plain": [
              "<IPython.core.display.HTML object>"
            ],
            "text/html": [
              "Syncing run <strong><a href='https://wandb.ai/tim-w/bootcamp/runs/99odb780' target=\"_blank\">glorious-sweep-11</a></strong> to <a href='https://wandb.ai/tim-w/bootcamp' target=\"_blank\">Weights & Biases</a> (<a href='https://wandb.me/run' target=\"_blank\">docs</a>)<br/>Sweep page: <a href='https://wandb.ai/tim-w/bootcamp/sweeps/hedmloma' target=\"_blank\">https://wandb.ai/tim-w/bootcamp/sweeps/hedmloma</a>"
            ]
          },
          "metadata": {}
        },
        {
          "output_type": "display_data",
          "data": {
            "text/plain": [
              "<IPython.core.display.HTML object>"
            ],
            "text/html": [
              " View project at <a href='https://wandb.ai/tim-w/bootcamp' target=\"_blank\">https://wandb.ai/tim-w/bootcamp</a>"
            ]
          },
          "metadata": {}
        },
        {
          "output_type": "display_data",
          "data": {
            "text/plain": [
              "<IPython.core.display.HTML object>"
            ],
            "text/html": [
              " View sweep at <a href='https://wandb.ai/tim-w/bootcamp/sweeps/hedmloma' target=\"_blank\">https://wandb.ai/tim-w/bootcamp/sweeps/hedmloma</a>"
            ]
          },
          "metadata": {}
        },
        {
          "output_type": "display_data",
          "data": {
            "text/plain": [
              "<IPython.core.display.HTML object>"
            ],
            "text/html": [
              " View run at <a href='https://wandb.ai/tim-w/bootcamp/runs/99odb780' target=\"_blank\">https://wandb.ai/tim-w/bootcamp/runs/99odb780</a>"
            ]
          },
          "metadata": {}
        },
        {
          "output_type": "stream",
          "name": "stderr",
          "text": [
            "\u001b[34m\u001b[1mwandb\u001b[0m: \u001b[33mWARNING\u001b[0m When using several event log directories, please call `wandb.tensorboard.patch(root_logdir=\"...\")` before `wandb.init`\n"
          ]
        },
        {
          "output_type": "stream",
          "name": "stdout",
          "text": [
            "Epoch 1/5\n",
            "234/235 [============================>.] - ETA: 0s - loss: 7.2049 - accuracy: 0.8486"
          ]
        },
        {
          "output_type": "stream",
          "name": "stderr",
          "text": [
            "\u001b[34m\u001b[1mwandb\u001b[0m: \u001b[33mWARNING\u001b[0m When using several event log directories, please call `wandb.tensorboard.patch(root_logdir=\"...\")` before `wandb.init`\n"
          ]
        },
        {
          "output_type": "stream",
          "name": "stdout",
          "text": [
            "\b\b\b\b\b\b\b\b\b\b\b\b\b\b\b\b\b\b\b\b\b\b\b\b\b\b\b\b\b\b\b\b\b\b\b\b\b\b\b\b\b\b\b\b\b\b\b\b\b\b\b\b\b\b\b\b\b\b\b\b\b\b\b\b\b\b\b\b\b\b\b\b\b\b\b\b\b\b\b\b\b\b\b\b\r235/235 [==============================] - 5s 11ms/step - loss: 7.1948 - accuracy: 0.8486 - val_loss: 0.3688 - val_accuracy: 0.9300\n",
            "Epoch 2/5\n",
            "235/235 [==============================] - 1s 6ms/step - loss: 0.7015 - accuracy: 0.8908 - val_loss: 0.0599 - val_accuracy: 0.9600\n",
            "Epoch 3/5\n",
            "235/235 [==============================] - 1s 4ms/step - loss: 0.4390 - accuracy: 0.9103 - val_loss: 0.0283 - val_accuracy: 0.9900\n",
            "Epoch 4/5\n",
            "235/235 [==============================] - 1s 4ms/step - loss: 0.3129 - accuracy: 0.9280 - val_loss: 0.0440 - val_accuracy: 0.9700\n",
            "Epoch 5/5\n",
            "235/235 [==============================] - 1s 4ms/step - loss: 0.2664 - accuracy: 0.9370 - val_loss: 0.0578 - val_accuracy: 0.9700\n"
          ]
        },
        {
          "output_type": "display_data",
          "data": {
            "text/plain": [
              "<IPython.core.display.HTML object>"
            ],
            "text/html": [
              "Waiting for W&B process to finish... <strong style=\"color:green\">(success).</strong>"
            ]
          },
          "metadata": {}
        },
        {
          "output_type": "display_data",
          "data": {
            "text/plain": [
              "<IPython.core.display.HTML object>"
            ],
            "text/html": [
              "<style>\n",
              "    table.wandb td:nth-child(1) { padding: 0 10px; text-align: left ; width: auto;} td:nth-child(2) {text-align: left ; width: 100%}\n",
              "    .wandb-row { display: flex; flex-direction: row; flex-wrap: wrap; justify-content: flex-start; width: 100% }\n",
              "    .wandb-col { display: flex; flex-direction: column; flex-basis: 100%; flex: 1; padding: 10px; }\n",
              "    </style>\n",
              "<div class=\"wandb-row\"><div class=\"wandb-col\"><h3>Run history:</h3><br/><table class=\"wandb\"><tr><td>global_step</td><td>▁▂▄▄▅▅▇▇██</td></tr><tr><td>train/epoch_accuracy</td><td>▁▄▆▇█</td></tr><tr><td>train/epoch_loss</td><td>█▁▁▁▁</td></tr><tr><td>train/global_step</td><td>▁▁▃▅▆█</td></tr><tr><td>validation/epoch_accuracy</td><td>▁▄█▆▆</td></tr><tr><td>validation/epoch_loss</td><td>█▂▁▁▂</td></tr><tr><td>validation/evaluation_accuracy_vs_iterations</td><td>▁▄█▆▆</td></tr><tr><td>validation/evaluation_loss_vs_iterations</td><td>█▂▁▁▂</td></tr><tr><td>validation/global_step</td><td>▁▄▁▅▁▇▁█▁</td></tr></table><br/></div><div class=\"wandb-col\"><h3>Run summary:</h3><br/><table class=\"wandb\"><tr><td>global_step</td><td>1175</td></tr><tr><td>train/epoch_accuracy</td><td>0.93703</td></tr><tr><td>train/epoch_loss</td><td>0.26639</td></tr><tr><td>train/global_step</td><td>4</td></tr><tr><td>validation/epoch_accuracy</td><td>0.97</td></tr><tr><td>validation/epoch_loss</td><td>0.05779</td></tr><tr><td>validation/evaluation_accuracy_vs_iterations</td><td>0.97</td></tr><tr><td>validation/evaluation_loss_vs_iterations</td><td>0.05779</td></tr><tr><td>validation/global_step</td><td>4</td></tr></table><br/></div></div>"
            ]
          },
          "metadata": {}
        },
        {
          "output_type": "display_data",
          "data": {
            "text/plain": [
              "<IPython.core.display.HTML object>"
            ],
            "text/html": [
              " View run <strong style=\"color:#cdcd00\">glorious-sweep-11</strong> at: <a href='https://wandb.ai/tim-w/bootcamp/runs/99odb780' target=\"_blank\">https://wandb.ai/tim-w/bootcamp/runs/99odb780</a><br/>Synced 5 W&B file(s), 0 media file(s), 3 artifact file(s) and 3 other file(s)"
            ]
          },
          "metadata": {}
        },
        {
          "output_type": "display_data",
          "data": {
            "text/plain": [
              "<IPython.core.display.HTML object>"
            ],
            "text/html": [
              "Find logs at: <code>./wandb/run-20230302_144634-99odb780/logs</code>"
            ]
          },
          "metadata": {}
        },
        {
          "output_type": "stream",
          "name": "stderr",
          "text": [
            "\u001b[34m\u001b[1mwandb\u001b[0m: Agent Starting Run: wz8acyjv with config:\n",
            "\u001b[34m\u001b[1mwandb\u001b[0m: \tbatch_size: 256\n",
            "\u001b[34m\u001b[1mwandb\u001b[0m: \tdropout: 0.361458033529119\n",
            "\u001b[34m\u001b[1mwandb\u001b[0m: \tepochs: 4\n",
            "\u001b[34m\u001b[1mwandb\u001b[0m: \toptimizer: adam\n",
            "Failed to detect the name of this notebook, you can set it manually with the WANDB_NOTEBOOK_NAME environment variable to enable code saving.\n"
          ]
        },
        {
          "output_type": "display_data",
          "data": {
            "text/plain": [
              "<IPython.core.display.HTML object>"
            ],
            "text/html": [
              "Tracking run with wandb version 0.13.10"
            ]
          },
          "metadata": {}
        },
        {
          "output_type": "display_data",
          "data": {
            "text/plain": [
              "<IPython.core.display.HTML object>"
            ],
            "text/html": [
              "Run data is saved locally in <code>/content/wandb/run-20230302_144706-wz8acyjv</code>"
            ]
          },
          "metadata": {}
        },
        {
          "output_type": "display_data",
          "data": {
            "text/plain": [
              "<IPython.core.display.HTML object>"
            ],
            "text/html": [
              "Syncing run <strong><a href='https://wandb.ai/tim-w/bootcamp/runs/wz8acyjv' target=\"_blank\">golden-sweep-12</a></strong> to <a href='https://wandb.ai/tim-w/bootcamp' target=\"_blank\">Weights & Biases</a> (<a href='https://wandb.me/run' target=\"_blank\">docs</a>)<br/>Sweep page: <a href='https://wandb.ai/tim-w/bootcamp/sweeps/hedmloma' target=\"_blank\">https://wandb.ai/tim-w/bootcamp/sweeps/hedmloma</a>"
            ]
          },
          "metadata": {}
        },
        {
          "output_type": "display_data",
          "data": {
            "text/plain": [
              "<IPython.core.display.HTML object>"
            ],
            "text/html": [
              " View project at <a href='https://wandb.ai/tim-w/bootcamp' target=\"_blank\">https://wandb.ai/tim-w/bootcamp</a>"
            ]
          },
          "metadata": {}
        },
        {
          "output_type": "display_data",
          "data": {
            "text/plain": [
              "<IPython.core.display.HTML object>"
            ],
            "text/html": [
              " View sweep at <a href='https://wandb.ai/tim-w/bootcamp/sweeps/hedmloma' target=\"_blank\">https://wandb.ai/tim-w/bootcamp/sweeps/hedmloma</a>"
            ]
          },
          "metadata": {}
        },
        {
          "output_type": "display_data",
          "data": {
            "text/plain": [
              "<IPython.core.display.HTML object>"
            ],
            "text/html": [
              " View run at <a href='https://wandb.ai/tim-w/bootcamp/runs/wz8acyjv' target=\"_blank\">https://wandb.ai/tim-w/bootcamp/runs/wz8acyjv</a>"
            ]
          },
          "metadata": {}
        },
        {
          "output_type": "stream",
          "name": "stderr",
          "text": [
            "\u001b[34m\u001b[1mwandb\u001b[0m: \u001b[33mWARNING\u001b[0m When using several event log directories, please call `wandb.tensorboard.patch(root_logdir=\"...\")` before `wandb.init`\n"
          ]
        },
        {
          "output_type": "stream",
          "name": "stdout",
          "text": [
            "Epoch 1/5\n",
            "228/235 [============================>.] - ETA: 0s - loss: 7.8086 - accuracy: 0.8523"
          ]
        },
        {
          "output_type": "stream",
          "name": "stderr",
          "text": [
            "\u001b[34m\u001b[1mwandb\u001b[0m: \u001b[33mWARNING\u001b[0m When using several event log directories, please call `wandb.tensorboard.patch(root_logdir=\"...\")` before `wandb.init`\n"
          ]
        },
        {
          "output_type": "stream",
          "name": "stdout",
          "text": [
            "\b\b\b\b\b\b\b\b\b\b\b\b\b\b\b\b\b\b\b\b\b\b\b\b\b\b\b\b\b\b\b\b\b\b\b\b\b\b\b\b\b\b\b\b\b\b\b\b\b\b\b\b\b\b\b\b\b\b\b\b\b\b\b\b\b\b\b\b\b\b\b\b\b\b\b\b\b\b\b\b\b\b\b\b\r235/235 [==============================] - 3s 7ms/step - loss: 7.6330 - accuracy: 0.8526 - val_loss: 0.1667 - val_accuracy: 0.9700\n",
            "Epoch 2/5\n",
            "235/235 [==============================] - 1s 5ms/step - loss: 0.7159 - accuracy: 0.8885 - val_loss: 0.2229 - val_accuracy: 0.9400\n",
            "Epoch 3/5\n",
            "235/235 [==============================] - 1s 4ms/step - loss: 0.4369 - accuracy: 0.9115 - val_loss: 0.1024 - val_accuracy: 0.9800\n",
            "Epoch 4/5\n",
            "235/235 [==============================] - 1s 4ms/step - loss: 0.3307 - accuracy: 0.9233 - val_loss: 0.0766 - val_accuracy: 0.9700\n",
            "Epoch 5/5\n",
            "235/235 [==============================] - 1s 5ms/step - loss: 0.2703 - accuracy: 0.9339 - val_loss: 0.0430 - val_accuracy: 0.9800\n"
          ]
        },
        {
          "output_type": "display_data",
          "data": {
            "text/plain": [
              "<IPython.core.display.HTML object>"
            ],
            "text/html": [
              "Waiting for W&B process to finish... <strong style=\"color:green\">(success).</strong>"
            ]
          },
          "metadata": {}
        },
        {
          "output_type": "display_data",
          "data": {
            "text/plain": [
              "<IPython.core.display.HTML object>"
            ],
            "text/html": [
              "<style>\n",
              "    table.wandb td:nth-child(1) { padding: 0 10px; text-align: left ; width: auto;} td:nth-child(2) {text-align: left ; width: 100%}\n",
              "    .wandb-row { display: flex; flex-direction: row; flex-wrap: wrap; justify-content: flex-start; width: 100% }\n",
              "    .wandb-col { display: flex; flex-direction: column; flex-basis: 100%; flex: 1; padding: 10px; }\n",
              "    </style>\n",
              "<div class=\"wandb-row\"><div class=\"wandb-col\"><h3>Run history:</h3><br/><table class=\"wandb\"><tr><td>global_step</td><td>▁▂▄▄▅▅▇▇██</td></tr><tr><td>train/epoch_accuracy</td><td>▁▄▆▇█</td></tr><tr><td>train/epoch_loss</td><td>█▁▁▁▁</td></tr><tr><td>train/global_step</td><td>▁▁▃▅▆█</td></tr><tr><td>validation/epoch_accuracy</td><td>▆▁█▆█</td></tr><tr><td>validation/epoch_loss</td><td>▆█▃▂▁</td></tr><tr><td>validation/evaluation_accuracy_vs_iterations</td><td>▆▁█▆█</td></tr><tr><td>validation/evaluation_loss_vs_iterations</td><td>▆█▃▂▁</td></tr><tr><td>validation/global_step</td><td>▁▄▁▅▁▇▁█▁</td></tr></table><br/></div><div class=\"wandb-col\"><h3>Run summary:</h3><br/><table class=\"wandb\"><tr><td>global_step</td><td>1175</td></tr><tr><td>train/epoch_accuracy</td><td>0.93392</td></tr><tr><td>train/epoch_loss</td><td>0.27034</td></tr><tr><td>train/global_step</td><td>4</td></tr><tr><td>validation/epoch_accuracy</td><td>0.98</td></tr><tr><td>validation/epoch_loss</td><td>0.04299</td></tr><tr><td>validation/evaluation_accuracy_vs_iterations</td><td>0.98</td></tr><tr><td>validation/evaluation_loss_vs_iterations</td><td>0.04299</td></tr><tr><td>validation/global_step</td><td>4</td></tr></table><br/></div></div>"
            ]
          },
          "metadata": {}
        },
        {
          "output_type": "display_data",
          "data": {
            "text/plain": [
              "<IPython.core.display.HTML object>"
            ],
            "text/html": [
              " View run <strong style=\"color:#cdcd00\">golden-sweep-12</strong> at: <a href='https://wandb.ai/tim-w/bootcamp/runs/wz8acyjv' target=\"_blank\">https://wandb.ai/tim-w/bootcamp/runs/wz8acyjv</a><br/>Synced 5 W&B file(s), 0 media file(s), 3 artifact file(s) and 3 other file(s)"
            ]
          },
          "metadata": {}
        },
        {
          "output_type": "display_data",
          "data": {
            "text/plain": [
              "<IPython.core.display.HTML object>"
            ],
            "text/html": [
              "Find logs at: <code>./wandb/run-20230302_144706-wz8acyjv/logs</code>"
            ]
          },
          "metadata": {}
        },
        {
          "output_type": "stream",
          "name": "stderr",
          "text": [
            "\u001b[34m\u001b[1mwandb\u001b[0m: Agent Starting Run: xsbne6uh with config:\n",
            "\u001b[34m\u001b[1mwandb\u001b[0m: \tbatch_size: 256\n",
            "\u001b[34m\u001b[1mwandb\u001b[0m: \tdropout: 0.33638523258788516\n",
            "\u001b[34m\u001b[1mwandb\u001b[0m: \tepochs: 4\n",
            "\u001b[34m\u001b[1mwandb\u001b[0m: \toptimizer: adam\n",
            "Failed to detect the name of this notebook, you can set it manually with the WANDB_NOTEBOOK_NAME environment variable to enable code saving.\n"
          ]
        },
        {
          "output_type": "display_data",
          "data": {
            "text/plain": [
              "<IPython.core.display.HTML object>"
            ],
            "text/html": [
              "Tracking run with wandb version 0.13.10"
            ]
          },
          "metadata": {}
        },
        {
          "output_type": "display_data",
          "data": {
            "text/plain": [
              "<IPython.core.display.HTML object>"
            ],
            "text/html": [
              "Run data is saved locally in <code>/content/wandb/run-20230302_144736-xsbne6uh</code>"
            ]
          },
          "metadata": {}
        },
        {
          "output_type": "display_data",
          "data": {
            "text/plain": [
              "<IPython.core.display.HTML object>"
            ],
            "text/html": [
              "Syncing run <strong><a href='https://wandb.ai/tim-w/bootcamp/runs/xsbne6uh' target=\"_blank\">swift-sweep-13</a></strong> to <a href='https://wandb.ai/tim-w/bootcamp' target=\"_blank\">Weights & Biases</a> (<a href='https://wandb.me/run' target=\"_blank\">docs</a>)<br/>Sweep page: <a href='https://wandb.ai/tim-w/bootcamp/sweeps/hedmloma' target=\"_blank\">https://wandb.ai/tim-w/bootcamp/sweeps/hedmloma</a>"
            ]
          },
          "metadata": {}
        },
        {
          "output_type": "display_data",
          "data": {
            "text/plain": [
              "<IPython.core.display.HTML object>"
            ],
            "text/html": [
              " View project at <a href='https://wandb.ai/tim-w/bootcamp' target=\"_blank\">https://wandb.ai/tim-w/bootcamp</a>"
            ]
          },
          "metadata": {}
        },
        {
          "output_type": "display_data",
          "data": {
            "text/plain": [
              "<IPython.core.display.HTML object>"
            ],
            "text/html": [
              " View sweep at <a href='https://wandb.ai/tim-w/bootcamp/sweeps/hedmloma' target=\"_blank\">https://wandb.ai/tim-w/bootcamp/sweeps/hedmloma</a>"
            ]
          },
          "metadata": {}
        },
        {
          "output_type": "display_data",
          "data": {
            "text/plain": [
              "<IPython.core.display.HTML object>"
            ],
            "text/html": [
              " View run at <a href='https://wandb.ai/tim-w/bootcamp/runs/xsbne6uh' target=\"_blank\">https://wandb.ai/tim-w/bootcamp/runs/xsbne6uh</a>"
            ]
          },
          "metadata": {}
        },
        {
          "output_type": "stream",
          "name": "stderr",
          "text": [
            "\u001b[34m\u001b[1mwandb\u001b[0m: \u001b[33mWARNING\u001b[0m When using several event log directories, please call `wandb.tensorboard.patch(root_logdir=\"...\")` before `wandb.init`\n"
          ]
        },
        {
          "output_type": "stream",
          "name": "stdout",
          "text": [
            "Epoch 1/5\n",
            "229/235 [============================>.] - ETA: 0s - loss: 6.4557 - accuracy: 0.8584"
          ]
        },
        {
          "output_type": "stream",
          "name": "stderr",
          "text": [
            "\u001b[34m\u001b[1mwandb\u001b[0m: \u001b[33mWARNING\u001b[0m When using several event log directories, please call `wandb.tensorboard.patch(root_logdir=\"...\")` before `wandb.init`\n"
          ]
        },
        {
          "output_type": "stream",
          "name": "stdout",
          "text": [
            "\b\b\b\b\b\b\b\b\b\b\b\b\b\b\b\b\b\b\b\b\b\b\b\b\b\b\b\b\b\b\b\b\b\b\b\b\b\b\b\b\b\b\b\b\b\b\b\b\b\b\b\b\b\b\b\b\b\b\b\b\b\b\b\b\b\b\b\b\b\b\b\b\b\b\b\b\b\b\b\b\b\b\b\b\r235/235 [==============================] - 4s 9ms/step - loss: 6.3330 - accuracy: 0.8591 - val_loss: 0.3624 - val_accuracy: 0.9500\n",
            "Epoch 2/5\n",
            "235/235 [==============================] - 2s 8ms/step - loss: 0.7007 - accuracy: 0.8959 - val_loss: 0.2179 - val_accuracy: 0.9400\n",
            "Epoch 3/5\n",
            "235/235 [==============================] - 1s 6ms/step - loss: 0.4019 - accuracy: 0.9193 - val_loss: 0.1067 - val_accuracy: 0.9800\n",
            "Epoch 4/5\n",
            "235/235 [==============================] - 1s 4ms/step - loss: 0.3068 - accuracy: 0.9297 - val_loss: 0.0802 - val_accuracy: 0.9600\n",
            "Epoch 5/5\n",
            "235/235 [==============================] - 1s 4ms/step - loss: 0.2514 - accuracy: 0.9387 - val_loss: 0.0491 - val_accuracy: 0.9700\n"
          ]
        },
        {
          "output_type": "display_data",
          "data": {
            "text/plain": [
              "<IPython.core.display.HTML object>"
            ],
            "text/html": [
              "Waiting for W&B process to finish... <strong style=\"color:green\">(success).</strong>"
            ]
          },
          "metadata": {}
        },
        {
          "output_type": "display_data",
          "data": {
            "text/plain": [
              "<IPython.core.display.HTML object>"
            ],
            "text/html": [
              "<style>\n",
              "    table.wandb td:nth-child(1) { padding: 0 10px; text-align: left ; width: auto;} td:nth-child(2) {text-align: left ; width: 100%}\n",
              "    .wandb-row { display: flex; flex-direction: row; flex-wrap: wrap; justify-content: flex-start; width: 100% }\n",
              "    .wandb-col { display: flex; flex-direction: column; flex-basis: 100%; flex: 1; padding: 10px; }\n",
              "    </style>\n",
              "<div class=\"wandb-row\"><div class=\"wandb-col\"><h3>Run history:</h3><br/><table class=\"wandb\"><tr><td>global_step</td><td>▁▂▄▄▅▅▇▇██</td></tr><tr><td>train/epoch_accuracy</td><td>▁▄▆▇█</td></tr><tr><td>train/epoch_loss</td><td>█▂▁▁▁</td></tr><tr><td>train/global_step</td><td>▁▁▃▅▆█</td></tr><tr><td>validation/epoch_accuracy</td><td>▃▁█▄▆</td></tr><tr><td>validation/epoch_loss</td><td>█▅▂▂▁</td></tr><tr><td>validation/evaluation_accuracy_vs_iterations</td><td>▃▁█▄▆</td></tr><tr><td>validation/evaluation_loss_vs_iterations</td><td>█▅▂▂▁</td></tr><tr><td>validation/global_step</td><td>▁▄▁▅▁▇▁█▁</td></tr></table><br/></div><div class=\"wandb-col\"><h3>Run summary:</h3><br/><table class=\"wandb\"><tr><td>global_step</td><td>1175</td></tr><tr><td>train/epoch_accuracy</td><td>0.93865</td></tr><tr><td>train/epoch_loss</td><td>0.2514</td></tr><tr><td>train/global_step</td><td>4</td></tr><tr><td>validation/epoch_accuracy</td><td>0.97</td></tr><tr><td>validation/epoch_loss</td><td>0.04912</td></tr><tr><td>validation/evaluation_accuracy_vs_iterations</td><td>0.97</td></tr><tr><td>validation/evaluation_loss_vs_iterations</td><td>0.04912</td></tr><tr><td>validation/global_step</td><td>4</td></tr></table><br/></div></div>"
            ]
          },
          "metadata": {}
        },
        {
          "output_type": "display_data",
          "data": {
            "text/plain": [
              "<IPython.core.display.HTML object>"
            ],
            "text/html": [
              " View run <strong style=\"color:#cdcd00\">swift-sweep-13</strong> at: <a href='https://wandb.ai/tim-w/bootcamp/runs/xsbne6uh' target=\"_blank\">https://wandb.ai/tim-w/bootcamp/runs/xsbne6uh</a><br/>Synced 5 W&B file(s), 0 media file(s), 3 artifact file(s) and 3 other file(s)"
            ]
          },
          "metadata": {}
        },
        {
          "output_type": "display_data",
          "data": {
            "text/plain": [
              "<IPython.core.display.HTML object>"
            ],
            "text/html": [
              "Find logs at: <code>./wandb/run-20230302_144736-xsbne6uh/logs</code>"
            ]
          },
          "metadata": {}
        },
        {
          "output_type": "stream",
          "name": "stderr",
          "text": [
            "\u001b[34m\u001b[1mwandb\u001b[0m: Agent Starting Run: a06v4qk9 with config:\n",
            "\u001b[34m\u001b[1mwandb\u001b[0m: \tbatch_size: 256\n",
            "\u001b[34m\u001b[1mwandb\u001b[0m: \tdropout: 0.3705328145175527\n",
            "\u001b[34m\u001b[1mwandb\u001b[0m: \tepochs: 5\n",
            "\u001b[34m\u001b[1mwandb\u001b[0m: \toptimizer: adam\n",
            "Failed to detect the name of this notebook, you can set it manually with the WANDB_NOTEBOOK_NAME environment variable to enable code saving.\n"
          ]
        },
        {
          "output_type": "display_data",
          "data": {
            "text/plain": [
              "<IPython.core.display.HTML object>"
            ],
            "text/html": [
              "Tracking run with wandb version 0.13.10"
            ]
          },
          "metadata": {}
        },
        {
          "output_type": "display_data",
          "data": {
            "text/plain": [
              "<IPython.core.display.HTML object>"
            ],
            "text/html": [
              "Run data is saved locally in <code>/content/wandb/run-20230302_144806-a06v4qk9</code>"
            ]
          },
          "metadata": {}
        },
        {
          "output_type": "display_data",
          "data": {
            "text/plain": [
              "<IPython.core.display.HTML object>"
            ],
            "text/html": [
              "Syncing run <strong><a href='https://wandb.ai/tim-w/bootcamp/runs/a06v4qk9' target=\"_blank\">autumn-sweep-14</a></strong> to <a href='https://wandb.ai/tim-w/bootcamp' target=\"_blank\">Weights & Biases</a> (<a href='https://wandb.me/run' target=\"_blank\">docs</a>)<br/>Sweep page: <a href='https://wandb.ai/tim-w/bootcamp/sweeps/hedmloma' target=\"_blank\">https://wandb.ai/tim-w/bootcamp/sweeps/hedmloma</a>"
            ]
          },
          "metadata": {}
        },
        {
          "output_type": "display_data",
          "data": {
            "text/plain": [
              "<IPython.core.display.HTML object>"
            ],
            "text/html": [
              " View project at <a href='https://wandb.ai/tim-w/bootcamp' target=\"_blank\">https://wandb.ai/tim-w/bootcamp</a>"
            ]
          },
          "metadata": {}
        },
        {
          "output_type": "display_data",
          "data": {
            "text/plain": [
              "<IPython.core.display.HTML object>"
            ],
            "text/html": [
              " View sweep at <a href='https://wandb.ai/tim-w/bootcamp/sweeps/hedmloma' target=\"_blank\">https://wandb.ai/tim-w/bootcamp/sweeps/hedmloma</a>"
            ]
          },
          "metadata": {}
        },
        {
          "output_type": "display_data",
          "data": {
            "text/plain": [
              "<IPython.core.display.HTML object>"
            ],
            "text/html": [
              " View run at <a href='https://wandb.ai/tim-w/bootcamp/runs/a06v4qk9' target=\"_blank\">https://wandb.ai/tim-w/bootcamp/runs/a06v4qk9</a>"
            ]
          },
          "metadata": {}
        },
        {
          "output_type": "stream",
          "name": "stderr",
          "text": [
            "\u001b[34m\u001b[1mwandb\u001b[0m: \u001b[33mWARNING\u001b[0m When using several event log directories, please call `wandb.tensorboard.patch(root_logdir=\"...\")` before `wandb.init`\n"
          ]
        },
        {
          "output_type": "stream",
          "name": "stdout",
          "text": [
            "Epoch 1/5\n",
            "227/235 [===========================>..] - ETA: 0s - loss: 6.3368 - accuracy: 0.8532"
          ]
        },
        {
          "output_type": "stream",
          "name": "stderr",
          "text": [
            "\u001b[34m\u001b[1mwandb\u001b[0m: \u001b[33mWARNING\u001b[0m When using several event log directories, please call `wandb.tensorboard.patch(root_logdir=\"...\")` before `wandb.init`\n"
          ]
        },
        {
          "output_type": "stream",
          "name": "stdout",
          "text": [
            "\b\b\b\b\b\b\b\b\b\b\b\b\b\b\b\b\b\b\b\b\b\b\b\b\b\b\b\b\b\b\b\b\b\b\b\b\b\b\b\b\b\b\b\b\b\b\b\b\b\b\b\b\b\b\b\b\b\b\b\b\b\b\b\b\b\b\b\b\b\b\b\b\b\b\b\b\b\b\b\b\b\b\b\b\r235/235 [==============================] - 4s 7ms/step - loss: 6.1708 - accuracy: 0.8540 - val_loss: 0.1850 - val_accuracy: 0.9700\n",
            "Epoch 2/5\n",
            "235/235 [==============================] - 1s 6ms/step - loss: 0.7014 - accuracy: 0.8875 - val_loss: 0.1816 - val_accuracy: 0.9600\n",
            "Epoch 3/5\n",
            "235/235 [==============================] - 1s 4ms/step - loss: 0.4201 - accuracy: 0.9090 - val_loss: 0.1027 - val_accuracy: 0.9700\n",
            "Epoch 4/5\n",
            "235/235 [==============================] - 1s 4ms/step - loss: 0.3314 - accuracy: 0.9246 - val_loss: 0.0909 - val_accuracy: 0.9700\n",
            "Epoch 5/5\n",
            "235/235 [==============================] - 1s 4ms/step - loss: 0.2718 - accuracy: 0.9330 - val_loss: 0.0776 - val_accuracy: 0.9700\n"
          ]
        },
        {
          "output_type": "display_data",
          "data": {
            "text/plain": [
              "<IPython.core.display.HTML object>"
            ],
            "text/html": [
              "Waiting for W&B process to finish... <strong style=\"color:green\">(success).</strong>"
            ]
          },
          "metadata": {}
        },
        {
          "output_type": "display_data",
          "data": {
            "text/plain": [
              "<IPython.core.display.HTML object>"
            ],
            "text/html": [
              "<style>\n",
              "    table.wandb td:nth-child(1) { padding: 0 10px; text-align: left ; width: auto;} td:nth-child(2) {text-align: left ; width: 100%}\n",
              "    .wandb-row { display: flex; flex-direction: row; flex-wrap: wrap; justify-content: flex-start; width: 100% }\n",
              "    .wandb-col { display: flex; flex-direction: column; flex-basis: 100%; flex: 1; padding: 10px; }\n",
              "    </style>\n",
              "<div class=\"wandb-row\"><div class=\"wandb-col\"><h3>Run history:</h3><br/><table class=\"wandb\"><tr><td>global_step</td><td>▁▂▄▄▅▅▇▇██</td></tr><tr><td>train/epoch_accuracy</td><td>▁▄▆▇█</td></tr><tr><td>train/epoch_loss</td><td>█▂▁▁▁</td></tr><tr><td>train/global_step</td><td>▁▁▃▅▆█</td></tr><tr><td>validation/epoch_accuracy</td><td>█▁███</td></tr><tr><td>validation/epoch_loss</td><td>██▃▂▁</td></tr><tr><td>validation/evaluation_accuracy_vs_iterations</td><td>█▁███</td></tr><tr><td>validation/evaluation_loss_vs_iterations</td><td>██▃▂▁</td></tr><tr><td>validation/global_step</td><td>▁▄▁▅▁▇▁█▁</td></tr></table><br/></div><div class=\"wandb-col\"><h3>Run summary:</h3><br/><table class=\"wandb\"><tr><td>global_step</td><td>1175</td></tr><tr><td>train/epoch_accuracy</td><td>0.93295</td></tr><tr><td>train/epoch_loss</td><td>0.27178</td></tr><tr><td>train/global_step</td><td>4</td></tr><tr><td>validation/epoch_accuracy</td><td>0.97</td></tr><tr><td>validation/epoch_loss</td><td>0.07758</td></tr><tr><td>validation/evaluation_accuracy_vs_iterations</td><td>0.97</td></tr><tr><td>validation/evaluation_loss_vs_iterations</td><td>0.07758</td></tr><tr><td>validation/global_step</td><td>4</td></tr></table><br/></div></div>"
            ]
          },
          "metadata": {}
        },
        {
          "output_type": "display_data",
          "data": {
            "text/plain": [
              "<IPython.core.display.HTML object>"
            ],
            "text/html": [
              " View run <strong style=\"color:#cdcd00\">autumn-sweep-14</strong> at: <a href='https://wandb.ai/tim-w/bootcamp/runs/a06v4qk9' target=\"_blank\">https://wandb.ai/tim-w/bootcamp/runs/a06v4qk9</a><br/>Synced 5 W&B file(s), 0 media file(s), 3 artifact file(s) and 3 other file(s)"
            ]
          },
          "metadata": {}
        },
        {
          "output_type": "display_data",
          "data": {
            "text/plain": [
              "<IPython.core.display.HTML object>"
            ],
            "text/html": [
              "Find logs at: <code>./wandb/run-20230302_144806-a06v4qk9/logs</code>"
            ]
          },
          "metadata": {}
        },
        {
          "output_type": "stream",
          "name": "stderr",
          "text": [
            "\u001b[34m\u001b[1mwandb\u001b[0m: Agent Starting Run: g1zp7mea with config:\n",
            "\u001b[34m\u001b[1mwandb\u001b[0m: \tbatch_size: 256\n",
            "\u001b[34m\u001b[1mwandb\u001b[0m: \tdropout: 0.3457715937513877\n",
            "\u001b[34m\u001b[1mwandb\u001b[0m: \tepochs: 4\n",
            "\u001b[34m\u001b[1mwandb\u001b[0m: \toptimizer: adam\n",
            "Failed to detect the name of this notebook, you can set it manually with the WANDB_NOTEBOOK_NAME environment variable to enable code saving.\n"
          ]
        },
        {
          "output_type": "display_data",
          "data": {
            "text/plain": [
              "<IPython.core.display.HTML object>"
            ],
            "text/html": [
              "Tracking run with wandb version 0.13.10"
            ]
          },
          "metadata": {}
        },
        {
          "output_type": "display_data",
          "data": {
            "text/plain": [
              "<IPython.core.display.HTML object>"
            ],
            "text/html": [
              "Run data is saved locally in <code>/content/wandb/run-20230302_144840-g1zp7mea</code>"
            ]
          },
          "metadata": {}
        },
        {
          "output_type": "display_data",
          "data": {
            "text/plain": [
              "<IPython.core.display.HTML object>"
            ],
            "text/html": [
              "Syncing run <strong><a href='https://wandb.ai/tim-w/bootcamp/runs/g1zp7mea' target=\"_blank\">quiet-sweep-15</a></strong> to <a href='https://wandb.ai/tim-w/bootcamp' target=\"_blank\">Weights & Biases</a> (<a href='https://wandb.me/run' target=\"_blank\">docs</a>)<br/>Sweep page: <a href='https://wandb.ai/tim-w/bootcamp/sweeps/hedmloma' target=\"_blank\">https://wandb.ai/tim-w/bootcamp/sweeps/hedmloma</a>"
            ]
          },
          "metadata": {}
        },
        {
          "output_type": "display_data",
          "data": {
            "text/plain": [
              "<IPython.core.display.HTML object>"
            ],
            "text/html": [
              " View project at <a href='https://wandb.ai/tim-w/bootcamp' target=\"_blank\">https://wandb.ai/tim-w/bootcamp</a>"
            ]
          },
          "metadata": {}
        },
        {
          "output_type": "display_data",
          "data": {
            "text/plain": [
              "<IPython.core.display.HTML object>"
            ],
            "text/html": [
              " View sweep at <a href='https://wandb.ai/tim-w/bootcamp/sweeps/hedmloma' target=\"_blank\">https://wandb.ai/tim-w/bootcamp/sweeps/hedmloma</a>"
            ]
          },
          "metadata": {}
        },
        {
          "output_type": "display_data",
          "data": {
            "text/plain": [
              "<IPython.core.display.HTML object>"
            ],
            "text/html": [
              " View run at <a href='https://wandb.ai/tim-w/bootcamp/runs/g1zp7mea' target=\"_blank\">https://wandb.ai/tim-w/bootcamp/runs/g1zp7mea</a>"
            ]
          },
          "metadata": {}
        },
        {
          "output_type": "stream",
          "name": "stderr",
          "text": [
            "\u001b[34m\u001b[1mwandb\u001b[0m: \u001b[33mWARNING\u001b[0m When using several event log directories, please call `wandb.tensorboard.patch(root_logdir=\"...\")` before `wandb.init`\n"
          ]
        },
        {
          "output_type": "stream",
          "name": "stdout",
          "text": [
            "Epoch 1/5\n",
            "232/235 [============================>.] - ETA: 0s - loss: 7.6626 - accuracy: 0.8564"
          ]
        },
        {
          "output_type": "stream",
          "name": "stderr",
          "text": [
            "\u001b[34m\u001b[1mwandb\u001b[0m: \u001b[33mWARNING\u001b[0m When using several event log directories, please call `wandb.tensorboard.patch(root_logdir=\"...\")` before `wandb.init`\n"
          ]
        },
        {
          "output_type": "stream",
          "name": "stdout",
          "text": [
            "\b\b\b\b\b\b\b\b\b\b\b\b\b\b\b\b\b\b\b\b\b\b\b\b\b\b\b\b\b\b\b\b\b\b\b\b\b\b\b\b\b\b\b\b\b\b\b\b\b\b\b\b\b\b\b\b\b\b\b\b\b\b\b\b\b\b\b\b\b\b\b\b\b\b\b\b\b\b\b\b\b\b\b\b\r235/235 [==============================] - 3s 8ms/step - loss: 7.5971 - accuracy: 0.8568 - val_loss: 0.2519 - val_accuracy: 0.9500\n",
            "Epoch 2/5\n",
            "235/235 [==============================] - 2s 8ms/step - loss: 0.7538 - accuracy: 0.8966 - val_loss: 0.1208 - val_accuracy: 0.9600\n",
            "Epoch 3/5\n",
            "235/235 [==============================] - 1s 6ms/step - loss: 0.4433 - accuracy: 0.9171 - val_loss: 0.1624 - val_accuracy: 0.9700\n",
            "Epoch 4/5\n",
            "235/235 [==============================] - 1s 4ms/step - loss: 0.3131 - accuracy: 0.9291 - val_loss: 0.0569 - val_accuracy: 0.9700\n",
            "Epoch 5/5\n",
            "235/235 [==============================] - 1s 4ms/step - loss: 0.2593 - accuracy: 0.9392 - val_loss: 0.0408 - val_accuracy: 0.9900\n"
          ]
        },
        {
          "output_type": "display_data",
          "data": {
            "text/plain": [
              "<IPython.core.display.HTML object>"
            ],
            "text/html": [
              "Waiting for W&B process to finish... <strong style=\"color:green\">(success).</strong>"
            ]
          },
          "metadata": {}
        },
        {
          "output_type": "display_data",
          "data": {
            "text/plain": [
              "<IPython.core.display.HTML object>"
            ],
            "text/html": [
              "<style>\n",
              "    table.wandb td:nth-child(1) { padding: 0 10px; text-align: left ; width: auto;} td:nth-child(2) {text-align: left ; width: 100%}\n",
              "    .wandb-row { display: flex; flex-direction: row; flex-wrap: wrap; justify-content: flex-start; width: 100% }\n",
              "    .wandb-col { display: flex; flex-direction: column; flex-basis: 100%; flex: 1; padding: 10px; }\n",
              "    </style>\n",
              "<div class=\"wandb-row\"><div class=\"wandb-col\"><h3>Run history:</h3><br/><table class=\"wandb\"><tr><td>global_step</td><td>▁▂▄▄▅▅▇▇██</td></tr><tr><td>train/epoch_accuracy</td><td>▁▄▆▇█</td></tr><tr><td>train/epoch_loss</td><td>█▁▁▁▁</td></tr><tr><td>train/global_step</td><td>▁▁▃▅▆█</td></tr><tr><td>validation/epoch_accuracy</td><td>▁▃▅▅█</td></tr><tr><td>validation/epoch_loss</td><td>█▄▅▂▁</td></tr><tr><td>validation/evaluation_accuracy_vs_iterations</td><td>▁▃▅▅█</td></tr><tr><td>validation/evaluation_loss_vs_iterations</td><td>█▄▅▂▁</td></tr><tr><td>validation/global_step</td><td>▁▄▁▅▁▇▁█▁</td></tr></table><br/></div><div class=\"wandb-col\"><h3>Run summary:</h3><br/><table class=\"wandb\"><tr><td>global_step</td><td>1175</td></tr><tr><td>train/epoch_accuracy</td><td>0.93918</td></tr><tr><td>train/epoch_loss</td><td>0.2593</td></tr><tr><td>train/global_step</td><td>4</td></tr><tr><td>validation/epoch_accuracy</td><td>0.99</td></tr><tr><td>validation/epoch_loss</td><td>0.04077</td></tr><tr><td>validation/evaluation_accuracy_vs_iterations</td><td>0.99</td></tr><tr><td>validation/evaluation_loss_vs_iterations</td><td>0.04077</td></tr><tr><td>validation/global_step</td><td>4</td></tr></table><br/></div></div>"
            ]
          },
          "metadata": {}
        },
        {
          "output_type": "display_data",
          "data": {
            "text/plain": [
              "<IPython.core.display.HTML object>"
            ],
            "text/html": [
              " View run <strong style=\"color:#cdcd00\">quiet-sweep-15</strong> at: <a href='https://wandb.ai/tim-w/bootcamp/runs/g1zp7mea' target=\"_blank\">https://wandb.ai/tim-w/bootcamp/runs/g1zp7mea</a><br/>Synced 5 W&B file(s), 0 media file(s), 3 artifact file(s) and 3 other file(s)"
            ]
          },
          "metadata": {}
        },
        {
          "output_type": "display_data",
          "data": {
            "text/plain": [
              "<IPython.core.display.HTML object>"
            ],
            "text/html": [
              "Find logs at: <code>./wandb/run-20230302_144840-g1zp7mea/logs</code>"
            ]
          },
          "metadata": {}
        },
        {
          "output_type": "stream",
          "name": "stderr",
          "text": [
            "\u001b[34m\u001b[1mwandb\u001b[0m: Agent Starting Run: ggl36wd0 with config:\n",
            "\u001b[34m\u001b[1mwandb\u001b[0m: \tbatch_size: 256\n",
            "\u001b[34m\u001b[1mwandb\u001b[0m: \tdropout: 0.3694869313860713\n",
            "\u001b[34m\u001b[1mwandb\u001b[0m: \tepochs: 5\n",
            "\u001b[34m\u001b[1mwandb\u001b[0m: \toptimizer: adam\n",
            "Failed to detect the name of this notebook, you can set it manually with the WANDB_NOTEBOOK_NAME environment variable to enable code saving.\n"
          ]
        },
        {
          "output_type": "display_data",
          "data": {
            "text/plain": [
              "<IPython.core.display.HTML object>"
            ],
            "text/html": [
              "Tracking run with wandb version 0.13.10"
            ]
          },
          "metadata": {}
        },
        {
          "output_type": "display_data",
          "data": {
            "text/plain": [
              "<IPython.core.display.HTML object>"
            ],
            "text/html": [
              "Run data is saved locally in <code>/content/wandb/run-20230302_144909-ggl36wd0</code>"
            ]
          },
          "metadata": {}
        },
        {
          "output_type": "display_data",
          "data": {
            "text/plain": [
              "<IPython.core.display.HTML object>"
            ],
            "text/html": [
              "Syncing run <strong><a href='https://wandb.ai/tim-w/bootcamp/runs/ggl36wd0' target=\"_blank\">grateful-sweep-16</a></strong> to <a href='https://wandb.ai/tim-w/bootcamp' target=\"_blank\">Weights & Biases</a> (<a href='https://wandb.me/run' target=\"_blank\">docs</a>)<br/>Sweep page: <a href='https://wandb.ai/tim-w/bootcamp/sweeps/hedmloma' target=\"_blank\">https://wandb.ai/tim-w/bootcamp/sweeps/hedmloma</a>"
            ]
          },
          "metadata": {}
        },
        {
          "output_type": "display_data",
          "data": {
            "text/plain": [
              "<IPython.core.display.HTML object>"
            ],
            "text/html": [
              " View project at <a href='https://wandb.ai/tim-w/bootcamp' target=\"_blank\">https://wandb.ai/tim-w/bootcamp</a>"
            ]
          },
          "metadata": {}
        },
        {
          "output_type": "display_data",
          "data": {
            "text/plain": [
              "<IPython.core.display.HTML object>"
            ],
            "text/html": [
              " View sweep at <a href='https://wandb.ai/tim-w/bootcamp/sweeps/hedmloma' target=\"_blank\">https://wandb.ai/tim-w/bootcamp/sweeps/hedmloma</a>"
            ]
          },
          "metadata": {}
        },
        {
          "output_type": "display_data",
          "data": {
            "text/plain": [
              "<IPython.core.display.HTML object>"
            ],
            "text/html": [
              " View run at <a href='https://wandb.ai/tim-w/bootcamp/runs/ggl36wd0' target=\"_blank\">https://wandb.ai/tim-w/bootcamp/runs/ggl36wd0</a>"
            ]
          },
          "metadata": {}
        },
        {
          "output_type": "stream",
          "name": "stderr",
          "text": [
            "\u001b[34m\u001b[1mwandb\u001b[0m: \u001b[33mWARNING\u001b[0m When using several event log directories, please call `wandb.tensorboard.patch(root_logdir=\"...\")` before `wandb.init`\n"
          ]
        },
        {
          "output_type": "stream",
          "name": "stdout",
          "text": [
            "Epoch 1/5\n",
            "227/235 [===========================>..] - ETA: 0s - loss: 7.6462 - accuracy: 0.8482"
          ]
        },
        {
          "output_type": "stream",
          "name": "stderr",
          "text": [
            "\u001b[34m\u001b[1mwandb\u001b[0m: \u001b[33mWARNING\u001b[0m When using several event log directories, please call `wandb.tensorboard.patch(root_logdir=\"...\")` before `wandb.init`\n"
          ]
        },
        {
          "output_type": "stream",
          "name": "stdout",
          "text": [
            "\b\b\b\b\b\b\b\b\b\b\b\b\b\b\b\b\b\b\b\b\b\b\b\b\b\b\b\b\b\b\b\b\b\b\b\b\b\b\b\b\b\b\b\b\b\b\b\b\b\b\b\b\b\b\b\b\b\b\b\b\b\b\b\b\b\b\b\b\b\b\b\b\b\b\b\b\b\b\b\b\b\b\b\b\r235/235 [==============================] - 4s 7ms/step - loss: 7.4394 - accuracy: 0.8491 - val_loss: 0.2093 - val_accuracy: 0.9800\n",
            "Epoch 2/5\n",
            "235/235 [==============================] - 1s 6ms/step - loss: 0.7355 - accuracy: 0.8887 - val_loss: 0.0779 - val_accuracy: 0.9700\n",
            "Epoch 3/5\n",
            "235/235 [==============================] - 1s 4ms/step - loss: 0.4491 - accuracy: 0.9120 - val_loss: 0.0354 - val_accuracy: 0.9900\n",
            "Epoch 4/5\n",
            "235/235 [==============================] - 1s 4ms/step - loss: 0.3361 - accuracy: 0.9249 - val_loss: 0.0203 - val_accuracy: 1.0000\n",
            "Epoch 5/5\n",
            "235/235 [==============================] - 1s 4ms/step - loss: 0.2773 - accuracy: 0.9338 - val_loss: 0.0094 - val_accuracy: 1.0000\n"
          ]
        },
        {
          "output_type": "display_data",
          "data": {
            "text/plain": [
              "<IPython.core.display.HTML object>"
            ],
            "text/html": [
              "Waiting for W&B process to finish... <strong style=\"color:green\">(success).</strong>"
            ]
          },
          "metadata": {}
        },
        {
          "output_type": "display_data",
          "data": {
            "text/plain": [
              "VBox(children=(Label(value='4.989 MB of 4.989 MB uploaded (0.000 MB deduped)\\r'), FloatProgress(value=1.0, max…"
            ],
            "application/vnd.jupyter.widget-view+json": {
              "version_major": 2,
              "version_minor": 0,
              "model_id": "11f0684ca3fa4b6fa620de21f5b8c526"
            }
          },
          "metadata": {}
        },
        {
          "output_type": "display_data",
          "data": {
            "text/plain": [
              "<IPython.core.display.HTML object>"
            ],
            "text/html": [
              "<style>\n",
              "    table.wandb td:nth-child(1) { padding: 0 10px; text-align: left ; width: auto;} td:nth-child(2) {text-align: left ; width: 100%}\n",
              "    .wandb-row { display: flex; flex-direction: row; flex-wrap: wrap; justify-content: flex-start; width: 100% }\n",
              "    .wandb-col { display: flex; flex-direction: column; flex-basis: 100%; flex: 1; padding: 10px; }\n",
              "    </style>\n",
              "<div class=\"wandb-row\"><div class=\"wandb-col\"><h3>Run history:</h3><br/><table class=\"wandb\"><tr><td>global_step</td><td>▁▂▄▄▅▅▇▇██</td></tr><tr><td>train/epoch_accuracy</td><td>▁▄▆▇█</td></tr><tr><td>train/epoch_loss</td><td>█▁▁▁▁</td></tr><tr><td>train/global_step</td><td>▁▁▃▅▆█</td></tr><tr><td>validation/epoch_accuracy</td><td>▃▁▆██</td></tr><tr><td>validation/epoch_loss</td><td>█▃▂▁▁</td></tr><tr><td>validation/evaluation_accuracy_vs_iterations</td><td>▃▁▆██</td></tr><tr><td>validation/evaluation_loss_vs_iterations</td><td>█▃▂▁▁</td></tr><tr><td>validation/global_step</td><td>▁▄▁▅▁▇▁█▁</td></tr></table><br/></div><div class=\"wandb-col\"><h3>Run summary:</h3><br/><table class=\"wandb\"><tr><td>global_step</td><td>1175</td></tr><tr><td>train/epoch_accuracy</td><td>0.93377</td></tr><tr><td>train/epoch_loss</td><td>0.27735</td></tr><tr><td>train/global_step</td><td>4</td></tr><tr><td>validation/epoch_accuracy</td><td>1.0</td></tr><tr><td>validation/epoch_loss</td><td>0.00945</td></tr><tr><td>validation/evaluation_accuracy_vs_iterations</td><td>1.0</td></tr><tr><td>validation/evaluation_loss_vs_iterations</td><td>0.00945</td></tr><tr><td>validation/global_step</td><td>4</td></tr></table><br/></div></div>"
            ]
          },
          "metadata": {}
        },
        {
          "output_type": "display_data",
          "data": {
            "text/plain": [
              "<IPython.core.display.HTML object>"
            ],
            "text/html": [
              " View run <strong style=\"color:#cdcd00\">grateful-sweep-16</strong> at: <a href='https://wandb.ai/tim-w/bootcamp/runs/ggl36wd0' target=\"_blank\">https://wandb.ai/tim-w/bootcamp/runs/ggl36wd0</a><br/>Synced 5 W&B file(s), 0 media file(s), 3 artifact file(s) and 3 other file(s)"
            ]
          },
          "metadata": {}
        },
        {
          "output_type": "display_data",
          "data": {
            "text/plain": [
              "<IPython.core.display.HTML object>"
            ],
            "text/html": [
              "Find logs at: <code>./wandb/run-20230302_144909-ggl36wd0/logs</code>"
            ]
          },
          "metadata": {}
        },
        {
          "output_type": "stream",
          "name": "stderr",
          "text": [
            "\u001b[34m\u001b[1mwandb\u001b[0m: Agent Starting Run: 9wukvnpu with config:\n",
            "\u001b[34m\u001b[1mwandb\u001b[0m: \tbatch_size: 256\n",
            "\u001b[34m\u001b[1mwandb\u001b[0m: \tdropout: 0.4003320323005308\n",
            "\u001b[34m\u001b[1mwandb\u001b[0m: \tepochs: 3\n",
            "\u001b[34m\u001b[1mwandb\u001b[0m: \toptimizer: sgd\n",
            "Failed to detect the name of this notebook, you can set it manually with the WANDB_NOTEBOOK_NAME environment variable to enable code saving.\n"
          ]
        },
        {
          "output_type": "display_data",
          "data": {
            "text/plain": [
              "<IPython.core.display.HTML object>"
            ],
            "text/html": [
              "Tracking run with wandb version 0.13.10"
            ]
          },
          "metadata": {}
        },
        {
          "output_type": "display_data",
          "data": {
            "text/plain": [
              "<IPython.core.display.HTML object>"
            ],
            "text/html": [
              "Run data is saved locally in <code>/content/wandb/run-20230302_144941-9wukvnpu</code>"
            ]
          },
          "metadata": {}
        },
        {
          "output_type": "display_data",
          "data": {
            "text/plain": [
              "<IPython.core.display.HTML object>"
            ],
            "text/html": [
              "Syncing run <strong><a href='https://wandb.ai/tim-w/bootcamp/runs/9wukvnpu' target=\"_blank\">bright-sweep-17</a></strong> to <a href='https://wandb.ai/tim-w/bootcamp' target=\"_blank\">Weights & Biases</a> (<a href='https://wandb.me/run' target=\"_blank\">docs</a>)<br/>Sweep page: <a href='https://wandb.ai/tim-w/bootcamp/sweeps/hedmloma' target=\"_blank\">https://wandb.ai/tim-w/bootcamp/sweeps/hedmloma</a>"
            ]
          },
          "metadata": {}
        },
        {
          "output_type": "display_data",
          "data": {
            "text/plain": [
              "<IPython.core.display.HTML object>"
            ],
            "text/html": [
              " View project at <a href='https://wandb.ai/tim-w/bootcamp' target=\"_blank\">https://wandb.ai/tim-w/bootcamp</a>"
            ]
          },
          "metadata": {}
        },
        {
          "output_type": "display_data",
          "data": {
            "text/plain": [
              "<IPython.core.display.HTML object>"
            ],
            "text/html": [
              " View sweep at <a href='https://wandb.ai/tim-w/bootcamp/sweeps/hedmloma' target=\"_blank\">https://wandb.ai/tim-w/bootcamp/sweeps/hedmloma</a>"
            ]
          },
          "metadata": {}
        },
        {
          "output_type": "display_data",
          "data": {
            "text/plain": [
              "<IPython.core.display.HTML object>"
            ],
            "text/html": [
              " View run at <a href='https://wandb.ai/tim-w/bootcamp/runs/9wukvnpu' target=\"_blank\">https://wandb.ai/tim-w/bootcamp/runs/9wukvnpu</a>"
            ]
          },
          "metadata": {}
        },
        {
          "output_type": "stream",
          "name": "stderr",
          "text": [
            "\u001b[34m\u001b[1mwandb\u001b[0m: \u001b[33mWARNING\u001b[0m When using several event log directories, please call `wandb.tensorboard.patch(root_logdir=\"...\")` before `wandb.init`\n"
          ]
        },
        {
          "output_type": "stream",
          "name": "stdout",
          "text": [
            "Epoch 1/5\n",
            "230/235 [============================>.] - ETA: 0s - loss: 78.7163 - accuracy: 0.4602"
          ]
        },
        {
          "output_type": "stream",
          "name": "stderr",
          "text": [
            "\u001b[34m\u001b[1mwandb\u001b[0m: \u001b[33mWARNING\u001b[0m When using several event log directories, please call `wandb.tensorboard.patch(root_logdir=\"...\")` before `wandb.init`\n"
          ]
        },
        {
          "output_type": "stream",
          "name": "stdout",
          "text": [
            "\b\b\b\b\b\b\b\b\b\b\b\b\b\b\b\b\b\b\b\b\b\b\b\b\b\b\b\b\b\b\b\b\b\b\b\b\b\b\b\b\b\b\b\b\b\b\b\b\b\b\b\b\b\b\b\b\b\b\b\b\b\b\b\b\b\b\b\b\b\b\b\b\b\b\b\b\b\b\b\b\b\b\b\b\b\r235/235 [==============================] - 2s 7ms/step - loss: 77.2697 - accuracy: 0.4635 - val_loss: 0.7673 - val_accuracy: 0.7600\n",
            "Epoch 2/5\n",
            "235/235 [==============================] - 1s 6ms/step - loss: 1.0339 - accuracy: 0.7062 - val_loss: 0.6052 - val_accuracy: 0.8500\n",
            "Epoch 3/5\n",
            "235/235 [==============================] - 1s 5ms/step - loss: 0.8606 - accuracy: 0.7706 - val_loss: 0.3064 - val_accuracy: 0.9200\n",
            "Epoch 4/5\n",
            "235/235 [==============================] - 1s 5ms/step - loss: 0.7501 - accuracy: 0.7952 - val_loss: 0.2500 - val_accuracy: 0.9500\n",
            "Epoch 5/5\n",
            "235/235 [==============================] - 1s 5ms/step - loss: 0.6705 - accuracy: 0.8187 - val_loss: 0.1871 - val_accuracy: 0.9300\n"
          ]
        },
        {
          "output_type": "display_data",
          "data": {
            "text/plain": [
              "<IPython.core.display.HTML object>"
            ],
            "text/html": [
              "Waiting for W&B process to finish... <strong style=\"color:green\">(success).</strong>"
            ]
          },
          "metadata": {}
        },
        {
          "output_type": "display_data",
          "data": {
            "text/plain": [
              "<IPython.core.display.HTML object>"
            ],
            "text/html": [
              "<style>\n",
              "    table.wandb td:nth-child(1) { padding: 0 10px; text-align: left ; width: auto;} td:nth-child(2) {text-align: left ; width: 100%}\n",
              "    .wandb-row { display: flex; flex-direction: row; flex-wrap: wrap; justify-content: flex-start; width: 100% }\n",
              "    .wandb-col { display: flex; flex-direction: column; flex-basis: 100%; flex: 1; padding: 10px; }\n",
              "    </style>\n",
              "<div class=\"wandb-row\"><div class=\"wandb-col\"><h3>Run history:</h3><br/><table class=\"wandb\"><tr><td>global_step</td><td>▁▂▄▄▅▅▇▇██</td></tr><tr><td>train/epoch_accuracy</td><td>▁▆▇██</td></tr><tr><td>train/epoch_loss</td><td>█▁▁▁▁</td></tr><tr><td>train/global_step</td><td>▁▁▃▅▆█</td></tr><tr><td>validation/epoch_accuracy</td><td>▁▄▇█▇</td></tr><tr><td>validation/epoch_loss</td><td>█▆▂▂▁</td></tr><tr><td>validation/evaluation_accuracy_vs_iterations</td><td>▁▄▇█▇</td></tr><tr><td>validation/evaluation_loss_vs_iterations</td><td>█▆▂▂▁</td></tr><tr><td>validation/global_step</td><td>▁▄▁▅▁▇▁█▁</td></tr></table><br/></div><div class=\"wandb-col\"><h3>Run summary:</h3><br/><table class=\"wandb\"><tr><td>global_step</td><td>1175</td></tr><tr><td>train/epoch_accuracy</td><td>0.81873</td></tr><tr><td>train/epoch_loss</td><td>0.67054</td></tr><tr><td>train/global_step</td><td>4</td></tr><tr><td>validation/epoch_accuracy</td><td>0.93</td></tr><tr><td>validation/epoch_loss</td><td>0.18711</td></tr><tr><td>validation/evaluation_accuracy_vs_iterations</td><td>0.93</td></tr><tr><td>validation/evaluation_loss_vs_iterations</td><td>0.18711</td></tr><tr><td>validation/global_step</td><td>4</td></tr></table><br/></div></div>"
            ]
          },
          "metadata": {}
        },
        {
          "output_type": "display_data",
          "data": {
            "text/plain": [
              "<IPython.core.display.HTML object>"
            ],
            "text/html": [
              " View run <strong style=\"color:#cdcd00\">bright-sweep-17</strong> at: <a href='https://wandb.ai/tim-w/bootcamp/runs/9wukvnpu' target=\"_blank\">https://wandb.ai/tim-w/bootcamp/runs/9wukvnpu</a><br/>Synced 5 W&B file(s), 0 media file(s), 3 artifact file(s) and 3 other file(s)"
            ]
          },
          "metadata": {}
        },
        {
          "output_type": "display_data",
          "data": {
            "text/plain": [
              "<IPython.core.display.HTML object>"
            ],
            "text/html": [
              "Find logs at: <code>./wandb/run-20230302_144941-9wukvnpu/logs</code>"
            ]
          },
          "metadata": {}
        },
        {
          "output_type": "stream",
          "name": "stderr",
          "text": [
            "\u001b[34m\u001b[1mwandb\u001b[0m: Agent Starting Run: qxt3wvoe with config:\n",
            "\u001b[34m\u001b[1mwandb\u001b[0m: \tbatch_size: 256\n",
            "\u001b[34m\u001b[1mwandb\u001b[0m: \tdropout: 0.3519754210281248\n",
            "\u001b[34m\u001b[1mwandb\u001b[0m: \tepochs: 5\n",
            "\u001b[34m\u001b[1mwandb\u001b[0m: \toptimizer: adam\n",
            "Failed to detect the name of this notebook, you can set it manually with the WANDB_NOTEBOOK_NAME environment variable to enable code saving.\n"
          ]
        },
        {
          "output_type": "display_data",
          "data": {
            "text/plain": [
              "<IPython.core.display.HTML object>"
            ],
            "text/html": [
              "Tracking run with wandb version 0.13.10"
            ]
          },
          "metadata": {}
        },
        {
          "output_type": "display_data",
          "data": {
            "text/plain": [
              "<IPython.core.display.HTML object>"
            ],
            "text/html": [
              "Run data is saved locally in <code>/content/wandb/run-20230302_145012-qxt3wvoe</code>"
            ]
          },
          "metadata": {}
        },
        {
          "output_type": "display_data",
          "data": {
            "text/plain": [
              "<IPython.core.display.HTML object>"
            ],
            "text/html": [
              "Syncing run <strong><a href='https://wandb.ai/tim-w/bootcamp/runs/qxt3wvoe' target=\"_blank\">jumping-sweep-18</a></strong> to <a href='https://wandb.ai/tim-w/bootcamp' target=\"_blank\">Weights & Biases</a> (<a href='https://wandb.me/run' target=\"_blank\">docs</a>)<br/>Sweep page: <a href='https://wandb.ai/tim-w/bootcamp/sweeps/hedmloma' target=\"_blank\">https://wandb.ai/tim-w/bootcamp/sweeps/hedmloma</a>"
            ]
          },
          "metadata": {}
        },
        {
          "output_type": "display_data",
          "data": {
            "text/plain": [
              "<IPython.core.display.HTML object>"
            ],
            "text/html": [
              " View project at <a href='https://wandb.ai/tim-w/bootcamp' target=\"_blank\">https://wandb.ai/tim-w/bootcamp</a>"
            ]
          },
          "metadata": {}
        },
        {
          "output_type": "display_data",
          "data": {
            "text/plain": [
              "<IPython.core.display.HTML object>"
            ],
            "text/html": [
              " View sweep at <a href='https://wandb.ai/tim-w/bootcamp/sweeps/hedmloma' target=\"_blank\">https://wandb.ai/tim-w/bootcamp/sweeps/hedmloma</a>"
            ]
          },
          "metadata": {}
        },
        {
          "output_type": "display_data",
          "data": {
            "text/plain": [
              "<IPython.core.display.HTML object>"
            ],
            "text/html": [
              " View run at <a href='https://wandb.ai/tim-w/bootcamp/runs/qxt3wvoe' target=\"_blank\">https://wandb.ai/tim-w/bootcamp/runs/qxt3wvoe</a>"
            ]
          },
          "metadata": {}
        },
        {
          "output_type": "stream",
          "name": "stderr",
          "text": [
            "\u001b[34m\u001b[1mwandb\u001b[0m: \u001b[33mWARNING\u001b[0m When using several event log directories, please call `wandb.tensorboard.patch(root_logdir=\"...\")` before `wandb.init`\n"
          ]
        },
        {
          "output_type": "stream",
          "name": "stdout",
          "text": [
            "Epoch 1/5\n",
            "231/235 [============================>.] - ETA: 0s - loss: 6.6690 - accuracy: 0.8569"
          ]
        },
        {
          "output_type": "stream",
          "name": "stderr",
          "text": [
            "\u001b[34m\u001b[1mwandb\u001b[0m: \u001b[33mWARNING\u001b[0m When using several event log directories, please call `wandb.tensorboard.patch(root_logdir=\"...\")` before `wandb.init`\n"
          ]
        },
        {
          "output_type": "stream",
          "name": "stdout",
          "text": [
            "\b\b\b\b\b\b\b\b\b\b\b\b\b\b\b\b\b\b\b\b\b\b\b\b\b\b\b\b\b\b\b\b\b\b\b\b\b\b\b\b\b\b\b\b\b\b\b\b\b\b\b\b\b\b\b\b\b\b\b\b\b\b\b\b\b\b\b\b\b\b\b\b\b\b\b\b\b\b\b\b\b\b\b\b\r235/235 [==============================] - 5s 10ms/step - loss: 6.5888 - accuracy: 0.8572 - val_loss: 0.1681 - val_accuracy: 0.9600\n",
            "Epoch 2/5\n",
            "235/235 [==============================] - 1s 5ms/step - loss: 0.7040 - accuracy: 0.8974 - val_loss: 0.1453 - val_accuracy: 0.9400\n",
            "Epoch 3/5\n",
            "235/235 [==============================] - 1s 4ms/step - loss: 0.4331 - accuracy: 0.9143 - val_loss: 0.0975 - val_accuracy: 0.9700\n",
            "Epoch 4/5\n",
            "235/235 [==============================] - 1s 4ms/step - loss: 0.3234 - accuracy: 0.9273 - val_loss: 0.0434 - val_accuracy: 0.9900\n",
            "Epoch 5/5\n",
            "235/235 [==============================] - 1s 4ms/step - loss: 0.2593 - accuracy: 0.9380 - val_loss: 0.0879 - val_accuracy: 0.9800\n"
          ]
        },
        {
          "output_type": "display_data",
          "data": {
            "text/plain": [
              "<IPython.core.display.HTML object>"
            ],
            "text/html": [
              "Waiting for W&B process to finish... <strong style=\"color:green\">(success).</strong>"
            ]
          },
          "metadata": {}
        },
        {
          "output_type": "display_data",
          "data": {
            "text/plain": [
              "<IPython.core.display.HTML object>"
            ],
            "text/html": [
              "<style>\n",
              "    table.wandb td:nth-child(1) { padding: 0 10px; text-align: left ; width: auto;} td:nth-child(2) {text-align: left ; width: 100%}\n",
              "    .wandb-row { display: flex; flex-direction: row; flex-wrap: wrap; justify-content: flex-start; width: 100% }\n",
              "    .wandb-col { display: flex; flex-direction: column; flex-basis: 100%; flex: 1; padding: 10px; }\n",
              "    </style>\n",
              "<div class=\"wandb-row\"><div class=\"wandb-col\"><h3>Run history:</h3><br/><table class=\"wandb\"><tr><td>global_step</td><td>▁▂▄▄▅▅▇▇██</td></tr><tr><td>train/epoch_accuracy</td><td>▁▄▆▇█</td></tr><tr><td>train/epoch_loss</td><td>█▁▁▁▁</td></tr><tr><td>train/global_step</td><td>▁▁▃▅▆█</td></tr><tr><td>validation/epoch_accuracy</td><td>▄▁▅█▇</td></tr><tr><td>validation/epoch_loss</td><td>█▇▄▁▄</td></tr><tr><td>validation/evaluation_accuracy_vs_iterations</td><td>▄▁▅█▇</td></tr><tr><td>validation/evaluation_loss_vs_iterations</td><td>█▇▄▁▄</td></tr><tr><td>validation/global_step</td><td>▁▄▁▅▁▇▁█▁</td></tr></table><br/></div><div class=\"wandb-col\"><h3>Run summary:</h3><br/><table class=\"wandb\"><tr><td>global_step</td><td>1175</td></tr><tr><td>train/epoch_accuracy</td><td>0.93803</td></tr><tr><td>train/epoch_loss</td><td>0.25925</td></tr><tr><td>train/global_step</td><td>4</td></tr><tr><td>validation/epoch_accuracy</td><td>0.98</td></tr><tr><td>validation/epoch_loss</td><td>0.08793</td></tr><tr><td>validation/evaluation_accuracy_vs_iterations</td><td>0.98</td></tr><tr><td>validation/evaluation_loss_vs_iterations</td><td>0.08793</td></tr><tr><td>validation/global_step</td><td>4</td></tr></table><br/></div></div>"
            ]
          },
          "metadata": {}
        },
        {
          "output_type": "display_data",
          "data": {
            "text/plain": [
              "<IPython.core.display.HTML object>"
            ],
            "text/html": [
              " View run <strong style=\"color:#cdcd00\">jumping-sweep-18</strong> at: <a href='https://wandb.ai/tim-w/bootcamp/runs/qxt3wvoe' target=\"_blank\">https://wandb.ai/tim-w/bootcamp/runs/qxt3wvoe</a><br/>Synced 5 W&B file(s), 0 media file(s), 3 artifact file(s) and 3 other file(s)"
            ]
          },
          "metadata": {}
        },
        {
          "output_type": "display_data",
          "data": {
            "text/plain": [
              "<IPython.core.display.HTML object>"
            ],
            "text/html": [
              "Find logs at: <code>./wandb/run-20230302_145012-qxt3wvoe/logs</code>"
            ]
          },
          "metadata": {}
        },
        {
          "output_type": "stream",
          "name": "stderr",
          "text": [
            "\u001b[34m\u001b[1mwandb\u001b[0m: Sweep Agent: Waiting for job.\n",
            "\u001b[34m\u001b[1mwandb\u001b[0m: Job received.\n",
            "\u001b[34m\u001b[1mwandb\u001b[0m: Agent Starting Run: o0568jl8 with config:\n",
            "\u001b[34m\u001b[1mwandb\u001b[0m: \tbatch_size: 256\n",
            "\u001b[34m\u001b[1mwandb\u001b[0m: \tdropout: 0.2563487788974038\n",
            "\u001b[34m\u001b[1mwandb\u001b[0m: \tepochs: 5\n",
            "\u001b[34m\u001b[1mwandb\u001b[0m: \toptimizer: adam\n",
            "Failed to detect the name of this notebook, you can set it manually with the WANDB_NOTEBOOK_NAME environment variable to enable code saving.\n"
          ]
        },
        {
          "output_type": "display_data",
          "data": {
            "text/plain": [
              "<IPython.core.display.HTML object>"
            ],
            "text/html": [
              "Tracking run with wandb version 0.13.10"
            ]
          },
          "metadata": {}
        },
        {
          "output_type": "display_data",
          "data": {
            "text/plain": [
              "<IPython.core.display.HTML object>"
            ],
            "text/html": [
              "Run data is saved locally in <code>/content/wandb/run-20230302_145054-o0568jl8</code>"
            ]
          },
          "metadata": {}
        },
        {
          "output_type": "display_data",
          "data": {
            "text/plain": [
              "<IPython.core.display.HTML object>"
            ],
            "text/html": [
              "Syncing run <strong><a href='https://wandb.ai/tim-w/bootcamp/runs/o0568jl8' target=\"_blank\">winter-sweep-19</a></strong> to <a href='https://wandb.ai/tim-w/bootcamp' target=\"_blank\">Weights & Biases</a> (<a href='https://wandb.me/run' target=\"_blank\">docs</a>)<br/>Sweep page: <a href='https://wandb.ai/tim-w/bootcamp/sweeps/hedmloma' target=\"_blank\">https://wandb.ai/tim-w/bootcamp/sweeps/hedmloma</a>"
            ]
          },
          "metadata": {}
        },
        {
          "output_type": "display_data",
          "data": {
            "text/plain": [
              "<IPython.core.display.HTML object>"
            ],
            "text/html": [
              " View project at <a href='https://wandb.ai/tim-w/bootcamp' target=\"_blank\">https://wandb.ai/tim-w/bootcamp</a>"
            ]
          },
          "metadata": {}
        },
        {
          "output_type": "display_data",
          "data": {
            "text/plain": [
              "<IPython.core.display.HTML object>"
            ],
            "text/html": [
              " View sweep at <a href='https://wandb.ai/tim-w/bootcamp/sweeps/hedmloma' target=\"_blank\">https://wandb.ai/tim-w/bootcamp/sweeps/hedmloma</a>"
            ]
          },
          "metadata": {}
        },
        {
          "output_type": "display_data",
          "data": {
            "text/plain": [
              "<IPython.core.display.HTML object>"
            ],
            "text/html": [
              " View run at <a href='https://wandb.ai/tim-w/bootcamp/runs/o0568jl8' target=\"_blank\">https://wandb.ai/tim-w/bootcamp/runs/o0568jl8</a>"
            ]
          },
          "metadata": {}
        },
        {
          "output_type": "stream",
          "name": "stderr",
          "text": [
            "\u001b[34m\u001b[1mwandb\u001b[0m: \u001b[33mWARNING\u001b[0m When using several event log directories, please call `wandb.tensorboard.patch(root_logdir=\"...\")` before `wandb.init`\n"
          ]
        },
        {
          "output_type": "stream",
          "name": "stdout",
          "text": [
            "Epoch 1/5\n",
            "229/235 [============================>.] - ETA: 0s - loss: 6.7820 - accuracy: 0.8724"
          ]
        },
        {
          "output_type": "stream",
          "name": "stderr",
          "text": [
            "\u001b[34m\u001b[1mwandb\u001b[0m: \u001b[33mWARNING\u001b[0m When using several event log directories, please call `wandb.tensorboard.patch(root_logdir=\"...\")` before `wandb.init`\n"
          ]
        },
        {
          "output_type": "stream",
          "name": "stdout",
          "text": [
            "\b\b\b\b\b\b\b\b\b\b\b\b\b\b\b\b\b\b\b\b\b\b\b\b\b\b\b\b\b\b\b\b\b\b\b\b\b\b\b\b\b\b\b\b\b\b\b\b\b\b\b\b\b\b\b\b\b\b\b\b\b\b\b\b\b\b\b\b\b\b\b\b\b\b\b\b\b\b\b\b\b\b\b\b\r235/235 [==============================] - 3s 7ms/step - loss: 6.6506 - accuracy: 0.8734 - val_loss: 0.2836 - val_accuracy: 0.9400\n",
            "Epoch 2/5\n",
            "235/235 [==============================] - 1s 5ms/step - loss: 0.7068 - accuracy: 0.9169 - val_loss: 0.2637 - val_accuracy: 0.9700\n",
            "Epoch 3/5\n",
            "235/235 [==============================] - 1s 4ms/step - loss: 0.3770 - accuracy: 0.9319 - val_loss: 0.1574 - val_accuracy: 0.9700\n",
            "Epoch 4/5\n",
            "235/235 [==============================] - 1s 4ms/step - loss: 0.2665 - accuracy: 0.9447 - val_loss: 0.2213 - val_accuracy: 0.9800\n",
            "Epoch 5/5\n",
            "235/235 [==============================] - 1s 4ms/step - loss: 0.2041 - accuracy: 0.9536 - val_loss: 0.2106 - val_accuracy: 0.9800\n"
          ]
        },
        {
          "output_type": "display_data",
          "data": {
            "text/plain": [
              "<IPython.core.display.HTML object>"
            ],
            "text/html": [
              "Waiting for W&B process to finish... <strong style=\"color:green\">(success).</strong>"
            ]
          },
          "metadata": {}
        },
        {
          "output_type": "display_data",
          "data": {
            "text/plain": [
              "<IPython.core.display.HTML object>"
            ],
            "text/html": [
              "<style>\n",
              "    table.wandb td:nth-child(1) { padding: 0 10px; text-align: left ; width: auto;} td:nth-child(2) {text-align: left ; width: 100%}\n",
              "    .wandb-row { display: flex; flex-direction: row; flex-wrap: wrap; justify-content: flex-start; width: 100% }\n",
              "    .wandb-col { display: flex; flex-direction: column; flex-basis: 100%; flex: 1; padding: 10px; }\n",
              "    </style>\n",
              "<div class=\"wandb-row\"><div class=\"wandb-col\"><h3>Run history:</h3><br/><table class=\"wandb\"><tr><td>global_step</td><td>▁▂▄▄▅▅▇▇██</td></tr><tr><td>train/epoch_accuracy</td><td>▁▅▆▇█</td></tr><tr><td>train/epoch_loss</td><td>█▂▁▁▁</td></tr><tr><td>train/global_step</td><td>▁▁▃▅▆█</td></tr><tr><td>validation/epoch_accuracy</td><td>▁▆▆██</td></tr><tr><td>validation/epoch_loss</td><td>█▇▁▅▄</td></tr><tr><td>validation/evaluation_accuracy_vs_iterations</td><td>▁▆▆██</td></tr><tr><td>validation/evaluation_loss_vs_iterations</td><td>█▇▁▅▄</td></tr><tr><td>validation/global_step</td><td>▁▄▁▅▁▇▁█▁</td></tr></table><br/></div><div class=\"wandb-col\"><h3>Run summary:</h3><br/><table class=\"wandb\"><tr><td>global_step</td><td>1175</td></tr><tr><td>train/epoch_accuracy</td><td>0.95363</td></tr><tr><td>train/epoch_loss</td><td>0.20408</td></tr><tr><td>train/global_step</td><td>4</td></tr><tr><td>validation/epoch_accuracy</td><td>0.98</td></tr><tr><td>validation/epoch_loss</td><td>0.21064</td></tr><tr><td>validation/evaluation_accuracy_vs_iterations</td><td>0.98</td></tr><tr><td>validation/evaluation_loss_vs_iterations</td><td>0.21064</td></tr><tr><td>validation/global_step</td><td>4</td></tr></table><br/></div></div>"
            ]
          },
          "metadata": {}
        },
        {
          "output_type": "display_data",
          "data": {
            "text/plain": [
              "<IPython.core.display.HTML object>"
            ],
            "text/html": [
              " View run <strong style=\"color:#cdcd00\">winter-sweep-19</strong> at: <a href='https://wandb.ai/tim-w/bootcamp/runs/o0568jl8' target=\"_blank\">https://wandb.ai/tim-w/bootcamp/runs/o0568jl8</a><br/>Synced 5 W&B file(s), 0 media file(s), 3 artifact file(s) and 3 other file(s)"
            ]
          },
          "metadata": {}
        },
        {
          "output_type": "display_data",
          "data": {
            "text/plain": [
              "<IPython.core.display.HTML object>"
            ],
            "text/html": [
              "Find logs at: <code>./wandb/run-20230302_145054-o0568jl8/logs</code>"
            ]
          },
          "metadata": {}
        },
        {
          "output_type": "stream",
          "name": "stderr",
          "text": [
            "\u001b[34m\u001b[1mwandb\u001b[0m: Agent Starting Run: oegpvelv with config:\n",
            "\u001b[34m\u001b[1mwandb\u001b[0m: \tbatch_size: 256\n",
            "\u001b[34m\u001b[1mwandb\u001b[0m: \tdropout: 0.2548239500994166\n",
            "\u001b[34m\u001b[1mwandb\u001b[0m: \tepochs: 6\n",
            "\u001b[34m\u001b[1mwandb\u001b[0m: \toptimizer: adam\n",
            "Failed to detect the name of this notebook, you can set it manually with the WANDB_NOTEBOOK_NAME environment variable to enable code saving.\n"
          ]
        },
        {
          "output_type": "display_data",
          "data": {
            "text/plain": [
              "<IPython.core.display.HTML object>"
            ],
            "text/html": [
              "Tracking run with wandb version 0.13.10"
            ]
          },
          "metadata": {}
        },
        {
          "output_type": "display_data",
          "data": {
            "text/plain": [
              "<IPython.core.display.HTML object>"
            ],
            "text/html": [
              "Run data is saved locally in <code>/content/wandb/run-20230302_145124-oegpvelv</code>"
            ]
          },
          "metadata": {}
        },
        {
          "output_type": "display_data",
          "data": {
            "text/plain": [
              "<IPython.core.display.HTML object>"
            ],
            "text/html": [
              "Syncing run <strong><a href='https://wandb.ai/tim-w/bootcamp/runs/oegpvelv' target=\"_blank\">worthy-sweep-20</a></strong> to <a href='https://wandb.ai/tim-w/bootcamp' target=\"_blank\">Weights & Biases</a> (<a href='https://wandb.me/run' target=\"_blank\">docs</a>)<br/>Sweep page: <a href='https://wandb.ai/tim-w/bootcamp/sweeps/hedmloma' target=\"_blank\">https://wandb.ai/tim-w/bootcamp/sweeps/hedmloma</a>"
            ]
          },
          "metadata": {}
        },
        {
          "output_type": "display_data",
          "data": {
            "text/plain": [
              "<IPython.core.display.HTML object>"
            ],
            "text/html": [
              " View project at <a href='https://wandb.ai/tim-w/bootcamp' target=\"_blank\">https://wandb.ai/tim-w/bootcamp</a>"
            ]
          },
          "metadata": {}
        },
        {
          "output_type": "display_data",
          "data": {
            "text/plain": [
              "<IPython.core.display.HTML object>"
            ],
            "text/html": [
              " View sweep at <a href='https://wandb.ai/tim-w/bootcamp/sweeps/hedmloma' target=\"_blank\">https://wandb.ai/tim-w/bootcamp/sweeps/hedmloma</a>"
            ]
          },
          "metadata": {}
        },
        {
          "output_type": "display_data",
          "data": {
            "text/plain": [
              "<IPython.core.display.HTML object>"
            ],
            "text/html": [
              " View run at <a href='https://wandb.ai/tim-w/bootcamp/runs/oegpvelv' target=\"_blank\">https://wandb.ai/tim-w/bootcamp/runs/oegpvelv</a>"
            ]
          },
          "metadata": {}
        },
        {
          "output_type": "stream",
          "name": "stderr",
          "text": [
            "\u001b[34m\u001b[1mwandb\u001b[0m: \u001b[33mWARNING\u001b[0m When using several event log directories, please call `wandb.tensorboard.patch(root_logdir=\"...\")` before `wandb.init`\n"
          ]
        },
        {
          "output_type": "stream",
          "name": "stdout",
          "text": [
            "Epoch 1/5\n",
            "226/235 [===========================>..] - ETA: 0s - loss: 6.3961 - accuracy: 0.8733"
          ]
        },
        {
          "output_type": "stream",
          "name": "stderr",
          "text": [
            "\u001b[34m\u001b[1mwandb\u001b[0m: \u001b[33mWARNING\u001b[0m When using several event log directories, please call `wandb.tensorboard.patch(root_logdir=\"...\")` before `wandb.init`\n"
          ]
        },
        {
          "output_type": "stream",
          "name": "stdout",
          "text": [
            "\b\b\b\b\b\b\b\b\b\b\b\b\b\b\b\b\b\b\b\b\b\b\b\b\b\b\b\b\b\b\b\b\b\b\b\b\b\b\b\b\b\b\b\b\b\b\b\b\b\b\b\b\b\b\b\b\b\b\b\b\b\b\b\b\b\b\b\b\b\b\b\b\b\b\b\b\b\b\b\b\b\b\b\b\r235/235 [==============================] - 3s 8ms/step - loss: 6.2045 - accuracy: 0.8741 - val_loss: 0.2458 - val_accuracy: 0.9600\n",
            "Epoch 2/5\n",
            "235/235 [==============================] - 1s 6ms/step - loss: 0.6647 - accuracy: 0.9169 - val_loss: 0.3028 - val_accuracy: 0.9500\n",
            "Epoch 3/5\n",
            "235/235 [==============================] - 1s 5ms/step - loss: 0.3591 - accuracy: 0.9328 - val_loss: 0.2296 - val_accuracy: 0.9700\n",
            "Epoch 4/5\n",
            "235/235 [==============================] - 1s 6ms/step - loss: 0.2714 - accuracy: 0.9439 - val_loss: 0.0778 - val_accuracy: 0.9800\n",
            "Epoch 5/5\n",
            "235/235 [==============================] - 1s 6ms/step - loss: 0.2144 - accuracy: 0.9504 - val_loss: 0.0362 - val_accuracy: 0.9800\n"
          ]
        },
        {
          "output_type": "display_data",
          "data": {
            "text/plain": [
              "<IPython.core.display.HTML object>"
            ],
            "text/html": [
              "Waiting for W&B process to finish... <strong style=\"color:green\">(success).</strong>"
            ]
          },
          "metadata": {}
        },
        {
          "output_type": "display_data",
          "data": {
            "text/plain": [
              "VBox(children=(Label(value='5.022 MB of 5.022 MB uploaded (0.000 MB deduped)\\r'), FloatProgress(value=1.0, max…"
            ],
            "application/vnd.jupyter.widget-view+json": {
              "version_major": 2,
              "version_minor": 0,
              "model_id": "b5334edf64824f0abf5407b4db497af2"
            }
          },
          "metadata": {}
        },
        {
          "output_type": "display_data",
          "data": {
            "text/plain": [
              "<IPython.core.display.HTML object>"
            ],
            "text/html": [
              "<style>\n",
              "    table.wandb td:nth-child(1) { padding: 0 10px; text-align: left ; width: auto;} td:nth-child(2) {text-align: left ; width: 100%}\n",
              "    .wandb-row { display: flex; flex-direction: row; flex-wrap: wrap; justify-content: flex-start; width: 100% }\n",
              "    .wandb-col { display: flex; flex-direction: column; flex-basis: 100%; flex: 1; padding: 10px; }\n",
              "    </style>\n",
              "<div class=\"wandb-row\"><div class=\"wandb-col\"><h3>Run history:</h3><br/><table class=\"wandb\"><tr><td>global_step</td><td>▁▂▄▄▅▅▇▇██</td></tr><tr><td>train/epoch_accuracy</td><td>▁▅▆▇█</td></tr><tr><td>train/epoch_loss</td><td>█▂▁▁▁</td></tr><tr><td>train/global_step</td><td>▁▁▃▅▆█</td></tr><tr><td>validation/epoch_accuracy</td><td>▃▁▆██</td></tr><tr><td>validation/epoch_loss</td><td>▇█▆▂▁</td></tr><tr><td>validation/evaluation_accuracy_vs_iterations</td><td>▃▁▆██</td></tr><tr><td>validation/evaluation_loss_vs_iterations</td><td>▇█▆▂▁</td></tr><tr><td>validation/global_step</td><td>▁▄▁▅▁▇▁█▁</td></tr></table><br/></div><div class=\"wandb-col\"><h3>Run summary:</h3><br/><table class=\"wandb\"><tr><td>global_step</td><td>1175</td></tr><tr><td>train/epoch_accuracy</td><td>0.9504</td></tr><tr><td>train/epoch_loss</td><td>0.21442</td></tr><tr><td>train/global_step</td><td>4</td></tr><tr><td>validation/epoch_accuracy</td><td>0.98</td></tr><tr><td>validation/epoch_loss</td><td>0.03618</td></tr><tr><td>validation/evaluation_accuracy_vs_iterations</td><td>0.98</td></tr><tr><td>validation/evaluation_loss_vs_iterations</td><td>0.03618</td></tr><tr><td>validation/global_step</td><td>4</td></tr></table><br/></div></div>"
            ]
          },
          "metadata": {}
        },
        {
          "output_type": "display_data",
          "data": {
            "text/plain": [
              "<IPython.core.display.HTML object>"
            ],
            "text/html": [
              " View run <strong style=\"color:#cdcd00\">worthy-sweep-20</strong> at: <a href='https://wandb.ai/tim-w/bootcamp/runs/oegpvelv' target=\"_blank\">https://wandb.ai/tim-w/bootcamp/runs/oegpvelv</a><br/>Synced 5 W&B file(s), 0 media file(s), 3 artifact file(s) and 3 other file(s)"
            ]
          },
          "metadata": {}
        },
        {
          "output_type": "display_data",
          "data": {
            "text/plain": [
              "<IPython.core.display.HTML object>"
            ],
            "text/html": [
              "Find logs at: <code>./wandb/run-20230302_145124-oegpvelv/logs</code>"
            ]
          },
          "metadata": {}
        }
      ]
    },
    {
      "cell_type": "code",
      "source": [],
      "metadata": {
        "id": "890py7YIpqIT"
      },
      "execution_count": 25,
      "outputs": []
    }
  ]
}