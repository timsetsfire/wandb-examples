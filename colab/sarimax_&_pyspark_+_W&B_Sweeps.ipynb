{
  "nbformat": 4,
  "nbformat_minor": 0,
  "metadata": {
    "colab": {
      "provenance": [],
      "include_colab_link": true
    },
    "kernelspec": {
      "name": "python3",
      "display_name": "Python 3"
    },
    "language_info": {
      "name": "python"
    }
  },
  "cells": [
    {
      "cell_type": "markdown",
      "metadata": {
        "id": "view-in-github",
        "colab_type": "text"
      },
      "source": [
        "<a href=\"https://colab.research.google.com/github/timsetsfire/wandb-examples/blob/main/colab/sarimax_%26_pyspark_%2B_W%26B_Sweeps.ipynb\" target=\"_parent\"><img src=\"https://colab.research.google.com/assets/colab-badge.svg\" alt=\"Open In Colab\"/></a>"
      ]
    },
    {
      "cell_type": "code",
      "metadata": {
        "id": "cSZL-2_T8IYH",
        "colab": {
          "base_uri": "https://localhost:8080/"
        },
        "outputId": "511b3737-1137-4bc8-8da6-8ee555850ddf"
      },
      "source": [
        "!pip install -q findspark pyspark wandb"
      ],
      "execution_count": null,
      "outputs": [
        {
          "output_type": "stream",
          "name": "stdout",
          "text": [
            "\u001b[K     |████████████████████████████████| 1.9 MB 5.1 MB/s \n",
            "\u001b[K     |████████████████████████████████| 182 kB 50.6 MB/s \n",
            "\u001b[K     |████████████████████████████████| 166 kB 39.8 MB/s \n",
            "\u001b[K     |████████████████████████████████| 63 kB 567 kB/s \n",
            "\u001b[K     |████████████████████████████████| 166 kB 15.6 MB/s \n",
            "\u001b[K     |████████████████████████████████| 162 kB 33.7 MB/s \n",
            "\u001b[K     |████████████████████████████████| 162 kB 38.7 MB/s \n",
            "\u001b[K     |████████████████████████████████| 158 kB 48.4 MB/s \n",
            "\u001b[K     |████████████████████████████████| 157 kB 52.1 MB/s \n",
            "\u001b[K     |████████████████████████████████| 157 kB 60.3 MB/s \n",
            "\u001b[K     |████████████████████████████████| 157 kB 38.8 MB/s \n",
            "\u001b[K     |████████████████████████████████| 157 kB 48.2 MB/s \n",
            "\u001b[K     |████████████████████████████████| 157 kB 44.5 MB/s \n",
            "\u001b[K     |████████████████████████████████| 157 kB 36.0 MB/s \n",
            "\u001b[K     |████████████████████████████████| 157 kB 23.5 MB/s \n",
            "\u001b[K     |████████████████████████████████| 156 kB 35.7 MB/s \n",
            "\u001b[?25h  Building wheel for pathtools (setup.py) ... \u001b[?25l\u001b[?25hdone\n"
          ]
        }
      ]
    },
    {
      "cell_type": "code",
      "metadata": {
        "id": "alfg07gY8759"
      },
      "source": [
        "##\n",
        "import numpy as np\n",
        "import pandas as pd\n",
        "from scipy.stats import norm\n",
        "import statsmodels.api as sm\n",
        "import matplotlib.pyplot as plt\n",
        "from datetime import datetime\n",
        "import requests\n",
        "from io import BytesIO\n",
        "\n",
        "##\n",
        "import wandb\n",
        "import findspark\n",
        "from pyspark.sql import SparkSession\n",
        "import string\n",
        "import random\n",
        "findspark.init()"
      ],
      "execution_count": null,
      "outputs": []
    },
    {
      "cell_type": "markdown",
      "source": [
        "## Toy Example"
      ],
      "metadata": {
        "id": "AuWmkSG7qMDi"
      }
    },
    {
      "cell_type": "code",
      "metadata": {
        "id": "0X6A0Wip73Kr"
      },
      "source": [
        "# spark = SparkSession.builder.master(\"local[*]\").getOrCreate()\n",
        "spark = SparkSession.builder\\\n",
        "        .master(\"local\")\\\n",
        "        .appName(\"Colab\")\\\n",
        "        .config('spark.ui.port', '4050')\\\n",
        "        .getOrCreate()"
      ],
      "execution_count": null,
      "outputs": []
    },
    {
      "cell_type": "code",
      "metadata": {
        "colab": {
          "base_uri": "https://localhost:8080/"
        },
        "id": "hkPDlNNO9RF-",
        "outputId": "1c8169f7-67fc-43b3-e8de-73464a7afcc0"
      },
      "source": [
        "## create dataset\n",
        "\n",
        "air2 = requests.get('https://www.stata-press.com/data/r12/air2.dta').content\n",
        "data = pd.read_stata(BytesIO(air2))\n",
        "data.index = pd.date_range(start=datetime(data.time[0], 1, 1), periods=len(data), freq='MS')\n",
        "data['lnair'] = np.log(data['air'])\n",
        "# creating a dataset to mimic a panel data set\n",
        "# generating random strings\n",
        "def create_house_id(N = 7):\n",
        "    house = ''.join(random.choices(string.ascii_uppercase +\n",
        "                             string.digits, k=N))\n",
        "    return house \n",
        "houses = [str(create_house_id(7)) for i in range(5)]\n",
        "mdf = []\n",
        "for house in houses:\n",
        "    tdf = data.copy()\n",
        "    tdf[\"house_id\"] = house\n",
        "    mdf.append(tdf)\n",
        "mdf = pd.concat(mdf)\n",
        "mdf[\"lnair\"] = mdf[\"lnair\"] + np.random.rand(mdf.shape[0])\n",
        "mdf[\"house_id_copy\"] = mdf[\"house_id\"].copy()\n",
        "sparkDF=spark.createDataFrame(mdf) \n",
        "sparkDF"
      ],
      "execution_count": null,
      "outputs": [
        {
          "output_type": "stream",
          "name": "stdout",
          "text": [
            "The generated random string : FRM9GVP\n"
          ]
        },
        {
          "output_type": "execute_result",
          "data": {
            "text/plain": [
              "DataFrame[air: bigint, time: double, t: double, lnair: double, house_id: string, house_id_copy: string]"
            ]
          },
          "metadata": {},
          "execution_count": 3
        }
      ]
    },
    {
      "cell_type": "code",
      "metadata": {
        "id": "FGy_2ERoCNWk"
      },
      "source": [
        "import wandb"
      ],
      "execution_count": null,
      "outputs": []
    },
    {
      "cell_type": "markdown",
      "source": [
        "## Set up\n",
        "\n",
        "If you decide to run this the `wandb.login` will need access to your API Token.  If running this in databricks, you should be able to set environment variables in cluster configuration.  "
      ],
      "metadata": {
        "id": "7udq-oCGIp8_"
      }
    },
    {
      "cell_type": "code",
      "source": [
        "def sweep_udf(data):\n",
        "  import wandb\n",
        "  def train_func():  \n",
        "\n",
        "    wandb.login(key = \"\")\n",
        "    run = wandb.init()\n",
        "\n",
        "    config = run.config\n",
        "    print(\"wandb.config:\", config)\n",
        "\n",
        "    order = [config.p, config.d, config.q]\n",
        "    seasonal_order = None\n",
        "    print( \"order:\", order)\n",
        "    print( \"seasonal order:\", seasonal_order)\n",
        "    mod = sm.tsa.statespace.SARIMAX(data['lnair'], order=order, seasonal_order=seasonal_order, simple_differencing=True)\n",
        "    res = mod.fit()\n",
        "    model_summary_html = \"<html>\\n<plaintext>\\n\"+res.summary().as_text()    \n",
        "    print(\"mod order:\", mod.order)\n",
        "    print(\"mod seasonal order:\", mod.seasonal_order)\n",
        "    print(res.summary())    \n",
        "    run.log({\"aic\": res.aic, \"model_summary\": wandb.Html(model_summary_html) })\n",
        "    house_id = data[\"house_id\"].unique()[0]\n",
        "    run.log({\"house_id\": house_id})\n",
        "    run.finish()\n",
        "\n",
        "  house_id = data['house_id_copy'].unique()[0]\n",
        "  \n",
        "  sweep_config = {\n",
        "      'method': 'random',\n",
        "      'name': f\"House ID {house_id}\",\n",
        "      'early_terminate': {\n",
        "        'type': 'hyperband',\n",
        "        'min_iter': 5, \n",
        "        'max_iter': 10\n",
        "      },\n",
        "      'metric': {'goal': 'minimize', 'name': 'aic'},\n",
        "      'parameters': \n",
        "      {\n",
        "          'trend': {'values': ['c', 't', 'ct']},\n",
        "          'p': {'values': [0,1,2]},\n",
        "          'd': {'values': [0,1]},\n",
        "          'q': {'values': [0,1,2]},\n",
        "      }\n",
        "  }\n",
        "\n",
        "  sweep_id = wandb.sweep(sweep_config, project=\"sarimax-spark\")\n",
        "  wandb_agent = wandb.agent(sweep_id, function=train_func)\n",
        "\n",
        "  return data\n",
        "\n",
        "\n"
      ],
      "metadata": {
        "id": "cF_hc0LAdbQ4"
      },
      "execution_count": null,
      "outputs": []
    },
    {
      "cell_type": "code",
      "source": [
        "groupedSparkDF = sparkDF.groupBy(\"house_id\")"
      ],
      "metadata": {
        "id": "sS0cFyeDdypd"
      },
      "execution_count": null,
      "outputs": []
    },
    {
      "cell_type": "code",
      "source": [
        "out = groupedSparkDF.applyInPandas(sweep_udf, sparkDF.schema)"
      ],
      "metadata": {
        "id": "fxQAv0Mkd6Hn"
      },
      "execution_count": null,
      "outputs": []
    },
    {
      "cell_type": "code",
      "source": [
        "out.count()\n",
        "## nothing will be printed to stdout here.  head into the sarimax-spark project"
      ],
      "metadata": {
        "id": "PCCyKOYQ66wl"
      },
      "execution_count": null,
      "outputs": []
    }
  ]
}