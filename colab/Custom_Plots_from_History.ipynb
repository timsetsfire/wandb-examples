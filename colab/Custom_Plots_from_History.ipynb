{
  "nbformat": 4,
  "nbformat_minor": 0,
  "metadata": {
    "colab": {
      "provenance": [],
      "authorship_tag": "ABX9TyMrITKmw0DtwYOAGI2EfFec",
      "include_colab_link": true
    },
    "kernelspec": {
      "name": "python3",
      "display_name": "Python 3"
    },
    "language_info": {
      "name": "python"
    },
    "widgets": {
      "application/vnd.jupyter.widget-state+json": {
        "9172735761854269854e6cc32230e2af": {
          "model_module": "@jupyter-widgets/controls",
          "model_name": "VBoxModel",
          "model_module_version": "1.5.0",
          "state": {
            "_dom_classes": [],
            "_model_module": "@jupyter-widgets/controls",
            "_model_module_version": "1.5.0",
            "_model_name": "VBoxModel",
            "_view_count": null,
            "_view_module": "@jupyter-widgets/controls",
            "_view_module_version": "1.5.0",
            "_view_name": "VBoxView",
            "box_style": "",
            "children": [
              "IPY_MODEL_0bbf8db85dfc4961aba235c490512718",
              "IPY_MODEL_62706d579ba54165b3b34fdf685452f5"
            ],
            "layout": "IPY_MODEL_10635a8d2e574af9844c4cf4b02ca7de"
          }
        },
        "0bbf8db85dfc4961aba235c490512718": {
          "model_module": "@jupyter-widgets/controls",
          "model_name": "LabelModel",
          "model_module_version": "1.5.0",
          "state": {
            "_dom_classes": [],
            "_model_module": "@jupyter-widgets/controls",
            "_model_module_version": "1.5.0",
            "_model_name": "LabelModel",
            "_view_count": null,
            "_view_module": "@jupyter-widgets/controls",
            "_view_module_version": "1.5.0",
            "_view_name": "LabelView",
            "description": "",
            "description_tooltip": null,
            "layout": "IPY_MODEL_c9e1e2cf8aa643dfbd5a2c407745033e",
            "placeholder": "​",
            "style": "IPY_MODEL_a506840f9d9a432992c32b2956366c61",
            "value": "0.104 MB of 0.104 MB uploaded (0.000 MB deduped)\r"
          }
        },
        "62706d579ba54165b3b34fdf685452f5": {
          "model_module": "@jupyter-widgets/controls",
          "model_name": "FloatProgressModel",
          "model_module_version": "1.5.0",
          "state": {
            "_dom_classes": [],
            "_model_module": "@jupyter-widgets/controls",
            "_model_module_version": "1.5.0",
            "_model_name": "FloatProgressModel",
            "_view_count": null,
            "_view_module": "@jupyter-widgets/controls",
            "_view_module_version": "1.5.0",
            "_view_name": "ProgressView",
            "bar_style": "",
            "description": "",
            "description_tooltip": null,
            "layout": "IPY_MODEL_156e3b1ca8f64b4b89e1f6ddef02bd7d",
            "max": 1,
            "min": 0,
            "orientation": "horizontal",
            "style": "IPY_MODEL_0a3ed1b3560543a4a8123fc31e79fb99",
            "value": 1
          }
        },
        "10635a8d2e574af9844c4cf4b02ca7de": {
          "model_module": "@jupyter-widgets/base",
          "model_name": "LayoutModel",
          "model_module_version": "1.2.0",
          "state": {
            "_model_module": "@jupyter-widgets/base",
            "_model_module_version": "1.2.0",
            "_model_name": "LayoutModel",
            "_view_count": null,
            "_view_module": "@jupyter-widgets/base",
            "_view_module_version": "1.2.0",
            "_view_name": "LayoutView",
            "align_content": null,
            "align_items": null,
            "align_self": null,
            "border": null,
            "bottom": null,
            "display": null,
            "flex": null,
            "flex_flow": null,
            "grid_area": null,
            "grid_auto_columns": null,
            "grid_auto_flow": null,
            "grid_auto_rows": null,
            "grid_column": null,
            "grid_gap": null,
            "grid_row": null,
            "grid_template_areas": null,
            "grid_template_columns": null,
            "grid_template_rows": null,
            "height": null,
            "justify_content": null,
            "justify_items": null,
            "left": null,
            "margin": null,
            "max_height": null,
            "max_width": null,
            "min_height": null,
            "min_width": null,
            "object_fit": null,
            "object_position": null,
            "order": null,
            "overflow": null,
            "overflow_x": null,
            "overflow_y": null,
            "padding": null,
            "right": null,
            "top": null,
            "visibility": null,
            "width": null
          }
        },
        "c9e1e2cf8aa643dfbd5a2c407745033e": {
          "model_module": "@jupyter-widgets/base",
          "model_name": "LayoutModel",
          "model_module_version": "1.2.0",
          "state": {
            "_model_module": "@jupyter-widgets/base",
            "_model_module_version": "1.2.0",
            "_model_name": "LayoutModel",
            "_view_count": null,
            "_view_module": "@jupyter-widgets/base",
            "_view_module_version": "1.2.0",
            "_view_name": "LayoutView",
            "align_content": null,
            "align_items": null,
            "align_self": null,
            "border": null,
            "bottom": null,
            "display": null,
            "flex": null,
            "flex_flow": null,
            "grid_area": null,
            "grid_auto_columns": null,
            "grid_auto_flow": null,
            "grid_auto_rows": null,
            "grid_column": null,
            "grid_gap": null,
            "grid_row": null,
            "grid_template_areas": null,
            "grid_template_columns": null,
            "grid_template_rows": null,
            "height": null,
            "justify_content": null,
            "justify_items": null,
            "left": null,
            "margin": null,
            "max_height": null,
            "max_width": null,
            "min_height": null,
            "min_width": null,
            "object_fit": null,
            "object_position": null,
            "order": null,
            "overflow": null,
            "overflow_x": null,
            "overflow_y": null,
            "padding": null,
            "right": null,
            "top": null,
            "visibility": null,
            "width": null
          }
        },
        "a506840f9d9a432992c32b2956366c61": {
          "model_module": "@jupyter-widgets/controls",
          "model_name": "DescriptionStyleModel",
          "model_module_version": "1.5.0",
          "state": {
            "_model_module": "@jupyter-widgets/controls",
            "_model_module_version": "1.5.0",
            "_model_name": "DescriptionStyleModel",
            "_view_count": null,
            "_view_module": "@jupyter-widgets/base",
            "_view_module_version": "1.2.0",
            "_view_name": "StyleView",
            "description_width": ""
          }
        },
        "156e3b1ca8f64b4b89e1f6ddef02bd7d": {
          "model_module": "@jupyter-widgets/base",
          "model_name": "LayoutModel",
          "model_module_version": "1.2.0",
          "state": {
            "_model_module": "@jupyter-widgets/base",
            "_model_module_version": "1.2.0",
            "_model_name": "LayoutModel",
            "_view_count": null,
            "_view_module": "@jupyter-widgets/base",
            "_view_module_version": "1.2.0",
            "_view_name": "LayoutView",
            "align_content": null,
            "align_items": null,
            "align_self": null,
            "border": null,
            "bottom": null,
            "display": null,
            "flex": null,
            "flex_flow": null,
            "grid_area": null,
            "grid_auto_columns": null,
            "grid_auto_flow": null,
            "grid_auto_rows": null,
            "grid_column": null,
            "grid_gap": null,
            "grid_row": null,
            "grid_template_areas": null,
            "grid_template_columns": null,
            "grid_template_rows": null,
            "height": null,
            "justify_content": null,
            "justify_items": null,
            "left": null,
            "margin": null,
            "max_height": null,
            "max_width": null,
            "min_height": null,
            "min_width": null,
            "object_fit": null,
            "object_position": null,
            "order": null,
            "overflow": null,
            "overflow_x": null,
            "overflow_y": null,
            "padding": null,
            "right": null,
            "top": null,
            "visibility": null,
            "width": null
          }
        },
        "0a3ed1b3560543a4a8123fc31e79fb99": {
          "model_module": "@jupyter-widgets/controls",
          "model_name": "ProgressStyleModel",
          "model_module_version": "1.5.0",
          "state": {
            "_model_module": "@jupyter-widgets/controls",
            "_model_module_version": "1.5.0",
            "_model_name": "ProgressStyleModel",
            "_view_count": null,
            "_view_module": "@jupyter-widgets/base",
            "_view_module_version": "1.2.0",
            "_view_name": "StyleView",
            "bar_color": null,
            "description_width": ""
          }
        }
      }
    }
  },
  "cells": [
    {
      "cell_type": "markdown",
      "metadata": {
        "id": "view-in-github",
        "colab_type": "text"
      },
      "source": [
        "<a href=\"https://colab.research.google.com/github/timsetsfire/wandb-examples/blob/main/colab/Custom_Plots_from_History.ipynb\" target=\"_parent\"><img src=\"https://colab.research.google.com/assets/colab-badge.svg\" alt=\"Open In Colab\"/></a>"
      ]
    },
    {
      "cell_type": "code",
      "source": [
        "%%capture\n",
        "!pip install wandb"
      ],
      "metadata": {
        "id": "ZqAeVcDzNmOR"
      },
      "execution_count": 2,
      "outputs": []
    },
    {
      "cell_type": "code",
      "source": [
        "class Test:\n",
        "  x = 1\n",
        "  y = 2\n"
      ],
      "metadata": {
        "id": "wkpivcG0NzAA"
      },
      "execution_count": 3,
      "outputs": []
    },
    {
      "cell_type": "code",
      "source": [
        "x = Test()"
      ],
      "metadata": {
        "id": "ygTfjaxHN1bu"
      },
      "execution_count": 4,
      "outputs": []
    },
    {
      "cell_type": "code",
      "source": [
        "x.x, x.y"
      ],
      "metadata": {
        "colab": {
          "base_uri": "https://localhost:8080/"
        },
        "id": "fb_Zw3T5N27Y",
        "outputId": "5851e092-1c58-48c6-ec5d-7d09a4210587"
      },
      "execution_count": 6,
      "outputs": [
        {
          "output_type": "execute_result",
          "data": {
            "text/plain": [
              "(1, 2)"
            ]
          },
          "metadata": {},
          "execution_count": 6
        }
      ]
    },
    {
      "cell_type": "code",
      "source": [],
      "metadata": {
        "id": "z89CR0ADN4r4"
      },
      "execution_count": 7,
      "outputs": []
    },
    {
      "cell_type": "code",
      "source": [],
      "metadata": {
        "colab": {
          "base_uri": "https://localhost:8080/"
        },
        "id": "U1Tk2qdwN6s8",
        "outputId": "2056fd42-abf6-4eef-c7f2-f6c478073dce"
      },
      "execution_count": 8,
      "outputs": [
        {
          "output_type": "execute_result",
          "data": {
            "text/plain": [
              "30"
            ]
          },
          "metadata": {},
          "execution_count": 8
        }
      ]
    },
    {
      "cell_type": "code",
      "execution_count": 11,
      "metadata": {
        "id": "Nm92n_hlNf2T"
      },
      "outputs": [],
      "source": [
        "import wandb\n",
        "import numpy as np\n",
        "from typing import (\n",
        "    TYPE_CHECKING,\n",
        "    Any,\n",
        "    Callable,\n",
        "    Dict,\n",
        "    List,\n",
        "    NamedTuple,\n",
        "    Optional,\n",
        "    Sequence,\n",
        "    TextIO,\n",
        "    Tuple,\n",
        "    Type,\n",
        "    Union,\n",
        ")\n",
        "class CustomChartFromHistory(wandb.viz.CustomChart):\n",
        "    @staticmethod\n",
        "    def user_query(table_name) -> Dict[str, Any]:\n",
        "        return {\n",
        "            \"queryFields\": [\n",
        "                {\n",
        "                    \"name\": \"runSets\",\n",
        "                    \"args\": [\n",
        "                        {\"name\": \"runSets\", \"value\": \"${runSets}\"},\n",
        "                        {\"name\": \"limit\", \"value\": 500}\n",
        "                        ],\n",
        "                    \"fields\": [\n",
        "                        {\"name\": \"id\", \"fields\": []},\n",
        "                        {\"name\": \"name\", \"fields\": []},\n",
        "                        {\"name\": \"_defaultColorIndex\", \"fields\": []},\n",
        "                        {\n",
        "                            \"name\": \"history\",\n",
        "                            \"args\": [{\"name\": \"keys\", \"value\": CustomChartFromHistory.fields },],\n",
        "                            \"fields\": [],\n",
        "                        },\n",
        "                    ],\n",
        "                }\n",
        "            ],\n",
        "        }\n",
        "\n",
        ""
      ]
    },
    {
      "cell_type": "code",
      "source": [
        "import time\n",
        "wandb.init(project = \"error-bar-plotting-v3\", entity = \"tim-w\")\n",
        "import numpy as np\n",
        "\n",
        "def log_custom_history_plot(wandb_run, log_as, fields, str_fields):\n",
        "  CustomChartFromHistory.fields = list(fields.values())\n",
        "  # fields = dict(upper = \"upper\", lower = \"lower\", center = \"center\", index = \"step\")\n",
        "  # str_fields = dict(title = \"x with errors bars\")\n",
        "  chart = CustomChartFromHistory(\"tim-w/error-bands-3\", wandb.Table(), fields, str_fields)\n",
        "  wandb_run.log({log_as: chart})\n",
        "\n",
        "log_custom_history_plot(wandb.run, \"plot_x\", dict(center = \"x\", upper = \"x_upper\", lower = \"x_lower\", index = \"step\"), str_fields = dict(title = \"x with errors bars\"))\n",
        "log_custom_history_plot(wandb.run, \"plot_y\", dict(center = \"y\", upper = \"y_upper\", lower = \"y_lower\", index = \"step\"), str_fields = dict(title = \"y with errors bars\"))\n",
        "\n",
        "\n",
        "for i in range(10):\n",
        "  x = np.random.randn()\n",
        "  y = np.random.randn()\n",
        "  x_std = np.random.rand() / 2\n",
        "  y_std = np.random.rand() * 2\n",
        "  wandb.log(dict(x = x, x_upper = x+x_std, x_lower = x-x_std, step = i, y = y, y_upper = y+y_std, y_lower = y-y_std))\n",
        "wandb.finish()"
      ],
      "metadata": {
        "colab": {
          "base_uri": "https://localhost:8080/",
          "height": 601,
          "referenced_widgets": [
            "9172735761854269854e6cc32230e2af",
            "0bbf8db85dfc4961aba235c490512718",
            "62706d579ba54165b3b34fdf685452f5",
            "10635a8d2e574af9844c4cf4b02ca7de",
            "c9e1e2cf8aa643dfbd5a2c407745033e",
            "a506840f9d9a432992c32b2956366c61",
            "156e3b1ca8f64b4b89e1f6ddef02bd7d",
            "0a3ed1b3560543a4a8123fc31e79fb99"
          ]
        },
        "id": "FtoGBCNxNivG",
        "outputId": "79e569cd-a5e6-4893-d5ad-55a36c8b3e7e"
      },
      "execution_count": 19,
      "outputs": [
        {
          "output_type": "display_data",
          "data": {
            "text/plain": [
              "<IPython.core.display.HTML object>"
            ],
            "text/html": [
              "Finishing last run (ID:q9uwzqzs) before initializing another..."
            ]
          },
          "metadata": {}
        },
        {
          "output_type": "display_data",
          "data": {
            "text/plain": [
              "<IPython.core.display.HTML object>"
            ],
            "text/html": [
              "Waiting for W&B process to finish... <strong style=\"color:green\">(success).</strong>"
            ]
          },
          "metadata": {}
        },
        {
          "output_type": "display_data",
          "data": {
            "text/plain": [
              "VBox(children=(Label(value='0.104 MB of 0.104 MB uploaded (0.000 MB deduped)\\r'), FloatProgress(value=1.0, max…"
            ],
            "application/vnd.jupyter.widget-view+json": {
              "version_major": 2,
              "version_minor": 0,
              "model_id": "9172735761854269854e6cc32230e2af"
            }
          },
          "metadata": {}
        },
        {
          "output_type": "display_data",
          "data": {
            "text/plain": [
              "<IPython.core.display.HTML object>"
            ],
            "text/html": [
              " View run <strong style=\"color:#cdcd00\">visionary-sun-1</strong> at: <a href='https://wandb.ai/tim-w/error-bar-plotting-v3/runs/q9uwzqzs' target=\"_blank\">https://wandb.ai/tim-w/error-bar-plotting-v3/runs/q9uwzqzs</a><br/> View job at <a href='https://wandb.ai/tim-w/error-bar-plotting-v3/jobs/QXJ0aWZhY3RDb2xsZWN0aW9uOjkzOTI2NDAz/version_details/v0' target=\"_blank\">https://wandb.ai/tim-w/error-bar-plotting-v3/jobs/QXJ0aWZhY3RDb2xsZWN0aW9uOjkzOTI2NDAz/version_details/v0</a><br/>Synced 4 W&B file(s), 0 media file(s), 10 artifact file(s) and 1 other file(s)"
            ]
          },
          "metadata": {}
        },
        {
          "output_type": "display_data",
          "data": {
            "text/plain": [
              "<IPython.core.display.HTML object>"
            ],
            "text/html": [
              "Find logs at: <code>./wandb/run-20230830_205810-q9uwzqzs/logs</code>"
            ]
          },
          "metadata": {}
        },
        {
          "output_type": "display_data",
          "data": {
            "text/plain": [
              "<IPython.core.display.HTML object>"
            ],
            "text/html": [
              "Successfully finished last run (ID:q9uwzqzs). Initializing new run:<br/>"
            ]
          },
          "metadata": {}
        },
        {
          "output_type": "display_data",
          "data": {
            "text/plain": [
              "<IPython.core.display.HTML object>"
            ],
            "text/html": [
              "Tracking run with wandb version 0.15.9"
            ]
          },
          "metadata": {}
        },
        {
          "output_type": "display_data",
          "data": {
            "text/plain": [
              "<IPython.core.display.HTML object>"
            ],
            "text/html": [
              "Run data is saved locally in <code>/content/wandb/run-20230830_205909-rkzaiaoj</code>"
            ]
          },
          "metadata": {}
        },
        {
          "output_type": "display_data",
          "data": {
            "text/plain": [
              "<IPython.core.display.HTML object>"
            ],
            "text/html": [
              "Syncing run <strong><a href='https://wandb.ai/tim-w/error-bar-plotting-v3/runs/rkzaiaoj' target=\"_blank\">likely-yogurt-2</a></strong> to <a href='https://wandb.ai/tim-w/error-bar-plotting-v3' target=\"_blank\">Weights & Biases</a> (<a href='https://wandb.me/run' target=\"_blank\">docs</a>)<br/>"
            ]
          },
          "metadata": {}
        },
        {
          "output_type": "display_data",
          "data": {
            "text/plain": [
              "<IPython.core.display.HTML object>"
            ],
            "text/html": [
              " View project at <a href='https://wandb.ai/tim-w/error-bar-plotting-v3' target=\"_blank\">https://wandb.ai/tim-w/error-bar-plotting-v3</a>"
            ]
          },
          "metadata": {}
        },
        {
          "output_type": "display_data",
          "data": {
            "text/plain": [
              "<IPython.core.display.HTML object>"
            ],
            "text/html": [
              " View run at <a href='https://wandb.ai/tim-w/error-bar-plotting-v3/runs/rkzaiaoj' target=\"_blank\">https://wandb.ai/tim-w/error-bar-plotting-v3/runs/rkzaiaoj</a>"
            ]
          },
          "metadata": {}
        },
        {
          "output_type": "display_data",
          "data": {
            "text/plain": [
              "<IPython.core.display.HTML object>"
            ],
            "text/html": [
              "Waiting for W&B process to finish... <strong style=\"color:green\">(success).</strong>"
            ]
          },
          "metadata": {}
        },
        {
          "output_type": "display_data",
          "data": {
            "text/plain": [
              "<IPython.core.display.HTML object>"
            ],
            "text/html": [
              "<style>\n",
              "    table.wandb td:nth-child(1) { padding: 0 10px; text-align: left ; width: auto;} td:nth-child(2) {text-align: left ; width: 100%}\n",
              "    .wandb-row { display: flex; flex-direction: row; flex-wrap: wrap; justify-content: flex-start; width: 100% }\n",
              "    .wandb-col { display: flex; flex-direction: column; flex-basis: 100%; flex: 1; padding: 10px; }\n",
              "    </style>\n",
              "<div class=\"wandb-row\"><div class=\"wandb-col\"><h3>Run history:</h3><br/><table class=\"wandb\"><tr><td>step</td><td>▁▂▃▃▄▅▆▆▇█</td></tr><tr><td>x</td><td>▅▁▆▁▁▇█▇▅█</td></tr><tr><td>x_lower</td><td>▆▁▇▁▁▇█▇▅█</td></tr><tr><td>x_upper</td><td>▅▂▅▁▂▇█▇▅█</td></tr><tr><td>y</td><td>▁▅▇▂▆▄▅▄█▄</td></tr><tr><td>y_lower</td><td>▁▅█▃▄▄▆▃▆▅</td></tr><tr><td>y_upper</td><td>▂▅▄▁▇▄▂▅█▂</td></tr></table><br/></div><div class=\"wandb-col\"><h3>Run summary:</h3><br/><table class=\"wandb\"><tr><td>step</td><td>9</td></tr><tr><td>x</td><td>1.3045</td></tr><tr><td>x_lower</td><td>1.112</td></tr><tr><td>x_upper</td><td>1.497</td></tr><tr><td>y</td><td>-0.12543</td></tr><tr><td>y_lower</td><td>-0.51005</td></tr><tr><td>y_upper</td><td>0.25919</td></tr></table><br/></div></div>"
            ]
          },
          "metadata": {}
        },
        {
          "output_type": "display_data",
          "data": {
            "text/plain": [
              "<IPython.core.display.HTML object>"
            ],
            "text/html": [
              " View run <strong style=\"color:#cdcd00\">likely-yogurt-2</strong> at: <a href='https://wandb.ai/tim-w/error-bar-plotting-v3/runs/rkzaiaoj' target=\"_blank\">https://wandb.ai/tim-w/error-bar-plotting-v3/runs/rkzaiaoj</a><br/>Synced 4 W&B file(s), 2 media file(s), 2 artifact file(s) and 0 other file(s)"
            ]
          },
          "metadata": {}
        },
        {
          "output_type": "display_data",
          "data": {
            "text/plain": [
              "<IPython.core.display.HTML object>"
            ],
            "text/html": [
              "Find logs at: <code>./wandb/run-20230830_205909-rkzaiaoj/logs</code>"
            ]
          },
          "metadata": {}
        }
      ]
    },
    {
      "cell_type": "code",
      "source": [],
      "metadata": {
        "id": "pzEVtfwhPPOg"
      },
      "execution_count": null,
      "outputs": []
    }
  ]
}