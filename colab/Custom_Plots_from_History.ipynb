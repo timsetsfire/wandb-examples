{
  "nbformat": 4,
  "nbformat_minor": 0,
  "metadata": {
    "colab": {
      "provenance": [],
      "authorship_tag": "ABX9TyNiYNJpDRgIGJK6l+VpqwNU",
      "include_colab_link": true
    },
    "kernelspec": {
      "name": "python3",
      "display_name": "Python 3"
    },
    "language_info": {
      "name": "python"
    }
  },
  "cells": [
    {
      "cell_type": "markdown",
      "metadata": {
        "id": "view-in-github",
        "colab_type": "text"
      },
      "source": [
        "<a href=\"https://colab.research.google.com/github/timsetsfire/wandb-examples/blob/main/colab/Custom_Plots_from_History.ipynb\" target=\"_parent\"><img src=\"https://colab.research.google.com/assets/colab-badge.svg\" alt=\"Open In Colab\"/></a>"
      ]
    },
    {
      "cell_type": "code",
      "source": [
        "%%capture\n",
        "!pip install wandb"
      ],
      "metadata": {
        "id": "ZqAeVcDzNmOR"
      },
      "execution_count": 1,
      "outputs": []
    },
    {
      "cell_type": "code",
      "execution_count": 2,
      "metadata": {
        "id": "Nm92n_hlNf2T"
      },
      "outputs": [],
      "source": [
        "import wandb\n",
        "import numpy as np\n",
        "from typing import TYPE_CHECKING, Any\n",
        "\n",
        "class CustomChartFromHistory(wandb.viz.CustomChart):\n",
        "    @staticmethod\n",
        "    def user_query(table_name) -> dict[str, Any]:\n",
        "        return {\n",
        "            \"queryFields\": [\n",
        "                {\n",
        "                    \"name\": \"runSets\",\n",
        "                    \"args\": [\n",
        "                        {\"name\": \"runSets\", \"value\": \"${runSets}\"},\n",
        "                        {\"name\": \"limit\", \"value\": 500}\n",
        "                        ],\n",
        "                    \"fields\": [\n",
        "                        {\"name\": \"id\", \"fields\": []},\n",
        "                        {\"name\": \"name\", \"fields\": []},\n",
        "                        {\"name\": \"_defaultColorIndex\", \"fields\": []},\n",
        "                        {\n",
        "                            \"name\": \"history\",\n",
        "                            \"args\": [{\"name\": \"keys\", \"value\": CustomChartFromHistory.fields },],\n",
        "                            \"fields\": [],\n",
        "                        },\n",
        "                    ],\n",
        "                }\n",
        "            ],\n",
        "        }\n",
        "\n",
        "def log_custom_history_plot(wandb_run, vega_spec, panel_name, fields, str_fields):\n",
        "  CustomChartFromHistory.fields = list(fields.values())\n",
        "  # fields = dict(upper = \"upper\", lower = \"lower\", center = \"center\", index = \"step\")\n",
        "  # str_fields = dict(title = \"x with errors bars\")\n",
        "  chart = CustomChartFromHistory(vega_spec, None, fields, str_fields)\n",
        "  wandb_run.log({panel_name: chart})"
      ]
    },
    {
      "cell_type": "code",
      "source": [
        "import numpy as np\n",
        "\n",
        "wandb.init(project = \"error-bar-plotting-v3\", entity = \"tim-w\")\n",
        "\n",
        "## you would run this for each error bar you want to plot in wandb.\n",
        "log_custom_history_plot(wandb.run, \"tim-w/error-bands-3\", \"error-plots/x_plot\", dict(center = \"x\", upper = \"x_upper\", lower = \"x_lower\", index = \"step\"), str_fields = dict(title = \"x +/- std\"))\n",
        "log_custom_history_plot(wandb.run, \"tim-w/error-bands-3\", \"error-plots/y_plot\", dict(center = \"y\", upper = \"y_upper\", lower = \"y_lower\", index = \"step\"), str_fields = dict(title = \"y +/- std\"))\n",
        "\n",
        "for i in range(100):\n",
        "  x = np.random.randn()\n",
        "  y = np.random.randn()\n",
        "  x_std = np.random.rand() / 2\n",
        "  y_std = np.random.rand() * 2\n",
        "  wandb.log(dict(x = x, x_upper = x+x_std, x_lower = x-x_std, step = i, y = y, y_upper = y+y_std, y_lower = y-y_std))\n",
        "wandb.finish()"
      ],
      "metadata": {
        "colab": {
          "base_uri": "https://localhost:8080/",
          "height": 451
        },
        "id": "FtoGBCNxNivG",
        "outputId": "c8f3e446-e331-47c3-ae93-c5fb529e637b"
      },
      "execution_count": 3,
      "outputs": [
        {
          "output_type": "stream",
          "name": "stderr",
          "text": [
            "\u001b[34m\u001b[1mwandb\u001b[0m: Currently logged in as: \u001b[33mtim-w\u001b[0m. Use \u001b[1m`wandb login --relogin`\u001b[0m to force relogin\n"
          ]
        },
        {
          "output_type": "display_data",
          "data": {
            "text/plain": [
              "<IPython.core.display.HTML object>"
            ],
            "text/html": [
              "Tracking run with wandb version 0.15.9"
            ]
          },
          "metadata": {}
        },
        {
          "output_type": "display_data",
          "data": {
            "text/plain": [
              "<IPython.core.display.HTML object>"
            ],
            "text/html": [
              "Run data is saved locally in <code>/content/wandb/run-20230831_175813-2v7cdnbn</code>"
            ]
          },
          "metadata": {}
        },
        {
          "output_type": "display_data",
          "data": {
            "text/plain": [
              "<IPython.core.display.HTML object>"
            ],
            "text/html": [
              "Syncing run <strong><a href='https://wandb.ai/tim-w/error-bar-plotting-v3/runs/2v7cdnbn' target=\"_blank\">helpful-firefly-9</a></strong> to <a href='https://wandb.ai/tim-w/error-bar-plotting-v3' target=\"_blank\">Weights & Biases</a> (<a href='https://wandb.me/run' target=\"_blank\">docs</a>)<br/>"
            ]
          },
          "metadata": {}
        },
        {
          "output_type": "display_data",
          "data": {
            "text/plain": [
              "<IPython.core.display.HTML object>"
            ],
            "text/html": [
              " View project at <a href='https://wandb.ai/tim-w/error-bar-plotting-v3' target=\"_blank\">https://wandb.ai/tim-w/error-bar-plotting-v3</a>"
            ]
          },
          "metadata": {}
        },
        {
          "output_type": "display_data",
          "data": {
            "text/plain": [
              "<IPython.core.display.HTML object>"
            ],
            "text/html": [
              " View run at <a href='https://wandb.ai/tim-w/error-bar-plotting-v3/runs/2v7cdnbn' target=\"_blank\">https://wandb.ai/tim-w/error-bar-plotting-v3/runs/2v7cdnbn</a>"
            ]
          },
          "metadata": {}
        },
        {
          "output_type": "display_data",
          "data": {
            "text/plain": [
              "<IPython.core.display.HTML object>"
            ],
            "text/html": [
              "Waiting for W&B process to finish... <strong style=\"color:green\">(success).</strong>"
            ]
          },
          "metadata": {}
        },
        {
          "output_type": "display_data",
          "data": {
            "text/plain": [
              "<IPython.core.display.HTML object>"
            ],
            "text/html": [
              "<style>\n",
              "    table.wandb td:nth-child(1) { padding: 0 10px; text-align: left ; width: auto;} td:nth-child(2) {text-align: left ; width: 100%}\n",
              "    .wandb-row { display: flex; flex-direction: row; flex-wrap: wrap; justify-content: flex-start; width: 100% }\n",
              "    .wandb-col { display: flex; flex-direction: column; flex-basis: 100%; flex: 1; padding: 10px; }\n",
              "    </style>\n",
              "<div class=\"wandb-row\"><div class=\"wandb-col\"><h3>Run history:</h3><br/><table class=\"wandb\"><tr><td>step</td><td>▁▁▁▁▂▂▂▂▂▃▃▃▃▃▃▄▄▄▄▄▅▅▅▅▅▅▆▆▆▆▆▇▇▇▇▇▇███</td></tr><tr><td>x</td><td>▄▅▅█▁▅█▃▂▃▃▆▄▁▇▆▅▄▅▆▄▃▃▆▅▃▆▂▆▃▅▅▆▅▄▇▆█▅▆</td></tr><tr><td>x_lower</td><td>▃▅▅█▁▅▇▃▂▃▃▅▃▁▇▆▄▄▅▆▄▂▃▆▅▃▆▁▆▃▄▅▆▅▄▆▅█▄▅</td></tr><tr><td>x_upper</td><td>▄▄▅█▁▅█▂▂▄▃▆▄▁█▆▅▅▆▆▅▃▃▆▆▂▆▃▅▄▅▅▆▆▅▇▆▇▅▆</td></tr><tr><td>y</td><td>▅█▆▆▄▃▃▃▆▅▃▆█▄▄▆▅▁▆▄▆▄▇▆▄▅▄▅▄▇▇▇▅▅▆▆▄▃▆▄</td></tr><tr><td>y_lower</td><td>▃▇▆▆▅▁▃▁▄▄▂▅█▄▃▆▅▂▄▅▆▂▅▅▄▃▃▃▃▇▇▆▄▆▆▅▃▁▆▃</td></tr><tr><td>y_upper</td><td>▆▇▆▅▄▅▃▅▇▆▅▇▇▅▅▅▅▁▇▄▅▆█▇▄▆▅▆▅▆▆█▅▅▅▆▅▄▅▅</td></tr></table><br/></div><div class=\"wandb-col\"><h3>Run summary:</h3><br/><table class=\"wandb\"><tr><td>step</td><td>99</td></tr><tr><td>x</td><td>0.73614</td></tr><tr><td>x_lower</td><td>0.40863</td></tr><tr><td>x_upper</td><td>1.06366</td></tr><tr><td>y</td><td>-0.55021</td></tr><tr><td>y_lower</td><td>-1.84643</td></tr><tr><td>y_upper</td><td>0.74601</td></tr></table><br/></div></div>"
            ]
          },
          "metadata": {}
        },
        {
          "output_type": "display_data",
          "data": {
            "text/plain": [
              "<IPython.core.display.HTML object>"
            ],
            "text/html": [
              " View run <strong style=\"color:#cdcd00\">helpful-firefly-9</strong> at: <a href='https://wandb.ai/tim-w/error-bar-plotting-v3/runs/2v7cdnbn' target=\"_blank\">https://wandb.ai/tim-w/error-bar-plotting-v3/runs/2v7cdnbn</a><br/> View job at <a href='https://wandb.ai/tim-w/error-bar-plotting-v3/jobs/QXJ0aWZhY3RDb2xsZWN0aW9uOjk0MTIzOTY4/version_details/v1' target=\"_blank\">https://wandb.ai/tim-w/error-bar-plotting-v3/jobs/QXJ0aWZhY3RDb2xsZWN0aW9uOjk0MTIzOTY4/version_details/v1</a><br/>Synced 4 W&B file(s), 0 media file(s), 4 artifact file(s) and 1 other file(s)"
            ]
          },
          "metadata": {}
        },
        {
          "output_type": "display_data",
          "data": {
            "text/plain": [
              "<IPython.core.display.HTML object>"
            ],
            "text/html": [
              "Find logs at: <code>./wandb/run-20230831_175813-2v7cdnbn/logs</code>"
            ]
          },
          "metadata": {}
        }
      ]
    },
    {
      "cell_type": "code",
      "source": [],
      "metadata": {
        "id": "pzEVtfwhPPOg"
      },
      "execution_count": 3,
      "outputs": []
    }
  ]
}