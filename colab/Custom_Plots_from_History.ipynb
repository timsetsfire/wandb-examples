{
  "nbformat": 4,
  "nbformat_minor": 0,
  "metadata": {
    "colab": {
      "provenance": [],
      "authorship_tag": "ABX9TyP8TKzOXIaXhxclXaZC3RCA",
      "include_colab_link": true
    },
    "kernelspec": {
      "name": "python3",
      "display_name": "Python 3"
    },
    "language_info": {
      "name": "python"
    },
    "widgets": {
      "application/vnd.jupyter.widget-state+json": {
        "0f685a2e07c741a5be4cac595cc8b7bf": {
          "model_module": "@jupyter-widgets/controls",
          "model_name": "VBoxModel",
          "model_module_version": "1.5.0",
          "state": {
            "_dom_classes": [],
            "_model_module": "@jupyter-widgets/controls",
            "_model_module_version": "1.5.0",
            "_model_name": "VBoxModel",
            "_view_count": null,
            "_view_module": "@jupyter-widgets/controls",
            "_view_module_version": "1.5.0",
            "_view_name": "VBoxView",
            "box_style": "",
            "children": [
              "IPY_MODEL_979fc7e9929b4aa39612b29fc7859250",
              "IPY_MODEL_ff5c18f06b65425fbdf8635c2eec760a"
            ],
            "layout": "IPY_MODEL_d9112fa2ad764f38b8e27a452736fca6"
          }
        },
        "979fc7e9929b4aa39612b29fc7859250": {
          "model_module": "@jupyter-widgets/controls",
          "model_name": "LabelModel",
          "model_module_version": "1.5.0",
          "state": {
            "_dom_classes": [],
            "_model_module": "@jupyter-widgets/controls",
            "_model_module_version": "1.5.0",
            "_model_name": "LabelModel",
            "_view_count": null,
            "_view_module": "@jupyter-widgets/controls",
            "_view_module_version": "1.5.0",
            "_view_name": "LabelView",
            "description": "",
            "description_tooltip": null,
            "layout": "IPY_MODEL_58ec00d3098047fc9499046a579f97a1",
            "placeholder": "​",
            "style": "IPY_MODEL_fa361f9ec7624cf189fd548887360aef",
            "value": "0.011 MB of 0.011 MB uploaded (0.000 MB deduped)\r"
          }
        },
        "ff5c18f06b65425fbdf8635c2eec760a": {
          "model_module": "@jupyter-widgets/controls",
          "model_name": "FloatProgressModel",
          "model_module_version": "1.5.0",
          "state": {
            "_dom_classes": [],
            "_model_module": "@jupyter-widgets/controls",
            "_model_module_version": "1.5.0",
            "_model_name": "FloatProgressModel",
            "_view_count": null,
            "_view_module": "@jupyter-widgets/controls",
            "_view_module_version": "1.5.0",
            "_view_name": "ProgressView",
            "bar_style": "",
            "description": "",
            "description_tooltip": null,
            "layout": "IPY_MODEL_0553aac2cf7a4519aea85d6abac03ea3",
            "max": 1,
            "min": 0,
            "orientation": "horizontal",
            "style": "IPY_MODEL_bd0e446b9d8944e1af85393ef23f8d46",
            "value": 1
          }
        },
        "d9112fa2ad764f38b8e27a452736fca6": {
          "model_module": "@jupyter-widgets/base",
          "model_name": "LayoutModel",
          "model_module_version": "1.2.0",
          "state": {
            "_model_module": "@jupyter-widgets/base",
            "_model_module_version": "1.2.0",
            "_model_name": "LayoutModel",
            "_view_count": null,
            "_view_module": "@jupyter-widgets/base",
            "_view_module_version": "1.2.0",
            "_view_name": "LayoutView",
            "align_content": null,
            "align_items": null,
            "align_self": null,
            "border": null,
            "bottom": null,
            "display": null,
            "flex": null,
            "flex_flow": null,
            "grid_area": null,
            "grid_auto_columns": null,
            "grid_auto_flow": null,
            "grid_auto_rows": null,
            "grid_column": null,
            "grid_gap": null,
            "grid_row": null,
            "grid_template_areas": null,
            "grid_template_columns": null,
            "grid_template_rows": null,
            "height": null,
            "justify_content": null,
            "justify_items": null,
            "left": null,
            "margin": null,
            "max_height": null,
            "max_width": null,
            "min_height": null,
            "min_width": null,
            "object_fit": null,
            "object_position": null,
            "order": null,
            "overflow": null,
            "overflow_x": null,
            "overflow_y": null,
            "padding": null,
            "right": null,
            "top": null,
            "visibility": null,
            "width": null
          }
        },
        "58ec00d3098047fc9499046a579f97a1": {
          "model_module": "@jupyter-widgets/base",
          "model_name": "LayoutModel",
          "model_module_version": "1.2.0",
          "state": {
            "_model_module": "@jupyter-widgets/base",
            "_model_module_version": "1.2.0",
            "_model_name": "LayoutModel",
            "_view_count": null,
            "_view_module": "@jupyter-widgets/base",
            "_view_module_version": "1.2.0",
            "_view_name": "LayoutView",
            "align_content": null,
            "align_items": null,
            "align_self": null,
            "border": null,
            "bottom": null,
            "display": null,
            "flex": null,
            "flex_flow": null,
            "grid_area": null,
            "grid_auto_columns": null,
            "grid_auto_flow": null,
            "grid_auto_rows": null,
            "grid_column": null,
            "grid_gap": null,
            "grid_row": null,
            "grid_template_areas": null,
            "grid_template_columns": null,
            "grid_template_rows": null,
            "height": null,
            "justify_content": null,
            "justify_items": null,
            "left": null,
            "margin": null,
            "max_height": null,
            "max_width": null,
            "min_height": null,
            "min_width": null,
            "object_fit": null,
            "object_position": null,
            "order": null,
            "overflow": null,
            "overflow_x": null,
            "overflow_y": null,
            "padding": null,
            "right": null,
            "top": null,
            "visibility": null,
            "width": null
          }
        },
        "fa361f9ec7624cf189fd548887360aef": {
          "model_module": "@jupyter-widgets/controls",
          "model_name": "DescriptionStyleModel",
          "model_module_version": "1.5.0",
          "state": {
            "_model_module": "@jupyter-widgets/controls",
            "_model_module_version": "1.5.0",
            "_model_name": "DescriptionStyleModel",
            "_view_count": null,
            "_view_module": "@jupyter-widgets/base",
            "_view_module_version": "1.2.0",
            "_view_name": "StyleView",
            "description_width": ""
          }
        },
        "0553aac2cf7a4519aea85d6abac03ea3": {
          "model_module": "@jupyter-widgets/base",
          "model_name": "LayoutModel",
          "model_module_version": "1.2.0",
          "state": {
            "_model_module": "@jupyter-widgets/base",
            "_model_module_version": "1.2.0",
            "_model_name": "LayoutModel",
            "_view_count": null,
            "_view_module": "@jupyter-widgets/base",
            "_view_module_version": "1.2.0",
            "_view_name": "LayoutView",
            "align_content": null,
            "align_items": null,
            "align_self": null,
            "border": null,
            "bottom": null,
            "display": null,
            "flex": null,
            "flex_flow": null,
            "grid_area": null,
            "grid_auto_columns": null,
            "grid_auto_flow": null,
            "grid_auto_rows": null,
            "grid_column": null,
            "grid_gap": null,
            "grid_row": null,
            "grid_template_areas": null,
            "grid_template_columns": null,
            "grid_template_rows": null,
            "height": null,
            "justify_content": null,
            "justify_items": null,
            "left": null,
            "margin": null,
            "max_height": null,
            "max_width": null,
            "min_height": null,
            "min_width": null,
            "object_fit": null,
            "object_position": null,
            "order": null,
            "overflow": null,
            "overflow_x": null,
            "overflow_y": null,
            "padding": null,
            "right": null,
            "top": null,
            "visibility": null,
            "width": null
          }
        },
        "bd0e446b9d8944e1af85393ef23f8d46": {
          "model_module": "@jupyter-widgets/controls",
          "model_name": "ProgressStyleModel",
          "model_module_version": "1.5.0",
          "state": {
            "_model_module": "@jupyter-widgets/controls",
            "_model_module_version": "1.5.0",
            "_model_name": "ProgressStyleModel",
            "_view_count": null,
            "_view_module": "@jupyter-widgets/base",
            "_view_module_version": "1.2.0",
            "_view_name": "StyleView",
            "bar_color": null,
            "description_width": ""
          }
        }
      }
    }
  },
  "cells": [
    {
      "cell_type": "markdown",
      "metadata": {
        "id": "view-in-github",
        "colab_type": "text"
      },
      "source": [
        "<a href=\"https://colab.research.google.com/github/timsetsfire/wandb-examples/blob/main/colab/Custom_Plots_from_History.ipynb\" target=\"_parent\"><img src=\"https://colab.research.google.com/assets/colab-badge.svg\" alt=\"Open In Colab\"/></a>"
      ]
    },
    {
      "cell_type": "code",
      "source": [
        "%%capture\n",
        "!pip install wandb"
      ],
      "metadata": {
        "id": "ZqAeVcDzNmOR"
      },
      "execution_count": 1,
      "outputs": []
    },
    {
      "cell_type": "code",
      "execution_count": 2,
      "metadata": {
        "id": "Nm92n_hlNf2T"
      },
      "outputs": [],
      "source": [
        "import wandb\n",
        "import numpy as np\n",
        "from typing import TYPE_CHECKING, Any\n",
        "\n",
        "class CustomChartFromHistory(wandb.viz.CustomChart):\n",
        "    @staticmethod\n",
        "    def user_query(table_name) -> dict[str, Any]:\n",
        "        return {\n",
        "            \"queryFields\": [\n",
        "                {\n",
        "                    \"name\": \"runSets\",\n",
        "                    \"args\": [\n",
        "                        {\"name\": \"runSets\", \"value\": \"${runSets}\"},\n",
        "                        {\"name\": \"limit\", \"value\": 500}\n",
        "                        ],\n",
        "                    \"fields\": [\n",
        "                        {\"name\": \"id\", \"fields\": []},\n",
        "                        {\"name\": \"name\", \"fields\": []},\n",
        "                        {\"name\": \"_defaultColorIndex\", \"fields\": []},\n",
        "                        {\n",
        "                            \"name\": \"history\",\n",
        "                            \"args\": [{\"name\": \"keys\", \"value\": CustomChartFromHistory.fields },],\n",
        "                            \"fields\": [],\n",
        "                        },\n",
        "                    ],\n",
        "                }\n",
        "            ],\n",
        "        }\n",
        "\n",
        ""
      ]
    },
    {
      "cell_type": "code",
      "source": [
        "import numpy as np\n",
        "wandb.init(project = \"error-bar-plotting-v3\", entity = \"tim-w\")\n",
        "\n",
        "\n",
        "def log_custom_history_plot(wandb_run, log_as, fields, str_fields):\n",
        "  CustomChartFromHistory.fields = list(fields.values())\n",
        "  # fields = dict(upper = \"upper\", lower = \"lower\", center = \"center\", index = \"step\")\n",
        "  # str_fields = dict(title = \"x with errors bars\")\n",
        "  chart = CustomChartFromHistory(\"tim-w/error-bands-3\", None, fields, str_fields)\n",
        "  wandb_run.log({log_as: chart})\n",
        "\n",
        "log_custom_history_plot(wandb.run, \"x_plot\", dict(center = \"x\", upper = \"x_upper\", lower = \"x_lower\", index = \"step\"), str_fields = dict(title = \"x +/- std\"))\n",
        "log_custom_history_plot(wandb.run, \"y_plot\", dict(center = \"y\", upper = \"y_upper\", lower = \"y_lower\", index = \"step\"), str_fields = dict(title = \"y +/- std\"))\n",
        "\n",
        "\n",
        "for i in range(100):\n",
        "  x = np.random.randn()\n",
        "  y = np.random.randn()\n",
        "  x_std = np.random.rand() / 2\n",
        "  y_std = np.random.rand() * 2\n",
        "  wandb.log(dict(x = x, x_upper = x+x_std, x_lower = x-x_std, step = i, y = y, y_upper = y+y_std, y_lower = y-y_std))\n",
        "wandb.finish()"
      ],
      "metadata": {
        "colab": {
          "base_uri": "https://localhost:8080/",
          "height": 516,
          "referenced_widgets": [
            "0f685a2e07c741a5be4cac595cc8b7bf",
            "979fc7e9929b4aa39612b29fc7859250",
            "ff5c18f06b65425fbdf8635c2eec760a",
            "d9112fa2ad764f38b8e27a452736fca6",
            "58ec00d3098047fc9499046a579f97a1",
            "fa361f9ec7624cf189fd548887360aef",
            "0553aac2cf7a4519aea85d6abac03ea3",
            "bd0e446b9d8944e1af85393ef23f8d46"
          ]
        },
        "id": "FtoGBCNxNivG",
        "outputId": "b35581a5-768f-463a-a63b-17fd48a9afb6"
      },
      "execution_count": 3,
      "outputs": [
        {
          "output_type": "stream",
          "name": "stderr",
          "text": [
            "\u001b[34m\u001b[1mwandb\u001b[0m: Currently logged in as: \u001b[33mtim-w\u001b[0m. Use \u001b[1m`wandb login --relogin`\u001b[0m to force relogin\n"
          ]
        },
        {
          "output_type": "display_data",
          "data": {
            "text/plain": [
              "<IPython.core.display.HTML object>"
            ],
            "text/html": [
              "Tracking run with wandb version 0.15.9"
            ]
          },
          "metadata": {}
        },
        {
          "output_type": "display_data",
          "data": {
            "text/plain": [
              "<IPython.core.display.HTML object>"
            ],
            "text/html": [
              "Run data is saved locally in <code>/content/wandb/run-20230830_230344-2riw7p2m</code>"
            ]
          },
          "metadata": {}
        },
        {
          "output_type": "display_data",
          "data": {
            "text/plain": [
              "<IPython.core.display.HTML object>"
            ],
            "text/html": [
              "Syncing run <strong><a href='https://wandb.ai/tim-w/error-bar-plotting-v3/runs/2riw7p2m' target=\"_blank\">resilient-capybara-4</a></strong> to <a href='https://wandb.ai/tim-w/error-bar-plotting-v3' target=\"_blank\">Weights & Biases</a> (<a href='https://wandb.me/run' target=\"_blank\">docs</a>)<br/>"
            ]
          },
          "metadata": {}
        },
        {
          "output_type": "display_data",
          "data": {
            "text/plain": [
              "<IPython.core.display.HTML object>"
            ],
            "text/html": [
              " View project at <a href='https://wandb.ai/tim-w/error-bar-plotting-v3' target=\"_blank\">https://wandb.ai/tim-w/error-bar-plotting-v3</a>"
            ]
          },
          "metadata": {}
        },
        {
          "output_type": "display_data",
          "data": {
            "text/plain": [
              "<IPython.core.display.HTML object>"
            ],
            "text/html": [
              " View run at <a href='https://wandb.ai/tim-w/error-bar-plotting-v3/runs/2riw7p2m' target=\"_blank\">https://wandb.ai/tim-w/error-bar-plotting-v3/runs/2riw7p2m</a>"
            ]
          },
          "metadata": {}
        },
        {
          "output_type": "display_data",
          "data": {
            "text/plain": [
              "<IPython.core.display.HTML object>"
            ],
            "text/html": [
              "Waiting for W&B process to finish... <strong style=\"color:green\">(success).</strong>"
            ]
          },
          "metadata": {}
        },
        {
          "output_type": "display_data",
          "data": {
            "text/plain": [
              "VBox(children=(Label(value='0.011 MB of 0.011 MB uploaded (0.000 MB deduped)\\r'), FloatProgress(value=1.0, max…"
            ],
            "application/vnd.jupyter.widget-view+json": {
              "version_major": 2,
              "version_minor": 0,
              "model_id": "0f685a2e07c741a5be4cac595cc8b7bf"
            }
          },
          "metadata": {}
        },
        {
          "output_type": "display_data",
          "data": {
            "text/plain": [
              "<IPython.core.display.HTML object>"
            ],
            "text/html": [
              "<style>\n",
              "    table.wandb td:nth-child(1) { padding: 0 10px; text-align: left ; width: auto;} td:nth-child(2) {text-align: left ; width: 100%}\n",
              "    .wandb-row { display: flex; flex-direction: row; flex-wrap: wrap; justify-content: flex-start; width: 100% }\n",
              "    .wandb-col { display: flex; flex-direction: column; flex-basis: 100%; flex: 1; padding: 10px; }\n",
              "    </style>\n",
              "<div class=\"wandb-row\"><div class=\"wandb-col\"><h3>Run history:</h3><br/><table class=\"wandb\"><tr><td>step</td><td>▁▁▁▁▂▂▂▂▂▃▃▃▃▃▃▄▄▄▄▄▅▅▅▅▅▅▆▆▆▆▆▇▇▇▇▇▇███</td></tr><tr><td>x</td><td>▄▅▅▃▆▅▇▅▆▃▆▅▅▅▂▄▄▄▃▃▄▆▇▃▄▅▄▆▅▆▄▅▄▆▃▄▃▃▁█</td></tr><tr><td>x_lower</td><td>▄▄▅▃▅▄▇▅▆▃▆▅▄▅▂▃▄▃▂▃▄▆▆▂▃▅▄▆▅▆▄▅▄▆▃▃▃▂▁█</td></tr><tr><td>x_upper</td><td>▄▅▅▃▆▅█▆▆▃▇▆▅▅▃▄▄▅▄▃▅▇▇▃▄▆▅▇▅▆▄▅▄▇▃▄▃▃▁█</td></tr><tr><td>y</td><td>▄▅▃▂▇▄█▄▆▅▆▃▆▇▃▄▄▆▃▂▅▆▅▃▅▇▄▄▅▃▅▇▂█▆▇█▃▁▆</td></tr><tr><td>y_lower</td><td>▄▃▁▃▆▄█▄▆▃▆▄▄▇▃▃▄▅▃▂▅▄▃▁▃▅▃▂▃▂▄▆▂█▆▆█▄▂▅</td></tr><tr><td>y_upper</td><td>▄▇▆▂▆▄▇▄▆▇▅▃█▆▂▅▄▆▄▂▄█▆▅▆█▅▆▇▄▅▇▃▇▅▇▇▃▁▆</td></tr></table><br/></div><div class=\"wandb-col\"><h3>Run summary:</h3><br/><table class=\"wandb\"><tr><td>step</td><td>99</td></tr><tr><td>x</td><td>2.72234</td></tr><tr><td>x_lower</td><td>2.71629</td></tr><tr><td>x_upper</td><td>2.72839</td></tr><tr><td>y</td><td>0.81633</td></tr><tr><td>y_lower</td><td>0.03431</td></tr><tr><td>y_upper</td><td>1.59835</td></tr></table><br/></div></div>"
            ]
          },
          "metadata": {}
        },
        {
          "output_type": "display_data",
          "data": {
            "text/plain": [
              "<IPython.core.display.HTML object>"
            ],
            "text/html": [
              " View run <strong style=\"color:#cdcd00\">resilient-capybara-4</strong> at: <a href='https://wandb.ai/tim-w/error-bar-plotting-v3/runs/2riw7p2m' target=\"_blank\">https://wandb.ai/tim-w/error-bar-plotting-v3/runs/2riw7p2m</a><br/> View job at <a href='https://wandb.ai/tim-w/error-bar-plotting-v3/jobs/QXJ0aWZhY3RDb2xsZWN0aW9uOjkzOTQxODk5/version_details/v0' target=\"_blank\">https://wandb.ai/tim-w/error-bar-plotting-v3/jobs/QXJ0aWZhY3RDb2xsZWN0aW9uOjkzOTQxODk5/version_details/v0</a><br/>Synced 4 W&B file(s), 0 media file(s), 4 artifact file(s) and 1 other file(s)"
            ]
          },
          "metadata": {}
        },
        {
          "output_type": "display_data",
          "data": {
            "text/plain": [
              "<IPython.core.display.HTML object>"
            ],
            "text/html": [
              "Find logs at: <code>./wandb/run-20230830_230344-2riw7p2m/logs</code>"
            ]
          },
          "metadata": {}
        }
      ]
    },
    {
      "cell_type": "code",
      "source": [],
      "metadata": {
        "id": "pzEVtfwhPPOg"
      },
      "execution_count": 3,
      "outputs": []
    }
  ]
}