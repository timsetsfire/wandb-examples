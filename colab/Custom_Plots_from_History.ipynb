{
  "nbformat": 4,
  "nbformat_minor": 0,
  "metadata": {
    "colab": {
      "provenance": [],
      "authorship_tag": "ABX9TyO4+/p1OgZPrBLzAt44rmqL",
      "include_colab_link": true
    },
    "kernelspec": {
      "name": "python3",
      "display_name": "Python 3"
    },
    "language_info": {
      "name": "python"
    },
    "widgets": {
      "application/vnd.jupyter.widget-state+json": {
        "756f7888c98a468882122edaea6fa69c": {
          "model_module": "@jupyter-widgets/controls",
          "model_name": "VBoxModel",
          "model_module_version": "1.5.0",
          "state": {
            "_dom_classes": [],
            "_model_module": "@jupyter-widgets/controls",
            "_model_module_version": "1.5.0",
            "_model_name": "VBoxModel",
            "_view_count": null,
            "_view_module": "@jupyter-widgets/controls",
            "_view_module_version": "1.5.0",
            "_view_name": "VBoxView",
            "box_style": "",
            "children": [
              "IPY_MODEL_a085a2a38655480cb85da8bd55f36c1c",
              "IPY_MODEL_f12e70dcf4f6406ab48ea104a9a89d08"
            ],
            "layout": "IPY_MODEL_cca926e803b943328eafc39319c2d73a"
          }
        },
        "a085a2a38655480cb85da8bd55f36c1c": {
          "model_module": "@jupyter-widgets/controls",
          "model_name": "LabelModel",
          "model_module_version": "1.5.0",
          "state": {
            "_dom_classes": [],
            "_model_module": "@jupyter-widgets/controls",
            "_model_module_version": "1.5.0",
            "_model_name": "LabelModel",
            "_view_count": null,
            "_view_module": "@jupyter-widgets/controls",
            "_view_module_version": "1.5.0",
            "_view_name": "LabelView",
            "description": "",
            "description_tooltip": null,
            "layout": "IPY_MODEL_6dd855b95ca34856952672d9753c4493",
            "placeholder": "​",
            "style": "IPY_MODEL_e1edfa0e886c454fbf5c851a13609e9b",
            "value": "0.019 MB of 0.019 MB uploaded (0.000 MB deduped)\r"
          }
        },
        "f12e70dcf4f6406ab48ea104a9a89d08": {
          "model_module": "@jupyter-widgets/controls",
          "model_name": "FloatProgressModel",
          "model_module_version": "1.5.0",
          "state": {
            "_dom_classes": [],
            "_model_module": "@jupyter-widgets/controls",
            "_model_module_version": "1.5.0",
            "_model_name": "FloatProgressModel",
            "_view_count": null,
            "_view_module": "@jupyter-widgets/controls",
            "_view_module_version": "1.5.0",
            "_view_name": "ProgressView",
            "bar_style": "",
            "description": "",
            "description_tooltip": null,
            "layout": "IPY_MODEL_852fb6036cdf40558a1d74551d9a685b",
            "max": 1,
            "min": 0,
            "orientation": "horizontal",
            "style": "IPY_MODEL_7df69c781bbb4c17b919c5844d5b4f9c",
            "value": 1
          }
        },
        "cca926e803b943328eafc39319c2d73a": {
          "model_module": "@jupyter-widgets/base",
          "model_name": "LayoutModel",
          "model_module_version": "1.2.0",
          "state": {
            "_model_module": "@jupyter-widgets/base",
            "_model_module_version": "1.2.0",
            "_model_name": "LayoutModel",
            "_view_count": null,
            "_view_module": "@jupyter-widgets/base",
            "_view_module_version": "1.2.0",
            "_view_name": "LayoutView",
            "align_content": null,
            "align_items": null,
            "align_self": null,
            "border": null,
            "bottom": null,
            "display": null,
            "flex": null,
            "flex_flow": null,
            "grid_area": null,
            "grid_auto_columns": null,
            "grid_auto_flow": null,
            "grid_auto_rows": null,
            "grid_column": null,
            "grid_gap": null,
            "grid_row": null,
            "grid_template_areas": null,
            "grid_template_columns": null,
            "grid_template_rows": null,
            "height": null,
            "justify_content": null,
            "justify_items": null,
            "left": null,
            "margin": null,
            "max_height": null,
            "max_width": null,
            "min_height": null,
            "min_width": null,
            "object_fit": null,
            "object_position": null,
            "order": null,
            "overflow": null,
            "overflow_x": null,
            "overflow_y": null,
            "padding": null,
            "right": null,
            "top": null,
            "visibility": null,
            "width": null
          }
        },
        "6dd855b95ca34856952672d9753c4493": {
          "model_module": "@jupyter-widgets/base",
          "model_name": "LayoutModel",
          "model_module_version": "1.2.0",
          "state": {
            "_model_module": "@jupyter-widgets/base",
            "_model_module_version": "1.2.0",
            "_model_name": "LayoutModel",
            "_view_count": null,
            "_view_module": "@jupyter-widgets/base",
            "_view_module_version": "1.2.0",
            "_view_name": "LayoutView",
            "align_content": null,
            "align_items": null,
            "align_self": null,
            "border": null,
            "bottom": null,
            "display": null,
            "flex": null,
            "flex_flow": null,
            "grid_area": null,
            "grid_auto_columns": null,
            "grid_auto_flow": null,
            "grid_auto_rows": null,
            "grid_column": null,
            "grid_gap": null,
            "grid_row": null,
            "grid_template_areas": null,
            "grid_template_columns": null,
            "grid_template_rows": null,
            "height": null,
            "justify_content": null,
            "justify_items": null,
            "left": null,
            "margin": null,
            "max_height": null,
            "max_width": null,
            "min_height": null,
            "min_width": null,
            "object_fit": null,
            "object_position": null,
            "order": null,
            "overflow": null,
            "overflow_x": null,
            "overflow_y": null,
            "padding": null,
            "right": null,
            "top": null,
            "visibility": null,
            "width": null
          }
        },
        "e1edfa0e886c454fbf5c851a13609e9b": {
          "model_module": "@jupyter-widgets/controls",
          "model_name": "DescriptionStyleModel",
          "model_module_version": "1.5.0",
          "state": {
            "_model_module": "@jupyter-widgets/controls",
            "_model_module_version": "1.5.0",
            "_model_name": "DescriptionStyleModel",
            "_view_count": null,
            "_view_module": "@jupyter-widgets/base",
            "_view_module_version": "1.2.0",
            "_view_name": "StyleView",
            "description_width": ""
          }
        },
        "852fb6036cdf40558a1d74551d9a685b": {
          "model_module": "@jupyter-widgets/base",
          "model_name": "LayoutModel",
          "model_module_version": "1.2.0",
          "state": {
            "_model_module": "@jupyter-widgets/base",
            "_model_module_version": "1.2.0",
            "_model_name": "LayoutModel",
            "_view_count": null,
            "_view_module": "@jupyter-widgets/base",
            "_view_module_version": "1.2.0",
            "_view_name": "LayoutView",
            "align_content": null,
            "align_items": null,
            "align_self": null,
            "border": null,
            "bottom": null,
            "display": null,
            "flex": null,
            "flex_flow": null,
            "grid_area": null,
            "grid_auto_columns": null,
            "grid_auto_flow": null,
            "grid_auto_rows": null,
            "grid_column": null,
            "grid_gap": null,
            "grid_row": null,
            "grid_template_areas": null,
            "grid_template_columns": null,
            "grid_template_rows": null,
            "height": null,
            "justify_content": null,
            "justify_items": null,
            "left": null,
            "margin": null,
            "max_height": null,
            "max_width": null,
            "min_height": null,
            "min_width": null,
            "object_fit": null,
            "object_position": null,
            "order": null,
            "overflow": null,
            "overflow_x": null,
            "overflow_y": null,
            "padding": null,
            "right": null,
            "top": null,
            "visibility": null,
            "width": null
          }
        },
        "7df69c781bbb4c17b919c5844d5b4f9c": {
          "model_module": "@jupyter-widgets/controls",
          "model_name": "ProgressStyleModel",
          "model_module_version": "1.5.0",
          "state": {
            "_model_module": "@jupyter-widgets/controls",
            "_model_module_version": "1.5.0",
            "_model_name": "ProgressStyleModel",
            "_view_count": null,
            "_view_module": "@jupyter-widgets/base",
            "_view_module_version": "1.2.0",
            "_view_name": "StyleView",
            "bar_color": null,
            "description_width": ""
          }
        }
      }
    }
  },
  "cells": [
    {
      "cell_type": "markdown",
      "metadata": {
        "id": "view-in-github",
        "colab_type": "text"
      },
      "source": [
        "<a href=\"https://colab.research.google.com/github/timsetsfire/wandb-examples/blob/main/colab/Custom_Plots_from_History.ipynb\" target=\"_parent\"><img src=\"https://colab.research.google.com/assets/colab-badge.svg\" alt=\"Open In Colab\"/></a>"
      ]
    },
    {
      "cell_type": "code",
      "source": [
        "%%capture\n",
        "!pip install wandb"
      ],
      "metadata": {
        "id": "ZqAeVcDzNmOR"
      },
      "execution_count": 1,
      "outputs": []
    },
    {
      "cell_type": "code",
      "execution_count": 8,
      "metadata": {
        "id": "Nm92n_hlNf2T"
      },
      "outputs": [],
      "source": [
        "import wandb\n",
        "import numpy as np\n",
        "from typing import TYPE_CHECKING, Any\n",
        "\n",
        "class CustomChartFromHistory(wandb.viz.CustomChart):\n",
        "    @staticmethod\n",
        "    def user_query(table_name) -> dict[str, Any]:\n",
        "        return {\n",
        "            \"queryFields\": [\n",
        "                {\n",
        "                    \"name\": \"runSets\",\n",
        "                    \"args\": [\n",
        "                        {\"name\": \"runSets\", \"value\": \"${runSets}\"},\n",
        "                        {\"name\": \"limit\", \"value\": 500}\n",
        "                        ],\n",
        "                    \"fields\": [\n",
        "                        {\"name\": \"id\", \"fields\": []},\n",
        "                        {\"name\": \"name\", \"fields\": []},\n",
        "                        {\"name\": \"_defaultColorIndex\", \"fields\": []},\n",
        "                        {\n",
        "                            \"name\": \"history\",\n",
        "                            \"args\": [{\"name\": \"keys\", \"value\": CustomChartFromHistory.fields },],\n",
        "                            \"fields\": [],\n",
        "                        },\n",
        "                    ],\n",
        "                }\n",
        "            ],\n",
        "        }\n",
        "\n",
        "def log_custom_history_plot(wandb_run, panel_name, fields, str_fields):\n",
        "  CustomChartFromHistory.fields = list(fields.values())\n",
        "  # fields = dict(upper = \"upper\", lower = \"lower\", center = \"center\", index = \"step\")\n",
        "  # str_fields = dict(title = \"x with errors bars\")\n",
        "  chart = CustomChartFromHistory(\"tim-w/error-bands-3\", None, fields, str_fields)\n",
        "  wandb_run.log({panel_name: chart})"
      ]
    },
    {
      "cell_type": "code",
      "source": [
        "import numpy as np\n",
        "\n",
        "wandb.init(project = \"error-bar-plotting-v3\", entity = \"tim-w\")\n",
        "\n",
        "## you would run this for each error bar you want to plot in wandb.\n",
        "log_custom_history_plot(wandb.run, \"x_plot\", dict(center = \"x\", upper = \"x_upper\", lower = \"x_lower\", index = \"step\"), str_fields = dict(title = \"x +/- std\"))\n",
        "log_custom_history_plot(wandb.run, \"y_plot\", dict(center = \"y\", upper = \"y_upper\", lower = \"y_lower\", index = \"step\"), str_fields = dict(title = \"y +/- std\"))\n",
        "\n",
        "for i in range(100):\n",
        "  x = np.random.randn()\n",
        "  y = np.random.randn()\n",
        "  x_std = np.random.rand() / 2\n",
        "  y_std = np.random.rand() * 2\n",
        "  wandb.log(dict(x = x, x_upper = x+x_std, x_lower = x-x_std, step = i, y = y, y_upper = y+y_std, y_lower = y-y_std))\n",
        "wandb.finish()"
      ],
      "metadata": {
        "colab": {
          "base_uri": "https://localhost:8080/",
          "height": 499,
          "referenced_widgets": [
            "756f7888c98a468882122edaea6fa69c",
            "a085a2a38655480cb85da8bd55f36c1c",
            "f12e70dcf4f6406ab48ea104a9a89d08",
            "cca926e803b943328eafc39319c2d73a",
            "6dd855b95ca34856952672d9753c4493",
            "e1edfa0e886c454fbf5c851a13609e9b",
            "852fb6036cdf40558a1d74551d9a685b",
            "7df69c781bbb4c17b919c5844d5b4f9c"
          ]
        },
        "id": "FtoGBCNxNivG",
        "outputId": "553a37e3-aa95-489b-f9fe-02e424363e46"
      },
      "execution_count": 9,
      "outputs": [
        {
          "output_type": "display_data",
          "data": {
            "text/plain": [
              "<IPython.core.display.HTML object>"
            ],
            "text/html": [
              "Tracking run with wandb version 0.15.9"
            ]
          },
          "metadata": {}
        },
        {
          "output_type": "display_data",
          "data": {
            "text/plain": [
              "<IPython.core.display.HTML object>"
            ],
            "text/html": [
              "Run data is saved locally in <code>/content/wandb/run-20230830_231307-8h83s05p</code>"
            ]
          },
          "metadata": {}
        },
        {
          "output_type": "display_data",
          "data": {
            "text/plain": [
              "<IPython.core.display.HTML object>"
            ],
            "text/html": [
              "Syncing run <strong><a href='https://wandb.ai/tim-w/error-bar-plotting-v3/runs/8h83s05p' target=\"_blank\">splendid-energy-7</a></strong> to <a href='https://wandb.ai/tim-w/error-bar-plotting-v3' target=\"_blank\">Weights & Biases</a> (<a href='https://wandb.me/run' target=\"_blank\">docs</a>)<br/>"
            ]
          },
          "metadata": {}
        },
        {
          "output_type": "display_data",
          "data": {
            "text/plain": [
              "<IPython.core.display.HTML object>"
            ],
            "text/html": [
              " View project at <a href='https://wandb.ai/tim-w/error-bar-plotting-v3' target=\"_blank\">https://wandb.ai/tim-w/error-bar-plotting-v3</a>"
            ]
          },
          "metadata": {}
        },
        {
          "output_type": "display_data",
          "data": {
            "text/plain": [
              "<IPython.core.display.HTML object>"
            ],
            "text/html": [
              " View run at <a href='https://wandb.ai/tim-w/error-bar-plotting-v3/runs/8h83s05p' target=\"_blank\">https://wandb.ai/tim-w/error-bar-plotting-v3/runs/8h83s05p</a>"
            ]
          },
          "metadata": {}
        },
        {
          "output_type": "display_data",
          "data": {
            "text/plain": [
              "<IPython.core.display.HTML object>"
            ],
            "text/html": [
              "Waiting for W&B process to finish... <strong style=\"color:green\">(success).</strong>"
            ]
          },
          "metadata": {}
        },
        {
          "output_type": "display_data",
          "data": {
            "text/plain": [
              "VBox(children=(Label(value='0.019 MB of 0.019 MB uploaded (0.000 MB deduped)\\r'), FloatProgress(value=1.0, max…"
            ],
            "application/vnd.jupyter.widget-view+json": {
              "version_major": 2,
              "version_minor": 0,
              "model_id": "756f7888c98a468882122edaea6fa69c"
            }
          },
          "metadata": {}
        },
        {
          "output_type": "display_data",
          "data": {
            "text/plain": [
              "<IPython.core.display.HTML object>"
            ],
            "text/html": [
              "<style>\n",
              "    table.wandb td:nth-child(1) { padding: 0 10px; text-align: left ; width: auto;} td:nth-child(2) {text-align: left ; width: 100%}\n",
              "    .wandb-row { display: flex; flex-direction: row; flex-wrap: wrap; justify-content: flex-start; width: 100% }\n",
              "    .wandb-col { display: flex; flex-direction: column; flex-basis: 100%; flex: 1; padding: 10px; }\n",
              "    </style>\n",
              "<div class=\"wandb-row\"><div class=\"wandb-col\"><h3>Run history:</h3><br/><table class=\"wandb\"><tr><td>step</td><td>▁▁▁▁▂▂▂▂▂▃▃▃▃▃▃▄▄▄▄▄▅▅▅▅▅▅▆▆▆▆▆▇▇▇▇▇▇███</td></tr><tr><td>x</td><td>▄█▁▆▆▅▄▆▃▄▁▇▁▄▅▆▄▅▇▇▆▆▄▄▆▂▅▄▂▄▄▂▃██▅▅▅▃▃</td></tr><tr><td>x_lower</td><td>▄█▁▆▆▅▄▇▂▄▁▆▁▄▅▆▄▅▇▆▆▅▄▄▆▁▅▄▂▃▃▁▃██▅▅▅▃▃</td></tr><tr><td>x_upper</td><td>▅▇▁▅▆▄▃▆▃▄▂▇▁▄▅▅▅▅▆▇▆▆▄▄▆▂▅▄▂▄▄▂▃██▆▅▅▃▃</td></tr><tr><td>y</td><td>▂▅▅▂▅▆▅▇▁▃▆▇▆▆▆▆▅▄▆▃█▃▁▂▄▇▂▇▃▆▇▁█▅▄▇█▆▇█</td></tr><tr><td>y_lower</td><td>▃▅▅▄▅▆▇▆▂▅▆▆▅▅▇▅▅▅▅▅█▅▂▁▄█▄▅▃▅▄▄▆▅▅▄▆▇▇▇</td></tr><tr><td>y_upper</td><td>▃▄▅▁▅▅▄▆▂▃▆▇▅▇▅▆▄▃▆▂▇▃▂▅▄▅▁▇▄▇█▁▇▅▃█▇▄▆▆</td></tr></table><br/></div><div class=\"wandb-col\"><h3>Run summary:</h3><br/><table class=\"wandb\"><tr><td>step</td><td>99</td></tr><tr><td>x</td><td>-1.0748</td></tr><tr><td>x_lower</td><td>-1.33159</td></tr><tr><td>x_upper</td><td>-0.81801</td></tr><tr><td>y</td><td>1.05192</td></tr><tr><td>y_lower</td><td>0.47469</td></tr><tr><td>y_upper</td><td>1.62914</td></tr></table><br/></div></div>"
            ]
          },
          "metadata": {}
        },
        {
          "output_type": "display_data",
          "data": {
            "text/plain": [
              "<IPython.core.display.HTML object>"
            ],
            "text/html": [
              " View run <strong style=\"color:#cdcd00\">splendid-energy-7</strong> at: <a href='https://wandb.ai/tim-w/error-bar-plotting-v3/runs/8h83s05p' target=\"_blank\">https://wandb.ai/tim-w/error-bar-plotting-v3/runs/8h83s05p</a><br/> View job at <a href='https://wandb.ai/tim-w/error-bar-plotting-v3/jobs/QXJ0aWZhY3RDb2xsZWN0aW9uOjkzOTQxODk5/version_details/v2' target=\"_blank\">https://wandb.ai/tim-w/error-bar-plotting-v3/jobs/QXJ0aWZhY3RDb2xsZWN0aW9uOjkzOTQxODk5/version_details/v2</a><br/>Synced 4 W&B file(s), 0 media file(s), 4 artifact file(s) and 1 other file(s)"
            ]
          },
          "metadata": {}
        },
        {
          "output_type": "display_data",
          "data": {
            "text/plain": [
              "<IPython.core.display.HTML object>"
            ],
            "text/html": [
              "Find logs at: <code>./wandb/run-20230830_231307-8h83s05p/logs</code>"
            ]
          },
          "metadata": {}
        }
      ]
    },
    {
      "cell_type": "code",
      "source": [],
      "metadata": {
        "id": "pzEVtfwhPPOg"
      },
      "execution_count": 3,
      "outputs": []
    }
  ]
}