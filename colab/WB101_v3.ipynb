{
  "nbformat": 4,
  "nbformat_minor": 0,
  "metadata": {
    "colab": {
      "provenance": [],
      "include_colab_link": true
    },
    "kernelspec": {
      "name": "python3",
      "display_name": "Python 3"
    },
    "language_info": {
      "name": "python"
    },
    "accelerator": "GPU",
    "gpuClass": "standard",
    "widgets": {
      "application/vnd.jupyter.widget-state+json": {
        "46b9391e6fae4d809a236b3433a6c654": {
          "model_module": "@jupyter-widgets/controls",
          "model_name": "VBoxModel",
          "model_module_version": "1.5.0",
          "state": {
            "_dom_classes": [],
            "_model_module": "@jupyter-widgets/controls",
            "_model_module_version": "1.5.0",
            "_model_name": "VBoxModel",
            "_view_count": null,
            "_view_module": "@jupyter-widgets/controls",
            "_view_module_version": "1.5.0",
            "_view_name": "VBoxView",
            "box_style": "",
            "children": [
              "IPY_MODEL_e5444e054af7453284435dab33fad6be",
              "IPY_MODEL_572aa3a54f644d7ca0e72e33b6a2a81b"
            ],
            "layout": "IPY_MODEL_0abd561c621f4f4bad7a621c8c7b96dd"
          }
        },
        "e5444e054af7453284435dab33fad6be": {
          "model_module": "@jupyter-widgets/controls",
          "model_name": "LabelModel",
          "model_module_version": "1.5.0",
          "state": {
            "_dom_classes": [],
            "_model_module": "@jupyter-widgets/controls",
            "_model_module_version": "1.5.0",
            "_model_name": "LabelModel",
            "_view_count": null,
            "_view_module": "@jupyter-widgets/controls",
            "_view_module_version": "1.5.0",
            "_view_name": "LabelView",
            "description": "",
            "description_tooltip": null,
            "layout": "IPY_MODEL_ec151569369e4e578951245ab0a412ff",
            "placeholder": "​",
            "style": "IPY_MODEL_896f8b27553146568a43a294e96975e7",
            "value": "2.169 MB of 2.184 MB uploaded (0.000 MB deduped)\r"
          }
        },
        "572aa3a54f644d7ca0e72e33b6a2a81b": {
          "model_module": "@jupyter-widgets/controls",
          "model_name": "FloatProgressModel",
          "model_module_version": "1.5.0",
          "state": {
            "_dom_classes": [],
            "_model_module": "@jupyter-widgets/controls",
            "_model_module_version": "1.5.0",
            "_model_name": "FloatProgressModel",
            "_view_count": null,
            "_view_module": "@jupyter-widgets/controls",
            "_view_module_version": "1.5.0",
            "_view_name": "ProgressView",
            "bar_style": "",
            "description": "",
            "description_tooltip": null,
            "layout": "IPY_MODEL_13114347321e4dafb6280cbf1f6b8d27",
            "max": 1,
            "min": 0,
            "orientation": "horizontal",
            "style": "IPY_MODEL_e40d315417ac4322bc1aa63131be5c7d",
            "value": 0.9930520595602621
          }
        },
        "0abd561c621f4f4bad7a621c8c7b96dd": {
          "model_module": "@jupyter-widgets/base",
          "model_name": "LayoutModel",
          "model_module_version": "1.2.0",
          "state": {
            "_model_module": "@jupyter-widgets/base",
            "_model_module_version": "1.2.0",
            "_model_name": "LayoutModel",
            "_view_count": null,
            "_view_module": "@jupyter-widgets/base",
            "_view_module_version": "1.2.0",
            "_view_name": "LayoutView",
            "align_content": null,
            "align_items": null,
            "align_self": null,
            "border": null,
            "bottom": null,
            "display": null,
            "flex": null,
            "flex_flow": null,
            "grid_area": null,
            "grid_auto_columns": null,
            "grid_auto_flow": null,
            "grid_auto_rows": null,
            "grid_column": null,
            "grid_gap": null,
            "grid_row": null,
            "grid_template_areas": null,
            "grid_template_columns": null,
            "grid_template_rows": null,
            "height": null,
            "justify_content": null,
            "justify_items": null,
            "left": null,
            "margin": null,
            "max_height": null,
            "max_width": null,
            "min_height": null,
            "min_width": null,
            "object_fit": null,
            "object_position": null,
            "order": null,
            "overflow": null,
            "overflow_x": null,
            "overflow_y": null,
            "padding": null,
            "right": null,
            "top": null,
            "visibility": null,
            "width": null
          }
        },
        "ec151569369e4e578951245ab0a412ff": {
          "model_module": "@jupyter-widgets/base",
          "model_name": "LayoutModel",
          "model_module_version": "1.2.0",
          "state": {
            "_model_module": "@jupyter-widgets/base",
            "_model_module_version": "1.2.0",
            "_model_name": "LayoutModel",
            "_view_count": null,
            "_view_module": "@jupyter-widgets/base",
            "_view_module_version": "1.2.0",
            "_view_name": "LayoutView",
            "align_content": null,
            "align_items": null,
            "align_self": null,
            "border": null,
            "bottom": null,
            "display": null,
            "flex": null,
            "flex_flow": null,
            "grid_area": null,
            "grid_auto_columns": null,
            "grid_auto_flow": null,
            "grid_auto_rows": null,
            "grid_column": null,
            "grid_gap": null,
            "grid_row": null,
            "grid_template_areas": null,
            "grid_template_columns": null,
            "grid_template_rows": null,
            "height": null,
            "justify_content": null,
            "justify_items": null,
            "left": null,
            "margin": null,
            "max_height": null,
            "max_width": null,
            "min_height": null,
            "min_width": null,
            "object_fit": null,
            "object_position": null,
            "order": null,
            "overflow": null,
            "overflow_x": null,
            "overflow_y": null,
            "padding": null,
            "right": null,
            "top": null,
            "visibility": null,
            "width": null
          }
        },
        "896f8b27553146568a43a294e96975e7": {
          "model_module": "@jupyter-widgets/controls",
          "model_name": "DescriptionStyleModel",
          "model_module_version": "1.5.0",
          "state": {
            "_model_module": "@jupyter-widgets/controls",
            "_model_module_version": "1.5.0",
            "_model_name": "DescriptionStyleModel",
            "_view_count": null,
            "_view_module": "@jupyter-widgets/base",
            "_view_module_version": "1.2.0",
            "_view_name": "StyleView",
            "description_width": ""
          }
        },
        "13114347321e4dafb6280cbf1f6b8d27": {
          "model_module": "@jupyter-widgets/base",
          "model_name": "LayoutModel",
          "model_module_version": "1.2.0",
          "state": {
            "_model_module": "@jupyter-widgets/base",
            "_model_module_version": "1.2.0",
            "_model_name": "LayoutModel",
            "_view_count": null,
            "_view_module": "@jupyter-widgets/base",
            "_view_module_version": "1.2.0",
            "_view_name": "LayoutView",
            "align_content": null,
            "align_items": null,
            "align_self": null,
            "border": null,
            "bottom": null,
            "display": null,
            "flex": null,
            "flex_flow": null,
            "grid_area": null,
            "grid_auto_columns": null,
            "grid_auto_flow": null,
            "grid_auto_rows": null,
            "grid_column": null,
            "grid_gap": null,
            "grid_row": null,
            "grid_template_areas": null,
            "grid_template_columns": null,
            "grid_template_rows": null,
            "height": null,
            "justify_content": null,
            "justify_items": null,
            "left": null,
            "margin": null,
            "max_height": null,
            "max_width": null,
            "min_height": null,
            "min_width": null,
            "object_fit": null,
            "object_position": null,
            "order": null,
            "overflow": null,
            "overflow_x": null,
            "overflow_y": null,
            "padding": null,
            "right": null,
            "top": null,
            "visibility": null,
            "width": null
          }
        },
        "e40d315417ac4322bc1aa63131be5c7d": {
          "model_module": "@jupyter-widgets/controls",
          "model_name": "ProgressStyleModel",
          "model_module_version": "1.5.0",
          "state": {
            "_model_module": "@jupyter-widgets/controls",
            "_model_module_version": "1.5.0",
            "_model_name": "ProgressStyleModel",
            "_view_count": null,
            "_view_module": "@jupyter-widgets/base",
            "_view_module_version": "1.2.0",
            "_view_name": "StyleView",
            "bar_color": null,
            "description_width": ""
          }
        },
        "e12c2c5d46964adebabcf2bbd5b4d029": {
          "model_module": "@jupyter-widgets/controls",
          "model_name": "HBoxModel",
          "model_module_version": "1.5.0",
          "state": {
            "_dom_classes": [],
            "_model_module": "@jupyter-widgets/controls",
            "_model_module_version": "1.5.0",
            "_model_name": "HBoxModel",
            "_view_count": null,
            "_view_module": "@jupyter-widgets/controls",
            "_view_module_version": "1.5.0",
            "_view_name": "HBoxView",
            "box_style": "",
            "children": [
              "IPY_MODEL_a45169e8db69461baa84e2be0ec21976",
              "IPY_MODEL_a6f585fce889481d890834cb16c8ada7",
              "IPY_MODEL_51622b5439da4f6cb271806999f4a9ba"
            ],
            "layout": "IPY_MODEL_9da620d237754f63a953dccd09614fb3"
          }
        },
        "a45169e8db69461baa84e2be0ec21976": {
          "model_module": "@jupyter-widgets/controls",
          "model_name": "HTMLModel",
          "model_module_version": "1.5.0",
          "state": {
            "_dom_classes": [],
            "_model_module": "@jupyter-widgets/controls",
            "_model_module_version": "1.5.0",
            "_model_name": "HTMLModel",
            "_view_count": null,
            "_view_module": "@jupyter-widgets/controls",
            "_view_module_version": "1.5.0",
            "_view_name": "HTMLView",
            "description": "",
            "description_tooltip": null,
            "layout": "IPY_MODEL_cc90ea41ce8e4a57bd848b1c151c8d06",
            "placeholder": "​",
            "style": "IPY_MODEL_135ab61d152145a091db1a92abed7eef",
            "value": "Sanity Checking DataLoader 0: 100%"
          }
        },
        "a6f585fce889481d890834cb16c8ada7": {
          "model_module": "@jupyter-widgets/controls",
          "model_name": "FloatProgressModel",
          "model_module_version": "1.5.0",
          "state": {
            "_dom_classes": [],
            "_model_module": "@jupyter-widgets/controls",
            "_model_module_version": "1.5.0",
            "_model_name": "FloatProgressModel",
            "_view_count": null,
            "_view_module": "@jupyter-widgets/controls",
            "_view_module_version": "1.5.0",
            "_view_name": "ProgressView",
            "bar_style": "",
            "description": "",
            "description_tooltip": null,
            "layout": "IPY_MODEL_89744757340f4f4fad7db2347d2bf3e9",
            "max": 2,
            "min": 0,
            "orientation": "horizontal",
            "style": "IPY_MODEL_f8048d17e1c440d49923e5be41c17bf0",
            "value": 2
          }
        },
        "51622b5439da4f6cb271806999f4a9ba": {
          "model_module": "@jupyter-widgets/controls",
          "model_name": "HTMLModel",
          "model_module_version": "1.5.0",
          "state": {
            "_dom_classes": [],
            "_model_module": "@jupyter-widgets/controls",
            "_model_module_version": "1.5.0",
            "_model_name": "HTMLModel",
            "_view_count": null,
            "_view_module": "@jupyter-widgets/controls",
            "_view_module_version": "1.5.0",
            "_view_name": "HTMLView",
            "description": "",
            "description_tooltip": null,
            "layout": "IPY_MODEL_694a25f2fabe4892974cf08dcb3c3173",
            "placeholder": "​",
            "style": "IPY_MODEL_15b5f2f5e35847e6ab8f64c6b6b7ad3d",
            "value": " 2/2 [00:00&lt;00:00,  5.87it/s]"
          }
        },
        "9da620d237754f63a953dccd09614fb3": {
          "model_module": "@jupyter-widgets/base",
          "model_name": "LayoutModel",
          "model_module_version": "1.2.0",
          "state": {
            "_model_module": "@jupyter-widgets/base",
            "_model_module_version": "1.2.0",
            "_model_name": "LayoutModel",
            "_view_count": null,
            "_view_module": "@jupyter-widgets/base",
            "_view_module_version": "1.2.0",
            "_view_name": "LayoutView",
            "align_content": null,
            "align_items": null,
            "align_self": null,
            "border": null,
            "bottom": null,
            "display": "inline-flex",
            "flex": null,
            "flex_flow": "row wrap",
            "grid_area": null,
            "grid_auto_columns": null,
            "grid_auto_flow": null,
            "grid_auto_rows": null,
            "grid_column": null,
            "grid_gap": null,
            "grid_row": null,
            "grid_template_areas": null,
            "grid_template_columns": null,
            "grid_template_rows": null,
            "height": null,
            "justify_content": null,
            "justify_items": null,
            "left": null,
            "margin": null,
            "max_height": null,
            "max_width": null,
            "min_height": null,
            "min_width": null,
            "object_fit": null,
            "object_position": null,
            "order": null,
            "overflow": null,
            "overflow_x": null,
            "overflow_y": null,
            "padding": null,
            "right": null,
            "top": null,
            "visibility": "hidden",
            "width": "100%"
          }
        },
        "cc90ea41ce8e4a57bd848b1c151c8d06": {
          "model_module": "@jupyter-widgets/base",
          "model_name": "LayoutModel",
          "model_module_version": "1.2.0",
          "state": {
            "_model_module": "@jupyter-widgets/base",
            "_model_module_version": "1.2.0",
            "_model_name": "LayoutModel",
            "_view_count": null,
            "_view_module": "@jupyter-widgets/base",
            "_view_module_version": "1.2.0",
            "_view_name": "LayoutView",
            "align_content": null,
            "align_items": null,
            "align_self": null,
            "border": null,
            "bottom": null,
            "display": null,
            "flex": null,
            "flex_flow": null,
            "grid_area": null,
            "grid_auto_columns": null,
            "grid_auto_flow": null,
            "grid_auto_rows": null,
            "grid_column": null,
            "grid_gap": null,
            "grid_row": null,
            "grid_template_areas": null,
            "grid_template_columns": null,
            "grid_template_rows": null,
            "height": null,
            "justify_content": null,
            "justify_items": null,
            "left": null,
            "margin": null,
            "max_height": null,
            "max_width": null,
            "min_height": null,
            "min_width": null,
            "object_fit": null,
            "object_position": null,
            "order": null,
            "overflow": null,
            "overflow_x": null,
            "overflow_y": null,
            "padding": null,
            "right": null,
            "top": null,
            "visibility": null,
            "width": null
          }
        },
        "135ab61d152145a091db1a92abed7eef": {
          "model_module": "@jupyter-widgets/controls",
          "model_name": "DescriptionStyleModel",
          "model_module_version": "1.5.0",
          "state": {
            "_model_module": "@jupyter-widgets/controls",
            "_model_module_version": "1.5.0",
            "_model_name": "DescriptionStyleModel",
            "_view_count": null,
            "_view_module": "@jupyter-widgets/base",
            "_view_module_version": "1.2.0",
            "_view_name": "StyleView",
            "description_width": ""
          }
        },
        "89744757340f4f4fad7db2347d2bf3e9": {
          "model_module": "@jupyter-widgets/base",
          "model_name": "LayoutModel",
          "model_module_version": "1.2.0",
          "state": {
            "_model_module": "@jupyter-widgets/base",
            "_model_module_version": "1.2.0",
            "_model_name": "LayoutModel",
            "_view_count": null,
            "_view_module": "@jupyter-widgets/base",
            "_view_module_version": "1.2.0",
            "_view_name": "LayoutView",
            "align_content": null,
            "align_items": null,
            "align_self": null,
            "border": null,
            "bottom": null,
            "display": null,
            "flex": "2",
            "flex_flow": null,
            "grid_area": null,
            "grid_auto_columns": null,
            "grid_auto_flow": null,
            "grid_auto_rows": null,
            "grid_column": null,
            "grid_gap": null,
            "grid_row": null,
            "grid_template_areas": null,
            "grid_template_columns": null,
            "grid_template_rows": null,
            "height": null,
            "justify_content": null,
            "justify_items": null,
            "left": null,
            "margin": null,
            "max_height": null,
            "max_width": null,
            "min_height": null,
            "min_width": null,
            "object_fit": null,
            "object_position": null,
            "order": null,
            "overflow": null,
            "overflow_x": null,
            "overflow_y": null,
            "padding": null,
            "right": null,
            "top": null,
            "visibility": null,
            "width": null
          }
        },
        "f8048d17e1c440d49923e5be41c17bf0": {
          "model_module": "@jupyter-widgets/controls",
          "model_name": "ProgressStyleModel",
          "model_module_version": "1.5.0",
          "state": {
            "_model_module": "@jupyter-widgets/controls",
            "_model_module_version": "1.5.0",
            "_model_name": "ProgressStyleModel",
            "_view_count": null,
            "_view_module": "@jupyter-widgets/base",
            "_view_module_version": "1.2.0",
            "_view_name": "StyleView",
            "bar_color": null,
            "description_width": ""
          }
        },
        "694a25f2fabe4892974cf08dcb3c3173": {
          "model_module": "@jupyter-widgets/base",
          "model_name": "LayoutModel",
          "model_module_version": "1.2.0",
          "state": {
            "_model_module": "@jupyter-widgets/base",
            "_model_module_version": "1.2.0",
            "_model_name": "LayoutModel",
            "_view_count": null,
            "_view_module": "@jupyter-widgets/base",
            "_view_module_version": "1.2.0",
            "_view_name": "LayoutView",
            "align_content": null,
            "align_items": null,
            "align_self": null,
            "border": null,
            "bottom": null,
            "display": null,
            "flex": null,
            "flex_flow": null,
            "grid_area": null,
            "grid_auto_columns": null,
            "grid_auto_flow": null,
            "grid_auto_rows": null,
            "grid_column": null,
            "grid_gap": null,
            "grid_row": null,
            "grid_template_areas": null,
            "grid_template_columns": null,
            "grid_template_rows": null,
            "height": null,
            "justify_content": null,
            "justify_items": null,
            "left": null,
            "margin": null,
            "max_height": null,
            "max_width": null,
            "min_height": null,
            "min_width": null,
            "object_fit": null,
            "object_position": null,
            "order": null,
            "overflow": null,
            "overflow_x": null,
            "overflow_y": null,
            "padding": null,
            "right": null,
            "top": null,
            "visibility": null,
            "width": null
          }
        },
        "15b5f2f5e35847e6ab8f64c6b6b7ad3d": {
          "model_module": "@jupyter-widgets/controls",
          "model_name": "DescriptionStyleModel",
          "model_module_version": "1.5.0",
          "state": {
            "_model_module": "@jupyter-widgets/controls",
            "_model_module_version": "1.5.0",
            "_model_name": "DescriptionStyleModel",
            "_view_count": null,
            "_view_module": "@jupyter-widgets/base",
            "_view_module_version": "1.2.0",
            "_view_name": "StyleView",
            "description_width": ""
          }
        },
        "a3421f8c45e84368985ffa04cc8f6c52": {
          "model_module": "@jupyter-widgets/controls",
          "model_name": "HBoxModel",
          "model_module_version": "1.5.0",
          "state": {
            "_dom_classes": [],
            "_model_module": "@jupyter-widgets/controls",
            "_model_module_version": "1.5.0",
            "_model_name": "HBoxModel",
            "_view_count": null,
            "_view_module": "@jupyter-widgets/controls",
            "_view_module_version": "1.5.0",
            "_view_name": "HBoxView",
            "box_style": "",
            "children": [
              "IPY_MODEL_2aec312f90e7410f99bae144fe295d09",
              "IPY_MODEL_f26b6c4c07214b9b892177fd3367a09d",
              "IPY_MODEL_a4ecb4c6bc7f40beb4ff5df80285f0d0"
            ],
            "layout": "IPY_MODEL_63ed1522f4d744b6a132045cb08f9e55"
          }
        },
        "2aec312f90e7410f99bae144fe295d09": {
          "model_module": "@jupyter-widgets/controls",
          "model_name": "HTMLModel",
          "model_module_version": "1.5.0",
          "state": {
            "_dom_classes": [],
            "_model_module": "@jupyter-widgets/controls",
            "_model_module_version": "1.5.0",
            "_model_name": "HTMLModel",
            "_view_count": null,
            "_view_module": "@jupyter-widgets/controls",
            "_view_module_version": "1.5.0",
            "_view_name": "HTMLView",
            "description": "",
            "description_tooltip": null,
            "layout": "IPY_MODEL_82027bd2220944d5b4c4f6eba2f5ec9f",
            "placeholder": "​",
            "style": "IPY_MODEL_31552a9601214d0ea3b2cf42957ac285",
            "value": "Epoch 1: 100%"
          }
        },
        "f26b6c4c07214b9b892177fd3367a09d": {
          "model_module": "@jupyter-widgets/controls",
          "model_name": "FloatProgressModel",
          "model_module_version": "1.5.0",
          "state": {
            "_dom_classes": [],
            "_model_module": "@jupyter-widgets/controls",
            "_model_module_version": "1.5.0",
            "_model_name": "FloatProgressModel",
            "_view_count": null,
            "_view_module": "@jupyter-widgets/controls",
            "_view_module_version": "1.5.0",
            "_view_name": "ProgressView",
            "bar_style": "success",
            "description": "",
            "description_tooltip": null,
            "layout": "IPY_MODEL_0ed988e2254340a19c7ff5450cb0dd38",
            "max": 1875,
            "min": 0,
            "orientation": "horizontal",
            "style": "IPY_MODEL_9d67a23dab294c6a81b4e40b174ffefe",
            "value": 1875
          }
        },
        "a4ecb4c6bc7f40beb4ff5df80285f0d0": {
          "model_module": "@jupyter-widgets/controls",
          "model_name": "HTMLModel",
          "model_module_version": "1.5.0",
          "state": {
            "_dom_classes": [],
            "_model_module": "@jupyter-widgets/controls",
            "_model_module_version": "1.5.0",
            "_model_name": "HTMLModel",
            "_view_count": null,
            "_view_module": "@jupyter-widgets/controls",
            "_view_module_version": "1.5.0",
            "_view_name": "HTMLView",
            "description": "",
            "description_tooltip": null,
            "layout": "IPY_MODEL_0eef2e57ec3545a79f3d1928d4e2a942",
            "placeholder": "​",
            "style": "IPY_MODEL_117e9c9fcbaf49a793ff9da4a22642ff",
            "value": " 1875/1875 [00:22&lt;00:00, 81.81it/s, v_num=7w6o]"
          }
        },
        "63ed1522f4d744b6a132045cb08f9e55": {
          "model_module": "@jupyter-widgets/base",
          "model_name": "LayoutModel",
          "model_module_version": "1.2.0",
          "state": {
            "_model_module": "@jupyter-widgets/base",
            "_model_module_version": "1.2.0",
            "_model_name": "LayoutModel",
            "_view_count": null,
            "_view_module": "@jupyter-widgets/base",
            "_view_module_version": "1.2.0",
            "_view_name": "LayoutView",
            "align_content": null,
            "align_items": null,
            "align_self": null,
            "border": null,
            "bottom": null,
            "display": "inline-flex",
            "flex": null,
            "flex_flow": "row wrap",
            "grid_area": null,
            "grid_auto_columns": null,
            "grid_auto_flow": null,
            "grid_auto_rows": null,
            "grid_column": null,
            "grid_gap": null,
            "grid_row": null,
            "grid_template_areas": null,
            "grid_template_columns": null,
            "grid_template_rows": null,
            "height": null,
            "justify_content": null,
            "justify_items": null,
            "left": null,
            "margin": null,
            "max_height": null,
            "max_width": null,
            "min_height": null,
            "min_width": null,
            "object_fit": null,
            "object_position": null,
            "order": null,
            "overflow": null,
            "overflow_x": null,
            "overflow_y": null,
            "padding": null,
            "right": null,
            "top": null,
            "visibility": null,
            "width": "100%"
          }
        },
        "82027bd2220944d5b4c4f6eba2f5ec9f": {
          "model_module": "@jupyter-widgets/base",
          "model_name": "LayoutModel",
          "model_module_version": "1.2.0",
          "state": {
            "_model_module": "@jupyter-widgets/base",
            "_model_module_version": "1.2.0",
            "_model_name": "LayoutModel",
            "_view_count": null,
            "_view_module": "@jupyter-widgets/base",
            "_view_module_version": "1.2.0",
            "_view_name": "LayoutView",
            "align_content": null,
            "align_items": null,
            "align_self": null,
            "border": null,
            "bottom": null,
            "display": null,
            "flex": null,
            "flex_flow": null,
            "grid_area": null,
            "grid_auto_columns": null,
            "grid_auto_flow": null,
            "grid_auto_rows": null,
            "grid_column": null,
            "grid_gap": null,
            "grid_row": null,
            "grid_template_areas": null,
            "grid_template_columns": null,
            "grid_template_rows": null,
            "height": null,
            "justify_content": null,
            "justify_items": null,
            "left": null,
            "margin": null,
            "max_height": null,
            "max_width": null,
            "min_height": null,
            "min_width": null,
            "object_fit": null,
            "object_position": null,
            "order": null,
            "overflow": null,
            "overflow_x": null,
            "overflow_y": null,
            "padding": null,
            "right": null,
            "top": null,
            "visibility": null,
            "width": null
          }
        },
        "31552a9601214d0ea3b2cf42957ac285": {
          "model_module": "@jupyter-widgets/controls",
          "model_name": "DescriptionStyleModel",
          "model_module_version": "1.5.0",
          "state": {
            "_model_module": "@jupyter-widgets/controls",
            "_model_module_version": "1.5.0",
            "_model_name": "DescriptionStyleModel",
            "_view_count": null,
            "_view_module": "@jupyter-widgets/base",
            "_view_module_version": "1.2.0",
            "_view_name": "StyleView",
            "description_width": ""
          }
        },
        "0ed988e2254340a19c7ff5450cb0dd38": {
          "model_module": "@jupyter-widgets/base",
          "model_name": "LayoutModel",
          "model_module_version": "1.2.0",
          "state": {
            "_model_module": "@jupyter-widgets/base",
            "_model_module_version": "1.2.0",
            "_model_name": "LayoutModel",
            "_view_count": null,
            "_view_module": "@jupyter-widgets/base",
            "_view_module_version": "1.2.0",
            "_view_name": "LayoutView",
            "align_content": null,
            "align_items": null,
            "align_self": null,
            "border": null,
            "bottom": null,
            "display": null,
            "flex": "2",
            "flex_flow": null,
            "grid_area": null,
            "grid_auto_columns": null,
            "grid_auto_flow": null,
            "grid_auto_rows": null,
            "grid_column": null,
            "grid_gap": null,
            "grid_row": null,
            "grid_template_areas": null,
            "grid_template_columns": null,
            "grid_template_rows": null,
            "height": null,
            "justify_content": null,
            "justify_items": null,
            "left": null,
            "margin": null,
            "max_height": null,
            "max_width": null,
            "min_height": null,
            "min_width": null,
            "object_fit": null,
            "object_position": null,
            "order": null,
            "overflow": null,
            "overflow_x": null,
            "overflow_y": null,
            "padding": null,
            "right": null,
            "top": null,
            "visibility": null,
            "width": null
          }
        },
        "9d67a23dab294c6a81b4e40b174ffefe": {
          "model_module": "@jupyter-widgets/controls",
          "model_name": "ProgressStyleModel",
          "model_module_version": "1.5.0",
          "state": {
            "_model_module": "@jupyter-widgets/controls",
            "_model_module_version": "1.5.0",
            "_model_name": "ProgressStyleModel",
            "_view_count": null,
            "_view_module": "@jupyter-widgets/base",
            "_view_module_version": "1.2.0",
            "_view_name": "StyleView",
            "bar_color": null,
            "description_width": ""
          }
        },
        "0eef2e57ec3545a79f3d1928d4e2a942": {
          "model_module": "@jupyter-widgets/base",
          "model_name": "LayoutModel",
          "model_module_version": "1.2.0",
          "state": {
            "_model_module": "@jupyter-widgets/base",
            "_model_module_version": "1.2.0",
            "_model_name": "LayoutModel",
            "_view_count": null,
            "_view_module": "@jupyter-widgets/base",
            "_view_module_version": "1.2.0",
            "_view_name": "LayoutView",
            "align_content": null,
            "align_items": null,
            "align_self": null,
            "border": null,
            "bottom": null,
            "display": null,
            "flex": null,
            "flex_flow": null,
            "grid_area": null,
            "grid_auto_columns": null,
            "grid_auto_flow": null,
            "grid_auto_rows": null,
            "grid_column": null,
            "grid_gap": null,
            "grid_row": null,
            "grid_template_areas": null,
            "grid_template_columns": null,
            "grid_template_rows": null,
            "height": null,
            "justify_content": null,
            "justify_items": null,
            "left": null,
            "margin": null,
            "max_height": null,
            "max_width": null,
            "min_height": null,
            "min_width": null,
            "object_fit": null,
            "object_position": null,
            "order": null,
            "overflow": null,
            "overflow_x": null,
            "overflow_y": null,
            "padding": null,
            "right": null,
            "top": null,
            "visibility": null,
            "width": null
          }
        },
        "117e9c9fcbaf49a793ff9da4a22642ff": {
          "model_module": "@jupyter-widgets/controls",
          "model_name": "DescriptionStyleModel",
          "model_module_version": "1.5.0",
          "state": {
            "_model_module": "@jupyter-widgets/controls",
            "_model_module_version": "1.5.0",
            "_model_name": "DescriptionStyleModel",
            "_view_count": null,
            "_view_module": "@jupyter-widgets/base",
            "_view_module_version": "1.2.0",
            "_view_name": "StyleView",
            "description_width": ""
          }
        },
        "43adaf8fb92042e58d8d0cabea1bbf6b": {
          "model_module": "@jupyter-widgets/controls",
          "model_name": "HBoxModel",
          "model_module_version": "1.5.0",
          "state": {
            "_dom_classes": [],
            "_model_module": "@jupyter-widgets/controls",
            "_model_module_version": "1.5.0",
            "_model_name": "HBoxModel",
            "_view_count": null,
            "_view_module": "@jupyter-widgets/controls",
            "_view_module_version": "1.5.0",
            "_view_name": "HBoxView",
            "box_style": "",
            "children": [
              "IPY_MODEL_fc0f5f64281c4e4ea146708373e0f734",
              "IPY_MODEL_fe80cb7977244f288671983b7fa3388e",
              "IPY_MODEL_c1739e6100b74a70a9a96975f5634dbf"
            ],
            "layout": "IPY_MODEL_e5f5e4c5d2154906b90334d8fb25108a"
          }
        },
        "fc0f5f64281c4e4ea146708373e0f734": {
          "model_module": "@jupyter-widgets/controls",
          "model_name": "HTMLModel",
          "model_module_version": "1.5.0",
          "state": {
            "_dom_classes": [],
            "_model_module": "@jupyter-widgets/controls",
            "_model_module_version": "1.5.0",
            "_model_name": "HTMLModel",
            "_view_count": null,
            "_view_module": "@jupyter-widgets/controls",
            "_view_module_version": "1.5.0",
            "_view_name": "HTMLView",
            "description": "",
            "description_tooltip": null,
            "layout": "IPY_MODEL_71804208162749cb9e704b9e2768a682",
            "placeholder": "​",
            "style": "IPY_MODEL_06dc87aecccc4af497f4dafac23eb9cc",
            "value": "Validation DataLoader 0: 100%"
          }
        },
        "fe80cb7977244f288671983b7fa3388e": {
          "model_module": "@jupyter-widgets/controls",
          "model_name": "FloatProgressModel",
          "model_module_version": "1.5.0",
          "state": {
            "_dom_classes": [],
            "_model_module": "@jupyter-widgets/controls",
            "_model_module_version": "1.5.0",
            "_model_name": "FloatProgressModel",
            "_view_count": null,
            "_view_module": "@jupyter-widgets/controls",
            "_view_module_version": "1.5.0",
            "_view_name": "ProgressView",
            "bar_style": "",
            "description": "",
            "description_tooltip": null,
            "layout": "IPY_MODEL_e3c3323c2e5e4ee7805688044619bbec",
            "max": 1875,
            "min": 0,
            "orientation": "horizontal",
            "style": "IPY_MODEL_be2339d5f62c4d4f92fdce40c52fb64f",
            "value": 1875
          }
        },
        "c1739e6100b74a70a9a96975f5634dbf": {
          "model_module": "@jupyter-widgets/controls",
          "model_name": "HTMLModel",
          "model_module_version": "1.5.0",
          "state": {
            "_dom_classes": [],
            "_model_module": "@jupyter-widgets/controls",
            "_model_module_version": "1.5.0",
            "_model_name": "HTMLModel",
            "_view_count": null,
            "_view_module": "@jupyter-widgets/controls",
            "_view_module_version": "1.5.0",
            "_view_name": "HTMLView",
            "description": "",
            "description_tooltip": null,
            "layout": "IPY_MODEL_8890cee531e64146b05234a7e7509f26",
            "placeholder": "​",
            "style": "IPY_MODEL_788375fe5fb44fcb8c790211893cd186",
            "value": " 1875/1875 [00:08&lt;00:00, 222.40it/s]"
          }
        },
        "e5f5e4c5d2154906b90334d8fb25108a": {
          "model_module": "@jupyter-widgets/base",
          "model_name": "LayoutModel",
          "model_module_version": "1.2.0",
          "state": {
            "_model_module": "@jupyter-widgets/base",
            "_model_module_version": "1.2.0",
            "_model_name": "LayoutModel",
            "_view_count": null,
            "_view_module": "@jupyter-widgets/base",
            "_view_module_version": "1.2.0",
            "_view_name": "LayoutView",
            "align_content": null,
            "align_items": null,
            "align_self": null,
            "border": null,
            "bottom": null,
            "display": "inline-flex",
            "flex": null,
            "flex_flow": "row wrap",
            "grid_area": null,
            "grid_auto_columns": null,
            "grid_auto_flow": null,
            "grid_auto_rows": null,
            "grid_column": null,
            "grid_gap": null,
            "grid_row": null,
            "grid_template_areas": null,
            "grid_template_columns": null,
            "grid_template_rows": null,
            "height": null,
            "justify_content": null,
            "justify_items": null,
            "left": null,
            "margin": null,
            "max_height": null,
            "max_width": null,
            "min_height": null,
            "min_width": null,
            "object_fit": null,
            "object_position": null,
            "order": null,
            "overflow": null,
            "overflow_x": null,
            "overflow_y": null,
            "padding": null,
            "right": null,
            "top": null,
            "visibility": "hidden",
            "width": "100%"
          }
        },
        "71804208162749cb9e704b9e2768a682": {
          "model_module": "@jupyter-widgets/base",
          "model_name": "LayoutModel",
          "model_module_version": "1.2.0",
          "state": {
            "_model_module": "@jupyter-widgets/base",
            "_model_module_version": "1.2.0",
            "_model_name": "LayoutModel",
            "_view_count": null,
            "_view_module": "@jupyter-widgets/base",
            "_view_module_version": "1.2.0",
            "_view_name": "LayoutView",
            "align_content": null,
            "align_items": null,
            "align_self": null,
            "border": null,
            "bottom": null,
            "display": null,
            "flex": null,
            "flex_flow": null,
            "grid_area": null,
            "grid_auto_columns": null,
            "grid_auto_flow": null,
            "grid_auto_rows": null,
            "grid_column": null,
            "grid_gap": null,
            "grid_row": null,
            "grid_template_areas": null,
            "grid_template_columns": null,
            "grid_template_rows": null,
            "height": null,
            "justify_content": null,
            "justify_items": null,
            "left": null,
            "margin": null,
            "max_height": null,
            "max_width": null,
            "min_height": null,
            "min_width": null,
            "object_fit": null,
            "object_position": null,
            "order": null,
            "overflow": null,
            "overflow_x": null,
            "overflow_y": null,
            "padding": null,
            "right": null,
            "top": null,
            "visibility": null,
            "width": null
          }
        },
        "06dc87aecccc4af497f4dafac23eb9cc": {
          "model_module": "@jupyter-widgets/controls",
          "model_name": "DescriptionStyleModel",
          "model_module_version": "1.5.0",
          "state": {
            "_model_module": "@jupyter-widgets/controls",
            "_model_module_version": "1.5.0",
            "_model_name": "DescriptionStyleModel",
            "_view_count": null,
            "_view_module": "@jupyter-widgets/base",
            "_view_module_version": "1.2.0",
            "_view_name": "StyleView",
            "description_width": ""
          }
        },
        "e3c3323c2e5e4ee7805688044619bbec": {
          "model_module": "@jupyter-widgets/base",
          "model_name": "LayoutModel",
          "model_module_version": "1.2.0",
          "state": {
            "_model_module": "@jupyter-widgets/base",
            "_model_module_version": "1.2.0",
            "_model_name": "LayoutModel",
            "_view_count": null,
            "_view_module": "@jupyter-widgets/base",
            "_view_module_version": "1.2.0",
            "_view_name": "LayoutView",
            "align_content": null,
            "align_items": null,
            "align_self": null,
            "border": null,
            "bottom": null,
            "display": null,
            "flex": "2",
            "flex_flow": null,
            "grid_area": null,
            "grid_auto_columns": null,
            "grid_auto_flow": null,
            "grid_auto_rows": null,
            "grid_column": null,
            "grid_gap": null,
            "grid_row": null,
            "grid_template_areas": null,
            "grid_template_columns": null,
            "grid_template_rows": null,
            "height": null,
            "justify_content": null,
            "justify_items": null,
            "left": null,
            "margin": null,
            "max_height": null,
            "max_width": null,
            "min_height": null,
            "min_width": null,
            "object_fit": null,
            "object_position": null,
            "order": null,
            "overflow": null,
            "overflow_x": null,
            "overflow_y": null,
            "padding": null,
            "right": null,
            "top": null,
            "visibility": null,
            "width": null
          }
        },
        "be2339d5f62c4d4f92fdce40c52fb64f": {
          "model_module": "@jupyter-widgets/controls",
          "model_name": "ProgressStyleModel",
          "model_module_version": "1.5.0",
          "state": {
            "_model_module": "@jupyter-widgets/controls",
            "_model_module_version": "1.5.0",
            "_model_name": "ProgressStyleModel",
            "_view_count": null,
            "_view_module": "@jupyter-widgets/base",
            "_view_module_version": "1.2.0",
            "_view_name": "StyleView",
            "bar_color": null,
            "description_width": ""
          }
        },
        "8890cee531e64146b05234a7e7509f26": {
          "model_module": "@jupyter-widgets/base",
          "model_name": "LayoutModel",
          "model_module_version": "1.2.0",
          "state": {
            "_model_module": "@jupyter-widgets/base",
            "_model_module_version": "1.2.0",
            "_model_name": "LayoutModel",
            "_view_count": null,
            "_view_module": "@jupyter-widgets/base",
            "_view_module_version": "1.2.0",
            "_view_name": "LayoutView",
            "align_content": null,
            "align_items": null,
            "align_self": null,
            "border": null,
            "bottom": null,
            "display": null,
            "flex": null,
            "flex_flow": null,
            "grid_area": null,
            "grid_auto_columns": null,
            "grid_auto_flow": null,
            "grid_auto_rows": null,
            "grid_column": null,
            "grid_gap": null,
            "grid_row": null,
            "grid_template_areas": null,
            "grid_template_columns": null,
            "grid_template_rows": null,
            "height": null,
            "justify_content": null,
            "justify_items": null,
            "left": null,
            "margin": null,
            "max_height": null,
            "max_width": null,
            "min_height": null,
            "min_width": null,
            "object_fit": null,
            "object_position": null,
            "order": null,
            "overflow": null,
            "overflow_x": null,
            "overflow_y": null,
            "padding": null,
            "right": null,
            "top": null,
            "visibility": null,
            "width": null
          }
        },
        "788375fe5fb44fcb8c790211893cd186": {
          "model_module": "@jupyter-widgets/controls",
          "model_name": "DescriptionStyleModel",
          "model_module_version": "1.5.0",
          "state": {
            "_model_module": "@jupyter-widgets/controls",
            "_model_module_version": "1.5.0",
            "_model_name": "DescriptionStyleModel",
            "_view_count": null,
            "_view_module": "@jupyter-widgets/base",
            "_view_module_version": "1.2.0",
            "_view_name": "StyleView",
            "description_width": ""
          }
        },
        "a545ed4f58fb497a960a06bb83b60c20": {
          "model_module": "@jupyter-widgets/controls",
          "model_name": "HBoxModel",
          "model_module_version": "1.5.0",
          "state": {
            "_dom_classes": [],
            "_model_module": "@jupyter-widgets/controls",
            "_model_module_version": "1.5.0",
            "_model_name": "HBoxModel",
            "_view_count": null,
            "_view_module": "@jupyter-widgets/controls",
            "_view_module_version": "1.5.0",
            "_view_name": "HBoxView",
            "box_style": "",
            "children": [
              "IPY_MODEL_b7449d66043142c2b9adf9f5f2838864",
              "IPY_MODEL_b8fc21523a224e28b63ed49a63185319",
              "IPY_MODEL_d323e38561974cdc82c4d35a01894da8"
            ],
            "layout": "IPY_MODEL_972b2baf99a84592ab2ea2170e86630e"
          }
        },
        "b7449d66043142c2b9adf9f5f2838864": {
          "model_module": "@jupyter-widgets/controls",
          "model_name": "HTMLModel",
          "model_module_version": "1.5.0",
          "state": {
            "_dom_classes": [],
            "_model_module": "@jupyter-widgets/controls",
            "_model_module_version": "1.5.0",
            "_model_name": "HTMLModel",
            "_view_count": null,
            "_view_module": "@jupyter-widgets/controls",
            "_view_module_version": "1.5.0",
            "_view_name": "HTMLView",
            "description": "",
            "description_tooltip": null,
            "layout": "IPY_MODEL_2edb4c9e189c446fa91a2793c48a1f7c",
            "placeholder": "​",
            "style": "IPY_MODEL_3513d040799e45719d6b426ab0c2a19e",
            "value": "Validation DataLoader 0: 100%"
          }
        },
        "b8fc21523a224e28b63ed49a63185319": {
          "model_module": "@jupyter-widgets/controls",
          "model_name": "FloatProgressModel",
          "model_module_version": "1.5.0",
          "state": {
            "_dom_classes": [],
            "_model_module": "@jupyter-widgets/controls",
            "_model_module_version": "1.5.0",
            "_model_name": "FloatProgressModel",
            "_view_count": null,
            "_view_module": "@jupyter-widgets/controls",
            "_view_module_version": "1.5.0",
            "_view_name": "ProgressView",
            "bar_style": "",
            "description": "",
            "description_tooltip": null,
            "layout": "IPY_MODEL_dcb16118c35845cdb79239c3d2cb1e27",
            "max": 1875,
            "min": 0,
            "orientation": "horizontal",
            "style": "IPY_MODEL_4aa48198a09e40d0aa87898d6cd42e4c",
            "value": 1875
          }
        },
        "d323e38561974cdc82c4d35a01894da8": {
          "model_module": "@jupyter-widgets/controls",
          "model_name": "HTMLModel",
          "model_module_version": "1.5.0",
          "state": {
            "_dom_classes": [],
            "_model_module": "@jupyter-widgets/controls",
            "_model_module_version": "1.5.0",
            "_model_name": "HTMLModel",
            "_view_count": null,
            "_view_module": "@jupyter-widgets/controls",
            "_view_module_version": "1.5.0",
            "_view_name": "HTMLView",
            "description": "",
            "description_tooltip": null,
            "layout": "IPY_MODEL_904cd4ee8e7543a6896bb7e4d2a35157",
            "placeholder": "​",
            "style": "IPY_MODEL_718ad4ee2bb0420fbecc3a63fd417390",
            "value": " 1875/1875 [00:10&lt;00:00, 175.91it/s]"
          }
        },
        "972b2baf99a84592ab2ea2170e86630e": {
          "model_module": "@jupyter-widgets/base",
          "model_name": "LayoutModel",
          "model_module_version": "1.2.0",
          "state": {
            "_model_module": "@jupyter-widgets/base",
            "_model_module_version": "1.2.0",
            "_model_name": "LayoutModel",
            "_view_count": null,
            "_view_module": "@jupyter-widgets/base",
            "_view_module_version": "1.2.0",
            "_view_name": "LayoutView",
            "align_content": null,
            "align_items": null,
            "align_self": null,
            "border": null,
            "bottom": null,
            "display": "inline-flex",
            "flex": null,
            "flex_flow": "row wrap",
            "grid_area": null,
            "grid_auto_columns": null,
            "grid_auto_flow": null,
            "grid_auto_rows": null,
            "grid_column": null,
            "grid_gap": null,
            "grid_row": null,
            "grid_template_areas": null,
            "grid_template_columns": null,
            "grid_template_rows": null,
            "height": null,
            "justify_content": null,
            "justify_items": null,
            "left": null,
            "margin": null,
            "max_height": null,
            "max_width": null,
            "min_height": null,
            "min_width": null,
            "object_fit": null,
            "object_position": null,
            "order": null,
            "overflow": null,
            "overflow_x": null,
            "overflow_y": null,
            "padding": null,
            "right": null,
            "top": null,
            "visibility": "hidden",
            "width": "100%"
          }
        },
        "2edb4c9e189c446fa91a2793c48a1f7c": {
          "model_module": "@jupyter-widgets/base",
          "model_name": "LayoutModel",
          "model_module_version": "1.2.0",
          "state": {
            "_model_module": "@jupyter-widgets/base",
            "_model_module_version": "1.2.0",
            "_model_name": "LayoutModel",
            "_view_count": null,
            "_view_module": "@jupyter-widgets/base",
            "_view_module_version": "1.2.0",
            "_view_name": "LayoutView",
            "align_content": null,
            "align_items": null,
            "align_self": null,
            "border": null,
            "bottom": null,
            "display": null,
            "flex": null,
            "flex_flow": null,
            "grid_area": null,
            "grid_auto_columns": null,
            "grid_auto_flow": null,
            "grid_auto_rows": null,
            "grid_column": null,
            "grid_gap": null,
            "grid_row": null,
            "grid_template_areas": null,
            "grid_template_columns": null,
            "grid_template_rows": null,
            "height": null,
            "justify_content": null,
            "justify_items": null,
            "left": null,
            "margin": null,
            "max_height": null,
            "max_width": null,
            "min_height": null,
            "min_width": null,
            "object_fit": null,
            "object_position": null,
            "order": null,
            "overflow": null,
            "overflow_x": null,
            "overflow_y": null,
            "padding": null,
            "right": null,
            "top": null,
            "visibility": null,
            "width": null
          }
        },
        "3513d040799e45719d6b426ab0c2a19e": {
          "model_module": "@jupyter-widgets/controls",
          "model_name": "DescriptionStyleModel",
          "model_module_version": "1.5.0",
          "state": {
            "_model_module": "@jupyter-widgets/controls",
            "_model_module_version": "1.5.0",
            "_model_name": "DescriptionStyleModel",
            "_view_count": null,
            "_view_module": "@jupyter-widgets/base",
            "_view_module_version": "1.2.0",
            "_view_name": "StyleView",
            "description_width": ""
          }
        },
        "dcb16118c35845cdb79239c3d2cb1e27": {
          "model_module": "@jupyter-widgets/base",
          "model_name": "LayoutModel",
          "model_module_version": "1.2.0",
          "state": {
            "_model_module": "@jupyter-widgets/base",
            "_model_module_version": "1.2.0",
            "_model_name": "LayoutModel",
            "_view_count": null,
            "_view_module": "@jupyter-widgets/base",
            "_view_module_version": "1.2.0",
            "_view_name": "LayoutView",
            "align_content": null,
            "align_items": null,
            "align_self": null,
            "border": null,
            "bottom": null,
            "display": null,
            "flex": "2",
            "flex_flow": null,
            "grid_area": null,
            "grid_auto_columns": null,
            "grid_auto_flow": null,
            "grid_auto_rows": null,
            "grid_column": null,
            "grid_gap": null,
            "grid_row": null,
            "grid_template_areas": null,
            "grid_template_columns": null,
            "grid_template_rows": null,
            "height": null,
            "justify_content": null,
            "justify_items": null,
            "left": null,
            "margin": null,
            "max_height": null,
            "max_width": null,
            "min_height": null,
            "min_width": null,
            "object_fit": null,
            "object_position": null,
            "order": null,
            "overflow": null,
            "overflow_x": null,
            "overflow_y": null,
            "padding": null,
            "right": null,
            "top": null,
            "visibility": null,
            "width": null
          }
        },
        "4aa48198a09e40d0aa87898d6cd42e4c": {
          "model_module": "@jupyter-widgets/controls",
          "model_name": "ProgressStyleModel",
          "model_module_version": "1.5.0",
          "state": {
            "_model_module": "@jupyter-widgets/controls",
            "_model_module_version": "1.5.0",
            "_model_name": "ProgressStyleModel",
            "_view_count": null,
            "_view_module": "@jupyter-widgets/base",
            "_view_module_version": "1.2.0",
            "_view_name": "StyleView",
            "bar_color": null,
            "description_width": ""
          }
        },
        "904cd4ee8e7543a6896bb7e4d2a35157": {
          "model_module": "@jupyter-widgets/base",
          "model_name": "LayoutModel",
          "model_module_version": "1.2.0",
          "state": {
            "_model_module": "@jupyter-widgets/base",
            "_model_module_version": "1.2.0",
            "_model_name": "LayoutModel",
            "_view_count": null,
            "_view_module": "@jupyter-widgets/base",
            "_view_module_version": "1.2.0",
            "_view_name": "LayoutView",
            "align_content": null,
            "align_items": null,
            "align_self": null,
            "border": null,
            "bottom": null,
            "display": null,
            "flex": null,
            "flex_flow": null,
            "grid_area": null,
            "grid_auto_columns": null,
            "grid_auto_flow": null,
            "grid_auto_rows": null,
            "grid_column": null,
            "grid_gap": null,
            "grid_row": null,
            "grid_template_areas": null,
            "grid_template_columns": null,
            "grid_template_rows": null,
            "height": null,
            "justify_content": null,
            "justify_items": null,
            "left": null,
            "margin": null,
            "max_height": null,
            "max_width": null,
            "min_height": null,
            "min_width": null,
            "object_fit": null,
            "object_position": null,
            "order": null,
            "overflow": null,
            "overflow_x": null,
            "overflow_y": null,
            "padding": null,
            "right": null,
            "top": null,
            "visibility": null,
            "width": null
          }
        },
        "718ad4ee2bb0420fbecc3a63fd417390": {
          "model_module": "@jupyter-widgets/controls",
          "model_name": "DescriptionStyleModel",
          "model_module_version": "1.5.0",
          "state": {
            "_model_module": "@jupyter-widgets/controls",
            "_model_module_version": "1.5.0",
            "_model_name": "DescriptionStyleModel",
            "_view_count": null,
            "_view_module": "@jupyter-widgets/base",
            "_view_module_version": "1.2.0",
            "_view_name": "StyleView",
            "description_width": ""
          }
        },
        "d8c6c181113b40e0b8721e61602259f2": {
          "model_module": "@jupyter-widgets/controls",
          "model_name": "HBoxModel",
          "model_module_version": "1.5.0",
          "state": {
            "_dom_classes": [],
            "_model_module": "@jupyter-widgets/controls",
            "_model_module_version": "1.5.0",
            "_model_name": "HBoxModel",
            "_view_count": null,
            "_view_module": "@jupyter-widgets/controls",
            "_view_module_version": "1.5.0",
            "_view_name": "HBoxView",
            "box_style": "",
            "children": [
              "IPY_MODEL_994d109f4c464cadbc3a75f0d503ab3b",
              "IPY_MODEL_2db68f26b90f4d86a06f4585760098b0",
              "IPY_MODEL_d6870694b45c4bea8339201aec2d621a"
            ],
            "layout": "IPY_MODEL_f93dd14d6124422aa74c3ba9189e69a6"
          }
        },
        "994d109f4c464cadbc3a75f0d503ab3b": {
          "model_module": "@jupyter-widgets/controls",
          "model_name": "HTMLModel",
          "model_module_version": "1.5.0",
          "state": {
            "_dom_classes": [],
            "_model_module": "@jupyter-widgets/controls",
            "_model_module_version": "1.5.0",
            "_model_name": "HTMLModel",
            "_view_count": null,
            "_view_module": "@jupyter-widgets/controls",
            "_view_module_version": "1.5.0",
            "_view_name": "HTMLView",
            "description": "",
            "description_tooltip": null,
            "layout": "IPY_MODEL_fbfad7ec14a2419593797e1e5912fe58",
            "placeholder": "​",
            "style": "IPY_MODEL_05c25550d2044274bccd3442680be8ab",
            "value": "Testing DataLoader 0: 100%"
          }
        },
        "2db68f26b90f4d86a06f4585760098b0": {
          "model_module": "@jupyter-widgets/controls",
          "model_name": "FloatProgressModel",
          "model_module_version": "1.5.0",
          "state": {
            "_dom_classes": [],
            "_model_module": "@jupyter-widgets/controls",
            "_model_module_version": "1.5.0",
            "_model_name": "FloatProgressModel",
            "_view_count": null,
            "_view_module": "@jupyter-widgets/controls",
            "_view_module_version": "1.5.0",
            "_view_name": "ProgressView",
            "bar_style": "success",
            "description": "",
            "description_tooltip": null,
            "layout": "IPY_MODEL_add0da59d30f4b01a36aed7c38e83552",
            "max": 1875,
            "min": 0,
            "orientation": "horizontal",
            "style": "IPY_MODEL_72f2438fc77b4deea0a4518d22c3a79b",
            "value": 1875
          }
        },
        "d6870694b45c4bea8339201aec2d621a": {
          "model_module": "@jupyter-widgets/controls",
          "model_name": "HTMLModel",
          "model_module_version": "1.5.0",
          "state": {
            "_dom_classes": [],
            "_model_module": "@jupyter-widgets/controls",
            "_model_module_version": "1.5.0",
            "_model_name": "HTMLModel",
            "_view_count": null,
            "_view_module": "@jupyter-widgets/controls",
            "_view_module_version": "1.5.0",
            "_view_name": "HTMLView",
            "description": "",
            "description_tooltip": null,
            "layout": "IPY_MODEL_fb90382d1a8648a0a22d9faff3c9dc82",
            "placeholder": "​",
            "style": "IPY_MODEL_bc5ca2a619f44467ba0c468ac6c8a107",
            "value": " 1875/1875 [00:07&lt;00:00, 249.26it/s]"
          }
        },
        "f93dd14d6124422aa74c3ba9189e69a6": {
          "model_module": "@jupyter-widgets/base",
          "model_name": "LayoutModel",
          "model_module_version": "1.2.0",
          "state": {
            "_model_module": "@jupyter-widgets/base",
            "_model_module_version": "1.2.0",
            "_model_name": "LayoutModel",
            "_view_count": null,
            "_view_module": "@jupyter-widgets/base",
            "_view_module_version": "1.2.0",
            "_view_name": "LayoutView",
            "align_content": null,
            "align_items": null,
            "align_self": null,
            "border": null,
            "bottom": null,
            "display": "inline-flex",
            "flex": null,
            "flex_flow": "row wrap",
            "grid_area": null,
            "grid_auto_columns": null,
            "grid_auto_flow": null,
            "grid_auto_rows": null,
            "grid_column": null,
            "grid_gap": null,
            "grid_row": null,
            "grid_template_areas": null,
            "grid_template_columns": null,
            "grid_template_rows": null,
            "height": null,
            "justify_content": null,
            "justify_items": null,
            "left": null,
            "margin": null,
            "max_height": null,
            "max_width": null,
            "min_height": null,
            "min_width": null,
            "object_fit": null,
            "object_position": null,
            "order": null,
            "overflow": null,
            "overflow_x": null,
            "overflow_y": null,
            "padding": null,
            "right": null,
            "top": null,
            "visibility": null,
            "width": "100%"
          }
        },
        "fbfad7ec14a2419593797e1e5912fe58": {
          "model_module": "@jupyter-widgets/base",
          "model_name": "LayoutModel",
          "model_module_version": "1.2.0",
          "state": {
            "_model_module": "@jupyter-widgets/base",
            "_model_module_version": "1.2.0",
            "_model_name": "LayoutModel",
            "_view_count": null,
            "_view_module": "@jupyter-widgets/base",
            "_view_module_version": "1.2.0",
            "_view_name": "LayoutView",
            "align_content": null,
            "align_items": null,
            "align_self": null,
            "border": null,
            "bottom": null,
            "display": null,
            "flex": null,
            "flex_flow": null,
            "grid_area": null,
            "grid_auto_columns": null,
            "grid_auto_flow": null,
            "grid_auto_rows": null,
            "grid_column": null,
            "grid_gap": null,
            "grid_row": null,
            "grid_template_areas": null,
            "grid_template_columns": null,
            "grid_template_rows": null,
            "height": null,
            "justify_content": null,
            "justify_items": null,
            "left": null,
            "margin": null,
            "max_height": null,
            "max_width": null,
            "min_height": null,
            "min_width": null,
            "object_fit": null,
            "object_position": null,
            "order": null,
            "overflow": null,
            "overflow_x": null,
            "overflow_y": null,
            "padding": null,
            "right": null,
            "top": null,
            "visibility": null,
            "width": null
          }
        },
        "05c25550d2044274bccd3442680be8ab": {
          "model_module": "@jupyter-widgets/controls",
          "model_name": "DescriptionStyleModel",
          "model_module_version": "1.5.0",
          "state": {
            "_model_module": "@jupyter-widgets/controls",
            "_model_module_version": "1.5.0",
            "_model_name": "DescriptionStyleModel",
            "_view_count": null,
            "_view_module": "@jupyter-widgets/base",
            "_view_module_version": "1.2.0",
            "_view_name": "StyleView",
            "description_width": ""
          }
        },
        "add0da59d30f4b01a36aed7c38e83552": {
          "model_module": "@jupyter-widgets/base",
          "model_name": "LayoutModel",
          "model_module_version": "1.2.0",
          "state": {
            "_model_module": "@jupyter-widgets/base",
            "_model_module_version": "1.2.0",
            "_model_name": "LayoutModel",
            "_view_count": null,
            "_view_module": "@jupyter-widgets/base",
            "_view_module_version": "1.2.0",
            "_view_name": "LayoutView",
            "align_content": null,
            "align_items": null,
            "align_self": null,
            "border": null,
            "bottom": null,
            "display": null,
            "flex": "2",
            "flex_flow": null,
            "grid_area": null,
            "grid_auto_columns": null,
            "grid_auto_flow": null,
            "grid_auto_rows": null,
            "grid_column": null,
            "grid_gap": null,
            "grid_row": null,
            "grid_template_areas": null,
            "grid_template_columns": null,
            "grid_template_rows": null,
            "height": null,
            "justify_content": null,
            "justify_items": null,
            "left": null,
            "margin": null,
            "max_height": null,
            "max_width": null,
            "min_height": null,
            "min_width": null,
            "object_fit": null,
            "object_position": null,
            "order": null,
            "overflow": null,
            "overflow_x": null,
            "overflow_y": null,
            "padding": null,
            "right": null,
            "top": null,
            "visibility": null,
            "width": null
          }
        },
        "72f2438fc77b4deea0a4518d22c3a79b": {
          "model_module": "@jupyter-widgets/controls",
          "model_name": "ProgressStyleModel",
          "model_module_version": "1.5.0",
          "state": {
            "_model_module": "@jupyter-widgets/controls",
            "_model_module_version": "1.5.0",
            "_model_name": "ProgressStyleModel",
            "_view_count": null,
            "_view_module": "@jupyter-widgets/base",
            "_view_module_version": "1.2.0",
            "_view_name": "StyleView",
            "bar_color": null,
            "description_width": ""
          }
        },
        "fb90382d1a8648a0a22d9faff3c9dc82": {
          "model_module": "@jupyter-widgets/base",
          "model_name": "LayoutModel",
          "model_module_version": "1.2.0",
          "state": {
            "_model_module": "@jupyter-widgets/base",
            "_model_module_version": "1.2.0",
            "_model_name": "LayoutModel",
            "_view_count": null,
            "_view_module": "@jupyter-widgets/base",
            "_view_module_version": "1.2.0",
            "_view_name": "LayoutView",
            "align_content": null,
            "align_items": null,
            "align_self": null,
            "border": null,
            "bottom": null,
            "display": null,
            "flex": null,
            "flex_flow": null,
            "grid_area": null,
            "grid_auto_columns": null,
            "grid_auto_flow": null,
            "grid_auto_rows": null,
            "grid_column": null,
            "grid_gap": null,
            "grid_row": null,
            "grid_template_areas": null,
            "grid_template_columns": null,
            "grid_template_rows": null,
            "height": null,
            "justify_content": null,
            "justify_items": null,
            "left": null,
            "margin": null,
            "max_height": null,
            "max_width": null,
            "min_height": null,
            "min_width": null,
            "object_fit": null,
            "object_position": null,
            "order": null,
            "overflow": null,
            "overflow_x": null,
            "overflow_y": null,
            "padding": null,
            "right": null,
            "top": null,
            "visibility": null,
            "width": null
          }
        },
        "bc5ca2a619f44467ba0c468ac6c8a107": {
          "model_module": "@jupyter-widgets/controls",
          "model_name": "DescriptionStyleModel",
          "model_module_version": "1.5.0",
          "state": {
            "_model_module": "@jupyter-widgets/controls",
            "_model_module_version": "1.5.0",
            "_model_name": "DescriptionStyleModel",
            "_view_count": null,
            "_view_module": "@jupyter-widgets/base",
            "_view_module_version": "1.2.0",
            "_view_name": "StyleView",
            "description_width": ""
          }
        }
      }
    }
  },
  "cells": [
    {
      "cell_type": "markdown",
      "metadata": {
        "id": "view-in-github",
        "colab_type": "text"
      },
      "source": [
        "<a href=\"https://colab.research.google.com/github/timsetsfire/wandb-examples/blob/main/colab/WB101_v3.ipynb\" target=\"_parent\"><img src=\"https://colab.research.google.com/assets/colab-badge.svg\" alt=\"Open In Colab\"/></a>"
      ]
    },
    {
      "cell_type": "markdown",
      "source": [
        "# Weights & Biases 101 🥾🏕️\n",
        "\n",
        "This notebook is intended to show you how to track your machine learning experiments using [Weights & Biases](https://wandb.ai).\n",
        "\n",
        "Weights & Biases has two major components: a python client named `wandb` 🪄🐝  and a web application that allows you to store, query, visualize, and share metadata from your machine learning experiments, e.g. loss curves, evaluation metrics, model predictions... you can `wandb.log` *just about* anything.\n",
        "\n",
        "The client is open source and you can find the [source code on Github](http://github.com/wandb/wandb)! ⭐\n",
        "\n",
        "The web application is publicly hosted at [wandb.ai](http://wandb.ai), but the app can be deployed in private environments as well. If you're interested in learning more about private deployments of the web app, check out [these docs](http://docs.wandb.ai/guides/self-hosted).\n",
        "\n",
        "The first step on our journey is to install the client, which is as easy as:"
      ],
      "metadata": {
        "id": "SMSSb5vCs2q0"
      }
    },
    {
      "cell_type": "code",
      "source": [
        "%%capture\n",
        "!pip install wandb pytorch_lightning keplergl trimesh"
      ],
      "metadata": {
        "id": "6WF5BCvwc0DK"
      },
      "execution_count": 2,
      "outputs": []
    },
    {
      "cell_type": "code",
      "source": [
        "import wandb"
      ],
      "metadata": {
        "id": "UjEn77wKc2UR"
      },
      "execution_count": 3,
      "outputs": []
    },
    {
      "cell_type": "markdown",
      "source": [
        "## Client Configuration\n",
        "\n",
        "The first thing we do is set the `WANDB_PROJECT` environment variable. This tells the client to send all the data we log to a specific workspace in Weights & Biases. Environment variables are a great way to customize the behavior of the client without having to hardcode contextual details like a project name. You can check out [these docs](https://docs.wandb.ai/guides/track/advanced/environment-variables) for a complete list of the environment variables you can use to configure `wandb`."
      ],
      "metadata": {
        "id": "kIwEgFsVnhbr"
      }
    },
    {
      "cell_type": "code",
      "source": [
        "import os\n",
        "os.environ[\"WANDB_PROJECT\"] = \"bootcamp\""
      ],
      "metadata": {
        "id": "9HNLLjQV4rzH"
      },
      "execution_count": 4,
      "outputs": []
    },
    {
      "cell_type": "markdown",
      "source": [
        "Next, we need to connect the client to an account in the web server. We do this in a notebook by calling `wandb.login`.\n",
        "\n",
        "If you have Google SSO enabled for your Weights & Biases account and are running this notebook on colab, the authentication happens automatically when `wandb.login` is called.\n",
        "\n",
        "Otherwise, you will see a authoriztion link and be asked to enter an API key. If you already have an account, you can follow the authorization link and then copy and paste the displayed API key. If you don't have an account you can sign up with an email address or using a Google or Github account."
      ],
      "metadata": {
        "id": "BYTm6GoRINMx"
      }
    },
    {
      "cell_type": "code",
      "source": [
        "import wandb\n",
        "\n",
        "# Equivalent to running \"wandb login\" in your shell\n",
        "#\n",
        "wandb.login(host=\"https://api.wandb.ai\")\n",
        "#\n",
        "# Note that https://api.wandb.ai is the default and points to the publicly hosted\n",
        "# app. You'll want to change this to a different API endpoint if you are trying\n",
        "# to connect to a privately hosted server.\n",
        "#\n",
        "# Alternative you can configure this with environment variables:\n",
        "# export WANDB_API_KEY=\"<your-api-key>\"\n",
        "# export WANDB_BASE_URL=\"<your-wandb-endpoint>\""
      ],
      "metadata": {
        "id": "JsNzSCjg7rD4",
        "colab": {
          "base_uri": "https://localhost:8080/",
          "height": 71
        },
        "outputId": "2ae89adb-dac4-4e66-ef22-7e72bad8e234"
      },
      "execution_count": 5,
      "outputs": [
        {
          "output_type": "display_data",
          "data": {
            "text/plain": [
              "<IPython.core.display.Javascript object>"
            ],
            "application/javascript": [
              "\n",
              "        window._wandbApiKey = new Promise((resolve, reject) => {\n",
              "            function loadScript(url) {\n",
              "            return new Promise(function(resolve, reject) {\n",
              "                let newScript = document.createElement(\"script\");\n",
              "                newScript.onerror = reject;\n",
              "                newScript.onload = resolve;\n",
              "                document.body.appendChild(newScript);\n",
              "                newScript.src = url;\n",
              "            });\n",
              "            }\n",
              "            loadScript(\"https://cdn.jsdelivr.net/npm/postmate/build/postmate.min.js\").then(() => {\n",
              "            const iframe = document.createElement('iframe')\n",
              "            iframe.style.cssText = \"width:0;height:0;border:none\"\n",
              "            document.body.appendChild(iframe)\n",
              "            const handshake = new Postmate({\n",
              "                container: iframe,\n",
              "                url: 'https://wandb.ai/authorize'\n",
              "            });\n",
              "            const timeout = setTimeout(() => reject(\"Couldn't auto authenticate\"), 5000)\n",
              "            handshake.then(function(child) {\n",
              "                child.on('authorize', data => {\n",
              "                    clearTimeout(timeout)\n",
              "                    resolve(data)\n",
              "                });\n",
              "            });\n",
              "            })\n",
              "        });\n",
              "    "
            ]
          },
          "metadata": {}
        },
        {
          "output_type": "stream",
          "name": "stderr",
          "text": [
            "\u001b[34m\u001b[1mwandb\u001b[0m: Appending key for api.wandb.ai to your netrc file: /root/.netrc\n"
          ]
        },
        {
          "output_type": "execute_result",
          "data": {
            "text/plain": [
              "True"
            ]
          },
          "metadata": {},
          "execution_count": 5
        }
      ]
    },
    {
      "cell_type": "markdown",
      "source": [
        "Calling `wandb login` or `wandb.login` will write your API key to your `~/.netrc` file. __To authenticate the client in a headless job on the cloud, you will definitely want to use the `WANDB_API_KEY` environment variable__."
      ],
      "metadata": {
        "id": "zer98IpzJ-Df"
      }
    },
    {
      "cell_type": "markdown",
      "source": [
        "## Track your Experiments\n",
        "\n",
        "### `wandb.init`\n",
        "\n",
        "The `wandb.init` function initializes a new `Run`, which you can think of as a comprehensive record of your machine learning experiment. Tracking starts when you call `wandb.init` and ends when you call `wandb.finish` (called automatically via `atexit` hooks if you don't want to invoke manually). You can also use python's `with` statement to initialize and finish runs (see code cell below).\n",
        "\n",
        "### `wandb.log`\n",
        "\n",
        "You can call `wandb.log` within your experiment add metrics to your `Run`. The idea is that you will call `wandb.log` many times over an experiment for the same metric, in which case the run saves the whole history of each metric across all of your `wandb.log` calls. The code cell below demonstrates how this looks in a typical stochastic gradient descent loop.\n",
        "\n",
        "\n"
      ],
      "metadata": {
        "id": "kCvJbBYOnnUv"
      }
    },
    {
      "cell_type": "code",
      "source": [
        "config = dict(\n",
        "  batch_size=32,\n",
        "  learning_rate=1e-4,\n",
        "  flux_capacitors=64,\n",
        "  life_universe_everything=42,\n",
        ")\n",
        "\n",
        "\"\"\"\n",
        "The pattern of \"with wandb.init()...\" causes wandb.finish() to be called as\n",
        "soon as we leave the with block. This is especially useful when you have a script\n",
        "or notebook that initializes multiple runs that you want to track separately.\n",
        "\"\"\"\n",
        "with wandb.init(config=config):\n",
        "\n",
        "    for key, value in dict(wandb.config).items():\n",
        "        print(key, value)\n",
        "\n",
        "    # Imagine we run 100 epochs of model training\n",
        "    for x in range(2, 100):\n",
        "\n",
        "        # Insert model training here...\n",
        "        # ...\n",
        "\n",
        "        # Compute metrics (or in this case, make them up)\n",
        "        metrics = dict(\n",
        "            loss=(1/x)**0.25,\n",
        "            accuracy=1-(1/x)*2\n",
        "        )\n",
        "\n",
        "        # Pass metrics to Weights & Biases\n",
        "        wandb.log(metrics)\n"
      ],
      "metadata": {
        "id": "EtgR9ypudbno",
        "colab": {
          "base_uri": "https://localhost:8080/",
          "height": 422
        },
        "outputId": "77678913-0e5b-4597-be18-41e90c3edba2"
      },
      "execution_count": 6,
      "outputs": [
        {
          "output_type": "stream",
          "name": "stderr",
          "text": [
            "\u001b[34m\u001b[1mwandb\u001b[0m: Currently logged in as: \u001b[33mtim-w\u001b[0m. Use \u001b[1m`wandb login --relogin`\u001b[0m to force relogin\n"
          ]
        },
        {
          "output_type": "display_data",
          "data": {
            "text/plain": [
              "<IPython.core.display.HTML object>"
            ],
            "text/html": [
              "Tracking run with wandb version 0.15.8"
            ]
          },
          "metadata": {}
        },
        {
          "output_type": "display_data",
          "data": {
            "text/plain": [
              "<IPython.core.display.HTML object>"
            ],
            "text/html": [
              "Run data is saved locally in <code>/content/wandb/run-20230824_143336-47q6iagw</code>"
            ]
          },
          "metadata": {}
        },
        {
          "output_type": "display_data",
          "data": {
            "text/plain": [
              "<IPython.core.display.HTML object>"
            ],
            "text/html": [
              "Syncing run <strong><a href='https://wandb.ai/tim-w/bootcamp/runs/47q6iagw' target=\"_blank\">hearty-smoke-22</a></strong> to <a href='https://wandb.ai/tim-w/bootcamp' target=\"_blank\">Weights & Biases</a> (<a href='https://wandb.me/run' target=\"_blank\">docs</a>)<br/>"
            ]
          },
          "metadata": {}
        },
        {
          "output_type": "display_data",
          "data": {
            "text/plain": [
              "<IPython.core.display.HTML object>"
            ],
            "text/html": [
              " View project at <a href='https://wandb.ai/tim-w/bootcamp' target=\"_blank\">https://wandb.ai/tim-w/bootcamp</a>"
            ]
          },
          "metadata": {}
        },
        {
          "output_type": "display_data",
          "data": {
            "text/plain": [
              "<IPython.core.display.HTML object>"
            ],
            "text/html": [
              " View run at <a href='https://wandb.ai/tim-w/bootcamp/runs/47q6iagw' target=\"_blank\">https://wandb.ai/tim-w/bootcamp/runs/47q6iagw</a>"
            ]
          },
          "metadata": {}
        },
        {
          "output_type": "stream",
          "name": "stdout",
          "text": [
            "batch_size 32\n",
            "learning_rate 0.0001\n",
            "flux_capacitors 64\n",
            "life_universe_everything 42\n"
          ]
        },
        {
          "output_type": "display_data",
          "data": {
            "text/plain": [
              "<IPython.core.display.HTML object>"
            ],
            "text/html": [
              "Waiting for W&B process to finish... <strong style=\"color:green\">(success).</strong>"
            ]
          },
          "metadata": {}
        },
        {
          "output_type": "display_data",
          "data": {
            "text/plain": [
              "<IPython.core.display.HTML object>"
            ],
            "text/html": [
              "<style>\n",
              "    table.wandb td:nth-child(1) { padding: 0 10px; text-align: left ; width: auto;} td:nth-child(2) {text-align: left ; width: 100%}\n",
              "    .wandb-row { display: flex; flex-direction: row; flex-wrap: wrap; justify-content: flex-start; width: 100% }\n",
              "    .wandb-col { display: flex; flex-direction: column; flex-basis: 100%; flex: 1; padding: 10px; }\n",
              "    </style>\n",
              "<div class=\"wandb-row\"><div class=\"wandb-col\"><h3>Run history:</h3><br/><table class=\"wandb\"><tr><td>accuracy</td><td>▁▅▆▇▇▇▇▇▇███████████████████████████████</td></tr><tr><td>loss</td><td>█▆▅▄▄▄▃▃▃▃▃▃▂▂▂▂▂▂▂▂▂▂▂▂▂▁▁▁▁▁▁▁▁▁▁▁▁▁▁▁</td></tr></table><br/></div><div class=\"wandb-col\"><h3>Run summary:</h3><br/><table class=\"wandb\"><tr><td>accuracy</td><td>0.9798</td></tr><tr><td>loss</td><td>0.31702</td></tr></table><br/></div></div>"
            ]
          },
          "metadata": {}
        },
        {
          "output_type": "display_data",
          "data": {
            "text/plain": [
              "<IPython.core.display.HTML object>"
            ],
            "text/html": [
              " View run <strong style=\"color:#cdcd00\">hearty-smoke-22</strong> at: <a href='https://wandb.ai/tim-w/bootcamp/runs/47q6iagw' target=\"_blank\">https://wandb.ai/tim-w/bootcamp/runs/47q6iagw</a><br/> View job at <a href='https://wandb.ai/tim-w/bootcamp/jobs/QXJ0aWZhY3RDb2xsZWN0aW9uOjkyNTkzNjY0/version_details/v0' target=\"_blank\">https://wandb.ai/tim-w/bootcamp/jobs/QXJ0aWZhY3RDb2xsZWN0aW9uOjkyNTkzNjY0/version_details/v0</a><br/>Synced 5 W&B file(s), 0 media file(s), 4 artifact file(s) and 1 other file(s)"
            ]
          },
          "metadata": {}
        },
        {
          "output_type": "display_data",
          "data": {
            "text/plain": [
              "<IPython.core.display.HTML object>"
            ],
            "text/html": [
              "Find logs at: <code>./wandb/run-20230824_143336-47q6iagw/logs</code>"
            ]
          },
          "metadata": {}
        }
      ]
    },
    {
      "cell_type": "markdown",
      "source": [
        "\n",
        "### Anatomy of a `Run` 🩺\n",
        "\n",
        "The `Run` stores a detailed record of an experiment within a few specific data structures. The important things to know about are\n",
        "- `Run.config` is a dictionary like structure that stores configuration data for a run, like the path to input data or training hyperparameters. You can instatiate the config by passing a dictionary to `wandb.init(config=<config-dict>)`.\n",
        "- `Run.history` is a list of dictionaries that stores historical values of metrics and media over the course of an experiment. We can append a new snapshot of our training metrics by calling `wandb.log(<metric-dict>)`\n",
        "- `Run.summary` is a dictionary for recording summary metrics or media. By default the `summary` will contain the most recent values logged for each metric, you can overwrite and add elements as you like.\n"
      ],
      "metadata": {
        "id": "8o1xoifVp2Av"
      }
    },
    {
      "cell_type": "markdown",
      "source": [
        "## Log Visualizations\n",
        "\n",
        "The example we just ran shows you can log numerical metadata over the course of an experiment to Weights & Biases, and we saw how metrics like loss and accuracy show up as customizable line plots in the app. Now let's take a look at some of the other things you can `wandb.log` into your record of an experiment. You can see examples below, but for a first list of loggable types check out [these docs](https://docs.wandb.ai/ref/python/data-types)."
      ],
      "metadata": {
        "id": "imQtmxy_nuzK"
      }
    },
    {
      "cell_type": "markdown",
      "source": [
        "### Log Plotly\n",
        "\n",
        "Plotly is a popular library for building and rendering custom visualizations. It is tightly connected to the ubiquitous `matplotlib` package. We integrate with Plotly so that you can pass `matplotlib` or Plotly figures directly to `wandb.log`, which will automatically serialize and upload your figures to Weights & Biases, where they will be interactively rendered inside of your experiment records. You can run the cells below to see an example logging an interactive, 3D visualization to W&B."
      ],
      "metadata": {
        "id": "iw-e6V57BvIG"
      }
    },
    {
      "cell_type": "code",
      "source": [
        "import plotly.express as px"
      ],
      "metadata": {
        "id": "0hSxatyx2wH2"
      },
      "execution_count": 7,
      "outputs": []
    },
    {
      "cell_type": "code",
      "source": [
        "%%wandb\n",
        "\n",
        "with wandb.init() as run:\n",
        "\n",
        "  # Loads Iris dataset\n",
        "  df = px.data.iris()\n",
        "\n",
        "  # Construct a 3D scatter plot with plotly\n",
        "  fig = px.scatter_3d(df,\n",
        "                      x='sepal_length',\n",
        "                      y='sepal_width',\n",
        "                      z='petal_width',\n",
        "                      color='species')\n",
        "\n",
        "  # Log figure\n",
        "  run.log({\"figure\": fig})"
      ],
      "metadata": {
        "id": "6QlDM4C-PBz1",
        "colab": {
          "base_uri": "https://localhost:8080/",
          "height": 599
        },
        "outputId": "43eb265c-d33a-4bbe-f9e0-e17269196b30"
      },
      "execution_count": 8,
      "outputs": [
        {
          "output_type": "display_data",
          "data": {
            "text/plain": [
              "<IPython.core.display.HTML object>"
            ],
            "text/html": [
              "Tracking run with wandb version 0.15.8"
            ]
          },
          "metadata": {}
        },
        {
          "output_type": "display_data",
          "data": {
            "text/plain": [
              "<IPython.core.display.HTML object>"
            ],
            "text/html": [
              "Run data is saved locally in <code>/content/wandb/run-20230824_143357-lewm7ein</code>"
            ]
          },
          "metadata": {}
        },
        {
          "output_type": "display_data",
          "data": {
            "text/plain": [
              "<wandb.jupyter.IFrame at 0x78cda78222f0>"
            ],
            "text/html": [
              "<iframe src='https://wandb.ai/tim-w/bootcamp/runs/lewm7ein?jupyter=true' style='border:none;width:100%;height:420px;'></iframe>"
            ]
          },
          "metadata": {}
        },
        {
          "output_type": "display_data",
          "data": {
            "text/plain": [
              "<IPython.core.display.HTML object>"
            ],
            "text/html": [
              " View project at <a href='https://wandb.ai/tim-w/bootcamp' target=\"_blank\">https://wandb.ai/tim-w/bootcamp</a>"
            ]
          },
          "metadata": {}
        },
        {
          "output_type": "display_data",
          "data": {
            "text/plain": [
              "<IPython.core.display.HTML object>"
            ],
            "text/html": [
              " View run at <a href='https://wandb.ai/tim-w/bootcamp/runs/lewm7ein' target=\"_blank\">https://wandb.ai/tim-w/bootcamp/runs/lewm7ein</a>"
            ]
          },
          "metadata": {}
        },
        {
          "output_type": "display_data",
          "data": {
            "text/plain": [
              "<IPython.core.display.HTML object>"
            ],
            "text/html": [
              "Waiting for W&B process to finish... <strong style=\"color:green\">(success).</strong>"
            ]
          },
          "metadata": {}
        },
        {
          "output_type": "display_data",
          "data": {
            "text/plain": [
              "<IPython.core.display.HTML object>"
            ],
            "text/html": [
              " View run <strong style=\"color:#cdcd00\">floral-violet-23</strong> at: <a href='https://wandb.ai/tim-w/bootcamp/runs/lewm7ein' target=\"_blank\">https://wandb.ai/tim-w/bootcamp/runs/lewm7ein</a><br/> View job at <a href='https://wandb.ai/tim-w/bootcamp/jobs/QXJ0aWZhY3RDb2xsZWN0aW9uOjkyNTkzNjY0/version_details/v1' target=\"_blank\">https://wandb.ai/tim-w/bootcamp/jobs/QXJ0aWZhY3RDb2xsZWN0aW9uOjkyNTkzNjY0/version_details/v1</a><br/>Synced 4 W&B file(s), 1 media file(s), 4 artifact file(s) and 1 other file(s)"
            ]
          },
          "metadata": {}
        },
        {
          "output_type": "display_data",
          "data": {
            "text/plain": [
              "<IPython.core.display.HTML object>"
            ],
            "text/html": [
              "Find logs at: <code>./wandb/run-20230824_143357-lewm7ein/logs</code>"
            ]
          },
          "metadata": {}
        }
      ]
    },
    {
      "cell_type": "markdown",
      "source": [
        "### Log Dataframes\n",
        "\n",
        "You can also log `pandas.DataFrame` objects with `wandb.log`! These will be converted into a `wandb.Table` (docs) and interactievly displayed inside of W&B. The cell below logs the entire Iris dataset and renders it in the W&B app 😎\n",
        "\n",
        "Note: One of the most powerful features of `wandb.Table`s is that you can include any `wandb` type as a cell value! This includes, images, plots, videos, audio... almost anything 🤩"
      ],
      "metadata": {
        "id": "riP-pAODp9b3"
      }
    },
    {
      "cell_type": "code",
      "source": [
        "from sklearn.datasets import fetch_california_housing\n",
        "data = fetch_california_housing(as_frame=True)\n",
        "df = data.data\n",
        "df[data.target.name] = data.target\n",
        "\n",
        "with wandb.init() as run:\n",
        "  # Log a pandas Dataframe to Weights & Biases\n",
        "  wandb.log({\"california\": df})"
      ],
      "metadata": {
        "id": "oEjawsA9qCJs",
        "colab": {
          "base_uri": "https://localhost:8080/",
          "height": 193
        },
        "outputId": "eb3f5f8b-dd41-444a-fc2e-306d96fd16a3"
      },
      "execution_count": 9,
      "outputs": [
        {
          "output_type": "display_data",
          "data": {
            "text/plain": [
              "<IPython.core.display.HTML object>"
            ],
            "text/html": [
              "Tracking run with wandb version 0.15.8"
            ]
          },
          "metadata": {}
        },
        {
          "output_type": "display_data",
          "data": {
            "text/plain": [
              "<IPython.core.display.HTML object>"
            ],
            "text/html": [
              "Run data is saved locally in <code>/content/wandb/run-20230824_143418-m8pm1un5</code>"
            ]
          },
          "metadata": {}
        },
        {
          "output_type": "display_data",
          "data": {
            "text/plain": [
              "<IPython.core.display.HTML object>"
            ],
            "text/html": [
              "Syncing run <strong><a href='https://wandb.ai/tim-w/bootcamp/runs/m8pm1un5' target=\"_blank\">misty-surf-24</a></strong> to <a href='https://wandb.ai/tim-w/bootcamp' target=\"_blank\">Weights & Biases</a> (<a href='https://wandb.me/run' target=\"_blank\">docs</a>)<br/>"
            ]
          },
          "metadata": {}
        },
        {
          "output_type": "display_data",
          "data": {
            "text/plain": [
              "<IPython.core.display.HTML object>"
            ],
            "text/html": [
              " View project at <a href='https://wandb.ai/tim-w/bootcamp' target=\"_blank\">https://wandb.ai/tim-w/bootcamp</a>"
            ]
          },
          "metadata": {}
        },
        {
          "output_type": "display_data",
          "data": {
            "text/plain": [
              "<IPython.core.display.HTML object>"
            ],
            "text/html": [
              " View run at <a href='https://wandb.ai/tim-w/bootcamp/runs/m8pm1un5' target=\"_blank\">https://wandb.ai/tim-w/bootcamp/runs/m8pm1un5</a>"
            ]
          },
          "metadata": {}
        },
        {
          "output_type": "display_data",
          "data": {
            "text/plain": [
              "<IPython.core.display.HTML object>"
            ],
            "text/html": [
              "Waiting for W&B process to finish... <strong style=\"color:green\">(success).</strong>"
            ]
          },
          "metadata": {}
        },
        {
          "output_type": "display_data",
          "data": {
            "text/plain": [
              "<IPython.core.display.HTML object>"
            ],
            "text/html": [
              " View run <strong style=\"color:#cdcd00\">misty-surf-24</strong> at: <a href='https://wandb.ai/tim-w/bootcamp/runs/m8pm1un5' target=\"_blank\">https://wandb.ai/tim-w/bootcamp/runs/m8pm1un5</a><br/> View job at <a href='https://wandb.ai/tim-w/bootcamp/jobs/QXJ0aWZhY3RDb2xsZWN0aW9uOjkyNTkzNjY0/version_details/v2' target=\"_blank\">https://wandb.ai/tim-w/bootcamp/jobs/QXJ0aWZhY3RDb2xsZWN0aW9uOjkyNTkzNjY0/version_details/v2</a><br/>Synced 4 W&B file(s), 1 media file(s), 5 artifact file(s) and 1 other file(s)"
            ]
          },
          "metadata": {}
        },
        {
          "output_type": "display_data",
          "data": {
            "text/plain": [
              "<IPython.core.display.HTML object>"
            ],
            "text/html": [
              "Find logs at: <code>./wandb/run-20230824_143418-m8pm1un5/logs</code>"
            ]
          },
          "metadata": {}
        }
      ]
    },
    {
      "cell_type": "markdown",
      "source": [
        "### Log HTML\n",
        "\n",
        "You can use the `wandb.Html` class to pass in any HTML and have it saved and rendered in Weights & Biases. This allows indirect integration with all sorts of visualization libraries, like `keplergl`."
      ],
      "metadata": {
        "id": "D5Y8D63GoHtA"
      }
    },
    {
      "cell_type": "code",
      "source": [
        "import keplergl\n",
        "with wandb.init() as run:\n",
        "  m = keplergl.KeplerGl(height = 400, data = {\"data\": df})\n",
        "  m.save_to_html(file_name = \"point_map.html\")\n",
        "  run.log({\"california housing prices map\": wandb.Html(open(\"point_map.html\"))})"
      ],
      "metadata": {
        "id": "jLVaa8xt2nHU",
        "colab": {
          "base_uri": "https://localhost:8080/",
          "height": 276,
          "referenced_widgets": [
            "46b9391e6fae4d809a236b3433a6c654",
            "e5444e054af7453284435dab33fad6be",
            "572aa3a54f644d7ca0e72e33b6a2a81b",
            "0abd561c621f4f4bad7a621c8c7b96dd",
            "ec151569369e4e578951245ab0a412ff",
            "896f8b27553146568a43a294e96975e7",
            "13114347321e4dafb6280cbf1f6b8d27",
            "e40d315417ac4322bc1aa63131be5c7d"
          ]
        },
        "outputId": "bd72a0e4-ee8c-416c-c78a-cd1517273a04"
      },
      "execution_count": 10,
      "outputs": [
        {
          "output_type": "display_data",
          "data": {
            "text/plain": [
              "<IPython.core.display.HTML object>"
            ],
            "text/html": [
              "Tracking run with wandb version 0.15.8"
            ]
          },
          "metadata": {}
        },
        {
          "output_type": "display_data",
          "data": {
            "text/plain": [
              "<IPython.core.display.HTML object>"
            ],
            "text/html": [
              "Run data is saved locally in <code>/content/wandb/run-20230824_143444-xgtlz3v5</code>"
            ]
          },
          "metadata": {}
        },
        {
          "output_type": "display_data",
          "data": {
            "text/plain": [
              "<IPython.core.display.HTML object>"
            ],
            "text/html": [
              "Syncing run <strong><a href='https://wandb.ai/tim-w/bootcamp/runs/xgtlz3v5' target=\"_blank\">eternal-disco-25</a></strong> to <a href='https://wandb.ai/tim-w/bootcamp' target=\"_blank\">Weights & Biases</a> (<a href='https://wandb.me/run' target=\"_blank\">docs</a>)<br/>"
            ]
          },
          "metadata": {}
        },
        {
          "output_type": "display_data",
          "data": {
            "text/plain": [
              "<IPython.core.display.HTML object>"
            ],
            "text/html": [
              " View project at <a href='https://wandb.ai/tim-w/bootcamp' target=\"_blank\">https://wandb.ai/tim-w/bootcamp</a>"
            ]
          },
          "metadata": {}
        },
        {
          "output_type": "display_data",
          "data": {
            "text/plain": [
              "<IPython.core.display.HTML object>"
            ],
            "text/html": [
              " View run at <a href='https://wandb.ai/tim-w/bootcamp/runs/xgtlz3v5' target=\"_blank\">https://wandb.ai/tim-w/bootcamp/runs/xgtlz3v5</a>"
            ]
          },
          "metadata": {}
        },
        {
          "output_type": "stream",
          "name": "stdout",
          "text": [
            "User Guide: https://docs.kepler.gl/docs/keplergl-jupyter\n",
            "Map saved to point_map.html!\n"
          ]
        },
        {
          "output_type": "display_data",
          "data": {
            "text/plain": [
              "<IPython.core.display.HTML object>"
            ],
            "text/html": [
              "Waiting for W&B process to finish... <strong style=\"color:green\">(success).</strong>"
            ]
          },
          "metadata": {}
        },
        {
          "output_type": "display_data",
          "data": {
            "text/plain": [
              "VBox(children=(Label(value='2.169 MB of 2.169 MB uploaded (0.000 MB deduped)\\r'), FloatProgress(value=1.0, max…"
            ],
            "application/vnd.jupyter.widget-view+json": {
              "version_major": 2,
              "version_minor": 0,
              "model_id": "46b9391e6fae4d809a236b3433a6c654"
            }
          },
          "metadata": {}
        },
        {
          "output_type": "display_data",
          "data": {
            "text/plain": [
              "<IPython.core.display.HTML object>"
            ],
            "text/html": [
              " View run <strong style=\"color:#cdcd00\">eternal-disco-25</strong> at: <a href='https://wandb.ai/tim-w/bootcamp/runs/xgtlz3v5' target=\"_blank\">https://wandb.ai/tim-w/bootcamp/runs/xgtlz3v5</a><br/>Synced 5 W&B file(s), 1 media file(s), 0 artifact file(s) and 1 other file(s)"
            ]
          },
          "metadata": {}
        },
        {
          "output_type": "display_data",
          "data": {
            "text/plain": [
              "<IPython.core.display.HTML object>"
            ],
            "text/html": [
              "Find logs at: <code>./wandb/run-20230824_143444-xgtlz3v5/logs</code>"
            ]
          },
          "metadata": {}
        }
      ]
    },
    {
      "cell_type": "markdown",
      "source": [
        "## Image Masking"
      ],
      "metadata": {
        "id": "a10TL1RRXWEU"
      }
    },
    {
      "cell_type": "code",
      "source": [
        "\n",
        "import numpy as np\n",
        "import wandb\n",
        "\n",
        "with wandb.init() as run:\n",
        "  image = np.random.randint(low=0, high=256, size=(100, 100, 3), dtype=np.uint8)\n",
        "  predicted_mask = np.empty((100, 100), dtype=np.uint8)\n",
        "  ground_truth_mask = np.empty((100, 100), dtype=np.uint8)\n",
        "\n",
        "  predicted_mask[:50, :50] = 0\n",
        "  predicted_mask[50:, :50] = 1\n",
        "  predicted_mask[:50, 50:] = 2\n",
        "  predicted_mask[50:, 50:] = 3\n",
        "\n",
        "  ground_truth_mask[:25, :25] = 0\n",
        "  ground_truth_mask[25:, :25] = 1\n",
        "  ground_truth_mask[:25, 25:] = 2\n",
        "  ground_truth_mask[25:, 25:] = 3\n",
        "\n",
        "  class_labels = {\n",
        "      0: \"person\",\n",
        "      1: \"tree\",\n",
        "      2: \"car\",\n",
        "      3: \"road\"\n",
        "  }\n",
        "\n",
        "  masked_image = wandb.Image(image, masks={\n",
        "      \"predictions\": {\n",
        "          \"mask_data\": predicted_mask,\n",
        "          \"class_labels\": class_labels\n",
        "      },\n",
        "      \"ground_truth\": {\n",
        "          \"mask_data\": ground_truth_mask,\n",
        "          \"class_labels\": class_labels\n",
        "      }\n",
        "  })\n",
        "  wandb.log({\"img_with_masks\" : masked_image})"
      ],
      "metadata": {
        "id": "OmUJZTRCXXVX",
        "colab": {
          "base_uri": "https://localhost:8080/",
          "height": 193
        },
        "outputId": "3ae35867-9b83-47c8-8140-53e633e9e735"
      },
      "execution_count": 13,
      "outputs": [
        {
          "output_type": "display_data",
          "data": {
            "text/plain": [
              "<IPython.core.display.HTML object>"
            ],
            "text/html": [
              "Tracking run with wandb version 0.15.8"
            ]
          },
          "metadata": {}
        },
        {
          "output_type": "display_data",
          "data": {
            "text/plain": [
              "<IPython.core.display.HTML object>"
            ],
            "text/html": [
              "Run data is saved locally in <code>/content/wandb/run-20230824_143815-a116slqv</code>"
            ]
          },
          "metadata": {}
        },
        {
          "output_type": "display_data",
          "data": {
            "text/plain": [
              "<IPython.core.display.HTML object>"
            ],
            "text/html": [
              "Syncing run <strong><a href='https://wandb.ai/tim-w/bootcamp/runs/a116slqv' target=\"_blank\">vocal-sun-28</a></strong> to <a href='https://wandb.ai/tim-w/bootcamp' target=\"_blank\">Weights & Biases</a> (<a href='https://wandb.me/run' target=\"_blank\">docs</a>)<br/>"
            ]
          },
          "metadata": {}
        },
        {
          "output_type": "display_data",
          "data": {
            "text/plain": [
              "<IPython.core.display.HTML object>"
            ],
            "text/html": [
              " View project at <a href='https://wandb.ai/tim-w/bootcamp' target=\"_blank\">https://wandb.ai/tim-w/bootcamp</a>"
            ]
          },
          "metadata": {}
        },
        {
          "output_type": "display_data",
          "data": {
            "text/plain": [
              "<IPython.core.display.HTML object>"
            ],
            "text/html": [
              " View run at <a href='https://wandb.ai/tim-w/bootcamp/runs/a116slqv' target=\"_blank\">https://wandb.ai/tim-w/bootcamp/runs/a116slqv</a>"
            ]
          },
          "metadata": {}
        },
        {
          "output_type": "display_data",
          "data": {
            "text/plain": [
              "<IPython.core.display.HTML object>"
            ],
            "text/html": [
              "Waiting for W&B process to finish... <strong style=\"color:green\">(success).</strong>"
            ]
          },
          "metadata": {}
        },
        {
          "output_type": "display_data",
          "data": {
            "text/plain": [
              "<IPython.core.display.HTML object>"
            ],
            "text/html": [
              " View run <strong style=\"color:#cdcd00\">vocal-sun-28</strong> at: <a href='https://wandb.ai/tim-w/bootcamp/runs/a116slqv' target=\"_blank\">https://wandb.ai/tim-w/bootcamp/runs/a116slqv</a><br/> View job at <a href='https://wandb.ai/tim-w/bootcamp/jobs/QXJ0aWZhY3RDb2xsZWN0aW9uOjkyNTkzNjY0/version_details/v5' target=\"_blank\">https://wandb.ai/tim-w/bootcamp/jobs/QXJ0aWZhY3RDb2xsZWN0aW9uOjkyNTkzNjY0/version_details/v5</a><br/>Synced 4 W&B file(s), 3 media file(s), 4 artifact file(s) and 1 other file(s)"
            ]
          },
          "metadata": {}
        },
        {
          "output_type": "display_data",
          "data": {
            "text/plain": [
              "<IPython.core.display.HTML object>"
            ],
            "text/html": [
              "Find logs at: <code>./wandb/run-20230824_143815-a116slqv/logs</code>"
            ]
          },
          "metadata": {}
        }
      ]
    },
    {
      "cell_type": "markdown",
      "source": [
        "### Log Sequences of Media\n",
        "\n",
        "If you periodically `wandb.log` a number (for example, loss), Weights & Biases will automatically render a line plot showing the change in that value over time (a loss curve). You can also log media under a key more than once over the course of an experiment, in which case Weights & Biases will display that media with a step slider so you can scrub over the course of the experiment and see how it changed. This is particularly useful for seeing how model predictions and visualizations of model performance (e.g. a precision/recall curve) change over time. In the example below, we log a `wandb.Image` repeatedly after applying a blur operation between each log step, just to demonstrate how this works."
      ],
      "metadata": {
        "id": "TwCPIt7Yn225"
      }
    },
    {
      "cell_type": "code",
      "source": [
        "%%sh\n",
        "curl https://parade.com/.image/t_share/MTkwNTgwOTUyNjU2Mzg5MjQ1/albert-einstein-quotes-jpg.jpg > image.jpg"
      ],
      "metadata": {
        "colab": {
          "base_uri": "https://localhost:8080/"
        },
        "id": "E1-C1R_boiql",
        "outputId": "a112f210-dff5-4c01-ed0a-3b2f4fc6ba77"
      },
      "execution_count": 14,
      "outputs": [
        {
          "output_type": "stream",
          "name": "stderr",
          "text": [
            "  % Total    % Received % Xferd  Average Speed   Time    Time     Time  Current\n",
            "                                 Dload  Upload   Total   Spent    Left  Speed\n",
            "\r  0     0    0     0    0     0      0      0 --:--:-- --:--:-- --:--:--     0\r  0     0    0     0    0     0      0      0 --:--:-- --:--:-- --:--:--     0\r100  170k  100  170k    0     0   507k      0 --:--:-- --:--:-- --:--:--  506k\n"
          ]
        }
      ]
    },
    {
      "cell_type": "code",
      "source": [
        "%%wandb\n",
        "from PIL import Image, ImageFilter\n",
        "import pandas as pd\n",
        "# Load image with pillow, resize to 512 square\n",
        "im = Image.open(\"./image.jpg\").resize((512, 512))\n",
        "images = []\n",
        "with wandb.init() as run:\n",
        "\n",
        "  for step in range(15):\n",
        "\n",
        "    # Log image\n",
        "    images.append( (step, wandb.Image(im)))\n",
        "    run.log({\"image\": wandb.Image(im)})\n",
        "\n",
        "    # Apply small Gaussian blur\n",
        "    im = im.filter(ImageFilter.GaussianBlur(radius=1.5))\n",
        "\n",
        "  wandb.log({ \"images_df\": pd.DataFrame( images, columns = [\"step\", \"images\"])})\n",
        "\n"
      ],
      "metadata": {
        "id": "WaIyQCp6G4Bc",
        "colab": {
          "base_uri": "https://localhost:8080/",
          "height": 599
        },
        "outputId": "c806426d-d3eb-4594-874c-fcdee5cf136d"
      },
      "execution_count": 15,
      "outputs": [
        {
          "output_type": "display_data",
          "data": {
            "text/plain": [
              "<IPython.core.display.HTML object>"
            ],
            "text/html": [
              "Tracking run with wandb version 0.15.8"
            ]
          },
          "metadata": {}
        },
        {
          "output_type": "display_data",
          "data": {
            "text/plain": [
              "<IPython.core.display.HTML object>"
            ],
            "text/html": [
              "Run data is saved locally in <code>/content/wandb/run-20230824_143912-vgq1kue5</code>"
            ]
          },
          "metadata": {}
        },
        {
          "output_type": "display_data",
          "data": {
            "text/plain": [
              "<wandb.jupyter.IFrame at 0x78cd3be5e380>"
            ],
            "text/html": [
              "<iframe src='https://wandb.ai/tim-w/bootcamp/runs/vgq1kue5?jupyter=true' style='border:none;width:100%;height:420px;'></iframe>"
            ]
          },
          "metadata": {}
        },
        {
          "output_type": "display_data",
          "data": {
            "text/plain": [
              "<IPython.core.display.HTML object>"
            ],
            "text/html": [
              " View project at <a href='https://wandb.ai/tim-w/bootcamp' target=\"_blank\">https://wandb.ai/tim-w/bootcamp</a>"
            ]
          },
          "metadata": {}
        },
        {
          "output_type": "display_data",
          "data": {
            "text/plain": [
              "<IPython.core.display.HTML object>"
            ],
            "text/html": [
              " View run at <a href='https://wandb.ai/tim-w/bootcamp/runs/vgq1kue5' target=\"_blank\">https://wandb.ai/tim-w/bootcamp/runs/vgq1kue5</a>"
            ]
          },
          "metadata": {}
        },
        {
          "output_type": "display_data",
          "data": {
            "text/plain": [
              "<IPython.core.display.HTML object>"
            ],
            "text/html": [
              "Waiting for W&B process to finish... <strong style=\"color:green\">(success).</strong>"
            ]
          },
          "metadata": {}
        },
        {
          "output_type": "display_data",
          "data": {
            "text/plain": [
              "<IPython.core.display.HTML object>"
            ],
            "text/html": [
              " View run <strong style=\"color:#cdcd00\">chocolate-microwave-29</strong> at: <a href='https://wandb.ai/tim-w/bootcamp/runs/vgq1kue5' target=\"_blank\">https://wandb.ai/tim-w/bootcamp/runs/vgq1kue5</a><br/> View job at <a href='https://wandb.ai/tim-w/bootcamp/jobs/QXJ0aWZhY3RDb2xsZWN0aW9uOjkyNTkzNjY0/version_details/v6' target=\"_blank\">https://wandb.ai/tim-w/bootcamp/jobs/QXJ0aWZhY3RDb2xsZWN0aW9uOjkyNTkzNjY0/version_details/v6</a><br/>Synced 4 W&B file(s), 16 media file(s), 20 artifact file(s) and 1 other file(s)"
            ]
          },
          "metadata": {}
        },
        {
          "output_type": "display_data",
          "data": {
            "text/plain": [
              "<IPython.core.display.HTML object>"
            ],
            "text/html": [
              "Find logs at: <code>./wandb/run-20230824_143912-vgq1kue5/logs</code>"
            ]
          },
          "metadata": {}
        }
      ]
    },
    {
      "cell_type": "markdown",
      "source": [
        "# W&B Artifact\n",
        "\n",
        "Use Weights & Biases Artifacts to track datasets, models, dependencies, and results through each step of your machine learning pipeline. Artifacts make it easy to get a complete and auditable history of changes to your files.\n",
        "Artifacts can be thought of as a versioned directory. Artifacts are either an input of a run or an output of a run. Common artifacts include entire training sets and models. Store datasets directly into artifacts, or use artifact references to point to data in other systems like Amazon S3, GCP, or your own system.\n",
        "\n",
        "![image.png](data:image/png;base64,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)"
      ],
      "metadata": {
        "id": "SML6jSBr7-0h"
      }
    },
    {
      "cell_type": "markdown",
      "source": [
        "# Getting Started\n",
        "\n",
        "Logging artifacts to W&B requires an active experiment.  But we can create the Artifact before or during the experiment!  The thing to keep in mind is that we must actually `log_artifact` before the experiment concludes.  \n",
        "\n",
        "When we start to create an Artifact, we must provide the following\n",
        "* `name`\n",
        "* `type`\n",
        "\n",
        "and we may provide\n",
        "* `description`\n",
        "* `metadata`\n",
        "\n",
        "Usage might look like\n",
        "\n",
        "```\n",
        "run = wandb.init(project = \"my-project\")\n",
        "artifact = wandb.Artifact(name = \"my_artifact\", type = \"data\")\n",
        "artifact.add_file(\"/path/to/my/file.txt\")\n",
        "run.log_artifact(artifact)\n",
        "run.finish()\n",
        "```\n",
        "\n",
        "Along with `add_file` we also provide the following methods\n",
        "* `add_dir` - Adds a local directory to the artifact.\n",
        "* `add_reference` - Adds a reference denoted by a URI to the artifact. Unlike adding files or directories,\n",
        "references are NOT uploaded to W&B. However, artifact methods such as `download()` can\n",
        "be used regardless of whether the artifact contains references or uploaded files.\n",
        "* `add` - add an W&B object to W&B Artifact.  supported objects include: ImageMasks, Audio, Image, Video, Tables\n",
        "\n",
        "\n",
        "There are some other patterns of usage that are less common, for example\n",
        "```\n",
        "import wandb\n",
        "artifact = wandb.Artifact(name = \"my-data\", type = \"dataset\")\n",
        "with artifact.new_file(\"my_data.txt\", mode=\"w\") as file:\n",
        "        file.write(\"some text\")\n",
        "run = wandb.init(\"artifact-ex\")\n",
        "run.log_artifact(artifact)\n",
        "run.finish()\n",
        "```"
      ],
      "metadata": {
        "id": "2Z16ucYB8Lf-"
      }
    },
    {
      "cell_type": "code",
      "source": [
        "with wandb.init() as run:\n",
        "  artifact = wandb.Artifact(name = \"colab-datasets\", type = \"data\")\n",
        "  artifact.add_dir(\"/content/sample_data\")\n",
        "  run.log_artifact(artifact)"
      ],
      "metadata": {
        "id": "GsWIwIRI8APE",
        "colab": {
          "base_uri": "https://localhost:8080/",
          "height": 230
        },
        "outputId": "19860c2e-79d8-456c-bc3e-abf578abb039"
      },
      "execution_count": 16,
      "outputs": [
        {
          "output_type": "display_data",
          "data": {
            "text/plain": [
              "<IPython.core.display.HTML object>"
            ],
            "text/html": [
              "Tracking run with wandb version 0.15.8"
            ]
          },
          "metadata": {}
        },
        {
          "output_type": "display_data",
          "data": {
            "text/plain": [
              "<IPython.core.display.HTML object>"
            ],
            "text/html": [
              "Run data is saved locally in <code>/content/wandb/run-20230824_144039-1swejfbk</code>"
            ]
          },
          "metadata": {}
        },
        {
          "output_type": "display_data",
          "data": {
            "text/plain": [
              "<IPython.core.display.HTML object>"
            ],
            "text/html": [
              "Syncing run <strong><a href='https://wandb.ai/tim-w/bootcamp/runs/1swejfbk' target=\"_blank\">sparkling-monkey-30</a></strong> to <a href='https://wandb.ai/tim-w/bootcamp' target=\"_blank\">Weights & Biases</a> (<a href='https://wandb.me/run' target=\"_blank\">docs</a>)<br/>"
            ]
          },
          "metadata": {}
        },
        {
          "output_type": "display_data",
          "data": {
            "text/plain": [
              "<IPython.core.display.HTML object>"
            ],
            "text/html": [
              " View project at <a href='https://wandb.ai/tim-w/bootcamp' target=\"_blank\">https://wandb.ai/tim-w/bootcamp</a>"
            ]
          },
          "metadata": {}
        },
        {
          "output_type": "display_data",
          "data": {
            "text/plain": [
              "<IPython.core.display.HTML object>"
            ],
            "text/html": [
              " View run at <a href='https://wandb.ai/tim-w/bootcamp/runs/1swejfbk' target=\"_blank\">https://wandb.ai/tim-w/bootcamp/runs/1swejfbk</a>"
            ]
          },
          "metadata": {}
        },
        {
          "output_type": "stream",
          "name": "stderr",
          "text": [
            "\u001b[34m\u001b[1mwandb\u001b[0m: Adding directory to artifact (/content/sample_data)... "
          ]
        },
        {
          "output_type": "stream",
          "name": "stdout",
          "text": [
            "{}\n"
          ]
        },
        {
          "output_type": "stream",
          "name": "stderr",
          "text": [
            "Done. 0.4s\n"
          ]
        },
        {
          "output_type": "display_data",
          "data": {
            "text/plain": [
              "<IPython.core.display.HTML object>"
            ],
            "text/html": [
              "Waiting for W&B process to finish... <strong style=\"color:green\">(success).</strong>"
            ]
          },
          "metadata": {}
        },
        {
          "output_type": "display_data",
          "data": {
            "text/plain": [
              "<IPython.core.display.HTML object>"
            ],
            "text/html": [
              " View run <strong style=\"color:#cdcd00\">sparkling-monkey-30</strong> at: <a href='https://wandb.ai/tim-w/bootcamp/runs/1swejfbk' target=\"_blank\">https://wandb.ai/tim-w/bootcamp/runs/1swejfbk</a><br/> View job at <a href='https://wandb.ai/tim-w/bootcamp/jobs/QXJ0aWZhY3RDb2xsZWN0aW9uOjkyNTkzNjY0/version_details/v7' target=\"_blank\">https://wandb.ai/tim-w/bootcamp/jobs/QXJ0aWZhY3RDb2xsZWN0aW9uOjkyNTkzNjY0/version_details/v7</a><br/>Synced 5 W&B file(s), 0 media file(s), 10 artifact file(s) and 1 other file(s)"
            ]
          },
          "metadata": {}
        },
        {
          "output_type": "display_data",
          "data": {
            "text/plain": [
              "<IPython.core.display.HTML object>"
            ],
            "text/html": [
              "Find logs at: <code>./wandb/run-20230824_144039-1swejfbk/logs</code>"
            ]
          },
          "metadata": {}
        }
      ]
    },
    {
      "cell_type": "markdown",
      "source": [
        "# Using Artifacts (and logging Point Clouds)\n",
        "\n",
        "Using artifacts in an experiment, you will always employ the following pattern\n",
        "\n",
        "* initialize the run\n",
        "* use the `run.use_artifact` method\n",
        "\n",
        "`use_artifact` returns a `wandb.Artifact`.  From here, you will either use the artifact's `get` method or the `download` method"
      ],
      "metadata": {
        "id": "AigVY-Ql8S9l"
      }
    },
    {
      "cell_type": "code",
      "source": [
        "import wandb\n",
        "import trimesh\n",
        "import os\n",
        "import pandas as pd\n",
        "create_boxes = lambda x: np.array(  # draw 3d boxes\n",
        "        [\n",
        "            {\n",
        "                \"corners\": [\n",
        "                    [10,10,10],\n",
        "                    [10,10,-10],\n",
        "                    [-10, 10, 10],\n",
        "                    [10, -10, 10],\n",
        "                    [10,-10,-10],\n",
        "                    [-10, -10, 10],\n",
        "                    [-10, 10, -10],\n",
        "                    [-10,-10,-10]\n",
        "                ],\n",
        "                \"label\": \"Box-1\",\n",
        "                \"color\": [123, 321, 111],\n",
        "            },\n",
        "            {\n",
        "                \"corners\": [\n",
        "                    [0,0,0],\n",
        "                    [0,2,0],\n",
        "                    [0,0,2],\n",
        "                    [2,0,0],\n",
        "                    [2,2,0],\n",
        "                    [0,2,2],\n",
        "                    [2,0,2],\n",
        "                    [2,2,2]\n",
        "                ],\n",
        "                \"label\": \"Box-2\",\n",
        "                \"color\": [111, 321, 0],\n",
        "            }\n",
        "        ]\n",
        "      )\n",
        "run = wandb.init()\n",
        "artifact = run.use_artifact('tim-w/training-20230119/point-cloud-ex:v0', type='data')\n",
        "artifact_dir = artifact.download(\"pointcloud-data\")\n",
        "point_clouds = []\n",
        "for object in [\"chair\", \"desk\", \"table\", \"toilet\"]:\n",
        "    ## load the point cloud\n",
        "    mesh = trimesh.load(os.path.join(artifact_dir, f\"{object}_0001.off\"))\n",
        "    ## sample the point cloud\n",
        "    points = mesh.sample(100000)\n",
        "    ## put the point cloud into a W&B class\n",
        "    boxes = create_boxes(points)\n",
        "    wandb_3d_object = wandb.Object3D({\n",
        "      \"type\": \"lidar/beta\",\n",
        "      \"points\": np.array(  # add points, as in a point cloud\n",
        "          points\n",
        "      ),\n",
        "      \"boxes\": boxes})\n",
        "    point_clouds.append(wandb_3d_object)\n",
        "# point_cloud_df = pd.DataFrame(point_clouds, columns = [\"point clouds\"])\n",
        "run.log({\"Point Clouds/point clouds\": point_clouds,\n",
        "        #  \"Point Clouds/point clouds table\": point_cloud_df\n",
        "         })\n",
        "run.finish()"
      ],
      "metadata": {
        "id": "3_JHtXA38WOL"
      },
      "execution_count": null,
      "outputs": []
    },
    {
      "cell_type": "markdown",
      "source": [
        "## Pytorch Lightning\n",
        "\n",
        "Now let's take a look at some code that actually trains a neural network and logs metrics and predictions to Weights & Biases. The code below trains a simple convolutional neural network (CNN) to classify images of clothing from the Fashion MNIST dataset. There are a few cool ways that the code below uses `wandb` to keep track of each execution.\n",
        "\n",
        "1. `wandb.watch` - This function from the `wandb` library allows you to automatically record gradients, parameter distributions, and network topology for any `torch` based model.\n",
        "\n",
        "2. Every 25 training steps, we log the average loss over the previous 25 steps as well as a `wandb.Histogram` the losses recorded in each of the previous 25 batches, which will allow us to see how the distribution of batch losses shifts over the course of training.\n",
        "\n",
        "3. We also load the examples and predictions from the first batch of every epoch into a `wandb.Table`.\n",
        "\n"
      ],
      "metadata": {
        "id": "dwbat9WvoXDl"
      }
    },
    {
      "cell_type": "code",
      "source": [],
      "metadata": {
        "id": "p1j3XEPc9Mcr"
      },
      "execution_count": null,
      "outputs": []
    },
    {
      "cell_type": "code",
      "source": [
        "\"\"\"pytorch-lightning example with W&B logging.\n",
        "\n",
        "Based on this colab:\n",
        "https://colab.research.google.com/drive/1F_RNcHzTfFuQf-LeKvSlud6x7jXYkG31\n",
        "\"\"\"\n",
        "\n",
        "import os\n",
        "\n",
        "import torch\n",
        "from torch.nn import functional as F\n",
        "from torch.utils.data import DataLoader\n",
        "from torchvision import transforms\n",
        "from torchvision.datasets import MNIST\n",
        "\n",
        "import pytorch_lightning as pl\n",
        "from pytorch_lightning.loggers import WandbLogger\n",
        "\n",
        "\n",
        "class MNISTModel(pl.LightningModule):\n",
        "    def __init__(self):\n",
        "        super().__init__()\n",
        "        # not the best model...\n",
        "        self.l1 = torch.nn.Linear(28 * 28, 10)\n",
        "\n",
        "    def prepare_data(self):\n",
        "        # download MNIST data only once\n",
        "        MNIST(os.getcwd(), train=True, download=True, transform=transforms.ToTensor())\n",
        "        MNIST(os.getcwd(), train=False, download=True, transform=transforms.ToTensor())\n",
        "\n",
        "    def forward(self, x):\n",
        "        # called with self(x)\n",
        "        return torch.relu(self.l1(x.view(x.size(0), -1)))\n",
        "\n",
        "    def training_step(self, batch, batch_nb):\n",
        "        # REQUIRED\n",
        "        x, y = batch\n",
        "        y_hat = self(x)\n",
        "        loss = F.cross_entropy(y_hat, y)\n",
        "        self.log(\"train_loss\", loss, on_step=True, on_epoch=False)\n",
        "        return loss\n",
        "\n",
        "    def validation_step(self, batch, batch_nb):\n",
        "        # OPTIONAL\n",
        "        x, y = batch\n",
        "        y_hat = self(x)\n",
        "        loss = F.cross_entropy(y_hat, y)\n",
        "        self.log(\"val_loss\", loss, on_step=False, on_epoch=True)\n",
        "\n",
        "    def test_step(self, batch, batch_nb):\n",
        "        # OPTIONAL\n",
        "        x, y = batch\n",
        "        y_hat = self(x)\n",
        "        loss = F.cross_entropy(y_hat, y)\n",
        "        self.log(\"test_loss\", loss, on_step=False, on_epoch=True)\n",
        "\n",
        "    def configure_optimizers(self):\n",
        "        # REQUIRED\n",
        "        # can return multiple optimizers and learning_rate schedulers\n",
        "        # (LBFGS it is automatically supported, no need for closure function)\n",
        "        return torch.optim.Adam(self.parameters(), lr=0.02)\n",
        "\n",
        "    def train_dataloader(self):\n",
        "        # REQUIRED\n",
        "        return DataLoader(\n",
        "            MNIST(os.getcwd(), train=True, download=False, transform=transforms.ToTensor()), batch_size=32\n",
        "        )\n",
        "\n",
        "    def val_dataloader(self):\n",
        "        # OPTIONAL\n",
        "        return DataLoader(\n",
        "            MNIST(os.getcwd(), train=True, download=False, transform=transforms.ToTensor()), batch_size=32\n",
        "        )\n",
        "\n",
        "    def test_dataloader(self):\n",
        "        # OPTIONAL\n",
        "        return DataLoader(\n",
        "            MNIST(os.getcwd(), train=True, download=False, transform=transforms.ToTensor()), batch_size=32\n",
        "        )\n",
        "\n",
        "\n"
      ],
      "metadata": {
        "id": "gOwidR44CPJA"
      },
      "execution_count": 17,
      "outputs": []
    },
    {
      "cell_type": "code",
      "source": [
        "wandb_logger = WandbLogger()\n",
        "mnist_model = MNISTModel()\n",
        "trainer = pl.Trainer(max_epochs=2, logger=wandb_logger)\n",
        "trainer.fit(mnist_model)\n",
        "trainer.test(mnist_model)\n"
      ],
      "metadata": {
        "id": "890py7YIpqIT",
        "colab": {
          "base_uri": "https://localhost:8080/",
          "height": 941,
          "referenced_widgets": [
            "e12c2c5d46964adebabcf2bbd5b4d029",
            "a45169e8db69461baa84e2be0ec21976",
            "a6f585fce889481d890834cb16c8ada7",
            "51622b5439da4f6cb271806999f4a9ba",
            "9da620d237754f63a953dccd09614fb3",
            "cc90ea41ce8e4a57bd848b1c151c8d06",
            "135ab61d152145a091db1a92abed7eef",
            "89744757340f4f4fad7db2347d2bf3e9",
            "f8048d17e1c440d49923e5be41c17bf0",
            "694a25f2fabe4892974cf08dcb3c3173",
            "15b5f2f5e35847e6ab8f64c6b6b7ad3d",
            "a3421f8c45e84368985ffa04cc8f6c52",
            "2aec312f90e7410f99bae144fe295d09",
            "f26b6c4c07214b9b892177fd3367a09d",
            "a4ecb4c6bc7f40beb4ff5df80285f0d0",
            "63ed1522f4d744b6a132045cb08f9e55",
            "82027bd2220944d5b4c4f6eba2f5ec9f",
            "31552a9601214d0ea3b2cf42957ac285",
            "0ed988e2254340a19c7ff5450cb0dd38",
            "9d67a23dab294c6a81b4e40b174ffefe",
            "0eef2e57ec3545a79f3d1928d4e2a942",
            "117e9c9fcbaf49a793ff9da4a22642ff",
            "43adaf8fb92042e58d8d0cabea1bbf6b",
            "fc0f5f64281c4e4ea146708373e0f734",
            "fe80cb7977244f288671983b7fa3388e",
            "c1739e6100b74a70a9a96975f5634dbf",
            "e5f5e4c5d2154906b90334d8fb25108a",
            "71804208162749cb9e704b9e2768a682",
            "06dc87aecccc4af497f4dafac23eb9cc",
            "e3c3323c2e5e4ee7805688044619bbec",
            "be2339d5f62c4d4f92fdce40c52fb64f",
            "8890cee531e64146b05234a7e7509f26",
            "788375fe5fb44fcb8c790211893cd186",
            "a545ed4f58fb497a960a06bb83b60c20",
            "b7449d66043142c2b9adf9f5f2838864",
            "b8fc21523a224e28b63ed49a63185319",
            "d323e38561974cdc82c4d35a01894da8",
            "972b2baf99a84592ab2ea2170e86630e",
            "2edb4c9e189c446fa91a2793c48a1f7c",
            "3513d040799e45719d6b426ab0c2a19e",
            "dcb16118c35845cdb79239c3d2cb1e27",
            "4aa48198a09e40d0aa87898d6cd42e4c",
            "904cd4ee8e7543a6896bb7e4d2a35157",
            "718ad4ee2bb0420fbecc3a63fd417390",
            "d8c6c181113b40e0b8721e61602259f2",
            "994d109f4c464cadbc3a75f0d503ab3b",
            "2db68f26b90f4d86a06f4585760098b0",
            "d6870694b45c4bea8339201aec2d621a",
            "f93dd14d6124422aa74c3ba9189e69a6",
            "fbfad7ec14a2419593797e1e5912fe58",
            "05c25550d2044274bccd3442680be8ab",
            "add0da59d30f4b01a36aed7c38e83552",
            "72f2438fc77b4deea0a4518d22c3a79b",
            "fb90382d1a8648a0a22d9faff3c9dc82",
            "bc5ca2a619f44467ba0c468ac6c8a107"
          ]
        },
        "outputId": "b1d3faf9-66a9-44eb-bb4f-c95fc406d8d7"
      },
      "execution_count": 19,
      "outputs": [
        {
          "output_type": "stream",
          "name": "stderr",
          "text": [
            "/usr/local/lib/python3.10/dist-packages/pytorch_lightning/loggers/wandb.py:397: UserWarning:\n",
            "\n",
            "There is a wandb run already in progress and newly created instances of `WandbLogger` will reuse this run. If this is not desired, call `wandb.finish()` before instantiating `WandbLogger`.\n",
            "\n",
            "INFO:pytorch_lightning.utilities.rank_zero:GPU available: True (cuda), used: True\n",
            "INFO:pytorch_lightning.utilities.rank_zero:TPU available: False, using: 0 TPU cores\n",
            "INFO:pytorch_lightning.utilities.rank_zero:IPU available: False, using: 0 IPUs\n",
            "INFO:pytorch_lightning.utilities.rank_zero:HPU available: False, using: 0 HPUs\n"
          ]
        },
        {
          "output_type": "stream",
          "name": "stdout",
          "text": [
            "Downloading http://yann.lecun.com/exdb/mnist/train-images-idx3-ubyte.gz\n",
            "Downloading http://yann.lecun.com/exdb/mnist/train-images-idx3-ubyte.gz to /content/MNIST/raw/train-images-idx3-ubyte.gz\n"
          ]
        },
        {
          "output_type": "stream",
          "name": "stderr",
          "text": [
            "100%|██████████| 9912422/9912422 [00:00<00:00, 116046722.82it/s]\n"
          ]
        },
        {
          "output_type": "stream",
          "name": "stdout",
          "text": [
            "Extracting /content/MNIST/raw/train-images-idx3-ubyte.gz to /content/MNIST/raw\n",
            "\n",
            "Downloading http://yann.lecun.com/exdb/mnist/train-labels-idx1-ubyte.gz\n",
            "Downloading http://yann.lecun.com/exdb/mnist/train-labels-idx1-ubyte.gz to /content/MNIST/raw/train-labels-idx1-ubyte.gz\n"
          ]
        },
        {
          "output_type": "stream",
          "name": "stderr",
          "text": [
            "100%|██████████| 28881/28881 [00:00<00:00, 36696665.81it/s]\n"
          ]
        },
        {
          "output_type": "stream",
          "name": "stdout",
          "text": [
            "Extracting /content/MNIST/raw/train-labels-idx1-ubyte.gz to /content/MNIST/raw\n",
            "\n",
            "Downloading http://yann.lecun.com/exdb/mnist/t10k-images-idx3-ubyte.gz\n",
            "Downloading http://yann.lecun.com/exdb/mnist/t10k-images-idx3-ubyte.gz to /content/MNIST/raw/t10k-images-idx3-ubyte.gz\n"
          ]
        },
        {
          "output_type": "stream",
          "name": "stderr",
          "text": [
            "100%|██████████| 1648877/1648877 [00:00<00:00, 169486371.69it/s]"
          ]
        },
        {
          "output_type": "stream",
          "name": "stdout",
          "text": [
            "Extracting /content/MNIST/raw/t10k-images-idx3-ubyte.gz to /content/MNIST/raw\n"
          ]
        },
        {
          "output_type": "stream",
          "name": "stderr",
          "text": [
            "\n"
          ]
        },
        {
          "output_type": "stream",
          "name": "stdout",
          "text": [
            "\n",
            "Downloading http://yann.lecun.com/exdb/mnist/t10k-labels-idx1-ubyte.gz\n",
            "Downloading http://yann.lecun.com/exdb/mnist/t10k-labels-idx1-ubyte.gz to /content/MNIST/raw/t10k-labels-idx1-ubyte.gz\n"
          ]
        },
        {
          "output_type": "stream",
          "name": "stderr",
          "text": [
            "100%|██████████| 4542/4542 [00:00<00:00, 6495236.54it/s]\n"
          ]
        },
        {
          "output_type": "stream",
          "name": "stdout",
          "text": [
            "Extracting /content/MNIST/raw/t10k-labels-idx1-ubyte.gz to /content/MNIST/raw\n",
            "\n"
          ]
        },
        {
          "output_type": "stream",
          "name": "stderr",
          "text": [
            "INFO:pytorch_lightning.accelerators.cuda:LOCAL_RANK: 0 - CUDA_VISIBLE_DEVICES: [0]\n",
            "INFO:pytorch_lightning.callbacks.model_summary:\n",
            "  | Name | Type   | Params\n",
            "--------------------------------\n",
            "0 | l1   | Linear | 7.9 K \n",
            "--------------------------------\n",
            "7.9 K     Trainable params\n",
            "0         Non-trainable params\n",
            "7.9 K     Total params\n",
            "0.031     Total estimated model params size (MB)\n"
          ]
        },
        {
          "output_type": "display_data",
          "data": {
            "text/plain": [
              "Sanity Checking: 0it [00:00, ?it/s]"
            ],
            "application/vnd.jupyter.widget-view+json": {
              "version_major": 2,
              "version_minor": 0,
              "model_id": "e12c2c5d46964adebabcf2bbd5b4d029"
            }
          },
          "metadata": {}
        },
        {
          "output_type": "display_data",
          "data": {
            "text/plain": [
              "Training: 0it [00:00, ?it/s]"
            ],
            "application/vnd.jupyter.widget-view+json": {
              "version_major": 2,
              "version_minor": 0,
              "model_id": "a3421f8c45e84368985ffa04cc8f6c52"
            }
          },
          "metadata": {}
        },
        {
          "output_type": "display_data",
          "data": {
            "text/plain": [
              "Validation: 0it [00:00, ?it/s]"
            ],
            "application/vnd.jupyter.widget-view+json": {
              "version_major": 2,
              "version_minor": 0,
              "model_id": "43adaf8fb92042e58d8d0cabea1bbf6b"
            }
          },
          "metadata": {}
        },
        {
          "output_type": "display_data",
          "data": {
            "text/plain": [
              "Validation: 0it [00:00, ?it/s]"
            ],
            "application/vnd.jupyter.widget-view+json": {
              "version_major": 2,
              "version_minor": 0,
              "model_id": "a545ed4f58fb497a960a06bb83b60c20"
            }
          },
          "metadata": {}
        },
        {
          "output_type": "stream",
          "name": "stderr",
          "text": [
            "INFO:pytorch_lightning.utilities.rank_zero:`Trainer.fit` stopped: `max_epochs=2` reached.\n",
            "INFO:pytorch_lightning.accelerators.cuda:LOCAL_RANK: 0 - CUDA_VISIBLE_DEVICES: [0]\n"
          ]
        },
        {
          "output_type": "display_data",
          "data": {
            "text/plain": [
              "Testing: 0it [00:00, ?it/s]"
            ],
            "application/vnd.jupyter.widget-view+json": {
              "version_major": 2,
              "version_minor": 0,
              "model_id": "d8c6c181113b40e0b8721e61602259f2"
            }
          },
          "metadata": {}
        },
        {
          "output_type": "display_data",
          "data": {
            "text/plain": [
              "┏━━━━━━━━━━━━━━━━━━━━━━━━━━━┳━━━━━━━━━━━━━━━━━━━━━━━━━━━┓\n",
              "┃\u001b[1m \u001b[0m\u001b[1m       Test metric       \u001b[0m\u001b[1m \u001b[0m┃\u001b[1m \u001b[0m\u001b[1m      DataLoader 0       \u001b[0m\u001b[1m \u001b[0m┃\n",
              "┡━━━━━━━━━━━━━━━━━━━━━━━━━━━╇━━━━━━━━━━━━━━━━━━━━━━━━━━━┩\n",
              "│\u001b[36m \u001b[0m\u001b[36m        test_loss        \u001b[0m\u001b[36m \u001b[0m│\u001b[35m \u001b[0m\u001b[35m   1.3854336738586426    \u001b[0m\u001b[35m \u001b[0m│\n",
              "└───────────────────────────┴───────────────────────────┘\n"
            ],
            "text/html": [
              "<pre style=\"white-space:pre;overflow-x:auto;line-height:normal;font-family:Menlo,'DejaVu Sans Mono',consolas,'Courier New',monospace\">┏━━━━━━━━━━━━━━━━━━━━━━━━━━━┳━━━━━━━━━━━━━━━━━━━━━━━━━━━┓\n",
              "┃<span style=\"font-weight: bold\">        Test metric        </span>┃<span style=\"font-weight: bold\">       DataLoader 0        </span>┃\n",
              "┡━━━━━━━━━━━━━━━━━━━━━━━━━━━╇━━━━━━━━━━━━━━━━━━━━━━━━━━━┩\n",
              "│<span style=\"color: #008080; text-decoration-color: #008080\">         test_loss         </span>│<span style=\"color: #800080; text-decoration-color: #800080\">    1.3854336738586426     </span>│\n",
              "└───────────────────────────┴───────────────────────────┘\n",
              "</pre>\n"
            ]
          },
          "metadata": {}
        },
        {
          "output_type": "execute_result",
          "data": {
            "text/plain": [
              "[{'test_loss': 1.3854336738586426}]"
            ]
          },
          "metadata": {},
          "execution_count": 19
        }
      ]
    },
    {
      "cell_type": "code",
      "source": [
        "wandb.finish()"
      ],
      "metadata": {
        "colab": {
          "base_uri": "https://localhost:8080/",
          "height": 303
        },
        "id": "aAEbQcTJ_utg",
        "outputId": "217010df-6f02-43c4-a7d6-f3838516927a"
      },
      "execution_count": 20,
      "outputs": [
        {
          "output_type": "display_data",
          "data": {
            "text/plain": [
              "<IPython.core.display.HTML object>"
            ],
            "text/html": [
              "Waiting for W&B process to finish... <strong style=\"color:green\">(success).</strong>"
            ]
          },
          "metadata": {}
        },
        {
          "output_type": "display_data",
          "data": {
            "text/plain": [
              "<IPython.core.display.HTML object>"
            ],
            "text/html": [
              "<style>\n",
              "    table.wandb td:nth-child(1) { padding: 0 10px; text-align: left ; width: auto;} td:nth-child(2) {text-align: left ; width: 100%}\n",
              "    .wandb-row { display: flex; flex-direction: row; flex-wrap: wrap; justify-content: flex-start; width: 100% }\n",
              "    .wandb-col { display: flex; flex-direction: column; flex-basis: 100%; flex: 1; padding: 10px; }\n",
              "    </style>\n",
              "<div class=\"wandb-row\"><div class=\"wandb-col\"><h3>Run history:</h3><br/><table class=\"wandb\"><tr><td>epoch</td><td>▁▁▁▁▁▁▁▁▁▁▁▁▁▁▁▁▁▁▁▁▅▅▅▅▅▅▅▅▅▅▅▅▅▅▅▅▅▅▅█</td></tr><tr><td>test_loss</td><td>▁</td></tr><tr><td>train_loss</td><td>▃▂▂▂▅▃▄▁▃▄▃▃▁▂▄▆▄▂▁▁▃▂▁▂▃▃▄▂█▃▇▄▂▃▂▃▅▃▂▁</td></tr><tr><td>trainer/global_step</td><td>▁▁▁▁▂▂▂▂▂▃▃▃▃▃▄▄▄▄▄▄▅▅▅▅▅▆▆▆▆▆▆▇▇▇▇▇████</td></tr><tr><td>val_loss</td><td>█▁</td></tr></table><br/></div><div class=\"wandb-col\"><h3>Run summary:</h3><br/><table class=\"wandb\"><tr><td>epoch</td><td>2</td></tr><tr><td>test_loss</td><td>1.38543</td></tr><tr><td>train_loss</td><td>1.10308</td></tr><tr><td>trainer/global_step</td><td>3750</td></tr><tr><td>val_loss</td><td>1.38543</td></tr></table><br/></div></div>"
            ]
          },
          "metadata": {}
        },
        {
          "output_type": "display_data",
          "data": {
            "text/plain": [
              "<IPython.core.display.HTML object>"
            ],
            "text/html": [
              " View run <strong style=\"color:#cdcd00\">neat-feather-31</strong> at: <a href='https://wandb.ai/tim-w/bootcamp/runs/so3t7w6o' target=\"_blank\">https://wandb.ai/tim-w/bootcamp/runs/so3t7w6o</a><br/> View job at <a href='https://wandb.ai/tim-w/bootcamp/jobs/QXJ0aWZhY3RDb2xsZWN0aW9uOjkyNTkzNjY0/version_details/v8' target=\"_blank\">https://wandb.ai/tim-w/bootcamp/jobs/QXJ0aWZhY3RDb2xsZWN0aW9uOjkyNTkzNjY0/version_details/v8</a><br/>Synced 5 W&B file(s), 0 media file(s), 6 artifact file(s) and 1 other file(s)"
            ]
          },
          "metadata": {}
        },
        {
          "output_type": "display_data",
          "data": {
            "text/plain": [
              "<IPython.core.display.HTML object>"
            ],
            "text/html": [
              "Find logs at: <code>./wandb/run-20230824_144213-so3t7w6o/logs</code>"
            ]
          },
          "metadata": {}
        }
      ]
    },
    {
      "cell_type": "code",
      "source": [],
      "metadata": {
        "id": "mCfjNCMOAB-E"
      },
      "execution_count": null,
      "outputs": []
    }
  ]
}