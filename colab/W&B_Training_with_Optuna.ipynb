{
  "nbformat": 4,
  "nbformat_minor": 0,
  "metadata": {
    "colab": {
      "name": "W&B Training.ipynb",
      "provenance": [],
      "collapsed_sections": [],
      "authorship_tag": "ABX9TyPLQq7RKJV+aNbo508i+du5",
      "include_colab_link": true
    },
    "kernelspec": {
      "name": "python3",
      "display_name": "Python 3"
    },
    "language_info": {
      "name": "python"
    },
    "widgets": {
      "application/vnd.jupyter.widget-state+json": {
        "51000826f16e431685dd38a648fa5133": {
          "model_module": "@jupyter-widgets/controls",
          "model_name": "VBoxModel",
          "model_module_version": "1.5.0",
          "state": {
            "_dom_classes": [],
            "_model_module": "@jupyter-widgets/controls",
            "_model_module_version": "1.5.0",
            "_model_name": "VBoxModel",
            "_view_count": null,
            "_view_module": "@jupyter-widgets/controls",
            "_view_module_version": "1.5.0",
            "_view_name": "VBoxView",
            "box_style": "",
            "children": [
              "IPY_MODEL_734bce62f7ce4a639b6cbc7298ea9bc6",
              "IPY_MODEL_9fee3e4fa3934c96b11ba96395eb1f99"
            ],
            "layout": "IPY_MODEL_d6e3183de1a04a5c85945d1ef9e82654"
          }
        },
        "734bce62f7ce4a639b6cbc7298ea9bc6": {
          "model_module": "@jupyter-widgets/controls",
          "model_name": "LabelModel",
          "model_module_version": "1.5.0",
          "state": {
            "_dom_classes": [],
            "_model_module": "@jupyter-widgets/controls",
            "_model_module_version": "1.5.0",
            "_model_name": "LabelModel",
            "_view_count": null,
            "_view_module": "@jupyter-widgets/controls",
            "_view_module_version": "1.5.0",
            "_view_name": "LabelView",
            "description": "",
            "description_tooltip": null,
            "layout": "IPY_MODEL_5f813a6d218141e0a4dac2bb8b81182d",
            "placeholder": "​",
            "style": "IPY_MODEL_a4fd289bd72849f89b2be2e4b9e0e0cd",
            "value": "0.303 MB of 0.303 MB uploaded (0.000 MB deduped)\r"
          }
        },
        "9fee3e4fa3934c96b11ba96395eb1f99": {
          "model_module": "@jupyter-widgets/controls",
          "model_name": "FloatProgressModel",
          "model_module_version": "1.5.0",
          "state": {
            "_dom_classes": [],
            "_model_module": "@jupyter-widgets/controls",
            "_model_module_version": "1.5.0",
            "_model_name": "FloatProgressModel",
            "_view_count": null,
            "_view_module": "@jupyter-widgets/controls",
            "_view_module_version": "1.5.0",
            "_view_name": "ProgressView",
            "bar_style": "",
            "description": "",
            "description_tooltip": null,
            "layout": "IPY_MODEL_ea5b5195b77f4be18624c6bb5b639e3e",
            "max": 1,
            "min": 0,
            "orientation": "horizontal",
            "style": "IPY_MODEL_235c504b7bfa40ff8cc8a76aae813990",
            "value": 1
          }
        },
        "d6e3183de1a04a5c85945d1ef9e82654": {
          "model_module": "@jupyter-widgets/base",
          "model_name": "LayoutModel",
          "model_module_version": "1.2.0",
          "state": {
            "_model_module": "@jupyter-widgets/base",
            "_model_module_version": "1.2.0",
            "_model_name": "LayoutModel",
            "_view_count": null,
            "_view_module": "@jupyter-widgets/base",
            "_view_module_version": "1.2.0",
            "_view_name": "LayoutView",
            "align_content": null,
            "align_items": null,
            "align_self": null,
            "border": null,
            "bottom": null,
            "display": null,
            "flex": null,
            "flex_flow": null,
            "grid_area": null,
            "grid_auto_columns": null,
            "grid_auto_flow": null,
            "grid_auto_rows": null,
            "grid_column": null,
            "grid_gap": null,
            "grid_row": null,
            "grid_template_areas": null,
            "grid_template_columns": null,
            "grid_template_rows": null,
            "height": null,
            "justify_content": null,
            "justify_items": null,
            "left": null,
            "margin": null,
            "max_height": null,
            "max_width": null,
            "min_height": null,
            "min_width": null,
            "object_fit": null,
            "object_position": null,
            "order": null,
            "overflow": null,
            "overflow_x": null,
            "overflow_y": null,
            "padding": null,
            "right": null,
            "top": null,
            "visibility": null,
            "width": null
          }
        },
        "5f813a6d218141e0a4dac2bb8b81182d": {
          "model_module": "@jupyter-widgets/base",
          "model_name": "LayoutModel",
          "model_module_version": "1.2.0",
          "state": {
            "_model_module": "@jupyter-widgets/base",
            "_model_module_version": "1.2.0",
            "_model_name": "LayoutModel",
            "_view_count": null,
            "_view_module": "@jupyter-widgets/base",
            "_view_module_version": "1.2.0",
            "_view_name": "LayoutView",
            "align_content": null,
            "align_items": null,
            "align_self": null,
            "border": null,
            "bottom": null,
            "display": null,
            "flex": null,
            "flex_flow": null,
            "grid_area": null,
            "grid_auto_columns": null,
            "grid_auto_flow": null,
            "grid_auto_rows": null,
            "grid_column": null,
            "grid_gap": null,
            "grid_row": null,
            "grid_template_areas": null,
            "grid_template_columns": null,
            "grid_template_rows": null,
            "height": null,
            "justify_content": null,
            "justify_items": null,
            "left": null,
            "margin": null,
            "max_height": null,
            "max_width": null,
            "min_height": null,
            "min_width": null,
            "object_fit": null,
            "object_position": null,
            "order": null,
            "overflow": null,
            "overflow_x": null,
            "overflow_y": null,
            "padding": null,
            "right": null,
            "top": null,
            "visibility": null,
            "width": null
          }
        },
        "a4fd289bd72849f89b2be2e4b9e0e0cd": {
          "model_module": "@jupyter-widgets/controls",
          "model_name": "DescriptionStyleModel",
          "model_module_version": "1.5.0",
          "state": {
            "_model_module": "@jupyter-widgets/controls",
            "_model_module_version": "1.5.0",
            "_model_name": "DescriptionStyleModel",
            "_view_count": null,
            "_view_module": "@jupyter-widgets/base",
            "_view_module_version": "1.2.0",
            "_view_name": "StyleView",
            "description_width": ""
          }
        },
        "ea5b5195b77f4be18624c6bb5b639e3e": {
          "model_module": "@jupyter-widgets/base",
          "model_name": "LayoutModel",
          "model_module_version": "1.2.0",
          "state": {
            "_model_module": "@jupyter-widgets/base",
            "_model_module_version": "1.2.0",
            "_model_name": "LayoutModel",
            "_view_count": null,
            "_view_module": "@jupyter-widgets/base",
            "_view_module_version": "1.2.0",
            "_view_name": "LayoutView",
            "align_content": null,
            "align_items": null,
            "align_self": null,
            "border": null,
            "bottom": null,
            "display": null,
            "flex": null,
            "flex_flow": null,
            "grid_area": null,
            "grid_auto_columns": null,
            "grid_auto_flow": null,
            "grid_auto_rows": null,
            "grid_column": null,
            "grid_gap": null,
            "grid_row": null,
            "grid_template_areas": null,
            "grid_template_columns": null,
            "grid_template_rows": null,
            "height": null,
            "justify_content": null,
            "justify_items": null,
            "left": null,
            "margin": null,
            "max_height": null,
            "max_width": null,
            "min_height": null,
            "min_width": null,
            "object_fit": null,
            "object_position": null,
            "order": null,
            "overflow": null,
            "overflow_x": null,
            "overflow_y": null,
            "padding": null,
            "right": null,
            "top": null,
            "visibility": null,
            "width": null
          }
        },
        "235c504b7bfa40ff8cc8a76aae813990": {
          "model_module": "@jupyter-widgets/controls",
          "model_name": "ProgressStyleModel",
          "model_module_version": "1.5.0",
          "state": {
            "_model_module": "@jupyter-widgets/controls",
            "_model_module_version": "1.5.0",
            "_model_name": "ProgressStyleModel",
            "_view_count": null,
            "_view_module": "@jupyter-widgets/base",
            "_view_module_version": "1.2.0",
            "_view_name": "StyleView",
            "bar_color": null,
            "description_width": ""
          }
        },
        "3e54ef8441fc479aa46340856d507c68": {
          "model_module": "@jupyter-widgets/controls",
          "model_name": "HBoxModel",
          "model_module_version": "1.5.0",
          "state": {
            "_dom_classes": [],
            "_model_module": "@jupyter-widgets/controls",
            "_model_module_version": "1.5.0",
            "_model_name": "HBoxModel",
            "_view_count": null,
            "_view_module": "@jupyter-widgets/controls",
            "_view_module_version": "1.5.0",
            "_view_name": "HBoxView",
            "box_style": "",
            "children": [
              "IPY_MODEL_3d4975471eb24913bef9d779eaa6c75b",
              "IPY_MODEL_ec20c755edd5429b968dd372962542a6",
              "IPY_MODEL_0500eddabad64d239fdb60704b9ddd88"
            ],
            "layout": "IPY_MODEL_5218d8c624f6432ab804a59e66f480b2"
          }
        },
        "3d4975471eb24913bef9d779eaa6c75b": {
          "model_module": "@jupyter-widgets/controls",
          "model_name": "HTMLModel",
          "model_module_version": "1.5.0",
          "state": {
            "_dom_classes": [],
            "_model_module": "@jupyter-widgets/controls",
            "_model_module_version": "1.5.0",
            "_model_name": "HTMLModel",
            "_view_count": null,
            "_view_module": "@jupyter-widgets/controls",
            "_view_module_version": "1.5.0",
            "_view_name": "HTMLView",
            "description": "",
            "description_tooltip": null,
            "layout": "IPY_MODEL_0334a1ae434f420c80e0f75c7b994c31",
            "placeholder": "​",
            "style": "IPY_MODEL_0baf29b4010148bf84dee9dd3f819219",
            "value": "100%"
          }
        },
        "ec20c755edd5429b968dd372962542a6": {
          "model_module": "@jupyter-widgets/controls",
          "model_name": "FloatProgressModel",
          "model_module_version": "1.5.0",
          "state": {
            "_dom_classes": [],
            "_model_module": "@jupyter-widgets/controls",
            "_model_module_version": "1.5.0",
            "_model_name": "FloatProgressModel",
            "_view_count": null,
            "_view_module": "@jupyter-widgets/controls",
            "_view_module_version": "1.5.0",
            "_view_name": "ProgressView",
            "bar_style": "success",
            "description": "",
            "description_tooltip": null,
            "layout": "IPY_MODEL_5350c0040b374708bb6990ea78e1d05c",
            "max": 5,
            "min": 0,
            "orientation": "horizontal",
            "style": "IPY_MODEL_52710056b68f48f294e8b8562f9652b6",
            "value": 5
          }
        },
        "0500eddabad64d239fdb60704b9ddd88": {
          "model_module": "@jupyter-widgets/controls",
          "model_name": "HTMLModel",
          "model_module_version": "1.5.0",
          "state": {
            "_dom_classes": [],
            "_model_module": "@jupyter-widgets/controls",
            "_model_module_version": "1.5.0",
            "_model_name": "HTMLModel",
            "_view_count": null,
            "_view_module": "@jupyter-widgets/controls",
            "_view_module_version": "1.5.0",
            "_view_name": "HTMLView",
            "description": "",
            "description_tooltip": null,
            "layout": "IPY_MODEL_73d208160d824c6195d650e2efb243e7",
            "placeholder": "​",
            "style": "IPY_MODEL_87e6ec3e18114eec8a791bd057a28a64",
            "value": " 5/5 [00:36&lt;00:00,  7.20s/it]"
          }
        },
        "5218d8c624f6432ab804a59e66f480b2": {
          "model_module": "@jupyter-widgets/base",
          "model_name": "LayoutModel",
          "model_module_version": "1.2.0",
          "state": {
            "_model_module": "@jupyter-widgets/base",
            "_model_module_version": "1.2.0",
            "_model_name": "LayoutModel",
            "_view_count": null,
            "_view_module": "@jupyter-widgets/base",
            "_view_module_version": "1.2.0",
            "_view_name": "LayoutView",
            "align_content": null,
            "align_items": null,
            "align_self": null,
            "border": null,
            "bottom": null,
            "display": null,
            "flex": null,
            "flex_flow": null,
            "grid_area": null,
            "grid_auto_columns": null,
            "grid_auto_flow": null,
            "grid_auto_rows": null,
            "grid_column": null,
            "grid_gap": null,
            "grid_row": null,
            "grid_template_areas": null,
            "grid_template_columns": null,
            "grid_template_rows": null,
            "height": null,
            "justify_content": null,
            "justify_items": null,
            "left": null,
            "margin": null,
            "max_height": null,
            "max_width": null,
            "min_height": null,
            "min_width": null,
            "object_fit": null,
            "object_position": null,
            "order": null,
            "overflow": null,
            "overflow_x": null,
            "overflow_y": null,
            "padding": null,
            "right": null,
            "top": null,
            "visibility": null,
            "width": null
          }
        },
        "0334a1ae434f420c80e0f75c7b994c31": {
          "model_module": "@jupyter-widgets/base",
          "model_name": "LayoutModel",
          "model_module_version": "1.2.0",
          "state": {
            "_model_module": "@jupyter-widgets/base",
            "_model_module_version": "1.2.0",
            "_model_name": "LayoutModel",
            "_view_count": null,
            "_view_module": "@jupyter-widgets/base",
            "_view_module_version": "1.2.0",
            "_view_name": "LayoutView",
            "align_content": null,
            "align_items": null,
            "align_self": null,
            "border": null,
            "bottom": null,
            "display": null,
            "flex": null,
            "flex_flow": null,
            "grid_area": null,
            "grid_auto_columns": null,
            "grid_auto_flow": null,
            "grid_auto_rows": null,
            "grid_column": null,
            "grid_gap": null,
            "grid_row": null,
            "grid_template_areas": null,
            "grid_template_columns": null,
            "grid_template_rows": null,
            "height": null,
            "justify_content": null,
            "justify_items": null,
            "left": null,
            "margin": null,
            "max_height": null,
            "max_width": null,
            "min_height": null,
            "min_width": null,
            "object_fit": null,
            "object_position": null,
            "order": null,
            "overflow": null,
            "overflow_x": null,
            "overflow_y": null,
            "padding": null,
            "right": null,
            "top": null,
            "visibility": null,
            "width": null
          }
        },
        "0baf29b4010148bf84dee9dd3f819219": {
          "model_module": "@jupyter-widgets/controls",
          "model_name": "DescriptionStyleModel",
          "model_module_version": "1.5.0",
          "state": {
            "_model_module": "@jupyter-widgets/controls",
            "_model_module_version": "1.5.0",
            "_model_name": "DescriptionStyleModel",
            "_view_count": null,
            "_view_module": "@jupyter-widgets/base",
            "_view_module_version": "1.2.0",
            "_view_name": "StyleView",
            "description_width": ""
          }
        },
        "5350c0040b374708bb6990ea78e1d05c": {
          "model_module": "@jupyter-widgets/base",
          "model_name": "LayoutModel",
          "model_module_version": "1.2.0",
          "state": {
            "_model_module": "@jupyter-widgets/base",
            "_model_module_version": "1.2.0",
            "_model_name": "LayoutModel",
            "_view_count": null,
            "_view_module": "@jupyter-widgets/base",
            "_view_module_version": "1.2.0",
            "_view_name": "LayoutView",
            "align_content": null,
            "align_items": null,
            "align_self": null,
            "border": null,
            "bottom": null,
            "display": null,
            "flex": null,
            "flex_flow": null,
            "grid_area": null,
            "grid_auto_columns": null,
            "grid_auto_flow": null,
            "grid_auto_rows": null,
            "grid_column": null,
            "grid_gap": null,
            "grid_row": null,
            "grid_template_areas": null,
            "grid_template_columns": null,
            "grid_template_rows": null,
            "height": null,
            "justify_content": null,
            "justify_items": null,
            "left": null,
            "margin": null,
            "max_height": null,
            "max_width": null,
            "min_height": null,
            "min_width": null,
            "object_fit": null,
            "object_position": null,
            "order": null,
            "overflow": null,
            "overflow_x": null,
            "overflow_y": null,
            "padding": null,
            "right": null,
            "top": null,
            "visibility": null,
            "width": null
          }
        },
        "52710056b68f48f294e8b8562f9652b6": {
          "model_module": "@jupyter-widgets/controls",
          "model_name": "ProgressStyleModel",
          "model_module_version": "1.5.0",
          "state": {
            "_model_module": "@jupyter-widgets/controls",
            "_model_module_version": "1.5.0",
            "_model_name": "ProgressStyleModel",
            "_view_count": null,
            "_view_module": "@jupyter-widgets/base",
            "_view_module_version": "1.2.0",
            "_view_name": "StyleView",
            "bar_color": null,
            "description_width": ""
          }
        },
        "73d208160d824c6195d650e2efb243e7": {
          "model_module": "@jupyter-widgets/base",
          "model_name": "LayoutModel",
          "model_module_version": "1.2.0",
          "state": {
            "_model_module": "@jupyter-widgets/base",
            "_model_module_version": "1.2.0",
            "_model_name": "LayoutModel",
            "_view_count": null,
            "_view_module": "@jupyter-widgets/base",
            "_view_module_version": "1.2.0",
            "_view_name": "LayoutView",
            "align_content": null,
            "align_items": null,
            "align_self": null,
            "border": null,
            "bottom": null,
            "display": null,
            "flex": null,
            "flex_flow": null,
            "grid_area": null,
            "grid_auto_columns": null,
            "grid_auto_flow": null,
            "grid_auto_rows": null,
            "grid_column": null,
            "grid_gap": null,
            "grid_row": null,
            "grid_template_areas": null,
            "grid_template_columns": null,
            "grid_template_rows": null,
            "height": null,
            "justify_content": null,
            "justify_items": null,
            "left": null,
            "margin": null,
            "max_height": null,
            "max_width": null,
            "min_height": null,
            "min_width": null,
            "object_fit": null,
            "object_position": null,
            "order": null,
            "overflow": null,
            "overflow_x": null,
            "overflow_y": null,
            "padding": null,
            "right": null,
            "top": null,
            "visibility": null,
            "width": null
          }
        },
        "87e6ec3e18114eec8a791bd057a28a64": {
          "model_module": "@jupyter-widgets/controls",
          "model_name": "DescriptionStyleModel",
          "model_module_version": "1.5.0",
          "state": {
            "_model_module": "@jupyter-widgets/controls",
            "_model_module_version": "1.5.0",
            "_model_name": "DescriptionStyleModel",
            "_view_count": null,
            "_view_module": "@jupyter-widgets/base",
            "_view_module_version": "1.2.0",
            "_view_name": "StyleView",
            "description_width": ""
          }
        },
        "1bd2edad2fb345ceb8e768ebff29abbc": {
          "model_module": "@jupyter-widgets/controls",
          "model_name": "VBoxModel",
          "model_module_version": "1.5.0",
          "state": {
            "_dom_classes": [],
            "_model_module": "@jupyter-widgets/controls",
            "_model_module_version": "1.5.0",
            "_model_name": "VBoxModel",
            "_view_count": null,
            "_view_module": "@jupyter-widgets/controls",
            "_view_module_version": "1.5.0",
            "_view_name": "VBoxView",
            "box_style": "",
            "children": [
              "IPY_MODEL_c58550288db44bac9ca4acb753827d16",
              "IPY_MODEL_eb6d362730634c48a68ae85946567a6b"
            ],
            "layout": "IPY_MODEL_a41e991891364537ac055d85d06fa8d8"
          }
        },
        "c58550288db44bac9ca4acb753827d16": {
          "model_module": "@jupyter-widgets/controls",
          "model_name": "LabelModel",
          "model_module_version": "1.5.0",
          "state": {
            "_dom_classes": [],
            "_model_module": "@jupyter-widgets/controls",
            "_model_module_version": "1.5.0",
            "_model_name": "LabelModel",
            "_view_count": null,
            "_view_module": "@jupyter-widgets/controls",
            "_view_module_version": "1.5.0",
            "_view_name": "LabelView",
            "description": "",
            "description_tooltip": null,
            "layout": "IPY_MODEL_b999fb389749428296635b6b22f04190",
            "placeholder": "​",
            "style": "IPY_MODEL_f020519d7d41474cb18bcb7ac673ba65",
            "value": "0.210 MB of 0.210 MB uploaded (0.000 MB deduped)\r"
          }
        },
        "eb6d362730634c48a68ae85946567a6b": {
          "model_module": "@jupyter-widgets/controls",
          "model_name": "FloatProgressModel",
          "model_module_version": "1.5.0",
          "state": {
            "_dom_classes": [],
            "_model_module": "@jupyter-widgets/controls",
            "_model_module_version": "1.5.0",
            "_model_name": "FloatProgressModel",
            "_view_count": null,
            "_view_module": "@jupyter-widgets/controls",
            "_view_module_version": "1.5.0",
            "_view_name": "ProgressView",
            "bar_style": "",
            "description": "",
            "description_tooltip": null,
            "layout": "IPY_MODEL_303e8196157d454088112a6281e5564a",
            "max": 1,
            "min": 0,
            "orientation": "horizontal",
            "style": "IPY_MODEL_5a0fe2d766bd4cd6bd3aae868ce8b1d9",
            "value": 1
          }
        },
        "a41e991891364537ac055d85d06fa8d8": {
          "model_module": "@jupyter-widgets/base",
          "model_name": "LayoutModel",
          "model_module_version": "1.2.0",
          "state": {
            "_model_module": "@jupyter-widgets/base",
            "_model_module_version": "1.2.0",
            "_model_name": "LayoutModel",
            "_view_count": null,
            "_view_module": "@jupyter-widgets/base",
            "_view_module_version": "1.2.0",
            "_view_name": "LayoutView",
            "align_content": null,
            "align_items": null,
            "align_self": null,
            "border": null,
            "bottom": null,
            "display": null,
            "flex": null,
            "flex_flow": null,
            "grid_area": null,
            "grid_auto_columns": null,
            "grid_auto_flow": null,
            "grid_auto_rows": null,
            "grid_column": null,
            "grid_gap": null,
            "grid_row": null,
            "grid_template_areas": null,
            "grid_template_columns": null,
            "grid_template_rows": null,
            "height": null,
            "justify_content": null,
            "justify_items": null,
            "left": null,
            "margin": null,
            "max_height": null,
            "max_width": null,
            "min_height": null,
            "min_width": null,
            "object_fit": null,
            "object_position": null,
            "order": null,
            "overflow": null,
            "overflow_x": null,
            "overflow_y": null,
            "padding": null,
            "right": null,
            "top": null,
            "visibility": null,
            "width": null
          }
        },
        "b999fb389749428296635b6b22f04190": {
          "model_module": "@jupyter-widgets/base",
          "model_name": "LayoutModel",
          "model_module_version": "1.2.0",
          "state": {
            "_model_module": "@jupyter-widgets/base",
            "_model_module_version": "1.2.0",
            "_model_name": "LayoutModel",
            "_view_count": null,
            "_view_module": "@jupyter-widgets/base",
            "_view_module_version": "1.2.0",
            "_view_name": "LayoutView",
            "align_content": null,
            "align_items": null,
            "align_self": null,
            "border": null,
            "bottom": null,
            "display": null,
            "flex": null,
            "flex_flow": null,
            "grid_area": null,
            "grid_auto_columns": null,
            "grid_auto_flow": null,
            "grid_auto_rows": null,
            "grid_column": null,
            "grid_gap": null,
            "grid_row": null,
            "grid_template_areas": null,
            "grid_template_columns": null,
            "grid_template_rows": null,
            "height": null,
            "justify_content": null,
            "justify_items": null,
            "left": null,
            "margin": null,
            "max_height": null,
            "max_width": null,
            "min_height": null,
            "min_width": null,
            "object_fit": null,
            "object_position": null,
            "order": null,
            "overflow": null,
            "overflow_x": null,
            "overflow_y": null,
            "padding": null,
            "right": null,
            "top": null,
            "visibility": null,
            "width": null
          }
        },
        "f020519d7d41474cb18bcb7ac673ba65": {
          "model_module": "@jupyter-widgets/controls",
          "model_name": "DescriptionStyleModel",
          "model_module_version": "1.5.0",
          "state": {
            "_model_module": "@jupyter-widgets/controls",
            "_model_module_version": "1.5.0",
            "_model_name": "DescriptionStyleModel",
            "_view_count": null,
            "_view_module": "@jupyter-widgets/base",
            "_view_module_version": "1.2.0",
            "_view_name": "StyleView",
            "description_width": ""
          }
        },
        "303e8196157d454088112a6281e5564a": {
          "model_module": "@jupyter-widgets/base",
          "model_name": "LayoutModel",
          "model_module_version": "1.2.0",
          "state": {
            "_model_module": "@jupyter-widgets/base",
            "_model_module_version": "1.2.0",
            "_model_name": "LayoutModel",
            "_view_count": null,
            "_view_module": "@jupyter-widgets/base",
            "_view_module_version": "1.2.0",
            "_view_name": "LayoutView",
            "align_content": null,
            "align_items": null,
            "align_self": null,
            "border": null,
            "bottom": null,
            "display": null,
            "flex": null,
            "flex_flow": null,
            "grid_area": null,
            "grid_auto_columns": null,
            "grid_auto_flow": null,
            "grid_auto_rows": null,
            "grid_column": null,
            "grid_gap": null,
            "grid_row": null,
            "grid_template_areas": null,
            "grid_template_columns": null,
            "grid_template_rows": null,
            "height": null,
            "justify_content": null,
            "justify_items": null,
            "left": null,
            "margin": null,
            "max_height": null,
            "max_width": null,
            "min_height": null,
            "min_width": null,
            "object_fit": null,
            "object_position": null,
            "order": null,
            "overflow": null,
            "overflow_x": null,
            "overflow_y": null,
            "padding": null,
            "right": null,
            "top": null,
            "visibility": null,
            "width": null
          }
        },
        "5a0fe2d766bd4cd6bd3aae868ce8b1d9": {
          "model_module": "@jupyter-widgets/controls",
          "model_name": "ProgressStyleModel",
          "model_module_version": "1.5.0",
          "state": {
            "_model_module": "@jupyter-widgets/controls",
            "_model_module_version": "1.5.0",
            "_model_name": "ProgressStyleModel",
            "_view_count": null,
            "_view_module": "@jupyter-widgets/base",
            "_view_module_version": "1.2.0",
            "_view_name": "StyleView",
            "bar_color": null,
            "description_width": ""
          }
        },
        "5392f785da4d488aa08ffbca0adb559b": {
          "model_module": "@jupyter-widgets/controls",
          "model_name": "HBoxModel",
          "model_module_version": "1.5.0",
          "state": {
            "_dom_classes": [],
            "_model_module": "@jupyter-widgets/controls",
            "_model_module_version": "1.5.0",
            "_model_name": "HBoxModel",
            "_view_count": null,
            "_view_module": "@jupyter-widgets/controls",
            "_view_module_version": "1.5.0",
            "_view_name": "HBoxView",
            "box_style": "",
            "children": [
              "IPY_MODEL_0173be06b6614b6a93bbdcc809293aa1",
              "IPY_MODEL_bce153263c8c4961aabb4160edb8f139",
              "IPY_MODEL_b147275d5b57487ea635317f2e4415f6"
            ],
            "layout": "IPY_MODEL_e98dfd890c1945619b09538f6005ee59"
          }
        },
        "0173be06b6614b6a93bbdcc809293aa1": {
          "model_module": "@jupyter-widgets/controls",
          "model_name": "HTMLModel",
          "model_module_version": "1.5.0",
          "state": {
            "_dom_classes": [],
            "_model_module": "@jupyter-widgets/controls",
            "_model_module_version": "1.5.0",
            "_model_name": "HTMLModel",
            "_view_count": null,
            "_view_module": "@jupyter-widgets/controls",
            "_view_module_version": "1.5.0",
            "_view_name": "HTMLView",
            "description": "",
            "description_tooltip": null,
            "layout": "IPY_MODEL_a48470fbb81d4bb0b63ff6e93f0b44bc",
            "placeholder": "​",
            "style": "IPY_MODEL_fb4a9bb840b44043ab1f4216b798d52e",
            "value": "100%"
          }
        },
        "bce153263c8c4961aabb4160edb8f139": {
          "model_module": "@jupyter-widgets/controls",
          "model_name": "FloatProgressModel",
          "model_module_version": "1.5.0",
          "state": {
            "_dom_classes": [],
            "_model_module": "@jupyter-widgets/controls",
            "_model_module_version": "1.5.0",
            "_model_name": "FloatProgressModel",
            "_view_count": null,
            "_view_module": "@jupyter-widgets/controls",
            "_view_module_version": "1.5.0",
            "_view_name": "ProgressView",
            "bar_style": "success",
            "description": "",
            "description_tooltip": null,
            "layout": "IPY_MODEL_322bb48372644646baf2d5e3fffb2b1c",
            "max": 5,
            "min": 0,
            "orientation": "horizontal",
            "style": "IPY_MODEL_4287e691211e4a11a756fb8bb1b0831f",
            "value": 5
          }
        },
        "b147275d5b57487ea635317f2e4415f6": {
          "model_module": "@jupyter-widgets/controls",
          "model_name": "HTMLModel",
          "model_module_version": "1.5.0",
          "state": {
            "_dom_classes": [],
            "_model_module": "@jupyter-widgets/controls",
            "_model_module_version": "1.5.0",
            "_model_name": "HTMLModel",
            "_view_count": null,
            "_view_module": "@jupyter-widgets/controls",
            "_view_module_version": "1.5.0",
            "_view_name": "HTMLView",
            "description": "",
            "description_tooltip": null,
            "layout": "IPY_MODEL_b87e35576d0d47b7a01ac129e2fd97eb",
            "placeholder": "​",
            "style": "IPY_MODEL_7ddfb24fe5774553a59e869d969362df",
            "value": " 5/5 [00:36&lt;00:00,  7.17s/it]"
          }
        },
        "e98dfd890c1945619b09538f6005ee59": {
          "model_module": "@jupyter-widgets/base",
          "model_name": "LayoutModel",
          "model_module_version": "1.2.0",
          "state": {
            "_model_module": "@jupyter-widgets/base",
            "_model_module_version": "1.2.0",
            "_model_name": "LayoutModel",
            "_view_count": null,
            "_view_module": "@jupyter-widgets/base",
            "_view_module_version": "1.2.0",
            "_view_name": "LayoutView",
            "align_content": null,
            "align_items": null,
            "align_self": null,
            "border": null,
            "bottom": null,
            "display": null,
            "flex": null,
            "flex_flow": null,
            "grid_area": null,
            "grid_auto_columns": null,
            "grid_auto_flow": null,
            "grid_auto_rows": null,
            "grid_column": null,
            "grid_gap": null,
            "grid_row": null,
            "grid_template_areas": null,
            "grid_template_columns": null,
            "grid_template_rows": null,
            "height": null,
            "justify_content": null,
            "justify_items": null,
            "left": null,
            "margin": null,
            "max_height": null,
            "max_width": null,
            "min_height": null,
            "min_width": null,
            "object_fit": null,
            "object_position": null,
            "order": null,
            "overflow": null,
            "overflow_x": null,
            "overflow_y": null,
            "padding": null,
            "right": null,
            "top": null,
            "visibility": null,
            "width": null
          }
        },
        "a48470fbb81d4bb0b63ff6e93f0b44bc": {
          "model_module": "@jupyter-widgets/base",
          "model_name": "LayoutModel",
          "model_module_version": "1.2.0",
          "state": {
            "_model_module": "@jupyter-widgets/base",
            "_model_module_version": "1.2.0",
            "_model_name": "LayoutModel",
            "_view_count": null,
            "_view_module": "@jupyter-widgets/base",
            "_view_module_version": "1.2.0",
            "_view_name": "LayoutView",
            "align_content": null,
            "align_items": null,
            "align_self": null,
            "border": null,
            "bottom": null,
            "display": null,
            "flex": null,
            "flex_flow": null,
            "grid_area": null,
            "grid_auto_columns": null,
            "grid_auto_flow": null,
            "grid_auto_rows": null,
            "grid_column": null,
            "grid_gap": null,
            "grid_row": null,
            "grid_template_areas": null,
            "grid_template_columns": null,
            "grid_template_rows": null,
            "height": null,
            "justify_content": null,
            "justify_items": null,
            "left": null,
            "margin": null,
            "max_height": null,
            "max_width": null,
            "min_height": null,
            "min_width": null,
            "object_fit": null,
            "object_position": null,
            "order": null,
            "overflow": null,
            "overflow_x": null,
            "overflow_y": null,
            "padding": null,
            "right": null,
            "top": null,
            "visibility": null,
            "width": null
          }
        },
        "fb4a9bb840b44043ab1f4216b798d52e": {
          "model_module": "@jupyter-widgets/controls",
          "model_name": "DescriptionStyleModel",
          "model_module_version": "1.5.0",
          "state": {
            "_model_module": "@jupyter-widgets/controls",
            "_model_module_version": "1.5.0",
            "_model_name": "DescriptionStyleModel",
            "_view_count": null,
            "_view_module": "@jupyter-widgets/base",
            "_view_module_version": "1.2.0",
            "_view_name": "StyleView",
            "description_width": ""
          }
        },
        "322bb48372644646baf2d5e3fffb2b1c": {
          "model_module": "@jupyter-widgets/base",
          "model_name": "LayoutModel",
          "model_module_version": "1.2.0",
          "state": {
            "_model_module": "@jupyter-widgets/base",
            "_model_module_version": "1.2.0",
            "_model_name": "LayoutModel",
            "_view_count": null,
            "_view_module": "@jupyter-widgets/base",
            "_view_module_version": "1.2.0",
            "_view_name": "LayoutView",
            "align_content": null,
            "align_items": null,
            "align_self": null,
            "border": null,
            "bottom": null,
            "display": null,
            "flex": null,
            "flex_flow": null,
            "grid_area": null,
            "grid_auto_columns": null,
            "grid_auto_flow": null,
            "grid_auto_rows": null,
            "grid_column": null,
            "grid_gap": null,
            "grid_row": null,
            "grid_template_areas": null,
            "grid_template_columns": null,
            "grid_template_rows": null,
            "height": null,
            "justify_content": null,
            "justify_items": null,
            "left": null,
            "margin": null,
            "max_height": null,
            "max_width": null,
            "min_height": null,
            "min_width": null,
            "object_fit": null,
            "object_position": null,
            "order": null,
            "overflow": null,
            "overflow_x": null,
            "overflow_y": null,
            "padding": null,
            "right": null,
            "top": null,
            "visibility": null,
            "width": null
          }
        },
        "4287e691211e4a11a756fb8bb1b0831f": {
          "model_module": "@jupyter-widgets/controls",
          "model_name": "ProgressStyleModel",
          "model_module_version": "1.5.0",
          "state": {
            "_model_module": "@jupyter-widgets/controls",
            "_model_module_version": "1.5.0",
            "_model_name": "ProgressStyleModel",
            "_view_count": null,
            "_view_module": "@jupyter-widgets/base",
            "_view_module_version": "1.2.0",
            "_view_name": "StyleView",
            "bar_color": null,
            "description_width": ""
          }
        },
        "b87e35576d0d47b7a01ac129e2fd97eb": {
          "model_module": "@jupyter-widgets/base",
          "model_name": "LayoutModel",
          "model_module_version": "1.2.0",
          "state": {
            "_model_module": "@jupyter-widgets/base",
            "_model_module_version": "1.2.0",
            "_model_name": "LayoutModel",
            "_view_count": null,
            "_view_module": "@jupyter-widgets/base",
            "_view_module_version": "1.2.0",
            "_view_name": "LayoutView",
            "align_content": null,
            "align_items": null,
            "align_self": null,
            "border": null,
            "bottom": null,
            "display": null,
            "flex": null,
            "flex_flow": null,
            "grid_area": null,
            "grid_auto_columns": null,
            "grid_auto_flow": null,
            "grid_auto_rows": null,
            "grid_column": null,
            "grid_gap": null,
            "grid_row": null,
            "grid_template_areas": null,
            "grid_template_columns": null,
            "grid_template_rows": null,
            "height": null,
            "justify_content": null,
            "justify_items": null,
            "left": null,
            "margin": null,
            "max_height": null,
            "max_width": null,
            "min_height": null,
            "min_width": null,
            "object_fit": null,
            "object_position": null,
            "order": null,
            "overflow": null,
            "overflow_x": null,
            "overflow_y": null,
            "padding": null,
            "right": null,
            "top": null,
            "visibility": null,
            "width": null
          }
        },
        "7ddfb24fe5774553a59e869d969362df": {
          "model_module": "@jupyter-widgets/controls",
          "model_name": "DescriptionStyleModel",
          "model_module_version": "1.5.0",
          "state": {
            "_model_module": "@jupyter-widgets/controls",
            "_model_module_version": "1.5.0",
            "_model_name": "DescriptionStyleModel",
            "_view_count": null,
            "_view_module": "@jupyter-widgets/base",
            "_view_module_version": "1.2.0",
            "_view_name": "StyleView",
            "description_width": ""
          }
        },
        "1a94af9d2ad34729940fdd35b8e9e040": {
          "model_module": "@jupyter-widgets/controls",
          "model_name": "VBoxModel",
          "model_module_version": "1.5.0",
          "state": {
            "_dom_classes": [],
            "_model_module": "@jupyter-widgets/controls",
            "_model_module_version": "1.5.0",
            "_model_name": "VBoxModel",
            "_view_count": null,
            "_view_module": "@jupyter-widgets/controls",
            "_view_module_version": "1.5.0",
            "_view_name": "VBoxView",
            "box_style": "",
            "children": [
              "IPY_MODEL_5d410d983563478ab26344fb6113affd",
              "IPY_MODEL_ec5983a862d34d82b85d42a8a9b08f0d"
            ],
            "layout": "IPY_MODEL_7bda3e1452984e1597249c2fa6fecdd8"
          }
        },
        "5d410d983563478ab26344fb6113affd": {
          "model_module": "@jupyter-widgets/controls",
          "model_name": "LabelModel",
          "model_module_version": "1.5.0",
          "state": {
            "_dom_classes": [],
            "_model_module": "@jupyter-widgets/controls",
            "_model_module_version": "1.5.0",
            "_model_name": "LabelModel",
            "_view_count": null,
            "_view_module": "@jupyter-widgets/controls",
            "_view_module_version": "1.5.0",
            "_view_name": "LabelView",
            "description": "",
            "description_tooltip": null,
            "layout": "IPY_MODEL_b8441329c2da4a70886821635465a115",
            "placeholder": "​",
            "style": "IPY_MODEL_19306436c250406995be123d21b7a18e",
            "value": "0.225 MB of 0.225 MB uploaded (0.000 MB deduped)\r"
          }
        },
        "ec5983a862d34d82b85d42a8a9b08f0d": {
          "model_module": "@jupyter-widgets/controls",
          "model_name": "FloatProgressModel",
          "model_module_version": "1.5.0",
          "state": {
            "_dom_classes": [],
            "_model_module": "@jupyter-widgets/controls",
            "_model_module_version": "1.5.0",
            "_model_name": "FloatProgressModel",
            "_view_count": null,
            "_view_module": "@jupyter-widgets/controls",
            "_view_module_version": "1.5.0",
            "_view_name": "ProgressView",
            "bar_style": "",
            "description": "",
            "description_tooltip": null,
            "layout": "IPY_MODEL_5dd850f16ff14d959f2ef2fcfa8937fb",
            "max": 1,
            "min": 0,
            "orientation": "horizontal",
            "style": "IPY_MODEL_92bf071dd29445c6b818addbdad7e504",
            "value": 1
          }
        },
        "7bda3e1452984e1597249c2fa6fecdd8": {
          "model_module": "@jupyter-widgets/base",
          "model_name": "LayoutModel",
          "model_module_version": "1.2.0",
          "state": {
            "_model_module": "@jupyter-widgets/base",
            "_model_module_version": "1.2.0",
            "_model_name": "LayoutModel",
            "_view_count": null,
            "_view_module": "@jupyter-widgets/base",
            "_view_module_version": "1.2.0",
            "_view_name": "LayoutView",
            "align_content": null,
            "align_items": null,
            "align_self": null,
            "border": null,
            "bottom": null,
            "display": null,
            "flex": null,
            "flex_flow": null,
            "grid_area": null,
            "grid_auto_columns": null,
            "grid_auto_flow": null,
            "grid_auto_rows": null,
            "grid_column": null,
            "grid_gap": null,
            "grid_row": null,
            "grid_template_areas": null,
            "grid_template_columns": null,
            "grid_template_rows": null,
            "height": null,
            "justify_content": null,
            "justify_items": null,
            "left": null,
            "margin": null,
            "max_height": null,
            "max_width": null,
            "min_height": null,
            "min_width": null,
            "object_fit": null,
            "object_position": null,
            "order": null,
            "overflow": null,
            "overflow_x": null,
            "overflow_y": null,
            "padding": null,
            "right": null,
            "top": null,
            "visibility": null,
            "width": null
          }
        },
        "b8441329c2da4a70886821635465a115": {
          "model_module": "@jupyter-widgets/base",
          "model_name": "LayoutModel",
          "model_module_version": "1.2.0",
          "state": {
            "_model_module": "@jupyter-widgets/base",
            "_model_module_version": "1.2.0",
            "_model_name": "LayoutModel",
            "_view_count": null,
            "_view_module": "@jupyter-widgets/base",
            "_view_module_version": "1.2.0",
            "_view_name": "LayoutView",
            "align_content": null,
            "align_items": null,
            "align_self": null,
            "border": null,
            "bottom": null,
            "display": null,
            "flex": null,
            "flex_flow": null,
            "grid_area": null,
            "grid_auto_columns": null,
            "grid_auto_flow": null,
            "grid_auto_rows": null,
            "grid_column": null,
            "grid_gap": null,
            "grid_row": null,
            "grid_template_areas": null,
            "grid_template_columns": null,
            "grid_template_rows": null,
            "height": null,
            "justify_content": null,
            "justify_items": null,
            "left": null,
            "margin": null,
            "max_height": null,
            "max_width": null,
            "min_height": null,
            "min_width": null,
            "object_fit": null,
            "object_position": null,
            "order": null,
            "overflow": null,
            "overflow_x": null,
            "overflow_y": null,
            "padding": null,
            "right": null,
            "top": null,
            "visibility": null,
            "width": null
          }
        },
        "19306436c250406995be123d21b7a18e": {
          "model_module": "@jupyter-widgets/controls",
          "model_name": "DescriptionStyleModel",
          "model_module_version": "1.5.0",
          "state": {
            "_model_module": "@jupyter-widgets/controls",
            "_model_module_version": "1.5.0",
            "_model_name": "DescriptionStyleModel",
            "_view_count": null,
            "_view_module": "@jupyter-widgets/base",
            "_view_module_version": "1.2.0",
            "_view_name": "StyleView",
            "description_width": ""
          }
        },
        "5dd850f16ff14d959f2ef2fcfa8937fb": {
          "model_module": "@jupyter-widgets/base",
          "model_name": "LayoutModel",
          "model_module_version": "1.2.0",
          "state": {
            "_model_module": "@jupyter-widgets/base",
            "_model_module_version": "1.2.0",
            "_model_name": "LayoutModel",
            "_view_count": null,
            "_view_module": "@jupyter-widgets/base",
            "_view_module_version": "1.2.0",
            "_view_name": "LayoutView",
            "align_content": null,
            "align_items": null,
            "align_self": null,
            "border": null,
            "bottom": null,
            "display": null,
            "flex": null,
            "flex_flow": null,
            "grid_area": null,
            "grid_auto_columns": null,
            "grid_auto_flow": null,
            "grid_auto_rows": null,
            "grid_column": null,
            "grid_gap": null,
            "grid_row": null,
            "grid_template_areas": null,
            "grid_template_columns": null,
            "grid_template_rows": null,
            "height": null,
            "justify_content": null,
            "justify_items": null,
            "left": null,
            "margin": null,
            "max_height": null,
            "max_width": null,
            "min_height": null,
            "min_width": null,
            "object_fit": null,
            "object_position": null,
            "order": null,
            "overflow": null,
            "overflow_x": null,
            "overflow_y": null,
            "padding": null,
            "right": null,
            "top": null,
            "visibility": null,
            "width": null
          }
        },
        "92bf071dd29445c6b818addbdad7e504": {
          "model_module": "@jupyter-widgets/controls",
          "model_name": "ProgressStyleModel",
          "model_module_version": "1.5.0",
          "state": {
            "_model_module": "@jupyter-widgets/controls",
            "_model_module_version": "1.5.0",
            "_model_name": "ProgressStyleModel",
            "_view_count": null,
            "_view_module": "@jupyter-widgets/base",
            "_view_module_version": "1.2.0",
            "_view_name": "StyleView",
            "bar_color": null,
            "description_width": ""
          }
        },
        "6cde572a9c9748c6ac36545ae729f529": {
          "model_module": "@jupyter-widgets/controls",
          "model_name": "HBoxModel",
          "model_module_version": "1.5.0",
          "state": {
            "_dom_classes": [],
            "_model_module": "@jupyter-widgets/controls",
            "_model_module_version": "1.5.0",
            "_model_name": "HBoxModel",
            "_view_count": null,
            "_view_module": "@jupyter-widgets/controls",
            "_view_module_version": "1.5.0",
            "_view_name": "HBoxView",
            "box_style": "",
            "children": [
              "IPY_MODEL_664c9f800ae44743991832948a5df3e9",
              "IPY_MODEL_ddbab9bf96f5454093b0f04fc5f6c107",
              "IPY_MODEL_74f104e0e7724432bb22bd04a68ab434"
            ],
            "layout": "IPY_MODEL_a57bde5d1c804a6083c6e9a95fb5e65a"
          }
        },
        "664c9f800ae44743991832948a5df3e9": {
          "model_module": "@jupyter-widgets/controls",
          "model_name": "HTMLModel",
          "model_module_version": "1.5.0",
          "state": {
            "_dom_classes": [],
            "_model_module": "@jupyter-widgets/controls",
            "_model_module_version": "1.5.0",
            "_model_name": "HTMLModel",
            "_view_count": null,
            "_view_module": "@jupyter-widgets/controls",
            "_view_module_version": "1.5.0",
            "_view_name": "HTMLView",
            "description": "",
            "description_tooltip": null,
            "layout": "IPY_MODEL_ca9bb6e8179d4edb919076dfb50ea5c1",
            "placeholder": "​",
            "style": "IPY_MODEL_f50c9aab966941498c8a81b55ea02e16",
            "value": "100%"
          }
        },
        "ddbab9bf96f5454093b0f04fc5f6c107": {
          "model_module": "@jupyter-widgets/controls",
          "model_name": "FloatProgressModel",
          "model_module_version": "1.5.0",
          "state": {
            "_dom_classes": [],
            "_model_module": "@jupyter-widgets/controls",
            "_model_module_version": "1.5.0",
            "_model_name": "FloatProgressModel",
            "_view_count": null,
            "_view_module": "@jupyter-widgets/controls",
            "_view_module_version": "1.5.0",
            "_view_name": "ProgressView",
            "bar_style": "success",
            "description": "",
            "description_tooltip": null,
            "layout": "IPY_MODEL_02e4048ebb504c2c9ef9ad0d7708070e",
            "max": 5,
            "min": 0,
            "orientation": "horizontal",
            "style": "IPY_MODEL_daf4440a9473403fb1c45f01cea04cd0",
            "value": 5
          }
        },
        "74f104e0e7724432bb22bd04a68ab434": {
          "model_module": "@jupyter-widgets/controls",
          "model_name": "HTMLModel",
          "model_module_version": "1.5.0",
          "state": {
            "_dom_classes": [],
            "_model_module": "@jupyter-widgets/controls",
            "_model_module_version": "1.5.0",
            "_model_name": "HTMLModel",
            "_view_count": null,
            "_view_module": "@jupyter-widgets/controls",
            "_view_module_version": "1.5.0",
            "_view_name": "HTMLView",
            "description": "",
            "description_tooltip": null,
            "layout": "IPY_MODEL_7288baa90c9248ac95777dc8c9f095b0",
            "placeholder": "​",
            "style": "IPY_MODEL_8d012446e8914fcf9d305f90febb8a44",
            "value": " 5/5 [00:37&lt;00:00,  7.75s/it]"
          }
        },
        "a57bde5d1c804a6083c6e9a95fb5e65a": {
          "model_module": "@jupyter-widgets/base",
          "model_name": "LayoutModel",
          "model_module_version": "1.2.0",
          "state": {
            "_model_module": "@jupyter-widgets/base",
            "_model_module_version": "1.2.0",
            "_model_name": "LayoutModel",
            "_view_count": null,
            "_view_module": "@jupyter-widgets/base",
            "_view_module_version": "1.2.0",
            "_view_name": "LayoutView",
            "align_content": null,
            "align_items": null,
            "align_self": null,
            "border": null,
            "bottom": null,
            "display": null,
            "flex": null,
            "flex_flow": null,
            "grid_area": null,
            "grid_auto_columns": null,
            "grid_auto_flow": null,
            "grid_auto_rows": null,
            "grid_column": null,
            "grid_gap": null,
            "grid_row": null,
            "grid_template_areas": null,
            "grid_template_columns": null,
            "grid_template_rows": null,
            "height": null,
            "justify_content": null,
            "justify_items": null,
            "left": null,
            "margin": null,
            "max_height": null,
            "max_width": null,
            "min_height": null,
            "min_width": null,
            "object_fit": null,
            "object_position": null,
            "order": null,
            "overflow": null,
            "overflow_x": null,
            "overflow_y": null,
            "padding": null,
            "right": null,
            "top": null,
            "visibility": null,
            "width": null
          }
        },
        "ca9bb6e8179d4edb919076dfb50ea5c1": {
          "model_module": "@jupyter-widgets/base",
          "model_name": "LayoutModel",
          "model_module_version": "1.2.0",
          "state": {
            "_model_module": "@jupyter-widgets/base",
            "_model_module_version": "1.2.0",
            "_model_name": "LayoutModel",
            "_view_count": null,
            "_view_module": "@jupyter-widgets/base",
            "_view_module_version": "1.2.0",
            "_view_name": "LayoutView",
            "align_content": null,
            "align_items": null,
            "align_self": null,
            "border": null,
            "bottom": null,
            "display": null,
            "flex": null,
            "flex_flow": null,
            "grid_area": null,
            "grid_auto_columns": null,
            "grid_auto_flow": null,
            "grid_auto_rows": null,
            "grid_column": null,
            "grid_gap": null,
            "grid_row": null,
            "grid_template_areas": null,
            "grid_template_columns": null,
            "grid_template_rows": null,
            "height": null,
            "justify_content": null,
            "justify_items": null,
            "left": null,
            "margin": null,
            "max_height": null,
            "max_width": null,
            "min_height": null,
            "min_width": null,
            "object_fit": null,
            "object_position": null,
            "order": null,
            "overflow": null,
            "overflow_x": null,
            "overflow_y": null,
            "padding": null,
            "right": null,
            "top": null,
            "visibility": null,
            "width": null
          }
        },
        "f50c9aab966941498c8a81b55ea02e16": {
          "model_module": "@jupyter-widgets/controls",
          "model_name": "DescriptionStyleModel",
          "model_module_version": "1.5.0",
          "state": {
            "_model_module": "@jupyter-widgets/controls",
            "_model_module_version": "1.5.0",
            "_model_name": "DescriptionStyleModel",
            "_view_count": null,
            "_view_module": "@jupyter-widgets/base",
            "_view_module_version": "1.2.0",
            "_view_name": "StyleView",
            "description_width": ""
          }
        },
        "02e4048ebb504c2c9ef9ad0d7708070e": {
          "model_module": "@jupyter-widgets/base",
          "model_name": "LayoutModel",
          "model_module_version": "1.2.0",
          "state": {
            "_model_module": "@jupyter-widgets/base",
            "_model_module_version": "1.2.0",
            "_model_name": "LayoutModel",
            "_view_count": null,
            "_view_module": "@jupyter-widgets/base",
            "_view_module_version": "1.2.0",
            "_view_name": "LayoutView",
            "align_content": null,
            "align_items": null,
            "align_self": null,
            "border": null,
            "bottom": null,
            "display": null,
            "flex": null,
            "flex_flow": null,
            "grid_area": null,
            "grid_auto_columns": null,
            "grid_auto_flow": null,
            "grid_auto_rows": null,
            "grid_column": null,
            "grid_gap": null,
            "grid_row": null,
            "grid_template_areas": null,
            "grid_template_columns": null,
            "grid_template_rows": null,
            "height": null,
            "justify_content": null,
            "justify_items": null,
            "left": null,
            "margin": null,
            "max_height": null,
            "max_width": null,
            "min_height": null,
            "min_width": null,
            "object_fit": null,
            "object_position": null,
            "order": null,
            "overflow": null,
            "overflow_x": null,
            "overflow_y": null,
            "padding": null,
            "right": null,
            "top": null,
            "visibility": null,
            "width": null
          }
        },
        "daf4440a9473403fb1c45f01cea04cd0": {
          "model_module": "@jupyter-widgets/controls",
          "model_name": "ProgressStyleModel",
          "model_module_version": "1.5.0",
          "state": {
            "_model_module": "@jupyter-widgets/controls",
            "_model_module_version": "1.5.0",
            "_model_name": "ProgressStyleModel",
            "_view_count": null,
            "_view_module": "@jupyter-widgets/base",
            "_view_module_version": "1.2.0",
            "_view_name": "StyleView",
            "bar_color": null,
            "description_width": ""
          }
        },
        "7288baa90c9248ac95777dc8c9f095b0": {
          "model_module": "@jupyter-widgets/base",
          "model_name": "LayoutModel",
          "model_module_version": "1.2.0",
          "state": {
            "_model_module": "@jupyter-widgets/base",
            "_model_module_version": "1.2.0",
            "_model_name": "LayoutModel",
            "_view_count": null,
            "_view_module": "@jupyter-widgets/base",
            "_view_module_version": "1.2.0",
            "_view_name": "LayoutView",
            "align_content": null,
            "align_items": null,
            "align_self": null,
            "border": null,
            "bottom": null,
            "display": null,
            "flex": null,
            "flex_flow": null,
            "grid_area": null,
            "grid_auto_columns": null,
            "grid_auto_flow": null,
            "grid_auto_rows": null,
            "grid_column": null,
            "grid_gap": null,
            "grid_row": null,
            "grid_template_areas": null,
            "grid_template_columns": null,
            "grid_template_rows": null,
            "height": null,
            "justify_content": null,
            "justify_items": null,
            "left": null,
            "margin": null,
            "max_height": null,
            "max_width": null,
            "min_height": null,
            "min_width": null,
            "object_fit": null,
            "object_position": null,
            "order": null,
            "overflow": null,
            "overflow_x": null,
            "overflow_y": null,
            "padding": null,
            "right": null,
            "top": null,
            "visibility": null,
            "width": null
          }
        },
        "8d012446e8914fcf9d305f90febb8a44": {
          "model_module": "@jupyter-widgets/controls",
          "model_name": "DescriptionStyleModel",
          "model_module_version": "1.5.0",
          "state": {
            "_model_module": "@jupyter-widgets/controls",
            "_model_module_version": "1.5.0",
            "_model_name": "DescriptionStyleModel",
            "_view_count": null,
            "_view_module": "@jupyter-widgets/base",
            "_view_module_version": "1.2.0",
            "_view_name": "StyleView",
            "description_width": ""
          }
        },
        "a5db2af1857c424fa35ddfd2b7e784c3": {
          "model_module": "@jupyter-widgets/controls",
          "model_name": "HBoxModel",
          "model_module_version": "1.5.0",
          "state": {
            "_dom_classes": [],
            "_model_module": "@jupyter-widgets/controls",
            "_model_module_version": "1.5.0",
            "_model_name": "HBoxModel",
            "_view_count": null,
            "_view_module": "@jupyter-widgets/controls",
            "_view_module_version": "1.5.0",
            "_view_name": "HBoxView",
            "box_style": "",
            "children": [
              "IPY_MODEL_b7a699c5fd3044188fc3efe9a32c60a6",
              "IPY_MODEL_12888e9018fb450dbf52a8242e59ae39",
              "IPY_MODEL_3e706a953ec24ff09018fff77aaf68cf"
            ],
            "layout": "IPY_MODEL_d3ae6ef9761048a08637850f1e542f85"
          }
        },
        "b7a699c5fd3044188fc3efe9a32c60a6": {
          "model_module": "@jupyter-widgets/controls",
          "model_name": "HTMLModel",
          "model_module_version": "1.5.0",
          "state": {
            "_dom_classes": [],
            "_model_module": "@jupyter-widgets/controls",
            "_model_module_version": "1.5.0",
            "_model_name": "HTMLModel",
            "_view_count": null,
            "_view_module": "@jupyter-widgets/controls",
            "_view_module_version": "1.5.0",
            "_view_name": "HTMLView",
            "description": "",
            "description_tooltip": null,
            "layout": "IPY_MODEL_e1360131f7f14811b8e7ada7f908db27",
            "placeholder": "​",
            "style": "IPY_MODEL_6bbe514d86d3494c80fca627cbbaa015",
            "value": "100%"
          }
        },
        "12888e9018fb450dbf52a8242e59ae39": {
          "model_module": "@jupyter-widgets/controls",
          "model_name": "FloatProgressModel",
          "model_module_version": "1.5.0",
          "state": {
            "_dom_classes": [],
            "_model_module": "@jupyter-widgets/controls",
            "_model_module_version": "1.5.0",
            "_model_name": "FloatProgressModel",
            "_view_count": null,
            "_view_module": "@jupyter-widgets/controls",
            "_view_module_version": "1.5.0",
            "_view_name": "ProgressView",
            "bar_style": "success",
            "description": "",
            "description_tooltip": null,
            "layout": "IPY_MODEL_6bf77783e85d4cec849338050de39067",
            "max": 5,
            "min": 0,
            "orientation": "horizontal",
            "style": "IPY_MODEL_b35cff50db5f4185ad9f1700f55c67db",
            "value": 5
          }
        },
        "3e706a953ec24ff09018fff77aaf68cf": {
          "model_module": "@jupyter-widgets/controls",
          "model_name": "HTMLModel",
          "model_module_version": "1.5.0",
          "state": {
            "_dom_classes": [],
            "_model_module": "@jupyter-widgets/controls",
            "_model_module_version": "1.5.0",
            "_model_name": "HTMLModel",
            "_view_count": null,
            "_view_module": "@jupyter-widgets/controls",
            "_view_module_version": "1.5.0",
            "_view_name": "HTMLView",
            "description": "",
            "description_tooltip": null,
            "layout": "IPY_MODEL_d385ef8ebbe2407189aba76c4a9a069c",
            "placeholder": "​",
            "style": "IPY_MODEL_93c3f179a66747cb8049f765dfe301ec",
            "value": " 5/5 [00:36&lt;00:00,  7.15s/it]"
          }
        },
        "d3ae6ef9761048a08637850f1e542f85": {
          "model_module": "@jupyter-widgets/base",
          "model_name": "LayoutModel",
          "model_module_version": "1.2.0",
          "state": {
            "_model_module": "@jupyter-widgets/base",
            "_model_module_version": "1.2.0",
            "_model_name": "LayoutModel",
            "_view_count": null,
            "_view_module": "@jupyter-widgets/base",
            "_view_module_version": "1.2.0",
            "_view_name": "LayoutView",
            "align_content": null,
            "align_items": null,
            "align_self": null,
            "border": null,
            "bottom": null,
            "display": null,
            "flex": null,
            "flex_flow": null,
            "grid_area": null,
            "grid_auto_columns": null,
            "grid_auto_flow": null,
            "grid_auto_rows": null,
            "grid_column": null,
            "grid_gap": null,
            "grid_row": null,
            "grid_template_areas": null,
            "grid_template_columns": null,
            "grid_template_rows": null,
            "height": null,
            "justify_content": null,
            "justify_items": null,
            "left": null,
            "margin": null,
            "max_height": null,
            "max_width": null,
            "min_height": null,
            "min_width": null,
            "object_fit": null,
            "object_position": null,
            "order": null,
            "overflow": null,
            "overflow_x": null,
            "overflow_y": null,
            "padding": null,
            "right": null,
            "top": null,
            "visibility": null,
            "width": null
          }
        },
        "e1360131f7f14811b8e7ada7f908db27": {
          "model_module": "@jupyter-widgets/base",
          "model_name": "LayoutModel",
          "model_module_version": "1.2.0",
          "state": {
            "_model_module": "@jupyter-widgets/base",
            "_model_module_version": "1.2.0",
            "_model_name": "LayoutModel",
            "_view_count": null,
            "_view_module": "@jupyter-widgets/base",
            "_view_module_version": "1.2.0",
            "_view_name": "LayoutView",
            "align_content": null,
            "align_items": null,
            "align_self": null,
            "border": null,
            "bottom": null,
            "display": null,
            "flex": null,
            "flex_flow": null,
            "grid_area": null,
            "grid_auto_columns": null,
            "grid_auto_flow": null,
            "grid_auto_rows": null,
            "grid_column": null,
            "grid_gap": null,
            "grid_row": null,
            "grid_template_areas": null,
            "grid_template_columns": null,
            "grid_template_rows": null,
            "height": null,
            "justify_content": null,
            "justify_items": null,
            "left": null,
            "margin": null,
            "max_height": null,
            "max_width": null,
            "min_height": null,
            "min_width": null,
            "object_fit": null,
            "object_position": null,
            "order": null,
            "overflow": null,
            "overflow_x": null,
            "overflow_y": null,
            "padding": null,
            "right": null,
            "top": null,
            "visibility": null,
            "width": null
          }
        },
        "6bbe514d86d3494c80fca627cbbaa015": {
          "model_module": "@jupyter-widgets/controls",
          "model_name": "DescriptionStyleModel",
          "model_module_version": "1.5.0",
          "state": {
            "_model_module": "@jupyter-widgets/controls",
            "_model_module_version": "1.5.0",
            "_model_name": "DescriptionStyleModel",
            "_view_count": null,
            "_view_module": "@jupyter-widgets/base",
            "_view_module_version": "1.2.0",
            "_view_name": "StyleView",
            "description_width": ""
          }
        },
        "6bf77783e85d4cec849338050de39067": {
          "model_module": "@jupyter-widgets/base",
          "model_name": "LayoutModel",
          "model_module_version": "1.2.0",
          "state": {
            "_model_module": "@jupyter-widgets/base",
            "_model_module_version": "1.2.0",
            "_model_name": "LayoutModel",
            "_view_count": null,
            "_view_module": "@jupyter-widgets/base",
            "_view_module_version": "1.2.0",
            "_view_name": "LayoutView",
            "align_content": null,
            "align_items": null,
            "align_self": null,
            "border": null,
            "bottom": null,
            "display": null,
            "flex": null,
            "flex_flow": null,
            "grid_area": null,
            "grid_auto_columns": null,
            "grid_auto_flow": null,
            "grid_auto_rows": null,
            "grid_column": null,
            "grid_gap": null,
            "grid_row": null,
            "grid_template_areas": null,
            "grid_template_columns": null,
            "grid_template_rows": null,
            "height": null,
            "justify_content": null,
            "justify_items": null,
            "left": null,
            "margin": null,
            "max_height": null,
            "max_width": null,
            "min_height": null,
            "min_width": null,
            "object_fit": null,
            "object_position": null,
            "order": null,
            "overflow": null,
            "overflow_x": null,
            "overflow_y": null,
            "padding": null,
            "right": null,
            "top": null,
            "visibility": null,
            "width": null
          }
        },
        "b35cff50db5f4185ad9f1700f55c67db": {
          "model_module": "@jupyter-widgets/controls",
          "model_name": "ProgressStyleModel",
          "model_module_version": "1.5.0",
          "state": {
            "_model_module": "@jupyter-widgets/controls",
            "_model_module_version": "1.5.0",
            "_model_name": "ProgressStyleModel",
            "_view_count": null,
            "_view_module": "@jupyter-widgets/base",
            "_view_module_version": "1.2.0",
            "_view_name": "StyleView",
            "bar_color": null,
            "description_width": ""
          }
        },
        "d385ef8ebbe2407189aba76c4a9a069c": {
          "model_module": "@jupyter-widgets/base",
          "model_name": "LayoutModel",
          "model_module_version": "1.2.0",
          "state": {
            "_model_module": "@jupyter-widgets/base",
            "_model_module_version": "1.2.0",
            "_model_name": "LayoutModel",
            "_view_count": null,
            "_view_module": "@jupyter-widgets/base",
            "_view_module_version": "1.2.0",
            "_view_name": "LayoutView",
            "align_content": null,
            "align_items": null,
            "align_self": null,
            "border": null,
            "bottom": null,
            "display": null,
            "flex": null,
            "flex_flow": null,
            "grid_area": null,
            "grid_auto_columns": null,
            "grid_auto_flow": null,
            "grid_auto_rows": null,
            "grid_column": null,
            "grid_gap": null,
            "grid_row": null,
            "grid_template_areas": null,
            "grid_template_columns": null,
            "grid_template_rows": null,
            "height": null,
            "justify_content": null,
            "justify_items": null,
            "left": null,
            "margin": null,
            "max_height": null,
            "max_width": null,
            "min_height": null,
            "min_width": null,
            "object_fit": null,
            "object_position": null,
            "order": null,
            "overflow": null,
            "overflow_x": null,
            "overflow_y": null,
            "padding": null,
            "right": null,
            "top": null,
            "visibility": null,
            "width": null
          }
        },
        "93c3f179a66747cb8049f765dfe301ec": {
          "model_module": "@jupyter-widgets/controls",
          "model_name": "DescriptionStyleModel",
          "model_module_version": "1.5.0",
          "state": {
            "_model_module": "@jupyter-widgets/controls",
            "_model_module_version": "1.5.0",
            "_model_name": "DescriptionStyleModel",
            "_view_count": null,
            "_view_module": "@jupyter-widgets/base",
            "_view_module_version": "1.2.0",
            "_view_name": "StyleView",
            "description_width": ""
          }
        },
        "ce6a5418e9c14d77bec8838fb08d11d8": {
          "model_module": "@jupyter-widgets/controls",
          "model_name": "VBoxModel",
          "model_module_version": "1.5.0",
          "state": {
            "_dom_classes": [],
            "_model_module": "@jupyter-widgets/controls",
            "_model_module_version": "1.5.0",
            "_model_name": "VBoxModel",
            "_view_count": null,
            "_view_module": "@jupyter-widgets/controls",
            "_view_module_version": "1.5.0",
            "_view_name": "VBoxView",
            "box_style": "",
            "children": [
              "IPY_MODEL_b0dc8267f4bf474a86748de28310f301",
              "IPY_MODEL_32c26b38ead04cf28553c418ae23e8d4"
            ],
            "layout": "IPY_MODEL_e33de7087b9e4756a79f5158e99fee8e"
          }
        },
        "b0dc8267f4bf474a86748de28310f301": {
          "model_module": "@jupyter-widgets/controls",
          "model_name": "LabelModel",
          "model_module_version": "1.5.0",
          "state": {
            "_dom_classes": [],
            "_model_module": "@jupyter-widgets/controls",
            "_model_module_version": "1.5.0",
            "_model_name": "LabelModel",
            "_view_count": null,
            "_view_module": "@jupyter-widgets/controls",
            "_view_module_version": "1.5.0",
            "_view_name": "LabelView",
            "description": "",
            "description_tooltip": null,
            "layout": "IPY_MODEL_0ef0b259ff1e41bf966a25b6fa204221",
            "placeholder": "​",
            "style": "IPY_MODEL_eaf5c48e02684acdb0463c6116f9a145",
            "value": "0.259 MB of 0.259 MB uploaded (0.000 MB deduped)\r"
          }
        },
        "32c26b38ead04cf28553c418ae23e8d4": {
          "model_module": "@jupyter-widgets/controls",
          "model_name": "FloatProgressModel",
          "model_module_version": "1.5.0",
          "state": {
            "_dom_classes": [],
            "_model_module": "@jupyter-widgets/controls",
            "_model_module_version": "1.5.0",
            "_model_name": "FloatProgressModel",
            "_view_count": null,
            "_view_module": "@jupyter-widgets/controls",
            "_view_module_version": "1.5.0",
            "_view_name": "ProgressView",
            "bar_style": "",
            "description": "",
            "description_tooltip": null,
            "layout": "IPY_MODEL_6670c24c6a7a449ba1f311a1362db1c6",
            "max": 1,
            "min": 0,
            "orientation": "horizontal",
            "style": "IPY_MODEL_1273c757bba24f2cb7e51fa1d52281d7",
            "value": 1
          }
        },
        "e33de7087b9e4756a79f5158e99fee8e": {
          "model_module": "@jupyter-widgets/base",
          "model_name": "LayoutModel",
          "model_module_version": "1.2.0",
          "state": {
            "_model_module": "@jupyter-widgets/base",
            "_model_module_version": "1.2.0",
            "_model_name": "LayoutModel",
            "_view_count": null,
            "_view_module": "@jupyter-widgets/base",
            "_view_module_version": "1.2.0",
            "_view_name": "LayoutView",
            "align_content": null,
            "align_items": null,
            "align_self": null,
            "border": null,
            "bottom": null,
            "display": null,
            "flex": null,
            "flex_flow": null,
            "grid_area": null,
            "grid_auto_columns": null,
            "grid_auto_flow": null,
            "grid_auto_rows": null,
            "grid_column": null,
            "grid_gap": null,
            "grid_row": null,
            "grid_template_areas": null,
            "grid_template_columns": null,
            "grid_template_rows": null,
            "height": null,
            "justify_content": null,
            "justify_items": null,
            "left": null,
            "margin": null,
            "max_height": null,
            "max_width": null,
            "min_height": null,
            "min_width": null,
            "object_fit": null,
            "object_position": null,
            "order": null,
            "overflow": null,
            "overflow_x": null,
            "overflow_y": null,
            "padding": null,
            "right": null,
            "top": null,
            "visibility": null,
            "width": null
          }
        },
        "0ef0b259ff1e41bf966a25b6fa204221": {
          "model_module": "@jupyter-widgets/base",
          "model_name": "LayoutModel",
          "model_module_version": "1.2.0",
          "state": {
            "_model_module": "@jupyter-widgets/base",
            "_model_module_version": "1.2.0",
            "_model_name": "LayoutModel",
            "_view_count": null,
            "_view_module": "@jupyter-widgets/base",
            "_view_module_version": "1.2.0",
            "_view_name": "LayoutView",
            "align_content": null,
            "align_items": null,
            "align_self": null,
            "border": null,
            "bottom": null,
            "display": null,
            "flex": null,
            "flex_flow": null,
            "grid_area": null,
            "grid_auto_columns": null,
            "grid_auto_flow": null,
            "grid_auto_rows": null,
            "grid_column": null,
            "grid_gap": null,
            "grid_row": null,
            "grid_template_areas": null,
            "grid_template_columns": null,
            "grid_template_rows": null,
            "height": null,
            "justify_content": null,
            "justify_items": null,
            "left": null,
            "margin": null,
            "max_height": null,
            "max_width": null,
            "min_height": null,
            "min_width": null,
            "object_fit": null,
            "object_position": null,
            "order": null,
            "overflow": null,
            "overflow_x": null,
            "overflow_y": null,
            "padding": null,
            "right": null,
            "top": null,
            "visibility": null,
            "width": null
          }
        },
        "eaf5c48e02684acdb0463c6116f9a145": {
          "model_module": "@jupyter-widgets/controls",
          "model_name": "DescriptionStyleModel",
          "model_module_version": "1.5.0",
          "state": {
            "_model_module": "@jupyter-widgets/controls",
            "_model_module_version": "1.5.0",
            "_model_name": "DescriptionStyleModel",
            "_view_count": null,
            "_view_module": "@jupyter-widgets/base",
            "_view_module_version": "1.2.0",
            "_view_name": "StyleView",
            "description_width": ""
          }
        },
        "6670c24c6a7a449ba1f311a1362db1c6": {
          "model_module": "@jupyter-widgets/base",
          "model_name": "LayoutModel",
          "model_module_version": "1.2.0",
          "state": {
            "_model_module": "@jupyter-widgets/base",
            "_model_module_version": "1.2.0",
            "_model_name": "LayoutModel",
            "_view_count": null,
            "_view_module": "@jupyter-widgets/base",
            "_view_module_version": "1.2.0",
            "_view_name": "LayoutView",
            "align_content": null,
            "align_items": null,
            "align_self": null,
            "border": null,
            "bottom": null,
            "display": null,
            "flex": null,
            "flex_flow": null,
            "grid_area": null,
            "grid_auto_columns": null,
            "grid_auto_flow": null,
            "grid_auto_rows": null,
            "grid_column": null,
            "grid_gap": null,
            "grid_row": null,
            "grid_template_areas": null,
            "grid_template_columns": null,
            "grid_template_rows": null,
            "height": null,
            "justify_content": null,
            "justify_items": null,
            "left": null,
            "margin": null,
            "max_height": null,
            "max_width": null,
            "min_height": null,
            "min_width": null,
            "object_fit": null,
            "object_position": null,
            "order": null,
            "overflow": null,
            "overflow_x": null,
            "overflow_y": null,
            "padding": null,
            "right": null,
            "top": null,
            "visibility": null,
            "width": null
          }
        },
        "1273c757bba24f2cb7e51fa1d52281d7": {
          "model_module": "@jupyter-widgets/controls",
          "model_name": "ProgressStyleModel",
          "model_module_version": "1.5.0",
          "state": {
            "_model_module": "@jupyter-widgets/controls",
            "_model_module_version": "1.5.0",
            "_model_name": "ProgressStyleModel",
            "_view_count": null,
            "_view_module": "@jupyter-widgets/base",
            "_view_module_version": "1.2.0",
            "_view_name": "StyleView",
            "bar_color": null,
            "description_width": ""
          }
        },
        "4b99a993b3c44ace8b4188a807cecc85": {
          "model_module": "@jupyter-widgets/controls",
          "model_name": "HBoxModel",
          "model_module_version": "1.5.0",
          "state": {
            "_dom_classes": [],
            "_model_module": "@jupyter-widgets/controls",
            "_model_module_version": "1.5.0",
            "_model_name": "HBoxModel",
            "_view_count": null,
            "_view_module": "@jupyter-widgets/controls",
            "_view_module_version": "1.5.0",
            "_view_name": "HBoxView",
            "box_style": "",
            "children": [
              "IPY_MODEL_16a35607026a45ec82da6312853c8e1a",
              "IPY_MODEL_f15cdbfac8ef40ecab6ddfb6af36a64d",
              "IPY_MODEL_b914b25967964a23959d02d086997882"
            ],
            "layout": "IPY_MODEL_aa1d6c46318b492aa21e74ed253bc94a"
          }
        },
        "16a35607026a45ec82da6312853c8e1a": {
          "model_module": "@jupyter-widgets/controls",
          "model_name": "HTMLModel",
          "model_module_version": "1.5.0",
          "state": {
            "_dom_classes": [],
            "_model_module": "@jupyter-widgets/controls",
            "_model_module_version": "1.5.0",
            "_model_name": "HTMLModel",
            "_view_count": null,
            "_view_module": "@jupyter-widgets/controls",
            "_view_module_version": "1.5.0",
            "_view_name": "HTMLView",
            "description": "",
            "description_tooltip": null,
            "layout": "IPY_MODEL_eff5520194454488a9030dcd2c8e0c36",
            "placeholder": "​",
            "style": "IPY_MODEL_680db4f063ff45ed8ef5370967eea4dd",
            "value": "100%"
          }
        },
        "f15cdbfac8ef40ecab6ddfb6af36a64d": {
          "model_module": "@jupyter-widgets/controls",
          "model_name": "FloatProgressModel",
          "model_module_version": "1.5.0",
          "state": {
            "_dom_classes": [],
            "_model_module": "@jupyter-widgets/controls",
            "_model_module_version": "1.5.0",
            "_model_name": "FloatProgressModel",
            "_view_count": null,
            "_view_module": "@jupyter-widgets/controls",
            "_view_module_version": "1.5.0",
            "_view_name": "ProgressView",
            "bar_style": "success",
            "description": "",
            "description_tooltip": null,
            "layout": "IPY_MODEL_3b193b304f59431b8b747b14a521d67a",
            "max": 5,
            "min": 0,
            "orientation": "horizontal",
            "style": "IPY_MODEL_5166867d9e90412eb9deac3eb0ba9750",
            "value": 5
          }
        },
        "b914b25967964a23959d02d086997882": {
          "model_module": "@jupyter-widgets/controls",
          "model_name": "HTMLModel",
          "model_module_version": "1.5.0",
          "state": {
            "_dom_classes": [],
            "_model_module": "@jupyter-widgets/controls",
            "_model_module_version": "1.5.0",
            "_model_name": "HTMLModel",
            "_view_count": null,
            "_view_module": "@jupyter-widgets/controls",
            "_view_module_version": "1.5.0",
            "_view_name": "HTMLView",
            "description": "",
            "description_tooltip": null,
            "layout": "IPY_MODEL_3386023d44744f679750922cad31628d",
            "placeholder": "​",
            "style": "IPY_MODEL_ba85def4629f4d2784eb43fa8a415525",
            "value": " 5/5 [00:36&lt;00:00,  7.16s/it]"
          }
        },
        "aa1d6c46318b492aa21e74ed253bc94a": {
          "model_module": "@jupyter-widgets/base",
          "model_name": "LayoutModel",
          "model_module_version": "1.2.0",
          "state": {
            "_model_module": "@jupyter-widgets/base",
            "_model_module_version": "1.2.0",
            "_model_name": "LayoutModel",
            "_view_count": null,
            "_view_module": "@jupyter-widgets/base",
            "_view_module_version": "1.2.0",
            "_view_name": "LayoutView",
            "align_content": null,
            "align_items": null,
            "align_self": null,
            "border": null,
            "bottom": null,
            "display": null,
            "flex": null,
            "flex_flow": null,
            "grid_area": null,
            "grid_auto_columns": null,
            "grid_auto_flow": null,
            "grid_auto_rows": null,
            "grid_column": null,
            "grid_gap": null,
            "grid_row": null,
            "grid_template_areas": null,
            "grid_template_columns": null,
            "grid_template_rows": null,
            "height": null,
            "justify_content": null,
            "justify_items": null,
            "left": null,
            "margin": null,
            "max_height": null,
            "max_width": null,
            "min_height": null,
            "min_width": null,
            "object_fit": null,
            "object_position": null,
            "order": null,
            "overflow": null,
            "overflow_x": null,
            "overflow_y": null,
            "padding": null,
            "right": null,
            "top": null,
            "visibility": null,
            "width": null
          }
        },
        "eff5520194454488a9030dcd2c8e0c36": {
          "model_module": "@jupyter-widgets/base",
          "model_name": "LayoutModel",
          "model_module_version": "1.2.0",
          "state": {
            "_model_module": "@jupyter-widgets/base",
            "_model_module_version": "1.2.0",
            "_model_name": "LayoutModel",
            "_view_count": null,
            "_view_module": "@jupyter-widgets/base",
            "_view_module_version": "1.2.0",
            "_view_name": "LayoutView",
            "align_content": null,
            "align_items": null,
            "align_self": null,
            "border": null,
            "bottom": null,
            "display": null,
            "flex": null,
            "flex_flow": null,
            "grid_area": null,
            "grid_auto_columns": null,
            "grid_auto_flow": null,
            "grid_auto_rows": null,
            "grid_column": null,
            "grid_gap": null,
            "grid_row": null,
            "grid_template_areas": null,
            "grid_template_columns": null,
            "grid_template_rows": null,
            "height": null,
            "justify_content": null,
            "justify_items": null,
            "left": null,
            "margin": null,
            "max_height": null,
            "max_width": null,
            "min_height": null,
            "min_width": null,
            "object_fit": null,
            "object_position": null,
            "order": null,
            "overflow": null,
            "overflow_x": null,
            "overflow_y": null,
            "padding": null,
            "right": null,
            "top": null,
            "visibility": null,
            "width": null
          }
        },
        "680db4f063ff45ed8ef5370967eea4dd": {
          "model_module": "@jupyter-widgets/controls",
          "model_name": "DescriptionStyleModel",
          "model_module_version": "1.5.0",
          "state": {
            "_model_module": "@jupyter-widgets/controls",
            "_model_module_version": "1.5.0",
            "_model_name": "DescriptionStyleModel",
            "_view_count": null,
            "_view_module": "@jupyter-widgets/base",
            "_view_module_version": "1.2.0",
            "_view_name": "StyleView",
            "description_width": ""
          }
        },
        "3b193b304f59431b8b747b14a521d67a": {
          "model_module": "@jupyter-widgets/base",
          "model_name": "LayoutModel",
          "model_module_version": "1.2.0",
          "state": {
            "_model_module": "@jupyter-widgets/base",
            "_model_module_version": "1.2.0",
            "_model_name": "LayoutModel",
            "_view_count": null,
            "_view_module": "@jupyter-widgets/base",
            "_view_module_version": "1.2.0",
            "_view_name": "LayoutView",
            "align_content": null,
            "align_items": null,
            "align_self": null,
            "border": null,
            "bottom": null,
            "display": null,
            "flex": null,
            "flex_flow": null,
            "grid_area": null,
            "grid_auto_columns": null,
            "grid_auto_flow": null,
            "grid_auto_rows": null,
            "grid_column": null,
            "grid_gap": null,
            "grid_row": null,
            "grid_template_areas": null,
            "grid_template_columns": null,
            "grid_template_rows": null,
            "height": null,
            "justify_content": null,
            "justify_items": null,
            "left": null,
            "margin": null,
            "max_height": null,
            "max_width": null,
            "min_height": null,
            "min_width": null,
            "object_fit": null,
            "object_position": null,
            "order": null,
            "overflow": null,
            "overflow_x": null,
            "overflow_y": null,
            "padding": null,
            "right": null,
            "top": null,
            "visibility": null,
            "width": null
          }
        },
        "5166867d9e90412eb9deac3eb0ba9750": {
          "model_module": "@jupyter-widgets/controls",
          "model_name": "ProgressStyleModel",
          "model_module_version": "1.5.0",
          "state": {
            "_model_module": "@jupyter-widgets/controls",
            "_model_module_version": "1.5.0",
            "_model_name": "ProgressStyleModel",
            "_view_count": null,
            "_view_module": "@jupyter-widgets/base",
            "_view_module_version": "1.2.0",
            "_view_name": "StyleView",
            "bar_color": null,
            "description_width": ""
          }
        },
        "3386023d44744f679750922cad31628d": {
          "model_module": "@jupyter-widgets/base",
          "model_name": "LayoutModel",
          "model_module_version": "1.2.0",
          "state": {
            "_model_module": "@jupyter-widgets/base",
            "_model_module_version": "1.2.0",
            "_model_name": "LayoutModel",
            "_view_count": null,
            "_view_module": "@jupyter-widgets/base",
            "_view_module_version": "1.2.0",
            "_view_name": "LayoutView",
            "align_content": null,
            "align_items": null,
            "align_self": null,
            "border": null,
            "bottom": null,
            "display": null,
            "flex": null,
            "flex_flow": null,
            "grid_area": null,
            "grid_auto_columns": null,
            "grid_auto_flow": null,
            "grid_auto_rows": null,
            "grid_column": null,
            "grid_gap": null,
            "grid_row": null,
            "grid_template_areas": null,
            "grid_template_columns": null,
            "grid_template_rows": null,
            "height": null,
            "justify_content": null,
            "justify_items": null,
            "left": null,
            "margin": null,
            "max_height": null,
            "max_width": null,
            "min_height": null,
            "min_width": null,
            "object_fit": null,
            "object_position": null,
            "order": null,
            "overflow": null,
            "overflow_x": null,
            "overflow_y": null,
            "padding": null,
            "right": null,
            "top": null,
            "visibility": null,
            "width": null
          }
        },
        "ba85def4629f4d2784eb43fa8a415525": {
          "model_module": "@jupyter-widgets/controls",
          "model_name": "DescriptionStyleModel",
          "model_module_version": "1.5.0",
          "state": {
            "_model_module": "@jupyter-widgets/controls",
            "_model_module_version": "1.5.0",
            "_model_name": "DescriptionStyleModel",
            "_view_count": null,
            "_view_module": "@jupyter-widgets/base",
            "_view_module_version": "1.2.0",
            "_view_name": "StyleView",
            "description_width": ""
          }
        },
        "fb313e7f6a20491a95df3ca2d5fa3e5f": {
          "model_module": "@jupyter-widgets/controls",
          "model_name": "VBoxModel",
          "model_module_version": "1.5.0",
          "state": {
            "_dom_classes": [],
            "_model_module": "@jupyter-widgets/controls",
            "_model_module_version": "1.5.0",
            "_model_name": "VBoxModel",
            "_view_count": null,
            "_view_module": "@jupyter-widgets/controls",
            "_view_module_version": "1.5.0",
            "_view_name": "VBoxView",
            "box_style": "",
            "children": [
              "IPY_MODEL_bcda1a7f8c4e44dcbfe70862a616357c",
              "IPY_MODEL_a4b0e2c81bcf478ba49608600a6fea9b"
            ],
            "layout": "IPY_MODEL_0f5ab397eadd4fd4bdca415c8f040549"
          }
        },
        "bcda1a7f8c4e44dcbfe70862a616357c": {
          "model_module": "@jupyter-widgets/controls",
          "model_name": "LabelModel",
          "model_module_version": "1.5.0",
          "state": {
            "_dom_classes": [],
            "_model_module": "@jupyter-widgets/controls",
            "_model_module_version": "1.5.0",
            "_model_name": "LabelModel",
            "_view_count": null,
            "_view_module": "@jupyter-widgets/controls",
            "_view_module_version": "1.5.0",
            "_view_name": "LabelView",
            "description": "",
            "description_tooltip": null,
            "layout": "IPY_MODEL_104c5216fe2345bb901e8a53235db6dc",
            "placeholder": "​",
            "style": "IPY_MODEL_6316b6e232db460494a86958c7dfd2aa",
            "value": "0.280 MB of 0.280 MB uploaded (0.000 MB deduped)\r"
          }
        },
        "a4b0e2c81bcf478ba49608600a6fea9b": {
          "model_module": "@jupyter-widgets/controls",
          "model_name": "FloatProgressModel",
          "model_module_version": "1.5.0",
          "state": {
            "_dom_classes": [],
            "_model_module": "@jupyter-widgets/controls",
            "_model_module_version": "1.5.0",
            "_model_name": "FloatProgressModel",
            "_view_count": null,
            "_view_module": "@jupyter-widgets/controls",
            "_view_module_version": "1.5.0",
            "_view_name": "ProgressView",
            "bar_style": "",
            "description": "",
            "description_tooltip": null,
            "layout": "IPY_MODEL_8548f9c8a1ec48b7a6ed764fa46768e7",
            "max": 1,
            "min": 0,
            "orientation": "horizontal",
            "style": "IPY_MODEL_2ec64d8c06404f0fb26b873f1aa10579",
            "value": 1
          }
        },
        "0f5ab397eadd4fd4bdca415c8f040549": {
          "model_module": "@jupyter-widgets/base",
          "model_name": "LayoutModel",
          "model_module_version": "1.2.0",
          "state": {
            "_model_module": "@jupyter-widgets/base",
            "_model_module_version": "1.2.0",
            "_model_name": "LayoutModel",
            "_view_count": null,
            "_view_module": "@jupyter-widgets/base",
            "_view_module_version": "1.2.0",
            "_view_name": "LayoutView",
            "align_content": null,
            "align_items": null,
            "align_self": null,
            "border": null,
            "bottom": null,
            "display": null,
            "flex": null,
            "flex_flow": null,
            "grid_area": null,
            "grid_auto_columns": null,
            "grid_auto_flow": null,
            "grid_auto_rows": null,
            "grid_column": null,
            "grid_gap": null,
            "grid_row": null,
            "grid_template_areas": null,
            "grid_template_columns": null,
            "grid_template_rows": null,
            "height": null,
            "justify_content": null,
            "justify_items": null,
            "left": null,
            "margin": null,
            "max_height": null,
            "max_width": null,
            "min_height": null,
            "min_width": null,
            "object_fit": null,
            "object_position": null,
            "order": null,
            "overflow": null,
            "overflow_x": null,
            "overflow_y": null,
            "padding": null,
            "right": null,
            "top": null,
            "visibility": null,
            "width": null
          }
        },
        "104c5216fe2345bb901e8a53235db6dc": {
          "model_module": "@jupyter-widgets/base",
          "model_name": "LayoutModel",
          "model_module_version": "1.2.0",
          "state": {
            "_model_module": "@jupyter-widgets/base",
            "_model_module_version": "1.2.0",
            "_model_name": "LayoutModel",
            "_view_count": null,
            "_view_module": "@jupyter-widgets/base",
            "_view_module_version": "1.2.0",
            "_view_name": "LayoutView",
            "align_content": null,
            "align_items": null,
            "align_self": null,
            "border": null,
            "bottom": null,
            "display": null,
            "flex": null,
            "flex_flow": null,
            "grid_area": null,
            "grid_auto_columns": null,
            "grid_auto_flow": null,
            "grid_auto_rows": null,
            "grid_column": null,
            "grid_gap": null,
            "grid_row": null,
            "grid_template_areas": null,
            "grid_template_columns": null,
            "grid_template_rows": null,
            "height": null,
            "justify_content": null,
            "justify_items": null,
            "left": null,
            "margin": null,
            "max_height": null,
            "max_width": null,
            "min_height": null,
            "min_width": null,
            "object_fit": null,
            "object_position": null,
            "order": null,
            "overflow": null,
            "overflow_x": null,
            "overflow_y": null,
            "padding": null,
            "right": null,
            "top": null,
            "visibility": null,
            "width": null
          }
        },
        "6316b6e232db460494a86958c7dfd2aa": {
          "model_module": "@jupyter-widgets/controls",
          "model_name": "DescriptionStyleModel",
          "model_module_version": "1.5.0",
          "state": {
            "_model_module": "@jupyter-widgets/controls",
            "_model_module_version": "1.5.0",
            "_model_name": "DescriptionStyleModel",
            "_view_count": null,
            "_view_module": "@jupyter-widgets/base",
            "_view_module_version": "1.2.0",
            "_view_name": "StyleView",
            "description_width": ""
          }
        },
        "8548f9c8a1ec48b7a6ed764fa46768e7": {
          "model_module": "@jupyter-widgets/base",
          "model_name": "LayoutModel",
          "model_module_version": "1.2.0",
          "state": {
            "_model_module": "@jupyter-widgets/base",
            "_model_module_version": "1.2.0",
            "_model_name": "LayoutModel",
            "_view_count": null,
            "_view_module": "@jupyter-widgets/base",
            "_view_module_version": "1.2.0",
            "_view_name": "LayoutView",
            "align_content": null,
            "align_items": null,
            "align_self": null,
            "border": null,
            "bottom": null,
            "display": null,
            "flex": null,
            "flex_flow": null,
            "grid_area": null,
            "grid_auto_columns": null,
            "grid_auto_flow": null,
            "grid_auto_rows": null,
            "grid_column": null,
            "grid_gap": null,
            "grid_row": null,
            "grid_template_areas": null,
            "grid_template_columns": null,
            "grid_template_rows": null,
            "height": null,
            "justify_content": null,
            "justify_items": null,
            "left": null,
            "margin": null,
            "max_height": null,
            "max_width": null,
            "min_height": null,
            "min_width": null,
            "object_fit": null,
            "object_position": null,
            "order": null,
            "overflow": null,
            "overflow_x": null,
            "overflow_y": null,
            "padding": null,
            "right": null,
            "top": null,
            "visibility": null,
            "width": null
          }
        },
        "2ec64d8c06404f0fb26b873f1aa10579": {
          "model_module": "@jupyter-widgets/controls",
          "model_name": "ProgressStyleModel",
          "model_module_version": "1.5.0",
          "state": {
            "_model_module": "@jupyter-widgets/controls",
            "_model_module_version": "1.5.0",
            "_model_name": "ProgressStyleModel",
            "_view_count": null,
            "_view_module": "@jupyter-widgets/base",
            "_view_module_version": "1.2.0",
            "_view_name": "StyleView",
            "bar_color": null,
            "description_width": ""
          }
        },
        "5027f7bace3d4b328dd7a28d75773f98": {
          "model_module": "@jupyter-widgets/controls",
          "model_name": "HBoxModel",
          "model_module_version": "1.5.0",
          "state": {
            "_dom_classes": [],
            "_model_module": "@jupyter-widgets/controls",
            "_model_module_version": "1.5.0",
            "_model_name": "HBoxModel",
            "_view_count": null,
            "_view_module": "@jupyter-widgets/controls",
            "_view_module_version": "1.5.0",
            "_view_name": "HBoxView",
            "box_style": "",
            "children": [
              "IPY_MODEL_15821d5887344a2cb439b1010a5ee97f",
              "IPY_MODEL_c35ee5f714a44d5ba375ebd7feeec162",
              "IPY_MODEL_b7eb81a69f6042af83640944c3df98b7"
            ],
            "layout": "IPY_MODEL_6f69be3b700c481a897f8bd707ad7d67"
          }
        },
        "15821d5887344a2cb439b1010a5ee97f": {
          "model_module": "@jupyter-widgets/controls",
          "model_name": "HTMLModel",
          "model_module_version": "1.5.0",
          "state": {
            "_dom_classes": [],
            "_model_module": "@jupyter-widgets/controls",
            "_model_module_version": "1.5.0",
            "_model_name": "HTMLModel",
            "_view_count": null,
            "_view_module": "@jupyter-widgets/controls",
            "_view_module_version": "1.5.0",
            "_view_name": "HTMLView",
            "description": "",
            "description_tooltip": null,
            "layout": "IPY_MODEL_372142e1ff9e4827b9c71691e3ff874a",
            "placeholder": "​",
            "style": "IPY_MODEL_1baa6092df5d4753a0d3ae69b0813a61",
            "value": "100%"
          }
        },
        "c35ee5f714a44d5ba375ebd7feeec162": {
          "model_module": "@jupyter-widgets/controls",
          "model_name": "FloatProgressModel",
          "model_module_version": "1.5.0",
          "state": {
            "_dom_classes": [],
            "_model_module": "@jupyter-widgets/controls",
            "_model_module_version": "1.5.0",
            "_model_name": "FloatProgressModel",
            "_view_count": null,
            "_view_module": "@jupyter-widgets/controls",
            "_view_module_version": "1.5.0",
            "_view_name": "ProgressView",
            "bar_style": "success",
            "description": "",
            "description_tooltip": null,
            "layout": "IPY_MODEL_3a433a8c9ba1413e9af3dd3f099d117e",
            "max": 5,
            "min": 0,
            "orientation": "horizontal",
            "style": "IPY_MODEL_59115d4e2a6f4fbe983b95457dc6859a",
            "value": 5
          }
        },
        "b7eb81a69f6042af83640944c3df98b7": {
          "model_module": "@jupyter-widgets/controls",
          "model_name": "HTMLModel",
          "model_module_version": "1.5.0",
          "state": {
            "_dom_classes": [],
            "_model_module": "@jupyter-widgets/controls",
            "_model_module_version": "1.5.0",
            "_model_name": "HTMLModel",
            "_view_count": null,
            "_view_module": "@jupyter-widgets/controls",
            "_view_module_version": "1.5.0",
            "_view_name": "HTMLView",
            "description": "",
            "description_tooltip": null,
            "layout": "IPY_MODEL_cd483ac36644447d833166d469ed7c42",
            "placeholder": "​",
            "style": "IPY_MODEL_ff73624dfa8e4f338a865f1424a94004",
            "value": " 5/5 [00:39&lt;00:00,  8.06s/it]"
          }
        },
        "6f69be3b700c481a897f8bd707ad7d67": {
          "model_module": "@jupyter-widgets/base",
          "model_name": "LayoutModel",
          "model_module_version": "1.2.0",
          "state": {
            "_model_module": "@jupyter-widgets/base",
            "_model_module_version": "1.2.0",
            "_model_name": "LayoutModel",
            "_view_count": null,
            "_view_module": "@jupyter-widgets/base",
            "_view_module_version": "1.2.0",
            "_view_name": "LayoutView",
            "align_content": null,
            "align_items": null,
            "align_self": null,
            "border": null,
            "bottom": null,
            "display": null,
            "flex": null,
            "flex_flow": null,
            "grid_area": null,
            "grid_auto_columns": null,
            "grid_auto_flow": null,
            "grid_auto_rows": null,
            "grid_column": null,
            "grid_gap": null,
            "grid_row": null,
            "grid_template_areas": null,
            "grid_template_columns": null,
            "grid_template_rows": null,
            "height": null,
            "justify_content": null,
            "justify_items": null,
            "left": null,
            "margin": null,
            "max_height": null,
            "max_width": null,
            "min_height": null,
            "min_width": null,
            "object_fit": null,
            "object_position": null,
            "order": null,
            "overflow": null,
            "overflow_x": null,
            "overflow_y": null,
            "padding": null,
            "right": null,
            "top": null,
            "visibility": null,
            "width": null
          }
        },
        "372142e1ff9e4827b9c71691e3ff874a": {
          "model_module": "@jupyter-widgets/base",
          "model_name": "LayoutModel",
          "model_module_version": "1.2.0",
          "state": {
            "_model_module": "@jupyter-widgets/base",
            "_model_module_version": "1.2.0",
            "_model_name": "LayoutModel",
            "_view_count": null,
            "_view_module": "@jupyter-widgets/base",
            "_view_module_version": "1.2.0",
            "_view_name": "LayoutView",
            "align_content": null,
            "align_items": null,
            "align_self": null,
            "border": null,
            "bottom": null,
            "display": null,
            "flex": null,
            "flex_flow": null,
            "grid_area": null,
            "grid_auto_columns": null,
            "grid_auto_flow": null,
            "grid_auto_rows": null,
            "grid_column": null,
            "grid_gap": null,
            "grid_row": null,
            "grid_template_areas": null,
            "grid_template_columns": null,
            "grid_template_rows": null,
            "height": null,
            "justify_content": null,
            "justify_items": null,
            "left": null,
            "margin": null,
            "max_height": null,
            "max_width": null,
            "min_height": null,
            "min_width": null,
            "object_fit": null,
            "object_position": null,
            "order": null,
            "overflow": null,
            "overflow_x": null,
            "overflow_y": null,
            "padding": null,
            "right": null,
            "top": null,
            "visibility": null,
            "width": null
          }
        },
        "1baa6092df5d4753a0d3ae69b0813a61": {
          "model_module": "@jupyter-widgets/controls",
          "model_name": "DescriptionStyleModel",
          "model_module_version": "1.5.0",
          "state": {
            "_model_module": "@jupyter-widgets/controls",
            "_model_module_version": "1.5.0",
            "_model_name": "DescriptionStyleModel",
            "_view_count": null,
            "_view_module": "@jupyter-widgets/base",
            "_view_module_version": "1.2.0",
            "_view_name": "StyleView",
            "description_width": ""
          }
        },
        "3a433a8c9ba1413e9af3dd3f099d117e": {
          "model_module": "@jupyter-widgets/base",
          "model_name": "LayoutModel",
          "model_module_version": "1.2.0",
          "state": {
            "_model_module": "@jupyter-widgets/base",
            "_model_module_version": "1.2.0",
            "_model_name": "LayoutModel",
            "_view_count": null,
            "_view_module": "@jupyter-widgets/base",
            "_view_module_version": "1.2.0",
            "_view_name": "LayoutView",
            "align_content": null,
            "align_items": null,
            "align_self": null,
            "border": null,
            "bottom": null,
            "display": null,
            "flex": null,
            "flex_flow": null,
            "grid_area": null,
            "grid_auto_columns": null,
            "grid_auto_flow": null,
            "grid_auto_rows": null,
            "grid_column": null,
            "grid_gap": null,
            "grid_row": null,
            "grid_template_areas": null,
            "grid_template_columns": null,
            "grid_template_rows": null,
            "height": null,
            "justify_content": null,
            "justify_items": null,
            "left": null,
            "margin": null,
            "max_height": null,
            "max_width": null,
            "min_height": null,
            "min_width": null,
            "object_fit": null,
            "object_position": null,
            "order": null,
            "overflow": null,
            "overflow_x": null,
            "overflow_y": null,
            "padding": null,
            "right": null,
            "top": null,
            "visibility": null,
            "width": null
          }
        },
        "59115d4e2a6f4fbe983b95457dc6859a": {
          "model_module": "@jupyter-widgets/controls",
          "model_name": "ProgressStyleModel",
          "model_module_version": "1.5.0",
          "state": {
            "_model_module": "@jupyter-widgets/controls",
            "_model_module_version": "1.5.0",
            "_model_name": "ProgressStyleModel",
            "_view_count": null,
            "_view_module": "@jupyter-widgets/base",
            "_view_module_version": "1.2.0",
            "_view_name": "StyleView",
            "bar_color": null,
            "description_width": ""
          }
        },
        "cd483ac36644447d833166d469ed7c42": {
          "model_module": "@jupyter-widgets/base",
          "model_name": "LayoutModel",
          "model_module_version": "1.2.0",
          "state": {
            "_model_module": "@jupyter-widgets/base",
            "_model_module_version": "1.2.0",
            "_model_name": "LayoutModel",
            "_view_count": null,
            "_view_module": "@jupyter-widgets/base",
            "_view_module_version": "1.2.0",
            "_view_name": "LayoutView",
            "align_content": null,
            "align_items": null,
            "align_self": null,
            "border": null,
            "bottom": null,
            "display": null,
            "flex": null,
            "flex_flow": null,
            "grid_area": null,
            "grid_auto_columns": null,
            "grid_auto_flow": null,
            "grid_auto_rows": null,
            "grid_column": null,
            "grid_gap": null,
            "grid_row": null,
            "grid_template_areas": null,
            "grid_template_columns": null,
            "grid_template_rows": null,
            "height": null,
            "justify_content": null,
            "justify_items": null,
            "left": null,
            "margin": null,
            "max_height": null,
            "max_width": null,
            "min_height": null,
            "min_width": null,
            "object_fit": null,
            "object_position": null,
            "order": null,
            "overflow": null,
            "overflow_x": null,
            "overflow_y": null,
            "padding": null,
            "right": null,
            "top": null,
            "visibility": null,
            "width": null
          }
        },
        "ff73624dfa8e4f338a865f1424a94004": {
          "model_module": "@jupyter-widgets/controls",
          "model_name": "DescriptionStyleModel",
          "model_module_version": "1.5.0",
          "state": {
            "_model_module": "@jupyter-widgets/controls",
            "_model_module_version": "1.5.0",
            "_model_name": "DescriptionStyleModel",
            "_view_count": null,
            "_view_module": "@jupyter-widgets/base",
            "_view_module_version": "1.2.0",
            "_view_name": "StyleView",
            "description_width": ""
          }
        },
        "d49d5b955e4f4f5cb0d6b32c24770d5e": {
          "model_module": "@jupyter-widgets/controls",
          "model_name": "HBoxModel",
          "model_module_version": "1.5.0",
          "state": {
            "_dom_classes": [],
            "_model_module": "@jupyter-widgets/controls",
            "_model_module_version": "1.5.0",
            "_model_name": "HBoxModel",
            "_view_count": null,
            "_view_module": "@jupyter-widgets/controls",
            "_view_module_version": "1.5.0",
            "_view_name": "HBoxView",
            "box_style": "",
            "children": [
              "IPY_MODEL_96a11cdb251248ed9e0449ae1733f64d",
              "IPY_MODEL_8874a645fe184d7bbbc8e3dc46d4aa4d",
              "IPY_MODEL_1f7a290a792746f6863a07435a77c834"
            ],
            "layout": "IPY_MODEL_16284cffb3a24f9b938ab71118025d90"
          }
        },
        "96a11cdb251248ed9e0449ae1733f64d": {
          "model_module": "@jupyter-widgets/controls",
          "model_name": "HTMLModel",
          "model_module_version": "1.5.0",
          "state": {
            "_dom_classes": [],
            "_model_module": "@jupyter-widgets/controls",
            "_model_module_version": "1.5.0",
            "_model_name": "HTMLModel",
            "_view_count": null,
            "_view_module": "@jupyter-widgets/controls",
            "_view_module_version": "1.5.0",
            "_view_name": "HTMLView",
            "description": "",
            "description_tooltip": null,
            "layout": "IPY_MODEL_ba07b0c3fa334bddac401f5b207b4e07",
            "placeholder": "​",
            "style": "IPY_MODEL_b89fe24f91c24c6d85606b2bd3473f51",
            "value": "100%"
          }
        },
        "8874a645fe184d7bbbc8e3dc46d4aa4d": {
          "model_module": "@jupyter-widgets/controls",
          "model_name": "FloatProgressModel",
          "model_module_version": "1.5.0",
          "state": {
            "_dom_classes": [],
            "_model_module": "@jupyter-widgets/controls",
            "_model_module_version": "1.5.0",
            "_model_name": "FloatProgressModel",
            "_view_count": null,
            "_view_module": "@jupyter-widgets/controls",
            "_view_module_version": "1.5.0",
            "_view_name": "ProgressView",
            "bar_style": "success",
            "description": "",
            "description_tooltip": null,
            "layout": "IPY_MODEL_88f8a5cf89054d44a1f8d5a757062460",
            "max": 5,
            "min": 0,
            "orientation": "horizontal",
            "style": "IPY_MODEL_adaf3d882c584793902972ef1f48f5ab",
            "value": 5
          }
        },
        "1f7a290a792746f6863a07435a77c834": {
          "model_module": "@jupyter-widgets/controls",
          "model_name": "HTMLModel",
          "model_module_version": "1.5.0",
          "state": {
            "_dom_classes": [],
            "_model_module": "@jupyter-widgets/controls",
            "_model_module_version": "1.5.0",
            "_model_name": "HTMLModel",
            "_view_count": null,
            "_view_module": "@jupyter-widgets/controls",
            "_view_module_version": "1.5.0",
            "_view_name": "HTMLView",
            "description": "",
            "description_tooltip": null,
            "layout": "IPY_MODEL_d3959838e163484581867d79b54df50a",
            "placeholder": "​",
            "style": "IPY_MODEL_bed56c4100654bfc9eff7a6c8d57d057",
            "value": " 5/5 [00:36&lt;00:00,  7.45s/it]"
          }
        },
        "16284cffb3a24f9b938ab71118025d90": {
          "model_module": "@jupyter-widgets/base",
          "model_name": "LayoutModel",
          "model_module_version": "1.2.0",
          "state": {
            "_model_module": "@jupyter-widgets/base",
            "_model_module_version": "1.2.0",
            "_model_name": "LayoutModel",
            "_view_count": null,
            "_view_module": "@jupyter-widgets/base",
            "_view_module_version": "1.2.0",
            "_view_name": "LayoutView",
            "align_content": null,
            "align_items": null,
            "align_self": null,
            "border": null,
            "bottom": null,
            "display": null,
            "flex": null,
            "flex_flow": null,
            "grid_area": null,
            "grid_auto_columns": null,
            "grid_auto_flow": null,
            "grid_auto_rows": null,
            "grid_column": null,
            "grid_gap": null,
            "grid_row": null,
            "grid_template_areas": null,
            "grid_template_columns": null,
            "grid_template_rows": null,
            "height": null,
            "justify_content": null,
            "justify_items": null,
            "left": null,
            "margin": null,
            "max_height": null,
            "max_width": null,
            "min_height": null,
            "min_width": null,
            "object_fit": null,
            "object_position": null,
            "order": null,
            "overflow": null,
            "overflow_x": null,
            "overflow_y": null,
            "padding": null,
            "right": null,
            "top": null,
            "visibility": null,
            "width": null
          }
        },
        "ba07b0c3fa334bddac401f5b207b4e07": {
          "model_module": "@jupyter-widgets/base",
          "model_name": "LayoutModel",
          "model_module_version": "1.2.0",
          "state": {
            "_model_module": "@jupyter-widgets/base",
            "_model_module_version": "1.2.0",
            "_model_name": "LayoutModel",
            "_view_count": null,
            "_view_module": "@jupyter-widgets/base",
            "_view_module_version": "1.2.0",
            "_view_name": "LayoutView",
            "align_content": null,
            "align_items": null,
            "align_self": null,
            "border": null,
            "bottom": null,
            "display": null,
            "flex": null,
            "flex_flow": null,
            "grid_area": null,
            "grid_auto_columns": null,
            "grid_auto_flow": null,
            "grid_auto_rows": null,
            "grid_column": null,
            "grid_gap": null,
            "grid_row": null,
            "grid_template_areas": null,
            "grid_template_columns": null,
            "grid_template_rows": null,
            "height": null,
            "justify_content": null,
            "justify_items": null,
            "left": null,
            "margin": null,
            "max_height": null,
            "max_width": null,
            "min_height": null,
            "min_width": null,
            "object_fit": null,
            "object_position": null,
            "order": null,
            "overflow": null,
            "overflow_x": null,
            "overflow_y": null,
            "padding": null,
            "right": null,
            "top": null,
            "visibility": null,
            "width": null
          }
        },
        "b89fe24f91c24c6d85606b2bd3473f51": {
          "model_module": "@jupyter-widgets/controls",
          "model_name": "DescriptionStyleModel",
          "model_module_version": "1.5.0",
          "state": {
            "_model_module": "@jupyter-widgets/controls",
            "_model_module_version": "1.5.0",
            "_model_name": "DescriptionStyleModel",
            "_view_count": null,
            "_view_module": "@jupyter-widgets/base",
            "_view_module_version": "1.2.0",
            "_view_name": "StyleView",
            "description_width": ""
          }
        },
        "88f8a5cf89054d44a1f8d5a757062460": {
          "model_module": "@jupyter-widgets/base",
          "model_name": "LayoutModel",
          "model_module_version": "1.2.0",
          "state": {
            "_model_module": "@jupyter-widgets/base",
            "_model_module_version": "1.2.0",
            "_model_name": "LayoutModel",
            "_view_count": null,
            "_view_module": "@jupyter-widgets/base",
            "_view_module_version": "1.2.0",
            "_view_name": "LayoutView",
            "align_content": null,
            "align_items": null,
            "align_self": null,
            "border": null,
            "bottom": null,
            "display": null,
            "flex": null,
            "flex_flow": null,
            "grid_area": null,
            "grid_auto_columns": null,
            "grid_auto_flow": null,
            "grid_auto_rows": null,
            "grid_column": null,
            "grid_gap": null,
            "grid_row": null,
            "grid_template_areas": null,
            "grid_template_columns": null,
            "grid_template_rows": null,
            "height": null,
            "justify_content": null,
            "justify_items": null,
            "left": null,
            "margin": null,
            "max_height": null,
            "max_width": null,
            "min_height": null,
            "min_width": null,
            "object_fit": null,
            "object_position": null,
            "order": null,
            "overflow": null,
            "overflow_x": null,
            "overflow_y": null,
            "padding": null,
            "right": null,
            "top": null,
            "visibility": null,
            "width": null
          }
        },
        "adaf3d882c584793902972ef1f48f5ab": {
          "model_module": "@jupyter-widgets/controls",
          "model_name": "ProgressStyleModel",
          "model_module_version": "1.5.0",
          "state": {
            "_model_module": "@jupyter-widgets/controls",
            "_model_module_version": "1.5.0",
            "_model_name": "ProgressStyleModel",
            "_view_count": null,
            "_view_module": "@jupyter-widgets/base",
            "_view_module_version": "1.2.0",
            "_view_name": "StyleView",
            "bar_color": null,
            "description_width": ""
          }
        },
        "d3959838e163484581867d79b54df50a": {
          "model_module": "@jupyter-widgets/base",
          "model_name": "LayoutModel",
          "model_module_version": "1.2.0",
          "state": {
            "_model_module": "@jupyter-widgets/base",
            "_model_module_version": "1.2.0",
            "_model_name": "LayoutModel",
            "_view_count": null,
            "_view_module": "@jupyter-widgets/base",
            "_view_module_version": "1.2.0",
            "_view_name": "LayoutView",
            "align_content": null,
            "align_items": null,
            "align_self": null,
            "border": null,
            "bottom": null,
            "display": null,
            "flex": null,
            "flex_flow": null,
            "grid_area": null,
            "grid_auto_columns": null,
            "grid_auto_flow": null,
            "grid_auto_rows": null,
            "grid_column": null,
            "grid_gap": null,
            "grid_row": null,
            "grid_template_areas": null,
            "grid_template_columns": null,
            "grid_template_rows": null,
            "height": null,
            "justify_content": null,
            "justify_items": null,
            "left": null,
            "margin": null,
            "max_height": null,
            "max_width": null,
            "min_height": null,
            "min_width": null,
            "object_fit": null,
            "object_position": null,
            "order": null,
            "overflow": null,
            "overflow_x": null,
            "overflow_y": null,
            "padding": null,
            "right": null,
            "top": null,
            "visibility": null,
            "width": null
          }
        },
        "bed56c4100654bfc9eff7a6c8d57d057": {
          "model_module": "@jupyter-widgets/controls",
          "model_name": "DescriptionStyleModel",
          "model_module_version": "1.5.0",
          "state": {
            "_model_module": "@jupyter-widgets/controls",
            "_model_module_version": "1.5.0",
            "_model_name": "DescriptionStyleModel",
            "_view_count": null,
            "_view_module": "@jupyter-widgets/base",
            "_view_module_version": "1.2.0",
            "_view_name": "StyleView",
            "description_width": ""
          }
        },
        "d9d8004416b44be5a6e15fdbb4381c8e": {
          "model_module": "@jupyter-widgets/controls",
          "model_name": "HBoxModel",
          "model_module_version": "1.5.0",
          "state": {
            "_dom_classes": [],
            "_model_module": "@jupyter-widgets/controls",
            "_model_module_version": "1.5.0",
            "_model_name": "HBoxModel",
            "_view_count": null,
            "_view_module": "@jupyter-widgets/controls",
            "_view_module_version": "1.5.0",
            "_view_name": "HBoxView",
            "box_style": "",
            "children": [
              "IPY_MODEL_23f4bb3004454f6788feabb9b599621d",
              "IPY_MODEL_b39d40b2a1a54749a1b0bfaaf4197147",
              "IPY_MODEL_40183627557e44aca114980de4dbadf3"
            ],
            "layout": "IPY_MODEL_1d2afe92c7e24bde946b7278cd740a86"
          }
        },
        "23f4bb3004454f6788feabb9b599621d": {
          "model_module": "@jupyter-widgets/controls",
          "model_name": "HTMLModel",
          "model_module_version": "1.5.0",
          "state": {
            "_dom_classes": [],
            "_model_module": "@jupyter-widgets/controls",
            "_model_module_version": "1.5.0",
            "_model_name": "HTMLModel",
            "_view_count": null,
            "_view_module": "@jupyter-widgets/controls",
            "_view_module_version": "1.5.0",
            "_view_name": "HTMLView",
            "description": "",
            "description_tooltip": null,
            "layout": "IPY_MODEL_fee65bbe939e48b5b9e1ab1cd2a8e070",
            "placeholder": "​",
            "style": "IPY_MODEL_4d904b194b364a2882b02d2c06658e3e",
            "value": "100%"
          }
        },
        "b39d40b2a1a54749a1b0bfaaf4197147": {
          "model_module": "@jupyter-widgets/controls",
          "model_name": "FloatProgressModel",
          "model_module_version": "1.5.0",
          "state": {
            "_dom_classes": [],
            "_model_module": "@jupyter-widgets/controls",
            "_model_module_version": "1.5.0",
            "_model_name": "FloatProgressModel",
            "_view_count": null,
            "_view_module": "@jupyter-widgets/controls",
            "_view_module_version": "1.5.0",
            "_view_name": "ProgressView",
            "bar_style": "success",
            "description": "",
            "description_tooltip": null,
            "layout": "IPY_MODEL_974aa75ecbc24cb3b8ef66679d6497b7",
            "max": 5,
            "min": 0,
            "orientation": "horizontal",
            "style": "IPY_MODEL_d0982d7722314c8685ec41e1746a55d9",
            "value": 5
          }
        },
        "40183627557e44aca114980de4dbadf3": {
          "model_module": "@jupyter-widgets/controls",
          "model_name": "HTMLModel",
          "model_module_version": "1.5.0",
          "state": {
            "_dom_classes": [],
            "_model_module": "@jupyter-widgets/controls",
            "_model_module_version": "1.5.0",
            "_model_name": "HTMLModel",
            "_view_count": null,
            "_view_module": "@jupyter-widgets/controls",
            "_view_module_version": "1.5.0",
            "_view_name": "HTMLView",
            "description": "",
            "description_tooltip": null,
            "layout": "IPY_MODEL_1294b0114d5e4636ba0413c686dec70c",
            "placeholder": "​",
            "style": "IPY_MODEL_5057cf7168364d65acbdf0b016bd1458",
            "value": " 5/5 [00:37&lt;00:00,  7.45s/it]"
          }
        },
        "1d2afe92c7e24bde946b7278cd740a86": {
          "model_module": "@jupyter-widgets/base",
          "model_name": "LayoutModel",
          "model_module_version": "1.2.0",
          "state": {
            "_model_module": "@jupyter-widgets/base",
            "_model_module_version": "1.2.0",
            "_model_name": "LayoutModel",
            "_view_count": null,
            "_view_module": "@jupyter-widgets/base",
            "_view_module_version": "1.2.0",
            "_view_name": "LayoutView",
            "align_content": null,
            "align_items": null,
            "align_self": null,
            "border": null,
            "bottom": null,
            "display": null,
            "flex": null,
            "flex_flow": null,
            "grid_area": null,
            "grid_auto_columns": null,
            "grid_auto_flow": null,
            "grid_auto_rows": null,
            "grid_column": null,
            "grid_gap": null,
            "grid_row": null,
            "grid_template_areas": null,
            "grid_template_columns": null,
            "grid_template_rows": null,
            "height": null,
            "justify_content": null,
            "justify_items": null,
            "left": null,
            "margin": null,
            "max_height": null,
            "max_width": null,
            "min_height": null,
            "min_width": null,
            "object_fit": null,
            "object_position": null,
            "order": null,
            "overflow": null,
            "overflow_x": null,
            "overflow_y": null,
            "padding": null,
            "right": null,
            "top": null,
            "visibility": null,
            "width": null
          }
        },
        "fee65bbe939e48b5b9e1ab1cd2a8e070": {
          "model_module": "@jupyter-widgets/base",
          "model_name": "LayoutModel",
          "model_module_version": "1.2.0",
          "state": {
            "_model_module": "@jupyter-widgets/base",
            "_model_module_version": "1.2.0",
            "_model_name": "LayoutModel",
            "_view_count": null,
            "_view_module": "@jupyter-widgets/base",
            "_view_module_version": "1.2.0",
            "_view_name": "LayoutView",
            "align_content": null,
            "align_items": null,
            "align_self": null,
            "border": null,
            "bottom": null,
            "display": null,
            "flex": null,
            "flex_flow": null,
            "grid_area": null,
            "grid_auto_columns": null,
            "grid_auto_flow": null,
            "grid_auto_rows": null,
            "grid_column": null,
            "grid_gap": null,
            "grid_row": null,
            "grid_template_areas": null,
            "grid_template_columns": null,
            "grid_template_rows": null,
            "height": null,
            "justify_content": null,
            "justify_items": null,
            "left": null,
            "margin": null,
            "max_height": null,
            "max_width": null,
            "min_height": null,
            "min_width": null,
            "object_fit": null,
            "object_position": null,
            "order": null,
            "overflow": null,
            "overflow_x": null,
            "overflow_y": null,
            "padding": null,
            "right": null,
            "top": null,
            "visibility": null,
            "width": null
          }
        },
        "4d904b194b364a2882b02d2c06658e3e": {
          "model_module": "@jupyter-widgets/controls",
          "model_name": "DescriptionStyleModel",
          "model_module_version": "1.5.0",
          "state": {
            "_model_module": "@jupyter-widgets/controls",
            "_model_module_version": "1.5.0",
            "_model_name": "DescriptionStyleModel",
            "_view_count": null,
            "_view_module": "@jupyter-widgets/base",
            "_view_module_version": "1.2.0",
            "_view_name": "StyleView",
            "description_width": ""
          }
        },
        "974aa75ecbc24cb3b8ef66679d6497b7": {
          "model_module": "@jupyter-widgets/base",
          "model_name": "LayoutModel",
          "model_module_version": "1.2.0",
          "state": {
            "_model_module": "@jupyter-widgets/base",
            "_model_module_version": "1.2.0",
            "_model_name": "LayoutModel",
            "_view_count": null,
            "_view_module": "@jupyter-widgets/base",
            "_view_module_version": "1.2.0",
            "_view_name": "LayoutView",
            "align_content": null,
            "align_items": null,
            "align_self": null,
            "border": null,
            "bottom": null,
            "display": null,
            "flex": null,
            "flex_flow": null,
            "grid_area": null,
            "grid_auto_columns": null,
            "grid_auto_flow": null,
            "grid_auto_rows": null,
            "grid_column": null,
            "grid_gap": null,
            "grid_row": null,
            "grid_template_areas": null,
            "grid_template_columns": null,
            "grid_template_rows": null,
            "height": null,
            "justify_content": null,
            "justify_items": null,
            "left": null,
            "margin": null,
            "max_height": null,
            "max_width": null,
            "min_height": null,
            "min_width": null,
            "object_fit": null,
            "object_position": null,
            "order": null,
            "overflow": null,
            "overflow_x": null,
            "overflow_y": null,
            "padding": null,
            "right": null,
            "top": null,
            "visibility": null,
            "width": null
          }
        },
        "d0982d7722314c8685ec41e1746a55d9": {
          "model_module": "@jupyter-widgets/controls",
          "model_name": "ProgressStyleModel",
          "model_module_version": "1.5.0",
          "state": {
            "_model_module": "@jupyter-widgets/controls",
            "_model_module_version": "1.5.0",
            "_model_name": "ProgressStyleModel",
            "_view_count": null,
            "_view_module": "@jupyter-widgets/base",
            "_view_module_version": "1.2.0",
            "_view_name": "StyleView",
            "bar_color": null,
            "description_width": ""
          }
        },
        "1294b0114d5e4636ba0413c686dec70c": {
          "model_module": "@jupyter-widgets/base",
          "model_name": "LayoutModel",
          "model_module_version": "1.2.0",
          "state": {
            "_model_module": "@jupyter-widgets/base",
            "_model_module_version": "1.2.0",
            "_model_name": "LayoutModel",
            "_view_count": null,
            "_view_module": "@jupyter-widgets/base",
            "_view_module_version": "1.2.0",
            "_view_name": "LayoutView",
            "align_content": null,
            "align_items": null,
            "align_self": null,
            "border": null,
            "bottom": null,
            "display": null,
            "flex": null,
            "flex_flow": null,
            "grid_area": null,
            "grid_auto_columns": null,
            "grid_auto_flow": null,
            "grid_auto_rows": null,
            "grid_column": null,
            "grid_gap": null,
            "grid_row": null,
            "grid_template_areas": null,
            "grid_template_columns": null,
            "grid_template_rows": null,
            "height": null,
            "justify_content": null,
            "justify_items": null,
            "left": null,
            "margin": null,
            "max_height": null,
            "max_width": null,
            "min_height": null,
            "min_width": null,
            "object_fit": null,
            "object_position": null,
            "order": null,
            "overflow": null,
            "overflow_x": null,
            "overflow_y": null,
            "padding": null,
            "right": null,
            "top": null,
            "visibility": null,
            "width": null
          }
        },
        "5057cf7168364d65acbdf0b016bd1458": {
          "model_module": "@jupyter-widgets/controls",
          "model_name": "DescriptionStyleModel",
          "model_module_version": "1.5.0",
          "state": {
            "_model_module": "@jupyter-widgets/controls",
            "_model_module_version": "1.5.0",
            "_model_name": "DescriptionStyleModel",
            "_view_count": null,
            "_view_module": "@jupyter-widgets/base",
            "_view_module_version": "1.2.0",
            "_view_name": "StyleView",
            "description_width": ""
          }
        },
        "7e4977169d114f3199bfd2110760de4a": {
          "model_module": "@jupyter-widgets/controls",
          "model_name": "HBoxModel",
          "model_module_version": "1.5.0",
          "state": {
            "_dom_classes": [],
            "_model_module": "@jupyter-widgets/controls",
            "_model_module_version": "1.5.0",
            "_model_name": "HBoxModel",
            "_view_count": null,
            "_view_module": "@jupyter-widgets/controls",
            "_view_module_version": "1.5.0",
            "_view_name": "HBoxView",
            "box_style": "",
            "children": [
              "IPY_MODEL_d6cbe5d02ff944e4b2f1ab6abf367b38",
              "IPY_MODEL_70fb3077c5ae49f3800c45d3cca6e75f",
              "IPY_MODEL_0a435fec1bdd4cb79214064f38950b6c"
            ],
            "layout": "IPY_MODEL_2ec753b13191439685dfde39bf13b5ca"
          }
        },
        "d6cbe5d02ff944e4b2f1ab6abf367b38": {
          "model_module": "@jupyter-widgets/controls",
          "model_name": "HTMLModel",
          "model_module_version": "1.5.0",
          "state": {
            "_dom_classes": [],
            "_model_module": "@jupyter-widgets/controls",
            "_model_module_version": "1.5.0",
            "_model_name": "HTMLModel",
            "_view_count": null,
            "_view_module": "@jupyter-widgets/controls",
            "_view_module_version": "1.5.0",
            "_view_name": "HTMLView",
            "description": "",
            "description_tooltip": null,
            "layout": "IPY_MODEL_50858e43d9a44ad9871413363231ec71",
            "placeholder": "​",
            "style": "IPY_MODEL_554248ba624545ab807bdcaba230446f",
            "value": "100%"
          }
        },
        "70fb3077c5ae49f3800c45d3cca6e75f": {
          "model_module": "@jupyter-widgets/controls",
          "model_name": "FloatProgressModel",
          "model_module_version": "1.5.0",
          "state": {
            "_dom_classes": [],
            "_model_module": "@jupyter-widgets/controls",
            "_model_module_version": "1.5.0",
            "_model_name": "FloatProgressModel",
            "_view_count": null,
            "_view_module": "@jupyter-widgets/controls",
            "_view_module_version": "1.5.0",
            "_view_name": "ProgressView",
            "bar_style": "success",
            "description": "",
            "description_tooltip": null,
            "layout": "IPY_MODEL_980544d548cf431a87fefc665f52d4b1",
            "max": 5,
            "min": 0,
            "orientation": "horizontal",
            "style": "IPY_MODEL_ab6efd60994f454598f41f9308a6a7e3",
            "value": 5
          }
        },
        "0a435fec1bdd4cb79214064f38950b6c": {
          "model_module": "@jupyter-widgets/controls",
          "model_name": "HTMLModel",
          "model_module_version": "1.5.0",
          "state": {
            "_dom_classes": [],
            "_model_module": "@jupyter-widgets/controls",
            "_model_module_version": "1.5.0",
            "_model_name": "HTMLModel",
            "_view_count": null,
            "_view_module": "@jupyter-widgets/controls",
            "_view_module_version": "1.5.0",
            "_view_name": "HTMLView",
            "description": "",
            "description_tooltip": null,
            "layout": "IPY_MODEL_2d6f0ec3ffe9472087847c7747e93bea",
            "placeholder": "​",
            "style": "IPY_MODEL_5af555a9edeb4ec7b6260920462a691a",
            "value": " 5/5 [00:36&lt;00:00,  7.23s/it]"
          }
        },
        "2ec753b13191439685dfde39bf13b5ca": {
          "model_module": "@jupyter-widgets/base",
          "model_name": "LayoutModel",
          "model_module_version": "1.2.0",
          "state": {
            "_model_module": "@jupyter-widgets/base",
            "_model_module_version": "1.2.0",
            "_model_name": "LayoutModel",
            "_view_count": null,
            "_view_module": "@jupyter-widgets/base",
            "_view_module_version": "1.2.0",
            "_view_name": "LayoutView",
            "align_content": null,
            "align_items": null,
            "align_self": null,
            "border": null,
            "bottom": null,
            "display": null,
            "flex": null,
            "flex_flow": null,
            "grid_area": null,
            "grid_auto_columns": null,
            "grid_auto_flow": null,
            "grid_auto_rows": null,
            "grid_column": null,
            "grid_gap": null,
            "grid_row": null,
            "grid_template_areas": null,
            "grid_template_columns": null,
            "grid_template_rows": null,
            "height": null,
            "justify_content": null,
            "justify_items": null,
            "left": null,
            "margin": null,
            "max_height": null,
            "max_width": null,
            "min_height": null,
            "min_width": null,
            "object_fit": null,
            "object_position": null,
            "order": null,
            "overflow": null,
            "overflow_x": null,
            "overflow_y": null,
            "padding": null,
            "right": null,
            "top": null,
            "visibility": null,
            "width": null
          }
        },
        "50858e43d9a44ad9871413363231ec71": {
          "model_module": "@jupyter-widgets/base",
          "model_name": "LayoutModel",
          "model_module_version": "1.2.0",
          "state": {
            "_model_module": "@jupyter-widgets/base",
            "_model_module_version": "1.2.0",
            "_model_name": "LayoutModel",
            "_view_count": null,
            "_view_module": "@jupyter-widgets/base",
            "_view_module_version": "1.2.0",
            "_view_name": "LayoutView",
            "align_content": null,
            "align_items": null,
            "align_self": null,
            "border": null,
            "bottom": null,
            "display": null,
            "flex": null,
            "flex_flow": null,
            "grid_area": null,
            "grid_auto_columns": null,
            "grid_auto_flow": null,
            "grid_auto_rows": null,
            "grid_column": null,
            "grid_gap": null,
            "grid_row": null,
            "grid_template_areas": null,
            "grid_template_columns": null,
            "grid_template_rows": null,
            "height": null,
            "justify_content": null,
            "justify_items": null,
            "left": null,
            "margin": null,
            "max_height": null,
            "max_width": null,
            "min_height": null,
            "min_width": null,
            "object_fit": null,
            "object_position": null,
            "order": null,
            "overflow": null,
            "overflow_x": null,
            "overflow_y": null,
            "padding": null,
            "right": null,
            "top": null,
            "visibility": null,
            "width": null
          }
        },
        "554248ba624545ab807bdcaba230446f": {
          "model_module": "@jupyter-widgets/controls",
          "model_name": "DescriptionStyleModel",
          "model_module_version": "1.5.0",
          "state": {
            "_model_module": "@jupyter-widgets/controls",
            "_model_module_version": "1.5.0",
            "_model_name": "DescriptionStyleModel",
            "_view_count": null,
            "_view_module": "@jupyter-widgets/base",
            "_view_module_version": "1.2.0",
            "_view_name": "StyleView",
            "description_width": ""
          }
        },
        "980544d548cf431a87fefc665f52d4b1": {
          "model_module": "@jupyter-widgets/base",
          "model_name": "LayoutModel",
          "model_module_version": "1.2.0",
          "state": {
            "_model_module": "@jupyter-widgets/base",
            "_model_module_version": "1.2.0",
            "_model_name": "LayoutModel",
            "_view_count": null,
            "_view_module": "@jupyter-widgets/base",
            "_view_module_version": "1.2.0",
            "_view_name": "LayoutView",
            "align_content": null,
            "align_items": null,
            "align_self": null,
            "border": null,
            "bottom": null,
            "display": null,
            "flex": null,
            "flex_flow": null,
            "grid_area": null,
            "grid_auto_columns": null,
            "grid_auto_flow": null,
            "grid_auto_rows": null,
            "grid_column": null,
            "grid_gap": null,
            "grid_row": null,
            "grid_template_areas": null,
            "grid_template_columns": null,
            "grid_template_rows": null,
            "height": null,
            "justify_content": null,
            "justify_items": null,
            "left": null,
            "margin": null,
            "max_height": null,
            "max_width": null,
            "min_height": null,
            "min_width": null,
            "object_fit": null,
            "object_position": null,
            "order": null,
            "overflow": null,
            "overflow_x": null,
            "overflow_y": null,
            "padding": null,
            "right": null,
            "top": null,
            "visibility": null,
            "width": null
          }
        },
        "ab6efd60994f454598f41f9308a6a7e3": {
          "model_module": "@jupyter-widgets/controls",
          "model_name": "ProgressStyleModel",
          "model_module_version": "1.5.0",
          "state": {
            "_model_module": "@jupyter-widgets/controls",
            "_model_module_version": "1.5.0",
            "_model_name": "ProgressStyleModel",
            "_view_count": null,
            "_view_module": "@jupyter-widgets/base",
            "_view_module_version": "1.2.0",
            "_view_name": "StyleView",
            "bar_color": null,
            "description_width": ""
          }
        },
        "2d6f0ec3ffe9472087847c7747e93bea": {
          "model_module": "@jupyter-widgets/base",
          "model_name": "LayoutModel",
          "model_module_version": "1.2.0",
          "state": {
            "_model_module": "@jupyter-widgets/base",
            "_model_module_version": "1.2.0",
            "_model_name": "LayoutModel",
            "_view_count": null,
            "_view_module": "@jupyter-widgets/base",
            "_view_module_version": "1.2.0",
            "_view_name": "LayoutView",
            "align_content": null,
            "align_items": null,
            "align_self": null,
            "border": null,
            "bottom": null,
            "display": null,
            "flex": null,
            "flex_flow": null,
            "grid_area": null,
            "grid_auto_columns": null,
            "grid_auto_flow": null,
            "grid_auto_rows": null,
            "grid_column": null,
            "grid_gap": null,
            "grid_row": null,
            "grid_template_areas": null,
            "grid_template_columns": null,
            "grid_template_rows": null,
            "height": null,
            "justify_content": null,
            "justify_items": null,
            "left": null,
            "margin": null,
            "max_height": null,
            "max_width": null,
            "min_height": null,
            "min_width": null,
            "object_fit": null,
            "object_position": null,
            "order": null,
            "overflow": null,
            "overflow_x": null,
            "overflow_y": null,
            "padding": null,
            "right": null,
            "top": null,
            "visibility": null,
            "width": null
          }
        },
        "5af555a9edeb4ec7b6260920462a691a": {
          "model_module": "@jupyter-widgets/controls",
          "model_name": "DescriptionStyleModel",
          "model_module_version": "1.5.0",
          "state": {
            "_model_module": "@jupyter-widgets/controls",
            "_model_module_version": "1.5.0",
            "_model_name": "DescriptionStyleModel",
            "_view_count": null,
            "_view_module": "@jupyter-widgets/base",
            "_view_module_version": "1.2.0",
            "_view_name": "StyleView",
            "description_width": ""
          }
        },
        "e6c9608a8fd846df87fbae6232b046c7": {
          "model_module": "@jupyter-widgets/controls",
          "model_name": "HBoxModel",
          "model_module_version": "1.5.0",
          "state": {
            "_dom_classes": [],
            "_model_module": "@jupyter-widgets/controls",
            "_model_module_version": "1.5.0",
            "_model_name": "HBoxModel",
            "_view_count": null,
            "_view_module": "@jupyter-widgets/controls",
            "_view_module_version": "1.5.0",
            "_view_name": "HBoxView",
            "box_style": "",
            "children": [
              "IPY_MODEL_f4446aaf96bd47268df75e4e7184a4b1",
              "IPY_MODEL_27f2097f07ab4ce6997747451d267926",
              "IPY_MODEL_9caaf85f93fa42d09cfab936253a7ff9"
            ],
            "layout": "IPY_MODEL_89c748d423a648d78325e2680f01c8d0"
          }
        },
        "f4446aaf96bd47268df75e4e7184a4b1": {
          "model_module": "@jupyter-widgets/controls",
          "model_name": "HTMLModel",
          "model_module_version": "1.5.0",
          "state": {
            "_dom_classes": [],
            "_model_module": "@jupyter-widgets/controls",
            "_model_module_version": "1.5.0",
            "_model_name": "HTMLModel",
            "_view_count": null,
            "_view_module": "@jupyter-widgets/controls",
            "_view_module_version": "1.5.0",
            "_view_name": "HTMLView",
            "description": "",
            "description_tooltip": null,
            "layout": "IPY_MODEL_0a811915749b4de797e34c1be7e8ec55",
            "placeholder": "​",
            "style": "IPY_MODEL_0c1d2311926f409ea35504ef91ed561f",
            "value": "100%"
          }
        },
        "27f2097f07ab4ce6997747451d267926": {
          "model_module": "@jupyter-widgets/controls",
          "model_name": "FloatProgressModel",
          "model_module_version": "1.5.0",
          "state": {
            "_dom_classes": [],
            "_model_module": "@jupyter-widgets/controls",
            "_model_module_version": "1.5.0",
            "_model_name": "FloatProgressModel",
            "_view_count": null,
            "_view_module": "@jupyter-widgets/controls",
            "_view_module_version": "1.5.0",
            "_view_name": "ProgressView",
            "bar_style": "success",
            "description": "",
            "description_tooltip": null,
            "layout": "IPY_MODEL_e7f36acd987c46d88f120e0827a087be",
            "max": 5,
            "min": 0,
            "orientation": "horizontal",
            "style": "IPY_MODEL_d6f3d4c65a3a4381b641bf5abed7212b",
            "value": 5
          }
        },
        "9caaf85f93fa42d09cfab936253a7ff9": {
          "model_module": "@jupyter-widgets/controls",
          "model_name": "HTMLModel",
          "model_module_version": "1.5.0",
          "state": {
            "_dom_classes": [],
            "_model_module": "@jupyter-widgets/controls",
            "_model_module_version": "1.5.0",
            "_model_name": "HTMLModel",
            "_view_count": null,
            "_view_module": "@jupyter-widgets/controls",
            "_view_module_version": "1.5.0",
            "_view_name": "HTMLView",
            "description": "",
            "description_tooltip": null,
            "layout": "IPY_MODEL_6c891e9ffc784915960cc3cae9eeaf93",
            "placeholder": "​",
            "style": "IPY_MODEL_d0fe3d5134074bdfa301be4c84119aec",
            "value": " 5/5 [00:35&lt;00:00,  6.95s/it]"
          }
        },
        "89c748d423a648d78325e2680f01c8d0": {
          "model_module": "@jupyter-widgets/base",
          "model_name": "LayoutModel",
          "model_module_version": "1.2.0",
          "state": {
            "_model_module": "@jupyter-widgets/base",
            "_model_module_version": "1.2.0",
            "_model_name": "LayoutModel",
            "_view_count": null,
            "_view_module": "@jupyter-widgets/base",
            "_view_module_version": "1.2.0",
            "_view_name": "LayoutView",
            "align_content": null,
            "align_items": null,
            "align_self": null,
            "border": null,
            "bottom": null,
            "display": null,
            "flex": null,
            "flex_flow": null,
            "grid_area": null,
            "grid_auto_columns": null,
            "grid_auto_flow": null,
            "grid_auto_rows": null,
            "grid_column": null,
            "grid_gap": null,
            "grid_row": null,
            "grid_template_areas": null,
            "grid_template_columns": null,
            "grid_template_rows": null,
            "height": null,
            "justify_content": null,
            "justify_items": null,
            "left": null,
            "margin": null,
            "max_height": null,
            "max_width": null,
            "min_height": null,
            "min_width": null,
            "object_fit": null,
            "object_position": null,
            "order": null,
            "overflow": null,
            "overflow_x": null,
            "overflow_y": null,
            "padding": null,
            "right": null,
            "top": null,
            "visibility": null,
            "width": null
          }
        },
        "0a811915749b4de797e34c1be7e8ec55": {
          "model_module": "@jupyter-widgets/base",
          "model_name": "LayoutModel",
          "model_module_version": "1.2.0",
          "state": {
            "_model_module": "@jupyter-widgets/base",
            "_model_module_version": "1.2.0",
            "_model_name": "LayoutModel",
            "_view_count": null,
            "_view_module": "@jupyter-widgets/base",
            "_view_module_version": "1.2.0",
            "_view_name": "LayoutView",
            "align_content": null,
            "align_items": null,
            "align_self": null,
            "border": null,
            "bottom": null,
            "display": null,
            "flex": null,
            "flex_flow": null,
            "grid_area": null,
            "grid_auto_columns": null,
            "grid_auto_flow": null,
            "grid_auto_rows": null,
            "grid_column": null,
            "grid_gap": null,
            "grid_row": null,
            "grid_template_areas": null,
            "grid_template_columns": null,
            "grid_template_rows": null,
            "height": null,
            "justify_content": null,
            "justify_items": null,
            "left": null,
            "margin": null,
            "max_height": null,
            "max_width": null,
            "min_height": null,
            "min_width": null,
            "object_fit": null,
            "object_position": null,
            "order": null,
            "overflow": null,
            "overflow_x": null,
            "overflow_y": null,
            "padding": null,
            "right": null,
            "top": null,
            "visibility": null,
            "width": null
          }
        },
        "0c1d2311926f409ea35504ef91ed561f": {
          "model_module": "@jupyter-widgets/controls",
          "model_name": "DescriptionStyleModel",
          "model_module_version": "1.5.0",
          "state": {
            "_model_module": "@jupyter-widgets/controls",
            "_model_module_version": "1.5.0",
            "_model_name": "DescriptionStyleModel",
            "_view_count": null,
            "_view_module": "@jupyter-widgets/base",
            "_view_module_version": "1.2.0",
            "_view_name": "StyleView",
            "description_width": ""
          }
        },
        "e7f36acd987c46d88f120e0827a087be": {
          "model_module": "@jupyter-widgets/base",
          "model_name": "LayoutModel",
          "model_module_version": "1.2.0",
          "state": {
            "_model_module": "@jupyter-widgets/base",
            "_model_module_version": "1.2.0",
            "_model_name": "LayoutModel",
            "_view_count": null,
            "_view_module": "@jupyter-widgets/base",
            "_view_module_version": "1.2.0",
            "_view_name": "LayoutView",
            "align_content": null,
            "align_items": null,
            "align_self": null,
            "border": null,
            "bottom": null,
            "display": null,
            "flex": null,
            "flex_flow": null,
            "grid_area": null,
            "grid_auto_columns": null,
            "grid_auto_flow": null,
            "grid_auto_rows": null,
            "grid_column": null,
            "grid_gap": null,
            "grid_row": null,
            "grid_template_areas": null,
            "grid_template_columns": null,
            "grid_template_rows": null,
            "height": null,
            "justify_content": null,
            "justify_items": null,
            "left": null,
            "margin": null,
            "max_height": null,
            "max_width": null,
            "min_height": null,
            "min_width": null,
            "object_fit": null,
            "object_position": null,
            "order": null,
            "overflow": null,
            "overflow_x": null,
            "overflow_y": null,
            "padding": null,
            "right": null,
            "top": null,
            "visibility": null,
            "width": null
          }
        },
        "d6f3d4c65a3a4381b641bf5abed7212b": {
          "model_module": "@jupyter-widgets/controls",
          "model_name": "ProgressStyleModel",
          "model_module_version": "1.5.0",
          "state": {
            "_model_module": "@jupyter-widgets/controls",
            "_model_module_version": "1.5.0",
            "_model_name": "ProgressStyleModel",
            "_view_count": null,
            "_view_module": "@jupyter-widgets/base",
            "_view_module_version": "1.2.0",
            "_view_name": "StyleView",
            "bar_color": null,
            "description_width": ""
          }
        },
        "6c891e9ffc784915960cc3cae9eeaf93": {
          "model_module": "@jupyter-widgets/base",
          "model_name": "LayoutModel",
          "model_module_version": "1.2.0",
          "state": {
            "_model_module": "@jupyter-widgets/base",
            "_model_module_version": "1.2.0",
            "_model_name": "LayoutModel",
            "_view_count": null,
            "_view_module": "@jupyter-widgets/base",
            "_view_module_version": "1.2.0",
            "_view_name": "LayoutView",
            "align_content": null,
            "align_items": null,
            "align_self": null,
            "border": null,
            "bottom": null,
            "display": null,
            "flex": null,
            "flex_flow": null,
            "grid_area": null,
            "grid_auto_columns": null,
            "grid_auto_flow": null,
            "grid_auto_rows": null,
            "grid_column": null,
            "grid_gap": null,
            "grid_row": null,
            "grid_template_areas": null,
            "grid_template_columns": null,
            "grid_template_rows": null,
            "height": null,
            "justify_content": null,
            "justify_items": null,
            "left": null,
            "margin": null,
            "max_height": null,
            "max_width": null,
            "min_height": null,
            "min_width": null,
            "object_fit": null,
            "object_position": null,
            "order": null,
            "overflow": null,
            "overflow_x": null,
            "overflow_y": null,
            "padding": null,
            "right": null,
            "top": null,
            "visibility": null,
            "width": null
          }
        },
        "d0fe3d5134074bdfa301be4c84119aec": {
          "model_module": "@jupyter-widgets/controls",
          "model_name": "DescriptionStyleModel",
          "model_module_version": "1.5.0",
          "state": {
            "_model_module": "@jupyter-widgets/controls",
            "_model_module_version": "1.5.0",
            "_model_name": "DescriptionStyleModel",
            "_view_count": null,
            "_view_module": "@jupyter-widgets/base",
            "_view_module_version": "1.2.0",
            "_view_name": "StyleView",
            "description_width": ""
          }
        },
        "28a095f45a0742c0a76b0be317c178e6": {
          "model_module": "@jupyter-widgets/controls",
          "model_name": "VBoxModel",
          "model_module_version": "1.5.0",
          "state": {
            "_dom_classes": [],
            "_model_module": "@jupyter-widgets/controls",
            "_model_module_version": "1.5.0",
            "_model_name": "VBoxModel",
            "_view_count": null,
            "_view_module": "@jupyter-widgets/controls",
            "_view_module_version": "1.5.0",
            "_view_name": "VBoxView",
            "box_style": "",
            "children": [
              "IPY_MODEL_c528f1153b5a4c20a26b368b6cadb332",
              "IPY_MODEL_67db358ea1f34ccebf98ce5e053f40bf"
            ],
            "layout": "IPY_MODEL_145746c97f814f719f93605c5d7982d9"
          }
        },
        "c528f1153b5a4c20a26b368b6cadb332": {
          "model_module": "@jupyter-widgets/controls",
          "model_name": "LabelModel",
          "model_module_version": "1.5.0",
          "state": {
            "_dom_classes": [],
            "_model_module": "@jupyter-widgets/controls",
            "_model_module_version": "1.5.0",
            "_model_name": "LabelModel",
            "_view_count": null,
            "_view_module": "@jupyter-widgets/controls",
            "_view_module_version": "1.5.0",
            "_view_name": "LabelView",
            "description": "",
            "description_tooltip": null,
            "layout": "IPY_MODEL_ff9f2b18962a4498a1e872b52d359c48",
            "placeholder": "​",
            "style": "IPY_MODEL_3820c5e280f6476b90f5c47f9dec89dc",
            "value": "0.355 MB of 0.355 MB uploaded (0.000 MB deduped)\r"
          }
        },
        "67db358ea1f34ccebf98ce5e053f40bf": {
          "model_module": "@jupyter-widgets/controls",
          "model_name": "FloatProgressModel",
          "model_module_version": "1.5.0",
          "state": {
            "_dom_classes": [],
            "_model_module": "@jupyter-widgets/controls",
            "_model_module_version": "1.5.0",
            "_model_name": "FloatProgressModel",
            "_view_count": null,
            "_view_module": "@jupyter-widgets/controls",
            "_view_module_version": "1.5.0",
            "_view_name": "ProgressView",
            "bar_style": "",
            "description": "",
            "description_tooltip": null,
            "layout": "IPY_MODEL_3c79f7264528427bb41cbe56ad200a30",
            "max": 1,
            "min": 0,
            "orientation": "horizontal",
            "style": "IPY_MODEL_fddca05c9c224dcf9f75feea1a70a636",
            "value": 1
          }
        },
        "145746c97f814f719f93605c5d7982d9": {
          "model_module": "@jupyter-widgets/base",
          "model_name": "LayoutModel",
          "model_module_version": "1.2.0",
          "state": {
            "_model_module": "@jupyter-widgets/base",
            "_model_module_version": "1.2.0",
            "_model_name": "LayoutModel",
            "_view_count": null,
            "_view_module": "@jupyter-widgets/base",
            "_view_module_version": "1.2.0",
            "_view_name": "LayoutView",
            "align_content": null,
            "align_items": null,
            "align_self": null,
            "border": null,
            "bottom": null,
            "display": null,
            "flex": null,
            "flex_flow": null,
            "grid_area": null,
            "grid_auto_columns": null,
            "grid_auto_flow": null,
            "grid_auto_rows": null,
            "grid_column": null,
            "grid_gap": null,
            "grid_row": null,
            "grid_template_areas": null,
            "grid_template_columns": null,
            "grid_template_rows": null,
            "height": null,
            "justify_content": null,
            "justify_items": null,
            "left": null,
            "margin": null,
            "max_height": null,
            "max_width": null,
            "min_height": null,
            "min_width": null,
            "object_fit": null,
            "object_position": null,
            "order": null,
            "overflow": null,
            "overflow_x": null,
            "overflow_y": null,
            "padding": null,
            "right": null,
            "top": null,
            "visibility": null,
            "width": null
          }
        },
        "ff9f2b18962a4498a1e872b52d359c48": {
          "model_module": "@jupyter-widgets/base",
          "model_name": "LayoutModel",
          "model_module_version": "1.2.0",
          "state": {
            "_model_module": "@jupyter-widgets/base",
            "_model_module_version": "1.2.0",
            "_model_name": "LayoutModel",
            "_view_count": null,
            "_view_module": "@jupyter-widgets/base",
            "_view_module_version": "1.2.0",
            "_view_name": "LayoutView",
            "align_content": null,
            "align_items": null,
            "align_self": null,
            "border": null,
            "bottom": null,
            "display": null,
            "flex": null,
            "flex_flow": null,
            "grid_area": null,
            "grid_auto_columns": null,
            "grid_auto_flow": null,
            "grid_auto_rows": null,
            "grid_column": null,
            "grid_gap": null,
            "grid_row": null,
            "grid_template_areas": null,
            "grid_template_columns": null,
            "grid_template_rows": null,
            "height": null,
            "justify_content": null,
            "justify_items": null,
            "left": null,
            "margin": null,
            "max_height": null,
            "max_width": null,
            "min_height": null,
            "min_width": null,
            "object_fit": null,
            "object_position": null,
            "order": null,
            "overflow": null,
            "overflow_x": null,
            "overflow_y": null,
            "padding": null,
            "right": null,
            "top": null,
            "visibility": null,
            "width": null
          }
        },
        "3820c5e280f6476b90f5c47f9dec89dc": {
          "model_module": "@jupyter-widgets/controls",
          "model_name": "DescriptionStyleModel",
          "model_module_version": "1.5.0",
          "state": {
            "_model_module": "@jupyter-widgets/controls",
            "_model_module_version": "1.5.0",
            "_model_name": "DescriptionStyleModel",
            "_view_count": null,
            "_view_module": "@jupyter-widgets/base",
            "_view_module_version": "1.2.0",
            "_view_name": "StyleView",
            "description_width": ""
          }
        },
        "3c79f7264528427bb41cbe56ad200a30": {
          "model_module": "@jupyter-widgets/base",
          "model_name": "LayoutModel",
          "model_module_version": "1.2.0",
          "state": {
            "_model_module": "@jupyter-widgets/base",
            "_model_module_version": "1.2.0",
            "_model_name": "LayoutModel",
            "_view_count": null,
            "_view_module": "@jupyter-widgets/base",
            "_view_module_version": "1.2.0",
            "_view_name": "LayoutView",
            "align_content": null,
            "align_items": null,
            "align_self": null,
            "border": null,
            "bottom": null,
            "display": null,
            "flex": null,
            "flex_flow": null,
            "grid_area": null,
            "grid_auto_columns": null,
            "grid_auto_flow": null,
            "grid_auto_rows": null,
            "grid_column": null,
            "grid_gap": null,
            "grid_row": null,
            "grid_template_areas": null,
            "grid_template_columns": null,
            "grid_template_rows": null,
            "height": null,
            "justify_content": null,
            "justify_items": null,
            "left": null,
            "margin": null,
            "max_height": null,
            "max_width": null,
            "min_height": null,
            "min_width": null,
            "object_fit": null,
            "object_position": null,
            "order": null,
            "overflow": null,
            "overflow_x": null,
            "overflow_y": null,
            "padding": null,
            "right": null,
            "top": null,
            "visibility": null,
            "width": null
          }
        },
        "fddca05c9c224dcf9f75feea1a70a636": {
          "model_module": "@jupyter-widgets/controls",
          "model_name": "ProgressStyleModel",
          "model_module_version": "1.5.0",
          "state": {
            "_model_module": "@jupyter-widgets/controls",
            "_model_module_version": "1.5.0",
            "_model_name": "ProgressStyleModel",
            "_view_count": null,
            "_view_module": "@jupyter-widgets/base",
            "_view_module_version": "1.2.0",
            "_view_name": "StyleView",
            "bar_color": null,
            "description_width": ""
          }
        },
        "a8ceb4e5578a4f0eb9a1ff6f8c2b08b9": {
          "model_module": "@jupyter-widgets/controls",
          "model_name": "HBoxModel",
          "model_module_version": "1.5.0",
          "state": {
            "_dom_classes": [],
            "_model_module": "@jupyter-widgets/controls",
            "_model_module_version": "1.5.0",
            "_model_name": "HBoxModel",
            "_view_count": null,
            "_view_module": "@jupyter-widgets/controls",
            "_view_module_version": "1.5.0",
            "_view_name": "HBoxView",
            "box_style": "",
            "children": [
              "IPY_MODEL_b909ded5df5642dba7f22b9279cb8f1b",
              "IPY_MODEL_53a0c41dc2e1415eab5f57fa982a6c09",
              "IPY_MODEL_a0f173f018974d5c9d137e836f6dad8b"
            ],
            "layout": "IPY_MODEL_c20bfc804e45482f85465c0315046d6c"
          }
        },
        "b909ded5df5642dba7f22b9279cb8f1b": {
          "model_module": "@jupyter-widgets/controls",
          "model_name": "HTMLModel",
          "model_module_version": "1.5.0",
          "state": {
            "_dom_classes": [],
            "_model_module": "@jupyter-widgets/controls",
            "_model_module_version": "1.5.0",
            "_model_name": "HTMLModel",
            "_view_count": null,
            "_view_module": "@jupyter-widgets/controls",
            "_view_module_version": "1.5.0",
            "_view_name": "HTMLView",
            "description": "",
            "description_tooltip": null,
            "layout": "IPY_MODEL_a93145aefe1c4d66927a44c55e5884fd",
            "placeholder": "​",
            "style": "IPY_MODEL_05f2210632524a248cf1a032a6313fa2",
            "value": "100%"
          }
        },
        "53a0c41dc2e1415eab5f57fa982a6c09": {
          "model_module": "@jupyter-widgets/controls",
          "model_name": "FloatProgressModel",
          "model_module_version": "1.5.0",
          "state": {
            "_dom_classes": [],
            "_model_module": "@jupyter-widgets/controls",
            "_model_module_version": "1.5.0",
            "_model_name": "FloatProgressModel",
            "_view_count": null,
            "_view_module": "@jupyter-widgets/controls",
            "_view_module_version": "1.5.0",
            "_view_name": "ProgressView",
            "bar_style": "success",
            "description": "",
            "description_tooltip": null,
            "layout": "IPY_MODEL_fa84dafcc1b643b7a50ae75030678b47",
            "max": 5,
            "min": 0,
            "orientation": "horizontal",
            "style": "IPY_MODEL_b5ce76e587114dd69deb1454f3988104",
            "value": 5
          }
        },
        "a0f173f018974d5c9d137e836f6dad8b": {
          "model_module": "@jupyter-widgets/controls",
          "model_name": "HTMLModel",
          "model_module_version": "1.5.0",
          "state": {
            "_dom_classes": [],
            "_model_module": "@jupyter-widgets/controls",
            "_model_module_version": "1.5.0",
            "_model_name": "HTMLModel",
            "_view_count": null,
            "_view_module": "@jupyter-widgets/controls",
            "_view_module_version": "1.5.0",
            "_view_name": "HTMLView",
            "description": "",
            "description_tooltip": null,
            "layout": "IPY_MODEL_04aded02b7f043d288599b9d86a0f041",
            "placeholder": "​",
            "style": "IPY_MODEL_f8eb7966fc73461a9b6696a41a02f46a",
            "value": " 5/5 [00:36&lt;00:00,  7.21s/it]"
          }
        },
        "c20bfc804e45482f85465c0315046d6c": {
          "model_module": "@jupyter-widgets/base",
          "model_name": "LayoutModel",
          "model_module_version": "1.2.0",
          "state": {
            "_model_module": "@jupyter-widgets/base",
            "_model_module_version": "1.2.0",
            "_model_name": "LayoutModel",
            "_view_count": null,
            "_view_module": "@jupyter-widgets/base",
            "_view_module_version": "1.2.0",
            "_view_name": "LayoutView",
            "align_content": null,
            "align_items": null,
            "align_self": null,
            "border": null,
            "bottom": null,
            "display": null,
            "flex": null,
            "flex_flow": null,
            "grid_area": null,
            "grid_auto_columns": null,
            "grid_auto_flow": null,
            "grid_auto_rows": null,
            "grid_column": null,
            "grid_gap": null,
            "grid_row": null,
            "grid_template_areas": null,
            "grid_template_columns": null,
            "grid_template_rows": null,
            "height": null,
            "justify_content": null,
            "justify_items": null,
            "left": null,
            "margin": null,
            "max_height": null,
            "max_width": null,
            "min_height": null,
            "min_width": null,
            "object_fit": null,
            "object_position": null,
            "order": null,
            "overflow": null,
            "overflow_x": null,
            "overflow_y": null,
            "padding": null,
            "right": null,
            "top": null,
            "visibility": null,
            "width": null
          }
        },
        "a93145aefe1c4d66927a44c55e5884fd": {
          "model_module": "@jupyter-widgets/base",
          "model_name": "LayoutModel",
          "model_module_version": "1.2.0",
          "state": {
            "_model_module": "@jupyter-widgets/base",
            "_model_module_version": "1.2.0",
            "_model_name": "LayoutModel",
            "_view_count": null,
            "_view_module": "@jupyter-widgets/base",
            "_view_module_version": "1.2.0",
            "_view_name": "LayoutView",
            "align_content": null,
            "align_items": null,
            "align_self": null,
            "border": null,
            "bottom": null,
            "display": null,
            "flex": null,
            "flex_flow": null,
            "grid_area": null,
            "grid_auto_columns": null,
            "grid_auto_flow": null,
            "grid_auto_rows": null,
            "grid_column": null,
            "grid_gap": null,
            "grid_row": null,
            "grid_template_areas": null,
            "grid_template_columns": null,
            "grid_template_rows": null,
            "height": null,
            "justify_content": null,
            "justify_items": null,
            "left": null,
            "margin": null,
            "max_height": null,
            "max_width": null,
            "min_height": null,
            "min_width": null,
            "object_fit": null,
            "object_position": null,
            "order": null,
            "overflow": null,
            "overflow_x": null,
            "overflow_y": null,
            "padding": null,
            "right": null,
            "top": null,
            "visibility": null,
            "width": null
          }
        },
        "05f2210632524a248cf1a032a6313fa2": {
          "model_module": "@jupyter-widgets/controls",
          "model_name": "DescriptionStyleModel",
          "model_module_version": "1.5.0",
          "state": {
            "_model_module": "@jupyter-widgets/controls",
            "_model_module_version": "1.5.0",
            "_model_name": "DescriptionStyleModel",
            "_view_count": null,
            "_view_module": "@jupyter-widgets/base",
            "_view_module_version": "1.2.0",
            "_view_name": "StyleView",
            "description_width": ""
          }
        },
        "fa84dafcc1b643b7a50ae75030678b47": {
          "model_module": "@jupyter-widgets/base",
          "model_name": "LayoutModel",
          "model_module_version": "1.2.0",
          "state": {
            "_model_module": "@jupyter-widgets/base",
            "_model_module_version": "1.2.0",
            "_model_name": "LayoutModel",
            "_view_count": null,
            "_view_module": "@jupyter-widgets/base",
            "_view_module_version": "1.2.0",
            "_view_name": "LayoutView",
            "align_content": null,
            "align_items": null,
            "align_self": null,
            "border": null,
            "bottom": null,
            "display": null,
            "flex": null,
            "flex_flow": null,
            "grid_area": null,
            "grid_auto_columns": null,
            "grid_auto_flow": null,
            "grid_auto_rows": null,
            "grid_column": null,
            "grid_gap": null,
            "grid_row": null,
            "grid_template_areas": null,
            "grid_template_columns": null,
            "grid_template_rows": null,
            "height": null,
            "justify_content": null,
            "justify_items": null,
            "left": null,
            "margin": null,
            "max_height": null,
            "max_width": null,
            "min_height": null,
            "min_width": null,
            "object_fit": null,
            "object_position": null,
            "order": null,
            "overflow": null,
            "overflow_x": null,
            "overflow_y": null,
            "padding": null,
            "right": null,
            "top": null,
            "visibility": null,
            "width": null
          }
        },
        "b5ce76e587114dd69deb1454f3988104": {
          "model_module": "@jupyter-widgets/controls",
          "model_name": "ProgressStyleModel",
          "model_module_version": "1.5.0",
          "state": {
            "_model_module": "@jupyter-widgets/controls",
            "_model_module_version": "1.5.0",
            "_model_name": "ProgressStyleModel",
            "_view_count": null,
            "_view_module": "@jupyter-widgets/base",
            "_view_module_version": "1.2.0",
            "_view_name": "StyleView",
            "bar_color": null,
            "description_width": ""
          }
        },
        "04aded02b7f043d288599b9d86a0f041": {
          "model_module": "@jupyter-widgets/base",
          "model_name": "LayoutModel",
          "model_module_version": "1.2.0",
          "state": {
            "_model_module": "@jupyter-widgets/base",
            "_model_module_version": "1.2.0",
            "_model_name": "LayoutModel",
            "_view_count": null,
            "_view_module": "@jupyter-widgets/base",
            "_view_module_version": "1.2.0",
            "_view_name": "LayoutView",
            "align_content": null,
            "align_items": null,
            "align_self": null,
            "border": null,
            "bottom": null,
            "display": null,
            "flex": null,
            "flex_flow": null,
            "grid_area": null,
            "grid_auto_columns": null,
            "grid_auto_flow": null,
            "grid_auto_rows": null,
            "grid_column": null,
            "grid_gap": null,
            "grid_row": null,
            "grid_template_areas": null,
            "grid_template_columns": null,
            "grid_template_rows": null,
            "height": null,
            "justify_content": null,
            "justify_items": null,
            "left": null,
            "margin": null,
            "max_height": null,
            "max_width": null,
            "min_height": null,
            "min_width": null,
            "object_fit": null,
            "object_position": null,
            "order": null,
            "overflow": null,
            "overflow_x": null,
            "overflow_y": null,
            "padding": null,
            "right": null,
            "top": null,
            "visibility": null,
            "width": null
          }
        },
        "f8eb7966fc73461a9b6696a41a02f46a": {
          "model_module": "@jupyter-widgets/controls",
          "model_name": "DescriptionStyleModel",
          "model_module_version": "1.5.0",
          "state": {
            "_model_module": "@jupyter-widgets/controls",
            "_model_module_version": "1.5.0",
            "_model_name": "DescriptionStyleModel",
            "_view_count": null,
            "_view_module": "@jupyter-widgets/base",
            "_view_module_version": "1.2.0",
            "_view_name": "StyleView",
            "description_width": ""
          }
        }
      }
    },
    "gpuClass": "standard"
  },
  "cells": [
    {
      "cell_type": "markdown",
      "metadata": {
        "id": "view-in-github",
        "colab_type": "text"
      },
      "source": [
        "<a href=\"https://colab.research.google.com/github/timsetsfire/wandb-examples/blob/main/colab/W%26B_Training_with_Optuna.ipynb\" target=\"_parent\"><img src=\"https://colab.research.google.com/assets/colab-badge.svg\" alt=\"Open In Colab\"/></a>"
      ]
    },
    {
      "cell_type": "markdown",
      "source": [
        "# PyTorch + W&B\n",
        "\n",
        "The purpose of this lab is to instrument W&B a top of existing ML Workflows which might be leveraging \n",
        "* PyTorch\n",
        "* Tensorboard (for metric tracking)\n",
        "* Python `logging` (for metric tracking)\n",
        "\n",
        "We will augment this workflow by leveraging \n",
        "* Wandb Experiments and syncing with Tensorboard\n",
        "* Wandb logging\n",
        "* Wandb Artifacts for dataset and model logging / versioning\n",
        "* Tables to surface prediction examples on Test datasets\n",
        "* track lineage of all artifacts and experiments completed\n",
        "\n",
        "Lastly, we'll do a simple demo of sweeps and interact with the runs via W&B API to\n",
        "* query runs and run summaries\n",
        "* artifacts"
      ],
      "metadata": {
        "id": "tKApKPjWCRer"
      }
    },
    {
      "cell_type": "code",
      "source": [
        "%%capture\n",
        "!pip install wandb easydict optuna --upgrade"
      ],
      "metadata": {
        "id": "3NC1NCkWqaRZ"
      },
      "execution_count": 1,
      "outputs": []
    },
    {
      "cell_type": "code",
      "source": [
        "%%capture\n",
        "!pip install tensorboard dill"
      ],
      "metadata": {
        "id": "-dhvzw6bh32b"
      },
      "execution_count": 2,
      "outputs": []
    },
    {
      "cell_type": "markdown",
      "source": [
        "## Logging In"
      ],
      "metadata": {
        "id": "w08j4Wp3lPgW"
      }
    },
    {
      "cell_type": "code",
      "source": [
        "#@title Enter host address\n",
        "#@markdown Enter the host url which corresponds to your WB instance.\n",
        "host = \"https://api.wandb.ai\" #@param {type: \"string\"}\n"
      ],
      "metadata": {
        "cellView": "form",
        "id": "Td8j0FTGmoEG"
      },
      "execution_count": 3,
      "outputs": []
    },
    {
      "cell_type": "code",
      "source": [
        "import wandb\n",
        "## when using wandb anywhere other than wandb.ai, you must \n",
        "## provide a proper host, so the client knows where to communcate\n",
        "## details of the experiment\n",
        "# wandb.login(key = key, host = host)\n",
        "wandb.login(host = host)"
      ],
      "metadata": {
        "colab": {
          "base_uri": "https://localhost:8080/",
          "height": 71
        },
        "id": "OoKj_iVKqd3V",
        "outputId": "e163ab73-7394-4635-a9d7-16eca0c27cac"
      },
      "execution_count": 4,
      "outputs": [
        {
          "output_type": "display_data",
          "data": {
            "text/plain": [
              "<IPython.core.display.Javascript object>"
            ],
            "application/javascript": [
              "\n",
              "        window._wandbApiKey = new Promise((resolve, reject) => {\n",
              "            function loadScript(url) {\n",
              "            return new Promise(function(resolve, reject) {\n",
              "                let newScript = document.createElement(\"script\");\n",
              "                newScript.onerror = reject;\n",
              "                newScript.onload = resolve;\n",
              "                document.body.appendChild(newScript);\n",
              "                newScript.src = url;\n",
              "            });\n",
              "            }\n",
              "            loadScript(\"https://cdn.jsdelivr.net/npm/postmate/build/postmate.min.js\").then(() => {\n",
              "            const iframe = document.createElement('iframe')\n",
              "            iframe.style.cssText = \"width:0;height:0;border:none\"\n",
              "            document.body.appendChild(iframe)\n",
              "            const handshake = new Postmate({\n",
              "                container: iframe,\n",
              "                url: 'https://wandb.ai/authorize'\n",
              "            });\n",
              "            const timeout = setTimeout(() => reject(\"Couldn't auto authenticate\"), 5000)\n",
              "            handshake.then(function(child) {\n",
              "                child.on('authorize', data => {\n",
              "                    clearTimeout(timeout)\n",
              "                    resolve(data)\n",
              "                });\n",
              "            });\n",
              "            })\n",
              "        });\n",
              "    "
            ]
          },
          "metadata": {}
        },
        {
          "output_type": "stream",
          "name": "stderr",
          "text": [
            "\u001b[34m\u001b[1mwandb\u001b[0m: Appending key for api.wandb.ai to your netrc file: /root/.netrc\n"
          ]
        },
        {
          "output_type": "execute_result",
          "data": {
            "text/plain": [
              "True"
            ]
          },
          "metadata": {},
          "execution_count": 4
        }
      ]
    },
    {
      "cell_type": "code",
      "execution_count": 5,
      "metadata": {
        "id": "QYRKkFd_qUX3"
      },
      "outputs": [],
      "source": [
        "import os\n",
        "import random\n",
        "import logging\n",
        "import numpy as np\n",
        "import torch\n",
        "import torch.nn as nn\n",
        "import torchvision\n",
        "import torchvision.transforms as transforms\n",
        "from tqdm.notebook import tqdm\n",
        "from torch.utils.tensorboard import SummaryWriter\n",
        "\n",
        "# Ensure deterministic behavior\n",
        "torch.backends.cudnn.deterministic = True\n",
        "random.seed(hash(\"setting random seeds\") % 2**32 - 1)\n",
        "np.random.seed(hash(\"improves reproducibility\") % 2**32 - 1)\n",
        "torch.manual_seed(hash(\"by removing stochasticity\") % 2**32 - 1)\n",
        "torch.cuda.manual_seed_all(hash(\"so runs are repeatable\") % 2**32 - 1)\n",
        "\n",
        "# Device configuration\n",
        "# if you wind up with any device other than cpu, some code below will need to \n",
        "# change specific to the way we are interacting with torch tensors.  \n",
        "# device = torch.device(\"cuda:0\" if torch.cuda.is_available() else \"cpu\")\n",
        "device = torch.device(\"cpu\")\n",
        "\n",
        "# remove slow mirror from list of MNIST mirrors\n",
        "torchvision.datasets.MNIST.mirrors = [mirror for mirror in torchvision.datasets.MNIST.mirrors\n",
        "                                      if not mirror.startswith(\"http://yann.lecun.com\")]"
      ]
    },
    {
      "cell_type": "markdown",
      "source": [
        "## Get Data (and log it)\n",
        "\n",
        "When we get data and log it, there are obviously tons of way to complete this.  Depending on how you log data, and whether or not you log your retrieval mechanism is a matter of preference and internal guidelines you need to follow.  \n",
        "\n",
        "In our approach, we will write a `getter` for our data.  The benefit of writing a getting, we can log this getter with our dataset as part of the artifact metadata.\n",
        "\n"
      ],
      "metadata": {
        "id": "nPUPBpm32EVt"
      }
    },
    {
      "cell_type": "markdown",
      "source": [
        "Before we get started it is important to set the name space for your project.  This is going to be accomplished by passing a `project_name` as well as an `entity` to your wandb experiment\n",
        "\n",
        "`entity` corresponds to the team to which the project will be associated with.  The `entity` could be a team name, or your user name.  "
      ],
      "metadata": {
        "id": "zCzXk7SI8fuh"
      }
    },
    {
      "cell_type": "code",
      "source": [
        "project_name = \"demos\" #@param {type: \"string\"}\n",
        "entity = \"tim-w\" #@param {type: \"string\"}"
      ],
      "metadata": {
        "id": "qE6TMpNal4IY"
      },
      "execution_count": 6,
      "outputs": []
    },
    {
      "cell_type": "markdown",
      "source": [
        "## Logging data\n",
        "\n",
        "W&B is very unopinionated with regard to how you track your experiments.  We could log data in any number of ways.  \n",
        "* Log one artifact which represents all the data - training, validation, and test data to one artifact \n",
        "* Log several artifacts - one for each of the training, validation, and test data loaders.  \n",
        "\n",
        "It is a matter of what best suites your needs and workflows and expectations.  \n",
        "\n",
        "### Anatomy of an artifact \n",
        "\n",
        "The `Artifact` class will correspond to an entry in the W&B Artifact registry.  The artifact has \n",
        "* a name\n",
        "* a type\n",
        "* metadata\n",
        "* description\n",
        "* files, directory of files, or references\n",
        "\n",
        "Example usage \n",
        "```\n",
        "run = wandb.init(project = \"my-project\")\n",
        "artifact = wandb.Artifact(name = \"my_artifact\", type = \"data\")\n",
        "artifact.add_file(\"/path/to/my/file.txt\")\n",
        "run.log_artifact(artifact)\n",
        "run.finish()\n",
        "```"
      ],
      "metadata": {
        "id": "u51cz8ZQ5cLq"
      }
    },
    {
      "cell_type": "code",
      "source": [
        "## create the data directory locally if it does not already exists\n",
        "from pathlib import Path\n",
        "data_path = Path(\"./data\")\n",
        "data_path.mkdir(exist_ok = True)\n",
        "\n",
        "## define out data getter \n",
        "def get_data(slice=5, train=True):\n",
        "  '''\n",
        "  helper function to get data\n",
        "  args: \n",
        "    slice: Int => passed to torch.utils.data.Subset indices argument\n",
        "    train: Boolean => True to download training data, False for test data\n",
        "  '''\n",
        "  full_dataset = torchvision.datasets.MNIST(root=\".\",\n",
        "                                            train=train, \n",
        "                                            transform=transforms.ToTensor(),\n",
        "                                            download=True)\n",
        "  #  equiv to slicing with [::slice] \n",
        "  sub_dataset = torch.utils.data.Subset(\n",
        "    full_dataset, indices=range(0, len(full_dataset), slice))\n",
        "\n",
        "  return sub_dataset"
      ],
      "metadata": {
        "id": "MKPAhR6jX7Pl"
      },
      "execution_count": 21,
      "outputs": []
    },
    {
      "cell_type": "code",
      "source": [
        "logging.basicConfig(\n",
        "                format=\"%(levelname)s - %(asctime)s - %(message)s\",\n",
        "        )\n",
        "logger = logging.getLogger(\"CNN-Logger\")\n",
        "logger.setLevel(\"INFO\")"
      ],
      "metadata": {
        "id": "-In7YBvBiDzm"
      },
      "execution_count": 22,
      "outputs": []
    },
    {
      "cell_type": "markdown",
      "source": [
        "## Our First W&B Experiment / Run\n",
        "\n",
        "We are going to \n",
        "* get our training and test data\n",
        "* split the training data into training and validation\n",
        "* create artifacts for all three dataset\n",
        "* log those artifacts to W&B.  "
      ],
      "metadata": {
        "id": "f7ihqIfx-K50"
      }
    },
    {
      "cell_type": "code",
      "source": [
        "#%%wandb -h 600 \n",
        "import pickle\n",
        "from dill.source import getsource\n",
        "from dill import detect\n",
        "from datetime import datetime \n",
        "\n",
        "with wandb.init(project = project_name, job_type = \"data-acquisition\") as run:\n",
        "\n",
        "  train, test = get_data(train=True), get_data(train=False)\n",
        "  train, validation = torch.utils.data.random_split(train, [10000, 2000])\n",
        "\n",
        "  torch.save(train, './data/training_data.pt')\n",
        "  torch.save(validation, './data/validation_data.pt')\n",
        "  torch.save(test, './data/test_data.pt')\n",
        "\n",
        "  train_artifact = wandb.Artifact(name = \"mnist-training-data\", type = \"dataset\", \n",
        "                                  description = \"training data\",\n",
        "                                  metadata = { \n",
        "                                      \"data-set\": \"MNIST training\",\n",
        "                                      \"getter\": getsource(detect.code(get_data))}\n",
        "                                  )\n",
        "  train_artifact.add_file(\"./data/training_data.pt\")\n",
        "\n",
        "  validation_artifact = wandb.Artifact(name = \"mnist-validation-data\", type = \"dataset\", \n",
        "                                       description = \"validation data\",\n",
        "                                       metadata = { \n",
        "                                      \"data-set\": \"MNIST validation\",\n",
        "                                      \"getter\": getsource(detect.code(get_data))})\n",
        "  validation_artifact.add_file(\"./data/validation_data.pt\")\n",
        "\n",
        "  test_artifact = wandb.Artifact(name = \"mnist-test-data\", type = \"dataset\", \n",
        "                                 description = \"test data\",\n",
        "                                 metadata = { \n",
        "                                      \"data-set\": \"MNIST test\",\n",
        "                                      \"getter\": getsource(detect.code(get_data))})\n",
        "  test_artifact.add_file(\"./data/test_data.pt\")  \n",
        "  \n",
        "  run.log_artifact(train_artifact)\n",
        "  run.log_artifact(validation_artifact)\n",
        "  run.log_artifact(test_artifact)"
      ],
      "metadata": {
        "colab": {
          "base_uri": "https://localhost:8080/",
          "height": 310,
          "referenced_widgets": [
            "51000826f16e431685dd38a648fa5133",
            "734bce62f7ce4a639b6cbc7298ea9bc6",
            "9fee3e4fa3934c96b11ba96395eb1f99",
            "d6e3183de1a04a5c85945d1ef9e82654",
            "5f813a6d218141e0a4dac2bb8b81182d",
            "a4fd289bd72849f89b2be2e4b9e0e0cd",
            "ea5b5195b77f4be18624c6bb5b639e3e",
            "235c504b7bfa40ff8cc8a76aae813990"
          ]
        },
        "id": "t2zrx2782Qxk",
        "outputId": "cf44aea4-0cd0-4567-f4e2-65f1db74ee9f"
      },
      "execution_count": 23,
      "outputs": [
        {
          "output_type": "display_data",
          "data": {
            "text/plain": [
              "<IPython.core.display.HTML object>"
            ],
            "text/html": [
              "Finishing last run (ID:26now6r1) before initializing another..."
            ]
          },
          "metadata": {}
        },
        {
          "output_type": "display_data",
          "data": {
            "text/plain": [
              "<IPython.core.display.HTML object>"
            ],
            "text/html": [
              "Waiting for W&B process to finish... <strong style=\"color:green\">(success).</strong>"
            ]
          },
          "metadata": {}
        },
        {
          "output_type": "display_data",
          "data": {
            "text/plain": [
              "VBox(children=(Label(value='0.303 MB of 0.303 MB uploaded (0.000 MB deduped)\\r'), FloatProgress(value=1.0, max…"
            ],
            "application/vnd.jupyter.widget-view+json": {
              "version_major": 2,
              "version_minor": 0,
              "model_id": "51000826f16e431685dd38a648fa5133"
            }
          },
          "metadata": {}
        },
        {
          "output_type": "display_data",
          "data": {
            "text/plain": [
              "<IPython.core.display.HTML object>"
            ],
            "text/html": [
              "Synced <strong style=\"color:#cdcd00\">electric-wind-1</strong>: <a href=\"https://wandb.ai/tim-w/my-optuna-project-v5/runs/26now6r1\" target=\"_blank\">https://wandb.ai/tim-w/my-optuna-project-v5/runs/26now6r1</a><br/>Synced 5 W&B file(s), 0 media file(s), 4 artifact file(s) and 1 other file(s)"
            ]
          },
          "metadata": {}
        },
        {
          "output_type": "display_data",
          "data": {
            "text/plain": [
              "<IPython.core.display.HTML object>"
            ],
            "text/html": [
              "Find logs at: <code>./wandb/run-20221024_155637-26now6r1/logs</code>"
            ]
          },
          "metadata": {}
        },
        {
          "output_type": "display_data",
          "data": {
            "text/plain": [
              "<IPython.core.display.HTML object>"
            ],
            "text/html": [
              "Successfully finished last run (ID:26now6r1). Initializing new run:<br/>"
            ]
          },
          "metadata": {}
        },
        {
          "output_type": "display_data",
          "data": {
            "text/plain": [
              "<IPython.core.display.HTML object>"
            ],
            "text/html": [
              "Tracking run with wandb version 0.13.4"
            ]
          },
          "metadata": {}
        },
        {
          "output_type": "display_data",
          "data": {
            "text/plain": [
              "<IPython.core.display.HTML object>"
            ],
            "text/html": [
              "Run data is saved locally in <code>/content/wandb/run-20221024_155812-76ryam3y</code>"
            ]
          },
          "metadata": {}
        },
        {
          "output_type": "display_data",
          "data": {
            "text/plain": [
              "<IPython.core.display.HTML object>"
            ],
            "text/html": [
              "Syncing run <strong><a href=\"https://wandb.ai/tim-w/demos/runs/76ryam3y\" target=\"_blank\">glowing-grass-52</a></strong> to <a href=\"https://wandb.ai/tim-w/demos\" target=\"_blank\">Weights & Biases</a> (<a href=\"https://wandb.me/run\" target=\"_blank\">docs</a>)<br/>"
            ]
          },
          "metadata": {}
        },
        {
          "output_type": "display_data",
          "data": {
            "text/plain": [
              "<IPython.core.display.HTML object>"
            ],
            "text/html": [
              "Waiting for W&B process to finish... <strong style=\"color:green\">(success).</strong>"
            ]
          },
          "metadata": {}
        },
        {
          "output_type": "display_data",
          "data": {
            "text/plain": [
              "<IPython.core.display.HTML object>"
            ],
            "text/html": [
              "Synced <strong style=\"color:#cdcd00\">glowing-grass-52</strong>: <a href=\"https://wandb.ai/tim-w/demos/runs/76ryam3y\" target=\"_blank\">https://wandb.ai/tim-w/demos/runs/76ryam3y</a><br/>Synced 4 W&B file(s), 0 media file(s), 2 artifact file(s) and 0 other file(s)"
            ]
          },
          "metadata": {}
        },
        {
          "output_type": "display_data",
          "data": {
            "text/plain": [
              "<IPython.core.display.HTML object>"
            ],
            "text/html": [
              "Find logs at: <code>./wandb/run-20221024_155812-76ryam3y/logs</code>"
            ]
          },
          "metadata": {}
        }
      ]
    },
    {
      "cell_type": "markdown",
      "source": [
        "## Artifact usage (Creating the DAG)\n",
        "\n",
        "Part of the value of W&B is the ability to capture lineage via Experiments and Artifacts.  Next up for our work flow is to specifiy a model and commence training.  \n",
        "\n",
        "It is key to remember that experiments create and consume artifacts and we have already completed one  experimemtns where we created dataset artifacts.  \n",
        "\n",
        "Next up, we will commence an experiment that will consume the artifacts from the previous run for the purposes of training model, then we will create a model artifact."
      ],
      "metadata": {
        "id": "cV9LzCFr6rXX"
      }
    },
    {
      "cell_type": "markdown",
      "source": [
        "## Specify the model\n",
        "\n"
      ],
      "metadata": {
        "id": "OlvqaBTK2H-A"
      }
    },
    {
      "cell_type": "code",
      "source": [
        "# Conventional and convolutional neural network\n",
        "class ConvNet(nn.Module):\n",
        "    def __init__(self, kernels, classes=10):\n",
        "        super(ConvNet, self).__init__()\n",
        "        \n",
        "        self.layer1 = nn.Sequential(\n",
        "            nn.Conv2d(1, kernels[0], kernel_size=5, stride=1, padding=2),\n",
        "            nn.ReLU(),\n",
        "            nn.MaxPool2d(kernel_size=2, stride=2))\n",
        "        self.layer2 = nn.Sequential(\n",
        "            nn.Conv2d(16, kernels[1], kernel_size=5, stride=1, padding=2),\n",
        "            nn.ReLU(),\n",
        "            nn.MaxPool2d(kernel_size=2, stride=2))\n",
        "        self.fc = nn.Linear(7 * 7 * kernels[-1], classes)\n",
        "        \n",
        "    def forward(self, x):\n",
        "        out = self.layer1(x)\n",
        "        out = self.layer2(out)\n",
        "        out = out.reshape(out.size(0), -1)\n",
        "        out = self.fc(out)\n",
        "        return out"
      ],
      "metadata": {
        "id": "9Nttzz7Cqp7v"
      },
      "execution_count": 24,
      "outputs": []
    },
    {
      "cell_type": "code",
      "source": [
        "def make_loader(dataset, batch_size):\n",
        "    loader = torch.utils.data.DataLoader(dataset=dataset,\n",
        "                                         batch_size=batch_size, \n",
        "                                         shuffle=True,\n",
        "                                         pin_memory=True, num_workers=2)\n",
        "    return loader"
      ],
      "metadata": {
        "id": "A5H4RhB8O9dT"
      },
      "execution_count": 25,
      "outputs": []
    },
    {
      "cell_type": "markdown",
      "source": [
        "## Training\n",
        "\n",
        "In our first model training experiment, we are going to sync our wandb experiment to tensorboard -> so no wandb specific logging will be instrumented.  \n"
      ],
      "metadata": {
        "id": "uaq54u0r_P6n"
      }
    },
    {
      "cell_type": "code",
      "source": [
        "# %%wandb -h 600\n",
        "# Run training and track with wandb, but no explicit logging.  \n",
        "# since we were alredy using tensorboard via WritterSumamry, we'll \n",
        "# sync w&b to tensorboard.\n",
        "config = dict(\n",
        "    epochs=5,\n",
        "    classes=10,\n",
        "    kernels=[16, 32],\n",
        "    batch_size=128,\n",
        "    learning_rate=0.01,\n",
        "    dataset=\"MNIST\",\n",
        "    architecture=\"CNN\"\n",
        "    )\n",
        "\n",
        "with wandb.init(project = project_name, \n",
        "                 job_type = \"training\", \n",
        "                 config = config,\n",
        "                 sync_tensorboard = True) as run:\n",
        "\n",
        "  config = wandb.config\n",
        "  ## or, ifyou have a nasty nested dictionary for your config\n",
        "  # config = EasyDict(wandb.config)\n",
        "\n",
        "  run.use_artifact(f\"{run.entity}/{run.project}/mnist-training-data:latest\")\n",
        "  run.use_artifact(f\"{run.entity}/{run.project}/mnist-validation-data:latest\")\n",
        "  ## download and instantiation of the artifacts might be necessary.  \n",
        "\n",
        "  train_loader = make_loader(train, batch_size=config.batch_size)\n",
        "  validation_loader = make_loader(validation, batch_size=config.batch_size)\n",
        "\n",
        "  model = ConvNet(config.kernels, config.classes).to(device)\n",
        "  criterion = nn.CrossEntropyLoss()\n",
        "  optimizer = torch.optim.Adam(model.parameters(), lr=config.learning_rate)\n",
        "\n",
        "  writer = SummaryWriter(log_dir = \"./wandb/latest-run\")\n",
        "  total_batches = len(train_loader) * config.epochs\n",
        "  example_ct = 0  # number of examples seen\n",
        "  batch_ct = 0\n",
        "  for epoch in tqdm(range(config.epochs)):\n",
        "    for step, (images, labels) in enumerate(train_loader):\n",
        "      images, labels = images.to(device), labels.to(device)\n",
        "      # Forward pass ➡\n",
        "      outputs = model(images)\n",
        "      loss = criterion(outputs, labels)\n",
        "      # Backward pass ⬅\n",
        "      optimizer.zero_grad()\n",
        "      loss.backward()\n",
        "      # Step with optimizer\n",
        "      optimizer.step()\n",
        "      example_ct +=  len(images)\n",
        "      batch_ct += 1\n",
        "      # Report metrics every 25th batch\n",
        "      if ((batch_ct + 1) % 25) == 0:\n",
        "        writer.add_scalar(\"Train Metrics/loss\", loss, batch_ct)\n",
        "        writer.add_scalar(\"epoch\", loss, batch_ct)\n",
        "        logger.info(f\"Epoch: {epoch}, Loss: {loss.detach().numpy()}\")\n",
        "    with torch.no_grad():\n",
        "      correct, total = 0, 0\n",
        "      for images, labels in validation_loader:\n",
        "          images, labels = images.to(device), labels.to(device)\n",
        "          outputs = model(images)\n",
        "          _, predicted = torch.max(outputs.data, 1)\n",
        "          total += labels.size(0)\n",
        "          correct += (predicted == labels).sum().item()\n",
        "          loss = criterion(outputs, labels)\n",
        "          writer.add_scalar(\"Validation Metrics/loss\", loss, batch_ct)\n",
        "          writer.add_scalar(\"epoch\", epoch, batch_ct)\n",
        "      logger.info(f\"Epoch {epoch}, Accuracy of the model on the {total} test images: {100 * correct / total}%\")\n",
        "      writer.add_scalar(\"Validation Metrics/accuracy\", correct/total, batch_ct)\n",
        "      writer.add_scalar(\"epoch\", epoch, batch_ct)\n",
        "\n",
        "  torch.save(model.state_dict(), \"model.pt\")\n",
        "  model_artifact = wandb.Artifact(name = \"mnist-model\", type = \"model\")\n",
        "  model_artifact.add_file(\"model.pt\")\n",
        "  run.log_artifact(model_artifact)\n"
      ],
      "metadata": {
        "id": "LXGpSYpfK4je",
        "colab": {
          "base_uri": "https://localhost:8080/",
          "height": 850,
          "referenced_widgets": [
            "3e54ef8441fc479aa46340856d507c68",
            "3d4975471eb24913bef9d779eaa6c75b",
            "ec20c755edd5429b968dd372962542a6",
            "0500eddabad64d239fdb60704b9ddd88",
            "5218d8c624f6432ab804a59e66f480b2",
            "0334a1ae434f420c80e0f75c7b994c31",
            "0baf29b4010148bf84dee9dd3f819219",
            "5350c0040b374708bb6990ea78e1d05c",
            "52710056b68f48f294e8b8562f9652b6",
            "73d208160d824c6195d650e2efb243e7",
            "87e6ec3e18114eec8a791bd057a28a64",
            "1bd2edad2fb345ceb8e768ebff29abbc",
            "c58550288db44bac9ca4acb753827d16",
            "eb6d362730634c48a68ae85946567a6b",
            "a41e991891364537ac055d85d06fa8d8",
            "b999fb389749428296635b6b22f04190",
            "f020519d7d41474cb18bcb7ac673ba65",
            "303e8196157d454088112a6281e5564a",
            "5a0fe2d766bd4cd6bd3aae868ce8b1d9"
          ]
        },
        "outputId": "c12e3040-cac5-42a8-a89d-1e1ae7d10653"
      },
      "execution_count": 26,
      "outputs": [
        {
          "output_type": "display_data",
          "data": {
            "text/plain": [
              "<IPython.core.display.HTML object>"
            ],
            "text/html": [
              "Tracking run with wandb version 0.13.4"
            ]
          },
          "metadata": {}
        },
        {
          "output_type": "display_data",
          "data": {
            "text/plain": [
              "<IPython.core.display.HTML object>"
            ],
            "text/html": [
              "Run data is saved locally in <code>/content/wandb/run-20221024_155826-7v63xbuf</code>"
            ]
          },
          "metadata": {}
        },
        {
          "output_type": "display_data",
          "data": {
            "text/plain": [
              "<IPython.core.display.HTML object>"
            ],
            "text/html": [
              "Syncing run <strong><a href=\"https://wandb.ai/tim-w/demos/runs/7v63xbuf\" target=\"_blank\">splendid-feather-53</a></strong> to <a href=\"https://wandb.ai/tim-w/demos\" target=\"_blank\">Weights & Biases</a> (<a href=\"https://wandb.me/run\" target=\"_blank\">docs</a>)<br/>"
            ]
          },
          "metadata": {}
        },
        {
          "output_type": "display_data",
          "data": {
            "text/plain": [
              "  0%|          | 0/5 [00:00<?, ?it/s]"
            ],
            "application/vnd.jupyter.widget-view+json": {
              "version_major": 2,
              "version_minor": 0,
              "model_id": "3e54ef8441fc479aa46340856d507c68"
            }
          },
          "metadata": {}
        },
        {
          "output_type": "stream",
          "name": "stderr",
          "text": [
            "INFO:CNN-Logger:Epoch: 0, Loss: 0.6152558922767639\n",
            "INFO:CNN-Logger:Epoch: 0, Loss: 0.37864214181900024\n",
            "INFO:CNN-Logger:Epoch: 0, Loss: 0.33058860898017883\n",
            "INFO:CNN-Logger:Epoch 0, Accuracy of the model on the 2000 test images: 93.25%\n",
            "INFO:CNN-Logger:Epoch: 1, Loss: 0.18225780129432678\n",
            "INFO:CNN-Logger:Epoch: 1, Loss: 0.14611569046974182\n",
            "INFO:CNN-Logger:Epoch: 1, Loss: 0.04811842739582062\n",
            "INFO:CNN-Logger:Epoch 1, Accuracy of the model on the 2000 test images: 94.85%\n",
            "INFO:CNN-Logger:Epoch: 2, Loss: 0.15746846795082092\n",
            "INFO:CNN-Logger:Epoch: 2, Loss: 0.030076010152697563\n",
            "INFO:CNN-Logger:Epoch: 2, Loss: 0.12193747609853745\n",
            "INFO:CNN-Logger:Epoch 2, Accuracy of the model on the 2000 test images: 95.75%\n",
            "INFO:CNN-Logger:Epoch: 3, Loss: 0.06308609992265701\n",
            "INFO:CNN-Logger:Epoch: 3, Loss: 0.10632984340190887\n",
            "INFO:CNN-Logger:Epoch: 3, Loss: 0.10202132165431976\n",
            "INFO:CNN-Logger:Epoch 3, Accuracy of the model on the 2000 test images: 96.0%\n",
            "INFO:CNN-Logger:Epoch: 4, Loss: 0.049882564693689346\n",
            "INFO:CNN-Logger:Epoch: 4, Loss: 0.14626289904117584\n",
            "INFO:CNN-Logger:Epoch: 4, Loss: 0.07020428031682968\n",
            "INFO:CNN-Logger:Epoch 4, Accuracy of the model on the 2000 test images: 96.75%\n"
          ]
        },
        {
          "output_type": "display_data",
          "data": {
            "text/plain": [
              "<IPython.core.display.HTML object>"
            ],
            "text/html": [
              "Waiting for W&B process to finish... <strong style=\"color:green\">(success).</strong>"
            ]
          },
          "metadata": {}
        },
        {
          "output_type": "display_data",
          "data": {
            "text/plain": [
              "VBox(children=(Label(value='0.210 MB of 0.210 MB uploaded (0.000 MB deduped)\\r'), FloatProgress(value=1.0, max…"
            ],
            "application/vnd.jupyter.widget-view+json": {
              "version_major": 2,
              "version_minor": 0,
              "model_id": "1bd2edad2fb345ceb8e768ebff29abbc"
            }
          },
          "metadata": {}
        },
        {
          "output_type": "display_data",
          "data": {
            "text/plain": [
              "<IPython.core.display.HTML object>"
            ],
            "text/html": [
              "<style>\n",
              "    table.wandb td:nth-child(1) { padding: 0 10px; text-align: left ; width: auto;} td:nth-child(2) {text-align: left ; width: 100%}\n",
              "    .wandb-row { display: flex; flex-direction: row; flex-wrap: wrap; justify-content: flex-start; width: 100% }\n",
              "    .wandb-col { display: flex; flex-direction: column; flex-basis: 100%; flex: 1; padding: 10px; }\n",
              "    </style>\n",
              "<div class=\"wandb-row\"><div class=\"wandb-col\"><h3>Run history:</h3><br/><table class=\"wandb\"><tr><td>Train Metrics/loss</td><td>█▅▅▃▂▁▃▁▂▁▂▂</td></tr><tr><td>Validation Metrics/accuracy</td><td>▁▅█</td></tr><tr><td>Validation Metrics/loss</td><td>█▃▅▁</td></tr><tr><td>epoch</td><td>▂▂▂▁▁▁▁▃▁▁▁▆▁▁▁█</td></tr><tr><td>global_step</td><td>▁▂▂▂▃▃▄▄▅▅▆▆▆▇██</td></tr></table><br/></div><div class=\"wandb-col\"><h3>Run summary:</h3><br/><table class=\"wandb\"><tr><td>Train Metrics/loss</td><td>0.10202</td></tr><tr><td>Validation Metrics/accuracy</td><td>0.9575</td></tr><tr><td>Validation Metrics/loss</td><td>0.08218</td></tr><tr><td>epoch</td><td>3.0</td></tr><tr><td>global_step</td><td>316</td></tr></table><br/></div></div>"
            ]
          },
          "metadata": {}
        },
        {
          "output_type": "display_data",
          "data": {
            "text/plain": [
              "<IPython.core.display.HTML object>"
            ],
            "text/html": [
              "Synced <strong style=\"color:#cdcd00\">splendid-feather-53</strong>: <a href=\"https://wandb.ai/tim-w/demos/runs/7v63xbuf\" target=\"_blank\">https://wandb.ai/tim-w/demos/runs/7v63xbuf</a><br/>Synced 5 W&B file(s), 0 media file(s), 3 artifact file(s) and 2 other file(s)"
            ]
          },
          "metadata": {}
        },
        {
          "output_type": "display_data",
          "data": {
            "text/plain": [
              "<IPython.core.display.HTML object>"
            ],
            "text/html": [
              "Find logs at: <code>./wandb/run-20221024_155826-7v63xbuf/logs</code>"
            ]
          },
          "metadata": {}
        }
      ]
    },
    {
      "cell_type": "markdown",
      "source": [
        "## Test Data Evaluation"
      ],
      "metadata": {
        "id": "049TAZ3eN3xV"
      }
    },
    {
      "cell_type": "code",
      "source": [
        "import pandas as pd\n",
        "with wandb.init(project = project_name, entity = entity, job_type = \"evaluation\") as run:\n",
        "  model_artifact = run.use_artifact(model_artifact.wait())\n",
        "  ## instantiate the model if necessary\n",
        "  # model_dir = model_artifact.download()\n",
        "  # model = ConvNet(config.kernels, config.classes)\n",
        "  # model.load_state_dict(torch.load(f\"{model_dir}/model.pt\"))\n",
        "  run.use_artifact(f\"{run.entity}/{run.project}/mnist-test-data:latest\")\n",
        "  ## same goes for the dataset\n",
        "  test_loader = make_loader(test, batch_size=config.batch_size)\n",
        "\n",
        "  model.eval()\n",
        "  # Run the model on some test examples\n",
        "\n",
        "  with torch.no_grad():\n",
        "      correct, total = 0, 0\n",
        "      total_loss = 0\n",
        "      all_data = []\n",
        "      for images, labels in test_loader:\n",
        "          images, labels = images.to(device), labels.to(device)\n",
        "          outputs = model(images)\n",
        "          _, predicted = torch.max(outputs.data, 1)\n",
        "          total += labels.size(0)\n",
        "          correct += (predicted == labels).sum().item()\n",
        "          loss = criterion(outputs, labels)*labels.size(0)\n",
        "          total_loss += loss\n",
        "          wandb_images = []\n",
        "          for image in images.numpy():\n",
        "            temp = wandb.Image(image)\n",
        "            wandb_images.append(temp) \n",
        "          scores = pd.DataFrame( outputs.numpy().tolist(), columns = [f\"p{i}\" for i in range(outputs.shape[1])]).to_dict(orient = \"series\")\n",
        "          data = {\"images\":wandb_images, \"predicted\": predicted.numpy().tolist(), \"labels\": labels.numpy().tolist()}\n",
        "          data = {**data, **scores}\n",
        "          all_data.append(pd.DataFrame(data))\n",
        "      import pandas as pd \n",
        "      df = pd.concat(all_data)\n",
        "      wandb.log({\"Predictions vs Actuals\": wandb.Table(dataframe = df)})\n",
        "      run.log({\"Test Metrics/loss\": total_loss / total, \"Test Metrics/accuracy\": correct / total})\n",
        "      logger.info(f\"Accuracy of the model on the {total} \" +\n",
        "            f\"test images: {100 * correct / total}%\")\n",
        "          "
      ],
      "metadata": {
        "id": "ob1LPz3VIu5B",
        "colab": {
          "base_uri": "https://localhost:8080/",
          "height": 312
        },
        "outputId": "82667c43-f42e-4dc2-9e0f-af4ab4e8b418"
      },
      "execution_count": 27,
      "outputs": [
        {
          "output_type": "display_data",
          "data": {
            "text/plain": [
              "<IPython.core.display.HTML object>"
            ],
            "text/html": [
              "Tracking run with wandb version 0.13.4"
            ]
          },
          "metadata": {}
        },
        {
          "output_type": "display_data",
          "data": {
            "text/plain": [
              "<IPython.core.display.HTML object>"
            ],
            "text/html": [
              "Run data is saved locally in <code>/content/wandb/run-20221024_155919-m7jlt1p9</code>"
            ]
          },
          "metadata": {}
        },
        {
          "output_type": "display_data",
          "data": {
            "text/plain": [
              "<IPython.core.display.HTML object>"
            ],
            "text/html": [
              "Syncing run <strong><a href=\"https://wandb.ai/tim-w/demos/runs/m7jlt1p9\" target=\"_blank\">easy-yogurt-54</a></strong> to <a href=\"https://wandb.ai/tim-w/demos\" target=\"_blank\">Weights & Biases</a> (<a href=\"https://wandb.me/run\" target=\"_blank\">docs</a>)<br/>"
            ]
          },
          "metadata": {}
        },
        {
          "output_type": "stream",
          "name": "stderr",
          "text": [
            "INFO:CNN-Logger:Accuracy of the model on the 2000 test images: 96.8%\n"
          ]
        },
        {
          "output_type": "display_data",
          "data": {
            "text/plain": [
              "<IPython.core.display.HTML object>"
            ],
            "text/html": [
              "Waiting for W&B process to finish... <strong style=\"color:green\">(success).</strong>"
            ]
          },
          "metadata": {}
        },
        {
          "output_type": "display_data",
          "data": {
            "text/plain": [
              "<IPython.core.display.HTML object>"
            ],
            "text/html": [
              "<style>\n",
              "    table.wandb td:nth-child(1) { padding: 0 10px; text-align: left ; width: auto;} td:nth-child(2) {text-align: left ; width: 100%}\n",
              "    .wandb-row { display: flex; flex-direction: row; flex-wrap: wrap; justify-content: flex-start; width: 100% }\n",
              "    .wandb-col { display: flex; flex-direction: column; flex-basis: 100%; flex: 1; padding: 10px; }\n",
              "    </style>\n",
              "<div class=\"wandb-row\"><div class=\"wandb-col\"><h3>Run history:</h3><br/><table class=\"wandb\"><tr><td>Test Metrics/accuracy</td><td>▁</td></tr><tr><td>Test Metrics/loss</td><td>▁</td></tr></table><br/></div><div class=\"wandb-col\"><h3>Run summary:</h3><br/><table class=\"wandb\"><tr><td>Test Metrics/accuracy</td><td>0.968</td></tr><tr><td>Test Metrics/loss</td><td>0.10459</td></tr></table><br/></div></div>"
            ]
          },
          "metadata": {}
        },
        {
          "output_type": "display_data",
          "data": {
            "text/plain": [
              "<IPython.core.display.HTML object>"
            ],
            "text/html": [
              "Synced <strong style=\"color:#cdcd00\">easy-yogurt-54</strong>: <a href=\"https://wandb.ai/tim-w/demos/runs/m7jlt1p9\" target=\"_blank\">https://wandb.ai/tim-w/demos/runs/m7jlt1p9</a><br/>Synced 5 W&B file(s), 1 media file(s), 2003 artifact file(s) and 1 other file(s)"
            ]
          },
          "metadata": {}
        },
        {
          "output_type": "display_data",
          "data": {
            "text/plain": [
              "<IPython.core.display.HTML object>"
            ],
            "text/html": [
              "Find logs at: <code>./wandb/run-20221024_155919-m7jlt1p9/logs</code>"
            ]
          },
          "metadata": {}
        }
      ]
    },
    {
      "cell_type": "markdown",
      "source": [
        "## HPO with Optuna"
      ],
      "metadata": {
        "id": "UAZRxQMSOE8Y"
      }
    },
    {
      "cell_type": "code",
      "source": [
        "\n",
        "# @wandbc.track_in_wandb()\n",
        "# def objective(trial):\n",
        "#     learning_rate = trial.suggest_float(\"learning_rate\", 0.001, 0.1)\n",
        "#     batch_size = trial.suggest_categorical(name = \"batch_size\", choices = [128, 256])\n",
        "#     config_standard = dict(\n",
        "#       epochs=5,\n",
        "#       classes=10,\n",
        "#       kernels=[16, 32],\n",
        "#       dataset=\"MNIST\",\n",
        "#       architecture=\"CNN\",\n",
        "#       learning_rate = learning_rate, \n",
        "#       batch_size = batch_size\n",
        "#     )\n",
        "#     wandb.config.update(config_standard)\n",
        "#     x = trial.suggest_float(\"x\", -10, 10)\n",
        "#     return (x - 2) ** 2\n",
        "\n",
        "\n"
      ],
      "metadata": {
        "id": "iTh8ZY58kTXF",
        "colab": {
          "base_uri": "https://localhost:8080/"
        },
        "outputId": "c3b54a63-25ac-4f06-c77a-b2c49cea2ffd"
      },
      "execution_count": 28,
      "outputs": [
        {
          "output_type": "stream",
          "name": "stderr",
          "text": [
            "/usr/local/lib/python3.7/dist-packages/ipykernel_launcher.py:1: ExperimentalWarning: track_in_wandb is experimental (supported from v3.0.0). The interface can change in the future.\n",
            "  \"\"\"Entry point for launching an IPython kernel.\n"
          ]
        }
      ]
    },
    {
      "cell_type": "markdown",
      "source": [
        "## Training Function"
      ],
      "metadata": {
        "id": "KJWq_awCa96H"
      }
    },
    {
      "cell_type": "code",
      "source": [
        "import optuna\n",
        "from optuna.integration.wandb import WeightsAndBiasesCallback"
      ],
      "metadata": {
        "id": "zVsk9dt8n7y4"
      },
      "execution_count": 29,
      "outputs": []
    },
    {
      "cell_type": "code",
      "source": [
        "wandb_kwargs = {\"project\": \"my-optuna-project-v5\"}\n",
        "wandbc = WeightsAndBiasesCallback(wandb_kwargs=wandb_kwargs, as_multirun=True)"
      ],
      "metadata": {
        "colab": {
          "base_uri": "https://localhost:8080/"
        },
        "id": "Q12zq8NKtaDr",
        "outputId": "074dcbff-96a4-4460-efe7-8f128906b313"
      },
      "execution_count": 30,
      "outputs": [
        {
          "output_type": "stream",
          "name": "stderr",
          "text": [
            "/usr/local/lib/python3.7/dist-packages/ipykernel_launcher.py:2: ExperimentalWarning: WeightsAndBiasesCallback is experimental (supported from v2.9.0). The interface can change in the future.\n",
            "  \n"
          ]
        }
      ]
    },
    {
      "cell_type": "code",
      "source": [
        "@wandbc.track_in_wandb()\n",
        "def train_func(trial): \n",
        "\n",
        "    learning_rate = trial.suggest_float(\"learning_rate\", 0.001, 0.1)\n",
        "    batch_size = trial.suggest_categorical(name = \"batch_size\", choices = [128, 256])\n",
        "    config_standard = dict(\n",
        "      epochs=5,\n",
        "      classes=10,\n",
        "      kernels=[16, 32],\n",
        "      dataset=\"MNIST\",\n",
        "      architecture=\"CNN\",\n",
        "    )\n",
        "    wandb.config.update(config_standard)\n",
        "  \n",
        "    wandb.use_artifact(f\"{entity}/{project_name}/mnist-training-data:latest\")\n",
        "    wandb.use_artifact(f\"{entity}/{project_name}/mnist-validation-data:latest\")\n",
        "\n",
        "    train_loader = make_loader(train, batch_size=config.batch_size)\n",
        "    validation_loader = make_loader(validation, batch_size=config.batch_size)\n",
        "\n",
        "    model = ConvNet(config.kernels, config.classes).to(device)\n",
        "    criterion = nn.CrossEntropyLoss()\n",
        "    optimizer = torch.optim.Adam(model.parameters(), lr=config.learning_rate)\n",
        "\n",
        "    total_batches = len(train_loader) * config.epochs\n",
        "    example_ct = 0  # number of examples seen\n",
        "    batch_ct = 0\n",
        "    for epoch in tqdm(range(config.epochs)):\n",
        "      for _, (images, labels) in enumerate(train_loader):\n",
        "        images, labels = images.to(device), labels.to(device)\n",
        "        # Forward pass ➡\n",
        "        outputs = model(images)\n",
        "        loss = criterion(outputs, labels)\n",
        "        # Backward pass ⬅\n",
        "        optimizer.zero_grad()\n",
        "        loss.backward()\n",
        "        # Step with optimizer\n",
        "        optimizer.step()\n",
        "        example_ct +=  len(images)\n",
        "        batch_ct += 1\n",
        "        # Report metrics every 25th batch\n",
        "        if ((batch_ct + 1) % 25) == 0:\n",
        "          logger.info(f\"Epoch: {epoch}, Loss: {loss.detach().numpy()}\")\n",
        "          wandb.log({ \"Train Metrics/loss\": loss, \"epoch\": epoch})\n",
        "      with torch.no_grad():\n",
        "        correct, total = 0, 0\n",
        "        for images, labels in validation_loader:\n",
        "            images, labels = images.to(device), labels.to(device)\n",
        "            outputs = model(images)\n",
        "            _, predicted = torch.max(outputs.data, 1)\n",
        "            total += labels.size(0)\n",
        "            correct += (predicted == labels).sum().item()\n",
        "            loss = criterion(outputs, labels)\n",
        "            wandb.log({\"Validation Metrics/loss\": loss, \"epoch\": epoch})\n",
        "        logger.info(f\"Epoch {epoch}, Accuracy of the model on the {total} validation images: {100 * correct / total}%\")\n",
        "        wandb.log({\"Validation Metrics/accuracy\": correct / total})\n",
        "\n",
        "    torch.save(model.state_dict(), f\"{wandb.run.id}-model.pt\")\n",
        "    model_artifact = wandb.Artifact(name = f\"{wandb.run.id}-mnist-model\", type = \"model\")\n",
        "    model_artifact.add_file(f\"{wandb.run.id}-model.pt\")\n",
        "    wandb.log_artifact(model_artifact)\n",
        "    return loss\n"
      ],
      "metadata": {
        "id": "sseHItLORboP",
        "colab": {
          "base_uri": "https://localhost:8080/"
        },
        "outputId": "a02685aa-83e9-482f-c9d1-6645cf061eea"
      },
      "execution_count": 31,
      "outputs": [
        {
          "output_type": "stream",
          "name": "stderr",
          "text": [
            "/usr/local/lib/python3.7/dist-packages/ipykernel_launcher.py:1: ExperimentalWarning: track_in_wandb is experimental (supported from v3.0.0). The interface can change in the future.\n",
            "  \"\"\"Entry point for launching an IPython kernel.\n"
          ]
        }
      ]
    },
    {
      "cell_type": "code",
      "source": [
        "study = optuna.create_study()\n",
        "study.optimize(train_func, n_trials=10, callbacks=[wandbc])"
      ],
      "metadata": {
        "id": "eekkP7Wsn1Do",
        "colab": {
          "base_uri": "https://localhost:8080/",
          "height": 1000,
          "referenced_widgets": [
            "5392f785da4d488aa08ffbca0adb559b",
            "0173be06b6614b6a93bbdcc809293aa1",
            "bce153263c8c4961aabb4160edb8f139",
            "b147275d5b57487ea635317f2e4415f6",
            "e98dfd890c1945619b09538f6005ee59",
            "a48470fbb81d4bb0b63ff6e93f0b44bc",
            "fb4a9bb840b44043ab1f4216b798d52e",
            "322bb48372644646baf2d5e3fffb2b1c",
            "4287e691211e4a11a756fb8bb1b0831f",
            "b87e35576d0d47b7a01ac129e2fd97eb",
            "7ddfb24fe5774553a59e869d969362df",
            "1a94af9d2ad34729940fdd35b8e9e040",
            "5d410d983563478ab26344fb6113affd",
            "ec5983a862d34d82b85d42a8a9b08f0d",
            "7bda3e1452984e1597249c2fa6fecdd8",
            "b8441329c2da4a70886821635465a115",
            "19306436c250406995be123d21b7a18e",
            "5dd850f16ff14d959f2ef2fcfa8937fb",
            "92bf071dd29445c6b818addbdad7e504",
            "6cde572a9c9748c6ac36545ae729f529",
            "664c9f800ae44743991832948a5df3e9",
            "ddbab9bf96f5454093b0f04fc5f6c107",
            "74f104e0e7724432bb22bd04a68ab434",
            "a57bde5d1c804a6083c6e9a95fb5e65a",
            "ca9bb6e8179d4edb919076dfb50ea5c1",
            "f50c9aab966941498c8a81b55ea02e16",
            "02e4048ebb504c2c9ef9ad0d7708070e",
            "daf4440a9473403fb1c45f01cea04cd0",
            "7288baa90c9248ac95777dc8c9f095b0",
            "8d012446e8914fcf9d305f90febb8a44",
            "a5db2af1857c424fa35ddfd2b7e784c3",
            "b7a699c5fd3044188fc3efe9a32c60a6",
            "12888e9018fb450dbf52a8242e59ae39",
            "3e706a953ec24ff09018fff77aaf68cf",
            "d3ae6ef9761048a08637850f1e542f85",
            "e1360131f7f14811b8e7ada7f908db27",
            "6bbe514d86d3494c80fca627cbbaa015",
            "6bf77783e85d4cec849338050de39067",
            "b35cff50db5f4185ad9f1700f55c67db",
            "d385ef8ebbe2407189aba76c4a9a069c",
            "93c3f179a66747cb8049f765dfe301ec",
            "ce6a5418e9c14d77bec8838fb08d11d8",
            "b0dc8267f4bf474a86748de28310f301",
            "32c26b38ead04cf28553c418ae23e8d4",
            "e33de7087b9e4756a79f5158e99fee8e",
            "0ef0b259ff1e41bf966a25b6fa204221",
            "eaf5c48e02684acdb0463c6116f9a145",
            "6670c24c6a7a449ba1f311a1362db1c6",
            "1273c757bba24f2cb7e51fa1d52281d7",
            "4b99a993b3c44ace8b4188a807cecc85",
            "16a35607026a45ec82da6312853c8e1a",
            "f15cdbfac8ef40ecab6ddfb6af36a64d",
            "b914b25967964a23959d02d086997882",
            "aa1d6c46318b492aa21e74ed253bc94a",
            "eff5520194454488a9030dcd2c8e0c36",
            "680db4f063ff45ed8ef5370967eea4dd",
            "3b193b304f59431b8b747b14a521d67a",
            "5166867d9e90412eb9deac3eb0ba9750",
            "3386023d44744f679750922cad31628d",
            "ba85def4629f4d2784eb43fa8a415525",
            "fb313e7f6a20491a95df3ca2d5fa3e5f",
            "bcda1a7f8c4e44dcbfe70862a616357c",
            "a4b0e2c81bcf478ba49608600a6fea9b",
            "0f5ab397eadd4fd4bdca415c8f040549",
            "104c5216fe2345bb901e8a53235db6dc",
            "6316b6e232db460494a86958c7dfd2aa",
            "8548f9c8a1ec48b7a6ed764fa46768e7",
            "2ec64d8c06404f0fb26b873f1aa10579",
            "5027f7bace3d4b328dd7a28d75773f98",
            "15821d5887344a2cb439b1010a5ee97f",
            "c35ee5f714a44d5ba375ebd7feeec162",
            "b7eb81a69f6042af83640944c3df98b7",
            "6f69be3b700c481a897f8bd707ad7d67",
            "372142e1ff9e4827b9c71691e3ff874a",
            "1baa6092df5d4753a0d3ae69b0813a61",
            "3a433a8c9ba1413e9af3dd3f099d117e",
            "59115d4e2a6f4fbe983b95457dc6859a",
            "cd483ac36644447d833166d469ed7c42",
            "ff73624dfa8e4f338a865f1424a94004",
            "d49d5b955e4f4f5cb0d6b32c24770d5e",
            "96a11cdb251248ed9e0449ae1733f64d",
            "8874a645fe184d7bbbc8e3dc46d4aa4d",
            "1f7a290a792746f6863a07435a77c834",
            "16284cffb3a24f9b938ab71118025d90",
            "ba07b0c3fa334bddac401f5b207b4e07",
            "b89fe24f91c24c6d85606b2bd3473f51",
            "88f8a5cf89054d44a1f8d5a757062460",
            "adaf3d882c584793902972ef1f48f5ab",
            "d3959838e163484581867d79b54df50a",
            "bed56c4100654bfc9eff7a6c8d57d057",
            "d9d8004416b44be5a6e15fdbb4381c8e",
            "23f4bb3004454f6788feabb9b599621d",
            "b39d40b2a1a54749a1b0bfaaf4197147",
            "40183627557e44aca114980de4dbadf3",
            "1d2afe92c7e24bde946b7278cd740a86",
            "fee65bbe939e48b5b9e1ab1cd2a8e070",
            "4d904b194b364a2882b02d2c06658e3e",
            "974aa75ecbc24cb3b8ef66679d6497b7",
            "d0982d7722314c8685ec41e1746a55d9",
            "1294b0114d5e4636ba0413c686dec70c",
            "5057cf7168364d65acbdf0b016bd1458",
            "7e4977169d114f3199bfd2110760de4a",
            "d6cbe5d02ff944e4b2f1ab6abf367b38",
            "70fb3077c5ae49f3800c45d3cca6e75f",
            "0a435fec1bdd4cb79214064f38950b6c",
            "2ec753b13191439685dfde39bf13b5ca",
            "50858e43d9a44ad9871413363231ec71",
            "554248ba624545ab807bdcaba230446f",
            "980544d548cf431a87fefc665f52d4b1",
            "ab6efd60994f454598f41f9308a6a7e3",
            "2d6f0ec3ffe9472087847c7747e93bea",
            "5af555a9edeb4ec7b6260920462a691a",
            "e6c9608a8fd846df87fbae6232b046c7",
            "f4446aaf96bd47268df75e4e7184a4b1",
            "27f2097f07ab4ce6997747451d267926",
            "9caaf85f93fa42d09cfab936253a7ff9",
            "89c748d423a648d78325e2680f01c8d0",
            "0a811915749b4de797e34c1be7e8ec55",
            "0c1d2311926f409ea35504ef91ed561f",
            "e7f36acd987c46d88f120e0827a087be",
            "d6f3d4c65a3a4381b641bf5abed7212b",
            "6c891e9ffc784915960cc3cae9eeaf93",
            "d0fe3d5134074bdfa301be4c84119aec",
            "28a095f45a0742c0a76b0be317c178e6",
            "c528f1153b5a4c20a26b368b6cadb332",
            "67db358ea1f34ccebf98ce5e053f40bf",
            "145746c97f814f719f93605c5d7982d9",
            "ff9f2b18962a4498a1e872b52d359c48",
            "3820c5e280f6476b90f5c47f9dec89dc",
            "3c79f7264528427bb41cbe56ad200a30",
            "fddca05c9c224dcf9f75feea1a70a636",
            "a8ceb4e5578a4f0eb9a1ff6f8c2b08b9",
            "b909ded5df5642dba7f22b9279cb8f1b",
            "53a0c41dc2e1415eab5f57fa982a6c09",
            "a0f173f018974d5c9d137e836f6dad8b",
            "c20bfc804e45482f85465c0315046d6c",
            "a93145aefe1c4d66927a44c55e5884fd",
            "05f2210632524a248cf1a032a6313fa2",
            "fa84dafcc1b643b7a50ae75030678b47",
            "b5ce76e587114dd69deb1454f3988104",
            "04aded02b7f043d288599b9d86a0f041",
            "f8eb7966fc73461a9b6696a41a02f46a"
          ]
        },
        "outputId": "565fb4d2-a06a-4b87-83dd-43fa0b0ac9ac"
      },
      "execution_count": 34,
      "outputs": [
        {
          "output_type": "stream",
          "name": "stderr",
          "text": [
            "\u001b[32m[I 2022-10-24 16:04:39,584]\u001b[0m A new study created in memory with name: no-name-fb829780-3530-4509-bc48-2372be956dbf\u001b[0m\n"
          ]
        },
        {
          "output_type": "display_data",
          "data": {
            "text/plain": [
              "<IPython.core.display.HTML object>"
            ],
            "text/html": [
              "Tracking run with wandb version 0.13.4"
            ]
          },
          "metadata": {}
        },
        {
          "output_type": "display_data",
          "data": {
            "text/plain": [
              "<IPython.core.display.HTML object>"
            ],
            "text/html": [
              "Run data is saved locally in <code>/content/wandb/run-20221024_160439-2ge4il76</code>"
            ]
          },
          "metadata": {}
        },
        {
          "output_type": "display_data",
          "data": {
            "text/plain": [
              "<IPython.core.display.HTML object>"
            ],
            "text/html": [
              "Syncing run <strong><a href=\"https://wandb.ai/tim-w/my-optuna-project-v5/runs/2ge4il76\" target=\"_blank\">sage-yogurt-5</a></strong> to <a href=\"https://wandb.ai/tim-w/my-optuna-project-v5\" target=\"_blank\">Weights & Biases</a> (<a href=\"https://wandb.me/run\" target=\"_blank\">docs</a>)<br/>"
            ]
          },
          "metadata": {}
        },
        {
          "output_type": "display_data",
          "data": {
            "text/plain": [
              "  0%|          | 0/5 [00:00<?, ?it/s]"
            ],
            "application/vnd.jupyter.widget-view+json": {
              "version_major": 2,
              "version_minor": 0,
              "model_id": "5392f785da4d488aa08ffbca0adb559b"
            }
          },
          "metadata": {}
        },
        {
          "output_type": "stream",
          "name": "stderr",
          "text": [
            "INFO:CNN-Logger:Epoch: 0, Loss: 0.2202364057302475\n",
            "INFO:CNN-Logger:Epoch: 0, Loss: 0.1907530277967453\n",
            "INFO:CNN-Logger:Epoch: 0, Loss: 0.19717641174793243\n",
            "INFO:CNN-Logger:Epoch 0, Accuracy of the model on the 2000 validation images: 94.95%\n",
            "INFO:CNN-Logger:Epoch: 1, Loss: 0.12388281524181366\n",
            "INFO:CNN-Logger:Epoch: 1, Loss: 0.10667406767606735\n",
            "INFO:CNN-Logger:Epoch: 1, Loss: 0.05271652340888977\n",
            "INFO:CNN-Logger:Epoch 1, Accuracy of the model on the 2000 validation images: 97.25%\n",
            "INFO:CNN-Logger:Epoch: 2, Loss: 0.07366706430912018\n",
            "INFO:CNN-Logger:Epoch: 2, Loss: 0.030108748003840446\n",
            "INFO:CNN-Logger:Epoch: 2, Loss: 0.0902952179312706\n",
            "INFO:CNN-Logger:Epoch 2, Accuracy of the model on the 2000 validation images: 97.0%\n",
            "INFO:CNN-Logger:Epoch: 3, Loss: 0.018616069108247757\n",
            "INFO:CNN-Logger:Epoch: 3, Loss: 0.06598187983036041\n",
            "INFO:CNN-Logger:Epoch: 3, Loss: 0.022139111533761024\n",
            "INFO:CNN-Logger:Epoch 3, Accuracy of the model on the 2000 validation images: 97.25%\n",
            "INFO:CNN-Logger:Epoch: 4, Loss: 0.019669603556394577\n",
            "INFO:CNN-Logger:Epoch: 4, Loss: 0.004802798852324486\n",
            "INFO:CNN-Logger:Epoch: 4, Loss: 0.05613227188587189\n",
            "INFO:CNN-Logger:Epoch 4, Accuracy of the model on the 2000 validation images: 97.05%\n",
            "\u001b[32m[I 2022-10-24 16:05:17,143]\u001b[0m Trial 0 finished with value: 0.0009412161307409406 and parameters: {'learning_rate': 0.08831776388889077, 'batch_size': 128}. Best is trial 0 with value: 0.0009412161307409406.\u001b[0m\n"
          ]
        },
        {
          "output_type": "display_data",
          "data": {
            "text/plain": [
              "<IPython.core.display.HTML object>"
            ],
            "text/html": [
              "Waiting for W&B process to finish... <strong style=\"color:green\">(success).</strong>"
            ]
          },
          "metadata": {}
        },
        {
          "output_type": "display_data",
          "data": {
            "text/plain": [
              "VBox(children=(Label(value='0.225 MB of 0.225 MB uploaded (0.000 MB deduped)\\r'), FloatProgress(value=1.0, max…"
            ],
            "application/vnd.jupyter.widget-view+json": {
              "version_major": 2,
              "version_minor": 0,
              "model_id": "1a94af9d2ad34729940fdd35b8e9e040"
            }
          },
          "metadata": {}
        },
        {
          "output_type": "display_data",
          "data": {
            "text/plain": [
              "<IPython.core.display.HTML object>"
            ],
            "text/html": [
              "<style>\n",
              "    table.wandb td:nth-child(1) { padding: 0 10px; text-align: left ; width: auto;} td:nth-child(2) {text-align: left ; width: 100%}\n",
              "    .wandb-row { display: flex; flex-direction: row; flex-wrap: wrap; justify-content: flex-start; width: 100% }\n",
              "    .wandb-col { display: flex; flex-direction: column; flex-basis: 100%; flex: 1; padding: 10px; }\n",
              "    </style>\n",
              "<div class=\"wandb-row\"><div class=\"wandb-col\"><h3>Run history:</h3><br/><table class=\"wandb\"><tr><td>Train Metrics/loss</td><td>█▇▇▅▄▃▃▂▄▁▃▂▁▁▃</td></tr><tr><td>Validation Metrics/accuracy</td><td>▁█▇█▇</td></tr><tr><td>Validation Metrics/loss</td><td>▅█▆▄▄▇▄▃▂▃▃▃▇▄▂▄▃▂▁▅▇▃▃▁▂▂▁▅▃▇▃▅▂▄▄▁▃▂▃▅</td></tr><tr><td>batch_size</td><td>▁</td></tr><tr><td>epoch</td><td>▁▁▁▁▁▁▁▁▃▃▃▃▃▃▃▃▅▅▅▅▅▅▅▅▆▆▆▆▆▆▆▆████████</td></tr><tr><td>learning_rate</td><td>▁</td></tr><tr><td>trial_number</td><td>▁</td></tr><tr><td>value</td><td>▁</td></tr></table><br/></div><div class=\"wandb-col\"><h3>Run summary:</h3><br/><table class=\"wandb\"><tr><td>Train Metrics/loss</td><td>0.05613</td></tr><tr><td>Validation Metrics/accuracy</td><td>0.9705</td></tr><tr><td>Validation Metrics/loss</td><td>0.17458</td></tr><tr><td>batch_size</td><td>128</td></tr><tr><td>epoch</td><td>4</td></tr><tr><td>learning_rate</td><td>0.08832</td></tr><tr><td>trial_number</td><td>0</td></tr><tr><td>value</td><td>0.00094</td></tr></table><br/></div></div>"
            ]
          },
          "metadata": {}
        },
        {
          "output_type": "display_data",
          "data": {
            "text/plain": [
              "<IPython.core.display.HTML object>"
            ],
            "text/html": [
              "Synced <strong style=\"color:#cdcd00\">sage-yogurt-5</strong>: <a href=\"https://wandb.ai/tim-w/my-optuna-project-v5/runs/2ge4il76\" target=\"_blank\">https://wandb.ai/tim-w/my-optuna-project-v5/runs/2ge4il76</a><br/>Synced 5 W&B file(s), 0 media file(s), 3 artifact file(s) and 1 other file(s)"
            ]
          },
          "metadata": {}
        },
        {
          "output_type": "display_data",
          "data": {
            "text/plain": [
              "<IPython.core.display.HTML object>"
            ],
            "text/html": [
              "Find logs at: <code>./wandb/run-20221024_160439-2ge4il76/logs</code>"
            ]
          },
          "metadata": {}
        },
        {
          "output_type": "display_data",
          "data": {
            "text/plain": [
              "<IPython.core.display.HTML object>"
            ],
            "text/html": [
              "Tracking run with wandb version 0.13.4"
            ]
          },
          "metadata": {}
        },
        {
          "output_type": "display_data",
          "data": {
            "text/plain": [
              "<IPython.core.display.HTML object>"
            ],
            "text/html": [
              "Run data is saved locally in <code>/content/wandb/run-20221024_160523-96kzxtl1</code>"
            ]
          },
          "metadata": {}
        },
        {
          "output_type": "display_data",
          "data": {
            "text/plain": [
              "<IPython.core.display.HTML object>"
            ],
            "text/html": [
              "Syncing run <strong><a href=\"https://wandb.ai/tim-w/my-optuna-project-v5/runs/96kzxtl1\" target=\"_blank\">usual-surf-6</a></strong> to <a href=\"https://wandb.ai/tim-w/my-optuna-project-v5\" target=\"_blank\">Weights & Biases</a> (<a href=\"https://wandb.me/run\" target=\"_blank\">docs</a>)<br/>"
            ]
          },
          "metadata": {}
        },
        {
          "output_type": "display_data",
          "data": {
            "text/plain": [
              "  0%|          | 0/5 [00:00<?, ?it/s]"
            ],
            "application/vnd.jupyter.widget-view+json": {
              "version_major": 2,
              "version_minor": 0,
              "model_id": "6cde572a9c9748c6ac36545ae729f529"
            }
          },
          "metadata": {}
        },
        {
          "output_type": "stream",
          "name": "stderr",
          "text": [
            "INFO:CNN-Logger:Epoch: 0, Loss: 0.3204013705253601\n",
            "INFO:CNN-Logger:Epoch: 0, Loss: 0.1375519335269928\n",
            "INFO:CNN-Logger:Epoch: 0, Loss: 0.06728356331586838\n",
            "INFO:CNN-Logger:Epoch 0, Accuracy of the model on the 2000 validation images: 94.95%\n",
            "INFO:CNN-Logger:Epoch: 1, Loss: 0.16734910011291504\n",
            "INFO:CNN-Logger:Epoch: 1, Loss: 0.08250366896390915\n",
            "INFO:CNN-Logger:Epoch: 1, Loss: 0.1568121612071991\n",
            "INFO:CNN-Logger:Epoch 1, Accuracy of the model on the 2000 validation images: 96.7%\n",
            "INFO:CNN-Logger:Epoch: 2, Loss: 0.022772399708628654\n",
            "INFO:CNN-Logger:Epoch: 2, Loss: 0.04573654383420944\n",
            "INFO:CNN-Logger:Epoch: 2, Loss: 0.03988000005483627\n",
            "INFO:CNN-Logger:Epoch 2, Accuracy of the model on the 2000 validation images: 97.35%\n",
            "INFO:CNN-Logger:Epoch: 3, Loss: 0.055933479219675064\n",
            "INFO:CNN-Logger:Epoch: 3, Loss: 0.06086835637688637\n",
            "INFO:CNN-Logger:Epoch: 3, Loss: 0.02095036581158638\n",
            "INFO:CNN-Logger:Epoch 3, Accuracy of the model on the 2000 validation images: 97.25%\n",
            "INFO:CNN-Logger:Epoch: 4, Loss: 0.10882586985826492\n",
            "INFO:CNN-Logger:Epoch: 4, Loss: 0.015577043406665325\n",
            "INFO:CNN-Logger:Epoch: 4, Loss: 0.003919078037142754\n",
            "INFO:CNN-Logger:Epoch 4, Accuracy of the model on the 2000 validation images: 97.55%\n",
            "\u001b[32m[I 2022-10-24 16:06:02,747]\u001b[0m Trial 1 finished with value: 0.0007838998571969569 and parameters: {'learning_rate': 0.010123084046495288, 'batch_size': 128}. Best is trial 1 with value: 0.0007838998571969569.\u001b[0m\n"
          ]
        },
        {
          "output_type": "display_data",
          "data": {
            "text/plain": [
              "<IPython.core.display.HTML object>"
            ],
            "text/html": [
              "Waiting for W&B process to finish... <strong style=\"color:green\">(success).</strong>"
            ]
          },
          "metadata": {}
        },
        {
          "output_type": "display_data",
          "data": {
            "text/plain": [
              "<IPython.core.display.HTML object>"
            ],
            "text/html": [
              "<style>\n",
              "    table.wandb td:nth-child(1) { padding: 0 10px; text-align: left ; width: auto;} td:nth-child(2) {text-align: left ; width: 100%}\n",
              "    .wandb-row { display: flex; flex-direction: row; flex-wrap: wrap; justify-content: flex-start; width: 100% }\n",
              "    .wandb-col { display: flex; flex-direction: column; flex-basis: 100%; flex: 1; padding: 10px; }\n",
              "    </style>\n",
              "<div class=\"wandb-row\"><div class=\"wandb-col\"><h3>Run history:</h3><br/><table class=\"wandb\"><tr><td>Train Metrics/loss</td><td>█▄▂▅▃▄▁▂▂▂▂▁▃▁▁</td></tr><tr><td>Validation Metrics/accuracy</td><td>▁▆▇▇█</td></tr><tr><td>Validation Metrics/loss</td><td>▅▅▃▅█▅▂▅▂▃▂▁▂▄▄▂▄▄▂▂▂▃▄▃▄▂▄▁▃▂▂▂▅▃▃▅▄▂▂▁</td></tr><tr><td>batch_size</td><td>▁</td></tr><tr><td>epoch</td><td>▁▁▁▁▁▁▁▁▃▃▃▃▃▃▃▃▅▅▅▅▅▅▅▅▆▆▆▆▆▆▆▆████████</td></tr><tr><td>learning_rate</td><td>▁</td></tr><tr><td>trial_number</td><td>▁</td></tr><tr><td>value</td><td>▁</td></tr></table><br/></div><div class=\"wandb-col\"><h3>Run summary:</h3><br/><table class=\"wandb\"><tr><td>Train Metrics/loss</td><td>0.00392</td></tr><tr><td>Validation Metrics/accuracy</td><td>0.9755</td></tr><tr><td>Validation Metrics/loss</td><td>0.02227</td></tr><tr><td>batch_size</td><td>128</td></tr><tr><td>epoch</td><td>4</td></tr><tr><td>learning_rate</td><td>0.01012</td></tr><tr><td>trial_number</td><td>1</td></tr><tr><td>value</td><td>0.00078</td></tr></table><br/></div></div>"
            ]
          },
          "metadata": {}
        },
        {
          "output_type": "display_data",
          "data": {
            "text/plain": [
              "<IPython.core.display.HTML object>"
            ],
            "text/html": [
              "Synced <strong style=\"color:#cdcd00\">usual-surf-6</strong>: <a href=\"https://wandb.ai/tim-w/my-optuna-project-v5/runs/96kzxtl1\" target=\"_blank\">https://wandb.ai/tim-w/my-optuna-project-v5/runs/96kzxtl1</a><br/>Synced 5 W&B file(s), 0 media file(s), 3 artifact file(s) and 1 other file(s)"
            ]
          },
          "metadata": {}
        },
        {
          "output_type": "display_data",
          "data": {
            "text/plain": [
              "<IPython.core.display.HTML object>"
            ],
            "text/html": [
              "Find logs at: <code>./wandb/run-20221024_160523-96kzxtl1/logs</code>"
            ]
          },
          "metadata": {}
        },
        {
          "output_type": "display_data",
          "data": {
            "text/plain": [
              "<IPython.core.display.HTML object>"
            ],
            "text/html": [
              "Tracking run with wandb version 0.13.4"
            ]
          },
          "metadata": {}
        },
        {
          "output_type": "display_data",
          "data": {
            "text/plain": [
              "<IPython.core.display.HTML object>"
            ],
            "text/html": [
              "Run data is saved locally in <code>/content/wandb/run-20221024_160609-31vu2kcj</code>"
            ]
          },
          "metadata": {}
        },
        {
          "output_type": "display_data",
          "data": {
            "text/plain": [
              "<IPython.core.display.HTML object>"
            ],
            "text/html": [
              "Syncing run <strong><a href=\"https://wandb.ai/tim-w/my-optuna-project-v5/runs/31vu2kcj\" target=\"_blank\">restful-pine-7</a></strong> to <a href=\"https://wandb.ai/tim-w/my-optuna-project-v5\" target=\"_blank\">Weights & Biases</a> (<a href=\"https://wandb.me/run\" target=\"_blank\">docs</a>)<br/>"
            ]
          },
          "metadata": {}
        },
        {
          "output_type": "display_data",
          "data": {
            "text/plain": [
              "  0%|          | 0/5 [00:00<?, ?it/s]"
            ],
            "application/vnd.jupyter.widget-view+json": {
              "version_major": 2,
              "version_minor": 0,
              "model_id": "a5db2af1857c424fa35ddfd2b7e784c3"
            }
          },
          "metadata": {}
        },
        {
          "output_type": "stream",
          "name": "stderr",
          "text": [
            "INFO:CNN-Logger:Epoch: 0, Loss: 0.5920660495758057\n",
            "INFO:CNN-Logger:Epoch: 0, Loss: 0.27357736229896545\n",
            "INFO:CNN-Logger:Epoch: 0, Loss: 0.2189915031194687\n",
            "INFO:CNN-Logger:Epoch 0, Accuracy of the model on the 2000 validation images: 94.7%\n",
            "INFO:CNN-Logger:Epoch: 1, Loss: 0.20672453939914703\n",
            "INFO:CNN-Logger:Epoch: 1, Loss: 0.19700832664966583\n",
            "INFO:CNN-Logger:Epoch: 1, Loss: 0.14599210023880005\n",
            "INFO:CNN-Logger:Epoch 1, Accuracy of the model on the 2000 validation images: 96.6%\n",
            "INFO:CNN-Logger:Epoch: 2, Loss: 0.06642049551010132\n",
            "INFO:CNN-Logger:Epoch: 2, Loss: 0.09510014951229095\n",
            "INFO:CNN-Logger:Epoch: 2, Loss: 0.10135313868522644\n",
            "INFO:CNN-Logger:Epoch 2, Accuracy of the model on the 2000 validation images: 96.95%\n",
            "INFO:CNN-Logger:Epoch: 3, Loss: 0.09899364411830902\n",
            "INFO:CNN-Logger:Epoch: 3, Loss: 0.0544300302863121\n",
            "INFO:CNN-Logger:Epoch: 3, Loss: 0.05054887384176254\n",
            "INFO:CNN-Logger:Epoch 3, Accuracy of the model on the 2000 validation images: 97.1%\n",
            "INFO:CNN-Logger:Epoch: 4, Loss: 0.0715034082531929\n",
            "INFO:CNN-Logger:Epoch: 4, Loss: 0.007882654666900635\n",
            "INFO:CNN-Logger:Epoch: 4, Loss: 0.02117873542010784\n",
            "INFO:CNN-Logger:Epoch 4, Accuracy of the model on the 2000 validation images: 97.45%\n",
            "\u001b[32m[I 2022-10-24 16:06:47,277]\u001b[0m Trial 2 finished with value: 0.0007702410803176463 and parameters: {'learning_rate': 0.08938478428412809, 'batch_size': 256}. Best is trial 2 with value: 0.0007702410803176463.\u001b[0m\n"
          ]
        },
        {
          "output_type": "display_data",
          "data": {
            "text/plain": [
              "<IPython.core.display.HTML object>"
            ],
            "text/html": [
              "Waiting for W&B process to finish... <strong style=\"color:green\">(success).</strong>"
            ]
          },
          "metadata": {}
        },
        {
          "output_type": "display_data",
          "data": {
            "text/plain": [
              "VBox(children=(Label(value='0.259 MB of 0.259 MB uploaded (0.000 MB deduped)\\r'), FloatProgress(value=1.0, max…"
            ],
            "application/vnd.jupyter.widget-view+json": {
              "version_major": 2,
              "version_minor": 0,
              "model_id": "ce6a5418e9c14d77bec8838fb08d11d8"
            }
          },
          "metadata": {}
        },
        {
          "output_type": "display_data",
          "data": {
            "text/plain": [
              "<IPython.core.display.HTML object>"
            ],
            "text/html": [
              "<style>\n",
              "    table.wandb td:nth-child(1) { padding: 0 10px; text-align: left ; width: auto;} td:nth-child(2) {text-align: left ; width: 100%}\n",
              "    .wandb-row { display: flex; flex-direction: row; flex-wrap: wrap; justify-content: flex-start; width: 100% }\n",
              "    .wandb-col { display: flex; flex-direction: column; flex-basis: 100%; flex: 1; padding: 10px; }\n",
              "    </style>\n",
              "<div class=\"wandb-row\"><div class=\"wandb-col\"><h3>Run history:</h3><br/><table class=\"wandb\"><tr><td>Train Metrics/loss</td><td>█▄▄▃▃▃▂▂▂▂▂▂▂▁▁</td></tr><tr><td>Validation Metrics/accuracy</td><td>▁▆▇▇█</td></tr><tr><td>Validation Metrics/loss</td><td>▄▄▅▆▄█▄▄▃▃▄▄▁▃▄▄▂▂▆▃▃▁▄▅▂▄▅▃▅▁▁▃▅▄▁▃▅▄▁▆</td></tr><tr><td>batch_size</td><td>▁</td></tr><tr><td>epoch</td><td>▁▁▁▁▁▁▁▁▃▃▃▃▃▃▃▃▅▅▅▅▅▅▅▅▆▆▆▆▆▆▆▆████████</td></tr><tr><td>learning_rate</td><td>▁</td></tr><tr><td>trial_number</td><td>▁</td></tr><tr><td>value</td><td>▁</td></tr></table><br/></div><div class=\"wandb-col\"><h3>Run summary:</h3><br/><table class=\"wandb\"><tr><td>Train Metrics/loss</td><td>0.02118</td></tr><tr><td>Validation Metrics/accuracy</td><td>0.9745</td></tr><tr><td>Validation Metrics/loss</td><td>0.2124</td></tr><tr><td>batch_size</td><td>256</td></tr><tr><td>epoch</td><td>4</td></tr><tr><td>learning_rate</td><td>0.08938</td></tr><tr><td>trial_number</td><td>2</td></tr><tr><td>value</td><td>0.00077</td></tr></table><br/></div></div>"
            ]
          },
          "metadata": {}
        },
        {
          "output_type": "display_data",
          "data": {
            "text/plain": [
              "<IPython.core.display.HTML object>"
            ],
            "text/html": [
              "Synced <strong style=\"color:#cdcd00\">restful-pine-7</strong>: <a href=\"https://wandb.ai/tim-w/my-optuna-project-v5/runs/31vu2kcj\" target=\"_blank\">https://wandb.ai/tim-w/my-optuna-project-v5/runs/31vu2kcj</a><br/>Synced 5 W&B file(s), 0 media file(s), 3 artifact file(s) and 1 other file(s)"
            ]
          },
          "metadata": {}
        },
        {
          "output_type": "display_data",
          "data": {
            "text/plain": [
              "<IPython.core.display.HTML object>"
            ],
            "text/html": [
              "Find logs at: <code>./wandb/run-20221024_160609-31vu2kcj/logs</code>"
            ]
          },
          "metadata": {}
        },
        {
          "output_type": "display_data",
          "data": {
            "text/plain": [
              "<IPython.core.display.HTML object>"
            ],
            "text/html": [
              "Tracking run with wandb version 0.13.4"
            ]
          },
          "metadata": {}
        },
        {
          "output_type": "display_data",
          "data": {
            "text/plain": [
              "<IPython.core.display.HTML object>"
            ],
            "text/html": [
              "Run data is saved locally in <code>/content/wandb/run-20221024_160653-25pr6lvs</code>"
            ]
          },
          "metadata": {}
        },
        {
          "output_type": "display_data",
          "data": {
            "text/plain": [
              "<IPython.core.display.HTML object>"
            ],
            "text/html": [
              "Syncing run <strong><a href=\"https://wandb.ai/tim-w/my-optuna-project-v5/runs/25pr6lvs\" target=\"_blank\">chocolate-mountain-8</a></strong> to <a href=\"https://wandb.ai/tim-w/my-optuna-project-v5\" target=\"_blank\">Weights & Biases</a> (<a href=\"https://wandb.me/run\" target=\"_blank\">docs</a>)<br/>"
            ]
          },
          "metadata": {}
        },
        {
          "output_type": "display_data",
          "data": {
            "text/plain": [
              "  0%|          | 0/5 [00:00<?, ?it/s]"
            ],
            "application/vnd.jupyter.widget-view+json": {
              "version_major": 2,
              "version_minor": 0,
              "model_id": "4b99a993b3c44ace8b4188a807cecc85"
            }
          },
          "metadata": {}
        },
        {
          "output_type": "stream",
          "name": "stderr",
          "text": [
            "INFO:CNN-Logger:Epoch: 0, Loss: 0.3968081772327423\n",
            "INFO:CNN-Logger:Epoch: 0, Loss: 0.12533177435398102\n",
            "INFO:CNN-Logger:Epoch: 0, Loss: 0.018057527020573616\n",
            "INFO:CNN-Logger:Epoch 0, Accuracy of the model on the 2000 validation images: 96.6%\n",
            "INFO:CNN-Logger:Epoch: 1, Loss: 0.04383872076869011\n",
            "INFO:CNN-Logger:Epoch: 1, Loss: 0.11850938200950623\n",
            "INFO:CNN-Logger:Epoch: 1, Loss: 0.0904545709490776\n",
            "INFO:CNN-Logger:Epoch 1, Accuracy of the model on the 2000 validation images: 96.5%\n",
            "INFO:CNN-Logger:Epoch: 2, Loss: 0.09245205670595169\n",
            "INFO:CNN-Logger:Epoch: 2, Loss: 0.11973658204078674\n",
            "INFO:CNN-Logger:Epoch: 2, Loss: 0.047684986144304276\n",
            "INFO:CNN-Logger:Epoch 2, Accuracy of the model on the 2000 validation images: 96.6%\n",
            "INFO:CNN-Logger:Epoch: 3, Loss: 0.023342739790678024\n",
            "INFO:CNN-Logger:Epoch: 3, Loss: 0.08425422012805939\n",
            "INFO:CNN-Logger:Epoch: 3, Loss: 0.0288467425853014\n",
            "INFO:CNN-Logger:Epoch 3, Accuracy of the model on the 2000 validation images: 97.4%\n",
            "INFO:CNN-Logger:Epoch: 4, Loss: 0.014514160342514515\n",
            "INFO:CNN-Logger:Epoch: 4, Loss: 0.022327294573187828\n",
            "INFO:CNN-Logger:Epoch: 4, Loss: 0.03891303390264511\n",
            "INFO:CNN-Logger:Epoch 4, Accuracy of the model on the 2000 validation images: 97.4%\n",
            "\u001b[32m[I 2022-10-24 16:07:31,113]\u001b[0m Trial 3 finished with value: 0.0007859888137318194 and parameters: {'learning_rate': 0.04556400344273636, 'batch_size': 256}. Best is trial 2 with value: 0.0007702410803176463.\u001b[0m\n"
          ]
        },
        {
          "output_type": "display_data",
          "data": {
            "text/plain": [
              "<IPython.core.display.HTML object>"
            ],
            "text/html": [
              "Waiting for W&B process to finish... <strong style=\"color:green\">(success).</strong>"
            ]
          },
          "metadata": {}
        },
        {
          "output_type": "display_data",
          "data": {
            "text/plain": [
              "VBox(children=(Label(value='0.280 MB of 0.280 MB uploaded (0.000 MB deduped)\\r'), FloatProgress(value=1.0, max…"
            ],
            "application/vnd.jupyter.widget-view+json": {
              "version_major": 2,
              "version_minor": 0,
              "model_id": "fb313e7f6a20491a95df3ca2d5fa3e5f"
            }
          },
          "metadata": {}
        },
        {
          "output_type": "display_data",
          "data": {
            "text/plain": [
              "<IPython.core.display.HTML object>"
            ],
            "text/html": [
              "<style>\n",
              "    table.wandb td:nth-child(1) { padding: 0 10px; text-align: left ; width: auto;} td:nth-child(2) {text-align: left ; width: 100%}\n",
              "    .wandb-row { display: flex; flex-direction: row; flex-wrap: wrap; justify-content: flex-start; width: 100% }\n",
              "    .wandb-col { display: flex; flex-direction: column; flex-basis: 100%; flex: 1; padding: 10px; }\n",
              "    </style>\n",
              "<div class=\"wandb-row\"><div class=\"wandb-col\"><h3>Run history:</h3><br/><table class=\"wandb\"><tr><td>Train Metrics/loss</td><td>█▃▁▂▃▂▂▃▂▁▂▁▁▁▁</td></tr><tr><td>Validation Metrics/accuracy</td><td>▂▁▂██</td></tr><tr><td>Validation Metrics/loss</td><td>▄▂▅▄▃▂▃▂▂▄▃▂▄▄▃▄▂▂▂▃▂▃▃▃▃▁▃▃▃▂▂▂▁▄▂█▃▁▄▁</td></tr><tr><td>batch_size</td><td>▁</td></tr><tr><td>epoch</td><td>▁▁▁▁▁▁▁▁▃▃▃▃▃▃▃▃▅▅▅▅▅▅▅▅▆▆▆▆▆▆▆▆████████</td></tr><tr><td>learning_rate</td><td>▁</td></tr><tr><td>trial_number</td><td>▁</td></tr><tr><td>value</td><td>▁</td></tr></table><br/></div><div class=\"wandb-col\"><h3>Run summary:</h3><br/><table class=\"wandb\"><tr><td>Train Metrics/loss</td><td>0.03891</td></tr><tr><td>Validation Metrics/accuracy</td><td>0.974</td></tr><tr><td>Validation Metrics/loss</td><td>0.01173</td></tr><tr><td>batch_size</td><td>256</td></tr><tr><td>epoch</td><td>4</td></tr><tr><td>learning_rate</td><td>0.04556</td></tr><tr><td>trial_number</td><td>3</td></tr><tr><td>value</td><td>0.00079</td></tr></table><br/></div></div>"
            ]
          },
          "metadata": {}
        },
        {
          "output_type": "display_data",
          "data": {
            "text/plain": [
              "<IPython.core.display.HTML object>"
            ],
            "text/html": [
              "Synced <strong style=\"color:#cdcd00\">chocolate-mountain-8</strong>: <a href=\"https://wandb.ai/tim-w/my-optuna-project-v5/runs/25pr6lvs\" target=\"_blank\">https://wandb.ai/tim-w/my-optuna-project-v5/runs/25pr6lvs</a><br/>Synced 5 W&B file(s), 0 media file(s), 3 artifact file(s) and 1 other file(s)"
            ]
          },
          "metadata": {}
        },
        {
          "output_type": "display_data",
          "data": {
            "text/plain": [
              "<IPython.core.display.HTML object>"
            ],
            "text/html": [
              "Find logs at: <code>./wandb/run-20221024_160653-25pr6lvs/logs</code>"
            ]
          },
          "metadata": {}
        },
        {
          "output_type": "display_data",
          "data": {
            "text/plain": [
              "<IPython.core.display.HTML object>"
            ],
            "text/html": [
              "Tracking run with wandb version 0.13.4"
            ]
          },
          "metadata": {}
        },
        {
          "output_type": "display_data",
          "data": {
            "text/plain": [
              "<IPython.core.display.HTML object>"
            ],
            "text/html": [
              "Run data is saved locally in <code>/content/wandb/run-20221024_160737-2dqc95ly</code>"
            ]
          },
          "metadata": {}
        },
        {
          "output_type": "display_data",
          "data": {
            "text/plain": [
              "<IPython.core.display.HTML object>"
            ],
            "text/html": [
              "Syncing run <strong><a href=\"https://wandb.ai/tim-w/my-optuna-project-v5/runs/2dqc95ly\" target=\"_blank\">upbeat-sun-9</a></strong> to <a href=\"https://wandb.ai/tim-w/my-optuna-project-v5\" target=\"_blank\">Weights & Biases</a> (<a href=\"https://wandb.me/run\" target=\"_blank\">docs</a>)<br/>"
            ]
          },
          "metadata": {}
        },
        {
          "output_type": "display_data",
          "data": {
            "text/plain": [
              "  0%|          | 0/5 [00:00<?, ?it/s]"
            ],
            "application/vnd.jupyter.widget-view+json": {
              "version_major": 2,
              "version_minor": 0,
              "model_id": "5027f7bace3d4b328dd7a28d75773f98"
            }
          },
          "metadata": {}
        },
        {
          "output_type": "stream",
          "name": "stderr",
          "text": [
            "INFO:CNN-Logger:Epoch: 0, Loss: 0.41071754693984985\n",
            "INFO:CNN-Logger:Epoch: 0, Loss: 0.21347413957118988\n",
            "INFO:CNN-Logger:Epoch: 0, Loss: 0.06579791009426117\n",
            "INFO:CNN-Logger:Epoch 0, Accuracy of the model on the 2000 validation images: 95.5%\n",
            "INFO:CNN-Logger:Epoch: 1, Loss: 0.09683655202388763\n",
            "INFO:CNN-Logger:Epoch: 1, Loss: 0.22325533628463745\n",
            "INFO:CNN-Logger:Epoch: 1, Loss: 0.0488869808614254\n",
            "INFO:CNN-Logger:Epoch 1, Accuracy of the model on the 2000 validation images: 96.45%\n",
            "INFO:CNN-Logger:Epoch: 2, Loss: 0.06366995722055435\n",
            "INFO:CNN-Logger:Epoch: 2, Loss: 0.039332177489995956\n",
            "INFO:CNN-Logger:Epoch: 2, Loss: 0.03154755383729935\n",
            "INFO:CNN-Logger:Epoch 2, Accuracy of the model on the 2000 validation images: 97.25%\n",
            "INFO:CNN-Logger:Epoch: 3, Loss: 0.06239454075694084\n",
            "INFO:CNN-Logger:Epoch: 3, Loss: 0.022603249177336693\n",
            "INFO:CNN-Logger:Epoch: 3, Loss: 0.04329656809568405\n",
            "INFO:CNN-Logger:Epoch 3, Accuracy of the model on the 2000 validation images: 97.45%\n",
            "INFO:CNN-Logger:Epoch: 4, Loss: 0.015041391365230083\n",
            "INFO:CNN-Logger:Epoch: 4, Loss: 0.005712299607694149\n",
            "INFO:CNN-Logger:Epoch: 4, Loss: 0.01963687688112259\n",
            "INFO:CNN-Logger:Epoch 4, Accuracy of the model on the 2000 validation images: 97.15%\n",
            "\u001b[32m[I 2022-10-24 16:08:18,666]\u001b[0m Trial 4 finished with value: 0.0007241044077090919 and parameters: {'learning_rate': 0.015687546742539398, 'batch_size': 128}. Best is trial 4 with value: 0.0007241044077090919.\u001b[0m\n"
          ]
        },
        {
          "output_type": "display_data",
          "data": {
            "text/plain": [
              "<IPython.core.display.HTML object>"
            ],
            "text/html": [
              "Waiting for W&B process to finish... <strong style=\"color:green\">(success).</strong>"
            ]
          },
          "metadata": {}
        },
        {
          "output_type": "display_data",
          "data": {
            "text/plain": [
              "<IPython.core.display.HTML object>"
            ],
            "text/html": [
              "<style>\n",
              "    table.wandb td:nth-child(1) { padding: 0 10px; text-align: left ; width: auto;} td:nth-child(2) {text-align: left ; width: 100%}\n",
              "    .wandb-row { display: flex; flex-direction: row; flex-wrap: wrap; justify-content: flex-start; width: 100% }\n",
              "    .wandb-col { display: flex; flex-direction: column; flex-basis: 100%; flex: 1; padding: 10px; }\n",
              "    </style>\n",
              "<div class=\"wandb-row\"><div class=\"wandb-col\"><h3>Run history:</h3><br/><table class=\"wandb\"><tr><td>Train Metrics/loss</td><td>█▅▂▃▅▂▂▂▁▂▁▂▁▁▁</td></tr><tr><td>Validation Metrics/accuracy</td><td>▁▄▇█▇</td></tr><tr><td>Validation Metrics/loss</td><td>▄▄▄▆▄▇▄▅▃▂▃▃▄▁▅▅▅▃▁▂▁▃▂▄▃▅█▁▂▄▅▇▄▃▃▂▃▅▂▄</td></tr><tr><td>batch_size</td><td>▁</td></tr><tr><td>epoch</td><td>▁▁▁▁▁▁▁▁▃▃▃▃▃▃▃▃▅▅▅▅▅▅▅▅▆▆▆▆▆▆▆▆████████</td></tr><tr><td>learning_rate</td><td>▁</td></tr><tr><td>trial_number</td><td>▁</td></tr><tr><td>value</td><td>▁</td></tr></table><br/></div><div class=\"wandb-col\"><h3>Run summary:</h3><br/><table class=\"wandb\"><tr><td>Train Metrics/loss</td><td>0.01964</td></tr><tr><td>Validation Metrics/accuracy</td><td>0.9715</td></tr><tr><td>Validation Metrics/loss</td><td>0.09723</td></tr><tr><td>batch_size</td><td>128</td></tr><tr><td>epoch</td><td>4</td></tr><tr><td>learning_rate</td><td>0.01569</td></tr><tr><td>trial_number</td><td>4</td></tr><tr><td>value</td><td>0.00072</td></tr></table><br/></div></div>"
            ]
          },
          "metadata": {}
        },
        {
          "output_type": "display_data",
          "data": {
            "text/plain": [
              "<IPython.core.display.HTML object>"
            ],
            "text/html": [
              "Synced <strong style=\"color:#cdcd00\">upbeat-sun-9</strong>: <a href=\"https://wandb.ai/tim-w/my-optuna-project-v5/runs/2dqc95ly\" target=\"_blank\">https://wandb.ai/tim-w/my-optuna-project-v5/runs/2dqc95ly</a><br/>Synced 5 W&B file(s), 0 media file(s), 3 artifact file(s) and 1 other file(s)"
            ]
          },
          "metadata": {}
        },
        {
          "output_type": "display_data",
          "data": {
            "text/plain": [
              "<IPython.core.display.HTML object>"
            ],
            "text/html": [
              "Find logs at: <code>./wandb/run-20221024_160737-2dqc95ly/logs</code>"
            ]
          },
          "metadata": {}
        },
        {
          "output_type": "display_data",
          "data": {
            "text/plain": [
              "<IPython.core.display.HTML object>"
            ],
            "text/html": [
              "Tracking run with wandb version 0.13.4"
            ]
          },
          "metadata": {}
        },
        {
          "output_type": "display_data",
          "data": {
            "text/plain": [
              "<IPython.core.display.HTML object>"
            ],
            "text/html": [
              "Run data is saved locally in <code>/content/wandb/run-20221024_160826-pwh7c8mm</code>"
            ]
          },
          "metadata": {}
        },
        {
          "output_type": "display_data",
          "data": {
            "text/plain": [
              "<IPython.core.display.HTML object>"
            ],
            "text/html": [
              "Syncing run <strong><a href=\"https://wandb.ai/tim-w/my-optuna-project-v5/runs/pwh7c8mm\" target=\"_blank\">jolly-glitter-10</a></strong> to <a href=\"https://wandb.ai/tim-w/my-optuna-project-v5\" target=\"_blank\">Weights & Biases</a> (<a href=\"https://wandb.me/run\" target=\"_blank\">docs</a>)<br/>"
            ]
          },
          "metadata": {}
        },
        {
          "output_type": "display_data",
          "data": {
            "text/plain": [
              "  0%|          | 0/5 [00:00<?, ?it/s]"
            ],
            "application/vnd.jupyter.widget-view+json": {
              "version_major": 2,
              "version_minor": 0,
              "model_id": "d49d5b955e4f4f5cb0d6b32c24770d5e"
            }
          },
          "metadata": {}
        },
        {
          "output_type": "stream",
          "name": "stderr",
          "text": [
            "INFO:CNN-Logger:Epoch: 0, Loss: 0.29345884919166565\n",
            "INFO:CNN-Logger:Epoch: 0, Loss: 0.15035413205623627\n",
            "INFO:CNN-Logger:Epoch: 0, Loss: 0.08890308439731598\n",
            "INFO:CNN-Logger:Epoch 0, Accuracy of the model on the 2000 validation images: 95.9%\n",
            "INFO:CNN-Logger:Epoch: 1, Loss: 0.20670713484287262\n",
            "INFO:CNN-Logger:Epoch: 1, Loss: 0.1508227437734604\n",
            "INFO:CNN-Logger:Epoch: 1, Loss: 0.13893410563468933\n",
            "INFO:CNN-Logger:Epoch 1, Accuracy of the model on the 2000 validation images: 97.3%\n",
            "INFO:CNN-Logger:Epoch: 2, Loss: 0.062476929277181625\n",
            "INFO:CNN-Logger:Epoch: 2, Loss: 0.029634464532136917\n",
            "INFO:CNN-Logger:Epoch: 2, Loss: 0.06384575366973877\n",
            "INFO:CNN-Logger:Epoch 2, Accuracy of the model on the 2000 validation images: 97.2%\n",
            "INFO:CNN-Logger:Epoch: 3, Loss: 0.03379198908805847\n",
            "INFO:CNN-Logger:Epoch: 3, Loss: 0.046857286244630814\n",
            "INFO:CNN-Logger:Epoch: 3, Loss: 0.031060097739100456\n",
            "INFO:CNN-Logger:Epoch 3, Accuracy of the model on the 2000 validation images: 97.6%\n",
            "INFO:CNN-Logger:Epoch: 4, Loss: 0.03646336495876312\n",
            "INFO:CNN-Logger:Epoch: 4, Loss: 0.03504335507750511\n",
            "INFO:CNN-Logger:Epoch: 4, Loss: 0.06618735939264297\n",
            "INFO:CNN-Logger:Epoch 4, Accuracy of the model on the 2000 validation images: 96.55%\n",
            "\u001b[32m[I 2022-10-24 16:09:05,368]\u001b[0m Trial 5 finished with value: 0.0008801565272733569 and parameters: {'learning_rate': 0.04190722249717615, 'batch_size': 256}. Best is trial 4 with value: 0.0007241044077090919.\u001b[0m\n"
          ]
        },
        {
          "output_type": "display_data",
          "data": {
            "text/plain": [
              "<IPython.core.display.HTML object>"
            ],
            "text/html": [
              "Waiting for W&B process to finish... <strong style=\"color:green\">(success).</strong>"
            ]
          },
          "metadata": {}
        },
        {
          "output_type": "display_data",
          "data": {
            "text/plain": [
              "<IPython.core.display.HTML object>"
            ],
            "text/html": [
              "<style>\n",
              "    table.wandb td:nth-child(1) { padding: 0 10px; text-align: left ; width: auto;} td:nth-child(2) {text-align: left ; width: 100%}\n",
              "    .wandb-row { display: flex; flex-direction: row; flex-wrap: wrap; justify-content: flex-start; width: 100% }\n",
              "    .wandb-col { display: flex; flex-direction: column; flex-basis: 100%; flex: 1; padding: 10px; }\n",
              "    </style>\n",
              "<div class=\"wandb-row\"><div class=\"wandb-col\"><h3>Run history:</h3><br/><table class=\"wandb\"><tr><td>Train Metrics/loss</td><td>█▄▃▆▄▄▂▁▂▁▁▁▁▁▂</td></tr><tr><td>Validation Metrics/accuracy</td><td>▁▇▆█▄</td></tr><tr><td>Validation Metrics/loss</td><td>█▄▃▅▂▂▆▄▅▄▅▃▂▄▄▃▂▂▄▃▃▃▆▅▂▄▄▄▃▃▄▃▁▄▅▅▃▆▅▃</td></tr><tr><td>batch_size</td><td>▁</td></tr><tr><td>epoch</td><td>▁▁▁▁▁▁▁▁▃▃▃▃▃▃▃▃▅▅▅▅▅▅▅▅▆▆▆▆▆▆▆▆████████</td></tr><tr><td>learning_rate</td><td>▁</td></tr><tr><td>trial_number</td><td>▁</td></tr><tr><td>value</td><td>▁</td></tr></table><br/></div><div class=\"wandb-col\"><h3>Run summary:</h3><br/><table class=\"wandb\"><tr><td>Train Metrics/loss</td><td>0.06619</td></tr><tr><td>Validation Metrics/accuracy</td><td>0.9655</td></tr><tr><td>Validation Metrics/loss</td><td>0.09086</td></tr><tr><td>batch_size</td><td>256</td></tr><tr><td>epoch</td><td>4</td></tr><tr><td>learning_rate</td><td>0.04191</td></tr><tr><td>trial_number</td><td>5</td></tr><tr><td>value</td><td>0.00088</td></tr></table><br/></div></div>"
            ]
          },
          "metadata": {}
        },
        {
          "output_type": "display_data",
          "data": {
            "text/plain": [
              "<IPython.core.display.HTML object>"
            ],
            "text/html": [
              "Synced <strong style=\"color:#cdcd00\">jolly-glitter-10</strong>: <a href=\"https://wandb.ai/tim-w/my-optuna-project-v5/runs/pwh7c8mm\" target=\"_blank\">https://wandb.ai/tim-w/my-optuna-project-v5/runs/pwh7c8mm</a><br/>Synced 5 W&B file(s), 0 media file(s), 3 artifact file(s) and 1 other file(s)"
            ]
          },
          "metadata": {}
        },
        {
          "output_type": "display_data",
          "data": {
            "text/plain": [
              "<IPython.core.display.HTML object>"
            ],
            "text/html": [
              "Find logs at: <code>./wandb/run-20221024_160826-pwh7c8mm/logs</code>"
            ]
          },
          "metadata": {}
        },
        {
          "output_type": "display_data",
          "data": {
            "text/plain": [
              "<IPython.core.display.HTML object>"
            ],
            "text/html": [
              "Tracking run with wandb version 0.13.4"
            ]
          },
          "metadata": {}
        },
        {
          "output_type": "display_data",
          "data": {
            "text/plain": [
              "<IPython.core.display.HTML object>"
            ],
            "text/html": [
              "Run data is saved locally in <code>/content/wandb/run-20221024_160910-3gon5a4o</code>"
            ]
          },
          "metadata": {}
        },
        {
          "output_type": "display_data",
          "data": {
            "text/plain": [
              "<IPython.core.display.HTML object>"
            ],
            "text/html": [
              "Syncing run <strong><a href=\"https://wandb.ai/tim-w/my-optuna-project-v5/runs/3gon5a4o\" target=\"_blank\">happy-tree-11</a></strong> to <a href=\"https://wandb.ai/tim-w/my-optuna-project-v5\" target=\"_blank\">Weights & Biases</a> (<a href=\"https://wandb.me/run\" target=\"_blank\">docs</a>)<br/>"
            ]
          },
          "metadata": {}
        },
        {
          "output_type": "display_data",
          "data": {
            "text/plain": [
              "  0%|          | 0/5 [00:00<?, ?it/s]"
            ],
            "application/vnd.jupyter.widget-view+json": {
              "version_major": 2,
              "version_minor": 0,
              "model_id": "d9d8004416b44be5a6e15fdbb4381c8e"
            }
          },
          "metadata": {}
        },
        {
          "output_type": "stream",
          "name": "stderr",
          "text": [
            "INFO:CNN-Logger:Epoch: 0, Loss: 0.2686982750892639\n",
            "INFO:CNN-Logger:Epoch: 0, Loss: 0.09075188636779785\n",
            "INFO:CNN-Logger:Epoch: 0, Loss: 0.16386130452156067\n",
            "INFO:CNN-Logger:Epoch 0, Accuracy of the model on the 2000 validation images: 96.65%\n",
            "INFO:CNN-Logger:Epoch: 1, Loss: 0.08306562900543213\n",
            "INFO:CNN-Logger:Epoch: 1, Loss: 0.06270737200975418\n",
            "INFO:CNN-Logger:Epoch: 1, Loss: 0.04240083321928978\n",
            "INFO:CNN-Logger:Epoch 1, Accuracy of the model on the 2000 validation images: 96.4%\n",
            "INFO:CNN-Logger:Epoch: 2, Loss: 0.05335497483611107\n",
            "INFO:CNN-Logger:Epoch: 2, Loss: 0.07852634787559509\n",
            "INFO:CNN-Logger:Epoch: 2, Loss: 0.0659700557589531\n",
            "INFO:CNN-Logger:Epoch 2, Accuracy of the model on the 2000 validation images: 96.95%\n",
            "INFO:CNN-Logger:Epoch: 3, Loss: 0.010773732326924801\n",
            "INFO:CNN-Logger:Epoch: 3, Loss: 0.00247353152371943\n",
            "INFO:CNN-Logger:Epoch: 3, Loss: 0.06678922474384308\n",
            "INFO:CNN-Logger:Epoch 3, Accuracy of the model on the 2000 validation images: 97.7%\n",
            "INFO:CNN-Logger:Epoch: 4, Loss: 0.004982080776244402\n",
            "INFO:CNN-Logger:Epoch: 4, Loss: 0.04295925423502922\n",
            "INFO:CNN-Logger:Epoch: 4, Loss: 0.015196526423096657\n",
            "INFO:CNN-Logger:Epoch 4, Accuracy of the model on the 2000 validation images: 97.1%\n",
            "\u001b[32m[I 2022-10-24 16:09:49,931]\u001b[0m Trial 6 finished with value: 0.00085011578630656 and parameters: {'learning_rate': 0.06826611841189062, 'batch_size': 128}. Best is trial 4 with value: 0.0007241044077090919.\u001b[0m\n"
          ]
        },
        {
          "output_type": "display_data",
          "data": {
            "text/plain": [
              "<IPython.core.display.HTML object>"
            ],
            "text/html": [
              "Waiting for W&B process to finish... <strong style=\"color:green\">(success).</strong>"
            ]
          },
          "metadata": {}
        },
        {
          "output_type": "display_data",
          "data": {
            "text/plain": [
              "<IPython.core.display.HTML object>"
            ],
            "text/html": [
              "<style>\n",
              "    table.wandb td:nth-child(1) { padding: 0 10px; text-align: left ; width: auto;} td:nth-child(2) {text-align: left ; width: 100%}\n",
              "    .wandb-row { display: flex; flex-direction: row; flex-wrap: wrap; justify-content: flex-start; width: 100% }\n",
              "    .wandb-col { display: flex; flex-direction: column; flex-basis: 100%; flex: 1; padding: 10px; }\n",
              "    </style>\n",
              "<div class=\"wandb-row\"><div class=\"wandb-col\"><h3>Run history:</h3><br/><table class=\"wandb\"><tr><td>Train Metrics/loss</td><td>█▃▅▃▃▂▂▃▃▁▁▃▁▂▁</td></tr><tr><td>Validation Metrics/accuracy</td><td>▂▁▄█▅</td></tr><tr><td>Validation Metrics/loss</td><td>▅▄▄▅▃▃█▆▂▇▅▃▄▇▄█▂▄▅▄▂█▁▅▁▃▄▁▃▃▂▂▅▃▁▆▃▁▂▂</td></tr><tr><td>batch_size</td><td>▁</td></tr><tr><td>epoch</td><td>▁▁▁▁▁▁▁▁▃▃▃▃▃▃▃▃▅▅▅▅▅▅▅▅▆▆▆▆▆▆▆▆████████</td></tr><tr><td>learning_rate</td><td>▁</td></tr><tr><td>trial_number</td><td>▁</td></tr><tr><td>value</td><td>▁</td></tr></table><br/></div><div class=\"wandb-col\"><h3>Run summary:</h3><br/><table class=\"wandb\"><tr><td>Train Metrics/loss</td><td>0.0152</td></tr><tr><td>Validation Metrics/accuracy</td><td>0.971</td></tr><tr><td>Validation Metrics/loss</td><td>0.05417</td></tr><tr><td>batch_size</td><td>128</td></tr><tr><td>epoch</td><td>4</td></tr><tr><td>learning_rate</td><td>0.06827</td></tr><tr><td>trial_number</td><td>6</td></tr><tr><td>value</td><td>0.00085</td></tr></table><br/></div></div>"
            ]
          },
          "metadata": {}
        },
        {
          "output_type": "display_data",
          "data": {
            "text/plain": [
              "<IPython.core.display.HTML object>"
            ],
            "text/html": [
              "Synced <strong style=\"color:#cdcd00\">happy-tree-11</strong>: <a href=\"https://wandb.ai/tim-w/my-optuna-project-v5/runs/3gon5a4o\" target=\"_blank\">https://wandb.ai/tim-w/my-optuna-project-v5/runs/3gon5a4o</a><br/>Synced 5 W&B file(s), 0 media file(s), 3 artifact file(s) and 1 other file(s)"
            ]
          },
          "metadata": {}
        },
        {
          "output_type": "display_data",
          "data": {
            "text/plain": [
              "<IPython.core.display.HTML object>"
            ],
            "text/html": [
              "Find logs at: <code>./wandb/run-20221024_160910-3gon5a4o/logs</code>"
            ]
          },
          "metadata": {}
        },
        {
          "output_type": "display_data",
          "data": {
            "text/plain": [
              "<IPython.core.display.HTML object>"
            ],
            "text/html": [
              "Tracking run with wandb version 0.13.4"
            ]
          },
          "metadata": {}
        },
        {
          "output_type": "display_data",
          "data": {
            "text/plain": [
              "<IPython.core.display.HTML object>"
            ],
            "text/html": [
              "Run data is saved locally in <code>/content/wandb/run-20221024_160956-f9vu6ndi</code>"
            ]
          },
          "metadata": {}
        },
        {
          "output_type": "display_data",
          "data": {
            "text/plain": [
              "<IPython.core.display.HTML object>"
            ],
            "text/html": [
              "Syncing run <strong><a href=\"https://wandb.ai/tim-w/my-optuna-project-v5/runs/f9vu6ndi\" target=\"_blank\">vague-lake-12</a></strong> to <a href=\"https://wandb.ai/tim-w/my-optuna-project-v5\" target=\"_blank\">Weights & Biases</a> (<a href=\"https://wandb.me/run\" target=\"_blank\">docs</a>)<br/>"
            ]
          },
          "metadata": {}
        },
        {
          "output_type": "display_data",
          "data": {
            "text/plain": [
              "  0%|          | 0/5 [00:00<?, ?it/s]"
            ],
            "application/vnd.jupyter.widget-view+json": {
              "version_major": 2,
              "version_minor": 0,
              "model_id": "7e4977169d114f3199bfd2110760de4a"
            }
          },
          "metadata": {}
        },
        {
          "output_type": "stream",
          "name": "stderr",
          "text": [
            "INFO:CNN-Logger:Epoch: 0, Loss: 0.44174179434776306\n",
            "INFO:CNN-Logger:Epoch: 0, Loss: 0.23112303018569946\n",
            "INFO:CNN-Logger:Epoch: 0, Loss: 0.19885970652103424\n",
            "INFO:CNN-Logger:Epoch 0, Accuracy of the model on the 2000 validation images: 94.3%\n",
            "INFO:CNN-Logger:Epoch: 1, Loss: 0.0911320149898529\n",
            "INFO:CNN-Logger:Epoch: 1, Loss: 0.04662971571087837\n",
            "INFO:CNN-Logger:Epoch: 1, Loss: 0.07121451944112778\n",
            "INFO:CNN-Logger:Epoch 1, Accuracy of the model on the 2000 validation images: 95.65%\n",
            "INFO:CNN-Logger:Epoch: 2, Loss: 0.05859382450580597\n",
            "INFO:CNN-Logger:Epoch: 2, Loss: 0.09998374432325363\n",
            "INFO:CNN-Logger:Epoch: 2, Loss: 0.07784135639667511\n",
            "INFO:CNN-Logger:Epoch 2, Accuracy of the model on the 2000 validation images: 95.9%\n",
            "INFO:CNN-Logger:Epoch: 3, Loss: 0.11165395379066467\n",
            "INFO:CNN-Logger:Epoch: 3, Loss: 0.04304277524352074\n",
            "INFO:CNN-Logger:Epoch: 3, Loss: 0.016078347340226173\n",
            "INFO:CNN-Logger:Epoch 3, Accuracy of the model on the 2000 validation images: 96.05%\n",
            "INFO:CNN-Logger:Epoch: 4, Loss: 0.03344406932592392\n",
            "INFO:CNN-Logger:Epoch: 4, Loss: 0.050192657858133316\n",
            "INFO:CNN-Logger:Epoch: 4, Loss: 0.07842113077640533\n",
            "INFO:CNN-Logger:Epoch 4, Accuracy of the model on the 2000 validation images: 96.75%\n",
            "\u001b[32m[I 2022-10-24 16:10:35,018]\u001b[0m Trial 7 finished with value: 0.0009847130859270692 and parameters: {'learning_rate': 0.02849503900345985, 'batch_size': 128}. Best is trial 4 with value: 0.0007241044077090919.\u001b[0m\n"
          ]
        },
        {
          "output_type": "display_data",
          "data": {
            "text/plain": [
              "<IPython.core.display.HTML object>"
            ],
            "text/html": [
              "Waiting for W&B process to finish... <strong style=\"color:green\">(success).</strong>"
            ]
          },
          "metadata": {}
        },
        {
          "output_type": "display_data",
          "data": {
            "text/plain": [
              "<IPython.core.display.HTML object>"
            ],
            "text/html": [
              "<style>\n",
              "    table.wandb td:nth-child(1) { padding: 0 10px; text-align: left ; width: auto;} td:nth-child(2) {text-align: left ; width: 100%}\n",
              "    .wandb-row { display: flex; flex-direction: row; flex-wrap: wrap; justify-content: flex-start; width: 100% }\n",
              "    .wandb-col { display: flex; flex-direction: column; flex-basis: 100%; flex: 1; padding: 10px; }\n",
              "    </style>\n",
              "<div class=\"wandb-row\"><div class=\"wandb-col\"><h3>Run history:</h3><br/><table class=\"wandb\"><tr><td>Train Metrics/loss</td><td>█▅▄▂▂▂▂▂▂▃▁▁▁▂▂</td></tr><tr><td>Validation Metrics/accuracy</td><td>▁▅▆▆█</td></tr><tr><td>Validation Metrics/loss</td><td>▃▆▆▂▄▂▃█▃▄▃▃▂▂▂▂▁▃▁▂▃▂▂▃▄▆▂▄▁▃▃▃▅▄▁▁▁▄▃▂</td></tr><tr><td>batch_size</td><td>▁</td></tr><tr><td>epoch</td><td>▁▁▁▁▁▁▁▁▃▃▃▃▃▃▃▃▅▅▅▅▅▅▅▅▆▆▆▆▆▆▆▆████████</td></tr><tr><td>learning_rate</td><td>▁</td></tr><tr><td>trial_number</td><td>▁</td></tr><tr><td>value</td><td>▁</td></tr></table><br/></div><div class=\"wandb-col\"><h3>Run summary:</h3><br/><table class=\"wandb\"><tr><td>Train Metrics/loss</td><td>0.07842</td></tr><tr><td>Validation Metrics/accuracy</td><td>0.9675</td></tr><tr><td>Validation Metrics/loss</td><td>0.0839</td></tr><tr><td>batch_size</td><td>128</td></tr><tr><td>epoch</td><td>4</td></tr><tr><td>learning_rate</td><td>0.0285</td></tr><tr><td>trial_number</td><td>7</td></tr><tr><td>value</td><td>0.00098</td></tr></table><br/></div></div>"
            ]
          },
          "metadata": {}
        },
        {
          "output_type": "display_data",
          "data": {
            "text/plain": [
              "<IPython.core.display.HTML object>"
            ],
            "text/html": [
              "Synced <strong style=\"color:#cdcd00\">vague-lake-12</strong>: <a href=\"https://wandb.ai/tim-w/my-optuna-project-v5/runs/f9vu6ndi\" target=\"_blank\">https://wandb.ai/tim-w/my-optuna-project-v5/runs/f9vu6ndi</a><br/>Synced 5 W&B file(s), 0 media file(s), 3 artifact file(s) and 1 other file(s)"
            ]
          },
          "metadata": {}
        },
        {
          "output_type": "display_data",
          "data": {
            "text/plain": [
              "<IPython.core.display.HTML object>"
            ],
            "text/html": [
              "Find logs at: <code>./wandb/run-20221024_160956-f9vu6ndi/logs</code>"
            ]
          },
          "metadata": {}
        },
        {
          "output_type": "display_data",
          "data": {
            "text/plain": [
              "<IPython.core.display.HTML object>"
            ],
            "text/html": [
              "Tracking run with wandb version 0.13.4"
            ]
          },
          "metadata": {}
        },
        {
          "output_type": "display_data",
          "data": {
            "text/plain": [
              "<IPython.core.display.HTML object>"
            ],
            "text/html": [
              "Run data is saved locally in <code>/content/wandb/run-20221024_161041-y05galkl</code>"
            ]
          },
          "metadata": {}
        },
        {
          "output_type": "display_data",
          "data": {
            "text/plain": [
              "<IPython.core.display.HTML object>"
            ],
            "text/html": [
              "Syncing run <strong><a href=\"https://wandb.ai/tim-w/my-optuna-project-v5/runs/y05galkl\" target=\"_blank\">crisp-firefly-13</a></strong> to <a href=\"https://wandb.ai/tim-w/my-optuna-project-v5\" target=\"_blank\">Weights & Biases</a> (<a href=\"https://wandb.me/run\" target=\"_blank\">docs</a>)<br/>"
            ]
          },
          "metadata": {}
        },
        {
          "output_type": "display_data",
          "data": {
            "text/plain": [
              "  0%|          | 0/5 [00:00<?, ?it/s]"
            ],
            "application/vnd.jupyter.widget-view+json": {
              "version_major": 2,
              "version_minor": 0,
              "model_id": "e6c9608a8fd846df87fbae6232b046c7"
            }
          },
          "metadata": {}
        },
        {
          "output_type": "stream",
          "name": "stderr",
          "text": [
            "INFO:CNN-Logger:Epoch: 0, Loss: 0.3242708444595337\n",
            "INFO:CNN-Logger:Epoch: 0, Loss: 0.2208414077758789\n",
            "INFO:CNN-Logger:Epoch: 0, Loss: 0.14153040945529938\n",
            "INFO:CNN-Logger:Epoch 0, Accuracy of the model on the 2000 validation images: 95.85%\n",
            "INFO:CNN-Logger:Epoch: 1, Loss: 0.2474503368139267\n",
            "INFO:CNN-Logger:Epoch: 1, Loss: 0.15772059559822083\n",
            "INFO:CNN-Logger:Epoch: 1, Loss: 0.11678603291511536\n",
            "INFO:CNN-Logger:Epoch 1, Accuracy of the model on the 2000 validation images: 96.55%\n",
            "INFO:CNN-Logger:Epoch: 2, Loss: 0.07085666060447693\n",
            "INFO:CNN-Logger:Epoch: 2, Loss: 0.016292011365294456\n",
            "INFO:CNN-Logger:Epoch: 2, Loss: 0.04826488718390465\n",
            "INFO:CNN-Logger:Epoch 2, Accuracy of the model on the 2000 validation images: 96.5%\n",
            "INFO:CNN-Logger:Epoch: 3, Loss: 0.020137270912528038\n",
            "INFO:CNN-Logger:Epoch: 3, Loss: 0.09969673305749893\n",
            "INFO:CNN-Logger:Epoch: 3, Loss: 0.03388528525829315\n",
            "INFO:CNN-Logger:Epoch 3, Accuracy of the model on the 2000 validation images: 97.0%\n",
            "INFO:CNN-Logger:Epoch: 4, Loss: 0.031539496034383774\n",
            "INFO:CNN-Logger:Epoch: 4, Loss: 0.04353778064250946\n",
            "INFO:CNN-Logger:Epoch: 4, Loss: 0.04008351266384125\n",
            "INFO:CNN-Logger:Epoch 4, Accuracy of the model on the 2000 validation images: 97.6%\n",
            "\u001b[32m[I 2022-10-24 16:11:18,484]\u001b[0m Trial 8 finished with value: 0.0006748782470822334 and parameters: {'learning_rate': 0.01360062842581809, 'batch_size': 128}. Best is trial 8 with value: 0.0006748782470822334.\u001b[0m\n"
          ]
        },
        {
          "output_type": "display_data",
          "data": {
            "text/plain": [
              "<IPython.core.display.HTML object>"
            ],
            "text/html": [
              "Waiting for W&B process to finish... <strong style=\"color:green\">(success).</strong>"
            ]
          },
          "metadata": {}
        },
        {
          "output_type": "display_data",
          "data": {
            "text/plain": [
              "VBox(children=(Label(value='0.355 MB of 0.355 MB uploaded (0.000 MB deduped)\\r'), FloatProgress(value=1.0, max…"
            ],
            "application/vnd.jupyter.widget-view+json": {
              "version_major": 2,
              "version_minor": 0,
              "model_id": "28a095f45a0742c0a76b0be317c178e6"
            }
          },
          "metadata": {}
        },
        {
          "output_type": "display_data",
          "data": {
            "text/plain": [
              "<IPython.core.display.HTML object>"
            ],
            "text/html": [
              "<style>\n",
              "    table.wandb td:nth-child(1) { padding: 0 10px; text-align: left ; width: auto;} td:nth-child(2) {text-align: left ; width: 100%}\n",
              "    .wandb-row { display: flex; flex-direction: row; flex-wrap: wrap; justify-content: flex-start; width: 100% }\n",
              "    .wandb-col { display: flex; flex-direction: column; flex-basis: 100%; flex: 1; padding: 10px; }\n",
              "    </style>\n",
              "<div class=\"wandb-row\"><div class=\"wandb-col\"><h3>Run history:</h3><br/><table class=\"wandb\"><tr><td>Train Metrics/loss</td><td>█▆▄▆▄▃▂▁▂▁▃▁▁▂▂</td></tr><tr><td>Validation Metrics/accuracy</td><td>▁▄▄▆█</td></tr><tr><td>Validation Metrics/loss</td><td>▅▂▄▃▇▅▂▄▃▅▃▄▁▃▃▂▂▂▄▃▃▃▃▆▂▃▁▄▄▂▄▃▁▃▃▃▂▁▄█</td></tr><tr><td>batch_size</td><td>▁</td></tr><tr><td>epoch</td><td>▁▁▁▁▁▁▁▁▃▃▃▃▃▃▃▃▅▅▅▅▅▅▅▅▆▆▆▆▆▆▆▆████████</td></tr><tr><td>learning_rate</td><td>▁</td></tr><tr><td>trial_number</td><td>▁</td></tr><tr><td>value</td><td>▁</td></tr></table><br/></div><div class=\"wandb-col\"><h3>Run summary:</h3><br/><table class=\"wandb\"><tr><td>Train Metrics/loss</td><td>0.04008</td></tr><tr><td>Validation Metrics/accuracy</td><td>0.976</td></tr><tr><td>Validation Metrics/loss</td><td>0.35578</td></tr><tr><td>batch_size</td><td>128</td></tr><tr><td>epoch</td><td>4</td></tr><tr><td>learning_rate</td><td>0.0136</td></tr><tr><td>trial_number</td><td>8</td></tr><tr><td>value</td><td>0.00067</td></tr></table><br/></div></div>"
            ]
          },
          "metadata": {}
        },
        {
          "output_type": "display_data",
          "data": {
            "text/plain": [
              "<IPython.core.display.HTML object>"
            ],
            "text/html": [
              "Synced <strong style=\"color:#cdcd00\">crisp-firefly-13</strong>: <a href=\"https://wandb.ai/tim-w/my-optuna-project-v5/runs/y05galkl\" target=\"_blank\">https://wandb.ai/tim-w/my-optuna-project-v5/runs/y05galkl</a><br/>Synced 5 W&B file(s), 0 media file(s), 3 artifact file(s) and 1 other file(s)"
            ]
          },
          "metadata": {}
        },
        {
          "output_type": "display_data",
          "data": {
            "text/plain": [
              "<IPython.core.display.HTML object>"
            ],
            "text/html": [
              "Find logs at: <code>./wandb/run-20221024_161041-y05galkl/logs</code>"
            ]
          },
          "metadata": {}
        },
        {
          "output_type": "display_data",
          "data": {
            "text/plain": [
              "<IPython.core.display.HTML object>"
            ],
            "text/html": [
              "Tracking run with wandb version 0.13.4"
            ]
          },
          "metadata": {}
        },
        {
          "output_type": "display_data",
          "data": {
            "text/plain": [
              "<IPython.core.display.HTML object>"
            ],
            "text/html": [
              "Run data is saved locally in <code>/content/wandb/run-20221024_161123-1f58arw0</code>"
            ]
          },
          "metadata": {}
        },
        {
          "output_type": "display_data",
          "data": {
            "text/plain": [
              "<IPython.core.display.HTML object>"
            ],
            "text/html": [
              "Syncing run <strong><a href=\"https://wandb.ai/tim-w/my-optuna-project-v5/runs/1f58arw0\" target=\"_blank\">swift-grass-14</a></strong> to <a href=\"https://wandb.ai/tim-w/my-optuna-project-v5\" target=\"_blank\">Weights & Biases</a> (<a href=\"https://wandb.me/run\" target=\"_blank\">docs</a>)<br/>"
            ]
          },
          "metadata": {}
        },
        {
          "output_type": "display_data",
          "data": {
            "text/plain": [
              "  0%|          | 0/5 [00:00<?, ?it/s]"
            ],
            "application/vnd.jupyter.widget-view+json": {
              "version_major": 2,
              "version_minor": 0,
              "model_id": "a8ceb4e5578a4f0eb9a1ff6f8c2b08b9"
            }
          },
          "metadata": {}
        },
        {
          "output_type": "stream",
          "name": "stderr",
          "text": [
            "INFO:CNN-Logger:Epoch: 0, Loss: 0.33528223633766174\n",
            "INFO:CNN-Logger:Epoch: 0, Loss: 0.1397526115179062\n",
            "INFO:CNN-Logger:Epoch: 0, Loss: 0.07320921123027802\n",
            "INFO:CNN-Logger:Epoch 0, Accuracy of the model on the 2000 validation images: 94.8%\n",
            "INFO:CNN-Logger:Epoch: 1, Loss: 0.1139756292104721\n",
            "INFO:CNN-Logger:Epoch: 1, Loss: 0.03201408311724663\n",
            "INFO:CNN-Logger:Epoch: 1, Loss: 0.06809043884277344\n",
            "INFO:CNN-Logger:Epoch 1, Accuracy of the model on the 2000 validation images: 95.9%\n",
            "INFO:CNN-Logger:Epoch: 2, Loss: 0.027186453342437744\n",
            "INFO:CNN-Logger:Epoch: 2, Loss: 0.09580682963132858\n",
            "INFO:CNN-Logger:Epoch: 2, Loss: 0.020073655992746353\n",
            "INFO:CNN-Logger:Epoch 2, Accuracy of the model on the 2000 validation images: 96.8%\n",
            "INFO:CNN-Logger:Epoch: 3, Loss: 0.033711690455675125\n",
            "INFO:CNN-Logger:Epoch: 3, Loss: 0.03615190088748932\n",
            "INFO:CNN-Logger:Epoch: 3, Loss: 0.05919386073946953\n",
            "INFO:CNN-Logger:Epoch 3, Accuracy of the model on the 2000 validation images: 97.2%\n",
            "INFO:CNN-Logger:Epoch: 4, Loss: 0.02731422707438469\n",
            "INFO:CNN-Logger:Epoch: 4, Loss: 0.011081567034125328\n",
            "INFO:CNN-Logger:Epoch: 4, Loss: 0.04821104556322098\n",
            "INFO:CNN-Logger:Epoch 4, Accuracy of the model on the 2000 validation images: 97.25%\n",
            "\u001b[32m[I 2022-10-24 16:12:01,501]\u001b[0m Trial 9 finished with value: 0.0007663522846996784 and parameters: {'learning_rate': 0.013377340669438246, 'batch_size': 256}. Best is trial 8 with value: 0.0006748782470822334.\u001b[0m\n"
          ]
        },
        {
          "output_type": "display_data",
          "data": {
            "text/plain": [
              "<IPython.core.display.HTML object>"
            ],
            "text/html": [
              "Waiting for W&B process to finish... <strong style=\"color:green\">(success).</strong>"
            ]
          },
          "metadata": {}
        },
        {
          "output_type": "display_data",
          "data": {
            "text/plain": [
              "<IPython.core.display.HTML object>"
            ],
            "text/html": [
              "<style>\n",
              "    table.wandb td:nth-child(1) { padding: 0 10px; text-align: left ; width: auto;} td:nth-child(2) {text-align: left ; width: 100%}\n",
              "    .wandb-row { display: flex; flex-direction: row; flex-wrap: wrap; justify-content: flex-start; width: 100% }\n",
              "    .wandb-col { display: flex; flex-direction: column; flex-basis: 100%; flex: 1; padding: 10px; }\n",
              "    </style>\n",
              "<div class=\"wandb-row\"><div class=\"wandb-col\"><h3>Run history:</h3><br/><table class=\"wandb\"><tr><td>Train Metrics/loss</td><td>█▄▂▃▁▂▁▃▁▁▂▂▁▁▂</td></tr><tr><td>Validation Metrics/accuracy</td><td>▁▄▇██</td></tr><tr><td>Validation Metrics/loss</td><td>▃▄▄▃▄▄█▂▄▂▂▃▂▂▃▅▂▂▂▃▃▃▃▇▅▂▁▃▁▂▂▃▂▂▃▂▂▃▁▃</td></tr><tr><td>batch_size</td><td>▁</td></tr><tr><td>epoch</td><td>▁▁▁▁▁▁▁▁▃▃▃▃▃▃▃▃▅▅▅▅▅▅▅▅▆▆▆▆▆▆▆▆████████</td></tr><tr><td>learning_rate</td><td>▁</td></tr><tr><td>trial_number</td><td>▁</td></tr><tr><td>value</td><td>▁</td></tr></table><br/></div><div class=\"wandb-col\"><h3>Run summary:</h3><br/><table class=\"wandb\"><tr><td>Train Metrics/loss</td><td>0.04821</td></tr><tr><td>Validation Metrics/accuracy</td><td>0.9725</td></tr><tr><td>Validation Metrics/loss</td><td>0.09453</td></tr><tr><td>batch_size</td><td>256</td></tr><tr><td>epoch</td><td>4</td></tr><tr><td>learning_rate</td><td>0.01338</td></tr><tr><td>trial_number</td><td>9</td></tr><tr><td>value</td><td>0.00077</td></tr></table><br/></div></div>"
            ]
          },
          "metadata": {}
        },
        {
          "output_type": "display_data",
          "data": {
            "text/plain": [
              "<IPython.core.display.HTML object>"
            ],
            "text/html": [
              "Synced <strong style=\"color:#cdcd00\">swift-grass-14</strong>: <a href=\"https://wandb.ai/tim-w/my-optuna-project-v5/runs/1f58arw0\" target=\"_blank\">https://wandb.ai/tim-w/my-optuna-project-v5/runs/1f58arw0</a><br/>Synced 5 W&B file(s), 0 media file(s), 3 artifact file(s) and 1 other file(s)"
            ]
          },
          "metadata": {}
        },
        {
          "output_type": "display_data",
          "data": {
            "text/plain": [
              "<IPython.core.display.HTML object>"
            ],
            "text/html": [
              "Find logs at: <code>./wandb/run-20221024_161123-1f58arw0/logs</code>"
            ]
          },
          "metadata": {}
        }
      ]
    },
    {
      "cell_type": "code",
      "source": [],
      "metadata": {
        "id": "0t01AYZjn1Ag"
      },
      "execution_count": null,
      "outputs": []
    },
    {
      "cell_type": "code",
      "source": [],
      "metadata": {
        "id": "Xm9ULiTNn09H"
      },
      "execution_count": null,
      "outputs": []
    },
    {
      "cell_type": "code",
      "source": [],
      "metadata": {
        "id": "p4TwnHgsn06Q"
      },
      "execution_count": null,
      "outputs": []
    },
    {
      "cell_type": "code",
      "source": [],
      "metadata": {
        "id": "_3GOWFhtn02o"
      },
      "execution_count": null,
      "outputs": []
    },
    {
      "cell_type": "markdown",
      "source": [
        "## Use API to interact with W&B"
      ],
      "metadata": {
        "id": "HCT2DLkTMS44"
      }
    },
    {
      "cell_type": "code",
      "source": [
        "import pandas as pd\n",
        "import wandb\n",
        "api = wandb.Api()\n",
        "sweep = api.sweep(f\"{entity}/{project_name}/{sweep_id}\")\n",
        "temp_data = []\n",
        "for r in sweep.runs:\n",
        " temp_dict = dict(**dict(r.summary), **r.config)\n",
        " temp_dict[\"run_id\"] = r.id\n",
        " temp_dict[\"run_name\"] = r.name\n",
        " temp_data.append( temp_dict)\n",
        "df = pd.DataFrame(temp_data)\n",
        "df.set_index(\"run_id\", inplace = True)\n",
        "best_run_id = sweep.best_run().id\n",
        "best_run = api.run(f\"{entity}/{project_name}/{best_run_id}\")\n",
        "df.loc[best_run_id]"
      ],
      "metadata": {
        "id": "pRB9k4PapYE9",
        "colab": {
          "base_uri": "https://localhost:8080/"
        },
        "outputId": "e6c8506a-d54d-48d6-fa73-51d505dfe6cb"
      },
      "execution_count": null,
      "outputs": [
        {
          "output_type": "stream",
          "name": "stderr",
          "text": [
            "\u001b[34m\u001b[1mwandb\u001b[0m: Sorting runs by +summary_metrics.Validation Metrics/loss\n"
          ]
        },
        {
          "output_type": "execute_result",
          "data": {
            "text/plain": [
              "_timestamp                     1663081318.589144\n",
              "Train Metrics/loss                      0.254352\n",
              "Validation Metrics/loss                 0.002262\n",
              "Validation Metrics/accuracy                0.979\n",
              "_step                                         99\n",
              "epoch                                          4\n",
              "_wandb                           {'runtime': 41}\n",
              "_runtime                               42.174489\n",
              "epochs                                         5\n",
              "classes                                       10\n",
              "dataset                                    MNIST\n",
              "kernels                                 [16, 32]\n",
              "batch_size                                   128\n",
              "architecture                                 CNN\n",
              "learning_rate                              0.005\n",
              "run_name                         valiant-sweep-4\n",
              "Name: 5o6kh8ef, dtype: object"
            ]
          },
          "metadata": {},
          "execution_count": 18
        }
      ]
    },
    {
      "cell_type": "code",
      "source": [
        "import os\n",
        "os.kill(os.getpid(), 9)"
      ],
      "metadata": {
        "id": "nni5oeNLBO6b"
      },
      "execution_count": null,
      "outputs": []
    },
    {
      "cell_type": "code",
      "source": [
        "project_name = \"demos\" #@param {type: \"string\"}\n",
        "entity = \"tim-w\" #@param {type: \"string\"}\n"
      ],
      "metadata": {
        "id": "wsL-ivs1T3YW"
      },
      "execution_count": null,
      "outputs": []
    },
    {
      "cell_type": "code",
      "source": [
        "import pandas as pd\n",
        "import wandb\n",
        "api = wandb.Api()\n",
        "sweep = api.sweep(f\"{entity}/{project_name}/{sweep_id}\")\n",
        "temp_data = []\n",
        "for r in sweep.runs:\n",
        " temp_dict = dict(**dict(r.summary), **r.config)\n",
        " temp_dict[\"run_id\"] = r.id\n",
        " temp_dict[\"run_name\"] = r.name\n",
        " temp_data.append( temp_dict)\n",
        "df = pd.DataFrame(temp_data)\n",
        "df.set_index(\"run_id\", inplace = True)\n",
        "best_run_id = sweep.best_run().id\n",
        "best_run = api.run(f\"{entity}/{project_name}/{best_run_id}\")\n",
        "df.loc[best_run_id]"
      ],
      "metadata": {
        "id": "4qW87yYuT8XT"
      },
      "execution_count": null,
      "outputs": []
    }
  ]
}