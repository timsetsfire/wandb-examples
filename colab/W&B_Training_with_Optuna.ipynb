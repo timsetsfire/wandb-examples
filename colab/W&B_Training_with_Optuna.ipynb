{
  "nbformat": 4,
  "nbformat_minor": 0,
  "metadata": {
    "colab": {
      "name": "W&B Training.ipynb",
      "provenance": [],
      "collapsed_sections": [],
      "authorship_tag": "ABX9TyMXqcudjeZjLMAgCIIyI5yi",
      "include_colab_link": true
    },
    "kernelspec": {
      "name": "python3",
      "display_name": "Python 3"
    },
    "language_info": {
      "name": "python"
    },
    "widgets": {
      "application/vnd.jupyter.widget-state+json": {
        "51000826f16e431685dd38a648fa5133": {
          "model_module": "@jupyter-widgets/controls",
          "model_name": "VBoxModel",
          "model_module_version": "1.5.0",
          "state": {
            "_dom_classes": [],
            "_model_module": "@jupyter-widgets/controls",
            "_model_module_version": "1.5.0",
            "_model_name": "VBoxModel",
            "_view_count": null,
            "_view_module": "@jupyter-widgets/controls",
            "_view_module_version": "1.5.0",
            "_view_name": "VBoxView",
            "box_style": "",
            "children": [
              "IPY_MODEL_734bce62f7ce4a639b6cbc7298ea9bc6",
              "IPY_MODEL_9fee3e4fa3934c96b11ba96395eb1f99"
            ],
            "layout": "IPY_MODEL_d6e3183de1a04a5c85945d1ef9e82654"
          }
        },
        "734bce62f7ce4a639b6cbc7298ea9bc6": {
          "model_module": "@jupyter-widgets/controls",
          "model_name": "LabelModel",
          "model_module_version": "1.5.0",
          "state": {
            "_dom_classes": [],
            "_model_module": "@jupyter-widgets/controls",
            "_model_module_version": "1.5.0",
            "_model_name": "LabelModel",
            "_view_count": null,
            "_view_module": "@jupyter-widgets/controls",
            "_view_module_version": "1.5.0",
            "_view_name": "LabelView",
            "description": "",
            "description_tooltip": null,
            "layout": "IPY_MODEL_5f813a6d218141e0a4dac2bb8b81182d",
            "placeholder": "​",
            "style": "IPY_MODEL_a4fd289bd72849f89b2be2e4b9e0e0cd",
            "value": "0.303 MB of 0.303 MB uploaded (0.000 MB deduped)\r"
          }
        },
        "9fee3e4fa3934c96b11ba96395eb1f99": {
          "model_module": "@jupyter-widgets/controls",
          "model_name": "FloatProgressModel",
          "model_module_version": "1.5.0",
          "state": {
            "_dom_classes": [],
            "_model_module": "@jupyter-widgets/controls",
            "_model_module_version": "1.5.0",
            "_model_name": "FloatProgressModel",
            "_view_count": null,
            "_view_module": "@jupyter-widgets/controls",
            "_view_module_version": "1.5.0",
            "_view_name": "ProgressView",
            "bar_style": "",
            "description": "",
            "description_tooltip": null,
            "layout": "IPY_MODEL_ea5b5195b77f4be18624c6bb5b639e3e",
            "max": 1,
            "min": 0,
            "orientation": "horizontal",
            "style": "IPY_MODEL_235c504b7bfa40ff8cc8a76aae813990",
            "value": 1
          }
        },
        "d6e3183de1a04a5c85945d1ef9e82654": {
          "model_module": "@jupyter-widgets/base",
          "model_name": "LayoutModel",
          "model_module_version": "1.2.0",
          "state": {
            "_model_module": "@jupyter-widgets/base",
            "_model_module_version": "1.2.0",
            "_model_name": "LayoutModel",
            "_view_count": null,
            "_view_module": "@jupyter-widgets/base",
            "_view_module_version": "1.2.0",
            "_view_name": "LayoutView",
            "align_content": null,
            "align_items": null,
            "align_self": null,
            "border": null,
            "bottom": null,
            "display": null,
            "flex": null,
            "flex_flow": null,
            "grid_area": null,
            "grid_auto_columns": null,
            "grid_auto_flow": null,
            "grid_auto_rows": null,
            "grid_column": null,
            "grid_gap": null,
            "grid_row": null,
            "grid_template_areas": null,
            "grid_template_columns": null,
            "grid_template_rows": null,
            "height": null,
            "justify_content": null,
            "justify_items": null,
            "left": null,
            "margin": null,
            "max_height": null,
            "max_width": null,
            "min_height": null,
            "min_width": null,
            "object_fit": null,
            "object_position": null,
            "order": null,
            "overflow": null,
            "overflow_x": null,
            "overflow_y": null,
            "padding": null,
            "right": null,
            "top": null,
            "visibility": null,
            "width": null
          }
        },
        "5f813a6d218141e0a4dac2bb8b81182d": {
          "model_module": "@jupyter-widgets/base",
          "model_name": "LayoutModel",
          "model_module_version": "1.2.0",
          "state": {
            "_model_module": "@jupyter-widgets/base",
            "_model_module_version": "1.2.0",
            "_model_name": "LayoutModel",
            "_view_count": null,
            "_view_module": "@jupyter-widgets/base",
            "_view_module_version": "1.2.0",
            "_view_name": "LayoutView",
            "align_content": null,
            "align_items": null,
            "align_self": null,
            "border": null,
            "bottom": null,
            "display": null,
            "flex": null,
            "flex_flow": null,
            "grid_area": null,
            "grid_auto_columns": null,
            "grid_auto_flow": null,
            "grid_auto_rows": null,
            "grid_column": null,
            "grid_gap": null,
            "grid_row": null,
            "grid_template_areas": null,
            "grid_template_columns": null,
            "grid_template_rows": null,
            "height": null,
            "justify_content": null,
            "justify_items": null,
            "left": null,
            "margin": null,
            "max_height": null,
            "max_width": null,
            "min_height": null,
            "min_width": null,
            "object_fit": null,
            "object_position": null,
            "order": null,
            "overflow": null,
            "overflow_x": null,
            "overflow_y": null,
            "padding": null,
            "right": null,
            "top": null,
            "visibility": null,
            "width": null
          }
        },
        "a4fd289bd72849f89b2be2e4b9e0e0cd": {
          "model_module": "@jupyter-widgets/controls",
          "model_name": "DescriptionStyleModel",
          "model_module_version": "1.5.0",
          "state": {
            "_model_module": "@jupyter-widgets/controls",
            "_model_module_version": "1.5.0",
            "_model_name": "DescriptionStyleModel",
            "_view_count": null,
            "_view_module": "@jupyter-widgets/base",
            "_view_module_version": "1.2.0",
            "_view_name": "StyleView",
            "description_width": ""
          }
        },
        "ea5b5195b77f4be18624c6bb5b639e3e": {
          "model_module": "@jupyter-widgets/base",
          "model_name": "LayoutModel",
          "model_module_version": "1.2.0",
          "state": {
            "_model_module": "@jupyter-widgets/base",
            "_model_module_version": "1.2.0",
            "_model_name": "LayoutModel",
            "_view_count": null,
            "_view_module": "@jupyter-widgets/base",
            "_view_module_version": "1.2.0",
            "_view_name": "LayoutView",
            "align_content": null,
            "align_items": null,
            "align_self": null,
            "border": null,
            "bottom": null,
            "display": null,
            "flex": null,
            "flex_flow": null,
            "grid_area": null,
            "grid_auto_columns": null,
            "grid_auto_flow": null,
            "grid_auto_rows": null,
            "grid_column": null,
            "grid_gap": null,
            "grid_row": null,
            "grid_template_areas": null,
            "grid_template_columns": null,
            "grid_template_rows": null,
            "height": null,
            "justify_content": null,
            "justify_items": null,
            "left": null,
            "margin": null,
            "max_height": null,
            "max_width": null,
            "min_height": null,
            "min_width": null,
            "object_fit": null,
            "object_position": null,
            "order": null,
            "overflow": null,
            "overflow_x": null,
            "overflow_y": null,
            "padding": null,
            "right": null,
            "top": null,
            "visibility": null,
            "width": null
          }
        },
        "235c504b7bfa40ff8cc8a76aae813990": {
          "model_module": "@jupyter-widgets/controls",
          "model_name": "ProgressStyleModel",
          "model_module_version": "1.5.0",
          "state": {
            "_model_module": "@jupyter-widgets/controls",
            "_model_module_version": "1.5.0",
            "_model_name": "ProgressStyleModel",
            "_view_count": null,
            "_view_module": "@jupyter-widgets/base",
            "_view_module_version": "1.2.0",
            "_view_name": "StyleView",
            "bar_color": null,
            "description_width": ""
          }
        },
        "3e54ef8441fc479aa46340856d507c68": {
          "model_module": "@jupyter-widgets/controls",
          "model_name": "HBoxModel",
          "model_module_version": "1.5.0",
          "state": {
            "_dom_classes": [],
            "_model_module": "@jupyter-widgets/controls",
            "_model_module_version": "1.5.0",
            "_model_name": "HBoxModel",
            "_view_count": null,
            "_view_module": "@jupyter-widgets/controls",
            "_view_module_version": "1.5.0",
            "_view_name": "HBoxView",
            "box_style": "",
            "children": [
              "IPY_MODEL_3d4975471eb24913bef9d779eaa6c75b",
              "IPY_MODEL_ec20c755edd5429b968dd372962542a6",
              "IPY_MODEL_0500eddabad64d239fdb60704b9ddd88"
            ],
            "layout": "IPY_MODEL_5218d8c624f6432ab804a59e66f480b2"
          }
        },
        "3d4975471eb24913bef9d779eaa6c75b": {
          "model_module": "@jupyter-widgets/controls",
          "model_name": "HTMLModel",
          "model_module_version": "1.5.0",
          "state": {
            "_dom_classes": [],
            "_model_module": "@jupyter-widgets/controls",
            "_model_module_version": "1.5.0",
            "_model_name": "HTMLModel",
            "_view_count": null,
            "_view_module": "@jupyter-widgets/controls",
            "_view_module_version": "1.5.0",
            "_view_name": "HTMLView",
            "description": "",
            "description_tooltip": null,
            "layout": "IPY_MODEL_0334a1ae434f420c80e0f75c7b994c31",
            "placeholder": "​",
            "style": "IPY_MODEL_0baf29b4010148bf84dee9dd3f819219",
            "value": "100%"
          }
        },
        "ec20c755edd5429b968dd372962542a6": {
          "model_module": "@jupyter-widgets/controls",
          "model_name": "FloatProgressModel",
          "model_module_version": "1.5.0",
          "state": {
            "_dom_classes": [],
            "_model_module": "@jupyter-widgets/controls",
            "_model_module_version": "1.5.0",
            "_model_name": "FloatProgressModel",
            "_view_count": null,
            "_view_module": "@jupyter-widgets/controls",
            "_view_module_version": "1.5.0",
            "_view_name": "ProgressView",
            "bar_style": "success",
            "description": "",
            "description_tooltip": null,
            "layout": "IPY_MODEL_5350c0040b374708bb6990ea78e1d05c",
            "max": 5,
            "min": 0,
            "orientation": "horizontal",
            "style": "IPY_MODEL_52710056b68f48f294e8b8562f9652b6",
            "value": 5
          }
        },
        "0500eddabad64d239fdb60704b9ddd88": {
          "model_module": "@jupyter-widgets/controls",
          "model_name": "HTMLModel",
          "model_module_version": "1.5.0",
          "state": {
            "_dom_classes": [],
            "_model_module": "@jupyter-widgets/controls",
            "_model_module_version": "1.5.0",
            "_model_name": "HTMLModel",
            "_view_count": null,
            "_view_module": "@jupyter-widgets/controls",
            "_view_module_version": "1.5.0",
            "_view_name": "HTMLView",
            "description": "",
            "description_tooltip": null,
            "layout": "IPY_MODEL_73d208160d824c6195d650e2efb243e7",
            "placeholder": "​",
            "style": "IPY_MODEL_87e6ec3e18114eec8a791bd057a28a64",
            "value": " 5/5 [00:36&lt;00:00,  7.20s/it]"
          }
        },
        "5218d8c624f6432ab804a59e66f480b2": {
          "model_module": "@jupyter-widgets/base",
          "model_name": "LayoutModel",
          "model_module_version": "1.2.0",
          "state": {
            "_model_module": "@jupyter-widgets/base",
            "_model_module_version": "1.2.0",
            "_model_name": "LayoutModel",
            "_view_count": null,
            "_view_module": "@jupyter-widgets/base",
            "_view_module_version": "1.2.0",
            "_view_name": "LayoutView",
            "align_content": null,
            "align_items": null,
            "align_self": null,
            "border": null,
            "bottom": null,
            "display": null,
            "flex": null,
            "flex_flow": null,
            "grid_area": null,
            "grid_auto_columns": null,
            "grid_auto_flow": null,
            "grid_auto_rows": null,
            "grid_column": null,
            "grid_gap": null,
            "grid_row": null,
            "grid_template_areas": null,
            "grid_template_columns": null,
            "grid_template_rows": null,
            "height": null,
            "justify_content": null,
            "justify_items": null,
            "left": null,
            "margin": null,
            "max_height": null,
            "max_width": null,
            "min_height": null,
            "min_width": null,
            "object_fit": null,
            "object_position": null,
            "order": null,
            "overflow": null,
            "overflow_x": null,
            "overflow_y": null,
            "padding": null,
            "right": null,
            "top": null,
            "visibility": null,
            "width": null
          }
        },
        "0334a1ae434f420c80e0f75c7b994c31": {
          "model_module": "@jupyter-widgets/base",
          "model_name": "LayoutModel",
          "model_module_version": "1.2.0",
          "state": {
            "_model_module": "@jupyter-widgets/base",
            "_model_module_version": "1.2.0",
            "_model_name": "LayoutModel",
            "_view_count": null,
            "_view_module": "@jupyter-widgets/base",
            "_view_module_version": "1.2.0",
            "_view_name": "LayoutView",
            "align_content": null,
            "align_items": null,
            "align_self": null,
            "border": null,
            "bottom": null,
            "display": null,
            "flex": null,
            "flex_flow": null,
            "grid_area": null,
            "grid_auto_columns": null,
            "grid_auto_flow": null,
            "grid_auto_rows": null,
            "grid_column": null,
            "grid_gap": null,
            "grid_row": null,
            "grid_template_areas": null,
            "grid_template_columns": null,
            "grid_template_rows": null,
            "height": null,
            "justify_content": null,
            "justify_items": null,
            "left": null,
            "margin": null,
            "max_height": null,
            "max_width": null,
            "min_height": null,
            "min_width": null,
            "object_fit": null,
            "object_position": null,
            "order": null,
            "overflow": null,
            "overflow_x": null,
            "overflow_y": null,
            "padding": null,
            "right": null,
            "top": null,
            "visibility": null,
            "width": null
          }
        },
        "0baf29b4010148bf84dee9dd3f819219": {
          "model_module": "@jupyter-widgets/controls",
          "model_name": "DescriptionStyleModel",
          "model_module_version": "1.5.0",
          "state": {
            "_model_module": "@jupyter-widgets/controls",
            "_model_module_version": "1.5.0",
            "_model_name": "DescriptionStyleModel",
            "_view_count": null,
            "_view_module": "@jupyter-widgets/base",
            "_view_module_version": "1.2.0",
            "_view_name": "StyleView",
            "description_width": ""
          }
        },
        "5350c0040b374708bb6990ea78e1d05c": {
          "model_module": "@jupyter-widgets/base",
          "model_name": "LayoutModel",
          "model_module_version": "1.2.0",
          "state": {
            "_model_module": "@jupyter-widgets/base",
            "_model_module_version": "1.2.0",
            "_model_name": "LayoutModel",
            "_view_count": null,
            "_view_module": "@jupyter-widgets/base",
            "_view_module_version": "1.2.0",
            "_view_name": "LayoutView",
            "align_content": null,
            "align_items": null,
            "align_self": null,
            "border": null,
            "bottom": null,
            "display": null,
            "flex": null,
            "flex_flow": null,
            "grid_area": null,
            "grid_auto_columns": null,
            "grid_auto_flow": null,
            "grid_auto_rows": null,
            "grid_column": null,
            "grid_gap": null,
            "grid_row": null,
            "grid_template_areas": null,
            "grid_template_columns": null,
            "grid_template_rows": null,
            "height": null,
            "justify_content": null,
            "justify_items": null,
            "left": null,
            "margin": null,
            "max_height": null,
            "max_width": null,
            "min_height": null,
            "min_width": null,
            "object_fit": null,
            "object_position": null,
            "order": null,
            "overflow": null,
            "overflow_x": null,
            "overflow_y": null,
            "padding": null,
            "right": null,
            "top": null,
            "visibility": null,
            "width": null
          }
        },
        "52710056b68f48f294e8b8562f9652b6": {
          "model_module": "@jupyter-widgets/controls",
          "model_name": "ProgressStyleModel",
          "model_module_version": "1.5.0",
          "state": {
            "_model_module": "@jupyter-widgets/controls",
            "_model_module_version": "1.5.0",
            "_model_name": "ProgressStyleModel",
            "_view_count": null,
            "_view_module": "@jupyter-widgets/base",
            "_view_module_version": "1.2.0",
            "_view_name": "StyleView",
            "bar_color": null,
            "description_width": ""
          }
        },
        "73d208160d824c6195d650e2efb243e7": {
          "model_module": "@jupyter-widgets/base",
          "model_name": "LayoutModel",
          "model_module_version": "1.2.0",
          "state": {
            "_model_module": "@jupyter-widgets/base",
            "_model_module_version": "1.2.0",
            "_model_name": "LayoutModel",
            "_view_count": null,
            "_view_module": "@jupyter-widgets/base",
            "_view_module_version": "1.2.0",
            "_view_name": "LayoutView",
            "align_content": null,
            "align_items": null,
            "align_self": null,
            "border": null,
            "bottom": null,
            "display": null,
            "flex": null,
            "flex_flow": null,
            "grid_area": null,
            "grid_auto_columns": null,
            "grid_auto_flow": null,
            "grid_auto_rows": null,
            "grid_column": null,
            "grid_gap": null,
            "grid_row": null,
            "grid_template_areas": null,
            "grid_template_columns": null,
            "grid_template_rows": null,
            "height": null,
            "justify_content": null,
            "justify_items": null,
            "left": null,
            "margin": null,
            "max_height": null,
            "max_width": null,
            "min_height": null,
            "min_width": null,
            "object_fit": null,
            "object_position": null,
            "order": null,
            "overflow": null,
            "overflow_x": null,
            "overflow_y": null,
            "padding": null,
            "right": null,
            "top": null,
            "visibility": null,
            "width": null
          }
        },
        "87e6ec3e18114eec8a791bd057a28a64": {
          "model_module": "@jupyter-widgets/controls",
          "model_name": "DescriptionStyleModel",
          "model_module_version": "1.5.0",
          "state": {
            "_model_module": "@jupyter-widgets/controls",
            "_model_module_version": "1.5.0",
            "_model_name": "DescriptionStyleModel",
            "_view_count": null,
            "_view_module": "@jupyter-widgets/base",
            "_view_module_version": "1.2.0",
            "_view_name": "StyleView",
            "description_width": ""
          }
        },
        "1bd2edad2fb345ceb8e768ebff29abbc": {
          "model_module": "@jupyter-widgets/controls",
          "model_name": "VBoxModel",
          "model_module_version": "1.5.0",
          "state": {
            "_dom_classes": [],
            "_model_module": "@jupyter-widgets/controls",
            "_model_module_version": "1.5.0",
            "_model_name": "VBoxModel",
            "_view_count": null,
            "_view_module": "@jupyter-widgets/controls",
            "_view_module_version": "1.5.0",
            "_view_name": "VBoxView",
            "box_style": "",
            "children": [
              "IPY_MODEL_c58550288db44bac9ca4acb753827d16",
              "IPY_MODEL_eb6d362730634c48a68ae85946567a6b"
            ],
            "layout": "IPY_MODEL_a41e991891364537ac055d85d06fa8d8"
          }
        },
        "c58550288db44bac9ca4acb753827d16": {
          "model_module": "@jupyter-widgets/controls",
          "model_name": "LabelModel",
          "model_module_version": "1.5.0",
          "state": {
            "_dom_classes": [],
            "_model_module": "@jupyter-widgets/controls",
            "_model_module_version": "1.5.0",
            "_model_name": "LabelModel",
            "_view_count": null,
            "_view_module": "@jupyter-widgets/controls",
            "_view_module_version": "1.5.0",
            "_view_name": "LabelView",
            "description": "",
            "description_tooltip": null,
            "layout": "IPY_MODEL_b999fb389749428296635b6b22f04190",
            "placeholder": "​",
            "style": "IPY_MODEL_f020519d7d41474cb18bcb7ac673ba65",
            "value": "0.210 MB of 0.210 MB uploaded (0.000 MB deduped)\r"
          }
        },
        "eb6d362730634c48a68ae85946567a6b": {
          "model_module": "@jupyter-widgets/controls",
          "model_name": "FloatProgressModel",
          "model_module_version": "1.5.0",
          "state": {
            "_dom_classes": [],
            "_model_module": "@jupyter-widgets/controls",
            "_model_module_version": "1.5.0",
            "_model_name": "FloatProgressModel",
            "_view_count": null,
            "_view_module": "@jupyter-widgets/controls",
            "_view_module_version": "1.5.0",
            "_view_name": "ProgressView",
            "bar_style": "",
            "description": "",
            "description_tooltip": null,
            "layout": "IPY_MODEL_303e8196157d454088112a6281e5564a",
            "max": 1,
            "min": 0,
            "orientation": "horizontal",
            "style": "IPY_MODEL_5a0fe2d766bd4cd6bd3aae868ce8b1d9",
            "value": 1
          }
        },
        "a41e991891364537ac055d85d06fa8d8": {
          "model_module": "@jupyter-widgets/base",
          "model_name": "LayoutModel",
          "model_module_version": "1.2.0",
          "state": {
            "_model_module": "@jupyter-widgets/base",
            "_model_module_version": "1.2.0",
            "_model_name": "LayoutModel",
            "_view_count": null,
            "_view_module": "@jupyter-widgets/base",
            "_view_module_version": "1.2.0",
            "_view_name": "LayoutView",
            "align_content": null,
            "align_items": null,
            "align_self": null,
            "border": null,
            "bottom": null,
            "display": null,
            "flex": null,
            "flex_flow": null,
            "grid_area": null,
            "grid_auto_columns": null,
            "grid_auto_flow": null,
            "grid_auto_rows": null,
            "grid_column": null,
            "grid_gap": null,
            "grid_row": null,
            "grid_template_areas": null,
            "grid_template_columns": null,
            "grid_template_rows": null,
            "height": null,
            "justify_content": null,
            "justify_items": null,
            "left": null,
            "margin": null,
            "max_height": null,
            "max_width": null,
            "min_height": null,
            "min_width": null,
            "object_fit": null,
            "object_position": null,
            "order": null,
            "overflow": null,
            "overflow_x": null,
            "overflow_y": null,
            "padding": null,
            "right": null,
            "top": null,
            "visibility": null,
            "width": null
          }
        },
        "b999fb389749428296635b6b22f04190": {
          "model_module": "@jupyter-widgets/base",
          "model_name": "LayoutModel",
          "model_module_version": "1.2.0",
          "state": {
            "_model_module": "@jupyter-widgets/base",
            "_model_module_version": "1.2.0",
            "_model_name": "LayoutModel",
            "_view_count": null,
            "_view_module": "@jupyter-widgets/base",
            "_view_module_version": "1.2.0",
            "_view_name": "LayoutView",
            "align_content": null,
            "align_items": null,
            "align_self": null,
            "border": null,
            "bottom": null,
            "display": null,
            "flex": null,
            "flex_flow": null,
            "grid_area": null,
            "grid_auto_columns": null,
            "grid_auto_flow": null,
            "grid_auto_rows": null,
            "grid_column": null,
            "grid_gap": null,
            "grid_row": null,
            "grid_template_areas": null,
            "grid_template_columns": null,
            "grid_template_rows": null,
            "height": null,
            "justify_content": null,
            "justify_items": null,
            "left": null,
            "margin": null,
            "max_height": null,
            "max_width": null,
            "min_height": null,
            "min_width": null,
            "object_fit": null,
            "object_position": null,
            "order": null,
            "overflow": null,
            "overflow_x": null,
            "overflow_y": null,
            "padding": null,
            "right": null,
            "top": null,
            "visibility": null,
            "width": null
          }
        },
        "f020519d7d41474cb18bcb7ac673ba65": {
          "model_module": "@jupyter-widgets/controls",
          "model_name": "DescriptionStyleModel",
          "model_module_version": "1.5.0",
          "state": {
            "_model_module": "@jupyter-widgets/controls",
            "_model_module_version": "1.5.0",
            "_model_name": "DescriptionStyleModel",
            "_view_count": null,
            "_view_module": "@jupyter-widgets/base",
            "_view_module_version": "1.2.0",
            "_view_name": "StyleView",
            "description_width": ""
          }
        },
        "303e8196157d454088112a6281e5564a": {
          "model_module": "@jupyter-widgets/base",
          "model_name": "LayoutModel",
          "model_module_version": "1.2.0",
          "state": {
            "_model_module": "@jupyter-widgets/base",
            "_model_module_version": "1.2.0",
            "_model_name": "LayoutModel",
            "_view_count": null,
            "_view_module": "@jupyter-widgets/base",
            "_view_module_version": "1.2.0",
            "_view_name": "LayoutView",
            "align_content": null,
            "align_items": null,
            "align_self": null,
            "border": null,
            "bottom": null,
            "display": null,
            "flex": null,
            "flex_flow": null,
            "grid_area": null,
            "grid_auto_columns": null,
            "grid_auto_flow": null,
            "grid_auto_rows": null,
            "grid_column": null,
            "grid_gap": null,
            "grid_row": null,
            "grid_template_areas": null,
            "grid_template_columns": null,
            "grid_template_rows": null,
            "height": null,
            "justify_content": null,
            "justify_items": null,
            "left": null,
            "margin": null,
            "max_height": null,
            "max_width": null,
            "min_height": null,
            "min_width": null,
            "object_fit": null,
            "object_position": null,
            "order": null,
            "overflow": null,
            "overflow_x": null,
            "overflow_y": null,
            "padding": null,
            "right": null,
            "top": null,
            "visibility": null,
            "width": null
          }
        },
        "5a0fe2d766bd4cd6bd3aae868ce8b1d9": {
          "model_module": "@jupyter-widgets/controls",
          "model_name": "ProgressStyleModel",
          "model_module_version": "1.5.0",
          "state": {
            "_model_module": "@jupyter-widgets/controls",
            "_model_module_version": "1.5.0",
            "_model_name": "ProgressStyleModel",
            "_view_count": null,
            "_view_module": "@jupyter-widgets/base",
            "_view_module_version": "1.2.0",
            "_view_name": "StyleView",
            "bar_color": null,
            "description_width": ""
          }
        },
        "1df541a2ba974129abdf8ff67339f5ec": {
          "model_module": "@jupyter-widgets/controls",
          "model_name": "HBoxModel",
          "model_module_version": "1.5.0",
          "state": {
            "_dom_classes": [],
            "_model_module": "@jupyter-widgets/controls",
            "_model_module_version": "1.5.0",
            "_model_name": "HBoxModel",
            "_view_count": null,
            "_view_module": "@jupyter-widgets/controls",
            "_view_module_version": "1.5.0",
            "_view_name": "HBoxView",
            "box_style": "",
            "children": [
              "IPY_MODEL_e4000b85e6724cdea8e1b569b4f4e0f1",
              "IPY_MODEL_79af2702fa564d2592ece6c39c7f89b2",
              "IPY_MODEL_24589cb8df664806b67488594e64b927"
            ],
            "layout": "IPY_MODEL_fff5a18328c8463aa425daea084392dd"
          }
        },
        "e4000b85e6724cdea8e1b569b4f4e0f1": {
          "model_module": "@jupyter-widgets/controls",
          "model_name": "HTMLModel",
          "model_module_version": "1.5.0",
          "state": {
            "_dom_classes": [],
            "_model_module": "@jupyter-widgets/controls",
            "_model_module_version": "1.5.0",
            "_model_name": "HTMLModel",
            "_view_count": null,
            "_view_module": "@jupyter-widgets/controls",
            "_view_module_version": "1.5.0",
            "_view_name": "HTMLView",
            "description": "",
            "description_tooltip": null,
            "layout": "IPY_MODEL_62f9e0f7e931491d89b4a75ee387f086",
            "placeholder": "​",
            "style": "IPY_MODEL_e71ed2f90ae44551a7ff995bd316966f",
            "value": "100%"
          }
        },
        "79af2702fa564d2592ece6c39c7f89b2": {
          "model_module": "@jupyter-widgets/controls",
          "model_name": "FloatProgressModel",
          "model_module_version": "1.5.0",
          "state": {
            "_dom_classes": [],
            "_model_module": "@jupyter-widgets/controls",
            "_model_module_version": "1.5.0",
            "_model_name": "FloatProgressModel",
            "_view_count": null,
            "_view_module": "@jupyter-widgets/controls",
            "_view_module_version": "1.5.0",
            "_view_name": "ProgressView",
            "bar_style": "success",
            "description": "",
            "description_tooltip": null,
            "layout": "IPY_MODEL_30f1a79f926f4c1fb80647bf7c6d2cb2",
            "max": 5,
            "min": 0,
            "orientation": "horizontal",
            "style": "IPY_MODEL_19d8ea79079c4886ac0087336a2b0551",
            "value": 5
          }
        },
        "24589cb8df664806b67488594e64b927": {
          "model_module": "@jupyter-widgets/controls",
          "model_name": "HTMLModel",
          "model_module_version": "1.5.0",
          "state": {
            "_dom_classes": [],
            "_model_module": "@jupyter-widgets/controls",
            "_model_module_version": "1.5.0",
            "_model_name": "HTMLModel",
            "_view_count": null,
            "_view_module": "@jupyter-widgets/controls",
            "_view_module_version": "1.5.0",
            "_view_name": "HTMLView",
            "description": "",
            "description_tooltip": null,
            "layout": "IPY_MODEL_3ab9ec4b187e42ce8619a5ca1455d8e8",
            "placeholder": "​",
            "style": "IPY_MODEL_74cda3ea4ac44fc9b4697f50632c54e1",
            "value": " 5/5 [00:36&lt;00:00,  7.35s/it]"
          }
        },
        "fff5a18328c8463aa425daea084392dd": {
          "model_module": "@jupyter-widgets/base",
          "model_name": "LayoutModel",
          "model_module_version": "1.2.0",
          "state": {
            "_model_module": "@jupyter-widgets/base",
            "_model_module_version": "1.2.0",
            "_model_name": "LayoutModel",
            "_view_count": null,
            "_view_module": "@jupyter-widgets/base",
            "_view_module_version": "1.2.0",
            "_view_name": "LayoutView",
            "align_content": null,
            "align_items": null,
            "align_self": null,
            "border": null,
            "bottom": null,
            "display": null,
            "flex": null,
            "flex_flow": null,
            "grid_area": null,
            "grid_auto_columns": null,
            "grid_auto_flow": null,
            "grid_auto_rows": null,
            "grid_column": null,
            "grid_gap": null,
            "grid_row": null,
            "grid_template_areas": null,
            "grid_template_columns": null,
            "grid_template_rows": null,
            "height": null,
            "justify_content": null,
            "justify_items": null,
            "left": null,
            "margin": null,
            "max_height": null,
            "max_width": null,
            "min_height": null,
            "min_width": null,
            "object_fit": null,
            "object_position": null,
            "order": null,
            "overflow": null,
            "overflow_x": null,
            "overflow_y": null,
            "padding": null,
            "right": null,
            "top": null,
            "visibility": null,
            "width": null
          }
        },
        "62f9e0f7e931491d89b4a75ee387f086": {
          "model_module": "@jupyter-widgets/base",
          "model_name": "LayoutModel",
          "model_module_version": "1.2.0",
          "state": {
            "_model_module": "@jupyter-widgets/base",
            "_model_module_version": "1.2.0",
            "_model_name": "LayoutModel",
            "_view_count": null,
            "_view_module": "@jupyter-widgets/base",
            "_view_module_version": "1.2.0",
            "_view_name": "LayoutView",
            "align_content": null,
            "align_items": null,
            "align_self": null,
            "border": null,
            "bottom": null,
            "display": null,
            "flex": null,
            "flex_flow": null,
            "grid_area": null,
            "grid_auto_columns": null,
            "grid_auto_flow": null,
            "grid_auto_rows": null,
            "grid_column": null,
            "grid_gap": null,
            "grid_row": null,
            "grid_template_areas": null,
            "grid_template_columns": null,
            "grid_template_rows": null,
            "height": null,
            "justify_content": null,
            "justify_items": null,
            "left": null,
            "margin": null,
            "max_height": null,
            "max_width": null,
            "min_height": null,
            "min_width": null,
            "object_fit": null,
            "object_position": null,
            "order": null,
            "overflow": null,
            "overflow_x": null,
            "overflow_y": null,
            "padding": null,
            "right": null,
            "top": null,
            "visibility": null,
            "width": null
          }
        },
        "e71ed2f90ae44551a7ff995bd316966f": {
          "model_module": "@jupyter-widgets/controls",
          "model_name": "DescriptionStyleModel",
          "model_module_version": "1.5.0",
          "state": {
            "_model_module": "@jupyter-widgets/controls",
            "_model_module_version": "1.5.0",
            "_model_name": "DescriptionStyleModel",
            "_view_count": null,
            "_view_module": "@jupyter-widgets/base",
            "_view_module_version": "1.2.0",
            "_view_name": "StyleView",
            "description_width": ""
          }
        },
        "30f1a79f926f4c1fb80647bf7c6d2cb2": {
          "model_module": "@jupyter-widgets/base",
          "model_name": "LayoutModel",
          "model_module_version": "1.2.0",
          "state": {
            "_model_module": "@jupyter-widgets/base",
            "_model_module_version": "1.2.0",
            "_model_name": "LayoutModel",
            "_view_count": null,
            "_view_module": "@jupyter-widgets/base",
            "_view_module_version": "1.2.0",
            "_view_name": "LayoutView",
            "align_content": null,
            "align_items": null,
            "align_self": null,
            "border": null,
            "bottom": null,
            "display": null,
            "flex": null,
            "flex_flow": null,
            "grid_area": null,
            "grid_auto_columns": null,
            "grid_auto_flow": null,
            "grid_auto_rows": null,
            "grid_column": null,
            "grid_gap": null,
            "grid_row": null,
            "grid_template_areas": null,
            "grid_template_columns": null,
            "grid_template_rows": null,
            "height": null,
            "justify_content": null,
            "justify_items": null,
            "left": null,
            "margin": null,
            "max_height": null,
            "max_width": null,
            "min_height": null,
            "min_width": null,
            "object_fit": null,
            "object_position": null,
            "order": null,
            "overflow": null,
            "overflow_x": null,
            "overflow_y": null,
            "padding": null,
            "right": null,
            "top": null,
            "visibility": null,
            "width": null
          }
        },
        "19d8ea79079c4886ac0087336a2b0551": {
          "model_module": "@jupyter-widgets/controls",
          "model_name": "ProgressStyleModel",
          "model_module_version": "1.5.0",
          "state": {
            "_model_module": "@jupyter-widgets/controls",
            "_model_module_version": "1.5.0",
            "_model_name": "ProgressStyleModel",
            "_view_count": null,
            "_view_module": "@jupyter-widgets/base",
            "_view_module_version": "1.2.0",
            "_view_name": "StyleView",
            "bar_color": null,
            "description_width": ""
          }
        },
        "3ab9ec4b187e42ce8619a5ca1455d8e8": {
          "model_module": "@jupyter-widgets/base",
          "model_name": "LayoutModel",
          "model_module_version": "1.2.0",
          "state": {
            "_model_module": "@jupyter-widgets/base",
            "_model_module_version": "1.2.0",
            "_model_name": "LayoutModel",
            "_view_count": null,
            "_view_module": "@jupyter-widgets/base",
            "_view_module_version": "1.2.0",
            "_view_name": "LayoutView",
            "align_content": null,
            "align_items": null,
            "align_self": null,
            "border": null,
            "bottom": null,
            "display": null,
            "flex": null,
            "flex_flow": null,
            "grid_area": null,
            "grid_auto_columns": null,
            "grid_auto_flow": null,
            "grid_auto_rows": null,
            "grid_column": null,
            "grid_gap": null,
            "grid_row": null,
            "grid_template_areas": null,
            "grid_template_columns": null,
            "grid_template_rows": null,
            "height": null,
            "justify_content": null,
            "justify_items": null,
            "left": null,
            "margin": null,
            "max_height": null,
            "max_width": null,
            "min_height": null,
            "min_width": null,
            "object_fit": null,
            "object_position": null,
            "order": null,
            "overflow": null,
            "overflow_x": null,
            "overflow_y": null,
            "padding": null,
            "right": null,
            "top": null,
            "visibility": null,
            "width": null
          }
        },
        "74cda3ea4ac44fc9b4697f50632c54e1": {
          "model_module": "@jupyter-widgets/controls",
          "model_name": "DescriptionStyleModel",
          "model_module_version": "1.5.0",
          "state": {
            "_model_module": "@jupyter-widgets/controls",
            "_model_module_version": "1.5.0",
            "_model_name": "DescriptionStyleModel",
            "_view_count": null,
            "_view_module": "@jupyter-widgets/base",
            "_view_module_version": "1.2.0",
            "_view_name": "StyleView",
            "description_width": ""
          }
        },
        "296765d2805d4079b899e98db7e031db": {
          "model_module": "@jupyter-widgets/controls",
          "model_name": "HBoxModel",
          "model_module_version": "1.5.0",
          "state": {
            "_dom_classes": [],
            "_model_module": "@jupyter-widgets/controls",
            "_model_module_version": "1.5.0",
            "_model_name": "HBoxModel",
            "_view_count": null,
            "_view_module": "@jupyter-widgets/controls",
            "_view_module_version": "1.5.0",
            "_view_name": "HBoxView",
            "box_style": "",
            "children": [
              "IPY_MODEL_5504c53f617b47d0844d9406471d0df5",
              "IPY_MODEL_650021d23b4340beb9a2b04c8f4020cd",
              "IPY_MODEL_a554b051e3c24f81b65812bce5bea726"
            ],
            "layout": "IPY_MODEL_e9f73dc06ad14a4b9eca1c4b3e24638e"
          }
        },
        "5504c53f617b47d0844d9406471d0df5": {
          "model_module": "@jupyter-widgets/controls",
          "model_name": "HTMLModel",
          "model_module_version": "1.5.0",
          "state": {
            "_dom_classes": [],
            "_model_module": "@jupyter-widgets/controls",
            "_model_module_version": "1.5.0",
            "_model_name": "HTMLModel",
            "_view_count": null,
            "_view_module": "@jupyter-widgets/controls",
            "_view_module_version": "1.5.0",
            "_view_name": "HTMLView",
            "description": "",
            "description_tooltip": null,
            "layout": "IPY_MODEL_9f6655cacba748a7854af9665085e9c3",
            "placeholder": "​",
            "style": "IPY_MODEL_7ea1fd324d4c4ce8836a1f44a4987b92",
            "value": "100%"
          }
        },
        "650021d23b4340beb9a2b04c8f4020cd": {
          "model_module": "@jupyter-widgets/controls",
          "model_name": "FloatProgressModel",
          "model_module_version": "1.5.0",
          "state": {
            "_dom_classes": [],
            "_model_module": "@jupyter-widgets/controls",
            "_model_module_version": "1.5.0",
            "_model_name": "FloatProgressModel",
            "_view_count": null,
            "_view_module": "@jupyter-widgets/controls",
            "_view_module_version": "1.5.0",
            "_view_name": "ProgressView",
            "bar_style": "success",
            "description": "",
            "description_tooltip": null,
            "layout": "IPY_MODEL_1b5f8b476fe247ec80115f377e2c879f",
            "max": 5,
            "min": 0,
            "orientation": "horizontal",
            "style": "IPY_MODEL_2eb64ee866b7475fac5fcd4a516c8197",
            "value": 5
          }
        },
        "a554b051e3c24f81b65812bce5bea726": {
          "model_module": "@jupyter-widgets/controls",
          "model_name": "HTMLModel",
          "model_module_version": "1.5.0",
          "state": {
            "_dom_classes": [],
            "_model_module": "@jupyter-widgets/controls",
            "_model_module_version": "1.5.0",
            "_model_name": "HTMLModel",
            "_view_count": null,
            "_view_module": "@jupyter-widgets/controls",
            "_view_module_version": "1.5.0",
            "_view_name": "HTMLView",
            "description": "",
            "description_tooltip": null,
            "layout": "IPY_MODEL_7282ea02f177408db0e0c873e6c4f42a",
            "placeholder": "​",
            "style": "IPY_MODEL_e091bbdaf26344e2afb3abb583756706",
            "value": " 5/5 [00:36&lt;00:00,  7.20s/it]"
          }
        },
        "e9f73dc06ad14a4b9eca1c4b3e24638e": {
          "model_module": "@jupyter-widgets/base",
          "model_name": "LayoutModel",
          "model_module_version": "1.2.0",
          "state": {
            "_model_module": "@jupyter-widgets/base",
            "_model_module_version": "1.2.0",
            "_model_name": "LayoutModel",
            "_view_count": null,
            "_view_module": "@jupyter-widgets/base",
            "_view_module_version": "1.2.0",
            "_view_name": "LayoutView",
            "align_content": null,
            "align_items": null,
            "align_self": null,
            "border": null,
            "bottom": null,
            "display": null,
            "flex": null,
            "flex_flow": null,
            "grid_area": null,
            "grid_auto_columns": null,
            "grid_auto_flow": null,
            "grid_auto_rows": null,
            "grid_column": null,
            "grid_gap": null,
            "grid_row": null,
            "grid_template_areas": null,
            "grid_template_columns": null,
            "grid_template_rows": null,
            "height": null,
            "justify_content": null,
            "justify_items": null,
            "left": null,
            "margin": null,
            "max_height": null,
            "max_width": null,
            "min_height": null,
            "min_width": null,
            "object_fit": null,
            "object_position": null,
            "order": null,
            "overflow": null,
            "overflow_x": null,
            "overflow_y": null,
            "padding": null,
            "right": null,
            "top": null,
            "visibility": null,
            "width": null
          }
        },
        "9f6655cacba748a7854af9665085e9c3": {
          "model_module": "@jupyter-widgets/base",
          "model_name": "LayoutModel",
          "model_module_version": "1.2.0",
          "state": {
            "_model_module": "@jupyter-widgets/base",
            "_model_module_version": "1.2.0",
            "_model_name": "LayoutModel",
            "_view_count": null,
            "_view_module": "@jupyter-widgets/base",
            "_view_module_version": "1.2.0",
            "_view_name": "LayoutView",
            "align_content": null,
            "align_items": null,
            "align_self": null,
            "border": null,
            "bottom": null,
            "display": null,
            "flex": null,
            "flex_flow": null,
            "grid_area": null,
            "grid_auto_columns": null,
            "grid_auto_flow": null,
            "grid_auto_rows": null,
            "grid_column": null,
            "grid_gap": null,
            "grid_row": null,
            "grid_template_areas": null,
            "grid_template_columns": null,
            "grid_template_rows": null,
            "height": null,
            "justify_content": null,
            "justify_items": null,
            "left": null,
            "margin": null,
            "max_height": null,
            "max_width": null,
            "min_height": null,
            "min_width": null,
            "object_fit": null,
            "object_position": null,
            "order": null,
            "overflow": null,
            "overflow_x": null,
            "overflow_y": null,
            "padding": null,
            "right": null,
            "top": null,
            "visibility": null,
            "width": null
          }
        },
        "7ea1fd324d4c4ce8836a1f44a4987b92": {
          "model_module": "@jupyter-widgets/controls",
          "model_name": "DescriptionStyleModel",
          "model_module_version": "1.5.0",
          "state": {
            "_model_module": "@jupyter-widgets/controls",
            "_model_module_version": "1.5.0",
            "_model_name": "DescriptionStyleModel",
            "_view_count": null,
            "_view_module": "@jupyter-widgets/base",
            "_view_module_version": "1.2.0",
            "_view_name": "StyleView",
            "description_width": ""
          }
        },
        "1b5f8b476fe247ec80115f377e2c879f": {
          "model_module": "@jupyter-widgets/base",
          "model_name": "LayoutModel",
          "model_module_version": "1.2.0",
          "state": {
            "_model_module": "@jupyter-widgets/base",
            "_model_module_version": "1.2.0",
            "_model_name": "LayoutModel",
            "_view_count": null,
            "_view_module": "@jupyter-widgets/base",
            "_view_module_version": "1.2.0",
            "_view_name": "LayoutView",
            "align_content": null,
            "align_items": null,
            "align_self": null,
            "border": null,
            "bottom": null,
            "display": null,
            "flex": null,
            "flex_flow": null,
            "grid_area": null,
            "grid_auto_columns": null,
            "grid_auto_flow": null,
            "grid_auto_rows": null,
            "grid_column": null,
            "grid_gap": null,
            "grid_row": null,
            "grid_template_areas": null,
            "grid_template_columns": null,
            "grid_template_rows": null,
            "height": null,
            "justify_content": null,
            "justify_items": null,
            "left": null,
            "margin": null,
            "max_height": null,
            "max_width": null,
            "min_height": null,
            "min_width": null,
            "object_fit": null,
            "object_position": null,
            "order": null,
            "overflow": null,
            "overflow_x": null,
            "overflow_y": null,
            "padding": null,
            "right": null,
            "top": null,
            "visibility": null,
            "width": null
          }
        },
        "2eb64ee866b7475fac5fcd4a516c8197": {
          "model_module": "@jupyter-widgets/controls",
          "model_name": "ProgressStyleModel",
          "model_module_version": "1.5.0",
          "state": {
            "_model_module": "@jupyter-widgets/controls",
            "_model_module_version": "1.5.0",
            "_model_name": "ProgressStyleModel",
            "_view_count": null,
            "_view_module": "@jupyter-widgets/base",
            "_view_module_version": "1.2.0",
            "_view_name": "StyleView",
            "bar_color": null,
            "description_width": ""
          }
        },
        "7282ea02f177408db0e0c873e6c4f42a": {
          "model_module": "@jupyter-widgets/base",
          "model_name": "LayoutModel",
          "model_module_version": "1.2.0",
          "state": {
            "_model_module": "@jupyter-widgets/base",
            "_model_module_version": "1.2.0",
            "_model_name": "LayoutModel",
            "_view_count": null,
            "_view_module": "@jupyter-widgets/base",
            "_view_module_version": "1.2.0",
            "_view_name": "LayoutView",
            "align_content": null,
            "align_items": null,
            "align_self": null,
            "border": null,
            "bottom": null,
            "display": null,
            "flex": null,
            "flex_flow": null,
            "grid_area": null,
            "grid_auto_columns": null,
            "grid_auto_flow": null,
            "grid_auto_rows": null,
            "grid_column": null,
            "grid_gap": null,
            "grid_row": null,
            "grid_template_areas": null,
            "grid_template_columns": null,
            "grid_template_rows": null,
            "height": null,
            "justify_content": null,
            "justify_items": null,
            "left": null,
            "margin": null,
            "max_height": null,
            "max_width": null,
            "min_height": null,
            "min_width": null,
            "object_fit": null,
            "object_position": null,
            "order": null,
            "overflow": null,
            "overflow_x": null,
            "overflow_y": null,
            "padding": null,
            "right": null,
            "top": null,
            "visibility": null,
            "width": null
          }
        },
        "e091bbdaf26344e2afb3abb583756706": {
          "model_module": "@jupyter-widgets/controls",
          "model_name": "DescriptionStyleModel",
          "model_module_version": "1.5.0",
          "state": {
            "_model_module": "@jupyter-widgets/controls",
            "_model_module_version": "1.5.0",
            "_model_name": "DescriptionStyleModel",
            "_view_count": null,
            "_view_module": "@jupyter-widgets/base",
            "_view_module_version": "1.2.0",
            "_view_name": "StyleView",
            "description_width": ""
          }
        },
        "477bd5a22775432985ef2d0a014c042f": {
          "model_module": "@jupyter-widgets/controls",
          "model_name": "HBoxModel",
          "model_module_version": "1.5.0",
          "state": {
            "_dom_classes": [],
            "_model_module": "@jupyter-widgets/controls",
            "_model_module_version": "1.5.0",
            "_model_name": "HBoxModel",
            "_view_count": null,
            "_view_module": "@jupyter-widgets/controls",
            "_view_module_version": "1.5.0",
            "_view_name": "HBoxView",
            "box_style": "",
            "children": [
              "IPY_MODEL_2c210bceda2440668bb4c0c71a3ff557",
              "IPY_MODEL_fa51a5fcdba9430fb632637b010f0f3d",
              "IPY_MODEL_032be152c125499ca717b60870bf9b0f"
            ],
            "layout": "IPY_MODEL_f1d869c3f99d4acebc5c7b2f4ee6587f"
          }
        },
        "2c210bceda2440668bb4c0c71a3ff557": {
          "model_module": "@jupyter-widgets/controls",
          "model_name": "HTMLModel",
          "model_module_version": "1.5.0",
          "state": {
            "_dom_classes": [],
            "_model_module": "@jupyter-widgets/controls",
            "_model_module_version": "1.5.0",
            "_model_name": "HTMLModel",
            "_view_count": null,
            "_view_module": "@jupyter-widgets/controls",
            "_view_module_version": "1.5.0",
            "_view_name": "HTMLView",
            "description": "",
            "description_tooltip": null,
            "layout": "IPY_MODEL_23a12b2fc8af49b49a3c1f1f636c7919",
            "placeholder": "​",
            "style": "IPY_MODEL_91f636ac19104e0ebd4c445fbccd77cb",
            "value": "100%"
          }
        },
        "fa51a5fcdba9430fb632637b010f0f3d": {
          "model_module": "@jupyter-widgets/controls",
          "model_name": "FloatProgressModel",
          "model_module_version": "1.5.0",
          "state": {
            "_dom_classes": [],
            "_model_module": "@jupyter-widgets/controls",
            "_model_module_version": "1.5.0",
            "_model_name": "FloatProgressModel",
            "_view_count": null,
            "_view_module": "@jupyter-widgets/controls",
            "_view_module_version": "1.5.0",
            "_view_name": "ProgressView",
            "bar_style": "success",
            "description": "",
            "description_tooltip": null,
            "layout": "IPY_MODEL_09450d82afc54212a62fbd0edc4d11fb",
            "max": 5,
            "min": 0,
            "orientation": "horizontal",
            "style": "IPY_MODEL_8eacb6cd7c704752bb223f99adc9a469",
            "value": 5
          }
        },
        "032be152c125499ca717b60870bf9b0f": {
          "model_module": "@jupyter-widgets/controls",
          "model_name": "HTMLModel",
          "model_module_version": "1.5.0",
          "state": {
            "_dom_classes": [],
            "_model_module": "@jupyter-widgets/controls",
            "_model_module_version": "1.5.0",
            "_model_name": "HTMLModel",
            "_view_count": null,
            "_view_module": "@jupyter-widgets/controls",
            "_view_module_version": "1.5.0",
            "_view_name": "HTMLView",
            "description": "",
            "description_tooltip": null,
            "layout": "IPY_MODEL_7c291cb04a714671af7b146dafed6e85",
            "placeholder": "​",
            "style": "IPY_MODEL_93c36cca56dc4b39ab302492780badb4",
            "value": " 5/5 [00:37&lt;00:00,  7.52s/it]"
          }
        },
        "f1d869c3f99d4acebc5c7b2f4ee6587f": {
          "model_module": "@jupyter-widgets/base",
          "model_name": "LayoutModel",
          "model_module_version": "1.2.0",
          "state": {
            "_model_module": "@jupyter-widgets/base",
            "_model_module_version": "1.2.0",
            "_model_name": "LayoutModel",
            "_view_count": null,
            "_view_module": "@jupyter-widgets/base",
            "_view_module_version": "1.2.0",
            "_view_name": "LayoutView",
            "align_content": null,
            "align_items": null,
            "align_self": null,
            "border": null,
            "bottom": null,
            "display": null,
            "flex": null,
            "flex_flow": null,
            "grid_area": null,
            "grid_auto_columns": null,
            "grid_auto_flow": null,
            "grid_auto_rows": null,
            "grid_column": null,
            "grid_gap": null,
            "grid_row": null,
            "grid_template_areas": null,
            "grid_template_columns": null,
            "grid_template_rows": null,
            "height": null,
            "justify_content": null,
            "justify_items": null,
            "left": null,
            "margin": null,
            "max_height": null,
            "max_width": null,
            "min_height": null,
            "min_width": null,
            "object_fit": null,
            "object_position": null,
            "order": null,
            "overflow": null,
            "overflow_x": null,
            "overflow_y": null,
            "padding": null,
            "right": null,
            "top": null,
            "visibility": null,
            "width": null
          }
        },
        "23a12b2fc8af49b49a3c1f1f636c7919": {
          "model_module": "@jupyter-widgets/base",
          "model_name": "LayoutModel",
          "model_module_version": "1.2.0",
          "state": {
            "_model_module": "@jupyter-widgets/base",
            "_model_module_version": "1.2.0",
            "_model_name": "LayoutModel",
            "_view_count": null,
            "_view_module": "@jupyter-widgets/base",
            "_view_module_version": "1.2.0",
            "_view_name": "LayoutView",
            "align_content": null,
            "align_items": null,
            "align_self": null,
            "border": null,
            "bottom": null,
            "display": null,
            "flex": null,
            "flex_flow": null,
            "grid_area": null,
            "grid_auto_columns": null,
            "grid_auto_flow": null,
            "grid_auto_rows": null,
            "grid_column": null,
            "grid_gap": null,
            "grid_row": null,
            "grid_template_areas": null,
            "grid_template_columns": null,
            "grid_template_rows": null,
            "height": null,
            "justify_content": null,
            "justify_items": null,
            "left": null,
            "margin": null,
            "max_height": null,
            "max_width": null,
            "min_height": null,
            "min_width": null,
            "object_fit": null,
            "object_position": null,
            "order": null,
            "overflow": null,
            "overflow_x": null,
            "overflow_y": null,
            "padding": null,
            "right": null,
            "top": null,
            "visibility": null,
            "width": null
          }
        },
        "91f636ac19104e0ebd4c445fbccd77cb": {
          "model_module": "@jupyter-widgets/controls",
          "model_name": "DescriptionStyleModel",
          "model_module_version": "1.5.0",
          "state": {
            "_model_module": "@jupyter-widgets/controls",
            "_model_module_version": "1.5.0",
            "_model_name": "DescriptionStyleModel",
            "_view_count": null,
            "_view_module": "@jupyter-widgets/base",
            "_view_module_version": "1.2.0",
            "_view_name": "StyleView",
            "description_width": ""
          }
        },
        "09450d82afc54212a62fbd0edc4d11fb": {
          "model_module": "@jupyter-widgets/base",
          "model_name": "LayoutModel",
          "model_module_version": "1.2.0",
          "state": {
            "_model_module": "@jupyter-widgets/base",
            "_model_module_version": "1.2.0",
            "_model_name": "LayoutModel",
            "_view_count": null,
            "_view_module": "@jupyter-widgets/base",
            "_view_module_version": "1.2.0",
            "_view_name": "LayoutView",
            "align_content": null,
            "align_items": null,
            "align_self": null,
            "border": null,
            "bottom": null,
            "display": null,
            "flex": null,
            "flex_flow": null,
            "grid_area": null,
            "grid_auto_columns": null,
            "grid_auto_flow": null,
            "grid_auto_rows": null,
            "grid_column": null,
            "grid_gap": null,
            "grid_row": null,
            "grid_template_areas": null,
            "grid_template_columns": null,
            "grid_template_rows": null,
            "height": null,
            "justify_content": null,
            "justify_items": null,
            "left": null,
            "margin": null,
            "max_height": null,
            "max_width": null,
            "min_height": null,
            "min_width": null,
            "object_fit": null,
            "object_position": null,
            "order": null,
            "overflow": null,
            "overflow_x": null,
            "overflow_y": null,
            "padding": null,
            "right": null,
            "top": null,
            "visibility": null,
            "width": null
          }
        },
        "8eacb6cd7c704752bb223f99adc9a469": {
          "model_module": "@jupyter-widgets/controls",
          "model_name": "ProgressStyleModel",
          "model_module_version": "1.5.0",
          "state": {
            "_model_module": "@jupyter-widgets/controls",
            "_model_module_version": "1.5.0",
            "_model_name": "ProgressStyleModel",
            "_view_count": null,
            "_view_module": "@jupyter-widgets/base",
            "_view_module_version": "1.2.0",
            "_view_name": "StyleView",
            "bar_color": null,
            "description_width": ""
          }
        },
        "7c291cb04a714671af7b146dafed6e85": {
          "model_module": "@jupyter-widgets/base",
          "model_name": "LayoutModel",
          "model_module_version": "1.2.0",
          "state": {
            "_model_module": "@jupyter-widgets/base",
            "_model_module_version": "1.2.0",
            "_model_name": "LayoutModel",
            "_view_count": null,
            "_view_module": "@jupyter-widgets/base",
            "_view_module_version": "1.2.0",
            "_view_name": "LayoutView",
            "align_content": null,
            "align_items": null,
            "align_self": null,
            "border": null,
            "bottom": null,
            "display": null,
            "flex": null,
            "flex_flow": null,
            "grid_area": null,
            "grid_auto_columns": null,
            "grid_auto_flow": null,
            "grid_auto_rows": null,
            "grid_column": null,
            "grid_gap": null,
            "grid_row": null,
            "grid_template_areas": null,
            "grid_template_columns": null,
            "grid_template_rows": null,
            "height": null,
            "justify_content": null,
            "justify_items": null,
            "left": null,
            "margin": null,
            "max_height": null,
            "max_width": null,
            "min_height": null,
            "min_width": null,
            "object_fit": null,
            "object_position": null,
            "order": null,
            "overflow": null,
            "overflow_x": null,
            "overflow_y": null,
            "padding": null,
            "right": null,
            "top": null,
            "visibility": null,
            "width": null
          }
        },
        "93c36cca56dc4b39ab302492780badb4": {
          "model_module": "@jupyter-widgets/controls",
          "model_name": "DescriptionStyleModel",
          "model_module_version": "1.5.0",
          "state": {
            "_model_module": "@jupyter-widgets/controls",
            "_model_module_version": "1.5.0",
            "_model_name": "DescriptionStyleModel",
            "_view_count": null,
            "_view_module": "@jupyter-widgets/base",
            "_view_module_version": "1.2.0",
            "_view_name": "StyleView",
            "description_width": ""
          }
        }
      }
    },
    "gpuClass": "standard"
  },
  "cells": [
    {
      "cell_type": "markdown",
      "metadata": {
        "id": "view-in-github",
        "colab_type": "text"
      },
      "source": [
        "<a href=\"https://colab.research.google.com/github/timsetsfire/wandb-examples/blob/main/colab/W%26B_Training_with_Optuna.ipynb\" target=\"_parent\"><img src=\"https://colab.research.google.com/assets/colab-badge.svg\" alt=\"Open In Colab\"/></a>"
      ]
    },
    {
      "cell_type": "markdown",
      "source": [
        "# PyTorch + W&B\n",
        "\n",
        "The purpose of this lab is to instrument W&B a top of existing ML Workflows which might be leveraging \n",
        "* PyTorch\n",
        "* Tensorboard (for metric tracking)\n",
        "* Python `logging` (for metric tracking)\n",
        "\n",
        "We will augment this workflow by leveraging \n",
        "* Wandb Experiments and syncing with Tensorboard\n",
        "* Wandb logging\n",
        "* Wandb Artifacts for dataset and model logging / versioning\n",
        "* Tables to surface prediction examples on Test datasets\n",
        "* track lineage of all artifacts and experiments completed\n",
        "\n",
        "Lastly, we'll do a simple HPO leveraging Optuna and W&B integration.   And we'll finish it off with interacting with the runs via W&B API to\n",
        "* query runs and run summaries\n",
        "* artifacts"
      ],
      "metadata": {
        "id": "tKApKPjWCRer"
      }
    },
    {
      "cell_type": "code",
      "source": [
        "%%capture\n",
        "!pip install wandb easydict optuna --upgrade"
      ],
      "metadata": {
        "id": "3NC1NCkWqaRZ"
      },
      "execution_count": 1,
      "outputs": []
    },
    {
      "cell_type": "code",
      "source": [
        "%%capture\n",
        "!pip install tensorboard dill"
      ],
      "metadata": {
        "id": "-dhvzw6bh32b"
      },
      "execution_count": 2,
      "outputs": []
    },
    {
      "cell_type": "markdown",
      "source": [
        "## Logging In"
      ],
      "metadata": {
        "id": "w08j4Wp3lPgW"
      }
    },
    {
      "cell_type": "code",
      "source": [
        "#@title Enter host address\n",
        "#@markdown Enter the host url which corresponds to your WB instance.\n",
        "host = \"https://api.wandb.ai\" #@param {type: \"string\"}\n"
      ],
      "metadata": {
        "cellView": "form",
        "id": "Td8j0FTGmoEG"
      },
      "execution_count": 3,
      "outputs": []
    },
    {
      "cell_type": "code",
      "source": [
        "import wandb\n",
        "## when using wandb anywhere other than wandb.ai, you must \n",
        "## provide a proper host, so the client knows where to communcate\n",
        "## details of the experiment\n",
        "# wandb.login(key = key, host = host)\n",
        "wandb.login(host = host)"
      ],
      "metadata": {
        "colab": {
          "base_uri": "https://localhost:8080/",
          "height": 71
        },
        "id": "OoKj_iVKqd3V",
        "outputId": "e163ab73-7394-4635-a9d7-16eca0c27cac"
      },
      "execution_count": 4,
      "outputs": [
        {
          "output_type": "display_data",
          "data": {
            "text/plain": [
              "<IPython.core.display.Javascript object>"
            ],
            "application/javascript": [
              "\n",
              "        window._wandbApiKey = new Promise((resolve, reject) => {\n",
              "            function loadScript(url) {\n",
              "            return new Promise(function(resolve, reject) {\n",
              "                let newScript = document.createElement(\"script\");\n",
              "                newScript.onerror = reject;\n",
              "                newScript.onload = resolve;\n",
              "                document.body.appendChild(newScript);\n",
              "                newScript.src = url;\n",
              "            });\n",
              "            }\n",
              "            loadScript(\"https://cdn.jsdelivr.net/npm/postmate/build/postmate.min.js\").then(() => {\n",
              "            const iframe = document.createElement('iframe')\n",
              "            iframe.style.cssText = \"width:0;height:0;border:none\"\n",
              "            document.body.appendChild(iframe)\n",
              "            const handshake = new Postmate({\n",
              "                container: iframe,\n",
              "                url: 'https://wandb.ai/authorize'\n",
              "            });\n",
              "            const timeout = setTimeout(() => reject(\"Couldn't auto authenticate\"), 5000)\n",
              "            handshake.then(function(child) {\n",
              "                child.on('authorize', data => {\n",
              "                    clearTimeout(timeout)\n",
              "                    resolve(data)\n",
              "                });\n",
              "            });\n",
              "            })\n",
              "        });\n",
              "    "
            ]
          },
          "metadata": {}
        },
        {
          "output_type": "stream",
          "name": "stderr",
          "text": [
            "\u001b[34m\u001b[1mwandb\u001b[0m: Appending key for api.wandb.ai to your netrc file: /root/.netrc\n"
          ]
        },
        {
          "output_type": "execute_result",
          "data": {
            "text/plain": [
              "True"
            ]
          },
          "metadata": {},
          "execution_count": 4
        }
      ]
    },
    {
      "cell_type": "code",
      "execution_count": 5,
      "metadata": {
        "id": "QYRKkFd_qUX3"
      },
      "outputs": [],
      "source": [
        "import os\n",
        "import random\n",
        "import logging\n",
        "import numpy as np\n",
        "import torch\n",
        "import torch.nn as nn\n",
        "import torchvision\n",
        "import torchvision.transforms as transforms\n",
        "from tqdm.notebook import tqdm\n",
        "from torch.utils.tensorboard import SummaryWriter\n",
        "\n",
        "# Ensure deterministic behavior\n",
        "torch.backends.cudnn.deterministic = True\n",
        "random.seed(hash(\"setting random seeds\") % 2**32 - 1)\n",
        "np.random.seed(hash(\"improves reproducibility\") % 2**32 - 1)\n",
        "torch.manual_seed(hash(\"by removing stochasticity\") % 2**32 - 1)\n",
        "torch.cuda.manual_seed_all(hash(\"so runs are repeatable\") % 2**32 - 1)\n",
        "\n",
        "# Device configuration\n",
        "# if you wind up with any device other than cpu, some code below will need to \n",
        "# change specific to the way we are interacting with torch tensors.  \n",
        "# device = torch.device(\"cuda:0\" if torch.cuda.is_available() else \"cpu\")\n",
        "device = torch.device(\"cpu\")\n",
        "\n",
        "# remove slow mirror from list of MNIST mirrors\n",
        "torchvision.datasets.MNIST.mirrors = [mirror for mirror in torchvision.datasets.MNIST.mirrors\n",
        "                                      if not mirror.startswith(\"http://yann.lecun.com\")]"
      ]
    },
    {
      "cell_type": "markdown",
      "source": [
        "## Get Data (and log it)\n",
        "\n",
        "When we get data and log it, there are obviously tons of way to complete this.  Depending on how you log data, and whether or not you log your retrieval mechanism is a matter of preference and internal guidelines you need to follow.  \n",
        "\n",
        "In our approach, we will write a `getter` for our data.  The benefit of writing a getting, we can log this getter with our dataset as part of the artifact metadata.\n",
        "\n"
      ],
      "metadata": {
        "id": "nPUPBpm32EVt"
      }
    },
    {
      "cell_type": "markdown",
      "source": [
        "Before we get started it is important to set the name space for your project.  This is going to be accomplished by passing a `project_name` as well as an `entity` to your wandb experiment\n",
        "\n",
        "`entity` corresponds to the team to which the project will be associated with.  The `entity` could be a team name, or your user name.  "
      ],
      "metadata": {
        "id": "zCzXk7SI8fuh"
      }
    },
    {
      "cell_type": "code",
      "source": [
        "project_name = \"demos\" #@param {type: \"string\"}\n",
        "entity = \"tim-w\" #@param {type: \"string\"}"
      ],
      "metadata": {
        "id": "qE6TMpNal4IY"
      },
      "execution_count": 57,
      "outputs": []
    },
    {
      "cell_type": "markdown",
      "source": [
        "## Logging data\n",
        "\n",
        "W&B is very unopinionated with regard to how you track your experiments.  We could log data in any number of ways.  \n",
        "* Log one artifact which represents all the data - training, validation, and test data to one artifact \n",
        "* Log several artifacts - one for each of the training, validation, and test data loaders.  \n",
        "\n",
        "It is a matter of what best suites your needs and workflows and expectations.  \n",
        "\n",
        "### Anatomy of an artifact \n",
        "\n",
        "The `Artifact` class will correspond to an entry in the W&B Artifact registry.  The artifact has \n",
        "* a name\n",
        "* a type\n",
        "* metadata\n",
        "* description\n",
        "* files, directory of files, or references\n",
        "\n",
        "Example usage \n",
        "```\n",
        "run = wandb.init(project = \"my-project\")\n",
        "artifact = wandb.Artifact(name = \"my_artifact\", type = \"data\")\n",
        "artifact.add_file(\"/path/to/my/file.txt\")\n",
        "run.log_artifact(artifact)\n",
        "run.finish()\n",
        "```"
      ],
      "metadata": {
        "id": "u51cz8ZQ5cLq"
      }
    },
    {
      "cell_type": "code",
      "source": [
        "## create the data directory locally if it does not already exists\n",
        "from pathlib import Path\n",
        "data_path = Path(\"./data\")\n",
        "data_path.mkdir(exist_ok = True)\n",
        "\n",
        "## define out data getter \n",
        "def get_data(slice=5, train=True):\n",
        "  '''\n",
        "  helper function to get data\n",
        "  args: \n",
        "    slice: Int => passed to torch.utils.data.Subset indices argument\n",
        "    train: Boolean => True to download training data, False for test data\n",
        "  '''\n",
        "  full_dataset = torchvision.datasets.MNIST(root=\".\",\n",
        "                                            train=train, \n",
        "                                            transform=transforms.ToTensor(),\n",
        "                                            download=True)\n",
        "  #  equiv to slicing with [::slice] \n",
        "  sub_dataset = torch.utils.data.Subset(\n",
        "    full_dataset, indices=range(0, len(full_dataset), slice))\n",
        "\n",
        "  return sub_dataset"
      ],
      "metadata": {
        "id": "MKPAhR6jX7Pl"
      },
      "execution_count": 21,
      "outputs": []
    },
    {
      "cell_type": "code",
      "source": [
        "logging.basicConfig(\n",
        "                format=\"%(levelname)s - %(asctime)s - %(message)s\",\n",
        "        )\n",
        "logger = logging.getLogger(\"CNN-Logger\")\n",
        "logger.setLevel(\"INFO\")"
      ],
      "metadata": {
        "id": "-In7YBvBiDzm"
      },
      "execution_count": 22,
      "outputs": []
    },
    {
      "cell_type": "markdown",
      "source": [
        "## Our First W&B Experiment / Run\n",
        "\n",
        "We are going to \n",
        "* get our training and test data\n",
        "* split the training data into training and validation\n",
        "* create artifacts for all three dataset\n",
        "* log those artifacts to W&B.  "
      ],
      "metadata": {
        "id": "f7ihqIfx-K50"
      }
    },
    {
      "cell_type": "code",
      "source": [
        "#%%wandb -h 600 \n",
        "import pickle\n",
        "from dill.source import getsource\n",
        "from dill import detect\n",
        "from datetime import datetime \n",
        "\n",
        "with wandb.init(project = project_name, job_type = \"data-acquisition\") as run:\n",
        "\n",
        "  train, test = get_data(train=True), get_data(train=False)\n",
        "  train, validation = torch.utils.data.random_split(train, [10000, 2000])\n",
        "\n",
        "  torch.save(train, './data/training_data.pt')\n",
        "  torch.save(validation, './data/validation_data.pt')\n",
        "  torch.save(test, './data/test_data.pt')\n",
        "\n",
        "  train_artifact = wandb.Artifact(name = \"mnist-training-data\", type = \"dataset\", \n",
        "                                  description = \"training data\",\n",
        "                                  metadata = { \n",
        "                                      \"data-set\": \"MNIST training\",\n",
        "                                      \"getter\": getsource(detect.code(get_data))}\n",
        "                                  )\n",
        "  train_artifact.add_file(\"./data/training_data.pt\")\n",
        "\n",
        "  validation_artifact = wandb.Artifact(name = \"mnist-validation-data\", type = \"dataset\", \n",
        "                                       description = \"validation data\",\n",
        "                                       metadata = { \n",
        "                                      \"data-set\": \"MNIST validation\",\n",
        "                                      \"getter\": getsource(detect.code(get_data))})\n",
        "  validation_artifact.add_file(\"./data/validation_data.pt\")\n",
        "\n",
        "  test_artifact = wandb.Artifact(name = \"mnist-test-data\", type = \"dataset\", \n",
        "                                 description = \"test data\",\n",
        "                                 metadata = { \n",
        "                                      \"data-set\": \"MNIST test\",\n",
        "                                      \"getter\": getsource(detect.code(get_data))})\n",
        "  test_artifact.add_file(\"./data/test_data.pt\")  \n",
        "  \n",
        "  run.log_artifact(train_artifact)\n",
        "  run.log_artifact(validation_artifact)\n",
        "  run.log_artifact(test_artifact)"
      ],
      "metadata": {
        "colab": {
          "base_uri": "https://localhost:8080/",
          "height": 310,
          "referenced_widgets": [
            "51000826f16e431685dd38a648fa5133",
            "734bce62f7ce4a639b6cbc7298ea9bc6",
            "9fee3e4fa3934c96b11ba96395eb1f99",
            "d6e3183de1a04a5c85945d1ef9e82654",
            "5f813a6d218141e0a4dac2bb8b81182d",
            "a4fd289bd72849f89b2be2e4b9e0e0cd",
            "ea5b5195b77f4be18624c6bb5b639e3e",
            "235c504b7bfa40ff8cc8a76aae813990"
          ]
        },
        "id": "t2zrx2782Qxk",
        "outputId": "cf44aea4-0cd0-4567-f4e2-65f1db74ee9f"
      },
      "execution_count": 23,
      "outputs": [
        {
          "output_type": "display_data",
          "data": {
            "text/plain": [
              "<IPython.core.display.HTML object>"
            ],
            "text/html": [
              "Finishing last run (ID:26now6r1) before initializing another..."
            ]
          },
          "metadata": {}
        },
        {
          "output_type": "display_data",
          "data": {
            "text/plain": [
              "<IPython.core.display.HTML object>"
            ],
            "text/html": [
              "Waiting for W&B process to finish... <strong style=\"color:green\">(success).</strong>"
            ]
          },
          "metadata": {}
        },
        {
          "output_type": "display_data",
          "data": {
            "text/plain": [
              "VBox(children=(Label(value='0.303 MB of 0.303 MB uploaded (0.000 MB deduped)\\r'), FloatProgress(value=1.0, max…"
            ],
            "application/vnd.jupyter.widget-view+json": {
              "version_major": 2,
              "version_minor": 0,
              "model_id": "51000826f16e431685dd38a648fa5133"
            }
          },
          "metadata": {}
        },
        {
          "output_type": "display_data",
          "data": {
            "text/plain": [
              "<IPython.core.display.HTML object>"
            ],
            "text/html": [
              "Synced <strong style=\"color:#cdcd00\">electric-wind-1</strong>: <a href=\"https://wandb.ai/tim-w/my-optuna-project-v5/runs/26now6r1\" target=\"_blank\">https://wandb.ai/tim-w/my-optuna-project-v5/runs/26now6r1</a><br/>Synced 5 W&B file(s), 0 media file(s), 4 artifact file(s) and 1 other file(s)"
            ]
          },
          "metadata": {}
        },
        {
          "output_type": "display_data",
          "data": {
            "text/plain": [
              "<IPython.core.display.HTML object>"
            ],
            "text/html": [
              "Find logs at: <code>./wandb/run-20221024_155637-26now6r1/logs</code>"
            ]
          },
          "metadata": {}
        },
        {
          "output_type": "display_data",
          "data": {
            "text/plain": [
              "<IPython.core.display.HTML object>"
            ],
            "text/html": [
              "Successfully finished last run (ID:26now6r1). Initializing new run:<br/>"
            ]
          },
          "metadata": {}
        },
        {
          "output_type": "display_data",
          "data": {
            "text/plain": [
              "<IPython.core.display.HTML object>"
            ],
            "text/html": [
              "Tracking run with wandb version 0.13.4"
            ]
          },
          "metadata": {}
        },
        {
          "output_type": "display_data",
          "data": {
            "text/plain": [
              "<IPython.core.display.HTML object>"
            ],
            "text/html": [
              "Run data is saved locally in <code>/content/wandb/run-20221024_155812-76ryam3y</code>"
            ]
          },
          "metadata": {}
        },
        {
          "output_type": "display_data",
          "data": {
            "text/plain": [
              "<IPython.core.display.HTML object>"
            ],
            "text/html": [
              "Syncing run <strong><a href=\"https://wandb.ai/tim-w/demos/runs/76ryam3y\" target=\"_blank\">glowing-grass-52</a></strong> to <a href=\"https://wandb.ai/tim-w/demos\" target=\"_blank\">Weights & Biases</a> (<a href=\"https://wandb.me/run\" target=\"_blank\">docs</a>)<br/>"
            ]
          },
          "metadata": {}
        },
        {
          "output_type": "display_data",
          "data": {
            "text/plain": [
              "<IPython.core.display.HTML object>"
            ],
            "text/html": [
              "Waiting for W&B process to finish... <strong style=\"color:green\">(success).</strong>"
            ]
          },
          "metadata": {}
        },
        {
          "output_type": "display_data",
          "data": {
            "text/plain": [
              "<IPython.core.display.HTML object>"
            ],
            "text/html": [
              "Synced <strong style=\"color:#cdcd00\">glowing-grass-52</strong>: <a href=\"https://wandb.ai/tim-w/demos/runs/76ryam3y\" target=\"_blank\">https://wandb.ai/tim-w/demos/runs/76ryam3y</a><br/>Synced 4 W&B file(s), 0 media file(s), 2 artifact file(s) and 0 other file(s)"
            ]
          },
          "metadata": {}
        },
        {
          "output_type": "display_data",
          "data": {
            "text/plain": [
              "<IPython.core.display.HTML object>"
            ],
            "text/html": [
              "Find logs at: <code>./wandb/run-20221024_155812-76ryam3y/logs</code>"
            ]
          },
          "metadata": {}
        }
      ]
    },
    {
      "cell_type": "markdown",
      "source": [
        "## Artifact usage (Creating the DAG)\n",
        "\n",
        "Part of the value of W&B is the ability to capture lineage via Experiments and Artifacts.  Next up for our work flow is to specifiy a model and commence training.  \n",
        "\n",
        "It is key to remember that experiments create and consume artifacts and we have already completed one  experimemtns where we created dataset artifacts.  \n",
        "\n",
        "Next up, we will commence an experiment that will consume the artifacts from the previous run for the purposes of training model, then we will create a model artifact."
      ],
      "metadata": {
        "id": "cV9LzCFr6rXX"
      }
    },
    {
      "cell_type": "markdown",
      "source": [
        "## Specify the model\n",
        "\n"
      ],
      "metadata": {
        "id": "OlvqaBTK2H-A"
      }
    },
    {
      "cell_type": "code",
      "source": [
        "# Conventional and convolutional neural network\n",
        "class ConvNet(nn.Module):\n",
        "    def __init__(self, kernels, classes=10):\n",
        "        super(ConvNet, self).__init__()\n",
        "        \n",
        "        self.layer1 = nn.Sequential(\n",
        "            nn.Conv2d(1, kernels[0], kernel_size=5, stride=1, padding=2),\n",
        "            nn.ReLU(),\n",
        "            nn.MaxPool2d(kernel_size=2, stride=2))\n",
        "        self.layer2 = nn.Sequential(\n",
        "            nn.Conv2d(16, kernels[1], kernel_size=5, stride=1, padding=2),\n",
        "            nn.ReLU(),\n",
        "            nn.MaxPool2d(kernel_size=2, stride=2))\n",
        "        self.fc = nn.Linear(7 * 7 * kernels[-1], classes)\n",
        "        \n",
        "    def forward(self, x):\n",
        "        out = self.layer1(x)\n",
        "        out = self.layer2(out)\n",
        "        out = out.reshape(out.size(0), -1)\n",
        "        out = self.fc(out)\n",
        "        return out"
      ],
      "metadata": {
        "id": "9Nttzz7Cqp7v"
      },
      "execution_count": 24,
      "outputs": []
    },
    {
      "cell_type": "code",
      "source": [
        "def make_loader(dataset, batch_size):\n",
        "    loader = torch.utils.data.DataLoader(dataset=dataset,\n",
        "                                         batch_size=batch_size, \n",
        "                                         shuffle=True,\n",
        "                                         pin_memory=True, num_workers=2)\n",
        "    return loader"
      ],
      "metadata": {
        "id": "A5H4RhB8O9dT"
      },
      "execution_count": 25,
      "outputs": []
    },
    {
      "cell_type": "markdown",
      "source": [
        "## Training\n",
        "\n",
        "In our first model training experiment, we are going to sync our wandb experiment to tensorboard -> so no wandb specific logging will be instrumented.  \n"
      ],
      "metadata": {
        "id": "uaq54u0r_P6n"
      }
    },
    {
      "cell_type": "code",
      "source": [
        "# %%wandb -h 600\n",
        "# Run training and track with wandb, but no explicit logging.  \n",
        "# since we were alredy using tensorboard via WritterSumamry, we'll \n",
        "# sync w&b to tensorboard.\n",
        "config = dict(\n",
        "    epochs=5,\n",
        "    classes=10,\n",
        "    kernels=[16, 32],\n",
        "    batch_size=128,\n",
        "    learning_rate=0.01,\n",
        "    dataset=\"MNIST\",\n",
        "    architecture=\"CNN\"\n",
        "    )\n",
        "\n",
        "with wandb.init(project = project_name, \n",
        "                 job_type = \"training\", \n",
        "                 config = config,\n",
        "                 sync_tensorboard = True) as run:\n",
        "\n",
        "  config = wandb.config\n",
        "  ## or, ifyou have a nasty nested dictionary for your config\n",
        "  # config = EasyDict(wandb.config)\n",
        "\n",
        "  run.use_artifact(f\"{run.entity}/{run.project}/mnist-training-data:latest\")\n",
        "  run.use_artifact(f\"{run.entity}/{run.project}/mnist-validation-data:latest\")\n",
        "  ## download and instantiation of the artifacts might be necessary.  \n",
        "\n",
        "  train_loader = make_loader(train, batch_size=config.batch_size)\n",
        "  validation_loader = make_loader(validation, batch_size=config.batch_size)\n",
        "\n",
        "  model = ConvNet(config.kernels, config.classes).to(device)\n",
        "  criterion = nn.CrossEntropyLoss()\n",
        "  optimizer = torch.optim.Adam(model.parameters(), lr=config.learning_rate)\n",
        "\n",
        "  writer = SummaryWriter(log_dir = \"./wandb/latest-run\")\n",
        "  total_batches = len(train_loader) * config.epochs\n",
        "  example_ct = 0  # number of examples seen\n",
        "  batch_ct = 0\n",
        "  for epoch in tqdm(range(config.epochs)):\n",
        "    for step, (images, labels) in enumerate(train_loader):\n",
        "      images, labels = images.to(device), labels.to(device)\n",
        "      # Forward pass ➡\n",
        "      outputs = model(images)\n",
        "      loss = criterion(outputs, labels)\n",
        "      # Backward pass ⬅\n",
        "      optimizer.zero_grad()\n",
        "      loss.backward()\n",
        "      # Step with optimizer\n",
        "      optimizer.step()\n",
        "      example_ct +=  len(images)\n",
        "      batch_ct += 1\n",
        "      # Report metrics every 25th batch\n",
        "      if ((batch_ct + 1) % 25) == 0:\n",
        "        writer.add_scalar(\"Train Metrics/loss\", loss, batch_ct)\n",
        "        writer.add_scalar(\"epoch\", loss, batch_ct)\n",
        "        logger.info(f\"Epoch: {epoch}, Loss: {loss.detach().numpy()}\")\n",
        "    with torch.no_grad():\n",
        "      correct, total = 0, 0\n",
        "      for images, labels in validation_loader:\n",
        "          images, labels = images.to(device), labels.to(device)\n",
        "          outputs = model(images)\n",
        "          _, predicted = torch.max(outputs.data, 1)\n",
        "          total += labels.size(0)\n",
        "          correct += (predicted == labels).sum().item()\n",
        "          loss = criterion(outputs, labels)\n",
        "          writer.add_scalar(\"Validation Metrics/loss\", loss, batch_ct)\n",
        "          writer.add_scalar(\"epoch\", epoch, batch_ct)\n",
        "      logger.info(f\"Epoch {epoch}, Accuracy of the model on the {total} test images: {100 * correct / total}%\")\n",
        "      writer.add_scalar(\"Validation Metrics/accuracy\", correct/total, batch_ct)\n",
        "      writer.add_scalar(\"epoch\", epoch, batch_ct)\n",
        "\n",
        "  torch.save(model.state_dict(), \"model.pt\")\n",
        "  model_artifact = wandb.Artifact(name = \"mnist-model\", type = \"model\")\n",
        "  model_artifact.add_file(\"model.pt\")\n",
        "  run.log_artifact(model_artifact)\n"
      ],
      "metadata": {
        "id": "LXGpSYpfK4je",
        "colab": {
          "base_uri": "https://localhost:8080/",
          "height": 850,
          "referenced_widgets": [
            "3e54ef8441fc479aa46340856d507c68",
            "3d4975471eb24913bef9d779eaa6c75b",
            "ec20c755edd5429b968dd372962542a6",
            "0500eddabad64d239fdb60704b9ddd88",
            "5218d8c624f6432ab804a59e66f480b2",
            "0334a1ae434f420c80e0f75c7b994c31",
            "0baf29b4010148bf84dee9dd3f819219",
            "5350c0040b374708bb6990ea78e1d05c",
            "52710056b68f48f294e8b8562f9652b6",
            "73d208160d824c6195d650e2efb243e7",
            "87e6ec3e18114eec8a791bd057a28a64",
            "1bd2edad2fb345ceb8e768ebff29abbc",
            "c58550288db44bac9ca4acb753827d16",
            "eb6d362730634c48a68ae85946567a6b",
            "a41e991891364537ac055d85d06fa8d8",
            "b999fb389749428296635b6b22f04190",
            "f020519d7d41474cb18bcb7ac673ba65",
            "303e8196157d454088112a6281e5564a",
            "5a0fe2d766bd4cd6bd3aae868ce8b1d9"
          ]
        },
        "outputId": "c12e3040-cac5-42a8-a89d-1e1ae7d10653"
      },
      "execution_count": 26,
      "outputs": [
        {
          "output_type": "display_data",
          "data": {
            "text/plain": [
              "<IPython.core.display.HTML object>"
            ],
            "text/html": [
              "Tracking run with wandb version 0.13.4"
            ]
          },
          "metadata": {}
        },
        {
          "output_type": "display_data",
          "data": {
            "text/plain": [
              "<IPython.core.display.HTML object>"
            ],
            "text/html": [
              "Run data is saved locally in <code>/content/wandb/run-20221024_155826-7v63xbuf</code>"
            ]
          },
          "metadata": {}
        },
        {
          "output_type": "display_data",
          "data": {
            "text/plain": [
              "<IPython.core.display.HTML object>"
            ],
            "text/html": [
              "Syncing run <strong><a href=\"https://wandb.ai/tim-w/demos/runs/7v63xbuf\" target=\"_blank\">splendid-feather-53</a></strong> to <a href=\"https://wandb.ai/tim-w/demos\" target=\"_blank\">Weights & Biases</a> (<a href=\"https://wandb.me/run\" target=\"_blank\">docs</a>)<br/>"
            ]
          },
          "metadata": {}
        },
        {
          "output_type": "display_data",
          "data": {
            "text/plain": [
              "  0%|          | 0/5 [00:00<?, ?it/s]"
            ],
            "application/vnd.jupyter.widget-view+json": {
              "version_major": 2,
              "version_minor": 0,
              "model_id": "3e54ef8441fc479aa46340856d507c68"
            }
          },
          "metadata": {}
        },
        {
          "output_type": "stream",
          "name": "stderr",
          "text": [
            "INFO:CNN-Logger:Epoch: 0, Loss: 0.6152558922767639\n",
            "INFO:CNN-Logger:Epoch: 0, Loss: 0.37864214181900024\n",
            "INFO:CNN-Logger:Epoch: 0, Loss: 0.33058860898017883\n",
            "INFO:CNN-Logger:Epoch 0, Accuracy of the model on the 2000 test images: 93.25%\n",
            "INFO:CNN-Logger:Epoch: 1, Loss: 0.18225780129432678\n",
            "INFO:CNN-Logger:Epoch: 1, Loss: 0.14611569046974182\n",
            "INFO:CNN-Logger:Epoch: 1, Loss: 0.04811842739582062\n",
            "INFO:CNN-Logger:Epoch 1, Accuracy of the model on the 2000 test images: 94.85%\n",
            "INFO:CNN-Logger:Epoch: 2, Loss: 0.15746846795082092\n",
            "INFO:CNN-Logger:Epoch: 2, Loss: 0.030076010152697563\n",
            "INFO:CNN-Logger:Epoch: 2, Loss: 0.12193747609853745\n",
            "INFO:CNN-Logger:Epoch 2, Accuracy of the model on the 2000 test images: 95.75%\n",
            "INFO:CNN-Logger:Epoch: 3, Loss: 0.06308609992265701\n",
            "INFO:CNN-Logger:Epoch: 3, Loss: 0.10632984340190887\n",
            "INFO:CNN-Logger:Epoch: 3, Loss: 0.10202132165431976\n",
            "INFO:CNN-Logger:Epoch 3, Accuracy of the model on the 2000 test images: 96.0%\n",
            "INFO:CNN-Logger:Epoch: 4, Loss: 0.049882564693689346\n",
            "INFO:CNN-Logger:Epoch: 4, Loss: 0.14626289904117584\n",
            "INFO:CNN-Logger:Epoch: 4, Loss: 0.07020428031682968\n",
            "INFO:CNN-Logger:Epoch 4, Accuracy of the model on the 2000 test images: 96.75%\n"
          ]
        },
        {
          "output_type": "display_data",
          "data": {
            "text/plain": [
              "<IPython.core.display.HTML object>"
            ],
            "text/html": [
              "Waiting for W&B process to finish... <strong style=\"color:green\">(success).</strong>"
            ]
          },
          "metadata": {}
        },
        {
          "output_type": "display_data",
          "data": {
            "text/plain": [
              "VBox(children=(Label(value='0.210 MB of 0.210 MB uploaded (0.000 MB deduped)\\r'), FloatProgress(value=1.0, max…"
            ],
            "application/vnd.jupyter.widget-view+json": {
              "version_major": 2,
              "version_minor": 0,
              "model_id": "1bd2edad2fb345ceb8e768ebff29abbc"
            }
          },
          "metadata": {}
        },
        {
          "output_type": "display_data",
          "data": {
            "text/plain": [
              "<IPython.core.display.HTML object>"
            ],
            "text/html": [
              "<style>\n",
              "    table.wandb td:nth-child(1) { padding: 0 10px; text-align: left ; width: auto;} td:nth-child(2) {text-align: left ; width: 100%}\n",
              "    .wandb-row { display: flex; flex-direction: row; flex-wrap: wrap; justify-content: flex-start; width: 100% }\n",
              "    .wandb-col { display: flex; flex-direction: column; flex-basis: 100%; flex: 1; padding: 10px; }\n",
              "    </style>\n",
              "<div class=\"wandb-row\"><div class=\"wandb-col\"><h3>Run history:</h3><br/><table class=\"wandb\"><tr><td>Train Metrics/loss</td><td>█▅▅▃▂▁▃▁▂▁▂▂</td></tr><tr><td>Validation Metrics/accuracy</td><td>▁▅█</td></tr><tr><td>Validation Metrics/loss</td><td>█▃▅▁</td></tr><tr><td>epoch</td><td>▂▂▂▁▁▁▁▃▁▁▁▆▁▁▁█</td></tr><tr><td>global_step</td><td>▁▂▂▂▃▃▄▄▅▅▆▆▆▇██</td></tr></table><br/></div><div class=\"wandb-col\"><h3>Run summary:</h3><br/><table class=\"wandb\"><tr><td>Train Metrics/loss</td><td>0.10202</td></tr><tr><td>Validation Metrics/accuracy</td><td>0.9575</td></tr><tr><td>Validation Metrics/loss</td><td>0.08218</td></tr><tr><td>epoch</td><td>3.0</td></tr><tr><td>global_step</td><td>316</td></tr></table><br/></div></div>"
            ]
          },
          "metadata": {}
        },
        {
          "output_type": "display_data",
          "data": {
            "text/plain": [
              "<IPython.core.display.HTML object>"
            ],
            "text/html": [
              "Synced <strong style=\"color:#cdcd00\">splendid-feather-53</strong>: <a href=\"https://wandb.ai/tim-w/demos/runs/7v63xbuf\" target=\"_blank\">https://wandb.ai/tim-w/demos/runs/7v63xbuf</a><br/>Synced 5 W&B file(s), 0 media file(s), 3 artifact file(s) and 2 other file(s)"
            ]
          },
          "metadata": {}
        },
        {
          "output_type": "display_data",
          "data": {
            "text/plain": [
              "<IPython.core.display.HTML object>"
            ],
            "text/html": [
              "Find logs at: <code>./wandb/run-20221024_155826-7v63xbuf/logs</code>"
            ]
          },
          "metadata": {}
        }
      ]
    },
    {
      "cell_type": "markdown",
      "source": [
        "## Test Data Evaluation"
      ],
      "metadata": {
        "id": "049TAZ3eN3xV"
      }
    },
    {
      "cell_type": "code",
      "source": [
        "import pandas as pd\n",
        "with wandb.init(project = project_name, entity = entity, job_type = \"evaluation\") as run:\n",
        "  model_artifact = run.use_artifact(model_artifact.wait())\n",
        "  ## instantiate the model if necessary\n",
        "  # model_dir = model_artifact.download()\n",
        "  # model = ConvNet(config.kernels, config.classes)\n",
        "  # model.load_state_dict(torch.load(f\"{model_dir}/model.pt\"))\n",
        "  run.use_artifact(f\"{run.entity}/{run.project}/mnist-test-data:latest\")\n",
        "  ## same goes for the dataset\n",
        "  test_loader = make_loader(test, batch_size=config.batch_size)\n",
        "\n",
        "  model.eval()\n",
        "  # Run the model on some test examples\n",
        "\n",
        "  with torch.no_grad():\n",
        "      correct, total = 0, 0\n",
        "      total_loss = 0\n",
        "      all_data = []\n",
        "      for images, labels in test_loader:\n",
        "          images, labels = images.to(device), labels.to(device)\n",
        "          outputs = model(images)\n",
        "          _, predicted = torch.max(outputs.data, 1)\n",
        "          total += labels.size(0)\n",
        "          correct += (predicted == labels).sum().item()\n",
        "          loss = criterion(outputs, labels)*labels.size(0)\n",
        "          total_loss += loss\n",
        "          wandb_images = []\n",
        "          for image in images.numpy():\n",
        "            temp = wandb.Image(image)\n",
        "            wandb_images.append(temp) \n",
        "          scores = pd.DataFrame( outputs.numpy().tolist(), columns = [f\"p{i}\" for i in range(outputs.shape[1])]).to_dict(orient = \"series\")\n",
        "          data = {\"images\":wandb_images, \"predicted\": predicted.numpy().tolist(), \"labels\": labels.numpy().tolist()}\n",
        "          data = {**data, **scores}\n",
        "          all_data.append(pd.DataFrame(data))\n",
        "      import pandas as pd \n",
        "      df = pd.concat(all_data)\n",
        "      wandb.log({\"Predictions vs Actuals\": wandb.Table(dataframe = df)})\n",
        "      run.log({\"Test Metrics/loss\": total_loss / total, \"Test Metrics/accuracy\": correct / total})\n",
        "      logger.info(f\"Accuracy of the model on the {total} \" +\n",
        "            f\"test images: {100 * correct / total}%\")\n",
        "          "
      ],
      "metadata": {
        "id": "ob1LPz3VIu5B",
        "colab": {
          "base_uri": "https://localhost:8080/",
          "height": 312
        },
        "outputId": "82667c43-f42e-4dc2-9e0f-af4ab4e8b418"
      },
      "execution_count": 27,
      "outputs": [
        {
          "output_type": "display_data",
          "data": {
            "text/plain": [
              "<IPython.core.display.HTML object>"
            ],
            "text/html": [
              "Tracking run with wandb version 0.13.4"
            ]
          },
          "metadata": {}
        },
        {
          "output_type": "display_data",
          "data": {
            "text/plain": [
              "<IPython.core.display.HTML object>"
            ],
            "text/html": [
              "Run data is saved locally in <code>/content/wandb/run-20221024_155919-m7jlt1p9</code>"
            ]
          },
          "metadata": {}
        },
        {
          "output_type": "display_data",
          "data": {
            "text/plain": [
              "<IPython.core.display.HTML object>"
            ],
            "text/html": [
              "Syncing run <strong><a href=\"https://wandb.ai/tim-w/demos/runs/m7jlt1p9\" target=\"_blank\">easy-yogurt-54</a></strong> to <a href=\"https://wandb.ai/tim-w/demos\" target=\"_blank\">Weights & Biases</a> (<a href=\"https://wandb.me/run\" target=\"_blank\">docs</a>)<br/>"
            ]
          },
          "metadata": {}
        },
        {
          "output_type": "stream",
          "name": "stderr",
          "text": [
            "INFO:CNN-Logger:Accuracy of the model on the 2000 test images: 96.8%\n"
          ]
        },
        {
          "output_type": "display_data",
          "data": {
            "text/plain": [
              "<IPython.core.display.HTML object>"
            ],
            "text/html": [
              "Waiting for W&B process to finish... <strong style=\"color:green\">(success).</strong>"
            ]
          },
          "metadata": {}
        },
        {
          "output_type": "display_data",
          "data": {
            "text/plain": [
              "<IPython.core.display.HTML object>"
            ],
            "text/html": [
              "<style>\n",
              "    table.wandb td:nth-child(1) { padding: 0 10px; text-align: left ; width: auto;} td:nth-child(2) {text-align: left ; width: 100%}\n",
              "    .wandb-row { display: flex; flex-direction: row; flex-wrap: wrap; justify-content: flex-start; width: 100% }\n",
              "    .wandb-col { display: flex; flex-direction: column; flex-basis: 100%; flex: 1; padding: 10px; }\n",
              "    </style>\n",
              "<div class=\"wandb-row\"><div class=\"wandb-col\"><h3>Run history:</h3><br/><table class=\"wandb\"><tr><td>Test Metrics/accuracy</td><td>▁</td></tr><tr><td>Test Metrics/loss</td><td>▁</td></tr></table><br/></div><div class=\"wandb-col\"><h3>Run summary:</h3><br/><table class=\"wandb\"><tr><td>Test Metrics/accuracy</td><td>0.968</td></tr><tr><td>Test Metrics/loss</td><td>0.10459</td></tr></table><br/></div></div>"
            ]
          },
          "metadata": {}
        },
        {
          "output_type": "display_data",
          "data": {
            "text/plain": [
              "<IPython.core.display.HTML object>"
            ],
            "text/html": [
              "Synced <strong style=\"color:#cdcd00\">easy-yogurt-54</strong>: <a href=\"https://wandb.ai/tim-w/demos/runs/m7jlt1p9\" target=\"_blank\">https://wandb.ai/tim-w/demos/runs/m7jlt1p9</a><br/>Synced 5 W&B file(s), 1 media file(s), 2003 artifact file(s) and 1 other file(s)"
            ]
          },
          "metadata": {}
        },
        {
          "output_type": "display_data",
          "data": {
            "text/plain": [
              "<IPython.core.display.HTML object>"
            ],
            "text/html": [
              "Find logs at: <code>./wandb/run-20221024_155919-m7jlt1p9/logs</code>"
            ]
          },
          "metadata": {}
        }
      ]
    },
    {
      "cell_type": "markdown",
      "source": [
        "## HPO with Optuna"
      ],
      "metadata": {
        "id": "UAZRxQMSOE8Y"
      }
    },
    {
      "cell_type": "code",
      "source": [
        "import optuna\n",
        "from optuna.integration.wandb import WeightsAndBiasesCallback"
      ],
      "metadata": {
        "id": "zVsk9dt8n7y4"
      },
      "execution_count": 35,
      "outputs": []
    },
    {
      "cell_type": "code",
      "source": [
        "wandb_kwargs = {\"project\": \"my-optuna-project-v6\"}\n",
        "wandbc = WeightsAndBiasesCallback(wandb_kwargs=wandb_kwargs, as_multirun=True)"
      ],
      "metadata": {
        "colab": {
          "base_uri": "https://localhost:8080/"
        },
        "id": "Q12zq8NKtaDr",
        "outputId": "ebcd2d32-8a66-477f-86ce-84e0ba84d9dd"
      },
      "execution_count": 54,
      "outputs": [
        {
          "output_type": "stream",
          "name": "stderr",
          "text": [
            "/usr/local/lib/python3.7/dist-packages/ipykernel_launcher.py:2: ExperimentalWarning: WeightsAndBiasesCallback is experimental (supported from v2.9.0). The interface can change in the future.\n",
            "  \n"
          ]
        }
      ]
    },
    {
      "cell_type": "markdown",
      "source": [
        "## Training Function"
      ],
      "metadata": {
        "id": "KJWq_awCa96H"
      }
    },
    {
      "cell_type": "code",
      "source": [
        "@wandbc.track_in_wandb()\n",
        "def train_func(trial): \n",
        "\n",
        "    learning_rate = trial.suggest_float(\"learning_rate\", 0.001, 0.1)\n",
        "    batch_size = trial.suggest_categorical(name = \"batch_size\", choices = [128, 256])\n",
        "    \n",
        "    config_standard = dict(\n",
        "      epochs=5,\n",
        "      classes=10,\n",
        "      kernels=[16, 32],\n",
        "      dataset=\"MNIST\",\n",
        "      architecture=\"CNN\",\n",
        "    )\n",
        "    wandb.config.update(config_standard)\n",
        "  \n",
        "    wandb.use_artifact(f\"{entity}/{project_name}/mnist-training-data:latest\")\n",
        "    wandb.use_artifact(f\"{entity}/{project_name}/mnist-validation-data:latest\")\n",
        "\n",
        "    train_loader = make_loader(train, batch_size=config.batch_size)\n",
        "    validation_loader = make_loader(validation, batch_size=config.batch_size)\n",
        "\n",
        "    model = ConvNet(config.kernels, config.classes).to(device)\n",
        "    criterion = nn.CrossEntropyLoss()\n",
        "    optimizer = torch.optim.Adam(model.parameters(), lr=config.learning_rate)\n",
        "\n",
        "    total_batches = len(train_loader) * config.epochs\n",
        "    example_ct = 0  # number of examples seen\n",
        "    batch_ct = 0\n",
        "    for epoch in tqdm(range(config.epochs)):\n",
        "      for _, (images, labels) in enumerate(train_loader):\n",
        "        images, labels = images.to(device), labels.to(device)\n",
        "        # Forward pass ➡\n",
        "        outputs = model(images)\n",
        "        loss = criterion(outputs, labels)\n",
        "        # Backward pass ⬅\n",
        "        optimizer.zero_grad()\n",
        "        loss.backward()\n",
        "        # Step with optimizer\n",
        "        optimizer.step()\n",
        "        example_ct +=  len(images)\n",
        "        batch_ct += 1\n",
        "        # Report metrics every 25th batch\n",
        "        if ((batch_ct + 1) % 25) == 0:\n",
        "          logger.info(f\"Epoch: {epoch}, Loss: {loss.detach().numpy()}\")\n",
        "          wandb.log({ \"Train Metrics/loss\": loss, \"epoch\": epoch})\n",
        "      with torch.no_grad():\n",
        "        correct, total = 0, 0\n",
        "        for images, labels in validation_loader:\n",
        "            images, labels = images.to(device), labels.to(device)\n",
        "            outputs = model(images)\n",
        "            _, predicted = torch.max(outputs.data, 1)\n",
        "            total += labels.size(0)\n",
        "            correct += (predicted == labels).sum().item()\n",
        "            loss = criterion(outputs, labels)\n",
        "            wandb.log({\"Validation Metrics/loss\": loss, \"epoch\": epoch})\n",
        "        logger.info(f\"Epoch {epoch}, Accuracy of the model on the {total} validation images: {100 * correct / total}%\")\n",
        "        wandb.log({\"Validation Metrics/accuracy\": correct / total})\n",
        "\n",
        "    torch.save(model.state_dict(), f\"{wandb.run.id}-model.pt\")\n",
        "    model_artifact = wandb.Artifact(name = f\"{wandb.run.id}-mnist-model\", type = \"model\")\n",
        "    model_artifact.add_file(f\"{wandb.run.id}-model.pt\")\n",
        "    wandb.log_artifact(model_artifact)\n",
        "    return loss\n"
      ],
      "metadata": {
        "id": "sseHItLORboP",
        "colab": {
          "base_uri": "https://localhost:8080/"
        },
        "outputId": "0b9e71da-2f3b-4315-9ef7-3d5e232d4182"
      },
      "execution_count": 55,
      "outputs": [
        {
          "output_type": "stream",
          "name": "stderr",
          "text": [
            "/usr/local/lib/python3.7/dist-packages/ipykernel_launcher.py:1: ExperimentalWarning: track_in_wandb is experimental (supported from v3.0.0). The interface can change in the future.\n",
            "  \"\"\"Entry point for launching an IPython kernel.\n"
          ]
        }
      ]
    },
    {
      "cell_type": "code",
      "source": [
        "study = optuna.create_study()\n",
        "study.optimize(train_func, n_trials=3, callbacks=[wandbc])"
      ],
      "metadata": {
        "id": "eekkP7Wsn1Do",
        "colab": {
          "base_uri": "https://localhost:8080/",
          "height": 1000,
          "referenced_widgets": [
            "1df541a2ba974129abdf8ff67339f5ec",
            "e4000b85e6724cdea8e1b569b4f4e0f1",
            "79af2702fa564d2592ece6c39c7f89b2",
            "24589cb8df664806b67488594e64b927",
            "fff5a18328c8463aa425daea084392dd",
            "62f9e0f7e931491d89b4a75ee387f086",
            "e71ed2f90ae44551a7ff995bd316966f",
            "30f1a79f926f4c1fb80647bf7c6d2cb2",
            "19d8ea79079c4886ac0087336a2b0551",
            "3ab9ec4b187e42ce8619a5ca1455d8e8",
            "74cda3ea4ac44fc9b4697f50632c54e1",
            "296765d2805d4079b899e98db7e031db",
            "5504c53f617b47d0844d9406471d0df5",
            "650021d23b4340beb9a2b04c8f4020cd",
            "a554b051e3c24f81b65812bce5bea726",
            "e9f73dc06ad14a4b9eca1c4b3e24638e",
            "9f6655cacba748a7854af9665085e9c3",
            "7ea1fd324d4c4ce8836a1f44a4987b92",
            "1b5f8b476fe247ec80115f377e2c879f",
            "2eb64ee866b7475fac5fcd4a516c8197",
            "7282ea02f177408db0e0c873e6c4f42a",
            "e091bbdaf26344e2afb3abb583756706",
            "477bd5a22775432985ef2d0a014c042f",
            "2c210bceda2440668bb4c0c71a3ff557",
            "fa51a5fcdba9430fb632637b010f0f3d",
            "032be152c125499ca717b60870bf9b0f",
            "f1d869c3f99d4acebc5c7b2f4ee6587f",
            "23a12b2fc8af49b49a3c1f1f636c7919",
            "91f636ac19104e0ebd4c445fbccd77cb",
            "09450d82afc54212a62fbd0edc4d11fb",
            "8eacb6cd7c704752bb223f99adc9a469",
            "7c291cb04a714671af7b146dafed6e85",
            "93c36cca56dc4b39ab302492780badb4"
          ]
        },
        "outputId": "1f217111-f4dc-4e66-c43f-7922f498615c"
      },
      "execution_count": 58,
      "outputs": [
        {
          "output_type": "stream",
          "name": "stderr",
          "text": [
            "\u001b[32m[I 2022-10-24 17:48:44,401]\u001b[0m A new study created in memory with name: no-name-860cd23f-b1a6-4519-b06b-679b77cde112\u001b[0m\n"
          ]
        },
        {
          "output_type": "display_data",
          "data": {
            "text/plain": [
              "  0%|          | 0/5 [00:00<?, ?it/s]"
            ],
            "application/vnd.jupyter.widget-view+json": {
              "version_major": 2,
              "version_minor": 0,
              "model_id": "1df541a2ba974129abdf8ff67339f5ec"
            }
          },
          "metadata": {}
        },
        {
          "output_type": "stream",
          "name": "stderr",
          "text": [
            "INFO:CNN-Logger:Epoch: 0, Loss: 0.6680903434753418\n",
            "INFO:CNN-Logger:Epoch: 0, Loss: 0.17628821730613708\n",
            "INFO:CNN-Logger:Epoch: 0, Loss: 0.08908680826425552\n",
            "INFO:CNN-Logger:Epoch 0, Accuracy of the model on the 2000 validation images: 95.25%\n",
            "INFO:CNN-Logger:Epoch: 1, Loss: 0.11890428513288498\n",
            "INFO:CNN-Logger:Epoch: 1, Loss: 0.20492930710315704\n",
            "INFO:CNN-Logger:Epoch: 1, Loss: 0.06894282251596451\n",
            "INFO:CNN-Logger:Epoch 1, Accuracy of the model on the 2000 validation images: 96.7%\n",
            "INFO:CNN-Logger:Epoch: 2, Loss: 0.023337792605161667\n",
            "INFO:CNN-Logger:Epoch: 2, Loss: 0.04297465458512306\n",
            "INFO:CNN-Logger:Epoch: 2, Loss: 0.10000427812337875\n",
            "INFO:CNN-Logger:Epoch 2, Accuracy of the model on the 2000 validation images: 96.95%\n",
            "INFO:CNN-Logger:Epoch: 3, Loss: 0.03571633994579315\n",
            "INFO:CNN-Logger:Epoch: 3, Loss: 0.12120484560728073\n",
            "INFO:CNN-Logger:Epoch: 3, Loss: 0.03460875153541565\n",
            "INFO:CNN-Logger:Epoch 3, Accuracy of the model on the 2000 validation images: 96.85%\n",
            "INFO:CNN-Logger:Epoch: 4, Loss: 0.013178099878132343\n",
            "INFO:CNN-Logger:Epoch: 4, Loss: 0.07091458141803741\n",
            "INFO:CNN-Logger:Epoch: 4, Loss: 0.020525509491562843\n",
            "INFO:CNN-Logger:Epoch 4, Accuracy of the model on the 2000 validation images: 97.55%\n",
            "\u001b[32m[I 2022-10-24 17:49:21,651]\u001b[0m Trial 0 finished with value: 0.0696248859167099 and parameters: {'learning_rate': 0.045086145844261565, 'batch_size': 128}. Best is trial 0 with value: 0.0696248859167099.\u001b[0m\n"
          ]
        },
        {
          "output_type": "display_data",
          "data": {
            "text/plain": [
              "<IPython.core.display.HTML object>"
            ],
            "text/html": [
              "Waiting for W&B process to finish... <strong style=\"color:green\">(success).</strong>"
            ]
          },
          "metadata": {}
        },
        {
          "output_type": "display_data",
          "data": {
            "text/plain": [
              "<IPython.core.display.HTML object>"
            ],
            "text/html": [
              "<style>\n",
              "    table.wandb td:nth-child(1) { padding: 0 10px; text-align: left ; width: auto;} td:nth-child(2) {text-align: left ; width: 100%}\n",
              "    .wandb-row { display: flex; flex-direction: row; flex-wrap: wrap; justify-content: flex-start; width: 100% }\n",
              "    .wandb-col { display: flex; flex-direction: column; flex-basis: 100%; flex: 1; padding: 10px; }\n",
              "    </style>\n",
              "<div class=\"wandb-row\"><div class=\"wandb-col\"><h3>Run history:</h3><br/><table class=\"wandb\"><tr><td>Train Metrics/loss</td><td>█▃▂▂▃▂▁▁▂▁▂▁▁▂▁</td></tr><tr><td>Validation Metrics/accuracy</td><td>▁▅▆▆█</td></tr><tr><td>Validation Metrics/loss</td><td>▄▃▅▅▄▆▄▆▁▂▄▅▆▂▂▄▃▂▁▄▃▅▃██▂▂▅▁▄▂▂▇▄▁▄▃▃▆▂</td></tr><tr><td>batch_size</td><td>▁</td></tr><tr><td>epoch</td><td>▁▁▁▁▁▁▁▁▃▃▃▃▃▃▃▃▅▅▅▅▅▅▅▅▆▆▆▆▆▆▆▆████████</td></tr><tr><td>learning_rate</td><td>▁</td></tr><tr><td>trial_number</td><td>▁</td></tr><tr><td>value</td><td>▁</td></tr></table><br/></div><div class=\"wandb-col\"><h3>Run summary:</h3><br/><table class=\"wandb\"><tr><td>Train Metrics/loss</td><td>0.02053</td></tr><tr><td>Validation Metrics/accuracy</td><td>0.9755</td></tr><tr><td>Validation Metrics/loss</td><td>0.06962</td></tr><tr><td>batch_size</td><td>128</td></tr><tr><td>epoch</td><td>4</td></tr><tr><td>learning_rate</td><td>0.04509</td></tr><tr><td>trial_number</td><td>0</td></tr><tr><td>value</td><td>0.06962</td></tr></table><br/></div></div>"
            ]
          },
          "metadata": {}
        },
        {
          "output_type": "display_data",
          "data": {
            "text/plain": [
              "<IPython.core.display.HTML object>"
            ],
            "text/html": [
              "Synced <strong style=\"color:#cdcd00\">fiery-river-1</strong>: <a href=\"https://wandb.ai/tim-w/my-optuna-project-v6/runs/vu0oscom\" target=\"_blank\">https://wandb.ai/tim-w/my-optuna-project-v6/runs/vu0oscom</a><br/>Synced 5 W&B file(s), 0 media file(s), 5 artifact file(s) and 1 other file(s)"
            ]
          },
          "metadata": {}
        },
        {
          "output_type": "display_data",
          "data": {
            "text/plain": [
              "<IPython.core.display.HTML object>"
            ],
            "text/html": [
              "Find logs at: <code>./wandb/run-20221024_174739-vu0oscom/logs</code>"
            ]
          },
          "metadata": {}
        },
        {
          "output_type": "display_data",
          "data": {
            "text/plain": [
              "<IPython.core.display.HTML object>"
            ],
            "text/html": [
              "Tracking run with wandb version 0.13.4"
            ]
          },
          "metadata": {}
        },
        {
          "output_type": "display_data",
          "data": {
            "text/plain": [
              "<IPython.core.display.HTML object>"
            ],
            "text/html": [
              "Run data is saved locally in <code>/content/wandb/run-20221024_174927-subktc6y</code>"
            ]
          },
          "metadata": {}
        },
        {
          "output_type": "display_data",
          "data": {
            "text/plain": [
              "<IPython.core.display.HTML object>"
            ],
            "text/html": [
              "Syncing run <strong><a href=\"https://wandb.ai/tim-w/my-optuna-project-v6/runs/subktc6y\" target=\"_blank\">golden-lion-2</a></strong> to <a href=\"https://wandb.ai/tim-w/my-optuna-project-v6\" target=\"_blank\">Weights & Biases</a> (<a href=\"https://wandb.me/run\" target=\"_blank\">docs</a>)<br/>"
            ]
          },
          "metadata": {}
        },
        {
          "output_type": "display_data",
          "data": {
            "text/plain": [
              "  0%|          | 0/5 [00:00<?, ?it/s]"
            ],
            "application/vnd.jupyter.widget-view+json": {
              "version_major": 2,
              "version_minor": 0,
              "model_id": "296765d2805d4079b899e98db7e031db"
            }
          },
          "metadata": {}
        },
        {
          "output_type": "stream",
          "name": "stderr",
          "text": [
            "INFO:CNN-Logger:Epoch: 0, Loss: 0.38173356652259827\n",
            "INFO:CNN-Logger:Epoch: 0, Loss: 0.2183065265417099\n",
            "INFO:CNN-Logger:Epoch: 0, Loss: 0.16459240019321442\n",
            "INFO:CNN-Logger:Epoch 0, Accuracy of the model on the 2000 validation images: 95.4%\n",
            "INFO:CNN-Logger:Epoch: 1, Loss: 0.1371435821056366\n",
            "INFO:CNN-Logger:Epoch: 1, Loss: 0.11178731173276901\n",
            "INFO:CNN-Logger:Epoch: 1, Loss: 0.06877362728118896\n",
            "INFO:CNN-Logger:Epoch 1, Accuracy of the model on the 2000 validation images: 96.1%\n",
            "INFO:CNN-Logger:Epoch: 2, Loss: 0.08115685731172562\n",
            "INFO:CNN-Logger:Epoch: 2, Loss: 0.023021064698696136\n",
            "INFO:CNN-Logger:Epoch: 2, Loss: 0.06586712598800659\n",
            "INFO:CNN-Logger:Epoch 2, Accuracy of the model on the 2000 validation images: 96.65%\n",
            "INFO:CNN-Logger:Epoch: 3, Loss: 0.06091821938753128\n",
            "INFO:CNN-Logger:Epoch: 3, Loss: 0.04546160250902176\n",
            "INFO:CNN-Logger:Epoch: 3, Loss: 0.06639283150434494\n",
            "INFO:CNN-Logger:Epoch 3, Accuracy of the model on the 2000 validation images: 95.8%\n",
            "INFO:CNN-Logger:Epoch: 4, Loss: 0.017961805686354637\n",
            "INFO:CNN-Logger:Epoch: 4, Loss: 0.0922451913356781\n",
            "INFO:CNN-Logger:Epoch: 4, Loss: 0.0504358634352684\n",
            "INFO:CNN-Logger:Epoch 4, Accuracy of the model on the 2000 validation images: 96.85%\n",
            "\u001b[32m[I 2022-10-24 17:50:05,316]\u001b[0m Trial 1 finished with value: 0.22863860428333282 and parameters: {'learning_rate': 0.06795247702322313, 'batch_size': 128}. Best is trial 0 with value: 0.0696248859167099.\u001b[0m\n"
          ]
        },
        {
          "output_type": "display_data",
          "data": {
            "text/plain": [
              "<IPython.core.display.HTML object>"
            ],
            "text/html": [
              "Waiting for W&B process to finish... <strong style=\"color:green\">(success).</strong>"
            ]
          },
          "metadata": {}
        },
        {
          "output_type": "display_data",
          "data": {
            "text/plain": [
              "<IPython.core.display.HTML object>"
            ],
            "text/html": [
              "<style>\n",
              "    table.wandb td:nth-child(1) { padding: 0 10px; text-align: left ; width: auto;} td:nth-child(2) {text-align: left ; width: 100%}\n",
              "    .wandb-row { display: flex; flex-direction: row; flex-wrap: wrap; justify-content: flex-start; width: 100% }\n",
              "    .wandb-col { display: flex; flex-direction: column; flex-basis: 100%; flex: 1; padding: 10px; }\n",
              "    </style>\n",
              "<div class=\"wandb-row\"><div class=\"wandb-col\"><h3>Run history:</h3><br/><table class=\"wandb\"><tr><td>Train Metrics/loss</td><td>█▅▄▃▃▂▂▁▂▂▂▂▁▂▂</td></tr><tr><td>Validation Metrics/accuracy</td><td>▁▄▇▃█</td></tr><tr><td>Validation Metrics/loss</td><td>▆▄▄▃▄▂▃▆▄▄▄▃▄▅▄▃▂▃▁▂▃▃█▆▄▃▆▁▃▆█▄▂▆▃▄▅▅▃▇</td></tr><tr><td>batch_size</td><td>▁</td></tr><tr><td>epoch</td><td>▁▁▁▁▁▁▁▁▃▃▃▃▃▃▃▃▅▅▅▅▅▅▅▅▆▆▆▆▆▆▆▆████████</td></tr><tr><td>learning_rate</td><td>▁</td></tr><tr><td>trial_number</td><td>▁</td></tr><tr><td>value</td><td>▁</td></tr></table><br/></div><div class=\"wandb-col\"><h3>Run summary:</h3><br/><table class=\"wandb\"><tr><td>Train Metrics/loss</td><td>0.05044</td></tr><tr><td>Validation Metrics/accuracy</td><td>0.9685</td></tr><tr><td>Validation Metrics/loss</td><td>0.22864</td></tr><tr><td>batch_size</td><td>128</td></tr><tr><td>epoch</td><td>4</td></tr><tr><td>learning_rate</td><td>0.06795</td></tr><tr><td>trial_number</td><td>1</td></tr><tr><td>value</td><td>0.22864</td></tr></table><br/></div></div>"
            ]
          },
          "metadata": {}
        },
        {
          "output_type": "display_data",
          "data": {
            "text/plain": [
              "<IPython.core.display.HTML object>"
            ],
            "text/html": [
              "Synced <strong style=\"color:#cdcd00\">golden-lion-2</strong>: <a href=\"https://wandb.ai/tim-w/my-optuna-project-v6/runs/subktc6y\" target=\"_blank\">https://wandb.ai/tim-w/my-optuna-project-v6/runs/subktc6y</a><br/>Synced 5 W&B file(s), 0 media file(s), 3 artifact file(s) and 1 other file(s)"
            ]
          },
          "metadata": {}
        },
        {
          "output_type": "display_data",
          "data": {
            "text/plain": [
              "<IPython.core.display.HTML object>"
            ],
            "text/html": [
              "Find logs at: <code>./wandb/run-20221024_174927-subktc6y/logs</code>"
            ]
          },
          "metadata": {}
        },
        {
          "output_type": "display_data",
          "data": {
            "text/plain": [
              "<IPython.core.display.HTML object>"
            ],
            "text/html": [
              "Tracking run with wandb version 0.13.4"
            ]
          },
          "metadata": {}
        },
        {
          "output_type": "display_data",
          "data": {
            "text/plain": [
              "<IPython.core.display.HTML object>"
            ],
            "text/html": [
              "Run data is saved locally in <code>/content/wandb/run-20221024_175011-4la8vri0</code>"
            ]
          },
          "metadata": {}
        },
        {
          "output_type": "display_data",
          "data": {
            "text/plain": [
              "<IPython.core.display.HTML object>"
            ],
            "text/html": [
              "Syncing run <strong><a href=\"https://wandb.ai/tim-w/my-optuna-project-v6/runs/4la8vri0\" target=\"_blank\">fluent-hill-3</a></strong> to <a href=\"https://wandb.ai/tim-w/my-optuna-project-v6\" target=\"_blank\">Weights & Biases</a> (<a href=\"https://wandb.me/run\" target=\"_blank\">docs</a>)<br/>"
            ]
          },
          "metadata": {}
        },
        {
          "output_type": "display_data",
          "data": {
            "text/plain": [
              "  0%|          | 0/5 [00:00<?, ?it/s]"
            ],
            "application/vnd.jupyter.widget-view+json": {
              "version_major": 2,
              "version_minor": 0,
              "model_id": "477bd5a22775432985ef2d0a014c042f"
            }
          },
          "metadata": {}
        },
        {
          "output_type": "stream",
          "name": "stderr",
          "text": [
            "INFO:CNN-Logger:Epoch: 0, Loss: 0.3770720362663269\n",
            "INFO:CNN-Logger:Epoch: 0, Loss: 0.13634097576141357\n",
            "INFO:CNN-Logger:Epoch: 0, Loss: 0.04603542760014534\n",
            "INFO:CNN-Logger:Epoch 0, Accuracy of the model on the 2000 validation images: 96.35%\n",
            "INFO:CNN-Logger:Epoch: 1, Loss: 0.1509110927581787\n",
            "INFO:CNN-Logger:Epoch: 1, Loss: 0.12618388235569\n",
            "INFO:CNN-Logger:Epoch: 1, Loss: 0.16642513871192932\n",
            "INFO:CNN-Logger:Epoch 1, Accuracy of the model on the 2000 validation images: 96.5%\n",
            "INFO:CNN-Logger:Epoch: 2, Loss: 0.03947776183485985\n",
            "INFO:CNN-Logger:Epoch: 2, Loss: 0.014395236037671566\n",
            "INFO:CNN-Logger:Epoch: 2, Loss: 0.10786885768175125\n",
            "INFO:CNN-Logger:Epoch 2, Accuracy of the model on the 2000 validation images: 96.15%\n",
            "INFO:CNN-Logger:Epoch: 3, Loss: 0.0834028422832489\n",
            "INFO:CNN-Logger:Epoch: 3, Loss: 0.037476349622011185\n",
            "INFO:CNN-Logger:Epoch: 3, Loss: 0.017707500606775284\n",
            "INFO:CNN-Logger:Epoch 3, Accuracy of the model on the 2000 validation images: 97.2%\n",
            "INFO:CNN-Logger:Epoch: 4, Loss: 0.011499240063130856\n",
            "INFO:CNN-Logger:Epoch: 4, Loss: 0.06067866086959839\n",
            "INFO:CNN-Logger:Epoch: 4, Loss: 0.11366394907236099\n",
            "INFO:CNN-Logger:Epoch 4, Accuracy of the model on the 2000 validation images: 97.7%\n",
            "\u001b[32m[I 2022-10-24 17:50:50,461]\u001b[0m Trial 2 finished with value: 0.09190219640731812 and parameters: {'learning_rate': 0.09819690070331206, 'batch_size': 256}. Best is trial 0 with value: 0.0696248859167099.\u001b[0m\n"
          ]
        },
        {
          "output_type": "display_data",
          "data": {
            "text/plain": [
              "<IPython.core.display.HTML object>"
            ],
            "text/html": [
              "Waiting for W&B process to finish... <strong style=\"color:green\">(success).</strong>"
            ]
          },
          "metadata": {}
        },
        {
          "output_type": "display_data",
          "data": {
            "text/plain": [
              "<IPython.core.display.HTML object>"
            ],
            "text/html": [
              "<style>\n",
              "    table.wandb td:nth-child(1) { padding: 0 10px; text-align: left ; width: auto;} td:nth-child(2) {text-align: left ; width: 100%}\n",
              "    .wandb-row { display: flex; flex-direction: row; flex-wrap: wrap; justify-content: flex-start; width: 100% }\n",
              "    .wandb-col { display: flex; flex-direction: column; flex-basis: 100%; flex: 1; padding: 10px; }\n",
              "    </style>\n",
              "<div class=\"wandb-row\"><div class=\"wandb-col\"><h3>Run history:</h3><br/><table class=\"wandb\"><tr><td>Train Metrics/loss</td><td>█▃▂▄▃▄▂▁▃▂▁▁▁▂▃</td></tr><tr><td>Validation Metrics/accuracy</td><td>▂▃▁▆█</td></tr><tr><td>Validation Metrics/loss</td><td>█▃▃▂▇▃▄▇▄▂▂▁▃▃▄▂▅▂▂▄▅▇▅▅▁▂▅▃▄▃▅▄▂▇▃▁▂▂▂▃</td></tr><tr><td>batch_size</td><td>▁</td></tr><tr><td>epoch</td><td>▁▁▁▁▁▁▁▁▃▃▃▃▃▃▃▃▅▅▅▅▅▅▅▅▆▆▆▆▆▆▆▆████████</td></tr><tr><td>learning_rate</td><td>▁</td></tr><tr><td>trial_number</td><td>▁</td></tr><tr><td>value</td><td>▁</td></tr></table><br/></div><div class=\"wandb-col\"><h3>Run summary:</h3><br/><table class=\"wandb\"><tr><td>Train Metrics/loss</td><td>0.11366</td></tr><tr><td>Validation Metrics/accuracy</td><td>0.977</td></tr><tr><td>Validation Metrics/loss</td><td>0.0919</td></tr><tr><td>batch_size</td><td>256</td></tr><tr><td>epoch</td><td>4</td></tr><tr><td>learning_rate</td><td>0.0982</td></tr><tr><td>trial_number</td><td>2</td></tr><tr><td>value</td><td>0.0919</td></tr></table><br/></div></div>"
            ]
          },
          "metadata": {}
        },
        {
          "output_type": "display_data",
          "data": {
            "text/plain": [
              "<IPython.core.display.HTML object>"
            ],
            "text/html": [
              "Synced <strong style=\"color:#cdcd00\">fluent-hill-3</strong>: <a href=\"https://wandb.ai/tim-w/my-optuna-project-v6/runs/4la8vri0\" target=\"_blank\">https://wandb.ai/tim-w/my-optuna-project-v6/runs/4la8vri0</a><br/>Synced 5 W&B file(s), 0 media file(s), 3 artifact file(s) and 1 other file(s)"
            ]
          },
          "metadata": {}
        },
        {
          "output_type": "display_data",
          "data": {
            "text/plain": [
              "<IPython.core.display.HTML object>"
            ],
            "text/html": [
              "Find logs at: <code>./wandb/run-20221024_175011-4la8vri0/logs</code>"
            ]
          },
          "metadata": {}
        }
      ]
    },
    {
      "cell_type": "markdown",
      "source": [
        "## Use API to interact with W&B"
      ],
      "metadata": {
        "id": "HCT2DLkTMS44"
      }
    },
    {
      "cell_type": "code",
      "source": [
        "import pandas as pd\n",
        "import wandb\n",
        "api = wandb.Api()\n",
        "runs = api.runs(f\"{entity}/{wandb_kwargs['project']}\")\n",
        "temp_data = []\n",
        "for r in runs:\n",
        "  drop_keys = set(r.summary.keys()).intersection( r.config.keys())\n",
        "  for d in drop_keys:\n",
        "    del r.config[d]\n",
        "  temp_dict = dict(**dict(r.summary), **r.config)\n",
        "  temp_dict[\"run_id\"] = r.id\n",
        "  temp_dict[\"run_name\"] = r.name\n",
        "  temp_data.append(temp_dict)\n",
        "df = pd.DataFrame(temp_data)\n",
        "df.set_index(\"run_id\", inplace = True)\n",
        "df.sort_values(\"value\")"
      ],
      "metadata": {
        "id": "4qW87yYuT8XT",
        "colab": {
          "base_uri": "https://localhost:8080/",
          "height": 308
        },
        "outputId": "417b45d6-b566-4f0a-c895-ec70698a5216"
      },
      "execution_count": 60,
      "outputs": [
        {
          "output_type": "execute_result",
          "data": {
            "text/plain": [
              "          _step           _wandb    _timestamp  Train Metrics/loss  \\\n",
              "run_id                                                               \n",
              "vu0oscom    100  {'runtime': 39}  1.666634e+09            0.020526   \n",
              "4la8vri0    100  {'runtime': 38}  1.666634e+09            0.113664   \n",
              "subktc6y    100  {'runtime': 37}  1.666634e+09            0.050436   \n",
              "\n",
              "          Validation Metrics/loss  Validation Metrics/accuracy  epoch  \\\n",
              "run_id                                                                  \n",
              "vu0oscom                 0.069625                       0.9755      4   \n",
              "4la8vri0                 0.091902                       0.9770      4   \n",
              "subktc6y                 0.228639                       0.9685      4   \n",
              "\n",
              "             value    _runtime  batch_size  trial_number  learning_rate  \\\n",
              "run_id                                                                    \n",
              "vu0oscom  0.069625  102.153047         128             0       0.045086   \n",
              "4la8vri0  0.091902   39.258188         256             2       0.098197   \n",
              "subktc6y  0.228639   38.056626         128             1       0.067952   \n",
              "\n",
              "          epochs  classes dataset   kernels   direction architecture  \\\n",
              "run_id                                                                 \n",
              "vu0oscom       5       10   MNIST  [16, 32]  [MINIMIZE]          CNN   \n",
              "4la8vri0       5       10   MNIST  [16, 32]  [MINIMIZE]          CNN   \n",
              "subktc6y       5       10   MNIST  [16, 32]  [MINIMIZE]          CNN   \n",
              "\n",
              "                       run_name  \n",
              "run_id                           \n",
              "vu0oscom  trial/0/fiery-river-1  \n",
              "4la8vri0  trial/2/fluent-hill-3  \n",
              "subktc6y  trial/1/golden-lion-2  "
            ],
            "text/html": [
              "\n",
              "  <div id=\"df-3fb96d7a-5ad9-416b-abfb-b413448ec22d\">\n",
              "    <div class=\"colab-df-container\">\n",
              "      <div>\n",
              "<style scoped>\n",
              "    .dataframe tbody tr th:only-of-type {\n",
              "        vertical-align: middle;\n",
              "    }\n",
              "\n",
              "    .dataframe tbody tr th {\n",
              "        vertical-align: top;\n",
              "    }\n",
              "\n",
              "    .dataframe thead th {\n",
              "        text-align: right;\n",
              "    }\n",
              "</style>\n",
              "<table border=\"1\" class=\"dataframe\">\n",
              "  <thead>\n",
              "    <tr style=\"text-align: right;\">\n",
              "      <th></th>\n",
              "      <th>_step</th>\n",
              "      <th>_wandb</th>\n",
              "      <th>_timestamp</th>\n",
              "      <th>Train Metrics/loss</th>\n",
              "      <th>Validation Metrics/loss</th>\n",
              "      <th>Validation Metrics/accuracy</th>\n",
              "      <th>epoch</th>\n",
              "      <th>value</th>\n",
              "      <th>_runtime</th>\n",
              "      <th>batch_size</th>\n",
              "      <th>trial_number</th>\n",
              "      <th>learning_rate</th>\n",
              "      <th>epochs</th>\n",
              "      <th>classes</th>\n",
              "      <th>dataset</th>\n",
              "      <th>kernels</th>\n",
              "      <th>direction</th>\n",
              "      <th>architecture</th>\n",
              "      <th>run_name</th>\n",
              "    </tr>\n",
              "    <tr>\n",
              "      <th>run_id</th>\n",
              "      <th></th>\n",
              "      <th></th>\n",
              "      <th></th>\n",
              "      <th></th>\n",
              "      <th></th>\n",
              "      <th></th>\n",
              "      <th></th>\n",
              "      <th></th>\n",
              "      <th></th>\n",
              "      <th></th>\n",
              "      <th></th>\n",
              "      <th></th>\n",
              "      <th></th>\n",
              "      <th></th>\n",
              "      <th></th>\n",
              "      <th></th>\n",
              "      <th></th>\n",
              "      <th></th>\n",
              "      <th></th>\n",
              "    </tr>\n",
              "  </thead>\n",
              "  <tbody>\n",
              "    <tr>\n",
              "      <th>vu0oscom</th>\n",
              "      <td>100</td>\n",
              "      <td>{'runtime': 39}</td>\n",
              "      <td>1.666634e+09</td>\n",
              "      <td>0.020526</td>\n",
              "      <td>0.069625</td>\n",
              "      <td>0.9755</td>\n",
              "      <td>4</td>\n",
              "      <td>0.069625</td>\n",
              "      <td>102.153047</td>\n",
              "      <td>128</td>\n",
              "      <td>0</td>\n",
              "      <td>0.045086</td>\n",
              "      <td>5</td>\n",
              "      <td>10</td>\n",
              "      <td>MNIST</td>\n",
              "      <td>[16, 32]</td>\n",
              "      <td>[MINIMIZE]</td>\n",
              "      <td>CNN</td>\n",
              "      <td>trial/0/fiery-river-1</td>\n",
              "    </tr>\n",
              "    <tr>\n",
              "      <th>4la8vri0</th>\n",
              "      <td>100</td>\n",
              "      <td>{'runtime': 38}</td>\n",
              "      <td>1.666634e+09</td>\n",
              "      <td>0.113664</td>\n",
              "      <td>0.091902</td>\n",
              "      <td>0.9770</td>\n",
              "      <td>4</td>\n",
              "      <td>0.091902</td>\n",
              "      <td>39.258188</td>\n",
              "      <td>256</td>\n",
              "      <td>2</td>\n",
              "      <td>0.098197</td>\n",
              "      <td>5</td>\n",
              "      <td>10</td>\n",
              "      <td>MNIST</td>\n",
              "      <td>[16, 32]</td>\n",
              "      <td>[MINIMIZE]</td>\n",
              "      <td>CNN</td>\n",
              "      <td>trial/2/fluent-hill-3</td>\n",
              "    </tr>\n",
              "    <tr>\n",
              "      <th>subktc6y</th>\n",
              "      <td>100</td>\n",
              "      <td>{'runtime': 37}</td>\n",
              "      <td>1.666634e+09</td>\n",
              "      <td>0.050436</td>\n",
              "      <td>0.228639</td>\n",
              "      <td>0.9685</td>\n",
              "      <td>4</td>\n",
              "      <td>0.228639</td>\n",
              "      <td>38.056626</td>\n",
              "      <td>128</td>\n",
              "      <td>1</td>\n",
              "      <td>0.067952</td>\n",
              "      <td>5</td>\n",
              "      <td>10</td>\n",
              "      <td>MNIST</td>\n",
              "      <td>[16, 32]</td>\n",
              "      <td>[MINIMIZE]</td>\n",
              "      <td>CNN</td>\n",
              "      <td>trial/1/golden-lion-2</td>\n",
              "    </tr>\n",
              "  </tbody>\n",
              "</table>\n",
              "</div>\n",
              "      <button class=\"colab-df-convert\" onclick=\"convertToInteractive('df-3fb96d7a-5ad9-416b-abfb-b413448ec22d')\"\n",
              "              title=\"Convert this dataframe to an interactive table.\"\n",
              "              style=\"display:none;\">\n",
              "        \n",
              "  <svg xmlns=\"http://www.w3.org/2000/svg\" height=\"24px\"viewBox=\"0 0 24 24\"\n",
              "       width=\"24px\">\n",
              "    <path d=\"M0 0h24v24H0V0z\" fill=\"none\"/>\n",
              "    <path d=\"M18.56 5.44l.94 2.06.94-2.06 2.06-.94-2.06-.94-.94-2.06-.94 2.06-2.06.94zm-11 1L8.5 8.5l.94-2.06 2.06-.94-2.06-.94L8.5 2.5l-.94 2.06-2.06.94zm10 10l.94 2.06.94-2.06 2.06-.94-2.06-.94-.94-2.06-.94 2.06-2.06.94z\"/><path d=\"M17.41 7.96l-1.37-1.37c-.4-.4-.92-.59-1.43-.59-.52 0-1.04.2-1.43.59L10.3 9.45l-7.72 7.72c-.78.78-.78 2.05 0 2.83L4 21.41c.39.39.9.59 1.41.59.51 0 1.02-.2 1.41-.59l7.78-7.78 2.81-2.81c.8-.78.8-2.07 0-2.86zM5.41 20L4 18.59l7.72-7.72 1.47 1.35L5.41 20z\"/>\n",
              "  </svg>\n",
              "      </button>\n",
              "      \n",
              "  <style>\n",
              "    .colab-df-container {\n",
              "      display:flex;\n",
              "      flex-wrap:wrap;\n",
              "      gap: 12px;\n",
              "    }\n",
              "\n",
              "    .colab-df-convert {\n",
              "      background-color: #E8F0FE;\n",
              "      border: none;\n",
              "      border-radius: 50%;\n",
              "      cursor: pointer;\n",
              "      display: none;\n",
              "      fill: #1967D2;\n",
              "      height: 32px;\n",
              "      padding: 0 0 0 0;\n",
              "      width: 32px;\n",
              "    }\n",
              "\n",
              "    .colab-df-convert:hover {\n",
              "      background-color: #E2EBFA;\n",
              "      box-shadow: 0px 1px 2px rgba(60, 64, 67, 0.3), 0px 1px 3px 1px rgba(60, 64, 67, 0.15);\n",
              "      fill: #174EA6;\n",
              "    }\n",
              "\n",
              "    [theme=dark] .colab-df-convert {\n",
              "      background-color: #3B4455;\n",
              "      fill: #D2E3FC;\n",
              "    }\n",
              "\n",
              "    [theme=dark] .colab-df-convert:hover {\n",
              "      background-color: #434B5C;\n",
              "      box-shadow: 0px 1px 3px 1px rgba(0, 0, 0, 0.15);\n",
              "      filter: drop-shadow(0px 1px 2px rgba(0, 0, 0, 0.3));\n",
              "      fill: #FFFFFF;\n",
              "    }\n",
              "  </style>\n",
              "\n",
              "      <script>\n",
              "        const buttonEl =\n",
              "          document.querySelector('#df-3fb96d7a-5ad9-416b-abfb-b413448ec22d button.colab-df-convert');\n",
              "        buttonEl.style.display =\n",
              "          google.colab.kernel.accessAllowed ? 'block' : 'none';\n",
              "\n",
              "        async function convertToInteractive(key) {\n",
              "          const element = document.querySelector('#df-3fb96d7a-5ad9-416b-abfb-b413448ec22d');\n",
              "          const dataTable =\n",
              "            await google.colab.kernel.invokeFunction('convertToInteractive',\n",
              "                                                     [key], {});\n",
              "          if (!dataTable) return;\n",
              "\n",
              "          const docLinkHtml = 'Like what you see? Visit the ' +\n",
              "            '<a target=\"_blank\" href=https://colab.research.google.com/notebooks/data_table.ipynb>data table notebook</a>'\n",
              "            + ' to learn more about interactive tables.';\n",
              "          element.innerHTML = '';\n",
              "          dataTable['output_type'] = 'display_data';\n",
              "          await google.colab.output.renderOutput(dataTable, element);\n",
              "          const docLink = document.createElement('div');\n",
              "          docLink.innerHTML = docLinkHtml;\n",
              "          element.appendChild(docLink);\n",
              "        }\n",
              "      </script>\n",
              "    </div>\n",
              "  </div>\n",
              "  "
            ]
          },
          "metadata": {},
          "execution_count": 60
        }
      ]
    },
    {
      "cell_type": "code",
      "source": [
        "study.best_trial"
      ],
      "metadata": {
        "colab": {
          "base_uri": "https://localhost:8080/"
        },
        "id": "wMfNeVZoFHNK",
        "outputId": "8403e127-3238-4501-8605-45f249b12de9"
      },
      "execution_count": 61,
      "outputs": [
        {
          "output_type": "execute_result",
          "data": {
            "text/plain": [
              "FrozenTrial(number=0, values=[0.0696248859167099], datetime_start=datetime.datetime(2022, 10, 24, 17, 48, 44, 410084), datetime_complete=datetime.datetime(2022, 10, 24, 17, 49, 21, 650878), params={'learning_rate': 0.045086145844261565, 'batch_size': 128}, distributions={'learning_rate': FloatDistribution(high=0.1, log=False, low=0.001, step=None), 'batch_size': CategoricalDistribution(choices=(128, 256))}, user_attrs={}, system_attrs={}, intermediate_values={}, trial_id=0, state=TrialState.COMPLETE, value=None)"
            ]
          },
          "metadata": {},
          "execution_count": 61
        }
      ]
    },
    {
      "cell_type": "code",
      "source": [],
      "metadata": {
        "id": "qGKJeXwuIVnE"
      },
      "execution_count": null,
      "outputs": []
    }
  ]
}