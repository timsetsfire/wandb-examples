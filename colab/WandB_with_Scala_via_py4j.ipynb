{
  "cells": [
    {
      "cell_type": "markdown",
      "metadata": {
        "id": "view-in-github",
        "colab_type": "text"
      },
      "source": [
        "<a href=\"https://colab.research.google.com/github/timsetsfire/wandb-examples/blob/main/colab/WandB_with_Scala_via_py4j.ipynb\" target=\"_parent\"><img src=\"https://colab.research.google.com/assets/colab-badge.svg\" alt=\"Open In Colab\"/></a>"
      ]
    },
    {
      "cell_type": "markdown",
      "metadata": {
        "id": "up2G8zDbhsEN"
      },
      "source": [
        "# WandB with Scala via py4j\n",
        "\n",
        "This notebook is meant to run in google colab.  \n",
        "\n",
        "This is just a proof of concept and is not supported by W&B.  "
      ]
    },
    {
      "cell_type": "markdown",
      "source": [
        "grab and install some necessary stuff 👇"
      ],
      "metadata": {
        "id": "pjYSTRUTKsur"
      }
    },
    {
      "cell_type": "code",
      "source": [
        "%%capture\n",
        "!git clone https://github.com/timsetsfire/urban-barnacle.git\n",
        "!cd /content/urban-barnacle/src/main/python && make &> /dev/null\n",
        "!pip install /content/urban-barnacle/src/main/python/dist/wandb_gateway-*-py3-none-any.whl -q\n",
        "!curl https://pjreddie.com/media/files/mnist_train.csv > mnist_train.csv\n",
        "!curl https://pjreddie.com/media/files/mnist_test.csv > mnist_test.csv"
      ],
      "metadata": {
        "id": "_s103zAxij5M"
      },
      "execution_count": null,
      "outputs": []
    },
    {
      "cell_type": "markdown",
      "metadata": {
        "id": "sL1Vq6r6J6dA"
      },
      "source": [
        "## Install the Scala Kernel\n",
        "If you get a \"scala\" kernel not recognized warning when loading up the notebook for the first time, start by running the two cells below. Once you are done **reload the page** to load the notebook in the installed Scala kernel."
      ]
    },
    {
      "cell_type": "code",
      "execution_count": null,
      "metadata": {
        "id": "RoCcdvTCAqeR",
        "colab": {
          "base_uri": "https://localhost:8080/"
        },
        "outputId": "f07c797f-30a3-4302-ea0d-ab3346298d19"
      },
      "outputs": [
        {
          "output_type": "stream",
          "name": "stdout",
          "text": [
            "  % Total    % Received % Xferd  Average Speed   Time    Time     Time  Current\n",
            "                                 Dload  Upload   Total   Spent    Left  Speed\n",
            "  0     0    0     0    0     0      0      0 --:--:-- --:--:-- --:--:--     0\n",
            "  0     0    0     0    0     0      0      0 --:--:-- --:--:-- --:--:--     0\n",
            "100 42577  100 42577    0     0  47465      0 --:--:-- --:--:-- --:--:--  659k\n"
          ]
        },
        {
          "output_type": "execute_result",
          "data": {
            "text/plain": []
          },
          "metadata": {},
          "execution_count": 3
        }
      ],
      "source": [
        "%%shell\n",
        "SCALA_VERSION=2.12.8 ALMOND_VERSION=0.3.0+16-548dc10f-SNAPSHOT\n",
        "curl -Lo coursier https://git.io/coursier-cli\n",
        "chmod +x coursier\n",
        "./coursier bootstrap \\\n",
        "    -r jitpack -r sonatype:snapshots \\\n",
        "    -i user -I user:sh.almond:scala-kernel-api_$SCALA_VERSION:$ALMOND_VERSION \\\n",
        "    sh.almond:scala-kernel_$SCALA_VERSION:$ALMOND_VERSION \\\n",
        "    --sources --default=true \\\n",
        "    -o almond-snapshot --embed-files=false &> /dev/null\n",
        "rm coursier\n",
        "./almond-snapshot --install --global --force &> /dev/null\n",
        "rm almond-snapshot"
      ]
    },
    {
      "cell_type": "code",
      "execution_count": null,
      "metadata": {
        "id": "BZchIo9sArF4",
        "colab": {
          "base_uri": "https://localhost:8080/"
        },
        "outputId": "f78a1b2d-7a72-4b54-86c3-223ddd8808d3"
      },
      "outputs": [
        {
          "output_type": "execute_result",
          "data": {
            "text/plain": []
          },
          "metadata": {},
          "execution_count": 4
        }
      ],
      "source": [
        "%%shell\n",
        "echo \"{\n",
        "  \\\"language\\\" : \\\"scala\\\",\n",
        "  \\\"display_name\\\" : \\\"Scala\\\",\n",
        "  \\\"argv\\\" : [\n",
        "    \\\"bash\\\",\n",
        "    \\\"-c\\\",\n",
        "    \\\"env LD_PRELOAD=/usr/lib/x86_64-linux-gnu/libpython3.6m.so:\\$LD_PRELOAD java -jar /usr/local/share/jupyter/kernels/scala/launcher.jar --connection-file {connection_file}\\\"\n",
        "  ]\n",
        "}\" > /usr/local/share/jupyter/kernels/scala/kernel.json"
      ]
    },
    {
      "cell_type": "markdown",
      "source": [
        "# Refresh Browser"
      ],
      "metadata": {
        "id": "mwPErXCOkLrc"
      }
    },
    {
      "cell_type": "markdown",
      "metadata": {
        "id": "kQe78pN0OSuq"
      },
      "source": [
        "## Download Necessary Libraries\n",
        "\n",
        "Using the import statements below will download all libraries necessary to create the MNist Model.  \n",
        "\n",
        "FYI - The below cell generates tons of stdout."
      ]
    },
    {
      "cell_type": "code",
      "source": [
        "import $ivy.`com.google.code.gson:gson:2.9.0`"
      ],
      "metadata": {
        "id": "spcXLLK9h_07"
      },
      "execution_count": null,
      "outputs": []
    },
    {
      "cell_type": "code",
      "execution_count": null,
      "metadata": {
        "id": "a9z0PxRg_iOp"
      },
      "outputs": [],
      "source": [
        "import $ivy.`org.nd4j:nd4j-native-platform:1.0.0-M2`\n",
        "import $ivy.`org.deeplearning4j:deeplearning4j-datasets:1.0.0-M2`\n",
        "import $ivy.`org.deeplearning4j:deeplearning4j-core:1.0.0-M2`\n",
        "import $ivy.`org.nd4j:nd4s_2.11:1.0.0-beta7`\n",
        "import $ivy.`org.nd4j:nd4j-api:1.0.0-M2`\n",
        "import $ivy.`org.nd4j:nd4j-native-platform:1.0.0-M2`\n",
        "// import $ivy.`org.datavec:datavec-api:1.0.0-M2`\n",
        "// import $ivy.`org.datavec:datavec-data-image:1.0.0-M2`\n",
        "// import $ivy.`org.datavec:datavec-local:1.0.0-M2`\n",
        "// import $ivy.`org.deeplearning4j:deeplearning4j-datasets:1.0.0-M2`\n",
        "// import $ivy.`org.nd4j:nd4j-cuda-7.5-platform:1.0.0-M2`\n",
        "\n",
        "// https://deeplearning4j.konduit.ai/spark/tutorials/dl4j-on-spark-quickstart\n",
        "// import $ivy.`org.deeplearning4j:dl4j-spark-parameterserver_2.11:1.0.0-M2`"
      ]
    },
    {
      "cell_type": "code",
      "source": [
        "\n",
        "  import org.deeplearning4j.nn.conf.MultiLayerConfiguration;\n",
        "  import org.deeplearning4j.nn.conf.NeuralNetConfiguration;\n",
        "  import org.deeplearning4j.nn.conf.layers.DenseLayer;\n",
        "  import org.deeplearning4j.nn.conf.layers.OutputLayer;\n",
        "  import org.deeplearning4j.nn.multilayer.MultiLayerNetwork;\n",
        "  import org.deeplearning4j.nn.weights.WeightInit;\n",
        "  import org.deeplearning4j.optimize.listeners.ScoreIterationListener;\n",
        "  import org.nd4j.evaluation.classification.Evaluation;\n",
        "  import org.nd4j.linalg.activations.Activation;\n",
        "  import org.nd4j.linalg.dataset.api.iterator.DataSetIterator;\n",
        "  import org.nd4j.linalg.learning.config.{Nadam, Adam};\n",
        "  import org.nd4j.linalg.lossfunctions.LossFunctions.LossFunction;\n",
        "  import org.nd4j.linalg.dataset.DataSet;\n",
        "  import org.nd4j.linalg.factory.Nd4j\n",
        "  import java.io.{File, PrintWriter}\n",
        "  import org.datavec.api.records.reader.RecordReader;\n",
        "  import org.datavec.api.records.reader.impl.csv.CSVRecordReader;\n",
        "  import org.datavec.api.split.FileSplit;\n",
        "  import org.deeplearning4j.datasets.datavec.RecordReaderDataSetIterator;\n"
      ],
      "metadata": {
        "id": "u9SCBcJSfxDL",
        "colab": {
          "base_uri": "https://localhost:8080/"
        },
        "outputId": "79f96f37-280f-44f3-b077-8491a9276c50"
      },
      "execution_count": 2,
      "outputs": [
        {
          "output_type": "execute_result",
          "data": {
            "text/plain": [
              "\u001b[32mimport \u001b[39m\u001b[36morg.deeplearning4j.nn.conf.MultiLayerConfiguration;\n",
              "  \u001b[39m\n",
              "\u001b[32mimport \u001b[39m\u001b[36morg.deeplearning4j.nn.conf.NeuralNetConfiguration;\n",
              "  \u001b[39m\n",
              "\u001b[32mimport \u001b[39m\u001b[36morg.deeplearning4j.nn.conf.layers.DenseLayer;\n",
              "  \u001b[39m\n",
              "\u001b[32mimport \u001b[39m\u001b[36morg.deeplearning4j.nn.conf.layers.OutputLayer;\n",
              "  \u001b[39m\n",
              "\u001b[32mimport \u001b[39m\u001b[36morg.deeplearning4j.nn.multilayer.MultiLayerNetwork;\n",
              "  \u001b[39m\n",
              "\u001b[32mimport \u001b[39m\u001b[36morg.deeplearning4j.nn.weights.WeightInit;\n",
              "  \u001b[39m\n",
              "\u001b[32mimport \u001b[39m\u001b[36morg.deeplearning4j.optimize.listeners.ScoreIterationListener;\n",
              "  \u001b[39m\n",
              "\u001b[32mimport \u001b[39m\u001b[36morg.nd4j.evaluation.classification.Evaluation;\n",
              "  \u001b[39m\n",
              "\u001b[32mimport \u001b[39m\u001b[36morg.nd4j.linalg.activations.Activation;\n",
              "  \u001b[39m\n",
              "\u001b[32mimport \u001b[39m\u001b[36morg.nd4j.linalg.dataset.api.iterator.DataSetIterator;\n",
              "  \u001b[39m\n",
              "\u001b[32mimport \u001b[39m\u001b[36morg.nd4j.linalg.learning.config.{Nadam, Adam};\n",
              "  \u001b[39m\n",
              "\u001b[32mimport \u001b[39m\u001b[36morg.nd4j.linalg.lossfunctions.LossFunctions.LossFunction;\n",
              "  \u001b[39m\n",
              "\u001b[32mimport \u001b[39m\u001b[36morg.nd4j.linalg.dataset.DataSet;\n",
              "  \u001b[39m\n",
              "\u001b[32mimport \u001b[39m\u001b[36morg.nd4j.linalg.factory.Nd4j\n",
              "  \u001b[39m\n",
              "\u001b[32mimport \u001b[39m\u001b[36mjava.io.{File, PrintWriter}\n",
              "  \u001b[39m\n",
              "\u001b[32mimport \u001b[39m\u001b[36morg.datavec.api.records.reader.RecordReader;\n",
              "  \u001b[39m\n",
              "\u001b[32mimport \u001b[39m\u001b[36morg.datavec.api.records.reader.impl.csv.CSVRecordReader;\n",
              "  \u001b[39m\n",
              "\u001b[32mimport \u001b[39m\u001b[36morg.datavec.api.split.FileSplit;\n",
              "  \u001b[39m\n",
              "\u001b[32mimport \u001b[39m\u001b[36morg.deeplearning4j.datasets.datavec.RecordReaderDataSetIterator;\n",
              "\u001b[39m"
            ]
          },
          "metadata": {},
          "execution_count": 2
        }
      ]
    },
    {
      "cell_type": "markdown",
      "source": [
        "## Functions for loading data\n",
        "\n",
        "* `loadData` will load the data into dataset iterators\n",
        "* `loadData2` loads data directly to a dataset (we'll use this one)"
      ],
      "metadata": {
        "id": "lDpdc0938kYT"
      }
    },
    {
      "cell_type": "code",
      "source": [
        "def loadData(path: String, batchSize: Int, labelIndex: Int, numClasses: Int): DataSetIterator = {\n",
        "    val file = new java.io.File(path)\n",
        "    val reader: RecordReader = new CSVRecordReader()\n",
        "    reader.initialize(new FileSplit( file ))\n",
        "    new RecordReaderDataSetIterator(reader, batchSize, labelIndex, numClasses); //reader, batch size, label index, num of label classes\n",
        "}\n",
        "\n",
        "def loadData2(path: String, labelIndex: Int, numClasses: Int) = {\n",
        "  val data = Nd4j.readNumpy(path, \",\")\n",
        "  val labels = data.getColumn(labelIndex)\n",
        "  val Array(m,n) = data.shape\n",
        "  val features = data.getColumns(  (0 until n.toInt).filter( _ != labelIndex):_*)\n",
        "  val oneHotLabels = Nd4j.zeros(m,numClasses) \n",
        "  labels.dup.data.asInt.zipWithIndex.foreach { \n",
        "    case (k,v) => oneHotLabels.putScalar(v,k,1.0)\n",
        "  }\n",
        "  val dataset = new DataSet(features, oneHotLabels)\n",
        "  dataset\n",
        "}"
      ],
      "metadata": {
        "colab": {
          "base_uri": "https://localhost:8080/"
        },
        "id": "-GL10sC_mQHb",
        "outputId": "e6a2e458-0695-4891-cb0b-8cc4e4a10de9"
      },
      "execution_count": 3,
      "outputs": [
        {
          "output_type": "execute_result",
          "data": {
            "text/plain": [
              "defined \u001b[32mfunction\u001b[39m \u001b[36mloadData\u001b[39m\n",
              "defined \u001b[32mfunction\u001b[39m \u001b[36mloadData2\u001b[39m"
            ]
          },
          "metadata": {},
          "execution_count": 3
        }
      ]
    },
    {
      "cell_type": "code",
      "source": [
        "// add the wandb scala bindings\n",
        "{{\n",
        "  val myJar = \"/content/urban-barnacle/lib/py4j-wandb-assembly-0.1.0.jar\"\n",
        "  val path = java.nio.file.FileSystems.getDefault().getPath(myJar)\n",
        "  val x = ammonite.ops.Path(path)\n",
        "  interp.load.cp(x)\n",
        "}}"
      ],
      "metadata": {
        "id": "8NpL-rk1qa5s"
      },
      "execution_count": 4,
      "outputs": []
    },
    {
      "cell_type": "markdown",
      "source": [
        "## Weights & Biases\n",
        "\n",
        "implementation wasn't thought out to carefully.  Everything is glued together via py4j and a java interface and some ugly scala laid on top\n",
        "\n",
        "very limited bindings available\n",
        "\n",
        "* `login`\n",
        "* `init` -  when called, creates a run on the python side.\n",
        "* `log` - logs detail with the run\n",
        "* `logArtifact` - currently only works with files and directories\n",
        "* `finish` - finishes the run.  \n",
        "\n",
        "TODO\n",
        "* `useArtifact` \n",
        "* `logMedia`\n",
        "\n",
        "Example \n",
        "\n",
        "```\n",
        "import py4j.wandb._ \n",
        "import py4j.wandb.Implicits._\n",
        "val wandb = new WandB(\"wandb-session.log\")\n",
        "wandb.login(key=API_KEY)\n",
        "wandb.init(project = \"myproject\")\n",
        "val data = Map[String, Any](\"metric\" -> 0.1)\n",
        "wandb.log(data) \n",
        "wandb.finish\n",
        "```\n"
      ],
      "metadata": {
        "id": "Cffu0bD_HLvw"
      }
    },
    {
      "cell_type": "code",
      "source": [
        "import py4j.wandb._ \n",
        "import py4j.wandb.Implicits._\n",
        "// currently using default ports, need to assign dynamically\n",
        "val wandb = new WandB(\"wandb-session.log\") // stdout will be logged to wandb-session.log"
      ],
      "metadata": {
        "colab": {
          "base_uri": "https://localhost:8080/"
        },
        "id": "o485_xDJEKMJ",
        "outputId": "35ae51d5-6a22-4567-e31d-0eb83085b9be"
      },
      "execution_count": 5,
      "outputs": [
        {
          "output_type": "execute_result",
          "data": {
            "text/plain": [
              "\u001b[32mimport \u001b[39m\u001b[36mpy4j.wandb._ \n",
              "\u001b[39m\n",
              "\u001b[32mimport \u001b[39m\u001b[36mpy4j.wandb.Implicits._\n",
              "// currently using default ports, need to assign dynamically\n",
              "\u001b[39m\n",
              "\u001b[36mwandb\u001b[39m: \u001b[32mWandB\u001b[39m = py4j.wandb.WandB@5f09f13e"
            ]
          },
          "metadata": {},
          "execution_count": 5
        }
      ]
    },
    {
      "cell_type": "code",
      "source": [
        "val projectName = \"dl4j-scala-colab-nov\""
      ],
      "metadata": {
        "colab": {
          "base_uri": "https://localhost:8080/"
        },
        "id": "Pmk9UD6PThx6",
        "outputId": "ce0df784-7fab-4828-d511-bd390a079fa8"
      },
      "execution_count": 6,
      "outputs": [
        {
          "output_type": "execute_result",
          "data": {
            "text/plain": [
              "\u001b[36mprojectName\u001b[39m: \u001b[32mString\u001b[39m = \u001b[32m\"dl4j-scala-colab-nov\"\u001b[39m"
            ]
          },
          "metadata": {},
          "execution_count": 6
        }
      ]
    },
    {
      "cell_type": "code",
      "source": [
        "// if this get calls too soon after creating the WandB instance\n",
        "// it will error -> need to give time for python server to startup\n",
        "wandb.login(key=\"\")"
      ],
      "metadata": {
        "id": "9ftbC0-JERu8",
        "colab": {
          "base_uri": "https://localhost:8080/"
        },
        "outputId": "e5e7ab6c-e913-4c50-b0f5-0f990f3af65b"
      },
      "execution_count": 7,
      "outputs": [
        {
          "output_type": "execute_result",
          "data": {
            "text/plain": [
              "\u001b[36mres6\u001b[39m: \u001b[32mjava\u001b[39m.\u001b[32mlang\u001b[39m.\u001b[32mBoolean\u001b[39m = true"
            ]
          },
          "metadata": {},
          "execution_count": 7
        }
      ]
    },
    {
      "cell_type": "code",
      "source": [
        "val test = loadData2(\"mnist_test.csv\", 0, 10)"
      ],
      "metadata": {
        "colab": {
          "base_uri": "https://localhost:8080/"
        },
        "id": "M2wtgbJOgAcZ",
        "outputId": "53c12eeb-14e2-456e-8b5f-7afdb6e7e08f"
      },
      "execution_count": 8,
      "outputs": [
        {
          "output_type": "stream",
          "name": "stderr",
          "text": [
            "SLF4J: Failed to load class \"org.slf4j.impl.StaticLoggerBinder\".\n",
            "SLF4J: Defaulting to no-operation (NOP) logger implementation\n",
            "SLF4J: See http://www.slf4j.org/codes.html#StaticLoggerBinder for further details.\n"
          ]
        },
        {
          "output_type": "execute_result",
          "data": {
            "text/plain": [
              "\u001b[36mtest\u001b[39m: \u001b[32mDataSet\u001b[39m = ===========INPUT===================\n",
              "[[         0,         0,         0,  ...         0,         0,         0], \n",
              " [         0,         0,         0,  ...         0,         0,         0], \n",
              " [         0,         0,         0,  ...         0,         0,         0], \n",
              "  ..., \n",
              " [         0,         0,         0,  ...         0,         0,         0], \n",
              " [         0,         0,         0,  ...         0,         0,         0], \n",
              " [         0,         0,         0,  ...         0,         0,         0]]\n",
              "=================OUTPUT==================\n",
              "[[         0,         0,         0,  ...    1.0000,         0,         0], \n",
              " [         0,         0,    1.0000,  ...         0,         0,         0], \n",
              " [         0,    1.0000,         0,  ...         0,         0,         0], \n",
              "  ..., \n",
              " [         0,         0,         0,  ...         0,         0,         0], \n",
              " [         0,         0,         0,  ...         0,         0,         0], \n",
              " [         0,         0,         0,  ...         0,         0,         0]]"
            ]
          },
          "metadata": {},
          "execution_count": 8
        }
      ]
    },
    {
      "cell_type": "code",
      "source": [
        "val testFeatures = test.getFeatures"
      ],
      "metadata": {
        "colab": {
          "base_uri": "https://localhost:8080/"
        },
        "id": "uY6htExmgCTL",
        "outputId": "879fea45-ea43-4957-ff49-cf28bbe8ab78"
      },
      "execution_count": null,
      "outputs": [
        {
          "output_type": "execute_result",
          "data": {
            "text/plain": [
              "\u001b[36mtestFeatures\u001b[39m: \u001b[32morg\u001b[39m.\u001b[32mnd4j\u001b[39m.\u001b[32mlinalg\u001b[39m.\u001b[32mapi\u001b[39m.\u001b[32mndarray\u001b[39m.\u001b[32mINDArray\u001b[39m = [[         0,         0,         0,  ...         0,         0,         0], \n",
              " [         0,         0,         0,  ...         0,         0,         0], \n",
              " [         0,         0,         0,  ...         0,         0,         0], \n",
              "  ..., \n",
              " [         0,         0,         0,  ...         0,         0,         0], \n",
              " [         0,         0,         0,  ...         0,         0,         0], \n",
              " [         0,         0,         0,  ...         0,         0,         0]]"
            ]
          },
          "metadata": {},
          "execution_count": 10
        }
      ]
    },
    {
      "cell_type": "code",
      "source": [
        "import java.util.HashMap\n",
        "import java.util.LinkedList\n",
        "import scala.collection.JavaConverters._"
      ],
      "metadata": {
        "colab": {
          "base_uri": "https://localhost:8080/"
        },
        "id": "4n2q3pgzo8lv",
        "outputId": "c9a1cdc0-f932-4b33-8b4a-6ecdbacb10eb"
      },
      "execution_count": 10,
      "outputs": [
        {
          "output_type": "execute_result",
          "data": {
            "text/plain": [
              "\u001b[32mimport \u001b[39m\u001b[36mjava.util.HashMap\n",
              "\u001b[39m\n",
              "\u001b[32mimport \u001b[39m\u001b[36mjava.util.LinkedList\n",
              "\u001b[39m\n",
              "\u001b[32mimport \u001b[39m\u001b[36mscala.collection.JavaConverters._\u001b[39m"
            ]
          },
          "metadata": {},
          "execution_count": 10
        }
      ]
    },
    {
      "cell_type": "markdown",
      "source": [
        "## Log Training and Test Data"
      ],
      "metadata": {
        "id": "TvvYdqffYYmb"
      }
    },
    {
      "cell_type": "code",
      "source": [
        "wandb.init(\n",
        "  project = projectName, \n",
        "  job_type = \"data\", \n",
        "  notes = \"register train and test data\")\n",
        "\n",
        "val train = loadData2(\"mnist_train.csv\", 0, 10)\n",
        "val test = loadData2(\"mnist_test.csv\", 0, 10)\n",
        "\n",
        "wandb.logArtifact(\n",
        "  \"https://pjreddie.com/media/files/mnist_train.csv\", \n",
        "  name=\"train-data\", \n",
        "  artifactType = \"dataset\")\n",
        "wandb.logArtifact(\n",
        "  \"https://pjreddie.com/media/files/mnist_test.csv\",\n",
        "  name=\"test-data\", \n",
        "  artifactType = \"dataset\")\n",
        "\n",
        "wandb.finish()"
      ],
      "metadata": {
        "colab": {
          "base_uri": "https://localhost:8080/"
        },
        "id": "6tZdMlvYtloI",
        "outputId": "c5b97f27-4432-43d2-9a13-6d409f0037b3"
      },
      "execution_count": 12,
      "outputs": [
        {
          "output_type": "execute_result",
          "data": {
            "text/plain": [
              "\u001b[36mres11_0\u001b[39m: \u001b[32mjava\u001b[39m.\u001b[32mlang\u001b[39m.\u001b[32mBoolean\u001b[39m = true\n",
              "\u001b[36mtrain\u001b[39m: \u001b[32mDataSet\u001b[39m = ===========INPUT===================\n",
              "[[         0,         0,         0,  ...         0,         0,         0], \n",
              " [         0,         0,         0,  ...         0,         0,         0], \n",
              " [         0,         0,         0,  ...         0,         0,         0], \n",
              "  ..., \n",
              " [         0,         0,         0,  ...         0,         0,         0], \n",
              " [         0,         0,         0,  ...         0,         0,         0], \n",
              " [         0,         0,         0,  ...         0,         0,         0]]\n",
              "=================OUTPUT==================\n",
              "[[         0,         0,         0,  ...         0,         0,         0], \n",
              " [    1.0000,         0,         0,  ...         0,         0,         0], \n",
              " [         0,         0,         0,  ...         0,         0,         0], \n",
              "  ..., \n",
              " [         0,         0,         0,  ...         0,         0,         0], \n",
              " [         0,         0,         0,  ...         0,         0,         0], \n",
              " [         0,         0,         0,  ...         0,    1.0000,         0]]\n",
              "\u001b[36mtest\u001b[39m: \u001b[32mDataSet\u001b[39m = ===========INPUT===================\n",
              "[[         0,         0,         0,  ...         0,         0,         0], \n",
              " [         0,         0,         0,  ...         0,         0,         0], \n",
              " [         0,         0,         0,  ...         0,         0,         0], \n",
              "  ..., \n",
              " [         0,         0,         0,  ...         0,         0,         0], \n",
              " [         0,         0,         0,  ...         0,         0,         0], \n",
              " [         0,         0,         0,  ...         0,         0,         0]]\n",
              "=================OUTPUT==================\n",
              "[[         0,         0,         0,  ...    1.0000,         0,         0], \n",
              " [         0,         0,    1.0000,  ...         0,         0,         0], \n",
              " [         0,    1.0000,         0,  ...         0,         0,         0], \n",
              "  ..., \n",
              " [         0,         0,         0,  ...         0,         0,         0], \n",
              " [         0,         0,         0,  ...         0,         0,         0], \n",
              " [         0,         0,         0,  ...         0,         0,         0]]\n",
              "\u001b[36mres11_3\u001b[39m: \u001b[32mjava\u001b[39m.\u001b[32mlang\u001b[39m.\u001b[32mBoolean\u001b[39m = true\n",
              "\u001b[36mres11_4\u001b[39m: \u001b[32mjava\u001b[39m.\u001b[32mlang\u001b[39m.\u001b[32mBoolean\u001b[39m = true\n",
              "\u001b[36mres11_5\u001b[39m: \u001b[32mjava\u001b[39m.\u001b[32mlang\u001b[39m.\u001b[32mBoolean\u001b[39m = true"
            ]
          },
          "metadata": {},
          "execution_count": 12
        }
      ]
    },
    {
      "cell_type": "markdown",
      "source": [
        "## Setup Config for Model Training"
      ],
      "metadata": {
        "id": "GvcSv7MiYexP"
      }
    },
    {
      "cell_type": "markdown",
      "source": [
        "## Create the WandB Listener\n",
        "\n",
        "To report metrics back to WandB"
      ],
      "metadata": {
        "id": "F-vKU3YlYi-w"
      }
    },
    {
      "cell_type": "code",
      "source": [
        "import org.deeplearning4j.optimize.api.BaseTrainingListener;\n",
        "import java.io.Serializable;\n",
        "import org.deeplearning4j.nn.api.Model;\n",
        "import org.nd4j.linalg.dataset.DataSet;\n",
        "\n",
        "case class WandBListener(logIteration: Int = 10,\n",
        "                         testDataset: DataSet,\n",
        "                         run: WandB) extends BaseTrainingListener with Serializable {\n",
        "\n",
        "  if(logIteration <= 0) throw new Exception(s\"Iteration must be greater than 0\")\n",
        "\n",
        "  override def iterationDone(model: Model, iteration: Int, epoch: Int): Unit = { \n",
        "    if(iteration % logIteration == 0) {\n",
        "      val trainingScore = model.score();\n",
        "      val testScore = model.asInstanceOf[MultiLayerNetwork].score(testDataset)\n",
        "      val data = Map[String, Any](\n",
        "        \"epoch\" -> epoch, \"iteration\" -> iteration, \n",
        "        \"test_metric\" -> testScore, \"train_metric\" -> trainingScore\n",
        "        )\n",
        "      run.log(data = data, step = iteration)\n",
        "      print(s\"Score on train dataset at iteration $iteration is $trainingScore\")\n",
        "      println(s\"\\t|| Score on test dataset at iteration $iteration is $testScore\")\n",
        "    }\n",
        "  }\n",
        "}"
      ],
      "metadata": {
        "id": "dHIqGOyHeKn8",
        "colab": {
          "base_uri": "https://localhost:8080/"
        },
        "outputId": "73a59b44-ec5e-4ef6-e616-caad68a116ce"
      },
      "execution_count": 13,
      "outputs": [
        {
          "output_type": "execute_result",
          "data": {
            "text/plain": [
              "\u001b[32mimport \u001b[39m\u001b[36morg.deeplearning4j.optimize.api.BaseTrainingListener;\n",
              "\u001b[39m\n",
              "\u001b[32mimport \u001b[39m\u001b[36mjava.io.Serializable;\n",
              "\u001b[39m\n",
              "\u001b[32mimport \u001b[39m\u001b[36morg.deeplearning4j.nn.api.Model;\n",
              "\u001b[39m\n",
              "\u001b[32mimport \u001b[39m\u001b[36morg.nd4j.linalg.dataset.DataSet;\n",
              "\n",
              "\u001b[39m\n",
              "defined \u001b[32mclass\u001b[39m \u001b[36mWandBListener\u001b[39m"
            ]
          },
          "metadata": {},
          "execution_count": 13
        }
      ]
    },
    {
      "cell_type": "markdown",
      "source": [
        "## Set up model configuration and Tags"
      ],
      "metadata": {
        "id": "3QeZU4XiYsNJ"
      }
    },
    {
      "cell_type": "code",
      "source": [
        "import scala.collection.JavaConverters._\n",
        "val rate=0.0035\n",
        "val numEpochs=100\n",
        "val numColumns=28\n",
        "val randomSeed=123\n",
        "val numRows=28\n",
        "val outputNum=10\n",
        "\n",
        "val wandbConfig = Map[String, Any](\n",
        "  \"numRows\" -> numRows, \"numColumns\" -> numColumns, \"outputNum\" -> outputNum,\n",
        "  \"randomSeed\" -> randomSeed, \"numEpochs\" -> numEpochs, \"rate\" -> rate\n",
        "  )\n",
        "val wandbTags = List(\"scala\", \"dl4j\").asJava"
      ],
      "metadata": {
        "id": "vv2DV6VPf-DN",
        "colab": {
          "base_uri": "https://localhost:8080/"
        },
        "outputId": "188ae6ac-57d7-4c16-e7e7-fab73f0ede51"
      },
      "execution_count": 14,
      "outputs": [
        {
          "output_type": "execute_result",
          "data": {
            "text/plain": [
              "\u001b[32mimport \u001b[39m\u001b[36mscala.collection.JavaConverters._\n",
              "\u001b[39m\n",
              "\u001b[36mrate\u001b[39m: \u001b[32mDouble\u001b[39m = \u001b[32m0.0035\u001b[39m\n",
              "\u001b[36mnumEpochs\u001b[39m: \u001b[32mInt\u001b[39m = \u001b[32m100\u001b[39m\n",
              "\u001b[36mnumColumns\u001b[39m: \u001b[32mInt\u001b[39m = \u001b[32m28\u001b[39m\n",
              "\u001b[36mrandomSeed\u001b[39m: \u001b[32mInt\u001b[39m = \u001b[32m123\u001b[39m\n",
              "\u001b[36mnumRows\u001b[39m: \u001b[32mInt\u001b[39m = \u001b[32m28\u001b[39m\n",
              "\u001b[36moutputNum\u001b[39m: \u001b[32mInt\u001b[39m = \u001b[32m10\u001b[39m\n",
              "\u001b[36mwandbConfig\u001b[39m: \u001b[32mMap\u001b[39m[\u001b[32mString\u001b[39m, \u001b[32mAny\u001b[39m] = \u001b[33mMap\u001b[39m(\n",
              "  \u001b[32m\"rate\"\u001b[39m -> \u001b[32m0.0035\u001b[39m,\n",
              "  \u001b[32m\"numEpochs\"\u001b[39m -> \u001b[32m100\u001b[39m,\n",
              "  \u001b[32m\"numColumns\"\u001b[39m -> \u001b[32m28\u001b[39m,\n",
              "  \u001b[32m\"randomSeed\"\u001b[39m -> \u001b[32m123\u001b[39m,\n",
              "  \u001b[32m\"numRows\"\u001b[39m -> \u001b[32m28\u001b[39m,\n",
              "  \u001b[32m\"outputNum\"\u001b[39m -> \u001b[32m10\u001b[39m\n",
              ")\n",
              "\u001b[36mwandbTags\u001b[39m: \u001b[32mjava\u001b[39m.\u001b[32mutil\u001b[39m.\u001b[32mList\u001b[39m[\u001b[32mString\u001b[39m] = \u001b[33mSeqWrapper\u001b[39m(\u001b[33mList\u001b[39m(\u001b[32m\"scala\"\u001b[39m, \u001b[32m\"dl4j\"\u001b[39m))"
            ]
          },
          "metadata": {},
          "execution_count": 14
        }
      ]
    },
    {
      "cell_type": "code",
      "source": [
        "val modelConf = new NeuralNetConfiguration.Builder()\n",
        "            .seed(randomSeed) //include a random seed for reproducibility\n",
        "            .activation(Activation.RELU)\n",
        "            .weightInit(WeightInit.XAVIER)\n",
        "            .updater(new Adam(rate))\n",
        "            .l2(rate * 0.0001) // regularize learning model\n",
        "            .list()\n",
        "            .layer(new DenseLayer.Builder() //create the first input layer.\n",
        "                    .nIn(numRows * numColumns)\n",
        "                    .nOut(40)\n",
        "                    .build())\n",
        "            .layer(new DenseLayer.Builder() //create the second input layer\n",
        "                    .nIn(40).activation(Activation.IDENTITY)\n",
        "                    .nOut(10)\n",
        "                    .build())\n",
        "            .layer(new OutputLayer.Builder(LossFunction.MCXENT) //create hidden layer\n",
        "                    .activation(Activation.SOFTMAX)\n",
        "                    .nOut(outputNum)\n",
        "                    .build())\n",
        "            .build();"
      ],
      "metadata": {
        "id": "MCm2R294h_9C",
        "colab": {
          "base_uri": "https://localhost:8080/"
        },
        "outputId": "9065a4a5-576b-49dd-d9e0-39fb5e0e2632"
      },
      "execution_count": 15,
      "outputs": [
        {
          "output_type": "execute_result",
          "data": {
            "text/plain": [
              "\u001b[36mmodelConf\u001b[39m: \u001b[32mMultiLayerConfiguration\u001b[39m = {\n",
              "  \"backpropType\" : \"Standard\",\n",
              "  \"cacheMode\" : \"NONE\",\n",
              "  \"confs\" : [ {\n",
              "    \"cacheMode\" : \"NONE\",\n",
              "    \"dataType\" : \"FLOAT\",\n",
              "    \"epochCount\" : 0,\n",
              "    \"iterationCount\" : 0,\n",
              "    \"layer\" : {\n",
              "      \"@class\" : \"org.deeplearning4j.nn.conf.layers.DenseLayer\",\n",
              "      \"activationFn\" : {\n",
              "        \"@class\" : \"org.nd4j.linalg.activations.impl.ActivationReLU\",\n",
              "        \"max\" : null,\n",
              "        \"negativeSlope\" : null,\n",
              "        \"threshold\" : null\n",
              "      },\n",
              "      \"biasInit\" : 0.0,\n",
              "      \"biasUpdater\" : null,\n",
              "      \"constraints\" : null,\n",
              "      \"gainInit\" : 1.0,\n",
              "      \"gradientNormalization\" : \"None\",\n",
              "      \"gradientNormalizationThreshold\" : 1.0,\n",
              "      \"hasBias\" : true,\n",
              "      \"hasLayerNorm\" : false,\n",
              "      \"idropout\" : null,\n",
              "      \"iupdater\" : {\n",
              "        \"@class\" : \"org.nd4j.linalg.learning.config.Adam\",\n",
              "        \"beta1\" : 0.9,\n",
              "        \"beta2\" : 0.999,\n",
              "        \"epsilon\" : 1.0E-8,\n",
              "        \"learningRate\" : 0.0035\n",
              "      },\n",
              "      \"layerName\" : \"layer0\",\n",
              "      \"nin\" : 784,\n",
              "      \"nout\" : 40,\n",
              "      \"regularization\" : [ {\n",
              "        \"@class\" : \"org.nd4j.linalg.learning.regularization.L2Regularization\",\n",
              "        \"l2\" : {\n",
              "          \"@class\" : \"org.nd4j.linalg.schedule.FixedSchedule\",\n",
              "..."
            ]
          },
          "metadata": {},
          "execution_count": 15
        }
      ]
    },
    {
      "cell_type": "markdown",
      "source": [
        "## Create an instance of the model"
      ],
      "metadata": {
        "id": "Dhk571u7ZZuR"
      }
    },
    {
      "cell_type": "code",
      "source": [
        "val model = new MultiLayerNetwork(modelConf);\n",
        "model.setListeners(new WandBListener(10, test, wandb));  //print and log score every 10 iterations\n",
        "model.init();\n"
      ],
      "metadata": {
        "id": "_M4OGlPdiCc7",
        "colab": {
          "base_uri": "https://localhost:8080/"
        },
        "outputId": "855e91e1-4e25-40e8-bee0-c2f814044a85"
      },
      "execution_count": 16,
      "outputs": [
        {
          "output_type": "execute_result",
          "data": {
            "text/plain": [
              "\u001b[36mmodel\u001b[39m: \u001b[32mMultiLayerNetwork\u001b[39m = org.deeplearning4j.nn.multilayer.MultiLayerNetwork@62136929"
            ]
          },
          "metadata": {},
          "execution_count": 16
        }
      ]
    },
    {
      "cell_type": "markdown",
      "source": [
        "## Start WandB Run for training"
      ],
      "metadata": {
        "id": "W4GUctCXY1OR"
      }
    },
    {
      "cell_type": "code",
      "source": [
        "wandb.init(project=projectName, config=wandbConfig, tags=wandbTags)"
      ],
      "metadata": {
        "colab": {
          "base_uri": "https://localhost:8080/"
        },
        "id": "64OL2xYEnvPW",
        "outputId": "235dfa16-6c76-45ec-f732-ca8c53da1fed"
      },
      "execution_count": 17,
      "outputs": [
        {
          "output_type": "execute_result",
          "data": {
            "text/plain": [
              "\u001b[36mres16\u001b[39m: \u001b[32mjava\u001b[39m.\u001b[32mlang\u001b[39m.\u001b[32mBoolean\u001b[39m = true"
            ]
          },
          "metadata": {},
          "execution_count": 17
        }
      ]
    },
    {
      "cell_type": "markdown",
      "source": [
        "## Train the network"
      ],
      "metadata": {
        "id": "GILnbrSxZWZR"
      }
    },
    {
      "cell_type": "code",
      "source": [
        "(1 to wandbConfig.get(\"numEpochs\").get.asInstanceOf[Int] ).foreach{  i => model.fit(train) }"
      ],
      "metadata": {
        "colab": {
          "base_uri": "https://localhost:8080/"
        },
        "id": "9iI-QXkKwQO7",
        "outputId": "4a7a5404-f712-4920-c8d6-53a16e499cf1"
      },
      "execution_count": 18,
      "outputs": [
        {
          "output_type": "stream",
          "name": "stdout",
          "text": [
            "Score on train dataset at iteration 0 is 20.63893311146226\t|| Score on test dataset at iteration 0 is 19.521246649197682\n",
            "Score on train dataset at iteration 10 is 6.0593237358630425\t|| Score on test dataset at iteration 10 is 4.96630897103765\n",
            "Score on train dataset at iteration 20 is 2.077976340914818\t|| Score on test dataset at iteration 20 is 1.8557681804897157\n",
            "Score on train dataset at iteration 30 is 1.5914523972603138\t|| Score on test dataset at iteration 30 is 1.574763250179781\n",
            "Score on train dataset at iteration 40 is 1.4703714770220755\t|| Score on test dataset at iteration 40 is 1.4798907498759668\n",
            "Score on train dataset at iteration 50 is 1.3508075547657206\t|| Score on test dataset at iteration 50 is 1.3689089226768623\n",
            "Score on train dataset at iteration 60 is 1.2566948080773603\t|| Score on test dataset at iteration 60 is 1.262206007881391\n",
            "Score on train dataset at iteration 70 is 1.1734109758482336\t|| Score on test dataset at iteration 70 is 1.1804021246742527\n",
            "Score on train dataset at iteration 80 is 1.0978526869676626\t|| Score on test dataset at iteration 80 is 1.1105358637396645\n",
            "Score on train dataset at iteration 90 is 1.0343387648876272\t|| Score on test dataset at iteration 90 is 1.0525543985951944\n"
          ]
        }
      ]
    },
    {
      "cell_type": "markdown",
      "source": [
        "## Log Artifact - Model"
      ],
      "metadata": {
        "id": "auc8Q36yY8PC"
      }
    },
    {
      "cell_type": "code",
      "source": [
        "model.save(new File(\"model.bin\"));\n",
        "wandb.logArtifact(\"model.bin\", name=\"serialized-model\", artifactType = \"model\")"
      ],
      "metadata": {
        "colab": {
          "base_uri": "https://localhost:8080/"
        },
        "id": "Pei_zy9ANemk",
        "outputId": "34c52fe5-f824-4ac8-af02-542c41830460"
      },
      "execution_count": 19,
      "outputs": [
        {
          "output_type": "execute_result",
          "data": {
            "text/plain": [
              "\u001b[36mres18_1\u001b[39m: \u001b[32mjava\u001b[39m.\u001b[32mlang\u001b[39m.\u001b[32mBoolean\u001b[39m = true"
            ]
          },
          "metadata": {},
          "execution_count": 19
        }
      ]
    },
    {
      "cell_type": "markdown",
      "source": [
        "## Log Artifact - Model Config"
      ],
      "metadata": {
        "id": "uZ8m5GNFY_ZX"
      }
    },
    {
      "cell_type": "code",
      "source": [
        "val yamlFile = new File(s\"model-conf-${model.hashCode}.yaml\")\n",
        "val modelYamlPW = new PrintWriter(yamlFile)\n",
        "modelYamlPW.write(modelConf.toYaml)\n",
        "modelYamlPW.close\n",
        "wandb.logArtifact(yamlFile.getCanonicalPath, name=\"model-config\", artifactType = \"config\")"
      ],
      "metadata": {
        "colab": {
          "base_uri": "https://localhost:8080/"
        },
        "id": "SqTDA31qtkqJ",
        "outputId": "8ca9bc1e-7909-4ab0-f23c-255a691a1ac3"
      },
      "execution_count": 20,
      "outputs": [
        {
          "output_type": "execute_result",
          "data": {
            "text/plain": [
              "\u001b[36myamlFile\u001b[39m: \u001b[32mFile\u001b[39m = model-conf-1645439273.yaml\n",
              "\u001b[36mmodelYamlPW\u001b[39m: \u001b[32mPrintWriter\u001b[39m = java.io.PrintWriter@22c65b96\n",
              "\u001b[36mres19_4\u001b[39m: \u001b[32mjava\u001b[39m.\u001b[32mlang\u001b[39m.\u001b[32mBoolean\u001b[39m = true"
            ]
          },
          "metadata": {},
          "execution_count": 20
        }
      ]
    },
    {
      "cell_type": "markdown",
      "source": [
        "## Log Artifact - Confusion Matrix and Stuff"
      ],
      "metadata": {
        "id": "hltVNmgFZHxj"
      }
    },
    {
      "cell_type": "code",
      "source": [
        "val eval = new Evaluation(10);\n",
        "val output = model.output(test.getFeatures);\n",
        "eval.eval(test.getLabels, output);"
      ],
      "metadata": {
        "id": "nEkr9tUFoU3D",
        "colab": {
          "base_uri": "https://localhost:8080/"
        },
        "outputId": "daebdcc3-d6d9-4406-fd97-663bf395b326"
      },
      "execution_count": 21,
      "outputs": [
        {
          "output_type": "execute_result",
          "data": {
            "text/plain": [
              "\u001b[36meval\u001b[39m: \u001b[32mEvaluation\u001b[39m = \n",
              "\n",
              "========================Evaluation Metrics========================\n",
              " # of classes:    10\n",
              " Accuracy:        0.7080\n",
              " Precision:       0.7997\n",
              " Recall:          0.7037\n",
              " F1 Score:        0.7087\n",
              "Precision, recall & F1: macro-averaged (equally weighted avg. of 10 classes)\n",
              "\n",
              "\n",
              "=========================Confusion Matrix=========================\n",
              "   0   1   2   3   4   5   6   7   8   9\n",
              "-----------------------------------------\n",
              " 881   0   4   1   1   1   5   1  84   2 | 0 = 0\n",
              "   0 988   1   7   4   0   4   1 126   4 | 1 = 1\n",
              "  13   0 719   6   0   8   7   5 247  27 | 2 = 2\n",
              "   3   0  11 625   0 211   2   3 146   9 | 3 = 3\n",
              "   0   0   2   1 228   1   4   2 109 635 | 4 = 4\n",
              "   5   2   6 146   0 434   5   1 284   9 | 5 = 5\n",
              "   8   2   2   2   3   6 727   0 187  21 | 6 = 6\n",
              "   0   2  22   2  10   3   0 714 117 158 | 7 = 7\n",
              "   3   1   8   6   0  22   1   1 900  32 | 8 = 8\n",
              "   4   3   0   3   6  14   1   9 105 864 | 9 = 9\n",
              "\n",
              "Confusion matrix format: Actual (rowClass) predicted as (columnClass) N times\n",
              "==================================================================\n",
              "\u001b[36moutput\u001b[39m: \u001b[32morg\u001b[39m.\u001b[32mnd4j\u001b[39m.\u001b[32mlinalg\u001b[39m.\u001b[32mapi\u001b[39m.\u001b[32mndarray\u001b[39m.\u001b[32mINDArray\u001b[39m = [[  1.11e-41,         0,1.4787e-27,  ...    1.0000,         0,         0], \n",
              " [         0,         0,    1.0000,  ...         0,1.2598e-42,         0], \n",
              " [3.6495e-19,    1.0000,1.0821e-18,  ...2.4911e-16, 3.2435e-6,  1.153e-5], \n",
              "  ..., \n",
              " [3.8922e-23, 1.871e-14, 4.1725e-5,  ...    0.0507, 3.4075e-5,    0.5180], \n",
              " [    0.0012, 8.2198e-5,    0.0354,  ...    0.0067,    0.5893,    0.0001], \n",
              " [2.2487e-22,1.9777e-40,1.1389e-30,  ...         0,2.7076e-41,         0]]"
            ]
          },
          "metadata": {},
          "execution_count": 21
        }
      ]
    },
    {
      "cell_type": "code",
      "source": [
        "val cf = new File(\"results.txt\")\n",
        "val pw = new PrintWriter(cf)\n",
        "pw.write(eval.toString)\n",
        "pw.close \n",
        "wandb.logArtifact(cf.getCanonicalPath, name=\"metrics\", artifactType=\"txt\")"
      ],
      "metadata": {
        "colab": {
          "base_uri": "https://localhost:8080/"
        },
        "id": "BpgNtyrMxXuz",
        "outputId": "7c903e09-fe44-4a16-f4d5-d1a5d1feb9d6"
      },
      "execution_count": 22,
      "outputs": [
        {
          "output_type": "execute_result",
          "data": {
            "text/plain": [
              "\u001b[36mcf\u001b[39m: \u001b[32mFile\u001b[39m = results.txt\n",
              "\u001b[36mpw\u001b[39m: \u001b[32mPrintWriter\u001b[39m = java.io.PrintWriter@3f4d0f87\n",
              "\u001b[36mres21_4\u001b[39m: \u001b[32mjava\u001b[39m.\u001b[32mlang\u001b[39m.\u001b[32mBoolean\u001b[39m = true"
            ]
          },
          "metadata": {},
          "execution_count": 22
        }
      ]
    },
    {
      "cell_type": "markdown",
      "source": [
        "## Finish the run"
      ],
      "metadata": {
        "id": "u_h3tU-1ZOP8"
      }
    },
    {
      "cell_type": "code",
      "source": [
        "wandb.finish"
      ],
      "metadata": {
        "colab": {
          "base_uri": "https://localhost:8080/"
        },
        "id": "E2ChV0kC_7YI",
        "outputId": "9044884d-f874-47dd-a3ac-8449876f49aa"
      },
      "execution_count": 23,
      "outputs": [
        {
          "output_type": "execute_result",
          "data": {
            "text/plain": [
              "\u001b[36mres22\u001b[39m: \u001b[32mjava\u001b[39m.\u001b[32mlang\u001b[39m.\u001b[32mBoolean\u001b[39m = true"
            ]
          },
          "metadata": {},
          "execution_count": 23
        }
      ]
    },
    {
      "cell_type": "markdown",
      "source": [
        "## Shutdown Python Server"
      ],
      "metadata": {
        "id": "ixNslYTCZQtu"
      }
    },
    {
      "cell_type": "code",
      "source": [
        "wandb.shutdownGateway"
      ],
      "metadata": {
        "id": "otv_zSMrwHN5"
      },
      "execution_count": 24,
      "outputs": []
    },
    {
      "cell_type": "markdown",
      "source": [
        "If you have made is this far, open `wandb-session.log` and review the output"
      ],
      "metadata": {
        "id": "UVbltDKBDil3"
      }
    }
  ],
  "metadata": {
    "colab": {
      "collapsed_sections": [],
      "provenance": [],
      "include_colab_link": true
    },
    "kernelspec": {
      "display_name": "Scala",
      "language": "scala",
      "name": "scala"
    }
  },
  "nbformat": 4,
  "nbformat_minor": 0
}