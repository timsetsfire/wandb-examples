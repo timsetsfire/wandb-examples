{
  "nbformat": 4,
  "nbformat_minor": 0,
  "metadata": {
    "colab": {
      "provenance": [],
      "authorship_tag": "ABX9TyNI3ipn2DZKs0sMP3dVI9bY",
      "include_colab_link": true
    },
    "kernelspec": {
      "name": "python3",
      "display_name": "Python 3"
    },
    "language_info": {
      "name": "python"
    },
    "widgets": {
      "application/vnd.jupyter.widget-state+json": {
        "0be36c484874401091283326f610dff0": {
          "model_module": "@jupyter-widgets/controls",
          "model_name": "VBoxModel",
          "model_module_version": "1.5.0",
          "state": {
            "_dom_classes": [],
            "_model_module": "@jupyter-widgets/controls",
            "_model_module_version": "1.5.0",
            "_model_name": "VBoxModel",
            "_view_count": null,
            "_view_module": "@jupyter-widgets/controls",
            "_view_module_version": "1.5.0",
            "_view_name": "VBoxView",
            "box_style": "",
            "children": [
              "IPY_MODEL_9cf151e0b33a442cb9ccfe4f0f827b5a",
              "IPY_MODEL_408378a4dc8b4992a12b6302e18b7bf2"
            ],
            "layout": "IPY_MODEL_e4fd46780ba8434bb5a8e089fdf233ff"
          }
        },
        "9cf151e0b33a442cb9ccfe4f0f827b5a": {
          "model_module": "@jupyter-widgets/controls",
          "model_name": "LabelModel",
          "model_module_version": "1.5.0",
          "state": {
            "_dom_classes": [],
            "_model_module": "@jupyter-widgets/controls",
            "_model_module_version": "1.5.0",
            "_model_name": "LabelModel",
            "_view_count": null,
            "_view_module": "@jupyter-widgets/controls",
            "_view_module_version": "1.5.0",
            "_view_name": "LabelView",
            "description": "",
            "description_tooltip": null,
            "layout": "IPY_MODEL_5ab44688343f46c1b1966bbcb7d655b4",
            "placeholder": "​",
            "style": "IPY_MODEL_71056bd6d26c4b40896596983f03a3f0",
            "value": "3.030 MB of 3.042 MB uploaded (0.000 MB deduped)\r"
          }
        },
        "408378a4dc8b4992a12b6302e18b7bf2": {
          "model_module": "@jupyter-widgets/controls",
          "model_name": "FloatProgressModel",
          "model_module_version": "1.5.0",
          "state": {
            "_dom_classes": [],
            "_model_module": "@jupyter-widgets/controls",
            "_model_module_version": "1.5.0",
            "_model_name": "FloatProgressModel",
            "_view_count": null,
            "_view_module": "@jupyter-widgets/controls",
            "_view_module_version": "1.5.0",
            "_view_name": "ProgressView",
            "bar_style": "",
            "description": "",
            "description_tooltip": null,
            "layout": "IPY_MODEL_0e2fe93da51d4c9fb984e96783e2c0f0",
            "max": 1,
            "min": 0,
            "orientation": "horizontal",
            "style": "IPY_MODEL_874aee9feca44ef0a6964e25e0b394e9",
            "value": 0.9960452485765372
          }
        },
        "e4fd46780ba8434bb5a8e089fdf233ff": {
          "model_module": "@jupyter-widgets/base",
          "model_name": "LayoutModel",
          "model_module_version": "1.2.0",
          "state": {
            "_model_module": "@jupyter-widgets/base",
            "_model_module_version": "1.2.0",
            "_model_name": "LayoutModel",
            "_view_count": null,
            "_view_module": "@jupyter-widgets/base",
            "_view_module_version": "1.2.0",
            "_view_name": "LayoutView",
            "align_content": null,
            "align_items": null,
            "align_self": null,
            "border": null,
            "bottom": null,
            "display": null,
            "flex": null,
            "flex_flow": null,
            "grid_area": null,
            "grid_auto_columns": null,
            "grid_auto_flow": null,
            "grid_auto_rows": null,
            "grid_column": null,
            "grid_gap": null,
            "grid_row": null,
            "grid_template_areas": null,
            "grid_template_columns": null,
            "grid_template_rows": null,
            "height": null,
            "justify_content": null,
            "justify_items": null,
            "left": null,
            "margin": null,
            "max_height": null,
            "max_width": null,
            "min_height": null,
            "min_width": null,
            "object_fit": null,
            "object_position": null,
            "order": null,
            "overflow": null,
            "overflow_x": null,
            "overflow_y": null,
            "padding": null,
            "right": null,
            "top": null,
            "visibility": null,
            "width": null
          }
        },
        "5ab44688343f46c1b1966bbcb7d655b4": {
          "model_module": "@jupyter-widgets/base",
          "model_name": "LayoutModel",
          "model_module_version": "1.2.0",
          "state": {
            "_model_module": "@jupyter-widgets/base",
            "_model_module_version": "1.2.0",
            "_model_name": "LayoutModel",
            "_view_count": null,
            "_view_module": "@jupyter-widgets/base",
            "_view_module_version": "1.2.0",
            "_view_name": "LayoutView",
            "align_content": null,
            "align_items": null,
            "align_self": null,
            "border": null,
            "bottom": null,
            "display": null,
            "flex": null,
            "flex_flow": null,
            "grid_area": null,
            "grid_auto_columns": null,
            "grid_auto_flow": null,
            "grid_auto_rows": null,
            "grid_column": null,
            "grid_gap": null,
            "grid_row": null,
            "grid_template_areas": null,
            "grid_template_columns": null,
            "grid_template_rows": null,
            "height": null,
            "justify_content": null,
            "justify_items": null,
            "left": null,
            "margin": null,
            "max_height": null,
            "max_width": null,
            "min_height": null,
            "min_width": null,
            "object_fit": null,
            "object_position": null,
            "order": null,
            "overflow": null,
            "overflow_x": null,
            "overflow_y": null,
            "padding": null,
            "right": null,
            "top": null,
            "visibility": null,
            "width": null
          }
        },
        "71056bd6d26c4b40896596983f03a3f0": {
          "model_module": "@jupyter-widgets/controls",
          "model_name": "DescriptionStyleModel",
          "model_module_version": "1.5.0",
          "state": {
            "_model_module": "@jupyter-widgets/controls",
            "_model_module_version": "1.5.0",
            "_model_name": "DescriptionStyleModel",
            "_view_count": null,
            "_view_module": "@jupyter-widgets/base",
            "_view_module_version": "1.2.0",
            "_view_name": "StyleView",
            "description_width": ""
          }
        },
        "0e2fe93da51d4c9fb984e96783e2c0f0": {
          "model_module": "@jupyter-widgets/base",
          "model_name": "LayoutModel",
          "model_module_version": "1.2.0",
          "state": {
            "_model_module": "@jupyter-widgets/base",
            "_model_module_version": "1.2.0",
            "_model_name": "LayoutModel",
            "_view_count": null,
            "_view_module": "@jupyter-widgets/base",
            "_view_module_version": "1.2.0",
            "_view_name": "LayoutView",
            "align_content": null,
            "align_items": null,
            "align_self": null,
            "border": null,
            "bottom": null,
            "display": null,
            "flex": null,
            "flex_flow": null,
            "grid_area": null,
            "grid_auto_columns": null,
            "grid_auto_flow": null,
            "grid_auto_rows": null,
            "grid_column": null,
            "grid_gap": null,
            "grid_row": null,
            "grid_template_areas": null,
            "grid_template_columns": null,
            "grid_template_rows": null,
            "height": null,
            "justify_content": null,
            "justify_items": null,
            "left": null,
            "margin": null,
            "max_height": null,
            "max_width": null,
            "min_height": null,
            "min_width": null,
            "object_fit": null,
            "object_position": null,
            "order": null,
            "overflow": null,
            "overflow_x": null,
            "overflow_y": null,
            "padding": null,
            "right": null,
            "top": null,
            "visibility": null,
            "width": null
          }
        },
        "874aee9feca44ef0a6964e25e0b394e9": {
          "model_module": "@jupyter-widgets/controls",
          "model_name": "ProgressStyleModel",
          "model_module_version": "1.5.0",
          "state": {
            "_model_module": "@jupyter-widgets/controls",
            "_model_module_version": "1.5.0",
            "_model_name": "ProgressStyleModel",
            "_view_count": null,
            "_view_module": "@jupyter-widgets/base",
            "_view_module_version": "1.2.0",
            "_view_name": "StyleView",
            "bar_color": null,
            "description_width": ""
          }
        },
        "0979eb4e5e1140c7b31c5477cf9199b7": {
          "model_module": "@jupyter-widgets/controls",
          "model_name": "VBoxModel",
          "model_module_version": "1.5.0",
          "state": {
            "_dom_classes": [],
            "_model_module": "@jupyter-widgets/controls",
            "_model_module_version": "1.5.0",
            "_model_name": "VBoxModel",
            "_view_count": null,
            "_view_module": "@jupyter-widgets/controls",
            "_view_module_version": "1.5.0",
            "_view_name": "VBoxView",
            "box_style": "",
            "children": [
              "IPY_MODEL_3dc20947bed04c75a4909f45f90bc159",
              "IPY_MODEL_f37c91f58f1440f4bacd7e28c86c3669"
            ],
            "layout": "IPY_MODEL_618e83c09d9442bf96c7cf150f74935d"
          }
        },
        "3dc20947bed04c75a4909f45f90bc159": {
          "model_module": "@jupyter-widgets/controls",
          "model_name": "LabelModel",
          "model_module_version": "1.5.0",
          "state": {
            "_dom_classes": [],
            "_model_module": "@jupyter-widgets/controls",
            "_model_module_version": "1.5.0",
            "_model_name": "LabelModel",
            "_view_count": null,
            "_view_module": "@jupyter-widgets/controls",
            "_view_module_version": "1.5.0",
            "_view_name": "LabelView",
            "description": "",
            "description_tooltip": null,
            "layout": "IPY_MODEL_dead530936c14fdba8f8739524fe7a82",
            "placeholder": "​",
            "style": "IPY_MODEL_698fee1cb47c4fcab45f70d69cbea832",
            "value": "2.491 MB of 2.505 MB uploaded (0.000 MB deduped)\r"
          }
        },
        "f37c91f58f1440f4bacd7e28c86c3669": {
          "model_module": "@jupyter-widgets/controls",
          "model_name": "FloatProgressModel",
          "model_module_version": "1.5.0",
          "state": {
            "_dom_classes": [],
            "_model_module": "@jupyter-widgets/controls",
            "_model_module_version": "1.5.0",
            "_model_name": "FloatProgressModel",
            "_view_count": null,
            "_view_module": "@jupyter-widgets/controls",
            "_view_module_version": "1.5.0",
            "_view_name": "ProgressView",
            "bar_style": "",
            "description": "",
            "description_tooltip": null,
            "layout": "IPY_MODEL_f4992a6f0dd34e398b231dbab31fc8bd",
            "max": 1,
            "min": 0,
            "orientation": "horizontal",
            "style": "IPY_MODEL_70251a2feb9f45a0b73af5a0d7450208",
            "value": 0.9945692771244886
          }
        },
        "618e83c09d9442bf96c7cf150f74935d": {
          "model_module": "@jupyter-widgets/base",
          "model_name": "LayoutModel",
          "model_module_version": "1.2.0",
          "state": {
            "_model_module": "@jupyter-widgets/base",
            "_model_module_version": "1.2.0",
            "_model_name": "LayoutModel",
            "_view_count": null,
            "_view_module": "@jupyter-widgets/base",
            "_view_module_version": "1.2.0",
            "_view_name": "LayoutView",
            "align_content": null,
            "align_items": null,
            "align_self": null,
            "border": null,
            "bottom": null,
            "display": null,
            "flex": null,
            "flex_flow": null,
            "grid_area": null,
            "grid_auto_columns": null,
            "grid_auto_flow": null,
            "grid_auto_rows": null,
            "grid_column": null,
            "grid_gap": null,
            "grid_row": null,
            "grid_template_areas": null,
            "grid_template_columns": null,
            "grid_template_rows": null,
            "height": null,
            "justify_content": null,
            "justify_items": null,
            "left": null,
            "margin": null,
            "max_height": null,
            "max_width": null,
            "min_height": null,
            "min_width": null,
            "object_fit": null,
            "object_position": null,
            "order": null,
            "overflow": null,
            "overflow_x": null,
            "overflow_y": null,
            "padding": null,
            "right": null,
            "top": null,
            "visibility": null,
            "width": null
          }
        },
        "dead530936c14fdba8f8739524fe7a82": {
          "model_module": "@jupyter-widgets/base",
          "model_name": "LayoutModel",
          "model_module_version": "1.2.0",
          "state": {
            "_model_module": "@jupyter-widgets/base",
            "_model_module_version": "1.2.0",
            "_model_name": "LayoutModel",
            "_view_count": null,
            "_view_module": "@jupyter-widgets/base",
            "_view_module_version": "1.2.0",
            "_view_name": "LayoutView",
            "align_content": null,
            "align_items": null,
            "align_self": null,
            "border": null,
            "bottom": null,
            "display": null,
            "flex": null,
            "flex_flow": null,
            "grid_area": null,
            "grid_auto_columns": null,
            "grid_auto_flow": null,
            "grid_auto_rows": null,
            "grid_column": null,
            "grid_gap": null,
            "grid_row": null,
            "grid_template_areas": null,
            "grid_template_columns": null,
            "grid_template_rows": null,
            "height": null,
            "justify_content": null,
            "justify_items": null,
            "left": null,
            "margin": null,
            "max_height": null,
            "max_width": null,
            "min_height": null,
            "min_width": null,
            "object_fit": null,
            "object_position": null,
            "order": null,
            "overflow": null,
            "overflow_x": null,
            "overflow_y": null,
            "padding": null,
            "right": null,
            "top": null,
            "visibility": null,
            "width": null
          }
        },
        "698fee1cb47c4fcab45f70d69cbea832": {
          "model_module": "@jupyter-widgets/controls",
          "model_name": "DescriptionStyleModel",
          "model_module_version": "1.5.0",
          "state": {
            "_model_module": "@jupyter-widgets/controls",
            "_model_module_version": "1.5.0",
            "_model_name": "DescriptionStyleModel",
            "_view_count": null,
            "_view_module": "@jupyter-widgets/base",
            "_view_module_version": "1.2.0",
            "_view_name": "StyleView",
            "description_width": ""
          }
        },
        "f4992a6f0dd34e398b231dbab31fc8bd": {
          "model_module": "@jupyter-widgets/base",
          "model_name": "LayoutModel",
          "model_module_version": "1.2.0",
          "state": {
            "_model_module": "@jupyter-widgets/base",
            "_model_module_version": "1.2.0",
            "_model_name": "LayoutModel",
            "_view_count": null,
            "_view_module": "@jupyter-widgets/base",
            "_view_module_version": "1.2.0",
            "_view_name": "LayoutView",
            "align_content": null,
            "align_items": null,
            "align_self": null,
            "border": null,
            "bottom": null,
            "display": null,
            "flex": null,
            "flex_flow": null,
            "grid_area": null,
            "grid_auto_columns": null,
            "grid_auto_flow": null,
            "grid_auto_rows": null,
            "grid_column": null,
            "grid_gap": null,
            "grid_row": null,
            "grid_template_areas": null,
            "grid_template_columns": null,
            "grid_template_rows": null,
            "height": null,
            "justify_content": null,
            "justify_items": null,
            "left": null,
            "margin": null,
            "max_height": null,
            "max_width": null,
            "min_height": null,
            "min_width": null,
            "object_fit": null,
            "object_position": null,
            "order": null,
            "overflow": null,
            "overflow_x": null,
            "overflow_y": null,
            "padding": null,
            "right": null,
            "top": null,
            "visibility": null,
            "width": null
          }
        },
        "70251a2feb9f45a0b73af5a0d7450208": {
          "model_module": "@jupyter-widgets/controls",
          "model_name": "ProgressStyleModel",
          "model_module_version": "1.5.0",
          "state": {
            "_model_module": "@jupyter-widgets/controls",
            "_model_module_version": "1.5.0",
            "_model_name": "ProgressStyleModel",
            "_view_count": null,
            "_view_module": "@jupyter-widgets/base",
            "_view_module_version": "1.2.0",
            "_view_name": "StyleView",
            "bar_color": null,
            "description_width": ""
          }
        },
        "cfd51504f6c14c0ab6f1b501ce94e210": {
          "model_module": "@jupyter-widgets/controls",
          "model_name": "VBoxModel",
          "model_module_version": "1.5.0",
          "state": {
            "_dom_classes": [],
            "_model_module": "@jupyter-widgets/controls",
            "_model_module_version": "1.5.0",
            "_model_name": "VBoxModel",
            "_view_count": null,
            "_view_module": "@jupyter-widgets/controls",
            "_view_module_version": "1.5.0",
            "_view_name": "VBoxView",
            "box_style": "",
            "children": [
              "IPY_MODEL_1085f83579374628912dbd12a09bbf01",
              "IPY_MODEL_6efc0d88d7074062bbb8cb662c890a9d"
            ],
            "layout": "IPY_MODEL_a0a20dce4ec148a0ad9a513071fb8760"
          }
        },
        "1085f83579374628912dbd12a09bbf01": {
          "model_module": "@jupyter-widgets/controls",
          "model_name": "LabelModel",
          "model_module_version": "1.5.0",
          "state": {
            "_dom_classes": [],
            "_model_module": "@jupyter-widgets/controls",
            "_model_module_version": "1.5.0",
            "_model_name": "LabelModel",
            "_view_count": null,
            "_view_module": "@jupyter-widgets/controls",
            "_view_module_version": "1.5.0",
            "_view_name": "LabelView",
            "description": "",
            "description_tooltip": null,
            "layout": "IPY_MODEL_dbf7bb119cba4256b2dfeaea01ecd884",
            "placeholder": "​",
            "style": "IPY_MODEL_ba55ba9b793b4fc9b1a91132379699e1",
            "value": "2.494 MB of 2.494 MB uploaded (0.000 MB deduped)\r"
          }
        },
        "6efc0d88d7074062bbb8cb662c890a9d": {
          "model_module": "@jupyter-widgets/controls",
          "model_name": "FloatProgressModel",
          "model_module_version": "1.5.0",
          "state": {
            "_dom_classes": [],
            "_model_module": "@jupyter-widgets/controls",
            "_model_module_version": "1.5.0",
            "_model_name": "FloatProgressModel",
            "_view_count": null,
            "_view_module": "@jupyter-widgets/controls",
            "_view_module_version": "1.5.0",
            "_view_name": "ProgressView",
            "bar_style": "",
            "description": "",
            "description_tooltip": null,
            "layout": "IPY_MODEL_566548a7a09344fb83202d723b52e5d4",
            "max": 1,
            "min": 0,
            "orientation": "horizontal",
            "style": "IPY_MODEL_a28f573fc05c48bdbbef2c9e2be6515b",
            "value": 1
          }
        },
        "a0a20dce4ec148a0ad9a513071fb8760": {
          "model_module": "@jupyter-widgets/base",
          "model_name": "LayoutModel",
          "model_module_version": "1.2.0",
          "state": {
            "_model_module": "@jupyter-widgets/base",
            "_model_module_version": "1.2.0",
            "_model_name": "LayoutModel",
            "_view_count": null,
            "_view_module": "@jupyter-widgets/base",
            "_view_module_version": "1.2.0",
            "_view_name": "LayoutView",
            "align_content": null,
            "align_items": null,
            "align_self": null,
            "border": null,
            "bottom": null,
            "display": null,
            "flex": null,
            "flex_flow": null,
            "grid_area": null,
            "grid_auto_columns": null,
            "grid_auto_flow": null,
            "grid_auto_rows": null,
            "grid_column": null,
            "grid_gap": null,
            "grid_row": null,
            "grid_template_areas": null,
            "grid_template_columns": null,
            "grid_template_rows": null,
            "height": null,
            "justify_content": null,
            "justify_items": null,
            "left": null,
            "margin": null,
            "max_height": null,
            "max_width": null,
            "min_height": null,
            "min_width": null,
            "object_fit": null,
            "object_position": null,
            "order": null,
            "overflow": null,
            "overflow_x": null,
            "overflow_y": null,
            "padding": null,
            "right": null,
            "top": null,
            "visibility": null,
            "width": null
          }
        },
        "dbf7bb119cba4256b2dfeaea01ecd884": {
          "model_module": "@jupyter-widgets/base",
          "model_name": "LayoutModel",
          "model_module_version": "1.2.0",
          "state": {
            "_model_module": "@jupyter-widgets/base",
            "_model_module_version": "1.2.0",
            "_model_name": "LayoutModel",
            "_view_count": null,
            "_view_module": "@jupyter-widgets/base",
            "_view_module_version": "1.2.0",
            "_view_name": "LayoutView",
            "align_content": null,
            "align_items": null,
            "align_self": null,
            "border": null,
            "bottom": null,
            "display": null,
            "flex": null,
            "flex_flow": null,
            "grid_area": null,
            "grid_auto_columns": null,
            "grid_auto_flow": null,
            "grid_auto_rows": null,
            "grid_column": null,
            "grid_gap": null,
            "grid_row": null,
            "grid_template_areas": null,
            "grid_template_columns": null,
            "grid_template_rows": null,
            "height": null,
            "justify_content": null,
            "justify_items": null,
            "left": null,
            "margin": null,
            "max_height": null,
            "max_width": null,
            "min_height": null,
            "min_width": null,
            "object_fit": null,
            "object_position": null,
            "order": null,
            "overflow": null,
            "overflow_x": null,
            "overflow_y": null,
            "padding": null,
            "right": null,
            "top": null,
            "visibility": null,
            "width": null
          }
        },
        "ba55ba9b793b4fc9b1a91132379699e1": {
          "model_module": "@jupyter-widgets/controls",
          "model_name": "DescriptionStyleModel",
          "model_module_version": "1.5.0",
          "state": {
            "_model_module": "@jupyter-widgets/controls",
            "_model_module_version": "1.5.0",
            "_model_name": "DescriptionStyleModel",
            "_view_count": null,
            "_view_module": "@jupyter-widgets/base",
            "_view_module_version": "1.2.0",
            "_view_name": "StyleView",
            "description_width": ""
          }
        },
        "566548a7a09344fb83202d723b52e5d4": {
          "model_module": "@jupyter-widgets/base",
          "model_name": "LayoutModel",
          "model_module_version": "1.2.0",
          "state": {
            "_model_module": "@jupyter-widgets/base",
            "_model_module_version": "1.2.0",
            "_model_name": "LayoutModel",
            "_view_count": null,
            "_view_module": "@jupyter-widgets/base",
            "_view_module_version": "1.2.0",
            "_view_name": "LayoutView",
            "align_content": null,
            "align_items": null,
            "align_self": null,
            "border": null,
            "bottom": null,
            "display": null,
            "flex": null,
            "flex_flow": null,
            "grid_area": null,
            "grid_auto_columns": null,
            "grid_auto_flow": null,
            "grid_auto_rows": null,
            "grid_column": null,
            "grid_gap": null,
            "grid_row": null,
            "grid_template_areas": null,
            "grid_template_columns": null,
            "grid_template_rows": null,
            "height": null,
            "justify_content": null,
            "justify_items": null,
            "left": null,
            "margin": null,
            "max_height": null,
            "max_width": null,
            "min_height": null,
            "min_width": null,
            "object_fit": null,
            "object_position": null,
            "order": null,
            "overflow": null,
            "overflow_x": null,
            "overflow_y": null,
            "padding": null,
            "right": null,
            "top": null,
            "visibility": null,
            "width": null
          }
        },
        "a28f573fc05c48bdbbef2c9e2be6515b": {
          "model_module": "@jupyter-widgets/controls",
          "model_name": "ProgressStyleModel",
          "model_module_version": "1.5.0",
          "state": {
            "_model_module": "@jupyter-widgets/controls",
            "_model_module_version": "1.5.0",
            "_model_name": "ProgressStyleModel",
            "_view_count": null,
            "_view_module": "@jupyter-widgets/base",
            "_view_module_version": "1.2.0",
            "_view_name": "StyleView",
            "bar_color": null,
            "description_width": ""
          }
        },
        "e5c6fd2757e741a9804df09711d21ae1": {
          "model_module": "@jupyter-widgets/controls",
          "model_name": "VBoxModel",
          "model_module_version": "1.5.0",
          "state": {
            "_dom_classes": [],
            "_model_module": "@jupyter-widgets/controls",
            "_model_module_version": "1.5.0",
            "_model_name": "VBoxModel",
            "_view_count": null,
            "_view_module": "@jupyter-widgets/controls",
            "_view_module_version": "1.5.0",
            "_view_name": "VBoxView",
            "box_style": "",
            "children": [
              "IPY_MODEL_89a1efd2aa1b426c8b6f90be878738bc",
              "IPY_MODEL_ac32b542300b4373b8953680bfe41e1b"
            ],
            "layout": "IPY_MODEL_00bf9edb3e5e4ec1a9ffd87c9dc703c5"
          }
        },
        "89a1efd2aa1b426c8b6f90be878738bc": {
          "model_module": "@jupyter-widgets/controls",
          "model_name": "LabelModel",
          "model_module_version": "1.5.0",
          "state": {
            "_dom_classes": [],
            "_model_module": "@jupyter-widgets/controls",
            "_model_module_version": "1.5.0",
            "_model_name": "LabelModel",
            "_view_count": null,
            "_view_module": "@jupyter-widgets/controls",
            "_view_module_version": "1.5.0",
            "_view_name": "LabelView",
            "description": "",
            "description_tooltip": null,
            "layout": "IPY_MODEL_8dfc3c5c970546f0aac043cb958d0b67",
            "placeholder": "​",
            "style": "IPY_MODEL_ac452207df9d4ea0a5c81fca47440b43",
            "value": "Waiting for wandb.init()...\r"
          }
        },
        "ac32b542300b4373b8953680bfe41e1b": {
          "model_module": "@jupyter-widgets/controls",
          "model_name": "FloatProgressModel",
          "model_module_version": "1.5.0",
          "state": {
            "_dom_classes": [],
            "_model_module": "@jupyter-widgets/controls",
            "_model_module_version": "1.5.0",
            "_model_name": "FloatProgressModel",
            "_view_count": null,
            "_view_module": "@jupyter-widgets/controls",
            "_view_module_version": "1.5.0",
            "_view_name": "ProgressView",
            "bar_style": "",
            "description": "",
            "description_tooltip": null,
            "layout": "IPY_MODEL_de37ebcd5fc044b498fe32cb1d00a14b",
            "max": 1,
            "min": 0,
            "orientation": "horizontal",
            "style": "IPY_MODEL_a9b38705926349659563e511da904d21",
            "value": 1
          }
        },
        "00bf9edb3e5e4ec1a9ffd87c9dc703c5": {
          "model_module": "@jupyter-widgets/base",
          "model_name": "LayoutModel",
          "model_module_version": "1.2.0",
          "state": {
            "_model_module": "@jupyter-widgets/base",
            "_model_module_version": "1.2.0",
            "_model_name": "LayoutModel",
            "_view_count": null,
            "_view_module": "@jupyter-widgets/base",
            "_view_module_version": "1.2.0",
            "_view_name": "LayoutView",
            "align_content": null,
            "align_items": null,
            "align_self": null,
            "border": null,
            "bottom": null,
            "display": null,
            "flex": null,
            "flex_flow": null,
            "grid_area": null,
            "grid_auto_columns": null,
            "grid_auto_flow": null,
            "grid_auto_rows": null,
            "grid_column": null,
            "grid_gap": null,
            "grid_row": null,
            "grid_template_areas": null,
            "grid_template_columns": null,
            "grid_template_rows": null,
            "height": null,
            "justify_content": null,
            "justify_items": null,
            "left": null,
            "margin": null,
            "max_height": null,
            "max_width": null,
            "min_height": null,
            "min_width": null,
            "object_fit": null,
            "object_position": null,
            "order": null,
            "overflow": null,
            "overflow_x": null,
            "overflow_y": null,
            "padding": null,
            "right": null,
            "top": null,
            "visibility": null,
            "width": null
          }
        },
        "8dfc3c5c970546f0aac043cb958d0b67": {
          "model_module": "@jupyter-widgets/base",
          "model_name": "LayoutModel",
          "model_module_version": "1.2.0",
          "state": {
            "_model_module": "@jupyter-widgets/base",
            "_model_module_version": "1.2.0",
            "_model_name": "LayoutModel",
            "_view_count": null,
            "_view_module": "@jupyter-widgets/base",
            "_view_module_version": "1.2.0",
            "_view_name": "LayoutView",
            "align_content": null,
            "align_items": null,
            "align_self": null,
            "border": null,
            "bottom": null,
            "display": null,
            "flex": null,
            "flex_flow": null,
            "grid_area": null,
            "grid_auto_columns": null,
            "grid_auto_flow": null,
            "grid_auto_rows": null,
            "grid_column": null,
            "grid_gap": null,
            "grid_row": null,
            "grid_template_areas": null,
            "grid_template_columns": null,
            "grid_template_rows": null,
            "height": null,
            "justify_content": null,
            "justify_items": null,
            "left": null,
            "margin": null,
            "max_height": null,
            "max_width": null,
            "min_height": null,
            "min_width": null,
            "object_fit": null,
            "object_position": null,
            "order": null,
            "overflow": null,
            "overflow_x": null,
            "overflow_y": null,
            "padding": null,
            "right": null,
            "top": null,
            "visibility": null,
            "width": null
          }
        },
        "ac452207df9d4ea0a5c81fca47440b43": {
          "model_module": "@jupyter-widgets/controls",
          "model_name": "DescriptionStyleModel",
          "model_module_version": "1.5.0",
          "state": {
            "_model_module": "@jupyter-widgets/controls",
            "_model_module_version": "1.5.0",
            "_model_name": "DescriptionStyleModel",
            "_view_count": null,
            "_view_module": "@jupyter-widgets/base",
            "_view_module_version": "1.2.0",
            "_view_name": "StyleView",
            "description_width": ""
          }
        },
        "de37ebcd5fc044b498fe32cb1d00a14b": {
          "model_module": "@jupyter-widgets/base",
          "model_name": "LayoutModel",
          "model_module_version": "1.2.0",
          "state": {
            "_model_module": "@jupyter-widgets/base",
            "_model_module_version": "1.2.0",
            "_model_name": "LayoutModel",
            "_view_count": null,
            "_view_module": "@jupyter-widgets/base",
            "_view_module_version": "1.2.0",
            "_view_name": "LayoutView",
            "align_content": null,
            "align_items": null,
            "align_self": null,
            "border": null,
            "bottom": null,
            "display": null,
            "flex": null,
            "flex_flow": null,
            "grid_area": null,
            "grid_auto_columns": null,
            "grid_auto_flow": null,
            "grid_auto_rows": null,
            "grid_column": null,
            "grid_gap": null,
            "grid_row": null,
            "grid_template_areas": null,
            "grid_template_columns": null,
            "grid_template_rows": null,
            "height": null,
            "justify_content": null,
            "justify_items": null,
            "left": null,
            "margin": null,
            "max_height": null,
            "max_width": null,
            "min_height": null,
            "min_width": null,
            "object_fit": null,
            "object_position": null,
            "order": null,
            "overflow": null,
            "overflow_x": null,
            "overflow_y": null,
            "padding": null,
            "right": null,
            "top": null,
            "visibility": null,
            "width": null
          }
        },
        "a9b38705926349659563e511da904d21": {
          "model_module": "@jupyter-widgets/controls",
          "model_name": "ProgressStyleModel",
          "model_module_version": "1.5.0",
          "state": {
            "_model_module": "@jupyter-widgets/controls",
            "_model_module_version": "1.5.0",
            "_model_name": "ProgressStyleModel",
            "_view_count": null,
            "_view_module": "@jupyter-widgets/base",
            "_view_module_version": "1.2.0",
            "_view_name": "StyleView",
            "bar_color": null,
            "description_width": ""
          }
        }
      }
    }
  },
  "cells": [
    {
      "cell_type": "markdown",
      "metadata": {
        "id": "view-in-github",
        "colab_type": "text"
      },
      "source": [
        "<a href=\"https://colab.research.google.com/github/timsetsfire/wandb-examples/blob/main/colab/Training_20230504.ipynb\" target=\"_parent\"><img src=\"https://colab.research.google.com/assets/colab-badge.svg\" alt=\"Open In Colab\"/></a>"
      ]
    },
    {
      "cell_type": "markdown",
      "source": [
        "## Training 20230504"
      ],
      "metadata": {
        "id": "eGGcMDfq5Dho"
      }
    },
    {
      "cell_type": "markdown",
      "source": [
        "## Logging\n",
        "* Computer vision tools (e.g. can we dump images with the largest error?)\n",
        "* Model understanding (e.g. a heatmap showing what part of the detection led to the label)\n",
        "\n",
        "## API \n",
        "* Exporting results to BigQuery for our production workflows\n",
        "\n",
        "## Artifacts\n",
        "* The artifact store and general story around saving models\n"
      ],
      "metadata": {
        "id": "9mpHM9UHKeN1"
      }
    },
    {
      "cell_type": "code",
      "source": [
        "%%capture\n",
        "!pip install -q -U mdai wandb"
      ],
      "metadata": {
        "id": "dumGoycp5C7O"
      },
      "execution_count": 13,
      "outputs": []
    },
    {
      "cell_type": "code",
      "source": [
        "import wandb\n",
        "import os \n",
        "os.environ[\"WANDB_PROJECT\"] = \"training-20230504\"\n",
        "# p.show_label_groups()"
      ],
      "metadata": {
        "id": "du8y6TLb5O1c"
      },
      "execution_count": 3,
      "outputs": []
    },
    {
      "cell_type": "markdown",
      "source": [
        "# Logging Images"
      ],
      "metadata": {
        "id": "o7CLjE4fKjwP"
      }
    },
    {
      "cell_type": "markdown",
      "source": [
        "```\n",
        "Image(\n",
        " data_or_path: \"ImageDataOrPathType\",\n",
        " mode: Optional[str] = None,\n",
        " caption: Optional[str] = None,\n",
        " classes: Optional[Union['Classes', Sequence[dict]]] = None,\n",
        " boxes: Optional[Union[Dict[str, 'BoundingBoxes2D'], Dict[str, dict]]] = None,\n",
        " masks: Optional[Union[Dict[str, 'ImageMask'], Dict[str, dict]]] = None\n",
        ") -> None\n",
        "```"
      ],
      "metadata": {
        "id": "EjLXavTvnarG"
      }
    },
    {
      "cell_type": "code",
      "source": [
        "with wandb.init() as run:\n",
        "  image = np.random.randint(low=0, high=256, size=(100, 100, 3), dtype=np.uint8)\n",
        "  predicted_mask = np.empty((100, 100), dtype=np.uint8)\n",
        "  ground_truth_mask = np.empty((100, 100), dtype=np.uint8)\n",
        "  predicted_mask[:50, :50] = 0; predicted_mask[50:, :50] = 1; predicted_mask[:50, 50:] = 2; predicted_mask[50:, 50:] = 3\n",
        "  ground_truth_mask[:25, :25] = 0; ground_truth_mask[25:, :25] = 1; ground_truth_mask[:25, 25:] = 2; ground_truth_mask[25:, 25:] = 3\n",
        "\n",
        "  class_labels = {\n",
        "      0: \"person\",\n",
        "      1: \"tree\",\n",
        "      2: \"car\",\n",
        "      3: \"road\"\n",
        "  }\n",
        "\n",
        "  masked_image = wandb.Image(image, masks={\n",
        "      \"predictions\": {\n",
        "          \"mask_data\": predicted_mask,\n",
        "          \"class_labels\": class_labels\n",
        "      },\n",
        "      \"ground_truth\": {\n",
        "          \"mask_data\": ground_truth_mask,\n",
        "          \"class_labels\": class_labels\n",
        "      }\n",
        "  })\n",
        "  wandb.log({\"img_with_masks\" : masked_image})"
      ],
      "metadata": {
        "colab": {
          "base_uri": "https://localhost:8080/",
          "height": 175
        },
        "id": "bsqPfDolb4qC",
        "outputId": "252569a0-79e6-496b-ed88-2a3f0dc95f5f"
      },
      "execution_count": 15,
      "outputs": [
        {
          "output_type": "display_data",
          "data": {
            "text/plain": [
              "<IPython.core.display.HTML object>"
            ],
            "text/html": [
              "Tracking run with wandb version 0.15.1"
            ]
          },
          "metadata": {}
        },
        {
          "output_type": "display_data",
          "data": {
            "text/plain": [
              "<IPython.core.display.HTML object>"
            ],
            "text/html": [
              "Run data is saved locally in <code>/content/wandb/run-20230504_164157-jffcpoyt</code>"
            ]
          },
          "metadata": {}
        },
        {
          "output_type": "display_data",
          "data": {
            "text/plain": [
              "<IPython.core.display.HTML object>"
            ],
            "text/html": [
              "Syncing run <strong><a href='https://wandb.ai/tim-w/training-20230504/runs/jffcpoyt' target=\"_blank\">stellar-midichlorian-14</a></strong> to <a href='https://wandb.ai/tim-w/training-20230504' target=\"_blank\">Weights & Biases</a> (<a href='https://wandb.me/run' target=\"_blank\">docs</a>)<br/>"
            ]
          },
          "metadata": {}
        },
        {
          "output_type": "display_data",
          "data": {
            "text/plain": [
              "<IPython.core.display.HTML object>"
            ],
            "text/html": [
              " View project at <a href='https://wandb.ai/tim-w/training-20230504' target=\"_blank\">https://wandb.ai/tim-w/training-20230504</a>"
            ]
          },
          "metadata": {}
        },
        {
          "output_type": "display_data",
          "data": {
            "text/plain": [
              "<IPython.core.display.HTML object>"
            ],
            "text/html": [
              " View run at <a href='https://wandb.ai/tim-w/training-20230504/runs/jffcpoyt' target=\"_blank\">https://wandb.ai/tim-w/training-20230504/runs/jffcpoyt</a>"
            ]
          },
          "metadata": {}
        },
        {
          "output_type": "display_data",
          "data": {
            "text/plain": [
              "<IPython.core.display.HTML object>"
            ],
            "text/html": [
              "Waiting for W&B process to finish... <strong style=\"color:green\">(success).</strong>"
            ]
          },
          "metadata": {}
        },
        {
          "output_type": "display_data",
          "data": {
            "text/plain": [
              "<IPython.core.display.HTML object>"
            ],
            "text/html": [
              " View run <strong style=\"color:#cdcd00\">stellar-midichlorian-14</strong> at: <a href='https://wandb.ai/tim-w/training-20230504/runs/jffcpoyt' target=\"_blank\">https://wandb.ai/tim-w/training-20230504/runs/jffcpoyt</a><br/>Synced 4 W&B file(s), 3 media file(s), 2 artifact file(s) and 1 other file(s)"
            ]
          },
          "metadata": {}
        },
        {
          "output_type": "display_data",
          "data": {
            "text/plain": [
              "<IPython.core.display.HTML object>"
            ],
            "text/html": [
              "Find logs at: <code>./wandb/run-20230504_164157-jffcpoyt/logs</code>"
            ]
          },
          "metadata": {}
        }
      ]
    },
    {
      "cell_type": "markdown",
      "source": [
        "# Logging Sequences of Images"
      ],
      "metadata": {
        "id": "lRe6eZsAW_qN"
      }
    },
    {
      "cell_type": "code",
      "source": [
        "from PIL import Image, ImageFilter\n",
        "with wandb.init() as run:\n",
        "  !curl https://parade.com/.image/t_share/MTkwNTgwOTUyNjU2Mzg5MjQ1/albert-einstein-quotes-jpg.jpg > image.jpg\n",
        "  im = Image.open(\"./image.jpg\").resize((512, 512)) \n",
        "  for i in range(15):\n",
        "    run.log({\"blurring einstein\": wandb.Image(im)})\n",
        "    im = im.filter(ImageFilter.GaussianBlur(radius=1.5))  "
      ],
      "metadata": {
        "colab": {
          "base_uri": "https://localhost:8080/",
          "height": 239,
          "referenced_widgets": [
            "0be36c484874401091283326f610dff0",
            "9cf151e0b33a442cb9ccfe4f0f827b5a",
            "408378a4dc8b4992a12b6302e18b7bf2",
            "e4fd46780ba8434bb5a8e089fdf233ff",
            "5ab44688343f46c1b1966bbcb7d655b4",
            "71056bd6d26c4b40896596983f03a3f0",
            "0e2fe93da51d4c9fb984e96783e2c0f0",
            "874aee9feca44ef0a6964e25e0b394e9"
          ]
        },
        "id": "SQG3NsQYW_KC",
        "outputId": "ca051c3f-5567-492e-f0d3-7de67fc36c3f"
      },
      "execution_count": 5,
      "outputs": [
        {
          "output_type": "display_data",
          "data": {
            "text/plain": [
              "<IPython.core.display.HTML object>"
            ],
            "text/html": [
              "Tracking run with wandb version 0.15.1"
            ]
          },
          "metadata": {}
        },
        {
          "output_type": "display_data",
          "data": {
            "text/plain": [
              "<IPython.core.display.HTML object>"
            ],
            "text/html": [
              "Run data is saved locally in <code>/content/wandb/run-20230504_154112-31do12sj</code>"
            ]
          },
          "metadata": {}
        },
        {
          "output_type": "display_data",
          "data": {
            "text/plain": [
              "<IPython.core.display.HTML object>"
            ],
            "text/html": [
              "Syncing run <strong><a href='https://wandb.ai/tim-w/training-20230504/runs/31do12sj' target=\"_blank\">tusken-wars-6</a></strong> to <a href='https://wandb.ai/tim-w/training-20230504' target=\"_blank\">Weights & Biases</a> (<a href='https://wandb.me/run' target=\"_blank\">docs</a>)<br/>"
            ]
          },
          "metadata": {}
        },
        {
          "output_type": "display_data",
          "data": {
            "text/plain": [
              "<IPython.core.display.HTML object>"
            ],
            "text/html": [
              " View project at <a href='https://wandb.ai/tim-w/training-20230504' target=\"_blank\">https://wandb.ai/tim-w/training-20230504</a>"
            ]
          },
          "metadata": {}
        },
        {
          "output_type": "display_data",
          "data": {
            "text/plain": [
              "<IPython.core.display.HTML object>"
            ],
            "text/html": [
              " View run at <a href='https://wandb.ai/tim-w/training-20230504/runs/31do12sj' target=\"_blank\">https://wandb.ai/tim-w/training-20230504/runs/31do12sj</a>"
            ]
          },
          "metadata": {}
        },
        {
          "output_type": "display_data",
          "data": {
            "text/plain": [
              "<IPython.core.display.HTML object>"
            ],
            "text/html": [
              "Waiting for W&B process to finish... <strong style=\"color:green\">(success).</strong>"
            ]
          },
          "metadata": {}
        },
        {
          "output_type": "display_data",
          "data": {
            "text/plain": [
              "VBox(children=(Label(value='3.030 MB of 3.030 MB uploaded (0.000 MB deduped)\\r'), FloatProgress(value=1.0, max…"
            ],
            "application/vnd.jupyter.widget-view+json": {
              "version_major": 2,
              "version_minor": 0,
              "model_id": "0be36c484874401091283326f610dff0"
            }
          },
          "metadata": {}
        },
        {
          "output_type": "display_data",
          "data": {
            "text/plain": [
              "<IPython.core.display.HTML object>"
            ],
            "text/html": [
              " View run <strong style=\"color:#cdcd00\">tusken-wars-6</strong> at: <a href='https://wandb.ai/tim-w/training-20230504/runs/31do12sj' target=\"_blank\">https://wandb.ai/tim-w/training-20230504/runs/31do12sj</a><br/>Synced 4 W&B file(s), 15 media file(s), 2 artifact file(s) and 1 other file(s)"
            ]
          },
          "metadata": {}
        },
        {
          "output_type": "display_data",
          "data": {
            "text/plain": [
              "<IPython.core.display.HTML object>"
            ],
            "text/html": [
              "Find logs at: <code>./wandb/run-20230504_154112-31do12sj/logs</code>"
            ]
          },
          "metadata": {}
        }
      ]
    },
    {
      "cell_type": "markdown",
      "source": [
        "# Logging Arrays of images"
      ],
      "metadata": {
        "id": "KYwIs3jpYw7R"
      }
    },
    {
      "cell_type": "code",
      "source": [],
      "metadata": {
        "colab": {
          "base_uri": "https://localhost:8080/"
        },
        "id": "oHyOwlv8Y_c3",
        "outputId": "db67f5ec-6e87-4f0f-d828-bd970dea7c81"
      },
      "execution_count": 6,
      "outputs": [
        {
          "output_type": "stream",
          "name": "stdout",
          "text": [
            "Successfully authenticated to public.md.ai.\n",
            "Using path './lesson1-data' for data.\n",
            "Preparing annotations export for project PVq9raBJ...                                                \n",
            "Using cached annotations data for project PVq9raBJ.\n",
            "Preparing images export for project PVq9raBJ...                                                     \n",
            "Using cached images data for project PVq9raBJ.\n",
            "{'L_38Y7Jl': 0, 'L_z8xEkB': 1}\n",
            "10\n"
          ]
        }
      ]
    },
    {
      "cell_type": "code",
      "source": [
        "with wandb.init() as run:\n",
        "  images = [mdai.visualize.load_dicom_image(image_id, to_RGB=True) for image_id in  val_dataset.image_ids]\n",
        "  wandb_images = [wandb.Image(image) for image in images]\n",
        "  wandb.log({\"images\": wandb_images})"
      ],
      "metadata": {
        "colab": {
          "base_uri": "https://localhost:8080/",
          "height": 258,
          "referenced_widgets": [
            "0979eb4e5e1140c7b31c5477cf9199b7",
            "3dc20947bed04c75a4909f45f90bc159",
            "f37c91f58f1440f4bacd7e28c86c3669",
            "618e83c09d9442bf96c7cf150f74935d",
            "dead530936c14fdba8f8739524fe7a82",
            "698fee1cb47c4fcab45f70d69cbea832",
            "f4992a6f0dd34e398b231dbab31fc8bd",
            "70251a2feb9f45a0b73af5a0d7450208"
          ]
        },
        "id": "FJfLuTftP9pA",
        "outputId": "dab5a989-135e-4488-af3e-2a6845f785e0"
      },
      "execution_count": 7,
      "outputs": [
        {
          "output_type": "display_data",
          "data": {
            "text/plain": [
              "<IPython.core.display.HTML object>"
            ],
            "text/html": [
              "Tracking run with wandb version 0.15.1"
            ]
          },
          "metadata": {}
        },
        {
          "output_type": "display_data",
          "data": {
            "text/plain": [
              "<IPython.core.display.HTML object>"
            ],
            "text/html": [
              "Run data is saved locally in <code>/content/wandb/run-20230504_154135-xxnk9upg</code>"
            ]
          },
          "metadata": {}
        },
        {
          "output_type": "display_data",
          "data": {
            "text/plain": [
              "<IPython.core.display.HTML object>"
            ],
            "text/html": [
              "Syncing run <strong><a href='https://wandb.ai/tim-w/training-20230504/runs/xxnk9upg' target=\"_blank\">elegant-ewok-7</a></strong> to <a href='https://wandb.ai/tim-w/training-20230504' target=\"_blank\">Weights & Biases</a> (<a href='https://wandb.me/run' target=\"_blank\">docs</a>)<br/>"
            ]
          },
          "metadata": {}
        },
        {
          "output_type": "display_data",
          "data": {
            "text/plain": [
              "<IPython.core.display.HTML object>"
            ],
            "text/html": [
              " View project at <a href='https://wandb.ai/tim-w/training-20230504' target=\"_blank\">https://wandb.ai/tim-w/training-20230504</a>"
            ]
          },
          "metadata": {}
        },
        {
          "output_type": "display_data",
          "data": {
            "text/plain": [
              "<IPython.core.display.HTML object>"
            ],
            "text/html": [
              " View run at <a href='https://wandb.ai/tim-w/training-20230504/runs/xxnk9upg' target=\"_blank\">https://wandb.ai/tim-w/training-20230504/runs/xxnk9upg</a>"
            ]
          },
          "metadata": {}
        },
        {
          "output_type": "stream",
          "name": "stderr",
          "text": [
            "WARNING:root:Images sizes do not match. This will causes images to be display incorrectly in the UI.\n"
          ]
        },
        {
          "output_type": "display_data",
          "data": {
            "text/plain": [
              "<IPython.core.display.HTML object>"
            ],
            "text/html": [
              "Waiting for W&B process to finish... <strong style=\"color:green\">(success).</strong>"
            ]
          },
          "metadata": {}
        },
        {
          "output_type": "display_data",
          "data": {
            "text/plain": [
              "VBox(children=(Label(value='2.491 MB of 2.491 MB uploaded (0.000 MB deduped)\\r'), FloatProgress(value=1.0, max…"
            ],
            "application/vnd.jupyter.widget-view+json": {
              "version_major": 2,
              "version_minor": 0,
              "model_id": "0979eb4e5e1140c7b31c5477cf9199b7"
            }
          },
          "metadata": {}
        },
        {
          "output_type": "display_data",
          "data": {
            "text/plain": [
              "<IPython.core.display.HTML object>"
            ],
            "text/html": [
              " View run <strong style=\"color:#cdcd00\">elegant-ewok-7</strong> at: <a href='https://wandb.ai/tim-w/training-20230504/runs/xxnk9upg' target=\"_blank\">https://wandb.ai/tim-w/training-20230504/runs/xxnk9upg</a><br/>Synced 5 W&B file(s), 9 media file(s), 2 artifact file(s) and 1 other file(s)"
            ]
          },
          "metadata": {}
        },
        {
          "output_type": "display_data",
          "data": {
            "text/plain": [
              "<IPython.core.display.HTML object>"
            ],
            "text/html": [
              "Find logs at: <code>./wandb/run-20230504_154135-xxnk9upg/logs</code>"
            ]
          },
          "metadata": {}
        }
      ]
    },
    {
      "cell_type": "markdown",
      "source": [
        "## Logging Tables of Images"
      ],
      "metadata": {
        "id": "tzJioZ0TaUQO"
      }
    },
    {
      "cell_type": "code",
      "source": [
        "import pandas as pd \n",
        "with wandb.init() as run:\n",
        "  df = pd.DataFrame(wandb_images, columns = [\"images\"])\n",
        "  run.log({\"image-table\": df})\n",
        "\n"
      ],
      "metadata": {
        "colab": {
          "base_uri": "https://localhost:8080/",
          "height": 239,
          "referenced_widgets": [
            "cfd51504f6c14c0ab6f1b501ce94e210",
            "1085f83579374628912dbd12a09bbf01",
            "6efc0d88d7074062bbb8cb662c890a9d",
            "a0a20dce4ec148a0ad9a513071fb8760",
            "dbf7bb119cba4256b2dfeaea01ecd884",
            "ba55ba9b793b4fc9b1a91132379699e1",
            "566548a7a09344fb83202d723b52e5d4",
            "a28f573fc05c48bdbbef2c9e2be6515b"
          ]
        },
        "id": "RhsjaYxhaT-h",
        "outputId": "105caae1-0c89-4766-9463-b3111d271856"
      },
      "execution_count": 8,
      "outputs": [
        {
          "output_type": "display_data",
          "data": {
            "text/plain": [
              "<IPython.core.display.HTML object>"
            ],
            "text/html": [
              "Tracking run with wandb version 0.15.1"
            ]
          },
          "metadata": {}
        },
        {
          "output_type": "display_data",
          "data": {
            "text/plain": [
              "<IPython.core.display.HTML object>"
            ],
            "text/html": [
              "Run data is saved locally in <code>/content/wandb/run-20230504_154152-nbvmkxof</code>"
            ]
          },
          "metadata": {}
        },
        {
          "output_type": "display_data",
          "data": {
            "text/plain": [
              "<IPython.core.display.HTML object>"
            ],
            "text/html": [
              "Syncing run <strong><a href='https://wandb.ai/tim-w/training-20230504/runs/nbvmkxof' target=\"_blank\">civilized-tauntaun-8</a></strong> to <a href='https://wandb.ai/tim-w/training-20230504' target=\"_blank\">Weights & Biases</a> (<a href='https://wandb.me/run' target=\"_blank\">docs</a>)<br/>"
            ]
          },
          "metadata": {}
        },
        {
          "output_type": "display_data",
          "data": {
            "text/plain": [
              "<IPython.core.display.HTML object>"
            ],
            "text/html": [
              " View project at <a href='https://wandb.ai/tim-w/training-20230504' target=\"_blank\">https://wandb.ai/tim-w/training-20230504</a>"
            ]
          },
          "metadata": {}
        },
        {
          "output_type": "display_data",
          "data": {
            "text/plain": [
              "<IPython.core.display.HTML object>"
            ],
            "text/html": [
              " View run at <a href='https://wandb.ai/tim-w/training-20230504/runs/nbvmkxof' target=\"_blank\">https://wandb.ai/tim-w/training-20230504/runs/nbvmkxof</a>"
            ]
          },
          "metadata": {}
        },
        {
          "output_type": "display_data",
          "data": {
            "text/plain": [
              "<IPython.core.display.HTML object>"
            ],
            "text/html": [
              "Waiting for W&B process to finish... <strong style=\"color:green\">(success).</strong>"
            ]
          },
          "metadata": {}
        },
        {
          "output_type": "display_data",
          "data": {
            "text/plain": [
              "VBox(children=(Label(value='2.494 MB of 2.494 MB uploaded (0.000 MB deduped)\\r'), FloatProgress(value=1.0, max…"
            ],
            "application/vnd.jupyter.widget-view+json": {
              "version_major": 2,
              "version_minor": 0,
              "model_id": "cfd51504f6c14c0ab6f1b501ce94e210"
            }
          },
          "metadata": {}
        },
        {
          "output_type": "display_data",
          "data": {
            "text/plain": [
              "<IPython.core.display.HTML object>"
            ],
            "text/html": [
              " View run <strong style=\"color:#cdcd00\">civilized-tauntaun-8</strong> at: <a href='https://wandb.ai/tim-w/training-20230504/runs/nbvmkxof' target=\"_blank\">https://wandb.ai/tim-w/training-20230504/runs/nbvmkxof</a><br/>Synced 4 W&B file(s), 1 media file(s), 12 artifact file(s) and 1 other file(s)"
            ]
          },
          "metadata": {}
        },
        {
          "output_type": "display_data",
          "data": {
            "text/plain": [
              "<IPython.core.display.HTML object>"
            ],
            "text/html": [
              "Find logs at: <code>./wandb/run-20230504_154152-nbvmkxof/logs</code>"
            ]
          },
          "metadata": {}
        }
      ]
    },
    {
      "cell_type": "markdown",
      "source": [
        "## Model Understanding Use Case\n",
        "\n",
        "Using GradCam to visualize activation maps\n",
        "\n"
      ],
      "metadata": {
        "id": "7G9-x4BKP_no"
      }
    },
    {
      "cell_type": "code",
      "source": [
        "## get data\n",
        "import mdai\n",
        "import wandb \n",
        "mdai_client = mdai.Client(domain='public.md.ai', access_token=\"9f783fcb3f049edb419994ddf870a39d\")\n",
        "p = mdai_client.project('PVq9raBJ', path='./lesson1-data')\n",
        "# # this maps label ids to class ids as a dict obj\n",
        "labels_dict = {\n",
        "    'L_38Y7Jl': 0, # Abdomen \n",
        "    'L_z8xEkB': 1, # Chest  \n",
        "}\n",
        "print(labels_dict)\n",
        "p.set_labels_dict(labels_dict)\n",
        "val_dataset = p.get_dataset_by_name('VAL')\n",
        "val_dataset.prepare()\n",
        "val_image_ids = val_dataset.get_image_ids()\n",
        "print(len(val_image_ids))\n",
        "mdai.visualize.display_images(val_image_ids[:2], cols=2)"
      ],
      "metadata": {
        "colab": {
          "base_uri": "https://localhost:8080/",
          "height": 674
        },
        "id": "4Ba__j56t4DB",
        "outputId": "f089cc9f-2d8d-4d23-cdc7-616df421537a"
      },
      "execution_count": 17,
      "outputs": [
        {
          "output_type": "stream",
          "name": "stdout",
          "text": [
            "Successfully authenticated to public.md.ai.\n",
            "Using path './lesson1-data' for data.\n",
            "Preparing annotations export for project PVq9raBJ...                                                \n",
            "Using cached annotations data for project PVq9raBJ.\n",
            "Preparing images export for project PVq9raBJ...                                                     \n",
            "Using cached images data for project PVq9raBJ.\n",
            "{'L_38Y7Jl': 0, 'L_z8xEkB': 1}\n",
            "10\n"
          ]
        },
        {
          "output_type": "display_data",
          "data": {
            "text/plain": [
              "<Figure size 1400x1400 with 2 Axes>"
            ],
            "image/png": "[encoded data removed]"
          },
          "metadata": {}
        }
      ]
    },
    {
      "cell_type": "code",
      "source": [
        "import numpy as np\n",
        "import tensorflow as tf\n",
        "from PIL import Image\n",
        "from tf_explain.core.grad_cam import GradCAM\n",
        "import cv2\n",
        "import matplotlib.pyplot as plt\n",
        "import pandas as pd\n",
        "img_width = 224\n",
        "img_height = 224\n",
        "\n",
        "plt.figure(figsize=(20, 10))\n",
        "import pandas \n",
        "data = []\n",
        "with wandb.init() as run:\n",
        "\n",
        "  artifact = run.use_artifact('tim-w/medical/model_gen:v0', type='model')\n",
        "  artifact_dir = artifact.download()\n",
        "\n",
        "  model = tf.keras.models.load_model(f'{artifact_dir}/model.h5')\n",
        "\n",
        "  for i, image_id in enumerate(val_dataset.image_ids): \n",
        "      \n",
        "      image = mdai.visualize.load_dicom_image(image_id, to_RGB=True)\n",
        "      image = Image.fromarray(image)\n",
        "      image = image.resize((img_width, img_height))\n",
        "      \n",
        "      X = np.empty((1, img_width, img_height, 3))\n",
        "      X[0,:] = image\n",
        "      y_prob = model.predict(X)\n",
        "      y_classes = y_prob.argmax(axis=-1)\n",
        "      \n",
        "      pred_class = val_dataset.class_id_to_class_text(y_classes[0])\n",
        "      pred_prob = y_prob[0][y_classes[0]]\n",
        "\n",
        "      \n",
        "      explainer1 = GradCAM()\n",
        "      output1 = explainer1.explain(\n",
        "          validation_data=(X, None),\n",
        "          model=model,\n",
        "          layer_name=\"conv_pw_13\",\n",
        "          class_index=y_classes[0],\n",
        "          colormap=cv2.COLORMAP_TURBO,\n",
        "      )\n",
        "      \n",
        "      wandb_image = wandb.Image(image, caption = f\"pred class {pred_class}, pred prob {pred_prob:.2f}\")\n",
        "      wandb_image1 = wandb.Image(output1, caption = f\"pred class {pred_class}, pred prob {pred_prob:.2f}\")\n",
        "      \n",
        "      # data.append([wandb_image, wandb_image1, wandb_image2])\n",
        "      wandb.log({\"image examples\": [wandb_image, wandb_image1]}, step = i)\n",
        "      e = {\"image\": wandb_image, \"GradCam Viz\": wandb_image1, \"pred_class\": pred_class,  \"pred_prob\": pred_prob}\n",
        "      data.append(e)\n",
        "  df = pd.DataFrame( data)\n",
        "  wandb.log({\"table\": wandb.Table(dataframe=df)})    "
      ],
      "metadata": {
        "colab": {
          "base_uri": "https://localhost:8080/",
          "height": 461,
          "referenced_widgets": [
            "e5c6fd2757e741a9804df09711d21ae1",
            "89a1efd2aa1b426c8b6f90be878738bc",
            "ac32b542300b4373b8953680bfe41e1b",
            "00bf9edb3e5e4ec1a9ffd87c9dc703c5",
            "8dfc3c5c970546f0aac043cb958d0b67",
            "ac452207df9d4ea0a5c81fca47440b43",
            "de37ebcd5fc044b498fe32cb1d00a14b",
            "a9b38705926349659563e511da904d21"
          ]
        },
        "id": "A3-W9zutNtOt",
        "outputId": "9e3d56e5-6665-4192-89eb-33ffd62c4a67"
      },
      "execution_count": 18,
      "outputs": [
        {
          "output_type": "display_data",
          "data": {
            "text/plain": [
              "VBox(children=(Label(value='Waiting for wandb.init()...\\r'), FloatProgress(value=0.016670407750007145, max=1.0…"
            ],
            "application/vnd.jupyter.widget-view+json": {
              "version_major": 2,
              "version_minor": 0,
              "model_id": "e5c6fd2757e741a9804df09711d21ae1"
            }
          },
          "metadata": {}
        },
        {
          "output_type": "display_data",
          "data": {
            "text/plain": [
              "<IPython.core.display.HTML object>"
            ],
            "text/html": [
              "Tracking run with wandb version 0.15.1"
            ]
          },
          "metadata": {}
        },
        {
          "output_type": "display_data",
          "data": {
            "text/plain": [
              "<IPython.core.display.HTML object>"
            ],
            "text/html": [
              "Run data is saved locally in <code>/content/wandb/run-20230504_170327-oq4nss9i</code>"
            ]
          },
          "metadata": {}
        },
        {
          "output_type": "display_data",
          "data": {
            "text/plain": [
              "<IPython.core.display.HTML object>"
            ],
            "text/html": [
              "Syncing run <strong><a href='https://wandb.ai/tim-w/training-20230504/runs/oq4nss9i' target=\"_blank\">elegant-speeder-15</a></strong> to <a href='https://wandb.ai/tim-w/training-20230504' target=\"_blank\">Weights & Biases</a> (<a href='https://wandb.me/run' target=\"_blank\">docs</a>)<br/>"
            ]
          },
          "metadata": {}
        },
        {
          "output_type": "display_data",
          "data": {
            "text/plain": [
              "<IPython.core.display.HTML object>"
            ],
            "text/html": [
              " View project at <a href='https://wandb.ai/tim-w/training-20230504' target=\"_blank\">https://wandb.ai/tim-w/training-20230504</a>"
            ]
          },
          "metadata": {}
        },
        {
          "output_type": "display_data",
          "data": {
            "text/plain": [
              "<IPython.core.display.HTML object>"
            ],
            "text/html": [
              " View run at <a href='https://wandb.ai/tim-w/training-20230504/runs/oq4nss9i' target=\"_blank\">https://wandb.ai/tim-w/training-20230504/runs/oq4nss9i</a>"
            ]
          },
          "metadata": {}
        },
        {
          "output_type": "stream",
          "name": "stderr",
          "text": [
            "\u001b[34m\u001b[1mwandb\u001b[0m:   1 of 1 files downloaded.  \n"
          ]
        },
        {
          "output_type": "stream",
          "name": "stdout",
          "text": [
            "1/1 [==============================] - 1s 818ms/step\n",
            "1/1 [==============================] - 0s 58ms/step\n",
            "1/1 [==============================] - 0s 57ms/step\n",
            "1/1 [==============================] - 0s 59ms/step\n",
            "1/1 [==============================] - 0s 77ms/step\n",
            "1/1 [==============================] - 0s 103ms/step\n",
            "1/1 [==============================] - 0s 98ms/step\n",
            "1/1 [==============================] - 0s 159ms/step\n",
            "1/1 [==============================] - 0s 148ms/step\n",
            "1/1 [==============================] - 0s 198ms/step\n"
          ]
        },
        {
          "output_type": "display_data",
          "data": {
            "text/plain": [
              "<IPython.core.display.HTML object>"
            ],
            "text/html": [
              "Waiting for W&B process to finish... <strong style=\"color:green\">(success).</strong>"
            ]
          },
          "metadata": {}
        },
        {
          "output_type": "display_data",
          "data": {
            "text/plain": [
              "<IPython.core.display.HTML object>"
            ],
            "text/html": [
              " View run <strong style=\"color:#cdcd00\">elegant-speeder-15</strong> at: <a href='https://wandb.ai/tim-w/training-20230504/runs/oq4nss9i' target=\"_blank\">https://wandb.ai/tim-w/training-20230504/runs/oq4nss9i</a><br/>Synced 5 W&B file(s), 21 media file(s), 23 artifact file(s) and 1 other file(s)"
            ]
          },
          "metadata": {}
        },
        {
          "output_type": "display_data",
          "data": {
            "text/plain": [
              "<IPython.core.display.HTML object>"
            ],
            "text/html": [
              "Find logs at: <code>./wandb/run-20230504_170327-oq4nss9i/logs</code>"
            ]
          },
          "metadata": {}
        },
        {
          "output_type": "display_data",
          "data": {
            "text/plain": [
              "<Figure size 2000x1000 with 0 Axes>"
            ]
          },
          "metadata": {}
        }
      ]
    },
    {
      "cell_type": "markdown",
      "source": [
        "# API"
      ],
      "metadata": {
        "id": "c_8qSeN2ub9Q"
      }
    },
    {
      "cell_type": "code",
      "source": [
        "api = wandb.Api()\n",
        "runs = api.runs(\"tim-w/wandb-training\")"
      ],
      "metadata": {
        "id": "6ppqDDHIuczw"
      },
      "execution_count": 31,
      "outputs": []
    },
    {
      "cell_type": "code",
      "source": [
        "for run in runs:\n",
        "  if run.job_type == \"training\":\n",
        "    break"
      ],
      "metadata": {
        "id": "A58B6A26ulf4"
      },
      "execution_count": 34,
      "outputs": []
    },
    {
      "cell_type": "code",
      "source": [
        "run.history()"
      ],
      "metadata": {
        "colab": {
          "base_uri": "https://localhost:8080/",
          "height": 551
        },
        "id": "6KkZ11qLvbE1",
        "outputId": "25457406-bb6e-4262-d6ea-9e2b06c87110"
      },
      "execution_count": 35,
      "outputs": [
        {
          "output_type": "execute_result",
          "data": {
            "text/plain": [
              "    global_step  Train Metrics/loss  Validation Metrics/loss  \\\n",
              "0            24            0.380622                      NaN   \n",
              "1            49            0.136904                      NaN   \n",
              "2            74            0.102546                      NaN   \n",
              "3            79                 NaN                 0.193344   \n",
              "4            99            0.081171                      NaN   \n",
              "5           124            0.089441                      NaN   \n",
              "6           149            0.100029                      NaN   \n",
              "7           158                 NaN                 0.122383   \n",
              "8           174            0.041224                      NaN   \n",
              "9           199            0.037769                      NaN   \n",
              "10          224            0.040988                      NaN   \n",
              "11          237                 NaN                 0.134632   \n",
              "12          249            0.031928                      NaN   \n",
              "13          274            0.048106                      NaN   \n",
              "14          299            0.042001                      NaN   \n",
              "15          316                 NaN                 0.074078   \n",
              "\n",
              "    Validation Metrics/accuracy  _step     epoch   _runtime    _timestamp  \n",
              "0                           NaN      0  0.380622   5.803636  1.660228e+09  \n",
              "1                           NaN      1  0.136904   8.533109  1.660228e+09  \n",
              "2                           NaN      2  0.102546  10.618428  1.660228e+09  \n",
              "3                        0.9635      3  0.000000  11.630424  1.660228e+09  \n",
              "4                           NaN      4  0.081171  13.417439  1.660228e+09  \n",
              "5                           NaN      5  0.089441  15.538342  1.660228e+09  \n",
              "6                           NaN      6  0.100029  17.685438  1.660228e+09  \n",
              "7                        0.9585      7  1.000000  19.010154  1.660228e+09  \n",
              "8                           NaN      8  0.041224  20.424110  1.660228e+09  \n",
              "9                           NaN      9  0.037769  22.389858  1.660228e+09  \n",
              "10                          NaN     10  0.040988  24.434603  1.660228e+09  \n",
              "11                       0.9735     11  2.000000  26.162197  1.660228e+09  \n",
              "12                          NaN     12  0.031928  27.313609  1.660228e+09  \n",
              "13                          NaN     13  0.048106  29.457736  1.660228e+09  \n",
              "14                          NaN     14  0.042001  31.540869  1.660228e+09  \n",
              "15                          NaN     15  3.000000  33.494814  1.660228e+09  "
            ],
            "text/html": [
              "\n",
              "  <div id=\"df-1b6c84ca-3f70-4f09-ba9e-8a0746d98189\">\n",
              "    <div class=\"colab-df-container\">\n",
              "      <div>\n",
              "<style scoped>\n",
              "    .dataframe tbody tr th:only-of-type {\n",
              "        vertical-align: middle;\n",
              "    }\n",
              "\n",
              "    .dataframe tbody tr th {\n",
              "        vertical-align: top;\n",
              "    }\n",
              "\n",
              "    .dataframe thead th {\n",
              "        text-align: right;\n",
              "    }\n",
              "</style>\n",
              "<table border=\"1\" class=\"dataframe\">\n",
              "  <thead>\n",
              "    <tr style=\"text-align: right;\">\n",
              "      <th></th>\n",
              "      <th>global_step</th>\n",
              "      <th>Train Metrics/loss</th>\n",
              "      <th>Validation Metrics/loss</th>\n",
              "      <th>Validation Metrics/accuracy</th>\n",
              "      <th>_step</th>\n",
              "      <th>epoch</th>\n",
              "      <th>_runtime</th>\n",
              "      <th>_timestamp</th>\n",
              "    </tr>\n",
              "  </thead>\n",
              "  <tbody>\n",
              "    <tr>\n",
              "      <th>0</th>\n",
              "      <td>24</td>\n",
              "      <td>0.380622</td>\n",
              "      <td>NaN</td>\n",
              "      <td>NaN</td>\n",
              "      <td>0</td>\n",
              "      <td>0.380622</td>\n",
              "      <td>5.803636</td>\n",
              "      <td>1.660228e+09</td>\n",
              "    </tr>\n",
              "    <tr>\n",
              "      <th>1</th>\n",
              "      <td>49</td>\n",
              "      <td>0.136904</td>\n",
              "      <td>NaN</td>\n",
              "      <td>NaN</td>\n",
              "      <td>1</td>\n",
              "      <td>0.136904</td>\n",
              "      <td>8.533109</td>\n",
              "      <td>1.660228e+09</td>\n",
              "    </tr>\n",
              "    <tr>\n",
              "      <th>2</th>\n",
              "      <td>74</td>\n",
              "      <td>0.102546</td>\n",
              "      <td>NaN</td>\n",
              "      <td>NaN</td>\n",
              "      <td>2</td>\n",
              "      <td>0.102546</td>\n",
              "      <td>10.618428</td>\n",
              "      <td>1.660228e+09</td>\n",
              "    </tr>\n",
              "    <tr>\n",
              "      <th>3</th>\n",
              "      <td>79</td>\n",
              "      <td>NaN</td>\n",
              "      <td>0.193344</td>\n",
              "      <td>0.9635</td>\n",
              "      <td>3</td>\n",
              "      <td>0.000000</td>\n",
              "      <td>11.630424</td>\n",
              "      <td>1.660228e+09</td>\n",
              "    </tr>\n",
              "    <tr>\n",
              "      <th>4</th>\n",
              "      <td>99</td>\n",
              "      <td>0.081171</td>\n",
              "      <td>NaN</td>\n",
              "      <td>NaN</td>\n",
              "      <td>4</td>\n",
              "      <td>0.081171</td>\n",
              "      <td>13.417439</td>\n",
              "      <td>1.660228e+09</td>\n",
              "    </tr>\n",
              "    <tr>\n",
              "      <th>5</th>\n",
              "      <td>124</td>\n",
              "      <td>0.089441</td>\n",
              "      <td>NaN</td>\n",
              "      <td>NaN</td>\n",
              "      <td>5</td>\n",
              "      <td>0.089441</td>\n",
              "      <td>15.538342</td>\n",
              "      <td>1.660228e+09</td>\n",
              "    </tr>\n",
              "    <tr>\n",
              "      <th>6</th>\n",
              "      <td>149</td>\n",
              "      <td>0.100029</td>\n",
              "      <td>NaN</td>\n",
              "      <td>NaN</td>\n",
              "      <td>6</td>\n",
              "      <td>0.100029</td>\n",
              "      <td>17.685438</td>\n",
              "      <td>1.660228e+09</td>\n",
              "    </tr>\n",
              "    <tr>\n",
              "      <th>7</th>\n",
              "      <td>158</td>\n",
              "      <td>NaN</td>\n",
              "      <td>0.122383</td>\n",
              "      <td>0.9585</td>\n",
              "      <td>7</td>\n",
              "      <td>1.000000</td>\n",
              "      <td>19.010154</td>\n",
              "      <td>1.660228e+09</td>\n",
              "    </tr>\n",
              "    <tr>\n",
              "      <th>8</th>\n",
              "      <td>174</td>\n",
              "      <td>0.041224</td>\n",
              "      <td>NaN</td>\n",
              "      <td>NaN</td>\n",
              "      <td>8</td>\n",
              "      <td>0.041224</td>\n",
              "      <td>20.424110</td>\n",
              "      <td>1.660228e+09</td>\n",
              "    </tr>\n",
              "    <tr>\n",
              "      <th>9</th>\n",
              "      <td>199</td>\n",
              "      <td>0.037769</td>\n",
              "      <td>NaN</td>\n",
              "      <td>NaN</td>\n",
              "      <td>9</td>\n",
              "      <td>0.037769</td>\n",
              "      <td>22.389858</td>\n",
              "      <td>1.660228e+09</td>\n",
              "    </tr>\n",
              "    <tr>\n",
              "      <th>10</th>\n",
              "      <td>224</td>\n",
              "      <td>0.040988</td>\n",
              "      <td>NaN</td>\n",
              "      <td>NaN</td>\n",
              "      <td>10</td>\n",
              "      <td>0.040988</td>\n",
              "      <td>24.434603</td>\n",
              "      <td>1.660228e+09</td>\n",
              "    </tr>\n",
              "    <tr>\n",
              "      <th>11</th>\n",
              "      <td>237</td>\n",
              "      <td>NaN</td>\n",
              "      <td>0.134632</td>\n",
              "      <td>0.9735</td>\n",
              "      <td>11</td>\n",
              "      <td>2.000000</td>\n",
              "      <td>26.162197</td>\n",
              "      <td>1.660228e+09</td>\n",
              "    </tr>\n",
              "    <tr>\n",
              "      <th>12</th>\n",
              "      <td>249</td>\n",
              "      <td>0.031928</td>\n",
              "      <td>NaN</td>\n",
              "      <td>NaN</td>\n",
              "      <td>12</td>\n",
              "      <td>0.031928</td>\n",
              "      <td>27.313609</td>\n",
              "      <td>1.660228e+09</td>\n",
              "    </tr>\n",
              "    <tr>\n",
              "      <th>13</th>\n",
              "      <td>274</td>\n",
              "      <td>0.048106</td>\n",
              "      <td>NaN</td>\n",
              "      <td>NaN</td>\n",
              "      <td>13</td>\n",
              "      <td>0.048106</td>\n",
              "      <td>29.457736</td>\n",
              "      <td>1.660228e+09</td>\n",
              "    </tr>\n",
              "    <tr>\n",
              "      <th>14</th>\n",
              "      <td>299</td>\n",
              "      <td>0.042001</td>\n",
              "      <td>NaN</td>\n",
              "      <td>NaN</td>\n",
              "      <td>14</td>\n",
              "      <td>0.042001</td>\n",
              "      <td>31.540869</td>\n",
              "      <td>1.660228e+09</td>\n",
              "    </tr>\n",
              "    <tr>\n",
              "      <th>15</th>\n",
              "      <td>316</td>\n",
              "      <td>NaN</td>\n",
              "      <td>0.074078</td>\n",
              "      <td>NaN</td>\n",
              "      <td>15</td>\n",
              "      <td>3.000000</td>\n",
              "      <td>33.494814</td>\n",
              "      <td>1.660228e+09</td>\n",
              "    </tr>\n",
              "  </tbody>\n",
              "</table>\n",
              "</div>\n",
              "      <button class=\"colab-df-convert\" onclick=\"convertToInteractive('df-1b6c84ca-3f70-4f09-ba9e-8a0746d98189')\"\n",
              "              title=\"Convert this dataframe to an interactive table.\"\n",
              "              style=\"display:none;\">\n",
              "        \n",
              "  <svg xmlns=\"http://www.w3.org/2000/svg\" height=\"24px\"viewBox=\"0 0 24 24\"\n",
              "       width=\"24px\">\n",
              "    <path d=\"M0 0h24v24H0V0z\" fill=\"none\"/>\n",
              "    <path d=\"M18.56 5.44l.94 2.06.94-2.06 2.06-.94-2.06-.94-.94-2.06-.94 2.06-2.06.94zm-11 1L8.5 8.5l.94-2.06 2.06-.94-2.06-.94L8.5 2.5l-.94 2.06-2.06.94zm10 10l.94 2.06.94-2.06 2.06-.94-2.06-.94-.94-2.06-.94 2.06-2.06.94z\"/><path d=\"M17.41 7.96l-1.37-1.37c-.4-.4-.92-.59-1.43-.59-.52 0-1.04.2-1.43.59L10.3 9.45l-7.72 7.72c-.78.78-.78 2.05 0 2.83L4 21.41c.39.39.9.59 1.41.59.51 0 1.02-.2 1.41-.59l7.78-7.78 2.81-2.81c.8-.78.8-2.07 0-2.86zM5.41 20L4 18.59l7.72-7.72 1.47 1.35L5.41 20z\"/>\n",
              "  </svg>\n",
              "      </button>\n",
              "      \n",
              "  <style>\n",
              "    .colab-df-container {\n",
              "      display:flex;\n",
              "      flex-wrap:wrap;\n",
              "      gap: 12px;\n",
              "    }\n",
              "\n",
              "    .colab-df-convert {\n",
              "      background-color: #E8F0FE;\n",
              "      border: none;\n",
              "      border-radius: 50%;\n",
              "      cursor: pointer;\n",
              "      display: none;\n",
              "      fill: #1967D2;\n",
              "      height: 32px;\n",
              "      padding: 0 0 0 0;\n",
              "      width: 32px;\n",
              "    }\n",
              "\n",
              "    .colab-df-convert:hover {\n",
              "      background-color: #E2EBFA;\n",
              "      box-shadow: 0px 1px 2px rgba(60, 64, 67, 0.3), 0px 1px 3px 1px rgba(60, 64, 67, 0.15);\n",
              "      fill: #174EA6;\n",
              "    }\n",
              "\n",
              "    [theme=dark] .colab-df-convert {\n",
              "      background-color: #3B4455;\n",
              "      fill: #D2E3FC;\n",
              "    }\n",
              "\n",
              "    [theme=dark] .colab-df-convert:hover {\n",
              "      background-color: #434B5C;\n",
              "      box-shadow: 0px 1px 3px 1px rgba(0, 0, 0, 0.15);\n",
              "      filter: drop-shadow(0px 1px 2px rgba(0, 0, 0, 0.3));\n",
              "      fill: #FFFFFF;\n",
              "    }\n",
              "  </style>\n",
              "\n",
              "      <script>\n",
              "        const buttonEl =\n",
              "          document.querySelector('#df-1b6c84ca-3f70-4f09-ba9e-8a0746d98189 button.colab-df-convert');\n",
              "        buttonEl.style.display =\n",
              "          google.colab.kernel.accessAllowed ? 'block' : 'none';\n",
              "\n",
              "        async function convertToInteractive(key) {\n",
              "          const element = document.querySelector('#df-1b6c84ca-3f70-4f09-ba9e-8a0746d98189');\n",
              "          const dataTable =\n",
              "            await google.colab.kernel.invokeFunction('convertToInteractive',\n",
              "                                                     [key], {});\n",
              "          if (!dataTable) return;\n",
              "\n",
              "          const docLinkHtml = 'Like what you see? Visit the ' +\n",
              "            '<a target=\"_blank\" href=https://colab.research.google.com/notebooks/data_table.ipynb>data table notebook</a>'\n",
              "            + ' to learn more about interactive tables.';\n",
              "          element.innerHTML = '';\n",
              "          dataTable['output_type'] = 'display_data';\n",
              "          await google.colab.output.renderOutput(dataTable, element);\n",
              "          const docLink = document.createElement('div');\n",
              "          docLink.innerHTML = docLinkHtml;\n",
              "          element.appendChild(docLink);\n",
              "        }\n",
              "      </script>\n",
              "    </div>\n",
              "  </div>\n",
              "  "
            ]
          },
          "metadata": {},
          "execution_count": 35
        }
      ]
    },
    {
      "cell_type": "code",
      "source": [
        "run.summary"
      ],
      "metadata": {
        "colab": {
          "base_uri": "https://localhost:8080/"
        },
        "id": "5rxq21Z9vgXJ",
        "outputId": "2e4d489d-0098-47fe-b6bc-095484c9797b"
      },
      "execution_count": 37,
      "outputs": [
        {
          "output_type": "execute_result",
          "data": {
            "text/plain": [
              "{'epoch': 3, 'Validation Metrics/loss': 0.07407831400632858, 'Validation Metrics/accuracy': 0.9735000133514404, '_step': 15, '_runtime': 33.494813680648804, '_timestamp': 1660227893.6349056, 'global_step': 316, 'Train Metrics/loss': 0.04200053587555885, '_wandb': {'runtime': 40}}"
            ]
          },
          "metadata": {},
          "execution_count": 37
        }
      ]
    },
    {
      "cell_type": "code",
      "source": [],
      "metadata": {
        "id": "zV_aClj7ueip"
      },
      "execution_count": null,
      "outputs": []
    }
  ]
}