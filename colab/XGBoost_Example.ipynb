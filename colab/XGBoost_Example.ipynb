{
  "nbformat": 4,
  "nbformat_minor": 0,
  "metadata": {
    "colab": {
      "name": "XGBoost Example.ipynb",
      "provenance": [],
      "authorship_tag": "ABX9TyP9rjK/z1Plstf2bcnbPLWI",
      "include_colab_link": true
    },
    "kernelspec": {
      "name": "python3",
      "display_name": "Python 3"
    },
    "language_info": {
      "name": "python"
    },
    "widgets": {
      "application/vnd.jupyter.widget-state+json": {
        "8c1bf39cca5b418e91cefefca642df56": {
          "model_module": "@jupyter-widgets/controls",
          "model_name": "VBoxModel",
          "model_module_version": "1.5.0",
          "state": {
            "_dom_classes": [],
            "_model_module": "@jupyter-widgets/controls",
            "_model_module_version": "1.5.0",
            "_model_name": "VBoxModel",
            "_view_count": null,
            "_view_module": "@jupyter-widgets/controls",
            "_view_module_version": "1.5.0",
            "_view_name": "VBoxView",
            "box_style": "",
            "children": [
              "IPY_MODEL_0f68012704804561a32bd87f6c6064aa",
              "IPY_MODEL_871eb7a813764235b426b9180cb046c8"
            ],
            "layout": "IPY_MODEL_73ba9e9aedc6423dabd7e3506209cf4d"
          }
        },
        "0f68012704804561a32bd87f6c6064aa": {
          "model_module": "@jupyter-widgets/controls",
          "model_name": "LabelModel",
          "model_module_version": "1.5.0",
          "state": {
            "_dom_classes": [],
            "_model_module": "@jupyter-widgets/controls",
            "_model_module_version": "1.5.0",
            "_model_name": "LabelModel",
            "_view_count": null,
            "_view_module": "@jupyter-widgets/controls",
            "_view_module_version": "1.5.0",
            "_view_name": "LabelView",
            "description": "",
            "description_tooltip": null,
            "layout": "IPY_MODEL_35428cf0efcc412887864b08151b84da",
            "placeholder": "​",
            "style": "IPY_MODEL_41199d930271443cb62716550ad0635c",
            "value": "0.395 MB of 0.395 MB uploaded (0.000 MB deduped)\r"
          }
        },
        "871eb7a813764235b426b9180cb046c8": {
          "model_module": "@jupyter-widgets/controls",
          "model_name": "FloatProgressModel",
          "model_module_version": "1.5.0",
          "state": {
            "_dom_classes": [],
            "_model_module": "@jupyter-widgets/controls",
            "_model_module_version": "1.5.0",
            "_model_name": "FloatProgressModel",
            "_view_count": null,
            "_view_module": "@jupyter-widgets/controls",
            "_view_module_version": "1.5.0",
            "_view_name": "ProgressView",
            "bar_style": "",
            "description": "",
            "description_tooltip": null,
            "layout": "IPY_MODEL_ad9950b4476f4399a579a6751209d554",
            "max": 1,
            "min": 0,
            "orientation": "horizontal",
            "style": "IPY_MODEL_8d92fd55018846ac8d1d803bdc668cdc",
            "value": 1
          }
        },
        "73ba9e9aedc6423dabd7e3506209cf4d": {
          "model_module": "@jupyter-widgets/base",
          "model_name": "LayoutModel",
          "model_module_version": "1.2.0",
          "state": {
            "_model_module": "@jupyter-widgets/base",
            "_model_module_version": "1.2.0",
            "_model_name": "LayoutModel",
            "_view_count": null,
            "_view_module": "@jupyter-widgets/base",
            "_view_module_version": "1.2.0",
            "_view_name": "LayoutView",
            "align_content": null,
            "align_items": null,
            "align_self": null,
            "border": null,
            "bottom": null,
            "display": null,
            "flex": null,
            "flex_flow": null,
            "grid_area": null,
            "grid_auto_columns": null,
            "grid_auto_flow": null,
            "grid_auto_rows": null,
            "grid_column": null,
            "grid_gap": null,
            "grid_row": null,
            "grid_template_areas": null,
            "grid_template_columns": null,
            "grid_template_rows": null,
            "height": null,
            "justify_content": null,
            "justify_items": null,
            "left": null,
            "margin": null,
            "max_height": null,
            "max_width": null,
            "min_height": null,
            "min_width": null,
            "object_fit": null,
            "object_position": null,
            "order": null,
            "overflow": null,
            "overflow_x": null,
            "overflow_y": null,
            "padding": null,
            "right": null,
            "top": null,
            "visibility": null,
            "width": null
          }
        },
        "35428cf0efcc412887864b08151b84da": {
          "model_module": "@jupyter-widgets/base",
          "model_name": "LayoutModel",
          "model_module_version": "1.2.0",
          "state": {
            "_model_module": "@jupyter-widgets/base",
            "_model_module_version": "1.2.0",
            "_model_name": "LayoutModel",
            "_view_count": null,
            "_view_module": "@jupyter-widgets/base",
            "_view_module_version": "1.2.0",
            "_view_name": "LayoutView",
            "align_content": null,
            "align_items": null,
            "align_self": null,
            "border": null,
            "bottom": null,
            "display": null,
            "flex": null,
            "flex_flow": null,
            "grid_area": null,
            "grid_auto_columns": null,
            "grid_auto_flow": null,
            "grid_auto_rows": null,
            "grid_column": null,
            "grid_gap": null,
            "grid_row": null,
            "grid_template_areas": null,
            "grid_template_columns": null,
            "grid_template_rows": null,
            "height": null,
            "justify_content": null,
            "justify_items": null,
            "left": null,
            "margin": null,
            "max_height": null,
            "max_width": null,
            "min_height": null,
            "min_width": null,
            "object_fit": null,
            "object_position": null,
            "order": null,
            "overflow": null,
            "overflow_x": null,
            "overflow_y": null,
            "padding": null,
            "right": null,
            "top": null,
            "visibility": null,
            "width": null
          }
        },
        "41199d930271443cb62716550ad0635c": {
          "model_module": "@jupyter-widgets/controls",
          "model_name": "DescriptionStyleModel",
          "model_module_version": "1.5.0",
          "state": {
            "_model_module": "@jupyter-widgets/controls",
            "_model_module_version": "1.5.0",
            "_model_name": "DescriptionStyleModel",
            "_view_count": null,
            "_view_module": "@jupyter-widgets/base",
            "_view_module_version": "1.2.0",
            "_view_name": "StyleView",
            "description_width": ""
          }
        },
        "ad9950b4476f4399a579a6751209d554": {
          "model_module": "@jupyter-widgets/base",
          "model_name": "LayoutModel",
          "model_module_version": "1.2.0",
          "state": {
            "_model_module": "@jupyter-widgets/base",
            "_model_module_version": "1.2.0",
            "_model_name": "LayoutModel",
            "_view_count": null,
            "_view_module": "@jupyter-widgets/base",
            "_view_module_version": "1.2.0",
            "_view_name": "LayoutView",
            "align_content": null,
            "align_items": null,
            "align_self": null,
            "border": null,
            "bottom": null,
            "display": null,
            "flex": null,
            "flex_flow": null,
            "grid_area": null,
            "grid_auto_columns": null,
            "grid_auto_flow": null,
            "grid_auto_rows": null,
            "grid_column": null,
            "grid_gap": null,
            "grid_row": null,
            "grid_template_areas": null,
            "grid_template_columns": null,
            "grid_template_rows": null,
            "height": null,
            "justify_content": null,
            "justify_items": null,
            "left": null,
            "margin": null,
            "max_height": null,
            "max_width": null,
            "min_height": null,
            "min_width": null,
            "object_fit": null,
            "object_position": null,
            "order": null,
            "overflow": null,
            "overflow_x": null,
            "overflow_y": null,
            "padding": null,
            "right": null,
            "top": null,
            "visibility": null,
            "width": null
          }
        },
        "8d92fd55018846ac8d1d803bdc668cdc": {
          "model_module": "@jupyter-widgets/controls",
          "model_name": "ProgressStyleModel",
          "model_module_version": "1.5.0",
          "state": {
            "_model_module": "@jupyter-widgets/controls",
            "_model_module_version": "1.5.0",
            "_model_name": "ProgressStyleModel",
            "_view_count": null,
            "_view_module": "@jupyter-widgets/base",
            "_view_module_version": "1.2.0",
            "_view_name": "StyleView",
            "bar_color": null,
            "description_width": ""
          }
        }
      }
    }
  },
  "cells": [
    {
      "cell_type": "markdown",
      "metadata": {
        "id": "view-in-github",
        "colab_type": "text"
      },
      "source": [
        "<a href=\"https://colab.research.google.com/github/timsetsfire/wandb-examples/blob/main/colab/XGBoost_Example.ipynb\" target=\"_parent\"><img src=\"https://colab.research.google.com/assets/colab-badge.svg\" alt=\"Open In Colab\"/></a>"
      ]
    },
    {
      "cell_type": "markdown",
      "source": [
        "The purpose of this lab is to instrument W&B a top of existing ML Workflows which might be leveraging\n",
        "\n",
        "* XGBoost\n",
        "* Pandas\n",
        "* Shap\n",
        "* STDOUT (for metric tracking)\n",
        "\n",
        "We will augment this workflow by leveraging\n",
        "\n",
        "* Wandb Experiments\n",
        "* Wandb logging\n",
        "* Wandb Artifacts for dataset and model logging / versioning\n",
        "* Tables to surface prediction examples on Test datasets\n",
        "track lineage of all artifacts and experiments completed\n",
        "\n",
        "Lastly, we'll do a simple demo of sweeps and interact with the runs via W&B API to\n",
        "\n",
        "query runs and run summaries\n",
        "artifacts"
      ],
      "metadata": {
        "id": "zq19_7G4ua0o"
      }
    },
    {
      "cell_type": "code",
      "source": [
        "# %%capture\n",
        "!pip install wandb xgboost==1.3.3 shap xlrd==1.2.0 category_encoders -qqq"
      ],
      "metadata": {
        "id": "3ZGxiHQdu16i"
      },
      "execution_count": 34,
      "outputs": []
    },
    {
      "cell_type": "code",
      "execution_count": 15,
      "metadata": {
        "id": "bsUhev1OEjcw"
      },
      "outputs": [],
      "source": [
        "# General imports\n",
        "import numpy as np\n",
        "import pandas as pd\n",
        "from sklearn.model_selection import train_test_split\n",
        "from sklearn.metrics import balanced_accuracy_score, roc_auc_score\n",
        "import json\n",
        "from pathlib import Path\n",
        "import wandb\n",
        "\n",
        "from category_encoders import OrdinalEncoder\n",
        "from sklearn.impute import SimpleImputer\n",
        "from sklearn.compose import ColumnTransformer\n",
        "from sklearn.pipeline import Pipeline\n",
        "import xgboost as xgb\n",
        "from wandb.xgboost import WandbCallback\n",
        "import wandb"
      ]
    },
    {
      "cell_type": "markdown",
      "source": [
        "## Logging in"
      ],
      "metadata": {
        "id": "inul8uqGBu3M"
      }
    },
    {
      "cell_type": "markdown",
      "source": [
        "You can login to W&B Anonymously.  Which means, you do NOT need to create an account, and you will be able to run this notebook entirely.  \n",
        "\n",
        "Be advised that artifacts logged anonymously cannot be claimed and expire after 7 days."
      ],
      "metadata": {
        "id": "llQfwYr5HonF"
      }
    },
    {
      "cell_type": "code",
      "source": [
        "#@title Enter host address\n",
        "#@markdown Enter the host url which corresponds to your WB instance.\n",
        "host = \"https://api.wandb.ai\" #@param {type: \"string\"}\n",
        "## when using wandb anywhere other than wandb.ai, you must\n",
        "## provide a proper host, so the client knows where to communcate\n",
        "## details of the experiment\n",
        "# wandb.login(key = key, host = host)\n",
        "wandb.login(host = host)"
      ],
      "metadata": {
        "id": "zv5i78B3B0Ko",
        "colab": {
          "base_uri": "https://localhost:8080/"
        },
        "outputId": "3874f75d-5a9a-4c08-8c40-f71d4627acae"
      },
      "execution_count": 16,
      "outputs": [
        {
          "output_type": "execute_result",
          "data": {
            "text/plain": [
              "True"
            ]
          },
          "metadata": {},
          "execution_count": 16
        }
      ]
    },
    {
      "cell_type": "markdown",
      "source": [
        "## The UCI Credit-card Default Dataset\n",
        "\n",
        "The UCI dataset contains data on 30,000 clients and their credit card transactions at a bank in Taiwan. In addition to static client features, the dataset contains the history of credit card bill payments between April and September 2005, as well as the balance limit of the client's credit card. The target is whether the client will default on a card payment in the following month, October 2005. A model trained on this data could be used, in part, to determine whether a client is eligible for another loan or a credit increase."
      ],
      "metadata": {
        "id": "z-cm-oomvPm9"
      }
    },
    {
      "cell_type": "markdown",
      "source": [
        "## Get Data (and log it)\n",
        "\n",
        "When we get data and log it, there are obviously tons of way to complete this.  Depending on how you log data, and whether or not you log your retrieval mechanism is a matter of preference and internal guidelines you need to follow.  \n",
        "\n",
        "Before we get started it is important to set the name space for your project.  This is going to be accomplished by passing a `project_name` as well as an `entity` to your wandb experiment\n",
        "\n",
        "`entity` corresponds to the team to which the project will be associated with.  The `entity` could be a team name, or your user name.  "
      ],
      "metadata": {
        "id": "YJjjxuN4vn1v"
      }
    },
    {
      "cell_type": "code",
      "source": [
        "project_name = \"xgboost-example\" #@param {type: \"string\"}\n",
        "entity = \"tim-w\" #@param {type: \"string\"}"
      ],
      "metadata": {
        "id": "XM0cM1FlvoNr"
      },
      "execution_count": 17,
      "outputs": []
    },
    {
      "cell_type": "markdown",
      "source": [
        "## Logging data\n",
        "\n",
        "W&B is very unopinionated with regard to how you track your experiments.  We could log data in any number of ways.  \n",
        "* Log one artifact which represents all the data - training, validation, and test data to one artifact\n",
        "* Log several artifacts - one for each of the training, validation, and test data loaders.  \n",
        "\n",
        "It is a matter of what best suites your needs and workflows and expectations.  \n",
        "\n",
        "### Anatomy of an artifact\n",
        "\n",
        "The `Artifact` class will correspond to an entry in the W&B Artifact registry.  The artifact has\n",
        "* a name\n",
        "* a type\n",
        "* metadata\n",
        "* description\n",
        "* files, directory of files, or references\n",
        "\n",
        "Example usage\n",
        "```\n",
        "run = wandb.init(project = \"my-project\")\n",
        "artifact = wandb.Artifact(name = \"my_artifact\", type = \"data\")\n",
        "artifact.add_file(\"/path/to/my/file.txt\")\n",
        "run.log_artifact(artifact)\n",
        "run.finish()\n",
        "```"
      ],
      "metadata": {
        "id": "ETk4mB-cvzyI"
      }
    },
    {
      "cell_type": "code",
      "source": [
        "# get and log data\n",
        "with wandb.init(project = project_name, job_type = \"data-acquisition\") as run:\n",
        "  data_url = \"http://archive.ics.uci.edu/ml/machine-learning-databases/00350/default%20of%20credit%20card%20clients.xls\"\n",
        "  dataset = pd.read_excel(io=data_url, header=1).drop(columns=['ID']).rename(columns={'PAY_0':'PAY_1'})\n",
        "  dataset.head()\n",
        "  data_artifact = wandb.Artifact(name = \"raw-dataset\",  type = \"dataset\", incremental = True)\n",
        "  data_artifact.add_reference(data_url)   ## s3 bucket, nfs drive\n",
        "  run.log_artifact(data_artifact)"
      ],
      "metadata": {
        "colab": {
          "base_uri": "https://localhost:8080/",
          "height": 211
        },
        "id": "Ww6MG_o1vUcm",
        "outputId": "47d696a5-12e8-4a66-d99b-414ec42b16c3"
      },
      "execution_count": 18,
      "outputs": [
        {
          "output_type": "display_data",
          "data": {
            "text/plain": [
              "<IPython.core.display.HTML object>"
            ],
            "text/html": [
              "Tracking run with wandb version 0.15.6"
            ]
          },
          "metadata": {}
        },
        {
          "output_type": "display_data",
          "data": {
            "text/plain": [
              "<IPython.core.display.HTML object>"
            ],
            "text/html": [
              "Run data is saved locally in <code>/content/wandb/run-20230725_131937-vp4g801y</code>"
            ]
          },
          "metadata": {}
        },
        {
          "output_type": "display_data",
          "data": {
            "text/plain": [
              "<IPython.core.display.HTML object>"
            ],
            "text/html": [
              "Syncing run <strong><a href='https://wandb.ai/tim-w/xgboost-example/runs/vp4g801y' target=\"_blank\">gentle-sun-110</a></strong> to <a href='https://wandb.ai/tim-w/xgboost-example' target=\"_blank\">Weights & Biases</a> (<a href='https://wandb.me/run' target=\"_blank\">docs</a>)<br/>"
            ]
          },
          "metadata": {}
        },
        {
          "output_type": "display_data",
          "data": {
            "text/plain": [
              "<IPython.core.display.HTML object>"
            ],
            "text/html": [
              " View project at <a href='https://wandb.ai/tim-w/xgboost-example' target=\"_blank\">https://wandb.ai/tim-w/xgboost-example</a>"
            ]
          },
          "metadata": {}
        },
        {
          "output_type": "display_data",
          "data": {
            "text/plain": [
              "<IPython.core.display.HTML object>"
            ],
            "text/html": [
              " View run at <a href='https://wandb.ai/tim-w/xgboost-example/runs/vp4g801y' target=\"_blank\">https://wandb.ai/tim-w/xgboost-example/runs/vp4g801y</a>"
            ]
          },
          "metadata": {}
        },
        {
          "output_type": "stream",
          "name": "stderr",
          "text": [
            "\u001b[34m\u001b[1mwandb\u001b[0m: \u001b[33mWARNING\u001b[0m Using experimental arg `incremental`\n"
          ]
        },
        {
          "output_type": "display_data",
          "data": {
            "text/plain": [
              "<IPython.core.display.HTML object>"
            ],
            "text/html": [
              "Waiting for W&B process to finish... <strong style=\"color:green\">(success).</strong>"
            ]
          },
          "metadata": {}
        },
        {
          "output_type": "display_data",
          "data": {
            "text/plain": [
              "<IPython.core.display.HTML object>"
            ],
            "text/html": [
              " View run <strong style=\"color:#cdcd00\">gentle-sun-110</strong> at: <a href='https://wandb.ai/tim-w/xgboost-example/runs/vp4g801y' target=\"_blank\">https://wandb.ai/tim-w/xgboost-example/runs/vp4g801y</a><br/> View job at <a href='https://wandb.ai/tim-w/xgboost-example/jobs/QXJ0aWZhY3RDb2xsZWN0aW9uOjg1NDY2OTE4/version_details/v3' target=\"_blank\">https://wandb.ai/tim-w/xgboost-example/jobs/QXJ0aWZhY3RDb2xsZWN0aW9uOjg1NDY2OTE4/version_details/v3</a><br/>Synced 5 W&B file(s), 0 media file(s), 4 artifact file(s) and 1 other file(s)"
            ]
          },
          "metadata": {}
        },
        {
          "output_type": "display_data",
          "data": {
            "text/plain": [
              "<IPython.core.display.HTML object>"
            ],
            "text/html": [
              "Find logs at: <code>./wandb/run-20230725_131937-vp4g801y/logs</code>"
            ]
          },
          "metadata": {}
        }
      ]
    },
    {
      "cell_type": "markdown",
      "source": [
        "Dataset columns:\n",
        "\n",
        "* `LIMIT_BAL`: credit card limit, will be replaced by a synthetic feature\n",
        "* `SEX, EDUCATION, MARRIAGE, AGE`: client demographic features\n",
        "* `BILL_AMT[1-6]`: amount on bill statement for April-September\n",
        "* `PAY_AMT[1-6]`: payment amount for April-September\n",
        "* `default payment next month`: target, whether the client defaulted the following month"
      ],
      "metadata": {
        "id": "miVEyTnIwBPh"
      }
    },
    {
      "cell_type": "code",
      "source": [
        "from pathlib import Path\n",
        "data_path = Path(\"./data\")\n",
        "data_path.mkdir(exist_ok = True)\n",
        "target_name = \"default payment next month\""
      ],
      "metadata": {
        "id": "eDSO1xKWyUYW"
      },
      "execution_count": 19,
      "outputs": []
    },
    {
      "cell_type": "code",
      "source": [
        "# Train-test split\n",
        "with wandb.init(project = project_name, job_type = \"data-split\") as run:\n",
        "  test_size = 0.3\n",
        "  random_state = 12345\n",
        "  dataset_artifact = run.use_artifact(f'{entity}/{project_name}/raw-dataset:latest', type='dataset')\n",
        "  #\n",
        "  dataset_artifact.download()\n",
        "  #\n",
        "  df = pd.read_excel(dataset_artifact.file())\n",
        "  #\n",
        "\n",
        "  df_train, df_test = train_test_split(\n",
        "      dataset,\n",
        "      test_size = 0.1,\n",
        "      random_state=12345,\n",
        "      stratify=dataset[target_name])\n",
        "  df_train, df_val = train_test_split(\n",
        "      df_train,\n",
        "      test_size = 0.2,\n",
        "      random_state=12345,\n",
        "      stratify=df_train[target_name])\n",
        "  df_train.to_csv(\"data/train.csv\", index = False)\n",
        "  df_test.to_csv(\"data/test.csv\", index = False)\n",
        "  df_val.to_csv(\"data/val.csv\", index = False)\n",
        "  training_data_artifact = wandb.Artifact(name = \"train-val-test-datasets\",\n",
        "                                          type = \"dataset\",\n",
        "                                          description = \"train/validation/test data\",\n",
        "                                          metadata = {\"stratified\": target_name, \"valsize\": 0.2, \"testsize\": 0.1, \"trainsize\": 0.7, \"random_state\":12345})\n",
        "  training_data_artifact.add_dir(\"./data\")\n",
        "  run.log_artifact(training_data_artifact)"
      ],
      "metadata": {
        "colab": {
          "base_uri": "https://localhost:8080/",
          "height": 294,
          "referenced_widgets": [
            "8c1bf39cca5b418e91cefefca642df56",
            "0f68012704804561a32bd87f6c6064aa",
            "871eb7a813764235b426b9180cb046c8",
            "73ba9e9aedc6423dabd7e3506209cf4d",
            "35428cf0efcc412887864b08151b84da",
            "41199d930271443cb62716550ad0635c",
            "ad9950b4476f4399a579a6751209d554",
            "8d92fd55018846ac8d1d803bdc668cdc"
          ]
        },
        "id": "9_WEbTEpwXDD",
        "outputId": "ad9c95b7-920e-4fdf-fd05-463651d3b474"
      },
      "execution_count": 21,
      "outputs": [
        {
          "output_type": "display_data",
          "data": {
            "text/plain": [
              "<IPython.core.display.HTML object>"
            ],
            "text/html": [
              "Tracking run with wandb version 0.15.6"
            ]
          },
          "metadata": {}
        },
        {
          "output_type": "display_data",
          "data": {
            "text/plain": [
              "<IPython.core.display.HTML object>"
            ],
            "text/html": [
              "Run data is saved locally in <code>/content/wandb/run-20230725_132026-bdusyr12</code>"
            ]
          },
          "metadata": {}
        },
        {
          "output_type": "display_data",
          "data": {
            "text/plain": [
              "<IPython.core.display.HTML object>"
            ],
            "text/html": [
              "Syncing run <strong><a href='https://wandb.ai/tim-w/xgboost-example/runs/bdusyr12' target=\"_blank\">autumn-fire-112</a></strong> to <a href='https://wandb.ai/tim-w/xgboost-example' target=\"_blank\">Weights & Biases</a> (<a href='https://wandb.me/run' target=\"_blank\">docs</a>)<br/>"
            ]
          },
          "metadata": {}
        },
        {
          "output_type": "display_data",
          "data": {
            "text/plain": [
              "<IPython.core.display.HTML object>"
            ],
            "text/html": [
              " View project at <a href='https://wandb.ai/tim-w/xgboost-example' target=\"_blank\">https://wandb.ai/tim-w/xgboost-example</a>"
            ]
          },
          "metadata": {}
        },
        {
          "output_type": "display_data",
          "data": {
            "text/plain": [
              "<IPython.core.display.HTML object>"
            ],
            "text/html": [
              " View run at <a href='https://wandb.ai/tim-w/xgboost-example/runs/bdusyr12' target=\"_blank\">https://wandb.ai/tim-w/xgboost-example/runs/bdusyr12</a>"
            ]
          },
          "metadata": {}
        },
        {
          "output_type": "stream",
          "name": "stderr",
          "text": [
            "\u001b[34m\u001b[1mwandb\u001b[0m:   1 of 1 files downloaded.  \n",
            "\u001b[34m\u001b[1mwandb\u001b[0m: Adding directory to artifact (./data)... Done. 0.0s\n"
          ]
        },
        {
          "output_type": "display_data",
          "data": {
            "text/plain": [
              "<IPython.core.display.HTML object>"
            ],
            "text/html": [
              "Waiting for W&B process to finish... <strong style=\"color:green\">(success).</strong>"
            ]
          },
          "metadata": {}
        },
        {
          "output_type": "display_data",
          "data": {
            "text/plain": [
              "VBox(children=(Label(value='0.395 MB of 0.395 MB uploaded (0.000 MB deduped)\\r'), FloatProgress(value=1.0, max…"
            ],
            "application/vnd.jupyter.widget-view+json": {
              "version_major": 2,
              "version_minor": 0,
              "model_id": "8c1bf39cca5b418e91cefefca642df56"
            }
          },
          "metadata": {}
        },
        {
          "output_type": "display_data",
          "data": {
            "text/plain": [
              "<IPython.core.display.HTML object>"
            ],
            "text/html": [
              " View run <strong style=\"color:#cdcd00\">autumn-fire-112</strong> at: <a href='https://wandb.ai/tim-w/xgboost-example/runs/bdusyr12' target=\"_blank\">https://wandb.ai/tim-w/xgboost-example/runs/bdusyr12</a><br/> View job at <a href='https://wandb.ai/tim-w/xgboost-example/jobs/QXJ0aWZhY3RDb2xsZWN0aW9uOjg1NDY2OTE4/version_details/v5' target=\"_blank\">https://wandb.ai/tim-w/xgboost-example/jobs/QXJ0aWZhY3RDb2xsZWN0aW9uOjg1NDY2OTE4/version_details/v5</a><br/>Synced 5 W&B file(s), 0 media file(s), 4 artifact file(s) and 1 other file(s)"
            ]
          },
          "metadata": {}
        },
        {
          "output_type": "display_data",
          "data": {
            "text/plain": [
              "<IPython.core.display.HTML object>"
            ],
            "text/html": [
              "Find logs at: <code>./wandb/run-20230725_132026-bdusyr12/logs</code>"
            ]
          },
          "metadata": {}
        }
      ]
    },
    {
      "cell_type": "markdown",
      "source": [
        "## Create Pipeline"
      ],
      "metadata": {
        "id": "KTNo5A6u0NAU"
      }
    },
    {
      "cell_type": "code",
      "source": [
        "categorical_features = [\"EDUCATION\", \"MARRIAGE\", \"PAY_1\", \"PAY_2\", \"PAY_3\", \"PAY_4\", \"PAY_5\", \"PAY_6\"]\n",
        "numeric_features = ['LIMIT_BAL', 'BILL_AMT1', 'BILL_AMT2', 'BILL_AMT3',\n",
        "      'BILL_AMT4', 'BILL_AMT5', 'BILL_AMT6', 'PAY_AMT1', 'PAY_AMT2',\n",
        "      'PAY_AMT3', 'PAY_AMT4', 'PAY_AMT5', 'PAY_AMT6']\n",
        "features = []\n",
        "features.extend(numeric_features)\n",
        "features.extend(categorical_features)\n",
        "for col in categorical_features:\n",
        "  dataset[col] = dataset[col].astype('category')\n",
        "\n",
        "\n",
        "X_train = df_train.drop([target_name], axis=1)\n",
        "Y_train = df_train[target_name]\n",
        "X_test = df_test.drop([target_name], axis=1)\n",
        "Y_test = df_test[target_name]\n",
        "X_val = df_val.drop([target_name], axis=1)\n",
        "Y_val = df_val[target_name]\n",
        "base_rate = Y_train.mean()"
      ],
      "metadata": {
        "id": "VF1xC6FX0RIY"
      },
      "execution_count": 22,
      "outputs": []
    },
    {
      "cell_type": "code",
      "source": [
        "## create pipeline\n",
        "\n",
        "def create_preprocessing_pipeline(num_features, cat_features):\n",
        "  cat_preprocessing = Pipeline(\n",
        "    steps=[\n",
        "        (\"imputer\", SimpleImputer(strategy=\"constant\", fill_value=-9999, add_indicator=False)),\n",
        "        (\"category_encoder\", OrdinalEncoder()),\n",
        "    ]\n",
        "  )\n",
        "\n",
        "\n",
        "  pipeline = Pipeline([\n",
        "      (\"selector\", ColumnTransformer(\n",
        "          [(\"selector\", \"passthrough\", numeric_features),\n",
        "          (\"categorical-encoding\", cat_preprocessing, categorical_features)\n",
        "          ], remainder=\"drop\")),\n",
        "  ])\n",
        "\n",
        "  pipeline = Pipeline(steps=[(\"preprocessing\", pipeline)])\n",
        "\n",
        "  return pipeline\n"
      ],
      "metadata": {
        "id": "PXcvKllPwRZJ"
      },
      "execution_count": 23,
      "outputs": []
    },
    {
      "cell_type": "code",
      "source": [
        "from wandb.xgboost import WandbCallback\n",
        "\n"
      ],
      "metadata": {
        "id": "-p7EmwBS1Qyj"
      },
      "execution_count": 24,
      "outputs": []
    },
    {
      "cell_type": "code",
      "source": [
        "# Initialize the XGBoostClassifier\n",
        "import sys\n",
        "\n",
        "config = {\n",
        "        'objective': 'binary:logistic'\n",
        "        , 'base_score': base_rate\n",
        "        , 'gamma': 1               ## def: 0\n",
        "        , 'learning_rate': 0.1     ## def: 0.1\n",
        "        , 'max_depth': 3\n",
        "        , 'min_child_weight': 100  ## def: 1\n",
        "        , 'n_estimators': 25\n",
        "        , 'nthread': 24\n",
        "        , 'random_state': 42\n",
        "        , 'reg_alpha': 0\n",
        "        , 'reg_lambda': 0          ## def: 1\n",
        "        , 'eval_metric': ['auc', 'logloss']\n",
        "        , 'tree_method': 'hist'  # use `gpu_hist` to train on GPU\n",
        "    }\n",
        "\n",
        "run = wandb.init(project=project_name, job_type=\"training\", config = config)\n",
        "\n",
        "# artifact = run.use_artifact('{entity}/{project_name}/train-val-test-datasets:v0', type='dataset')\n",
        "artifact = run.use_artifact('tim-w/xgboost-example/train-val-test-datasets:v0', type='dataset')\n",
        "## download and load if necessary\n",
        "\n",
        "early_stopping_rounds = 40\n",
        "\n",
        "pipeline = create_preprocessing_pipeline(numeric_features, categorical_features)\n",
        "pipeline.fit(X_train)\n",
        "\n",
        "X_train = pipeline.transform(X_train)\n",
        "X_val = pipeline.transform(X_val)\n",
        "X_test = pipeline.transform(X_test)\n",
        "\n",
        "X_train = pd.DataFrame(X_train, columns = features)\n",
        "X_val = pd.DataFrame(X_val, columns = features)\n",
        "X_test = pd.DataFrame(X_test, columns = features)\n",
        "\n",
        "xgbmodel = xgb.XGBClassifier(**wandb.config, use_label_encoder=False)\n",
        "xgbmodel.fit(X_train, Y_train, eval_set = [(X_val, Y_val)],\n",
        "             callbacks = [WandbCallback(log_model = True)]\n",
        "             )\n",
        "\n",
        "run.finish()"
      ],
      "metadata": {
        "colab": {
          "base_uri": "https://localhost:8080/",
          "height": 955
        },
        "id": "D4q1rBRJ07rW",
        "outputId": "18352695-51d3-41e4-b415-f569c6a59b6f"
      },
      "execution_count": 25,
      "outputs": [
        {
          "output_type": "display_data",
          "data": {
            "text/plain": [
              "<IPython.core.display.HTML object>"
            ],
            "text/html": [
              "Tracking run with wandb version 0.15.6"
            ]
          },
          "metadata": {}
        },
        {
          "output_type": "display_data",
          "data": {
            "text/plain": [
              "<IPython.core.display.HTML object>"
            ],
            "text/html": [
              "Run data is saved locally in <code>/content/wandb/run-20230725_132129-480rijsp</code>"
            ]
          },
          "metadata": {}
        },
        {
          "output_type": "display_data",
          "data": {
            "text/plain": [
              "<IPython.core.display.HTML object>"
            ],
            "text/html": [
              "Syncing run <strong><a href='https://wandb.ai/tim-w/xgboost-example/runs/480rijsp' target=\"_blank\">comic-butterfly-113</a></strong> to <a href='https://wandb.ai/tim-w/xgboost-example' target=\"_blank\">Weights & Biases</a> (<a href='https://wandb.me/run' target=\"_blank\">docs</a>)<br/>"
            ]
          },
          "metadata": {}
        },
        {
          "output_type": "display_data",
          "data": {
            "text/plain": [
              "<IPython.core.display.HTML object>"
            ],
            "text/html": [
              " View project at <a href='https://wandb.ai/tim-w/xgboost-example' target=\"_blank\">https://wandb.ai/tim-w/xgboost-example</a>"
            ]
          },
          "metadata": {}
        },
        {
          "output_type": "display_data",
          "data": {
            "text/plain": [
              "<IPython.core.display.HTML object>"
            ],
            "text/html": [
              " View run at <a href='https://wandb.ai/tim-w/xgboost-example/runs/480rijsp' target=\"_blank\">https://wandb.ai/tim-w/xgboost-example/runs/480rijsp</a>"
            ]
          },
          "metadata": {}
        },
        {
          "output_type": "stream",
          "name": "stdout",
          "text": [
            "Warning: No categorical columns found. Calling 'transform' will only return input data.\n",
            "[0]\tvalidation_0-auc:0.74603\tvalidation_0-logloss:0.50882\n",
            "[1]\tvalidation_0-auc:0.75616\tvalidation_0-logloss:0.49454\n",
            "[2]\tvalidation_0-auc:0.76581\tvalidation_0-logloss:0.48310\n"
          ]
        },
        {
          "output_type": "stream",
          "name": "stderr",
          "text": [
            "/usr/local/lib/python3.10/dist-packages/xgboost/sklearn.py:1395: UserWarning: `use_label_encoder` is deprecated in 1.7.0.\n",
            "  warnings.warn(\"`use_label_encoder` is deprecated in 1.7.0.\")\n",
            "/usr/local/lib/python3.10/dist-packages/xgboost/sklearn.py:835: UserWarning: `callbacks` in `fit` method is deprecated for better compatibility with scikit-learn, use `callbacks` in constructor or`set_params` instead.\n",
            "  warnings.warn(\n"
          ]
        },
        {
          "output_type": "stream",
          "name": "stdout",
          "text": [
            "[3]\tvalidation_0-auc:0.76847\tvalidation_0-logloss:0.47404\n",
            "[4]\tvalidation_0-auc:0.77308\tvalidation_0-logloss:0.46673\n",
            "[5]\tvalidation_0-auc:0.77510\tvalidation_0-logloss:0.46052\n",
            "[6]\tvalidation_0-auc:0.77469\tvalidation_0-logloss:0.45557\n",
            "[7]\tvalidation_0-auc:0.77533\tvalidation_0-logloss:0.45137\n",
            "[8]\tvalidation_0-auc:0.77599\tvalidation_0-logloss:0.44772\n",
            "[9]\tvalidation_0-auc:0.77758\tvalidation_0-logloss:0.44432\n",
            "[10]\tvalidation_0-auc:0.77809\tvalidation_0-logloss:0.44169\n",
            "[11]\tvalidation_0-auc:0.77874\tvalidation_0-logloss:0.43956\n",
            "[12]\tvalidation_0-auc:0.77915\tvalidation_0-logloss:0.43754\n",
            "[13]\tvalidation_0-auc:0.78006\tvalidation_0-logloss:0.43594\n",
            "[14]\tvalidation_0-auc:0.77978\tvalidation_0-logloss:0.43465\n",
            "[15]\tvalidation_0-auc:0.77970\tvalidation_0-logloss:0.43334\n",
            "[16]\tvalidation_0-auc:0.78040\tvalidation_0-logloss:0.43214\n",
            "[17]\tvalidation_0-auc:0.78065\tvalidation_0-logloss:0.43115\n",
            "[18]\tvalidation_0-auc:0.78065\tvalidation_0-logloss:0.43036\n",
            "[19]\tvalidation_0-auc:0.78075\tvalidation_0-logloss:0.42967\n",
            "[20]\tvalidation_0-auc:0.78115\tvalidation_0-logloss:0.42919\n",
            "[21]\tvalidation_0-auc:0.78178\tvalidation_0-logloss:0.42848\n",
            "[22]\tvalidation_0-auc:0.78197\tvalidation_0-logloss:0.42791\n",
            "[23]\tvalidation_0-auc:0.78216\tvalidation_0-logloss:0.42759\n",
            "[24]\tvalidation_0-auc:0.78236\tvalidation_0-logloss:0.42706\n"
          ]
        },
        {
          "output_type": "display_data",
          "data": {
            "text/plain": [
              "<IPython.core.display.HTML object>"
            ],
            "text/html": [
              "Waiting for W&B process to finish... <strong style=\"color:green\">(success).</strong>"
            ]
          },
          "metadata": {}
        },
        {
          "output_type": "display_data",
          "data": {
            "text/plain": [
              "<IPython.core.display.HTML object>"
            ],
            "text/html": [
              "<style>\n",
              "    table.wandb td:nth-child(1) { padding: 0 10px; text-align: left ; width: auto;} td:nth-child(2) {text-align: left ; width: 100%}\n",
              "    .wandb-row { display: flex; flex-direction: row; flex-wrap: wrap; justify-content: flex-start; width: 100% }\n",
              "    .wandb-col { display: flex; flex-direction: column; flex-basis: 100%; flex: 1; padding: 10px; }\n",
              "    </style>\n",
              "<div class=\"wandb-row\"><div class=\"wandb-col\"><h3>Run history:</h3><br/><table class=\"wandb\"><tr><td>epoch</td><td>▁▁▂▂▂▂▃▃▃▄▄▄▅▅▅▅▆▆▆▇▇▇▇██</td></tr><tr><td>validation_0-auc</td><td>▁▃▅▅▆▇▇▇▇▇▇▇▇██▇█████████</td></tr><tr><td>validation_0-logloss</td><td>█▇▆▅▄▄▃▃▃▂▂▂▂▂▂▂▁▁▁▁▁▁▁▁▁</td></tr></table><br/></div><div class=\"wandb-col\"><h3>Run summary:</h3><br/><table class=\"wandb\"><tr><td>epoch</td><td>24</td></tr></table><br/></div></div>"
            ]
          },
          "metadata": {}
        },
        {
          "output_type": "display_data",
          "data": {
            "text/plain": [
              "<IPython.core.display.HTML object>"
            ],
            "text/html": [
              " View run <strong style=\"color:#cdcd00\">comic-butterfly-113</strong> at: <a href='https://wandb.ai/tim-w/xgboost-example/runs/480rijsp' target=\"_blank\">https://wandb.ai/tim-w/xgboost-example/runs/480rijsp</a><br/> View job at <a href='https://wandb.ai/tim-w/xgboost-example/jobs/QXJ0aWZhY3RDb2xsZWN0aW9uOjg1NDY2OTE4/version_details/v6' target=\"_blank\">https://wandb.ai/tim-w/xgboost-example/jobs/QXJ0aWZhY3RDb2xsZWN0aW9uOjg1NDY2OTE4/version_details/v6</a><br/>Synced 5 W&B file(s), 1 media file(s), 6 artifact file(s) and 2 other file(s)"
            ]
          },
          "metadata": {}
        },
        {
          "output_type": "display_data",
          "data": {
            "text/plain": [
              "<IPython.core.display.HTML object>"
            ],
            "text/html": [
              "Find logs at: <code>./wandb/run-20230725_132129-480rijsp/logs</code>"
            ]
          },
          "metadata": {}
        }
      ]
    },
    {
      "cell_type": "code",
      "source": [
        "import shap\n",
        "\n",
        "with wandb.init(project=project_name, job_type=\"training\", config = config) as run:\n",
        "\n",
        "  # artifact = run.use_artifact('{entity}/{project_name}/train-val-test-datasets:v0', type='dataset')\n",
        "  artifact = run.use_artifact('tim-w/xgboost-example/train-val-test-datasets:v0', type='dataset')\n",
        "  ## download and load if necessary\n",
        "\n",
        "  early_stopping_rounds = 40\n",
        "\n",
        "  pipeline = create_preprocessing_pipeline(numeric_features, categorical_features)\n",
        "  pipeline.fit(X_train)\n",
        "\n",
        "  X_train = pipeline.transform(X_train)\n",
        "  X_val = pipeline.transform(X_val)\n",
        "  X_test = pipeline.transform(X_test)\n",
        "\n",
        "  X_train = pd.DataFrame(X_train, columns = features)\n",
        "  X_val = pd.DataFrame(X_val, columns = features)\n",
        "  X_test = pd.DataFrame(X_test, columns = features)\n",
        "\n",
        "  xgbmodel = xgb.XGBClassifier(**wandb.config, use_label_encoder=False)\n",
        "  xgbmodel.fit(X_train, Y_train, eval_set = [(X_val, Y_val)],\n",
        "              callbacks = [WandbCallback(log_model = True)])\n",
        "\n",
        "  explainer = shap.TreeExplainer(xgbmodel)\n",
        "  shap_values = explainer.shap_values(X_test)\n",
        "\n",
        "  Y_test_probs = xgbmodel.predict_proba(X_test)\n",
        "  Y_test_preds = Y_test_probs[:,1]\n",
        "\n",
        "  y_preds = pd.DataFrame(Y_test_probs, columns = [\"p0\", \"p1\"])\n",
        "  sorted_idx = y_preds.sort_values(\"p1\").index\n",
        "\n",
        "  shap_html_list = [np.nan]*y_preds.shape[0]\n",
        "\n",
        "  ## log a few shap plots for top and bottom predictions\n",
        "\n",
        "  for i in sorted_idx[0:1]:\n",
        "    force_plot = shap.force_plot(explainer.expected_value, shap_values[i,:], X_test.iloc[i,:], show=False, matplotlib=False)\n",
        "    shap_html = f\"<head>{shap.getjs()}</head><body>{force_plot.html()}</body>\"\n",
        "    shap_html_list[i] = wandb.Html(shap_html)\n",
        "    run.log({f\"prediction explanation at idx: {i}, prob: {y_preds.iloc[i][0]}\": wandb.Html(shap_html)})\n",
        "\n",
        "  for i in sorted_idx[-1:]:\n",
        "    force_plot = shap.force_plot(explainer.expected_value, shap_values[i,:], X_test.iloc[i,:], show=False, matplotlib=False)\n",
        "    shap_html = f\"<head>{shap.getjs()}</head><body>{force_plot.html()}</body>\"\n",
        "    shap_html_list[i] = wandb.Html(shap_html)\n",
        "    run.log({f\"prediction explanation at idx: {i}, prob: {y_preds.iloc[i][0]}\": wandb.Html(shap_html)})\n",
        "\n",
        "  ## log stacked shap plot for first 1000 records in test dataset\n",
        "  summary_force_plot = shap.force_plot(explainer.expected_value, shap_values[:1000,:], X_test.iloc[:1000,:])\n",
        "  shap_html = f\"<head>{shap.getjs()}</head><body>{summary_force_plot.html()}</body>\"\n",
        "  run.log({f\"aggregate \": wandb.Html(shap_html)})\n",
        "\n",
        "  ## feature importance and partial dependence plots\n",
        "  shap_values_df = pd.DataFrame(shap_values, columns = [f\"{c}_shap\" for c in X_test.columns])\n",
        "\n",
        "  shap_fi = np.abs(shap_values_df).mean(axis=0).reset_index()\n",
        "  shap_fi.columns = [\"Feature\", \"Feature Importance\"]\n",
        "  shap_fi[\"Feature\"] = shap_fi[\"Feature\"].apply(lambda x: x[0:-5])\n",
        "  shap_wandb_table = wandb.Table(dataframe = shap_values_df.join(df_test.reset_index()))\n",
        "  shap_fi_plot = wandb.plot.bar(table =  wandb.Table(dataframe = shap_fi), label = \"Feature\", value = \"Feature Importance\", title = \"Shap Feature Importance\")\n",
        "  top_5 = shap_fi.sort_values(\"Feature Importance\", ascending = False).iloc[0:5][\"Feature\"].tolist()\n",
        "  for feature in top_5:\n",
        "    if feature in categorical_features:\n",
        "      pd_plot = wandb.plot.scatter(table = shap_wandb_table, x = feature, y = f\"{feature}_shap\", title = f\"PD Plot: {feature}\")\n",
        "    else:\n",
        "      pd_plot = wandb.plot.line(table = shap_wandb_table, x = feature, y = f\"{feature}_shap\", title = f\"PD Plot: {feature}\")\n",
        "    run.log({ f\"Shap Partial Dependence Plot {feature}\": pd_plot})\n",
        "  run.log({\"Shap Feature Importance\": shap_fi_plot})\n",
        "  shap_values_df[\"Shap VIZ\"] = shap_html_list\n",
        "\n",
        "  run.log({\"Shap Values\": wandb.Table(dataframe = shap_values_df)})\n"
      ],
      "metadata": {
        "colab": {
          "base_uri": "https://localhost:8080/",
          "height": 916
        },
        "id": "jejB6C7x2U48",
        "outputId": "e3d31085-9164-489c-cd78-69260b135736"
      },
      "execution_count": 28,
      "outputs": [
        {
          "output_type": "stream",
          "name": "stderr",
          "text": [
            "Using `tqdm.autonotebook.tqdm` in notebook mode. Use `tqdm.tqdm` instead to force console mode (e.g. in jupyter console)\n"
          ]
        },
        {
          "output_type": "display_data",
          "data": {
            "text/plain": [
              "<IPython.core.display.HTML object>"
            ],
            "text/html": [
              "Tracking run with wandb version 0.15.6"
            ]
          },
          "metadata": {}
        },
        {
          "output_type": "display_data",
          "data": {
            "text/plain": [
              "<IPython.core.display.HTML object>"
            ],
            "text/html": [
              "Run data is saved locally in <code>/content/wandb/run-20230725_132355-tfnli0i0</code>"
            ]
          },
          "metadata": {}
        },
        {
          "output_type": "display_data",
          "data": {
            "text/plain": [
              "<IPython.core.display.HTML object>"
            ],
            "text/html": [
              "Syncing run <strong><a href='https://wandb.ai/tim-w/xgboost-example/runs/tfnli0i0' target=\"_blank\">desert-morning-114</a></strong> to <a href='https://wandb.ai/tim-w/xgboost-example' target=\"_blank\">Weights & Biases</a> (<a href='https://wandb.me/run' target=\"_blank\">docs</a>)<br/>"
            ]
          },
          "metadata": {}
        },
        {
          "output_type": "display_data",
          "data": {
            "text/plain": [
              "<IPython.core.display.HTML object>"
            ],
            "text/html": [
              " View project at <a href='https://wandb.ai/tim-w/xgboost-example' target=\"_blank\">https://wandb.ai/tim-w/xgboost-example</a>"
            ]
          },
          "metadata": {}
        },
        {
          "output_type": "display_data",
          "data": {
            "text/plain": [
              "<IPython.core.display.HTML object>"
            ],
            "text/html": [
              " View run at <a href='https://wandb.ai/tim-w/xgboost-example/runs/tfnli0i0' target=\"_blank\">https://wandb.ai/tim-w/xgboost-example/runs/tfnli0i0</a>"
            ]
          },
          "metadata": {}
        },
        {
          "output_type": "stream",
          "name": "stdout",
          "text": [
            "Warning: No categorical columns found. Calling 'transform' will only return input data.\n",
            "[0]\tvalidation_0-auc:0.74603\tvalidation_0-logloss:0.50882\n",
            "[1]\tvalidation_0-auc:0.75616\tvalidation_0-logloss:0.49454\n",
            "[2]\tvalidation_0-auc:0.76581\tvalidation_0-logloss:0.48310\n"
          ]
        },
        {
          "output_type": "stream",
          "name": "stderr",
          "text": [
            "`use_label_encoder` is deprecated in 1.7.0.\n",
            "`callbacks` in `fit` method is deprecated for better compatibility with scikit-learn, use `callbacks` in constructor or`set_params` instead.\n"
          ]
        },
        {
          "output_type": "stream",
          "name": "stdout",
          "text": [
            "[3]\tvalidation_0-auc:0.76847\tvalidation_0-logloss:0.47404\n",
            "[4]\tvalidation_0-auc:0.77308\tvalidation_0-logloss:0.46673\n",
            "[5]\tvalidation_0-auc:0.77510\tvalidation_0-logloss:0.46052\n",
            "[6]\tvalidation_0-auc:0.77469\tvalidation_0-logloss:0.45557\n",
            "[7]\tvalidation_0-auc:0.77533\tvalidation_0-logloss:0.45137\n",
            "[8]\tvalidation_0-auc:0.77599\tvalidation_0-logloss:0.44772\n",
            "[9]\tvalidation_0-auc:0.77758\tvalidation_0-logloss:0.44432\n",
            "[10]\tvalidation_0-auc:0.77809\tvalidation_0-logloss:0.44169\n",
            "[11]\tvalidation_0-auc:0.77874\tvalidation_0-logloss:0.43956\n",
            "[12]\tvalidation_0-auc:0.77915\tvalidation_0-logloss:0.43754\n",
            "[13]\tvalidation_0-auc:0.78006\tvalidation_0-logloss:0.43594\n",
            "[14]\tvalidation_0-auc:0.77978\tvalidation_0-logloss:0.43465\n",
            "[15]\tvalidation_0-auc:0.77970\tvalidation_0-logloss:0.43334\n",
            "[16]\tvalidation_0-auc:0.78040\tvalidation_0-logloss:0.43214\n",
            "[17]\tvalidation_0-auc:0.78065\tvalidation_0-logloss:0.43115\n",
            "[18]\tvalidation_0-auc:0.78065\tvalidation_0-logloss:0.43036\n",
            "[19]\tvalidation_0-auc:0.78075\tvalidation_0-logloss:0.42967\n",
            "[20]\tvalidation_0-auc:0.78115\tvalidation_0-logloss:0.42919\n",
            "[21]\tvalidation_0-auc:0.78178\tvalidation_0-logloss:0.42848\n",
            "[22]\tvalidation_0-auc:0.78197\tvalidation_0-logloss:0.42791\n",
            "[23]\tvalidation_0-auc:0.78216\tvalidation_0-logloss:0.42759\n",
            "[24]\tvalidation_0-auc:0.78236\tvalidation_0-logloss:0.42706\n"
          ]
        },
        {
          "output_type": "display_data",
          "data": {
            "text/plain": [
              "<IPython.core.display.HTML object>"
            ],
            "text/html": [
              "Waiting for W&B process to finish... <strong style=\"color:green\">(success).</strong>"
            ]
          },
          "metadata": {}
        },
        {
          "output_type": "display_data",
          "data": {
            "text/plain": [
              "<IPython.core.display.HTML object>"
            ],
            "text/html": [
              "<style>\n",
              "    table.wandb td:nth-child(1) { padding: 0 10px; text-align: left ; width: auto;} td:nth-child(2) {text-align: left ; width: 100%}\n",
              "    .wandb-row { display: flex; flex-direction: row; flex-wrap: wrap; justify-content: flex-start; width: 100% }\n",
              "    .wandb-col { display: flex; flex-direction: column; flex-basis: 100%; flex: 1; padding: 10px; }\n",
              "    </style>\n",
              "<div class=\"wandb-row\"><div class=\"wandb-col\"><h3>Run history:</h3><br/><table class=\"wandb\"><tr><td>epoch</td><td>▁▁▂▂▂▂▃▃▃▄▄▄▅▅▅▅▆▆▆▇▇▇▇██</td></tr><tr><td>validation_0-auc</td><td>▁▃▅▅▆▇▇▇▇▇▇▇▇██▇█████████</td></tr><tr><td>validation_0-logloss</td><td>█▇▆▅▄▄▃▃▃▂▂▂▂▂▂▂▁▁▁▁▁▁▁▁▁</td></tr></table><br/></div><div class=\"wandb-col\"><h3>Run summary:</h3><br/><table class=\"wandb\"><tr><td>epoch</td><td>24</td></tr></table><br/></div></div>"
            ]
          },
          "metadata": {}
        },
        {
          "output_type": "display_data",
          "data": {
            "text/plain": [
              "<IPython.core.display.HTML object>"
            ],
            "text/html": [
              " View run <strong style=\"color:#cdcd00\">desert-morning-114</strong> at: <a href='https://wandb.ai/tim-w/xgboost-example/runs/tfnli0i0' target=\"_blank\">https://wandb.ai/tim-w/xgboost-example/runs/tfnli0i0</a><br/> View job at <a href='https://wandb.ai/tim-w/xgboost-example/jobs/QXJ0aWZhY3RDb2xsZWN0aW9uOjg1NDY2OTE4/version_details/v7' target=\"_blank\">https://wandb.ai/tim-w/xgboost-example/jobs/QXJ0aWZhY3RDb2xsZWN0aW9uOjg1NDY2OTE4/version_details/v7</a><br/>Synced 5 W&B file(s), 7 media file(s), 11 artifact file(s) and 2 other file(s)"
            ]
          },
          "metadata": {}
        },
        {
          "output_type": "display_data",
          "data": {
            "text/plain": [
              "<IPython.core.display.HTML object>"
            ],
            "text/html": [
              "Find logs at: <code>./wandb/run-20230725_132355-tfnli0i0/logs</code>"
            ]
          },
          "metadata": {}
        }
      ]
    },
    {
      "cell_type": "markdown",
      "source": [
        "## Sweeps\n",
        "\n",
        "Very Naive instrumentation of sweeps - sweeps running a single machine\n",
        "\n",
        "We'll switch from using the `sync_tensorboard` argument to using `wandb.log`.  \n",
        "\n",
        "Also, we'll use sweeps to evaluate different batch sizes and learning rates.  \n",
        "\n",
        "1. Add wandb: In your Python script, add a couple lines of code to log hyperparameters and output metrics from your script.\n",
        "2. Write config: Define the variables and ranges to sweep over. Pick a search strategy— we support grid, random, and Bayesian search, plus techniques for faster iterations like early stopping. Check out some example configs here.\n",
        "Initialize sweep: Launch the sweep server. We host this central controller and coordinate between the agents that execute the sweep.\n",
        "3. Launch agent(s): Run a single-line command on each machine you'd like to use to train models in the sweep. The agents ask the central sweep server what hyperparameters to try next, and then they execute the runs.\n",
        "4. Visualize results: Open our live dashboard to see all your results in one central place.\n",
        "\n",
        "![](https://1039519455-files.gitbook.io/~/files/v0/b/gitbook-x-prod.appspot.com/o/spaces%2F-Lqya5RvLedGEWPhtkjU-1972196547%2Fuploads%2Fgit-blob-d7820a5646e118213a46afd4faa2c02eed7faf5c%2Fcentral-sweep-server-3%20(2)%20(2)%20(3)%20(3)%20(2)%20(1)%20(1)%20(1)%20(1)%20(1)%20(1)%20(1)%20(1)%20(1)%20(1)%20(1)%20(3)%20(1)%20(1)%20(1)%20(1)%20(1)%20(1)%20(1)%20(1)%20(1)%20(1)%20(1)%20(1)%20(1)%20(1)%20(1)%20(1)%20(1)%20(1)%20(1)%20(2).png?alt=media)"
      ],
      "metadata": {
        "id": "VZfLOFfU-eQI"
      }
    },
    {
      "cell_type": "markdown",
      "source": [
        "## Sweep Configuration"
      ],
      "metadata": {
        "id": "R37gxYbL-hK0"
      }
    },
    {
      "cell_type": "code",
      "source": [
        "sweep_config = {\n",
        "  'method': 'grid',\n",
        "  'metric': {\n",
        "      'name': 'validation_0-logloss.min',  ## matches what i write via SummaryWriter\n",
        "      'goal': 'minimize'\n",
        "  },\n",
        "  'early_terminate':{\n",
        "      'type': 'hyperband',\n",
        "      'min_iter': 5\n",
        "  },\n",
        "  'parameters': {\n",
        "      'feature_list':{\n",
        "          'values': [\"fls1\", \"fls2\"]\n",
        "      },\n",
        "      'max_depth': {\n",
        "          'values': [2, 4, 16]\n",
        "      },\n",
        "      \"colsample_bytree\": {\n",
        "          \"values\": [0.6, 0.8, 1]\n",
        "      }\n",
        "  }\n",
        "}\n"
      ],
      "metadata": {
        "id": "TpV0a8Rm-exL"
      },
      "execution_count": 29,
      "outputs": []
    },
    {
      "cell_type": "markdown",
      "source": [
        "## Train Fucntion"
      ],
      "metadata": {
        "id": "I92WggHt-kpN"
      }
    },
    {
      "cell_type": "code",
      "source": [
        "def sweep_train(config_defaults = dict(learning_rate=0.01, max_depth = 3, n_estimators = 25)):\n",
        "\n",
        "  config_standard = {\n",
        "        'objective': 'binary:logistic'\n",
        "        , 'gamma': 1               ## def: 0\n",
        "        , 'min_child_weight': 100  ## def: 1\n",
        "        , 'nthread': 24\n",
        "        , 'random_state': 42\n",
        "        , 'reg_alpha': 0\n",
        "        , 'reg_lambda': 0          ## def: 1\n",
        "        , 'eval_metric': ['auc', 'logloss']\n",
        "        , 'tree_method': 'hist'  # use `gpu_hist` to train on GPU,\n",
        "        , 'n_estimators': 25\n",
        "    }\n",
        "\n",
        "  config = {**config_defaults, **config_standard}\n",
        "\n",
        "  with wandb.init(config = config) as run:\n",
        "\n",
        "    config = wandb.config\n",
        "    ## or, ifyou have a nasty nested dictionary for your config\n",
        "    # config = EasyDict(wandb.config)\n",
        "\n",
        "    # artifact = run.use_artifact('{entity}/{project_name}/train-val-test-datasets:v0', type='dataset')\n",
        "    artifact = run.use_artifact('tim-w/xgboost-example/train-val-test-datasets:v0', type='dataset')\n",
        "    artifact_path = artifact.download()\n",
        "\n",
        "    categorical_features = [\"EDUCATION\", \"MARRIAGE\", \"PAY_1\", \"PAY_2\", \"PAY_3\", \"PAY_4\", \"PAY_5\", \"PAY_6\"]\n",
        "    numeric_features = ['LIMIT_BAL', 'BILL_AMT1', 'BILL_AMT2', 'BILL_AMT3',\n",
        "          'BILL_AMT4', 'BILL_AMT5', 'BILL_AMT6', 'PAY_AMT1', 'PAY_AMT2',\n",
        "          'PAY_AMT3', 'PAY_AMT4', 'PAY_AMT5', 'PAY_AMT6']\n",
        "    features = []\n",
        "    features.extend(numeric_features)\n",
        "    features.extend(categorical_features)\n",
        "    for col in categorical_features:\n",
        "      dataset[col] = dataset[col].astype('category')\n",
        "\n",
        "    df_train = pd.read_csv(artifact_path + \"/train.csv\")\n",
        "    df_val = pd.read_csv(artifact_path + \"/val.csv\")\n",
        "    df_test = pd.read_csv(artifact_path + \"/test.csv\")\n",
        "\n",
        "    X_train = df_train.drop([target_name], axis=1)\n",
        "    Y_train = df_train[target_name]\n",
        "    X_test = df_test.drop([target_name], axis=1)\n",
        "    Y_test = df_test[target_name]\n",
        "    X_val = df_val.drop([target_name], axis=1)\n",
        "    Y_val = df_val[target_name]\n",
        "    base_rate = Y_train.mean()\n",
        "\n",
        "    config['base_score'] = base_rate\n",
        "\n",
        "    early_stopping_rounds = 40\n",
        "\n",
        "    pipeline = create_preprocessing_pipeline(numeric_features, categorical_features)\n",
        "    pipeline.fit(X_train)\n",
        "\n",
        "    X_train = pipeline.transform(X_train)\n",
        "    X_val = pipeline.transform(X_val)\n",
        "    X_test = pipeline.transform(X_test)\n",
        "\n",
        "    X_train = pd.DataFrame(X_train, columns = features)\n",
        "    X_val = pd.DataFrame(X_val, columns = features)\n",
        "    X_test = pd.DataFrame(X_test, columns = features)\n",
        "\n",
        "    xgbmodel = xgb.XGBClassifier(**wandb.config, use_label_encoder=False)\n",
        "    xgbmodel.fit(X_train, Y_train, eval_set = [(X_val, Y_val)],\n",
        "                callbacks = [WandbCallback(log_model = True)]\n",
        "                )"
      ],
      "metadata": {
        "id": "u-e108I0-ii1"
      },
      "execution_count": 30,
      "outputs": []
    },
    {
      "cell_type": "markdown",
      "source": [
        "## Initialize Sweep"
      ],
      "metadata": {
        "id": "yRmg4FYVA9Ps"
      }
    },
    {
      "cell_type": "code",
      "source": [
        "sweep_id = wandb.sweep(sweep_config, project=project_name)"
      ],
      "metadata": {
        "colab": {
          "base_uri": "https://localhost:8080/"
        },
        "id": "p-gbc4JtA8Am",
        "outputId": "b09421f6-06d3-4e29-a35a-4389856f536a"
      },
      "execution_count": 31,
      "outputs": [
        {
          "output_type": "stream",
          "name": "stdout",
          "text": [
            "Create sweep with ID: bsuh7a0v\n",
            "Sweep URL: https://wandb.ai/tim-w/xgboost-example/sweeps/bsuh7a0v\n"
          ]
        }
      ]
    },
    {
      "cell_type": "markdown",
      "source": [
        "## Run the Sweep Agent"
      ],
      "metadata": {
        "id": "2GBHeneIBARN"
      }
    },
    {
      "cell_type": "code",
      "source": [
        "wandb_agent = wandb.agent(sweep_id, function=sweep_train)"
      ],
      "metadata": {
        "colab": {
          "base_uri": "https://localhost:8080/",
          "height": 1000
        },
        "id": "WaCbqa-sBBTN",
        "outputId": "784312d8-dc81-4a4e-f6f9-0498387c2f17"
      },
      "execution_count": 32,
      "outputs": [
        {
          "output_type": "stream",
          "name": "stderr",
          "text": [
            "\u001b[34m\u001b[1mwandb\u001b[0m: Agent Starting Run: iffl5gul with config:\n",
            "\u001b[34m\u001b[1mwandb\u001b[0m: \tcolsample_bytree: 0.6\n",
            "\u001b[34m\u001b[1mwandb\u001b[0m: \tfeature_list: fls1\n",
            "\u001b[34m\u001b[1mwandb\u001b[0m: \tmax_depth: 2\n"
          ]
        },
        {
          "output_type": "display_data",
          "data": {
            "text/plain": [
              "<IPython.core.display.HTML object>"
            ],
            "text/html": [
              "Tracking run with wandb version 0.15.6"
            ]
          },
          "metadata": {}
        },
        {
          "output_type": "display_data",
          "data": {
            "text/plain": [
              "<IPython.core.display.HTML object>"
            ],
            "text/html": [
              "Run data is saved locally in <code>/content/wandb/run-20230725_133040-iffl5gul</code>"
            ]
          },
          "metadata": {}
        },
        {
          "output_type": "display_data",
          "data": {
            "text/plain": [
              "<IPython.core.display.HTML object>"
            ],
            "text/html": [
              "Syncing run <strong><a href='https://wandb.ai/tim-w/xgboost-example/runs/iffl5gul' target=\"_blank\">wise-sweep-1</a></strong> to <a href='https://wandb.ai/tim-w/xgboost-example' target=\"_blank\">Weights & Biases</a> (<a href='https://wandb.me/run' target=\"_blank\">docs</a>)<br/>Sweep page: <a href='https://wandb.ai/tim-w/xgboost-example/sweeps/bsuh7a0v' target=\"_blank\">https://wandb.ai/tim-w/xgboost-example/sweeps/bsuh7a0v</a>"
            ]
          },
          "metadata": {}
        },
        {
          "output_type": "display_data",
          "data": {
            "text/plain": [
              "<IPython.core.display.HTML object>"
            ],
            "text/html": [
              " View project at <a href='https://wandb.ai/tim-w/xgboost-example' target=\"_blank\">https://wandb.ai/tim-w/xgboost-example</a>"
            ]
          },
          "metadata": {}
        },
        {
          "output_type": "display_data",
          "data": {
            "text/plain": [
              "<IPython.core.display.HTML object>"
            ],
            "text/html": [
              " View sweep at <a href='https://wandb.ai/tim-w/xgboost-example/sweeps/bsuh7a0v' target=\"_blank\">https://wandb.ai/tim-w/xgboost-example/sweeps/bsuh7a0v</a>"
            ]
          },
          "metadata": {}
        },
        {
          "output_type": "display_data",
          "data": {
            "text/plain": [
              "<IPython.core.display.HTML object>"
            ],
            "text/html": [
              " View run at <a href='https://wandb.ai/tim-w/xgboost-example/runs/iffl5gul' target=\"_blank\">https://wandb.ai/tim-w/xgboost-example/runs/iffl5gul</a>"
            ]
          },
          "metadata": {}
        },
        {
          "output_type": "stream",
          "name": "stderr",
          "text": [
            "\u001b[34m\u001b[1mwandb\u001b[0m: \\ 1 of 3 files downloaded...\r\u001b[34m\u001b[1mwandb\u001b[0m:   3 of 3 files downloaded.  \n",
            "`use_label_encoder` is deprecated in 1.7.0.\n",
            "`callbacks` in `fit` method is deprecated for better compatibility with scikit-learn, use `callbacks` in constructor or`set_params` instead.\n"
          ]
        },
        {
          "output_type": "stream",
          "name": "stdout",
          "text": [
            "Warning: No categorical columns found. Calling 'transform' will only return input data.\n",
            "[0]\tvalidation_0-auc:0.70763\tvalidation_0-logloss:0.52637\n",
            "[1]\tvalidation_0-auc:0.73998\tvalidation_0-logloss:0.52505\n",
            "[2]\tvalidation_0-auc:0.74337\tvalidation_0-logloss:0.52321\n",
            "[3]\tvalidation_0-auc:0.74378\tvalidation_0-logloss:0.52142\n",
            "[4]\tvalidation_0-auc:0.75397\tvalidation_0-logloss:0.52019\n",
            "[5]\tvalidation_0-auc:0.75619\tvalidation_0-logloss:0.51849\n",
            "[6]\tvalidation_0-auc:0.76020\tvalidation_0-logloss:0.51687\n",
            "[7]\tvalidation_0-auc:0.76611\tvalidation_0-logloss:0.51591\n",
            "[8]\tvalidation_0-auc:0.76510\tvalidation_0-logloss:0.51480\n",
            "[9]\tvalidation_0-auc:0.76558\tvalidation_0-logloss:0.51323\n",
            "[10]\tvalidation_0-auc:0.76615\tvalidation_0-logloss:0.51218\n",
            "[11]\tvalidation_0-auc:0.76492\tvalidation_0-logloss:0.51114\n",
            "[12]\tvalidation_0-auc:0.76579\tvalidation_0-logloss:0.50967\n",
            "[13]\tvalidation_0-auc:0.76483\tvalidation_0-logloss:0.50868\n",
            "[14]\tvalidation_0-auc:0.76511\tvalidation_0-logloss:0.50728\n",
            "[15]\tvalidation_0-auc:0.76651\tvalidation_0-logloss:0.50592\n",
            "[16]\tvalidation_0-auc:0.76715\tvalidation_0-logloss:0.50516\n",
            "[17]\tvalidation_0-auc:0.76635\tvalidation_0-logloss:0.50426\n",
            "[18]\tvalidation_0-auc:0.77082\tvalidation_0-logloss:0.50358\n",
            "[19]\tvalidation_0-auc:0.77019\tvalidation_0-logloss:0.50290\n",
            "[20]\tvalidation_0-auc:0.77014\tvalidation_0-logloss:0.50216\n",
            "[21]\tvalidation_0-auc:0.77052\tvalidation_0-logloss:0.50089\n",
            "[22]\tvalidation_0-auc:0.77078\tvalidation_0-logloss:0.49966\n",
            "[23]\tvalidation_0-auc:0.77085\tvalidation_0-logloss:0.49887\n",
            "[24]\tvalidation_0-auc:0.77124\tvalidation_0-logloss:0.49768\n"
          ]
        },
        {
          "output_type": "display_data",
          "data": {
            "text/plain": [
              "<IPython.core.display.HTML object>"
            ],
            "text/html": [
              "Waiting for W&B process to finish... <strong style=\"color:green\">(success).</strong>"
            ]
          },
          "metadata": {}
        },
        {
          "output_type": "display_data",
          "data": {
            "text/plain": [
              "<IPython.core.display.HTML object>"
            ],
            "text/html": [
              "<style>\n",
              "    table.wandb td:nth-child(1) { padding: 0 10px; text-align: left ; width: auto;} td:nth-child(2) {text-align: left ; width: 100%}\n",
              "    .wandb-row { display: flex; flex-direction: row; flex-wrap: wrap; justify-content: flex-start; width: 100% }\n",
              "    .wandb-col { display: flex; flex-direction: column; flex-basis: 100%; flex: 1; padding: 10px; }\n",
              "    </style>\n",
              "<div class=\"wandb-row\"><div class=\"wandb-col\"><h3>Run history:</h3><br/><table class=\"wandb\"><tr><td>epoch</td><td>▁▁▂▂▂▂▃▃▃▄▄▄▅▅▅▅▆▆▆▇▇▇▇██</td></tr><tr><td>validation_0-auc</td><td>▁▅▅▅▆▆▇▇▇▇▇▇▇▇▇▇█▇███████</td></tr><tr><td>validation_0-logloss</td><td>██▇▇▆▆▆▅▅▅▅▄▄▄▃▃▃▃▂▂▂▂▁▁▁</td></tr></table><br/></div><div class=\"wandb-col\"><h3>Run summary:</h3><br/><table class=\"wandb\"><tr><td>epoch</td><td>24</td></tr></table><br/></div></div>"
            ]
          },
          "metadata": {}
        },
        {
          "output_type": "display_data",
          "data": {
            "text/plain": [
              "<IPython.core.display.HTML object>"
            ],
            "text/html": [
              " View run <strong style=\"color:#cdcd00\">wise-sweep-1</strong> at: <a href='https://wandb.ai/tim-w/xgboost-example/runs/iffl5gul' target=\"_blank\">https://wandb.ai/tim-w/xgboost-example/runs/iffl5gul</a><br/> View job at <a href='https://wandb.ai/tim-w/xgboost-example/jobs/QXJ0aWZhY3RDb2xsZWN0aW9uOjg1NDY2OTE4/version_details/v8' target=\"_blank\">https://wandb.ai/tim-w/xgboost-example/jobs/QXJ0aWZhY3RDb2xsZWN0aW9uOjg1NDY2OTE4/version_details/v8</a><br/>Synced 5 W&B file(s), 1 media file(s), 6 artifact file(s) and 2 other file(s)"
            ]
          },
          "metadata": {}
        },
        {
          "output_type": "display_data",
          "data": {
            "text/plain": [
              "<IPython.core.display.HTML object>"
            ],
            "text/html": [
              "Find logs at: <code>./wandb/run-20230725_133040-iffl5gul/logs</code>"
            ]
          },
          "metadata": {}
        },
        {
          "output_type": "stream",
          "name": "stderr",
          "text": [
            "\u001b[34m\u001b[1mwandb\u001b[0m: Agent Starting Run: rn2v2inn with config:\n",
            "\u001b[34m\u001b[1mwandb\u001b[0m: \tcolsample_bytree: 0.6\n",
            "\u001b[34m\u001b[1mwandb\u001b[0m: \tfeature_list: fls1\n",
            "\u001b[34m\u001b[1mwandb\u001b[0m: \tmax_depth: 4\n"
          ]
        },
        {
          "output_type": "display_data",
          "data": {
            "text/plain": [
              "<IPython.core.display.HTML object>"
            ],
            "text/html": [
              "Tracking run with wandb version 0.15.6"
            ]
          },
          "metadata": {}
        },
        {
          "output_type": "display_data",
          "data": {
            "text/plain": [
              "<IPython.core.display.HTML object>"
            ],
            "text/html": [
              "Run data is saved locally in <code>/content/wandb/run-20230725_133101-rn2v2inn</code>"
            ]
          },
          "metadata": {}
        },
        {
          "output_type": "display_data",
          "data": {
            "text/plain": [
              "<IPython.core.display.HTML object>"
            ],
            "text/html": [
              "Syncing run <strong><a href='https://wandb.ai/tim-w/xgboost-example/runs/rn2v2inn' target=\"_blank\">dutiful-sweep-2</a></strong> to <a href='https://wandb.ai/tim-w/xgboost-example' target=\"_blank\">Weights & Biases</a> (<a href='https://wandb.me/run' target=\"_blank\">docs</a>)<br/>Sweep page: <a href='https://wandb.ai/tim-w/xgboost-example/sweeps/bsuh7a0v' target=\"_blank\">https://wandb.ai/tim-w/xgboost-example/sweeps/bsuh7a0v</a>"
            ]
          },
          "metadata": {}
        },
        {
          "output_type": "display_data",
          "data": {
            "text/plain": [
              "<IPython.core.display.HTML object>"
            ],
            "text/html": [
              " View project at <a href='https://wandb.ai/tim-w/xgboost-example' target=\"_blank\">https://wandb.ai/tim-w/xgboost-example</a>"
            ]
          },
          "metadata": {}
        },
        {
          "output_type": "display_data",
          "data": {
            "text/plain": [
              "<IPython.core.display.HTML object>"
            ],
            "text/html": [
              " View sweep at <a href='https://wandb.ai/tim-w/xgboost-example/sweeps/bsuh7a0v' target=\"_blank\">https://wandb.ai/tim-w/xgboost-example/sweeps/bsuh7a0v</a>"
            ]
          },
          "metadata": {}
        },
        {
          "output_type": "display_data",
          "data": {
            "text/plain": [
              "<IPython.core.display.HTML object>"
            ],
            "text/html": [
              " View run at <a href='https://wandb.ai/tim-w/xgboost-example/runs/rn2v2inn' target=\"_blank\">https://wandb.ai/tim-w/xgboost-example/runs/rn2v2inn</a>"
            ]
          },
          "metadata": {}
        },
        {
          "output_type": "stream",
          "name": "stderr",
          "text": [
            "\u001b[34m\u001b[1mwandb\u001b[0m: \\ 1 of 3 files downloaded...\r\u001b[34m\u001b[1mwandb\u001b[0m:   3 of 3 files downloaded.  \n",
            "`use_label_encoder` is deprecated in 1.7.0.\n",
            "`callbacks` in `fit` method is deprecated for better compatibility with scikit-learn, use `callbacks` in constructor or`set_params` instead.\n"
          ]
        },
        {
          "output_type": "stream",
          "name": "stdout",
          "text": [
            "Warning: No categorical columns found. Calling 'transform' will only return input data.\n",
            "[0]\tvalidation_0-auc:0.75779\tvalidation_0-logloss:0.52623\n",
            "[1]\tvalidation_0-auc:0.76762\tvalidation_0-logloss:0.52479\n",
            "[2]\tvalidation_0-auc:0.77413\tvalidation_0-logloss:0.52279\n",
            "[3]\tvalidation_0-auc:0.77476\tvalidation_0-logloss:0.52086\n",
            "[4]\tvalidation_0-auc:0.77664\tvalidation_0-logloss:0.51952\n",
            "[5]\tvalidation_0-auc:0.77654\tvalidation_0-logloss:0.51768\n",
            "[6]\tvalidation_0-auc:0.77670\tvalidation_0-logloss:0.51593\n",
            "[7]\tvalidation_0-auc:0.77828\tvalidation_0-logloss:0.51479\n",
            "[8]\tvalidation_0-auc:0.77768\tvalidation_0-logloss:0.51359\n",
            "[9]\tvalidation_0-auc:0.77793\tvalidation_0-logloss:0.51191\n",
            "[10]\tvalidation_0-auc:0.77842\tvalidation_0-logloss:0.51075\n",
            "[11]\tvalidation_0-auc:0.77838\tvalidation_0-logloss:0.50961\n",
            "[12]\tvalidation_0-auc:0.77896\tvalidation_0-logloss:0.50800\n",
            "[13]\tvalidation_0-auc:0.77837\tvalidation_0-logloss:0.50690\n",
            "[14]\tvalidation_0-auc:0.77850\tvalidation_0-logloss:0.50538\n",
            "[15]\tvalidation_0-auc:0.77916\tvalidation_0-logloss:0.50390\n",
            "[16]\tvalidation_0-auc:0.77982\tvalidation_0-logloss:0.50304\n",
            "[17]\tvalidation_0-auc:0.77906\tvalidation_0-logloss:0.50206\n",
            "[18]\tvalidation_0-auc:0.78010\tvalidation_0-logloss:0.50133\n",
            "[19]\tvalidation_0-auc:0.78026\tvalidation_0-logloss:0.50050\n",
            "[20]\tvalidation_0-auc:0.78005\tvalidation_0-logloss:0.49964\n",
            "[21]\tvalidation_0-auc:0.78027\tvalidation_0-logloss:0.49827\n",
            "[22]\tvalidation_0-auc:0.78067\tvalidation_0-logloss:0.49693\n",
            "[23]\tvalidation_0-auc:0.77995\tvalidation_0-logloss:0.49607\n",
            "[24]\tvalidation_0-auc:0.78021\tvalidation_0-logloss:0.49479\n"
          ]
        },
        {
          "output_type": "display_data",
          "data": {
            "text/plain": [
              "<IPython.core.display.HTML object>"
            ],
            "text/html": [
              "Waiting for W&B process to finish... <strong style=\"color:green\">(success).</strong>"
            ]
          },
          "metadata": {}
        },
        {
          "output_type": "display_data",
          "data": {
            "text/plain": [
              "<IPython.core.display.HTML object>"
            ],
            "text/html": [
              "<style>\n",
              "    table.wandb td:nth-child(1) { padding: 0 10px; text-align: left ; width: auto;} td:nth-child(2) {text-align: left ; width: 100%}\n",
              "    .wandb-row { display: flex; flex-direction: row; flex-wrap: wrap; justify-content: flex-start; width: 100% }\n",
              "    .wandb-col { display: flex; flex-direction: column; flex-basis: 100%; flex: 1; padding: 10px; }\n",
              "    </style>\n",
              "<div class=\"wandb-row\"><div class=\"wandb-col\"><h3>Run history:</h3><br/><table class=\"wandb\"><tr><td>epoch</td><td>▁▁▂▂▂▂▃▃▃▄▄▄▅▅▅▅▆▆▆▇▇▇▇██</td></tr><tr><td>validation_0-auc</td><td>▁▄▆▆▇▇▇▇▇▇▇▇▇▇▇██████████</td></tr><tr><td>validation_0-logloss</td><td>██▇▇▇▆▆▅▅▅▅▄▄▄▃▃▃▃▂▂▂▂▁▁▁</td></tr></table><br/></div><div class=\"wandb-col\"><h3>Run summary:</h3><br/><table class=\"wandb\"><tr><td>epoch</td><td>24</td></tr></table><br/></div></div>"
            ]
          },
          "metadata": {}
        },
        {
          "output_type": "display_data",
          "data": {
            "text/plain": [
              "<IPython.core.display.HTML object>"
            ],
            "text/html": [
              " View run <strong style=\"color:#cdcd00\">dutiful-sweep-2</strong> at: <a href='https://wandb.ai/tim-w/xgboost-example/runs/rn2v2inn' target=\"_blank\">https://wandb.ai/tim-w/xgboost-example/runs/rn2v2inn</a><br/> View job at <a href='https://wandb.ai/tim-w/xgboost-example/jobs/QXJ0aWZhY3RDb2xsZWN0aW9uOjg1NDY2OTE4/version_details/v9' target=\"_blank\">https://wandb.ai/tim-w/xgboost-example/jobs/QXJ0aWZhY3RDb2xsZWN0aW9uOjg1NDY2OTE4/version_details/v9</a><br/>Synced 5 W&B file(s), 1 media file(s), 6 artifact file(s) and 2 other file(s)"
            ]
          },
          "metadata": {}
        },
        {
          "output_type": "display_data",
          "data": {
            "text/plain": [
              "<IPython.core.display.HTML object>"
            ],
            "text/html": [
              "Find logs at: <code>./wandb/run-20230725_133101-rn2v2inn/logs</code>"
            ]
          },
          "metadata": {}
        },
        {
          "output_type": "stream",
          "name": "stderr",
          "text": [
            "\u001b[34m\u001b[1mwandb\u001b[0m: Agent Starting Run: m4irfme2 with config:\n",
            "\u001b[34m\u001b[1mwandb\u001b[0m: \tcolsample_bytree: 0.6\n",
            "\u001b[34m\u001b[1mwandb\u001b[0m: \tfeature_list: fls1\n",
            "\u001b[34m\u001b[1mwandb\u001b[0m: \tmax_depth: 16\n"
          ]
        },
        {
          "output_type": "display_data",
          "data": {
            "text/plain": [
              "<IPython.core.display.HTML object>"
            ],
            "text/html": [
              "Tracking run with wandb version 0.15.6"
            ]
          },
          "metadata": {}
        },
        {
          "output_type": "display_data",
          "data": {
            "text/plain": [
              "<IPython.core.display.HTML object>"
            ],
            "text/html": [
              "Run data is saved locally in <code>/content/wandb/run-20230725_133120-m4irfme2</code>"
            ]
          },
          "metadata": {}
        },
        {
          "output_type": "display_data",
          "data": {
            "text/plain": [
              "<IPython.core.display.HTML object>"
            ],
            "text/html": [
              "Syncing run <strong><a href='https://wandb.ai/tim-w/xgboost-example/runs/m4irfme2' target=\"_blank\">earthy-sweep-3</a></strong> to <a href='https://wandb.ai/tim-w/xgboost-example' target=\"_blank\">Weights & Biases</a> (<a href='https://wandb.me/run' target=\"_blank\">docs</a>)<br/>Sweep page: <a href='https://wandb.ai/tim-w/xgboost-example/sweeps/bsuh7a0v' target=\"_blank\">https://wandb.ai/tim-w/xgboost-example/sweeps/bsuh7a0v</a>"
            ]
          },
          "metadata": {}
        },
        {
          "output_type": "display_data",
          "data": {
            "text/plain": [
              "<IPython.core.display.HTML object>"
            ],
            "text/html": [
              " View project at <a href='https://wandb.ai/tim-w/xgboost-example' target=\"_blank\">https://wandb.ai/tim-w/xgboost-example</a>"
            ]
          },
          "metadata": {}
        },
        {
          "output_type": "display_data",
          "data": {
            "text/plain": [
              "<IPython.core.display.HTML object>"
            ],
            "text/html": [
              " View sweep at <a href='https://wandb.ai/tim-w/xgboost-example/sweeps/bsuh7a0v' target=\"_blank\">https://wandb.ai/tim-w/xgboost-example/sweeps/bsuh7a0v</a>"
            ]
          },
          "metadata": {}
        },
        {
          "output_type": "display_data",
          "data": {
            "text/plain": [
              "<IPython.core.display.HTML object>"
            ],
            "text/html": [
              " View run at <a href='https://wandb.ai/tim-w/xgboost-example/runs/m4irfme2' target=\"_blank\">https://wandb.ai/tim-w/xgboost-example/runs/m4irfme2</a>"
            ]
          },
          "metadata": {}
        },
        {
          "output_type": "stream",
          "name": "stderr",
          "text": [
            "\u001b[34m\u001b[1mwandb\u001b[0m: \\ 1 of 3 files downloaded...\r\u001b[34m\u001b[1mwandb\u001b[0m:   3 of 3 files downloaded.  \n",
            "`use_label_encoder` is deprecated in 1.7.0.\n",
            "`callbacks` in `fit` method is deprecated for better compatibility with scikit-learn, use `callbacks` in constructor or`set_params` instead.\n"
          ]
        },
        {
          "output_type": "stream",
          "name": "stdout",
          "text": [
            "Warning: No categorical columns found. Calling 'transform' will only return input data.\n",
            "[0]\tvalidation_0-auc:0.76565\tvalidation_0-logloss:0.52617\n",
            "[1]\tvalidation_0-auc:0.76982\tvalidation_0-logloss:0.52470\n",
            "[2]\tvalidation_0-auc:0.77741\tvalidation_0-logloss:0.52266\n",
            "[3]\tvalidation_0-auc:0.78024\tvalidation_0-logloss:0.52067\n",
            "[4]\tvalidation_0-auc:0.78033\tvalidation_0-logloss:0.51930\n",
            "[5]\tvalidation_0-auc:0.78005\tvalidation_0-logloss:0.51741\n",
            "[6]\tvalidation_0-auc:0.78095\tvalidation_0-logloss:0.51559\n",
            "[7]\tvalidation_0-auc:0.78172\tvalidation_0-logloss:0.51440\n",
            "[8]\tvalidation_0-auc:0.78198\tvalidation_0-logloss:0.51314\n",
            "[9]\tvalidation_0-auc:0.78226\tvalidation_0-logloss:0.51140\n",
            "[10]\tvalidation_0-auc:0.78238\tvalidation_0-logloss:0.51021\n",
            "[11]\tvalidation_0-auc:0.78197\tvalidation_0-logloss:0.50901\n",
            "[12]\tvalidation_0-auc:0.78244\tvalidation_0-logloss:0.50737\n",
            "[13]\tvalidation_0-auc:0.78206\tvalidation_0-logloss:0.50623\n",
            "[14]\tvalidation_0-auc:0.78249\tvalidation_0-logloss:0.50467\n",
            "[15]\tvalidation_0-auc:0.78293\tvalidation_0-logloss:0.50314\n",
            "[16]\tvalidation_0-auc:0.78362\tvalidation_0-logloss:0.50220\n",
            "[17]\tvalidation_0-auc:0.78334\tvalidation_0-logloss:0.50118\n",
            "[18]\tvalidation_0-auc:0.78450\tvalidation_0-logloss:0.50039\n",
            "[19]\tvalidation_0-auc:0.78513\tvalidation_0-logloss:0.49950\n",
            "[20]\tvalidation_0-auc:0.78492\tvalidation_0-logloss:0.49860\n",
            "[21]\tvalidation_0-auc:0.78516\tvalidation_0-logloss:0.49717\n",
            "[22]\tvalidation_0-auc:0.78553\tvalidation_0-logloss:0.49582\n",
            "[23]\tvalidation_0-auc:0.78507\tvalidation_0-logloss:0.49489\n",
            "[24]\tvalidation_0-auc:0.78559\tvalidation_0-logloss:0.49356\n"
          ]
        },
        {
          "output_type": "display_data",
          "data": {
            "text/plain": [
              "<IPython.core.display.HTML object>"
            ],
            "text/html": [
              "Waiting for W&B process to finish... <strong style=\"color:green\">(success).</strong>"
            ]
          },
          "metadata": {}
        },
        {
          "output_type": "display_data",
          "data": {
            "text/plain": [
              "<IPython.core.display.HTML object>"
            ],
            "text/html": [
              "<style>\n",
              "    table.wandb td:nth-child(1) { padding: 0 10px; text-align: left ; width: auto;} td:nth-child(2) {text-align: left ; width: 100%}\n",
              "    .wandb-row { display: flex; flex-direction: row; flex-wrap: wrap; justify-content: flex-start; width: 100% }\n",
              "    .wandb-col { display: flex; flex-direction: column; flex-basis: 100%; flex: 1; padding: 10px; }\n",
              "    </style>\n",
              "<div class=\"wandb-row\"><div class=\"wandb-col\"><h3>Run history:</h3><br/><table class=\"wandb\"><tr><td>epoch</td><td>▁▁▂▂▂▂▃▃▃▄▄▄▅▅▅▅▆▆▆▇▇▇▇██</td></tr><tr><td>validation_0-auc</td><td>▁▂▅▆▆▆▆▇▇▇▇▇▇▇▇▇▇▇███████</td></tr><tr><td>validation_0-logloss</td><td>██▇▇▇▆▆▅▅▅▅▄▄▄▃▃▃▃▂▂▂▂▁▁▁</td></tr></table><br/></div><div class=\"wandb-col\"><h3>Run summary:</h3><br/><table class=\"wandb\"><tr><td>epoch</td><td>24</td></tr></table><br/></div></div>"
            ]
          },
          "metadata": {}
        },
        {
          "output_type": "display_data",
          "data": {
            "text/plain": [
              "<IPython.core.display.HTML object>"
            ],
            "text/html": [
              " View run <strong style=\"color:#cdcd00\">earthy-sweep-3</strong> at: <a href='https://wandb.ai/tim-w/xgboost-example/runs/m4irfme2' target=\"_blank\">https://wandb.ai/tim-w/xgboost-example/runs/m4irfme2</a><br/> View job at <a href='https://wandb.ai/tim-w/xgboost-example/jobs/QXJ0aWZhY3RDb2xsZWN0aW9uOjg1NDY2OTE4/version_details/v10' target=\"_blank\">https://wandb.ai/tim-w/xgboost-example/jobs/QXJ0aWZhY3RDb2xsZWN0aW9uOjg1NDY2OTE4/version_details/v10</a><br/>Synced 5 W&B file(s), 1 media file(s), 6 artifact file(s) and 2 other file(s)"
            ]
          },
          "metadata": {}
        },
        {
          "output_type": "display_data",
          "data": {
            "text/plain": [
              "<IPython.core.display.HTML object>"
            ],
            "text/html": [
              "Find logs at: <code>./wandb/run-20230725_133120-m4irfme2/logs</code>"
            ]
          },
          "metadata": {}
        },
        {
          "output_type": "stream",
          "name": "stderr",
          "text": [
            "\u001b[34m\u001b[1mwandb\u001b[0m: Agent Starting Run: obpr5lcn with config:\n",
            "\u001b[34m\u001b[1mwandb\u001b[0m: \tcolsample_bytree: 0.6\n",
            "\u001b[34m\u001b[1mwandb\u001b[0m: \tfeature_list: fls2\n",
            "\u001b[34m\u001b[1mwandb\u001b[0m: \tmax_depth: 2\n"
          ]
        },
        {
          "output_type": "display_data",
          "data": {
            "text/plain": [
              "<IPython.core.display.HTML object>"
            ],
            "text/html": [
              "Tracking run with wandb version 0.15.6"
            ]
          },
          "metadata": {}
        },
        {
          "output_type": "display_data",
          "data": {
            "text/plain": [
              "<IPython.core.display.HTML object>"
            ],
            "text/html": [
              "Run data is saved locally in <code>/content/wandb/run-20230725_133141-obpr5lcn</code>"
            ]
          },
          "metadata": {}
        },
        {
          "output_type": "display_data",
          "data": {
            "text/plain": [
              "<IPython.core.display.HTML object>"
            ],
            "text/html": [
              "Syncing run <strong><a href='https://wandb.ai/tim-w/xgboost-example/runs/obpr5lcn' target=\"_blank\">lucky-sweep-4</a></strong> to <a href='https://wandb.ai/tim-w/xgboost-example' target=\"_blank\">Weights & Biases</a> (<a href='https://wandb.me/run' target=\"_blank\">docs</a>)<br/>Sweep page: <a href='https://wandb.ai/tim-w/xgboost-example/sweeps/bsuh7a0v' target=\"_blank\">https://wandb.ai/tim-w/xgboost-example/sweeps/bsuh7a0v</a>"
            ]
          },
          "metadata": {}
        },
        {
          "output_type": "display_data",
          "data": {
            "text/plain": [
              "<IPython.core.display.HTML object>"
            ],
            "text/html": [
              " View project at <a href='https://wandb.ai/tim-w/xgboost-example' target=\"_blank\">https://wandb.ai/tim-w/xgboost-example</a>"
            ]
          },
          "metadata": {}
        },
        {
          "output_type": "display_data",
          "data": {
            "text/plain": [
              "<IPython.core.display.HTML object>"
            ],
            "text/html": [
              " View sweep at <a href='https://wandb.ai/tim-w/xgboost-example/sweeps/bsuh7a0v' target=\"_blank\">https://wandb.ai/tim-w/xgboost-example/sweeps/bsuh7a0v</a>"
            ]
          },
          "metadata": {}
        },
        {
          "output_type": "display_data",
          "data": {
            "text/plain": [
              "<IPython.core.display.HTML object>"
            ],
            "text/html": [
              " View run at <a href='https://wandb.ai/tim-w/xgboost-example/runs/obpr5lcn' target=\"_blank\">https://wandb.ai/tim-w/xgboost-example/runs/obpr5lcn</a>"
            ]
          },
          "metadata": {}
        },
        {
          "output_type": "stream",
          "name": "stderr",
          "text": [
            "\u001b[34m\u001b[1mwandb\u001b[0m: \\ 1 of 3 files downloaded...\r\u001b[34m\u001b[1mwandb\u001b[0m:   3 of 3 files downloaded.  \n",
            "`use_label_encoder` is deprecated in 1.7.0.\n",
            "`callbacks` in `fit` method is deprecated for better compatibility with scikit-learn, use `callbacks` in constructor or`set_params` instead.\n"
          ]
        },
        {
          "output_type": "stream",
          "name": "stdout",
          "text": [
            "Warning: No categorical columns found. Calling 'transform' will only return input data.\n",
            "[0]\tvalidation_0-auc:0.70763\tvalidation_0-logloss:0.52637\n",
            "[1]\tvalidation_0-auc:0.73998\tvalidation_0-logloss:0.52505\n",
            "[2]\tvalidation_0-auc:0.74337\tvalidation_0-logloss:0.52321\n",
            "[3]\tvalidation_0-auc:0.74378\tvalidation_0-logloss:0.52142\n",
            "[4]\tvalidation_0-auc:0.75397\tvalidation_0-logloss:0.52019\n",
            "[5]\tvalidation_0-auc:0.75619\tvalidation_0-logloss:0.51849\n",
            "[6]\tvalidation_0-auc:0.76020\tvalidation_0-logloss:0.51687\n",
            "[7]\tvalidation_0-auc:0.76611\tvalidation_0-logloss:0.51591\n",
            "[8]\tvalidation_0-auc:0.76510\tvalidation_0-logloss:0.51480\n",
            "[9]\tvalidation_0-auc:0.76558\tvalidation_0-logloss:0.51323\n",
            "[10]\tvalidation_0-auc:0.76615\tvalidation_0-logloss:0.51218\n",
            "[11]\tvalidation_0-auc:0.76492\tvalidation_0-logloss:0.51114\n",
            "[12]\tvalidation_0-auc:0.76579\tvalidation_0-logloss:0.50967\n",
            "[13]\tvalidation_0-auc:0.76483\tvalidation_0-logloss:0.50868\n",
            "[14]\tvalidation_0-auc:0.76511\tvalidation_0-logloss:0.50728\n",
            "[15]\tvalidation_0-auc:0.76651\tvalidation_0-logloss:0.50592\n",
            "[16]\tvalidation_0-auc:0.76715\tvalidation_0-logloss:0.50516\n",
            "[17]\tvalidation_0-auc:0.76635\tvalidation_0-logloss:0.50426\n",
            "[18]\tvalidation_0-auc:0.77082\tvalidation_0-logloss:0.50358\n",
            "[19]\tvalidation_0-auc:0.77019\tvalidation_0-logloss:0.50290\n",
            "[20]\tvalidation_0-auc:0.77014\tvalidation_0-logloss:0.50216\n",
            "[21]\tvalidation_0-auc:0.77052\tvalidation_0-logloss:0.50089\n",
            "[22]\tvalidation_0-auc:0.77078\tvalidation_0-logloss:0.49966\n",
            "[23]\tvalidation_0-auc:0.77085\tvalidation_0-logloss:0.49887\n",
            "[24]\tvalidation_0-auc:0.77124\tvalidation_0-logloss:0.49768\n"
          ]
        },
        {
          "output_type": "display_data",
          "data": {
            "text/plain": [
              "<IPython.core.display.HTML object>"
            ],
            "text/html": [
              "Waiting for W&B process to finish... <strong style=\"color:green\">(success).</strong>"
            ]
          },
          "metadata": {}
        },
        {
          "output_type": "display_data",
          "data": {
            "text/plain": [
              "<IPython.core.display.HTML object>"
            ],
            "text/html": [
              "<style>\n",
              "    table.wandb td:nth-child(1) { padding: 0 10px; text-align: left ; width: auto;} td:nth-child(2) {text-align: left ; width: 100%}\n",
              "    .wandb-row { display: flex; flex-direction: row; flex-wrap: wrap; justify-content: flex-start; width: 100% }\n",
              "    .wandb-col { display: flex; flex-direction: column; flex-basis: 100%; flex: 1; padding: 10px; }\n",
              "    </style>\n",
              "<div class=\"wandb-row\"><div class=\"wandb-col\"><h3>Run history:</h3><br/><table class=\"wandb\"><tr><td>epoch</td><td>▁▁▂▂▂▂▃▃▃▄▄▄▅▅▅▅▆▆▆▇▇▇▇██</td></tr><tr><td>validation_0-auc</td><td>▁▅▅▅▆▆▇▇▇▇▇▇▇▇▇▇█▇███████</td></tr><tr><td>validation_0-logloss</td><td>██▇▇▆▆▆▅▅▅▅▄▄▄▃▃▃▃▂▂▂▂▁▁▁</td></tr></table><br/></div><div class=\"wandb-col\"><h3>Run summary:</h3><br/><table class=\"wandb\"><tr><td>epoch</td><td>24</td></tr></table><br/></div></div>"
            ]
          },
          "metadata": {}
        },
        {
          "output_type": "display_data",
          "data": {
            "text/plain": [
              "<IPython.core.display.HTML object>"
            ],
            "text/html": [
              " View run <strong style=\"color:#cdcd00\">lucky-sweep-4</strong> at: <a href='https://wandb.ai/tim-w/xgboost-example/runs/obpr5lcn' target=\"_blank\">https://wandb.ai/tim-w/xgboost-example/runs/obpr5lcn</a><br/> View job at <a href='https://wandb.ai/tim-w/xgboost-example/jobs/QXJ0aWZhY3RDb2xsZWN0aW9uOjg1NDY2OTE4/version_details/v11' target=\"_blank\">https://wandb.ai/tim-w/xgboost-example/jobs/QXJ0aWZhY3RDb2xsZWN0aW9uOjg1NDY2OTE4/version_details/v11</a><br/>Synced 5 W&B file(s), 1 media file(s), 6 artifact file(s) and 2 other file(s)"
            ]
          },
          "metadata": {}
        },
        {
          "output_type": "display_data",
          "data": {
            "text/plain": [
              "<IPython.core.display.HTML object>"
            ],
            "text/html": [
              "Find logs at: <code>./wandb/run-20230725_133141-obpr5lcn/logs</code>"
            ]
          },
          "metadata": {}
        },
        {
          "output_type": "stream",
          "name": "stderr",
          "text": [
            "\u001b[34m\u001b[1mwandb\u001b[0m: Agent Starting Run: qaqhvi0k with config:\n",
            "\u001b[34m\u001b[1mwandb\u001b[0m: \tcolsample_bytree: 0.6\n",
            "\u001b[34m\u001b[1mwandb\u001b[0m: \tfeature_list: fls2\n",
            "\u001b[34m\u001b[1mwandb\u001b[0m: \tmax_depth: 4\n"
          ]
        },
        {
          "output_type": "display_data",
          "data": {
            "text/plain": [
              "<IPython.core.display.HTML object>"
            ],
            "text/html": [
              "Tracking run with wandb version 0.15.6"
            ]
          },
          "metadata": {}
        },
        {
          "output_type": "display_data",
          "data": {
            "text/plain": [
              "<IPython.core.display.HTML object>"
            ],
            "text/html": [
              "Run data is saved locally in <code>/content/wandb/run-20230725_133201-qaqhvi0k</code>"
            ]
          },
          "metadata": {}
        },
        {
          "output_type": "display_data",
          "data": {
            "text/plain": [
              "<IPython.core.display.HTML object>"
            ],
            "text/html": [
              "Syncing run <strong><a href='https://wandb.ai/tim-w/xgboost-example/runs/qaqhvi0k' target=\"_blank\">brisk-sweep-5</a></strong> to <a href='https://wandb.ai/tim-w/xgboost-example' target=\"_blank\">Weights & Biases</a> (<a href='https://wandb.me/run' target=\"_blank\">docs</a>)<br/>Sweep page: <a href='https://wandb.ai/tim-w/xgboost-example/sweeps/bsuh7a0v' target=\"_blank\">https://wandb.ai/tim-w/xgboost-example/sweeps/bsuh7a0v</a>"
            ]
          },
          "metadata": {}
        },
        {
          "output_type": "display_data",
          "data": {
            "text/plain": [
              "<IPython.core.display.HTML object>"
            ],
            "text/html": [
              " View project at <a href='https://wandb.ai/tim-w/xgboost-example' target=\"_blank\">https://wandb.ai/tim-w/xgboost-example</a>"
            ]
          },
          "metadata": {}
        },
        {
          "output_type": "display_data",
          "data": {
            "text/plain": [
              "<IPython.core.display.HTML object>"
            ],
            "text/html": [
              " View sweep at <a href='https://wandb.ai/tim-w/xgboost-example/sweeps/bsuh7a0v' target=\"_blank\">https://wandb.ai/tim-w/xgboost-example/sweeps/bsuh7a0v</a>"
            ]
          },
          "metadata": {}
        },
        {
          "output_type": "display_data",
          "data": {
            "text/plain": [
              "<IPython.core.display.HTML object>"
            ],
            "text/html": [
              " View run at <a href='https://wandb.ai/tim-w/xgboost-example/runs/qaqhvi0k' target=\"_blank\">https://wandb.ai/tim-w/xgboost-example/runs/qaqhvi0k</a>"
            ]
          },
          "metadata": {}
        },
        {
          "output_type": "stream",
          "name": "stderr",
          "text": [
            "\u001b[34m\u001b[1mwandb\u001b[0m: \\ 1 of 3 files downloaded...\r\u001b[34m\u001b[1mwandb\u001b[0m:   3 of 3 files downloaded.  \n",
            "`use_label_encoder` is deprecated in 1.7.0.\n",
            "`callbacks` in `fit` method is deprecated for better compatibility with scikit-learn, use `callbacks` in constructor or`set_params` instead.\n"
          ]
        },
        {
          "output_type": "stream",
          "name": "stdout",
          "text": [
            "Warning: No categorical columns found. Calling 'transform' will only return input data.\n",
            "[0]\tvalidation_0-auc:0.75779\tvalidation_0-logloss:0.52623\n",
            "[1]\tvalidation_0-auc:0.76762\tvalidation_0-logloss:0.52479\n",
            "[2]\tvalidation_0-auc:0.77413\tvalidation_0-logloss:0.52279\n",
            "[3]\tvalidation_0-auc:0.77476\tvalidation_0-logloss:0.52086\n",
            "[4]\tvalidation_0-auc:0.77664\tvalidation_0-logloss:0.51952\n",
            "[5]\tvalidation_0-auc:0.77654\tvalidation_0-logloss:0.51768\n",
            "[6]\tvalidation_0-auc:0.77670\tvalidation_0-logloss:0.51593\n",
            "[7]\tvalidation_0-auc:0.77828\tvalidation_0-logloss:0.51479\n",
            "[8]\tvalidation_0-auc:0.77768\tvalidation_0-logloss:0.51359\n",
            "[9]\tvalidation_0-auc:0.77793\tvalidation_0-logloss:0.51191\n",
            "[10]\tvalidation_0-auc:0.77842\tvalidation_0-logloss:0.51075\n",
            "[11]\tvalidation_0-auc:0.77838\tvalidation_0-logloss:0.50961\n",
            "[12]\tvalidation_0-auc:0.77896\tvalidation_0-logloss:0.50800\n",
            "[13]\tvalidation_0-auc:0.77837\tvalidation_0-logloss:0.50690\n",
            "[14]\tvalidation_0-auc:0.77850\tvalidation_0-logloss:0.50538\n",
            "[15]\tvalidation_0-auc:0.77916\tvalidation_0-logloss:0.50390\n",
            "[16]\tvalidation_0-auc:0.77982\tvalidation_0-logloss:0.50304\n",
            "[17]\tvalidation_0-auc:0.77906\tvalidation_0-logloss:0.50206\n",
            "[18]\tvalidation_0-auc:0.78010\tvalidation_0-logloss:0.50133\n",
            "[19]\tvalidation_0-auc:0.78026\tvalidation_0-logloss:0.50050\n",
            "[20]\tvalidation_0-auc:0.78005\tvalidation_0-logloss:0.49964\n",
            "[21]\tvalidation_0-auc:0.78027\tvalidation_0-logloss:0.49827\n",
            "[22]\tvalidation_0-auc:0.78067\tvalidation_0-logloss:0.49693\n",
            "[23]\tvalidation_0-auc:0.77995\tvalidation_0-logloss:0.49607\n",
            "[24]\tvalidation_0-auc:0.78021\tvalidation_0-logloss:0.49479\n"
          ]
        },
        {
          "output_type": "display_data",
          "data": {
            "text/plain": [
              "<IPython.core.display.HTML object>"
            ],
            "text/html": [
              "Waiting for W&B process to finish... <strong style=\"color:green\">(success).</strong>"
            ]
          },
          "metadata": {}
        },
        {
          "output_type": "display_data",
          "data": {
            "text/plain": [
              "<IPython.core.display.HTML object>"
            ],
            "text/html": [
              "<style>\n",
              "    table.wandb td:nth-child(1) { padding: 0 10px; text-align: left ; width: auto;} td:nth-child(2) {text-align: left ; width: 100%}\n",
              "    .wandb-row { display: flex; flex-direction: row; flex-wrap: wrap; justify-content: flex-start; width: 100% }\n",
              "    .wandb-col { display: flex; flex-direction: column; flex-basis: 100%; flex: 1; padding: 10px; }\n",
              "    </style>\n",
              "<div class=\"wandb-row\"><div class=\"wandb-col\"><h3>Run history:</h3><br/><table class=\"wandb\"><tr><td>epoch</td><td>▁▁▂▂▂▂▃▃▃▄▄▄▅▅▅▅▆▆▆▇▇▇▇██</td></tr><tr><td>validation_0-auc</td><td>▁▄▆▆▇▇▇▇▇▇▇▇▇▇▇██████████</td></tr><tr><td>validation_0-logloss</td><td>██▇▇▇▆▆▅▅▅▅▄▄▄▃▃▃▃▂▂▂▂▁▁▁</td></tr></table><br/></div><div class=\"wandb-col\"><h3>Run summary:</h3><br/><table class=\"wandb\"><tr><td>epoch</td><td>24</td></tr></table><br/></div></div>"
            ]
          },
          "metadata": {}
        },
        {
          "output_type": "display_data",
          "data": {
            "text/plain": [
              "<IPython.core.display.HTML object>"
            ],
            "text/html": [
              " View run <strong style=\"color:#cdcd00\">brisk-sweep-5</strong> at: <a href='https://wandb.ai/tim-w/xgboost-example/runs/qaqhvi0k' target=\"_blank\">https://wandb.ai/tim-w/xgboost-example/runs/qaqhvi0k</a><br/> View job at <a href='https://wandb.ai/tim-w/xgboost-example/jobs/QXJ0aWZhY3RDb2xsZWN0aW9uOjg1NDY2OTE4/version_details/v12' target=\"_blank\">https://wandb.ai/tim-w/xgboost-example/jobs/QXJ0aWZhY3RDb2xsZWN0aW9uOjg1NDY2OTE4/version_details/v12</a><br/>Synced 5 W&B file(s), 1 media file(s), 6 artifact file(s) and 2 other file(s)"
            ]
          },
          "metadata": {}
        },
        {
          "output_type": "display_data",
          "data": {
            "text/plain": [
              "<IPython.core.display.HTML object>"
            ],
            "text/html": [
              "Find logs at: <code>./wandb/run-20230725_133201-qaqhvi0k/logs</code>"
            ]
          },
          "metadata": {}
        },
        {
          "output_type": "stream",
          "name": "stderr",
          "text": [
            "\u001b[34m\u001b[1mwandb\u001b[0m: Agent Starting Run: 751ksors with config:\n",
            "\u001b[34m\u001b[1mwandb\u001b[0m: \tcolsample_bytree: 0.6\n",
            "\u001b[34m\u001b[1mwandb\u001b[0m: \tfeature_list: fls2\n",
            "\u001b[34m\u001b[1mwandb\u001b[0m: \tmax_depth: 16\n"
          ]
        },
        {
          "output_type": "display_data",
          "data": {
            "text/plain": [
              "<IPython.core.display.HTML object>"
            ],
            "text/html": [
              "Tracking run with wandb version 0.15.6"
            ]
          },
          "metadata": {}
        },
        {
          "output_type": "display_data",
          "data": {
            "text/plain": [
              "<IPython.core.display.HTML object>"
            ],
            "text/html": [
              "Run data is saved locally in <code>/content/wandb/run-20230725_133223-751ksors</code>"
            ]
          },
          "metadata": {}
        },
        {
          "output_type": "display_data",
          "data": {
            "text/plain": [
              "<IPython.core.display.HTML object>"
            ],
            "text/html": [
              "Syncing run <strong><a href='https://wandb.ai/tim-w/xgboost-example/runs/751ksors' target=\"_blank\">glowing-sweep-6</a></strong> to <a href='https://wandb.ai/tim-w/xgboost-example' target=\"_blank\">Weights & Biases</a> (<a href='https://wandb.me/run' target=\"_blank\">docs</a>)<br/>Sweep page: <a href='https://wandb.ai/tim-w/xgboost-example/sweeps/bsuh7a0v' target=\"_blank\">https://wandb.ai/tim-w/xgboost-example/sweeps/bsuh7a0v</a>"
            ]
          },
          "metadata": {}
        },
        {
          "output_type": "display_data",
          "data": {
            "text/plain": [
              "<IPython.core.display.HTML object>"
            ],
            "text/html": [
              " View project at <a href='https://wandb.ai/tim-w/xgboost-example' target=\"_blank\">https://wandb.ai/tim-w/xgboost-example</a>"
            ]
          },
          "metadata": {}
        },
        {
          "output_type": "display_data",
          "data": {
            "text/plain": [
              "<IPython.core.display.HTML object>"
            ],
            "text/html": [
              " View sweep at <a href='https://wandb.ai/tim-w/xgboost-example/sweeps/bsuh7a0v' target=\"_blank\">https://wandb.ai/tim-w/xgboost-example/sweeps/bsuh7a0v</a>"
            ]
          },
          "metadata": {}
        },
        {
          "output_type": "display_data",
          "data": {
            "text/plain": [
              "<IPython.core.display.HTML object>"
            ],
            "text/html": [
              " View run at <a href='https://wandb.ai/tim-w/xgboost-example/runs/751ksors' target=\"_blank\">https://wandb.ai/tim-w/xgboost-example/runs/751ksors</a>"
            ]
          },
          "metadata": {}
        },
        {
          "output_type": "stream",
          "name": "stderr",
          "text": [
            "\u001b[34m\u001b[1mwandb\u001b[0m: \\ 1 of 3 files downloaded...\r\u001b[34m\u001b[1mwandb\u001b[0m:   3 of 3 files downloaded.  \n",
            "`use_label_encoder` is deprecated in 1.7.0.\n",
            "`callbacks` in `fit` method is deprecated for better compatibility with scikit-learn, use `callbacks` in constructor or`set_params` instead.\n"
          ]
        },
        {
          "output_type": "stream",
          "name": "stdout",
          "text": [
            "Warning: No categorical columns found. Calling 'transform' will only return input data.\n",
            "[0]\tvalidation_0-auc:0.76565\tvalidation_0-logloss:0.52617\n",
            "[1]\tvalidation_0-auc:0.76982\tvalidation_0-logloss:0.52470\n",
            "[2]\tvalidation_0-auc:0.77741\tvalidation_0-logloss:0.52266\n",
            "[3]\tvalidation_0-auc:0.78024\tvalidation_0-logloss:0.52067\n",
            "[4]\tvalidation_0-auc:0.78033\tvalidation_0-logloss:0.51930\n",
            "[5]\tvalidation_0-auc:0.78005\tvalidation_0-logloss:0.51741\n",
            "[6]\tvalidation_0-auc:0.78095\tvalidation_0-logloss:0.51559\n",
            "[7]\tvalidation_0-auc:0.78172\tvalidation_0-logloss:0.51440\n",
            "[8]\tvalidation_0-auc:0.78198\tvalidation_0-logloss:0.51314\n",
            "[9]\tvalidation_0-auc:0.78226\tvalidation_0-logloss:0.51140\n",
            "[10]\tvalidation_0-auc:0.78238\tvalidation_0-logloss:0.51021\n",
            "[11]\tvalidation_0-auc:0.78197\tvalidation_0-logloss:0.50901\n",
            "[12]\tvalidation_0-auc:0.78244\tvalidation_0-logloss:0.50737\n",
            "[13]\tvalidation_0-auc:0.78206\tvalidation_0-logloss:0.50623\n",
            "[14]\tvalidation_0-auc:0.78249\tvalidation_0-logloss:0.50467\n",
            "[15]\tvalidation_0-auc:0.78293\tvalidation_0-logloss:0.50314\n",
            "[16]\tvalidation_0-auc:0.78362\tvalidation_0-logloss:0.50220\n",
            "[17]\tvalidation_0-auc:0.78334\tvalidation_0-logloss:0.50118\n",
            "[18]\tvalidation_0-auc:0.78450\tvalidation_0-logloss:0.50039\n",
            "[19]\tvalidation_0-auc:0.78513\tvalidation_0-logloss:0.49950\n",
            "[20]\tvalidation_0-auc:0.78492\tvalidation_0-logloss:0.49860\n",
            "[21]\tvalidation_0-auc:0.78516\tvalidation_0-logloss:0.49717\n",
            "[22]\tvalidation_0-auc:0.78553\tvalidation_0-logloss:0.49582\n",
            "[23]\tvalidation_0-auc:0.78507\tvalidation_0-logloss:0.49489\n",
            "[24]\tvalidation_0-auc:0.78559\tvalidation_0-logloss:0.49356\n"
          ]
        },
        {
          "output_type": "display_data",
          "data": {
            "text/plain": [
              "<IPython.core.display.HTML object>"
            ],
            "text/html": [
              "Waiting for W&B process to finish... <strong style=\"color:green\">(success).</strong>"
            ]
          },
          "metadata": {}
        },
        {
          "output_type": "display_data",
          "data": {
            "text/plain": [
              "<IPython.core.display.HTML object>"
            ],
            "text/html": [
              "<style>\n",
              "    table.wandb td:nth-child(1) { padding: 0 10px; text-align: left ; width: auto;} td:nth-child(2) {text-align: left ; width: 100%}\n",
              "    .wandb-row { display: flex; flex-direction: row; flex-wrap: wrap; justify-content: flex-start; width: 100% }\n",
              "    .wandb-col { display: flex; flex-direction: column; flex-basis: 100%; flex: 1; padding: 10px; }\n",
              "    </style>\n",
              "<div class=\"wandb-row\"><div class=\"wandb-col\"><h3>Run history:</h3><br/><table class=\"wandb\"><tr><td>epoch</td><td>▁▁▂▂▂▂▃▃▃▄▄▄▅▅▅▅▆▆▆▇▇▇▇██</td></tr><tr><td>validation_0-auc</td><td>▁▂▅▆▆▆▆▇▇▇▇▇▇▇▇▇▇▇███████</td></tr><tr><td>validation_0-logloss</td><td>██▇▇▇▆▆▅▅▅▅▄▄▄▃▃▃▃▂▂▂▂▁▁▁</td></tr></table><br/></div><div class=\"wandb-col\"><h3>Run summary:</h3><br/><table class=\"wandb\"><tr><td>epoch</td><td>24</td></tr></table><br/></div></div>"
            ]
          },
          "metadata": {}
        },
        {
          "output_type": "display_data",
          "data": {
            "text/plain": [
              "<IPython.core.display.HTML object>"
            ],
            "text/html": [
              " View run <strong style=\"color:#cdcd00\">glowing-sweep-6</strong> at: <a href='https://wandb.ai/tim-w/xgboost-example/runs/751ksors' target=\"_blank\">https://wandb.ai/tim-w/xgboost-example/runs/751ksors</a><br/> View job at <a href='https://wandb.ai/tim-w/xgboost-example/jobs/QXJ0aWZhY3RDb2xsZWN0aW9uOjg1NDY2OTE4/version_details/v13' target=\"_blank\">https://wandb.ai/tim-w/xgboost-example/jobs/QXJ0aWZhY3RDb2xsZWN0aW9uOjg1NDY2OTE4/version_details/v13</a><br/>Synced 5 W&B file(s), 1 media file(s), 6 artifact file(s) and 2 other file(s)"
            ]
          },
          "metadata": {}
        },
        {
          "output_type": "display_data",
          "data": {
            "text/plain": [
              "<IPython.core.display.HTML object>"
            ],
            "text/html": [
              "Find logs at: <code>./wandb/run-20230725_133223-751ksors/logs</code>"
            ]
          },
          "metadata": {}
        },
        {
          "output_type": "stream",
          "name": "stderr",
          "text": [
            "\u001b[34m\u001b[1mwandb\u001b[0m: Agent Starting Run: cxvazhnz with config:\n",
            "\u001b[34m\u001b[1mwandb\u001b[0m: \tcolsample_bytree: 0.8\n",
            "\u001b[34m\u001b[1mwandb\u001b[0m: \tfeature_list: fls1\n",
            "\u001b[34m\u001b[1mwandb\u001b[0m: \tmax_depth: 2\n"
          ]
        },
        {
          "output_type": "display_data",
          "data": {
            "text/plain": [
              "<IPython.core.display.HTML object>"
            ],
            "text/html": [
              "Tracking run with wandb version 0.15.6"
            ]
          },
          "metadata": {}
        },
        {
          "output_type": "display_data",
          "data": {
            "text/plain": [
              "<IPython.core.display.HTML object>"
            ],
            "text/html": [
              "Run data is saved locally in <code>/content/wandb/run-20230725_133244-cxvazhnz</code>"
            ]
          },
          "metadata": {}
        },
        {
          "output_type": "display_data",
          "data": {
            "text/plain": [
              "<IPython.core.display.HTML object>"
            ],
            "text/html": [
              "Syncing run <strong><a href='https://wandb.ai/tim-w/xgboost-example/runs/cxvazhnz' target=\"_blank\">devout-sweep-7</a></strong> to <a href='https://wandb.ai/tim-w/xgboost-example' target=\"_blank\">Weights & Biases</a> (<a href='https://wandb.me/run' target=\"_blank\">docs</a>)<br/>Sweep page: <a href='https://wandb.ai/tim-w/xgboost-example/sweeps/bsuh7a0v' target=\"_blank\">https://wandb.ai/tim-w/xgboost-example/sweeps/bsuh7a0v</a>"
            ]
          },
          "metadata": {}
        },
        {
          "output_type": "display_data",
          "data": {
            "text/plain": [
              "<IPython.core.display.HTML object>"
            ],
            "text/html": [
              " View project at <a href='https://wandb.ai/tim-w/xgboost-example' target=\"_blank\">https://wandb.ai/tim-w/xgboost-example</a>"
            ]
          },
          "metadata": {}
        },
        {
          "output_type": "display_data",
          "data": {
            "text/plain": [
              "<IPython.core.display.HTML object>"
            ],
            "text/html": [
              " View sweep at <a href='https://wandb.ai/tim-w/xgboost-example/sweeps/bsuh7a0v' target=\"_blank\">https://wandb.ai/tim-w/xgboost-example/sweeps/bsuh7a0v</a>"
            ]
          },
          "metadata": {}
        },
        {
          "output_type": "display_data",
          "data": {
            "text/plain": [
              "<IPython.core.display.HTML object>"
            ],
            "text/html": [
              " View run at <a href='https://wandb.ai/tim-w/xgboost-example/runs/cxvazhnz' target=\"_blank\">https://wandb.ai/tim-w/xgboost-example/runs/cxvazhnz</a>"
            ]
          },
          "metadata": {}
        },
        {
          "output_type": "stream",
          "name": "stderr",
          "text": [
            "\u001b[34m\u001b[1mwandb\u001b[0m: \\ 1 of 3 files downloaded...\r\u001b[34m\u001b[1mwandb\u001b[0m:   3 of 3 files downloaded.  \n",
            "`use_label_encoder` is deprecated in 1.7.0.\n",
            "`callbacks` in `fit` method is deprecated for better compatibility with scikit-learn, use `callbacks` in constructor or`set_params` instead.\n"
          ]
        },
        {
          "output_type": "stream",
          "name": "stdout",
          "text": [
            "Warning: No categorical columns found. Calling 'transform' will only return input data.\n",
            "[0]\tvalidation_0-auc:0.70779\tvalidation_0-logloss:0.52637\n",
            "[1]\tvalidation_0-auc:0.72303\tvalidation_0-logloss:0.52503\n",
            "[2]\tvalidation_0-auc:0.72562\tvalidation_0-logloss:0.52318\n",
            "[3]\tvalidation_0-auc:0.72598\tvalidation_0-logloss:0.52139\n",
            "[4]\tvalidation_0-auc:0.72591\tvalidation_0-logloss:0.51965\n",
            "[5]\tvalidation_0-auc:0.72598\tvalidation_0-logloss:0.51797\n",
            "[6]\tvalidation_0-auc:0.74322\tvalidation_0-logloss:0.51636\n",
            "[7]\tvalidation_0-auc:0.74319\tvalidation_0-logloss:0.51477\n",
            "[8]\tvalidation_0-auc:0.74319\tvalidation_0-logloss:0.51322\n",
            "[9]\tvalidation_0-auc:0.74319\tvalidation_0-logloss:0.51172\n",
            "[10]\tvalidation_0-auc:0.74381\tvalidation_0-logloss:0.51066\n",
            "[11]\tvalidation_0-auc:0.74381\tvalidation_0-logloss:0.50922\n",
            "[12]\tvalidation_0-auc:0.74381\tvalidation_0-logloss:0.50782\n",
            "[13]\tvalidation_0-auc:0.74381\tvalidation_0-logloss:0.50645\n",
            "[14]\tvalidation_0-auc:0.74381\tvalidation_0-logloss:0.50512\n",
            "[15]\tvalidation_0-auc:0.75976\tvalidation_0-logloss:0.50380\n",
            "[16]\tvalidation_0-auc:0.76063\tvalidation_0-logloss:0.50290\n",
            "[17]\tvalidation_0-auc:0.76030\tvalidation_0-logloss:0.50201\n",
            "[18]\tvalidation_0-auc:0.75795\tvalidation_0-logloss:0.50117\n",
            "[19]\tvalidation_0-auc:0.75719\tvalidation_0-logloss:0.50033\n",
            "[20]\tvalidation_0-auc:0.76022\tvalidation_0-logloss:0.49948\n",
            "[21]\tvalidation_0-auc:0.76690\tvalidation_0-logloss:0.49824\n",
            "[22]\tvalidation_0-auc:0.76780\tvalidation_0-logloss:0.49704\n",
            "[23]\tvalidation_0-auc:0.76649\tvalidation_0-logloss:0.49588\n",
            "[24]\tvalidation_0-auc:0.76624\tvalidation_0-logloss:0.49473\n"
          ]
        },
        {
          "output_type": "display_data",
          "data": {
            "text/plain": [
              "<IPython.core.display.HTML object>"
            ],
            "text/html": [
              "Waiting for W&B process to finish... <strong style=\"color:green\">(success).</strong>"
            ]
          },
          "metadata": {}
        },
        {
          "output_type": "display_data",
          "data": {
            "text/plain": [
              "<IPython.core.display.HTML object>"
            ],
            "text/html": [
              "<style>\n",
              "    table.wandb td:nth-child(1) { padding: 0 10px; text-align: left ; width: auto;} td:nth-child(2) {text-align: left ; width: 100%}\n",
              "    .wandb-row { display: flex; flex-direction: row; flex-wrap: wrap; justify-content: flex-start; width: 100% }\n",
              "    .wandb-col { display: flex; flex-direction: column; flex-basis: 100%; flex: 1; padding: 10px; }\n",
              "    </style>\n",
              "<div class=\"wandb-row\"><div class=\"wandb-col\"><h3>Run history:</h3><br/><table class=\"wandb\"><tr><td>epoch</td><td>▁▁▂▂▂▂▃▃▃▄▄▄▅▅▅▅▆▆▆▇▇▇▇██</td></tr><tr><td>validation_0-auc</td><td>▁▃▃▃▃▃▅▅▅▅▅▅▅▅▅▇▇▇▇▇▇████</td></tr><tr><td>validation_0-logloss</td><td>██▇▇▇▆▆▅▅▅▅▄▄▄▃▃▃▃▂▂▂▂▂▁▁</td></tr></table><br/></div><div class=\"wandb-col\"><h3>Run summary:</h3><br/><table class=\"wandb\"><tr><td>epoch</td><td>24</td></tr></table><br/></div></div>"
            ]
          },
          "metadata": {}
        },
        {
          "output_type": "display_data",
          "data": {
            "text/plain": [
              "<IPython.core.display.HTML object>"
            ],
            "text/html": [
              " View run <strong style=\"color:#cdcd00\">devout-sweep-7</strong> at: <a href='https://wandb.ai/tim-w/xgboost-example/runs/cxvazhnz' target=\"_blank\">https://wandb.ai/tim-w/xgboost-example/runs/cxvazhnz</a><br/> View job at <a href='https://wandb.ai/tim-w/xgboost-example/jobs/QXJ0aWZhY3RDb2xsZWN0aW9uOjg1NDY2OTE4/version_details/v14' target=\"_blank\">https://wandb.ai/tim-w/xgboost-example/jobs/QXJ0aWZhY3RDb2xsZWN0aW9uOjg1NDY2OTE4/version_details/v14</a><br/>Synced 5 W&B file(s), 1 media file(s), 6 artifact file(s) and 2 other file(s)"
            ]
          },
          "metadata": {}
        },
        {
          "output_type": "display_data",
          "data": {
            "text/plain": [
              "<IPython.core.display.HTML object>"
            ],
            "text/html": [
              "Find logs at: <code>./wandb/run-20230725_133244-cxvazhnz/logs</code>"
            ]
          },
          "metadata": {}
        },
        {
          "output_type": "stream",
          "name": "stderr",
          "text": [
            "\u001b[34m\u001b[1mwandb\u001b[0m: Agent Starting Run: 9njm1kfa with config:\n",
            "\u001b[34m\u001b[1mwandb\u001b[0m: \tcolsample_bytree: 0.8\n",
            "\u001b[34m\u001b[1mwandb\u001b[0m: \tfeature_list: fls1\n",
            "\u001b[34m\u001b[1mwandb\u001b[0m: \tmax_depth: 4\n"
          ]
        },
        {
          "output_type": "display_data",
          "data": {
            "text/plain": [
              "<IPython.core.display.HTML object>"
            ],
            "text/html": [
              "Tracking run with wandb version 0.15.6"
            ]
          },
          "metadata": {}
        },
        {
          "output_type": "display_data",
          "data": {
            "text/plain": [
              "<IPython.core.display.HTML object>"
            ],
            "text/html": [
              "Run data is saved locally in <code>/content/wandb/run-20230725_133304-9njm1kfa</code>"
            ]
          },
          "metadata": {}
        },
        {
          "output_type": "display_data",
          "data": {
            "text/plain": [
              "<IPython.core.display.HTML object>"
            ],
            "text/html": [
              "Syncing run <strong><a href='https://wandb.ai/tim-w/xgboost-example/runs/9njm1kfa' target=\"_blank\">scarlet-sweep-8</a></strong> to <a href='https://wandb.ai/tim-w/xgboost-example' target=\"_blank\">Weights & Biases</a> (<a href='https://wandb.me/run' target=\"_blank\">docs</a>)<br/>Sweep page: <a href='https://wandb.ai/tim-w/xgboost-example/sweeps/bsuh7a0v' target=\"_blank\">https://wandb.ai/tim-w/xgboost-example/sweeps/bsuh7a0v</a>"
            ]
          },
          "metadata": {}
        },
        {
          "output_type": "display_data",
          "data": {
            "text/plain": [
              "<IPython.core.display.HTML object>"
            ],
            "text/html": [
              " View project at <a href='https://wandb.ai/tim-w/xgboost-example' target=\"_blank\">https://wandb.ai/tim-w/xgboost-example</a>"
            ]
          },
          "metadata": {}
        },
        {
          "output_type": "display_data",
          "data": {
            "text/plain": [
              "<IPython.core.display.HTML object>"
            ],
            "text/html": [
              " View sweep at <a href='https://wandb.ai/tim-w/xgboost-example/sweeps/bsuh7a0v' target=\"_blank\">https://wandb.ai/tim-w/xgboost-example/sweeps/bsuh7a0v</a>"
            ]
          },
          "metadata": {}
        },
        {
          "output_type": "display_data",
          "data": {
            "text/plain": [
              "<IPython.core.display.HTML object>"
            ],
            "text/html": [
              " View run at <a href='https://wandb.ai/tim-w/xgboost-example/runs/9njm1kfa' target=\"_blank\">https://wandb.ai/tim-w/xgboost-example/runs/9njm1kfa</a>"
            ]
          },
          "metadata": {}
        },
        {
          "output_type": "stream",
          "name": "stderr",
          "text": [
            "\u001b[34m\u001b[1mwandb\u001b[0m: \\ 1 of 3 files downloaded...\r\u001b[34m\u001b[1mwandb\u001b[0m:   3 of 3 files downloaded.  \n",
            "`use_label_encoder` is deprecated in 1.7.0.\n",
            "`callbacks` in `fit` method is deprecated for better compatibility with scikit-learn, use `callbacks` in constructor or`set_params` instead.\n"
          ]
        },
        {
          "output_type": "stream",
          "name": "stdout",
          "text": [
            "Warning: No categorical columns found. Calling 'transform' will only return input data.\n",
            "[0]\tvalidation_0-auc:0.75810\tvalidation_0-logloss:0.52623\n",
            "[1]\tvalidation_0-auc:0.77370\tvalidation_0-logloss:0.52473\n",
            "[2]\tvalidation_0-auc:0.77376\tvalidation_0-logloss:0.52276\n",
            "[3]\tvalidation_0-auc:0.77348\tvalidation_0-logloss:0.52083\n",
            "[4]\tvalidation_0-auc:0.77356\tvalidation_0-logloss:0.51896\n",
            "[5]\tvalidation_0-auc:0.77263\tvalidation_0-logloss:0.51714\n",
            "[6]\tvalidation_0-auc:0.77345\tvalidation_0-logloss:0.51540\n",
            "[7]\tvalidation_0-auc:0.77445\tvalidation_0-logloss:0.51366\n",
            "[8]\tvalidation_0-auc:0.77333\tvalidation_0-logloss:0.51200\n",
            "[9]\tvalidation_0-auc:0.77339\tvalidation_0-logloss:0.51035\n",
            "[10]\tvalidation_0-auc:0.77641\tvalidation_0-logloss:0.50915\n",
            "[11]\tvalidation_0-auc:0.77552\tvalidation_0-logloss:0.50759\n",
            "[12]\tvalidation_0-auc:0.77574\tvalidation_0-logloss:0.50605\n",
            "[13]\tvalidation_0-auc:0.77512\tvalidation_0-logloss:0.50457\n",
            "[14]\tvalidation_0-auc:0.77514\tvalidation_0-logloss:0.50311\n",
            "[15]\tvalidation_0-auc:0.77511\tvalidation_0-logloss:0.50170\n",
            "[16]\tvalidation_0-auc:0.77667\tvalidation_0-logloss:0.50066\n",
            "[17]\tvalidation_0-auc:0.77707\tvalidation_0-logloss:0.49966\n",
            "[18]\tvalidation_0-auc:0.77768\tvalidation_0-logloss:0.49870\n",
            "[19]\tvalidation_0-auc:0.77805\tvalidation_0-logloss:0.49774\n",
            "[20]\tvalidation_0-auc:0.77776\tvalidation_0-logloss:0.49679\n",
            "[21]\tvalidation_0-auc:0.77784\tvalidation_0-logloss:0.49551\n",
            "[22]\tvalidation_0-auc:0.77798\tvalidation_0-logloss:0.49425\n",
            "[23]\tvalidation_0-auc:0.77778\tvalidation_0-logloss:0.49304\n",
            "[24]\tvalidation_0-auc:0.77752\tvalidation_0-logloss:0.49186\n"
          ]
        },
        {
          "output_type": "display_data",
          "data": {
            "text/plain": [
              "<IPython.core.display.HTML object>"
            ],
            "text/html": [
              "Waiting for W&B process to finish... <strong style=\"color:green\">(success).</strong>"
            ]
          },
          "metadata": {}
        },
        {
          "output_type": "display_data",
          "data": {
            "text/plain": [
              "<IPython.core.display.HTML object>"
            ],
            "text/html": [
              "<style>\n",
              "    table.wandb td:nth-child(1) { padding: 0 10px; text-align: left ; width: auto;} td:nth-child(2) {text-align: left ; width: 100%}\n",
              "    .wandb-row { display: flex; flex-direction: row; flex-wrap: wrap; justify-content: flex-start; width: 100% }\n",
              "    .wandb-col { display: flex; flex-direction: column; flex-basis: 100%; flex: 1; padding: 10px; }\n",
              "    </style>\n",
              "<div class=\"wandb-row\"><div class=\"wandb-col\"><h3>Run history:</h3><br/><table class=\"wandb\"><tr><td>epoch</td><td>▁▁▂▂▂▂▃▃▃▄▄▄▅▅▅▅▆▆▆▇▇▇▇██</td></tr><tr><td>validation_0-auc</td><td>▁▆▆▆▆▆▆▇▆▆▇▇▇▇▇▇█████████</td></tr><tr><td>validation_0-logloss</td><td>██▇▇▇▆▆▅▅▅▅▄▄▄▃▃▃▃▂▂▂▂▁▁▁</td></tr></table><br/></div><div class=\"wandb-col\"><h3>Run summary:</h3><br/><table class=\"wandb\"><tr><td>epoch</td><td>24</td></tr></table><br/></div></div>"
            ]
          },
          "metadata": {}
        },
        {
          "output_type": "display_data",
          "data": {
            "text/plain": [
              "<IPython.core.display.HTML object>"
            ],
            "text/html": [
              " View run <strong style=\"color:#cdcd00\">scarlet-sweep-8</strong> at: <a href='https://wandb.ai/tim-w/xgboost-example/runs/9njm1kfa' target=\"_blank\">https://wandb.ai/tim-w/xgboost-example/runs/9njm1kfa</a><br/> View job at <a href='https://wandb.ai/tim-w/xgboost-example/jobs/QXJ0aWZhY3RDb2xsZWN0aW9uOjg1NDY2OTE4/version_details/v15' target=\"_blank\">https://wandb.ai/tim-w/xgboost-example/jobs/QXJ0aWZhY3RDb2xsZWN0aW9uOjg1NDY2OTE4/version_details/v15</a><br/>Synced 5 W&B file(s), 1 media file(s), 6 artifact file(s) and 2 other file(s)"
            ]
          },
          "metadata": {}
        },
        {
          "output_type": "display_data",
          "data": {
            "text/plain": [
              "<IPython.core.display.HTML object>"
            ],
            "text/html": [
              "Find logs at: <code>./wandb/run-20230725_133304-9njm1kfa/logs</code>"
            ]
          },
          "metadata": {}
        },
        {
          "output_type": "stream",
          "name": "stderr",
          "text": [
            "\u001b[34m\u001b[1mwandb\u001b[0m: Agent Starting Run: xi9mmxvp with config:\n",
            "\u001b[34m\u001b[1mwandb\u001b[0m: \tcolsample_bytree: 0.8\n",
            "\u001b[34m\u001b[1mwandb\u001b[0m: \tfeature_list: fls1\n",
            "\u001b[34m\u001b[1mwandb\u001b[0m: \tmax_depth: 16\n"
          ]
        },
        {
          "output_type": "display_data",
          "data": {
            "text/plain": [
              "<IPython.core.display.HTML object>"
            ],
            "text/html": [
              "Tracking run with wandb version 0.15.6"
            ]
          },
          "metadata": {}
        },
        {
          "output_type": "display_data",
          "data": {
            "text/plain": [
              "<IPython.core.display.HTML object>"
            ],
            "text/html": [
              "Run data is saved locally in <code>/content/wandb/run-20230725_133324-xi9mmxvp</code>"
            ]
          },
          "metadata": {}
        },
        {
          "output_type": "display_data",
          "data": {
            "text/plain": [
              "<IPython.core.display.HTML object>"
            ],
            "text/html": [
              "Syncing run <strong><a href='https://wandb.ai/tim-w/xgboost-example/runs/xi9mmxvp' target=\"_blank\">fearless-sweep-9</a></strong> to <a href='https://wandb.ai/tim-w/xgboost-example' target=\"_blank\">Weights & Biases</a> (<a href='https://wandb.me/run' target=\"_blank\">docs</a>)<br/>Sweep page: <a href='https://wandb.ai/tim-w/xgboost-example/sweeps/bsuh7a0v' target=\"_blank\">https://wandb.ai/tim-w/xgboost-example/sweeps/bsuh7a0v</a>"
            ]
          },
          "metadata": {}
        },
        {
          "output_type": "display_data",
          "data": {
            "text/plain": [
              "<IPython.core.display.HTML object>"
            ],
            "text/html": [
              " View project at <a href='https://wandb.ai/tim-w/xgboost-example' target=\"_blank\">https://wandb.ai/tim-w/xgboost-example</a>"
            ]
          },
          "metadata": {}
        },
        {
          "output_type": "display_data",
          "data": {
            "text/plain": [
              "<IPython.core.display.HTML object>"
            ],
            "text/html": [
              " View sweep at <a href='https://wandb.ai/tim-w/xgboost-example/sweeps/bsuh7a0v' target=\"_blank\">https://wandb.ai/tim-w/xgboost-example/sweeps/bsuh7a0v</a>"
            ]
          },
          "metadata": {}
        },
        {
          "output_type": "display_data",
          "data": {
            "text/plain": [
              "<IPython.core.display.HTML object>"
            ],
            "text/html": [
              " View run at <a href='https://wandb.ai/tim-w/xgboost-example/runs/xi9mmxvp' target=\"_blank\">https://wandb.ai/tim-w/xgboost-example/runs/xi9mmxvp</a>"
            ]
          },
          "metadata": {}
        },
        {
          "output_type": "stream",
          "name": "stderr",
          "text": [
            "\u001b[34m\u001b[1mwandb\u001b[0m: \\ 1 of 3 files downloaded...\r\u001b[34m\u001b[1mwandb\u001b[0m:   3 of 3 files downloaded.  \n",
            "`use_label_encoder` is deprecated in 1.7.0.\n",
            "`callbacks` in `fit` method is deprecated for better compatibility with scikit-learn, use `callbacks` in constructor or`set_params` instead.\n"
          ]
        },
        {
          "output_type": "stream",
          "name": "stdout",
          "text": [
            "Warning: No categorical columns found. Calling 'transform' will only return input data.\n",
            "[0]\tvalidation_0-auc:0.76696\tvalidation_0-logloss:0.52615\n",
            "[1]\tvalidation_0-auc:0.78180\tvalidation_0-logloss:0.52458\n",
            "[2]\tvalidation_0-auc:0.78442\tvalidation_0-logloss:0.52256\n",
            "[3]\tvalidation_0-auc:0.78442\tvalidation_0-logloss:0.52055\n",
            "[4]\tvalidation_0-auc:0.78289\tvalidation_0-logloss:0.51863\n",
            "[5]\tvalidation_0-auc:0.78114\tvalidation_0-logloss:0.51676\n",
            "[6]\tvalidation_0-auc:0.78213\tvalidation_0-logloss:0.51494\n",
            "[7]\tvalidation_0-auc:0.78163\tvalidation_0-logloss:0.51317\n",
            "[8]\tvalidation_0-auc:0.78127\tvalidation_0-logloss:0.51146\n",
            "[9]\tvalidation_0-auc:0.78096\tvalidation_0-logloss:0.50977\n",
            "[10]\tvalidation_0-auc:0.78266\tvalidation_0-logloss:0.50852\n",
            "[11]\tvalidation_0-auc:0.78219\tvalidation_0-logloss:0.50691\n",
            "[12]\tvalidation_0-auc:0.78225\tvalidation_0-logloss:0.50533\n",
            "[13]\tvalidation_0-auc:0.78122\tvalidation_0-logloss:0.50380\n",
            "[14]\tvalidation_0-auc:0.78246\tvalidation_0-logloss:0.50227\n",
            "[15]\tvalidation_0-auc:0.78172\tvalidation_0-logloss:0.50082\n",
            "[16]\tvalidation_0-auc:0.78265\tvalidation_0-logloss:0.49973\n",
            "[17]\tvalidation_0-auc:0.78329\tvalidation_0-logloss:0.49869\n",
            "[18]\tvalidation_0-auc:0.78403\tvalidation_0-logloss:0.49768\n",
            "[19]\tvalidation_0-auc:0.78477\tvalidation_0-logloss:0.49665\n",
            "[20]\tvalidation_0-auc:0.78486\tvalidation_0-logloss:0.49565\n",
            "[21]\tvalidation_0-auc:0.78520\tvalidation_0-logloss:0.49430\n",
            "[22]\tvalidation_0-auc:0.78551\tvalidation_0-logloss:0.49300\n",
            "[23]\tvalidation_0-auc:0.78532\tvalidation_0-logloss:0.49175\n",
            "[24]\tvalidation_0-auc:0.78538\tvalidation_0-logloss:0.49052\n"
          ]
        },
        {
          "output_type": "display_data",
          "data": {
            "text/plain": [
              "<IPython.core.display.HTML object>"
            ],
            "text/html": [
              "Waiting for W&B process to finish... <strong style=\"color:green\">(success).</strong>"
            ]
          },
          "metadata": {}
        },
        {
          "output_type": "display_data",
          "data": {
            "text/plain": [
              "<IPython.core.display.HTML object>"
            ],
            "text/html": [
              "<style>\n",
              "    table.wandb td:nth-child(1) { padding: 0 10px; text-align: left ; width: auto;} td:nth-child(2) {text-align: left ; width: 100%}\n",
              "    .wandb-row { display: flex; flex-direction: row; flex-wrap: wrap; justify-content: flex-start; width: 100% }\n",
              "    .wandb-col { display: flex; flex-direction: column; flex-basis: 100%; flex: 1; padding: 10px; }\n",
              "    </style>\n",
              "<div class=\"wandb-row\"><div class=\"wandb-col\"><h3>Run history:</h3><br/><table class=\"wandb\"><tr><td>epoch</td><td>▁▁▂▂▂▂▃▃▃▄▄▄▅▅▅▅▆▆▆▇▇▇▇██</td></tr><tr><td>validation_0-auc</td><td>▁▇██▇▆▇▇▆▆▇▇▇▆▇▇▇▇▇██████</td></tr><tr><td>validation_0-logloss</td><td>██▇▇▇▆▆▅▅▅▅▄▄▄▃▃▃▃▂▂▂▂▁▁▁</td></tr></table><br/></div><div class=\"wandb-col\"><h3>Run summary:</h3><br/><table class=\"wandb\"><tr><td>epoch</td><td>24</td></tr></table><br/></div></div>"
            ]
          },
          "metadata": {}
        },
        {
          "output_type": "display_data",
          "data": {
            "text/plain": [
              "<IPython.core.display.HTML object>"
            ],
            "text/html": [
              " View run <strong style=\"color:#cdcd00\">fearless-sweep-9</strong> at: <a href='https://wandb.ai/tim-w/xgboost-example/runs/xi9mmxvp' target=\"_blank\">https://wandb.ai/tim-w/xgboost-example/runs/xi9mmxvp</a><br/> View job at <a href='https://wandb.ai/tim-w/xgboost-example/jobs/QXJ0aWZhY3RDb2xsZWN0aW9uOjg1NDY2OTE4/version_details/v16' target=\"_blank\">https://wandb.ai/tim-w/xgboost-example/jobs/QXJ0aWZhY3RDb2xsZWN0aW9uOjg1NDY2OTE4/version_details/v16</a><br/>Synced 5 W&B file(s), 1 media file(s), 6 artifact file(s) and 2 other file(s)"
            ]
          },
          "metadata": {}
        },
        {
          "output_type": "display_data",
          "data": {
            "text/plain": [
              "<IPython.core.display.HTML object>"
            ],
            "text/html": [
              "Find logs at: <code>./wandb/run-20230725_133324-xi9mmxvp/logs</code>"
            ]
          },
          "metadata": {}
        },
        {
          "output_type": "stream",
          "name": "stderr",
          "text": [
            "\u001b[34m\u001b[1mwandb\u001b[0m: Agent Starting Run: x8j4mkgp with config:\n",
            "\u001b[34m\u001b[1mwandb\u001b[0m: \tcolsample_bytree: 0.8\n",
            "\u001b[34m\u001b[1mwandb\u001b[0m: \tfeature_list: fls2\n",
            "\u001b[34m\u001b[1mwandb\u001b[0m: \tmax_depth: 2\n"
          ]
        },
        {
          "output_type": "display_data",
          "data": {
            "text/plain": [
              "<IPython.core.display.HTML object>"
            ],
            "text/html": [
              "Tracking run with wandb version 0.15.6"
            ]
          },
          "metadata": {}
        },
        {
          "output_type": "display_data",
          "data": {
            "text/plain": [
              "<IPython.core.display.HTML object>"
            ],
            "text/html": [
              "Run data is saved locally in <code>/content/wandb/run-20230725_133346-x8j4mkgp</code>"
            ]
          },
          "metadata": {}
        },
        {
          "output_type": "display_data",
          "data": {
            "text/plain": [
              "<IPython.core.display.HTML object>"
            ],
            "text/html": [
              "Syncing run <strong><a href='https://wandb.ai/tim-w/xgboost-example/runs/x8j4mkgp' target=\"_blank\">absurd-sweep-10</a></strong> to <a href='https://wandb.ai/tim-w/xgboost-example' target=\"_blank\">Weights & Biases</a> (<a href='https://wandb.me/run' target=\"_blank\">docs</a>)<br/>Sweep page: <a href='https://wandb.ai/tim-w/xgboost-example/sweeps/bsuh7a0v' target=\"_blank\">https://wandb.ai/tim-w/xgboost-example/sweeps/bsuh7a0v</a>"
            ]
          },
          "metadata": {}
        },
        {
          "output_type": "display_data",
          "data": {
            "text/plain": [
              "<IPython.core.display.HTML object>"
            ],
            "text/html": [
              " View project at <a href='https://wandb.ai/tim-w/xgboost-example' target=\"_blank\">https://wandb.ai/tim-w/xgboost-example</a>"
            ]
          },
          "metadata": {}
        },
        {
          "output_type": "display_data",
          "data": {
            "text/plain": [
              "<IPython.core.display.HTML object>"
            ],
            "text/html": [
              " View sweep at <a href='https://wandb.ai/tim-w/xgboost-example/sweeps/bsuh7a0v' target=\"_blank\">https://wandb.ai/tim-w/xgboost-example/sweeps/bsuh7a0v</a>"
            ]
          },
          "metadata": {}
        },
        {
          "output_type": "display_data",
          "data": {
            "text/plain": [
              "<IPython.core.display.HTML object>"
            ],
            "text/html": [
              " View run at <a href='https://wandb.ai/tim-w/xgboost-example/runs/x8j4mkgp' target=\"_blank\">https://wandb.ai/tim-w/xgboost-example/runs/x8j4mkgp</a>"
            ]
          },
          "metadata": {}
        },
        {
          "output_type": "stream",
          "name": "stderr",
          "text": [
            "\u001b[34m\u001b[1mwandb\u001b[0m: \\ 1 of 3 files downloaded...\r\u001b[34m\u001b[1mwandb\u001b[0m:   3 of 3 files downloaded.  \n"
          ]
        },
        {
          "output_type": "stream",
          "name": "stdout",
          "text": [
            "Warning: No categorical columns found. Calling 'transform' will only return input data.\n",
            "[0]\tvalidation_0-auc:0.70779\tvalidation_0-logloss:0.52637\n"
          ]
        },
        {
          "output_type": "stream",
          "name": "stderr",
          "text": [
            "`use_label_encoder` is deprecated in 1.7.0.\n",
            "`callbacks` in `fit` method is deprecated for better compatibility with scikit-learn, use `callbacks` in constructor or`set_params` instead.\n"
          ]
        },
        {
          "output_type": "stream",
          "name": "stdout",
          "text": [
            "[1]\tvalidation_0-auc:0.72303\tvalidation_0-logloss:0.52503\n",
            "[2]\tvalidation_0-auc:0.72562\tvalidation_0-logloss:0.52318\n",
            "[3]\tvalidation_0-auc:0.72598\tvalidation_0-logloss:0.52139\n",
            "[4]\tvalidation_0-auc:0.72591\tvalidation_0-logloss:0.51965\n",
            "[5]\tvalidation_0-auc:0.72598\tvalidation_0-logloss:0.51797\n",
            "[6]\tvalidation_0-auc:0.74322\tvalidation_0-logloss:0.51636\n",
            "[7]\tvalidation_0-auc:0.74319\tvalidation_0-logloss:0.51477\n",
            "[8]\tvalidation_0-auc:0.74319\tvalidation_0-logloss:0.51322\n",
            "[9]\tvalidation_0-auc:0.74319\tvalidation_0-logloss:0.51172\n",
            "[10]\tvalidation_0-auc:0.74381\tvalidation_0-logloss:0.51066\n",
            "[11]\tvalidation_0-auc:0.74381\tvalidation_0-logloss:0.50922\n",
            "[12]\tvalidation_0-auc:0.74381\tvalidation_0-logloss:0.50782\n",
            "[13]\tvalidation_0-auc:0.74381\tvalidation_0-logloss:0.50645\n",
            "[14]\tvalidation_0-auc:0.74381\tvalidation_0-logloss:0.50512\n",
            "[15]\tvalidation_0-auc:0.75976\tvalidation_0-logloss:0.50380\n",
            "[16]\tvalidation_0-auc:0.76063\tvalidation_0-logloss:0.50290\n",
            "[17]\tvalidation_0-auc:0.76030\tvalidation_0-logloss:0.50201\n",
            "[18]\tvalidation_0-auc:0.75795\tvalidation_0-logloss:0.50117\n",
            "[19]\tvalidation_0-auc:0.75719\tvalidation_0-logloss:0.50033\n",
            "[20]\tvalidation_0-auc:0.76022\tvalidation_0-logloss:0.49948\n",
            "[21]\tvalidation_0-auc:0.76690\tvalidation_0-logloss:0.49824\n",
            "[22]\tvalidation_0-auc:0.76780\tvalidation_0-logloss:0.49704\n",
            "[23]\tvalidation_0-auc:0.76649\tvalidation_0-logloss:0.49588\n",
            "[24]\tvalidation_0-auc:0.76624\tvalidation_0-logloss:0.49473\n"
          ]
        },
        {
          "output_type": "display_data",
          "data": {
            "text/plain": [
              "<IPython.core.display.HTML object>"
            ],
            "text/html": [
              "Waiting for W&B process to finish... <strong style=\"color:green\">(success).</strong>"
            ]
          },
          "metadata": {}
        },
        {
          "output_type": "display_data",
          "data": {
            "text/plain": [
              "<IPython.core.display.HTML object>"
            ],
            "text/html": [
              "<style>\n",
              "    table.wandb td:nth-child(1) { padding: 0 10px; text-align: left ; width: auto;} td:nth-child(2) {text-align: left ; width: 100%}\n",
              "    .wandb-row { display: flex; flex-direction: row; flex-wrap: wrap; justify-content: flex-start; width: 100% }\n",
              "    .wandb-col { display: flex; flex-direction: column; flex-basis: 100%; flex: 1; padding: 10px; }\n",
              "    </style>\n",
              "<div class=\"wandb-row\"><div class=\"wandb-col\"><h3>Run history:</h3><br/><table class=\"wandb\"><tr><td>epoch</td><td>▁▁▂▂▂▂▃▃▃▄▄▄▅▅▅▅▆▆▆▇▇▇▇██</td></tr><tr><td>validation_0-auc</td><td>▁▃▃▃▃▃▅▅▅▅▅▅▅▅▅▇▇▇▇▇▇████</td></tr><tr><td>validation_0-logloss</td><td>██▇▇▇▆▆▅▅▅▅▄▄▄▃▃▃▃▂▂▂▂▂▁▁</td></tr></table><br/></div><div class=\"wandb-col\"><h3>Run summary:</h3><br/><table class=\"wandb\"><tr><td>epoch</td><td>24</td></tr></table><br/></div></div>"
            ]
          },
          "metadata": {}
        },
        {
          "output_type": "display_data",
          "data": {
            "text/plain": [
              "<IPython.core.display.HTML object>"
            ],
            "text/html": [
              " View run <strong style=\"color:#cdcd00\">absurd-sweep-10</strong> at: <a href='https://wandb.ai/tim-w/xgboost-example/runs/x8j4mkgp' target=\"_blank\">https://wandb.ai/tim-w/xgboost-example/runs/x8j4mkgp</a><br/> View job at <a href='https://wandb.ai/tim-w/xgboost-example/jobs/QXJ0aWZhY3RDb2xsZWN0aW9uOjg1NDY2OTE4/version_details/v17' target=\"_blank\">https://wandb.ai/tim-w/xgboost-example/jobs/QXJ0aWZhY3RDb2xsZWN0aW9uOjg1NDY2OTE4/version_details/v17</a><br/>Synced 5 W&B file(s), 1 media file(s), 6 artifact file(s) and 2 other file(s)"
            ]
          },
          "metadata": {}
        },
        {
          "output_type": "display_data",
          "data": {
            "text/plain": [
              "<IPython.core.display.HTML object>"
            ],
            "text/html": [
              "Find logs at: <code>./wandb/run-20230725_133346-x8j4mkgp/logs</code>"
            ]
          },
          "metadata": {}
        },
        {
          "output_type": "stream",
          "name": "stderr",
          "text": [
            "\u001b[34m\u001b[1mwandb\u001b[0m: Agent Starting Run: 2axrsxys with config:\n",
            "\u001b[34m\u001b[1mwandb\u001b[0m: \tcolsample_bytree: 0.8\n",
            "\u001b[34m\u001b[1mwandb\u001b[0m: \tfeature_list: fls2\n",
            "\u001b[34m\u001b[1mwandb\u001b[0m: \tmax_depth: 4\n"
          ]
        },
        {
          "output_type": "display_data",
          "data": {
            "text/plain": [
              "<IPython.core.display.HTML object>"
            ],
            "text/html": [
              "Tracking run with wandb version 0.15.6"
            ]
          },
          "metadata": {}
        },
        {
          "output_type": "display_data",
          "data": {
            "text/plain": [
              "<IPython.core.display.HTML object>"
            ],
            "text/html": [
              "Run data is saved locally in <code>/content/wandb/run-20230725_133406-2axrsxys</code>"
            ]
          },
          "metadata": {}
        },
        {
          "output_type": "display_data",
          "data": {
            "text/plain": [
              "<IPython.core.display.HTML object>"
            ],
            "text/html": [
              "Syncing run <strong><a href='https://wandb.ai/tim-w/xgboost-example/runs/2axrsxys' target=\"_blank\">absurd-sweep-11</a></strong> to <a href='https://wandb.ai/tim-w/xgboost-example' target=\"_blank\">Weights & Biases</a> (<a href='https://wandb.me/run' target=\"_blank\">docs</a>)<br/>Sweep page: <a href='https://wandb.ai/tim-w/xgboost-example/sweeps/bsuh7a0v' target=\"_blank\">https://wandb.ai/tim-w/xgboost-example/sweeps/bsuh7a0v</a>"
            ]
          },
          "metadata": {}
        },
        {
          "output_type": "display_data",
          "data": {
            "text/plain": [
              "<IPython.core.display.HTML object>"
            ],
            "text/html": [
              " View project at <a href='https://wandb.ai/tim-w/xgboost-example' target=\"_blank\">https://wandb.ai/tim-w/xgboost-example</a>"
            ]
          },
          "metadata": {}
        },
        {
          "output_type": "display_data",
          "data": {
            "text/plain": [
              "<IPython.core.display.HTML object>"
            ],
            "text/html": [
              " View sweep at <a href='https://wandb.ai/tim-w/xgboost-example/sweeps/bsuh7a0v' target=\"_blank\">https://wandb.ai/tim-w/xgboost-example/sweeps/bsuh7a0v</a>"
            ]
          },
          "metadata": {}
        },
        {
          "output_type": "display_data",
          "data": {
            "text/plain": [
              "<IPython.core.display.HTML object>"
            ],
            "text/html": [
              " View run at <a href='https://wandb.ai/tim-w/xgboost-example/runs/2axrsxys' target=\"_blank\">https://wandb.ai/tim-w/xgboost-example/runs/2axrsxys</a>"
            ]
          },
          "metadata": {}
        },
        {
          "output_type": "stream",
          "name": "stderr",
          "text": [
            "\u001b[34m\u001b[1mwandb\u001b[0m: \\ 1 of 3 files downloaded...\r\u001b[34m\u001b[1mwandb\u001b[0m:   3 of 3 files downloaded.  \n",
            "`use_label_encoder` is deprecated in 1.7.0.\n",
            "`callbacks` in `fit` method is deprecated for better compatibility with scikit-learn, use `callbacks` in constructor or`set_params` instead.\n"
          ]
        },
        {
          "output_type": "stream",
          "name": "stdout",
          "text": [
            "Warning: No categorical columns found. Calling 'transform' will only return input data.\n",
            "[0]\tvalidation_0-auc:0.75810\tvalidation_0-logloss:0.52623\n",
            "[1]\tvalidation_0-auc:0.77370\tvalidation_0-logloss:0.52473\n",
            "[2]\tvalidation_0-auc:0.77376\tvalidation_0-logloss:0.52276\n",
            "[3]\tvalidation_0-auc:0.77348\tvalidation_0-logloss:0.52083\n",
            "[4]\tvalidation_0-auc:0.77356\tvalidation_0-logloss:0.51896\n",
            "[5]\tvalidation_0-auc:0.77263\tvalidation_0-logloss:0.51714\n",
            "[6]\tvalidation_0-auc:0.77345\tvalidation_0-logloss:0.51540\n",
            "[7]\tvalidation_0-auc:0.77445\tvalidation_0-logloss:0.51366\n",
            "[8]\tvalidation_0-auc:0.77333\tvalidation_0-logloss:0.51200\n",
            "[9]\tvalidation_0-auc:0.77339\tvalidation_0-logloss:0.51035\n",
            "[10]\tvalidation_0-auc:0.77641\tvalidation_0-logloss:0.50915\n",
            "[11]\tvalidation_0-auc:0.77552\tvalidation_0-logloss:0.50759\n",
            "[12]\tvalidation_0-auc:0.77574\tvalidation_0-logloss:0.50605\n",
            "[13]\tvalidation_0-auc:0.77512\tvalidation_0-logloss:0.50457\n",
            "[14]\tvalidation_0-auc:0.77514\tvalidation_0-logloss:0.50311\n",
            "[15]\tvalidation_0-auc:0.77511\tvalidation_0-logloss:0.50170\n",
            "[16]\tvalidation_0-auc:0.77667\tvalidation_0-logloss:0.50066\n",
            "[17]\tvalidation_0-auc:0.77707\tvalidation_0-logloss:0.49966\n",
            "[18]\tvalidation_0-auc:0.77768\tvalidation_0-logloss:0.49870\n",
            "[19]\tvalidation_0-auc:0.77805\tvalidation_0-logloss:0.49774\n",
            "[20]\tvalidation_0-auc:0.77776\tvalidation_0-logloss:0.49679\n",
            "[21]\tvalidation_0-auc:0.77784\tvalidation_0-logloss:0.49551\n",
            "[22]\tvalidation_0-auc:0.77798\tvalidation_0-logloss:0.49425\n",
            "[23]\tvalidation_0-auc:0.77778\tvalidation_0-logloss:0.49304\n",
            "[24]\tvalidation_0-auc:0.77752\tvalidation_0-logloss:0.49186\n"
          ]
        },
        {
          "output_type": "display_data",
          "data": {
            "text/plain": [
              "<IPython.core.display.HTML object>"
            ],
            "text/html": [
              "Waiting for W&B process to finish... <strong style=\"color:green\">(success).</strong>"
            ]
          },
          "metadata": {}
        },
        {
          "output_type": "display_data",
          "data": {
            "text/plain": [
              "<IPython.core.display.HTML object>"
            ],
            "text/html": [
              "<style>\n",
              "    table.wandb td:nth-child(1) { padding: 0 10px; text-align: left ; width: auto;} td:nth-child(2) {text-align: left ; width: 100%}\n",
              "    .wandb-row { display: flex; flex-direction: row; flex-wrap: wrap; justify-content: flex-start; width: 100% }\n",
              "    .wandb-col { display: flex; flex-direction: column; flex-basis: 100%; flex: 1; padding: 10px; }\n",
              "    </style>\n",
              "<div class=\"wandb-row\"><div class=\"wandb-col\"><h3>Run history:</h3><br/><table class=\"wandb\"><tr><td>epoch</td><td>▁▁▂▂▂▂▃▃▃▄▄▄▅▅▅▅▆▆▆▇▇▇▇██</td></tr><tr><td>validation_0-auc</td><td>▁▆▆▆▆▆▆▇▆▆▇▇▇▇▇▇█████████</td></tr><tr><td>validation_0-logloss</td><td>██▇▇▇▆▆▅▅▅▅▄▄▄▃▃▃▃▂▂▂▂▁▁▁</td></tr></table><br/></div><div class=\"wandb-col\"><h3>Run summary:</h3><br/><table class=\"wandb\"><tr><td>epoch</td><td>24</td></tr></table><br/></div></div>"
            ]
          },
          "metadata": {}
        },
        {
          "output_type": "display_data",
          "data": {
            "text/plain": [
              "<IPython.core.display.HTML object>"
            ],
            "text/html": [
              " View run <strong style=\"color:#cdcd00\">absurd-sweep-11</strong> at: <a href='https://wandb.ai/tim-w/xgboost-example/runs/2axrsxys' target=\"_blank\">https://wandb.ai/tim-w/xgboost-example/runs/2axrsxys</a><br/> View job at <a href='https://wandb.ai/tim-w/xgboost-example/jobs/QXJ0aWZhY3RDb2xsZWN0aW9uOjg1NDY2OTE4/version_details/v18' target=\"_blank\">https://wandb.ai/tim-w/xgboost-example/jobs/QXJ0aWZhY3RDb2xsZWN0aW9uOjg1NDY2OTE4/version_details/v18</a><br/>Synced 5 W&B file(s), 1 media file(s), 6 artifact file(s) and 2 other file(s)"
            ]
          },
          "metadata": {}
        },
        {
          "output_type": "display_data",
          "data": {
            "text/plain": [
              "<IPython.core.display.HTML object>"
            ],
            "text/html": [
              "Find logs at: <code>./wandb/run-20230725_133406-2axrsxys/logs</code>"
            ]
          },
          "metadata": {}
        },
        {
          "output_type": "stream",
          "name": "stderr",
          "text": [
            "\u001b[34m\u001b[1mwandb\u001b[0m: Agent Starting Run: tju5zkpl with config:\n",
            "\u001b[34m\u001b[1mwandb\u001b[0m: \tcolsample_bytree: 0.8\n",
            "\u001b[34m\u001b[1mwandb\u001b[0m: \tfeature_list: fls2\n",
            "\u001b[34m\u001b[1mwandb\u001b[0m: \tmax_depth: 16\n"
          ]
        },
        {
          "output_type": "display_data",
          "data": {
            "text/plain": [
              "<IPython.core.display.HTML object>"
            ],
            "text/html": [
              "Tracking run with wandb version 0.15.6"
            ]
          },
          "metadata": {}
        },
        {
          "output_type": "display_data",
          "data": {
            "text/plain": [
              "<IPython.core.display.HTML object>"
            ],
            "text/html": [
              "Run data is saved locally in <code>/content/wandb/run-20230725_133427-tju5zkpl</code>"
            ]
          },
          "metadata": {}
        },
        {
          "output_type": "display_data",
          "data": {
            "text/plain": [
              "<IPython.core.display.HTML object>"
            ],
            "text/html": [
              "Syncing run <strong><a href='https://wandb.ai/tim-w/xgboost-example/runs/tju5zkpl' target=\"_blank\">icy-sweep-12</a></strong> to <a href='https://wandb.ai/tim-w/xgboost-example' target=\"_blank\">Weights & Biases</a> (<a href='https://wandb.me/run' target=\"_blank\">docs</a>)<br/>Sweep page: <a href='https://wandb.ai/tim-w/xgboost-example/sweeps/bsuh7a0v' target=\"_blank\">https://wandb.ai/tim-w/xgboost-example/sweeps/bsuh7a0v</a>"
            ]
          },
          "metadata": {}
        },
        {
          "output_type": "display_data",
          "data": {
            "text/plain": [
              "<IPython.core.display.HTML object>"
            ],
            "text/html": [
              " View project at <a href='https://wandb.ai/tim-w/xgboost-example' target=\"_blank\">https://wandb.ai/tim-w/xgboost-example</a>"
            ]
          },
          "metadata": {}
        },
        {
          "output_type": "display_data",
          "data": {
            "text/plain": [
              "<IPython.core.display.HTML object>"
            ],
            "text/html": [
              " View sweep at <a href='https://wandb.ai/tim-w/xgboost-example/sweeps/bsuh7a0v' target=\"_blank\">https://wandb.ai/tim-w/xgboost-example/sweeps/bsuh7a0v</a>"
            ]
          },
          "metadata": {}
        },
        {
          "output_type": "display_data",
          "data": {
            "text/plain": [
              "<IPython.core.display.HTML object>"
            ],
            "text/html": [
              " View run at <a href='https://wandb.ai/tim-w/xgboost-example/runs/tju5zkpl' target=\"_blank\">https://wandb.ai/tim-w/xgboost-example/runs/tju5zkpl</a>"
            ]
          },
          "metadata": {}
        },
        {
          "output_type": "stream",
          "name": "stderr",
          "text": [
            "\u001b[34m\u001b[1mwandb\u001b[0m: \\ 1 of 3 files downloaded...\r\u001b[34m\u001b[1mwandb\u001b[0m:   3 of 3 files downloaded.  \n",
            "`use_label_encoder` is deprecated in 1.7.0.\n",
            "`callbacks` in `fit` method is deprecated for better compatibility with scikit-learn, use `callbacks` in constructor or`set_params` instead.\n"
          ]
        },
        {
          "output_type": "stream",
          "name": "stdout",
          "text": [
            "Warning: No categorical columns found. Calling 'transform' will only return input data.\n",
            "[0]\tvalidation_0-auc:0.76696\tvalidation_0-logloss:0.52615\n",
            "[1]\tvalidation_0-auc:0.78180\tvalidation_0-logloss:0.52458\n",
            "[2]\tvalidation_0-auc:0.78442\tvalidation_0-logloss:0.52256\n",
            "[3]\tvalidation_0-auc:0.78442\tvalidation_0-logloss:0.52055\n",
            "[4]\tvalidation_0-auc:0.78289\tvalidation_0-logloss:0.51863\n",
            "[5]\tvalidation_0-auc:0.78114\tvalidation_0-logloss:0.51676\n",
            "[6]\tvalidation_0-auc:0.78213\tvalidation_0-logloss:0.51494\n",
            "[7]\tvalidation_0-auc:0.78163\tvalidation_0-logloss:0.51317\n",
            "[8]\tvalidation_0-auc:0.78127\tvalidation_0-logloss:0.51146\n",
            "[9]\tvalidation_0-auc:0.78096\tvalidation_0-logloss:0.50977\n",
            "[10]\tvalidation_0-auc:0.78266\tvalidation_0-logloss:0.50852\n",
            "[11]\tvalidation_0-auc:0.78219\tvalidation_0-logloss:0.50691\n",
            "[12]\tvalidation_0-auc:0.78225\tvalidation_0-logloss:0.50533\n",
            "[13]\tvalidation_0-auc:0.78122\tvalidation_0-logloss:0.50380\n",
            "[14]\tvalidation_0-auc:0.78246\tvalidation_0-logloss:0.50227\n",
            "[15]\tvalidation_0-auc:0.78172\tvalidation_0-logloss:0.50082\n",
            "[16]\tvalidation_0-auc:0.78265\tvalidation_0-logloss:0.49973\n",
            "[17]\tvalidation_0-auc:0.78329\tvalidation_0-logloss:0.49869\n",
            "[18]\tvalidation_0-auc:0.78403\tvalidation_0-logloss:0.49768\n",
            "[19]\tvalidation_0-auc:0.78477\tvalidation_0-logloss:0.49665\n",
            "[20]\tvalidation_0-auc:0.78486\tvalidation_0-logloss:0.49565\n",
            "[21]\tvalidation_0-auc:0.78520\tvalidation_0-logloss:0.49430\n",
            "[22]\tvalidation_0-auc:0.78551\tvalidation_0-logloss:0.49300\n",
            "[23]\tvalidation_0-auc:0.78532\tvalidation_0-logloss:0.49175\n",
            "[24]\tvalidation_0-auc:0.78538\tvalidation_0-logloss:0.49052\n"
          ]
        },
        {
          "output_type": "display_data",
          "data": {
            "text/plain": [
              "<IPython.core.display.HTML object>"
            ],
            "text/html": [
              "Waiting for W&B process to finish... <strong style=\"color:green\">(success).</strong>"
            ]
          },
          "metadata": {}
        },
        {
          "output_type": "display_data",
          "data": {
            "text/plain": [
              "<IPython.core.display.HTML object>"
            ],
            "text/html": [
              "<style>\n",
              "    table.wandb td:nth-child(1) { padding: 0 10px; text-align: left ; width: auto;} td:nth-child(2) {text-align: left ; width: 100%}\n",
              "    .wandb-row { display: flex; flex-direction: row; flex-wrap: wrap; justify-content: flex-start; width: 100% }\n",
              "    .wandb-col { display: flex; flex-direction: column; flex-basis: 100%; flex: 1; padding: 10px; }\n",
              "    </style>\n",
              "<div class=\"wandb-row\"><div class=\"wandb-col\"><h3>Run history:</h3><br/><table class=\"wandb\"><tr><td>epoch</td><td>▁▁▂▂▂▂▃▃▃▄▄▄▅▅▅▅▆▆▆▇▇▇▇██</td></tr><tr><td>validation_0-auc</td><td>▁▇██▇▆▇▇▆▆▇▇▇▆▇▇▇▇▇██████</td></tr><tr><td>validation_0-logloss</td><td>██▇▇▇▆▆▅▅▅▅▄▄▄▃▃▃▃▂▂▂▂▁▁▁</td></tr></table><br/></div><div class=\"wandb-col\"><h3>Run summary:</h3><br/><table class=\"wandb\"><tr><td>epoch</td><td>24</td></tr></table><br/></div></div>"
            ]
          },
          "metadata": {}
        },
        {
          "output_type": "display_data",
          "data": {
            "text/plain": [
              "<IPython.core.display.HTML object>"
            ],
            "text/html": [
              " View run <strong style=\"color:#cdcd00\">icy-sweep-12</strong> at: <a href='https://wandb.ai/tim-w/xgboost-example/runs/tju5zkpl' target=\"_blank\">https://wandb.ai/tim-w/xgboost-example/runs/tju5zkpl</a><br/> View job at <a href='https://wandb.ai/tim-w/xgboost-example/jobs/QXJ0aWZhY3RDb2xsZWN0aW9uOjg1NDY2OTE4/version_details/v19' target=\"_blank\">https://wandb.ai/tim-w/xgboost-example/jobs/QXJ0aWZhY3RDb2xsZWN0aW9uOjg1NDY2OTE4/version_details/v19</a><br/>Synced 5 W&B file(s), 1 media file(s), 6 artifact file(s) and 2 other file(s)"
            ]
          },
          "metadata": {}
        },
        {
          "output_type": "display_data",
          "data": {
            "text/plain": [
              "<IPython.core.display.HTML object>"
            ],
            "text/html": [
              "Find logs at: <code>./wandb/run-20230725_133427-tju5zkpl/logs</code>"
            ]
          },
          "metadata": {}
        },
        {
          "output_type": "stream",
          "name": "stderr",
          "text": [
            "\u001b[34m\u001b[1mwandb\u001b[0m: Agent Starting Run: 28x35obk with config:\n",
            "\u001b[34m\u001b[1mwandb\u001b[0m: \tcolsample_bytree: 1\n",
            "\u001b[34m\u001b[1mwandb\u001b[0m: \tfeature_list: fls1\n",
            "\u001b[34m\u001b[1mwandb\u001b[0m: \tmax_depth: 2\n"
          ]
        },
        {
          "output_type": "display_data",
          "data": {
            "text/plain": [
              "<IPython.core.display.HTML object>"
            ],
            "text/html": [
              "Tracking run with wandb version 0.15.6"
            ]
          },
          "metadata": {}
        },
        {
          "output_type": "display_data",
          "data": {
            "text/plain": [
              "<IPython.core.display.HTML object>"
            ],
            "text/html": [
              "Run data is saved locally in <code>/content/wandb/run-20230725_133448-28x35obk</code>"
            ]
          },
          "metadata": {}
        },
        {
          "output_type": "display_data",
          "data": {
            "text/plain": [
              "<IPython.core.display.HTML object>"
            ],
            "text/html": [
              "Syncing run <strong><a href='https://wandb.ai/tim-w/xgboost-example/runs/28x35obk' target=\"_blank\">effortless-sweep-13</a></strong> to <a href='https://wandb.ai/tim-w/xgboost-example' target=\"_blank\">Weights & Biases</a> (<a href='https://wandb.me/run' target=\"_blank\">docs</a>)<br/>Sweep page: <a href='https://wandb.ai/tim-w/xgboost-example/sweeps/bsuh7a0v' target=\"_blank\">https://wandb.ai/tim-w/xgboost-example/sweeps/bsuh7a0v</a>"
            ]
          },
          "metadata": {}
        },
        {
          "output_type": "display_data",
          "data": {
            "text/plain": [
              "<IPython.core.display.HTML object>"
            ],
            "text/html": [
              " View project at <a href='https://wandb.ai/tim-w/xgboost-example' target=\"_blank\">https://wandb.ai/tim-w/xgboost-example</a>"
            ]
          },
          "metadata": {}
        },
        {
          "output_type": "display_data",
          "data": {
            "text/plain": [
              "<IPython.core.display.HTML object>"
            ],
            "text/html": [
              " View sweep at <a href='https://wandb.ai/tim-w/xgboost-example/sweeps/bsuh7a0v' target=\"_blank\">https://wandb.ai/tim-w/xgboost-example/sweeps/bsuh7a0v</a>"
            ]
          },
          "metadata": {}
        },
        {
          "output_type": "display_data",
          "data": {
            "text/plain": [
              "<IPython.core.display.HTML object>"
            ],
            "text/html": [
              " View run at <a href='https://wandb.ai/tim-w/xgboost-example/runs/28x35obk' target=\"_blank\">https://wandb.ai/tim-w/xgboost-example/runs/28x35obk</a>"
            ]
          },
          "metadata": {}
        },
        {
          "output_type": "stream",
          "name": "stderr",
          "text": [
            "\u001b[34m\u001b[1mwandb\u001b[0m: \\ 1 of 3 files downloaded...\r\u001b[34m\u001b[1mwandb\u001b[0m:   3 of 3 files downloaded.  \n",
            "`use_label_encoder` is deprecated in 1.7.0.\n",
            "`callbacks` in `fit` method is deprecated for better compatibility with scikit-learn, use `callbacks` in constructor or`set_params` instead.\n"
          ]
        },
        {
          "output_type": "stream",
          "name": "stdout",
          "text": [
            "Warning: No categorical columns found. Calling 'transform' will only return input data.\n",
            "[0]\tvalidation_0-auc:0.70739\tvalidation_0-logloss:0.52637\n",
            "[1]\tvalidation_0-auc:0.70739\tvalidation_0-logloss:0.52449\n",
            "[2]\tvalidation_0-auc:0.70739\tvalidation_0-logloss:0.52266\n",
            "[3]\tvalidation_0-auc:0.70739\tvalidation_0-logloss:0.52089\n",
            "[4]\tvalidation_0-auc:0.70739\tvalidation_0-logloss:0.51918\n",
            "[5]\tvalidation_0-auc:0.70739\tvalidation_0-logloss:0.51751\n",
            "[6]\tvalidation_0-auc:0.70739\tvalidation_0-logloss:0.51589\n",
            "[7]\tvalidation_0-auc:0.70739\tvalidation_0-logloss:0.51432\n",
            "[8]\tvalidation_0-auc:0.70739\tvalidation_0-logloss:0.51279\n",
            "[9]\tvalidation_0-auc:0.70739\tvalidation_0-logloss:0.51130\n",
            "[10]\tvalidation_0-auc:0.70739\tvalidation_0-logloss:0.50985\n",
            "[11]\tvalidation_0-auc:0.70739\tvalidation_0-logloss:0.50844\n",
            "[12]\tvalidation_0-auc:0.75123\tvalidation_0-logloss:0.50702\n",
            "[13]\tvalidation_0-auc:0.75123\tvalidation_0-logloss:0.50564\n",
            "[14]\tvalidation_0-auc:0.75123\tvalidation_0-logloss:0.50429\n",
            "[15]\tvalidation_0-auc:0.75123\tvalidation_0-logloss:0.50297\n",
            "[16]\tvalidation_0-auc:0.75123\tvalidation_0-logloss:0.50169\n",
            "[17]\tvalidation_0-auc:0.75123\tvalidation_0-logloss:0.50043\n",
            "[18]\tvalidation_0-auc:0.75123\tvalidation_0-logloss:0.49921\n",
            "[19]\tvalidation_0-auc:0.75123\tvalidation_0-logloss:0.49801\n",
            "[20]\tvalidation_0-auc:0.75123\tvalidation_0-logloss:0.49685\n",
            "[21]\tvalidation_0-auc:0.75544\tvalidation_0-logloss:0.49570\n",
            "[22]\tvalidation_0-auc:0.75544\tvalidation_0-logloss:0.49459\n",
            "[23]\tvalidation_0-auc:0.75544\tvalidation_0-logloss:0.49350\n",
            "[24]\tvalidation_0-auc:0.75544\tvalidation_0-logloss:0.49243\n"
          ]
        },
        {
          "output_type": "display_data",
          "data": {
            "text/plain": [
              "<IPython.core.display.HTML object>"
            ],
            "text/html": [
              "Waiting for W&B process to finish... <strong style=\"color:green\">(success).</strong>"
            ]
          },
          "metadata": {}
        },
        {
          "output_type": "display_data",
          "data": {
            "text/plain": [
              "<IPython.core.display.HTML object>"
            ],
            "text/html": [
              "<style>\n",
              "    table.wandb td:nth-child(1) { padding: 0 10px; text-align: left ; width: auto;} td:nth-child(2) {text-align: left ; width: 100%}\n",
              "    .wandb-row { display: flex; flex-direction: row; flex-wrap: wrap; justify-content: flex-start; width: 100% }\n",
              "    .wandb-col { display: flex; flex-direction: column; flex-basis: 100%; flex: 1; padding: 10px; }\n",
              "    </style>\n",
              "<div class=\"wandb-row\"><div class=\"wandb-col\"><h3>Run history:</h3><br/><table class=\"wandb\"><tr><td>epoch</td><td>▁▁▂▂▂▂▃▃▃▄▄▄▅▅▅▅▆▆▆▇▇▇▇██</td></tr><tr><td>validation_0-auc</td><td>▁▁▁▁▁▁▁▁▁▁▁▁▇▇▇▇▇▇▇▇▇████</td></tr><tr><td>validation_0-logloss</td><td>██▇▇▇▆▆▆▅▅▅▄▄▄▃▃▃▃▂▂▂▂▁▁▁</td></tr></table><br/></div><div class=\"wandb-col\"><h3>Run summary:</h3><br/><table class=\"wandb\"><tr><td>epoch</td><td>24</td></tr></table><br/></div></div>"
            ]
          },
          "metadata": {}
        },
        {
          "output_type": "display_data",
          "data": {
            "text/plain": [
              "<IPython.core.display.HTML object>"
            ],
            "text/html": [
              " View run <strong style=\"color:#cdcd00\">effortless-sweep-13</strong> at: <a href='https://wandb.ai/tim-w/xgboost-example/runs/28x35obk' target=\"_blank\">https://wandb.ai/tim-w/xgboost-example/runs/28x35obk</a><br/> View job at <a href='https://wandb.ai/tim-w/xgboost-example/jobs/QXJ0aWZhY3RDb2xsZWN0aW9uOjg1NDY2OTE4/version_details/v20' target=\"_blank\">https://wandb.ai/tim-w/xgboost-example/jobs/QXJ0aWZhY3RDb2xsZWN0aW9uOjg1NDY2OTE4/version_details/v20</a><br/>Synced 5 W&B file(s), 1 media file(s), 6 artifact file(s) and 2 other file(s)"
            ]
          },
          "metadata": {}
        },
        {
          "output_type": "display_data",
          "data": {
            "text/plain": [
              "<IPython.core.display.HTML object>"
            ],
            "text/html": [
              "Find logs at: <code>./wandb/run-20230725_133448-28x35obk/logs</code>"
            ]
          },
          "metadata": {}
        },
        {
          "output_type": "stream",
          "name": "stderr",
          "text": [
            "\u001b[34m\u001b[1mwandb\u001b[0m: Agent Starting Run: 6jmvem6s with config:\n",
            "\u001b[34m\u001b[1mwandb\u001b[0m: \tcolsample_bytree: 1\n",
            "\u001b[34m\u001b[1mwandb\u001b[0m: \tfeature_list: fls1\n",
            "\u001b[34m\u001b[1mwandb\u001b[0m: \tmax_depth: 4\n"
          ]
        },
        {
          "output_type": "display_data",
          "data": {
            "text/plain": [
              "<IPython.core.display.HTML object>"
            ],
            "text/html": [
              "Tracking run with wandb version 0.15.6"
            ]
          },
          "metadata": {}
        },
        {
          "output_type": "display_data",
          "data": {
            "text/plain": [
              "<IPython.core.display.HTML object>"
            ],
            "text/html": [
              "Run data is saved locally in <code>/content/wandb/run-20230725_133508-6jmvem6s</code>"
            ]
          },
          "metadata": {}
        },
        {
          "output_type": "display_data",
          "data": {
            "text/plain": [
              "<IPython.core.display.HTML object>"
            ],
            "text/html": [
              "Syncing run <strong><a href='https://wandb.ai/tim-w/xgboost-example/runs/6jmvem6s' target=\"_blank\">ethereal-sweep-14</a></strong> to <a href='https://wandb.ai/tim-w/xgboost-example' target=\"_blank\">Weights & Biases</a> (<a href='https://wandb.me/run' target=\"_blank\">docs</a>)<br/>Sweep page: <a href='https://wandb.ai/tim-w/xgboost-example/sweeps/bsuh7a0v' target=\"_blank\">https://wandb.ai/tim-w/xgboost-example/sweeps/bsuh7a0v</a>"
            ]
          },
          "metadata": {}
        },
        {
          "output_type": "display_data",
          "data": {
            "text/plain": [
              "<IPython.core.display.HTML object>"
            ],
            "text/html": [
              " View project at <a href='https://wandb.ai/tim-w/xgboost-example' target=\"_blank\">https://wandb.ai/tim-w/xgboost-example</a>"
            ]
          },
          "metadata": {}
        },
        {
          "output_type": "display_data",
          "data": {
            "text/plain": [
              "<IPython.core.display.HTML object>"
            ],
            "text/html": [
              " View sweep at <a href='https://wandb.ai/tim-w/xgboost-example/sweeps/bsuh7a0v' target=\"_blank\">https://wandb.ai/tim-w/xgboost-example/sweeps/bsuh7a0v</a>"
            ]
          },
          "metadata": {}
        },
        {
          "output_type": "display_data",
          "data": {
            "text/plain": [
              "<IPython.core.display.HTML object>"
            ],
            "text/html": [
              " View run at <a href='https://wandb.ai/tim-w/xgboost-example/runs/6jmvem6s' target=\"_blank\">https://wandb.ai/tim-w/xgboost-example/runs/6jmvem6s</a>"
            ]
          },
          "metadata": {}
        },
        {
          "output_type": "stream",
          "name": "stderr",
          "text": [
            "\u001b[34m\u001b[1mwandb\u001b[0m: \\ 1 of 3 files downloaded...\r\u001b[34m\u001b[1mwandb\u001b[0m:   3 of 3 files downloaded.  \n",
            "`use_label_encoder` is deprecated in 1.7.0.\n",
            "`callbacks` in `fit` method is deprecated for better compatibility with scikit-learn, use `callbacks` in constructor or`set_params` instead.\n"
          ]
        },
        {
          "output_type": "stream",
          "name": "stdout",
          "text": [
            "Warning: No categorical columns found. Calling 'transform' will only return input data.\n",
            "[0]\tvalidation_0-auc:0.75751\tvalidation_0-logloss:0.52623\n",
            "[1]\tvalidation_0-auc:0.75751\tvalidation_0-logloss:0.52421\n",
            "[2]\tvalidation_0-auc:0.75751\tvalidation_0-logloss:0.52225\n",
            "[3]\tvalidation_0-auc:0.75751\tvalidation_0-logloss:0.52034\n",
            "[4]\tvalidation_0-auc:0.76390\tvalidation_0-logloss:0.51848\n",
            "[5]\tvalidation_0-auc:0.76390\tvalidation_0-logloss:0.51668\n",
            "[6]\tvalidation_0-auc:0.76390\tvalidation_0-logloss:0.51491\n",
            "[7]\tvalidation_0-auc:0.76530\tvalidation_0-logloss:0.51321\n",
            "[8]\tvalidation_0-auc:0.76606\tvalidation_0-logloss:0.51156\n",
            "[9]\tvalidation_0-auc:0.76644\tvalidation_0-logloss:0.50993\n",
            "[10]\tvalidation_0-auc:0.76676\tvalidation_0-logloss:0.50836\n",
            "[11]\tvalidation_0-auc:0.76692\tvalidation_0-logloss:0.50680\n",
            "[12]\tvalidation_0-auc:0.76762\tvalidation_0-logloss:0.50531\n",
            "[13]\tvalidation_0-auc:0.76761\tvalidation_0-logloss:0.50386\n",
            "[14]\tvalidation_0-auc:0.76915\tvalidation_0-logloss:0.50244\n",
            "[15]\tvalidation_0-auc:0.76929\tvalidation_0-logloss:0.50103\n",
            "[16]\tvalidation_0-auc:0.76928\tvalidation_0-logloss:0.49967\n",
            "[17]\tvalidation_0-auc:0.77251\tvalidation_0-logloss:0.49830\n",
            "[18]\tvalidation_0-auc:0.77281\tvalidation_0-logloss:0.49696\n",
            "[19]\tvalidation_0-auc:0.77311\tvalidation_0-logloss:0.49566\n",
            "[20]\tvalidation_0-auc:0.77308\tvalidation_0-logloss:0.49438\n",
            "[21]\tvalidation_0-auc:0.77299\tvalidation_0-logloss:0.49313\n",
            "[22]\tvalidation_0-auc:0.77400\tvalidation_0-logloss:0.49192\n",
            "[23]\tvalidation_0-auc:0.77421\tvalidation_0-logloss:0.49073\n",
            "[24]\tvalidation_0-auc:0.77452\tvalidation_0-logloss:0.48956\n"
          ]
        },
        {
          "output_type": "display_data",
          "data": {
            "text/plain": [
              "<IPython.core.display.HTML object>"
            ],
            "text/html": [
              "Waiting for W&B process to finish... <strong style=\"color:green\">(success).</strong>"
            ]
          },
          "metadata": {}
        },
        {
          "output_type": "display_data",
          "data": {
            "text/plain": [
              "<IPython.core.display.HTML object>"
            ],
            "text/html": [
              "<style>\n",
              "    table.wandb td:nth-child(1) { padding: 0 10px; text-align: left ; width: auto;} td:nth-child(2) {text-align: left ; width: 100%}\n",
              "    .wandb-row { display: flex; flex-direction: row; flex-wrap: wrap; justify-content: flex-start; width: 100% }\n",
              "    .wandb-col { display: flex; flex-direction: column; flex-basis: 100%; flex: 1; padding: 10px; }\n",
              "    </style>\n",
              "<div class=\"wandb-row\"><div class=\"wandb-col\"><h3>Run history:</h3><br/><table class=\"wandb\"><tr><td>epoch</td><td>▁▁▂▂▂▂▃▃▃▄▄▄▅▅▅▅▆▆▆▇▇▇▇██</td></tr><tr><td>validation_0-auc</td><td>▁▁▁▁▄▄▄▄▅▅▅▅▅▅▆▆▆▇▇▇▇▇███</td></tr><tr><td>validation_0-logloss</td><td>██▇▇▇▆▆▆▅▅▅▄▄▄▃▃▃▃▂▂▂▂▁▁▁</td></tr></table><br/></div><div class=\"wandb-col\"><h3>Run summary:</h3><br/><table class=\"wandb\"><tr><td>epoch</td><td>24</td></tr></table><br/></div></div>"
            ]
          },
          "metadata": {}
        },
        {
          "output_type": "display_data",
          "data": {
            "text/plain": [
              "<IPython.core.display.HTML object>"
            ],
            "text/html": [
              " View run <strong style=\"color:#cdcd00\">ethereal-sweep-14</strong> at: <a href='https://wandb.ai/tim-w/xgboost-example/runs/6jmvem6s' target=\"_blank\">https://wandb.ai/tim-w/xgboost-example/runs/6jmvem6s</a><br/> View job at <a href='https://wandb.ai/tim-w/xgboost-example/jobs/QXJ0aWZhY3RDb2xsZWN0aW9uOjg1NDY2OTE4/version_details/v21' target=\"_blank\">https://wandb.ai/tim-w/xgboost-example/jobs/QXJ0aWZhY3RDb2xsZWN0aW9uOjg1NDY2OTE4/version_details/v21</a><br/>Synced 5 W&B file(s), 1 media file(s), 6 artifact file(s) and 2 other file(s)"
            ]
          },
          "metadata": {}
        },
        {
          "output_type": "display_data",
          "data": {
            "text/plain": [
              "<IPython.core.display.HTML object>"
            ],
            "text/html": [
              "Find logs at: <code>./wandb/run-20230725_133508-6jmvem6s/logs</code>"
            ]
          },
          "metadata": {}
        },
        {
          "output_type": "stream",
          "name": "stderr",
          "text": [
            "\u001b[34m\u001b[1mwandb\u001b[0m: Agent Starting Run: 7hqv7mj0 with config:\n",
            "\u001b[34m\u001b[1mwandb\u001b[0m: \tcolsample_bytree: 1\n",
            "\u001b[34m\u001b[1mwandb\u001b[0m: \tfeature_list: fls1\n",
            "\u001b[34m\u001b[1mwandb\u001b[0m: \tmax_depth: 16\n"
          ]
        },
        {
          "output_type": "display_data",
          "data": {
            "text/plain": [
              "<IPython.core.display.HTML object>"
            ],
            "text/html": [
              "Tracking run with wandb version 0.15.6"
            ]
          },
          "metadata": {}
        },
        {
          "output_type": "display_data",
          "data": {
            "text/plain": [
              "<IPython.core.display.HTML object>"
            ],
            "text/html": [
              "Run data is saved locally in <code>/content/wandb/run-20230725_133529-7hqv7mj0</code>"
            ]
          },
          "metadata": {}
        },
        {
          "output_type": "display_data",
          "data": {
            "text/plain": [
              "<IPython.core.display.HTML object>"
            ],
            "text/html": [
              "Syncing run <strong><a href='https://wandb.ai/tim-w/xgboost-example/runs/7hqv7mj0' target=\"_blank\">faithful-sweep-15</a></strong> to <a href='https://wandb.ai/tim-w/xgboost-example' target=\"_blank\">Weights & Biases</a> (<a href='https://wandb.me/run' target=\"_blank\">docs</a>)<br/>Sweep page: <a href='https://wandb.ai/tim-w/xgboost-example/sweeps/bsuh7a0v' target=\"_blank\">https://wandb.ai/tim-w/xgboost-example/sweeps/bsuh7a0v</a>"
            ]
          },
          "metadata": {}
        },
        {
          "output_type": "display_data",
          "data": {
            "text/plain": [
              "<IPython.core.display.HTML object>"
            ],
            "text/html": [
              " View project at <a href='https://wandb.ai/tim-w/xgboost-example' target=\"_blank\">https://wandb.ai/tim-w/xgboost-example</a>"
            ]
          },
          "metadata": {}
        },
        {
          "output_type": "display_data",
          "data": {
            "text/plain": [
              "<IPython.core.display.HTML object>"
            ],
            "text/html": [
              " View sweep at <a href='https://wandb.ai/tim-w/xgboost-example/sweeps/bsuh7a0v' target=\"_blank\">https://wandb.ai/tim-w/xgboost-example/sweeps/bsuh7a0v</a>"
            ]
          },
          "metadata": {}
        },
        {
          "output_type": "display_data",
          "data": {
            "text/plain": [
              "<IPython.core.display.HTML object>"
            ],
            "text/html": [
              " View run at <a href='https://wandb.ai/tim-w/xgboost-example/runs/7hqv7mj0' target=\"_blank\">https://wandb.ai/tim-w/xgboost-example/runs/7hqv7mj0</a>"
            ]
          },
          "metadata": {}
        },
        {
          "output_type": "stream",
          "name": "stderr",
          "text": [
            "\u001b[34m\u001b[1mwandb\u001b[0m: \\ 1 of 3 files downloaded...\r\u001b[34m\u001b[1mwandb\u001b[0m:   3 of 3 files downloaded.  \n",
            "`use_label_encoder` is deprecated in 1.7.0.\n",
            "`callbacks` in `fit` method is deprecated for better compatibility with scikit-learn, use `callbacks` in constructor or`set_params` instead.\n"
          ]
        },
        {
          "output_type": "stream",
          "name": "stdout",
          "text": [
            "Warning: No categorical columns found. Calling 'transform' will only return input data.\n",
            "[0]\tvalidation_0-auc:0.76429\tvalidation_0-logloss:0.52617\n",
            "[1]\tvalidation_0-auc:0.76448\tvalidation_0-logloss:0.52409\n",
            "[2]\tvalidation_0-auc:0.76446\tvalidation_0-logloss:0.52207\n",
            "[3]\tvalidation_0-auc:0.76469\tvalidation_0-logloss:0.52011\n",
            "[4]\tvalidation_0-auc:0.76549\tvalidation_0-logloss:0.51820\n",
            "[5]\tvalidation_0-auc:0.76729\tvalidation_0-logloss:0.51634\n",
            "[6]\tvalidation_0-auc:0.76783\tvalidation_0-logloss:0.51452\n",
            "[7]\tvalidation_0-auc:0.76892\tvalidation_0-logloss:0.51276\n",
            "[8]\tvalidation_0-auc:0.76906\tvalidation_0-logloss:0.51106\n",
            "[9]\tvalidation_0-auc:0.76958\tvalidation_0-logloss:0.50940\n",
            "[10]\tvalidation_0-auc:0.76946\tvalidation_0-logloss:0.50779\n",
            "[11]\tvalidation_0-auc:0.76990\tvalidation_0-logloss:0.50621\n",
            "[12]\tvalidation_0-auc:0.76983\tvalidation_0-logloss:0.50468\n",
            "[13]\tvalidation_0-auc:0.77032\tvalidation_0-logloss:0.50317\n",
            "[14]\tvalidation_0-auc:0.77047\tvalidation_0-logloss:0.50171\n",
            "[15]\tvalidation_0-auc:0.77105\tvalidation_0-logloss:0.50026\n",
            "[16]\tvalidation_0-auc:0.77128\tvalidation_0-logloss:0.49884\n",
            "[17]\tvalidation_0-auc:0.77186\tvalidation_0-logloss:0.49746\n",
            "[18]\tvalidation_0-auc:0.77227\tvalidation_0-logloss:0.49612\n",
            "[19]\tvalidation_0-auc:0.77249\tvalidation_0-logloss:0.49480\n",
            "[20]\tvalidation_0-auc:0.77298\tvalidation_0-logloss:0.49352\n",
            "[21]\tvalidation_0-auc:0.77323\tvalidation_0-logloss:0.49226\n",
            "[22]\tvalidation_0-auc:0.77425\tvalidation_0-logloss:0.49099\n",
            "[23]\tvalidation_0-auc:0.77423\tvalidation_0-logloss:0.48979\n",
            "[24]\tvalidation_0-auc:0.77511\tvalidation_0-logloss:0.48858\n"
          ]
        },
        {
          "output_type": "display_data",
          "data": {
            "text/plain": [
              "<IPython.core.display.HTML object>"
            ],
            "text/html": [
              "Waiting for W&B process to finish... <strong style=\"color:green\">(success).</strong>"
            ]
          },
          "metadata": {}
        },
        {
          "output_type": "display_data",
          "data": {
            "text/plain": [
              "<IPython.core.display.HTML object>"
            ],
            "text/html": [
              "<style>\n",
              "    table.wandb td:nth-child(1) { padding: 0 10px; text-align: left ; width: auto;} td:nth-child(2) {text-align: left ; width: 100%}\n",
              "    .wandb-row { display: flex; flex-direction: row; flex-wrap: wrap; justify-content: flex-start; width: 100% }\n",
              "    .wandb-col { display: flex; flex-direction: column; flex-basis: 100%; flex: 1; padding: 10px; }\n",
              "    </style>\n",
              "<div class=\"wandb-row\"><div class=\"wandb-col\"><h3>Run history:</h3><br/><table class=\"wandb\"><tr><td>epoch</td><td>▁▁▂▂▂▂▃▃▃▄▄▄▅▅▅▅▆▆▆▇▇▇▇██</td></tr><tr><td>validation_0-auc</td><td>▁▁▁▁▂▃▃▄▄▄▄▅▅▅▅▅▆▆▆▆▇▇▇▇█</td></tr><tr><td>validation_0-logloss</td><td>██▇▇▇▆▆▆▅▅▅▄▄▄▃▃▃▃▂▂▂▂▁▁▁</td></tr></table><br/></div><div class=\"wandb-col\"><h3>Run summary:</h3><br/><table class=\"wandb\"><tr><td>epoch</td><td>24</td></tr></table><br/></div></div>"
            ]
          },
          "metadata": {}
        },
        {
          "output_type": "display_data",
          "data": {
            "text/plain": [
              "<IPython.core.display.HTML object>"
            ],
            "text/html": [
              " View run <strong style=\"color:#cdcd00\">faithful-sweep-15</strong> at: <a href='https://wandb.ai/tim-w/xgboost-example/runs/7hqv7mj0' target=\"_blank\">https://wandb.ai/tim-w/xgboost-example/runs/7hqv7mj0</a><br/> View job at <a href='https://wandb.ai/tim-w/xgboost-example/jobs/QXJ0aWZhY3RDb2xsZWN0aW9uOjg1NDY2OTE4/version_details/v22' target=\"_blank\">https://wandb.ai/tim-w/xgboost-example/jobs/QXJ0aWZhY3RDb2xsZWN0aW9uOjg1NDY2OTE4/version_details/v22</a><br/>Synced 5 W&B file(s), 1 media file(s), 6 artifact file(s) and 2 other file(s)"
            ]
          },
          "metadata": {}
        },
        {
          "output_type": "display_data",
          "data": {
            "text/plain": [
              "<IPython.core.display.HTML object>"
            ],
            "text/html": [
              "Find logs at: <code>./wandb/run-20230725_133529-7hqv7mj0/logs</code>"
            ]
          },
          "metadata": {}
        },
        {
          "output_type": "stream",
          "name": "stderr",
          "text": [
            "\u001b[34m\u001b[1mwandb\u001b[0m: Agent Starting Run: bp9vbzco with config:\n",
            "\u001b[34m\u001b[1mwandb\u001b[0m: \tcolsample_bytree: 1\n",
            "\u001b[34m\u001b[1mwandb\u001b[0m: \tfeature_list: fls2\n",
            "\u001b[34m\u001b[1mwandb\u001b[0m: \tmax_depth: 2\n"
          ]
        },
        {
          "output_type": "display_data",
          "data": {
            "text/plain": [
              "<IPython.core.display.HTML object>"
            ],
            "text/html": [
              "Tracking run with wandb version 0.15.6"
            ]
          },
          "metadata": {}
        },
        {
          "output_type": "display_data",
          "data": {
            "text/plain": [
              "<IPython.core.display.HTML object>"
            ],
            "text/html": [
              "Run data is saved locally in <code>/content/wandb/run-20230725_133556-bp9vbzco</code>"
            ]
          },
          "metadata": {}
        },
        {
          "output_type": "display_data",
          "data": {
            "text/plain": [
              "<IPython.core.display.HTML object>"
            ],
            "text/html": [
              "Syncing run <strong><a href='https://wandb.ai/tim-w/xgboost-example/runs/bp9vbzco' target=\"_blank\">rich-sweep-16</a></strong> to <a href='https://wandb.ai/tim-w/xgboost-example' target=\"_blank\">Weights & Biases</a> (<a href='https://wandb.me/run' target=\"_blank\">docs</a>)<br/>Sweep page: <a href='https://wandb.ai/tim-w/xgboost-example/sweeps/bsuh7a0v' target=\"_blank\">https://wandb.ai/tim-w/xgboost-example/sweeps/bsuh7a0v</a>"
            ]
          },
          "metadata": {}
        },
        {
          "output_type": "display_data",
          "data": {
            "text/plain": [
              "<IPython.core.display.HTML object>"
            ],
            "text/html": [
              " View project at <a href='https://wandb.ai/tim-w/xgboost-example' target=\"_blank\">https://wandb.ai/tim-w/xgboost-example</a>"
            ]
          },
          "metadata": {}
        },
        {
          "output_type": "display_data",
          "data": {
            "text/plain": [
              "<IPython.core.display.HTML object>"
            ],
            "text/html": [
              " View sweep at <a href='https://wandb.ai/tim-w/xgboost-example/sweeps/bsuh7a0v' target=\"_blank\">https://wandb.ai/tim-w/xgboost-example/sweeps/bsuh7a0v</a>"
            ]
          },
          "metadata": {}
        },
        {
          "output_type": "display_data",
          "data": {
            "text/plain": [
              "<IPython.core.display.HTML object>"
            ],
            "text/html": [
              " View run at <a href='https://wandb.ai/tim-w/xgboost-example/runs/bp9vbzco' target=\"_blank\">https://wandb.ai/tim-w/xgboost-example/runs/bp9vbzco</a>"
            ]
          },
          "metadata": {}
        },
        {
          "output_type": "stream",
          "name": "stderr",
          "text": [
            "\u001b[34m\u001b[1mwandb\u001b[0m: \\ 1 of 3 files downloaded...\r\u001b[34m\u001b[1mwandb\u001b[0m:   3 of 3 files downloaded.  \n"
          ]
        },
        {
          "output_type": "stream",
          "name": "stdout",
          "text": [
            "Warning: No categorical columns found. Calling 'transform' will only return input data.\n",
            "[0]\tvalidation_0-auc:0.70739\tvalidation_0-logloss:0.52637\n"
          ]
        },
        {
          "output_type": "stream",
          "name": "stderr",
          "text": [
            "`use_label_encoder` is deprecated in 1.7.0.\n",
            "`callbacks` in `fit` method is deprecated for better compatibility with scikit-learn, use `callbacks` in constructor or`set_params` instead.\n"
          ]
        },
        {
          "output_type": "stream",
          "name": "stdout",
          "text": [
            "[1]\tvalidation_0-auc:0.70739\tvalidation_0-logloss:0.52449\n",
            "[2]\tvalidation_0-auc:0.70739\tvalidation_0-logloss:0.52266\n",
            "[3]\tvalidation_0-auc:0.70739\tvalidation_0-logloss:0.52089\n",
            "[4]\tvalidation_0-auc:0.70739\tvalidation_0-logloss:0.51918\n",
            "[5]\tvalidation_0-auc:0.70739\tvalidation_0-logloss:0.51751\n",
            "[6]\tvalidation_0-auc:0.70739\tvalidation_0-logloss:0.51589\n",
            "[7]\tvalidation_0-auc:0.70739\tvalidation_0-logloss:0.51432\n",
            "[8]\tvalidation_0-auc:0.70739\tvalidation_0-logloss:0.51279\n",
            "[9]\tvalidation_0-auc:0.70739\tvalidation_0-logloss:0.51130\n",
            "[10]\tvalidation_0-auc:0.70739\tvalidation_0-logloss:0.50985\n",
            "[11]\tvalidation_0-auc:0.70739\tvalidation_0-logloss:0.50844\n",
            "[12]\tvalidation_0-auc:0.75123\tvalidation_0-logloss:0.50702\n",
            "[13]\tvalidation_0-auc:0.75123\tvalidation_0-logloss:0.50564\n",
            "[14]\tvalidation_0-auc:0.75123\tvalidation_0-logloss:0.50429\n",
            "[15]\tvalidation_0-auc:0.75123\tvalidation_0-logloss:0.50297\n",
            "[16]\tvalidation_0-auc:0.75123\tvalidation_0-logloss:0.50169\n",
            "[17]\tvalidation_0-auc:0.75123\tvalidation_0-logloss:0.50043\n",
            "[18]\tvalidation_0-auc:0.75123\tvalidation_0-logloss:0.49921\n",
            "[19]\tvalidation_0-auc:0.75123\tvalidation_0-logloss:0.49801\n",
            "[20]\tvalidation_0-auc:0.75123\tvalidation_0-logloss:0.49685\n",
            "[21]\tvalidation_0-auc:0.75544\tvalidation_0-logloss:0.49570\n",
            "[22]\tvalidation_0-auc:0.75544\tvalidation_0-logloss:0.49459\n",
            "[23]\tvalidation_0-auc:0.75544\tvalidation_0-logloss:0.49350\n",
            "[24]\tvalidation_0-auc:0.75544\tvalidation_0-logloss:0.49243\n"
          ]
        },
        {
          "output_type": "display_data",
          "data": {
            "text/plain": [
              "<IPython.core.display.HTML object>"
            ],
            "text/html": [
              "Waiting for W&B process to finish... <strong style=\"color:green\">(success).</strong>"
            ]
          },
          "metadata": {}
        },
        {
          "output_type": "display_data",
          "data": {
            "text/plain": [
              "<IPython.core.display.HTML object>"
            ],
            "text/html": [
              "<style>\n",
              "    table.wandb td:nth-child(1) { padding: 0 10px; text-align: left ; width: auto;} td:nth-child(2) {text-align: left ; width: 100%}\n",
              "    .wandb-row { display: flex; flex-direction: row; flex-wrap: wrap; justify-content: flex-start; width: 100% }\n",
              "    .wandb-col { display: flex; flex-direction: column; flex-basis: 100%; flex: 1; padding: 10px; }\n",
              "    </style>\n",
              "<div class=\"wandb-row\"><div class=\"wandb-col\"><h3>Run history:</h3><br/><table class=\"wandb\"><tr><td>epoch</td><td>▁▁▂▂▂▂▃▃▃▄▄▄▅▅▅▅▆▆▆▇▇▇▇██</td></tr><tr><td>validation_0-auc</td><td>▁▁▁▁▁▁▁▁▁▁▁▁▇▇▇▇▇▇▇▇▇████</td></tr><tr><td>validation_0-logloss</td><td>██▇▇▇▆▆▆▅▅▅▄▄▄▃▃▃▃▂▂▂▂▁▁▁</td></tr></table><br/></div><div class=\"wandb-col\"><h3>Run summary:</h3><br/><table class=\"wandb\"><tr><td>epoch</td><td>24</td></tr></table><br/></div></div>"
            ]
          },
          "metadata": {}
        },
        {
          "output_type": "display_data",
          "data": {
            "text/plain": [
              "<IPython.core.display.HTML object>"
            ],
            "text/html": [
              " View run <strong style=\"color:#cdcd00\">rich-sweep-16</strong> at: <a href='https://wandb.ai/tim-w/xgboost-example/runs/bp9vbzco' target=\"_blank\">https://wandb.ai/tim-w/xgboost-example/runs/bp9vbzco</a><br/> View job at <a href='https://wandb.ai/tim-w/xgboost-example/jobs/QXJ0aWZhY3RDb2xsZWN0aW9uOjg1NDY2OTE4/version_details/v23' target=\"_blank\">https://wandb.ai/tim-w/xgboost-example/jobs/QXJ0aWZhY3RDb2xsZWN0aW9uOjg1NDY2OTE4/version_details/v23</a><br/>Synced 5 W&B file(s), 1 media file(s), 6 artifact file(s) and 2 other file(s)"
            ]
          },
          "metadata": {}
        },
        {
          "output_type": "display_data",
          "data": {
            "text/plain": [
              "<IPython.core.display.HTML object>"
            ],
            "text/html": [
              "Find logs at: <code>./wandb/run-20230725_133556-bp9vbzco/logs</code>"
            ]
          },
          "metadata": {}
        },
        {
          "output_type": "stream",
          "name": "stderr",
          "text": [
            "\u001b[34m\u001b[1mwandb\u001b[0m: Agent Starting Run: vfmh3zwp with config:\n",
            "\u001b[34m\u001b[1mwandb\u001b[0m: \tcolsample_bytree: 1\n",
            "\u001b[34m\u001b[1mwandb\u001b[0m: \tfeature_list: fls2\n",
            "\u001b[34m\u001b[1mwandb\u001b[0m: \tmax_depth: 4\n"
          ]
        },
        {
          "output_type": "display_data",
          "data": {
            "text/plain": [
              "<IPython.core.display.HTML object>"
            ],
            "text/html": [
              "Tracking run with wandb version 0.15.6"
            ]
          },
          "metadata": {}
        },
        {
          "output_type": "display_data",
          "data": {
            "text/plain": [
              "<IPython.core.display.HTML object>"
            ],
            "text/html": [
              "Run data is saved locally in <code>/content/wandb/run-20230725_133621-vfmh3zwp</code>"
            ]
          },
          "metadata": {}
        },
        {
          "output_type": "display_data",
          "data": {
            "text/plain": [
              "<IPython.core.display.HTML object>"
            ],
            "text/html": [
              "Syncing run <strong><a href='https://wandb.ai/tim-w/xgboost-example/runs/vfmh3zwp' target=\"_blank\">pleasant-sweep-17</a></strong> to <a href='https://wandb.ai/tim-w/xgboost-example' target=\"_blank\">Weights & Biases</a> (<a href='https://wandb.me/run' target=\"_blank\">docs</a>)<br/>Sweep page: <a href='https://wandb.ai/tim-w/xgboost-example/sweeps/bsuh7a0v' target=\"_blank\">https://wandb.ai/tim-w/xgboost-example/sweeps/bsuh7a0v</a>"
            ]
          },
          "metadata": {}
        },
        {
          "output_type": "display_data",
          "data": {
            "text/plain": [
              "<IPython.core.display.HTML object>"
            ],
            "text/html": [
              " View project at <a href='https://wandb.ai/tim-w/xgboost-example' target=\"_blank\">https://wandb.ai/tim-w/xgboost-example</a>"
            ]
          },
          "metadata": {}
        },
        {
          "output_type": "display_data",
          "data": {
            "text/plain": [
              "<IPython.core.display.HTML object>"
            ],
            "text/html": [
              " View sweep at <a href='https://wandb.ai/tim-w/xgboost-example/sweeps/bsuh7a0v' target=\"_blank\">https://wandb.ai/tim-w/xgboost-example/sweeps/bsuh7a0v</a>"
            ]
          },
          "metadata": {}
        },
        {
          "output_type": "display_data",
          "data": {
            "text/plain": [
              "<IPython.core.display.HTML object>"
            ],
            "text/html": [
              " View run at <a href='https://wandb.ai/tim-w/xgboost-example/runs/vfmh3zwp' target=\"_blank\">https://wandb.ai/tim-w/xgboost-example/runs/vfmh3zwp</a>"
            ]
          },
          "metadata": {}
        },
        {
          "output_type": "stream",
          "name": "stderr",
          "text": [
            "\u001b[34m\u001b[1mwandb\u001b[0m: \\ 1 of 3 files downloaded...\r\u001b[34m\u001b[1mwandb\u001b[0m:   3 of 3 files downloaded.  \n",
            "`use_label_encoder` is deprecated in 1.7.0.\n",
            "`callbacks` in `fit` method is deprecated for better compatibility with scikit-learn, use `callbacks` in constructor or`set_params` instead.\n"
          ]
        },
        {
          "output_type": "stream",
          "name": "stdout",
          "text": [
            "Warning: No categorical columns found. Calling 'transform' will only return input data.\n",
            "[0]\tvalidation_0-auc:0.75751\tvalidation_0-logloss:0.52623\n",
            "[1]\tvalidation_0-auc:0.75751\tvalidation_0-logloss:0.52421\n",
            "[2]\tvalidation_0-auc:0.75751\tvalidation_0-logloss:0.52225\n",
            "[3]\tvalidation_0-auc:0.75751\tvalidation_0-logloss:0.52034\n",
            "[4]\tvalidation_0-auc:0.76390\tvalidation_0-logloss:0.51848\n",
            "[5]\tvalidation_0-auc:0.76390\tvalidation_0-logloss:0.51668\n",
            "[6]\tvalidation_0-auc:0.76390\tvalidation_0-logloss:0.51491\n",
            "[7]\tvalidation_0-auc:0.76530\tvalidation_0-logloss:0.51321\n",
            "[8]\tvalidation_0-auc:0.76606\tvalidation_0-logloss:0.51156\n",
            "[9]\tvalidation_0-auc:0.76644\tvalidation_0-logloss:0.50993\n",
            "[10]\tvalidation_0-auc:0.76676\tvalidation_0-logloss:0.50836\n",
            "[11]\tvalidation_0-auc:0.76692\tvalidation_0-logloss:0.50680\n",
            "[12]\tvalidation_0-auc:0.76762\tvalidation_0-logloss:0.50531\n",
            "[13]\tvalidation_0-auc:0.76761\tvalidation_0-logloss:0.50386\n",
            "[14]\tvalidation_0-auc:0.76915\tvalidation_0-logloss:0.50244\n",
            "[15]\tvalidation_0-auc:0.76929\tvalidation_0-logloss:0.50103\n",
            "[16]\tvalidation_0-auc:0.76928\tvalidation_0-logloss:0.49967\n",
            "[17]\tvalidation_0-auc:0.77251\tvalidation_0-logloss:0.49830\n",
            "[18]\tvalidation_0-auc:0.77281\tvalidation_0-logloss:0.49696\n",
            "[19]\tvalidation_0-auc:0.77311\tvalidation_0-logloss:0.49566\n",
            "[20]\tvalidation_0-auc:0.77308\tvalidation_0-logloss:0.49438\n",
            "[21]\tvalidation_0-auc:0.77299\tvalidation_0-logloss:0.49313\n",
            "[22]\tvalidation_0-auc:0.77400\tvalidation_0-logloss:0.49192\n",
            "[23]\tvalidation_0-auc:0.77421\tvalidation_0-logloss:0.49073\n",
            "[24]\tvalidation_0-auc:0.77452\tvalidation_0-logloss:0.48956\n"
          ]
        },
        {
          "output_type": "display_data",
          "data": {
            "text/plain": [
              "<IPython.core.display.HTML object>"
            ],
            "text/html": [
              "Waiting for W&B process to finish... <strong style=\"color:green\">(success).</strong>"
            ]
          },
          "metadata": {}
        },
        {
          "output_type": "display_data",
          "data": {
            "text/plain": [
              "<IPython.core.display.HTML object>"
            ],
            "text/html": [
              "<style>\n",
              "    table.wandb td:nth-child(1) { padding: 0 10px; text-align: left ; width: auto;} td:nth-child(2) {text-align: left ; width: 100%}\n",
              "    .wandb-row { display: flex; flex-direction: row; flex-wrap: wrap; justify-content: flex-start; width: 100% }\n",
              "    .wandb-col { display: flex; flex-direction: column; flex-basis: 100%; flex: 1; padding: 10px; }\n",
              "    </style>\n",
              "<div class=\"wandb-row\"><div class=\"wandb-col\"><h3>Run history:</h3><br/><table class=\"wandb\"><tr><td>epoch</td><td>▁▁▂▂▂▂▃▃▃▄▄▄▅▅▅▅▆▆▆▇▇▇▇██</td></tr><tr><td>validation_0-auc</td><td>▁▁▁▁▄▄▄▄▅▅▅▅▅▅▆▆▆▇▇▇▇▇███</td></tr><tr><td>validation_0-logloss</td><td>██▇▇▇▆▆▆▅▅▅▄▄▄▃▃▃▃▂▂▂▂▁▁▁</td></tr></table><br/></div><div class=\"wandb-col\"><h3>Run summary:</h3><br/><table class=\"wandb\"><tr><td>epoch</td><td>24</td></tr></table><br/></div></div>"
            ]
          },
          "metadata": {}
        },
        {
          "output_type": "display_data",
          "data": {
            "text/plain": [
              "<IPython.core.display.HTML object>"
            ],
            "text/html": [
              " View run <strong style=\"color:#cdcd00\">pleasant-sweep-17</strong> at: <a href='https://wandb.ai/tim-w/xgboost-example/runs/vfmh3zwp' target=\"_blank\">https://wandb.ai/tim-w/xgboost-example/runs/vfmh3zwp</a><br/> View job at <a href='https://wandb.ai/tim-w/xgboost-example/jobs/QXJ0aWZhY3RDb2xsZWN0aW9uOjg1NDY2OTE4/version_details/v24' target=\"_blank\">https://wandb.ai/tim-w/xgboost-example/jobs/QXJ0aWZhY3RDb2xsZWN0aW9uOjg1NDY2OTE4/version_details/v24</a><br/>Synced 5 W&B file(s), 1 media file(s), 6 artifact file(s) and 2 other file(s)"
            ]
          },
          "metadata": {}
        },
        {
          "output_type": "display_data",
          "data": {
            "text/plain": [
              "<IPython.core.display.HTML object>"
            ],
            "text/html": [
              "Find logs at: <code>./wandb/run-20230725_133621-vfmh3zwp/logs</code>"
            ]
          },
          "metadata": {}
        },
        {
          "output_type": "stream",
          "name": "stderr",
          "text": [
            "\u001b[34m\u001b[1mwandb\u001b[0m: Agent Starting Run: v3sl15kd with config:\n",
            "\u001b[34m\u001b[1mwandb\u001b[0m: \tcolsample_bytree: 1\n",
            "\u001b[34m\u001b[1mwandb\u001b[0m: \tfeature_list: fls2\n",
            "\u001b[34m\u001b[1mwandb\u001b[0m: \tmax_depth: 16\n"
          ]
        },
        {
          "output_type": "display_data",
          "data": {
            "text/plain": [
              "<IPython.core.display.HTML object>"
            ],
            "text/html": [
              "Tracking run with wandb version 0.15.6"
            ]
          },
          "metadata": {}
        },
        {
          "output_type": "display_data",
          "data": {
            "text/plain": [
              "<IPython.core.display.HTML object>"
            ],
            "text/html": [
              "Run data is saved locally in <code>/content/wandb/run-20230725_133642-v3sl15kd</code>"
            ]
          },
          "metadata": {}
        },
        {
          "output_type": "display_data",
          "data": {
            "text/plain": [
              "<IPython.core.display.HTML object>"
            ],
            "text/html": [
              "Syncing run <strong><a href='https://wandb.ai/tim-w/xgboost-example/runs/v3sl15kd' target=\"_blank\">happy-sweep-18</a></strong> to <a href='https://wandb.ai/tim-w/xgboost-example' target=\"_blank\">Weights & Biases</a> (<a href='https://wandb.me/run' target=\"_blank\">docs</a>)<br/>Sweep page: <a href='https://wandb.ai/tim-w/xgboost-example/sweeps/bsuh7a0v' target=\"_blank\">https://wandb.ai/tim-w/xgboost-example/sweeps/bsuh7a0v</a>"
            ]
          },
          "metadata": {}
        },
        {
          "output_type": "display_data",
          "data": {
            "text/plain": [
              "<IPython.core.display.HTML object>"
            ],
            "text/html": [
              " View project at <a href='https://wandb.ai/tim-w/xgboost-example' target=\"_blank\">https://wandb.ai/tim-w/xgboost-example</a>"
            ]
          },
          "metadata": {}
        },
        {
          "output_type": "display_data",
          "data": {
            "text/plain": [
              "<IPython.core.display.HTML object>"
            ],
            "text/html": [
              " View sweep at <a href='https://wandb.ai/tim-w/xgboost-example/sweeps/bsuh7a0v' target=\"_blank\">https://wandb.ai/tim-w/xgboost-example/sweeps/bsuh7a0v</a>"
            ]
          },
          "metadata": {}
        },
        {
          "output_type": "display_data",
          "data": {
            "text/plain": [
              "<IPython.core.display.HTML object>"
            ],
            "text/html": [
              " View run at <a href='https://wandb.ai/tim-w/xgboost-example/runs/v3sl15kd' target=\"_blank\">https://wandb.ai/tim-w/xgboost-example/runs/v3sl15kd</a>"
            ]
          },
          "metadata": {}
        },
        {
          "output_type": "stream",
          "name": "stderr",
          "text": [
            "\u001b[34m\u001b[1mwandb\u001b[0m: \\ 1 of 3 files downloaded...\r\u001b[34m\u001b[1mwandb\u001b[0m:   3 of 3 files downloaded.  \n",
            "`use_label_encoder` is deprecated in 1.7.0.\n",
            "`callbacks` in `fit` method is deprecated for better compatibility with scikit-learn, use `callbacks` in constructor or`set_params` instead.\n"
          ]
        },
        {
          "output_type": "stream",
          "name": "stdout",
          "text": [
            "Warning: No categorical columns found. Calling 'transform' will only return input data.\n",
            "[0]\tvalidation_0-auc:0.76429\tvalidation_0-logloss:0.52617\n",
            "[1]\tvalidation_0-auc:0.76448\tvalidation_0-logloss:0.52409\n",
            "[2]\tvalidation_0-auc:0.76446\tvalidation_0-logloss:0.52207\n",
            "[3]\tvalidation_0-auc:0.76469\tvalidation_0-logloss:0.52011\n",
            "[4]\tvalidation_0-auc:0.76549\tvalidation_0-logloss:0.51820\n",
            "[5]\tvalidation_0-auc:0.76729\tvalidation_0-logloss:0.51634\n",
            "[6]\tvalidation_0-auc:0.76783\tvalidation_0-logloss:0.51452\n",
            "[7]\tvalidation_0-auc:0.76892\tvalidation_0-logloss:0.51276\n",
            "[8]\tvalidation_0-auc:0.76906\tvalidation_0-logloss:0.51106\n",
            "[9]\tvalidation_0-auc:0.76958\tvalidation_0-logloss:0.50940\n",
            "[10]\tvalidation_0-auc:0.76946\tvalidation_0-logloss:0.50779\n",
            "[11]\tvalidation_0-auc:0.76990\tvalidation_0-logloss:0.50621\n",
            "[12]\tvalidation_0-auc:0.76983\tvalidation_0-logloss:0.50468\n",
            "[13]\tvalidation_0-auc:0.77032\tvalidation_0-logloss:0.50317\n",
            "[14]\tvalidation_0-auc:0.77047\tvalidation_0-logloss:0.50171\n",
            "[15]\tvalidation_0-auc:0.77105\tvalidation_0-logloss:0.50026\n",
            "[16]\tvalidation_0-auc:0.77128\tvalidation_0-logloss:0.49884\n",
            "[17]\tvalidation_0-auc:0.77186\tvalidation_0-logloss:0.49746\n",
            "[18]\tvalidation_0-auc:0.77227\tvalidation_0-logloss:0.49612\n",
            "[19]\tvalidation_0-auc:0.77249\tvalidation_0-logloss:0.49480\n",
            "[20]\tvalidation_0-auc:0.77298\tvalidation_0-logloss:0.49352\n",
            "[21]\tvalidation_0-auc:0.77323\tvalidation_0-logloss:0.49226\n",
            "[22]\tvalidation_0-auc:0.77425\tvalidation_0-logloss:0.49099\n",
            "[23]\tvalidation_0-auc:0.77423\tvalidation_0-logloss:0.48979\n",
            "[24]\tvalidation_0-auc:0.77511\tvalidation_0-logloss:0.48858\n"
          ]
        },
        {
          "output_type": "display_data",
          "data": {
            "text/plain": [
              "<IPython.core.display.HTML object>"
            ],
            "text/html": [
              "Waiting for W&B process to finish... <strong style=\"color:green\">(success).</strong>"
            ]
          },
          "metadata": {}
        },
        {
          "output_type": "display_data",
          "data": {
            "text/plain": [
              "<IPython.core.display.HTML object>"
            ],
            "text/html": [
              "<style>\n",
              "    table.wandb td:nth-child(1) { padding: 0 10px; text-align: left ; width: auto;} td:nth-child(2) {text-align: left ; width: 100%}\n",
              "    .wandb-row { display: flex; flex-direction: row; flex-wrap: wrap; justify-content: flex-start; width: 100% }\n",
              "    .wandb-col { display: flex; flex-direction: column; flex-basis: 100%; flex: 1; padding: 10px; }\n",
              "    </style>\n",
              "<div class=\"wandb-row\"><div class=\"wandb-col\"><h3>Run history:</h3><br/><table class=\"wandb\"><tr><td>epoch</td><td>▁▁▂▂▂▂▃▃▃▄▄▄▅▅▅▅▆▆▆▇▇▇▇██</td></tr><tr><td>validation_0-auc</td><td>▁▁▁▁▂▃▃▄▄▄▄▅▅▅▅▅▆▆▆▆▇▇▇▇█</td></tr><tr><td>validation_0-logloss</td><td>██▇▇▇▆▆▆▅▅▅▄▄▄▃▃▃▃▂▂▂▂▁▁▁</td></tr></table><br/></div><div class=\"wandb-col\"><h3>Run summary:</h3><br/><table class=\"wandb\"><tr><td>epoch</td><td>24</td></tr></table><br/></div></div>"
            ]
          },
          "metadata": {}
        },
        {
          "output_type": "display_data",
          "data": {
            "text/plain": [
              "<IPython.core.display.HTML object>"
            ],
            "text/html": [
              " View run <strong style=\"color:#cdcd00\">happy-sweep-18</strong> at: <a href='https://wandb.ai/tim-w/xgboost-example/runs/v3sl15kd' target=\"_blank\">https://wandb.ai/tim-w/xgboost-example/runs/v3sl15kd</a><br/> View job at <a href='https://wandb.ai/tim-w/xgboost-example/jobs/QXJ0aWZhY3RDb2xsZWN0aW9uOjg1NDY2OTE4/version_details/v25' target=\"_blank\">https://wandb.ai/tim-w/xgboost-example/jobs/QXJ0aWZhY3RDb2xsZWN0aW9uOjg1NDY2OTE4/version_details/v25</a><br/>Synced 5 W&B file(s), 1 media file(s), 6 artifact file(s) and 2 other file(s)"
            ]
          },
          "metadata": {}
        },
        {
          "output_type": "display_data",
          "data": {
            "text/plain": [
              "<IPython.core.display.HTML object>"
            ],
            "text/html": [
              "Find logs at: <code>./wandb/run-20230725_133642-v3sl15kd/logs</code>"
            ]
          },
          "metadata": {}
        },
        {
          "output_type": "stream",
          "name": "stderr",
          "text": [
            "\u001b[34m\u001b[1mwandb\u001b[0m: Sweep Agent: Waiting for job.\n",
            "\u001b[34m\u001b[1mwandb\u001b[0m: Sweep Agent: Exiting.\n"
          ]
        }
      ]
    },
    {
      "cell_type": "markdown",
      "source": [
        "## Use API to interact with W&B"
      ],
      "metadata": {
        "id": "pFEJ7WfMBFqy"
      }
    },
    {
      "cell_type": "code",
      "source": [
        "import pandas as pd\n",
        "import wandb\n",
        "api = wandb.Api()\n",
        "sweep = api.sweep(f\"{entity}/{project_name}/{sweep_id}\")\n",
        "temp_data = []\n",
        "for r in sweep.runs:\n",
        " temp_dict = dict(**dict(r.summary), **r.config)\n",
        " temp_dict[\"run_id\"] = r.id\n",
        " temp_dict[\"run_name\"] = r.name\n",
        " temp_data.append( temp_dict)\n",
        "df = pd.DataFrame(temp_data)\n",
        "df.set_index(\"run_id\", inplace = True)\n",
        "best_run_id = sweep.best_run().id\n",
        "best_run = api.run(f\"{entity}/{project_name}/{best_run_id}\")\n",
        "df.loc[best_run_id]"
      ],
      "metadata": {
        "colab": {
          "base_uri": "https://localhost:8080/"
        },
        "id": "UtYHFAs6BHJK",
        "outputId": "01b8fe3d-3c79-4cf3-b955-cc4cd50f6614"
      },
      "execution_count": null,
      "outputs": [
        {
          "output_type": "stream",
          "name": "stderr",
          "text": [
            "\u001b[34m\u001b[1mwandb\u001b[0m: Sorting runs by +summary_metrics.validation_0-logloss.min\n"
          ]
        },
        {
          "output_type": "execute_result",
          "data": {
            "text/plain": [
              "_wandb                                                         {'runtime': 2}\n",
              "_runtime                                                             2.470428\n",
              "_timestamp                                                  1661181702.512003\n",
              "validation_0-auc                                             {'max': 0.77826}\n",
              "validation_0-logloss                                        {'min': 0.439419}\n",
              "Feature Importance_table    {'_type': 'table-file', 'ncols': 2, 'nrows': 1...\n",
              "_step                                                                      25\n",
              "epoch                                                                      24\n",
              "gamma                                                                       1\n",
              "learner                     {'metrics': ['auc', 'logloss'], 'objective': {...\n",
              "nthread                                                                    24\n",
              "version                                                             [1, 3, 3]\n",
              "max_depth                                                                   3\n",
              "objective                                                     binary:logistic\n",
              "reg_alpha                                                                   0\n",
              "base_score                                                           0.221204\n",
              "max_depths                                                                  2\n",
              "reg_lambda                                                                  0\n",
              "eval_metric                                                    [auc, logloss]\n",
              "tree_method                                                              hist\n",
              "n_estimators                                                               25\n",
              "random_state                                                               42\n",
              "learning_rate                                                            0.05\n",
              "colsample_bytree                                                          1.0\n",
              "min_child_weight                                                          100\n",
              "run_name                                                        trim-sweep-19\n",
              "Name: 2fogpz93, dtype: object"
            ]
          },
          "metadata": {},
          "execution_count": 16
        }
      ]
    },
    {
      "cell_type": "code",
      "source": [],
      "metadata": {
        "id": "Kv-YTHk7PxSd"
      },
      "execution_count": null,
      "outputs": []
    }
  ]
}