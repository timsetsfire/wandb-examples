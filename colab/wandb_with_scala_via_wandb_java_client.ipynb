{
  "cells": [
    {
      "cell_type": "markdown",
      "metadata": {
        "id": "view-in-github",
        "colab_type": "text"
      },
      "source": [
        "<a href=\"https://colab.research.google.com/github/timsetsfire/wandb-examples/blob/main/colab/wandb_with_scala_via_wandb_java_client.ipynb\" target=\"_parent\"><img src=\"https://colab.research.google.com/assets/colab-badge.svg\" alt=\"Open In Colab\"/></a>"
      ]
    },
    {
      "cell_type": "markdown",
      "metadata": {
        "id": "up2G8zDbhsEN"
      },
      "source": [
        "# WandB with Scala\n",
        "\n",
        "This notebook is meant to be run in google colab"
      ]
    },
    {
      "cell_type": "code",
      "source": [
        "%%sh\n",
        "curl https://pjreddie.com/media/files/mnist_train.csv > mnist_train.csv\n",
        "curl https://pjreddie.com/media/files/mnist_test.csv > mnist_test.csv\n",
        "pip install wandb[grpc]==0.10.32 -q --upgrade\n",
        "git clone https://github.com/wandb/client-java.git\n",
        "wandb login e5643b9c64e9d3343ca45748ff06b8a6267738bb\n",
        "apt-get install maven &> /dev/null\n",
        "cd client-java "
      ],
      "metadata": {
        "id": "d-aSrrIYs6ew"
      },
      "execution_count": null,
      "outputs": []
    },
    {
      "cell_type": "code",
      "source": [
        "%%sh\n",
        "cd client-java\n",
        "make install\n",
        "make build"
      ],
      "metadata": {
        "id": "dqsm0_shJwIK"
      },
      "execution_count": null,
      "outputs": []
    },
    {
      "cell_type": "markdown",
      "metadata": {
        "id": "sL1Vq6r6J6dA"
      },
      "source": [
        "## Install the Scala Kernel\n",
        "If you get a \"scala\" kernel not recognized warning when loading up the notebook for the first time, start by running the two cells below. Once you are done **reload the page** to load the notebook in the installed Scala kernel."
      ]
    },
    {
      "cell_type": "code",
      "execution_count": null,
      "metadata": {
        "colab": {
          "base_uri": "https://localhost:8080/"
        },
        "id": "RoCcdvTCAqeR",
        "outputId": "860a45a5-bd36-4503-f846-75b594e42703"
      },
      "outputs": [
        {
          "output_type": "stream",
          "name": "stdout",
          "text": [
            "  % Total    % Received % Xferd  Average Speed   Time    Time     Time  Current\n",
            "                                 Dload  Upload   Total   Spent    Left  Speed\n",
            "  0     0    0     0    0     0      0      0 --:--:-- --:--:-- --:--:--     0\n",
            "  0     0    0     0    0     0      0      0 --:--:-- --:--:-- --:--:--     0\n",
            "100 42577  100 42577    0     0  65604      0 --:--:-- --:--:-- --:--:-- 65604\n"
          ]
        },
        {
          "output_type": "execute_result",
          "data": {
            "text/plain": []
          },
          "metadata": {},
          "execution_count": 2
        }
      ],
      "source": [
        "%%shell\n",
        "SCALA_VERSION=2.12.8 ALMOND_VERSION=0.3.0+16-548dc10f-SNAPSHOT\n",
        "curl -Lo coursier https://git.io/coursier-cli\n",
        "chmod +x coursier\n",
        "./coursier bootstrap \\\n",
        "    -r jitpack -r sonatype:snapshots \\\n",
        "    -i user -I user:sh.almond:scala-kernel-api_$SCALA_VERSION:$ALMOND_VERSION \\\n",
        "    sh.almond:scala-kernel_$SCALA_VERSION:$ALMOND_VERSION \\\n",
        "    --sources --default=true \\\n",
        "    -o almond-snapshot --embed-files=false &> /dev/null\n",
        "rm coursier\n",
        "./almond-snapshot --install --global --force &> /dev/null\n",
        "rm almond-snapshot"
      ]
    },
    {
      "cell_type": "code",
      "execution_count": null,
      "metadata": {
        "id": "BZchIo9sArF4",
        "colab": {
          "base_uri": "https://localhost:8080/"
        },
        "outputId": "3eef0030-9772-4765-c759-9c2bfce89f6e"
      },
      "outputs": [
        {
          "output_type": "execute_result",
          "data": {
            "text/plain": []
          },
          "metadata": {},
          "execution_count": 3
        }
      ],
      "source": [
        "%%shell\n",
        "echo \"{\n",
        "  \\\"language\\\" : \\\"scala\\\",\n",
        "  \\\"display_name\\\" : \\\"Scala\\\",\n",
        "  \\\"argv\\\" : [\n",
        "    \\\"bash\\\",\n",
        "    \\\"-c\\\",\n",
        "    \\\"env LD_PRELOAD=/usr/lib/x86_64-linux-gnu/libpython3.6m.so:\\$LD_PRELOAD java -jar /usr/local/share/jupyter/kernels/scala/launcher.jar --connection-file {connection_file}\\\"\n",
        "  ]\n",
        "}\" > /usr/local/share/jupyter/kernels/scala/kernel.json"
      ]
    },
    {
      "cell_type": "markdown",
      "source": [
        "## Refresh your browser at this point"
      ],
      "metadata": {
        "id": "xPA_UWk5K8WR"
      }
    },
    {
      "cell_type": "code",
      "source": [
        "val clientJar = \"/content/client-java/target/client-ng-java-1.0-SNAPSHOT-jar-with-dependencies.jar\"\n",
        "val path = java.nio.file.FileSystems.getDefault().getPath(clientJar)\n",
        "val x = ammonite.ops.Path(path)\n",
        "interp.load.cp(x)"
      ],
      "metadata": {
        "id": "Kp50gE7jn2Gb",
        "colab": {
          "base_uri": "https://localhost:8080/"
        },
        "outputId": "08ca8827-0c2b-4240-9a38-c7080c5dd79d"
      },
      "execution_count": null,
      "outputs": [
        {
          "output_type": "execute_result",
          "data": {
            "text/plain": [
              "\u001b[36mclientJar\u001b[39m: \u001b[32mString\u001b[39m = \u001b[32m\"/content/client-java/target/client-ng-java-1.0-SNAPSHOT-jar-with-dependencies.jar\"\u001b[39m\n",
              "\u001b[36mpath\u001b[39m: \u001b[32mjava\u001b[39m.\u001b[32mnio\u001b[39m.\u001b[32mfile\u001b[39m.\u001b[32mPath\u001b[39m = /content/client-java/target/client-ng-java-1.0-SNAPSHOT-jar-with-dependencies.jar\n",
              "\u001b[36mx\u001b[39m: \u001b[32mos\u001b[39m.\u001b[32mPath\u001b[39m = root/\u001b[32m'content\u001b[39m/\u001b[32m\"client-java\"\u001b[39m/\u001b[32m'target\u001b[39m/\u001b[32m\"client-ng-java-1.0-SNAPSHOT-jar-with-dependencies.jar\"\u001b[39m"
            ]
          },
          "metadata": {},
          "execution_count": 1
        }
      ]
    },
    {
      "cell_type": "markdown",
      "metadata": {
        "id": "kQe78pN0OSuq"
      },
      "source": [
        "## Download Necessary Libraries\n",
        "\n",
        "Using import as below we download all libraries necessary to create the MNist Model.  This may take a while."
      ]
    },
    {
      "cell_type": "code",
      "execution_count": null,
      "metadata": {
        "id": "a9z0PxRg_iOp"
      },
      "outputs": [],
      "source": [
        "import $ivy.`org.nd4j:nd4j-native-platform:1.0.0-M2`\n",
        "import $ivy.`org.deeplearning4j:deeplearning4j-datasets:1.0.0-M2`\n",
        "import $ivy.`org.deeplearning4j:deeplearning4j-core:1.0.0-M2`\n",
        "import $ivy.`org.nd4j:nd4s_2.11:1.0.0-beta7`\n",
        "import $ivy.`org.nd4j:nd4j-api:1.0.0-M2`\n",
        "import $ivy.`org.nd4j:nd4j-native-platform:1.0.0-M2`\n",
        "// import $ivy.`org.datavec:datavec-api:1.0.0-M2`\n",
        "// import $ivy.`org.datavec:datavec-data-image:1.0.0-M2`\n",
        "// import $ivy.`org.datavec:datavec-local:1.0.0-M2`\n",
        "// import $ivy.`org.deeplearning4j:deeplearning4j-datasets:1.0.0-M2`"
      ]
    },
    {
      "cell_type": "code",
      "source": [],
      "metadata": {
        "id": "G7k9M0zCcU_d"
      },
      "execution_count": null,
      "outputs": []
    },
    {
      "cell_type": "code",
      "source": [
        "  import org.deeplearning4j.nn.conf.MultiLayerConfiguration;\n",
        "  import org.deeplearning4j.nn.conf.NeuralNetConfiguration;\n",
        "  import org.deeplearning4j.nn.conf.layers.DenseLayer;\n",
        "  import org.deeplearning4j.nn.conf.layers.OutputLayer;\n",
        "  import org.deeplearning4j.nn.multilayer.MultiLayerNetwork;\n",
        "  import org.deeplearning4j.nn.weights.WeightInit;\n",
        "  import org.deeplearning4j.optimize.listeners.ScoreIterationListener;\n",
        "  import org.nd4j.evaluation.classification.Evaluation;\n",
        "  import org.nd4j.linalg.activations.Activation;\n",
        "  import org.nd4j.linalg.dataset.api.iterator.DataSetIterator;\n",
        "  import org.nd4j.linalg.learning.config.{Nadam, Adam};\n",
        "  import org.nd4j.linalg.lossfunctions.LossFunctions.LossFunction;\n",
        "  import org.nd4j.linalg.dataset.DataSet;\n",
        "  import org.nd4j.linalg.factory.Nd4j\n",
        "  import java.io.{File, PrintWriter}\n",
        "  import org.datavec.api.records.reader.RecordReader;\n",
        "  import org.datavec.api.records.reader.impl.csv.CSVRecordReader;\n",
        "  import org.datavec.api.split.FileSplit;\n",
        "  import org.deeplearning4j.datasets.datavec.RecordReaderDataSetIterator;\n"
      ],
      "metadata": {
        "id": "u9SCBcJSfxDL",
        "colab": {
          "base_uri": "https://localhost:8080/"
        },
        "outputId": "a9b94ad7-f0c1-4203-e3ce-77123f932dcd"
      },
      "execution_count": null,
      "outputs": [
        {
          "output_type": "execute_result",
          "data": {
            "text/plain": [
              "\u001b[32mimport \u001b[39m\u001b[36morg.deeplearning4j.nn.conf.MultiLayerConfiguration;\n",
              "  \u001b[39m\n",
              "\u001b[32mimport \u001b[39m\u001b[36morg.deeplearning4j.nn.conf.NeuralNetConfiguration;\n",
              "  \u001b[39m\n",
              "\u001b[32mimport \u001b[39m\u001b[36morg.deeplearning4j.nn.conf.layers.DenseLayer;\n",
              "  \u001b[39m\n",
              "\u001b[32mimport \u001b[39m\u001b[36morg.deeplearning4j.nn.conf.layers.OutputLayer;\n",
              "  \u001b[39m\n",
              "\u001b[32mimport \u001b[39m\u001b[36morg.deeplearning4j.nn.multilayer.MultiLayerNetwork;\n",
              "  \u001b[39m\n",
              "\u001b[32mimport \u001b[39m\u001b[36morg.deeplearning4j.nn.weights.WeightInit;\n",
              "  \u001b[39m\n",
              "\u001b[32mimport \u001b[39m\u001b[36morg.deeplearning4j.optimize.listeners.ScoreIterationListener;\n",
              "  \u001b[39m\n",
              "\u001b[32mimport \u001b[39m\u001b[36morg.nd4j.evaluation.classification.Evaluation;\n",
              "  \u001b[39m\n",
              "\u001b[32mimport \u001b[39m\u001b[36morg.nd4j.linalg.activations.Activation;\n",
              "  \u001b[39m\n",
              "\u001b[32mimport \u001b[39m\u001b[36morg.nd4j.linalg.dataset.api.iterator.DataSetIterator;\n",
              "  \u001b[39m\n",
              "\u001b[32mimport \u001b[39m\u001b[36morg.nd4j.linalg.learning.config.{Nadam, Adam};\n",
              "  \u001b[39m\n",
              "\u001b[32mimport \u001b[39m\u001b[36morg.nd4j.linalg.lossfunctions.LossFunctions.LossFunction;\n",
              "  \u001b[39m\n",
              "\u001b[32mimport \u001b[39m\u001b[36morg.nd4j.linalg.dataset.DataSet;\n",
              "  \u001b[39m\n",
              "\u001b[32mimport \u001b[39m\u001b[36morg.nd4j.linalg.factory.Nd4j\n",
              "  \u001b[39m\n",
              "\u001b[32mimport \u001b[39m\u001b[36mjava.io.{File, PrintWriter}\n",
              "  \u001b[39m\n",
              "\u001b[32mimport \u001b[39m\u001b[36morg.datavec.api.records.reader.RecordReader;\n",
              "  \u001b[39m\n",
              "\u001b[32mimport \u001b[39m\u001b[36morg.datavec.api.records.reader.impl.csv.CSVRecordReader;\n",
              "  \u001b[39m\n",
              "\u001b[32mimport \u001b[39m\u001b[36morg.datavec.api.split.FileSplit;\n",
              "  \u001b[39m\n",
              "\u001b[32mimport \u001b[39m\u001b[36morg.deeplearning4j.datasets.datavec.RecordReaderDataSetIterator;\n",
              "\u001b[39m"
            ]
          },
          "metadata": {},
          "execution_count": 3
        }
      ]
    },
    {
      "cell_type": "markdown",
      "source": [],
      "metadata": {
        "id": "NBr6nrKQJwrh"
      }
    },
    {
      "cell_type": "code",
      "source": [
        "def loadData(path: String, batchSize: Int, labelIndex: Int, numClasses: Int): DataSetIterator = {\n",
        "    val file = new java.io.File(path)\n",
        "    val reader: RecordReader = new CSVRecordReader()\n",
        "    reader.initialize(new FileSplit( file ))\n",
        "    new RecordReaderDataSetIterator(reader, batchSize, labelIndex, numClasses); //reader, batch size, label index, num of label classes\n",
        "}\n",
        "{{\n",
        "  val trainIter = loadData(\"mnist_train.csv\", 256, 0, 10)\n",
        "  val testIter = loadData(\"mnist_test.csv\", 256, 0, 10)\n",
        "}}"
      ],
      "metadata": {
        "id": "vv2DV6VPf-DN",
        "colab": {
          "base_uri": "https://localhost:8080/"
        },
        "outputId": "ebc31543-9933-4c3f-e171-6c409bb90339"
      },
      "execution_count": null,
      "outputs": [
        {
          "output_type": "stream",
          "name": "stderr",
          "text": [
            "SLF4J: Failed to load class \"org.slf4j.impl.StaticLoggerBinder\".\n",
            "SLF4J: Defaulting to no-operation (NOP) logger implementation\n",
            "SLF4J: See http://www.slf4j.org/codes.html#StaticLoggerBinder for further details.\n"
          ]
        },
        {
          "output_type": "execute_result",
          "data": {
            "text/plain": [
              "defined \u001b[32mfunction\u001b[39m \u001b[36mloadData\u001b[39m"
            ]
          },
          "metadata": {},
          "execution_count": 4
        }
      ]
    },
    {
      "cell_type": "code",
      "source": [
        "def loadData2(path: String, labelIndex: Int, numClasses: Int) = {\n",
        "  val data = Nd4j.readNumpy(path, \",\")\n",
        "  val labels = data.getColumn(labelIndex)\n",
        "  val Array(m,n) = data.shape\n",
        "  val features = data.getColumns(  (0 until n.toInt).filter( _ != labelIndex):_*)\n",
        "  val oneHotLabels = Nd4j.zeros(m,numClasses) \n",
        "  labels.dup.data.asInt.zipWithIndex.foreach { \n",
        "    case (k,v) => oneHotLabels.putScalar(v,k,1.0)\n",
        "  }\n",
        "  val dataset = new DataSet(features, oneHotLabels)\n",
        "  dataset\n",
        "}\n",
        "// wrap in braces to suppress all stdout\n",
        "\n",
        "val train = loadData2(\"mnist_train.csv\", 0, 10)\n",
        "val test = loadData2(\"mnist_test.csv\", 0, 10)"
      ],
      "metadata": {
        "id": "CczA3SjSNH-Q",
        "colab": {
          "base_uri": "https://localhost:8080/"
        },
        "outputId": "50646ce3-3b57-440f-a69d-a0651770a22b"
      },
      "execution_count": null,
      "outputs": [
        {
          "output_type": "execute_result",
          "data": {
            "text/plain": [
              "defined \u001b[32mfunction\u001b[39m \u001b[36mloadData2\u001b[39m\n",
              "\u001b[36mtrain\u001b[39m: \u001b[32mDataSet\u001b[39m = ===========INPUT===================\n",
              "[[         0,         0,         0,  ...         0,         0,         0], \n",
              " [         0,         0,         0,  ...         0,         0,         0], \n",
              " [         0,         0,         0,  ...         0,         0,         0], \n",
              "  ..., \n",
              " [         0,         0,         0,  ...         0,         0,         0], \n",
              " [         0,         0,         0,  ...         0,         0,         0], \n",
              " [         0,         0,         0,  ...         0,         0,         0]]\n",
              "=================OUTPUT==================\n",
              "[[         0,         0,         0,  ...         0,         0,         0], \n",
              " [    1.0000,         0,         0,  ...         0,         0,         0], \n",
              " [         0,         0,         0,  ...         0,         0,         0], \n",
              "  ..., \n",
              " [         0,         0,         0,  ...         0,         0,         0], \n",
              " [         0,         0,         0,  ...         0,         0,         0], \n",
              " [         0,         0,         0,  ...         0,    1.0000,         0]]\n",
              "\u001b[36mtest\u001b[39m: \u001b[32mDataSet\u001b[39m = ===========INPUT===================\n",
              "[[         0,         0,         0,  ...         0,         0,         0], \n",
              " [         0,         0,         0,  ...         0,         0,         0], \n",
              " [         0,         0,         0,  ...         0,         0,         0], \n",
              "  ..., \n",
              " [         0,         0,         0,  ...         0,         0,         0], \n",
              " [         0,         0,         0,  ...         0,         0,         0], \n",
              " [         0,         0,         0,  ...         0,         0,         0]]\n",
              "=================OUTPUT==================\n",
              "[[         0,         0,         0,  ...    1.0000,         0,         0], \n",
              " [         0,         0,    1.0000,  ...         0,         0,         0], \n",
              " [         0,    1.0000,         0,  ...         0,         0,         0], \n",
              "  ..., \n",
              " [         0,         0,         0,  ...         0,         0,         0], \n",
              " [         0,         0,         0,  ...         0,         0,         0], \n",
              " [         0,         0,         0,  ...         0,         0,         0]]"
            ]
          },
          "metadata": {},
          "execution_count": 5
        }
      ]
    },
    {
      "cell_type": "code",
      "source": [
        "import com.wandb.grpc.WandbServer"
      ],
      "metadata": {
        "colab": {
          "base_uri": "https://localhost:8080/"
        },
        "id": "1V3HvRZAnNSw",
        "outputId": "7faee762-003b-4c17-b748-4ffdb9812167"
      },
      "execution_count": null,
      "outputs": [
        {
          "output_type": "execute_result",
          "data": {
            "text/plain": [
              "\u001b[32mimport \u001b[39m\u001b[36mcom.wandb.grpc.WandbServer\u001b[39m"
            ]
          },
          "metadata": {},
          "execution_count": 2
        }
      ]
    },
    {
      "cell_type": "code",
      "source": [
        "import com.wandb.client"
      ],
      "metadata": {
        "colab": {
          "base_uri": "https://localhost:8080/"
        },
        "id": "hDbns6kQnoNh",
        "outputId": "555494d0-f9a7-4950-edff-b4fb87962636"
      },
      "execution_count": null,
      "outputs": [
        {
          "output_type": "execute_result",
          "data": {
            "text/plain": [
              "\u001b[32mimport \u001b[39m\u001b[36mcom.wandb.client\u001b[39m"
            ]
          },
          "metadata": {},
          "execution_count": 3
        }
      ]
    },
    {
      "cell_type": "code",
      "source": [
        "import com.wandb"
      ],
      "metadata": {
        "colab": {
          "base_uri": "https://localhost:8080/"
        },
        "id": "MsCj4HN-nz5t",
        "outputId": "0432d96f-fc4f-4930-8877-e7d3a7a94aa1"
      },
      "execution_count": null,
      "outputs": [
        {
          "output_type": "execute_result",
          "data": {
            "text/plain": [
              "\u001b[32mimport \u001b[39m\u001b[36mcom.wandb\u001b[39m"
            ]
          },
          "metadata": {},
          "execution_count": 4
        }
      ]
    },
    {
      "cell_type": "code",
      "source": [
        "import sys.process._"
      ],
      "metadata": {
        "colab": {
          "base_uri": "https://localhost:8080/"
        },
        "id": "A7AfE3K9n3E3",
        "outputId": "2f71141d-5f81-42ae-eedb-47ebf8201b7d"
      },
      "execution_count": null,
      "outputs": [
        {
          "output_type": "execute_result",
          "data": {
            "text/plain": [
              "\u001b[32mimport \u001b[39m\u001b[36msys.process._\u001b[39m"
            ]
          },
          "metadata": {},
          "execution_count": 5
        }
      ]
    },
    {
      "cell_type": "code",
      "source": [
        "import java.io.File"
      ],
      "metadata": {
        "colab": {
          "base_uri": "https://localhost:8080/"
        },
        "id": "_z5lCofKrk4i",
        "outputId": "0fd132a9-475f-430c-ebe2-a6c6618c9b04"
      },
      "execution_count": null,
      "outputs": [
        {
          "output_type": "execute_result",
          "data": {
            "text/plain": [
              "\u001b[32mimport \u001b[39m\u001b[36mjava.io.File\u001b[39m"
            ]
          },
          "metadata": {},
          "execution_count": 19
        }
      ]
    },
    {
      "cell_type": "code",
      "source": [
        "import java.io.File\n",
        "import sys.process._\n",
        "val model_dir = new File(\"./my-model\")\n",
        "s\"wandb artifact get --root ${model_dir} --type model tim-w/MNIST-v4/model-2ryu9yvh:v2\" !\n",
        "model_dir.listFiles"
      ],
      "metadata": {
        "colab": {
          "base_uri": "https://localhost:8080/"
        },
        "id": "ZZ6BO-3oow0y",
        "outputId": "71023c11-d78b-4131-8520-c5e9a2220301"
      },
      "execution_count": null,
      "outputs": [
        {
          "output_type": "stream",
          "name": "stderr",
          "text": [
            "wandb: Downloading model artifact tim-w/MNIST-v4/model-2ryu9yvh:v2\n",
            "wandb: Artifact downloaded to ./my-model\n"
          ]
        },
        {
          "output_type": "execute_result",
          "data": {
            "text/plain": [
              "\u001b[32mimport \u001b[39m\u001b[36mjava.io.File\n",
              "\u001b[39m\n",
              "\u001b[32mimport \u001b[39m\u001b[36msys.process._\n",
              "\n",
              "\u001b[39m\n",
              "\u001b[36mmodel_dir\u001b[39m: \u001b[32mFile\u001b[39m = ./my-model\n",
              "\u001b[36mres0_3\u001b[39m: \u001b[32mInt\u001b[39m = \u001b[32m0\u001b[39m\n",
              "\u001b[36mres0_4\u001b[39m: \u001b[32mArray\u001b[39m[\u001b[32mFile\u001b[39m] = \u001b[33mArray\u001b[39m(./my-model/model.ckpt)"
            ]
          },
          "metadata": {},
          "execution_count": 1
        }
      ]
    },
    {
      "cell_type": "code",
      "source": [],
      "metadata": {
        "colab": {
          "base_uri": "https://localhost:8080/"
        },
        "id": "19jLisC0svt7",
        "outputId": "a21178a0-8410-4936-95c3-b5a7e0049bef"
      },
      "execution_count": null,
      "outputs": [
        {
          "output_type": "execute_result",
          "data": {
            "text/plain": [
              "\u001b[36mres29\u001b[39m: \u001b[32mArray\u001b[39m[\u001b[32mFile\u001b[39m] = \u001b[33mArray\u001b[39m(./my-model/model.ckpt)"
            ]
          },
          "metadata": {},
          "execution_count": 30
        }
      ]
    },
    {
      "cell_type": "code",
      "source": [
        "import java.io.File\n",
        "val out = \"wandb artifact get --type model tim-w/MNIST-v4/model-2ryu9yvh:v2\" !\n",
        "val model_dir = new File(\"artifacts\")\n",
        "model_dir.listFiles"
      ],
      "metadata": {
        "colab": {
          "base_uri": "https://localhost:8080/"
        },
        "id": "QbfOG3RNrudY",
        "outputId": "503ac839-88f1-40ed-f141-6d95fd8d6a4d"
      },
      "execution_count": null,
      "outputs": [
        {
          "output_type": "stream",
          "name": "stderr",
          "text": [
            "wandb: Downloading model artifact tim-w/MNIST-v4/model-2ryu9yvh:v2\n",
            "wandb: Artifact downloaded to ./artifacts/model-2ryu9yvh:v2\n"
          ]
        },
        {
          "output_type": "execute_result",
          "data": {
            "text/plain": [
              "\u001b[32mimport \u001b[39m\u001b[36mjava.io.File\n",
              "\u001b[39m\n",
              "\u001b[36mout\u001b[39m: \u001b[32mInt\u001b[39m = \u001b[32m0\u001b[39m\n",
              "\u001b[36mmodel_dir\u001b[39m: \u001b[32mFile\u001b[39m = artifacts\n",
              "\u001b[36mres21_3\u001b[39m: \u001b[32mArray\u001b[39m[\u001b[32mFile\u001b[39m] = \u001b[33mArray\u001b[39m(artifacts/model-2ryu9yvh:v2)"
            ]
          },
          "metadata": {},
          "execution_count": 22
        }
      ]
    },
    {
      "cell_type": "code",
      "source": [
        "\"ls -r ./my-model\" !!"
      ],
      "metadata": {
        "colab": {
          "base_uri": "https://localhost:8080/"
        },
        "id": "7wm6qM4MqIj9",
        "outputId": "9f0431f4-e4bd-4bb0-c514-a8e1666ff71c"
      },
      "execution_count": null,
      "outputs": [
        {
          "output_type": "execute_result",
          "data": {
            "text/plain": [
              "\u001b[36mres17\u001b[39m: \u001b[32mString\u001b[39m = \u001b[32m\"\"\"model.ckpt\n",
              "\"\"\"\u001b[39m"
            ]
          },
          "metadata": {},
          "execution_count": 18
        }
      ]
    },
    {
      "cell_type": "code",
      "source": [
        "import scala.collection.JavaConverters._\n",
        "import com.wandb.client._\n",
        "import org.json.JSONObject;\n",
        "\n",
        "\n",
        "val rate=0.0015\n",
        "val numEpochs=1\n",
        "val numColumns=28\n",
        "val randomSeed=123\n",
        "val numRows=28\n",
        "val outputNum=10\n",
        "\n",
        "val config = new JSONObject()\n",
        "\n",
        "val configMap = Map(\n",
        "  \"numRows\" -> numRows, \"numColumns\" -> numColumns, \"outputNum\" -> outputNum,\n",
        "  \"randomSeed\" -> randomSeed, \"numEpochs\" -> numEpochs, \"rate\" -> rate\n",
        "  )\n",
        "\n",
        "configMap.foreach{ case (k,v) => config.put(k,v) }\n",
        "\n",
        "val tags = List(\"scala\", \"dl4j\", \"client-java\").asJava"
      ],
      "metadata": {
        "id": "n0uMzgBeM4uf",
        "colab": {
          "base_uri": "https://localhost:8080/"
        },
        "outputId": "0afe8806-62e6-4872-9153-bdd398ecda6e"
      },
      "execution_count": null,
      "outputs": [
        {
          "output_type": "execute_result",
          "data": {
            "text/plain": [
              "\u001b[32mimport \u001b[39m\u001b[36mscala.collection.JavaConverters._\n",
              "\u001b[39m\n",
              "\u001b[32mimport \u001b[39m\u001b[36mcom.wandb.client._\n",
              "\u001b[39m\n",
              "\u001b[32mimport \u001b[39m\u001b[36morg.json.JSONObject;\n",
              "\n",
              "\n",
              "\u001b[39m\n",
              "\u001b[36mrate\u001b[39m: \u001b[32mDouble\u001b[39m = \u001b[32m0.0015\u001b[39m\n",
              "\u001b[36mnumEpochs\u001b[39m: \u001b[32mInt\u001b[39m = \u001b[32m1\u001b[39m\n",
              "\u001b[36mnumColumns\u001b[39m: \u001b[32mInt\u001b[39m = \u001b[32m28\u001b[39m\n",
              "\u001b[36mrandomSeed\u001b[39m: \u001b[32mInt\u001b[39m = \u001b[32m123\u001b[39m\n",
              "\u001b[36mnumRows\u001b[39m: \u001b[32mInt\u001b[39m = \u001b[32m28\u001b[39m\n",
              "\u001b[36moutputNum\u001b[39m: \u001b[32mInt\u001b[39m = \u001b[32m10\u001b[39m\n",
              "\u001b[36mconfig\u001b[39m: \u001b[32mJSONObject\u001b[39m = {\"randomSeed\":123,\"numRows\":28,\"rate\":0.0015,\"numEpochs\":1,\"outputNum\":10,\"numColumns\":28}\n",
              "\u001b[36mconfigMap\u001b[39m: \u001b[32mMap\u001b[39m[\u001b[32mString\u001b[39m, \u001b[32mAnyVal\u001b[39m] = \u001b[33mMap\u001b[39m(\n",
              "  \u001b[32m\"rate\"\u001b[39m -> \u001b[32m0.0015\u001b[39m,\n",
              "  \u001b[32m\"numEpochs\"\u001b[39m -> \u001b[32m1\u001b[39m,\n",
              "  \u001b[32m\"numColumns\"\u001b[39m -> \u001b[32m28\u001b[39m,\n",
              "  \u001b[32m\"randomSeed\"\u001b[39m -> \u001b[32m123\u001b[39m,\n",
              "  \u001b[32m\"numRows\"\u001b[39m -> \u001b[32m28\u001b[39m,\n",
              "  \u001b[32m\"outputNum\"\u001b[39m -> \u001b[32m10\u001b[39m\n",
              ")\n",
              "\u001b[36mtags\u001b[39m: \u001b[32mjava\u001b[39m.\u001b[32mutil\u001b[39m.\u001b[32mList\u001b[39m[\u001b[32mString\u001b[39m] = \u001b[33mSeqWrapper\u001b[39m(\u001b[33mList\u001b[39m(\u001b[32m\"scala\"\u001b[39m, \u001b[32m\"dl4j\"\u001b[39m, \u001b[32m\"client-java\"\u001b[39m))"
            ]
          },
          "metadata": {},
          "execution_count": 6
        }
      ]
    },
    {
      "cell_type": "code",
      "source": [
        "val modelConf = new NeuralNetConfiguration.Builder()\n",
        "            .seed(randomSeed) //include a random seed for reproducibility\n",
        "            .activation(Activation.RELU)\n",
        "            .weightInit(WeightInit.XAVIER)\n",
        "            .updater(new Adam())\n",
        "            .l2(rate * 0.0001) // regularize learning model\n",
        "            .list()\n",
        "            .layer(new DenseLayer.Builder() //create the first input layer.\n",
        "                    .nIn(numRows * numColumns)\n",
        "                    .nOut(40)\n",
        "                    .build())\n",
        "            .layer(new DenseLayer.Builder() //create the second input layer\n",
        "                    .nIn(40).activation(Activation.IDENTITY)\n",
        "                    .nOut(10)\n",
        "                    .build())\n",
        "            .layer(new OutputLayer.Builder(LossFunction.MCXENT) //create hidden layer\n",
        "                    .activation(Activation.SOFTMAX)\n",
        "                    .nOut(outputNum)\n",
        "                    .build())\n",
        "            .build();"
      ],
      "metadata": {
        "id": "MCm2R294h_9C",
        "colab": {
          "base_uri": "https://localhost:8080/"
        },
        "outputId": "b0d99e27-18e9-48fd-f70d-fe190650d80d"
      },
      "execution_count": null,
      "outputs": [
        {
          "output_type": "execute_result",
          "data": {
            "text/plain": [
              "\u001b[36mmodelConf\u001b[39m: \u001b[32mMultiLayerConfiguration\u001b[39m = {\n",
              "  \"backpropType\" : \"Standard\",\n",
              "  \"cacheMode\" : \"NONE\",\n",
              "  \"confs\" : [ {\n",
              "    \"cacheMode\" : \"NONE\",\n",
              "    \"dataType\" : \"FLOAT\",\n",
              "    \"epochCount\" : 0,\n",
              "    \"iterationCount\" : 0,\n",
              "    \"layer\" : {\n",
              "      \"@class\" : \"org.deeplearning4j.nn.conf.layers.DenseLayer\",\n",
              "      \"activationFn\" : {\n",
              "        \"@class\" : \"org.nd4j.linalg.activations.impl.ActivationReLU\",\n",
              "        \"max\" : null,\n",
              "        \"negativeSlope\" : null,\n",
              "        \"threshold\" : null\n",
              "      },\n",
              "      \"biasInit\" : 0.0,\n",
              "      \"biasUpdater\" : null,\n",
              "      \"constraints\" : null,\n",
              "      \"gainInit\" : 1.0,\n",
              "      \"gradientNormalization\" : \"None\",\n",
              "      \"gradientNormalizationThreshold\" : 1.0,\n",
              "      \"hasBias\" : true,\n",
              "      \"hasLayerNorm\" : false,\n",
              "      \"idropout\" : null,\n",
              "      \"iupdater\" : {\n",
              "        \"@class\" : \"org.nd4j.linalg.learning.config.Adam\",\n",
              "        \"beta1\" : 0.9,\n",
              "        \"beta2\" : 0.999,\n",
              "        \"epsilon\" : 1.0E-8,\n",
              "        \"learningRate\" : 0.001\n",
              "      },\n",
              "      \"layerName\" : \"layer0\",\n",
              "      \"nin\" : 784,\n",
              "      \"nout\" : 40,\n",
              "      \"regularization\" : [ {\n",
              "        \"@class\" : \"org.nd4j.linalg.learning.regularization.L2Regularization\",\n",
              "        \"l2\" : {\n",
              "          \"@class\" : \"org.nd4j.linalg.schedule.FixedSchedule\",\n",
              "..."
            ]
          },
          "metadata": {},
          "execution_count": 7
        }
      ]
    },
    {
      "cell_type": "code",
      "source": [
        "val model = new MultiLayerNetwork(modelConf);"
      ],
      "metadata": {
        "id": "_M4OGlPdiCc7",
        "colab": {
          "base_uri": "https://localhost:8080/"
        },
        "outputId": "2f850372-d645-4285-dd5a-a56897cae487"
      },
      "execution_count": null,
      "outputs": [
        {
          "output_type": "execute_result",
          "data": {
            "text/plain": [
              "\u001b[36mmodel\u001b[39m: \u001b[32mMultiLayerNetwork\u001b[39m = org.deeplearning4j.nn.multilayer.MultiLayerNetwork@1f100c45"
            ]
          },
          "metadata": {},
          "execution_count": 8
        }
      ]
    },
    {
      "cell_type": "code",
      "source": [
        "\n",
        "import org.deeplearning4j.nn.api.Model;\n",
        "import org.nd4j.linalg.dataset.DataSet;\n",
        "\n",
        "import org.deeplearning4j.optimize.api.BaseTrainingListener;\n",
        "import java.io.Serializable;\n",
        "import com.wandb.client._\n",
        "import org.json.JSONObject;\n",
        "\n",
        "case class WandBListener(logIteration: Int = 10,\n",
        "                         testDataset: DataSet,\n",
        "                         run: WandbRun) extends BaseTrainingListener with Serializable {\n",
        "\n",
        "  if(logIteration <= 0) throw new Exception(s\"Iteration must be greater than 0\")\n",
        "\n",
        "  override def iterationDone(model: Model, iteration: Int, epoch: Int): Unit = { \n",
        "    if(iteration % logIteration == 0) {\n",
        "      val trainingScore = model.score();\n",
        "      val testScore = model.asInstanceOf[MultiLayerNetwork].score(testDataset)\n",
        "      val data = new JSONObject() \n",
        "      data.put(\"epoch\", epoch)\n",
        "      data.put(\"iteration\", iteration)\n",
        "      data.put(\"train_loss\", trainingScore)\n",
        "      data.put(\"test_loss\", testScore)\n",
        "      run.log(data)\n",
        "      println(s\"Score on train dataset at iteration $iteration is $trainingScore\")\n",
        "      println(s\"Score on test dataset at iteration $iteration is $testScore\")\n",
        "    }\n",
        "  }\n",
        "}"
      ],
      "metadata": {
        "colab": {
          "base_uri": "https://localhost:8080/"
        },
        "id": "3ldO8Xd_Ph-F",
        "outputId": "700de2f9-d834-44fd-d2bc-18d4e0ac5584"
      },
      "execution_count": null,
      "outputs": [
        {
          "output_type": "execute_result",
          "data": {
            "text/plain": [
              "\u001b[32mimport \u001b[39m\u001b[36morg.deeplearning4j.optimize.api.BaseTrainingListener;\n",
              "\u001b[39m\n",
              "\u001b[32mimport \u001b[39m\u001b[36mjava.io.Serializable;\n",
              "\u001b[39m\n",
              "\u001b[32mimport \u001b[39m\u001b[36morg.deeplearning4j.nn.api.Model;\n",
              "\u001b[39m\n",
              "\u001b[32mimport \u001b[39m\u001b[36morg.nd4j.linalg.dataset.DataSet;\n",
              "\n",
              "\u001b[39m\n",
              "defined \u001b[32mclass\u001b[39m \u001b[36mWandBListener\u001b[39m"
            ]
          },
          "metadata": {},
          "execution_count": 9
        }
      ]
    },
    {
      "cell_type": "code",
      "source": [
        "val runBuilder = new WandbRun.Builder()\n",
        "runBuilder.withConfig(config).withProject(\"dl4j-wandb-java-client\").setTags(tags).setJobType(\"training\")\n",
        "val run = runBuilder.build\n",
        "model.setListeners(new WandBListener(model, 10, test, run));  \n",
        "model.init();\n",
        "\n",
        "(1 to 500).foreach{\n",
        " i => model.fit(train)\n",
        " if(i % 50 == 0){\n",
        "    val testLogLoss = model.score(test)\n",
        "    val trainingLogLoss = model.score(train)\n",
        " }\n",
        "}\n"
      ],
      "metadata": {
        "colab": {
          "base_uri": "https://localhost:8080/"
        },
        "id": "-QIVdgVBQzUN",
        "outputId": "a384de11-933a-49b1-f867-518651b5af1b"
      },
      "execution_count": null,
      "outputs": [
        {
          "output_type": "execute_result",
          "data": {
            "text/plain": [
              "\u001b[36mrunBuilder\u001b[39m: \u001b[32mWandbRun\u001b[39m.\u001b[32mBuilder\u001b[39m = com.wandb.client.WandbRun$Builder@6a5e946f\n",
              "\u001b[36mres9_1\u001b[39m: \u001b[32mWandbRun\u001b[39m.\u001b[32mBuilder\u001b[39m = com.wandb.client.WandbRun$Builder@6a5e946f\n",
              "\u001b[36mrun\u001b[39m: \u001b[32mWandbRun\u001b[39m = com.wandb.client.WandbRun@56c66058"
            ]
          },
          "metadata": {},
          "execution_count": 10
        }
      ]
    },
    {
      "cell_type": "code",
      "source": [
        "run.getClass.getMethods"
      ],
      "metadata": {
        "colab": {
          "base_uri": "https://localhost:8080/"
        },
        "id": "wQPa2l-Um2y3",
        "outputId": "46293e1d-0c02-4246-f0dd-cc7fc03b2d42"
      },
      "execution_count": null,
      "outputs": [
        {
          "output_type": "execute_result",
          "data": {
            "text/plain": [
              "\u001b[36mres16\u001b[39m: \u001b[32mArray\u001b[39m[\u001b[32mjava\u001b[39m.\u001b[32mlang\u001b[39m.\u001b[32mreflect\u001b[39m.\u001b[32mMethod\u001b[39m] = \u001b[33mArray\u001b[39m(\n",
              "  public void com.wandb.client.WandbRun.finish(),\n",
              "  public void com.wandb.client.WandbRun.finish(int),\n",
              "  public static void com.wandb.client.WandbRun.main(java.lang.String[]) throws java.io.IOException,java.lang.InterruptedException,\n",
              "  public com.wandb.grpc.WandbServer$HistoryResult com.wandb.client.WandbRun.log(org.json.JSONObject,int),\n",
              "  public com.wandb.grpc.WandbServer$HistoryResult com.wandb.client.WandbRun.log(org.json.JSONObject),\n",
              "  public com.wandb.grpc.WandbServer$RunRecord com.wandb.client.WandbRun.data(),\n",
              "  public void com.wandb.client.WandbRun.printRunInfo(),\n",
              "  public final native void java.lang.Object.wait(long) throws java.lang.InterruptedException,\n",
              "  public final void java.lang.Object.wait(long,int) throws java.lang.InterruptedException,\n",
              "  public final void java.lang.Object.wait() throws java.lang.InterruptedException,\n",
              "  public boolean java.lang.Object.equals(java.lang.Object),\n",
              "  public java.lang.String java.lang.Object.toString(),\n",
              "  public native int java.lang.Object.hashCode(),\n",
              "  public final native java.lang.Class java.lang.Object.getClass(),\n",
              "  public final native void java.lang.Object.notify(),\n",
              "  public final native void java.lang.Object.notifyAll()\n",
              ")"
            ]
          },
          "metadata": {},
          "execution_count": 17
        }
      ]
    },
    {
      "cell_type": "code",
      "source": [
        "run.getClass.getMethods"
      ],
      "metadata": {
        "colab": {
          "base_uri": "https://localhost:8080/"
        },
        "id": "ryrxzlWOmxDu",
        "outputId": "435564cc-8ae0-4e63-ff17-9d15dc523116"
      },
      "execution_count": null,
      "outputs": [
        {
          "output_type": "execute_result",
          "data": {
            "text/plain": [
              "\u001b[36mres12\u001b[39m: \u001b[32mArray\u001b[39m[\u001b[32mjava\u001b[39m.\u001b[32mlang\u001b[39m.\u001b[32mreflect\u001b[39m.\u001b[32mMethod\u001b[39m] = \u001b[33mArray\u001b[39m(\n",
              "  public void com.wandb.client.WandbRun.finish(),\n",
              "  public void com.wandb.client.WandbRun.finish(int),\n",
              "  public static void com.wandb.client.WandbRun.main(java.lang.String[]) throws java.io.IOException,java.lang.InterruptedException,\n",
              "  public com.wandb.grpc.WandbServer$HistoryResult com.wandb.client.WandbRun.log(org.json.JSONObject,int),\n",
              "  public com.wandb.grpc.WandbServer$HistoryResult com.wandb.client.WandbRun.log(org.json.JSONObject),\n",
              "  public com.wandb.grpc.WandbServer$RunRecord com.wandb.client.WandbRun.data(),\n",
              "  public void com.wandb.client.WandbRun.printRunInfo(),\n",
              "  public final native void java.lang.Object.wait(long) throws java.lang.InterruptedException,\n",
              "  public final void java.lang.Object.wait(long,int) throws java.lang.InterruptedException,\n",
              "  public final void java.lang.Object.wait() throws java.lang.InterruptedException,\n",
              "  public boolean java.lang.Object.equals(java.lang.Object),\n",
              "  public java.lang.String java.lang.Object.toString(),\n",
              "  public native int java.lang.Object.hashCode(),\n",
              "  public final native java.lang.Class java.lang.Object.getClass(),\n",
              "  public final native void java.lang.Object.notify(),\n",
              "  public final native void java.lang.Object.notifyAll()\n",
              ")"
            ]
          },
          "metadata": {},
          "execution_count": 13
        }
      ]
    },
    {
      "cell_type": "code",
      "source": [
        "model.setListeners(new WandBListener(model, 10, test, run));  //print the score with every iteration\n",
        "// model.setListeners(new WandBListener(50, test, wandb));  //print the score with every iteration\n",
        "model.init();"
      ],
      "metadata": {
        "id": "Uw2F9a1WiEw1"
      },
      "execution_count": null,
      "outputs": []
    },
    {
      "cell_type": "code",
      "source": [
        "val output = model.output(train.getFeatures);\n",
        "val eval = new Evaluation(10);\n",
        "eval.eval(train.getLabels, output);"
      ],
      "metadata": {
        "id": "O2itJyiFiNGL",
        "colab": {
          "base_uri": "https://localhost:8080/"
        },
        "outputId": "a49cc13d-9164-4466-dc13-098596f2fcbd"
      },
      "execution_count": null,
      "outputs": [
        {
          "output_type": "execute_result",
          "data": {
            "text/plain": [
              "\u001b[36moutput\u001b[39m: \u001b[32morg\u001b[39m.\u001b[32mnd4j\u001b[39m.\u001b[32mlinalg\u001b[39m.\u001b[32mapi\u001b[39m.\u001b[32mndarray\u001b[39m.\u001b[32mINDArray\u001b[39m = [[         0,         0,1.3599e-13,  ...4.0409e-31,4.5754e-18,         0], \n",
              " [8.4078e-45,         0,1.3994e-37,  ...         0,    0.9905,         0], \n",
              " [         0,         0,         0,  ...         0,         0,         0], \n",
              "  ..., \n",
              " [         0,         0,    1.0000,  ...         0, 9.9249e-7,         0], \n",
              " [         0,         0,         0,  ...         0,    1.0000,         0], \n",
              " [4.1927e-31,7.0069e-27,         0,  ...1.1962e-29,         0, 3.876e-21]]\n",
              "\u001b[36meval\u001b[39m: \u001b[32mEvaluation\u001b[39m = \n",
              "\n",
              "========================Evaluation Metrics========================\n",
              " # of classes:    10\n",
              " Accuracy:        0.0860\n",
              " Precision:       0.0800\n",
              " Recall:          0.0879\n",
              " F1 Score:        0.0547\n",
              "Precision, recall & F1: macro-averaged (equally weighted avg. of 10 classes)\n",
              "\n",
              "\n",
              "=========================Confusion Matrix=========================\n",
              "    0    1    2    3    4    5    6    7    8    9\n",
              "---------------------------------------------------\n",
              "   58    0 1391   25 2679  218    4  279 1267    2 | 0 = 0\n",
              "    7    0 2276  187  244 1018    0   14 2987    9 | 1 = 1\n",
              "   12    0 2042   36 2304  252    8  185 1118    1 | 2 = 2\n",
              "   19    2 1710  175 2695  239    3  399  864   25 | 3 = 3\n",
              "    8    3 2254  197 1681  119    0   32 1541    7 | 4 = 4\n",
              "   16   22 1876  175 1649  397    3  170 1059   54 | 5 = 5\n",
              "    6    1 1728   44 1569  365    0   20 2145   40 | 6 = 6\n",
              "  102    4 1946  607 1188  172    0   63 2158   25 | 7 = 7\n",
              "   32    4 3221   74 1337  347    6   98  721   11 | 8 = 8\n",
              "   55   16 3017  768 1159   65    1   61  783   24 | 9 = 9\n",
              "\n",
              "Confusion matrix format: Actual (rowClass) predicted as (columnClass) N times\n",
              "=================================================================="
            ]
          },
          "metadata": {},
          "execution_count": 17
        }
      ]
    },
    {
      "cell_type": "code",
      "source": [
        "(1 to 500).foreach{\n",
        " i => model.fit(train)\n",
        " if(i % 50 == 0){\n",
        "    val testLogLoss = model.score(test)\n",
        "    val trainingLogLoss = model.score(train)\n",
        " }\n",
        "}\n",
        "\n"
      ],
      "metadata": {
        "id": "DqEnumZiiQvx"
      },
      "execution_count": null,
      "outputs": []
    },
    {
      "cell_type": "code",
      "source": [
        "run.shutdownNow()"
      ],
      "metadata": {
        "colab": {
          "base_uri": "https://localhost:8080/",
          "height": 131
        },
        "id": "sciC-hRzUEi0",
        "outputId": "10cb45ad-610f-4195-d67e-cc86aa0fd8ad"
      },
      "execution_count": null,
      "outputs": [
        {
          "output_type": "stream",
          "name": "stderr",
          "text": [
            "cmd20.sc:1: value shutdownNow is not a member of com.wandb.client.WandbRun\n",
            "val res20 = run.shutdownNow()\n",
            "                ^Compilation Failed"
          ]
        },
        {
          "output_type": "error",
          "ename": "",
          "evalue": "ignored",
          "traceback": [
            "Compilation Failed"
          ]
        }
      ]
    },
    {
      "cell_type": "code",
      "source": [
        "run.finish()"
      ],
      "metadata": {
        "colab": {
          "base_uri": "https://localhost:8080/",
          "height": 253
        },
        "id": "BvIIsddcT117",
        "outputId": "73b268d5-d12f-4a91-e59f-bee1ed348208"
      },
      "execution_count": null,
      "outputs": [
        {
          "output_type": "error",
          "ename": "",
          "evalue": "ignored",
          "traceback": [
            "\u001b[31mio.grpc.StatusRuntimeException: UNAVAILABLE: Channel shutdown invoked\u001b[39m\n  io.grpc.stub.ClientCalls.toStatusRuntimeException(\u001b[32mClientCalls.java\u001b[39m:\u001b[32m244\u001b[39m)\n  io.grpc.stub.ClientCalls.getUnchecked(\u001b[32mClientCalls.java\u001b[39m:\u001b[32m225\u001b[39m)\n  io.grpc.stub.ClientCalls.blockingUnaryCall(\u001b[32mClientCalls.java\u001b[39m:\u001b[32m142\u001b[39m)\n  com.wandb.grpc.InternalServiceGrpc$InternalServiceBlockingStub.runExit(\u001b[32mInternalServiceGrpc.java\u001b[39m:\u001b[32m547\u001b[39m)\n  com.wandb.client.WandbRun.exit(\u001b[32mWandbRun.java\u001b[39m:\u001b[32m257\u001b[39m)\n  com.wandb.client.WandbRun.finish(\u001b[32mWandbRun.java\u001b[39m:\u001b[32m252\u001b[39m)\n  com.wandb.client.WandbRun.finish(\u001b[32mWandbRun.java\u001b[39m:\u001b[32m242\u001b[39m)\n  ammonite.$sess.cmd20$Helper.<init>(\u001b[32mcmd20.sc\u001b[39m:\u001b[32m1\u001b[39m)\n  ammonite.$sess.cmd20$.<init>(\u001b[32mcmd20.sc\u001b[39m:\u001b[32m7\u001b[39m)\n  ammonite.$sess.cmd20$.<clinit>(\u001b[32mcmd20.sc\u001b[39m:\u001b[32m-1\u001b[39m)"
          ]
        }
      ]
    }
  ],
  "metadata": {
    "colab": {
      "collapsed_sections": [],
      "provenance": [],
      "include_colab_link": true
    },
    "kernelspec": {
      "display_name": "Scala",
      "language": "scala",
      "name": "scala"
    }
  },
  "nbformat": 4,
  "nbformat_minor": 0
}