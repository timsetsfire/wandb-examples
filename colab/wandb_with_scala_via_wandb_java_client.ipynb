{
  "cells": [
    {
      "cell_type": "markdown",
      "metadata": {
        "id": "view-in-github",
        "colab_type": "text"
      },
      "source": [
        "<a href=\"https://colab.research.google.com/github/timsetsfire/wandb-examples/blob/main/colab/wandb_with_scala_via_wandb_java_client.ipynb\" target=\"_parent\"><img src=\"https://colab.research.google.com/assets/colab-badge.svg\" alt=\"Open In Colab\"/></a>"
      ]
    },
    {
      "cell_type": "markdown",
      "metadata": {
        "id": "up2G8zDbhsEN"
      },
      "source": [
        "# WandB with Scala\n",
        "\n",
        "This notebook is meant to be run in google colab"
      ]
    },
    {
      "cell_type": "code",
      "source": [
        "%%sh\n",
        "curl https://pjreddie.com/media/files/mnist_train.csv > mnist_train.csv\n",
        "curl https://pjreddie.com/media/files/mnist_test.csv > mnist_test.csv\n",
        "pip install wandb[grpc]==0.10.32 -q --upgrade\n",
        "git clone https://github.com/wandb/client-java.git\n",
        "wandb login WANDB_API_KEY\n",
        "apt-get install maven &> /dev/null\n",
        "cd client-java "
      ],
      "metadata": {
        "id": "d-aSrrIYs6ew"
      },
      "execution_count": null,
      "outputs": []
    },
    {
      "cell_type": "code",
      "source": [
        "%%sh\n",
        "cd client-java\n",
        "make install\n",
        "make build"
      ],
      "metadata": {
        "id": "dqsm0_shJwIK"
      },
      "execution_count": null,
      "outputs": []
    },
    {
      "cell_type": "markdown",
      "metadata": {
        "id": "sL1Vq6r6J6dA"
      },
      "source": [
        "## Install the Scala Kernel\n",
        "If you get a \"scala\" kernel not recognized warning when loading up the notebook for the first time, start by running the two cells below. Once you are done **reload the page** to load the notebook in the installed Scala kernel."
      ]
    },
    {
      "cell_type": "code",
      "execution_count": null,
      "metadata": {
        "colab": {
          "base_uri": "https://localhost:8080/"
        },
        "id": "RoCcdvTCAqeR",
        "outputId": "281997ad-506d-4221-c3b5-0f343d354b6f"
      },
      "outputs": [
        {
          "output_type": "stream",
          "name": "stdout",
          "text": [
            "  % Total    % Received % Xferd  Average Speed   Time    Time     Time  Current\n",
            "                                 Dload  Upload   Total   Spent    Left  Speed\n",
            "  0     0    0     0    0     0      0      0 --:--:-- --:--:-- --:--:--     0\n",
            "  0     0    0     0    0     0      0      0 --:--:-- --:--:-- --:--:--     0\n",
            "100 42577  100 42577    0     0  67905      0 --:--:-- --:--:-- --:--:-- 67905\n"
          ]
        },
        {
          "output_type": "execute_result",
          "data": {
            "text/plain": []
          },
          "metadata": {},
          "execution_count": 3
        }
      ],
      "source": [
        "%%shell\n",
        "SCALA_VERSION=2.12.8 ALMOND_VERSION=0.3.0+16-548dc10f-SNAPSHOT\n",
        "curl -Lo coursier https://git.io/coursier-cli\n",
        "chmod +x coursier\n",
        "./coursier bootstrap \\\n",
        "    -r jitpack -r sonatype:snapshots \\\n",
        "    -i user -I user:sh.almond:scala-kernel-api_$SCALA_VERSION:$ALMOND_VERSION \\\n",
        "    sh.almond:scala-kernel_$SCALA_VERSION:$ALMOND_VERSION \\\n",
        "    --sources --default=true \\\n",
        "    -o almond-snapshot --embed-files=false &> /dev/null\n",
        "rm coursier\n",
        "./almond-snapshot --install --global --force &> /dev/null\n",
        "rm almond-snapshot"
      ]
    },
    {
      "cell_type": "code",
      "execution_count": null,
      "metadata": {
        "id": "BZchIo9sArF4",
        "colab": {
          "base_uri": "https://localhost:8080/"
        },
        "outputId": "9b7a6207-a411-409f-ddfb-dfdae31fc143"
      },
      "outputs": [
        {
          "output_type": "execute_result",
          "data": {
            "text/plain": []
          },
          "metadata": {},
          "execution_count": 4
        }
      ],
      "source": [
        "%%shell\n",
        "echo \"{\n",
        "  \\\"language\\\" : \\\"scala\\\",\n",
        "  \\\"display_name\\\" : \\\"Scala\\\",\n",
        "  \\\"argv\\\" : [\n",
        "    \\\"bash\\\",\n",
        "    \\\"-c\\\",\n",
        "    \\\"env LD_PRELOAD=/usr/lib/x86_64-linux-gnu/libpython3.6m.so:\\$LD_PRELOAD java -jar /usr/local/share/jupyter/kernels/scala/launcher.jar --connection-file {connection_file}\\\"\n",
        "  ]\n",
        "}\" > /usr/local/share/jupyter/kernels/scala/kernel.json"
      ]
    },
    {
      "cell_type": "markdown",
      "source": [
        "## Refresh your browser at this point"
      ],
      "metadata": {
        "id": "xPA_UWk5K8WR"
      }
    },
    {
      "cell_type": "code",
      "source": [
        "val clientJar = \"/content/client-java/target/client-ng-java-1.0-SNAPSHOT-jar-with-dependencies.jar\"\n",
        "val path = java.nio.file.FileSystems.getDefault().getPath(clientJar)\n",
        "val x = ammonite.ops.Path(path)\n",
        "interp.load.cp(x)"
      ],
      "metadata": {
        "id": "Kp50gE7jn2Gb",
        "colab": {
          "base_uri": "https://localhost:8080/"
        },
        "outputId": "e2d650ea-2e2c-4194-a190-9213124a6ecc"
      },
      "execution_count": 1,
      "outputs": [
        {
          "output_type": "execute_result",
          "data": {
            "text/plain": [
              "\u001b[36mclientJar\u001b[39m: \u001b[32mString\u001b[39m = \u001b[32m\"/content/client-java/target/client-ng-java-1.0-SNAPSHOT-jar-with-dependencies.jar\"\u001b[39m\n",
              "\u001b[36mpath\u001b[39m: \u001b[32mjava\u001b[39m.\u001b[32mnio\u001b[39m.\u001b[32mfile\u001b[39m.\u001b[32mPath\u001b[39m = /content/client-java/target/client-ng-java-1.0-SNAPSHOT-jar-with-dependencies.jar\n",
              "\u001b[36mx\u001b[39m: \u001b[32mos\u001b[39m.\u001b[32mPath\u001b[39m = root/\u001b[32m'content\u001b[39m/\u001b[32m\"client-java\"\u001b[39m/\u001b[32m'target\u001b[39m/\u001b[32m\"client-ng-java-1.0-SNAPSHOT-jar-with-dependencies.jar\"\u001b[39m"
            ]
          },
          "metadata": {},
          "execution_count": 1
        }
      ]
    },
    {
      "cell_type": "markdown",
      "metadata": {
        "id": "kQe78pN0OSuq"
      },
      "source": [
        "## Download Necessary Libraries\n",
        "\n",
        "Using import as below we download all libraries necessary to create the MNist Model.  This may take a while."
      ]
    },
    {
      "cell_type": "code",
      "execution_count": null,
      "metadata": {
        "id": "a9z0PxRg_iOp"
      },
      "outputs": [],
      "source": [
        "import $ivy.`org.nd4j:nd4j-native-platform:1.0.0-M2`\n",
        "import $ivy.`org.deeplearning4j:deeplearning4j-datasets:1.0.0-M2`\n",
        "import $ivy.`org.deeplearning4j:deeplearning4j-core:1.0.0-M2`\n",
        "import $ivy.`org.nd4j:nd4s_2.11:1.0.0-beta7`\n",
        "import $ivy.`org.nd4j:nd4j-api:1.0.0-M2`\n",
        "import $ivy.`org.nd4j:nd4j-native-platform:1.0.0-M2`"
      ]
    },
    {
      "cell_type": "code",
      "source": [
        "  import org.deeplearning4j.nn.conf.MultiLayerConfiguration;\n",
        "  import org.deeplearning4j.nn.conf.NeuralNetConfiguration;\n",
        "  import org.deeplearning4j.nn.conf.layers.DenseLayer;\n",
        "  import org.deeplearning4j.nn.conf.layers.OutputLayer;\n",
        "  import org.deeplearning4j.nn.multilayer.MultiLayerNetwork;\n",
        "  import org.deeplearning4j.nn.weights.WeightInit;\n",
        "  import org.deeplearning4j.optimize.listeners.ScoreIterationListener;\n",
        "  import org.nd4j.evaluation.classification.Evaluation;\n",
        "  import org.nd4j.linalg.activations.Activation;\n",
        "  import org.nd4j.linalg.dataset.api.iterator.DataSetIterator;\n",
        "  import org.nd4j.linalg.learning.config.{Nadam, Adam};\n",
        "  import org.nd4j.linalg.lossfunctions.LossFunctions.LossFunction;\n",
        "  import org.nd4j.linalg.dataset.DataSet;\n",
        "  import org.nd4j.linalg.factory.Nd4j\n",
        "  import java.io.{File, PrintWriter}\n",
        "  import org.datavec.api.records.reader.RecordReader;\n",
        "  import org.datavec.api.records.reader.impl.csv.CSVRecordReader;\n",
        "  import org.datavec.api.split.FileSplit;\n",
        "  import org.deeplearning4j.datasets.datavec.RecordReaderDataSetIterator;"
      ],
      "metadata": {
        "id": "u9SCBcJSfxDL"
      },
      "execution_count": null,
      "outputs": []
    },
    {
      "cell_type": "markdown",
      "source": [],
      "metadata": {
        "id": "NBr6nrKQJwrh"
      }
    },
    {
      "cell_type": "code",
      "source": [
        "def loadData(path: String, batchSize: Int, labelIndex: Int, numClasses: Int): DataSetIterator = {\n",
        "    val file = new java.io.File(path)\n",
        "    val reader: RecordReader = new CSVRecordReader()\n",
        "    reader.initialize(new FileSplit( file ))\n",
        "    new RecordReaderDataSetIterator(reader, batchSize, labelIndex, numClasses); //reader, batch size, label index, num of label classes\n",
        "}\n",
        "{{\n",
        "  val trainIter = loadData(\"mnist_train.csv\", 256, 0, 10)\n",
        "  val testIter = loadData(\"mnist_test.csv\", 256, 0, 10)\n",
        "}}"
      ],
      "metadata": {
        "id": "vv2DV6VPf-DN",
        "colab": {
          "base_uri": "https://localhost:8080/"
        },
        "outputId": "c9a326b3-1c70-49ab-e577-4f0ea6513a41"
      },
      "execution_count": 5,
      "outputs": [
        {
          "output_type": "stream",
          "name": "stderr",
          "text": [
            "SLF4J: Failed to load class \"org.slf4j.impl.StaticLoggerBinder\".\n",
            "SLF4J: Defaulting to no-operation (NOP) logger implementation\n",
            "SLF4J: See http://www.slf4j.org/codes.html#StaticLoggerBinder for further details.\n"
          ]
        },
        {
          "output_type": "execute_result",
          "data": {
            "text/plain": [
              "defined \u001b[32mfunction\u001b[39m \u001b[36mloadData\u001b[39m"
            ]
          },
          "metadata": {},
          "execution_count": 5
        }
      ]
    },
    {
      "cell_type": "code",
      "source": [
        "def loadData2(path: String, labelIndex: Int, numClasses: Int) = {\n",
        "  val data = Nd4j.readNumpy(path, \",\")\n",
        "  val labels = data.getColumn(labelIndex)\n",
        "  val Array(m,n) = data.shape\n",
        "  val features = data.getColumns(  (0 until n.toInt).filter( _ != labelIndex):_*)\n",
        "  val oneHotLabels = Nd4j.zeros(m,numClasses) \n",
        "  labels.dup.data.asInt.zipWithIndex.foreach { \n",
        "    case (k,v) => oneHotLabels.putScalar(v,k,1.0)\n",
        "  }\n",
        "  val dataset = new DataSet(features, oneHotLabels)\n",
        "  dataset\n",
        "}\n",
        "// wrap in braces to suppress all stdout\n",
        "\n",
        "val train = loadData2(\"mnist_train.csv\", 0, 10)\n",
        "val test = loadData2(\"mnist_test.csv\", 0, 10)"
      ],
      "metadata": {
        "id": "CczA3SjSNH-Q"
      },
      "execution_count": null,
      "outputs": []
    },
    {
      "cell_type": "code",
      "source": [
        "import scala.collection.JavaConverters._\n",
        "import com.wandb.client._\n",
        "import org.json.JSONObject;\n",
        "\n",
        "\n",
        "val rate=0.0015\n",
        "val numEpochs=1\n",
        "val numColumns=28\n",
        "val randomSeed=123\n",
        "val numRows=28\n",
        "val outputNum=10\n",
        "\n",
        "val config = new JSONObject()\n",
        "\n",
        "val configMap = Map(\n",
        "  \"numRows\" -> numRows, \"numColumns\" -> numColumns, \"outputNum\" -> outputNum,\n",
        "  \"randomSeed\" -> randomSeed, \"numEpochs\" -> numEpochs, \"rate\" -> rate\n",
        "  )\n",
        "\n",
        "configMap.foreach{ case (k,v) => config.put(k,v) }\n",
        "\n",
        "val tags = List(\"scala\", \"dl4j\", \"client-java\").asJava"
      ],
      "metadata": {
        "id": "n0uMzgBeM4uf",
        "colab": {
          "base_uri": "https://localhost:8080/"
        },
        "outputId": "667297b6-39b8-4e79-c813-0538816bd6fc"
      },
      "execution_count": 15,
      "outputs": [
        {
          "output_type": "execute_result",
          "data": {
            "text/plain": [
              "\u001b[32mimport \u001b[39m\u001b[36mscala.collection.JavaConverters._\n",
              "\u001b[39m\n",
              "\u001b[32mimport \u001b[39m\u001b[36mcom.wandb.client._\n",
              "\u001b[39m\n",
              "\u001b[32mimport \u001b[39m\u001b[36morg.json.JSONObject;\n",
              "\n",
              "\n",
              "\u001b[39m\n",
              "\u001b[36mrate\u001b[39m: \u001b[32mDouble\u001b[39m = \u001b[32m0.0015\u001b[39m\n",
              "\u001b[36mnumEpochs\u001b[39m: \u001b[32mInt\u001b[39m = \u001b[32m1\u001b[39m\n",
              "\u001b[36mnumColumns\u001b[39m: \u001b[32mInt\u001b[39m = \u001b[32m28\u001b[39m\n",
              "\u001b[36mrandomSeed\u001b[39m: \u001b[32mInt\u001b[39m = \u001b[32m123\u001b[39m\n",
              "\u001b[36mnumRows\u001b[39m: \u001b[32mInt\u001b[39m = \u001b[32m28\u001b[39m\n",
              "\u001b[36moutputNum\u001b[39m: \u001b[32mInt\u001b[39m = \u001b[32m10\u001b[39m\n",
              "\u001b[36mconfig\u001b[39m: \u001b[32mJSONObject\u001b[39m = {\"randomSeed\":123,\"numRows\":28,\"rate\":0.0015,\"numEpochs\":1,\"outputNum\":10,\"numColumns\":28}\n",
              "\u001b[36mconfigMap\u001b[39m: \u001b[32mMap\u001b[39m[\u001b[32mString\u001b[39m, \u001b[32mAnyVal\u001b[39m] = \u001b[33mMap\u001b[39m(\n",
              "  \u001b[32m\"rate\"\u001b[39m -> \u001b[32m0.0015\u001b[39m,\n",
              "  \u001b[32m\"numEpochs\"\u001b[39m -> \u001b[32m1\u001b[39m,\n",
              "  \u001b[32m\"numColumns\"\u001b[39m -> \u001b[32m28\u001b[39m,\n",
              "  \u001b[32m\"randomSeed\"\u001b[39m -> \u001b[32m123\u001b[39m,\n",
              "  \u001b[32m\"numRows\"\u001b[39m -> \u001b[32m28\u001b[39m,\n",
              "  \u001b[32m\"outputNum\"\u001b[39m -> \u001b[32m10\u001b[39m\n",
              ")\n",
              "\u001b[36mtags\u001b[39m: \u001b[32mjava\u001b[39m.\u001b[32mutil\u001b[39m.\u001b[32mList\u001b[39m[\u001b[32mString\u001b[39m] = \u001b[33mSeqWrapper\u001b[39m(\u001b[33mList\u001b[39m(\u001b[32m\"scala\"\u001b[39m, \u001b[32m\"dl4j\"\u001b[39m, \u001b[32m\"client-java\"\u001b[39m))"
            ]
          },
          "metadata": {},
          "execution_count": 15
        }
      ]
    },
    {
      "cell_type": "code",
      "source": [
        "val modelConf = new NeuralNetConfiguration.Builder()\n",
        "            .seed(randomSeed) //include a random seed for reproducibility\n",
        "            .activation(Activation.RELU)\n",
        "            .weightInit(WeightInit.XAVIER)\n",
        "            .updater(new Adam())\n",
        "            .l2(rate * 0.0001) // regularize learning model\n",
        "            .list()\n",
        "            .layer(new DenseLayer.Builder() //create the first input layer.\n",
        "                    .nIn(numRows * numColumns)\n",
        "                    .nOut(40)\n",
        "                    .build())\n",
        "            .layer(new DenseLayer.Builder() //create the second input layer\n",
        "                    .nIn(40).activation(Activation.IDENTITY)\n",
        "                    .nOut(10)\n",
        "                    .build())\n",
        "            .layer(new OutputLayer.Builder(LossFunction.MCXENT) //create hidden layer\n",
        "                    .activation(Activation.SOFTMAX)\n",
        "                    .nOut(outputNum)\n",
        "                    .build())\n",
        "            .build();"
      ],
      "metadata": {
        "id": "MCm2R294h_9C",
        "colab": {
          "base_uri": "https://localhost:8080/"
        },
        "outputId": "ced4c6c9-919d-454f-a991-9871ce3448fa"
      },
      "execution_count": 16,
      "outputs": [
        {
          "output_type": "execute_result",
          "data": {
            "text/plain": [
              "\u001b[36mmodelConf\u001b[39m: \u001b[32mMultiLayerConfiguration\u001b[39m = {\n",
              "  \"backpropType\" : \"Standard\",\n",
              "  \"cacheMode\" : \"NONE\",\n",
              "  \"confs\" : [ {\n",
              "    \"cacheMode\" : \"NONE\",\n",
              "    \"dataType\" : \"FLOAT\",\n",
              "    \"epochCount\" : 0,\n",
              "    \"iterationCount\" : 0,\n",
              "    \"layer\" : {\n",
              "      \"@class\" : \"org.deeplearning4j.nn.conf.layers.DenseLayer\",\n",
              "      \"activationFn\" : {\n",
              "        \"@class\" : \"org.nd4j.linalg.activations.impl.ActivationReLU\",\n",
              "        \"max\" : null,\n",
              "        \"negativeSlope\" : null,\n",
              "        \"threshold\" : null\n",
              "      },\n",
              "      \"biasInit\" : 0.0,\n",
              "      \"biasUpdater\" : null,\n",
              "      \"constraints\" : null,\n",
              "      \"gainInit\" : 1.0,\n",
              "      \"gradientNormalization\" : \"None\",\n",
              "      \"gradientNormalizationThreshold\" : 1.0,\n",
              "      \"hasBias\" : true,\n",
              "      \"hasLayerNorm\" : false,\n",
              "      \"idropout\" : null,\n",
              "      \"iupdater\" : {\n",
              "        \"@class\" : \"org.nd4j.linalg.learning.config.Adam\",\n",
              "        \"beta1\" : 0.9,\n",
              "        \"beta2\" : 0.999,\n",
              "        \"epsilon\" : 1.0E-8,\n",
              "        \"learningRate\" : 0.001\n",
              "      },\n",
              "      \"layerName\" : \"layer0\",\n",
              "      \"nin\" : 784,\n",
              "      \"nout\" : 40,\n",
              "      \"regularization\" : [ {\n",
              "        \"@class\" : \"org.nd4j.linalg.learning.regularization.L2Regularization\",\n",
              "        \"l2\" : {\n",
              "          \"@class\" : \"org.nd4j.linalg.schedule.FixedSchedule\",\n",
              "..."
            ]
          },
          "metadata": {},
          "execution_count": 16
        }
      ]
    },
    {
      "cell_type": "code",
      "source": [
        "val model = new MultiLayerNetwork(modelConf);"
      ],
      "metadata": {
        "id": "_M4OGlPdiCc7",
        "colab": {
          "base_uri": "https://localhost:8080/"
        },
        "outputId": "ac9d58ef-37f4-41a8-fae7-de4a0e069798"
      },
      "execution_count": 17,
      "outputs": [
        {
          "output_type": "execute_result",
          "data": {
            "text/plain": [
              "\u001b[36mmodel\u001b[39m: \u001b[32mMultiLayerNetwork\u001b[39m = org.deeplearning4j.nn.multilayer.MultiLayerNetwork@561c0025"
            ]
          },
          "metadata": {},
          "execution_count": 17
        }
      ]
    },
    {
      "cell_type": "code",
      "source": [
        "\n",
        "import org.deeplearning4j.nn.api.Model;\n",
        "import org.nd4j.linalg.dataset.DataSet;\n",
        "\n",
        "import org.deeplearning4j.optimize.api.BaseTrainingListener;\n",
        "import java.io.Serializable;\n",
        "import com.wandb.client._\n",
        "import org.json.JSONObject;\n",
        "\n",
        "case class WandBListener(logIteration: Int = 10,\n",
        "                         testDataset: DataSet,\n",
        "                         run: WandbRun) extends BaseTrainingListener with Serializable {\n",
        "\n",
        "  if(logIteration <= 0) throw new Exception(s\"Iteration must be greater than 0\")\n",
        "\n",
        "  override def iterationDone(model: Model, iteration: Int, epoch: Int): Unit = { \n",
        "    if(iteration % logIteration == 0) {\n",
        "      val trainingScore = model.score();\n",
        "      val testScore = model.asInstanceOf[MultiLayerNetwork].score(testDataset)\n",
        "      val data = new JSONObject() \n",
        "      data.put(\"epoch\", epoch)\n",
        "      data.put(\"iteration\", iteration)\n",
        "      data.put(\"train_loss\", trainingScore)\n",
        "      data.put(\"test_loss\", testScore)\n",
        "      run.log(data)\n",
        "      println(s\"Score on train dataset at iteration $iteration is $trainingScore\")\n",
        "      println(s\"Score on test dataset at iteration $iteration is $testScore\")\n",
        "    }\n",
        "  }\n",
        "}"
      ],
      "metadata": {
        "colab": {
          "base_uri": "https://localhost:8080/"
        },
        "id": "3ldO8Xd_Ph-F",
        "outputId": "6ad8d8a4-e042-4bf6-d1cf-65f4be914a94"
      },
      "execution_count": 18,
      "outputs": [
        {
          "output_type": "execute_result",
          "data": {
            "text/plain": [
              "\u001b[32mimport \u001b[39m\u001b[36morg.deeplearning4j.nn.api.Model;\n",
              "\u001b[39m\n",
              "\u001b[32mimport \u001b[39m\u001b[36morg.nd4j.linalg.dataset.DataSet;\n",
              "\n",
              "\u001b[39m\n",
              "\u001b[32mimport \u001b[39m\u001b[36morg.deeplearning4j.optimize.api.BaseTrainingListener;\n",
              "\u001b[39m\n",
              "\u001b[32mimport \u001b[39m\u001b[36mjava.io.Serializable;\n",
              "\u001b[39m\n",
              "\u001b[32mimport \u001b[39m\u001b[36mcom.wandb.client._\n",
              "\u001b[39m\n",
              "\u001b[32mimport \u001b[39m\u001b[36morg.json.JSONObject;\n",
              "\n",
              "\u001b[39m\n",
              "defined \u001b[32mclass\u001b[39m \u001b[36mWandBListener\u001b[39m"
            ]
          },
          "metadata": {},
          "execution_count": 18
        }
      ]
    },
    {
      "cell_type": "code",
      "source": [
        "val runBuilder = new WandbRun.Builder()\n",
        "runBuilder.withConfig(config).withProject(\"dl4j-wandb-java-client\").setTags(tags).setJobType(\"training\")\n",
        "val run = runBuilder.build\n",
        "\n",
        "model.setListeners(new WandBListener(10, test, run));  \n",
        "model.init();\n",
        "\n",
        "(1 to 50).foreach{\n",
        " i => model.fit(train)\n",
        " if(i % 5 == 0){\n",
        "    val testLogLoss = model.score(test)\n",
        "    val trainingLogLoss = model.score(train)\n",
        " }\n",
        "}\n",
        "\n",
        "run.finish()"
      ],
      "metadata": {
        "colab": {
          "base_uri": "https://localhost:8080/"
        },
        "id": "-QIVdgVBQzUN",
        "outputId": "82034f2c-dda7-4768-e236-1d6de0d4fc35"
      },
      "execution_count": 22,
      "outputs": [
        {
          "output_type": "stream",
          "name": "stdout",
          "text": [
            "Score on train dataset at iteration 50 is 2.319589261350473\n",
            "Score on test dataset at iteration 50 is 2.2378570343817743\n",
            "Score on train dataset at iteration 60 is 1.8830322212611519\n",
            "Score on test dataset at iteration 60 is 1.824831048102856\n",
            "Score on train dataset at iteration 70 is 1.6155475707597593\n",
            "Score on test dataset at iteration 70 is 1.564484157617173\n",
            "Score on train dataset at iteration 80 is 1.4439225542252019\n",
            "Score on test dataset at iteration 80 is 1.4044416607112717\n",
            "Score on train dataset at iteration 90 is 1.325087383083493\n",
            "Score on test dataset at iteration 90 is 1.3071131304422248\n"
          ]
        },
        {
          "output_type": "execute_result",
          "data": {
            "text/plain": [
              "\u001b[36mrunBuilder\u001b[39m: \u001b[32mWandbRun\u001b[39m.\u001b[32mBuilder\u001b[39m = com.wandb.client.WandbRun$Builder@25130b53\n",
              "\u001b[36mres21_1\u001b[39m: \u001b[32mWandbRun\u001b[39m.\u001b[32mBuilder\u001b[39m = com.wandb.client.WandbRun$Builder@25130b53\n",
              "\u001b[36mrun\u001b[39m: \u001b[32mWandbRun\u001b[39m = com.wandb.client.WandbRun@2aaf4c14"
            ]
          },
          "metadata": {},
          "execution_count": 22
        }
      ]
    },
    {
      "cell_type": "code",
      "source": [],
      "metadata": {
        "id": "5yBazyiskeBO"
      },
      "execution_count": null,
      "outputs": []
    }
  ],
  "metadata": {
    "colab": {
      "collapsed_sections": [],
      "provenance": [],
      "include_colab_link": true
    },
    "kernelspec": {
      "display_name": "Scala",
      "language": "scala",
      "name": "scala"
    }
  },
  "nbformat": 4,
  "nbformat_minor": 0
}