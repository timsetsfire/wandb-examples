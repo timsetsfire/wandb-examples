{
  "nbformat": 4,
  "nbformat_minor": 0,
  "metadata": {
    "colab": {
      "provenance": [],
      "authorship_tag": "ABX9TyMjyQxBd6EQNCe8DlsJGBRW",
      "include_colab_link": true
    },
    "kernelspec": {
      "name": "python3",
      "display_name": "Python 3"
    },
    "language_info": {
      "name": "python"
    },
    "widgets": {
      "application/vnd.jupyter.widget-state+json": {
        "3208255489344fb2bd242c5329d867ab": {
          "model_module": "catboost-widget",
          "model_name": "CatboostWidgetModel",
          "model_module_version": "^1.0.0",
          "state": {
            "_dom_classes": [],
            "_model_module": "catboost-widget",
            "_model_module_version": "^1.0.0",
            "_model_name": "CatboostWidgetModel",
            "_view_count": null,
            "_view_module": "catboost-widget",
            "_view_module_version": "^1.0.0",
            "_view_name": "CatboostWidgetView",
            "data": {
              "catboost_info": {
                "path": "catboost_info",
                "name": "catboost_info",
                "content": {
                  "passed_iterations": 9,
                  "total_iterations": 10,
                  "data": {
                    "iterations": [
                      {
                        "learn": [
                          0.2261580381,
                          0.4678699814
                        ],
                        "iteration": 0,
                        "passed_time": 0.3137128721,
                        "remaining_time": 2.823415849,
                        "test": [
                          0.1985815603,
                          0.4687360503
                        ]
                      },
                      {
                        "learn": [
                          0.3460490463,
                          0.3455686721
                        ],
                        "iteration": 1,
                        "passed_time": 0.3171631868,
                        "remaining_time": 1.268652747,
                        "test": [
                          0.3404255319,
                          0.3453548658
                        ]
                      },
                      {
                        "learn": [
                          0.4277929155,
                          0.2546393486
                        ],
                        "iteration": 2,
                        "passed_time": 0.3205081016,
                        "remaining_time": 0.7478522372,
                        "test": [
                          0.4113475177,
                          0.2551922354
                        ]
                      },
                      {
                        "learn": [
                          0.4495912807,
                          0.1976518787
                        ],
                        "iteration": 3,
                        "passed_time": 0.3228391819,
                        "remaining_time": 0.4842587728,
                        "test": [
                          0.4113475177,
                          0.2012140658
                        ]
                      },
                      {
                        "learn": [
                          0.4495912807,
                          0.1628474592
                        ],
                        "iteration": 4,
                        "passed_time": 0.3249478328,
                        "remaining_time": 0.3249478328,
                        "test": [
                          0.4113475177,
                          0.1678004973
                        ]
                      },
                      {
                        "learn": [
                          0.4495912807,
                          0.1336547741
                        ],
                        "iteration": 5,
                        "passed_time": 0.330331235,
                        "remaining_time": 0.2202208234,
                        "test": [
                          0.4113475177,
                          0.1402356021
                        ]
                      },
                      {
                        "learn": [
                          0.4495912807,
                          0.1133924124
                        ],
                        "iteration": 6,
                        "passed_time": 0.3335935172,
                        "remaining_time": 0.1429686502,
                        "test": [
                          0.4184397163,
                          0.1212349182
                        ]
                      },
                      {
                        "learn": [
                          0.4523160763,
                          0.09895216833
                        ],
                        "iteration": 7,
                        "passed_time": 0.3365120421,
                        "remaining_time": 0.08412801052,
                        "test": [
                          0.4255319149,
                          0.1078478434
                        ]
                      },
                      {
                        "learn": [
                          0.446866485,
                          0.08746771315
                        ],
                        "iteration": 8,
                        "passed_time": 0.3385335817,
                        "remaining_time": 0.03761484241,
                        "test": [
                          0.4255319149,
                          0.09593092333
                        ]
                      },
                      {
                        "learn": [
                          0.4495912807,
                          0.07989854322
                        ],
                        "iteration": 9,
                        "passed_time": 0.3407489328,
                        "remaining_time": 0,
                        "test": [
                          0.4184397163,
                          0.08884957926
                        ]
                      }
                    ],
                    "meta": {
                      "test_sets": [
                        "test"
                      ],
                      "test_metrics": [
                        {
                          "best_value": "Max",
                          "name": "ResponseAtTopNPercent"
                        },
                        {
                          "best_value": "Min",
                          "name": "Logloss"
                        }
                      ],
                      "learn_metrics": [
                        {
                          "best_value": "Max",
                          "name": "ResponseAtTopNPercent"
                        },
                        {
                          "best_value": "Min",
                          "name": "Logloss"
                        }
                      ],
                      "launch_mode": "Train",
                      "parameters": "",
                      "iteration_count": 10,
                      "learn_sets": [
                        "learn"
                      ],
                      "name": "experiment"
                    }
                  }
                }
              }
            },
            "layout": "IPY_MODEL_3fd71f58f3074b888ba4c79f7a63ce44"
          }
        },
        "6e86685a13e846e4a07276f7b6967bda": {
          "model_module": "@jupyter-widgets/controls",
          "model_name": "VBoxModel",
          "model_module_version": "1.5.0",
          "state": {
            "_dom_classes": [],
            "_model_module": "@jupyter-widgets/controls",
            "_model_module_version": "1.5.0",
            "_model_name": "VBoxModel",
            "_view_count": null,
            "_view_module": "@jupyter-widgets/controls",
            "_view_module_version": "1.5.0",
            "_view_name": "VBoxView",
            "box_style": "",
            "children": [
              "IPY_MODEL_bcfa5348098d4b4f91a1ff698e59f112",
              "IPY_MODEL_fabb67b3f3ae46e4af81df9b8c0a2036"
            ],
            "layout": "IPY_MODEL_0e1a272ebf5c41b98ab167913dddfa2a"
          }
        },
        "bcfa5348098d4b4f91a1ff698e59f112": {
          "model_module": "@jupyter-widgets/controls",
          "model_name": "LabelModel",
          "model_module_version": "1.5.0",
          "state": {
            "_dom_classes": [],
            "_model_module": "@jupyter-widgets/controls",
            "_model_module_version": "1.5.0",
            "_model_name": "LabelModel",
            "_view_count": null,
            "_view_module": "@jupyter-widgets/controls",
            "_view_module_version": "1.5.0",
            "_view_name": "LabelView",
            "description": "",
            "description_tooltip": null,
            "layout": "IPY_MODEL_b40759df8edf460cba7488f03b908a34",
            "placeholder": "​",
            "style": "IPY_MODEL_b156d9aa53ea4dd69b587e15844643c4",
            "value": "Waiting for wandb.init()...\r"
          }
        },
        "fabb67b3f3ae46e4af81df9b8c0a2036": {
          "model_module": "@jupyter-widgets/controls",
          "model_name": "FloatProgressModel",
          "model_module_version": "1.5.0",
          "state": {
            "_dom_classes": [],
            "_model_module": "@jupyter-widgets/controls",
            "_model_module_version": "1.5.0",
            "_model_name": "FloatProgressModel",
            "_view_count": null,
            "_view_module": "@jupyter-widgets/controls",
            "_view_module_version": "1.5.0",
            "_view_name": "ProgressView",
            "bar_style": "",
            "description": "",
            "description_tooltip": null,
            "layout": "IPY_MODEL_5b3b3357de334196b38ff549c4cfc0ad",
            "max": 1,
            "min": 0,
            "orientation": "horizontal",
            "style": "IPY_MODEL_1f60303dab6d4b3688ea2fac6c3d1d10",
            "value": 1
          }
        },
        "0e1a272ebf5c41b98ab167913dddfa2a": {
          "model_module": "@jupyter-widgets/base",
          "model_name": "LayoutModel",
          "model_module_version": "1.2.0",
          "state": {
            "_model_module": "@jupyter-widgets/base",
            "_model_module_version": "1.2.0",
            "_model_name": "LayoutModel",
            "_view_count": null,
            "_view_module": "@jupyter-widgets/base",
            "_view_module_version": "1.2.0",
            "_view_name": "LayoutView",
            "align_content": null,
            "align_items": null,
            "align_self": null,
            "border": null,
            "bottom": null,
            "display": null,
            "flex": null,
            "flex_flow": null,
            "grid_area": null,
            "grid_auto_columns": null,
            "grid_auto_flow": null,
            "grid_auto_rows": null,
            "grid_column": null,
            "grid_gap": null,
            "grid_row": null,
            "grid_template_areas": null,
            "grid_template_columns": null,
            "grid_template_rows": null,
            "height": null,
            "justify_content": null,
            "justify_items": null,
            "left": null,
            "margin": null,
            "max_height": null,
            "max_width": null,
            "min_height": null,
            "min_width": null,
            "object_fit": null,
            "object_position": null,
            "order": null,
            "overflow": null,
            "overflow_x": null,
            "overflow_y": null,
            "padding": null,
            "right": null,
            "top": null,
            "visibility": null,
            "width": null
          }
        },
        "b40759df8edf460cba7488f03b908a34": {
          "model_module": "@jupyter-widgets/base",
          "model_name": "LayoutModel",
          "model_module_version": "1.2.0",
          "state": {
            "_model_module": "@jupyter-widgets/base",
            "_model_module_version": "1.2.0",
            "_model_name": "LayoutModel",
            "_view_count": null,
            "_view_module": "@jupyter-widgets/base",
            "_view_module_version": "1.2.0",
            "_view_name": "LayoutView",
            "align_content": null,
            "align_items": null,
            "align_self": null,
            "border": null,
            "bottom": null,
            "display": null,
            "flex": null,
            "flex_flow": null,
            "grid_area": null,
            "grid_auto_columns": null,
            "grid_auto_flow": null,
            "grid_auto_rows": null,
            "grid_column": null,
            "grid_gap": null,
            "grid_row": null,
            "grid_template_areas": null,
            "grid_template_columns": null,
            "grid_template_rows": null,
            "height": null,
            "justify_content": null,
            "justify_items": null,
            "left": null,
            "margin": null,
            "max_height": null,
            "max_width": null,
            "min_height": null,
            "min_width": null,
            "object_fit": null,
            "object_position": null,
            "order": null,
            "overflow": null,
            "overflow_x": null,
            "overflow_y": null,
            "padding": null,
            "right": null,
            "top": null,
            "visibility": null,
            "width": null
          }
        },
        "b156d9aa53ea4dd69b587e15844643c4": {
          "model_module": "@jupyter-widgets/controls",
          "model_name": "DescriptionStyleModel",
          "model_module_version": "1.5.0",
          "state": {
            "_model_module": "@jupyter-widgets/controls",
            "_model_module_version": "1.5.0",
            "_model_name": "DescriptionStyleModel",
            "_view_count": null,
            "_view_module": "@jupyter-widgets/base",
            "_view_module_version": "1.2.0",
            "_view_name": "StyleView",
            "description_width": ""
          }
        },
        "5b3b3357de334196b38ff549c4cfc0ad": {
          "model_module": "@jupyter-widgets/base",
          "model_name": "LayoutModel",
          "model_module_version": "1.2.0",
          "state": {
            "_model_module": "@jupyter-widgets/base",
            "_model_module_version": "1.2.0",
            "_model_name": "LayoutModel",
            "_view_count": null,
            "_view_module": "@jupyter-widgets/base",
            "_view_module_version": "1.2.0",
            "_view_name": "LayoutView",
            "align_content": null,
            "align_items": null,
            "align_self": null,
            "border": null,
            "bottom": null,
            "display": null,
            "flex": null,
            "flex_flow": null,
            "grid_area": null,
            "grid_auto_columns": null,
            "grid_auto_flow": null,
            "grid_auto_rows": null,
            "grid_column": null,
            "grid_gap": null,
            "grid_row": null,
            "grid_template_areas": null,
            "grid_template_columns": null,
            "grid_template_rows": null,
            "height": null,
            "justify_content": null,
            "justify_items": null,
            "left": null,
            "margin": null,
            "max_height": null,
            "max_width": null,
            "min_height": null,
            "min_width": null,
            "object_fit": null,
            "object_position": null,
            "order": null,
            "overflow": null,
            "overflow_x": null,
            "overflow_y": null,
            "padding": null,
            "right": null,
            "top": null,
            "visibility": null,
            "width": null
          }
        },
        "1f60303dab6d4b3688ea2fac6c3d1d10": {
          "model_module": "@jupyter-widgets/controls",
          "model_name": "ProgressStyleModel",
          "model_module_version": "1.5.0",
          "state": {
            "_model_module": "@jupyter-widgets/controls",
            "_model_module_version": "1.5.0",
            "_model_name": "ProgressStyleModel",
            "_view_count": null,
            "_view_module": "@jupyter-widgets/base",
            "_view_module_version": "1.2.0",
            "_view_name": "StyleView",
            "bar_color": null,
            "description_width": ""
          }
        },
        "dbf9b9072a964d228e4a3c618b3d95a1": {
          "model_module": "catboost-widget",
          "model_name": "CatboostWidgetModel",
          "model_module_version": "^1.0.0",
          "state": {
            "_dom_classes": [],
            "_model_module": "catboost-widget",
            "_model_module_version": "^1.0.0",
            "_model_name": "CatboostWidgetModel",
            "_view_count": null,
            "_view_module": "catboost-widget",
            "_view_module_version": "^1.0.0",
            "_view_name": "CatboostWidgetView",
            "data": {
              "catboost_info": {
                "path": "catboost_info",
                "name": "catboost_info",
                "content": {
                  "passed_iterations": 9,
                  "total_iterations": 10,
                  "data": {
                    "iterations": [
                      {
                        "learn": [
                          0.2261580381,
                          0.4678699814
                        ],
                        "iteration": 0,
                        "passed_time": 0.1365817825,
                        "remaining_time": 1.229236043,
                        "test": [
                          0.1985815603,
                          0.4687360503
                        ]
                      },
                      {
                        "learn": [
                          0.3460490463,
                          0.3455686721
                        ],
                        "iteration": 1,
                        "passed_time": 0.1490301488,
                        "remaining_time": 0.5961205953,
                        "test": [
                          0.3404255319,
                          0.3453548658
                        ]
                      },
                      {
                        "learn": [
                          0.4277929155,
                          0.2546393486
                        ],
                        "iteration": 2,
                        "passed_time": 0.1646631651,
                        "remaining_time": 0.3842140519,
                        "test": [
                          0.4113475177,
                          0.2551922354
                        ]
                      },
                      {
                        "learn": [
                          0.4495912807,
                          0.1976518787
                        ],
                        "iteration": 3,
                        "passed_time": 0.1666665664,
                        "remaining_time": 0.2499998497,
                        "test": [
                          0.4113475177,
                          0.2012140658
                        ]
                      },
                      {
                        "learn": [
                          0.4495912807,
                          0.1628474592
                        ],
                        "iteration": 4,
                        "passed_time": 0.1687230423,
                        "remaining_time": 0.1687230423,
                        "test": [
                          0.4113475177,
                          0.1678004973
                        ]
                      },
                      {
                        "learn": [
                          0.4495912807,
                          0.1336547741
                        ],
                        "iteration": 5,
                        "passed_time": 0.175352827,
                        "remaining_time": 0.1169018847,
                        "test": [
                          0.4113475177,
                          0.1402356021
                        ]
                      },
                      {
                        "learn": [
                          0.4495912807,
                          0.1133924124
                        ],
                        "iteration": 6,
                        "passed_time": 0.1875285888,
                        "remaining_time": 0.08036939521,
                        "test": [
                          0.4184397163,
                          0.1212349182
                        ]
                      },
                      {
                        "learn": [
                          0.4523160763,
                          0.09895216833
                        ],
                        "iteration": 7,
                        "passed_time": 0.1983865251,
                        "remaining_time": 0.04959663127,
                        "test": [
                          0.4255319149,
                          0.1078478434
                        ]
                      },
                      {
                        "learn": [
                          0.446866485,
                          0.08746771315
                        ],
                        "iteration": 8,
                        "passed_time": 0.2002877258,
                        "remaining_time": 0.02225419176,
                        "test": [
                          0.4255319149,
                          0.09593092333
                        ]
                      },
                      {
                        "learn": [
                          0.4495912807,
                          0.07989854322
                        ],
                        "iteration": 9,
                        "passed_time": 0.2059188749,
                        "remaining_time": 0,
                        "test": [
                          0.4184397163,
                          0.08884957926
                        ]
                      }
                    ],
                    "meta": {
                      "test_sets": [
                        "test"
                      ],
                      "test_metrics": [
                        {
                          "best_value": "Max",
                          "name": "ResponseAtTopNPercent"
                        },
                        {
                          "best_value": "Min",
                          "name": "Logloss"
                        }
                      ],
                      "learn_metrics": [
                        {
                          "best_value": "Max",
                          "name": "ResponseAtTopNPercent"
                        },
                        {
                          "best_value": "Min",
                          "name": "Logloss"
                        }
                      ],
                      "launch_mode": "Train",
                      "parameters": "",
                      "iteration_count": 10,
                      "learn_sets": [
                        "learn"
                      ],
                      "name": "experiment"
                    }
                  }
                }
              }
            },
            "layout": "IPY_MODEL_c3448139ba454afa99c80e5fabd3e208"
          }
        },
        "230ee2c7b81f461b991753350b892cb8": {
          "model_module": "catboost-widget",
          "model_name": "CatboostWidgetModel",
          "model_module_version": "^1.0.0",
          "state": {
            "_dom_classes": [],
            "_model_module": "catboost-widget",
            "_model_module_version": "^1.0.0",
            "_model_name": "CatboostWidgetModel",
            "_view_count": null,
            "_view_module": "catboost-widget",
            "_view_module_version": "^1.0.0",
            "_view_name": "CatboostWidgetView",
            "data": {
              "catboost_info": {
                "path": "catboost_info",
                "name": "catboost_info",
                "content": {
                  "passed_iterations": 9,
                  "total_iterations": 10,
                  "data": {
                    "iterations": [
                      {
                        "learn": [
                          0.2261580381,
                          0.4678699814
                        ],
                        "iteration": 0,
                        "passed_time": 0.05623372828,
                        "remaining_time": 0.5061035545,
                        "test": [
                          0.1985815603,
                          0.4687360503
                        ]
                      },
                      {
                        "learn": [
                          0.3460490463,
                          0.3455686721
                        ],
                        "iteration": 1,
                        "passed_time": 0.05823014983,
                        "remaining_time": 0.2329205993,
                        "test": [
                          0.3404255319,
                          0.3453548658
                        ]
                      },
                      {
                        "learn": [
                          0.4277929155,
                          0.2546393486
                        ],
                        "iteration": 2,
                        "passed_time": 0.05989548303,
                        "remaining_time": 0.1397561271,
                        "test": [
                          0.4113475177,
                          0.2551922354
                        ]
                      },
                      {
                        "learn": [
                          0.4495912807,
                          0.1976518787
                        ],
                        "iteration": 3,
                        "passed_time": 0.06175525791,
                        "remaining_time": 0.09263288686,
                        "test": [
                          0.4113475177,
                          0.2012140658
                        ]
                      },
                      {
                        "learn": [
                          0.4495912807,
                          0.1628474592
                        ],
                        "iteration": 4,
                        "passed_time": 0.06354839907,
                        "remaining_time": 0.06354839907,
                        "test": [
                          0.4113475177,
                          0.1678004973
                        ]
                      },
                      {
                        "learn": [
                          0.4495912807,
                          0.1336547741
                        ],
                        "iteration": 5,
                        "passed_time": 0.06528271555,
                        "remaining_time": 0.04352181037,
                        "test": [
                          0.4113475177,
                          0.1402356021
                        ]
                      },
                      {
                        "learn": [
                          0.4495912807,
                          0.1133924124
                        ],
                        "iteration": 6,
                        "passed_time": 0.067004343,
                        "remaining_time": 0.028716147,
                        "test": [
                          0.4184397163,
                          0.1212349182
                        ]
                      },
                      {
                        "learn": [
                          0.4523160763,
                          0.09895216833
                        ],
                        "iteration": 7,
                        "passed_time": 0.06879902357,
                        "remaining_time": 0.01719975589,
                        "test": [
                          0.4255319149,
                          0.1078478434
                        ]
                      },
                      {
                        "learn": [
                          0.446866485,
                          0.08746771315
                        ],
                        "iteration": 8,
                        "passed_time": 0.07070714367,
                        "remaining_time": 0.007856349296,
                        "test": [
                          0.4255319149,
                          0.09593092333
                        ]
                      },
                      {
                        "learn": [
                          0.4495912807,
                          0.07989854322
                        ],
                        "iteration": 9,
                        "passed_time": 0.07261363369,
                        "remaining_time": 0,
                        "test": [
                          0.4184397163,
                          0.08884957926
                        ]
                      }
                    ],
                    "meta": {
                      "test_sets": [
                        "test"
                      ],
                      "test_metrics": [
                        {
                          "best_value": "Max",
                          "name": "ResponseAtTopNPercent"
                        },
                        {
                          "best_value": "Min",
                          "name": "Logloss"
                        }
                      ],
                      "learn_metrics": [
                        {
                          "best_value": "Max",
                          "name": "ResponseAtTopNPercent"
                        },
                        {
                          "best_value": "Min",
                          "name": "Logloss"
                        }
                      ],
                      "launch_mode": "Train",
                      "parameters": "",
                      "iteration_count": 10,
                      "learn_sets": [
                        "learn"
                      ],
                      "name": "experiment"
                    }
                  }
                }
              }
            },
            "layout": "IPY_MODEL_ef3acf7883094a9da9d0875a13fd1e81"
          }
        },
        "bb7665f626f04a44818d8468eb2ea171": {
          "model_module": "catboost-widget",
          "model_name": "CatboostWidgetModel",
          "model_module_version": "^1.0.0",
          "state": {
            "_dom_classes": [],
            "_model_module": "catboost-widget",
            "_model_module_version": "^1.0.0",
            "_model_name": "CatboostWidgetModel",
            "_view_count": null,
            "_view_module": "catboost-widget",
            "_view_module_version": "^1.0.0",
            "_view_name": "CatboostWidgetView",
            "data": {
              "catboost_info": {
                "path": "catboost_info",
                "name": "catboost_info",
                "content": {
                  "passed_iterations": 9,
                  "total_iterations": 10,
                  "data": {
                    "iterations": [
                      {
                        "learn": [
                          0.2261580381,
                          0.4678699814
                        ],
                        "iteration": 0,
                        "passed_time": 0.05311778162,
                        "remaining_time": 0.4780600346,
                        "test": [
                          0.1985815603,
                          0.4687360503
                        ]
                      },
                      {
                        "learn": [
                          0.3460490463,
                          0.3455686721
                        ],
                        "iteration": 1,
                        "passed_time": 0.0570295528,
                        "remaining_time": 0.2281182112,
                        "test": [
                          0.3404255319,
                          0.3453548658
                        ]
                      },
                      {
                        "learn": [
                          0.4277929155,
                          0.2546393486
                        ],
                        "iteration": 2,
                        "passed_time": 0.06150927044,
                        "remaining_time": 0.143521631,
                        "test": [
                          0.4113475177,
                          0.2551922354
                        ]
                      },
                      {
                        "learn": [
                          0.4495912807,
                          0.1976518787
                        ],
                        "iteration": 3,
                        "passed_time": 0.06433583371,
                        "remaining_time": 0.09650375057,
                        "test": [
                          0.4113475177,
                          0.2012140658
                        ]
                      },
                      {
                        "learn": [
                          0.4495912807,
                          0.1628474592
                        ],
                        "iteration": 4,
                        "passed_time": 0.06629515876,
                        "remaining_time": 0.06629515876,
                        "test": [
                          0.4113475177,
                          0.1678004973
                        ]
                      },
                      {
                        "learn": [
                          0.4495912807,
                          0.1336547741
                        ],
                        "iteration": 5,
                        "passed_time": 0.06792837455,
                        "remaining_time": 0.04528558303,
                        "test": [
                          0.4113475177,
                          0.1402356021
                        ]
                      },
                      {
                        "learn": [
                          0.4495912807,
                          0.1133924124
                        ],
                        "iteration": 6,
                        "passed_time": 0.06978978883,
                        "remaining_time": 0.0299099095,
                        "test": [
                          0.4184397163,
                          0.1212349182
                        ]
                      },
                      {
                        "learn": [
                          0.4523160763,
                          0.09895216833
                        ],
                        "iteration": 7,
                        "passed_time": 0.07164546364,
                        "remaining_time": 0.01791136591,
                        "test": [
                          0.4255319149,
                          0.1078478434
                        ]
                      },
                      {
                        "learn": [
                          0.446866485,
                          0.08746771315
                        ],
                        "iteration": 8,
                        "passed_time": 0.07320510637,
                        "remaining_time": 0.008133900708,
                        "test": [
                          0.4255319149,
                          0.09593092333
                        ]
                      },
                      {
                        "learn": [
                          0.4495912807,
                          0.07989854322
                        ],
                        "iteration": 9,
                        "passed_time": 0.07473523188,
                        "remaining_time": 0,
                        "test": [
                          0.4184397163,
                          0.08884957926
                        ]
                      }
                    ],
                    "meta": {
                      "test_sets": [
                        "test"
                      ],
                      "test_metrics": [
                        {
                          "best_value": "Max",
                          "name": "ResponseAtTopNPercent"
                        },
                        {
                          "best_value": "Min",
                          "name": "Logloss"
                        }
                      ],
                      "learn_metrics": [
                        {
                          "best_value": "Max",
                          "name": "ResponseAtTopNPercent"
                        },
                        {
                          "best_value": "Min",
                          "name": "Logloss"
                        }
                      ],
                      "launch_mode": "Train",
                      "parameters": "",
                      "iteration_count": 10,
                      "learn_sets": [
                        "learn"
                      ],
                      "name": "experiment"
                    }
                  }
                }
              }
            },
            "layout": "IPY_MODEL_43441ca5399c45d0a1fb0edb772871f2"
          }
        }
      }
    }
  },
  "cells": [
    {
      "cell_type": "markdown",
      "metadata": {
        "id": "view-in-github",
        "colab_type": "text"
      },
      "source": [
        "<a href=\"https://colab.research.google.com/github/timsetsfire/wandb-examples/blob/main/catboost_%2B_custom_eval_metric_%2B_sweeps.ipynb\" target=\"_parent\"><img src=\"https://colab.research.google.com/assets/colab-badge.svg\" alt=\"Open In Colab\"/></a>"
      ]
    },
    {
      "cell_type": "code",
      "execution_count": 1,
      "metadata": {
        "id": "hPyJn8UvxVH1"
      },
      "outputs": [],
      "source": [
        "%%capture\n",
        "!pip install wandb catboost -qqq"
      ]
    },
    {
      "cell_type": "code",
      "source": [
        "import wandb"
      ],
      "metadata": {
        "id": "ycWhqy7IxfpY"
      },
      "execution_count": 2,
      "outputs": []
    },
    {
      "cell_type": "code",
      "source": [
        "import catboost\n",
        "from catboost import *\n",
        "import wandb\n",
        "from wandb.catboost import WandbCallback\n",
        "from sklearn.datasets import make_circles\n",
        "from sklearn.model_selection import train_test_split\n",
        "import numpy as np"
      ],
      "metadata": {
        "id": "NpB-wn9Ex4mL"
      },
      "execution_count": 3,
      "outputs": []
    },
    {
      "cell_type": "code",
      "source": [
        "## generate data for logistic regression\n",
        "X, g = make_circles(n_samples=(5000, 250), shuffle=True, noise=0.2, random_state=1, factor=0.35)\n",
        "X_train, X_test, g_train, g_test = train_test_split(X, g, test_size = 0.3)\n",
        "X_val, X_test, g_val, g_test = train_test_split(X_test, g_test, test_size = 0.1)"
      ],
      "metadata": {
        "id": "XYXWorvsjdog"
      },
      "execution_count": 4,
      "outputs": []
    },
    {
      "cell_type": "code",
      "source": [
        "import seaborn as sns\n",
        "import pandas as pd\n",
        "Xm = np.matrix(X)\n",
        "gm = np.matrix(g).T\n",
        "data = pd.DataFrame( np.concatenate((Xm, gm),axis=1), columns = [\"x0\", \"x1\", \"g\"])\n",
        "sns.lmplot('x0','x1',data = data,hue='g',fit_reg=False)"
      ],
      "metadata": {
        "colab": {
          "base_uri": "https://localhost:8080/",
          "height": 444
        },
        "id": "ZSIV9_e4gHLo",
        "outputId": "6b8c8f65-5092-4dff-88f4-a96d37879e3f"
      },
      "execution_count": 5,
      "outputs": [
        {
          "output_type": "stream",
          "name": "stderr",
          "text": [
            "/usr/local/lib/python3.8/dist-packages/seaborn/_decorators.py:36: FutureWarning: Pass the following variables as keyword args: x, y. From version 0.12, the only valid positional argument will be `data`, and passing other arguments without an explicit keyword will result in an error or misinterpretation.\n",
            "  warnings.warn(\n"
          ]
        },
        {
          "output_type": "execute_result",
          "data": {
            "text/plain": [
              "<seaborn.axisgrid.FacetGrid at 0x7fee847c9880>"
            ]
          },
          "metadata": {},
          "execution_count": 5
        },
        {
          "output_type": "display_data",
          "data": {
            "text/plain": [
              "<Figure size 411.875x360 with 1 Axes>"
            ],
            "image/png": "[encoded data removed]"
          },
          "metadata": {
            "needs_background": "light"
          }
        }
      ]
    },
    {
      "cell_type": "code",
      "source": [
        "class ResponseAtTopNPercent(object):\n",
        "\n",
        "    def __init__(self, p=0.1):\n",
        "      self.p = p\n",
        "\n",
        "    def get_final_error(self, error, weight):\n",
        "      return error / weight\n",
        "\n",
        "    def is_max_optimal(self):\n",
        "      return True\n",
        "\n",
        "    def evaluate(self, approxes, target, weight):\n",
        "        preds = approxes[0]\n",
        "        n = target.shape[0]\n",
        "        m = int(self.p * n)\n",
        "        sorted_probs_idx = np.argsort(-1 * preds)\n",
        "        responses = target[sorted_probs_idx][0:m].sum()\n",
        "        return responses, m"
      ],
      "metadata": {
        "id": "otJTd4gK4jEr"
      },
      "execution_count": 6,
      "outputs": []
    },
    {
      "cell_type": "code",
      "source": [
        "from google.colab import output\n",
        "\n",
        "output.enable_custom_widget_manager()"
      ],
      "metadata": {
        "id": "zlS87MqOIRu6"
      },
      "execution_count": 7,
      "outputs": []
    },
    {
      "cell_type": "code",
      "source": [
        "import wandb"
      ],
      "metadata": {
        "id": "UGNhhioO_yMc"
      },
      "execution_count": 8,
      "outputs": []
    },
    {
      "cell_type": "markdown",
      "source": [
        "## Hyperparameter Search with W&B Sweeps"
      ],
      "metadata": {
        "id": "5wCi1ba69zit"
      }
    },
    {
      "cell_type": "code",
      "source": [
        "sweep_config = {\n",
        "    'method': 'random',\n",
        "    'name': 'cb-sweep',\n",
        "    'metric': {'goal': 'maximize', 'name': 'validation-ResponseAtTopNPercent'},\n",
        "    'parameters': \n",
        "    {\n",
        "        'depth': {'values': [1, 3, 5, 10]}, \n",
        "        \"l2_leaf_reg\": {\"max\": 10, \"min\": 0}\n",
        "     }, \n",
        "     \n",
        "     \"early_terminate\": {\n",
        "        \"type\": \"hyperband\",\n",
        "        \"min_iter\": 3\n",
        "      }\n",
        "}\n",
        "\n",
        "def train_func(): \n",
        "  with wandb.init() as run:\n",
        "\n",
        "\n",
        "    model = CatBoostClassifier(eval_metric = ResponseAtTopNPercent(p = 0.10), **run.config)\n",
        "    model = CatBoostClassifier(iterations = 10, loss_function = \"Logloss\", eval_metric = ResponseAtTopNPercent(p = 0.10))\n",
        "\n",
        "    model.fit(\n",
        "        X_train, g_train, plot=True, eval_set = [(X_val, g_val)], callbacks = [WandbCallback()]\n",
        "        )\n",
        "    from catboost import Pool\n",
        "    eval_pool = Pool(data=X_val,\n",
        "                    label=g_val,\n",
        "                    )\n",
        "    eval_metrics = model.eval_metrics(data=eval_pool, metrics=['Logloss', 'AUC', \"F1\", \"Precision\"])\n",
        "    for key in eval_metrics:\n",
        "      print( key, \":\", eval_metrics[key][-1])\n",
        "      run.log({key: eval_metrics[key][-1]})\n",
        "  "
      ],
      "metadata": {
        "id": "Wi4na9Gc4Rkk"
      },
      "execution_count": 9,
      "outputs": []
    },
    {
      "cell_type": "code",
      "source": [
        "sweep_id = wandb.sweep(sweep_config, project=\"catboost-test\")"
      ],
      "metadata": {
        "colab": {
          "base_uri": "https://localhost:8080/",
          "height": 108
        },
        "id": "S3N8sNNH_S56",
        "outputId": "01c2841d-428c-4868-f2b3-104ffd9547dd"
      },
      "execution_count": 10,
      "outputs": [
        {
          "output_type": "stream",
          "name": "stderr",
          "text": [
            "ERROR:wandb.jupyter:Failed to detect the name of this notebook, you can set it manually with the WANDB_NOTEBOOK_NAME environment variable to enable code saving.\n"
          ]
        },
        {
          "output_type": "display_data",
          "data": {
            "text/plain": [
              "<IPython.core.display.Javascript object>"
            ],
            "application/javascript": [
              "\n",
              "        window._wandbApiKey = new Promise((resolve, reject) => {\n",
              "            function loadScript(url) {\n",
              "            return new Promise(function(resolve, reject) {\n",
              "                let newScript = document.createElement(\"script\");\n",
              "                newScript.onerror = reject;\n",
              "                newScript.onload = resolve;\n",
              "                document.body.appendChild(newScript);\n",
              "                newScript.src = url;\n",
              "            });\n",
              "            }\n",
              "            loadScript(\"https://cdn.jsdelivr.net/npm/postmate/build/postmate.min.js\").then(() => {\n",
              "            const iframe = document.createElement('iframe')\n",
              "            iframe.style.cssText = \"width:0;height:0;border:none\"\n",
              "            document.body.appendChild(iframe)\n",
              "            const handshake = new Postmate({\n",
              "                container: iframe,\n",
              "                url: 'https://wandb.ai/authorize'\n",
              "            });\n",
              "            const timeout = setTimeout(() => reject(\"Couldn't auto authenticate\"), 5000)\n",
              "            handshake.then(function(child) {\n",
              "                child.on('authorize', data => {\n",
              "                    clearTimeout(timeout)\n",
              "                    resolve(data)\n",
              "                });\n",
              "            });\n",
              "            })\n",
              "        });\n",
              "    "
            ]
          },
          "metadata": {}
        },
        {
          "output_type": "stream",
          "name": "stderr",
          "text": [
            "\u001b[34m\u001b[1mwandb\u001b[0m: Appending key for api.wandb.ai to your netrc file: /root/.netrc\n"
          ]
        },
        {
          "output_type": "stream",
          "name": "stdout",
          "text": [
            "Create sweep with ID: q1ms21p4\n",
            "Sweep URL: https://wandb.ai/tim-w/catboost-test/sweeps/q1ms21p4\n"
          ]
        }
      ]
    },
    {
      "cell_type": "code",
      "source": [
        "wandb_agent = wandb.agent(sweep_id, function=train_func, count = 5)"
      ],
      "metadata": {
        "colab": {
          "base_uri": "https://localhost:8080/",
          "height": 1000,
          "referenced_widgets": [
            "3208255489344fb2bd242c5329d867ab",
            "6e86685a13e846e4a07276f7b6967bda",
            "bcfa5348098d4b4f91a1ff698e59f112",
            "fabb67b3f3ae46e4af81df9b8c0a2036",
            "0e1a272ebf5c41b98ab167913dddfa2a",
            "b40759df8edf460cba7488f03b908a34",
            "b156d9aa53ea4dd69b587e15844643c4",
            "5b3b3357de334196b38ff549c4cfc0ad",
            "1f60303dab6d4b3688ea2fac6c3d1d10",
            "dbf9b9072a964d228e4a3c618b3d95a1",
            "230ee2c7b81f461b991753350b892cb8",
            "bb7665f626f04a44818d8468eb2ea171"
          ]
        },
        "id": "dmIOsj5K_S0o",
        "outputId": "3976ec57-b8bd-4f84-f541-13e51562a14d"
      },
      "execution_count": null,
      "outputs": [
        {
          "output_type": "stream",
          "name": "stderr",
          "text": [
            "\u001b[34m\u001b[1mwandb\u001b[0m: Agent Starting Run: ypveq7mh with config:\n",
            "\u001b[34m\u001b[1mwandb\u001b[0m: \tdepth: 10\n",
            "\u001b[34m\u001b[1mwandb\u001b[0m: \tl2_leaf_reg: 2\n",
            "ERROR:wandb.jupyter:Failed to detect the name of this notebook, you can set it manually with the WANDB_NOTEBOOK_NAME environment variable to enable code saving.\n",
            "\u001b[34m\u001b[1mwandb\u001b[0m: Currently logged in as: \u001b[33mtim-w\u001b[0m. Use \u001b[1m`wandb login --relogin`\u001b[0m to force relogin\n"
          ]
        },
        {
          "output_type": "display_data",
          "data": {
            "text/plain": [
              "<IPython.core.display.HTML object>"
            ],
            "text/html": [
              "Tracking run with wandb version 0.13.9"
            ]
          },
          "metadata": {}
        },
        {
          "output_type": "display_data",
          "data": {
            "text/plain": [
              "<IPython.core.display.HTML object>"
            ],
            "text/html": [
              "Run data is saved locally in <code>/content/wandb/run-20230119_165914-ypveq7mh</code>"
            ]
          },
          "metadata": {}
        },
        {
          "output_type": "display_data",
          "data": {
            "text/plain": [
              "<IPython.core.display.HTML object>"
            ],
            "text/html": [
              "Syncing run <strong><a href=\"https://wandb.ai/tim-w/catboost-test/runs/ypveq7mh\" target=\"_blank\">laced-sweep-1</a></strong> to <a href=\"https://wandb.ai/tim-w/catboost-test\" target=\"_blank\">Weights & Biases</a> (<a href=\"https://wandb.me/run\" target=\"_blank\">docs</a>)<br/>Sweep page: <a href=\"https://wandb.ai/tim-w/catboost-test/sweeps/q1ms21p4\" target=\"_blank\">https://wandb.ai/tim-w/catboost-test/sweeps/q1ms21p4</a>"
            ]
          },
          "metadata": {}
        },
        {
          "output_type": "display_data",
          "data": {
            "text/plain": [
              "<IPython.core.display.HTML object>"
            ],
            "text/html": [
              " View project at <a href=\"https://wandb.ai/tim-w/catboost-test\" target=\"_blank\">https://wandb.ai/tim-w/catboost-test</a>"
            ]
          },
          "metadata": {}
        },
        {
          "output_type": "display_data",
          "data": {
            "text/plain": [
              "<IPython.core.display.HTML object>"
            ],
            "text/html": [
              " View sweep at <a href=\"https://wandb.ai/tim-w/catboost-test/sweeps/q1ms21p4\" target=\"_blank\">https://wandb.ai/tim-w/catboost-test/sweeps/q1ms21p4</a>"
            ]
          },
          "metadata": {}
        },
        {
          "output_type": "display_data",
          "data": {
            "text/plain": [
              "<IPython.core.display.HTML object>"
            ],
            "text/html": [
              " View run at <a href=\"https://wandb.ai/tim-w/catboost-test/runs/ypveq7mh\" target=\"_blank\">https://wandb.ai/tim-w/catboost-test/runs/ypveq7mh</a>"
            ]
          },
          "metadata": {}
        },
        {
          "output_type": "stream",
          "name": "stderr",
          "text": [
            "/usr/local/lib/python3.8/dist-packages/catboost/core.py:2266: UserWarning: Can't optimze method \"evaluate\" because self argument is used\n",
            "  _check_train_params(params)\n"
          ]
        },
        {
          "output_type": "display_data",
          "data": {
            "text/plain": [
              "MetricVisualizer(layout=Layout(align_self='stretch', height='500px'))"
            ],
            "application/vnd.jupyter.widget-view+json": {
              "version_major": 2,
              "version_minor": 0,
              "model_id": "3208255489344fb2bd242c5329d867ab"
            }
          },
          "metadata": {}
        },
        {
          "output_type": "stream",
          "name": "stdout",
          "text": [
            "Learning rate set to 0.323987\n",
            "0:\tlearn: 0.2261580\ttest: 0.1985816\tbest: 0.1985816 (0)\ttotal: 314ms\tremaining: 2.82s\n",
            "1:\tlearn: 0.3460490\ttest: 0.3404255\tbest: 0.3404255 (1)\ttotal: 317ms\tremaining: 1.27s\n",
            "2:\tlearn: 0.4277929\ttest: 0.4113475\tbest: 0.4113475 (2)\ttotal: 321ms\tremaining: 748ms\n",
            "3:\tlearn: 0.4495913\ttest: 0.4113475\tbest: 0.4113475 (2)\ttotal: 323ms\tremaining: 484ms\n",
            "4:\tlearn: 0.4495913\ttest: 0.4113475\tbest: 0.4113475 (2)\ttotal: 325ms\tremaining: 325ms\n",
            "5:\tlearn: 0.4495913\ttest: 0.4113475\tbest: 0.4113475 (2)\ttotal: 330ms\tremaining: 220ms\n",
            "6:\tlearn: 0.4495913\ttest: 0.4184397\tbest: 0.4184397 (6)\ttotal: 334ms\tremaining: 143ms\n",
            "7:\tlearn: 0.4523161\ttest: 0.4255319\tbest: 0.4255319 (7)\ttotal: 337ms\tremaining: 84.1ms\n",
            "8:\tlearn: 0.4468665\ttest: 0.4255319\tbest: 0.4255319 (7)\ttotal: 339ms\tremaining: 37.6ms\n",
            "9:\tlearn: 0.4495913\ttest: 0.4184397\tbest: 0.4255319 (7)\ttotal: 341ms\tremaining: 0us\n",
            "\n",
            "bestTest = 0.4255319149\n",
            "bestIteration = 7\n",
            "\n",
            "Shrink model to first 8 iterations.\n",
            "Logloss : 0.10784784338282388\n",
            "AUC : 0.9694637921503593\n",
            "F1 : 0.6285714285714284\n",
            "Precision : 0.868421052631579\n"
          ]
        },
        {
          "output_type": "display_data",
          "data": {
            "text/plain": [
              "<IPython.core.display.HTML object>"
            ],
            "text/html": [
              "Waiting for W&B process to finish... <strong style=\"color:green\">(success).</strong>"
            ]
          },
          "metadata": {}
        },
        {
          "output_type": "display_data",
          "data": {
            "text/plain": [
              "<IPython.core.display.HTML object>"
            ],
            "text/html": [
              "<style>\n",
              "    table.wandb td:nth-child(1) { padding: 0 10px; text-align: left ; width: auto;} td:nth-child(2) {text-align: left ; width: 100%}\n",
              "    .wandb-row { display: flex; flex-direction: row; flex-wrap: wrap; justify-content: flex-start; width: 100% }\n",
              "    .wandb-col { display: flex; flex-direction: column; flex-basis: 100%; flex: 1; padding: 10px; }\n",
              "    </style>\n",
              "<div class=\"wandb-row\"><div class=\"wandb-col\"><h3>Run history:</h3><br/><table class=\"wandb\"><tr><td>AUC</td><td>▁</td></tr><tr><td>F1</td><td>▁</td></tr><tr><td>Logloss</td><td>▁</td></tr><tr><td>Precision</td><td>▁</td></tr><tr><td>iteration@metric-period-1</td><td>▁▂▃▃▄▅▆▆▇█</td></tr><tr><td>learn-Logloss</td><td>█▆▄▃▂▂▂▁▁▁</td></tr><tr><td>learn-ResponseAtTopNPercent</td><td>▁▅▇███████</td></tr><tr><td>validation-Logloss</td><td>█▆▄▃▂▂▂▁▁▁</td></tr><tr><td>validation-ResponseAtTopNPercent</td><td>▁▅████████</td></tr></table><br/></div><div class=\"wandb-col\"><h3>Run summary:</h3><br/><table class=\"wandb\"><tr><td>AUC</td><td>0.96946</td></tr><tr><td>F1</td><td>0.62857</td></tr><tr><td>Logloss</td><td>0.10785</td></tr><tr><td>Precision</td><td>0.86842</td></tr><tr><td>iteration@metric-period-1</td><td>10</td></tr><tr><td>learn-Logloss</td><td>0.0799</td></tr><tr><td>learn-ResponseAtTopNPercent</td><td>0.44959</td></tr><tr><td>validation-Logloss</td><td>0.08885</td></tr><tr><td>validation-ResponseAtTopNPercent</td><td>0.41844</td></tr></table><br/></div></div>"
            ]
          },
          "metadata": {}
        },
        {
          "output_type": "display_data",
          "data": {
            "text/plain": [
              "<IPython.core.display.HTML object>"
            ],
            "text/html": [
              " View run <strong style=\"color:#cdcd00\">laced-sweep-1</strong> at: <a href=\"https://wandb.ai/tim-w/catboost-test/runs/ypveq7mh\" target=\"_blank\">https://wandb.ai/tim-w/catboost-test/runs/ypveq7mh</a><br/>Synced 5 W&B file(s), 0 media file(s), 2 artifact file(s) and 1 other file(s)"
            ]
          },
          "metadata": {}
        },
        {
          "output_type": "display_data",
          "data": {
            "text/plain": [
              "<IPython.core.display.HTML object>"
            ],
            "text/html": [
              "Find logs at: <code>./wandb/run-20230119_165914-ypveq7mh/logs</code>"
            ]
          },
          "metadata": {}
        },
        {
          "output_type": "stream",
          "name": "stderr",
          "text": [
            "\u001b[34m\u001b[1mwandb\u001b[0m: Agent Starting Run: r59zxgz4 with config:\n",
            "\u001b[34m\u001b[1mwandb\u001b[0m: \tdepth: 3\n",
            "\u001b[34m\u001b[1mwandb\u001b[0m: \tl2_leaf_reg: 9\n",
            "Failed to detect the name of this notebook, you can set it manually with the WANDB_NOTEBOOK_NAME environment variable to enable code saving.\n"
          ]
        },
        {
          "output_type": "display_data",
          "data": {
            "text/plain": [
              "VBox(children=(Label(value='Waiting for wandb.init()...\\r'), FloatProgress(value=0.01667018860000032, max=1.0)…"
            ],
            "application/vnd.jupyter.widget-view+json": {
              "version_major": 2,
              "version_minor": 0,
              "model_id": "6e86685a13e846e4a07276f7b6967bda"
            }
          },
          "metadata": {}
        },
        {
          "output_type": "display_data",
          "data": {
            "text/plain": [
              "<IPython.core.display.HTML object>"
            ],
            "text/html": [
              "Tracking run with wandb version 0.13.9"
            ]
          },
          "metadata": {}
        },
        {
          "output_type": "display_data",
          "data": {
            "text/plain": [
              "<IPython.core.display.HTML object>"
            ],
            "text/html": [
              "Run data is saved locally in <code>/content/wandb/run-20230119_165930-r59zxgz4</code>"
            ]
          },
          "metadata": {}
        },
        {
          "output_type": "display_data",
          "data": {
            "text/plain": [
              "<IPython.core.display.HTML object>"
            ],
            "text/html": [
              "Syncing run <strong><a href=\"https://wandb.ai/tim-w/catboost-test/runs/r59zxgz4\" target=\"_blank\">light-sweep-2</a></strong> to <a href=\"https://wandb.ai/tim-w/catboost-test\" target=\"_blank\">Weights & Biases</a> (<a href=\"https://wandb.me/run\" target=\"_blank\">docs</a>)<br/>Sweep page: <a href=\"https://wandb.ai/tim-w/catboost-test/sweeps/q1ms21p4\" target=\"_blank\">https://wandb.ai/tim-w/catboost-test/sweeps/q1ms21p4</a>"
            ]
          },
          "metadata": {}
        },
        {
          "output_type": "display_data",
          "data": {
            "text/plain": [
              "<IPython.core.display.HTML object>"
            ],
            "text/html": [
              " View project at <a href=\"https://wandb.ai/tim-w/catboost-test\" target=\"_blank\">https://wandb.ai/tim-w/catboost-test</a>"
            ]
          },
          "metadata": {}
        },
        {
          "output_type": "display_data",
          "data": {
            "text/plain": [
              "<IPython.core.display.HTML object>"
            ],
            "text/html": [
              " View sweep at <a href=\"https://wandb.ai/tim-w/catboost-test/sweeps/q1ms21p4\" target=\"_blank\">https://wandb.ai/tim-w/catboost-test/sweeps/q1ms21p4</a>"
            ]
          },
          "metadata": {}
        },
        {
          "output_type": "display_data",
          "data": {
            "text/plain": [
              "<IPython.core.display.HTML object>"
            ],
            "text/html": [
              " View run at <a href=\"https://wandb.ai/tim-w/catboost-test/runs/r59zxgz4\" target=\"_blank\">https://wandb.ai/tim-w/catboost-test/runs/r59zxgz4</a>"
            ]
          },
          "metadata": {}
        },
        {
          "output_type": "stream",
          "name": "stderr",
          "text": [
            "/usr/local/lib/python3.8/dist-packages/catboost/core.py:2266: UserWarning: Can't optimze method \"evaluate\" because self argument is used\n",
            "  _check_train_params(params)\n"
          ]
        },
        {
          "output_type": "display_data",
          "data": {
            "text/plain": [
              "MetricVisualizer(layout=Layout(align_self='stretch', height='500px'))"
            ],
            "application/vnd.jupyter.widget-view+json": {
              "version_major": 2,
              "version_minor": 0,
              "model_id": "dbf9b9072a964d228e4a3c618b3d95a1"
            }
          },
          "metadata": {}
        },
        {
          "output_type": "stream",
          "name": "stdout",
          "text": [
            "Learning rate set to 0.323987\n",
            "0:\tlearn: 0.2261580\ttest: 0.1985816\tbest: 0.1985816 (0)\ttotal: 137ms\tremaining: 1.23s\n",
            "1:\tlearn: 0.3460490\ttest: 0.3404255\tbest: 0.3404255 (1)\ttotal: 149ms\tremaining: 596ms\n",
            "2:\tlearn: 0.4277929\ttest: 0.4113475\tbest: 0.4113475 (2)\ttotal: 165ms\tremaining: 384ms\n",
            "3:\tlearn: 0.4495913\ttest: 0.4113475\tbest: 0.4113475 (2)\ttotal: 167ms\tremaining: 250ms\n",
            "4:\tlearn: 0.4495913\ttest: 0.4113475\tbest: 0.4113475 (2)\ttotal: 169ms\tremaining: 169ms\n",
            "5:\tlearn: 0.4495913\ttest: 0.4113475\tbest: 0.4113475 (2)\ttotal: 175ms\tremaining: 117ms\n",
            "6:\tlearn: 0.4495913\ttest: 0.4184397\tbest: 0.4184397 (6)\ttotal: 188ms\tremaining: 80.4ms\n",
            "7:\tlearn: 0.4523161\ttest: 0.4255319\tbest: 0.4255319 (7)\ttotal: 198ms\tremaining: 49.6ms\n",
            "8:\tlearn: 0.4468665\ttest: 0.4255319\tbest: 0.4255319 (7)\ttotal: 200ms\tremaining: 22.3ms\n",
            "9:\tlearn: 0.4495913\ttest: 0.4184397\tbest: 0.4255319 (7)\ttotal: 206ms\tremaining: 0us\n",
            "\n",
            "bestTest = 0.4255319149\n",
            "bestIteration = 7\n",
            "\n",
            "Shrink model to first 8 iterations.\n",
            "Logloss : 0.10784784338282388\n",
            "AUC : 0.9694637921503593\n",
            "F1 : 0.6285714285714284\n",
            "Precision : 0.868421052631579\n"
          ]
        },
        {
          "output_type": "display_data",
          "data": {
            "text/plain": [
              "<IPython.core.display.HTML object>"
            ],
            "text/html": [
              "Waiting for W&B process to finish... <strong style=\"color:green\">(success).</strong>"
            ]
          },
          "metadata": {}
        },
        {
          "output_type": "display_data",
          "data": {
            "text/plain": [
              "<IPython.core.display.HTML object>"
            ],
            "text/html": [
              "<style>\n",
              "    table.wandb td:nth-child(1) { padding: 0 10px; text-align: left ; width: auto;} td:nth-child(2) {text-align: left ; width: 100%}\n",
              "    .wandb-row { display: flex; flex-direction: row; flex-wrap: wrap; justify-content: flex-start; width: 100% }\n",
              "    .wandb-col { display: flex; flex-direction: column; flex-basis: 100%; flex: 1; padding: 10px; }\n",
              "    </style>\n",
              "<div class=\"wandb-row\"><div class=\"wandb-col\"><h3>Run history:</h3><br/><table class=\"wandb\"><tr><td>AUC</td><td>▁</td></tr><tr><td>F1</td><td>▁</td></tr><tr><td>Logloss</td><td>▁</td></tr><tr><td>Precision</td><td>▁</td></tr><tr><td>iteration@metric-period-1</td><td>▁▂▃▃▄▅▆▆▇█</td></tr><tr><td>learn-Logloss</td><td>█▆▄▃▂▂▂▁▁▁</td></tr><tr><td>learn-ResponseAtTopNPercent</td><td>▁▅▇███████</td></tr><tr><td>validation-Logloss</td><td>█▆▄▃▂▂▂▁▁▁</td></tr><tr><td>validation-ResponseAtTopNPercent</td><td>▁▅████████</td></tr></table><br/></div><div class=\"wandb-col\"><h3>Run summary:</h3><br/><table class=\"wandb\"><tr><td>AUC</td><td>0.96946</td></tr><tr><td>F1</td><td>0.62857</td></tr><tr><td>Logloss</td><td>0.10785</td></tr><tr><td>Precision</td><td>0.86842</td></tr><tr><td>iteration@metric-period-1</td><td>10</td></tr><tr><td>learn-Logloss</td><td>0.0799</td></tr><tr><td>learn-ResponseAtTopNPercent</td><td>0.44959</td></tr><tr><td>validation-Logloss</td><td>0.08885</td></tr><tr><td>validation-ResponseAtTopNPercent</td><td>0.41844</td></tr></table><br/></div></div>"
            ]
          },
          "metadata": {}
        },
        {
          "output_type": "display_data",
          "data": {
            "text/plain": [
              "<IPython.core.display.HTML object>"
            ],
            "text/html": [
              " View run <strong style=\"color:#cdcd00\">light-sweep-2</strong> at: <a href=\"https://wandb.ai/tim-w/catboost-test/runs/r59zxgz4\" target=\"_blank\">https://wandb.ai/tim-w/catboost-test/runs/r59zxgz4</a><br/>Synced 5 W&B file(s), 0 media file(s), 2 artifact file(s) and 1 other file(s)"
            ]
          },
          "metadata": {}
        },
        {
          "output_type": "display_data",
          "data": {
            "text/plain": [
              "<IPython.core.display.HTML object>"
            ],
            "text/html": [
              "Find logs at: <code>./wandb/run-20230119_165930-r59zxgz4/logs</code>"
            ]
          },
          "metadata": {}
        },
        {
          "output_type": "stream",
          "name": "stderr",
          "text": [
            "\u001b[34m\u001b[1mwandb\u001b[0m: Sweep Agent: Waiting for job.\n",
            "\u001b[34m\u001b[1mwandb\u001b[0m: Job received.\n",
            "\u001b[34m\u001b[1mwandb\u001b[0m: Agent Starting Run: 78unuvqy with config:\n",
            "\u001b[34m\u001b[1mwandb\u001b[0m: \tdepth: 5\n",
            "\u001b[34m\u001b[1mwandb\u001b[0m: \tl2_leaf_reg: 2\n",
            "Failed to detect the name of this notebook, you can set it manually with the WANDB_NOTEBOOK_NAME environment variable to enable code saving.\n"
          ]
        },
        {
          "output_type": "display_data",
          "data": {
            "text/plain": [
              "<IPython.core.display.HTML object>"
            ],
            "text/html": [
              "Tracking run with wandb version 0.13.9"
            ]
          },
          "metadata": {}
        },
        {
          "output_type": "display_data",
          "data": {
            "text/plain": [
              "<IPython.core.display.HTML object>"
            ],
            "text/html": [
              "Run data is saved locally in <code>/content/wandb/run-20230119_165956-78unuvqy</code>"
            ]
          },
          "metadata": {}
        },
        {
          "output_type": "display_data",
          "data": {
            "text/plain": [
              "<IPython.core.display.HTML object>"
            ],
            "text/html": [
              "Syncing run <strong><a href=\"https://wandb.ai/tim-w/catboost-test/runs/78unuvqy\" target=\"_blank\">fine-sweep-3</a></strong> to <a href=\"https://wandb.ai/tim-w/catboost-test\" target=\"_blank\">Weights & Biases</a> (<a href=\"https://wandb.me/run\" target=\"_blank\">docs</a>)<br/>Sweep page: <a href=\"https://wandb.ai/tim-w/catboost-test/sweeps/q1ms21p4\" target=\"_blank\">https://wandb.ai/tim-w/catboost-test/sweeps/q1ms21p4</a>"
            ]
          },
          "metadata": {}
        },
        {
          "output_type": "display_data",
          "data": {
            "text/plain": [
              "<IPython.core.display.HTML object>"
            ],
            "text/html": [
              " View project at <a href=\"https://wandb.ai/tim-w/catboost-test\" target=\"_blank\">https://wandb.ai/tim-w/catboost-test</a>"
            ]
          },
          "metadata": {}
        },
        {
          "output_type": "display_data",
          "data": {
            "text/plain": [
              "<IPython.core.display.HTML object>"
            ],
            "text/html": [
              " View sweep at <a href=\"https://wandb.ai/tim-w/catboost-test/sweeps/q1ms21p4\" target=\"_blank\">https://wandb.ai/tim-w/catboost-test/sweeps/q1ms21p4</a>"
            ]
          },
          "metadata": {}
        },
        {
          "output_type": "display_data",
          "data": {
            "text/plain": [
              "<IPython.core.display.HTML object>"
            ],
            "text/html": [
              " View run at <a href=\"https://wandb.ai/tim-w/catboost-test/runs/78unuvqy\" target=\"_blank\">https://wandb.ai/tim-w/catboost-test/runs/78unuvqy</a>"
            ]
          },
          "metadata": {}
        },
        {
          "output_type": "stream",
          "name": "stderr",
          "text": [
            "/usr/local/lib/python3.8/dist-packages/catboost/core.py:2266: UserWarning: Can't optimze method \"evaluate\" because self argument is used\n",
            "  _check_train_params(params)\n"
          ]
        },
        {
          "output_type": "display_data",
          "data": {
            "text/plain": [
              "MetricVisualizer(layout=Layout(align_self='stretch', height='500px'))"
            ],
            "application/vnd.jupyter.widget-view+json": {
              "version_major": 2,
              "version_minor": 0,
              "model_id": "230ee2c7b81f461b991753350b892cb8"
            }
          },
          "metadata": {}
        },
        {
          "output_type": "stream",
          "name": "stdout",
          "text": [
            "Learning rate set to 0.323987\n",
            "0:\tlearn: 0.2261580\ttest: 0.1985816\tbest: 0.1985816 (0)\ttotal: 56.2ms\tremaining: 506ms\n",
            "1:\tlearn: 0.3460490\ttest: 0.3404255\tbest: 0.3404255 (1)\ttotal: 58.2ms\tremaining: 233ms\n",
            "2:\tlearn: 0.4277929\ttest: 0.4113475\tbest: 0.4113475 (2)\ttotal: 59.9ms\tremaining: 140ms\n",
            "3:\tlearn: 0.4495913\ttest: 0.4113475\tbest: 0.4113475 (2)\ttotal: 61.8ms\tremaining: 92.6ms\n",
            "4:\tlearn: 0.4495913\ttest: 0.4113475\tbest: 0.4113475 (2)\ttotal: 63.5ms\tremaining: 63.5ms\n",
            "5:\tlearn: 0.4495913\ttest: 0.4113475\tbest: 0.4113475 (2)\ttotal: 65.3ms\tremaining: 43.5ms\n",
            "6:\tlearn: 0.4495913\ttest: 0.4184397\tbest: 0.4184397 (6)\ttotal: 67ms\tremaining: 28.7ms\n",
            "7:\tlearn: 0.4523161\ttest: 0.4255319\tbest: 0.4255319 (7)\ttotal: 68.8ms\tremaining: 17.2ms\n",
            "8:\tlearn: 0.4468665\ttest: 0.4255319\tbest: 0.4255319 (7)\ttotal: 70.7ms\tremaining: 7.86ms\n",
            "9:\tlearn: 0.4495913\ttest: 0.4184397\tbest: 0.4255319 (7)\ttotal: 72.6ms\tremaining: 0us\n",
            "\n",
            "bestTest = 0.4255319149\n",
            "bestIteration = 7\n",
            "\n",
            "Shrink model to first 8 iterations.\n",
            "Logloss : 0.10784784338282388\n",
            "AUC : 0.9694637921503593\n",
            "F1 : 0.6285714285714284\n",
            "Precision : 0.868421052631579\n"
          ]
        },
        {
          "output_type": "display_data",
          "data": {
            "text/plain": [
              "<IPython.core.display.HTML object>"
            ],
            "text/html": [
              "Waiting for W&B process to finish... <strong style=\"color:green\">(success).</strong>"
            ]
          },
          "metadata": {}
        },
        {
          "output_type": "display_data",
          "data": {
            "text/plain": [
              "<IPython.core.display.HTML object>"
            ],
            "text/html": [
              "<style>\n",
              "    table.wandb td:nth-child(1) { padding: 0 10px; text-align: left ; width: auto;} td:nth-child(2) {text-align: left ; width: 100%}\n",
              "    .wandb-row { display: flex; flex-direction: row; flex-wrap: wrap; justify-content: flex-start; width: 100% }\n",
              "    .wandb-col { display: flex; flex-direction: column; flex-basis: 100%; flex: 1; padding: 10px; }\n",
              "    </style>\n",
              "<div class=\"wandb-row\"><div class=\"wandb-col\"><h3>Run history:</h3><br/><table class=\"wandb\"><tr><td>AUC</td><td>▁</td></tr><tr><td>F1</td><td>▁</td></tr><tr><td>Logloss</td><td>▁</td></tr><tr><td>Precision</td><td>▁</td></tr><tr><td>iteration@metric-period-1</td><td>▁▂▃▃▄▅▆▆▇█</td></tr><tr><td>learn-Logloss</td><td>█▆▄▃▂▂▂▁▁▁</td></tr><tr><td>learn-ResponseAtTopNPercent</td><td>▁▅▇███████</td></tr><tr><td>validation-Logloss</td><td>█▆▄▃▂▂▂▁▁▁</td></tr><tr><td>validation-ResponseAtTopNPercent</td><td>▁▅████████</td></tr></table><br/></div><div class=\"wandb-col\"><h3>Run summary:</h3><br/><table class=\"wandb\"><tr><td>AUC</td><td>0.96946</td></tr><tr><td>F1</td><td>0.62857</td></tr><tr><td>Logloss</td><td>0.10785</td></tr><tr><td>Precision</td><td>0.86842</td></tr><tr><td>iteration@metric-period-1</td><td>10</td></tr><tr><td>learn-Logloss</td><td>0.0799</td></tr><tr><td>learn-ResponseAtTopNPercent</td><td>0.44959</td></tr><tr><td>validation-Logloss</td><td>0.08885</td></tr><tr><td>validation-ResponseAtTopNPercent</td><td>0.41844</td></tr></table><br/></div></div>"
            ]
          },
          "metadata": {}
        },
        {
          "output_type": "display_data",
          "data": {
            "text/plain": [
              "<IPython.core.display.HTML object>"
            ],
            "text/html": [
              " View run <strong style=\"color:#cdcd00\">fine-sweep-3</strong> at: <a href=\"https://wandb.ai/tim-w/catboost-test/runs/78unuvqy\" target=\"_blank\">https://wandb.ai/tim-w/catboost-test/runs/78unuvqy</a><br/>Synced 5 W&B file(s), 0 media file(s), 2 artifact file(s) and 1 other file(s)"
            ]
          },
          "metadata": {}
        },
        {
          "output_type": "display_data",
          "data": {
            "text/plain": [
              "<IPython.core.display.HTML object>"
            ],
            "text/html": [
              "Find logs at: <code>./wandb/run-20230119_165956-78unuvqy/logs</code>"
            ]
          },
          "metadata": {}
        },
        {
          "output_type": "stream",
          "name": "stderr",
          "text": [
            "\u001b[34m\u001b[1mwandb\u001b[0m: Agent Starting Run: ofqnkmn7 with config:\n",
            "\u001b[34m\u001b[1mwandb\u001b[0m: \tdepth: 10\n",
            "\u001b[34m\u001b[1mwandb\u001b[0m: \tl2_leaf_reg: 1\n",
            "Failed to detect the name of this notebook, you can set it manually with the WANDB_NOTEBOOK_NAME environment variable to enable code saving.\n"
          ]
        },
        {
          "output_type": "display_data",
          "data": {
            "text/plain": [
              "<IPython.core.display.HTML object>"
            ],
            "text/html": [
              "Tracking run with wandb version 0.13.9"
            ]
          },
          "metadata": {}
        },
        {
          "output_type": "display_data",
          "data": {
            "text/plain": [
              "<IPython.core.display.HTML object>"
            ],
            "text/html": [
              "Run data is saved locally in <code>/content/wandb/run-20230119_170012-ofqnkmn7</code>"
            ]
          },
          "metadata": {}
        },
        {
          "output_type": "display_data",
          "data": {
            "text/plain": [
              "<IPython.core.display.HTML object>"
            ],
            "text/html": [
              "Syncing run <strong><a href=\"https://wandb.ai/tim-w/catboost-test/runs/ofqnkmn7\" target=\"_blank\">wobbly-sweep-4</a></strong> to <a href=\"https://wandb.ai/tim-w/catboost-test\" target=\"_blank\">Weights & Biases</a> (<a href=\"https://wandb.me/run\" target=\"_blank\">docs</a>)<br/>Sweep page: <a href=\"https://wandb.ai/tim-w/catboost-test/sweeps/q1ms21p4\" target=\"_blank\">https://wandb.ai/tim-w/catboost-test/sweeps/q1ms21p4</a>"
            ]
          },
          "metadata": {}
        },
        {
          "output_type": "display_data",
          "data": {
            "text/plain": [
              "<IPython.core.display.HTML object>"
            ],
            "text/html": [
              " View project at <a href=\"https://wandb.ai/tim-w/catboost-test\" target=\"_blank\">https://wandb.ai/tim-w/catboost-test</a>"
            ]
          },
          "metadata": {}
        },
        {
          "output_type": "display_data",
          "data": {
            "text/plain": [
              "<IPython.core.display.HTML object>"
            ],
            "text/html": [
              " View sweep at <a href=\"https://wandb.ai/tim-w/catboost-test/sweeps/q1ms21p4\" target=\"_blank\">https://wandb.ai/tim-w/catboost-test/sweeps/q1ms21p4</a>"
            ]
          },
          "metadata": {}
        },
        {
          "output_type": "display_data",
          "data": {
            "text/plain": [
              "<IPython.core.display.HTML object>"
            ],
            "text/html": [
              " View run at <a href=\"https://wandb.ai/tim-w/catboost-test/runs/ofqnkmn7\" target=\"_blank\">https://wandb.ai/tim-w/catboost-test/runs/ofqnkmn7</a>"
            ]
          },
          "metadata": {}
        },
        {
          "output_type": "stream",
          "name": "stderr",
          "text": [
            "/usr/local/lib/python3.8/dist-packages/catboost/core.py:2266: UserWarning: Can't optimze method \"evaluate\" because self argument is used\n",
            "  _check_train_params(params)\n"
          ]
        },
        {
          "output_type": "display_data",
          "data": {
            "text/plain": [
              "MetricVisualizer(layout=Layout(align_self='stretch', height='500px'))"
            ],
            "application/vnd.jupyter.widget-view+json": {
              "version_major": 2,
              "version_minor": 0,
              "model_id": "bb7665f626f04a44818d8468eb2ea171"
            }
          },
          "metadata": {}
        },
        {
          "output_type": "stream",
          "name": "stdout",
          "text": [
            "Learning rate set to 0.323987\n",
            "0:\tlearn: 0.2261580\ttest: 0.1985816\tbest: 0.1985816 (0)\ttotal: 53.1ms\tremaining: 478ms\n",
            "1:\tlearn: 0.3460490\ttest: 0.3404255\tbest: 0.3404255 (1)\ttotal: 57ms\tremaining: 228ms\n",
            "2:\tlearn: 0.4277929\ttest: 0.4113475\tbest: 0.4113475 (2)\ttotal: 61.5ms\tremaining: 144ms\n",
            "3:\tlearn: 0.4495913\ttest: 0.4113475\tbest: 0.4113475 (2)\ttotal: 64.3ms\tremaining: 96.5ms\n",
            "4:\tlearn: 0.4495913\ttest: 0.4113475\tbest: 0.4113475 (2)\ttotal: 66.3ms\tremaining: 66.3ms\n",
            "5:\tlearn: 0.4495913\ttest: 0.4113475\tbest: 0.4113475 (2)\ttotal: 67.9ms\tremaining: 45.3ms\n",
            "6:\tlearn: 0.4495913\ttest: 0.4184397\tbest: 0.4184397 (6)\ttotal: 69.8ms\tremaining: 29.9ms\n",
            "7:\tlearn: 0.4523161\ttest: 0.4255319\tbest: 0.4255319 (7)\ttotal: 71.6ms\tremaining: 17.9ms\n",
            "8:\tlearn: 0.4468665\ttest: 0.4255319\tbest: 0.4255319 (7)\ttotal: 73.2ms\tremaining: 8.13ms\n",
            "9:\tlearn: 0.4495913\ttest: 0.4184397\tbest: 0.4255319 (7)\ttotal: 74.7ms\tremaining: 0us\n",
            "\n",
            "bestTest = 0.4255319149\n",
            "bestIteration = 7\n",
            "\n",
            "Shrink model to first 8 iterations.\n",
            "Logloss : 0.10784784338282388\n",
            "AUC : 0.9694637921503593\n",
            "F1 : 0.6285714285714284\n",
            "Precision : 0.868421052631579\n"
          ]
        },
        {
          "output_type": "display_data",
          "data": {
            "text/plain": [
              "<IPython.core.display.HTML object>"
            ],
            "text/html": [
              "Waiting for W&B process to finish... <strong style=\"color:green\">(success).</strong>"
            ]
          },
          "metadata": {}
        },
        {
          "output_type": "display_data",
          "data": {
            "text/plain": [
              "<IPython.core.display.HTML object>"
            ],
            "text/html": [
              "<style>\n",
              "    table.wandb td:nth-child(1) { padding: 0 10px; text-align: left ; width: auto;} td:nth-child(2) {text-align: left ; width: 100%}\n",
              "    .wandb-row { display: flex; flex-direction: row; flex-wrap: wrap; justify-content: flex-start; width: 100% }\n",
              "    .wandb-col { display: flex; flex-direction: column; flex-basis: 100%; flex: 1; padding: 10px; }\n",
              "    </style>\n",
              "<div class=\"wandb-row\"><div class=\"wandb-col\"><h3>Run history:</h3><br/><table class=\"wandb\"><tr><td>AUC</td><td>▁</td></tr><tr><td>F1</td><td>▁</td></tr><tr><td>Logloss</td><td>▁</td></tr><tr><td>Precision</td><td>▁</td></tr><tr><td>iteration@metric-period-1</td><td>▁▂▃▃▄▅▆▆▇█</td></tr><tr><td>learn-Logloss</td><td>█▆▄▃▂▂▂▁▁▁</td></tr><tr><td>learn-ResponseAtTopNPercent</td><td>▁▅▇███████</td></tr><tr><td>validation-Logloss</td><td>█▆▄▃▂▂▂▁▁▁</td></tr><tr><td>validation-ResponseAtTopNPercent</td><td>▁▅████████</td></tr></table><br/></div><div class=\"wandb-col\"><h3>Run summary:</h3><br/><table class=\"wandb\"><tr><td>AUC</td><td>0.96946</td></tr><tr><td>F1</td><td>0.62857</td></tr><tr><td>Logloss</td><td>0.10785</td></tr><tr><td>Precision</td><td>0.86842</td></tr><tr><td>iteration@metric-period-1</td><td>10</td></tr><tr><td>learn-Logloss</td><td>0.0799</td></tr><tr><td>learn-ResponseAtTopNPercent</td><td>0.44959</td></tr><tr><td>validation-Logloss</td><td>0.08885</td></tr><tr><td>validation-ResponseAtTopNPercent</td><td>0.41844</td></tr></table><br/></div></div>"
            ]
          },
          "metadata": {}
        },
        {
          "output_type": "display_data",
          "data": {
            "text/plain": [
              "<IPython.core.display.HTML object>"
            ],
            "text/html": [
              " View run <strong style=\"color:#cdcd00\">wobbly-sweep-4</strong> at: <a href=\"https://wandb.ai/tim-w/catboost-test/runs/ofqnkmn7\" target=\"_blank\">https://wandb.ai/tim-w/catboost-test/runs/ofqnkmn7</a><br/>Synced 5 W&B file(s), 0 media file(s), 2 artifact file(s) and 1 other file(s)"
            ]
          },
          "metadata": {}
        },
        {
          "output_type": "display_data",
          "data": {
            "text/plain": [
              "<IPython.core.display.HTML object>"
            ],
            "text/html": [
              "Find logs at: <code>./wandb/run-20230119_170012-ofqnkmn7/logs</code>"
            ]
          },
          "metadata": {}
        }
      ]
    },
    {
      "cell_type": "code",
      "source": [],
      "metadata": {
        "id": "YRucaNC6sSY_"
      },
      "execution_count": null,
      "outputs": []
    }
  ]
}